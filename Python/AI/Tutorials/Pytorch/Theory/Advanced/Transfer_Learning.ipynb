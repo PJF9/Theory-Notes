{
  "nbformat": 4,
  "nbformat_minor": 0,
  "metadata": {
    "colab": {
      "provenance": []
    },
    "kernelspec": {
      "name": "python3",
      "display_name": "Python 3"
    },
    "language_info": {
      "name": "python"
    },
    "accelerator": "GPU",
    "gpuClass": "standard",
    "widgets": {
      "application/vnd.jupyter.widget-state+json": {
        "f46edcb032f44a049d92717bcf47e1f6": {
          "model_module": "@jupyter-widgets/controls",
          "model_name": "HBoxModel",
          "model_module_version": "1.5.0",
          "state": {
            "_dom_classes": [],
            "_model_module": "@jupyter-widgets/controls",
            "_model_module_version": "1.5.0",
            "_model_name": "HBoxModel",
            "_view_count": null,
            "_view_module": "@jupyter-widgets/controls",
            "_view_module_version": "1.5.0",
            "_view_name": "HBoxView",
            "box_style": "",
            "children": [
              "IPY_MODEL_312eee5da56d404f99bfa2cc3aed1491",
              "IPY_MODEL_18145977ce2c409ba68a45c41d4c2e5c",
              "IPY_MODEL_1cf4cc6bfddd428893edf87721603e77"
            ],
            "layout": "IPY_MODEL_94cfe920a1e2404cac8566dd5a7b3ecd"
          }
        },
        "312eee5da56d404f99bfa2cc3aed1491": {
          "model_module": "@jupyter-widgets/controls",
          "model_name": "HTMLModel",
          "model_module_version": "1.5.0",
          "state": {
            "_dom_classes": [],
            "_model_module": "@jupyter-widgets/controls",
            "_model_module_version": "1.5.0",
            "_model_name": "HTMLModel",
            "_view_count": null,
            "_view_module": "@jupyter-widgets/controls",
            "_view_module_version": "1.5.0",
            "_view_name": "HTMLView",
            "description": "",
            "description_tooltip": null,
            "layout": "IPY_MODEL_f12652f3209541f48595c5d02f62208c",
            "placeholder": "​",
            "style": "IPY_MODEL_b5c2596bc2ed4502b4b98d6c30530ee0",
            "value": "100%"
          }
        },
        "18145977ce2c409ba68a45c41d4c2e5c": {
          "model_module": "@jupyter-widgets/controls",
          "model_name": "FloatProgressModel",
          "model_module_version": "1.5.0",
          "state": {
            "_dom_classes": [],
            "_model_module": "@jupyter-widgets/controls",
            "_model_module_version": "1.5.0",
            "_model_name": "FloatProgressModel",
            "_view_count": null,
            "_view_module": "@jupyter-widgets/controls",
            "_view_module_version": "1.5.0",
            "_view_name": "ProgressView",
            "bar_style": "success",
            "description": "",
            "description_tooltip": null,
            "layout": "IPY_MODEL_53a7f1648a6c40549bc27a428b5f6f69",
            "max": 5,
            "min": 0,
            "orientation": "horizontal",
            "style": "IPY_MODEL_ecc172244dde4636a0eddcb3c1084e65",
            "value": 5
          }
        },
        "1cf4cc6bfddd428893edf87721603e77": {
          "model_module": "@jupyter-widgets/controls",
          "model_name": "HTMLModel",
          "model_module_version": "1.5.0",
          "state": {
            "_dom_classes": [],
            "_model_module": "@jupyter-widgets/controls",
            "_model_module_version": "1.5.0",
            "_model_name": "HTMLModel",
            "_view_count": null,
            "_view_module": "@jupyter-widgets/controls",
            "_view_module_version": "1.5.0",
            "_view_name": "HTMLView",
            "description": "",
            "description_tooltip": null,
            "layout": "IPY_MODEL_ac7955542e1542069ed2a2446ddb7755",
            "placeholder": "​",
            "style": "IPY_MODEL_652f468f41ed4c90ac7a42b2ff72f6b0",
            "value": " 5/5 [03:20&lt;00:00, 40.57s/it]"
          }
        },
        "94cfe920a1e2404cac8566dd5a7b3ecd": {
          "model_module": "@jupyter-widgets/base",
          "model_name": "LayoutModel",
          "model_module_version": "1.2.0",
          "state": {
            "_model_module": "@jupyter-widgets/base",
            "_model_module_version": "1.2.0",
            "_model_name": "LayoutModel",
            "_view_count": null,
            "_view_module": "@jupyter-widgets/base",
            "_view_module_version": "1.2.0",
            "_view_name": "LayoutView",
            "align_content": null,
            "align_items": null,
            "align_self": null,
            "border": null,
            "bottom": null,
            "display": null,
            "flex": null,
            "flex_flow": null,
            "grid_area": null,
            "grid_auto_columns": null,
            "grid_auto_flow": null,
            "grid_auto_rows": null,
            "grid_column": null,
            "grid_gap": null,
            "grid_row": null,
            "grid_template_areas": null,
            "grid_template_columns": null,
            "grid_template_rows": null,
            "height": null,
            "justify_content": null,
            "justify_items": null,
            "left": null,
            "margin": null,
            "max_height": null,
            "max_width": null,
            "min_height": null,
            "min_width": null,
            "object_fit": null,
            "object_position": null,
            "order": null,
            "overflow": null,
            "overflow_x": null,
            "overflow_y": null,
            "padding": null,
            "right": null,
            "top": null,
            "visibility": null,
            "width": null
          }
        },
        "f12652f3209541f48595c5d02f62208c": {
          "model_module": "@jupyter-widgets/base",
          "model_name": "LayoutModel",
          "model_module_version": "1.2.0",
          "state": {
            "_model_module": "@jupyter-widgets/base",
            "_model_module_version": "1.2.0",
            "_model_name": "LayoutModel",
            "_view_count": null,
            "_view_module": "@jupyter-widgets/base",
            "_view_module_version": "1.2.0",
            "_view_name": "LayoutView",
            "align_content": null,
            "align_items": null,
            "align_self": null,
            "border": null,
            "bottom": null,
            "display": null,
            "flex": null,
            "flex_flow": null,
            "grid_area": null,
            "grid_auto_columns": null,
            "grid_auto_flow": null,
            "grid_auto_rows": null,
            "grid_column": null,
            "grid_gap": null,
            "grid_row": null,
            "grid_template_areas": null,
            "grid_template_columns": null,
            "grid_template_rows": null,
            "height": null,
            "justify_content": null,
            "justify_items": null,
            "left": null,
            "margin": null,
            "max_height": null,
            "max_width": null,
            "min_height": null,
            "min_width": null,
            "object_fit": null,
            "object_position": null,
            "order": null,
            "overflow": null,
            "overflow_x": null,
            "overflow_y": null,
            "padding": null,
            "right": null,
            "top": null,
            "visibility": null,
            "width": null
          }
        },
        "b5c2596bc2ed4502b4b98d6c30530ee0": {
          "model_module": "@jupyter-widgets/controls",
          "model_name": "DescriptionStyleModel",
          "model_module_version": "1.5.0",
          "state": {
            "_model_module": "@jupyter-widgets/controls",
            "_model_module_version": "1.5.0",
            "_model_name": "DescriptionStyleModel",
            "_view_count": null,
            "_view_module": "@jupyter-widgets/base",
            "_view_module_version": "1.2.0",
            "_view_name": "StyleView",
            "description_width": ""
          }
        },
        "53a7f1648a6c40549bc27a428b5f6f69": {
          "model_module": "@jupyter-widgets/base",
          "model_name": "LayoutModel",
          "model_module_version": "1.2.0",
          "state": {
            "_model_module": "@jupyter-widgets/base",
            "_model_module_version": "1.2.0",
            "_model_name": "LayoutModel",
            "_view_count": null,
            "_view_module": "@jupyter-widgets/base",
            "_view_module_version": "1.2.0",
            "_view_name": "LayoutView",
            "align_content": null,
            "align_items": null,
            "align_self": null,
            "border": null,
            "bottom": null,
            "display": null,
            "flex": null,
            "flex_flow": null,
            "grid_area": null,
            "grid_auto_columns": null,
            "grid_auto_flow": null,
            "grid_auto_rows": null,
            "grid_column": null,
            "grid_gap": null,
            "grid_row": null,
            "grid_template_areas": null,
            "grid_template_columns": null,
            "grid_template_rows": null,
            "height": null,
            "justify_content": null,
            "justify_items": null,
            "left": null,
            "margin": null,
            "max_height": null,
            "max_width": null,
            "min_height": null,
            "min_width": null,
            "object_fit": null,
            "object_position": null,
            "order": null,
            "overflow": null,
            "overflow_x": null,
            "overflow_y": null,
            "padding": null,
            "right": null,
            "top": null,
            "visibility": null,
            "width": null
          }
        },
        "ecc172244dde4636a0eddcb3c1084e65": {
          "model_module": "@jupyter-widgets/controls",
          "model_name": "ProgressStyleModel",
          "model_module_version": "1.5.0",
          "state": {
            "_model_module": "@jupyter-widgets/controls",
            "_model_module_version": "1.5.0",
            "_model_name": "ProgressStyleModel",
            "_view_count": null,
            "_view_module": "@jupyter-widgets/base",
            "_view_module_version": "1.2.0",
            "_view_name": "StyleView",
            "bar_color": null,
            "description_width": ""
          }
        },
        "ac7955542e1542069ed2a2446ddb7755": {
          "model_module": "@jupyter-widgets/base",
          "model_name": "LayoutModel",
          "model_module_version": "1.2.0",
          "state": {
            "_model_module": "@jupyter-widgets/base",
            "_model_module_version": "1.2.0",
            "_model_name": "LayoutModel",
            "_view_count": null,
            "_view_module": "@jupyter-widgets/base",
            "_view_module_version": "1.2.0",
            "_view_name": "LayoutView",
            "align_content": null,
            "align_items": null,
            "align_self": null,
            "border": null,
            "bottom": null,
            "display": null,
            "flex": null,
            "flex_flow": null,
            "grid_area": null,
            "grid_auto_columns": null,
            "grid_auto_flow": null,
            "grid_auto_rows": null,
            "grid_column": null,
            "grid_gap": null,
            "grid_row": null,
            "grid_template_areas": null,
            "grid_template_columns": null,
            "grid_template_rows": null,
            "height": null,
            "justify_content": null,
            "justify_items": null,
            "left": null,
            "margin": null,
            "max_height": null,
            "max_width": null,
            "min_height": null,
            "min_width": null,
            "object_fit": null,
            "object_position": null,
            "order": null,
            "overflow": null,
            "overflow_x": null,
            "overflow_y": null,
            "padding": null,
            "right": null,
            "top": null,
            "visibility": null,
            "width": null
          }
        },
        "652f468f41ed4c90ac7a42b2ff72f6b0": {
          "model_module": "@jupyter-widgets/controls",
          "model_name": "DescriptionStyleModel",
          "model_module_version": "1.5.0",
          "state": {
            "_model_module": "@jupyter-widgets/controls",
            "_model_module_version": "1.5.0",
            "_model_name": "DescriptionStyleModel",
            "_view_count": null,
            "_view_module": "@jupyter-widgets/base",
            "_view_module_version": "1.2.0",
            "_view_name": "StyleView",
            "description_width": ""
          }
        }
      }
    }
  },
  "cells": [
    {
      "cell_type": "markdown",
      "source": [
        "## What is Transfer Learning?\n",
        "\n",
        "**Transfer Learning** is the process of using other model's weight and use them to solve our problem.\n",
        "\n",
        "It's like a person explaining another person that has never seen a horse, what horse look like.\n",
        "\n",
        "So the task is to find a **well-performed** existing model to help us solve our problem.\n",
        "\n",
        "The **why** using Tranfer Learning is a stupid question. Of course, we should use transfer learning whenever is possible. \n",
        "\n",
        "`Dont be arrogant and want to reinvent the weel, grow up!`"
      ],
      "metadata": {
        "id": "chgkDM7pAu0j"
      }
    },
    {
      "cell_type": "markdown",
      "source": [
        "## Where you can find pre-trained Models?\n",
        "\n",
        "In general the deep-learning community is an **Open Source** community, so the model is widely accessed in the web. Some places are:\n",
        "* PyTorch domain libraries (torchvision.models, torchtext.models, ...)\n",
        "* HuggingFace Hub (https://huggingface.co/models)\n",
        "* timm (PyTorch Image Models) library (https://github.com/rwightman/pytorch-image-models)\n",
        "* Paperswithcode (https://paperswithcode.com/)"
      ],
      "metadata": {
        "id": "gUpX7WC3DEMO"
      }
    },
    {
      "cell_type": "code",
      "execution_count": null,
      "metadata": {
        "id": "d4le3846dvQh"
      },
      "outputs": [],
      "source": [
        "# For this notebook to work we need torch, torchvision in versions 1.12+ and 0.13+\n",
        "\n",
        "import torch\n",
        "from torch import nn, optim\n",
        "from torchvision import transforms, models\n",
        "\n",
        "import matplotlib.pyplot as plt\n",
        "from pathlib import Path"
      ]
    },
    {
      "cell_type": "code",
      "source": [
        "!pip install -q torchinfo"
      ],
      "metadata": {
        "id": "Cpm8YZVnEzLx"
      },
      "execution_count": null,
      "outputs": []
    },
    {
      "cell_type": "code",
      "source": [
        "from torchinfo import summary # For visualizing our Model"
      ],
      "metadata": {
        "id": "Usw9nPbLE1cB"
      },
      "execution_count": null,
      "outputs": []
    },
    {
      "cell_type": "code",
      "source": [
        "# Import from drive the modules for creating the DataLoaders and the Training/Evaluating Functions (`Going_Modular.ipynb`)\n",
        "from drive.MyDrive.going_modular.going_modular import data_setup, engine"
      ],
      "metadata": {
        "id": "3rPouFWjHwD2"
      },
      "execution_count": null,
      "outputs": []
    },
    {
      "cell_type": "markdown",
      "source": [
        "## Setting up Default Device"
      ],
      "metadata": {
        "id": "_OvId4DJIULi"
      }
    },
    {
      "cell_type": "code",
      "source": [
        "device = torch.device(\"cuda\" if torch.cuda.is_available() else \"cpu\")\n",
        "\n",
        "print(device.type)"
      ],
      "metadata": {
        "colab": {
          "base_uri": "https://localhost:8080/"
        },
        "id": "As4KD9YpIHS2",
        "outputId": "82287c36-db8d-4c67-c9f9-d2110e7e1d16"
      },
      "execution_count": null,
      "outputs": [
        {
          "output_type": "stream",
          "name": "stdout",
          "text": [
            "cpu\n"
          ]
        }
      ]
    },
    {
      "cell_type": "markdown",
      "source": [
        "## Loading the Pre-Installed Dataset (on `Custom_Datasets.ipynb`)"
      ],
      "metadata": {
        "id": "fvS0fpRcJVf4"
      }
    },
    {
      "cell_type": "code",
      "source": [
        "dataset_path = Path(\"/content/drive/MyDrive/going_modular/data/pizza_steak_sushi\")\n",
        "\n",
        "# Setting up the training and testing Paths\n",
        "train_path = dataset_path / \"train\"\n",
        "test_path = dataset_path / \"test\""
      ],
      "metadata": {
        "id": "1oI84W7hI9iJ"
      },
      "execution_count": null,
      "outputs": []
    },
    {
      "cell_type": "markdown",
      "source": [
        "## Preparing the Dataset (Manual Creation)\n",
        "When using a pretrained model, it's important that your custom data going into the model is prepared in the same way as the original training data that went into the model.\n",
        "\n",
        "All pre-trained models in `torchvision.models` expect input images normalized in the same way:\n",
        "* Mini-batches of 3-channel RGB images of shape: (3, H, W), where H,W at least 224\n",
        "* he images have to be loaded in to a range of [0, 1]\n",
        "* The have to be normalized using mean = [0.485, 0.456, 0.406] and std = [0.229, 0.224, 0.225]\n",
        "\n",
        "There are some exceptions to that rule, so to be clear see documentation: https://pytorch.org/vision/0.8/models.html\n",
        "\n",
        "-\n",
        "\n",
        "Let's analyze `mean` and `std` a little more:\n",
        "1. Its the mean and the standard deviation accross the `image channel`\n",
        "2. These were calculated from the data\n",
        "3. We also don't need to do this. Neural networks are usually quite capable of figuring out appropriate data distributions.\n",
        "\n",
        "By setting them at the start can help our networks achieve better performance quicker."
      ],
      "metadata": {
        "id": "XebTK5JCKPu3"
      }
    },
    {
      "cell_type": "code",
      "source": [
        "# Creating the above Transformations\n",
        "manual_transforms = transforms.Compose([\n",
        "    transforms.Resize(size=(224, 244)),              # For resizing each image\n",
        "    transforms.ToTensor(),                           # For reducing each value to [0, 1]\n",
        "    transforms.Normalize(mean=[0.485, 0.456, 0.406], # For setting the mean and std values per channel\n",
        "                         std=[0.229, 0.224, 0.225])\n",
        "])"
      ],
      "metadata": {
        "id": "r-YDRm2aKRO3"
      },
      "execution_count": null,
      "outputs": []
    },
    {
      "cell_type": "markdown",
      "source": [
        "## Preparing the Dataset (Auto Creation)\n",
        "\n",
        "Instead of manualy, figure the way to transform our Dataset so it can be compatable with the pre-trained Model, Pytorch generated those tranformations just by knowing the `model architecture`.\n",
        "\n",
        "The architecture that out pre-trained Model is based on is `EfficientNet_B0_Weights`."
      ],
      "metadata": {
        "id": "u6EzGzW9OMC3"
      }
    },
    {
      "cell_type": "code",
      "source": [
        "# Getting the pre-trained Model's weights\n",
        "weights = models.EfficientNet_B0_Weights.DEFAULT\n",
        "\n",
        "print(weights)"
      ],
      "metadata": {
        "colab": {
          "base_uri": "https://localhost:8080/"
        },
        "id": "3gJzQ-DwOlI7",
        "outputId": "8da155ab-1473-426a-e4b9-9c6954970d33"
      },
      "execution_count": null,
      "outputs": [
        {
          "output_type": "stream",
          "name": "stdout",
          "text": [
            "EfficientNet_B0_Weights.IMAGENET1K_V1\n"
          ]
        }
      ]
    },
    {
      "cell_type": "markdown",
      "source": [
        "`DEFAULT` means the best available weights (there are more options and much more architectures in the torchvision.models documentation)"
      ],
      "metadata": {
        "id": "OWydvmk3PnHL"
      }
    },
    {
      "cell_type": "code",
      "source": [
        "# Getting the best transformation for that Model Architecture\n",
        "auto_transform = weights.transforms()\n",
        "\n",
        "print(auto_transform)"
      ],
      "metadata": {
        "colab": {
          "base_uri": "https://localhost:8080/"
        },
        "id": "GDKmOcFWPzh2",
        "outputId": "3f6c0691-0780-4488-b0a7-854f02a89a39"
      },
      "execution_count": null,
      "outputs": [
        {
          "output_type": "stream",
          "name": "stdout",
          "text": [
            "ImageClassification(\n",
            "    crop_size=[224]\n",
            "    resize_size=[256]\n",
            "    mean=[0.485, 0.456, 0.406]\n",
            "    std=[0.229, 0.224, 0.225]\n",
            "    interpolation=InterpolationMode.BICUBIC\n",
            ")\n"
          ]
        }
      ]
    },
    {
      "cell_type": "markdown",
      "source": [
        "By using `Auto Creation` we are creating the transforms much faster (and with no errors), but the downside is the lack of customization."
      ],
      "metadata": {
        "id": "3zVrZhwBQLcP"
      }
    },
    {
      "cell_type": "markdown",
      "source": [
        "## Creating the DataLoaders (using `data_setup.create_dataloaders()`)"
      ],
      "metadata": {
        "id": "0HmOf3yEJ-pX"
      }
    },
    {
      "cell_type": "code",
      "source": [
        "BATCH_SIZE = 32\n",
        "\n",
        "train_dl, test_dl, classes = data_setup.create_dataloaders(train_dir=train_path,\n",
        "                                                           test_dir=test_path,\n",
        "                                                           train_transform=auto_transform,\n",
        "                                                           test_transform=auto_transform,\n",
        "                                                           batch_size=BATCH_SIZE)\n",
        "\n",
        "print(len(train_dl), len(test_dl))\n",
        "print(classes)"
      ],
      "metadata": {
        "colab": {
          "base_uri": "https://localhost:8080/"
        },
        "id": "tzmOGq9VJunG",
        "outputId": "0bc7b9ca-9957-4c3f-96a1-e3be6f077499"
      },
      "execution_count": null,
      "outputs": [
        {
          "output_type": "stream",
          "name": "stdout",
          "text": [
            "8 3\n",
            "['pizza', 'steak', 'sushi']\n"
          ]
        }
      ]
    },
    {
      "cell_type": "markdown",
      "source": [
        "## Getting a Pre-Trained Model\n",
        "\n",
        "In the official documentation there are a lot of architectures (models) that we can use such as:\n",
        "* ResNet\n",
        "* VGG\n",
        "* EfficientNet\n",
        "* VisionTransformer\n",
        "* ConvNeXt\n",
        "\n",
        "Depending of the problem and device we can use one of those models. Note that each model comes with a number at the end. The bigger the number the larger and more accurate the model is going to be.\n",
        "\n",
        "The Model we are going to use is `torchvision.models.efficientnet_b0()`.\n",
        "The PyTorch version of this pretrained model is capable of achieving ~77.7% accuracy across ImageNet's 1000 classes."
      ],
      "metadata": {
        "id": "Fhk4RJ6kRFsh"
      }
    },
    {
      "cell_type": "code",
      "source": [
        "# To set the pre-trained model we need its weight, that we have calculated above\n",
        "weights = models.EfficientNet_B0_Weights.DEFAULT\n",
        "\n",
        "model = models.efficientnet_b0(weights=weights).to(device)"
      ],
      "metadata": {
        "id": "khf1iZl1N65D"
      },
      "execution_count": null,
      "outputs": []
    },
    {
      "cell_type": "markdown",
      "source": [
        "## Understanding the Model\n",
        "\n",
        "By printing the Model (other than a lot of layers) we can see that comes in three main parts:\n",
        "1. `features`: A collection of convolutional layers and other various activation layers to learn a base representation of vision data.\n",
        "2. `avgpool`: Takes the average of the output of the features layer(s) and turns it into a feature vector.\n",
        "3. `classifier`: Turns the feature vector into a vector with the same dimensionality as the number of required output classes."
      ],
      "metadata": {
        "id": "FWPZ1nhyT3qc"
      }
    },
    {
      "cell_type": "code",
      "source": [
        "# We can use `torchinfo` to get the summary of the model\n",
        "summary(model=model,\n",
        "        input_size=(1, 3, 224, 224),                                        # the shape of the data we'd like to pass to our model\n",
        "        col_names=[\"input_size\", \"output_size\", \"num_params\", \"trainable\"], # the various information columns we'd like to see about our model\n",
        "        col_width=20,                                                       # how wide the columns should be for the summary\n",
        "        row_settings=[\"var_names\"])                                         # what features to show in a row"
      ],
      "metadata": {
        "colab": {
          "base_uri": "https://localhost:8080/"
        },
        "id": "kDVckvMRU0m3",
        "outputId": "ed2b8b6b-10db-4a13-d6f2-1565bf3850e9"
      },
      "execution_count": null,
      "outputs": [
        {
          "output_type": "execute_result",
          "data": {
            "text/plain": [
              "============================================================================================================================================\n",
              "Layer (type (var_name))                                      Input Shape          Output Shape         Param #              Trainable\n",
              "============================================================================================================================================\n",
              "EfficientNet (EfficientNet)                                  [1, 3, 224, 224]     [1, 1000]            --                   True\n",
              "├─Sequential (features)                                      [1, 3, 224, 224]     [1, 1280, 7, 7]      --                   True\n",
              "│    └─Conv2dNormActivation (0)                              [1, 3, 224, 224]     [1, 32, 112, 112]    --                   True\n",
              "│    │    └─Conv2d (0)                                       [1, 3, 224, 224]     [1, 32, 112, 112]    864                  True\n",
              "│    │    └─BatchNorm2d (1)                                  [1, 32, 112, 112]    [1, 32, 112, 112]    64                   True\n",
              "│    │    └─SiLU (2)                                         [1, 32, 112, 112]    [1, 32, 112, 112]    --                   --\n",
              "│    └─Sequential (1)                                        [1, 32, 112, 112]    [1, 16, 112, 112]    --                   True\n",
              "│    │    └─MBConv (0)                                       [1, 32, 112, 112]    [1, 16, 112, 112]    1,448                True\n",
              "│    └─Sequential (2)                                        [1, 16, 112, 112]    [1, 24, 56, 56]      --                   True\n",
              "│    │    └─MBConv (0)                                       [1, 16, 112, 112]    [1, 24, 56, 56]      6,004                True\n",
              "│    │    └─MBConv (1)                                       [1, 24, 56, 56]      [1, 24, 56, 56]      10,710               True\n",
              "│    └─Sequential (3)                                        [1, 24, 56, 56]      [1, 40, 28, 28]      --                   True\n",
              "│    │    └─MBConv (0)                                       [1, 24, 56, 56]      [1, 40, 28, 28]      15,350               True\n",
              "│    │    └─MBConv (1)                                       [1, 40, 28, 28]      [1, 40, 28, 28]      31,290               True\n",
              "│    └─Sequential (4)                                        [1, 40, 28, 28]      [1, 80, 14, 14]      --                   True\n",
              "│    │    └─MBConv (0)                                       [1, 40, 28, 28]      [1, 80, 14, 14]      37,130               True\n",
              "│    │    └─MBConv (1)                                       [1, 80, 14, 14]      [1, 80, 14, 14]      102,900              True\n",
              "│    │    └─MBConv (2)                                       [1, 80, 14, 14]      [1, 80, 14, 14]      102,900              True\n",
              "│    └─Sequential (5)                                        [1, 80, 14, 14]      [1, 112, 14, 14]     --                   True\n",
              "│    │    └─MBConv (0)                                       [1, 80, 14, 14]      [1, 112, 14, 14]     126,004              True\n",
              "│    │    └─MBConv (1)                                       [1, 112, 14, 14]     [1, 112, 14, 14]     208,572              True\n",
              "│    │    └─MBConv (2)                                       [1, 112, 14, 14]     [1, 112, 14, 14]     208,572              True\n",
              "│    └─Sequential (6)                                        [1, 112, 14, 14]     [1, 192, 7, 7]       --                   True\n",
              "│    │    └─MBConv (0)                                       [1, 112, 14, 14]     [1, 192, 7, 7]       262,492              True\n",
              "│    │    └─MBConv (1)                                       [1, 192, 7, 7]       [1, 192, 7, 7]       587,952              True\n",
              "│    │    └─MBConv (2)                                       [1, 192, 7, 7]       [1, 192, 7, 7]       587,952              True\n",
              "│    │    └─MBConv (3)                                       [1, 192, 7, 7]       [1, 192, 7, 7]       587,952              True\n",
              "│    └─Sequential (7)                                        [1, 192, 7, 7]       [1, 320, 7, 7]       --                   True\n",
              "│    │    └─MBConv (0)                                       [1, 192, 7, 7]       [1, 320, 7, 7]       717,232              True\n",
              "│    └─Conv2dNormActivation (8)                              [1, 320, 7, 7]       [1, 1280, 7, 7]      --                   True\n",
              "│    │    └─Conv2d (0)                                       [1, 320, 7, 7]       [1, 1280, 7, 7]      409,600              True\n",
              "│    │    └─BatchNorm2d (1)                                  [1, 1280, 7, 7]      [1, 1280, 7, 7]      2,560                True\n",
              "│    │    └─SiLU (2)                                         [1, 1280, 7, 7]      [1, 1280, 7, 7]      --                   --\n",
              "├─AdaptiveAvgPool2d (avgpool)                                [1, 1280, 7, 7]      [1, 1280, 1, 1]      --                   --\n",
              "├─Sequential (classifier)                                    [1, 1280]            [1, 1000]            --                   True\n",
              "│    └─Dropout (0)                                           [1, 1280]            [1, 1280]            --                   --\n",
              "│    └─Linear (1)                                            [1, 1280]            [1, 1000]            1,281,000            True\n",
              "============================================================================================================================================\n",
              "Total params: 5,288,548\n",
              "Trainable params: 5,288,548\n",
              "Non-trainable params: 0\n",
              "Total mult-adds (M): 385.87\n",
              "============================================================================================================================================\n",
              "Input size (MB): 0.60\n",
              "Forward/backward pass size (MB): 107.89\n",
              "Params size (MB): 21.15\n",
              "Estimated Total Size (MB): 129.64\n",
              "============================================================================================================================================"
            ]
          },
          "metadata": {},
          "execution_count": 20
        }
      ]
    },
    {
      "cell_type": "markdown",
      "source": [
        "## Freezing the Model\n",
        "\n",
        "The process of transfer learning usually goes: freeze some base layers of a pretrained model (typically the `features` section) and then adjust the output layers (also called `classifier` layers) to suit your needs.\n",
        "\n",
        "To freeze layers means to keep them how they are during training.\n",
        "\n",
        "We can freeze all of the layers/parameters in the `features` section by setting the attribute `requires_grad=False`."
      ],
      "metadata": {
        "id": "b2_4iOvdXdgE"
      }
    },
    {
      "cell_type": "code",
      "source": [
        "for param in model.features.parameters():\n",
        "    param.requires_grad = False"
      ],
      "metadata": {
        "id": "TXeuzxwoXj0V"
      },
      "execution_count": null,
      "outputs": []
    },
    {
      "cell_type": "markdown",
      "source": [
        "## Adjusting the Output Layers\n",
        "\n",
        "The Pre-Trained Model comes with 1000 output size, we want to reduce it to just 3 (pizza, steak and sushi)."
      ],
      "metadata": {
        "id": "dcKepTJmYEVb"
      }
    },
    {
      "cell_type": "code",
      "source": [
        "# Get the length of class_names (one output unit for each class)\n",
        "output_size = len(classes)\n",
        "\n",
        "# Changing the `classifier` part to fit to our goals.\n",
        "model.classifier = torch.nn.Sequential(\n",
        "    torch.nn.Dropout(p=0.2, inplace=True),                # Keeping it as it is\n",
        "    torch.nn.Linear(in_features=1280, \n",
        "                    out_features=output_size)).to(device) # same number of output units as our number of classes"
      ],
      "metadata": {
        "id": "r3f4p12wYNxp"
      },
      "execution_count": null,
      "outputs": []
    },
    {
      "cell_type": "code",
      "source": [
        "# Summarizing once again the model\n",
        "summary(model=model,\n",
        "        input_size=(1, 3, 224, 224),\n",
        "        col_names=[\"input_size\", \"output_size\", \"num_params\", \"trainable\"],\n",
        "        col_width=20,\n",
        "        row_settings=[\"var_names\"])"
      ],
      "metadata": {
        "colab": {
          "base_uri": "https://localhost:8080/"
        },
        "id": "JaL3SCh1ZHpi",
        "outputId": "43392b45-7079-466c-aaca-334304f8c10f"
      },
      "execution_count": null,
      "outputs": [
        {
          "output_type": "execute_result",
          "data": {
            "text/plain": [
              "============================================================================================================================================\n",
              "Layer (type (var_name))                                      Input Shape          Output Shape         Param #              Trainable\n",
              "============================================================================================================================================\n",
              "EfficientNet (EfficientNet)                                  [1, 3, 224, 224]     [1, 3]               --                   Partial\n",
              "├─Sequential (features)                                      [1, 3, 224, 224]     [1, 1280, 7, 7]      --                   False\n",
              "│    └─Conv2dNormActivation (0)                              [1, 3, 224, 224]     [1, 32, 112, 112]    --                   False\n",
              "│    │    └─Conv2d (0)                                       [1, 3, 224, 224]     [1, 32, 112, 112]    (864)                False\n",
              "│    │    └─BatchNorm2d (1)                                  [1, 32, 112, 112]    [1, 32, 112, 112]    (64)                 False\n",
              "│    │    └─SiLU (2)                                         [1, 32, 112, 112]    [1, 32, 112, 112]    --                   --\n",
              "│    └─Sequential (1)                                        [1, 32, 112, 112]    [1, 16, 112, 112]    --                   False\n",
              "│    │    └─MBConv (0)                                       [1, 32, 112, 112]    [1, 16, 112, 112]    (1,448)              False\n",
              "│    └─Sequential (2)                                        [1, 16, 112, 112]    [1, 24, 56, 56]      --                   False\n",
              "│    │    └─MBConv (0)                                       [1, 16, 112, 112]    [1, 24, 56, 56]      (6,004)              False\n",
              "│    │    └─MBConv (1)                                       [1, 24, 56, 56]      [1, 24, 56, 56]      (10,710)             False\n",
              "│    └─Sequential (3)                                        [1, 24, 56, 56]      [1, 40, 28, 28]      --                   False\n",
              "│    │    └─MBConv (0)                                       [1, 24, 56, 56]      [1, 40, 28, 28]      (15,350)             False\n",
              "│    │    └─MBConv (1)                                       [1, 40, 28, 28]      [1, 40, 28, 28]      (31,290)             False\n",
              "│    └─Sequential (4)                                        [1, 40, 28, 28]      [1, 80, 14, 14]      --                   False\n",
              "│    │    └─MBConv (0)                                       [1, 40, 28, 28]      [1, 80, 14, 14]      (37,130)             False\n",
              "│    │    └─MBConv (1)                                       [1, 80, 14, 14]      [1, 80, 14, 14]      (102,900)            False\n",
              "│    │    └─MBConv (2)                                       [1, 80, 14, 14]      [1, 80, 14, 14]      (102,900)            False\n",
              "│    └─Sequential (5)                                        [1, 80, 14, 14]      [1, 112, 14, 14]     --                   False\n",
              "│    │    └─MBConv (0)                                       [1, 80, 14, 14]      [1, 112, 14, 14]     (126,004)            False\n",
              "│    │    └─MBConv (1)                                       [1, 112, 14, 14]     [1, 112, 14, 14]     (208,572)            False\n",
              "│    │    └─MBConv (2)                                       [1, 112, 14, 14]     [1, 112, 14, 14]     (208,572)            False\n",
              "│    └─Sequential (6)                                        [1, 112, 14, 14]     [1, 192, 7, 7]       --                   False\n",
              "│    │    └─MBConv (0)                                       [1, 112, 14, 14]     [1, 192, 7, 7]       (262,492)            False\n",
              "│    │    └─MBConv (1)                                       [1, 192, 7, 7]       [1, 192, 7, 7]       (587,952)            False\n",
              "│    │    └─MBConv (2)                                       [1, 192, 7, 7]       [1, 192, 7, 7]       (587,952)            False\n",
              "│    │    └─MBConv (3)                                       [1, 192, 7, 7]       [1, 192, 7, 7]       (587,952)            False\n",
              "│    └─Sequential (7)                                        [1, 192, 7, 7]       [1, 320, 7, 7]       --                   False\n",
              "│    │    └─MBConv (0)                                       [1, 192, 7, 7]       [1, 320, 7, 7]       (717,232)            False\n",
              "│    └─Conv2dNormActivation (8)                              [1, 320, 7, 7]       [1, 1280, 7, 7]      --                   False\n",
              "│    │    └─Conv2d (0)                                       [1, 320, 7, 7]       [1, 1280, 7, 7]      (409,600)            False\n",
              "│    │    └─BatchNorm2d (1)                                  [1, 1280, 7, 7]      [1, 1280, 7, 7]      (2,560)              False\n",
              "│    │    └─SiLU (2)                                         [1, 1280, 7, 7]      [1, 1280, 7, 7]      --                   --\n",
              "├─AdaptiveAvgPool2d (avgpool)                                [1, 1280, 7, 7]      [1, 1280, 1, 1]      --                   --\n",
              "├─Sequential (classifier)                                    [1, 1280]            [1, 3]               --                   True\n",
              "│    └─Dropout (0)                                           [1, 1280]            [1, 1280]            --                   --\n",
              "│    └─Linear (1)                                            [1, 1280]            [1, 3]               3,843                True\n",
              "============================================================================================================================================\n",
              "Total params: 4,011,391\n",
              "Trainable params: 3,843\n",
              "Non-trainable params: 4,007,548\n",
              "Total mult-adds (M): 384.59\n",
              "============================================================================================================================================\n",
              "Input size (MB): 0.60\n",
              "Forward/backward pass size (MB): 107.88\n",
              "Params size (MB): 16.05\n",
              "Estimated Total Size (MB): 124.53\n",
              "============================================================================================================================================"
            ]
          },
          "metadata": {},
          "execution_count": 23
        }
      ]
    },
    {
      "cell_type": "markdown",
      "source": [
        "Note that `Trainable` set the feature parameters False."
      ],
      "metadata": {
        "id": "G-h-WZwuZhcI"
      }
    },
    {
      "cell_type": "markdown",
      "source": [
        "## Train and Evaluating the Model (using `engine.fit()`)"
      ],
      "metadata": {
        "id": "SSZE4FG2ZvBX"
      }
    },
    {
      "cell_type": "code",
      "source": [
        "# Creating a Loss Function and Optimizer\n",
        "loss_fn = nn.CrossEntropyLoss()\n",
        "opt = optim.Adam(model.parameters(), lr=1e-3) # It is the default learning-rate of the Adam Opimizer"
      ],
      "metadata": {
        "id": "DTMkfH2YZxHH"
      },
      "execution_count": null,
      "outputs": []
    },
    {
      "cell_type": "code",
      "source": [
        "# Training and Evaluating the Model\n",
        "results = engine.fit(model=model,\n",
        "                     epochs=5,\n",
        "                     train_dl=train_dl,\n",
        "                     valid_dl=test_dl,\n",
        "                     loss_fn=loss_fn,\n",
        "                     eval_metric=engine.accuracy_fn,\n",
        "                     optim=opt)"
      ],
      "metadata": {
        "colab": {
          "base_uri": "https://localhost:8080/",
          "height": 257,
          "referenced_widgets": [
            "f46edcb032f44a049d92717bcf47e1f6",
            "312eee5da56d404f99bfa2cc3aed1491",
            "18145977ce2c409ba68a45c41d4c2e5c",
            "1cf4cc6bfddd428893edf87721603e77",
            "94cfe920a1e2404cac8566dd5a7b3ecd",
            "f12652f3209541f48595c5d02f62208c",
            "b5c2596bc2ed4502b4b98d6c30530ee0",
            "53a7f1648a6c40549bc27a428b5f6f69",
            "ecc172244dde4636a0eddcb3c1084e65",
            "ac7955542e1542069ed2a2446ddb7755",
            "652f468f41ed4c90ac7a42b2ff72f6b0"
          ]
        },
        "id": "60e4L5Y5aFZa",
        "outputId": "c960885a-d120-4e4c-813c-295bc4257a38"
      },
      "execution_count": null,
      "outputs": [
        {
          "output_type": "stream",
          "name": "stdout",
          "text": [
            "Starting Process...\n"
          ]
        },
        {
          "output_type": "display_data",
          "data": {
            "text/plain": [
              "  0%|          | 0/5 [00:00<?, ?it/s]"
            ],
            "application/vnd.jupyter.widget-view+json": {
              "version_major": 2,
              "version_minor": 0,
              "model_id": "f46edcb032f44a049d92717bcf47e1f6"
            }
          },
          "metadata": {}
        },
        {
          "output_type": "stream",
          "name": "stdout",
          "text": [
            "-> Epoch: 1 | Train Loss: 1.0314 | Train Accuracy: 41.80% | Test Loss: 0.8879 | Test Evaluation (%): 67.05%\n",
            "-----------------------------------------------------------------------------------------------------------\n",
            "-> Epoch: 2 | Train Loss: 0.8954 | Train Accuracy: 58.59% | Test Loss: 0.8114 | Test Evaluation (%): 70.27%\n",
            "-----------------------------------------------------------------------------------------------------------\n",
            "-> Epoch: 3 | Train Loss: 0.7428 | Train Accuracy: 84.77% | Test Loss: 0.6661 | Test Evaluation (%): 84.47%\n",
            "-----------------------------------------------------------------------------------------------------------\n",
            "-> Epoch: 4 | Train Loss: 0.7458 | Train Accuracy: 68.36% | Test Loss: 0.6125 | Test Evaluation (%): 87.50%\n",
            "-----------------------------------------------------------------------------------------------------------\n",
            "-> Epoch: 5 | Train Loss: 0.6391 | Train Accuracy: 75.78% | Test Loss: 0.6363 | Test Evaluation (%): 83.43%\n",
            "-----------------------------------------------------------------------------------------------------------\n",
            "Process Completed Successfully...\n"
          ]
        }
      ]
    },
    {
      "cell_type": "markdown",
      "source": [
        "## Plotting the Loss Curves"
      ],
      "metadata": {
        "id": "PhLSH_WpbcF0"
      }
    },
    {
      "cell_type": "code",
      "source": [
        "def plot_loss_curve(model_res):\n",
        "    plt.figure(figsize=(6, 4))\n",
        "\n",
        "    plt.plot(range(model_res[\"model_epochs\"]), model_res[\"model_valid_loss\"], c='g', label=\"Test Loss\")\n",
        "    plt.plot(range(model_res[\"model_epochs\"]), model_res[\"model_train_loss\"], c='b', label=\"Train Loss\")\n",
        "    plt.xlabel(\"Epochs\")\n",
        "    plt.ylabel(\"Loss\")\n",
        "    plt.title(f\"Loss Curves: {model_res['model_name']}\", fontsize=14)\n",
        "    plt.legend(fontsize=11)"
      ],
      "metadata": {
        "id": "o9mAynnbashr"
      },
      "execution_count": null,
      "outputs": []
    },
    {
      "cell_type": "code",
      "source": [
        "plot_loss_curve(results)"
      ],
      "metadata": {
        "colab": {
          "base_uri": "https://localhost:8080/",
          "height": 296
        },
        "id": "91vyFGQrbjwb",
        "outputId": "8d642c10-2bdb-4466-e3fe-c03e2dc29031"
      },
      "execution_count": null,
      "outputs": [
        {
          "output_type": "display_data",
          "data": {
            "text/plain": [
              "<Figure size 432x288 with 1 Axes>"
            ],
            "image/png": "[encoded data removed]"
          },
          "metadata": {
            "needs_background": "light"
          }
        }
      ]
    },
    {
      "cell_type": "markdown",
      "source": [
        "## Making Predictions"
      ],
      "metadata": {
        "id": "SZV_SdE1f_Ea"
      }
    },
    {
      "cell_type": "code",
      "source": [
        "import requests\n",
        "\n",
        "# Creating the new image path\n",
        "new_image_path = dataset_path / \"unseen_image.jpg\"\n",
        "\n",
        "# Downloading the image if it does not exists\n",
        "if not new_image_path.is_file():\n",
        "    with open(new_image_path, \"wb\") as f:\n",
        "        req = requests.get(\"https://github.com/mrdbourke/pytorch-deep-learning/raw/main/images/04-pizza-dad.jpeg\")\n",
        "        print(\"Downloading Image...\")\n",
        "        f.write(req.content)\n",
        "else:\n",
        "    print(f\"{new_image_path} already exists...\")"
      ],
      "metadata": {
        "colab": {
          "base_uri": "https://localhost:8080/"
        },
        "id": "-YRE07h_gNrt",
        "outputId": "2cc73422-6962-4e5b-b18b-6ac891d05c68"
      },
      "execution_count": null,
      "outputs": [
        {
          "output_type": "stream",
          "name": "stdout",
          "text": [
            "Downloading Image...\n"
          ]
        }
      ]
    },
    {
      "cell_type": "code",
      "source": [
        "from torchvision.io import read_image\n",
        "\n",
        "# Creating a Plotting Function\n",
        "def get_prediction(model, label_names, image_path, transform):\n",
        "    model_dtype = next(model.parameters()).dtype\n",
        "    model_device = next(model.parameters()).device\n",
        "\n",
        "    image_tensor = read_image(str(image_path)).type(model_dtype)\n",
        "    norm_image_tensor = transform(image_tensor).to(model_device)\n",
        "\n",
        "    model.eval()\n",
        "    with torch.inference_mode():\n",
        "        logits = model(norm_image_tensor.unsqueeze(dim=0))\n",
        "\n",
        "    pred_label = label_names[torch.softmax(logits, dim=1).argmax(dim=1)]\n",
        "    label_prob = torch.softmax(logits, dim=1).max().item() * 100\n",
        "\n",
        "    plt.imshow(image_tensor.permute(1, 2, 0).cpu().type(torch.uint8))\n",
        "    plt.title(f\"Label: {pred_label} | Probability: {label_prob: .2f}%\")\n",
        "    plt.axis(False)"
      ],
      "metadata": {
        "id": "wpnq7WxqgAXN"
      },
      "execution_count": null,
      "outputs": []
    },
    {
      "cell_type": "code",
      "source": [
        "get_prediction(model, classes, new_image_path, auto_transform)"
      ],
      "metadata": {
        "colab": {
          "base_uri": "https://localhost:8080/",
          "height": 264
        },
        "id": "UklV8EeOg7sb",
        "outputId": "44428641-b51c-4d54-d428-36fa9d7f7c7c"
      },
      "execution_count": null,
      "outputs": [
        {
          "output_type": "display_data",
          "data": {
            "text/plain": [
              "<Figure size 432x288 with 1 Axes>"
            ],
            "image/png": "[encoded data removed]"
          },
          "metadata": {
            "needs_background": "light"
          }
        }
      ]
    }
  ]
}