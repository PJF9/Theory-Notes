{
  "nbformat": 4,
  "nbformat_minor": 0,
  "metadata": {
    "colab": {
      "provenance": [],
      "collapsed_sections": [
        "A5NX_NbaaSYO"
      ]
    },
    "kernelspec": {
      "name": "python3",
      "display_name": "Python 3"
    },
    "language_info": {
      "name": "python"
    },
    "accelerator": "GPU",
    "gpuClass": "standard",
    "widgets": {
      "application/vnd.jupyter.widget-state+json": {
        "060049bf26864f8a8c071bc2154ff651": {
          "model_module": "@jupyter-widgets/controls",
          "model_name": "HBoxModel",
          "model_module_version": "1.5.0",
          "state": {
            "_dom_classes": [],
            "_model_module": "@jupyter-widgets/controls",
            "_model_module_version": "1.5.0",
            "_model_name": "HBoxModel",
            "_view_count": null,
            "_view_module": "@jupyter-widgets/controls",
            "_view_module_version": "1.5.0",
            "_view_name": "HBoxView",
            "box_style": "",
            "children": [
              "IPY_MODEL_65e2eedfdf914896a9f49241d18cfa1a",
              "IPY_MODEL_7f52734b8c764c938258ddcc9d26b7ee",
              "IPY_MODEL_8c05c40926074c4eaafc935cf18e78ef"
            ],
            "layout": "IPY_MODEL_2b0c6e990ffb4eee8d887efd76a31c3c"
          }
        },
        "65e2eedfdf914896a9f49241d18cfa1a": {
          "model_module": "@jupyter-widgets/controls",
          "model_name": "HTMLModel",
          "model_module_version": "1.5.0",
          "state": {
            "_dom_classes": [],
            "_model_module": "@jupyter-widgets/controls",
            "_model_module_version": "1.5.0",
            "_model_name": "HTMLModel",
            "_view_count": null,
            "_view_module": "@jupyter-widgets/controls",
            "_view_module_version": "1.5.0",
            "_view_name": "HTMLView",
            "description": "",
            "description_tooltip": null,
            "layout": "IPY_MODEL_5465646329d4454b973e29da10ad209d",
            "placeholder": "​",
            "style": "IPY_MODEL_21e0c168af474140ab21dee4210001e9",
            "value": "100%"
          }
        },
        "7f52734b8c764c938258ddcc9d26b7ee": {
          "model_module": "@jupyter-widgets/controls",
          "model_name": "FloatProgressModel",
          "model_module_version": "1.5.0",
          "state": {
            "_dom_classes": [],
            "_model_module": "@jupyter-widgets/controls",
            "_model_module_version": "1.5.0",
            "_model_name": "FloatProgressModel",
            "_view_count": null,
            "_view_module": "@jupyter-widgets/controls",
            "_view_module_version": "1.5.0",
            "_view_name": "ProgressView",
            "bar_style": "success",
            "description": "",
            "description_tooltip": null,
            "layout": "IPY_MODEL_04cc01cd590e4df4946faa8db46ec18d",
            "max": 36882185,
            "min": 0,
            "orientation": "horizontal",
            "style": "IPY_MODEL_1929521c31d04aa3b9b07d0a0099cf07",
            "value": 36882185
          }
        },
        "8c05c40926074c4eaafc935cf18e78ef": {
          "model_module": "@jupyter-widgets/controls",
          "model_name": "HTMLModel",
          "model_module_version": "1.5.0",
          "state": {
            "_dom_classes": [],
            "_model_module": "@jupyter-widgets/controls",
            "_model_module_version": "1.5.0",
            "_model_name": "HTMLModel",
            "_view_count": null,
            "_view_module": "@jupyter-widgets/controls",
            "_view_module_version": "1.5.0",
            "_view_name": "HTMLView",
            "description": "",
            "description_tooltip": null,
            "layout": "IPY_MODEL_16090720fd674aadb3c5af08fd0b1409",
            "placeholder": "​",
            "style": "IPY_MODEL_9a3d2aba34ec4eef8a16bb037c965f21",
            "value": " 35.2M/35.2M [00:00&lt;00:00, 72.9MB/s]"
          }
        },
        "2b0c6e990ffb4eee8d887efd76a31c3c": {
          "model_module": "@jupyter-widgets/base",
          "model_name": "LayoutModel",
          "model_module_version": "1.2.0",
          "state": {
            "_model_module": "@jupyter-widgets/base",
            "_model_module_version": "1.2.0",
            "_model_name": "LayoutModel",
            "_view_count": null,
            "_view_module": "@jupyter-widgets/base",
            "_view_module_version": "1.2.0",
            "_view_name": "LayoutView",
            "align_content": null,
            "align_items": null,
            "align_self": null,
            "border": null,
            "bottom": null,
            "display": null,
            "flex": null,
            "flex_flow": null,
            "grid_area": null,
            "grid_auto_columns": null,
            "grid_auto_flow": null,
            "grid_auto_rows": null,
            "grid_column": null,
            "grid_gap": null,
            "grid_row": null,
            "grid_template_areas": null,
            "grid_template_columns": null,
            "grid_template_rows": null,
            "height": null,
            "justify_content": null,
            "justify_items": null,
            "left": null,
            "margin": null,
            "max_height": null,
            "max_width": null,
            "min_height": null,
            "min_width": null,
            "object_fit": null,
            "object_position": null,
            "order": null,
            "overflow": null,
            "overflow_x": null,
            "overflow_y": null,
            "padding": null,
            "right": null,
            "top": null,
            "visibility": null,
            "width": null
          }
        },
        "5465646329d4454b973e29da10ad209d": {
          "model_module": "@jupyter-widgets/base",
          "model_name": "LayoutModel",
          "model_module_version": "1.2.0",
          "state": {
            "_model_module": "@jupyter-widgets/base",
            "_model_module_version": "1.2.0",
            "_model_name": "LayoutModel",
            "_view_count": null,
            "_view_module": "@jupyter-widgets/base",
            "_view_module_version": "1.2.0",
            "_view_name": "LayoutView",
            "align_content": null,
            "align_items": null,
            "align_self": null,
            "border": null,
            "bottom": null,
            "display": null,
            "flex": null,
            "flex_flow": null,
            "grid_area": null,
            "grid_auto_columns": null,
            "grid_auto_flow": null,
            "grid_auto_rows": null,
            "grid_column": null,
            "grid_gap": null,
            "grid_row": null,
            "grid_template_areas": null,
            "grid_template_columns": null,
            "grid_template_rows": null,
            "height": null,
            "justify_content": null,
            "justify_items": null,
            "left": null,
            "margin": null,
            "max_height": null,
            "max_width": null,
            "min_height": null,
            "min_width": null,
            "object_fit": null,
            "object_position": null,
            "order": null,
            "overflow": null,
            "overflow_x": null,
            "overflow_y": null,
            "padding": null,
            "right": null,
            "top": null,
            "visibility": null,
            "width": null
          }
        },
        "21e0c168af474140ab21dee4210001e9": {
          "model_module": "@jupyter-widgets/controls",
          "model_name": "DescriptionStyleModel",
          "model_module_version": "1.5.0",
          "state": {
            "_model_module": "@jupyter-widgets/controls",
            "_model_module_version": "1.5.0",
            "_model_name": "DescriptionStyleModel",
            "_view_count": null,
            "_view_module": "@jupyter-widgets/base",
            "_view_module_version": "1.2.0",
            "_view_name": "StyleView",
            "description_width": ""
          }
        },
        "04cc01cd590e4df4946faa8db46ec18d": {
          "model_module": "@jupyter-widgets/base",
          "model_name": "LayoutModel",
          "model_module_version": "1.2.0",
          "state": {
            "_model_module": "@jupyter-widgets/base",
            "_model_module_version": "1.2.0",
            "_model_name": "LayoutModel",
            "_view_count": null,
            "_view_module": "@jupyter-widgets/base",
            "_view_module_version": "1.2.0",
            "_view_name": "LayoutView",
            "align_content": null,
            "align_items": null,
            "align_self": null,
            "border": null,
            "bottom": null,
            "display": null,
            "flex": null,
            "flex_flow": null,
            "grid_area": null,
            "grid_auto_columns": null,
            "grid_auto_flow": null,
            "grid_auto_rows": null,
            "grid_column": null,
            "grid_gap": null,
            "grid_row": null,
            "grid_template_areas": null,
            "grid_template_columns": null,
            "grid_template_rows": null,
            "height": null,
            "justify_content": null,
            "justify_items": null,
            "left": null,
            "margin": null,
            "max_height": null,
            "max_width": null,
            "min_height": null,
            "min_width": null,
            "object_fit": null,
            "object_position": null,
            "order": null,
            "overflow": null,
            "overflow_x": null,
            "overflow_y": null,
            "padding": null,
            "right": null,
            "top": null,
            "visibility": null,
            "width": null
          }
        },
        "1929521c31d04aa3b9b07d0a0099cf07": {
          "model_module": "@jupyter-widgets/controls",
          "model_name": "ProgressStyleModel",
          "model_module_version": "1.5.0",
          "state": {
            "_model_module": "@jupyter-widgets/controls",
            "_model_module_version": "1.5.0",
            "_model_name": "ProgressStyleModel",
            "_view_count": null,
            "_view_module": "@jupyter-widgets/base",
            "_view_module_version": "1.2.0",
            "_view_name": "StyleView",
            "bar_color": null,
            "description_width": ""
          }
        },
        "16090720fd674aadb3c5af08fd0b1409": {
          "model_module": "@jupyter-widgets/base",
          "model_name": "LayoutModel",
          "model_module_version": "1.2.0",
          "state": {
            "_model_module": "@jupyter-widgets/base",
            "_model_module_version": "1.2.0",
            "_model_name": "LayoutModel",
            "_view_count": null,
            "_view_module": "@jupyter-widgets/base",
            "_view_module_version": "1.2.0",
            "_view_name": "LayoutView",
            "align_content": null,
            "align_items": null,
            "align_self": null,
            "border": null,
            "bottom": null,
            "display": null,
            "flex": null,
            "flex_flow": null,
            "grid_area": null,
            "grid_auto_columns": null,
            "grid_auto_flow": null,
            "grid_auto_rows": null,
            "grid_column": null,
            "grid_gap": null,
            "grid_row": null,
            "grid_template_areas": null,
            "grid_template_columns": null,
            "grid_template_rows": null,
            "height": null,
            "justify_content": null,
            "justify_items": null,
            "left": null,
            "margin": null,
            "max_height": null,
            "max_width": null,
            "min_height": null,
            "min_width": null,
            "object_fit": null,
            "object_position": null,
            "order": null,
            "overflow": null,
            "overflow_x": null,
            "overflow_y": null,
            "padding": null,
            "right": null,
            "top": null,
            "visibility": null,
            "width": null
          }
        },
        "9a3d2aba34ec4eef8a16bb037c965f21": {
          "model_module": "@jupyter-widgets/controls",
          "model_name": "DescriptionStyleModel",
          "model_module_version": "1.5.0",
          "state": {
            "_model_module": "@jupyter-widgets/controls",
            "_model_module_version": "1.5.0",
            "_model_name": "DescriptionStyleModel",
            "_view_count": null,
            "_view_module": "@jupyter-widgets/base",
            "_view_module_version": "1.2.0",
            "_view_name": "StyleView",
            "description_width": ""
          }
        },
        "63204662350e402e958d03058f309f13": {
          "model_module": "@jupyter-widgets/controls",
          "model_name": "HBoxModel",
          "model_module_version": "1.5.0",
          "state": {
            "_dom_classes": [],
            "_model_module": "@jupyter-widgets/controls",
            "_model_module_version": "1.5.0",
            "_model_name": "HBoxModel",
            "_view_count": null,
            "_view_module": "@jupyter-widgets/controls",
            "_view_module_version": "1.5.0",
            "_view_name": "HBoxView",
            "box_style": "",
            "children": [
              "IPY_MODEL_9785459193d94257a704fc6916b2ed80",
              "IPY_MODEL_ad8562065dbb4a478934c142c4e3a1b9",
              "IPY_MODEL_9255ad3cf5e7424cae440a2363599f9c"
            ],
            "layout": "IPY_MODEL_e86b64722d5a496aacbb4df5af6eb48b"
          }
        },
        "9785459193d94257a704fc6916b2ed80": {
          "model_module": "@jupyter-widgets/controls",
          "model_name": "HTMLModel",
          "model_module_version": "1.5.0",
          "state": {
            "_dom_classes": [],
            "_model_module": "@jupyter-widgets/controls",
            "_model_module_version": "1.5.0",
            "_model_name": "HTMLModel",
            "_view_count": null,
            "_view_module": "@jupyter-widgets/controls",
            "_view_module_version": "1.5.0",
            "_view_name": "HTMLView",
            "description": "",
            "description_tooltip": null,
            "layout": "IPY_MODEL_f8ee161b1d30477eb5cd7c5c92b17aeb",
            "placeholder": "​",
            "style": "IPY_MODEL_59b2f5564e3e4774ab85b10f3ea30e61",
            "value": "100%"
          }
        },
        "ad8562065dbb4a478934c142c4e3a1b9": {
          "model_module": "@jupyter-widgets/controls",
          "model_name": "FloatProgressModel",
          "model_module_version": "1.5.0",
          "state": {
            "_dom_classes": [],
            "_model_module": "@jupyter-widgets/controls",
            "_model_module_version": "1.5.0",
            "_model_name": "FloatProgressModel",
            "_view_count": null,
            "_view_module": "@jupyter-widgets/controls",
            "_view_module_version": "1.5.0",
            "_view_name": "ProgressView",
            "bar_style": "success",
            "description": "",
            "description_tooltip": null,
            "layout": "IPY_MODEL_4c7c79117de241f79f9d455d074d9d1f",
            "max": 5,
            "min": 0,
            "orientation": "horizontal",
            "style": "IPY_MODEL_4d62fdc1330e4dd2b1ab868167cbacec",
            "value": 5
          }
        },
        "9255ad3cf5e7424cae440a2363599f9c": {
          "model_module": "@jupyter-widgets/controls",
          "model_name": "HTMLModel",
          "model_module_version": "1.5.0",
          "state": {
            "_dom_classes": [],
            "_model_module": "@jupyter-widgets/controls",
            "_model_module_version": "1.5.0",
            "_model_name": "HTMLModel",
            "_view_count": null,
            "_view_module": "@jupyter-widgets/controls",
            "_view_module_version": "1.5.0",
            "_view_name": "HTMLView",
            "description": "",
            "description_tooltip": null,
            "layout": "IPY_MODEL_8cf3d51563ed4f488123a937b3b3313f",
            "placeholder": "​",
            "style": "IPY_MODEL_74497ad75882443487a135779be8d7b1",
            "value": " 5/5 [00:52&lt;00:00, 10.35s/it]"
          }
        },
        "e86b64722d5a496aacbb4df5af6eb48b": {
          "model_module": "@jupyter-widgets/base",
          "model_name": "LayoutModel",
          "model_module_version": "1.2.0",
          "state": {
            "_model_module": "@jupyter-widgets/base",
            "_model_module_version": "1.2.0",
            "_model_name": "LayoutModel",
            "_view_count": null,
            "_view_module": "@jupyter-widgets/base",
            "_view_module_version": "1.2.0",
            "_view_name": "LayoutView",
            "align_content": null,
            "align_items": null,
            "align_self": null,
            "border": null,
            "bottom": null,
            "display": null,
            "flex": null,
            "flex_flow": null,
            "grid_area": null,
            "grid_auto_columns": null,
            "grid_auto_flow": null,
            "grid_auto_rows": null,
            "grid_column": null,
            "grid_gap": null,
            "grid_row": null,
            "grid_template_areas": null,
            "grid_template_columns": null,
            "grid_template_rows": null,
            "height": null,
            "justify_content": null,
            "justify_items": null,
            "left": null,
            "margin": null,
            "max_height": null,
            "max_width": null,
            "min_height": null,
            "min_width": null,
            "object_fit": null,
            "object_position": null,
            "order": null,
            "overflow": null,
            "overflow_x": null,
            "overflow_y": null,
            "padding": null,
            "right": null,
            "top": null,
            "visibility": null,
            "width": null
          }
        },
        "f8ee161b1d30477eb5cd7c5c92b17aeb": {
          "model_module": "@jupyter-widgets/base",
          "model_name": "LayoutModel",
          "model_module_version": "1.2.0",
          "state": {
            "_model_module": "@jupyter-widgets/base",
            "_model_module_version": "1.2.0",
            "_model_name": "LayoutModel",
            "_view_count": null,
            "_view_module": "@jupyter-widgets/base",
            "_view_module_version": "1.2.0",
            "_view_name": "LayoutView",
            "align_content": null,
            "align_items": null,
            "align_self": null,
            "border": null,
            "bottom": null,
            "display": null,
            "flex": null,
            "flex_flow": null,
            "grid_area": null,
            "grid_auto_columns": null,
            "grid_auto_flow": null,
            "grid_auto_rows": null,
            "grid_column": null,
            "grid_gap": null,
            "grid_row": null,
            "grid_template_areas": null,
            "grid_template_columns": null,
            "grid_template_rows": null,
            "height": null,
            "justify_content": null,
            "justify_items": null,
            "left": null,
            "margin": null,
            "max_height": null,
            "max_width": null,
            "min_height": null,
            "min_width": null,
            "object_fit": null,
            "object_position": null,
            "order": null,
            "overflow": null,
            "overflow_x": null,
            "overflow_y": null,
            "padding": null,
            "right": null,
            "top": null,
            "visibility": null,
            "width": null
          }
        },
        "59b2f5564e3e4774ab85b10f3ea30e61": {
          "model_module": "@jupyter-widgets/controls",
          "model_name": "DescriptionStyleModel",
          "model_module_version": "1.5.0",
          "state": {
            "_model_module": "@jupyter-widgets/controls",
            "_model_module_version": "1.5.0",
            "_model_name": "DescriptionStyleModel",
            "_view_count": null,
            "_view_module": "@jupyter-widgets/base",
            "_view_module_version": "1.2.0",
            "_view_name": "StyleView",
            "description_width": ""
          }
        },
        "4c7c79117de241f79f9d455d074d9d1f": {
          "model_module": "@jupyter-widgets/base",
          "model_name": "LayoutModel",
          "model_module_version": "1.2.0",
          "state": {
            "_model_module": "@jupyter-widgets/base",
            "_model_module_version": "1.2.0",
            "_model_name": "LayoutModel",
            "_view_count": null,
            "_view_module": "@jupyter-widgets/base",
            "_view_module_version": "1.2.0",
            "_view_name": "LayoutView",
            "align_content": null,
            "align_items": null,
            "align_self": null,
            "border": null,
            "bottom": null,
            "display": null,
            "flex": null,
            "flex_flow": null,
            "grid_area": null,
            "grid_auto_columns": null,
            "grid_auto_flow": null,
            "grid_auto_rows": null,
            "grid_column": null,
            "grid_gap": null,
            "grid_row": null,
            "grid_template_areas": null,
            "grid_template_columns": null,
            "grid_template_rows": null,
            "height": null,
            "justify_content": null,
            "justify_items": null,
            "left": null,
            "margin": null,
            "max_height": null,
            "max_width": null,
            "min_height": null,
            "min_width": null,
            "object_fit": null,
            "object_position": null,
            "order": null,
            "overflow": null,
            "overflow_x": null,
            "overflow_y": null,
            "padding": null,
            "right": null,
            "top": null,
            "visibility": null,
            "width": null
          }
        },
        "4d62fdc1330e4dd2b1ab868167cbacec": {
          "model_module": "@jupyter-widgets/controls",
          "model_name": "ProgressStyleModel",
          "model_module_version": "1.5.0",
          "state": {
            "_model_module": "@jupyter-widgets/controls",
            "_model_module_version": "1.5.0",
            "_model_name": "ProgressStyleModel",
            "_view_count": null,
            "_view_module": "@jupyter-widgets/base",
            "_view_module_version": "1.2.0",
            "_view_name": "StyleView",
            "bar_color": null,
            "description_width": ""
          }
        },
        "8cf3d51563ed4f488123a937b3b3313f": {
          "model_module": "@jupyter-widgets/base",
          "model_name": "LayoutModel",
          "model_module_version": "1.2.0",
          "state": {
            "_model_module": "@jupyter-widgets/base",
            "_model_module_version": "1.2.0",
            "_model_name": "LayoutModel",
            "_view_count": null,
            "_view_module": "@jupyter-widgets/base",
            "_view_module_version": "1.2.0",
            "_view_name": "LayoutView",
            "align_content": null,
            "align_items": null,
            "align_self": null,
            "border": null,
            "bottom": null,
            "display": null,
            "flex": null,
            "flex_flow": null,
            "grid_area": null,
            "grid_auto_columns": null,
            "grid_auto_flow": null,
            "grid_auto_rows": null,
            "grid_column": null,
            "grid_gap": null,
            "grid_row": null,
            "grid_template_areas": null,
            "grid_template_columns": null,
            "grid_template_rows": null,
            "height": null,
            "justify_content": null,
            "justify_items": null,
            "left": null,
            "margin": null,
            "max_height": null,
            "max_width": null,
            "min_height": null,
            "min_width": null,
            "object_fit": null,
            "object_position": null,
            "order": null,
            "overflow": null,
            "overflow_x": null,
            "overflow_y": null,
            "padding": null,
            "right": null,
            "top": null,
            "visibility": null,
            "width": null
          }
        },
        "74497ad75882443487a135779be8d7b1": {
          "model_module": "@jupyter-widgets/controls",
          "model_name": "DescriptionStyleModel",
          "model_module_version": "1.5.0",
          "state": {
            "_model_module": "@jupyter-widgets/controls",
            "_model_module_version": "1.5.0",
            "_model_name": "DescriptionStyleModel",
            "_view_count": null,
            "_view_module": "@jupyter-widgets/base",
            "_view_module_version": "1.2.0",
            "_view_name": "StyleView",
            "description_width": ""
          }
        },
        "c2e277ea81c442ad85d22f56e069e781": {
          "model_module": "@jupyter-widgets/controls",
          "model_name": "HBoxModel",
          "model_module_version": "1.5.0",
          "state": {
            "_dom_classes": [],
            "_model_module": "@jupyter-widgets/controls",
            "_model_module_version": "1.5.0",
            "_model_name": "HBoxModel",
            "_view_count": null,
            "_view_module": "@jupyter-widgets/controls",
            "_view_module_version": "1.5.0",
            "_view_name": "HBoxView",
            "box_style": "",
            "children": [
              "IPY_MODEL_4b3960824c7e4fa09802de2340d12b80",
              "IPY_MODEL_c50a80862f0c4db594ad6a1689468a84",
              "IPY_MODEL_737f3e1e096e47d1af34857fb6be3176"
            ],
            "layout": "IPY_MODEL_d852d69918174aceb3326a6abf05fcfc"
          }
        },
        "4b3960824c7e4fa09802de2340d12b80": {
          "model_module": "@jupyter-widgets/controls",
          "model_name": "HTMLModel",
          "model_module_version": "1.5.0",
          "state": {
            "_dom_classes": [],
            "_model_module": "@jupyter-widgets/controls",
            "_model_module_version": "1.5.0",
            "_model_name": "HTMLModel",
            "_view_count": null,
            "_view_module": "@jupyter-widgets/controls",
            "_view_module_version": "1.5.0",
            "_view_name": "HTMLView",
            "description": "",
            "description_tooltip": null,
            "layout": "IPY_MODEL_8f37356ca79c41488e81f6091cc74aa6",
            "placeholder": "​",
            "style": "IPY_MODEL_19bf1a92099b413cb142d1841a1fae69",
            "value": "100%"
          }
        },
        "c50a80862f0c4db594ad6a1689468a84": {
          "model_module": "@jupyter-widgets/controls",
          "model_name": "FloatProgressModel",
          "model_module_version": "1.5.0",
          "state": {
            "_dom_classes": [],
            "_model_module": "@jupyter-widgets/controls",
            "_model_module_version": "1.5.0",
            "_model_name": "FloatProgressModel",
            "_view_count": null,
            "_view_module": "@jupyter-widgets/controls",
            "_view_module_version": "1.5.0",
            "_view_name": "ProgressView",
            "bar_style": "success",
            "description": "",
            "description_tooltip": null,
            "layout": "IPY_MODEL_dc8284c643524dd78d517427ee756df0",
            "max": 346328529,
            "min": 0,
            "orientation": "horizontal",
            "style": "IPY_MODEL_6704871f90dd43ffb461ca5787b446b3",
            "value": 346328529
          }
        },
        "737f3e1e096e47d1af34857fb6be3176": {
          "model_module": "@jupyter-widgets/controls",
          "model_name": "HTMLModel",
          "model_module_version": "1.5.0",
          "state": {
            "_dom_classes": [],
            "_model_module": "@jupyter-widgets/controls",
            "_model_module_version": "1.5.0",
            "_model_name": "HTMLModel",
            "_view_count": null,
            "_view_module": "@jupyter-widgets/controls",
            "_view_module_version": "1.5.0",
            "_view_name": "HTMLView",
            "description": "",
            "description_tooltip": null,
            "layout": "IPY_MODEL_c77060ed67fd446ea376eb911afefedd",
            "placeholder": "​",
            "style": "IPY_MODEL_92ba1b24bb874d4a9fe4a94573d20093",
            "value": " 330M/330M [00:05&lt;00:00, 67.5MB/s]"
          }
        },
        "d852d69918174aceb3326a6abf05fcfc": {
          "model_module": "@jupyter-widgets/base",
          "model_name": "LayoutModel",
          "model_module_version": "1.2.0",
          "state": {
            "_model_module": "@jupyter-widgets/base",
            "_model_module_version": "1.2.0",
            "_model_name": "LayoutModel",
            "_view_count": null,
            "_view_module": "@jupyter-widgets/base",
            "_view_module_version": "1.2.0",
            "_view_name": "LayoutView",
            "align_content": null,
            "align_items": null,
            "align_self": null,
            "border": null,
            "bottom": null,
            "display": null,
            "flex": null,
            "flex_flow": null,
            "grid_area": null,
            "grid_auto_columns": null,
            "grid_auto_flow": null,
            "grid_auto_rows": null,
            "grid_column": null,
            "grid_gap": null,
            "grid_row": null,
            "grid_template_areas": null,
            "grid_template_columns": null,
            "grid_template_rows": null,
            "height": null,
            "justify_content": null,
            "justify_items": null,
            "left": null,
            "margin": null,
            "max_height": null,
            "max_width": null,
            "min_height": null,
            "min_width": null,
            "object_fit": null,
            "object_position": null,
            "order": null,
            "overflow": null,
            "overflow_x": null,
            "overflow_y": null,
            "padding": null,
            "right": null,
            "top": null,
            "visibility": null,
            "width": null
          }
        },
        "8f37356ca79c41488e81f6091cc74aa6": {
          "model_module": "@jupyter-widgets/base",
          "model_name": "LayoutModel",
          "model_module_version": "1.2.0",
          "state": {
            "_model_module": "@jupyter-widgets/base",
            "_model_module_version": "1.2.0",
            "_model_name": "LayoutModel",
            "_view_count": null,
            "_view_module": "@jupyter-widgets/base",
            "_view_module_version": "1.2.0",
            "_view_name": "LayoutView",
            "align_content": null,
            "align_items": null,
            "align_self": null,
            "border": null,
            "bottom": null,
            "display": null,
            "flex": null,
            "flex_flow": null,
            "grid_area": null,
            "grid_auto_columns": null,
            "grid_auto_flow": null,
            "grid_auto_rows": null,
            "grid_column": null,
            "grid_gap": null,
            "grid_row": null,
            "grid_template_areas": null,
            "grid_template_columns": null,
            "grid_template_rows": null,
            "height": null,
            "justify_content": null,
            "justify_items": null,
            "left": null,
            "margin": null,
            "max_height": null,
            "max_width": null,
            "min_height": null,
            "min_width": null,
            "object_fit": null,
            "object_position": null,
            "order": null,
            "overflow": null,
            "overflow_x": null,
            "overflow_y": null,
            "padding": null,
            "right": null,
            "top": null,
            "visibility": null,
            "width": null
          }
        },
        "19bf1a92099b413cb142d1841a1fae69": {
          "model_module": "@jupyter-widgets/controls",
          "model_name": "DescriptionStyleModel",
          "model_module_version": "1.5.0",
          "state": {
            "_model_module": "@jupyter-widgets/controls",
            "_model_module_version": "1.5.0",
            "_model_name": "DescriptionStyleModel",
            "_view_count": null,
            "_view_module": "@jupyter-widgets/base",
            "_view_module_version": "1.2.0",
            "_view_name": "StyleView",
            "description_width": ""
          }
        },
        "dc8284c643524dd78d517427ee756df0": {
          "model_module": "@jupyter-widgets/base",
          "model_name": "LayoutModel",
          "model_module_version": "1.2.0",
          "state": {
            "_model_module": "@jupyter-widgets/base",
            "_model_module_version": "1.2.0",
            "_model_name": "LayoutModel",
            "_view_count": null,
            "_view_module": "@jupyter-widgets/base",
            "_view_module_version": "1.2.0",
            "_view_name": "LayoutView",
            "align_content": null,
            "align_items": null,
            "align_self": null,
            "border": null,
            "bottom": null,
            "display": null,
            "flex": null,
            "flex_flow": null,
            "grid_area": null,
            "grid_auto_columns": null,
            "grid_auto_flow": null,
            "grid_auto_rows": null,
            "grid_column": null,
            "grid_gap": null,
            "grid_row": null,
            "grid_template_areas": null,
            "grid_template_columns": null,
            "grid_template_rows": null,
            "height": null,
            "justify_content": null,
            "justify_items": null,
            "left": null,
            "margin": null,
            "max_height": null,
            "max_width": null,
            "min_height": null,
            "min_width": null,
            "object_fit": null,
            "object_position": null,
            "order": null,
            "overflow": null,
            "overflow_x": null,
            "overflow_y": null,
            "padding": null,
            "right": null,
            "top": null,
            "visibility": null,
            "width": null
          }
        },
        "6704871f90dd43ffb461ca5787b446b3": {
          "model_module": "@jupyter-widgets/controls",
          "model_name": "ProgressStyleModel",
          "model_module_version": "1.5.0",
          "state": {
            "_model_module": "@jupyter-widgets/controls",
            "_model_module_version": "1.5.0",
            "_model_name": "ProgressStyleModel",
            "_view_count": null,
            "_view_module": "@jupyter-widgets/base",
            "_view_module_version": "1.2.0",
            "_view_name": "StyleView",
            "bar_color": null,
            "description_width": ""
          }
        },
        "c77060ed67fd446ea376eb911afefedd": {
          "model_module": "@jupyter-widgets/base",
          "model_name": "LayoutModel",
          "model_module_version": "1.2.0",
          "state": {
            "_model_module": "@jupyter-widgets/base",
            "_model_module_version": "1.2.0",
            "_model_name": "LayoutModel",
            "_view_count": null,
            "_view_module": "@jupyter-widgets/base",
            "_view_module_version": "1.2.0",
            "_view_name": "LayoutView",
            "align_content": null,
            "align_items": null,
            "align_self": null,
            "border": null,
            "bottom": null,
            "display": null,
            "flex": null,
            "flex_flow": null,
            "grid_area": null,
            "grid_auto_columns": null,
            "grid_auto_flow": null,
            "grid_auto_rows": null,
            "grid_column": null,
            "grid_gap": null,
            "grid_row": null,
            "grid_template_areas": null,
            "grid_template_columns": null,
            "grid_template_rows": null,
            "height": null,
            "justify_content": null,
            "justify_items": null,
            "left": null,
            "margin": null,
            "max_height": null,
            "max_width": null,
            "min_height": null,
            "min_width": null,
            "object_fit": null,
            "object_position": null,
            "order": null,
            "overflow": null,
            "overflow_x": null,
            "overflow_y": null,
            "padding": null,
            "right": null,
            "top": null,
            "visibility": null,
            "width": null
          }
        },
        "92ba1b24bb874d4a9fe4a94573d20093": {
          "model_module": "@jupyter-widgets/controls",
          "model_name": "DescriptionStyleModel",
          "model_module_version": "1.5.0",
          "state": {
            "_model_module": "@jupyter-widgets/controls",
            "_model_module_version": "1.5.0",
            "_model_name": "DescriptionStyleModel",
            "_view_count": null,
            "_view_module": "@jupyter-widgets/base",
            "_view_module_version": "1.2.0",
            "_view_name": "StyleView",
            "description_width": ""
          }
        },
        "920cc0517d10427db4ab4f8888749473": {
          "model_module": "@jupyter-widgets/controls",
          "model_name": "HBoxModel",
          "model_module_version": "1.5.0",
          "state": {
            "_dom_classes": [],
            "_model_module": "@jupyter-widgets/controls",
            "_model_module_version": "1.5.0",
            "_model_name": "HBoxModel",
            "_view_count": null,
            "_view_module": "@jupyter-widgets/controls",
            "_view_module_version": "1.5.0",
            "_view_name": "HBoxView",
            "box_style": "",
            "children": [
              "IPY_MODEL_9852873cc51c4c0891bf04696d817154",
              "IPY_MODEL_337379d13a1046ce92afbc9f33a88822",
              "IPY_MODEL_b0c45ed173d148ed8e7e3e29d0ee23be"
            ],
            "layout": "IPY_MODEL_94f8ba5f1517465cbfdad74b284e614c"
          }
        },
        "9852873cc51c4c0891bf04696d817154": {
          "model_module": "@jupyter-widgets/controls",
          "model_name": "HTMLModel",
          "model_module_version": "1.5.0",
          "state": {
            "_dom_classes": [],
            "_model_module": "@jupyter-widgets/controls",
            "_model_module_version": "1.5.0",
            "_model_name": "HTMLModel",
            "_view_count": null,
            "_view_module": "@jupyter-widgets/controls",
            "_view_module_version": "1.5.0",
            "_view_name": "HTMLView",
            "description": "",
            "description_tooltip": null,
            "layout": "IPY_MODEL_6c4684820c244d23aece013aba121b3c",
            "placeholder": "​",
            "style": "IPY_MODEL_8d79e2c95cd443beb3635969cec06f7d",
            "value": "100%"
          }
        },
        "337379d13a1046ce92afbc9f33a88822": {
          "model_module": "@jupyter-widgets/controls",
          "model_name": "FloatProgressModel",
          "model_module_version": "1.5.0",
          "state": {
            "_dom_classes": [],
            "_model_module": "@jupyter-widgets/controls",
            "_model_module_version": "1.5.0",
            "_model_name": "FloatProgressModel",
            "_view_count": null,
            "_view_module": "@jupyter-widgets/controls",
            "_view_module_version": "1.5.0",
            "_view_name": "ProgressView",
            "bar_style": "success",
            "description": "",
            "description_tooltip": null,
            "layout": "IPY_MODEL_19168f5b7c0742ee99b3fd4a40033e6f",
            "max": 5,
            "min": 0,
            "orientation": "horizontal",
            "style": "IPY_MODEL_cdad5658d3b7414187712ac6a1305a61",
            "value": 5
          }
        },
        "b0c45ed173d148ed8e7e3e29d0ee23be": {
          "model_module": "@jupyter-widgets/controls",
          "model_name": "HTMLModel",
          "model_module_version": "1.5.0",
          "state": {
            "_dom_classes": [],
            "_model_module": "@jupyter-widgets/controls",
            "_model_module_version": "1.5.0",
            "_model_name": "HTMLModel",
            "_view_count": null,
            "_view_module": "@jupyter-widgets/controls",
            "_view_module_version": "1.5.0",
            "_view_name": "HTMLView",
            "description": "",
            "description_tooltip": null,
            "layout": "IPY_MODEL_4ced7147fb574be89523bb30606a171b",
            "placeholder": "​",
            "style": "IPY_MODEL_cb70859bfcec49f5b382b7c2922a68d5",
            "value": " 5/5 [00:52&lt;00:00, 10.50s/it]"
          }
        },
        "94f8ba5f1517465cbfdad74b284e614c": {
          "model_module": "@jupyter-widgets/base",
          "model_name": "LayoutModel",
          "model_module_version": "1.2.0",
          "state": {
            "_model_module": "@jupyter-widgets/base",
            "_model_module_version": "1.2.0",
            "_model_name": "LayoutModel",
            "_view_count": null,
            "_view_module": "@jupyter-widgets/base",
            "_view_module_version": "1.2.0",
            "_view_name": "LayoutView",
            "align_content": null,
            "align_items": null,
            "align_self": null,
            "border": null,
            "bottom": null,
            "display": null,
            "flex": null,
            "flex_flow": null,
            "grid_area": null,
            "grid_auto_columns": null,
            "grid_auto_flow": null,
            "grid_auto_rows": null,
            "grid_column": null,
            "grid_gap": null,
            "grid_row": null,
            "grid_template_areas": null,
            "grid_template_columns": null,
            "grid_template_rows": null,
            "height": null,
            "justify_content": null,
            "justify_items": null,
            "left": null,
            "margin": null,
            "max_height": null,
            "max_width": null,
            "min_height": null,
            "min_width": null,
            "object_fit": null,
            "object_position": null,
            "order": null,
            "overflow": null,
            "overflow_x": null,
            "overflow_y": null,
            "padding": null,
            "right": null,
            "top": null,
            "visibility": null,
            "width": null
          }
        },
        "6c4684820c244d23aece013aba121b3c": {
          "model_module": "@jupyter-widgets/base",
          "model_name": "LayoutModel",
          "model_module_version": "1.2.0",
          "state": {
            "_model_module": "@jupyter-widgets/base",
            "_model_module_version": "1.2.0",
            "_model_name": "LayoutModel",
            "_view_count": null,
            "_view_module": "@jupyter-widgets/base",
            "_view_module_version": "1.2.0",
            "_view_name": "LayoutView",
            "align_content": null,
            "align_items": null,
            "align_self": null,
            "border": null,
            "bottom": null,
            "display": null,
            "flex": null,
            "flex_flow": null,
            "grid_area": null,
            "grid_auto_columns": null,
            "grid_auto_flow": null,
            "grid_auto_rows": null,
            "grid_column": null,
            "grid_gap": null,
            "grid_row": null,
            "grid_template_areas": null,
            "grid_template_columns": null,
            "grid_template_rows": null,
            "height": null,
            "justify_content": null,
            "justify_items": null,
            "left": null,
            "margin": null,
            "max_height": null,
            "max_width": null,
            "min_height": null,
            "min_width": null,
            "object_fit": null,
            "object_position": null,
            "order": null,
            "overflow": null,
            "overflow_x": null,
            "overflow_y": null,
            "padding": null,
            "right": null,
            "top": null,
            "visibility": null,
            "width": null
          }
        },
        "8d79e2c95cd443beb3635969cec06f7d": {
          "model_module": "@jupyter-widgets/controls",
          "model_name": "DescriptionStyleModel",
          "model_module_version": "1.5.0",
          "state": {
            "_model_module": "@jupyter-widgets/controls",
            "_model_module_version": "1.5.0",
            "_model_name": "DescriptionStyleModel",
            "_view_count": null,
            "_view_module": "@jupyter-widgets/base",
            "_view_module_version": "1.2.0",
            "_view_name": "StyleView",
            "description_width": ""
          }
        },
        "19168f5b7c0742ee99b3fd4a40033e6f": {
          "model_module": "@jupyter-widgets/base",
          "model_name": "LayoutModel",
          "model_module_version": "1.2.0",
          "state": {
            "_model_module": "@jupyter-widgets/base",
            "_model_module_version": "1.2.0",
            "_model_name": "LayoutModel",
            "_view_count": null,
            "_view_module": "@jupyter-widgets/base",
            "_view_module_version": "1.2.0",
            "_view_name": "LayoutView",
            "align_content": null,
            "align_items": null,
            "align_self": null,
            "border": null,
            "bottom": null,
            "display": null,
            "flex": null,
            "flex_flow": null,
            "grid_area": null,
            "grid_auto_columns": null,
            "grid_auto_flow": null,
            "grid_auto_rows": null,
            "grid_column": null,
            "grid_gap": null,
            "grid_row": null,
            "grid_template_areas": null,
            "grid_template_columns": null,
            "grid_template_rows": null,
            "height": null,
            "justify_content": null,
            "justify_items": null,
            "left": null,
            "margin": null,
            "max_height": null,
            "max_width": null,
            "min_height": null,
            "min_width": null,
            "object_fit": null,
            "object_position": null,
            "order": null,
            "overflow": null,
            "overflow_x": null,
            "overflow_y": null,
            "padding": null,
            "right": null,
            "top": null,
            "visibility": null,
            "width": null
          }
        },
        "cdad5658d3b7414187712ac6a1305a61": {
          "model_module": "@jupyter-widgets/controls",
          "model_name": "ProgressStyleModel",
          "model_module_version": "1.5.0",
          "state": {
            "_model_module": "@jupyter-widgets/controls",
            "_model_module_version": "1.5.0",
            "_model_name": "ProgressStyleModel",
            "_view_count": null,
            "_view_module": "@jupyter-widgets/base",
            "_view_module_version": "1.2.0",
            "_view_name": "StyleView",
            "bar_color": null,
            "description_width": ""
          }
        },
        "4ced7147fb574be89523bb30606a171b": {
          "model_module": "@jupyter-widgets/base",
          "model_name": "LayoutModel",
          "model_module_version": "1.2.0",
          "state": {
            "_model_module": "@jupyter-widgets/base",
            "_model_module_version": "1.2.0",
            "_model_name": "LayoutModel",
            "_view_count": null,
            "_view_module": "@jupyter-widgets/base",
            "_view_module_version": "1.2.0",
            "_view_name": "LayoutView",
            "align_content": null,
            "align_items": null,
            "align_self": null,
            "border": null,
            "bottom": null,
            "display": null,
            "flex": null,
            "flex_flow": null,
            "grid_area": null,
            "grid_auto_columns": null,
            "grid_auto_flow": null,
            "grid_auto_rows": null,
            "grid_column": null,
            "grid_gap": null,
            "grid_row": null,
            "grid_template_areas": null,
            "grid_template_columns": null,
            "grid_template_rows": null,
            "height": null,
            "justify_content": null,
            "justify_items": null,
            "left": null,
            "margin": null,
            "max_height": null,
            "max_width": null,
            "min_height": null,
            "min_width": null,
            "object_fit": null,
            "object_position": null,
            "order": null,
            "overflow": null,
            "overflow_x": null,
            "overflow_y": null,
            "padding": null,
            "right": null,
            "top": null,
            "visibility": null,
            "width": null
          }
        },
        "cb70859bfcec49f5b382b7c2922a68d5": {
          "model_module": "@jupyter-widgets/controls",
          "model_name": "DescriptionStyleModel",
          "model_module_version": "1.5.0",
          "state": {
            "_model_module": "@jupyter-widgets/controls",
            "_model_module_version": "1.5.0",
            "_model_name": "DescriptionStyleModel",
            "_view_count": null,
            "_view_module": "@jupyter-widgets/base",
            "_view_module_version": "1.2.0",
            "_view_name": "StyleView",
            "description_width": ""
          }
        },
        "92ee7d389376421c81d42b790fcb4682": {
          "model_module": "@jupyter-widgets/controls",
          "model_name": "HBoxModel",
          "model_module_version": "1.5.0",
          "state": {
            "_dom_classes": [],
            "_model_module": "@jupyter-widgets/controls",
            "_model_module_version": "1.5.0",
            "_model_name": "HBoxModel",
            "_view_count": null,
            "_view_module": "@jupyter-widgets/controls",
            "_view_module_version": "1.5.0",
            "_view_name": "HBoxView",
            "box_style": "",
            "children": [
              "IPY_MODEL_2bd46146e2c14d1bbc437d61c5f38136",
              "IPY_MODEL_77ef09837ca347f6a82ccee421d004be",
              "IPY_MODEL_c8b5b6e742b34d82a64a48fb5686cd1b"
            ],
            "layout": "IPY_MODEL_18e10e986773433d9c839d53f2ed16d4"
          }
        },
        "2bd46146e2c14d1bbc437d61c5f38136": {
          "model_module": "@jupyter-widgets/controls",
          "model_name": "HTMLModel",
          "model_module_version": "1.5.0",
          "state": {
            "_dom_classes": [],
            "_model_module": "@jupyter-widgets/controls",
            "_model_module_version": "1.5.0",
            "_model_name": "HTMLModel",
            "_view_count": null,
            "_view_module": "@jupyter-widgets/controls",
            "_view_module_version": "1.5.0",
            "_view_name": "HTMLView",
            "description": "",
            "description_tooltip": null,
            "layout": "IPY_MODEL_4870a0d6e5e24e4ba957b49f655cfd69",
            "placeholder": "​",
            "style": "IPY_MODEL_5392721ab1df439087ffc62e753dc772",
            "value": "100%"
          }
        },
        "77ef09837ca347f6a82ccee421d004be": {
          "model_module": "@jupyter-widgets/controls",
          "model_name": "FloatProgressModel",
          "model_module_version": "1.5.0",
          "state": {
            "_dom_classes": [],
            "_model_module": "@jupyter-widgets/controls",
            "_model_module_version": "1.5.0",
            "_model_name": "FloatProgressModel",
            "_view_count": null,
            "_view_module": "@jupyter-widgets/controls",
            "_view_module_version": "1.5.0",
            "_view_name": "ProgressView",
            "bar_style": "success",
            "description": "",
            "description_tooltip": null,
            "layout": "IPY_MODEL_839cb95ebe6d4b3db3edf93198d7e35b",
            "max": 150,
            "min": 0,
            "orientation": "horizontal",
            "style": "IPY_MODEL_1521a8d470094a21acea5b9bb29d4fc8",
            "value": 150
          }
        },
        "c8b5b6e742b34d82a64a48fb5686cd1b": {
          "model_module": "@jupyter-widgets/controls",
          "model_name": "HTMLModel",
          "model_module_version": "1.5.0",
          "state": {
            "_dom_classes": [],
            "_model_module": "@jupyter-widgets/controls",
            "_model_module_version": "1.5.0",
            "_model_name": "HTMLModel",
            "_view_count": null,
            "_view_module": "@jupyter-widgets/controls",
            "_view_module_version": "1.5.0",
            "_view_name": "HTMLView",
            "description": "",
            "description_tooltip": null,
            "layout": "IPY_MODEL_742c332be2ec45c686b293ab91e5d28a",
            "placeholder": "​",
            "style": "IPY_MODEL_4b24fd623b774724b13b674ca0428094",
            "value": " 150/150 [00:04&lt;00:00, 36.58it/s]"
          }
        },
        "18e10e986773433d9c839d53f2ed16d4": {
          "model_module": "@jupyter-widgets/base",
          "model_name": "LayoutModel",
          "model_module_version": "1.2.0",
          "state": {
            "_model_module": "@jupyter-widgets/base",
            "_model_module_version": "1.2.0",
            "_model_name": "LayoutModel",
            "_view_count": null,
            "_view_module": "@jupyter-widgets/base",
            "_view_module_version": "1.2.0",
            "_view_name": "LayoutView",
            "align_content": null,
            "align_items": null,
            "align_self": null,
            "border": null,
            "bottom": null,
            "display": null,
            "flex": null,
            "flex_flow": null,
            "grid_area": null,
            "grid_auto_columns": null,
            "grid_auto_flow": null,
            "grid_auto_rows": null,
            "grid_column": null,
            "grid_gap": null,
            "grid_row": null,
            "grid_template_areas": null,
            "grid_template_columns": null,
            "grid_template_rows": null,
            "height": null,
            "justify_content": null,
            "justify_items": null,
            "left": null,
            "margin": null,
            "max_height": null,
            "max_width": null,
            "min_height": null,
            "min_width": null,
            "object_fit": null,
            "object_position": null,
            "order": null,
            "overflow": null,
            "overflow_x": null,
            "overflow_y": null,
            "padding": null,
            "right": null,
            "top": null,
            "visibility": null,
            "width": null
          }
        },
        "4870a0d6e5e24e4ba957b49f655cfd69": {
          "model_module": "@jupyter-widgets/base",
          "model_name": "LayoutModel",
          "model_module_version": "1.2.0",
          "state": {
            "_model_module": "@jupyter-widgets/base",
            "_model_module_version": "1.2.0",
            "_model_name": "LayoutModel",
            "_view_count": null,
            "_view_module": "@jupyter-widgets/base",
            "_view_module_version": "1.2.0",
            "_view_name": "LayoutView",
            "align_content": null,
            "align_items": null,
            "align_self": null,
            "border": null,
            "bottom": null,
            "display": null,
            "flex": null,
            "flex_flow": null,
            "grid_area": null,
            "grid_auto_columns": null,
            "grid_auto_flow": null,
            "grid_auto_rows": null,
            "grid_column": null,
            "grid_gap": null,
            "grid_row": null,
            "grid_template_areas": null,
            "grid_template_columns": null,
            "grid_template_rows": null,
            "height": null,
            "justify_content": null,
            "justify_items": null,
            "left": null,
            "margin": null,
            "max_height": null,
            "max_width": null,
            "min_height": null,
            "min_width": null,
            "object_fit": null,
            "object_position": null,
            "order": null,
            "overflow": null,
            "overflow_x": null,
            "overflow_y": null,
            "padding": null,
            "right": null,
            "top": null,
            "visibility": null,
            "width": null
          }
        },
        "5392721ab1df439087ffc62e753dc772": {
          "model_module": "@jupyter-widgets/controls",
          "model_name": "DescriptionStyleModel",
          "model_module_version": "1.5.0",
          "state": {
            "_model_module": "@jupyter-widgets/controls",
            "_model_module_version": "1.5.0",
            "_model_name": "DescriptionStyleModel",
            "_view_count": null,
            "_view_module": "@jupyter-widgets/base",
            "_view_module_version": "1.2.0",
            "_view_name": "StyleView",
            "description_width": ""
          }
        },
        "839cb95ebe6d4b3db3edf93198d7e35b": {
          "model_module": "@jupyter-widgets/base",
          "model_name": "LayoutModel",
          "model_module_version": "1.2.0",
          "state": {
            "_model_module": "@jupyter-widgets/base",
            "_model_module_version": "1.2.0",
            "_model_name": "LayoutModel",
            "_view_count": null,
            "_view_module": "@jupyter-widgets/base",
            "_view_module_version": "1.2.0",
            "_view_name": "LayoutView",
            "align_content": null,
            "align_items": null,
            "align_self": null,
            "border": null,
            "bottom": null,
            "display": null,
            "flex": null,
            "flex_flow": null,
            "grid_area": null,
            "grid_auto_columns": null,
            "grid_auto_flow": null,
            "grid_auto_rows": null,
            "grid_column": null,
            "grid_gap": null,
            "grid_row": null,
            "grid_template_areas": null,
            "grid_template_columns": null,
            "grid_template_rows": null,
            "height": null,
            "justify_content": null,
            "justify_items": null,
            "left": null,
            "margin": null,
            "max_height": null,
            "max_width": null,
            "min_height": null,
            "min_width": null,
            "object_fit": null,
            "object_position": null,
            "order": null,
            "overflow": null,
            "overflow_x": null,
            "overflow_y": null,
            "padding": null,
            "right": null,
            "top": null,
            "visibility": null,
            "width": null
          }
        },
        "1521a8d470094a21acea5b9bb29d4fc8": {
          "model_module": "@jupyter-widgets/controls",
          "model_name": "ProgressStyleModel",
          "model_module_version": "1.5.0",
          "state": {
            "_model_module": "@jupyter-widgets/controls",
            "_model_module_version": "1.5.0",
            "_model_name": "ProgressStyleModel",
            "_view_count": null,
            "_view_module": "@jupyter-widgets/base",
            "_view_module_version": "1.2.0",
            "_view_name": "StyleView",
            "bar_color": null,
            "description_width": ""
          }
        },
        "742c332be2ec45c686b293ab91e5d28a": {
          "model_module": "@jupyter-widgets/base",
          "model_name": "LayoutModel",
          "model_module_version": "1.2.0",
          "state": {
            "_model_module": "@jupyter-widgets/base",
            "_model_module_version": "1.2.0",
            "_model_name": "LayoutModel",
            "_view_count": null,
            "_view_module": "@jupyter-widgets/base",
            "_view_module_version": "1.2.0",
            "_view_name": "LayoutView",
            "align_content": null,
            "align_items": null,
            "align_self": null,
            "border": null,
            "bottom": null,
            "display": null,
            "flex": null,
            "flex_flow": null,
            "grid_area": null,
            "grid_auto_columns": null,
            "grid_auto_flow": null,
            "grid_auto_rows": null,
            "grid_column": null,
            "grid_gap": null,
            "grid_row": null,
            "grid_template_areas": null,
            "grid_template_columns": null,
            "grid_template_rows": null,
            "height": null,
            "justify_content": null,
            "justify_items": null,
            "left": null,
            "margin": null,
            "max_height": null,
            "max_width": null,
            "min_height": null,
            "min_width": null,
            "object_fit": null,
            "object_position": null,
            "order": null,
            "overflow": null,
            "overflow_x": null,
            "overflow_y": null,
            "padding": null,
            "right": null,
            "top": null,
            "visibility": null,
            "width": null
          }
        },
        "4b24fd623b774724b13b674ca0428094": {
          "model_module": "@jupyter-widgets/controls",
          "model_name": "DescriptionStyleModel",
          "model_module_version": "1.5.0",
          "state": {
            "_model_module": "@jupyter-widgets/controls",
            "_model_module_version": "1.5.0",
            "_model_name": "DescriptionStyleModel",
            "_view_count": null,
            "_view_module": "@jupyter-widgets/base",
            "_view_module_version": "1.2.0",
            "_view_name": "StyleView",
            "description_width": ""
          }
        },
        "47f437d8e7354be89e7216c7c6315115": {
          "model_module": "@jupyter-widgets/controls",
          "model_name": "HBoxModel",
          "model_module_version": "1.5.0",
          "state": {
            "_dom_classes": [],
            "_model_module": "@jupyter-widgets/controls",
            "_model_module_version": "1.5.0",
            "_model_name": "HBoxModel",
            "_view_count": null,
            "_view_module": "@jupyter-widgets/controls",
            "_view_module_version": "1.5.0",
            "_view_name": "HBoxView",
            "box_style": "",
            "children": [
              "IPY_MODEL_95a021fdb20f40a6aed013fbc1b9bb53",
              "IPY_MODEL_367dcd5809bd4aa89cd2dfa2c413527d",
              "IPY_MODEL_10b883e4034c4b91a976dcd9668f8205"
            ],
            "layout": "IPY_MODEL_8ba1bb2fbff147e696b33dfa6286f3c4"
          }
        },
        "95a021fdb20f40a6aed013fbc1b9bb53": {
          "model_module": "@jupyter-widgets/controls",
          "model_name": "HTMLModel",
          "model_module_version": "1.5.0",
          "state": {
            "_dom_classes": [],
            "_model_module": "@jupyter-widgets/controls",
            "_model_module_version": "1.5.0",
            "_model_name": "HTMLModel",
            "_view_count": null,
            "_view_module": "@jupyter-widgets/controls",
            "_view_module_version": "1.5.0",
            "_view_name": "HTMLView",
            "description": "",
            "description_tooltip": null,
            "layout": "IPY_MODEL_ff7dbbab10c447eb96a88a3e1b1c9536",
            "placeholder": "​",
            "style": "IPY_MODEL_7a1a237af66a41668c860ded6f16a5fe",
            "value": "100%"
          }
        },
        "367dcd5809bd4aa89cd2dfa2c413527d": {
          "model_module": "@jupyter-widgets/controls",
          "model_name": "FloatProgressModel",
          "model_module_version": "1.5.0",
          "state": {
            "_dom_classes": [],
            "_model_module": "@jupyter-widgets/controls",
            "_model_module_version": "1.5.0",
            "_model_name": "FloatProgressModel",
            "_view_count": null,
            "_view_module": "@jupyter-widgets/controls",
            "_view_module_version": "1.5.0",
            "_view_name": "ProgressView",
            "bar_style": "success",
            "description": "",
            "description_tooltip": null,
            "layout": "IPY_MODEL_021ba4947b9b414dbdfdbbe0c093e32d",
            "max": 150,
            "min": 0,
            "orientation": "horizontal",
            "style": "IPY_MODEL_72d60263169141d49147c7da4db5de6d",
            "value": 150
          }
        },
        "10b883e4034c4b91a976dcd9668f8205": {
          "model_module": "@jupyter-widgets/controls",
          "model_name": "HTMLModel",
          "model_module_version": "1.5.0",
          "state": {
            "_dom_classes": [],
            "_model_module": "@jupyter-widgets/controls",
            "_model_module_version": "1.5.0",
            "_model_name": "HTMLModel",
            "_view_count": null,
            "_view_module": "@jupyter-widgets/controls",
            "_view_module_version": "1.5.0",
            "_view_name": "HTMLView",
            "description": "",
            "description_tooltip": null,
            "layout": "IPY_MODEL_f7907a3ccab94281ac3410cd49bcc49e",
            "placeholder": "​",
            "style": "IPY_MODEL_9fcb080467c44cb7b407f58366872153",
            "value": " 150/150 [00:03&lt;00:00, 40.23it/s]"
          }
        },
        "8ba1bb2fbff147e696b33dfa6286f3c4": {
          "model_module": "@jupyter-widgets/base",
          "model_name": "LayoutModel",
          "model_module_version": "1.2.0",
          "state": {
            "_model_module": "@jupyter-widgets/base",
            "_model_module_version": "1.2.0",
            "_model_name": "LayoutModel",
            "_view_count": null,
            "_view_module": "@jupyter-widgets/base",
            "_view_module_version": "1.2.0",
            "_view_name": "LayoutView",
            "align_content": null,
            "align_items": null,
            "align_self": null,
            "border": null,
            "bottom": null,
            "display": null,
            "flex": null,
            "flex_flow": null,
            "grid_area": null,
            "grid_auto_columns": null,
            "grid_auto_flow": null,
            "grid_auto_rows": null,
            "grid_column": null,
            "grid_gap": null,
            "grid_row": null,
            "grid_template_areas": null,
            "grid_template_columns": null,
            "grid_template_rows": null,
            "height": null,
            "justify_content": null,
            "justify_items": null,
            "left": null,
            "margin": null,
            "max_height": null,
            "max_width": null,
            "min_height": null,
            "min_width": null,
            "object_fit": null,
            "object_position": null,
            "order": null,
            "overflow": null,
            "overflow_x": null,
            "overflow_y": null,
            "padding": null,
            "right": null,
            "top": null,
            "visibility": null,
            "width": null
          }
        },
        "ff7dbbab10c447eb96a88a3e1b1c9536": {
          "model_module": "@jupyter-widgets/base",
          "model_name": "LayoutModel",
          "model_module_version": "1.2.0",
          "state": {
            "_model_module": "@jupyter-widgets/base",
            "_model_module_version": "1.2.0",
            "_model_name": "LayoutModel",
            "_view_count": null,
            "_view_module": "@jupyter-widgets/base",
            "_view_module_version": "1.2.0",
            "_view_name": "LayoutView",
            "align_content": null,
            "align_items": null,
            "align_self": null,
            "border": null,
            "bottom": null,
            "display": null,
            "flex": null,
            "flex_flow": null,
            "grid_area": null,
            "grid_auto_columns": null,
            "grid_auto_flow": null,
            "grid_auto_rows": null,
            "grid_column": null,
            "grid_gap": null,
            "grid_row": null,
            "grid_template_areas": null,
            "grid_template_columns": null,
            "grid_template_rows": null,
            "height": null,
            "justify_content": null,
            "justify_items": null,
            "left": null,
            "margin": null,
            "max_height": null,
            "max_width": null,
            "min_height": null,
            "min_width": null,
            "object_fit": null,
            "object_position": null,
            "order": null,
            "overflow": null,
            "overflow_x": null,
            "overflow_y": null,
            "padding": null,
            "right": null,
            "top": null,
            "visibility": null,
            "width": null
          }
        },
        "7a1a237af66a41668c860ded6f16a5fe": {
          "model_module": "@jupyter-widgets/controls",
          "model_name": "DescriptionStyleModel",
          "model_module_version": "1.5.0",
          "state": {
            "_model_module": "@jupyter-widgets/controls",
            "_model_module_version": "1.5.0",
            "_model_name": "DescriptionStyleModel",
            "_view_count": null,
            "_view_module": "@jupyter-widgets/base",
            "_view_module_version": "1.2.0",
            "_view_name": "StyleView",
            "description_width": ""
          }
        },
        "021ba4947b9b414dbdfdbbe0c093e32d": {
          "model_module": "@jupyter-widgets/base",
          "model_name": "LayoutModel",
          "model_module_version": "1.2.0",
          "state": {
            "_model_module": "@jupyter-widgets/base",
            "_model_module_version": "1.2.0",
            "_model_name": "LayoutModel",
            "_view_count": null,
            "_view_module": "@jupyter-widgets/base",
            "_view_module_version": "1.2.0",
            "_view_name": "LayoutView",
            "align_content": null,
            "align_items": null,
            "align_self": null,
            "border": null,
            "bottom": null,
            "display": null,
            "flex": null,
            "flex_flow": null,
            "grid_area": null,
            "grid_auto_columns": null,
            "grid_auto_flow": null,
            "grid_auto_rows": null,
            "grid_column": null,
            "grid_gap": null,
            "grid_row": null,
            "grid_template_areas": null,
            "grid_template_columns": null,
            "grid_template_rows": null,
            "height": null,
            "justify_content": null,
            "justify_items": null,
            "left": null,
            "margin": null,
            "max_height": null,
            "max_width": null,
            "min_height": null,
            "min_width": null,
            "object_fit": null,
            "object_position": null,
            "order": null,
            "overflow": null,
            "overflow_x": null,
            "overflow_y": null,
            "padding": null,
            "right": null,
            "top": null,
            "visibility": null,
            "width": null
          }
        },
        "72d60263169141d49147c7da4db5de6d": {
          "model_module": "@jupyter-widgets/controls",
          "model_name": "ProgressStyleModel",
          "model_module_version": "1.5.0",
          "state": {
            "_model_module": "@jupyter-widgets/controls",
            "_model_module_version": "1.5.0",
            "_model_name": "ProgressStyleModel",
            "_view_count": null,
            "_view_module": "@jupyter-widgets/base",
            "_view_module_version": "1.2.0",
            "_view_name": "StyleView",
            "bar_color": null,
            "description_width": ""
          }
        },
        "f7907a3ccab94281ac3410cd49bcc49e": {
          "model_module": "@jupyter-widgets/base",
          "model_name": "LayoutModel",
          "model_module_version": "1.2.0",
          "state": {
            "_model_module": "@jupyter-widgets/base",
            "_model_module_version": "1.2.0",
            "_model_name": "LayoutModel",
            "_view_count": null,
            "_view_module": "@jupyter-widgets/base",
            "_view_module_version": "1.2.0",
            "_view_name": "LayoutView",
            "align_content": null,
            "align_items": null,
            "align_self": null,
            "border": null,
            "bottom": null,
            "display": null,
            "flex": null,
            "flex_flow": null,
            "grid_area": null,
            "grid_auto_columns": null,
            "grid_auto_flow": null,
            "grid_auto_rows": null,
            "grid_column": null,
            "grid_gap": null,
            "grid_row": null,
            "grid_template_areas": null,
            "grid_template_columns": null,
            "grid_template_rows": null,
            "height": null,
            "justify_content": null,
            "justify_items": null,
            "left": null,
            "margin": null,
            "max_height": null,
            "max_width": null,
            "min_height": null,
            "min_width": null,
            "object_fit": null,
            "object_position": null,
            "order": null,
            "overflow": null,
            "overflow_x": null,
            "overflow_y": null,
            "padding": null,
            "right": null,
            "top": null,
            "visibility": null,
            "width": null
          }
        },
        "9fcb080467c44cb7b407f58366872153": {
          "model_module": "@jupyter-widgets/controls",
          "model_name": "DescriptionStyleModel",
          "model_module_version": "1.5.0",
          "state": {
            "_model_module": "@jupyter-widgets/controls",
            "_model_module_version": "1.5.0",
            "_model_name": "DescriptionStyleModel",
            "_view_count": null,
            "_view_module": "@jupyter-widgets/base",
            "_view_module_version": "1.2.0",
            "_view_name": "StyleView",
            "description_width": ""
          }
        }
      }
    }
  },
  "cells": [
    {
      "cell_type": "markdown",
      "source": [
        "## What is Machine Learning Model Deployment?\n",
        "\n",
        "**Machine Learning Model Deployment** is the process of making your machine learning Model accessible to someone or something else.\n",
        "\n",
        "**Someone** else being a person who can interact with your Model in some way and **something** else might be another program, app or even another model that interacts with it."
      ],
      "metadata": {
        "id": "K3z44dubZNle"
      }
    },
    {
      "cell_type": "markdown",
      "source": [
        "## Why Deploying a Machine Learning Model?\n",
        "\n",
        "Deploying a model is as important as training one.\n",
        "\n",
        "Because although you can get a pretty good idea of how your Model's going to function by evaluting it on a well crafted test set or visualizing its results, you never really know how it's going to `perform` until you release it to the wild.\n",
        "\n",
        "For example, what happens if someone was to upload a photo that wasn't of food to our `FoodVision Mini` model?\n",
        "* A solution could be to create another Model that first classifies images as `food` or `not food` and passing the target image through that model first."
      ],
      "metadata": {
        "id": "A5NX_NbaaSYO"
      }
    },
    {
      "cell_type": "markdown",
      "source": [
        "## What's the Best Practice for Deploying a Model?\n",
        "\n",
        "There is not a `best-practice`, whole books have been written on the different types we can deploy a Model, but a great start is answer the question:\n",
        "\n",
        "- What is the most ideal scenario for my machine learning Model to be used?\n",
        "\n",
        "After answering this question we can work backwords from there and figure the `best`, in our case, way to deploy our Model.\n",
        "\n",
        "In fact we need to answer 2 more questions:\n",
        "1. Where's it going to go (to be stored)?\n",
        "2. How's it going to function (return predictions immediately)?\n",
        "\n",
        "The main debate about question 1 is: store it `on-device` or on the `cloud`. For more check: https://machinethink.net/blog/machine-learning-device-or-cloud/\n",
        "\n",
        "The main debate about question 2 is: `online(real-time)` or `offline(batch)`. For more check: https://www.qwak.com/post/online-vs-offline-machine-learning-whats-the-difference"
      ],
      "metadata": {
        "id": "2DX0CMT0dops"
      }
    },
    {
      "cell_type": "markdown",
      "source": [
        "## What are the Ways (`where`) we can Deploy our Model?\n",
        "\n",
        "Some off the resources that help us deploy our Model are:\n",
        "* `Google's ML Kit` (on-device)\n",
        "* `Apple's Core ML` (on-device)\n",
        "* `Amazon Web Service's (AWS) Sagemaker` (cloud)\n",
        "* `Google Cloud's Vertex AI`(cloud)\n",
        "* `Microsoft's Azure Machine Learning` (cloud)\n",
        "* `Hugging Face Spaces` (cloud)\n",
        "* `API with FastAPI` (cloud/self-hosted server)\n",
        "* `API with TorchServe` (cloud/self-hosted server)"
      ],
      "metadata": {
        "id": "VE3dpI4Zg97Q"
      }
    },
    {
      "cell_type": "markdown",
      "source": [
        "## What are we Going to Do?\n",
        "\n",
        "Our goal is to `deploy` our **FoodVision** Model via a demo [Gradio App](https://gradio.app/) on [Hugging Face Spaces](https://huggingface.co/spaces)."
      ],
      "metadata": {
        "id": "6NezZxlRi18c"
      }
    },
    {
      "cell_type": "code",
      "execution_count": 2,
      "metadata": {
        "id": "HEzy64X2AAB2"
      },
      "outputs": [],
      "source": [
        "import torch\n",
        "from torch import nn, optim\n",
        "from torchvision import models\n",
        "\n",
        "import matplotlib.pyplot as plt\n",
        "import pandas as pd"
      ]
    },
    {
      "cell_type": "code",
      "source": [
        "!pip install -q torchinfo"
      ],
      "metadata": {
        "id": "VxYic0l6jtts"
      },
      "execution_count": 3,
      "outputs": []
    },
    {
      "cell_type": "code",
      "source": [
        "from torchinfo import summary\n",
        "from pathlib import Path\n",
        "from tqdm.auto import tqdm\n",
        "from timeit import default_timer as timer\n",
        "from PIL import Image"
      ],
      "metadata": {
        "id": "0V2mpH8UkAmO"
      },
      "execution_count": 4,
      "outputs": []
    },
    {
      "cell_type": "code",
      "source": [
        "from drive.MyDrive.going_modular.going_modular import data_setup, engine, utils"
      ],
      "metadata": {
        "id": "_AQlD20jkLD1"
      },
      "execution_count": 5,
      "outputs": []
    },
    {
      "cell_type": "markdown",
      "source": [
        "## Setting up Default Device"
      ],
      "metadata": {
        "id": "FP5Z-SgEkS-M"
      }
    },
    {
      "cell_type": "code",
      "source": [
        "device = torch.device(\"cuda\" if torch.cuda.is_available() else \"cpu\")\n",
        "\n",
        "print(device)"
      ],
      "metadata": {
        "colab": {
          "base_uri": "https://localhost:8080/"
        },
        "id": "w7l6Wb9bkVjS",
        "outputId": "a3db6481-1a29-4bf6-92c2-be9456978a47"
      },
      "execution_count": 6,
      "outputs": [
        {
          "output_type": "stream",
          "name": "stdout",
          "text": [
            "cuda\n"
          ]
        }
      ]
    },
    {
      "cell_type": "markdown",
      "source": [
        "## Loading the Dataset (20% for the Pizza/Steak/Sushi Dataset)"
      ],
      "metadata": {
        "id": "sIzI0dK9kfFw"
      }
    },
    {
      "cell_type": "code",
      "source": [
        "# The function for Downloading a `zip` formated Dataset:\n",
        "def download_data(source: str, destination: str, remove_source: bool=True):\n",
        "    import requests\n",
        "    import zipfile\n",
        "    from pathlib import Path\n",
        "    from os import remove\n",
        "\n",
        "\n",
        "    # Setting the path in which the Dataset is going to be saved\n",
        "    dataset_path = Path(destination)\n",
        "\n",
        "    if dataset_path.is_dir():\n",
        "        print(f\"[INFO] {dataset_path} already exists, skipping download...\")\n",
        "    else:\n",
        "        print(f\"[INFO] {dataset_path} doesn't exists, creating one...\")\n",
        "\n",
        "        dataset_path.mkdir(parents=True, exist_ok=True)\n",
        "\n",
        "        # Getting the name of the Dataset\n",
        "        target_file = Path(destination).name\n",
        "\n",
        "        with open(destination + '/' + target_file, \"wb\") as f:\n",
        "            # Getting the raw Dataset from `github`\n",
        "            req = requests.get(source)\n",
        "            \n",
        "            print(f\"[INFO] Downloading {target_file} from {source}...\")\n",
        "            \n",
        "            f.write(req.content)\n",
        "\n",
        "        with zipfile.ZipFile(destination + '/' + target_file, \"r\") as zip_ref:\n",
        "            print(f\"[INFO] Unzipping {target_file}...\")\n",
        "            \n",
        "            # Extracting `zip_ref` to `dataset_path`\n",
        "            zip_ref.extractall(dataset_path)\n",
        "\n",
        "        # Deletting the `zip` file\n",
        "        if remove_source:\n",
        "            remove(destination + '/' + target_file)\n",
        "\n",
        "        print(f\"[INFO] Dataset Succesfully Downloaded in {dataset_path}\")\n",
        "\n",
        "    return dataset_path"
      ],
      "metadata": {
        "id": "0cSS-idEkgje"
      },
      "execution_count": 7,
      "outputs": []
    },
    {
      "cell_type": "code",
      "source": [
        "dataset_path = download_data(source=\"https://github.com/mrdbourke/pytorch-deep-learning/raw/main/data/pizza_steak_sushi_20_percent.zip\",\n",
        "                        destination=\"/content/data/pizza_steak_sushi_20_percent\")\n",
        "\n",
        "print(dataset_path)"
      ],
      "metadata": {
        "colab": {
          "base_uri": "https://localhost:8080/"
        },
        "id": "mhXNRu0rlGsp",
        "outputId": "e324553b-c876-4b0b-dd5d-c0a2c03aa662"
      },
      "execution_count": 8,
      "outputs": [
        {
          "output_type": "stream",
          "name": "stdout",
          "text": [
            "[INFO] /content/data/pizza_steak_sushi_20_percent doesn't exists, creating one...\n",
            "[INFO] Downloading pizza_steak_sushi_20_percent from https://github.com/mrdbourke/pytorch-deep-learning/raw/main/data/pizza_steak_sushi_20_percent.zip...\n",
            "[INFO] Unzipping pizza_steak_sushi_20_percent...\n",
            "[INFO] Dataset Succesfully Downloaded in /content/data/pizza_steak_sushi_20_percent\n",
            "/content/data/pizza_steak_sushi_20_percent\n"
          ]
        }
      ]
    },
    {
      "cell_type": "code",
      "source": [
        "# Setting the Training and Testing Paths\n",
        "train_path = dataset_path / \"train\"\n",
        "test_path = dataset_path / \"test\"\n",
        "\n",
        "print(train_path)\n",
        "print(test_path)"
      ],
      "metadata": {
        "colab": {
          "base_uri": "https://localhost:8080/"
        },
        "id": "1oQk1lRcmGmk",
        "outputId": "8454dd29-fc33-49f3-9ab2-bdc33c82f498"
      },
      "execution_count": 9,
      "outputs": [
        {
          "output_type": "stream",
          "name": "stdout",
          "text": [
            "/content/data/pizza_steak_sushi_20_percent/train\n",
            "/content/data/pizza_steak_sushi_20_percent/test\n"
          ]
        }
      ]
    },
    {
      "cell_type": "markdown",
      "source": [
        "## Creating the Models"
      ],
      "metadata": {
        "id": "mmRZ7im1m9UH"
      }
    },
    {
      "cell_type": "markdown",
      "source": [
        "### EfficientNetB2 Model"
      ],
      "metadata": {
        "id": "rr4yzI1znC5i"
      }
    },
    {
      "cell_type": "code",
      "source": [
        "# Getting the pre-trained Model's Parameters\n",
        "effnet_b2_weights = models.EfficientNet_B2_Weights.DEFAULT\n",
        "\n",
        "# Getting the Model's Transformations\n",
        "effnet_b2_transforms = effnet_b2_weights.transforms()\n",
        "\n",
        "# Setting up the pre-trained Model (and Moving it to Device)\n",
        "effnet_b2 = models.efficientnet_b2(weights=effnet_b2_weights).to(device)"
      ],
      "metadata": {
        "id": "UfEiu8aRmXhE",
        "colab": {
          "base_uri": "https://localhost:8080/",
          "height": 86,
          "referenced_widgets": [
            "060049bf26864f8a8c071bc2154ff651",
            "65e2eedfdf914896a9f49241d18cfa1a",
            "7f52734b8c764c938258ddcc9d26b7ee",
            "8c05c40926074c4eaafc935cf18e78ef",
            "2b0c6e990ffb4eee8d887efd76a31c3c",
            "5465646329d4454b973e29da10ad209d",
            "21e0c168af474140ab21dee4210001e9",
            "04cc01cd590e4df4946faa8db46ec18d",
            "1929521c31d04aa3b9b07d0a0099cf07",
            "16090720fd674aadb3c5af08fd0b1409",
            "9a3d2aba34ec4eef8a16bb037c965f21"
          ]
        },
        "outputId": "7fe14a50-ff47-45d5-fd41-b7e5522435be"
      },
      "execution_count": 10,
      "outputs": [
        {
          "output_type": "stream",
          "name": "stderr",
          "text": [
            "Downloading: \"https://download.pytorch.org/models/efficientnet_b2_rwightman-bcdf34b7.pth\" to /root/.cache/torch/hub/checkpoints/efficientnet_b2_rwightman-bcdf34b7.pth\n"
          ]
        },
        {
          "output_type": "display_data",
          "data": {
            "text/plain": [
              "  0%|          | 0.00/35.2M [00:00<?, ?B/s]"
            ],
            "application/vnd.jupyter.widget-view+json": {
              "version_major": 2,
              "version_minor": 0,
              "model_id": "060049bf26864f8a8c071bc2154ff651"
            }
          },
          "metadata": {}
        }
      ]
    },
    {
      "cell_type": "code",
      "source": [
        "# Freezing the Base Layers of the Model\n",
        "for param in effnet_b2.parameters():\n",
        "    param.requires_grad = False\n",
        "\n",
        "print(f\"Original Classifier: {effnet_b2.classifier}\")\n",
        "\n",
        "# Changing the `Classifier` Layer of the Model\n",
        "effnet_b2.classifier = nn.Sequential(\n",
        "    nn.Dropout(p=0.3, inplace=True), # Keeping the Dropout Layer as it is\n",
        "    nn.Linear(in_features=1408, out_features=3)\n",
        ")\n",
        "\n",
        "print(f\"Modified Classifier: {effnet_b2.classifier}\")"
      ],
      "metadata": {
        "colab": {
          "base_uri": "https://localhost:8080/"
        },
        "id": "G9fRgLlOnq7g",
        "outputId": "0f0a55b5-a0de-40f7-a5d1-bd5b47ada3c9"
      },
      "execution_count": 11,
      "outputs": [
        {
          "output_type": "stream",
          "name": "stdout",
          "text": [
            "Original Classifier: Sequential(\n",
            "  (0): Dropout(p=0.3, inplace=True)\n",
            "  (1): Linear(in_features=1408, out_features=1000, bias=True)\n",
            ")\n",
            "Modified Classifier: Sequential(\n",
            "  (0): Dropout(p=0.3, inplace=True)\n",
            "  (1): Linear(in_features=1408, out_features=3, bias=True)\n",
            ")\n"
          ]
        }
      ]
    },
    {
      "cell_type": "markdown",
      "source": [
        "#### Creating a Function to Construct the EffNetB2 Model"
      ],
      "metadata": {
        "id": "aopXRQPqoylH"
      }
    },
    {
      "cell_type": "code",
      "source": [
        "def create_effnetb2(device, num_classes):\n",
        "    effnet_b2_weights = models.EfficientNet_B2_Weights.DEFAULT\n",
        "    effnet_b2_transforms = effnet_b2_weights.transforms()\n",
        "\n",
        "    effnet_b2 = models.efficientnet_b2(weights=effnet_b2_weights).to(device)\n",
        "\n",
        "    for param in effnet_b2.parameters():\n",
        "        param.requires_grad = False\n",
        "\n",
        "    effnet_b2.classifier = nn.Sequential(\n",
        "        nn.Dropout(p=0.3, inplace=True),\n",
        "        nn.Linear(in_features=1408, out_features=num_classes)\n",
        "    ).to(device)\n",
        "\n",
        "    return effnet_b2, effnet_b2_transforms"
      ],
      "metadata": {
        "id": "iHW3OadPo3ts"
      },
      "execution_count": 12,
      "outputs": []
    },
    {
      "cell_type": "markdown",
      "source": [
        "#### Initalizing the Model"
      ],
      "metadata": {
        "id": "bL6FCwIapdeA"
      }
    },
    {
      "cell_type": "code",
      "source": [
        "effnet_b2, effnet_b2_transforms = create_effnetb2(device, 3)\n",
        "\n",
        "summary(effnet_b2,\n",
        "        input_size=(1, 3, 224, 224),\n",
        "        col_names=[\"input_size\", \"output_size\", \"num_params\", \"trainable\"],\n",
        "        col_width=20,\n",
        "        row_settings=[\"var_names\"])"
      ],
      "metadata": {
        "colab": {
          "base_uri": "https://localhost:8080/"
        },
        "id": "wPfhMQ1OpXbU",
        "outputId": "486b4292-1518-4c3f-a1f3-c5be29a020ea"
      },
      "execution_count": 13,
      "outputs": [
        {
          "output_type": "execute_result",
          "data": {
            "text/plain": [
              "============================================================================================================================================\n",
              "Layer (type (var_name))                                      Input Shape          Output Shape         Param #              Trainable\n",
              "============================================================================================================================================\n",
              "EfficientNet (EfficientNet)                                  [1, 3, 224, 224]     [1, 3]               --                   Partial\n",
              "├─Sequential (features)                                      [1, 3, 224, 224]     [1, 1408, 7, 7]      --                   False\n",
              "│    └─Conv2dNormActivation (0)                              [1, 3, 224, 224]     [1, 32, 112, 112]    --                   False\n",
              "│    │    └─Conv2d (0)                                       [1, 3, 224, 224]     [1, 32, 112, 112]    (864)                False\n",
              "│    │    └─BatchNorm2d (1)                                  [1, 32, 112, 112]    [1, 32, 112, 112]    (64)                 False\n",
              "│    │    └─SiLU (2)                                         [1, 32, 112, 112]    [1, 32, 112, 112]    --                   --\n",
              "│    └─Sequential (1)                                        [1, 32, 112, 112]    [1, 16, 112, 112]    --                   False\n",
              "│    │    └─MBConv (0)                                       [1, 32, 112, 112]    [1, 16, 112, 112]    (1,448)              False\n",
              "│    │    └─MBConv (1)                                       [1, 16, 112, 112]    [1, 16, 112, 112]    (612)                False\n",
              "│    └─Sequential (2)                                        [1, 16, 112, 112]    [1, 24, 56, 56]      --                   False\n",
              "│    │    └─MBConv (0)                                       [1, 16, 112, 112]    [1, 24, 56, 56]      (6,004)              False\n",
              "│    │    └─MBConv (1)                                       [1, 24, 56, 56]      [1, 24, 56, 56]      (10,710)             False\n",
              "│    │    └─MBConv (2)                                       [1, 24, 56, 56]      [1, 24, 56, 56]      (10,710)             False\n",
              "│    └─Sequential (3)                                        [1, 24, 56, 56]      [1, 48, 28, 28]      --                   False\n",
              "│    │    └─MBConv (0)                                       [1, 24, 56, 56]      [1, 48, 28, 28]      (16,518)             False\n",
              "│    │    └─MBConv (1)                                       [1, 48, 28, 28]      [1, 48, 28, 28]      (43,308)             False\n",
              "│    │    └─MBConv (2)                                       [1, 48, 28, 28]      [1, 48, 28, 28]      (43,308)             False\n",
              "│    └─Sequential (4)                                        [1, 48, 28, 28]      [1, 88, 14, 14]      --                   False\n",
              "│    │    └─MBConv (0)                                       [1, 48, 28, 28]      [1, 88, 14, 14]      (50,300)             False\n",
              "│    │    └─MBConv (1)                                       [1, 88, 14, 14]      [1, 88, 14, 14]      (123,750)            False\n",
              "│    │    └─MBConv (2)                                       [1, 88, 14, 14]      [1, 88, 14, 14]      (123,750)            False\n",
              "│    │    └─MBConv (3)                                       [1, 88, 14, 14]      [1, 88, 14, 14]      (123,750)            False\n",
              "│    └─Sequential (5)                                        [1, 88, 14, 14]      [1, 120, 14, 14]     --                   False\n",
              "│    │    └─MBConv (0)                                       [1, 88, 14, 14]      [1, 120, 14, 14]     (149,158)            False\n",
              "│    │    └─MBConv (1)                                       [1, 120, 14, 14]     [1, 120, 14, 14]     (237,870)            False\n",
              "│    │    └─MBConv (2)                                       [1, 120, 14, 14]     [1, 120, 14, 14]     (237,870)            False\n",
              "│    │    └─MBConv (3)                                       [1, 120, 14, 14]     [1, 120, 14, 14]     (237,870)            False\n",
              "│    └─Sequential (6)                                        [1, 120, 14, 14]     [1, 208, 7, 7]       --                   False\n",
              "│    │    └─MBConv (0)                                       [1, 120, 14, 14]     [1, 208, 7, 7]       (301,406)            False\n",
              "│    │    └─MBConv (1)                                       [1, 208, 7, 7]       [1, 208, 7, 7]       (686,868)            False\n",
              "│    │    └─MBConv (2)                                       [1, 208, 7, 7]       [1, 208, 7, 7]       (686,868)            False\n",
              "│    │    └─MBConv (3)                                       [1, 208, 7, 7]       [1, 208, 7, 7]       (686,868)            False\n",
              "│    │    └─MBConv (4)                                       [1, 208, 7, 7]       [1, 208, 7, 7]       (686,868)            False\n",
              "│    └─Sequential (7)                                        [1, 208, 7, 7]       [1, 352, 7, 7]       --                   False\n",
              "│    │    └─MBConv (0)                                       [1, 208, 7, 7]       [1, 352, 7, 7]       (846,900)            False\n",
              "│    │    └─MBConv (1)                                       [1, 352, 7, 7]       [1, 352, 7, 7]       (1,888,920)          False\n",
              "│    └─Conv2dNormActivation (8)                              [1, 352, 7, 7]       [1, 1408, 7, 7]      --                   False\n",
              "│    │    └─Conv2d (0)                                       [1, 352, 7, 7]       [1, 1408, 7, 7]      (495,616)            False\n",
              "│    │    └─BatchNorm2d (1)                                  [1, 1408, 7, 7]      [1, 1408, 7, 7]      (2,816)              False\n",
              "│    │    └─SiLU (2)                                         [1, 1408, 7, 7]      [1, 1408, 7, 7]      --                   --\n",
              "├─AdaptiveAvgPool2d (avgpool)                                [1, 1408, 7, 7]      [1, 1408, 1, 1]      --                   --\n",
              "├─Sequential (classifier)                                    [1, 1408]            [1, 3]               --                   True\n",
              "│    └─Dropout (0)                                           [1, 1408]            [1, 1408]            --                   --\n",
              "│    └─Linear (1)                                            [1, 1408]            [1, 3]               4,227                True\n",
              "============================================================================================================================================\n",
              "Total params: 7,705,221\n",
              "Trainable params: 4,227\n",
              "Non-trainable params: 7,700,994\n",
              "Total mult-adds (M): 657.64\n",
              "============================================================================================================================================\n",
              "Input size (MB): 0.60\n",
              "Forward/backward pass size (MB): 156.80\n",
              "Params size (MB): 30.82\n",
              "Estimated Total Size (MB): 188.22\n",
              "============================================================================================================================================"
            ]
          },
          "metadata": {},
          "execution_count": 13
        }
      ]
    },
    {
      "cell_type": "markdown",
      "source": [
        "#### Creating Model's Data Loaders"
      ],
      "metadata": {
        "id": "V9Cr0XUipvzX"
      }
    },
    {
      "cell_type": "code",
      "source": [
        "train_dl_effnet_b2, test_dl_effnet_b2, class_names = data_setup.create_dataloaders(train_dir=train_path,\n",
        "                                                                                   test_dir=test_path,\n",
        "                                                                                   train_transform=effnet_b2_transforms,\n",
        "                                                                                   test_transform=effnet_b2_transforms,\n",
        "                                                                                   batch_size=32)\n",
        "print(len(train_dl_effnet_b2), len(test_dl_effnet_b2))\n",
        "print(class_names)"
      ],
      "metadata": {
        "colab": {
          "base_uri": "https://localhost:8080/"
        },
        "id": "MEvamRVQpyoD",
        "outputId": "cbea072b-3d2f-44d4-ad43-5de5307928e0"
      },
      "execution_count": 14,
      "outputs": [
        {
          "output_type": "stream",
          "name": "stdout",
          "text": [
            "15 5\n",
            "['pizza', 'steak', 'sushi']\n"
          ]
        }
      ]
    },
    {
      "cell_type": "markdown",
      "source": [
        "#### Training the Model\n"
      ],
      "metadata": {
        "id": "kxFIoxlyqTk9"
      }
    },
    {
      "cell_type": "code",
      "source": [
        "# Setting Optimizer and Loss Function\n",
        "effnet_b2_optim = optim.Adam(params=effnet_b2.parameters(), lr=1e-3)\n",
        "effnet_b2_loss_fn = nn.CrossEntropyLoss()\n",
        "\n",
        "effnet_b2_results = engine.fit(model=effnet_b2,\n",
        "                               epochs=5,\n",
        "                               train_dl=train_dl_effnet_b2,\n",
        "                               valid_dl=test_dl_effnet_b2,\n",
        "                               loss_fn=effnet_b2_loss_fn,\n",
        "                               eval_metric=engine.accuracy_fn,\n",
        "                               optim=effnet_b2_optim)"
      ],
      "metadata": {
        "colab": {
          "base_uri": "https://localhost:8080/",
          "height": 257,
          "referenced_widgets": [
            "63204662350e402e958d03058f309f13",
            "9785459193d94257a704fc6916b2ed80",
            "ad8562065dbb4a478934c142c4e3a1b9",
            "9255ad3cf5e7424cae440a2363599f9c",
            "e86b64722d5a496aacbb4df5af6eb48b",
            "f8ee161b1d30477eb5cd7c5c92b17aeb",
            "59b2f5564e3e4774ab85b10f3ea30e61",
            "4c7c79117de241f79f9d455d074d9d1f",
            "4d62fdc1330e4dd2b1ab868167cbacec",
            "8cf3d51563ed4f488123a937b3b3313f",
            "74497ad75882443487a135779be8d7b1"
          ]
        },
        "id": "hVWg43YmqWz2",
        "outputId": "3aaa688b-2e03-4e99-8a53-97e2bef2492b"
      },
      "execution_count": 15,
      "outputs": [
        {
          "output_type": "stream",
          "name": "stdout",
          "text": [
            "Starting Process...\n"
          ]
        },
        {
          "output_type": "display_data",
          "data": {
            "text/plain": [
              "  0%|          | 0/5 [00:00<?, ?it/s]"
            ],
            "application/vnd.jupyter.widget-view+json": {
              "version_major": 2,
              "version_minor": 0,
              "model_id": "63204662350e402e958d03058f309f13"
            }
          },
          "metadata": {}
        },
        {
          "output_type": "stream",
          "name": "stdout",
          "text": [
            "-> Epoch: 1 | Train Loss: 0.9858 | Train Accuracy: 50.83% | Test Loss: 0.7429 | Test Evaluation (%): 92.84%\n",
            "-----------------------------------------------------------------------------------------------------------\n",
            "-> Epoch: 2 | Train Loss: 0.7181 | Train Accuracy: 82.92% | Test Loss: 0.6038 | Test Evaluation (%): 94.09%\n",
            "-----------------------------------------------------------------------------------------------------------\n",
            "-> Epoch: 3 | Train Loss: 0.5449 | Train Accuracy: 90.42% | Test Loss: 0.5161 | Test Evaluation (%): 94.43%\n",
            "-----------------------------------------------------------------------------------------------------------\n",
            "-> Epoch: 4 | Train Loss: 0.5267 | Train Accuracy: 84.58% | Test Loss: 0.4359 | Test Evaluation (%): 95.34%\n",
            "-----------------------------------------------------------------------------------------------------------\n",
            "-> Epoch: 5 | Train Loss: 0.4248 | Train Accuracy: 89.79% | Test Loss: 0.3978 | Test Evaluation (%): 93.81%\n",
            "-----------------------------------------------------------------------------------------------------------\n",
            "Process Completed Successfully...\n"
          ]
        }
      ]
    },
    {
      "cell_type": "markdown",
      "source": [
        "####  Inspecting Model's Loss Curves"
      ],
      "metadata": {
        "id": "u7axdhXgr5Qr"
      }
    },
    {
      "cell_type": "code",
      "source": [
        "# We will use the function:\n",
        "def plot_loss_curve(model_res):\n",
        "    plt.figure(figsize=(6, 4))\n",
        "    \n",
        "    plt.plot(range(model_res[\"model_epochs\"]), model_res[\"model_valid_loss\"], c='g', label=\"Test Loss\")\n",
        "    plt.plot(range(model_res[\"model_epochs\"]), model_res[\"model_train_loss\"], c='b', label=\"Train Loss\")\n",
        "    plt.xlabel(\"Epochs\")\n",
        "    plt.ylabel(\"Loss\")\n",
        "    plt.title(f\"Loss Curves: {model_res['model_name']}\", fontsize=14)\n",
        "    plt.legend(fontsize=11)"
      ],
      "metadata": {
        "id": "RfCKYXV-r9l-"
      },
      "execution_count": 16,
      "outputs": []
    },
    {
      "cell_type": "code",
      "source": [
        "plot_loss_curve(effnet_b2_results)"
      ],
      "metadata": {
        "colab": {
          "base_uri": "https://localhost:8080/",
          "height": 296
        },
        "id": "__8A3qE_sHOL",
        "outputId": "f8e02a30-84cb-4e7f-9bc5-0a51847d7e8d"
      },
      "execution_count": 17,
      "outputs": [
        {
          "output_type": "display_data",
          "data": {
            "text/plain": [
              "<Figure size 432x288 with 1 Axes>"
            ],
            "image/png": "[encoded data removed]"
          },
          "metadata": {
            "needs_background": "light"
          }
        }
      ]
    },
    {
      "cell_type": "markdown",
      "source": [
        "#### Saving the Model"
      ],
      "metadata": {
        "id": "s2rBndfosjxw"
      }
    },
    {
      "cell_type": "code",
      "source": [
        "utils.save_model(model=effnet_b2,\n",
        "                 target_dir=\"/content/models\",\n",
        "                 model_name=\"EffNetB2.pth\")"
      ],
      "metadata": {
        "colab": {
          "base_uri": "https://localhost:8080/"
        },
        "id": "wpUsXgYPspG-",
        "outputId": "8d902d59-dff2-4d1d-8f1c-7fa7ffc2fa56"
      },
      "execution_count": 18,
      "outputs": [
        {
          "output_type": "stream",
          "name": "stdout",
          "text": [
            "Saving Model to: /content/models/EffNetB2.pth\n",
            "Model Successfully Saved to: /content/models/EffNetB2.pth\n"
          ]
        }
      ]
    },
    {
      "cell_type": "markdown",
      "source": [
        "#### Creating the EffNetB2 Feature Extractor"
      ],
      "metadata": {
        "id": "6DY03NOYv_MS"
      }
    },
    {
      "cell_type": "code",
      "source": [
        "# Getting the Size (in bytes) of the Model and Convert it to `MB`\n",
        "effnet_b2_size = Path(\"/content/models/EffNetB2.pth\").stat().st_size // (1024*1024)\n",
        "\n",
        "# Getting the Total Parameters of the Model\n",
        "effnet_b2_num_params = sum(param.numel() for param in effnet_b2.parameters())\n",
        "\n",
        "# Create a Dictionary with the Model's Statistics\n",
        "effnet_b2_stats = {\"model\": \"EffNetB2\",\n",
        "                   \"test_loss\": effnet_b2_results[\"model_valid_loss\"][-1],\n",
        "                  \"test_acc (%)\": effnet_b2_results[\"model_valid_eval\"][-1],\n",
        "                  \"number_of_parameters\": effnet_b2_num_params,\n",
        "                  \"model_size (MB)\": effnet_b2_size}\n",
        "\n",
        "print(effnet_b2_stats)"
      ],
      "metadata": {
        "colab": {
          "base_uri": "https://localhost:8080/"
        },
        "id": "2-Iq88-owLIg",
        "outputId": "a4c08bd4-9256-4bce-e4ab-795c5ad08916"
      },
      "execution_count": 19,
      "outputs": [
        {
          "output_type": "stream",
          "name": "stdout",
          "text": [
            "{'model': 'EffNetB2', 'test_loss': 0.3977665066719055, 'test_acc (%)': 93.80681818181817, 'number_of_parameters': 7705221, 'model_size (MB)': 29}\n"
          ]
        }
      ]
    },
    {
      "cell_type": "markdown",
      "source": [
        "### ViT Model"
      ],
      "metadata": {
        "id": "axO-VANAtO6f"
      }
    },
    {
      "cell_type": "markdown",
      "source": [
        "#### Creating a Function to Construct the Model"
      ],
      "metadata": {
        "id": "EvfXdVQUtXAH"
      }
    },
    {
      "cell_type": "code",
      "source": [
        "def create_vit_model(device, num_classes):\n",
        "    vit_weights = models.ViT_B_16_Weights.DEFAULT\n",
        "    vit_transforms = vit_weights.transforms()\n",
        "\n",
        "    vit = models.vit_b_16(weights=vit_weights).to(device)\n",
        "\n",
        "    for param in vit.parameters():\n",
        "        param.requires_grad = False\n",
        "\n",
        "    vit.heads = nn.Sequential(\n",
        "        nn.Linear(in_features=768,\n",
        "                  out_features=num_classes)\n",
        "    ).to(device)\n",
        "\n",
        "    return vit, vit_transforms"
      ],
      "metadata": {
        "id": "Jphe-lQ7s4Ag"
      },
      "execution_count": 20,
      "outputs": []
    },
    {
      "cell_type": "markdown",
      "source": [
        "#### Initializing the Model"
      ],
      "metadata": {
        "id": "164-tHFTuTIk"
      }
    },
    {
      "cell_type": "code",
      "source": [
        "vit, vit_transforms = create_vit_model(device, 3)\n",
        "\n",
        "summary(vit,\n",
        "        input_size=(1, 3, 224, 224),\n",
        "        col_names=[\"input_size\", \"output_size\", \"num_params\", \"trainable\"],\n",
        "        col_width=20,\n",
        "        row_settings=[\"var_names\"])"
      ],
      "metadata": {
        "colab": {
          "base_uri": "https://localhost:8080/",
          "height": 657,
          "referenced_widgets": [
            "c2e277ea81c442ad85d22f56e069e781",
            "4b3960824c7e4fa09802de2340d12b80",
            "c50a80862f0c4db594ad6a1689468a84",
            "737f3e1e096e47d1af34857fb6be3176",
            "d852d69918174aceb3326a6abf05fcfc",
            "8f37356ca79c41488e81f6091cc74aa6",
            "19bf1a92099b413cb142d1841a1fae69",
            "dc8284c643524dd78d517427ee756df0",
            "6704871f90dd43ffb461ca5787b446b3",
            "c77060ed67fd446ea376eb911afefedd",
            "92ba1b24bb874d4a9fe4a94573d20093"
          ]
        },
        "id": "vvyOd2eMuUZE",
        "outputId": "da458493-dd1f-47d8-b585-3c92d39d6cf7"
      },
      "execution_count": 21,
      "outputs": [
        {
          "output_type": "stream",
          "name": "stderr",
          "text": [
            "Downloading: \"https://download.pytorch.org/models/vit_b_16-c867db91.pth\" to /root/.cache/torch/hub/checkpoints/vit_b_16-c867db91.pth\n"
          ]
        },
        {
          "output_type": "display_data",
          "data": {
            "text/plain": [
              "  0%|          | 0.00/330M [00:00<?, ?B/s]"
            ],
            "application/vnd.jupyter.widget-view+json": {
              "version_major": 2,
              "version_minor": 0,
              "model_id": "c2e277ea81c442ad85d22f56e069e781"
            }
          },
          "metadata": {}
        },
        {
          "output_type": "execute_result",
          "data": {
            "text/plain": [
              "============================================================================================================================================\n",
              "Layer (type (var_name))                                      Input Shape          Output Shape         Param #              Trainable\n",
              "============================================================================================================================================\n",
              "VisionTransformer (VisionTransformer)                        [1, 3, 224, 224]     [1, 3]               768                  Partial\n",
              "├─Conv2d (conv_proj)                                         [1, 3, 224, 224]     [1, 768, 14, 14]     (590,592)            False\n",
              "├─Encoder (encoder)                                          [1, 197, 768]        [1, 197, 768]        151,296              False\n",
              "│    └─Dropout (dropout)                                     [1, 197, 768]        [1, 197, 768]        --                   --\n",
              "│    └─Sequential (layers)                                   [1, 197, 768]        [1, 197, 768]        --                   False\n",
              "│    │    └─EncoderBlock (encoder_layer_0)                   [1, 197, 768]        [1, 197, 768]        (7,087,872)          False\n",
              "│    │    └─EncoderBlock (encoder_layer_1)                   [1, 197, 768]        [1, 197, 768]        (7,087,872)          False\n",
              "│    │    └─EncoderBlock (encoder_layer_2)                   [1, 197, 768]        [1, 197, 768]        (7,087,872)          False\n",
              "│    │    └─EncoderBlock (encoder_layer_3)                   [1, 197, 768]        [1, 197, 768]        (7,087,872)          False\n",
              "│    │    └─EncoderBlock (encoder_layer_4)                   [1, 197, 768]        [1, 197, 768]        (7,087,872)          False\n",
              "│    │    └─EncoderBlock (encoder_layer_5)                   [1, 197, 768]        [1, 197, 768]        (7,087,872)          False\n",
              "│    │    └─EncoderBlock (encoder_layer_6)                   [1, 197, 768]        [1, 197, 768]        (7,087,872)          False\n",
              "│    │    └─EncoderBlock (encoder_layer_7)                   [1, 197, 768]        [1, 197, 768]        (7,087,872)          False\n",
              "│    │    └─EncoderBlock (encoder_layer_8)                   [1, 197, 768]        [1, 197, 768]        (7,087,872)          False\n",
              "│    │    └─EncoderBlock (encoder_layer_9)                   [1, 197, 768]        [1, 197, 768]        (7,087,872)          False\n",
              "│    │    └─EncoderBlock (encoder_layer_10)                  [1, 197, 768]        [1, 197, 768]        (7,087,872)          False\n",
              "│    │    └─EncoderBlock (encoder_layer_11)                  [1, 197, 768]        [1, 197, 768]        (7,087,872)          False\n",
              "│    └─LayerNorm (ln)                                        [1, 197, 768]        [1, 197, 768]        (1,536)              False\n",
              "├─Sequential (heads)                                         [1, 768]             [1, 3]               --                   True\n",
              "│    └─Linear (0)                                            [1, 768]             [1, 3]               2,307                True\n",
              "============================================================================================================================================\n",
              "Total params: 85,800,963\n",
              "Trainable params: 2,307\n",
              "Non-trainable params: 85,798,656\n",
              "Total mult-adds (M): 172.47\n",
              "============================================================================================================================================\n",
              "Input size (MB): 0.60\n",
              "Forward/backward pass size (MB): 104.09\n",
              "Params size (MB): 229.20\n",
              "Estimated Total Size (MB): 333.89\n",
              "============================================================================================================================================"
            ]
          },
          "metadata": {},
          "execution_count": 21
        }
      ]
    },
    {
      "cell_type": "markdown",
      "source": [
        "#### Creating Model's Data Loaders"
      ],
      "metadata": {
        "id": "dTsq7ggUukAc"
      }
    },
    {
      "cell_type": "code",
      "source": [
        "train_dl_vit, tets_dl_vit, class_names = data_setup.create_dataloaders(train_dir=train_path,\n",
        "                                                                       test_dir=test_path,\n",
        "                                                                       train_transform=vit_transforms,\n",
        "                                                                       test_transform=vit_transforms,\n",
        "                                                                       batch_size=32)"
      ],
      "metadata": {
        "id": "BATPp9PnumXP"
      },
      "execution_count": 22,
      "outputs": []
    },
    {
      "cell_type": "markdown",
      "source": [
        "#### Training the Model"
      ],
      "metadata": {
        "id": "HC7wvU2xu8kT"
      }
    },
    {
      "cell_type": "code",
      "source": [
        "# Setting Optimizer and Loss Function\n",
        "vit_optim = optim.Adam(params=vit.parameters(), lr=1e-3)\n",
        "vit_loss_fn = nn.CrossEntropyLoss()\n",
        "\n",
        "vit_results = engine.fit(model=vit,\n",
        "                         epochs=5,\n",
        "                         train_dl=train_dl_vit,\n",
        "                         valid_dl=tets_dl_vit,\n",
        "                         loss_fn=vit_loss_fn,\n",
        "                         eval_metric=engine.accuracy_fn,\n",
        "                         optim=vit_optim)"
      ],
      "metadata": {
        "colab": {
          "base_uri": "https://localhost:8080/",
          "height": 257,
          "referenced_widgets": [
            "920cc0517d10427db4ab4f8888749473",
            "9852873cc51c4c0891bf04696d817154",
            "337379d13a1046ce92afbc9f33a88822",
            "b0c45ed173d148ed8e7e3e29d0ee23be",
            "94f8ba5f1517465cbfdad74b284e614c",
            "6c4684820c244d23aece013aba121b3c",
            "8d79e2c95cd443beb3635969cec06f7d",
            "19168f5b7c0742ee99b3fd4a40033e6f",
            "cdad5658d3b7414187712ac6a1305a61",
            "4ced7147fb574be89523bb30606a171b",
            "cb70859bfcec49f5b382b7c2922a68d5"
          ]
        },
        "id": "CWVDRoo_u94D",
        "outputId": "d4fc7f87-1ecb-4aeb-8c5d-39eab2dff5d8"
      },
      "execution_count": 23,
      "outputs": [
        {
          "output_type": "stream",
          "name": "stdout",
          "text": [
            "Starting Process...\n"
          ]
        },
        {
          "output_type": "display_data",
          "data": {
            "text/plain": [
              "  0%|          | 0/5 [00:00<?, ?it/s]"
            ],
            "application/vnd.jupyter.widget-view+json": {
              "version_major": 2,
              "version_minor": 0,
              "model_id": "920cc0517d10427db4ab4f8888749473"
            }
          },
          "metadata": {}
        },
        {
          "output_type": "stream",
          "name": "stdout",
          "text": [
            "-> Epoch: 1 | Train Loss: 0.6181 | Train Accuracy: 79.17% | Test Loss: 0.2502 | Test Evaluation (%): 96.59%\n",
            "-----------------------------------------------------------------------------------------------------------\n",
            "-> Epoch: 2 | Train Loss: 0.2109 | Train Accuracy: 94.79% | Test Loss: 0.1266 | Test Evaluation (%): 97.22%\n",
            "-----------------------------------------------------------------------------------------------------------\n",
            "-> Epoch: 3 | Train Loss: 0.1514 | Train Accuracy: 95.62% | Test Loss: 0.0977 | Test Evaluation (%): 98.12%\n",
            "-----------------------------------------------------------------------------------------------------------\n",
            "-> Epoch: 4 | Train Loss: 0.1400 | Train Accuracy: 96.88% | Test Loss: 0.0857 | Test Evaluation (%): 97.84%\n",
            "-----------------------------------------------------------------------------------------------------------\n",
            "-> Epoch: 5 | Train Loss: 0.0995 | Train Accuracy: 96.88% | Test Loss: 0.0738 | Test Evaluation (%): 98.75%\n",
            "-----------------------------------------------------------------------------------------------------------\n",
            "Process Completed Successfully...\n"
          ]
        }
      ]
    },
    {
      "cell_type": "markdown",
      "source": [
        "#### Inspecting ViT Loss Curves"
      ],
      "metadata": {
        "id": "GjonbSxtvbfS"
      }
    },
    {
      "cell_type": "code",
      "source": [
        "plot_loss_curve(vit_results)"
      ],
      "metadata": {
        "colab": {
          "base_uri": "https://localhost:8080/",
          "height": 296
        },
        "id": "sacPPDqOvYkz",
        "outputId": "dd30a162-8e25-4cf4-c868-c8a0dc729572"
      },
      "execution_count": 24,
      "outputs": [
        {
          "output_type": "display_data",
          "data": {
            "text/plain": [
              "<Figure size 432x288 with 1 Axes>"
            ],
            "image/png": "[encoded data removed]"
          },
          "metadata": {
            "needs_background": "light"
          }
        }
      ]
    },
    {
      "cell_type": "markdown",
      "source": [
        "#### Saving the Model"
      ],
      "metadata": {
        "id": "hhIQ1qlNvimh"
      }
    },
    {
      "cell_type": "code",
      "source": [
        "utils.save_model(model=vit,\n",
        "                 target_dir=\"/content/models\",\n",
        "                 model_name=\"ViT.pth\")"
      ],
      "metadata": {
        "colab": {
          "base_uri": "https://localhost:8080/"
        },
        "id": "nU11XDLtvkI0",
        "outputId": "b8a52e3b-3358-442f-cfe7-c3e0605d58e7"
      },
      "execution_count": 25,
      "outputs": [
        {
          "output_type": "stream",
          "name": "stdout",
          "text": [
            "Saving Model to: /content/models/ViT.pth\n",
            "Model Successfully Saved to: /content/models/ViT.pth\n"
          ]
        }
      ]
    },
    {
      "cell_type": "markdown",
      "source": [
        "#### Creating the ViT Feature Extractor"
      ],
      "metadata": {
        "id": "GX6lALhryDud"
      }
    },
    {
      "cell_type": "code",
      "source": [
        "vit_size = Path(\"/content/models/ViT.pth\").stat().st_size // (1024*1024)\n",
        "vit_num_params = sum(param.numel() for param in vit.parameters())\n",
        "\n",
        "# Create a Dictionary with the Model's Statistics\n",
        "vit_stats = {\"model\": \"ViT\",\n",
        "             \"test_loss\": vit_results[\"model_valid_loss\"][-1],\n",
        "             \"test_acc (%)\": vit_results[\"model_valid_eval\"][-1],\n",
        "             \"number_of_parameters\": vit_num_params,\n",
        "             \"model_size (MB)\": vit_size}\n",
        "\n",
        "print(vit_stats)"
      ],
      "metadata": {
        "colab": {
          "base_uri": "https://localhost:8080/"
        },
        "id": "njWVHH4RyF66",
        "outputId": "76f76553-a9a1-477e-c484-6a9317c91644"
      },
      "execution_count": 26,
      "outputs": [
        {
          "output_type": "stream",
          "name": "stdout",
          "text": [
            "{'model': 'ViT', 'test_loss': 0.07384280823171138, 'test_acc (%)': 98.75, 'number_of_parameters': 85800963, 'model_size (MB)': 327}\n"
          ]
        }
      ]
    },
    {
      "cell_type": "markdown",
      "source": [
        "## Making Predictions with our Models and Timing them\n",
        "\n",
        "**Note**: We time the predictions one by one rather than by batch because when our Model is deployed, it will likely only be making a prediction on one image at a time. As in, someone takes a photo and our model predicts on that single image."
      ],
      "metadata": {
        "id": "fWq13gS-9J9q"
      }
    },
    {
      "cell_type": "markdown",
      "source": [
        "To do so, we'll use Python's `pathlib.Path(\"target_dir\").glob(\"*/*.jpg\"))` to find all of the filepaths in a target directory with the extension `.jpg`"
      ],
      "metadata": {
        "id": "F_XGcQwG9uFJ"
      }
    },
    {
      "cell_type": "code",
      "source": [
        "test_data_paths = list(test_path.glob(\"*/*.jpg\"))\n",
        "\n",
        "print(len(test_data_paths))\n",
        "print(test_data_paths[3], test_data_paths[9])"
      ],
      "metadata": {
        "colab": {
          "base_uri": "https://localhost:8080/"
        },
        "id": "OEMm9qgZ9SFj",
        "outputId": "07df26a8-0616-4554-b45f-0e2994bb6a18"
      },
      "execution_count": 27,
      "outputs": [
        {
          "output_type": "stream",
          "name": "stdout",
          "text": [
            "150\n",
            "/content/data/pizza_steak_sushi_20_percent/test/steak/1302563.jpg /content/data/pizza_steak_sushi_20_percent/test/steak/1972463.jpg\n"
          ]
        }
      ]
    },
    {
      "cell_type": "code",
      "source": [
        "def pred_and_store(model, paths_list, transform, class_names):\n",
        "    # Creating a List to store prediction Dictionaires\n",
        "    pred_list = []\n",
        "\n",
        "    for path in tqdm(paths_list):\n",
        "        # Creating a Dictionary to store the Model's Predicitons\n",
        "        pred_dict = {}\n",
        "\n",
        "        # Passing the Path and the Class name of the Image\n",
        "        pred_dict[\"image_path\"] = str(path)\n",
        "        pred_dict[\"class_name\"] = path.parent.stem\n",
        "\n",
        "        # Starting the timer\n",
        "        start = timer()\n",
        "\n",
        "        # Opening, Transforming and Moving the Image to Device\n",
        "        with Image.open(path) as img:\n",
        "            transformed_image = transform(img).unsqueeze(dim=0).to(next(model.parameters()).device)\n",
        "\n",
        "        # Making Predictions\n",
        "        model.eval()\n",
        "        with torch.inference_mode():\n",
        "            model_logits = model(transformed_image)\n",
        "            model_probs = torch.softmax(model_logits, dim=1)\n",
        "            model_label = model_probs.argmax(dim=1)\n",
        "            pred_class = class_names[model_label.cpu()]\n",
        "\n",
        "            # Adding Data to the Dictionary (round's second argument is the total decimal places)\n",
        "            pred_dict[\"pred_prob\"] = round(model_probs.max().cpu().item(), 4)\n",
        "            pred_dict[\"pred_class\"] = pred_class\n",
        "\n",
        "            # Ending the timer\n",
        "            pred_dict[\"time_for_pred\"] = round(timer() - start, 2)\n",
        "\n",
        "        # Storing if the Prediction is the Correct one\n",
        "        pred_dict[\"correct\"] = (pred_class == pred_dict[\"class_name\"])\n",
        "\n",
        "        # Adding the Prediction Dictionary to the List\n",
        "        pred_list.append(pred_dict)\n",
        "\n",
        "    # Return the List\n",
        "    return pred_list"
      ],
      "metadata": {
        "id": "5eVojT-t-DeD"
      },
      "execution_count": 28,
      "outputs": []
    },
    {
      "cell_type": "markdown",
      "source": [
        "### EffNetB2 Model"
      ],
      "metadata": {
        "id": "Kb5ycnGVDDVn"
      }
    },
    {
      "cell_type": "code",
      "source": [
        "# We will start with the EffNetB2 Model\n",
        "effnet_b2_test_dicts = pred_and_store(model=effnet_b2,\n",
        "                                      paths_list=test_data_paths,\n",
        "                                      transform=effnet_b2_transforms,\n",
        "                                      class_names=class_names)"
      ],
      "metadata": {
        "colab": {
          "base_uri": "https://localhost:8080/",
          "height": 49,
          "referenced_widgets": [
            "92ee7d389376421c81d42b790fcb4682",
            "2bd46146e2c14d1bbc437d61c5f38136",
            "77ef09837ca347f6a82ccee421d004be",
            "c8b5b6e742b34d82a64a48fb5686cd1b",
            "18e10e986773433d9c839d53f2ed16d4",
            "4870a0d6e5e24e4ba957b49f655cfd69",
            "5392721ab1df439087ffc62e753dc772",
            "839cb95ebe6d4b3db3edf93198d7e35b",
            "1521a8d470094a21acea5b9bb29d4fc8",
            "742c332be2ec45c686b293ab91e5d28a",
            "4b24fd623b774724b13b674ca0428094"
          ]
        },
        "id": "Z4eFQkCyBsTW",
        "outputId": "c6f136cb-9e3f-4776-e0d8-fa6224cb8d46"
      },
      "execution_count": 29,
      "outputs": [
        {
          "output_type": "display_data",
          "data": {
            "text/plain": [
              "  0%|          | 0/150 [00:00<?, ?it/s]"
            ],
            "application/vnd.jupyter.widget-view+json": {
              "version_major": 2,
              "version_minor": 0,
              "model_id": "92ee7d389376421c81d42b790fcb4682"
            }
          },
          "metadata": {}
        }
      ]
    },
    {
      "cell_type": "code",
      "source": [
        "# Printing some Results\n",
        "print(effnet_b2_test_dicts[3])\n",
        "print(effnet_b2_test_dicts[90])\n",
        "print(effnet_b2_test_dicts[120])"
      ],
      "metadata": {
        "colab": {
          "base_uri": "https://localhost:8080/"
        },
        "id": "6M7G6VtYChjb",
        "outputId": "c3fa3af4-93a2-4a4a-d3b6-6b8f9a974450"
      },
      "execution_count": 30,
      "outputs": [
        {
          "output_type": "stream",
          "name": "stdout",
          "text": [
            "{'image_path': '/content/data/pizza_steak_sushi_20_percent/test/steak/1302563.jpg', 'class_name': 'steak', 'pred_prob': 0.9554, 'pred_class': 'steak', 'time_for_pred': 0.03, 'correct': True}\n",
            "{'image_path': '/content/data/pizza_steak_sushi_20_percent/test/sushi/715227.jpg', 'class_name': 'sushi', 'pred_prob': 0.5274, 'pred_class': 'sushi', 'time_for_pred': 0.03, 'correct': True}\n",
            "{'image_path': '/content/data/pizza_steak_sushi_20_percent/test/pizza/771336.jpg', 'class_name': 'pizza', 'pred_prob': 0.809, 'pred_class': 'pizza', 'time_for_pred': 0.03, 'correct': True}\n"
          ]
        }
      ]
    },
    {
      "cell_type": "code",
      "source": [
        "# Turning the Results a Pandas DataFrame\n",
        "effnetb2_test_df = pd.DataFrame(effnet_b2_test_dicts)\n",
        "effnetb2_test_df.head(3)"
      ],
      "metadata": {
        "colab": {
          "base_uri": "https://localhost:8080/",
          "height": 143
        },
        "id": "IdfNlbFBC68O",
        "outputId": "391efb96-cf63-471e-940e-b1c88b1e2ba6"
      },
      "execution_count": 31,
      "outputs": [
        {
          "output_type": "execute_result",
          "data": {
            "text/plain": [
              "                                          image_path class_name  pred_prob  \\\n",
              "0  /content/data/pizza_steak_sushi_20_percent/tes...      steak     0.9308   \n",
              "1  /content/data/pizza_steak_sushi_20_percent/tes...      steak     0.8727   \n",
              "2  /content/data/pizza_steak_sushi_20_percent/tes...      steak     0.9111   \n",
              "\n",
              "  pred_class  time_for_pred  correct  \n",
              "0      steak           0.05     True  \n",
              "1      steak           0.02     True  \n",
              "2      steak           0.02     True  "
            ],
            "text/html": [
              "\n",
              "  <div id=\"df-556c7031-e9d4-4740-bcd1-3204065b3111\">\n",
              "    <div class=\"colab-df-container\">\n",
              "      <div>\n",
              "<style scoped>\n",
              "    .dataframe tbody tr th:only-of-type {\n",
              "        vertical-align: middle;\n",
              "    }\n",
              "\n",
              "    .dataframe tbody tr th {\n",
              "        vertical-align: top;\n",
              "    }\n",
              "\n",
              "    .dataframe thead th {\n",
              "        text-align: right;\n",
              "    }\n",
              "</style>\n",
              "<table border=\"1\" class=\"dataframe\">\n",
              "  <thead>\n",
              "    <tr style=\"text-align: right;\">\n",
              "      <th></th>\n",
              "      <th>image_path</th>\n",
              "      <th>class_name</th>\n",
              "      <th>pred_prob</th>\n",
              "      <th>pred_class</th>\n",
              "      <th>time_for_pred</th>\n",
              "      <th>correct</th>\n",
              "    </tr>\n",
              "  </thead>\n",
              "  <tbody>\n",
              "    <tr>\n",
              "      <th>0</th>\n",
              "      <td>/content/data/pizza_steak_sushi_20_percent/tes...</td>\n",
              "      <td>steak</td>\n",
              "      <td>0.9308</td>\n",
              "      <td>steak</td>\n",
              "      <td>0.05</td>\n",
              "      <td>True</td>\n",
              "    </tr>\n",
              "    <tr>\n",
              "      <th>1</th>\n",
              "      <td>/content/data/pizza_steak_sushi_20_percent/tes...</td>\n",
              "      <td>steak</td>\n",
              "      <td>0.8727</td>\n",
              "      <td>steak</td>\n",
              "      <td>0.02</td>\n",
              "      <td>True</td>\n",
              "    </tr>\n",
              "    <tr>\n",
              "      <th>2</th>\n",
              "      <td>/content/data/pizza_steak_sushi_20_percent/tes...</td>\n",
              "      <td>steak</td>\n",
              "      <td>0.9111</td>\n",
              "      <td>steak</td>\n",
              "      <td>0.02</td>\n",
              "      <td>True</td>\n",
              "    </tr>\n",
              "  </tbody>\n",
              "</table>\n",
              "</div>\n",
              "      <button class=\"colab-df-convert\" onclick=\"convertToInteractive('df-556c7031-e9d4-4740-bcd1-3204065b3111')\"\n",
              "              title=\"Convert this dataframe to an interactive table.\"\n",
              "              style=\"display:none;\">\n",
              "        \n",
              "  <svg xmlns=\"http://www.w3.org/2000/svg\" height=\"24px\"viewBox=\"0 0 24 24\"\n",
              "       width=\"24px\">\n",
              "    <path d=\"M0 0h24v24H0V0z\" fill=\"none\"/>\n",
              "    <path d=\"M18.56 5.44l.94 2.06.94-2.06 2.06-.94-2.06-.94-.94-2.06-.94 2.06-2.06.94zm-11 1L8.5 8.5l.94-2.06 2.06-.94-2.06-.94L8.5 2.5l-.94 2.06-2.06.94zm10 10l.94 2.06.94-2.06 2.06-.94-2.06-.94-.94-2.06-.94 2.06-2.06.94z\"/><path d=\"M17.41 7.96l-1.37-1.37c-.4-.4-.92-.59-1.43-.59-.52 0-1.04.2-1.43.59L10.3 9.45l-7.72 7.72c-.78.78-.78 2.05 0 2.83L4 21.41c.39.39.9.59 1.41.59.51 0 1.02-.2 1.41-.59l7.78-7.78 2.81-2.81c.8-.78.8-2.07 0-2.86zM5.41 20L4 18.59l7.72-7.72 1.47 1.35L5.41 20z\"/>\n",
              "  </svg>\n",
              "      </button>\n",
              "      \n",
              "  <style>\n",
              "    .colab-df-container {\n",
              "      display:flex;\n",
              "      flex-wrap:wrap;\n",
              "      gap: 12px;\n",
              "    }\n",
              "\n",
              "    .colab-df-convert {\n",
              "      background-color: #E8F0FE;\n",
              "      border: none;\n",
              "      border-radius: 50%;\n",
              "      cursor: pointer;\n",
              "      display: none;\n",
              "      fill: #1967D2;\n",
              "      height: 32px;\n",
              "      padding: 0 0 0 0;\n",
              "      width: 32px;\n",
              "    }\n",
              "\n",
              "    .colab-df-convert:hover {\n",
              "      background-color: #E2EBFA;\n",
              "      box-shadow: 0px 1px 2px rgba(60, 64, 67, 0.3), 0px 1px 3px 1px rgba(60, 64, 67, 0.15);\n",
              "      fill: #174EA6;\n",
              "    }\n",
              "\n",
              "    [theme=dark] .colab-df-convert {\n",
              "      background-color: #3B4455;\n",
              "      fill: #D2E3FC;\n",
              "    }\n",
              "\n",
              "    [theme=dark] .colab-df-convert:hover {\n",
              "      background-color: #434B5C;\n",
              "      box-shadow: 0px 1px 3px 1px rgba(0, 0, 0, 0.15);\n",
              "      filter: drop-shadow(0px 1px 2px rgba(0, 0, 0, 0.3));\n",
              "      fill: #FFFFFF;\n",
              "    }\n",
              "  </style>\n",
              "\n",
              "      <script>\n",
              "        const buttonEl =\n",
              "          document.querySelector('#df-556c7031-e9d4-4740-bcd1-3204065b3111 button.colab-df-convert');\n",
              "        buttonEl.style.display =\n",
              "          google.colab.kernel.accessAllowed ? 'block' : 'none';\n",
              "\n",
              "        async function convertToInteractive(key) {\n",
              "          const element = document.querySelector('#df-556c7031-e9d4-4740-bcd1-3204065b3111');\n",
              "          const dataTable =\n",
              "            await google.colab.kernel.invokeFunction('convertToInteractive',\n",
              "                                                     [key], {});\n",
              "          if (!dataTable) return;\n",
              "\n",
              "          const docLinkHtml = 'Like what you see? Visit the ' +\n",
              "            '<a target=\"_blank\" href=https://colab.research.google.com/notebooks/data_table.ipynb>data table notebook</a>'\n",
              "            + ' to learn more about interactive tables.';\n",
              "          element.innerHTML = '';\n",
              "          dataTable['output_type'] = 'display_data';\n",
              "          await google.colab.output.renderOutput(dataTable, element);\n",
              "          const docLink = document.createElement('div');\n",
              "          docLink.innerHTML = docLinkHtml;\n",
              "          element.appendChild(docLink);\n",
              "        }\n",
              "      </script>\n",
              "    </div>\n",
              "  </div>\n",
              "  "
            ]
          },
          "metadata": {},
          "execution_count": 31
        }
      ]
    },
    {
      "cell_type": "code",
      "source": [
        "# We can Get the Total Correct Predictions\n",
        "print(effnetb2_test_df.correct.value_counts())"
      ],
      "metadata": {
        "colab": {
          "base_uri": "https://localhost:8080/"
        },
        "id": "NhuOLhtqDX-5",
        "outputId": "041204a0-1827-4976-ecb4-4aa4cce4d43b"
      },
      "execution_count": 32,
      "outputs": [
        {
          "output_type": "stream",
          "name": "stdout",
          "text": [
            "True     141\n",
            "False      9\n",
            "Name: correct, dtype: int64\n"
          ]
        }
      ]
    },
    {
      "cell_type": "code",
      "source": [
        "# We can also Get the Average Time (s) per Prediction\n",
        "print(round(effnetb2_test_df.time_for_pred.mean(), 4))"
      ],
      "metadata": {
        "colab": {
          "base_uri": "https://localhost:8080/"
        },
        "id": "R5PNp8O6Dso1",
        "outputId": "8ada9f7d-fabe-4226-a333-86a4a0b22289"
      },
      "execution_count": 33,
      "outputs": [
        {
          "output_type": "stream",
          "name": "stdout",
          "text": [
            "0.0267\n"
          ]
        }
      ]
    },
    {
      "cell_type": "code",
      "source": [
        "# Finally Adding the Average `time_for_pred` into the EffnetB2 features\n",
        "effnet_b2_stats[\"time_per_pred\"] = round(effnetb2_test_df.time_for_pred.mean(), 4)\n",
        "\n",
        "print(effnet_b2_stats)"
      ],
      "metadata": {
        "colab": {
          "base_uri": "https://localhost:8080/"
        },
        "id": "wFnnk0idEI9c",
        "outputId": "ed5c7857-2c7f-4e12-bcb9-bef75dbade7b"
      },
      "execution_count": 34,
      "outputs": [
        {
          "output_type": "stream",
          "name": "stdout",
          "text": [
            "{'model': 'EffNetB2', 'test_loss': 0.3977665066719055, 'test_acc (%)': 93.80681818181817, 'number_of_parameters': 7705221, 'model_size (MB)': 29, 'time_per_pred': 0.0267}\n"
          ]
        }
      ]
    },
    {
      "cell_type": "markdown",
      "source": [
        "### ViT Model"
      ],
      "metadata": {
        "id": "f5zZhrMTEhuz"
      }
    },
    {
      "cell_type": "code",
      "source": [
        "vit_test_dicts = pred_and_store(model=vit,\n",
        "                                paths_list=test_data_paths,\n",
        "                                transform=vit_transforms,\n",
        "                                class_names=class_names)"
      ],
      "metadata": {
        "colab": {
          "base_uri": "https://localhost:8080/",
          "height": 49,
          "referenced_widgets": [
            "47f437d8e7354be89e7216c7c6315115",
            "95a021fdb20f40a6aed013fbc1b9bb53",
            "367dcd5809bd4aa89cd2dfa2c413527d",
            "10b883e4034c4b91a976dcd9668f8205",
            "8ba1bb2fbff147e696b33dfa6286f3c4",
            "ff7dbbab10c447eb96a88a3e1b1c9536",
            "7a1a237af66a41668c860ded6f16a5fe",
            "021ba4947b9b414dbdfdbbe0c093e32d",
            "72d60263169141d49147c7da4db5de6d",
            "f7907a3ccab94281ac3410cd49bcc49e",
            "9fcb080467c44cb7b407f58366872153"
          ]
        },
        "id": "jIZVndVsEiyZ",
        "outputId": "5f5a9737-1a3a-44c8-ff56-2a1ab2d5c390"
      },
      "execution_count": 35,
      "outputs": [
        {
          "output_type": "display_data",
          "data": {
            "text/plain": [
              "  0%|          | 0/150 [00:00<?, ?it/s]"
            ],
            "application/vnd.jupyter.widget-view+json": {
              "version_major": 2,
              "version_minor": 0,
              "model_id": "47f437d8e7354be89e7216c7c6315115"
            }
          },
          "metadata": {}
        }
      ]
    },
    {
      "cell_type": "code",
      "source": [
        "# Printing some Results\n",
        "print(vit_test_dicts[3])\n",
        "print(vit_test_dicts[90])\n",
        "print(vit_test_dicts[120])"
      ],
      "metadata": {
        "colab": {
          "base_uri": "https://localhost:8080/"
        },
        "id": "EjChfTr8E0SD",
        "outputId": "b6633982-aaf8-4477-c588-69d40db60bd3"
      },
      "execution_count": 36,
      "outputs": [
        {
          "output_type": "stream",
          "name": "stdout",
          "text": [
            "{'image_path': '/content/data/pizza_steak_sushi_20_percent/test/steak/1302563.jpg', 'class_name': 'steak', 'pred_prob': 0.9754, 'pred_class': 'steak', 'time_for_pred': 0.03, 'correct': True}\n",
            "{'image_path': '/content/data/pizza_steak_sushi_20_percent/test/sushi/715227.jpg', 'class_name': 'sushi', 'pred_prob': 0.9662, 'pred_class': 'sushi', 'time_for_pred': 0.02, 'correct': True}\n",
            "{'image_path': '/content/data/pizza_steak_sushi_20_percent/test/pizza/771336.jpg', 'class_name': 'pizza', 'pred_prob': 0.9982, 'pred_class': 'pizza', 'time_for_pred': 0.02, 'correct': True}\n"
          ]
        }
      ]
    },
    {
      "cell_type": "code",
      "source": [
        "# Turning the Results a Pandas DataFrame\n",
        "vit_test_df = pd.DataFrame(vit_test_dicts)\n",
        "vit_test_df.head(3)"
      ],
      "metadata": {
        "colab": {
          "base_uri": "https://localhost:8080/",
          "height": 143
        },
        "id": "i1XUS4_EE-5a",
        "outputId": "e072f1de-01d5-48d3-d3b8-d5d2427dc678"
      },
      "execution_count": 37,
      "outputs": [
        {
          "output_type": "execute_result",
          "data": {
            "text/plain": [
              "                                          image_path class_name  pred_prob  \\\n",
              "0  /content/data/pizza_steak_sushi_20_percent/tes...      steak     0.9489   \n",
              "1  /content/data/pizza_steak_sushi_20_percent/tes...      steak     0.8426   \n",
              "2  /content/data/pizza_steak_sushi_20_percent/tes...      steak     0.7904   \n",
              "\n",
              "  pred_class  time_for_pred  correct  \n",
              "0      steak           0.04     True  \n",
              "1      steak           0.03     True  \n",
              "2      steak           0.03     True  "
            ],
            "text/html": [
              "\n",
              "  <div id=\"df-366507a2-87f0-451a-ab1b-43a4e590bc11\">\n",
              "    <div class=\"colab-df-container\">\n",
              "      <div>\n",
              "<style scoped>\n",
              "    .dataframe tbody tr th:only-of-type {\n",
              "        vertical-align: middle;\n",
              "    }\n",
              "\n",
              "    .dataframe tbody tr th {\n",
              "        vertical-align: top;\n",
              "    }\n",
              "\n",
              "    .dataframe thead th {\n",
              "        text-align: right;\n",
              "    }\n",
              "</style>\n",
              "<table border=\"1\" class=\"dataframe\">\n",
              "  <thead>\n",
              "    <tr style=\"text-align: right;\">\n",
              "      <th></th>\n",
              "      <th>image_path</th>\n",
              "      <th>class_name</th>\n",
              "      <th>pred_prob</th>\n",
              "      <th>pred_class</th>\n",
              "      <th>time_for_pred</th>\n",
              "      <th>correct</th>\n",
              "    </tr>\n",
              "  </thead>\n",
              "  <tbody>\n",
              "    <tr>\n",
              "      <th>0</th>\n",
              "      <td>/content/data/pizza_steak_sushi_20_percent/tes...</td>\n",
              "      <td>steak</td>\n",
              "      <td>0.9489</td>\n",
              "      <td>steak</td>\n",
              "      <td>0.04</td>\n",
              "      <td>True</td>\n",
              "    </tr>\n",
              "    <tr>\n",
              "      <th>1</th>\n",
              "      <td>/content/data/pizza_steak_sushi_20_percent/tes...</td>\n",
              "      <td>steak</td>\n",
              "      <td>0.8426</td>\n",
              "      <td>steak</td>\n",
              "      <td>0.03</td>\n",
              "      <td>True</td>\n",
              "    </tr>\n",
              "    <tr>\n",
              "      <th>2</th>\n",
              "      <td>/content/data/pizza_steak_sushi_20_percent/tes...</td>\n",
              "      <td>steak</td>\n",
              "      <td>0.7904</td>\n",
              "      <td>steak</td>\n",
              "      <td>0.03</td>\n",
              "      <td>True</td>\n",
              "    </tr>\n",
              "  </tbody>\n",
              "</table>\n",
              "</div>\n",
              "      <button class=\"colab-df-convert\" onclick=\"convertToInteractive('df-366507a2-87f0-451a-ab1b-43a4e590bc11')\"\n",
              "              title=\"Convert this dataframe to an interactive table.\"\n",
              "              style=\"display:none;\">\n",
              "        \n",
              "  <svg xmlns=\"http://www.w3.org/2000/svg\" height=\"24px\"viewBox=\"0 0 24 24\"\n",
              "       width=\"24px\">\n",
              "    <path d=\"M0 0h24v24H0V0z\" fill=\"none\"/>\n",
              "    <path d=\"M18.56 5.44l.94 2.06.94-2.06 2.06-.94-2.06-.94-.94-2.06-.94 2.06-2.06.94zm-11 1L8.5 8.5l.94-2.06 2.06-.94-2.06-.94L8.5 2.5l-.94 2.06-2.06.94zm10 10l.94 2.06.94-2.06 2.06-.94-2.06-.94-.94-2.06-.94 2.06-2.06.94z\"/><path d=\"M17.41 7.96l-1.37-1.37c-.4-.4-.92-.59-1.43-.59-.52 0-1.04.2-1.43.59L10.3 9.45l-7.72 7.72c-.78.78-.78 2.05 0 2.83L4 21.41c.39.39.9.59 1.41.59.51 0 1.02-.2 1.41-.59l7.78-7.78 2.81-2.81c.8-.78.8-2.07 0-2.86zM5.41 20L4 18.59l7.72-7.72 1.47 1.35L5.41 20z\"/>\n",
              "  </svg>\n",
              "      </button>\n",
              "      \n",
              "  <style>\n",
              "    .colab-df-container {\n",
              "      display:flex;\n",
              "      flex-wrap:wrap;\n",
              "      gap: 12px;\n",
              "    }\n",
              "\n",
              "    .colab-df-convert {\n",
              "      background-color: #E8F0FE;\n",
              "      border: none;\n",
              "      border-radius: 50%;\n",
              "      cursor: pointer;\n",
              "      display: none;\n",
              "      fill: #1967D2;\n",
              "      height: 32px;\n",
              "      padding: 0 0 0 0;\n",
              "      width: 32px;\n",
              "    }\n",
              "\n",
              "    .colab-df-convert:hover {\n",
              "      background-color: #E2EBFA;\n",
              "      box-shadow: 0px 1px 2px rgba(60, 64, 67, 0.3), 0px 1px 3px 1px rgba(60, 64, 67, 0.15);\n",
              "      fill: #174EA6;\n",
              "    }\n",
              "\n",
              "    [theme=dark] .colab-df-convert {\n",
              "      background-color: #3B4455;\n",
              "      fill: #D2E3FC;\n",
              "    }\n",
              "\n",
              "    [theme=dark] .colab-df-convert:hover {\n",
              "      background-color: #434B5C;\n",
              "      box-shadow: 0px 1px 3px 1px rgba(0, 0, 0, 0.15);\n",
              "      filter: drop-shadow(0px 1px 2px rgba(0, 0, 0, 0.3));\n",
              "      fill: #FFFFFF;\n",
              "    }\n",
              "  </style>\n",
              "\n",
              "      <script>\n",
              "        const buttonEl =\n",
              "          document.querySelector('#df-366507a2-87f0-451a-ab1b-43a4e590bc11 button.colab-df-convert');\n",
              "        buttonEl.style.display =\n",
              "          google.colab.kernel.accessAllowed ? 'block' : 'none';\n",
              "\n",
              "        async function convertToInteractive(key) {\n",
              "          const element = document.querySelector('#df-366507a2-87f0-451a-ab1b-43a4e590bc11');\n",
              "          const dataTable =\n",
              "            await google.colab.kernel.invokeFunction('convertToInteractive',\n",
              "                                                     [key], {});\n",
              "          if (!dataTable) return;\n",
              "\n",
              "          const docLinkHtml = 'Like what you see? Visit the ' +\n",
              "            '<a target=\"_blank\" href=https://colab.research.google.com/notebooks/data_table.ipynb>data table notebook</a>'\n",
              "            + ' to learn more about interactive tables.';\n",
              "          element.innerHTML = '';\n",
              "          dataTable['output_type'] = 'display_data';\n",
              "          await google.colab.output.renderOutput(dataTable, element);\n",
              "          const docLink = document.createElement('div');\n",
              "          docLink.innerHTML = docLinkHtml;\n",
              "          element.appendChild(docLink);\n",
              "        }\n",
              "      </script>\n",
              "    </div>\n",
              "  </div>\n",
              "  "
            ]
          },
          "metadata": {},
          "execution_count": 37
        }
      ]
    },
    {
      "cell_type": "code",
      "source": [
        "# We can Get the Total Correct Predictions\n",
        "print(vit_test_df.correct.value_counts())"
      ],
      "metadata": {
        "colab": {
          "base_uri": "https://localhost:8080/"
        },
        "id": "qCgIn0GGFExx",
        "outputId": "09b81862-b117-4ce1-91ec-065c8783fae4"
      },
      "execution_count": 38,
      "outputs": [
        {
          "output_type": "stream",
          "name": "stdout",
          "text": [
            "True     148\n",
            "False      2\n",
            "Name: correct, dtype: int64\n"
          ]
        }
      ]
    },
    {
      "cell_type": "code",
      "source": [
        "# We can also Get the Average Time (s) per Prediction\n",
        "print(round(vit_test_df.time_for_pred.mean(), 4))"
      ],
      "metadata": {
        "colab": {
          "base_uri": "https://localhost:8080/"
        },
        "id": "nhSOCWY8FJbJ",
        "outputId": "ebd2f787-88e5-44c4-f603-04a3d48d3f0e"
      },
      "execution_count": 39,
      "outputs": [
        {
          "output_type": "stream",
          "name": "stdout",
          "text": [
            "0.0236\n"
          ]
        }
      ]
    },
    {
      "cell_type": "code",
      "source": [
        "# Finally Adding the Average `time_for_pred` into the EffnetB2 features\n",
        "vit_stats[\"time_per_pred\"] = round(vit_test_df.time_for_pred.mean(), 4)\n",
        "\n",
        "print(vit_stats)"
      ],
      "metadata": {
        "colab": {
          "base_uri": "https://localhost:8080/"
        },
        "id": "1vmN9YuTFRe6",
        "outputId": "59cf5c8c-49fc-4434-a051-1365b1e63f9e"
      },
      "execution_count": 40,
      "outputs": [
        {
          "output_type": "stream",
          "name": "stdout",
          "text": [
            "{'model': 'ViT', 'test_loss': 0.07384280823171138, 'test_acc (%)': 98.75, 'number_of_parameters': 85800963, 'model_size (MB)': 327, 'time_per_pred': 0.0236}\n"
          ]
        }
      ]
    },
    {
      "cell_type": "markdown",
      "source": [
        "## Comparing Model Results"
      ],
      "metadata": {
        "id": "2o31Yuj1FhhZ"
      }
    },
    {
      "cell_type": "code",
      "source": [
        "# Creating a Data Frame to Compare the Models\n",
        "df = pd.DataFrame([effnet_b2_stats, vit_stats])\n",
        "\n",
        "df.head()"
      ],
      "metadata": {
        "colab": {
          "base_uri": "https://localhost:8080/",
          "height": 112
        },
        "id": "MhNGUu9qFkD1",
        "outputId": "09411198-fa68-4cfc-eb5b-ab126806bc83"
      },
      "execution_count": 41,
      "outputs": [
        {
          "output_type": "execute_result",
          "data": {
            "text/plain": [
              "      model  test_loss  test_acc (%)  number_of_parameters  model_size (MB)  \\\n",
              "0  EffNetB2   0.397767     93.806818               7705221               29   \n",
              "1       ViT   0.073843     98.750000              85800963              327   \n",
              "\n",
              "   time_per_pred  \n",
              "0         0.0267  \n",
              "1         0.0236  "
            ],
            "text/html": [
              "\n",
              "  <div id=\"df-78d8da18-0c96-4236-893e-7b75763ae2aa\">\n",
              "    <div class=\"colab-df-container\">\n",
              "      <div>\n",
              "<style scoped>\n",
              "    .dataframe tbody tr th:only-of-type {\n",
              "        vertical-align: middle;\n",
              "    }\n",
              "\n",
              "    .dataframe tbody tr th {\n",
              "        vertical-align: top;\n",
              "    }\n",
              "\n",
              "    .dataframe thead th {\n",
              "        text-align: right;\n",
              "    }\n",
              "</style>\n",
              "<table border=\"1\" class=\"dataframe\">\n",
              "  <thead>\n",
              "    <tr style=\"text-align: right;\">\n",
              "      <th></th>\n",
              "      <th>model</th>\n",
              "      <th>test_loss</th>\n",
              "      <th>test_acc (%)</th>\n",
              "      <th>number_of_parameters</th>\n",
              "      <th>model_size (MB)</th>\n",
              "      <th>time_per_pred</th>\n",
              "    </tr>\n",
              "  </thead>\n",
              "  <tbody>\n",
              "    <tr>\n",
              "      <th>0</th>\n",
              "      <td>EffNetB2</td>\n",
              "      <td>0.397767</td>\n",
              "      <td>93.806818</td>\n",
              "      <td>7705221</td>\n",
              "      <td>29</td>\n",
              "      <td>0.0267</td>\n",
              "    </tr>\n",
              "    <tr>\n",
              "      <th>1</th>\n",
              "      <td>ViT</td>\n",
              "      <td>0.073843</td>\n",
              "      <td>98.750000</td>\n",
              "      <td>85800963</td>\n",
              "      <td>327</td>\n",
              "      <td>0.0236</td>\n",
              "    </tr>\n",
              "  </tbody>\n",
              "</table>\n",
              "</div>\n",
              "      <button class=\"colab-df-convert\" onclick=\"convertToInteractive('df-78d8da18-0c96-4236-893e-7b75763ae2aa')\"\n",
              "              title=\"Convert this dataframe to an interactive table.\"\n",
              "              style=\"display:none;\">\n",
              "        \n",
              "  <svg xmlns=\"http://www.w3.org/2000/svg\" height=\"24px\"viewBox=\"0 0 24 24\"\n",
              "       width=\"24px\">\n",
              "    <path d=\"M0 0h24v24H0V0z\" fill=\"none\"/>\n",
              "    <path d=\"M18.56 5.44l.94 2.06.94-2.06 2.06-.94-2.06-.94-.94-2.06-.94 2.06-2.06.94zm-11 1L8.5 8.5l.94-2.06 2.06-.94-2.06-.94L8.5 2.5l-.94 2.06-2.06.94zm10 10l.94 2.06.94-2.06 2.06-.94-2.06-.94-.94-2.06-.94 2.06-2.06.94z\"/><path d=\"M17.41 7.96l-1.37-1.37c-.4-.4-.92-.59-1.43-.59-.52 0-1.04.2-1.43.59L10.3 9.45l-7.72 7.72c-.78.78-.78 2.05 0 2.83L4 21.41c.39.39.9.59 1.41.59.51 0 1.02-.2 1.41-.59l7.78-7.78 2.81-2.81c.8-.78.8-2.07 0-2.86zM5.41 20L4 18.59l7.72-7.72 1.47 1.35L5.41 20z\"/>\n",
              "  </svg>\n",
              "      </button>\n",
              "      \n",
              "  <style>\n",
              "    .colab-df-container {\n",
              "      display:flex;\n",
              "      flex-wrap:wrap;\n",
              "      gap: 12px;\n",
              "    }\n",
              "\n",
              "    .colab-df-convert {\n",
              "      background-color: #E8F0FE;\n",
              "      border: none;\n",
              "      border-radius: 50%;\n",
              "      cursor: pointer;\n",
              "      display: none;\n",
              "      fill: #1967D2;\n",
              "      height: 32px;\n",
              "      padding: 0 0 0 0;\n",
              "      width: 32px;\n",
              "    }\n",
              "\n",
              "    .colab-df-convert:hover {\n",
              "      background-color: #E2EBFA;\n",
              "      box-shadow: 0px 1px 2px rgba(60, 64, 67, 0.3), 0px 1px 3px 1px rgba(60, 64, 67, 0.15);\n",
              "      fill: #174EA6;\n",
              "    }\n",
              "\n",
              "    [theme=dark] .colab-df-convert {\n",
              "      background-color: #3B4455;\n",
              "      fill: #D2E3FC;\n",
              "    }\n",
              "\n",
              "    [theme=dark] .colab-df-convert:hover {\n",
              "      background-color: #434B5C;\n",
              "      box-shadow: 0px 1px 3px 1px rgba(0, 0, 0, 0.15);\n",
              "      filter: drop-shadow(0px 1px 2px rgba(0, 0, 0, 0.3));\n",
              "      fill: #FFFFFF;\n",
              "    }\n",
              "  </style>\n",
              "\n",
              "      <script>\n",
              "        const buttonEl =\n",
              "          document.querySelector('#df-78d8da18-0c96-4236-893e-7b75763ae2aa button.colab-df-convert');\n",
              "        buttonEl.style.display =\n",
              "          google.colab.kernel.accessAllowed ? 'block' : 'none';\n",
              "\n",
              "        async function convertToInteractive(key) {\n",
              "          const element = document.querySelector('#df-78d8da18-0c96-4236-893e-7b75763ae2aa');\n",
              "          const dataTable =\n",
              "            await google.colab.kernel.invokeFunction('convertToInteractive',\n",
              "                                                     [key], {});\n",
              "          if (!dataTable) return;\n",
              "\n",
              "          const docLinkHtml = 'Like what you see? Visit the ' +\n",
              "            '<a target=\"_blank\" href=https://colab.research.google.com/notebooks/data_table.ipynb>data table notebook</a>'\n",
              "            + ' to learn more about interactive tables.';\n",
              "          element.innerHTML = '';\n",
              "          dataTable['output_type'] = 'display_data';\n",
              "          await google.colab.output.renderOutput(dataTable, element);\n",
              "          const docLink = document.createElement('div');\n",
              "          docLink.innerHTML = docLinkHtml;\n",
              "          element.appendChild(docLink);\n",
              "        }\n",
              "      </script>\n",
              "    </div>\n",
              "  </div>\n",
              "  "
            ]
          },
          "metadata": {},
          "execution_count": 41
        }
      ]
    },
    {
      "cell_type": "code",
      "source": [
        "# We can Compare them by also Looking at the Ratios Between them\n",
        "ratios = pd.DataFrame(data=(round(df.set_index(\"model\").loc[\"ViT\"] / df.set_index(\"model\").loc[\"EffNetB2\"], 4)),\n",
        "                      columns=[\"ViT / EffNetB2\"]).T\n",
        "\n",
        "ratios.head()"
      ],
      "metadata": {
        "colab": {
          "base_uri": "https://localhost:8080/",
          "height": 81
        },
        "id": "m9ts0b79GT2f",
        "outputId": "0ab0e994-201b-4099-dca3-9a7140eedcf3"
      },
      "execution_count": 42,
      "outputs": [
        {
          "output_type": "execute_result",
          "data": {
            "text/plain": [
              "                test_loss  test_acc (%)  number_of_parameters  \\\n",
              "ViT / EffNetB2     0.1856        1.0527               11.1354   \n",
              "\n",
              "                model_size (MB)  time_per_pred  \n",
              "ViT / EffNetB2          11.2759         0.8839  "
            ],
            "text/html": [
              "\n",
              "  <div id=\"df-5e220de4-543a-4791-a10b-8cd0ffb21428\">\n",
              "    <div class=\"colab-df-container\">\n",
              "      <div>\n",
              "<style scoped>\n",
              "    .dataframe tbody tr th:only-of-type {\n",
              "        vertical-align: middle;\n",
              "    }\n",
              "\n",
              "    .dataframe tbody tr th {\n",
              "        vertical-align: top;\n",
              "    }\n",
              "\n",
              "    .dataframe thead th {\n",
              "        text-align: right;\n",
              "    }\n",
              "</style>\n",
              "<table border=\"1\" class=\"dataframe\">\n",
              "  <thead>\n",
              "    <tr style=\"text-align: right;\">\n",
              "      <th></th>\n",
              "      <th>test_loss</th>\n",
              "      <th>test_acc (%)</th>\n",
              "      <th>number_of_parameters</th>\n",
              "      <th>model_size (MB)</th>\n",
              "      <th>time_per_pred</th>\n",
              "    </tr>\n",
              "  </thead>\n",
              "  <tbody>\n",
              "    <tr>\n",
              "      <th>ViT / EffNetB2</th>\n",
              "      <td>0.1856</td>\n",
              "      <td>1.0527</td>\n",
              "      <td>11.1354</td>\n",
              "      <td>11.2759</td>\n",
              "      <td>0.8839</td>\n",
              "    </tr>\n",
              "  </tbody>\n",
              "</table>\n",
              "</div>\n",
              "      <button class=\"colab-df-convert\" onclick=\"convertToInteractive('df-5e220de4-543a-4791-a10b-8cd0ffb21428')\"\n",
              "              title=\"Convert this dataframe to an interactive table.\"\n",
              "              style=\"display:none;\">\n",
              "        \n",
              "  <svg xmlns=\"http://www.w3.org/2000/svg\" height=\"24px\"viewBox=\"0 0 24 24\"\n",
              "       width=\"24px\">\n",
              "    <path d=\"M0 0h24v24H0V0z\" fill=\"none\"/>\n",
              "    <path d=\"M18.56 5.44l.94 2.06.94-2.06 2.06-.94-2.06-.94-.94-2.06-.94 2.06-2.06.94zm-11 1L8.5 8.5l.94-2.06 2.06-.94-2.06-.94L8.5 2.5l-.94 2.06-2.06.94zm10 10l.94 2.06.94-2.06 2.06-.94-2.06-.94-.94-2.06-.94 2.06-2.06.94z\"/><path d=\"M17.41 7.96l-1.37-1.37c-.4-.4-.92-.59-1.43-.59-.52 0-1.04.2-1.43.59L10.3 9.45l-7.72 7.72c-.78.78-.78 2.05 0 2.83L4 21.41c.39.39.9.59 1.41.59.51 0 1.02-.2 1.41-.59l7.78-7.78 2.81-2.81c.8-.78.8-2.07 0-2.86zM5.41 20L4 18.59l7.72-7.72 1.47 1.35L5.41 20z\"/>\n",
              "  </svg>\n",
              "      </button>\n",
              "      \n",
              "  <style>\n",
              "    .colab-df-container {\n",
              "      display:flex;\n",
              "      flex-wrap:wrap;\n",
              "      gap: 12px;\n",
              "    }\n",
              "\n",
              "    .colab-df-convert {\n",
              "      background-color: #E8F0FE;\n",
              "      border: none;\n",
              "      border-radius: 50%;\n",
              "      cursor: pointer;\n",
              "      display: none;\n",
              "      fill: #1967D2;\n",
              "      height: 32px;\n",
              "      padding: 0 0 0 0;\n",
              "      width: 32px;\n",
              "    }\n",
              "\n",
              "    .colab-df-convert:hover {\n",
              "      background-color: #E2EBFA;\n",
              "      box-shadow: 0px 1px 2px rgba(60, 64, 67, 0.3), 0px 1px 3px 1px rgba(60, 64, 67, 0.15);\n",
              "      fill: #174EA6;\n",
              "    }\n",
              "\n",
              "    [theme=dark] .colab-df-convert {\n",
              "      background-color: #3B4455;\n",
              "      fill: #D2E3FC;\n",
              "    }\n",
              "\n",
              "    [theme=dark] .colab-df-convert:hover {\n",
              "      background-color: #434B5C;\n",
              "      box-shadow: 0px 1px 3px 1px rgba(0, 0, 0, 0.15);\n",
              "      filter: drop-shadow(0px 1px 2px rgba(0, 0, 0, 0.3));\n",
              "      fill: #FFFFFF;\n",
              "    }\n",
              "  </style>\n",
              "\n",
              "      <script>\n",
              "        const buttonEl =\n",
              "          document.querySelector('#df-5e220de4-543a-4791-a10b-8cd0ffb21428 button.colab-df-convert');\n",
              "        buttonEl.style.display =\n",
              "          google.colab.kernel.accessAllowed ? 'block' : 'none';\n",
              "\n",
              "        async function convertToInteractive(key) {\n",
              "          const element = document.querySelector('#df-5e220de4-543a-4791-a10b-8cd0ffb21428');\n",
              "          const dataTable =\n",
              "            await google.colab.kernel.invokeFunction('convertToInteractive',\n",
              "                                                     [key], {});\n",
              "          if (!dataTable) return;\n",
              "\n",
              "          const docLinkHtml = 'Like what you see? Visit the ' +\n",
              "            '<a target=\"_blank\" href=https://colab.research.google.com/notebooks/data_table.ipynb>data table notebook</a>'\n",
              "            + ' to learn more about interactive tables.';\n",
              "          element.innerHTML = '';\n",
              "          dataTable['output_type'] = 'display_data';\n",
              "          await google.colab.output.renderOutput(dataTable, element);\n",
              "          const docLink = document.createElement('div');\n",
              "          docLink.innerHTML = docLinkHtml;\n",
              "          element.appendChild(docLink);\n",
              "        }\n",
              "      </script>\n",
              "    </div>\n",
              "  </div>\n",
              "  "
            ]
          },
          "metadata": {},
          "execution_count": 42
        }
      ]
    },
    {
      "cell_type": "markdown",
      "source": [
        "## Bringing FoodVision Mini to Life by Creating a Gradio demo (using EffNetB2 Model)"
      ],
      "metadata": {
        "id": "nTXhLjKOHwuV"
      }
    },
    {
      "cell_type": "code",
      "source": [
        "!pip -q install gradio"
      ],
      "metadata": {
        "id": "oUHKcGW3HznE",
        "colab": {
          "base_uri": "https://localhost:8080/"
        },
        "outputId": "667eb2eb-8d11-4a39-93dc-804f6d75280e"
      },
      "execution_count": 43,
      "outputs": [
        {
          "output_type": "stream",
          "name": "stdout",
          "text": [
            "\u001b[2K     \u001b[90m━━━━━━━━━━━━━━━━━━━━━━━━━━━━━━━━━━━━━━━━\u001b[0m \u001b[32m15.8/15.8 MB\u001b[0m \u001b[31m80.3 MB/s\u001b[0m eta \u001b[36m0:00:00\u001b[0m\n",
            "\u001b[2K     \u001b[90m━━━━━━━━━━━━━━━━━━━━━━━━━━━━━━━━━━━━━━\u001b[0m \u001b[32m199.8/199.8 KB\u001b[0m \u001b[31m21.6 MB/s\u001b[0m eta \u001b[36m0:00:00\u001b[0m\n",
            "\u001b[2K     \u001b[90m━━━━━━━━━━━━━━━━━━━━━━━━━━━━━━━━━━━━━━\u001b[0m \u001b[32m140.9/140.9 KB\u001b[0m \u001b[31m16.7 MB/s\u001b[0m eta \u001b[36m0:00:00\u001b[0m\n",
            "\u001b[2K     \u001b[90m━━━━━━━━━━━━━━━━━━━━━━━━━━━━━━━━━━━━━━\u001b[0m \u001b[32m106.5/106.5 KB\u001b[0m \u001b[31m10.9 MB/s\u001b[0m eta \u001b[36m0:00:00\u001b[0m\n",
            "\u001b[2K     \u001b[90m━━━━━━━━━━━━━━━━━━━━━━━━━━━━━━━━━━━━━━━━\u001b[0m \u001b[32m57.1/57.1 KB\u001b[0m \u001b[31m4.7 MB/s\u001b[0m eta \u001b[36m0:00:00\u001b[0m\n",
            "\u001b[2K     \u001b[90m━━━━━━━━━━━━━━━━━━━━━━━━━━━━━━━━━━━━━━━━\u001b[0m \u001b[32m71.5/71.5 KB\u001b[0m \u001b[31m8.6 MB/s\u001b[0m eta \u001b[36m0:00:00\u001b[0m\n",
            "\u001b[2K     \u001b[90m━━━━━━━━━━━━━━━━━━━━━━━━━━━━━━━━━━━━━━━━\u001b[0m \u001b[32m84.5/84.5 KB\u001b[0m \u001b[31m9.9 MB/s\u001b[0m eta \u001b[36m0:00:00\u001b[0m\n",
            "\u001b[2K     \u001b[90m━━━━━━━━━━━━━━━━━━━━━━━━━━━━━━━━━━━━━━━━\u001b[0m \u001b[32m45.7/45.7 KB\u001b[0m \u001b[31m2.2 MB/s\u001b[0m eta \u001b[36m0:00:00\u001b[0m\n",
            "\u001b[?25h  Preparing metadata (setup.py) ... \u001b[?25l\u001b[?25hdone\n",
            "\u001b[2K     \u001b[90m━━━━━━━━━━━━━━━━━━━━━━━━━━━━━━━━━━━━━━━━\u001b[0m \u001b[32m57.8/57.8 KB\u001b[0m \u001b[31m3.7 MB/s\u001b[0m eta \u001b[36m0:00:00\u001b[0m\n",
            "\u001b[2K     \u001b[90m━━━━━━━━━━━━━━━━━━━━━━━━━━━━━━━━━━━━━━━━\u001b[0m \u001b[32m50.5/50.5 KB\u001b[0m \u001b[31m1.5 MB/s\u001b[0m eta \u001b[36m0:00:00\u001b[0m\n",
            "\u001b[2K     \u001b[90m━━━━━━━━━━━━━━━━━━━━━━━━━━━━━━━━━━━━━━━━\u001b[0m \u001b[32m1.0/1.0 MB\u001b[0m \u001b[31m69.2 MB/s\u001b[0m eta \u001b[36m0:00:00\u001b[0m\n",
            "\u001b[2K     \u001b[90m━━━━━━━━━━━━━━━━━━━━━━━━━━━━━━━━━━━━━━\u001b[0m \u001b[32m158.8/158.8 KB\u001b[0m \u001b[31m17.7 MB/s\u001b[0m eta \u001b[36m0:00:00\u001b[0m\n",
            "\u001b[2K     \u001b[90m━━━━━━━━━━━━━━━━━━━━━━━━━━━━━━━━━━━━━━\u001b[0m \u001b[32m264.6/264.6 KB\u001b[0m \u001b[31m28.5 MB/s\u001b[0m eta \u001b[36m0:00:00\u001b[0m\n",
            "\u001b[2K     \u001b[90m━━━━━━━━━━━━━━━━━━━━━━━━━━━━━━━━━━━━━━\u001b[0m \u001b[32m114.2/114.2 KB\u001b[0m \u001b[31m13.8 MB/s\u001b[0m eta \u001b[36m0:00:00\u001b[0m\n",
            "\u001b[2K     \u001b[90m━━━━━━━━━━━━━━━━━━━━━━━━━━━━━━━━━━━━━━━━\u001b[0m \u001b[32m66.9/66.9 KB\u001b[0m \u001b[31m8.4 MB/s\u001b[0m eta \u001b[36m0:00:00\u001b[0m\n",
            "\u001b[2K     \u001b[90m━━━━━━━━━━━━━━━━━━━━━━━━━━━━━━━━━━━━━━━━\u001b[0m \u001b[32m69.6/69.6 KB\u001b[0m \u001b[31m8.8 MB/s\u001b[0m eta \u001b[36m0:00:00\u001b[0m\n",
            "\u001b[2K     \u001b[90m━━━━━━━━━━━━━━━━━━━━━━━━━━━━━━━━━━━━━━━━\u001b[0m \u001b[32m58.3/58.3 KB\u001b[0m \u001b[31m7.1 MB/s\u001b[0m eta \u001b[36m0:00:00\u001b[0m\n",
            "\u001b[2K     \u001b[90m━━━━━━━━━━━━━━━━━━━━━━━━━━━━━━━━━━━━━━━━\u001b[0m \u001b[32m80.6/80.6 KB\u001b[0m \u001b[31m7.3 MB/s\u001b[0m eta \u001b[36m0:00:00\u001b[0m\n",
            "\u001b[?25h  Building wheel for ffmpy (setup.py) ... \u001b[?25l\u001b[?25hdone\n"
          ]
        }
      ]
    },
    {
      "cell_type": "code",
      "source": [
        "import gradio as gr"
      ],
      "metadata": {
        "id": "xf1q2zAjImCL"
      },
      "execution_count": 44,
      "outputs": []
    },
    {
      "cell_type": "markdown",
      "source": [
        "### What is `Gradio`?\n",
        "* Gradio is the fastest way to demo your machine learning model with a friendly web interface so that anyone can use it, anywhere!\n",
        "\n",
        "* Gradio provide us an `Interface`, that looks like:\n",
        "<img src=\"https://raw.githubusercontent.com/mrdbourke/pytorch-deep-learning/main/images/09-gradio-workflow.png\" width=800>"
      ],
      "metadata": {
        "id": "9qknA7P-JWKJ"
      }
    },
    {
      "cell_type": "markdown",
      "source": [
        "### Creating the Function that Maps Inputs to Outputs"
      ],
      "metadata": {
        "id": "hmCMY6ojKX9B"
      }
    },
    {
      "cell_type": "code",
      "source": [
        "# Moving the Model to CPU\n",
        "effnet_b2.to(\"cpu\")\n",
        "\n",
        "\n",
        "def predict(img):\n",
        "    start_time = timer()\n",
        "\n",
        "    transformed_img = effnet_b2_transforms(img).unsqueeze(dim=0) # Adding Batch Dimension\n",
        "\n",
        "    effnet_b2.eval()\n",
        "    with torch.inference_mode():\n",
        "        preds_probs = torch.softmax(effnet_b2(transformed_img), dim=1)\n",
        "\n",
        "    pred_labels_and_probs = {class_names[i]: round(preds_probs[0][i].item(), 4) for i in range(len(class_names))}\n",
        "\n",
        "    pred_time = round(timer() - start_time, 5)\n",
        "\n",
        "    return pred_labels_and_probs, pred_time"
      ],
      "metadata": {
        "id": "DA6al1ueIsp0"
      },
      "execution_count": 45,
      "outputs": []
    },
    {
      "cell_type": "code",
      "source": [
        "# Testing this Function for a Random Image\n",
        "from random import sample\n",
        "\n",
        "random_image_path = sample(test_data_paths, k=1)[0]\n",
        "image = Image.open(random_image_path)\n",
        "\n",
        "print(f\"[INFO] Predicting on image at path: {random_image_path}\\n\")\n",
        "\n",
        "pred_dict, pred_time = predict(img=image)\n",
        "print(f\"Prediction label and probability dictionary: \\n{pred_dict}\")\n",
        "print(f\"Prediction time: {pred_time} seconds\")"
      ],
      "metadata": {
        "colab": {
          "base_uri": "https://localhost:8080/"
        },
        "id": "xDLDLVQBLaDh",
        "outputId": "031cd8c1-acf8-4d3c-cdf3-e0ffbfd81c37"
      },
      "execution_count": 46,
      "outputs": [
        {
          "output_type": "stream",
          "name": "stdout",
          "text": [
            "[INFO] Predicting on image at path: /content/data/pizza_steak_sushi_20_percent/test/pizza/1618659.jpg\n",
            "\n",
            "Prediction label and probability dictionary: \n",
            "{'pizza': 0.4798, 'steak': 0.1809, 'sushi': 0.3393}\n",
            "Prediction time: 0.27636 seconds\n"
          ]
        }
      ]
    },
    {
      "cell_type": "markdown",
      "source": [
        "### Creating a Gradio Interface"
      ],
      "metadata": {
        "id": "_2w6_IUkMPDT"
      }
    },
    {
      "cell_type": "code",
      "source": [
        "# Creating an Examples List\n",
        "example_list = [[str(filepath)] for filepath in sample(test_data_paths, k=3)]"
      ],
      "metadata": {
        "id": "C2z-IWKSMic8"
      },
      "execution_count": 47,
      "outputs": []
    },
    {
      "cell_type": "code",
      "source": [
        "# Create title, description and article strings\n",
        "title = \"FoodVision Mini 🍕🥩🍣\"\n",
        "description = \"An EfficientNetB2 feature extractor computer vision model to classify images of food as pizza, steak or sushi.\"\n",
        "\n",
        "# Create the Gradio demo\n",
        "demo = gr.Interface(fn=predict,                                                # Mapping function from input to output\n",
        "                    inputs=gr.Image(type=\"pil\"),                               # What are the inputs?\n",
        "                    outputs=[gr.Label(num_top_classes=3, label=\"Predictions\"), # What are the outputs?\n",
        "                             gr.Number(label=\"Prediction time (s)\")],          # (Our fn has two outputs, therefore we have two outputs)\n",
        "                    examples=example_list, \n",
        "                    title=title,\n",
        "                    description=description)\n",
        "\n",
        "# Launch the demo!\n",
        "demo.launch(debug=False, # print errors locally?\n",
        "            share=True)  # generate a publically shareable URL?"
      ],
      "metadata": {
        "colab": {
          "base_uri": "https://localhost:8080/",
          "height": 591
        },
        "id": "yndkd8iSLo10",
        "outputId": "1a0fb1db-13af-4174-ea3f-9fe9c5c47778"
      },
      "execution_count": 48,
      "outputs": [
        {
          "output_type": "stream",
          "name": "stdout",
          "text": [
            "Colab notebook detected. To show errors in colab notebook, set debug=True in launch()\n",
            "Running on public URL: https://01edc738d3c54614d1.gradio.live\n",
            "\n",
            "This share link expires in 72 hours. For free permanent hosting and GPU upgrades (NEW!), check out Spaces: https://huggingface.co/spaces\n"
          ]
        },
        {
          "output_type": "display_data",
          "data": {
            "text/plain": [
              "<IPython.core.display.HTML object>"
            ],
            "text/html": [
              "<div><iframe src=\"https://01edc738d3c54614d1.gradio.live\" width=\"100%\" height=\"500\" allow=\"autoplay; camera; microphone; clipboard-read; clipboard-write;\" frameborder=\"0\" allowfullscreen></iframe></div>"
            ]
          },
          "metadata": {}
        },
        {
          "output_type": "execute_result",
          "data": {
            "text/plain": []
          },
          "metadata": {},
          "execution_count": 48
        }
      ]
    },
    {
      "cell_type": "markdown",
      "source": [
        "## To make our FoodVision Mini demo more permanent, we can package it into an app and upload it to [Hugging Face Spaces](https://huggingface.co/spaces/launch)."
      ],
      "metadata": {
        "id": "N8gLas1BNq7I"
      }
    },
    {
      "cell_type": "markdown",
      "source": [
        "### What is Hugging Face Spaces?\n",
        "\n",
        "Hugging Face Spaces is a resource that allows you to host and share machine learning apps.\n",
        "\n",
        "If having a good GitHub portfolio showcases your coding abilities, having a good Hugging Face portfolio can showcase your machine learning abilities."
      ],
      "metadata": {
        "id": "iGX09cXcOJMf"
      }
    },
    {
      "cell_type": "markdown",
      "source": [
        "###  Deployed Gradio App Structure\n",
        "\n",
        "To upload our demo Gradio app, we'll want to put everything relating to it into a single directory. This directory could look like:\n",
        "```\n",
        "demos/\n",
        "└── foodvision_mini/\n",
        "    ├── model.pth\n",
        "    ├── app.py\n",
        "    ├── examples/\n",
        "    │   ├── example_1.jpg\n",
        "    │   ├── example_2.jpg\n",
        "    │   └── example_3.jpg\n",
        "    ├── model.py\n",
        "    └── requirements.txt\n",
        "```\n",
        "\n",
        "Where:\n",
        "\n",
        "* `model.pth`: Our trained PyTorch model file.\n",
        "* `app.py`: Contains our Gradio app (similar to the code that launched the app).\n",
        "* `examples/`: Contains example images to use with our Gradio app.\n",
        "* `model.py`: Contains the model defintion as well as any transforms assosciated with the model.\n",
        "* `requirements.txt`: Contains the dependencies to run our app such as **torch**, **torchvision** and **gradio**."
      ],
      "metadata": {
        "id": "z6zxoClcOZwf"
      }
    },
    {
      "cell_type": "markdown",
      "source": [
        "### Creating the Directory"
      ],
      "metadata": {
        "id": "8D0ja7ylPbId"
      }
    },
    {
      "cell_type": "code",
      "source": [
        "import shutil"
      ],
      "metadata": {
        "id": "VjrEX57WM-GI"
      },
      "execution_count": 98,
      "outputs": []
    },
    {
      "cell_type": "code",
      "source": [
        "# Create FoodVision mini demo path\n",
        "foodvision_mini_demo_path = Path(\"/content/demos/foodvision_mini/\")"
      ],
      "metadata": {
        "id": "2-37s7GBPhun"
      },
      "execution_count": 99,
      "outputs": []
    },
    {
      "cell_type": "code",
      "source": [
        "# Removing the files if the `foodvision_mini_demo_path` directory exists\n",
        "if foodvision_mini_demo_path.exists():\n",
        "    shutil.rmtree(foodvision_mini_demo_path)\n",
        "\n",
        "# Create the directoty if doesn't exists\n",
        "foodvision_mini_demo_path.mkdir(parents=True,\n",
        "                                exist_ok=True)\n",
        "\n",
        "print(foodvision_mini_demo_path)"
      ],
      "metadata": {
        "id": "9OfO_cmDPj_8",
        "colab": {
          "base_uri": "https://localhost:8080/"
        },
        "outputId": "ee361038-4d42-46ec-b3e0-3879df0bf53f"
      },
      "execution_count": 100,
      "outputs": [
        {
          "output_type": "stream",
          "name": "stdout",
          "text": [
            "/content/demos/foodvision_mini\n"
          ]
        }
      ]
    },
    {
      "cell_type": "markdown",
      "source": [
        "### Creating the `examples` Directory\n"
      ],
      "metadata": {
        "id": "Bd1FJQsL0I5C"
      }
    },
    {
      "cell_type": "code",
      "source": [
        "foodvision_mini_examples_path = foodvision_mini_demo_path / \"examples\"\n",
        "foodvision_mini_examples_path.mkdir(parents=True,\n",
        "                                    exist_ok=True)\n",
        "\n",
        "# Collecting 7 Random Images\n",
        "image_examples = [Path(img_paths) for img_paths in sample(test_data_paths, k=7)]\n",
        "\n",
        "# Copying the list to Directory\n",
        "for image_example in image_examples:\n",
        "    destination = foodvision_mini_examples_path / image_example.name\n",
        "    print(f\"[INFO] Copying {image_example} to {destination}\")\n",
        "    shutil.copy2(src=image_example, dst=destination)"
      ],
      "metadata": {
        "colab": {
          "base_uri": "https://localhost:8080/"
        },
        "id": "zLwRMMBSzKaP",
        "outputId": "ea536a66-b613-4b86-e81f-b1a2b2c86f73"
      },
      "execution_count": 101,
      "outputs": [
        {
          "output_type": "stream",
          "name": "stdout",
          "text": [
            "[INFO] Copying /content/data/pizza_steak_sushi_20_percent/test/sushi/3227791.jpg to /content/demos/foodvision_mini/examples/3227791.jpg\n",
            "[INFO] Copying /content/data/pizza_steak_sushi_20_percent/test/pizza/788315.jpg to /content/demos/foodvision_mini/examples/788315.jpg\n",
            "[INFO] Copying /content/data/pizza_steak_sushi_20_percent/test/steak/1335842.jpg to /content/demos/foodvision_mini/examples/1335842.jpg\n",
            "[INFO] Copying /content/data/pizza_steak_sushi_20_percent/test/steak/1882831.jpg to /content/demos/foodvision_mini/examples/1882831.jpg\n",
            "[INFO] Copying /content/data/pizza_steak_sushi_20_percent/test/pizza/380739.jpg to /content/demos/foodvision_mini/examples/380739.jpg\n",
            "[INFO] Copying /content/data/pizza_steak_sushi_20_percent/test/pizza/3497151.jpg to /content/demos/foodvision_mini/examples/3497151.jpg\n",
            "[INFO] Copying /content/data/pizza_steak_sushi_20_percent/test/steak/595836.jpg to /content/demos/foodvision_mini/examples/595836.jpg\n"
          ]
        }
      ]
    },
    {
      "cell_type": "markdown",
      "source": [
        "### Moving out Model to Directory"
      ],
      "metadata": {
        "id": "qfclbW4y1u9-"
      }
    },
    {
      "cell_type": "code",
      "source": [
        "effnet_b2_path = \"/content/models/EffNetB2.pth\"\n",
        "effnetb2_foodvision_mini_model_destination = foodvision_mini_demo_path / effnet_b2_path.split(\"/\")[-1]\n",
        "\n",
        "print(f\"[INFO] Copying {effnet_b2_path} to {effnetb2_foodvision_mini_model_destination}\")\n",
        "\n",
        "# We can also create a try/except block\n",
        "shutil.copy2(src=effnet_b2_path, dst=effnetb2_foodvision_mini_model_destination)"
      ],
      "metadata": {
        "colab": {
          "base_uri": "https://localhost:8080/"
        },
        "id": "5Mo5cI6H1xB9",
        "outputId": "a204bb87-3cd9-4831-9554-2346872fc136"
      },
      "execution_count": 102,
      "outputs": [
        {
          "output_type": "stream",
          "name": "stdout",
          "text": [
            "[INFO] Copying /content/models/EffNetB2.pth to /content/demos/foodvision_mini/EffNetB2.pth\n"
          ]
        },
        {
          "output_type": "execute_result",
          "data": {
            "text/plain": [
              "PosixPath('/content/demos/foodvision_mini/EffNetB2.pth')"
            ]
          },
          "metadata": {},
          "execution_count": 102
        }
      ]
    },
    {
      "cell_type": "markdown",
      "source": [
        "### Turning out EffNetB2 Model into a Python Script"
      ],
      "metadata": {
        "id": "jegn-yNP3Qrk"
      }
    },
    {
      "cell_type": "code",
      "source": [
        "%%writefile /content/demos/foodvision_mini/model.py\n",
        "from torchvision import models\n",
        "from torch import nn\n",
        "\n",
        "\n",
        "def create_effnetb2_model(num_classes=3):\n",
        "\n",
        "    # Creating EffNetB2 pretrained Weights, Transforms and Model\n",
        "    weights = models.EfficientNet_B2_Weights.DEFAULT\n",
        "    transforms = weights.transforms()\n",
        "    model = models.efficientnet_b2(weights=weights)\n",
        "\n",
        "    # Freezing all layers in Base Model\n",
        "    for param in model.parameters():\n",
        "        param.requires_grad = False\n",
        "\n",
        "    # Changing the Classifier Head\n",
        "    model.classifier = nn.Sequential(\n",
        "        nn.Dropout(p=0.3, inplace=True),\n",
        "        nn.Linear(in_features=1408, out_features=num_classes),\n",
        "    )\n",
        "    \n",
        "    return model, transforms"
      ],
      "metadata": {
        "colab": {
          "base_uri": "https://localhost:8080/"
        },
        "id": "_Nm3xgyz3UL1",
        "outputId": "aea1824e-6caa-4af8-c844-239328ddc8e8"
      },
      "execution_count": 103,
      "outputs": [
        {
          "output_type": "stream",
          "name": "stdout",
          "text": [
            "Writing /content/demos/foodvision_mini/model.py\n"
          ]
        }
      ]
    },
    {
      "cell_type": "markdown",
      "source": [
        "### Turning our FoodVision Mini Gradio App into a Python Script\n",
        "\n",
        "We've now got a `model.py` script as well as a path to a saved Model `state_dict` that we can load in.\n",
        "\n",
        "Time to construct `app.py`.\n",
        "\n",
        "We call it `app.py` because by default when you create a **HuggingFace Space**, it looks for a file called `app.py` to run and host (though you can change this in settings)."
      ],
      "metadata": {
        "id": "4qNfHlbq3kZC"
      }
    },
    {
      "cell_type": "code",
      "source": [
        "%%writefile /content/demos/foodvision_mini/app.py\n",
        "### 1. Importing Libraries and Setting `class_names` ###\n",
        "import torch\n",
        "\n",
        "import gradio as gr\n",
        "from timeit import default_timer as timer\n",
        "from pathlib import Path\n",
        "\n",
        "from model import create_effnetb2_model\n",
        "\n",
        "\n",
        "class_names = [\"pizza\", \"steak\", \"sushi\"]\n",
        "\n",
        "\n",
        "### 2. Creating the Model, Getting Transformations and Loading Parameters ###\n",
        "\n",
        "effnet_b2, effnet_b2_transforms = create_effnetb2_model(num_classes=len(class_names))\n",
        "effnet_b2.load_state_dict(torch.load(f=\"EffNetB2.pth\",\n",
        "                                     map_location=torch.device(\"cuda\"))) # Load it on GPU\n",
        "\n",
        "\n",
        "### 3. Creating a Function to Map Inputs, Outputs ###\n",
        "\n",
        "def predict(img):\n",
        "    start_time = timer()\n",
        "\n",
        "    # Transforming the image and adding Batch Dimension\n",
        "    transformed_img = effnet_b2_transforms(img).unsqueeze(dim=0)\n",
        "\n",
        "    # Make Predictions\n",
        "    effnet_b2.eval()\n",
        "    with torch.inference_mode():\n",
        "        pred_probs = torch.softmax(effnet_b2(transformed_img), dim=1)\n",
        "\n",
        "    pred_labels_and_probs = {class_names[i]: round(pred_probs[0][i].item(), 4) for i in range(len(class_names))}\n",
        "\n",
        "    return pred_labels_and_probs, (timer() - start_time)\n",
        "\n",
        "\n",
        "### 4. Initializing the Gradio App ###\n",
        "\n",
        "title = \"FoodVision Mini 🍕🥩🍣\"\n",
        "description = \"An EfficientNetB2 feature extractor computer vision model to classify images of food as pizza, steak or sushi.\"\n",
        "\n",
        "# Create examples list from \"examples/\" directory\n",
        "example_list = [[str(example)] for example in Path(\"examples/\").glob(\"*.jpg\")]\n",
        "\n",
        "# Create the Gradio demo\n",
        "demo = gr.Interface(fn=predict,\n",
        "                    inputs=gr.Image(type=\"pil\"),\n",
        "                    outputs=[gr.Label(num_top_classes=3, label=\"Predictions\"),\n",
        "                             gr.Number(label=\"Prediction time (s)\")],\n",
        "                    examples=example_list, \n",
        "                    title=title,\n",
        "                    description=description)\n",
        "\n",
        "# Launch the demo\n",
        "demo.launch()"
      ],
      "metadata": {
        "colab": {
          "base_uri": "https://localhost:8080/"
        },
        "id": "h015t6T94RYI",
        "outputId": "e23b8c07-c7e7-49a7-c1be-393b102d3967"
      },
      "execution_count": 104,
      "outputs": [
        {
          "output_type": "stream",
          "name": "stdout",
          "text": [
            "Writing /content/demos/foodvision_mini/app.py\n"
          ]
        }
      ]
    },
    {
      "cell_type": "markdown",
      "source": [
        "###  Creating a Requirements File for FoodVision Mini\n",
        "\n",
        "When we deploy our demo app to Hugging Face Spaces, it will search through this file and install the `dependencies` we define so our app can run.\n",
        "\n",
        "The good news is, there's only three:\n",
        "1. `torch==1.13.1`\n",
        "2. `torchvision==0.14.1`\n",
        "3. `gradio==3.22.1`"
      ],
      "metadata": {
        "id": "1K-mqnf_8XiL"
      }
    },
    {
      "cell_type": "code",
      "source": [
        "%%writefile /content/demos/foodvision_mini/requirements.txt\n",
        "torch==1.13.1\n",
        "torchvision==0.14.1\n",
        "gradio==3.22.1"
      ],
      "metadata": {
        "colab": {
          "base_uri": "https://localhost:8080/"
        },
        "id": "pGRA1T8-8Z0j",
        "outputId": "d3c727bd-f4f3-414d-e9bd-dcac47ba95e1"
      },
      "execution_count": 105,
      "outputs": [
        {
          "output_type": "stream",
          "name": "stdout",
          "text": [
            "Writing /content/demos/foodvision_mini/requirements.txt\n"
          ]
        }
      ]
    },
    {
      "cell_type": "markdown",
      "source": [
        "## Deploying our FoodVision Mini app to HuggingFace Spaces\n",
        "\n",
        "We've got a file containing our FoodVision Mini demo, now how do we get it to run on Hugging Face Spaces?\n",
        "\n",
        "There are two main options for uploading to a Hugging Face Space (also called a Hugging Face Repository, similar to a git repository):\n",
        "* [Uploading via the Hugging Face Web interface](https://huggingface.co/docs/hub/repositories-getting-started#adding-files-to-a-repository-web-ui)\n",
        "* [Uploading via the command line or terminal](https://huggingface.co/docs/hub/repositories-getting-started#terminal)"
      ],
      "metadata": {
        "id": "eLk6pU8f9gEv"
      }
    },
    {
      "cell_type": "markdown",
      "source": [
        "To begin uploading our files to `Hugging Face`, let's now download them from Google Colab."
      ],
      "metadata": {
        "id": "SUk66oNk-3B8"
      }
    },
    {
      "cell_type": "code",
      "source": [
        "!cd demos/foodvision_mini && zip -r ../foodvision_mini.zip * -x \"*.pyc\" \"*.ipynb\" \"*__pycache__*\" \"*ipynb_checkpoints*\""
      ],
      "metadata": {
        "colab": {
          "base_uri": "https://localhost:8080/"
        },
        "id": "ImzeZRVE9NO5",
        "outputId": "c5066b67-6209-44cd-d425-dd602b6cd6ea"
      },
      "execution_count": 106,
      "outputs": [
        {
          "output_type": "stream",
          "name": "stdout",
          "text": [
            "  adding: app.py (deflated 52%)\n",
            "  adding: EffNetB2.pth (deflated 8%)\n",
            "  adding: examples/ (stored 0%)\n",
            "  adding: examples/3497151.jpg (deflated 1%)\n",
            "  adding: examples/3227791.jpg (deflated 1%)\n",
            "  adding: examples/380739.jpg (deflated 0%)\n",
            "  adding: examples/788315.jpg (deflated 0%)\n",
            "  adding: examples/595836.jpg (deflated 1%)\n",
            "  adding: examples/1335842.jpg (deflated 0%)\n",
            "  adding: examples/1882831.jpg (deflated 0%)\n",
            "  adding: model.py (deflated 45%)\n",
            "  adding: requirements.txt (deflated 6%)\n"
          ]
        }
      ]
    },
    {
      "cell_type": "code",
      "source": [
        "# Downloading the `zip` file from Google Colab (into /user)\n",
        "from google.colab import files\n",
        "files.download(\"/content/demos/foodvision_mini.zip\")"
      ],
      "metadata": {
        "colab": {
          "base_uri": "https://localhost:8080/",
          "height": 17
        },
        "id": "iJdnxeXj_RET",
        "outputId": "6fcf8507-b000-433d-bd9c-d6a1bca21bfc"
      },
      "execution_count": 107,
      "outputs": [
        {
          "output_type": "display_data",
          "data": {
            "text/plain": [
              "<IPython.core.display.Javascript object>"
            ],
            "application/javascript": [
              "\n",
              "    async function download(id, filename, size) {\n",
              "      if (!google.colab.kernel.accessAllowed) {\n",
              "        return;\n",
              "      }\n",
              "      const div = document.createElement('div');\n",
              "      const label = document.createElement('label');\n",
              "      label.textContent = `Downloading \"${filename}\": `;\n",
              "      div.appendChild(label);\n",
              "      const progress = document.createElement('progress');\n",
              "      progress.max = size;\n",
              "      div.appendChild(progress);\n",
              "      document.body.appendChild(div);\n",
              "\n",
              "      const buffers = [];\n",
              "      let downloaded = 0;\n",
              "\n",
              "      const channel = await google.colab.kernel.comms.open(id);\n",
              "      // Send a message to notify the kernel that we're ready.\n",
              "      channel.send({})\n",
              "\n",
              "      for await (const message of channel.messages) {\n",
              "        // Send a message to notify the kernel that we're ready.\n",
              "        channel.send({})\n",
              "        if (message.buffers) {\n",
              "          for (const buffer of message.buffers) {\n",
              "            buffers.push(buffer);\n",
              "            downloaded += buffer.byteLength;\n",
              "            progress.value = downloaded;\n",
              "          }\n",
              "        }\n",
              "      }\n",
              "      const blob = new Blob(buffers, {type: 'application/binary'});\n",
              "      const a = document.createElement('a');\n",
              "      a.href = window.URL.createObjectURL(blob);\n",
              "      a.download = filename;\n",
              "      div.appendChild(a);\n",
              "      a.click();\n",
              "      div.remove();\n",
              "    }\n",
              "  "
            ]
          },
          "metadata": {}
        },
        {
          "output_type": "display_data",
          "data": {
            "text/plain": [
              "<IPython.core.display.Javascript object>"
            ],
            "application/javascript": [
              "download(\"download_fd27deb7-94a3-407c-aa67-c026fe49da90\", \"foodvision_mini.zip\", 29105707)"
            ]
          },
          "metadata": {}
        }
      ]
    },
    {
      "cell_type": "markdown",
      "source": [
        "## Last Step\n",
        "\n",
        "1. Sign up for a Hugging Face account.\n",
        "2. Start a new Hugging Face Space by going to your profile and then clicking `New Space`.\n",
        "    * **Note**: A Space in Hugging Face is also known as a \"code repository\" (a place to store your code/files) or \"repo\" for short.\n",
        "3. Give the Space a name, for example, mine is called `PJF/foodvision_mini`.\n",
        "4. Select a license (I used MIT).\n",
        "5. Select `Gradio` as the Space SDK (software development kit).\n",
        "6. Choose whether your Space is it's public or private.\n",
        "7. Click `Create Space`.\n",
        "8. Clone the repo locally by running something like: git clone https://huggingface.co/spaces/[YOUR_USERNAME]/[YOUR_SPACE_NAME] in terminal or command prompt.\n",
        "    * **Note**: You can also add files via uploading them under the `Files and versions` tab.\n",
        "9. Copy/move the contents of the downloaded `foodvision_mini` folder to the cloned repo folder.\n",
        "10. To upload and track larger files (e.g. files over 10MB or in our case, our PyTorch model file) you'll need to install `Git LFS` (which stands for \"git large file storage\").\n",
        "11. After you've installed Git LFS, you can activate it by running `git lfs install`.\n",
        "12. In the `foodvision_mini` directory, track the files over 10MB with Git LFS with `git lfs track \"*.file_extension\"` (etc git lfs track \"EffNetB2.pth\")\n",
        "13. `git add .gitattributes`\n",
        "14. `git add *`\n",
        "15. `git commit`\n",
        "16. `git push`\n",
        "17. Wait 3-5 minutes for the build to happen (future builds are faster) and your app to become live!\n"
      ],
      "metadata": {
        "id": "5OcAUEx3I4QA"
      }
    }
  ]
}