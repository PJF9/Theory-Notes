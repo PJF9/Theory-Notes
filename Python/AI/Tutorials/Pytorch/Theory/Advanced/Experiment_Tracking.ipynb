{
  "nbformat": 4,
  "nbformat_minor": 0,
  "metadata": {
    "colab": {
      "provenance": []
    },
    "kernelspec": {
      "name": "python3",
      "display_name": "Python 3"
    },
    "language_info": {
      "name": "python"
    },
    "accelerator": "GPU",
    "gpuClass": "standard",
    "widgets": {
      "application/vnd.jupyter.widget-state+json": {
        "70c8a6c610784f9f93a775f96871d400": {
          "model_module": "@jupyter-widgets/controls",
          "model_name": "HBoxModel",
          "model_module_version": "1.5.0",
          "state": {
            "_dom_classes": [],
            "_model_module": "@jupyter-widgets/controls",
            "_model_module_version": "1.5.0",
            "_model_name": "HBoxModel",
            "_view_count": null,
            "_view_module": "@jupyter-widgets/controls",
            "_view_module_version": "1.5.0",
            "_view_name": "HBoxView",
            "box_style": "",
            "children": [
              "IPY_MODEL_1d3f69c8112348c99dcf3b7e4ede0344",
              "IPY_MODEL_f1e71fb2168d4051b2ae9cd5435985e5",
              "IPY_MODEL_57978c092cf14604be558079fb1815f6"
            ],
            "layout": "IPY_MODEL_9c2c0f5691f14c408c5cfcc1016d6417"
          }
        },
        "1d3f69c8112348c99dcf3b7e4ede0344": {
          "model_module": "@jupyter-widgets/controls",
          "model_name": "HTMLModel",
          "model_module_version": "1.5.0",
          "state": {
            "_dom_classes": [],
            "_model_module": "@jupyter-widgets/controls",
            "_model_module_version": "1.5.0",
            "_model_name": "HTMLModel",
            "_view_count": null,
            "_view_module": "@jupyter-widgets/controls",
            "_view_module_version": "1.5.0",
            "_view_name": "HTMLView",
            "description": "",
            "description_tooltip": null,
            "layout": "IPY_MODEL_7ab0ed1a40754ce68076fcd99cab2551",
            "placeholder": "​",
            "style": "IPY_MODEL_62537e2bf4904f7d980df7c317dbe016",
            "value": "100%"
          }
        },
        "f1e71fb2168d4051b2ae9cd5435985e5": {
          "model_module": "@jupyter-widgets/controls",
          "model_name": "FloatProgressModel",
          "model_module_version": "1.5.0",
          "state": {
            "_dom_classes": [],
            "_model_module": "@jupyter-widgets/controls",
            "_model_module_version": "1.5.0",
            "_model_name": "FloatProgressModel",
            "_view_count": null,
            "_view_module": "@jupyter-widgets/controls",
            "_view_module_version": "1.5.0",
            "_view_name": "ProgressView",
            "bar_style": "success",
            "description": "",
            "description_tooltip": null,
            "layout": "IPY_MODEL_209d11ad30aa488c8b136eea6ce2d70e",
            "max": 21444401,
            "min": 0,
            "orientation": "horizontal",
            "style": "IPY_MODEL_29de3ca61b28493fb44327eac28ac18b",
            "value": 21444401
          }
        },
        "57978c092cf14604be558079fb1815f6": {
          "model_module": "@jupyter-widgets/controls",
          "model_name": "HTMLModel",
          "model_module_version": "1.5.0",
          "state": {
            "_dom_classes": [],
            "_model_module": "@jupyter-widgets/controls",
            "_model_module_version": "1.5.0",
            "_model_name": "HTMLModel",
            "_view_count": null,
            "_view_module": "@jupyter-widgets/controls",
            "_view_module_version": "1.5.0",
            "_view_name": "HTMLView",
            "description": "",
            "description_tooltip": null,
            "layout": "IPY_MODEL_daa27ef1cd904336a5e999b5345d3ec8",
            "placeholder": "​",
            "style": "IPY_MODEL_51bcbb68a23d447a95f36cb89a4d8ee3",
            "value": " 20.5M/20.5M [00:00&lt;00:00, 35.5MB/s]"
          }
        },
        "9c2c0f5691f14c408c5cfcc1016d6417": {
          "model_module": "@jupyter-widgets/base",
          "model_name": "LayoutModel",
          "model_module_version": "1.2.0",
          "state": {
            "_model_module": "@jupyter-widgets/base",
            "_model_module_version": "1.2.0",
            "_model_name": "LayoutModel",
            "_view_count": null,
            "_view_module": "@jupyter-widgets/base",
            "_view_module_version": "1.2.0",
            "_view_name": "LayoutView",
            "align_content": null,
            "align_items": null,
            "align_self": null,
            "border": null,
            "bottom": null,
            "display": null,
            "flex": null,
            "flex_flow": null,
            "grid_area": null,
            "grid_auto_columns": null,
            "grid_auto_flow": null,
            "grid_auto_rows": null,
            "grid_column": null,
            "grid_gap": null,
            "grid_row": null,
            "grid_template_areas": null,
            "grid_template_columns": null,
            "grid_template_rows": null,
            "height": null,
            "justify_content": null,
            "justify_items": null,
            "left": null,
            "margin": null,
            "max_height": null,
            "max_width": null,
            "min_height": null,
            "min_width": null,
            "object_fit": null,
            "object_position": null,
            "order": null,
            "overflow": null,
            "overflow_x": null,
            "overflow_y": null,
            "padding": null,
            "right": null,
            "top": null,
            "visibility": null,
            "width": null
          }
        },
        "7ab0ed1a40754ce68076fcd99cab2551": {
          "model_module": "@jupyter-widgets/base",
          "model_name": "LayoutModel",
          "model_module_version": "1.2.0",
          "state": {
            "_model_module": "@jupyter-widgets/base",
            "_model_module_version": "1.2.0",
            "_model_name": "LayoutModel",
            "_view_count": null,
            "_view_module": "@jupyter-widgets/base",
            "_view_module_version": "1.2.0",
            "_view_name": "LayoutView",
            "align_content": null,
            "align_items": null,
            "align_self": null,
            "border": null,
            "bottom": null,
            "display": null,
            "flex": null,
            "flex_flow": null,
            "grid_area": null,
            "grid_auto_columns": null,
            "grid_auto_flow": null,
            "grid_auto_rows": null,
            "grid_column": null,
            "grid_gap": null,
            "grid_row": null,
            "grid_template_areas": null,
            "grid_template_columns": null,
            "grid_template_rows": null,
            "height": null,
            "justify_content": null,
            "justify_items": null,
            "left": null,
            "margin": null,
            "max_height": null,
            "max_width": null,
            "min_height": null,
            "min_width": null,
            "object_fit": null,
            "object_position": null,
            "order": null,
            "overflow": null,
            "overflow_x": null,
            "overflow_y": null,
            "padding": null,
            "right": null,
            "top": null,
            "visibility": null,
            "width": null
          }
        },
        "62537e2bf4904f7d980df7c317dbe016": {
          "model_module": "@jupyter-widgets/controls",
          "model_name": "DescriptionStyleModel",
          "model_module_version": "1.5.0",
          "state": {
            "_model_module": "@jupyter-widgets/controls",
            "_model_module_version": "1.5.0",
            "_model_name": "DescriptionStyleModel",
            "_view_count": null,
            "_view_module": "@jupyter-widgets/base",
            "_view_module_version": "1.2.0",
            "_view_name": "StyleView",
            "description_width": ""
          }
        },
        "209d11ad30aa488c8b136eea6ce2d70e": {
          "model_module": "@jupyter-widgets/base",
          "model_name": "LayoutModel",
          "model_module_version": "1.2.0",
          "state": {
            "_model_module": "@jupyter-widgets/base",
            "_model_module_version": "1.2.0",
            "_model_name": "LayoutModel",
            "_view_count": null,
            "_view_module": "@jupyter-widgets/base",
            "_view_module_version": "1.2.0",
            "_view_name": "LayoutView",
            "align_content": null,
            "align_items": null,
            "align_self": null,
            "border": null,
            "bottom": null,
            "display": null,
            "flex": null,
            "flex_flow": null,
            "grid_area": null,
            "grid_auto_columns": null,
            "grid_auto_flow": null,
            "grid_auto_rows": null,
            "grid_column": null,
            "grid_gap": null,
            "grid_row": null,
            "grid_template_areas": null,
            "grid_template_columns": null,
            "grid_template_rows": null,
            "height": null,
            "justify_content": null,
            "justify_items": null,
            "left": null,
            "margin": null,
            "max_height": null,
            "max_width": null,
            "min_height": null,
            "min_width": null,
            "object_fit": null,
            "object_position": null,
            "order": null,
            "overflow": null,
            "overflow_x": null,
            "overflow_y": null,
            "padding": null,
            "right": null,
            "top": null,
            "visibility": null,
            "width": null
          }
        },
        "29de3ca61b28493fb44327eac28ac18b": {
          "model_module": "@jupyter-widgets/controls",
          "model_name": "ProgressStyleModel",
          "model_module_version": "1.5.0",
          "state": {
            "_model_module": "@jupyter-widgets/controls",
            "_model_module_version": "1.5.0",
            "_model_name": "ProgressStyleModel",
            "_view_count": null,
            "_view_module": "@jupyter-widgets/base",
            "_view_module_version": "1.2.0",
            "_view_name": "StyleView",
            "bar_color": null,
            "description_width": ""
          }
        },
        "daa27ef1cd904336a5e999b5345d3ec8": {
          "model_module": "@jupyter-widgets/base",
          "model_name": "LayoutModel",
          "model_module_version": "1.2.0",
          "state": {
            "_model_module": "@jupyter-widgets/base",
            "_model_module_version": "1.2.0",
            "_model_name": "LayoutModel",
            "_view_count": null,
            "_view_module": "@jupyter-widgets/base",
            "_view_module_version": "1.2.0",
            "_view_name": "LayoutView",
            "align_content": null,
            "align_items": null,
            "align_self": null,
            "border": null,
            "bottom": null,
            "display": null,
            "flex": null,
            "flex_flow": null,
            "grid_area": null,
            "grid_auto_columns": null,
            "grid_auto_flow": null,
            "grid_auto_rows": null,
            "grid_column": null,
            "grid_gap": null,
            "grid_row": null,
            "grid_template_areas": null,
            "grid_template_columns": null,
            "grid_template_rows": null,
            "height": null,
            "justify_content": null,
            "justify_items": null,
            "left": null,
            "margin": null,
            "max_height": null,
            "max_width": null,
            "min_height": null,
            "min_width": null,
            "object_fit": null,
            "object_position": null,
            "order": null,
            "overflow": null,
            "overflow_x": null,
            "overflow_y": null,
            "padding": null,
            "right": null,
            "top": null,
            "visibility": null,
            "width": null
          }
        },
        "51bcbb68a23d447a95f36cb89a4d8ee3": {
          "model_module": "@jupyter-widgets/controls",
          "model_name": "DescriptionStyleModel",
          "model_module_version": "1.5.0",
          "state": {
            "_model_module": "@jupyter-widgets/controls",
            "_model_module_version": "1.5.0",
            "_model_name": "DescriptionStyleModel",
            "_view_count": null,
            "_view_module": "@jupyter-widgets/base",
            "_view_module_version": "1.2.0",
            "_view_name": "StyleView",
            "description_width": ""
          }
        },
        "69150c7be2504260b855b402fed3c810": {
          "model_module": "@jupyter-widgets/controls",
          "model_name": "HBoxModel",
          "model_module_version": "1.5.0",
          "state": {
            "_dom_classes": [],
            "_model_module": "@jupyter-widgets/controls",
            "_model_module_version": "1.5.0",
            "_model_name": "HBoxModel",
            "_view_count": null,
            "_view_module": "@jupyter-widgets/controls",
            "_view_module_version": "1.5.0",
            "_view_name": "HBoxView",
            "box_style": "",
            "children": [
              "IPY_MODEL_b04aa34835024bae99b7b02a7bcf9043",
              "IPY_MODEL_e009e7ccf1b247a2a45c742bc79decc2",
              "IPY_MODEL_6299bda0370a47fba9502a27fa6f2315"
            ],
            "layout": "IPY_MODEL_c9965fd6da4b4aedad2e7280f55dffe0"
          }
        },
        "b04aa34835024bae99b7b02a7bcf9043": {
          "model_module": "@jupyter-widgets/controls",
          "model_name": "HTMLModel",
          "model_module_version": "1.5.0",
          "state": {
            "_dom_classes": [],
            "_model_module": "@jupyter-widgets/controls",
            "_model_module_version": "1.5.0",
            "_model_name": "HTMLModel",
            "_view_count": null,
            "_view_module": "@jupyter-widgets/controls",
            "_view_module_version": "1.5.0",
            "_view_name": "HTMLView",
            "description": "",
            "description_tooltip": null,
            "layout": "IPY_MODEL_7f422a327ccd41faa45e68a89d6de994",
            "placeholder": "​",
            "style": "IPY_MODEL_79946e820dad48a6a22d74d32c486d24",
            "value": "100%"
          }
        },
        "e009e7ccf1b247a2a45c742bc79decc2": {
          "model_module": "@jupyter-widgets/controls",
          "model_name": "FloatProgressModel",
          "model_module_version": "1.5.0",
          "state": {
            "_dom_classes": [],
            "_model_module": "@jupyter-widgets/controls",
            "_model_module_version": "1.5.0",
            "_model_name": "FloatProgressModel",
            "_view_count": null,
            "_view_module": "@jupyter-widgets/controls",
            "_view_module_version": "1.5.0",
            "_view_name": "ProgressView",
            "bar_style": "success",
            "description": "",
            "description_tooltip": null,
            "layout": "IPY_MODEL_695db5289689416683f93825440f2949",
            "max": 3,
            "min": 0,
            "orientation": "horizontal",
            "style": "IPY_MODEL_7b0eb7ac480749978fdf9c2bc74480db",
            "value": 3
          }
        },
        "6299bda0370a47fba9502a27fa6f2315": {
          "model_module": "@jupyter-widgets/controls",
          "model_name": "HTMLModel",
          "model_module_version": "1.5.0",
          "state": {
            "_dom_classes": [],
            "_model_module": "@jupyter-widgets/controls",
            "_model_module_version": "1.5.0",
            "_model_name": "HTMLModel",
            "_view_count": null,
            "_view_module": "@jupyter-widgets/controls",
            "_view_module_version": "1.5.0",
            "_view_name": "HTMLView",
            "description": "",
            "description_tooltip": null,
            "layout": "IPY_MODEL_52b4d52b78c947a0ab999bae3cacb313",
            "placeholder": "​",
            "style": "IPY_MODEL_078dedea4f3645878133082bd3d0eeb6",
            "value": " 3/3 [02:09&lt;00:00, 32.11s/it]"
          }
        },
        "c9965fd6da4b4aedad2e7280f55dffe0": {
          "model_module": "@jupyter-widgets/base",
          "model_name": "LayoutModel",
          "model_module_version": "1.2.0",
          "state": {
            "_model_module": "@jupyter-widgets/base",
            "_model_module_version": "1.2.0",
            "_model_name": "LayoutModel",
            "_view_count": null,
            "_view_module": "@jupyter-widgets/base",
            "_view_module_version": "1.2.0",
            "_view_name": "LayoutView",
            "align_content": null,
            "align_items": null,
            "align_self": null,
            "border": null,
            "bottom": null,
            "display": null,
            "flex": null,
            "flex_flow": null,
            "grid_area": null,
            "grid_auto_columns": null,
            "grid_auto_flow": null,
            "grid_auto_rows": null,
            "grid_column": null,
            "grid_gap": null,
            "grid_row": null,
            "grid_template_areas": null,
            "grid_template_columns": null,
            "grid_template_rows": null,
            "height": null,
            "justify_content": null,
            "justify_items": null,
            "left": null,
            "margin": null,
            "max_height": null,
            "max_width": null,
            "min_height": null,
            "min_width": null,
            "object_fit": null,
            "object_position": null,
            "order": null,
            "overflow": null,
            "overflow_x": null,
            "overflow_y": null,
            "padding": null,
            "right": null,
            "top": null,
            "visibility": null,
            "width": null
          }
        },
        "7f422a327ccd41faa45e68a89d6de994": {
          "model_module": "@jupyter-widgets/base",
          "model_name": "LayoutModel",
          "model_module_version": "1.2.0",
          "state": {
            "_model_module": "@jupyter-widgets/base",
            "_model_module_version": "1.2.0",
            "_model_name": "LayoutModel",
            "_view_count": null,
            "_view_module": "@jupyter-widgets/base",
            "_view_module_version": "1.2.0",
            "_view_name": "LayoutView",
            "align_content": null,
            "align_items": null,
            "align_self": null,
            "border": null,
            "bottom": null,
            "display": null,
            "flex": null,
            "flex_flow": null,
            "grid_area": null,
            "grid_auto_columns": null,
            "grid_auto_flow": null,
            "grid_auto_rows": null,
            "grid_column": null,
            "grid_gap": null,
            "grid_row": null,
            "grid_template_areas": null,
            "grid_template_columns": null,
            "grid_template_rows": null,
            "height": null,
            "justify_content": null,
            "justify_items": null,
            "left": null,
            "margin": null,
            "max_height": null,
            "max_width": null,
            "min_height": null,
            "min_width": null,
            "object_fit": null,
            "object_position": null,
            "order": null,
            "overflow": null,
            "overflow_x": null,
            "overflow_y": null,
            "padding": null,
            "right": null,
            "top": null,
            "visibility": null,
            "width": null
          }
        },
        "79946e820dad48a6a22d74d32c486d24": {
          "model_module": "@jupyter-widgets/controls",
          "model_name": "DescriptionStyleModel",
          "model_module_version": "1.5.0",
          "state": {
            "_model_module": "@jupyter-widgets/controls",
            "_model_module_version": "1.5.0",
            "_model_name": "DescriptionStyleModel",
            "_view_count": null,
            "_view_module": "@jupyter-widgets/base",
            "_view_module_version": "1.2.0",
            "_view_name": "StyleView",
            "description_width": ""
          }
        },
        "695db5289689416683f93825440f2949": {
          "model_module": "@jupyter-widgets/base",
          "model_name": "LayoutModel",
          "model_module_version": "1.2.0",
          "state": {
            "_model_module": "@jupyter-widgets/base",
            "_model_module_version": "1.2.0",
            "_model_name": "LayoutModel",
            "_view_count": null,
            "_view_module": "@jupyter-widgets/base",
            "_view_module_version": "1.2.0",
            "_view_name": "LayoutView",
            "align_content": null,
            "align_items": null,
            "align_self": null,
            "border": null,
            "bottom": null,
            "display": null,
            "flex": null,
            "flex_flow": null,
            "grid_area": null,
            "grid_auto_columns": null,
            "grid_auto_flow": null,
            "grid_auto_rows": null,
            "grid_column": null,
            "grid_gap": null,
            "grid_row": null,
            "grid_template_areas": null,
            "grid_template_columns": null,
            "grid_template_rows": null,
            "height": null,
            "justify_content": null,
            "justify_items": null,
            "left": null,
            "margin": null,
            "max_height": null,
            "max_width": null,
            "min_height": null,
            "min_width": null,
            "object_fit": null,
            "object_position": null,
            "order": null,
            "overflow": null,
            "overflow_x": null,
            "overflow_y": null,
            "padding": null,
            "right": null,
            "top": null,
            "visibility": null,
            "width": null
          }
        },
        "7b0eb7ac480749978fdf9c2bc74480db": {
          "model_module": "@jupyter-widgets/controls",
          "model_name": "ProgressStyleModel",
          "model_module_version": "1.5.0",
          "state": {
            "_model_module": "@jupyter-widgets/controls",
            "_model_module_version": "1.5.0",
            "_model_name": "ProgressStyleModel",
            "_view_count": null,
            "_view_module": "@jupyter-widgets/base",
            "_view_module_version": "1.2.0",
            "_view_name": "StyleView",
            "bar_color": null,
            "description_width": ""
          }
        },
        "52b4d52b78c947a0ab999bae3cacb313": {
          "model_module": "@jupyter-widgets/base",
          "model_name": "LayoutModel",
          "model_module_version": "1.2.0",
          "state": {
            "_model_module": "@jupyter-widgets/base",
            "_model_module_version": "1.2.0",
            "_model_name": "LayoutModel",
            "_view_count": null,
            "_view_module": "@jupyter-widgets/base",
            "_view_module_version": "1.2.0",
            "_view_name": "LayoutView",
            "align_content": null,
            "align_items": null,
            "align_self": null,
            "border": null,
            "bottom": null,
            "display": null,
            "flex": null,
            "flex_flow": null,
            "grid_area": null,
            "grid_auto_columns": null,
            "grid_auto_flow": null,
            "grid_auto_rows": null,
            "grid_column": null,
            "grid_gap": null,
            "grid_row": null,
            "grid_template_areas": null,
            "grid_template_columns": null,
            "grid_template_rows": null,
            "height": null,
            "justify_content": null,
            "justify_items": null,
            "left": null,
            "margin": null,
            "max_height": null,
            "max_width": null,
            "min_height": null,
            "min_width": null,
            "object_fit": null,
            "object_position": null,
            "order": null,
            "overflow": null,
            "overflow_x": null,
            "overflow_y": null,
            "padding": null,
            "right": null,
            "top": null,
            "visibility": null,
            "width": null
          }
        },
        "078dedea4f3645878133082bd3d0eeb6": {
          "model_module": "@jupyter-widgets/controls",
          "model_name": "DescriptionStyleModel",
          "model_module_version": "1.5.0",
          "state": {
            "_model_module": "@jupyter-widgets/controls",
            "_model_module_version": "1.5.0",
            "_model_name": "DescriptionStyleModel",
            "_view_count": null,
            "_view_module": "@jupyter-widgets/base",
            "_view_module_version": "1.2.0",
            "_view_name": "StyleView",
            "description_width": ""
          }
        },
        "8bc42ffeef874417a71776af14777af0": {
          "model_module": "@jupyter-widgets/controls",
          "model_name": "HBoxModel",
          "model_module_version": "1.5.0",
          "state": {
            "_dom_classes": [],
            "_model_module": "@jupyter-widgets/controls",
            "_model_module_version": "1.5.0",
            "_model_name": "HBoxModel",
            "_view_count": null,
            "_view_module": "@jupyter-widgets/controls",
            "_view_module_version": "1.5.0",
            "_view_name": "HBoxView",
            "box_style": "",
            "children": [
              "IPY_MODEL_a9a8782abedd4b45bb4473a21864e7fd",
              "IPY_MODEL_ef2a3ef4aa614b59b7f52ae8070b4c8d",
              "IPY_MODEL_d86abc96c29247a99e038add64859278"
            ],
            "layout": "IPY_MODEL_e9dcba0c1fbd497c80dbee1ce7e7889d"
          }
        },
        "a9a8782abedd4b45bb4473a21864e7fd": {
          "model_module": "@jupyter-widgets/controls",
          "model_name": "HTMLModel",
          "model_module_version": "1.5.0",
          "state": {
            "_dom_classes": [],
            "_model_module": "@jupyter-widgets/controls",
            "_model_module_version": "1.5.0",
            "_model_name": "HTMLModel",
            "_view_count": null,
            "_view_module": "@jupyter-widgets/controls",
            "_view_module_version": "1.5.0",
            "_view_name": "HTMLView",
            "description": "",
            "description_tooltip": null,
            "layout": "IPY_MODEL_5df70de3d596487ea4a771bc052054cc",
            "placeholder": "​",
            "style": "IPY_MODEL_12f18dda8d8f4cd08676dc3a78d3ec7d",
            "value": "100%"
          }
        },
        "ef2a3ef4aa614b59b7f52ae8070b4c8d": {
          "model_module": "@jupyter-widgets/controls",
          "model_name": "FloatProgressModel",
          "model_module_version": "1.5.0",
          "state": {
            "_dom_classes": [],
            "_model_module": "@jupyter-widgets/controls",
            "_model_module_version": "1.5.0",
            "_model_name": "FloatProgressModel",
            "_view_count": null,
            "_view_module": "@jupyter-widgets/controls",
            "_view_module_version": "1.5.0",
            "_view_name": "ProgressView",
            "bar_style": "success",
            "description": "",
            "description_tooltip": null,
            "layout": "IPY_MODEL_9465f67dde734b828e90a0b205e8d5f2",
            "max": 36882185,
            "min": 0,
            "orientation": "horizontal",
            "style": "IPY_MODEL_7c5db0b9f0044060b469e18cb7122fcf",
            "value": 36882185
          }
        },
        "d86abc96c29247a99e038add64859278": {
          "model_module": "@jupyter-widgets/controls",
          "model_name": "HTMLModel",
          "model_module_version": "1.5.0",
          "state": {
            "_dom_classes": [],
            "_model_module": "@jupyter-widgets/controls",
            "_model_module_version": "1.5.0",
            "_model_name": "HTMLModel",
            "_view_count": null,
            "_view_module": "@jupyter-widgets/controls",
            "_view_module_version": "1.5.0",
            "_view_name": "HTMLView",
            "description": "",
            "description_tooltip": null,
            "layout": "IPY_MODEL_ef655ae284e540cdab547b8f56a2093c",
            "placeholder": "​",
            "style": "IPY_MODEL_c42ee74137cb4fdb889d17779a3c21e4",
            "value": " 35.2M/35.2M [00:00&lt;00:00, 78.7MB/s]"
          }
        },
        "e9dcba0c1fbd497c80dbee1ce7e7889d": {
          "model_module": "@jupyter-widgets/base",
          "model_name": "LayoutModel",
          "model_module_version": "1.2.0",
          "state": {
            "_model_module": "@jupyter-widgets/base",
            "_model_module_version": "1.2.0",
            "_model_name": "LayoutModel",
            "_view_count": null,
            "_view_module": "@jupyter-widgets/base",
            "_view_module_version": "1.2.0",
            "_view_name": "LayoutView",
            "align_content": null,
            "align_items": null,
            "align_self": null,
            "border": null,
            "bottom": null,
            "display": null,
            "flex": null,
            "flex_flow": null,
            "grid_area": null,
            "grid_auto_columns": null,
            "grid_auto_flow": null,
            "grid_auto_rows": null,
            "grid_column": null,
            "grid_gap": null,
            "grid_row": null,
            "grid_template_areas": null,
            "grid_template_columns": null,
            "grid_template_rows": null,
            "height": null,
            "justify_content": null,
            "justify_items": null,
            "left": null,
            "margin": null,
            "max_height": null,
            "max_width": null,
            "min_height": null,
            "min_width": null,
            "object_fit": null,
            "object_position": null,
            "order": null,
            "overflow": null,
            "overflow_x": null,
            "overflow_y": null,
            "padding": null,
            "right": null,
            "top": null,
            "visibility": null,
            "width": null
          }
        },
        "5df70de3d596487ea4a771bc052054cc": {
          "model_module": "@jupyter-widgets/base",
          "model_name": "LayoutModel",
          "model_module_version": "1.2.0",
          "state": {
            "_model_module": "@jupyter-widgets/base",
            "_model_module_version": "1.2.0",
            "_model_name": "LayoutModel",
            "_view_count": null,
            "_view_module": "@jupyter-widgets/base",
            "_view_module_version": "1.2.0",
            "_view_name": "LayoutView",
            "align_content": null,
            "align_items": null,
            "align_self": null,
            "border": null,
            "bottom": null,
            "display": null,
            "flex": null,
            "flex_flow": null,
            "grid_area": null,
            "grid_auto_columns": null,
            "grid_auto_flow": null,
            "grid_auto_rows": null,
            "grid_column": null,
            "grid_gap": null,
            "grid_row": null,
            "grid_template_areas": null,
            "grid_template_columns": null,
            "grid_template_rows": null,
            "height": null,
            "justify_content": null,
            "justify_items": null,
            "left": null,
            "margin": null,
            "max_height": null,
            "max_width": null,
            "min_height": null,
            "min_width": null,
            "object_fit": null,
            "object_position": null,
            "order": null,
            "overflow": null,
            "overflow_x": null,
            "overflow_y": null,
            "padding": null,
            "right": null,
            "top": null,
            "visibility": null,
            "width": null
          }
        },
        "12f18dda8d8f4cd08676dc3a78d3ec7d": {
          "model_module": "@jupyter-widgets/controls",
          "model_name": "DescriptionStyleModel",
          "model_module_version": "1.5.0",
          "state": {
            "_model_module": "@jupyter-widgets/controls",
            "_model_module_version": "1.5.0",
            "_model_name": "DescriptionStyleModel",
            "_view_count": null,
            "_view_module": "@jupyter-widgets/base",
            "_view_module_version": "1.2.0",
            "_view_name": "StyleView",
            "description_width": ""
          }
        },
        "9465f67dde734b828e90a0b205e8d5f2": {
          "model_module": "@jupyter-widgets/base",
          "model_name": "LayoutModel",
          "model_module_version": "1.2.0",
          "state": {
            "_model_module": "@jupyter-widgets/base",
            "_model_module_version": "1.2.0",
            "_model_name": "LayoutModel",
            "_view_count": null,
            "_view_module": "@jupyter-widgets/base",
            "_view_module_version": "1.2.0",
            "_view_name": "LayoutView",
            "align_content": null,
            "align_items": null,
            "align_self": null,
            "border": null,
            "bottom": null,
            "display": null,
            "flex": null,
            "flex_flow": null,
            "grid_area": null,
            "grid_auto_columns": null,
            "grid_auto_flow": null,
            "grid_auto_rows": null,
            "grid_column": null,
            "grid_gap": null,
            "grid_row": null,
            "grid_template_areas": null,
            "grid_template_columns": null,
            "grid_template_rows": null,
            "height": null,
            "justify_content": null,
            "justify_items": null,
            "left": null,
            "margin": null,
            "max_height": null,
            "max_width": null,
            "min_height": null,
            "min_width": null,
            "object_fit": null,
            "object_position": null,
            "order": null,
            "overflow": null,
            "overflow_x": null,
            "overflow_y": null,
            "padding": null,
            "right": null,
            "top": null,
            "visibility": null,
            "width": null
          }
        },
        "7c5db0b9f0044060b469e18cb7122fcf": {
          "model_module": "@jupyter-widgets/controls",
          "model_name": "ProgressStyleModel",
          "model_module_version": "1.5.0",
          "state": {
            "_model_module": "@jupyter-widgets/controls",
            "_model_module_version": "1.5.0",
            "_model_name": "ProgressStyleModel",
            "_view_count": null,
            "_view_module": "@jupyter-widgets/base",
            "_view_module_version": "1.2.0",
            "_view_name": "StyleView",
            "bar_color": null,
            "description_width": ""
          }
        },
        "ef655ae284e540cdab547b8f56a2093c": {
          "model_module": "@jupyter-widgets/base",
          "model_name": "LayoutModel",
          "model_module_version": "1.2.0",
          "state": {
            "_model_module": "@jupyter-widgets/base",
            "_model_module_version": "1.2.0",
            "_model_name": "LayoutModel",
            "_view_count": null,
            "_view_module": "@jupyter-widgets/base",
            "_view_module_version": "1.2.0",
            "_view_name": "LayoutView",
            "align_content": null,
            "align_items": null,
            "align_self": null,
            "border": null,
            "bottom": null,
            "display": null,
            "flex": null,
            "flex_flow": null,
            "grid_area": null,
            "grid_auto_columns": null,
            "grid_auto_flow": null,
            "grid_auto_rows": null,
            "grid_column": null,
            "grid_gap": null,
            "grid_row": null,
            "grid_template_areas": null,
            "grid_template_columns": null,
            "grid_template_rows": null,
            "height": null,
            "justify_content": null,
            "justify_items": null,
            "left": null,
            "margin": null,
            "max_height": null,
            "max_width": null,
            "min_height": null,
            "min_width": null,
            "object_fit": null,
            "object_position": null,
            "order": null,
            "overflow": null,
            "overflow_x": null,
            "overflow_y": null,
            "padding": null,
            "right": null,
            "top": null,
            "visibility": null,
            "width": null
          }
        },
        "c42ee74137cb4fdb889d17779a3c21e4": {
          "model_module": "@jupyter-widgets/controls",
          "model_name": "DescriptionStyleModel",
          "model_module_version": "1.5.0",
          "state": {
            "_model_module": "@jupyter-widgets/controls",
            "_model_module_version": "1.5.0",
            "_model_name": "DescriptionStyleModel",
            "_view_count": null,
            "_view_module": "@jupyter-widgets/base",
            "_view_module_version": "1.2.0",
            "_view_name": "StyleView",
            "description_width": ""
          }
        },
        "5b033d5a9fdc4f53929cab248abeaec5": {
          "model_module": "@jupyter-widgets/controls",
          "model_name": "HBoxModel",
          "model_module_version": "1.5.0",
          "state": {
            "_dom_classes": [],
            "_model_module": "@jupyter-widgets/controls",
            "_model_module_version": "1.5.0",
            "_model_name": "HBoxModel",
            "_view_count": null,
            "_view_module": "@jupyter-widgets/controls",
            "_view_module_version": "1.5.0",
            "_view_name": "HBoxView",
            "box_style": "",
            "children": [
              "IPY_MODEL_19b9c5d27da54e3984be9cd871011fb8",
              "IPY_MODEL_490a91145dd9469193880d837a8450c4",
              "IPY_MODEL_9560539bfc8b469db40a660835915f4e"
            ],
            "layout": "IPY_MODEL_fa6cb66ebc0e4895a4ac3c658ad02aad"
          }
        },
        "19b9c5d27da54e3984be9cd871011fb8": {
          "model_module": "@jupyter-widgets/controls",
          "model_name": "HTMLModel",
          "model_module_version": "1.5.0",
          "state": {
            "_dom_classes": [],
            "_model_module": "@jupyter-widgets/controls",
            "_model_module_version": "1.5.0",
            "_model_name": "HTMLModel",
            "_view_count": null,
            "_view_module": "@jupyter-widgets/controls",
            "_view_module_version": "1.5.0",
            "_view_name": "HTMLView",
            "description": "",
            "description_tooltip": null,
            "layout": "IPY_MODEL_1be3410e9c474c899bb81849d6c914d7",
            "placeholder": "​",
            "style": "IPY_MODEL_0414f04ae03f4fb4bcbb42a9c53214b9",
            "value": "100%"
          }
        },
        "490a91145dd9469193880d837a8450c4": {
          "model_module": "@jupyter-widgets/controls",
          "model_name": "FloatProgressModel",
          "model_module_version": "1.5.0",
          "state": {
            "_dom_classes": [],
            "_model_module": "@jupyter-widgets/controls",
            "_model_module_version": "1.5.0",
            "_model_name": "FloatProgressModel",
            "_view_count": null,
            "_view_module": "@jupyter-widgets/controls",
            "_view_module_version": "1.5.0",
            "_view_name": "ProgressView",
            "bar_style": "success",
            "description": "",
            "description_tooltip": null,
            "layout": "IPY_MODEL_69637031fdcd4d3b8b316bfe8f71d321",
            "max": 5,
            "min": 0,
            "orientation": "horizontal",
            "style": "IPY_MODEL_67423de4c8d941f9bc145a5ad5eae677",
            "value": 5
          }
        },
        "9560539bfc8b469db40a660835915f4e": {
          "model_module": "@jupyter-widgets/controls",
          "model_name": "HTMLModel",
          "model_module_version": "1.5.0",
          "state": {
            "_dom_classes": [],
            "_model_module": "@jupyter-widgets/controls",
            "_model_module_version": "1.5.0",
            "_model_name": "HTMLModel",
            "_view_count": null,
            "_view_module": "@jupyter-widgets/controls",
            "_view_module_version": "1.5.0",
            "_view_name": "HTMLView",
            "description": "",
            "description_tooltip": null,
            "layout": "IPY_MODEL_2e7bed2657894b2d87ba8ddfac7afef0",
            "placeholder": "​",
            "style": "IPY_MODEL_39db972282e242a6ba792195e3156daa",
            "value": " 5/5 [00:38&lt;00:00,  7.68s/it]"
          }
        },
        "fa6cb66ebc0e4895a4ac3c658ad02aad": {
          "model_module": "@jupyter-widgets/base",
          "model_name": "LayoutModel",
          "model_module_version": "1.2.0",
          "state": {
            "_model_module": "@jupyter-widgets/base",
            "_model_module_version": "1.2.0",
            "_model_name": "LayoutModel",
            "_view_count": null,
            "_view_module": "@jupyter-widgets/base",
            "_view_module_version": "1.2.0",
            "_view_name": "LayoutView",
            "align_content": null,
            "align_items": null,
            "align_self": null,
            "border": null,
            "bottom": null,
            "display": null,
            "flex": null,
            "flex_flow": null,
            "grid_area": null,
            "grid_auto_columns": null,
            "grid_auto_flow": null,
            "grid_auto_rows": null,
            "grid_column": null,
            "grid_gap": null,
            "grid_row": null,
            "grid_template_areas": null,
            "grid_template_columns": null,
            "grid_template_rows": null,
            "height": null,
            "justify_content": null,
            "justify_items": null,
            "left": null,
            "margin": null,
            "max_height": null,
            "max_width": null,
            "min_height": null,
            "min_width": null,
            "object_fit": null,
            "object_position": null,
            "order": null,
            "overflow": null,
            "overflow_x": null,
            "overflow_y": null,
            "padding": null,
            "right": null,
            "top": null,
            "visibility": null,
            "width": null
          }
        },
        "1be3410e9c474c899bb81849d6c914d7": {
          "model_module": "@jupyter-widgets/base",
          "model_name": "LayoutModel",
          "model_module_version": "1.2.0",
          "state": {
            "_model_module": "@jupyter-widgets/base",
            "_model_module_version": "1.2.0",
            "_model_name": "LayoutModel",
            "_view_count": null,
            "_view_module": "@jupyter-widgets/base",
            "_view_module_version": "1.2.0",
            "_view_name": "LayoutView",
            "align_content": null,
            "align_items": null,
            "align_self": null,
            "border": null,
            "bottom": null,
            "display": null,
            "flex": null,
            "flex_flow": null,
            "grid_area": null,
            "grid_auto_columns": null,
            "grid_auto_flow": null,
            "grid_auto_rows": null,
            "grid_column": null,
            "grid_gap": null,
            "grid_row": null,
            "grid_template_areas": null,
            "grid_template_columns": null,
            "grid_template_rows": null,
            "height": null,
            "justify_content": null,
            "justify_items": null,
            "left": null,
            "margin": null,
            "max_height": null,
            "max_width": null,
            "min_height": null,
            "min_width": null,
            "object_fit": null,
            "object_position": null,
            "order": null,
            "overflow": null,
            "overflow_x": null,
            "overflow_y": null,
            "padding": null,
            "right": null,
            "top": null,
            "visibility": null,
            "width": null
          }
        },
        "0414f04ae03f4fb4bcbb42a9c53214b9": {
          "model_module": "@jupyter-widgets/controls",
          "model_name": "DescriptionStyleModel",
          "model_module_version": "1.5.0",
          "state": {
            "_model_module": "@jupyter-widgets/controls",
            "_model_module_version": "1.5.0",
            "_model_name": "DescriptionStyleModel",
            "_view_count": null,
            "_view_module": "@jupyter-widgets/base",
            "_view_module_version": "1.2.0",
            "_view_name": "StyleView",
            "description_width": ""
          }
        },
        "69637031fdcd4d3b8b316bfe8f71d321": {
          "model_module": "@jupyter-widgets/base",
          "model_name": "LayoutModel",
          "model_module_version": "1.2.0",
          "state": {
            "_model_module": "@jupyter-widgets/base",
            "_model_module_version": "1.2.0",
            "_model_name": "LayoutModel",
            "_view_count": null,
            "_view_module": "@jupyter-widgets/base",
            "_view_module_version": "1.2.0",
            "_view_name": "LayoutView",
            "align_content": null,
            "align_items": null,
            "align_self": null,
            "border": null,
            "bottom": null,
            "display": null,
            "flex": null,
            "flex_flow": null,
            "grid_area": null,
            "grid_auto_columns": null,
            "grid_auto_flow": null,
            "grid_auto_rows": null,
            "grid_column": null,
            "grid_gap": null,
            "grid_row": null,
            "grid_template_areas": null,
            "grid_template_columns": null,
            "grid_template_rows": null,
            "height": null,
            "justify_content": null,
            "justify_items": null,
            "left": null,
            "margin": null,
            "max_height": null,
            "max_width": null,
            "min_height": null,
            "min_width": null,
            "object_fit": null,
            "object_position": null,
            "order": null,
            "overflow": null,
            "overflow_x": null,
            "overflow_y": null,
            "padding": null,
            "right": null,
            "top": null,
            "visibility": null,
            "width": null
          }
        },
        "67423de4c8d941f9bc145a5ad5eae677": {
          "model_module": "@jupyter-widgets/controls",
          "model_name": "ProgressStyleModel",
          "model_module_version": "1.5.0",
          "state": {
            "_model_module": "@jupyter-widgets/controls",
            "_model_module_version": "1.5.0",
            "_model_name": "ProgressStyleModel",
            "_view_count": null,
            "_view_module": "@jupyter-widgets/base",
            "_view_module_version": "1.2.0",
            "_view_name": "StyleView",
            "bar_color": null,
            "description_width": ""
          }
        },
        "2e7bed2657894b2d87ba8ddfac7afef0": {
          "model_module": "@jupyter-widgets/base",
          "model_name": "LayoutModel",
          "model_module_version": "1.2.0",
          "state": {
            "_model_module": "@jupyter-widgets/base",
            "_model_module_version": "1.2.0",
            "_model_name": "LayoutModel",
            "_view_count": null,
            "_view_module": "@jupyter-widgets/base",
            "_view_module_version": "1.2.0",
            "_view_name": "LayoutView",
            "align_content": null,
            "align_items": null,
            "align_self": null,
            "border": null,
            "bottom": null,
            "display": null,
            "flex": null,
            "flex_flow": null,
            "grid_area": null,
            "grid_auto_columns": null,
            "grid_auto_flow": null,
            "grid_auto_rows": null,
            "grid_column": null,
            "grid_gap": null,
            "grid_row": null,
            "grid_template_areas": null,
            "grid_template_columns": null,
            "grid_template_rows": null,
            "height": null,
            "justify_content": null,
            "justify_items": null,
            "left": null,
            "margin": null,
            "max_height": null,
            "max_width": null,
            "min_height": null,
            "min_width": null,
            "object_fit": null,
            "object_position": null,
            "order": null,
            "overflow": null,
            "overflow_x": null,
            "overflow_y": null,
            "padding": null,
            "right": null,
            "top": null,
            "visibility": null,
            "width": null
          }
        },
        "39db972282e242a6ba792195e3156daa": {
          "model_module": "@jupyter-widgets/controls",
          "model_name": "DescriptionStyleModel",
          "model_module_version": "1.5.0",
          "state": {
            "_model_module": "@jupyter-widgets/controls",
            "_model_module_version": "1.5.0",
            "_model_name": "DescriptionStyleModel",
            "_view_count": null,
            "_view_module": "@jupyter-widgets/base",
            "_view_module_version": "1.2.0",
            "_view_name": "StyleView",
            "description_width": ""
          }
        },
        "c749ad00f30a484c92b86cefcedcef7e": {
          "model_module": "@jupyter-widgets/controls",
          "model_name": "HBoxModel",
          "model_module_version": "1.5.0",
          "state": {
            "_dom_classes": [],
            "_model_module": "@jupyter-widgets/controls",
            "_model_module_version": "1.5.0",
            "_model_name": "HBoxModel",
            "_view_count": null,
            "_view_module": "@jupyter-widgets/controls",
            "_view_module_version": "1.5.0",
            "_view_name": "HBoxView",
            "box_style": "",
            "children": [
              "IPY_MODEL_2545d7df75ce4cb8a81f38163937dc89",
              "IPY_MODEL_a2b119b6f5f2470bad5f3b375c8e1156",
              "IPY_MODEL_1aca2a24f07048e5a6bb4da4bc507a20"
            ],
            "layout": "IPY_MODEL_6935c71703b14e7998b5208d95f7fd28"
          }
        },
        "2545d7df75ce4cb8a81f38163937dc89": {
          "model_module": "@jupyter-widgets/controls",
          "model_name": "HTMLModel",
          "model_module_version": "1.5.0",
          "state": {
            "_dom_classes": [],
            "_model_module": "@jupyter-widgets/controls",
            "_model_module_version": "1.5.0",
            "_model_name": "HTMLModel",
            "_view_count": null,
            "_view_module": "@jupyter-widgets/controls",
            "_view_module_version": "1.5.0",
            "_view_name": "HTMLView",
            "description": "",
            "description_tooltip": null,
            "layout": "IPY_MODEL_a071d6e2538c487d84e959a7f9bc8b67",
            "placeholder": "​",
            "style": "IPY_MODEL_76fd91d44037433891c53f4d405947bb",
            "value": "100%"
          }
        },
        "a2b119b6f5f2470bad5f3b375c8e1156": {
          "model_module": "@jupyter-widgets/controls",
          "model_name": "FloatProgressModel",
          "model_module_version": "1.5.0",
          "state": {
            "_dom_classes": [],
            "_model_module": "@jupyter-widgets/controls",
            "_model_module_version": "1.5.0",
            "_model_name": "FloatProgressModel",
            "_view_count": null,
            "_view_module": "@jupyter-widgets/controls",
            "_view_module_version": "1.5.0",
            "_view_name": "ProgressView",
            "bar_style": "success",
            "description": "",
            "description_tooltip": null,
            "layout": "IPY_MODEL_d44e4ecca1414fcfac3ca377b1bd6d6e",
            "max": 5,
            "min": 0,
            "orientation": "horizontal",
            "style": "IPY_MODEL_2922317bbd26477eb61c1c764d3afa32",
            "value": 5
          }
        },
        "1aca2a24f07048e5a6bb4da4bc507a20": {
          "model_module": "@jupyter-widgets/controls",
          "model_name": "HTMLModel",
          "model_module_version": "1.5.0",
          "state": {
            "_dom_classes": [],
            "_model_module": "@jupyter-widgets/controls",
            "_model_module_version": "1.5.0",
            "_model_name": "HTMLModel",
            "_view_count": null,
            "_view_module": "@jupyter-widgets/controls",
            "_view_module_version": "1.5.0",
            "_view_name": "HTMLView",
            "description": "",
            "description_tooltip": null,
            "layout": "IPY_MODEL_7fe0e0b98b114c72af814e487e1f3dfe",
            "placeholder": "​",
            "style": "IPY_MODEL_477607455b224e39a3ccc9a9acf391e4",
            "value": " 5/5 [00:42&lt;00:00,  8.47s/it]"
          }
        },
        "6935c71703b14e7998b5208d95f7fd28": {
          "model_module": "@jupyter-widgets/base",
          "model_name": "LayoutModel",
          "model_module_version": "1.2.0",
          "state": {
            "_model_module": "@jupyter-widgets/base",
            "_model_module_version": "1.2.0",
            "_model_name": "LayoutModel",
            "_view_count": null,
            "_view_module": "@jupyter-widgets/base",
            "_view_module_version": "1.2.0",
            "_view_name": "LayoutView",
            "align_content": null,
            "align_items": null,
            "align_self": null,
            "border": null,
            "bottom": null,
            "display": null,
            "flex": null,
            "flex_flow": null,
            "grid_area": null,
            "grid_auto_columns": null,
            "grid_auto_flow": null,
            "grid_auto_rows": null,
            "grid_column": null,
            "grid_gap": null,
            "grid_row": null,
            "grid_template_areas": null,
            "grid_template_columns": null,
            "grid_template_rows": null,
            "height": null,
            "justify_content": null,
            "justify_items": null,
            "left": null,
            "margin": null,
            "max_height": null,
            "max_width": null,
            "min_height": null,
            "min_width": null,
            "object_fit": null,
            "object_position": null,
            "order": null,
            "overflow": null,
            "overflow_x": null,
            "overflow_y": null,
            "padding": null,
            "right": null,
            "top": null,
            "visibility": null,
            "width": null
          }
        },
        "a071d6e2538c487d84e959a7f9bc8b67": {
          "model_module": "@jupyter-widgets/base",
          "model_name": "LayoutModel",
          "model_module_version": "1.2.0",
          "state": {
            "_model_module": "@jupyter-widgets/base",
            "_model_module_version": "1.2.0",
            "_model_name": "LayoutModel",
            "_view_count": null,
            "_view_module": "@jupyter-widgets/base",
            "_view_module_version": "1.2.0",
            "_view_name": "LayoutView",
            "align_content": null,
            "align_items": null,
            "align_self": null,
            "border": null,
            "bottom": null,
            "display": null,
            "flex": null,
            "flex_flow": null,
            "grid_area": null,
            "grid_auto_columns": null,
            "grid_auto_flow": null,
            "grid_auto_rows": null,
            "grid_column": null,
            "grid_gap": null,
            "grid_row": null,
            "grid_template_areas": null,
            "grid_template_columns": null,
            "grid_template_rows": null,
            "height": null,
            "justify_content": null,
            "justify_items": null,
            "left": null,
            "margin": null,
            "max_height": null,
            "max_width": null,
            "min_height": null,
            "min_width": null,
            "object_fit": null,
            "object_position": null,
            "order": null,
            "overflow": null,
            "overflow_x": null,
            "overflow_y": null,
            "padding": null,
            "right": null,
            "top": null,
            "visibility": null,
            "width": null
          }
        },
        "76fd91d44037433891c53f4d405947bb": {
          "model_module": "@jupyter-widgets/controls",
          "model_name": "DescriptionStyleModel",
          "model_module_version": "1.5.0",
          "state": {
            "_model_module": "@jupyter-widgets/controls",
            "_model_module_version": "1.5.0",
            "_model_name": "DescriptionStyleModel",
            "_view_count": null,
            "_view_module": "@jupyter-widgets/base",
            "_view_module_version": "1.2.0",
            "_view_name": "StyleView",
            "description_width": ""
          }
        },
        "d44e4ecca1414fcfac3ca377b1bd6d6e": {
          "model_module": "@jupyter-widgets/base",
          "model_name": "LayoutModel",
          "model_module_version": "1.2.0",
          "state": {
            "_model_module": "@jupyter-widgets/base",
            "_model_module_version": "1.2.0",
            "_model_name": "LayoutModel",
            "_view_count": null,
            "_view_module": "@jupyter-widgets/base",
            "_view_module_version": "1.2.0",
            "_view_name": "LayoutView",
            "align_content": null,
            "align_items": null,
            "align_self": null,
            "border": null,
            "bottom": null,
            "display": null,
            "flex": null,
            "flex_flow": null,
            "grid_area": null,
            "grid_auto_columns": null,
            "grid_auto_flow": null,
            "grid_auto_rows": null,
            "grid_column": null,
            "grid_gap": null,
            "grid_row": null,
            "grid_template_areas": null,
            "grid_template_columns": null,
            "grid_template_rows": null,
            "height": null,
            "justify_content": null,
            "justify_items": null,
            "left": null,
            "margin": null,
            "max_height": null,
            "max_width": null,
            "min_height": null,
            "min_width": null,
            "object_fit": null,
            "object_position": null,
            "order": null,
            "overflow": null,
            "overflow_x": null,
            "overflow_y": null,
            "padding": null,
            "right": null,
            "top": null,
            "visibility": null,
            "width": null
          }
        },
        "2922317bbd26477eb61c1c764d3afa32": {
          "model_module": "@jupyter-widgets/controls",
          "model_name": "ProgressStyleModel",
          "model_module_version": "1.5.0",
          "state": {
            "_model_module": "@jupyter-widgets/controls",
            "_model_module_version": "1.5.0",
            "_model_name": "ProgressStyleModel",
            "_view_count": null,
            "_view_module": "@jupyter-widgets/base",
            "_view_module_version": "1.2.0",
            "_view_name": "StyleView",
            "bar_color": null,
            "description_width": ""
          }
        },
        "7fe0e0b98b114c72af814e487e1f3dfe": {
          "model_module": "@jupyter-widgets/base",
          "model_name": "LayoutModel",
          "model_module_version": "1.2.0",
          "state": {
            "_model_module": "@jupyter-widgets/base",
            "_model_module_version": "1.2.0",
            "_model_name": "LayoutModel",
            "_view_count": null,
            "_view_module": "@jupyter-widgets/base",
            "_view_module_version": "1.2.0",
            "_view_name": "LayoutView",
            "align_content": null,
            "align_items": null,
            "align_self": null,
            "border": null,
            "bottom": null,
            "display": null,
            "flex": null,
            "flex_flow": null,
            "grid_area": null,
            "grid_auto_columns": null,
            "grid_auto_flow": null,
            "grid_auto_rows": null,
            "grid_column": null,
            "grid_gap": null,
            "grid_row": null,
            "grid_template_areas": null,
            "grid_template_columns": null,
            "grid_template_rows": null,
            "height": null,
            "justify_content": null,
            "justify_items": null,
            "left": null,
            "margin": null,
            "max_height": null,
            "max_width": null,
            "min_height": null,
            "min_width": null,
            "object_fit": null,
            "object_position": null,
            "order": null,
            "overflow": null,
            "overflow_x": null,
            "overflow_y": null,
            "padding": null,
            "right": null,
            "top": null,
            "visibility": null,
            "width": null
          }
        },
        "477607455b224e39a3ccc9a9acf391e4": {
          "model_module": "@jupyter-widgets/controls",
          "model_name": "DescriptionStyleModel",
          "model_module_version": "1.5.0",
          "state": {
            "_model_module": "@jupyter-widgets/controls",
            "_model_module_version": "1.5.0",
            "_model_name": "DescriptionStyleModel",
            "_view_count": null,
            "_view_module": "@jupyter-widgets/base",
            "_view_module_version": "1.2.0",
            "_view_name": "StyleView",
            "description_width": ""
          }
        },
        "f66032c29a494c6dbddfb99bdc6801c1": {
          "model_module": "@jupyter-widgets/controls",
          "model_name": "HBoxModel",
          "model_module_version": "1.5.0",
          "state": {
            "_dom_classes": [],
            "_model_module": "@jupyter-widgets/controls",
            "_model_module_version": "1.5.0",
            "_model_name": "HBoxModel",
            "_view_count": null,
            "_view_module": "@jupyter-widgets/controls",
            "_view_module_version": "1.5.0",
            "_view_name": "HBoxView",
            "box_style": "",
            "children": [
              "IPY_MODEL_dc8f660fc25b4656a6bc4545067b8caa",
              "IPY_MODEL_39db95847674495eacedd7b5d31ac823",
              "IPY_MODEL_5f6eb02b55bd46d486aab8f650cb0007"
            ],
            "layout": "IPY_MODEL_9644ac73dc0a4d45a737566d57e09830"
          }
        },
        "dc8f660fc25b4656a6bc4545067b8caa": {
          "model_module": "@jupyter-widgets/controls",
          "model_name": "HTMLModel",
          "model_module_version": "1.5.0",
          "state": {
            "_dom_classes": [],
            "_model_module": "@jupyter-widgets/controls",
            "_model_module_version": "1.5.0",
            "_model_name": "HTMLModel",
            "_view_count": null,
            "_view_module": "@jupyter-widgets/controls",
            "_view_module_version": "1.5.0",
            "_view_name": "HTMLView",
            "description": "",
            "description_tooltip": null,
            "layout": "IPY_MODEL_78d32b12b3264db288fc9181309ac6ab",
            "placeholder": "​",
            "style": "IPY_MODEL_3d8230afae864af78f54eadf2e6ce705",
            "value": "100%"
          }
        },
        "39db95847674495eacedd7b5d31ac823": {
          "model_module": "@jupyter-widgets/controls",
          "model_name": "FloatProgressModel",
          "model_module_version": "1.5.0",
          "state": {
            "_dom_classes": [],
            "_model_module": "@jupyter-widgets/controls",
            "_model_module_version": "1.5.0",
            "_model_name": "FloatProgressModel",
            "_view_count": null,
            "_view_module": "@jupyter-widgets/controls",
            "_view_module_version": "1.5.0",
            "_view_name": "ProgressView",
            "bar_style": "success",
            "description": "",
            "description_tooltip": null,
            "layout": "IPY_MODEL_f9f2ca3192fa4832a0f71e54f9c0d428",
            "max": 10,
            "min": 0,
            "orientation": "horizontal",
            "style": "IPY_MODEL_2ad0443a0e1a434eaa35f5766c993541",
            "value": 10
          }
        },
        "5f6eb02b55bd46d486aab8f650cb0007": {
          "model_module": "@jupyter-widgets/controls",
          "model_name": "HTMLModel",
          "model_module_version": "1.5.0",
          "state": {
            "_dom_classes": [],
            "_model_module": "@jupyter-widgets/controls",
            "_model_module_version": "1.5.0",
            "_model_name": "HTMLModel",
            "_view_count": null,
            "_view_module": "@jupyter-widgets/controls",
            "_view_module_version": "1.5.0",
            "_view_name": "HTMLView",
            "description": "",
            "description_tooltip": null,
            "layout": "IPY_MODEL_0d29708f851c4e46aa83502680a1850f",
            "placeholder": "​",
            "style": "IPY_MODEL_611171fe40604ce6aad9dae9e6db8a9f",
            "value": " 10/10 [01:15&lt;00:00,  7.55s/it]"
          }
        },
        "9644ac73dc0a4d45a737566d57e09830": {
          "model_module": "@jupyter-widgets/base",
          "model_name": "LayoutModel",
          "model_module_version": "1.2.0",
          "state": {
            "_model_module": "@jupyter-widgets/base",
            "_model_module_version": "1.2.0",
            "_model_name": "LayoutModel",
            "_view_count": null,
            "_view_module": "@jupyter-widgets/base",
            "_view_module_version": "1.2.0",
            "_view_name": "LayoutView",
            "align_content": null,
            "align_items": null,
            "align_self": null,
            "border": null,
            "bottom": null,
            "display": null,
            "flex": null,
            "flex_flow": null,
            "grid_area": null,
            "grid_auto_columns": null,
            "grid_auto_flow": null,
            "grid_auto_rows": null,
            "grid_column": null,
            "grid_gap": null,
            "grid_row": null,
            "grid_template_areas": null,
            "grid_template_columns": null,
            "grid_template_rows": null,
            "height": null,
            "justify_content": null,
            "justify_items": null,
            "left": null,
            "margin": null,
            "max_height": null,
            "max_width": null,
            "min_height": null,
            "min_width": null,
            "object_fit": null,
            "object_position": null,
            "order": null,
            "overflow": null,
            "overflow_x": null,
            "overflow_y": null,
            "padding": null,
            "right": null,
            "top": null,
            "visibility": null,
            "width": null
          }
        },
        "78d32b12b3264db288fc9181309ac6ab": {
          "model_module": "@jupyter-widgets/base",
          "model_name": "LayoutModel",
          "model_module_version": "1.2.0",
          "state": {
            "_model_module": "@jupyter-widgets/base",
            "_model_module_version": "1.2.0",
            "_model_name": "LayoutModel",
            "_view_count": null,
            "_view_module": "@jupyter-widgets/base",
            "_view_module_version": "1.2.0",
            "_view_name": "LayoutView",
            "align_content": null,
            "align_items": null,
            "align_self": null,
            "border": null,
            "bottom": null,
            "display": null,
            "flex": null,
            "flex_flow": null,
            "grid_area": null,
            "grid_auto_columns": null,
            "grid_auto_flow": null,
            "grid_auto_rows": null,
            "grid_column": null,
            "grid_gap": null,
            "grid_row": null,
            "grid_template_areas": null,
            "grid_template_columns": null,
            "grid_template_rows": null,
            "height": null,
            "justify_content": null,
            "justify_items": null,
            "left": null,
            "margin": null,
            "max_height": null,
            "max_width": null,
            "min_height": null,
            "min_width": null,
            "object_fit": null,
            "object_position": null,
            "order": null,
            "overflow": null,
            "overflow_x": null,
            "overflow_y": null,
            "padding": null,
            "right": null,
            "top": null,
            "visibility": null,
            "width": null
          }
        },
        "3d8230afae864af78f54eadf2e6ce705": {
          "model_module": "@jupyter-widgets/controls",
          "model_name": "DescriptionStyleModel",
          "model_module_version": "1.5.0",
          "state": {
            "_model_module": "@jupyter-widgets/controls",
            "_model_module_version": "1.5.0",
            "_model_name": "DescriptionStyleModel",
            "_view_count": null,
            "_view_module": "@jupyter-widgets/base",
            "_view_module_version": "1.2.0",
            "_view_name": "StyleView",
            "description_width": ""
          }
        },
        "f9f2ca3192fa4832a0f71e54f9c0d428": {
          "model_module": "@jupyter-widgets/base",
          "model_name": "LayoutModel",
          "model_module_version": "1.2.0",
          "state": {
            "_model_module": "@jupyter-widgets/base",
            "_model_module_version": "1.2.0",
            "_model_name": "LayoutModel",
            "_view_count": null,
            "_view_module": "@jupyter-widgets/base",
            "_view_module_version": "1.2.0",
            "_view_name": "LayoutView",
            "align_content": null,
            "align_items": null,
            "align_self": null,
            "border": null,
            "bottom": null,
            "display": null,
            "flex": null,
            "flex_flow": null,
            "grid_area": null,
            "grid_auto_columns": null,
            "grid_auto_flow": null,
            "grid_auto_rows": null,
            "grid_column": null,
            "grid_gap": null,
            "grid_row": null,
            "grid_template_areas": null,
            "grid_template_columns": null,
            "grid_template_rows": null,
            "height": null,
            "justify_content": null,
            "justify_items": null,
            "left": null,
            "margin": null,
            "max_height": null,
            "max_width": null,
            "min_height": null,
            "min_width": null,
            "object_fit": null,
            "object_position": null,
            "order": null,
            "overflow": null,
            "overflow_x": null,
            "overflow_y": null,
            "padding": null,
            "right": null,
            "top": null,
            "visibility": null,
            "width": null
          }
        },
        "2ad0443a0e1a434eaa35f5766c993541": {
          "model_module": "@jupyter-widgets/controls",
          "model_name": "ProgressStyleModel",
          "model_module_version": "1.5.0",
          "state": {
            "_model_module": "@jupyter-widgets/controls",
            "_model_module_version": "1.5.0",
            "_model_name": "ProgressStyleModel",
            "_view_count": null,
            "_view_module": "@jupyter-widgets/base",
            "_view_module_version": "1.2.0",
            "_view_name": "StyleView",
            "bar_color": null,
            "description_width": ""
          }
        },
        "0d29708f851c4e46aa83502680a1850f": {
          "model_module": "@jupyter-widgets/base",
          "model_name": "LayoutModel",
          "model_module_version": "1.2.0",
          "state": {
            "_model_module": "@jupyter-widgets/base",
            "_model_module_version": "1.2.0",
            "_model_name": "LayoutModel",
            "_view_count": null,
            "_view_module": "@jupyter-widgets/base",
            "_view_module_version": "1.2.0",
            "_view_name": "LayoutView",
            "align_content": null,
            "align_items": null,
            "align_self": null,
            "border": null,
            "bottom": null,
            "display": null,
            "flex": null,
            "flex_flow": null,
            "grid_area": null,
            "grid_auto_columns": null,
            "grid_auto_flow": null,
            "grid_auto_rows": null,
            "grid_column": null,
            "grid_gap": null,
            "grid_row": null,
            "grid_template_areas": null,
            "grid_template_columns": null,
            "grid_template_rows": null,
            "height": null,
            "justify_content": null,
            "justify_items": null,
            "left": null,
            "margin": null,
            "max_height": null,
            "max_width": null,
            "min_height": null,
            "min_width": null,
            "object_fit": null,
            "object_position": null,
            "order": null,
            "overflow": null,
            "overflow_x": null,
            "overflow_y": null,
            "padding": null,
            "right": null,
            "top": null,
            "visibility": null,
            "width": null
          }
        },
        "611171fe40604ce6aad9dae9e6db8a9f": {
          "model_module": "@jupyter-widgets/controls",
          "model_name": "DescriptionStyleModel",
          "model_module_version": "1.5.0",
          "state": {
            "_model_module": "@jupyter-widgets/controls",
            "_model_module_version": "1.5.0",
            "_model_name": "DescriptionStyleModel",
            "_view_count": null,
            "_view_module": "@jupyter-widgets/base",
            "_view_module_version": "1.2.0",
            "_view_name": "StyleView",
            "description_width": ""
          }
        },
        "fd76b0e199d9406ea3d35d064a6107d8": {
          "model_module": "@jupyter-widgets/controls",
          "model_name": "HBoxModel",
          "model_module_version": "1.5.0",
          "state": {
            "_dom_classes": [],
            "_model_module": "@jupyter-widgets/controls",
            "_model_module_version": "1.5.0",
            "_model_name": "HBoxModel",
            "_view_count": null,
            "_view_module": "@jupyter-widgets/controls",
            "_view_module_version": "1.5.0",
            "_view_name": "HBoxView",
            "box_style": "",
            "children": [
              "IPY_MODEL_2a89f2c972e64f09acfd9ac2eabaef59",
              "IPY_MODEL_2a0f7e69a1ad4217a6a18bd2defe6e95",
              "IPY_MODEL_c212721f139d46b091047003f54e4ed1"
            ],
            "layout": "IPY_MODEL_2994e521aedb42a39fe56e2a88379476"
          }
        },
        "2a89f2c972e64f09acfd9ac2eabaef59": {
          "model_module": "@jupyter-widgets/controls",
          "model_name": "HTMLModel",
          "model_module_version": "1.5.0",
          "state": {
            "_dom_classes": [],
            "_model_module": "@jupyter-widgets/controls",
            "_model_module_version": "1.5.0",
            "_model_name": "HTMLModel",
            "_view_count": null,
            "_view_module": "@jupyter-widgets/controls",
            "_view_module_version": "1.5.0",
            "_view_name": "HTMLView",
            "description": "",
            "description_tooltip": null,
            "layout": "IPY_MODEL_dc45310316674ff6bd9522d9505406c2",
            "placeholder": "​",
            "style": "IPY_MODEL_b0f2d10b44ed4d8e9e438283b093055f",
            "value": "100%"
          }
        },
        "2a0f7e69a1ad4217a6a18bd2defe6e95": {
          "model_module": "@jupyter-widgets/controls",
          "model_name": "FloatProgressModel",
          "model_module_version": "1.5.0",
          "state": {
            "_dom_classes": [],
            "_model_module": "@jupyter-widgets/controls",
            "_model_module_version": "1.5.0",
            "_model_name": "FloatProgressModel",
            "_view_count": null,
            "_view_module": "@jupyter-widgets/controls",
            "_view_module_version": "1.5.0",
            "_view_name": "ProgressView",
            "bar_style": "success",
            "description": "",
            "description_tooltip": null,
            "layout": "IPY_MODEL_04b7abd4aa124c30aef7b5aff5043582",
            "max": 10,
            "min": 0,
            "orientation": "horizontal",
            "style": "IPY_MODEL_881c440bf1444c66ab64859ac870e5b8",
            "value": 10
          }
        },
        "c212721f139d46b091047003f54e4ed1": {
          "model_module": "@jupyter-widgets/controls",
          "model_name": "HTMLModel",
          "model_module_version": "1.5.0",
          "state": {
            "_dom_classes": [],
            "_model_module": "@jupyter-widgets/controls",
            "_model_module_version": "1.5.0",
            "_model_name": "HTMLModel",
            "_view_count": null,
            "_view_module": "@jupyter-widgets/controls",
            "_view_module_version": "1.5.0",
            "_view_name": "HTMLView",
            "description": "",
            "description_tooltip": null,
            "layout": "IPY_MODEL_578358b9d8444224979a60a537ffd0b2",
            "placeholder": "​",
            "style": "IPY_MODEL_80e3f4c2b9954906b2ab3a15efc2507e",
            "value": " 10/10 [01:29&lt;00:00,  9.00s/it]"
          }
        },
        "2994e521aedb42a39fe56e2a88379476": {
          "model_module": "@jupyter-widgets/base",
          "model_name": "LayoutModel",
          "model_module_version": "1.2.0",
          "state": {
            "_model_module": "@jupyter-widgets/base",
            "_model_module_version": "1.2.0",
            "_model_name": "LayoutModel",
            "_view_count": null,
            "_view_module": "@jupyter-widgets/base",
            "_view_module_version": "1.2.0",
            "_view_name": "LayoutView",
            "align_content": null,
            "align_items": null,
            "align_self": null,
            "border": null,
            "bottom": null,
            "display": null,
            "flex": null,
            "flex_flow": null,
            "grid_area": null,
            "grid_auto_columns": null,
            "grid_auto_flow": null,
            "grid_auto_rows": null,
            "grid_column": null,
            "grid_gap": null,
            "grid_row": null,
            "grid_template_areas": null,
            "grid_template_columns": null,
            "grid_template_rows": null,
            "height": null,
            "justify_content": null,
            "justify_items": null,
            "left": null,
            "margin": null,
            "max_height": null,
            "max_width": null,
            "min_height": null,
            "min_width": null,
            "object_fit": null,
            "object_position": null,
            "order": null,
            "overflow": null,
            "overflow_x": null,
            "overflow_y": null,
            "padding": null,
            "right": null,
            "top": null,
            "visibility": null,
            "width": null
          }
        },
        "dc45310316674ff6bd9522d9505406c2": {
          "model_module": "@jupyter-widgets/base",
          "model_name": "LayoutModel",
          "model_module_version": "1.2.0",
          "state": {
            "_model_module": "@jupyter-widgets/base",
            "_model_module_version": "1.2.0",
            "_model_name": "LayoutModel",
            "_view_count": null,
            "_view_module": "@jupyter-widgets/base",
            "_view_module_version": "1.2.0",
            "_view_name": "LayoutView",
            "align_content": null,
            "align_items": null,
            "align_self": null,
            "border": null,
            "bottom": null,
            "display": null,
            "flex": null,
            "flex_flow": null,
            "grid_area": null,
            "grid_auto_columns": null,
            "grid_auto_flow": null,
            "grid_auto_rows": null,
            "grid_column": null,
            "grid_gap": null,
            "grid_row": null,
            "grid_template_areas": null,
            "grid_template_columns": null,
            "grid_template_rows": null,
            "height": null,
            "justify_content": null,
            "justify_items": null,
            "left": null,
            "margin": null,
            "max_height": null,
            "max_width": null,
            "min_height": null,
            "min_width": null,
            "object_fit": null,
            "object_position": null,
            "order": null,
            "overflow": null,
            "overflow_x": null,
            "overflow_y": null,
            "padding": null,
            "right": null,
            "top": null,
            "visibility": null,
            "width": null
          }
        },
        "b0f2d10b44ed4d8e9e438283b093055f": {
          "model_module": "@jupyter-widgets/controls",
          "model_name": "DescriptionStyleModel",
          "model_module_version": "1.5.0",
          "state": {
            "_model_module": "@jupyter-widgets/controls",
            "_model_module_version": "1.5.0",
            "_model_name": "DescriptionStyleModel",
            "_view_count": null,
            "_view_module": "@jupyter-widgets/base",
            "_view_module_version": "1.2.0",
            "_view_name": "StyleView",
            "description_width": ""
          }
        },
        "04b7abd4aa124c30aef7b5aff5043582": {
          "model_module": "@jupyter-widgets/base",
          "model_name": "LayoutModel",
          "model_module_version": "1.2.0",
          "state": {
            "_model_module": "@jupyter-widgets/base",
            "_model_module_version": "1.2.0",
            "_model_name": "LayoutModel",
            "_view_count": null,
            "_view_module": "@jupyter-widgets/base",
            "_view_module_version": "1.2.0",
            "_view_name": "LayoutView",
            "align_content": null,
            "align_items": null,
            "align_self": null,
            "border": null,
            "bottom": null,
            "display": null,
            "flex": null,
            "flex_flow": null,
            "grid_area": null,
            "grid_auto_columns": null,
            "grid_auto_flow": null,
            "grid_auto_rows": null,
            "grid_column": null,
            "grid_gap": null,
            "grid_row": null,
            "grid_template_areas": null,
            "grid_template_columns": null,
            "grid_template_rows": null,
            "height": null,
            "justify_content": null,
            "justify_items": null,
            "left": null,
            "margin": null,
            "max_height": null,
            "max_width": null,
            "min_height": null,
            "min_width": null,
            "object_fit": null,
            "object_position": null,
            "order": null,
            "overflow": null,
            "overflow_x": null,
            "overflow_y": null,
            "padding": null,
            "right": null,
            "top": null,
            "visibility": null,
            "width": null
          }
        },
        "881c440bf1444c66ab64859ac870e5b8": {
          "model_module": "@jupyter-widgets/controls",
          "model_name": "ProgressStyleModel",
          "model_module_version": "1.5.0",
          "state": {
            "_model_module": "@jupyter-widgets/controls",
            "_model_module_version": "1.5.0",
            "_model_name": "ProgressStyleModel",
            "_view_count": null,
            "_view_module": "@jupyter-widgets/base",
            "_view_module_version": "1.2.0",
            "_view_name": "StyleView",
            "bar_color": null,
            "description_width": ""
          }
        },
        "578358b9d8444224979a60a537ffd0b2": {
          "model_module": "@jupyter-widgets/base",
          "model_name": "LayoutModel",
          "model_module_version": "1.2.0",
          "state": {
            "_model_module": "@jupyter-widgets/base",
            "_model_module_version": "1.2.0",
            "_model_name": "LayoutModel",
            "_view_count": null,
            "_view_module": "@jupyter-widgets/base",
            "_view_module_version": "1.2.0",
            "_view_name": "LayoutView",
            "align_content": null,
            "align_items": null,
            "align_self": null,
            "border": null,
            "bottom": null,
            "display": null,
            "flex": null,
            "flex_flow": null,
            "grid_area": null,
            "grid_auto_columns": null,
            "grid_auto_flow": null,
            "grid_auto_rows": null,
            "grid_column": null,
            "grid_gap": null,
            "grid_row": null,
            "grid_template_areas": null,
            "grid_template_columns": null,
            "grid_template_rows": null,
            "height": null,
            "justify_content": null,
            "justify_items": null,
            "left": null,
            "margin": null,
            "max_height": null,
            "max_width": null,
            "min_height": null,
            "min_width": null,
            "object_fit": null,
            "object_position": null,
            "order": null,
            "overflow": null,
            "overflow_x": null,
            "overflow_y": null,
            "padding": null,
            "right": null,
            "top": null,
            "visibility": null,
            "width": null
          }
        },
        "80e3f4c2b9954906b2ab3a15efc2507e": {
          "model_module": "@jupyter-widgets/controls",
          "model_name": "DescriptionStyleModel",
          "model_module_version": "1.5.0",
          "state": {
            "_model_module": "@jupyter-widgets/controls",
            "_model_module_version": "1.5.0",
            "_model_name": "DescriptionStyleModel",
            "_view_count": null,
            "_view_module": "@jupyter-widgets/base",
            "_view_module_version": "1.2.0",
            "_view_name": "StyleView",
            "description_width": ""
          }
        },
        "3a33e561f05e4f999d7c0c89c16243bd": {
          "model_module": "@jupyter-widgets/controls",
          "model_name": "HBoxModel",
          "model_module_version": "1.5.0",
          "state": {
            "_dom_classes": [],
            "_model_module": "@jupyter-widgets/controls",
            "_model_module_version": "1.5.0",
            "_model_name": "HBoxModel",
            "_view_count": null,
            "_view_module": "@jupyter-widgets/controls",
            "_view_module_version": "1.5.0",
            "_view_name": "HBoxView",
            "box_style": "",
            "children": [
              "IPY_MODEL_0f63873fa5af45da8deef9843b0e03f7",
              "IPY_MODEL_48fb6dbc6d34421085a1e240f75abf81",
              "IPY_MODEL_821c40e4123741778cf0bc3ca4488124"
            ],
            "layout": "IPY_MODEL_563df1640f49460bb491a615928efa5e"
          }
        },
        "0f63873fa5af45da8deef9843b0e03f7": {
          "model_module": "@jupyter-widgets/controls",
          "model_name": "HTMLModel",
          "model_module_version": "1.5.0",
          "state": {
            "_dom_classes": [],
            "_model_module": "@jupyter-widgets/controls",
            "_model_module_version": "1.5.0",
            "_model_name": "HTMLModel",
            "_view_count": null,
            "_view_module": "@jupyter-widgets/controls",
            "_view_module_version": "1.5.0",
            "_view_name": "HTMLView",
            "description": "",
            "description_tooltip": null,
            "layout": "IPY_MODEL_73e3671e62ed4063a5ceb5022b6382e2",
            "placeholder": "​",
            "style": "IPY_MODEL_3f7893b73e504d418eb74b22e7c26a47",
            "value": "100%"
          }
        },
        "48fb6dbc6d34421085a1e240f75abf81": {
          "model_module": "@jupyter-widgets/controls",
          "model_name": "FloatProgressModel",
          "model_module_version": "1.5.0",
          "state": {
            "_dom_classes": [],
            "_model_module": "@jupyter-widgets/controls",
            "_model_module_version": "1.5.0",
            "_model_name": "FloatProgressModel",
            "_view_count": null,
            "_view_module": "@jupyter-widgets/controls",
            "_view_module_version": "1.5.0",
            "_view_name": "ProgressView",
            "bar_style": "success",
            "description": "",
            "description_tooltip": null,
            "layout": "IPY_MODEL_a357dc1d48ec4b6b936ce2f90b386b52",
            "max": 5,
            "min": 0,
            "orientation": "horizontal",
            "style": "IPY_MODEL_385710a633e8448383571a542e4ae8e3",
            "value": 5
          }
        },
        "821c40e4123741778cf0bc3ca4488124": {
          "model_module": "@jupyter-widgets/controls",
          "model_name": "HTMLModel",
          "model_module_version": "1.5.0",
          "state": {
            "_dom_classes": [],
            "_model_module": "@jupyter-widgets/controls",
            "_model_module_version": "1.5.0",
            "_model_name": "HTMLModel",
            "_view_count": null,
            "_view_module": "@jupyter-widgets/controls",
            "_view_module_version": "1.5.0",
            "_view_name": "HTMLView",
            "description": "",
            "description_tooltip": null,
            "layout": "IPY_MODEL_e7d726cf4d9d4c2a8ce3df88716ea9df",
            "placeholder": "​",
            "style": "IPY_MODEL_20997b667e0549fdb29e3c37b66a80b5",
            "value": " 5/5 [00:47&lt;00:00,  9.52s/it]"
          }
        },
        "563df1640f49460bb491a615928efa5e": {
          "model_module": "@jupyter-widgets/base",
          "model_name": "LayoutModel",
          "model_module_version": "1.2.0",
          "state": {
            "_model_module": "@jupyter-widgets/base",
            "_model_module_version": "1.2.0",
            "_model_name": "LayoutModel",
            "_view_count": null,
            "_view_module": "@jupyter-widgets/base",
            "_view_module_version": "1.2.0",
            "_view_name": "LayoutView",
            "align_content": null,
            "align_items": null,
            "align_self": null,
            "border": null,
            "bottom": null,
            "display": null,
            "flex": null,
            "flex_flow": null,
            "grid_area": null,
            "grid_auto_columns": null,
            "grid_auto_flow": null,
            "grid_auto_rows": null,
            "grid_column": null,
            "grid_gap": null,
            "grid_row": null,
            "grid_template_areas": null,
            "grid_template_columns": null,
            "grid_template_rows": null,
            "height": null,
            "justify_content": null,
            "justify_items": null,
            "left": null,
            "margin": null,
            "max_height": null,
            "max_width": null,
            "min_height": null,
            "min_width": null,
            "object_fit": null,
            "object_position": null,
            "order": null,
            "overflow": null,
            "overflow_x": null,
            "overflow_y": null,
            "padding": null,
            "right": null,
            "top": null,
            "visibility": null,
            "width": null
          }
        },
        "73e3671e62ed4063a5ceb5022b6382e2": {
          "model_module": "@jupyter-widgets/base",
          "model_name": "LayoutModel",
          "model_module_version": "1.2.0",
          "state": {
            "_model_module": "@jupyter-widgets/base",
            "_model_module_version": "1.2.0",
            "_model_name": "LayoutModel",
            "_view_count": null,
            "_view_module": "@jupyter-widgets/base",
            "_view_module_version": "1.2.0",
            "_view_name": "LayoutView",
            "align_content": null,
            "align_items": null,
            "align_self": null,
            "border": null,
            "bottom": null,
            "display": null,
            "flex": null,
            "flex_flow": null,
            "grid_area": null,
            "grid_auto_columns": null,
            "grid_auto_flow": null,
            "grid_auto_rows": null,
            "grid_column": null,
            "grid_gap": null,
            "grid_row": null,
            "grid_template_areas": null,
            "grid_template_columns": null,
            "grid_template_rows": null,
            "height": null,
            "justify_content": null,
            "justify_items": null,
            "left": null,
            "margin": null,
            "max_height": null,
            "max_width": null,
            "min_height": null,
            "min_width": null,
            "object_fit": null,
            "object_position": null,
            "order": null,
            "overflow": null,
            "overflow_x": null,
            "overflow_y": null,
            "padding": null,
            "right": null,
            "top": null,
            "visibility": null,
            "width": null
          }
        },
        "3f7893b73e504d418eb74b22e7c26a47": {
          "model_module": "@jupyter-widgets/controls",
          "model_name": "DescriptionStyleModel",
          "model_module_version": "1.5.0",
          "state": {
            "_model_module": "@jupyter-widgets/controls",
            "_model_module_version": "1.5.0",
            "_model_name": "DescriptionStyleModel",
            "_view_count": null,
            "_view_module": "@jupyter-widgets/base",
            "_view_module_version": "1.2.0",
            "_view_name": "StyleView",
            "description_width": ""
          }
        },
        "a357dc1d48ec4b6b936ce2f90b386b52": {
          "model_module": "@jupyter-widgets/base",
          "model_name": "LayoutModel",
          "model_module_version": "1.2.0",
          "state": {
            "_model_module": "@jupyter-widgets/base",
            "_model_module_version": "1.2.0",
            "_model_name": "LayoutModel",
            "_view_count": null,
            "_view_module": "@jupyter-widgets/base",
            "_view_module_version": "1.2.0",
            "_view_name": "LayoutView",
            "align_content": null,
            "align_items": null,
            "align_self": null,
            "border": null,
            "bottom": null,
            "display": null,
            "flex": null,
            "flex_flow": null,
            "grid_area": null,
            "grid_auto_columns": null,
            "grid_auto_flow": null,
            "grid_auto_rows": null,
            "grid_column": null,
            "grid_gap": null,
            "grid_row": null,
            "grid_template_areas": null,
            "grid_template_columns": null,
            "grid_template_rows": null,
            "height": null,
            "justify_content": null,
            "justify_items": null,
            "left": null,
            "margin": null,
            "max_height": null,
            "max_width": null,
            "min_height": null,
            "min_width": null,
            "object_fit": null,
            "object_position": null,
            "order": null,
            "overflow": null,
            "overflow_x": null,
            "overflow_y": null,
            "padding": null,
            "right": null,
            "top": null,
            "visibility": null,
            "width": null
          }
        },
        "385710a633e8448383571a542e4ae8e3": {
          "model_module": "@jupyter-widgets/controls",
          "model_name": "ProgressStyleModel",
          "model_module_version": "1.5.0",
          "state": {
            "_model_module": "@jupyter-widgets/controls",
            "_model_module_version": "1.5.0",
            "_model_name": "ProgressStyleModel",
            "_view_count": null,
            "_view_module": "@jupyter-widgets/base",
            "_view_module_version": "1.2.0",
            "_view_name": "StyleView",
            "bar_color": null,
            "description_width": ""
          }
        },
        "e7d726cf4d9d4c2a8ce3df88716ea9df": {
          "model_module": "@jupyter-widgets/base",
          "model_name": "LayoutModel",
          "model_module_version": "1.2.0",
          "state": {
            "_model_module": "@jupyter-widgets/base",
            "_model_module_version": "1.2.0",
            "_model_name": "LayoutModel",
            "_view_count": null,
            "_view_module": "@jupyter-widgets/base",
            "_view_module_version": "1.2.0",
            "_view_name": "LayoutView",
            "align_content": null,
            "align_items": null,
            "align_self": null,
            "border": null,
            "bottom": null,
            "display": null,
            "flex": null,
            "flex_flow": null,
            "grid_area": null,
            "grid_auto_columns": null,
            "grid_auto_flow": null,
            "grid_auto_rows": null,
            "grid_column": null,
            "grid_gap": null,
            "grid_row": null,
            "grid_template_areas": null,
            "grid_template_columns": null,
            "grid_template_rows": null,
            "height": null,
            "justify_content": null,
            "justify_items": null,
            "left": null,
            "margin": null,
            "max_height": null,
            "max_width": null,
            "min_height": null,
            "min_width": null,
            "object_fit": null,
            "object_position": null,
            "order": null,
            "overflow": null,
            "overflow_x": null,
            "overflow_y": null,
            "padding": null,
            "right": null,
            "top": null,
            "visibility": null,
            "width": null
          }
        },
        "20997b667e0549fdb29e3c37b66a80b5": {
          "model_module": "@jupyter-widgets/controls",
          "model_name": "DescriptionStyleModel",
          "model_module_version": "1.5.0",
          "state": {
            "_model_module": "@jupyter-widgets/controls",
            "_model_module_version": "1.5.0",
            "_model_name": "DescriptionStyleModel",
            "_view_count": null,
            "_view_module": "@jupyter-widgets/base",
            "_view_module_version": "1.2.0",
            "_view_name": "StyleView",
            "description_width": ""
          }
        },
        "612a1b0eb74f4b5194807133116f4783": {
          "model_module": "@jupyter-widgets/controls",
          "model_name": "HBoxModel",
          "model_module_version": "1.5.0",
          "state": {
            "_dom_classes": [],
            "_model_module": "@jupyter-widgets/controls",
            "_model_module_version": "1.5.0",
            "_model_name": "HBoxModel",
            "_view_count": null,
            "_view_module": "@jupyter-widgets/controls",
            "_view_module_version": "1.5.0",
            "_view_name": "HBoxView",
            "box_style": "",
            "children": [
              "IPY_MODEL_1176f9e2c8554ee2b812068b6db7da23",
              "IPY_MODEL_a117dbb01b904122b312f7153857fa88",
              "IPY_MODEL_833bd0360eeb44f897097ecab851bba0"
            ],
            "layout": "IPY_MODEL_48e82c91f32c4b6f93e7a1bef54cd3df"
          }
        },
        "1176f9e2c8554ee2b812068b6db7da23": {
          "model_module": "@jupyter-widgets/controls",
          "model_name": "HTMLModel",
          "model_module_version": "1.5.0",
          "state": {
            "_dom_classes": [],
            "_model_module": "@jupyter-widgets/controls",
            "_model_module_version": "1.5.0",
            "_model_name": "HTMLModel",
            "_view_count": null,
            "_view_module": "@jupyter-widgets/controls",
            "_view_module_version": "1.5.0",
            "_view_name": "HTMLView",
            "description": "",
            "description_tooltip": null,
            "layout": "IPY_MODEL_66673655ceac48189fd1f9dac9face35",
            "placeholder": "​",
            "style": "IPY_MODEL_dd0ffacdf9944eed8cc7fa547e69adb9",
            "value": "100%"
          }
        },
        "a117dbb01b904122b312f7153857fa88": {
          "model_module": "@jupyter-widgets/controls",
          "model_name": "FloatProgressModel",
          "model_module_version": "1.5.0",
          "state": {
            "_dom_classes": [],
            "_model_module": "@jupyter-widgets/controls",
            "_model_module_version": "1.5.0",
            "_model_name": "FloatProgressModel",
            "_view_count": null,
            "_view_module": "@jupyter-widgets/controls",
            "_view_module_version": "1.5.0",
            "_view_name": "ProgressView",
            "bar_style": "success",
            "description": "",
            "description_tooltip": null,
            "layout": "IPY_MODEL_3958e746f02f431abf1b697f9757594a",
            "max": 5,
            "min": 0,
            "orientation": "horizontal",
            "style": "IPY_MODEL_84a67a0acd0e4cd2bacff496c587220e",
            "value": 5
          }
        },
        "833bd0360eeb44f897097ecab851bba0": {
          "model_module": "@jupyter-widgets/controls",
          "model_name": "HTMLModel",
          "model_module_version": "1.5.0",
          "state": {
            "_dom_classes": [],
            "_model_module": "@jupyter-widgets/controls",
            "_model_module_version": "1.5.0",
            "_model_name": "HTMLModel",
            "_view_count": null,
            "_view_module": "@jupyter-widgets/controls",
            "_view_module_version": "1.5.0",
            "_view_name": "HTMLView",
            "description": "",
            "description_tooltip": null,
            "layout": "IPY_MODEL_4d6f6fa939ab41cc9ad6407e2a73361e",
            "placeholder": "​",
            "style": "IPY_MODEL_93f83015f8d84ba1a3f54a0c49b86a4a",
            "value": " 5/5 [00:53&lt;00:00, 10.69s/it]"
          }
        },
        "48e82c91f32c4b6f93e7a1bef54cd3df": {
          "model_module": "@jupyter-widgets/base",
          "model_name": "LayoutModel",
          "model_module_version": "1.2.0",
          "state": {
            "_model_module": "@jupyter-widgets/base",
            "_model_module_version": "1.2.0",
            "_model_name": "LayoutModel",
            "_view_count": null,
            "_view_module": "@jupyter-widgets/base",
            "_view_module_version": "1.2.0",
            "_view_name": "LayoutView",
            "align_content": null,
            "align_items": null,
            "align_self": null,
            "border": null,
            "bottom": null,
            "display": null,
            "flex": null,
            "flex_flow": null,
            "grid_area": null,
            "grid_auto_columns": null,
            "grid_auto_flow": null,
            "grid_auto_rows": null,
            "grid_column": null,
            "grid_gap": null,
            "grid_row": null,
            "grid_template_areas": null,
            "grid_template_columns": null,
            "grid_template_rows": null,
            "height": null,
            "justify_content": null,
            "justify_items": null,
            "left": null,
            "margin": null,
            "max_height": null,
            "max_width": null,
            "min_height": null,
            "min_width": null,
            "object_fit": null,
            "object_position": null,
            "order": null,
            "overflow": null,
            "overflow_x": null,
            "overflow_y": null,
            "padding": null,
            "right": null,
            "top": null,
            "visibility": null,
            "width": null
          }
        },
        "66673655ceac48189fd1f9dac9face35": {
          "model_module": "@jupyter-widgets/base",
          "model_name": "LayoutModel",
          "model_module_version": "1.2.0",
          "state": {
            "_model_module": "@jupyter-widgets/base",
            "_model_module_version": "1.2.0",
            "_model_name": "LayoutModel",
            "_view_count": null,
            "_view_module": "@jupyter-widgets/base",
            "_view_module_version": "1.2.0",
            "_view_name": "LayoutView",
            "align_content": null,
            "align_items": null,
            "align_self": null,
            "border": null,
            "bottom": null,
            "display": null,
            "flex": null,
            "flex_flow": null,
            "grid_area": null,
            "grid_auto_columns": null,
            "grid_auto_flow": null,
            "grid_auto_rows": null,
            "grid_column": null,
            "grid_gap": null,
            "grid_row": null,
            "grid_template_areas": null,
            "grid_template_columns": null,
            "grid_template_rows": null,
            "height": null,
            "justify_content": null,
            "justify_items": null,
            "left": null,
            "margin": null,
            "max_height": null,
            "max_width": null,
            "min_height": null,
            "min_width": null,
            "object_fit": null,
            "object_position": null,
            "order": null,
            "overflow": null,
            "overflow_x": null,
            "overflow_y": null,
            "padding": null,
            "right": null,
            "top": null,
            "visibility": null,
            "width": null
          }
        },
        "dd0ffacdf9944eed8cc7fa547e69adb9": {
          "model_module": "@jupyter-widgets/controls",
          "model_name": "DescriptionStyleModel",
          "model_module_version": "1.5.0",
          "state": {
            "_model_module": "@jupyter-widgets/controls",
            "_model_module_version": "1.5.0",
            "_model_name": "DescriptionStyleModel",
            "_view_count": null,
            "_view_module": "@jupyter-widgets/base",
            "_view_module_version": "1.2.0",
            "_view_name": "StyleView",
            "description_width": ""
          }
        },
        "3958e746f02f431abf1b697f9757594a": {
          "model_module": "@jupyter-widgets/base",
          "model_name": "LayoutModel",
          "model_module_version": "1.2.0",
          "state": {
            "_model_module": "@jupyter-widgets/base",
            "_model_module_version": "1.2.0",
            "_model_name": "LayoutModel",
            "_view_count": null,
            "_view_module": "@jupyter-widgets/base",
            "_view_module_version": "1.2.0",
            "_view_name": "LayoutView",
            "align_content": null,
            "align_items": null,
            "align_self": null,
            "border": null,
            "bottom": null,
            "display": null,
            "flex": null,
            "flex_flow": null,
            "grid_area": null,
            "grid_auto_columns": null,
            "grid_auto_flow": null,
            "grid_auto_rows": null,
            "grid_column": null,
            "grid_gap": null,
            "grid_row": null,
            "grid_template_areas": null,
            "grid_template_columns": null,
            "grid_template_rows": null,
            "height": null,
            "justify_content": null,
            "justify_items": null,
            "left": null,
            "margin": null,
            "max_height": null,
            "max_width": null,
            "min_height": null,
            "min_width": null,
            "object_fit": null,
            "object_position": null,
            "order": null,
            "overflow": null,
            "overflow_x": null,
            "overflow_y": null,
            "padding": null,
            "right": null,
            "top": null,
            "visibility": null,
            "width": null
          }
        },
        "84a67a0acd0e4cd2bacff496c587220e": {
          "model_module": "@jupyter-widgets/controls",
          "model_name": "ProgressStyleModel",
          "model_module_version": "1.5.0",
          "state": {
            "_model_module": "@jupyter-widgets/controls",
            "_model_module_version": "1.5.0",
            "_model_name": "ProgressStyleModel",
            "_view_count": null,
            "_view_module": "@jupyter-widgets/base",
            "_view_module_version": "1.2.0",
            "_view_name": "StyleView",
            "bar_color": null,
            "description_width": ""
          }
        },
        "4d6f6fa939ab41cc9ad6407e2a73361e": {
          "model_module": "@jupyter-widgets/base",
          "model_name": "LayoutModel",
          "model_module_version": "1.2.0",
          "state": {
            "_model_module": "@jupyter-widgets/base",
            "_model_module_version": "1.2.0",
            "_model_name": "LayoutModel",
            "_view_count": null,
            "_view_module": "@jupyter-widgets/base",
            "_view_module_version": "1.2.0",
            "_view_name": "LayoutView",
            "align_content": null,
            "align_items": null,
            "align_self": null,
            "border": null,
            "bottom": null,
            "display": null,
            "flex": null,
            "flex_flow": null,
            "grid_area": null,
            "grid_auto_columns": null,
            "grid_auto_flow": null,
            "grid_auto_rows": null,
            "grid_column": null,
            "grid_gap": null,
            "grid_row": null,
            "grid_template_areas": null,
            "grid_template_columns": null,
            "grid_template_rows": null,
            "height": null,
            "justify_content": null,
            "justify_items": null,
            "left": null,
            "margin": null,
            "max_height": null,
            "max_width": null,
            "min_height": null,
            "min_width": null,
            "object_fit": null,
            "object_position": null,
            "order": null,
            "overflow": null,
            "overflow_x": null,
            "overflow_y": null,
            "padding": null,
            "right": null,
            "top": null,
            "visibility": null,
            "width": null
          }
        },
        "93f83015f8d84ba1a3f54a0c49b86a4a": {
          "model_module": "@jupyter-widgets/controls",
          "model_name": "DescriptionStyleModel",
          "model_module_version": "1.5.0",
          "state": {
            "_model_module": "@jupyter-widgets/controls",
            "_model_module_version": "1.5.0",
            "_model_name": "DescriptionStyleModel",
            "_view_count": null,
            "_view_module": "@jupyter-widgets/base",
            "_view_module_version": "1.2.0",
            "_view_name": "StyleView",
            "description_width": ""
          }
        },
        "6d4cf5354f6d424aaff84e506b311886": {
          "model_module": "@jupyter-widgets/controls",
          "model_name": "HBoxModel",
          "model_module_version": "1.5.0",
          "state": {
            "_dom_classes": [],
            "_model_module": "@jupyter-widgets/controls",
            "_model_module_version": "1.5.0",
            "_model_name": "HBoxModel",
            "_view_count": null,
            "_view_module": "@jupyter-widgets/controls",
            "_view_module_version": "1.5.0",
            "_view_name": "HBoxView",
            "box_style": "",
            "children": [
              "IPY_MODEL_df0982750e8d4f6b877cbca7d21a6d8e",
              "IPY_MODEL_658489a9fec84b4ca7d26fd974f67c20",
              "IPY_MODEL_f4a9788c3e53480785317e56c7e387b0"
            ],
            "layout": "IPY_MODEL_ddb70388eba5435d8ce6abd366a2f625"
          }
        },
        "df0982750e8d4f6b877cbca7d21a6d8e": {
          "model_module": "@jupyter-widgets/controls",
          "model_name": "HTMLModel",
          "model_module_version": "1.5.0",
          "state": {
            "_dom_classes": [],
            "_model_module": "@jupyter-widgets/controls",
            "_model_module_version": "1.5.0",
            "_model_name": "HTMLModel",
            "_view_count": null,
            "_view_module": "@jupyter-widgets/controls",
            "_view_module_version": "1.5.0",
            "_view_name": "HTMLView",
            "description": "",
            "description_tooltip": null,
            "layout": "IPY_MODEL_c2b66a41e10c492eb9b90654860e4287",
            "placeholder": "​",
            "style": "IPY_MODEL_293d789607b546b0b0c3e979cac52684",
            "value": "100%"
          }
        },
        "658489a9fec84b4ca7d26fd974f67c20": {
          "model_module": "@jupyter-widgets/controls",
          "model_name": "FloatProgressModel",
          "model_module_version": "1.5.0",
          "state": {
            "_dom_classes": [],
            "_model_module": "@jupyter-widgets/controls",
            "_model_module_version": "1.5.0",
            "_model_name": "FloatProgressModel",
            "_view_count": null,
            "_view_module": "@jupyter-widgets/controls",
            "_view_module_version": "1.5.0",
            "_view_name": "ProgressView",
            "bar_style": "success",
            "description": "",
            "description_tooltip": null,
            "layout": "IPY_MODEL_be623057e604438ba4e0468e119c3ae2",
            "max": 10,
            "min": 0,
            "orientation": "horizontal",
            "style": "IPY_MODEL_bdf045b734bf43db89d2f3a736aa717c",
            "value": 10
          }
        },
        "f4a9788c3e53480785317e56c7e387b0": {
          "model_module": "@jupyter-widgets/controls",
          "model_name": "HTMLModel",
          "model_module_version": "1.5.0",
          "state": {
            "_dom_classes": [],
            "_model_module": "@jupyter-widgets/controls",
            "_model_module_version": "1.5.0",
            "_model_name": "HTMLModel",
            "_view_count": null,
            "_view_module": "@jupyter-widgets/controls",
            "_view_module_version": "1.5.0",
            "_view_name": "HTMLView",
            "description": "",
            "description_tooltip": null,
            "layout": "IPY_MODEL_f79bcf1e1d9d4860bd6c3f57ae4d0817",
            "placeholder": "​",
            "style": "IPY_MODEL_195966565c0f404da80e4f30eb4283af",
            "value": " 10/10 [01:44&lt;00:00, 10.58s/it]"
          }
        },
        "ddb70388eba5435d8ce6abd366a2f625": {
          "model_module": "@jupyter-widgets/base",
          "model_name": "LayoutModel",
          "model_module_version": "1.2.0",
          "state": {
            "_model_module": "@jupyter-widgets/base",
            "_model_module_version": "1.2.0",
            "_model_name": "LayoutModel",
            "_view_count": null,
            "_view_module": "@jupyter-widgets/base",
            "_view_module_version": "1.2.0",
            "_view_name": "LayoutView",
            "align_content": null,
            "align_items": null,
            "align_self": null,
            "border": null,
            "bottom": null,
            "display": null,
            "flex": null,
            "flex_flow": null,
            "grid_area": null,
            "grid_auto_columns": null,
            "grid_auto_flow": null,
            "grid_auto_rows": null,
            "grid_column": null,
            "grid_gap": null,
            "grid_row": null,
            "grid_template_areas": null,
            "grid_template_columns": null,
            "grid_template_rows": null,
            "height": null,
            "justify_content": null,
            "justify_items": null,
            "left": null,
            "margin": null,
            "max_height": null,
            "max_width": null,
            "min_height": null,
            "min_width": null,
            "object_fit": null,
            "object_position": null,
            "order": null,
            "overflow": null,
            "overflow_x": null,
            "overflow_y": null,
            "padding": null,
            "right": null,
            "top": null,
            "visibility": null,
            "width": null
          }
        },
        "c2b66a41e10c492eb9b90654860e4287": {
          "model_module": "@jupyter-widgets/base",
          "model_name": "LayoutModel",
          "model_module_version": "1.2.0",
          "state": {
            "_model_module": "@jupyter-widgets/base",
            "_model_module_version": "1.2.0",
            "_model_name": "LayoutModel",
            "_view_count": null,
            "_view_module": "@jupyter-widgets/base",
            "_view_module_version": "1.2.0",
            "_view_name": "LayoutView",
            "align_content": null,
            "align_items": null,
            "align_self": null,
            "border": null,
            "bottom": null,
            "display": null,
            "flex": null,
            "flex_flow": null,
            "grid_area": null,
            "grid_auto_columns": null,
            "grid_auto_flow": null,
            "grid_auto_rows": null,
            "grid_column": null,
            "grid_gap": null,
            "grid_row": null,
            "grid_template_areas": null,
            "grid_template_columns": null,
            "grid_template_rows": null,
            "height": null,
            "justify_content": null,
            "justify_items": null,
            "left": null,
            "margin": null,
            "max_height": null,
            "max_width": null,
            "min_height": null,
            "min_width": null,
            "object_fit": null,
            "object_position": null,
            "order": null,
            "overflow": null,
            "overflow_x": null,
            "overflow_y": null,
            "padding": null,
            "right": null,
            "top": null,
            "visibility": null,
            "width": null
          }
        },
        "293d789607b546b0b0c3e979cac52684": {
          "model_module": "@jupyter-widgets/controls",
          "model_name": "DescriptionStyleModel",
          "model_module_version": "1.5.0",
          "state": {
            "_model_module": "@jupyter-widgets/controls",
            "_model_module_version": "1.5.0",
            "_model_name": "DescriptionStyleModel",
            "_view_count": null,
            "_view_module": "@jupyter-widgets/base",
            "_view_module_version": "1.2.0",
            "_view_name": "StyleView",
            "description_width": ""
          }
        },
        "be623057e604438ba4e0468e119c3ae2": {
          "model_module": "@jupyter-widgets/base",
          "model_name": "LayoutModel",
          "model_module_version": "1.2.0",
          "state": {
            "_model_module": "@jupyter-widgets/base",
            "_model_module_version": "1.2.0",
            "_model_name": "LayoutModel",
            "_view_count": null,
            "_view_module": "@jupyter-widgets/base",
            "_view_module_version": "1.2.0",
            "_view_name": "LayoutView",
            "align_content": null,
            "align_items": null,
            "align_self": null,
            "border": null,
            "bottom": null,
            "display": null,
            "flex": null,
            "flex_flow": null,
            "grid_area": null,
            "grid_auto_columns": null,
            "grid_auto_flow": null,
            "grid_auto_rows": null,
            "grid_column": null,
            "grid_gap": null,
            "grid_row": null,
            "grid_template_areas": null,
            "grid_template_columns": null,
            "grid_template_rows": null,
            "height": null,
            "justify_content": null,
            "justify_items": null,
            "left": null,
            "margin": null,
            "max_height": null,
            "max_width": null,
            "min_height": null,
            "min_width": null,
            "object_fit": null,
            "object_position": null,
            "order": null,
            "overflow": null,
            "overflow_x": null,
            "overflow_y": null,
            "padding": null,
            "right": null,
            "top": null,
            "visibility": null,
            "width": null
          }
        },
        "bdf045b734bf43db89d2f3a736aa717c": {
          "model_module": "@jupyter-widgets/controls",
          "model_name": "ProgressStyleModel",
          "model_module_version": "1.5.0",
          "state": {
            "_model_module": "@jupyter-widgets/controls",
            "_model_module_version": "1.5.0",
            "_model_name": "ProgressStyleModel",
            "_view_count": null,
            "_view_module": "@jupyter-widgets/base",
            "_view_module_version": "1.2.0",
            "_view_name": "StyleView",
            "bar_color": null,
            "description_width": ""
          }
        },
        "f79bcf1e1d9d4860bd6c3f57ae4d0817": {
          "model_module": "@jupyter-widgets/base",
          "model_name": "LayoutModel",
          "model_module_version": "1.2.0",
          "state": {
            "_model_module": "@jupyter-widgets/base",
            "_model_module_version": "1.2.0",
            "_model_name": "LayoutModel",
            "_view_count": null,
            "_view_module": "@jupyter-widgets/base",
            "_view_module_version": "1.2.0",
            "_view_name": "LayoutView",
            "align_content": null,
            "align_items": null,
            "align_self": null,
            "border": null,
            "bottom": null,
            "display": null,
            "flex": null,
            "flex_flow": null,
            "grid_area": null,
            "grid_auto_columns": null,
            "grid_auto_flow": null,
            "grid_auto_rows": null,
            "grid_column": null,
            "grid_gap": null,
            "grid_row": null,
            "grid_template_areas": null,
            "grid_template_columns": null,
            "grid_template_rows": null,
            "height": null,
            "justify_content": null,
            "justify_items": null,
            "left": null,
            "margin": null,
            "max_height": null,
            "max_width": null,
            "min_height": null,
            "min_width": null,
            "object_fit": null,
            "object_position": null,
            "order": null,
            "overflow": null,
            "overflow_x": null,
            "overflow_y": null,
            "padding": null,
            "right": null,
            "top": null,
            "visibility": null,
            "width": null
          }
        },
        "195966565c0f404da80e4f30eb4283af": {
          "model_module": "@jupyter-widgets/controls",
          "model_name": "DescriptionStyleModel",
          "model_module_version": "1.5.0",
          "state": {
            "_model_module": "@jupyter-widgets/controls",
            "_model_module_version": "1.5.0",
            "_model_name": "DescriptionStyleModel",
            "_view_count": null,
            "_view_module": "@jupyter-widgets/base",
            "_view_module_version": "1.2.0",
            "_view_name": "StyleView",
            "description_width": ""
          }
        },
        "dd79c0c0eced447b997f4e3158e980e7": {
          "model_module": "@jupyter-widgets/controls",
          "model_name": "HBoxModel",
          "model_module_version": "1.5.0",
          "state": {
            "_dom_classes": [],
            "_model_module": "@jupyter-widgets/controls",
            "_model_module_version": "1.5.0",
            "_model_name": "HBoxModel",
            "_view_count": null,
            "_view_module": "@jupyter-widgets/controls",
            "_view_module_version": "1.5.0",
            "_view_name": "HBoxView",
            "box_style": "",
            "children": [
              "IPY_MODEL_9d07c204a5b34749b5ba2181582c913c",
              "IPY_MODEL_be57a09625464ffab076c579783503a5",
              "IPY_MODEL_cd7ff778a68940e78eadad91249e4f4f"
            ],
            "layout": "IPY_MODEL_b23190c62ebe4af1a66cd1b94885139d"
          }
        },
        "9d07c204a5b34749b5ba2181582c913c": {
          "model_module": "@jupyter-widgets/controls",
          "model_name": "HTMLModel",
          "model_module_version": "1.5.0",
          "state": {
            "_dom_classes": [],
            "_model_module": "@jupyter-widgets/controls",
            "_model_module_version": "1.5.0",
            "_model_name": "HTMLModel",
            "_view_count": null,
            "_view_module": "@jupyter-widgets/controls",
            "_view_module_version": "1.5.0",
            "_view_name": "HTMLView",
            "description": "",
            "description_tooltip": null,
            "layout": "IPY_MODEL_df0f7130bde344a3a61440a198cc8fd0",
            "placeholder": "​",
            "style": "IPY_MODEL_cad50ed001f24191880901c7de59dca8",
            "value": "100%"
          }
        },
        "be57a09625464ffab076c579783503a5": {
          "model_module": "@jupyter-widgets/controls",
          "model_name": "FloatProgressModel",
          "model_module_version": "1.5.0",
          "state": {
            "_dom_classes": [],
            "_model_module": "@jupyter-widgets/controls",
            "_model_module_version": "1.5.0",
            "_model_name": "FloatProgressModel",
            "_view_count": null,
            "_view_module": "@jupyter-widgets/controls",
            "_view_module_version": "1.5.0",
            "_view_name": "ProgressView",
            "bar_style": "success",
            "description": "",
            "description_tooltip": null,
            "layout": "IPY_MODEL_eb6215ccb4f94ea6bef241c760c06e9c",
            "max": 10,
            "min": 0,
            "orientation": "horizontal",
            "style": "IPY_MODEL_23d87a719348413e9a65690f7461ef43",
            "value": 10
          }
        },
        "cd7ff778a68940e78eadad91249e4f4f": {
          "model_module": "@jupyter-widgets/controls",
          "model_name": "HTMLModel",
          "model_module_version": "1.5.0",
          "state": {
            "_dom_classes": [],
            "_model_module": "@jupyter-widgets/controls",
            "_model_module_version": "1.5.0",
            "_model_name": "HTMLModel",
            "_view_count": null,
            "_view_module": "@jupyter-widgets/controls",
            "_view_module_version": "1.5.0",
            "_view_name": "HTMLView",
            "description": "",
            "description_tooltip": null,
            "layout": "IPY_MODEL_da522d2b59754542a486fa17f5a2dfe4",
            "placeholder": "​",
            "style": "IPY_MODEL_3b7e31c9b1cd4048ab4436f730dce40e",
            "value": " 10/10 [01:58&lt;00:00, 11.21s/it]"
          }
        },
        "b23190c62ebe4af1a66cd1b94885139d": {
          "model_module": "@jupyter-widgets/base",
          "model_name": "LayoutModel",
          "model_module_version": "1.2.0",
          "state": {
            "_model_module": "@jupyter-widgets/base",
            "_model_module_version": "1.2.0",
            "_model_name": "LayoutModel",
            "_view_count": null,
            "_view_module": "@jupyter-widgets/base",
            "_view_module_version": "1.2.0",
            "_view_name": "LayoutView",
            "align_content": null,
            "align_items": null,
            "align_self": null,
            "border": null,
            "bottom": null,
            "display": null,
            "flex": null,
            "flex_flow": null,
            "grid_area": null,
            "grid_auto_columns": null,
            "grid_auto_flow": null,
            "grid_auto_rows": null,
            "grid_column": null,
            "grid_gap": null,
            "grid_row": null,
            "grid_template_areas": null,
            "grid_template_columns": null,
            "grid_template_rows": null,
            "height": null,
            "justify_content": null,
            "justify_items": null,
            "left": null,
            "margin": null,
            "max_height": null,
            "max_width": null,
            "min_height": null,
            "min_width": null,
            "object_fit": null,
            "object_position": null,
            "order": null,
            "overflow": null,
            "overflow_x": null,
            "overflow_y": null,
            "padding": null,
            "right": null,
            "top": null,
            "visibility": null,
            "width": null
          }
        },
        "df0f7130bde344a3a61440a198cc8fd0": {
          "model_module": "@jupyter-widgets/base",
          "model_name": "LayoutModel",
          "model_module_version": "1.2.0",
          "state": {
            "_model_module": "@jupyter-widgets/base",
            "_model_module_version": "1.2.0",
            "_model_name": "LayoutModel",
            "_view_count": null,
            "_view_module": "@jupyter-widgets/base",
            "_view_module_version": "1.2.0",
            "_view_name": "LayoutView",
            "align_content": null,
            "align_items": null,
            "align_self": null,
            "border": null,
            "bottom": null,
            "display": null,
            "flex": null,
            "flex_flow": null,
            "grid_area": null,
            "grid_auto_columns": null,
            "grid_auto_flow": null,
            "grid_auto_rows": null,
            "grid_column": null,
            "grid_gap": null,
            "grid_row": null,
            "grid_template_areas": null,
            "grid_template_columns": null,
            "grid_template_rows": null,
            "height": null,
            "justify_content": null,
            "justify_items": null,
            "left": null,
            "margin": null,
            "max_height": null,
            "max_width": null,
            "min_height": null,
            "min_width": null,
            "object_fit": null,
            "object_position": null,
            "order": null,
            "overflow": null,
            "overflow_x": null,
            "overflow_y": null,
            "padding": null,
            "right": null,
            "top": null,
            "visibility": null,
            "width": null
          }
        },
        "cad50ed001f24191880901c7de59dca8": {
          "model_module": "@jupyter-widgets/controls",
          "model_name": "DescriptionStyleModel",
          "model_module_version": "1.5.0",
          "state": {
            "_model_module": "@jupyter-widgets/controls",
            "_model_module_version": "1.5.0",
            "_model_name": "DescriptionStyleModel",
            "_view_count": null,
            "_view_module": "@jupyter-widgets/base",
            "_view_module_version": "1.2.0",
            "_view_name": "StyleView",
            "description_width": ""
          }
        },
        "eb6215ccb4f94ea6bef241c760c06e9c": {
          "model_module": "@jupyter-widgets/base",
          "model_name": "LayoutModel",
          "model_module_version": "1.2.0",
          "state": {
            "_model_module": "@jupyter-widgets/base",
            "_model_module_version": "1.2.0",
            "_model_name": "LayoutModel",
            "_view_count": null,
            "_view_module": "@jupyter-widgets/base",
            "_view_module_version": "1.2.0",
            "_view_name": "LayoutView",
            "align_content": null,
            "align_items": null,
            "align_self": null,
            "border": null,
            "bottom": null,
            "display": null,
            "flex": null,
            "flex_flow": null,
            "grid_area": null,
            "grid_auto_columns": null,
            "grid_auto_flow": null,
            "grid_auto_rows": null,
            "grid_column": null,
            "grid_gap": null,
            "grid_row": null,
            "grid_template_areas": null,
            "grid_template_columns": null,
            "grid_template_rows": null,
            "height": null,
            "justify_content": null,
            "justify_items": null,
            "left": null,
            "margin": null,
            "max_height": null,
            "max_width": null,
            "min_height": null,
            "min_width": null,
            "object_fit": null,
            "object_position": null,
            "order": null,
            "overflow": null,
            "overflow_x": null,
            "overflow_y": null,
            "padding": null,
            "right": null,
            "top": null,
            "visibility": null,
            "width": null
          }
        },
        "23d87a719348413e9a65690f7461ef43": {
          "model_module": "@jupyter-widgets/controls",
          "model_name": "ProgressStyleModel",
          "model_module_version": "1.5.0",
          "state": {
            "_model_module": "@jupyter-widgets/controls",
            "_model_module_version": "1.5.0",
            "_model_name": "ProgressStyleModel",
            "_view_count": null,
            "_view_module": "@jupyter-widgets/base",
            "_view_module_version": "1.2.0",
            "_view_name": "StyleView",
            "bar_color": null,
            "description_width": ""
          }
        },
        "da522d2b59754542a486fa17f5a2dfe4": {
          "model_module": "@jupyter-widgets/base",
          "model_name": "LayoutModel",
          "model_module_version": "1.2.0",
          "state": {
            "_model_module": "@jupyter-widgets/base",
            "_model_module_version": "1.2.0",
            "_model_name": "LayoutModel",
            "_view_count": null,
            "_view_module": "@jupyter-widgets/base",
            "_view_module_version": "1.2.0",
            "_view_name": "LayoutView",
            "align_content": null,
            "align_items": null,
            "align_self": null,
            "border": null,
            "bottom": null,
            "display": null,
            "flex": null,
            "flex_flow": null,
            "grid_area": null,
            "grid_auto_columns": null,
            "grid_auto_flow": null,
            "grid_auto_rows": null,
            "grid_column": null,
            "grid_gap": null,
            "grid_row": null,
            "grid_template_areas": null,
            "grid_template_columns": null,
            "grid_template_rows": null,
            "height": null,
            "justify_content": null,
            "justify_items": null,
            "left": null,
            "margin": null,
            "max_height": null,
            "max_width": null,
            "min_height": null,
            "min_width": null,
            "object_fit": null,
            "object_position": null,
            "order": null,
            "overflow": null,
            "overflow_x": null,
            "overflow_y": null,
            "padding": null,
            "right": null,
            "top": null,
            "visibility": null,
            "width": null
          }
        },
        "3b7e31c9b1cd4048ab4436f730dce40e": {
          "model_module": "@jupyter-widgets/controls",
          "model_name": "DescriptionStyleModel",
          "model_module_version": "1.5.0",
          "state": {
            "_model_module": "@jupyter-widgets/controls",
            "_model_module_version": "1.5.0",
            "_model_name": "DescriptionStyleModel",
            "_view_count": null,
            "_view_module": "@jupyter-widgets/base",
            "_view_module_version": "1.2.0",
            "_view_name": "StyleView",
            "description_width": ""
          }
        }
      }
    }
  },
  "cells": [
    {
      "cell_type": "markdown",
      "source": [
        "## What is Experiment Tracking?\n",
        "\n",
        "**Experiment Tracking** is a way of tracking the models and the _Machine Learning_ experiments we are running.\n",
        "\n",
        "So far we are tracking those experiments using Python `Dictionaries`.\n",
        "\n",
        "It's very usefull because, If we're running lots of different experiments, experiment tracking helps us figure out what works and what doesn't.\n",
        "\n",
        "**Experiment Tracking** is very usefull when dealing with large amount of models and experiments at once.\n",
        "\n",
        "Other than saving the results of an experiment into a `csv file`, on a `Dictionary` or even just `printing` it we have a lot of way for performing Experiment Tracking:\n",
        "* TensorBoard\n",
        "* Weights & Biases Experiment Tracking\n",
        "* MLFlow\n",
        "\n",
        "(all require installation)\n",
        "\n",
        "By searching for: `machine learning experiment tracking` we can see even more ways for tracking our experiments.\n",
        "\n",
        "We are going to track our experiments using `torch.utils.tensorboard.SummaryWriter()` function.\n",
        "\n",
        "- By default, the **SummaryWriter()** class saves various information about our model to a file set by the `log_dir` parameter.\n",
        "- The default location for log_dir is under `runs/CURRENT_DATETIME_HOSTNAME`, where the HOSTNAME is the name of your computer.\n",
        "- But of course, we can change where our experiments are tracked (the filename is as customisable as we would like)."
      ],
      "metadata": {
        "id": "ySUkOZewjYcL"
      }
    },
    {
      "cell_type": "code",
      "source": [
        "import torch\n",
        "from torch import nn, optim\n",
        "from torchvision import transforms, models\n",
        "from torch.utils.tensorboard import SummaryWriter\n",
        "from torchvision.io import read_image\n",
        "\n",
        "import matplotlib.pyplot as plt\n",
        "from pathlib import Path"
      ],
      "metadata": {
        "id": "fsWA5m1jpXzn"
      },
      "execution_count": 75,
      "outputs": []
    },
    {
      "cell_type": "code",
      "source": [
        "!pip install -q torchinfo"
      ],
      "metadata": {
        "id": "N-lC2JLlpzdN"
      },
      "execution_count": 3,
      "outputs": []
    },
    {
      "cell_type": "code",
      "source": [
        "from torchinfo import summary"
      ],
      "metadata": {
        "id": "pBsr7yjfp2bt"
      },
      "execution_count": 4,
      "outputs": []
    },
    {
      "cell_type": "code",
      "source": [
        "from drive.MyDrive.going_modular.going_modular import data_setup, utils\n",
        "from drive.MyDrive.going_modular.going_modular.engine import accuracy_fn, training_step, validation_step"
      ],
      "metadata": {
        "id": "nHyjNOnhp9nN"
      },
      "execution_count": 5,
      "outputs": []
    },
    {
      "cell_type": "code",
      "source": [
        "from collections.abc import Callable # For type hinting\n",
        "from tqdm.auto import tqdm\n",
        "from timeit import default_timer as timer"
      ],
      "metadata": {
        "id": "tWfEdC3K2QOV"
      },
      "execution_count": 6,
      "outputs": []
    },
    {
      "cell_type": "markdown",
      "source": [
        "## Setting up Default Device"
      ],
      "metadata": {
        "id": "VTiAd3QaqGDw"
      }
    },
    {
      "cell_type": "code",
      "source": [
        "device = torch.device(\"cuda\" if torch.cuda.is_available() else \"cpu\")\n",
        "\n",
        "print(device)"
      ],
      "metadata": {
        "colab": {
          "base_uri": "https://localhost:8080/"
        },
        "id": "ol_HDivIqH1Q",
        "outputId": "9fd54e88-bcde-4e6e-be85-333bfb2929ff"
      },
      "execution_count": 7,
      "outputs": [
        {
          "output_type": "stream",
          "name": "stdout",
          "text": [
            "cuda\n"
          ]
        }
      ]
    },
    {
      "cell_type": "markdown",
      "source": [
        "## Loading the Dataset"
      ],
      "metadata": {
        "id": "k4ii_BhvqXOF"
      }
    },
    {
      "cell_type": "code",
      "source": [
        "# Creating the Path Objects\n",
        "dataset_path = Path(\"/content/drive/MyDrive/going_modular/data/pizza_steak_sushi\")\n",
        "\n",
        "train_path = dataset_path / \"train\"\n",
        "test_path = dataset_path / \"test\""
      ],
      "metadata": {
        "id": "S-7MD-B-qNiM"
      },
      "execution_count": 8,
      "outputs": []
    },
    {
      "cell_type": "markdown",
      "source": [
        "## Creating the Transformations"
      ],
      "metadata": {
        "id": "qZo2gBk3qwYJ"
      }
    },
    {
      "cell_type": "markdown",
      "source": [
        "### Manual Creation"
      ],
      "metadata": {
        "id": "NBXGEuY5r_WJ"
      }
    },
    {
      "cell_type": "code",
      "source": [
        "manual_transforms = transforms.Compose([\n",
        "    transforms.Resize(size=(224, 224)),\n",
        "    transforms.ToTensor(),\n",
        "    transforms.Normalize(mean=[[0.485, 0.456, 0.406]],\n",
        "                         std=[0.229, 0.224, 0.225])\n",
        "])"
      ],
      "metadata": {
        "id": "9O4bM8l6qyZV"
      },
      "execution_count": 9,
      "outputs": []
    },
    {
      "cell_type": "markdown",
      "source": [
        "### Auto Creation"
      ],
      "metadata": {
        "id": "LrDNhbnEsBBx"
      }
    },
    {
      "cell_type": "code",
      "source": [
        "weight = models.EfficientNet_B0_Weights.DEFAULT\n",
        "\n",
        "auto_transforms = weight.transforms()"
      ],
      "metadata": {
        "id": "xKLb2K6orz9E"
      },
      "execution_count": 10,
      "outputs": []
    },
    {
      "cell_type": "markdown",
      "source": [
        "## Create DataLoaders"
      ],
      "metadata": {
        "id": "Z7DsHtLVqs6U"
      }
    },
    {
      "cell_type": "code",
      "source": [
        "BATCH_SIZE = 32\n",
        "\n",
        "train_dl, test_dl, classes_names = data_setup.create_dataloaders(train_dir=train_path,\n",
        "                                                                 test_dir=test_path,\n",
        "                                                                 train_transform=auto_transforms,\n",
        "                                                                 test_transform=auto_transforms,\n",
        "                                                                 batch_size=BATCH_SIZE)\n",
        "\n",
        "print(len(train_dl), len(test_dl))\n",
        "print(classes_names)"
      ],
      "metadata": {
        "colab": {
          "base_uri": "https://localhost:8080/"
        },
        "id": "BLQw-s56ql1X",
        "outputId": "89e8c195-2e2d-4a67-912d-f36e7ed51fbf"
      },
      "execution_count": 11,
      "outputs": [
        {
          "output_type": "stream",
          "name": "stdout",
          "text": [
            "8 3\n",
            "['pizza', 'steak', 'sushi']\n"
          ]
        }
      ]
    },
    {
      "cell_type": "markdown",
      "source": [
        "## Getting a Pre-Trained Model"
      ],
      "metadata": {
        "id": "1LP7CuAtsLDw"
      }
    },
    {
      "cell_type": "code",
      "source": [
        "# Getting the weights\n",
        "weights = models.EfficientNet_B0_Weights.DEFAULT\n",
        "\n",
        "# Getting the Model and move it to Device\n",
        "model = models.efficientnet_b0(weights=weights).to(device)"
      ],
      "metadata": {
        "id": "yrKBi9PusNEi",
        "colab": {
          "base_uri": "https://localhost:8080/",
          "height": 86,
          "referenced_widgets": [
            "70c8a6c610784f9f93a775f96871d400",
            "1d3f69c8112348c99dcf3b7e4ede0344",
            "f1e71fb2168d4051b2ae9cd5435985e5",
            "57978c092cf14604be558079fb1815f6",
            "9c2c0f5691f14c408c5cfcc1016d6417",
            "7ab0ed1a40754ce68076fcd99cab2551",
            "62537e2bf4904f7d980df7c317dbe016",
            "209d11ad30aa488c8b136eea6ce2d70e",
            "29de3ca61b28493fb44327eac28ac18b",
            "daa27ef1cd904336a5e999b5345d3ec8",
            "51bcbb68a23d447a95f36cb89a4d8ee3"
          ]
        },
        "outputId": "2fb161bd-6d2f-46c7-e3ae-5448cfd495f7"
      },
      "execution_count": 12,
      "outputs": [
        {
          "output_type": "stream",
          "name": "stderr",
          "text": [
            "Downloading: \"https://download.pytorch.org/models/efficientnet_b0_rwightman-3dd342df.pth\" to /root/.cache/torch/hub/checkpoints/efficientnet_b0_rwightman-3dd342df.pth\n"
          ]
        },
        {
          "output_type": "display_data",
          "data": {
            "text/plain": [
              "  0%|          | 0.00/20.5M [00:00<?, ?B/s]"
            ],
            "application/vnd.jupyter.widget-view+json": {
              "version_major": 2,
              "version_minor": 0,
              "model_id": "70c8a6c610784f9f93a775f96871d400"
            }
          },
          "metadata": {}
        }
      ]
    },
    {
      "cell_type": "markdown",
      "source": [
        "## Freazing `feature` Layers"
      ],
      "metadata": {
        "id": "07M_gQuAsjUg"
      }
    },
    {
      "cell_type": "code",
      "source": [
        "for param in model.features.parameters():\n",
        "    param.require_grad = False"
      ],
      "metadata": {
        "id": "g5cM5dlhsfrz"
      },
      "execution_count": 13,
      "outputs": []
    },
    {
      "cell_type": "markdown",
      "source": [
        "## Adjusting the Ouput Layers"
      ],
      "metadata": {
        "id": "OwZkrsH8svOC"
      }
    },
    {
      "cell_type": "code",
      "source": [
        "model.classifier = nn.Sequential(\n",
        "    nn.Dropout(p=0.2, inplace=True),\n",
        "    nn.Linear(in_features=1280,\n",
        "              out_features=len(classes_names))\n",
        ").to(device)"
      ],
      "metadata": {
        "id": "6Qk60kzzstjf"
      },
      "execution_count": 14,
      "outputs": []
    },
    {
      "cell_type": "markdown",
      "source": [
        "## Getting Information about the Model"
      ],
      "metadata": {
        "id": "DBJVOBentxgN"
      }
    },
    {
      "cell_type": "code",
      "source": [
        "summary(model, \n",
        "        input_size=(32, 3, 224, 224),\n",
        "        verbose=0,\n",
        "        col_names=[\"input_size\", \"output_size\", \"num_params\", \"trainable\"],\n",
        "        col_width=20,\n",
        "        row_settings=[\"var_names\"]\n",
        ")"
      ],
      "metadata": {
        "colab": {
          "base_uri": "https://localhost:8080/"
        },
        "id": "Qj7TOzHZt0uk",
        "outputId": "9f7de48d-47c1-464e-a85b-cab28c53e661"
      },
      "execution_count": 15,
      "outputs": [
        {
          "output_type": "execute_result",
          "data": {
            "text/plain": [
              "============================================================================================================================================\n",
              "Layer (type (var_name))                                      Input Shape          Output Shape         Param #              Trainable\n",
              "============================================================================================================================================\n",
              "EfficientNet (EfficientNet)                                  [32, 3, 224, 224]    [32, 3]              --                   True\n",
              "├─Sequential (features)                                      [32, 3, 224, 224]    [32, 1280, 7, 7]     --                   True\n",
              "│    └─Conv2dNormActivation (0)                              [32, 3, 224, 224]    [32, 32, 112, 112]   --                   True\n",
              "│    │    └─Conv2d (0)                                       [32, 3, 224, 224]    [32, 32, 112, 112]   864                  True\n",
              "│    │    └─BatchNorm2d (1)                                  [32, 32, 112, 112]   [32, 32, 112, 112]   64                   True\n",
              "│    │    └─SiLU (2)                                         [32, 32, 112, 112]   [32, 32, 112, 112]   --                   --\n",
              "│    └─Sequential (1)                                        [32, 32, 112, 112]   [32, 16, 112, 112]   --                   True\n",
              "│    │    └─MBConv (0)                                       [32, 32, 112, 112]   [32, 16, 112, 112]   1,448                True\n",
              "│    └─Sequential (2)                                        [32, 16, 112, 112]   [32, 24, 56, 56]     --                   True\n",
              "│    │    └─MBConv (0)                                       [32, 16, 112, 112]   [32, 24, 56, 56]     6,004                True\n",
              "│    │    └─MBConv (1)                                       [32, 24, 56, 56]     [32, 24, 56, 56]     10,710               True\n",
              "│    └─Sequential (3)                                        [32, 24, 56, 56]     [32, 40, 28, 28]     --                   True\n",
              "│    │    └─MBConv (0)                                       [32, 24, 56, 56]     [32, 40, 28, 28]     15,350               True\n",
              "│    │    └─MBConv (1)                                       [32, 40, 28, 28]     [32, 40, 28, 28]     31,290               True\n",
              "│    └─Sequential (4)                                        [32, 40, 28, 28]     [32, 80, 14, 14]     --                   True\n",
              "│    │    └─MBConv (0)                                       [32, 40, 28, 28]     [32, 80, 14, 14]     37,130               True\n",
              "│    │    └─MBConv (1)                                       [32, 80, 14, 14]     [32, 80, 14, 14]     102,900              True\n",
              "│    │    └─MBConv (2)                                       [32, 80, 14, 14]     [32, 80, 14, 14]     102,900              True\n",
              "│    └─Sequential (5)                                        [32, 80, 14, 14]     [32, 112, 14, 14]    --                   True\n",
              "│    │    └─MBConv (0)                                       [32, 80, 14, 14]     [32, 112, 14, 14]    126,004              True\n",
              "│    │    └─MBConv (1)                                       [32, 112, 14, 14]    [32, 112, 14, 14]    208,572              True\n",
              "│    │    └─MBConv (2)                                       [32, 112, 14, 14]    [32, 112, 14, 14]    208,572              True\n",
              "│    └─Sequential (6)                                        [32, 112, 14, 14]    [32, 192, 7, 7]      --                   True\n",
              "│    │    └─MBConv (0)                                       [32, 112, 14, 14]    [32, 192, 7, 7]      262,492              True\n",
              "│    │    └─MBConv (1)                                       [32, 192, 7, 7]      [32, 192, 7, 7]      587,952              True\n",
              "│    │    └─MBConv (2)                                       [32, 192, 7, 7]      [32, 192, 7, 7]      587,952              True\n",
              "│    │    └─MBConv (3)                                       [32, 192, 7, 7]      [32, 192, 7, 7]      587,952              True\n",
              "│    └─Sequential (7)                                        [32, 192, 7, 7]      [32, 320, 7, 7]      --                   True\n",
              "│    │    └─MBConv (0)                                       [32, 192, 7, 7]      [32, 320, 7, 7]      717,232              True\n",
              "│    └─Conv2dNormActivation (8)                              [32, 320, 7, 7]      [32, 1280, 7, 7]     --                   True\n",
              "│    │    └─Conv2d (0)                                       [32, 320, 7, 7]      [32, 1280, 7, 7]     409,600              True\n",
              "│    │    └─BatchNorm2d (1)                                  [32, 1280, 7, 7]     [32, 1280, 7, 7]     2,560                True\n",
              "│    │    └─SiLU (2)                                         [32, 1280, 7, 7]     [32, 1280, 7, 7]     --                   --\n",
              "├─AdaptiveAvgPool2d (avgpool)                                [32, 1280, 7, 7]     [32, 1280, 1, 1]     --                   --\n",
              "├─Sequential (classifier)                                    [32, 1280]           [32, 3]              --                   True\n",
              "│    └─Dropout (0)                                           [32, 1280]           [32, 1280]           --                   --\n",
              "│    └─Linear (1)                                            [32, 1280]           [32, 3]              3,843                True\n",
              "============================================================================================================================================\n",
              "Total params: 4,011,391\n",
              "Trainable params: 4,011,391\n",
              "Non-trainable params: 0\n",
              "Total mult-adds (G): 12.31\n",
              "============================================================================================================================================\n",
              "Input size (MB): 19.27\n",
              "Forward/backward pass size (MB): 3452.09\n",
              "Params size (MB): 16.05\n",
              "Estimated Total Size (MB): 3487.41\n",
              "============================================================================================================================================"
            ]
          },
          "metadata": {},
          "execution_count": 15
        }
      ]
    },
    {
      "cell_type": "markdown",
      "source": [
        "## Setting Loss Function and Optimizer"
      ],
      "metadata": {
        "id": "dNEFvFLUuMY_"
      }
    },
    {
      "cell_type": "code",
      "source": [
        "loss_fn = nn.CrossEntropyLoss()\n",
        "opt = optim.Adam(model.parameters(), lr=1e-3)"
      ],
      "metadata": {
        "id": "6Yw2zQZSuPUg"
      },
      "execution_count": 16,
      "outputs": []
    },
    {
      "cell_type": "markdown",
      "source": [
        "## Using `SummaryWriter()`"
      ],
      "metadata": {
        "id": "7VnxevzTvs6y"
      }
    },
    {
      "cell_type": "code",
      "source": [
        "# First we need to create a `writer` Object (the setting are going to be the defaults)\n",
        "writer = SummaryWriter()\n",
        "\n",
        "print(writer)"
      ],
      "metadata": {
        "colab": {
          "base_uri": "https://localhost:8080/"
        },
        "id": "YOW16GpfuWY3",
        "outputId": "ec186366-6918-4f59-f987-35a878b92159"
      },
      "execution_count": 17,
      "outputs": [
        {
          "output_type": "stream",
          "name": "stdout",
          "text": [
            "<torch.utils.tensorboard.writer.SummaryWriter object at 0x7f6c04bef790>\n"
          ]
        }
      ]
    },
    {
      "cell_type": "markdown",
      "source": [
        "## Adjusting Training/Evaluating Loop\n",
        "\n",
        "We'll get the `train()` function from `engine.py` and adjust it to use writer.\n",
        "\n",
        "We'll add the ability for our train() function to log our model's training and test loss and accuracy values, using **writer.add_scalars(main_tag, tag_scalar_dict)**\n",
        "\n",
        "- `main_tag`: the name for the scalars being tracked (etc \"Accuracy\")\n",
        "- `tag_scalar_dict`: a dictionary of the values being tracked (e.g. {\"train_loss\": 0.3454}\n",
        "\n",
        "For more informations about this function look: https://pytorch.org/docs/stable/tensorboard.html#torch.utils.tensorboard.writer.SummaryWriter"
      ],
      "metadata": {
        "id": "KUKYVFDA14YP"
      }
    },
    {
      "cell_type": "code",
      "source": [
        "def fit(model: torch.nn.Module,\n",
        "        epochs: int,\n",
        "        train_dl: torch.utils.data.DataLoader,\n",
        "        valid_dl: torch.utils.data.DataLoader,\n",
        "        loss_fn: torch.nn.Module,\n",
        "        eval_metric: Callable[[torch.Tensor, torch.Tensor]],\n",
        "        optim: torch.optim.Optimizer,\n",
        "        n_epoch_per_print: int=1,\n",
        "        n_train_batch_prints: int=None,\n",
        "        n_valid_batch_prints: int=None,\n",
        "        writer: torch.utils.tensorboard.writer.SummaryWriter=None):\n",
        "    \n",
        "    start_time = timer()\n",
        "    train_losses, train_evals = [], []\n",
        "    valid_losses, valid_evals = [], []\n",
        "\n",
        "    print(\"Starting Process...\")\n",
        "    \n",
        "    for epoch in tqdm(range(1, epochs + 1)):\n",
        "        train_loss, train_eval = training_step(model, train_dl, loss_fn, eval_metric, optim, n_train_batch_prints)\n",
        "        valid_loss, valid_eval = validation_step(model, valid_dl, loss_fn, eval_metric, n_valid_batch_prints)\n",
        "\n",
        "        if (n_epoch_per_print > 0) and (epoch % n_epoch_per_print == 0):\n",
        "            print(\n",
        "                f\"-> Epoch: {epoch} | \"\n",
        "                f\"Train Loss: {train_loss:.4f} | \"\n",
        "                f\"Train Accuracy: {train_eval:.2f}% | \"\n",
        "                f\"Test Loss: {valid_loss:.4f} | \"\n",
        "                f\"Test Evaluation (%): {valid_eval:.2f}%\")\n",
        "            print(\"-\" * 107)\n",
        "\n",
        "        train_losses.append(train_loss)\n",
        "        train_evals.append(train_eval)\n",
        "        valid_losses.append(valid_loss)\n",
        "        valid_evals.append(valid_eval)\n",
        "\n",
        "        # Typically we are tracking our experiment when training the model\n",
        "        if writer:\n",
        "            batch_size, n_channels, height, width = next(iter(train_dl))[0].shape\n",
        "\n",
        "            # Logging the Loss\n",
        "            writer.add_scalars(main_tag=\"Loss\",\n",
        "                              tag_scalar_dict={\"train_loss\": train_loss,\n",
        "                                               \"valid_loss\": valid_loss},\n",
        "                              global_step=epoch)\n",
        "            # Logging the Evaluation Metric\n",
        "            writer.add_scalars(main_tag=\"Evaluation\",\n",
        "                              tag_scalar_dict={\"train_eval\": train_eval,\n",
        "                                               \"valid_eval\": valid_eval},\n",
        "                              global_step=epoch)\n",
        "            # Track the Model Architecture\n",
        "            writer.add_graph(model=model,\n",
        "                             input_to_model=torch.randn(size=(batch_size, n_channels, height, width)).to(next(model.parameters()).device))\n",
        "            \n",
        "            # Closing the `writer`\n",
        "            writer.close()\n",
        "\n",
        "\n",
        "    print(\"Process Completed Successfully...\")\n",
        "\n",
        "    return {\"model_train_loss\": train_losses,\n",
        "        \"model_train_eval\": train_evals,\n",
        "        \"model_valid_loss\": valid_losses,\n",
        "        \"model_valid_eval\": valid_evals,\n",
        "        \"model_name\": model.__class__.__name__,\n",
        "        \"model_loss_fn\": loss_fn.__class__.__name__,\n",
        "        \"model_evaluating_m\": eval_metric.__name__,\n",
        "        \"model_optimizer\": optim.__class__.__name__,\n",
        "        \"model_device\": next(model.parameters()).device.type,\n",
        "        \"model_epochs\": epochs,\n",
        "        \"model_time\": timer() - start_time}"
      ],
      "metadata": {
        "id": "2piMvqxC2Cwi"
      },
      "execution_count": 18,
      "outputs": []
    },
    {
      "cell_type": "markdown",
      "source": [
        "## Training and Evaluating the Model"
      ],
      "metadata": {
        "id": "dOh60ixy_i9y"
      }
    },
    {
      "cell_type": "code",
      "source": [
        "results = fit(model, 3, train_dl, test_dl, loss_fn, accuracy_fn, opt, writer=writer, n_train_batch_prints=4)"
      ],
      "metadata": {
        "colab": {
          "base_uri": "https://localhost:8080/",
          "height": 448,
          "referenced_widgets": [
            "69150c7be2504260b855b402fed3c810",
            "b04aa34835024bae99b7b02a7bcf9043",
            "e009e7ccf1b247a2a45c742bc79decc2",
            "6299bda0370a47fba9502a27fa6f2315",
            "c9965fd6da4b4aedad2e7280f55dffe0",
            "7f422a327ccd41faa45e68a89d6de994",
            "79946e820dad48a6a22d74d32c486d24",
            "695db5289689416683f93825440f2949",
            "7b0eb7ac480749978fdf9c2bc74480db",
            "52b4d52b78c947a0ab999bae3cacb313",
            "078dedea4f3645878133082bd3d0eeb6"
          ]
        },
        "id": "awO4cldG_lc3",
        "outputId": "2b79621b-0e33-4010-a24f-c852346a639c"
      },
      "execution_count": 19,
      "outputs": [
        {
          "output_type": "stream",
          "name": "stdout",
          "text": [
            "Starting Process...\n"
          ]
        },
        {
          "output_type": "display_data",
          "data": {
            "text/plain": [
              "  0%|          | 0/3 [00:00<?, ?it/s]"
            ],
            "application/vnd.jupyter.widget-view+json": {
              "version_major": 2,
              "version_minor": 0,
              "model_id": "69150c7be2504260b855b402fed3c810"
            }
          },
          "metadata": {}
        },
        {
          "output_type": "stream",
          "name": "stdout",
          "text": [
            "\tLooked at 64/256 training samples...\n",
            "\tLooked at 128/256 training samples...\n",
            "\tLooked at 192/256 training samples...\n",
            "\tLooked at 256/256 training samples...\n",
            "-----------------------------------------------------------------------------------------------------------\n",
            "-> Epoch: 1 | Train Loss: 0.6683 | Train Accuracy: 80.47% | Test Loss: 0.4622 | Test Evaluation (%): 87.69%\n",
            "-----------------------------------------------------------------------------------------------------------\n",
            "\tLooked at 64/256 training samples...\n",
            "\tLooked at 128/256 training samples...\n",
            "\tLooked at 192/256 training samples...\n",
            "\tLooked at 256/256 training samples...\n",
            "-----------------------------------------------------------------------------------------------------------\n",
            "-> Epoch: 2 | Train Loss: 0.3767 | Train Accuracy: 85.55% | Test Loss: 0.4022 | Test Evaluation (%): 92.80%\n",
            "-----------------------------------------------------------------------------------------------------------\n",
            "\tLooked at 64/256 training samples...\n",
            "\tLooked at 128/256 training samples...\n",
            "\tLooked at 192/256 training samples...\n",
            "\tLooked at 256/256 training samples...\n",
            "-----------------------------------------------------------------------------------------------------------\n",
            "-> Epoch: 3 | Train Loss: 0.2964 | Train Accuracy: 86.33% | Test Loss: 0.4503 | Test Evaluation (%): 94.89%\n",
            "-----------------------------------------------------------------------------------------------------------\n",
            "Process Completed Successfully...\n"
          ]
        }
      ]
    },
    {
      "cell_type": "markdown",
      "source": [
        "## Viewing Model Results\n",
        "\n",
        "The `writer` has place all the results into the folder **current_dir/runs** in TensorFlow format.\n",
        "\n",
        "To see them in the Notebook if we have intall tensorboard (https://pypi.org/project/tensorboard/) we load it using the special command `%load_ext tensorboard` and we can view the results using `%tensorboard --logdir DIR_WITH_LOGS`\n",
        "\n",
        "Note that needs `Allow All Cookies`..."
      ],
      "metadata": {
        "id": "iahioWOfeldh"
      }
    },
    {
      "cell_type": "code",
      "source": [
        "# %load_ext tensorboard\n",
        "# %tensorboard --logdir runs"
      ],
      "metadata": {
        "id": "vAFtUxS3jrJH"
      },
      "execution_count": null,
      "outputs": []
    },
    {
      "cell_type": "markdown",
      "source": [
        "## Functionalize `SummaryWriter()`\n",
        "\n",
        "Let's create a helper function called **create_writer()** that produces a **SummaryWriter()** instance tracking to a custom `log_dir`, where log_dir could be something like: _runs/YYYY-MM-DD/experiment_name/model_name/extra_"
      ],
      "metadata": {
        "id": "ylxWB6pbfu2F"
      }
    },
    {
      "cell_type": "code",
      "source": [
        "def create_writer(experiment_name, model_name, extras=None):\n",
        "    \n",
        "    # Importing the modules that we are going to use \n",
        "    from datetime import datetime\n",
        "    import os\n",
        "\n",
        "    # Loading and formating properly the current time\n",
        "    timestamp = datetime.now().strftime(\"%Y-%m-%d\")\n",
        "\n",
        "    # Create the `log_dir` path\n",
        "    if extras:\n",
        "        log_dir = os.path.join(\"runs\", timestamp, experiment_name, model_name, extras)\n",
        "    else:\n",
        "        log_dir = os.path.join(\"runs\", timestamp, experiment_name, model_name)\n",
        "\n",
        "    print(f\"[INFO] Created SummaryWriter, saving to: {log_dir}...\")\n",
        "    \n",
        "    return SummaryWriter(log_dir=log_dir)"
      ],
      "metadata": {
        "id": "fL_3-WMnf1mO"
      },
      "execution_count": 20,
      "outputs": []
    },
    {
      "cell_type": "code",
      "source": [
        "# Creating a Writer\n",
        "example_writer = create_writer(experiment_name=\"data_10_percent\",\n",
        "                              model_name=\"effnetb0\",\n",
        "                              extras=\"5-epochs\")"
      ],
      "metadata": {
        "colab": {
          "base_uri": "https://localhost:8080/"
        },
        "id": "eTEJ0sU2ixFn",
        "outputId": "7dee6aa0-245a-49d8-ce4d-bb05beb13509"
      },
      "execution_count": 21,
      "outputs": [
        {
          "output_type": "stream",
          "name": "stdout",
          "text": [
            "[INFO] Created SummaryWriter, saving to: runs/2023-03-17/data_10_percent/effnetb0/5-epochs...\n"
          ]
        }
      ]
    },
    {
      "cell_type": "markdown",
      "source": [
        "## Setting up a Series of Modelling Experiments\n",
        "\n",
        "A very usefull way to start is by asking what kind of experiment should we do?\n",
        "\n",
        "There is no answer to that question. We can say, although that every `hyperparameter` stand as a good starting point for different experiments. We can:\n",
        "* Change the number of epochs.\n",
        "* Change the number of layers/hidden units.\n",
        "* Change the amount of data.\n",
        "* Change the learning rate.\n",
        "* Try different kinds of data augmentation.\n",
        "* Choose a different model architecture.\n",
        "\n",
        "For the purpose of demonstration we are going to make different experiment for:\n",
        "1. The amount of data (10% of Pizza, Steak, Sushi vs. 20%)\n",
        "2. Different models (torchvision.models.efficientnet_b0 vs. torchvision.models. efficientnet_b2)\n",
        "3. Different training time (5 epochs vs. 10 epochs)\n",
        "\n",
        "We are going to conduct in total 8 experiments (Dataset based of Food101 -- Model -- Epochs):\n",
        "1. Pizza, Steak, Sushi 10% percent -- EfficientNetB0 -- 5\n",
        "2. Pizza, Steak, Sushi 10% percent -- EfficientNetB2 -- 5\n",
        "3. Pizza, Steak, Sushi 10% percent -- EfficientNetB0 -- 10\n",
        "4. Pizza, Steak, Sushi 10% percent -- EfficientNetB2 -- 10\n",
        "5. Pizza, Steak, Sushi 20% percent -- EfficientNetB0 -- 5\n",
        "6. Pizza, Steak, Sushi 20% percent -- EfficientNetB2 -- 5\n",
        "7. Pizza, Steak, Sushi 20% percent -- EfficientNetB0 -- 10\n",
        "8. Pizza, Steak, Sushi 20% percent -- EfficientNetB2 -- 10\n",
        "\n",
        "**General** in our experiments we want to start `small` and `scale` things up as we go forward. Thats because, by small steps we can see what actions are not affecting the model that much.\n"
      ],
      "metadata": {
        "id": "ErxyaYFCjv7X"
      }
    },
    {
      "cell_type": "markdown",
      "source": [
        "## Preparing the Datasets"
      ],
      "metadata": {
        "id": "NK8G42Q5l8wD"
      }
    },
    {
      "cell_type": "code",
      "source": [
        "# Creating a function that downloads a dataset base on a git-repository (into Google Colab)\n",
        "def download_data(source: str, destination: str, remove_source: bool=True):\n",
        "    import requests\n",
        "    import zipfile\n",
        "    from pathlib import Path\n",
        "    from os import remove\n",
        "\n",
        "\n",
        "    # Setting the path in which the Dataset is going to be saved\n",
        "    data_path = Path(\"/data\")\n",
        "    dataset_path = data_path / destination\n",
        "\n",
        "\n",
        "    if dataset_path.is_dir():\n",
        "        print(f\"[INFO] {dataset_path} already exists, skipping download...\")\n",
        "    else:\n",
        "        print(f\"[INFO] {dataset_path} doesn't exists, creating one...\")\n",
        "\n",
        "        dataset_path.mkdir(parents=True, exist_ok=True)\n",
        "\n",
        "        # Getting the name of the Dataset\n",
        "        target_file = Path(destination).name\n",
        "\n",
        "        with open(destination + '/' + target_file, \"wb\") as f:\n",
        "            # Getting the raw Dataset from `github`\n",
        "            req = requests.get(source)\n",
        "            \n",
        "            print(f\"[INFO] Downloading {target_file} from {source}...\")\n",
        "            \n",
        "            f.write(req.content)\n",
        "\n",
        "        with zipfile.ZipFile(destination + '/' + target_file, \"r\") as zip_ref:\n",
        "            print(f\"[INFO] Unzipping {target_file}...\")\n",
        "            \n",
        "            # Extracting `zip_ref` to `dataset_path`\n",
        "            zip_ref.extractall(dataset_path)\n",
        "\n",
        "        # Deletting the `zip` file\n",
        "        if remove_source:\n",
        "            remove(destination + '/' + target_file)\n",
        "\n",
        "        print(f\"[INFO] Dataset Succesfully Downloaded in {dataset_path}\")\n",
        "\n",
        "    return dataset_path"
      ],
      "metadata": {
        "id": "vvqypgeGjKDD"
      },
      "execution_count": 53,
      "outputs": []
    },
    {
      "cell_type": "code",
      "source": [
        "# Downloading the Datasets\n",
        "data_10_per_path = download_data(source=\"https://github.com/mrdbourke/pytorch-deep-learning/raw/main/data/pizza_steak_sushi.zip\",\n",
        "                                 destination=\"/content/pizza_steak_sushi\")\n",
        "data_20_per_path = download_data(source=\"https://github.com/mrdbourke/pytorch-deep-learning/raw/main/data/pizza_steak_sushi_20_percent.zip\",\n",
        "                                 destination=\"/content/pizza_steak_sushi_20_percent\")"
      ],
      "metadata": {
        "colab": {
          "base_uri": "https://localhost:8080/"
        },
        "id": "N8FykP1IpqRr",
        "outputId": "218ccaee-43bb-410b-8686-79ca7e491cb7"
      },
      "execution_count": 55,
      "outputs": [
        {
          "output_type": "stream",
          "name": "stdout",
          "text": [
            "[INFO] /content/pizza_steak_sushi already exists, skipping download...\n",
            "[INFO] /content/pizza_steak_sushi_20_percent doesn't exists, creating one...\n",
            "[INFO] Downloading pizza_steak_sushi_20_percent from https://github.com/mrdbourke/pytorch-deep-learning/raw/main/data/pizza_steak_sushi_20_percent.zip...\n",
            "[INFO] Unzipping pizza_steak_sushi_20_percent...\n",
            "[INFO] Dataset Succesfully Downloaded in /content/pizza_steak_sushi_20_percent\n"
          ]
        }
      ]
    },
    {
      "cell_type": "markdown",
      "source": [
        "## Setting the Training and Testing Paths"
      ],
      "metadata": {
        "id": "pdvVEuJgrJw8"
      }
    },
    {
      "cell_type": "code",
      "source": [
        "train_path_10_per = data_10_per_path / \"train\"\n",
        "train_path_20_per = data_20_per_path / \"train\"\n",
        "\n",
        "# Testing path is going to be the same, because it doesn't affect the performance of the Model\n",
        "test_path = data_10_per_path / \"test\"\n",
        "\n",
        "# Checking the Paths\n",
        "print(f\"Training directory 10%: {train_path_10_per}\")\n",
        "print(f\"Training directory 20%: {train_path_20_per}\")\n",
        "print(f\"Testing directory: {test_path}\")"
      ],
      "metadata": {
        "colab": {
          "base_uri": "https://localhost:8080/"
        },
        "id": "jn7zkV73rDzw",
        "outputId": "80edb50a-db6b-442e-883f-a3a53fff667a"
      },
      "execution_count": 56,
      "outputs": [
        {
          "output_type": "stream",
          "name": "stdout",
          "text": [
            "Training directory 10%: /content/pizza_steak_sushi/train\n",
            "Training directory 20%: /content/pizza_steak_sushi_20_percent/train\n",
            "Testing directory: /content/pizza_steak_sushi/test\n"
          ]
        }
      ]
    },
    {
      "cell_type": "markdown",
      "source": [
        "## Creating the Transformations and the DataLoaders"
      ],
      "metadata": {
        "id": "31c59wq9r9cK"
      }
    },
    {
      "cell_type": "code",
      "source": [
        "simple_transforms = transforms.Compose([\n",
        "    transforms.Resize(size=(224, 224)),\n",
        "    transforms.ToTensor(),\n",
        "    transforms.Normalize(mean=[0.485, 0.456, 0.406],\n",
        "                        std=[0.229, 0.224, 0.225])\n",
        "])\n",
        "\n",
        "BATCH_SIZE = 32\n",
        "\n",
        "# Creating the 10% Data Loader\n",
        "train_dl_10_per, test_dl, class_names = data_setup.create_dataloaders(train_dir=train_path_10_per,\n",
        "                                                                        test_dir=test_path,\n",
        "                                                                        train_transform=simple_transforms,\n",
        "                                                                        test_transform=simple_transforms,\n",
        "                                                                        batch_size=BATCH_SIZE)\n",
        "# Creating the 20% Data Loader\n",
        "train_dl_20_per, _, _ = data_setup.create_dataloaders(train_dir=train_path_20_per,\n",
        "                                                      test_dir=test_path,\n",
        "                                                      train_transform=simple_transforms,\n",
        "                                                      test_transform=simple_transforms,\n",
        "                                                      batch_size=BATCH_SIZE)\n",
        "\n",
        "# Printing the number of Batches per Data Loader\n",
        "print(f\"Number of batches in 10% training data: {len(train_dl_10_per)}\")\n",
        "print(f\"Number of batches in 20% training data: {len(train_dl_20_per)}\")\n",
        "print(f\"Number of batches in testing data: {len(test_dl)} (all experiments will use the same test set)\")\n",
        "print(f\"Number of classes: {len(class_names)}, class names: {class_names}\")"
      ],
      "metadata": {
        "colab": {
          "base_uri": "https://localhost:8080/"
        },
        "id": "rbLOqkcLrmU6",
        "outputId": "a90b2932-680c-42b9-aa90-242591406a57"
      },
      "execution_count": 57,
      "outputs": [
        {
          "output_type": "stream",
          "name": "stdout",
          "text": [
            "Number of batches in 10% training data: 8\n",
            "Number of batches in 20% training data: 15\n",
            "Number of batches in testing data: 3 (all experiments will use the same test set)\n",
            "Number of classes: 3, class names: ['pizza', 'steak', 'sushi']\n"
          ]
        }
      ]
    },
    {
      "cell_type": "markdown",
      "source": [
        "## Creating the Model Functions"
      ],
      "metadata": {
        "id": "zvqv6lT5uIW1"
      }
    },
    {
      "cell_type": "code",
      "source": [
        "# Create the EfficientNet_B0 Model\n",
        "def create_effnetb0():\n",
        "    weights = models.EfficientNet_B0_Weights.DEFAULT\n",
        "    model = models.efficientnet_b0(weights=weights).to(device)\n",
        "\n",
        "    for param in model.features.parameters():\n",
        "        param.requires_grad = False\n",
        "\n",
        "    model.classifier = nn.Sequential(\n",
        "        nn.Dropout(p=0.2),\n",
        "        nn.Linear(in_features=1280, out_features=len(class_names))\n",
        "    ).to(device)\n",
        "\n",
        "    model.name = \"effnetb0\"\n",
        "    print(f\"[INFO] Created new {model.name} model.\")\n",
        "    return model\n",
        "\n",
        "\n",
        "# Create the EfficientNet_B2 Model\n",
        "def create_effnetb2():\n",
        "    weights = models.EfficientNet_B2_Weights.DEFAULT\n",
        "    model = models.efficientnet_b2(weights=weights).to(device)\n",
        "\n",
        "    for param in model.features.parameters():\n",
        "        param.requires_grad = False\n",
        "\n",
        "    model.classifier = nn.Sequential(\n",
        "        nn.Dropout(p=0.3),\n",
        "        nn.Linear(in_features=1408, out_features=len(class_names))\n",
        "    ).to(device)\n",
        "\n",
        "    model.name = \"effnetb2\"\n",
        "    print(f\"[INFO] Created new {model.name} model.\")\n",
        "    return model"
      ],
      "metadata": {
        "id": "UQ1sV5AHtucJ"
      },
      "execution_count": 64,
      "outputs": []
    },
    {
      "cell_type": "markdown",
      "source": [
        "## Creating the Models"
      ],
      "metadata": {
        "id": "u4bKGsO3vdmR"
      }
    },
    {
      "cell_type": "code",
      "source": [
        "effnetb0 = create_effnetb0()\n",
        "effnetb2 = create_effnetb2()"
      ],
      "metadata": {
        "colab": {
          "base_uri": "https://localhost:8080/",
          "height": 121,
          "referenced_widgets": [
            "8bc42ffeef874417a71776af14777af0",
            "a9a8782abedd4b45bb4473a21864e7fd",
            "ef2a3ef4aa614b59b7f52ae8070b4c8d",
            "d86abc96c29247a99e038add64859278",
            "e9dcba0c1fbd497c80dbee1ce7e7889d",
            "5df70de3d596487ea4a771bc052054cc",
            "12f18dda8d8f4cd08676dc3a78d3ec7d",
            "9465f67dde734b828e90a0b205e8d5f2",
            "7c5db0b9f0044060b469e18cb7122fcf",
            "ef655ae284e540cdab547b8f56a2093c",
            "c42ee74137cb4fdb889d17779a3c21e4"
          ]
        },
        "id": "FDTSoX8GvLgR",
        "outputId": "360a21b0-32d2-4836-e70b-214c6d356bd7"
      },
      "execution_count": 59,
      "outputs": [
        {
          "output_type": "stream",
          "name": "stdout",
          "text": [
            "[INFO] Created new effnetb0 model.\n"
          ]
        },
        {
          "output_type": "stream",
          "name": "stderr",
          "text": [
            "Downloading: \"https://download.pytorch.org/models/efficientnet_b2_rwightman-bcdf34b7.pth\" to /root/.cache/torch/hub/checkpoints/efficientnet_b2_rwightman-bcdf34b7.pth\n"
          ]
        },
        {
          "output_type": "display_data",
          "data": {
            "text/plain": [
              "  0%|          | 0.00/35.2M [00:00<?, ?B/s]"
            ],
            "application/vnd.jupyter.widget-view+json": {
              "version_major": 2,
              "version_minor": 0,
              "model_id": "8bc42ffeef874417a71776af14777af0"
            }
          },
          "metadata": {}
        },
        {
          "output_type": "stream",
          "name": "stdout",
          "text": [
            "[INFO] Created new effnetb2 model.\n"
          ]
        }
      ]
    },
    {
      "cell_type": "markdown",
      "source": [
        "## Setting up Some Experiments"
      ],
      "metadata": {
        "id": "369fgFhevfHg"
      }
    },
    {
      "cell_type": "code",
      "source": [
        "# 1. Creating an `epoch` List:\n",
        "num_epochs = [5, 10]\n",
        "\n",
        "# 2. Creating a `model` List:\n",
        "model_names = [\"effnetb0\", \"effnetb2\"]\n",
        "\n",
        "# 3. Creating `dataloader` Dictionary:\n",
        "train_dataloaders = {\"data_10_per\": train_dl_10_per,\n",
        "                     \"data_20_per\": train_dl_20_per}"
      ],
      "metadata": {
        "id": "cXCvDnzDvnD6"
      },
      "execution_count": 62,
      "outputs": []
    },
    {
      "cell_type": "markdown",
      "source": [
        "## Conducting the Experiments"
      ],
      "metadata": {
        "id": "B9Um-IGSxmzx"
      }
    },
    {
      "cell_type": "code",
      "source": [
        "# 1. Keep track of experiment number\n",
        "n_experiment = 0\n",
        "\n",
        "# 2. Iterate over the Dataloaders\n",
        "for train_dl_name, train_dl in train_dataloaders.items():\n",
        "    \n",
        "    # 3. Iterate over the Epochs\n",
        "    for epochs in num_epochs:\n",
        "\n",
        "        # 4. Iterate over the Models\n",
        "        for model_name in model_names:\n",
        "            \n",
        "            # 5. Printing experiments details\n",
        "            n_experiment += 1\n",
        "            print(f\"[INFO] Experiment number: {n_experiment}\")\n",
        "            print(f\"[INFO] Model: {model_name}\")\n",
        "            print(f\"[INFO] DataLoader: {train_dl_name}\")\n",
        "            print(f\"[INFO] Number of epochs: {epochs}\\n\")\n",
        "\n",
        "            # 6. Selecting the model\n",
        "            model = create_effnetb0() if (model_name == \"effnetb0\") else create_effnetb2()\n",
        "\n",
        "            # 7. Setting up Loss Function and Optimizer\n",
        "            loss_fn = nn.CrossEntropyLoss()\n",
        "            opt = optim.Adam(model.parameters(), lr=1e-3)\n",
        "\n",
        "            # 8. Training the Model and tracking experiments\n",
        "            fit(model, epochs, train_dl, test_dl, loss_fn, accuracy_fn, opt,\n",
        "                writer=create_writer(experiment_name=train_dl_name,\n",
        "                                     model_name=model_name,\n",
        "                                     extras=f\"{epochs}_epochs\"))\n",
        "            \n",
        "            # 9. Saving the Model\n",
        "            save_path = f\"/content/{model_name}_{train_dl_name}_{epochs}_epochs.pth\"\n",
        "            utils.save_model(model=model,\n",
        "                             target_dir=\"models\",\n",
        "                             model_name=save_path)\n",
        "            \n",
        "            print(\"\\n\\n\")"
      ],
      "metadata": {
        "id": "PcD0uMqRxr4r",
        "colab": {
          "base_uri": "https://localhost:8080/",
          "height": 1000,
          "referenced_widgets": [
            "5b033d5a9fdc4f53929cab248abeaec5",
            "19b9c5d27da54e3984be9cd871011fb8",
            "490a91145dd9469193880d837a8450c4",
            "9560539bfc8b469db40a660835915f4e",
            "fa6cb66ebc0e4895a4ac3c658ad02aad",
            "1be3410e9c474c899bb81849d6c914d7",
            "0414f04ae03f4fb4bcbb42a9c53214b9",
            "69637031fdcd4d3b8b316bfe8f71d321",
            "67423de4c8d941f9bc145a5ad5eae677",
            "2e7bed2657894b2d87ba8ddfac7afef0",
            "39db972282e242a6ba792195e3156daa",
            "c749ad00f30a484c92b86cefcedcef7e",
            "2545d7df75ce4cb8a81f38163937dc89",
            "a2b119b6f5f2470bad5f3b375c8e1156",
            "1aca2a24f07048e5a6bb4da4bc507a20",
            "6935c71703b14e7998b5208d95f7fd28",
            "a071d6e2538c487d84e959a7f9bc8b67",
            "76fd91d44037433891c53f4d405947bb",
            "d44e4ecca1414fcfac3ca377b1bd6d6e",
            "2922317bbd26477eb61c1c764d3afa32",
            "7fe0e0b98b114c72af814e487e1f3dfe",
            "477607455b224e39a3ccc9a9acf391e4",
            "f66032c29a494c6dbddfb99bdc6801c1",
            "dc8f660fc25b4656a6bc4545067b8caa",
            "39db95847674495eacedd7b5d31ac823",
            "5f6eb02b55bd46d486aab8f650cb0007",
            "9644ac73dc0a4d45a737566d57e09830",
            "78d32b12b3264db288fc9181309ac6ab",
            "3d8230afae864af78f54eadf2e6ce705",
            "f9f2ca3192fa4832a0f71e54f9c0d428",
            "2ad0443a0e1a434eaa35f5766c993541",
            "0d29708f851c4e46aa83502680a1850f",
            "611171fe40604ce6aad9dae9e6db8a9f",
            "fd76b0e199d9406ea3d35d064a6107d8",
            "2a89f2c972e64f09acfd9ac2eabaef59",
            "2a0f7e69a1ad4217a6a18bd2defe6e95",
            "c212721f139d46b091047003f54e4ed1",
            "2994e521aedb42a39fe56e2a88379476",
            "dc45310316674ff6bd9522d9505406c2",
            "b0f2d10b44ed4d8e9e438283b093055f",
            "04b7abd4aa124c30aef7b5aff5043582",
            "881c440bf1444c66ab64859ac870e5b8",
            "578358b9d8444224979a60a537ffd0b2",
            "80e3f4c2b9954906b2ab3a15efc2507e",
            "3a33e561f05e4f999d7c0c89c16243bd",
            "0f63873fa5af45da8deef9843b0e03f7",
            "48fb6dbc6d34421085a1e240f75abf81",
            "821c40e4123741778cf0bc3ca4488124",
            "563df1640f49460bb491a615928efa5e",
            "73e3671e62ed4063a5ceb5022b6382e2",
            "3f7893b73e504d418eb74b22e7c26a47",
            "a357dc1d48ec4b6b936ce2f90b386b52",
            "385710a633e8448383571a542e4ae8e3",
            "e7d726cf4d9d4c2a8ce3df88716ea9df",
            "20997b667e0549fdb29e3c37b66a80b5",
            "612a1b0eb74f4b5194807133116f4783",
            "1176f9e2c8554ee2b812068b6db7da23",
            "a117dbb01b904122b312f7153857fa88",
            "833bd0360eeb44f897097ecab851bba0",
            "48e82c91f32c4b6f93e7a1bef54cd3df",
            "66673655ceac48189fd1f9dac9face35",
            "dd0ffacdf9944eed8cc7fa547e69adb9",
            "3958e746f02f431abf1b697f9757594a",
            "84a67a0acd0e4cd2bacff496c587220e",
            "4d6f6fa939ab41cc9ad6407e2a73361e",
            "93f83015f8d84ba1a3f54a0c49b86a4a",
            "6d4cf5354f6d424aaff84e506b311886",
            "df0982750e8d4f6b877cbca7d21a6d8e",
            "658489a9fec84b4ca7d26fd974f67c20",
            "f4a9788c3e53480785317e56c7e387b0",
            "ddb70388eba5435d8ce6abd366a2f625",
            "c2b66a41e10c492eb9b90654860e4287",
            "293d789607b546b0b0c3e979cac52684",
            "be623057e604438ba4e0468e119c3ae2",
            "bdf045b734bf43db89d2f3a736aa717c",
            "f79bcf1e1d9d4860bd6c3f57ae4d0817",
            "195966565c0f404da80e4f30eb4283af",
            "dd79c0c0eced447b997f4e3158e980e7",
            "9d07c204a5b34749b5ba2181582c913c",
            "be57a09625464ffab076c579783503a5",
            "cd7ff778a68940e78eadad91249e4f4f",
            "b23190c62ebe4af1a66cd1b94885139d",
            "df0f7130bde344a3a61440a198cc8fd0",
            "cad50ed001f24191880901c7de59dca8",
            "eb6215ccb4f94ea6bef241c760c06e9c",
            "23d87a719348413e9a65690f7461ef43",
            "da522d2b59754542a486fa17f5a2dfe4",
            "3b7e31c9b1cd4048ab4436f730dce40e"
          ]
        },
        "outputId": "0570b143-1733-4bec-d9ec-e9767cb60f44"
      },
      "execution_count": 68,
      "outputs": [
        {
          "output_type": "stream",
          "name": "stdout",
          "text": [
            "[INFO] Experiment number: 1\n",
            "[INFO] Model: effnetb0\n",
            "[INFO] DataLoader: data_10_per\n",
            "[INFO] Number of epochs: 5\n",
            "[INFO] Created new effnetb0 model.\n",
            "[INFO] Created SummaryWriter, saving to: runs/2023-03-17/data_10_per/effnetb0/5_epochs...\n",
            "Starting Process...\n"
          ]
        },
        {
          "output_type": "display_data",
          "data": {
            "text/plain": [
              "  0%|          | 0/5 [00:00<?, ?it/s]"
            ],
            "application/vnd.jupyter.widget-view+json": {
              "version_major": 2,
              "version_minor": 0,
              "model_id": "5b033d5a9fdc4f53929cab248abeaec5"
            }
          },
          "metadata": {}
        },
        {
          "output_type": "stream",
          "name": "stdout",
          "text": [
            "-> Epoch: 1 | Train Loss: 1.0565 | Train Accuracy: 43.75% | Test Loss: 0.8618 | Test Evaluation (%): 77.37%\n",
            "-----------------------------------------------------------------------------------------------------------\n",
            "-> Epoch: 2 | Train Loss: 0.9140 | Train Accuracy: 68.36% | Test Loss: 0.7989 | Test Evaluation (%): 74.34%\n",
            "-----------------------------------------------------------------------------------------------------------\n",
            "-> Epoch: 3 | Train Loss: 0.7647 | Train Accuracy: 71.09% | Test Loss: 0.6451 | Test Evaluation (%): 86.55%\n",
            "-----------------------------------------------------------------------------------------------------------\n",
            "-> Epoch: 4 | Train Loss: 0.6847 | Train Accuracy: 80.86% | Test Loss: 0.5775 | Test Evaluation (%): 85.51%\n",
            "-----------------------------------------------------------------------------------------------------------\n",
            "-> Epoch: 5 | Train Loss: 0.6942 | Train Accuracy: 73.83% | Test Loss: 0.5689 | Test Evaluation (%): 87.59%\n",
            "-----------------------------------------------------------------------------------------------------------\n",
            "Process Completed Successfully...\n",
            "Saving Model to: /content/effnetb0_data_10_per_5_epochs.pth\n",
            "Model Successfully Saved to: /content/effnetb0_data_10_per_5_epochs.pth\n",
            "\n",
            "\n",
            "[INFO] Experiment number: 2\n",
            "[INFO] Model: effnetb2\n",
            "[INFO] DataLoader: data_10_per\n",
            "[INFO] Number of epochs: 5\n",
            "[INFO] Created new effnetb2 model.\n",
            "[INFO] Created SummaryWriter, saving to: runs/2023-03-17/data_10_per/effnetb2/5_epochs...\n",
            "Starting Process...\n"
          ]
        },
        {
          "output_type": "display_data",
          "data": {
            "text/plain": [
              "  0%|          | 0/5 [00:00<?, ?it/s]"
            ],
            "application/vnd.jupyter.widget-view+json": {
              "version_major": 2,
              "version_minor": 0,
              "model_id": "c749ad00f30a484c92b86cefcedcef7e"
            }
          },
          "metadata": {}
        },
        {
          "output_type": "stream",
          "name": "stdout",
          "text": [
            "-> Epoch: 1 | Train Loss: 1.0873 | Train Accuracy: 39.06% | Test Loss: 0.9291 | Test Evaluation (%): 69.22%\n",
            "-----------------------------------------------------------------------------------------------------------\n",
            "-> Epoch: 2 | Train Loss: 0.8914 | Train Accuracy: 67.58% | Test Loss: 0.8249 | Test Evaluation (%): 76.52%\n",
            "-----------------------------------------------------------------------------------------------------------\n",
            "-> Epoch: 3 | Train Loss: 0.8221 | Train Accuracy: 71.88% | Test Loss: 0.7860 | Test Evaluation (%): 76.42%\n",
            "-----------------------------------------------------------------------------------------------------------\n",
            "-> Epoch: 4 | Train Loss: 0.7126 | Train Accuracy: 75.78% | Test Loss: 0.7303 | Test Evaluation (%): 80.59%\n",
            "-----------------------------------------------------------------------------------------------------------\n",
            "-> Epoch: 5 | Train Loss: 0.6035 | Train Accuracy: 90.23% | Test Loss: 0.6756 | Test Evaluation (%): 85.61%\n",
            "-----------------------------------------------------------------------------------------------------------\n",
            "Process Completed Successfully...\n",
            "Saving Model to: /content/effnetb2_data_10_per_5_epochs.pth\n",
            "Model Successfully Saved to: /content/effnetb2_data_10_per_5_epochs.pth\n",
            "\n",
            "\n",
            "[INFO] Experiment number: 3\n",
            "[INFO] Model: effnetb0\n",
            "[INFO] DataLoader: data_10_per\n",
            "[INFO] Number of epochs: 10\n",
            "[INFO] Created new effnetb0 model.\n",
            "[INFO] Created SummaryWriter, saving to: runs/2023-03-17/data_10_per/effnetb0/10_epochs...\n",
            "Starting Process...\n"
          ]
        },
        {
          "output_type": "display_data",
          "data": {
            "text/plain": [
              "  0%|          | 0/10 [00:00<?, ?it/s]"
            ],
            "application/vnd.jupyter.widget-view+json": {
              "version_major": 2,
              "version_minor": 0,
              "model_id": "f66032c29a494c6dbddfb99bdc6801c1"
            }
          },
          "metadata": {}
        },
        {
          "output_type": "stream",
          "name": "stdout",
          "text": [
            "-> Epoch: 1 | Train Loss: 1.0523 | Train Accuracy: 44.92% | Test Loss: 0.8897 | Test Evaluation (%): 67.14%\n",
            "-----------------------------------------------------------------------------------------------------------\n",
            "-> Epoch: 2 | Train Loss: 0.8736 | Train Accuracy: 62.89% | Test Loss: 0.7102 | Test Evaluation (%): 84.47%\n",
            "-----------------------------------------------------------------------------------------------------------\n",
            "-> Epoch: 3 | Train Loss: 0.7602 | Train Accuracy: 69.53% | Test Loss: 0.7136 | Test Evaluation (%): 74.34%\n",
            "-----------------------------------------------------------------------------------------------------------\n",
            "-> Epoch: 4 | Train Loss: 0.7014 | Train Accuracy: 71.88% | Test Loss: 0.6018 | Test Evaluation (%): 90.72%\n",
            "-----------------------------------------------------------------------------------------------------------\n",
            "-> Epoch: 5 | Train Loss: 0.6504 | Train Accuracy: 77.73% | Test Loss: 0.5515 | Test Evaluation (%): 91.67%\n",
            "-----------------------------------------------------------------------------------------------------------\n",
            "-> Epoch: 6 | Train Loss: 0.6115 | Train Accuracy: 77.34% | Test Loss: 0.5662 | Test Evaluation (%): 90.72%\n",
            "-----------------------------------------------------------------------------------------------------------\n",
            "-> Epoch: 7 | Train Loss: 0.5701 | Train Accuracy: 78.91% | Test Loss: 0.5149 | Test Evaluation (%): 89.68%\n",
            "-----------------------------------------------------------------------------------------------------------\n",
            "-> Epoch: 8 | Train Loss: 0.5315 | Train Accuracy: 79.30% | Test Loss: 0.5154 | Test Evaluation (%): 91.76%\n",
            "-----------------------------------------------------------------------------------------------------------\n",
            "-> Epoch: 9 | Train Loss: 0.5022 | Train Accuracy: 81.25% | Test Loss: 0.4547 | Test Evaluation (%): 92.80%\n",
            "-----------------------------------------------------------------------------------------------------------\n",
            "-> Epoch: 10 | Train Loss: 0.4470 | Train Accuracy: 94.92% | Test Loss: 0.4283 | Test Evaluation (%): 88.64%\n",
            "-----------------------------------------------------------------------------------------------------------\n",
            "Process Completed Successfully...\n",
            "Saving Model to: /content/effnetb0_data_10_per_10_epochs.pth\n",
            "Model Successfully Saved to: /content/effnetb0_data_10_per_10_epochs.pth\n",
            "\n",
            "\n",
            "[INFO] Experiment number: 4\n",
            "[INFO] Model: effnetb2\n",
            "[INFO] DataLoader: data_10_per\n",
            "[INFO] Number of epochs: 10\n",
            "[INFO] Created new effnetb2 model.\n",
            "[INFO] Created SummaryWriter, saving to: runs/2023-03-17/data_10_per/effnetb2/10_epochs...\n",
            "Starting Process...\n"
          ]
        },
        {
          "output_type": "display_data",
          "data": {
            "text/plain": [
              "  0%|          | 0/10 [00:00<?, ?it/s]"
            ],
            "application/vnd.jupyter.widget-view+json": {
              "version_major": 2,
              "version_minor": 0,
              "model_id": "fd76b0e199d9406ea3d35d064a6107d8"
            }
          },
          "metadata": {}
        },
        {
          "output_type": "stream",
          "name": "stdout",
          "text": [
            "-> Epoch: 1 | Train Loss: 1.0219 | Train Accuracy: 51.95% | Test Loss: 0.9715 | Test Evaluation (%): 70.17%\n",
            "-----------------------------------------------------------------------------------------------------------\n",
            "-> Epoch: 2 | Train Loss: 0.9574 | Train Accuracy: 55.47% | Test Loss: 0.8819 | Test Evaluation (%): 63.16%\n",
            "-----------------------------------------------------------------------------------------------------------\n",
            "-> Epoch: 3 | Train Loss: 0.7784 | Train Accuracy: 70.31% | Test Loss: 0.7922 | Test Evaluation (%): 85.61%\n",
            "-----------------------------------------------------------------------------------------------------------\n",
            "-> Epoch: 4 | Train Loss: 0.7022 | Train Accuracy: 79.30% | Test Loss: 0.6942 | Test Evaluation (%): 87.59%\n",
            "-----------------------------------------------------------------------------------------------------------\n",
            "-> Epoch: 5 | Train Loss: 0.6678 | Train Accuracy: 75.39% | Test Loss: 0.6915 | Test Evaluation (%): 88.64%\n",
            "-----------------------------------------------------------------------------------------------------------\n",
            "-> Epoch: 6 | Train Loss: 0.6042 | Train Accuracy: 77.73% | Test Loss: 0.6235 | Test Evaluation (%): 88.64%\n",
            "-----------------------------------------------------------------------------------------------------------\n",
            "-> Epoch: 7 | Train Loss: 0.5268 | Train Accuracy: 89.84% | Test Loss: 0.6040 | Test Evaluation (%): 89.68%\n",
            "-----------------------------------------------------------------------------------------------------------\n",
            "-> Epoch: 8 | Train Loss: 0.5029 | Train Accuracy: 87.50% | Test Loss: 0.5911 | Test Evaluation (%): 88.64%\n",
            "-----------------------------------------------------------------------------------------------------------\n",
            "-> Epoch: 9 | Train Loss: 0.5384 | Train Accuracy: 76.17% | Test Loss: 0.5533 | Test Evaluation (%): 88.64%\n",
            "-----------------------------------------------------------------------------------------------------------\n",
            "-> Epoch: 10 | Train Loss: 0.4337 | Train Accuracy: 92.58% | Test Loss: 0.5591 | Test Evaluation (%): 90.72%\n",
            "-----------------------------------------------------------------------------------------------------------\n",
            "Process Completed Successfully...\n",
            "Saving Model to: /content/effnetb2_data_10_per_10_epochs.pth\n",
            "Model Successfully Saved to: /content/effnetb2_data_10_per_10_epochs.pth\n",
            "\n",
            "\n",
            "[INFO] Experiment number: 5\n",
            "[INFO] Model: effnetb0\n",
            "[INFO] DataLoader: data_20_per\n",
            "[INFO] Number of epochs: 5\n",
            "[INFO] Created new effnetb0 model.\n",
            "[INFO] Created SummaryWriter, saving to: runs/2023-03-17/data_20_per/effnetb0/5_epochs...\n",
            "Starting Process...\n"
          ]
        },
        {
          "output_type": "display_data",
          "data": {
            "text/plain": [
              "  0%|          | 0/5 [00:00<?, ?it/s]"
            ],
            "application/vnd.jupyter.widget-view+json": {
              "version_major": 2,
              "version_minor": 0,
              "model_id": "3a33e561f05e4f999d7c0c89c16243bd"
            }
          },
          "metadata": {}
        },
        {
          "output_type": "stream",
          "name": "stdout",
          "text": [
            "-> Epoch: 1 | Train Loss: 0.9673 | Train Accuracy: 55.00% | Test Loss: 0.6436 | Test Evaluation (%): 90.72%\n",
            "-----------------------------------------------------------------------------------------------------------\n",
            "-> Epoch: 2 | Train Loss: 0.6547 | Train Accuracy: 87.08% | Test Loss: 0.5238 | Test Evaluation (%): 93.84%\n",
            "-----------------------------------------------------------------------------------------------------------\n",
            "-> Epoch: 3 | Train Loss: 0.5202 | Train Accuracy: 85.83% | Test Loss: 0.4621 | Test Evaluation (%): 93.84%\n",
            "-----------------------------------------------------------------------------------------------------------\n",
            "-> Epoch: 4 | Train Loss: 0.4876 | Train Accuracy: 86.67% | Test Loss: 0.4066 | Test Evaluation (%): 90.72%\n",
            "-----------------------------------------------------------------------------------------------------------\n",
            "-> Epoch: 5 | Train Loss: 0.4217 | Train Accuracy: 89.38% | Test Loss: 0.3776 | Test Evaluation (%): 91.76%\n",
            "-----------------------------------------------------------------------------------------------------------\n",
            "Process Completed Successfully...\n",
            "Saving Model to: /content/effnetb0_data_20_per_5_epochs.pth\n",
            "Model Successfully Saved to: /content/effnetb0_data_20_per_5_epochs.pth\n",
            "\n",
            "\n",
            "[INFO] Experiment number: 6\n",
            "[INFO] Model: effnetb2\n",
            "[INFO] DataLoader: data_20_per\n",
            "[INFO] Number of epochs: 5\n",
            "[INFO] Created new effnetb2 model.\n",
            "[INFO] Created SummaryWriter, saving to: runs/2023-03-17/data_20_per/effnetb2/5_epochs...\n",
            "Starting Process...\n"
          ]
        },
        {
          "output_type": "display_data",
          "data": {
            "text/plain": [
              "  0%|          | 0/5 [00:00<?, ?it/s]"
            ],
            "application/vnd.jupyter.widget-view+json": {
              "version_major": 2,
              "version_minor": 0,
              "model_id": "612a1b0eb74f4b5194807133116f4783"
            }
          },
          "metadata": {}
        },
        {
          "output_type": "stream",
          "name": "stdout",
          "text": [
            "-> Epoch: 1 | Train Loss: 0.9580 | Train Accuracy: 60.00% | Test Loss: 0.7986 | Test Evaluation (%): 80.49%\n",
            "-----------------------------------------------------------------------------------------------------------\n",
            "-> Epoch: 2 | Train Loss: 0.6868 | Train Accuracy: 80.42% | Test Loss: 0.6576 | Test Evaluation (%): 90.72%\n",
            "-----------------------------------------------------------------------------------------------------------\n",
            "-> Epoch: 3 | Train Loss: 0.5472 | Train Accuracy: 88.75% | Test Loss: 0.5844 | Test Evaluation (%): 90.72%\n",
            "-----------------------------------------------------------------------------------------------------------\n",
            "-> Epoch: 4 | Train Loss: 0.4948 | Train Accuracy: 86.04% | Test Loss: 0.5252 | Test Evaluation (%): 91.76%\n",
            "-----------------------------------------------------------------------------------------------------------\n",
            "-> Epoch: 5 | Train Loss: 0.4529 | Train Accuracy: 90.00% | Test Loss: 0.5452 | Test Evaluation (%): 85.70%\n",
            "-----------------------------------------------------------------------------------------------------------\n",
            "Process Completed Successfully...\n",
            "Saving Model to: /content/effnetb2_data_20_per_5_epochs.pth\n",
            "Model Successfully Saved to: /content/effnetb2_data_20_per_5_epochs.pth\n",
            "\n",
            "\n",
            "[INFO] Experiment number: 7\n",
            "[INFO] Model: effnetb0\n",
            "[INFO] DataLoader: data_20_per\n",
            "[INFO] Number of epochs: 10\n",
            "[INFO] Created new effnetb0 model.\n",
            "[INFO] Created SummaryWriter, saving to: runs/2023-03-17/data_20_per/effnetb0/10_epochs...\n",
            "Starting Process...\n"
          ]
        },
        {
          "output_type": "display_data",
          "data": {
            "text/plain": [
              "  0%|          | 0/10 [00:00<?, ?it/s]"
            ],
            "application/vnd.jupyter.widget-view+json": {
              "version_major": 2,
              "version_minor": 0,
              "model_id": "6d4cf5354f6d424aaff84e506b311886"
            }
          },
          "metadata": {}
        },
        {
          "output_type": "stream",
          "name": "stdout",
          "text": [
            "-> Epoch: 1 | Train Loss: 0.9670 | Train Accuracy: 60.62% | Test Loss: 0.7178 | Test Evaluation (%): 80.59%\n",
            "-----------------------------------------------------------------------------------------------------------\n",
            "-> Epoch: 2 | Train Loss: 0.7296 | Train Accuracy: 80.00% | Test Loss: 0.5604 | Test Evaluation (%): 89.77%\n",
            "-----------------------------------------------------------------------------------------------------------\n",
            "-> Epoch: 3 | Train Loss: 0.5983 | Train Accuracy: 84.38% | Test Loss: 0.5157 | Test Evaluation (%): 86.65%\n",
            "-----------------------------------------------------------------------------------------------------------\n",
            "-> Epoch: 4 | Train Loss: 0.5095 | Train Accuracy: 85.83% | Test Loss: 0.4312 | Test Evaluation (%): 86.65%\n",
            "-----------------------------------------------------------------------------------------------------------\n",
            "-> Epoch: 5 | Train Loss: 0.4284 | Train Accuracy: 89.79% | Test Loss: 0.3944 | Test Evaluation (%): 91.76%\n",
            "-----------------------------------------------------------------------------------------------------------\n",
            "-> Epoch: 6 | Train Loss: 0.4006 | Train Accuracy: 89.58% | Test Loss: 0.3602 | Test Evaluation (%): 91.76%\n",
            "-----------------------------------------------------------------------------------------------------------\n",
            "-> Epoch: 7 | Train Loss: 0.4332 | Train Accuracy: 87.29% | Test Loss: 0.3455 | Test Evaluation (%): 92.80%\n",
            "-----------------------------------------------------------------------------------------------------------\n",
            "-> Epoch: 8 | Train Loss: 0.3566 | Train Accuracy: 87.92% | Test Loss: 0.3097 | Test Evaluation (%): 92.80%\n",
            "-----------------------------------------------------------------------------------------------------------\n",
            "-> Epoch: 9 | Train Loss: 0.3442 | Train Accuracy: 88.96% | Test Loss: 0.3072 | Test Evaluation (%): 92.80%\n",
            "-----------------------------------------------------------------------------------------------------------\n",
            "-> Epoch: 10 | Train Loss: 0.2973 | Train Accuracy: 91.88% | Test Loss: 0.3141 | Test Evaluation (%): 90.81%\n",
            "-----------------------------------------------------------------------------------------------------------\n",
            "Process Completed Successfully...\n",
            "Saving Model to: /content/effnetb0_data_20_per_10_epochs.pth\n",
            "Model Successfully Saved to: /content/effnetb0_data_20_per_10_epochs.pth\n",
            "\n",
            "\n",
            "[INFO] Experiment number: 8\n",
            "[INFO] Model: effnetb2\n",
            "[INFO] DataLoader: data_20_per\n",
            "[INFO] Number of epochs: 10\n",
            "[INFO] Created new effnetb2 model.\n",
            "[INFO] Created SummaryWriter, saving to: runs/2023-03-17/data_20_per/effnetb2/10_epochs...\n",
            "Starting Process...\n"
          ]
        },
        {
          "output_type": "display_data",
          "data": {
            "text/plain": [
              "  0%|          | 0/10 [00:00<?, ?it/s]"
            ],
            "application/vnd.jupyter.widget-view+json": {
              "version_major": 2,
              "version_minor": 0,
              "model_id": "dd79c0c0eced447b997f4e3158e980e7"
            }
          },
          "metadata": {}
        },
        {
          "output_type": "stream",
          "name": "stdout",
          "text": [
            "-> Epoch: 1 | Train Loss: 1.0183 | Train Accuracy: 46.67% | Test Loss: 0.8221 | Test Evaluation (%): 83.43%\n",
            "-----------------------------------------------------------------------------------------------------------\n",
            "-> Epoch: 2 | Train Loss: 0.7444 | Train Accuracy: 80.83% | Test Loss: 0.7137 | Test Evaluation (%): 83.52%\n",
            "-----------------------------------------------------------------------------------------------------------\n",
            "-> Epoch: 3 | Train Loss: 0.6065 | Train Accuracy: 83.33% | Test Loss: 0.6054 | Test Evaluation (%): 88.64%\n",
            "-----------------------------------------------------------------------------------------------------------\n",
            "-> Epoch: 4 | Train Loss: 0.4765 | Train Accuracy: 90.00% | Test Loss: 0.5739 | Test Evaluation (%): 81.53%\n",
            "-----------------------------------------------------------------------------------------------------------\n",
            "-> Epoch: 5 | Train Loss: 0.4196 | Train Accuracy: 90.83% | Test Loss: 0.5074 | Test Evaluation (%): 87.69%\n",
            "-----------------------------------------------------------------------------------------------------------\n",
            "-> Epoch: 6 | Train Loss: 0.4201 | Train Accuracy: 88.33% | Test Loss: 0.4544 | Test Evaluation (%): 92.80%\n",
            "-----------------------------------------------------------------------------------------------------------\n",
            "-> Epoch: 7 | Train Loss: 0.3952 | Train Accuracy: 87.08% | Test Loss: 0.4622 | Test Evaluation (%): 89.77%\n",
            "-----------------------------------------------------------------------------------------------------------\n",
            "-> Epoch: 8 | Train Loss: 0.3484 | Train Accuracy: 91.46% | Test Loss: 0.4332 | Test Evaluation (%): 89.77%\n",
            "-----------------------------------------------------------------------------------------------------------\n",
            "-> Epoch: 9 | Train Loss: 0.3450 | Train Accuracy: 89.38% | Test Loss: 0.4026 | Test Evaluation (%): 87.69%\n",
            "-----------------------------------------------------------------------------------------------------------\n",
            "-> Epoch: 10 | Train Loss: 0.3094 | Train Accuracy: 93.75% | Test Loss: 0.3803 | Test Evaluation (%): 90.72%\n",
            "-----------------------------------------------------------------------------------------------------------\n",
            "Process Completed Successfully...\n",
            "Saving Model to: /content/effnetb2_data_20_per_10_epochs.pth\n",
            "Model Successfully Saved to: /content/effnetb2_data_20_per_10_epochs.pth\n",
            "\n",
            "\n"
          ]
        }
      ]
    },
    {
      "cell_type": "markdown",
      "source": [
        "## Loading the Best Model for Predictions"
      ],
      "metadata": {
        "id": "K9vgsAGA3YHH"
      }
    },
    {
      "cell_type": "code",
      "source": [
        "# Setup the best model filepath\n",
        "best_model_path = \"/content/effnetb2_data_20_per_10_epochs.pth\"\n",
        "\n",
        "# Creating a new instance of EffNetB2 (to load the saved state_dict() to)\n",
        "best_model = create_effnetb2()\n",
        "\n",
        "# Load the saved best model state_dict()\n",
        "best_model.load_state_dict(torch.load(best_model_path))"
      ],
      "metadata": {
        "colab": {
          "base_uri": "https://localhost:8080/"
        },
        "id": "RT-UvKea3any",
        "outputId": "ece2f73d-2b42-44ff-f73c-a78d142853e7"
      },
      "execution_count": 72,
      "outputs": [
        {
          "output_type": "stream",
          "name": "stdout",
          "text": [
            "[INFO] Created new effnetb2 model.\n"
          ]
        },
        {
          "output_type": "execute_result",
          "data": {
            "text/plain": [
              "<All keys matched successfully>"
            ]
          },
          "metadata": {},
          "execution_count": 72
        }
      ]
    },
    {
      "cell_type": "markdown",
      "source": [
        "## Getting the size of Model (good to know if we want to deploy it)"
      ],
      "metadata": {
        "id": "zmYYgtHH83FA"
      }
    },
    {
      "cell_type": "code",
      "source": [
        "# Convert the Model size, into MB\n",
        "effnetb2_model_size = Path(best_model_path).stat().st_size // (1024*1024)\n",
        "\n",
        "print(f\"EfficientNetB2 feature extractor model size: {effnetb2_model_size} MB\")"
      ],
      "metadata": {
        "colab": {
          "base_uri": "https://localhost:8080/"
        },
        "id": "nDZC7D8Y9ZzB",
        "outputId": "e480c51f-4a8b-47b5-f3dc-55b887b8a526"
      },
      "execution_count": 73,
      "outputs": [
        {
          "output_type": "stream",
          "name": "stdout",
          "text": [
            "EfficientNetB2 feature extractor model size: 29 MB\n"
          ]
        }
      ]
    },
    {
      "cell_type": "markdown",
      "source": [
        "## Visualize Predictions"
      ],
      "metadata": {
        "id": "wwEg7w_s9nbC"
      }
    },
    {
      "cell_type": "code",
      "source": [
        "# Creating the function that give us the label and the probability predicted\n",
        "def get_prediction(model, label_names, image_path, model_trained_size):\n",
        "    model_dtype = next(model.parameters()).dtype\n",
        "    model_device = next(model.parameters()).device\n",
        "\n",
        "    image_tensor = read_image(str(image_path)).type(model_dtype)\n",
        "\n",
        "    resize = transforms.Resize(size=(model_trained_size, model_trained_size))\n",
        "    resized_image_tensor = resize(image_tensor)\n",
        "\n",
        "    correct_format_tensor = resized_image_tensor / resized_image_tensor.max().item()\n",
        "\n",
        "    model.eval()\n",
        "    with torch.inference_mode():\n",
        "        logits = model(correct_format_tensor.unsqueeze(dim=0).to(model_device))\n",
        "\n",
        "    pred_label = label_names[torch.softmax(logits, dim=1).argmax(dim=1)]\n",
        "    label_prob = torch.softmax(logits, dim=1).max().item() * 100\n",
        "\n",
        "    plt.imshow(image_tensor.permute(1, 2, 0).cpu().type(torch.uint8))\n",
        "    plt.title(f\"Label: {pred_label} | Probability: {label_prob: .2f}%\")\n",
        "    plt.axis(False);"
      ],
      "metadata": {
        "id": "XLZpb9u69vgr"
      },
      "execution_count": 98,
      "outputs": []
    },
    {
      "cell_type": "code",
      "source": [
        "# Getting 3 random images from the test dataset\n",
        "import random\n",
        "\n",
        "num_images_to_plot = 3\n",
        "test_image_path_list = list(Path(test_path).glob(\"*/*.jpg\"))\n",
        "test_image_path_sample = random.sample(population=test_image_path_list,\n",
        "                                       k=num_images_to_plot)\n",
        "\n",
        "print(test_image_path_sample)"
      ],
      "metadata": {
        "colab": {
          "base_uri": "https://localhost:8080/"
        },
        "id": "b0-megc__D_B",
        "outputId": "0a886821-bfbc-41c9-c643-f1528d4f2c7a"
      },
      "execution_count": 104,
      "outputs": [
        {
          "output_type": "stream",
          "name": "stdout",
          "text": [
            "[PosixPath('/content/pizza_steak_sushi/test/pizza/3092704.jpg'), PosixPath('/content/pizza_steak_sushi/test/sushi/1172255.jpg'), PosixPath('/content/pizza_steak_sushi/test/steak/2144308.jpg')]\n"
          ]
        }
      ]
    },
    {
      "cell_type": "code",
      "source": [
        "# Plotting the Predictions\n",
        "get_prediction(model=best_model,\n",
        "               label_names=class_names,\n",
        "               image_path=test_image_path_sample[0],\n",
        "               model_trained_size=224)"
      ],
      "metadata": {
        "colab": {
          "base_uri": "https://localhost:8080/",
          "height": 264
        },
        "id": "IuJ5LVvMAFrM",
        "outputId": "ff3f93e1-3911-4dff-a158-8f584316cd51"
      },
      "execution_count": 105,
      "outputs": [
        {
          "output_type": "display_data",
          "data": {
            "text/plain": [
              "<Figure size 432x288 with 1 Axes>"
            ],
            "image/png": "[encoded data removed]"
          },
          "metadata": {
            "needs_background": "light"
          }
        }
      ]
    },
    {
      "cell_type": "code",
      "source": [
        "get_prediction(model=best_model,\n",
        "               label_names=class_names,\n",
        "               image_path=test_image_path_sample[1],\n",
        "               model_trained_size=224)"
      ],
      "metadata": {
        "colab": {
          "base_uri": "https://localhost:8080/",
          "height": 264
        },
        "id": "T_F8igVhBWY1",
        "outputId": "6d58bda7-8e5c-4bcd-db31-df6f49920f76"
      },
      "execution_count": 106,
      "outputs": [
        {
          "output_type": "display_data",
          "data": {
            "text/plain": [
              "<Figure size 432x288 with 1 Axes>"
            ],
            "image/png": "[encoded data removed]"
          },
          "metadata": {
            "needs_background": "light"
          }
        }
      ]
    },
    {
      "cell_type": "code",
      "source": [
        "get_prediction(model=best_model,\n",
        "               label_names=class_names,\n",
        "               image_path=test_image_path_sample[2],\n",
        "               model_trained_size=224)"
      ],
      "metadata": {
        "colab": {
          "base_uri": "https://localhost:8080/",
          "height": 264
        },
        "id": "bXwCW4dfBYfl",
        "outputId": "bbcbc233-6397-440d-efa4-2d3a00573379"
      },
      "execution_count": 107,
      "outputs": [
        {
          "output_type": "display_data",
          "data": {
            "text/plain": [
              "<Figure size 432x288 with 1 Axes>"
            ],
            "image/png": "[encoded data removed]"
          },
          "metadata": {
            "needs_background": "light"
          }
        }
      ]
    },
    {
      "cell_type": "markdown",
      "source": [
        "## Finally, Let's Predict an Image that the Model has Never Seen"
      ],
      "metadata": {
        "id": "Bn5UGu_uBibd"
      }
    },
    {
      "cell_type": "code",
      "source": [
        "import requests\n",
        "\n",
        "# Setup custom image path\n",
        "custom_image_path = Path(\"/content/unseen_image.jpeg\")\n",
        "\n",
        "# Download the image if it doesn't already exist\n",
        "if not custom_image_path.is_file():\n",
        "    with open(custom_image_path, \"wb\") as f:\n",
        "        # When downloading from GitHub, need to use the \"raw\" file link\n",
        "        request = requests.get(\"https://raw.githubusercontent.com/mrdbourke/pytorch-deep-learning/main/images/04-pizza-dad.jpeg\")\n",
        "        print(f\"Downloading {custom_image_path}...\")\n",
        "        f.write(request.content)\n",
        "else:\n",
        "    print(f\"{custom_image_path} already exists, skipping download.\")\n",
        "\n",
        "# Predict on custom image\n",
        "get_prediction(model=best_model,\n",
        "               label_names=class_names,\n",
        "               image_path=str(custom_image_path),\n",
        "               model_trained_size=224)"
      ],
      "metadata": {
        "colab": {
          "base_uri": "https://localhost:8080/",
          "height": 281
        },
        "id": "wHwnaW2zBqov",
        "outputId": "702d706f-36d2-41b9-86d7-a402b1936f51"
      },
      "execution_count": 109,
      "outputs": [
        {
          "output_type": "stream",
          "name": "stdout",
          "text": [
            "/content/unseen_image.jpeg already exists, skipping download.\n"
          ]
        },
        {
          "output_type": "display_data",
          "data": {
            "text/plain": [
              "<Figure size 432x288 with 1 Axes>"
            ],
            "image/png": "[encoded data removed]"
          },
          "metadata": {
            "needs_background": "light"
          }
        }
      ]
    }
  ]
}