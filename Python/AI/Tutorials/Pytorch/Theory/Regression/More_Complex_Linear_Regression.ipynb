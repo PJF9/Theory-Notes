{
  "cells": [
    {
      "cell_type": "markdown",
      "metadata": {
        "id": "lNZx1H2tXWxf"
      },
      "source": [
        "# Introduction to Linear Regression\n",
        "\n",
        "In this tutorial, we'll discuss one of the foundational algorithms in machine learning: *Linear regression*. We'll create a model that predicts crop yields for apples and oranges (*target variables or labels*) by looking at the average temperature, rainfall, and humidity (*input variables or features*) in a region. Here's the training data:\n",
        "\n",
        "![linear-regression-training-data](https://i.imgur.com/6Ujttb4.png)\n",
        "\n",
        "In a linear regression model, each target variable is estimated to be a weighted sum of the input variables, offset by some constant, known as a bias :\n",
        "\n",
        "```\n",
        "yield_apple  = w11 * temp + w12 * rainfall + w13 * humidity + b1\n",
        "yield_orange = w21 * temp + w22 * rainfall + w23 * humidity + b2\n",
        "```\n",
        "\n",
        "Visually, it means that the yield of apples is a linear or planar function of temperature, rainfall and humidity:\n",
        "\n",
        "![linear-regression-graph](https://i.imgur.com/4DJ9f8X.png)\n",
        "\n",
        "The *learning* part of linear regression is to figure out a set of weights `w11, w12,... w23, b1 & b2` using the training data, to make accurate predictions for new data. The _learned_ weights will be used to predict the yields for apples and oranges in a new region using the average temperature, rainfall, and humidity for that region. \n",
        "\n",
        "We'll _train_ our model by adjusting the weights slightly many times to make better predictions, using an optimization technique called *gradient descent*. "
      ]
    },
    {
      "cell_type": "markdown",
      "metadata": {
        "id": "qycTNXRHXWxi"
      },
      "source": [
        "## Imporint the libraries we need."
      ]
    },
    {
      "cell_type": "code",
      "execution_count": 1,
      "metadata": {
        "id": "qULE3a0rXWxj"
      },
      "outputs": [],
      "source": [
        "import torch"
      ]
    },
    {
      "cell_type": "markdown",
      "metadata": {
        "id": "lsXgwOYXXWxk"
      },
      "source": [
        "## Creating the data that we will use. "
      ]
    },
    {
      "cell_type": "code",
      "execution_count": 2,
      "metadata": {
        "id": "JTC2d-CEXWxk"
      },
      "outputs": [],
      "source": [
        "# Input (temp, rainfall, humidity)\n",
        "inputs = torch.tensor([[73, 67, 43], \n",
        "                       [91, 88, 64], \n",
        "                       [87, 134, 58], \n",
        "                       [102, 43, 37], \n",
        "                       [69, 96, 70],\n",
        "                       [110, 20, 54],\n",
        "                       [72, 93, 80],\n",
        "                       [60, 70, 78]], dtype=torch.float32)\n",
        "\n",
        "# Targets (apples, oranges)\n",
        "targets = torch.tensor([[56, 70], \n",
        "                        [81, 101], \n",
        "                        [119, 133], \n",
        "                        [22, 37], \n",
        "                        [103, 119],\n",
        "                        [16, 22],\n",
        "                        [110, 97],\n",
        "                        [34, 23]], dtype=torch.float32)\n",
        "\n",
        "# We need those Tensors to be in that shape: column-vectors so the can be compatable with Pytorch"
      ]
    },
    {
      "cell_type": "markdown",
      "metadata": {
        "id": "-MUNCO1vXWxk"
      },
      "source": [
        "## Linear regression model from scratch.\n",
        "\n",
        "The weights and biases (`w11, w12,... w23, b1 & b2`) can also be represented as matrices, initialized as random values. The first row of `w` and the first element of `b` are used to predict the first target variable, i.e., yield of apples, and similarly, the second for oranges."
      ]
    },
    {
      "cell_type": "code",
      "execution_count": 4,
      "metadata": {
        "colab": {
          "base_uri": "https://localhost:8080/"
        },
        "id": "ayny1uIwXWxl",
        "outputId": "8bbcc9e2-e1d4-4bd3-c778-d3a33cc3455c"
      },
      "outputs": [
        {
          "output_type": "stream",
          "name": "stdout",
          "text": [
            "tensor([[-1.6740, -0.2723],\n",
            "        [ 2.2429, -0.5075],\n",
            "        [-1.2366,  0.0303]], requires_grad=True)\n"
          ]
        }
      ],
      "source": [
        "weights = torch.randn(3, 2, requires_grad=True, dtype=torch.float32)\n",
        "biases = torch.randn(2, requires_grad=True, dtype=torch.float32)"
      ]
    },
    {
      "cell_type": "markdown",
      "metadata": {
        "id": "hJ5VO8r4XWxl"
      },
      "source": [
        "`torch.randn` creates a tensor with the given shape, with elements picked randomly from a [normal distribution](https://en.wikipedia.org/wiki/Normal_distribution) with mean 0 and standard deviation 1.\n",
        "\n",
        "Our *model* is simply a function that performs a matrix multiplication of the `inputs` and the weights `w` (transposed) and adds the bias `b` (replicated for each observation).\n",
        "\n",
        "![matrix-mult](https://i.imgur.com/WGXLFvA.png)\n",
        "\n",
        "We can define the model as follows:"
      ]
    },
    {
      "cell_type": "code",
      "execution_count": 14,
      "metadata": {
        "id": "WoqyFfEOXWxl"
      },
      "outputs": [],
      "source": [
        "def model(inputs):\n",
        "    return inputs @ weights + biases # inputs: shape=(8,3) and weights: shape=(3,2)"
      ]
    },
    {
      "cell_type": "markdown",
      "metadata": {
        "id": "nkW4jmkjXWxm"
      },
      "source": [
        "`@` represents matrix multiplication in PyTorch.\n",
        "\n",
        "The matrix obtained by passing the input data into the model is a set of predictions for the target variables."
      ]
    },
    {
      "cell_type": "code",
      "execution_count": 15,
      "metadata": {
        "colab": {
          "base_uri": "https://localhost:8080/"
        },
        "id": "U1k2Kt_uXWxm",
        "outputId": "c082037a-cbff-448e-c2b9-55d720039fc3"
      },
      "outputs": [
        {
          "output_type": "stream",
          "name": "stdout",
          "text": [
            "Predictions:\n",
            "tensor([[ 64.4213,  64.4509],\n",
            "        [ 80.6047,  86.8863],\n",
            "        [167.8715, 114.9514],\n",
            "        [ 15.6859,  48.9545],\n",
            "        [ 98.4472,  92.3810],\n",
            "        [-39.8707,  40.1278],\n",
            "        [ 85.0638,  94.0099],\n",
            "        [ 49.9124,  77.1406]], grad_fn=<AddBackward0>) \n",
            "\n",
            "Desire Outputs:\n",
            "tensor([[ 56.,  70.],\n",
            "        [ 81., 101.],\n",
            "        [119., 133.],\n",
            "        [ 22.,  37.],\n",
            "        [103., 119.],\n",
            "        [ 16.,  22.],\n",
            "        [110.,  97.],\n",
            "        [ 34.,  23.]])\n"
          ]
        }
      ],
      "source": [
        "# Generating predictions\n",
        "preds = model(inputs)\n",
        "print(\"Predictions:\")\n",
        "print(preds, '\\n')\n",
        "print(\"Desire Outputs:\")\n",
        "print(targets)"
      ]
    },
    {
      "cell_type": "markdown",
      "metadata": {
        "id": "jadqda0TXWxm"
      },
      "source": [
        "You can see a big difference between our model's predictions and the actual targets because we've initialized our model with random weights and biases. Obviously, we can't expect a randomly initialized model to *just work*.\n",
        "\n",
        "\n",
        "## Loss function\n",
        "\n",
        "Before we improve our model, we need a way to evaluate how well our model is performing. We can compare the model's predictions with the actual targets using the following method:\n",
        "\n",
        "* Calculate the difference between the two matrices (`preds` and `targets`).\n",
        "* Square all elements of the difference matrix to remove negative values.\n",
        "* Calculate the average of the elements in the resulting matrix.\n",
        "\n",
        "The result is a single number, known as the **mean squared error** (MSE)."
      ]
    },
    {
      "cell_type": "code",
      "execution_count": 16,
      "metadata": {
        "id": "CUFhdLlXXWxn"
      },
      "outputs": [],
      "source": [
        "def mse_loss(preds, tergets):\n",
        "    differ = preds - targets\n",
        "    return torch.sum(differ * differ) / differ.numel() # Same can be written as 'torch.mean(differ * differ)\n",
        "\n",
        "# Compute loss\n",
        "loss = mse_loss(preds, targets)"
      ]
    },
    {
      "cell_type": "markdown",
      "metadata": {
        "id": "tGwFjhFBXWxn"
      },
      "source": [
        "Here’s how we can interpret the result: *On average, each element in the prediction differs from the actual target by the square root of the loss*. And that’s pretty bad, considering the numbers we are trying to predict are themselves in the range 50–200. The result is called the *loss* because it indicates how bad the model is at predicting the target variables. It represents information loss in the model: the lower the loss, the better the model."
      ]
    },
    {
      "cell_type": "markdown",
      "metadata": {
        "id": "QV3EpV6aXWxn"
      },
      "source": [
        "## Compute gradients\n",
        "\n",
        "With PyTorch, we can automatically compute the gradient or derivative of the loss w.r.t. to the weights and biases because they have `requires_grad` set to `True`. We'll see how this is useful in just a moment."
      ]
    },
    {
      "cell_type": "code",
      "execution_count": 17,
      "metadata": {
        "id": "RLiBYPKeXWxo"
      },
      "outputs": [],
      "source": [
        "# Calculate gradients\n",
        "loss.backward()"
      ]
    },
    {
      "cell_type": "markdown",
      "metadata": {
        "id": "kv2OaTOAXWxo"
      },
      "source": [
        "The gradients are stored in the `.grad` property of the respective tensors. Note that the derivative of the loss w.r.t. the weights matrix is itself a matrix with the same dimensions."
      ]
    },
    {
      "cell_type": "code",
      "execution_count": 18,
      "metadata": {
        "colab": {
          "base_uri": "https://localhost:8080/"
        },
        "id": "zmv5qK01XWxo",
        "outputId": "4adea895-e791-4ceb-9596-08b7e2dbad5a"
      },
      "outputs": [
        {
          "output_type": "stream",
          "name": "stdout",
          "text": [
            "tensor([[-389.2505,  143.7733],\n",
            "        [ 505.8805, -274.9218],\n",
            "        [-143.9613,  169.1169]])\n"
          ]
        }
      ],
      "source": [
        "# Seeing the gradients of the loss with respect of the weigths\n",
        "print(weights.grad)"
      ]
    },
    {
      "cell_type": "markdown",
      "metadata": {
        "id": "vvGwGav6XWxo"
      },
      "source": [
        "## Adjust weights and biases to reduce the loss\n",
        "\n",
        "The loss is a [quadratic function](https://en.wikipedia.org/wiki/Quadratic_function) of our weights and biases, and our objective is to find the set of weights where the loss is the lowest. If we plot a graph of the loss w.r.t any individual weight or bias element, it will look like the figure shown below. An important insight from calculus is that the gradient indicates the rate of change of the loss, i.e., the loss function's [slope](https://en.wikipedia.org/wiki/Slope) w.r.t. the weights and biases.\n",
        "\n",
        "If a gradient element is **positive**:\n",
        "\n",
        "* **increasing** the weight element's value slightly will **increase** the loss\n",
        "* **decreasing** the weight element's value slightly will **decrease** the loss\n",
        "\n",
        "![postive-gradient](https://i.imgur.com/WLzJ4xP.png)\n",
        "\n",
        "If a gradient element is **negative**:\n",
        "\n",
        "* **increasing** the weight element's value slightly will **decrease** the loss\n",
        "* **decreasing** the weight element's value slightly will **increase** the loss\n",
        "\n",
        "![negative=gradient](https://i.imgur.com/dvG2fxU.png)\n",
        "\n",
        "The increase or decrease in the loss by changing a weight element is proportional to the gradient of the loss w.r.t. that element. This observation forms the basis of _the gradient descent_ optimization algorithm that we'll use to improve our model (by _descending_ along the _gradient_).\n",
        "\n",
        "We can subtract from each weight element a small quantity proportional to the derivative of the loss w.r.t. that element to reduce the loss slightly."
      ]
    },
    {
      "cell_type": "code",
      "execution_count": 19,
      "metadata": {
        "id": "3vVrDW5JXWxo"
      },
      "outputs": [],
      "source": [
        "with torch.no_grad():\n",
        "    weights -= weights.grad * 1e-4\n",
        "    biases -= biases.grad * 1e-4"
      ]
    },
    {
      "cell_type": "markdown",
      "metadata": {
        "id": "ghUs3U5GXWxp"
      },
      "source": [
        "We multiply the gradients with a very small number (`10^-4` in this case) to ensure that we don't modify the weights by a very large amount. We want to take a small step in the downhill direction of the gradient, not a giant leap. This number is called the *learning rate* of the algorithm. \n",
        "\n",
        "We use `torch.no_grad` to indicate to PyTorch that we shouldn't track, calculate, or modify gradients while updating the weights and biases."
      ]
    },
    {
      "cell_type": "markdown",
      "metadata": {
        "id": "2-OB5Pw9XWxp"
      },
      "source": [
        "## Train the model using gradient descent\n",
        "\n",
        "As seen above, we reduce the loss and improve our model using the gradient descent optimization algorithm. Thus, we can _train_ the model using the following steps:\n",
        "\n",
        "1. Generate predictions\n",
        "\n",
        "2. Calculate the loss\n",
        "\n",
        "3. Compute gradients w.r.t the weights and biases\n",
        "\n",
        "4. Adjust the weights by subtracting a small quantity proportional to the gradient\n",
        "\n",
        "5. Reset the gradients to zero\n",
        "\n",
        "Let's implement the above step by step."
      ]
    },
    {
      "cell_type": "markdown",
      "metadata": {
        "id": "KvRrE1lwXWxp"
      },
      "source": [
        "## Train for multiple epochs\n",
        "\n",
        "To reduce the loss further, we can repeat the process of adjusting the weights and biases using the gradients multiple times. Each iteration is called an _epoch_. Let's train the model for 100 epochs."
      ]
    },
    {
      "cell_type": "code",
      "execution_count": 20,
      "metadata": {
        "colab": {
          "base_uri": "https://localhost:8080/"
        },
        "id": "OgPyv7fUXWxp",
        "outputId": "4a73af9a-2ead-412e-fd7e-52161263dc41"
      },
      "outputs": [
        {
          "output_type": "stream",
          "name": "stdout",
          "text": [
            "Predictions:\n",
            "tensor([[ 64.4480,  65.4033],\n",
            "        [ 80.5259,  87.2572],\n",
            "        [148.8806, 126.3986],\n",
            "        [ 31.0115,  43.4936],\n",
            "        [ 90.7523,  95.2117],\n",
            "        [-11.4953,  26.2656],\n",
            "        [ 80.7209,  94.2652],\n",
            "        [ 50.7513,  73.8425]], grad_fn=<AddBackward0>) \n",
            "\n",
            "Desire Outputs:\n",
            "tensor([[ 56.,  70.],\n",
            "        [ 81., 101.],\n",
            "        [119., 133.],\n",
            "        [ 22.,  37.],\n",
            "        [103., 119.],\n",
            "        [ 16.,  22.],\n",
            "        [110.,  97.],\n",
            "        [ 34.,  23.]])\n"
          ]
        }
      ],
      "source": [
        "for _ in range(100):\n",
        "    preds = model(inputs)\n",
        "    loss = mse_loss(preds, targets)\n",
        "    loss.backward()\n",
        "    with torch.no_grad():\n",
        "        weights -= weights.grad * 1e-5\n",
        "        biases -= biases.grad * 1e-5\n",
        "        weights.grad.zero_()\n",
        "        biases.grad.zero_()\n",
        "    \n",
        "# Generating predictions\n",
        "preds = model(inputs)\n",
        "print(\"Predictions:\")\n",
        "print(preds, '\\n')\n",
        "print(\"Desire Outputs:\")\n",
        "print(targets)"
      ]
    },
    {
      "cell_type": "markdown",
      "metadata": {
        "id": "MKgG2JdmXWxq"
      },
      "source": [
        "## Summaring the Feed Forward Neural Network.\n"
      ]
    },
    {
      "cell_type": "code",
      "execution_count": 21,
      "metadata": {
        "tags": [],
        "id": "-R0hBmwBXWxq"
      },
      "outputs": [],
      "source": [
        "import torch\n",
        "\n",
        "\n",
        "# Input (temp, rainfall, humidity)\n",
        "inputs = torch.tensor([[73, 67, 43], \n",
        "                       [91, 88, 64], \n",
        "                       [87, 134, 58], \n",
        "                       [102, 43, 37], \n",
        "                       [69, 96, 70],\n",
        "                       [110, 20, 54],\n",
        "                       [72, 93, 80],\n",
        "                       [60, 70, 78]], dtype=torch.float32)\n",
        "\n",
        "# Targets (apples, oranges)\n",
        "targets = torch.tensor([[56, 70], \n",
        "                        [81, 101], \n",
        "                        [119, 133], \n",
        "                        [22, 37], \n",
        "                        [103, 119],\n",
        "                        [16, 22],\n",
        "                        [110, 97],\n",
        "                        [34, 23]], dtype=torch.float32)\n",
        "\n",
        "# Creating a class for the Neural Network.\n",
        "class Linear_Regression:\n",
        "    def __init__(self, input_layers, target_layers):\n",
        "        # Initialize the weights and the biases randomly.\n",
        "        self.weights = torch.randn(input_layers, target_layers, requires_grad=True, dtype=torch.float32)\n",
        "        self.biases = torch.randn(target_layers, requires_grad=True, dtype=torch.float32)\n",
        "\n",
        "    def __call__(self, inputs):\n",
        "        # Creating the model (returns the predictions)\n",
        "        return (inputs @ self.weights) + self.biases\n",
        "\n",
        "    def mse_loss(self, preds, targets):\n",
        "        # Calculating the Mean Squared Error, loss of our model.\n",
        "        diff = preds - targets\n",
        "        return torch.sum(diff * diff) / diff.numel()\n",
        "\n",
        "    def fit(self, epochs, learning_rate, inputs, targets):\n",
        "        # Training our model for a specified number of epochs (iteratrions).\n",
        "        for _ in range(epochs):\n",
        "            preds = self(inputs)\n",
        "            loss = self.mse_loss(preds, targets)\n",
        "            loss.backward()\n",
        "            with torch.no_grad():\n",
        "                # Update the weights and biases with respect of the loss.\n",
        "                self.weights -= (self.weights.grad * learning_rate)\n",
        "                self.biases -= (self.biases.grad * learning_rate)\n",
        "                # Reseating the grads to be ready for the next epoch.\n",
        "                self.weights.grad.zero_()\n",
        "                self.biases.grad.zero_()\n",
        "\n",
        "\n",
        "# Creating the model object\n",
        "model = Linear_Regression(3, 2)"
      ]
    },
    {
      "cell_type": "code",
      "execution_count": 22,
      "metadata": {
        "colab": {
          "base_uri": "https://localhost:8080/"
        },
        "id": "9pC9jPepXWxq",
        "outputId": "f29dc282-492c-4050-d6c8-36d593692644"
      },
      "outputs": [
        {
          "output_type": "stream",
          "name": "stdout",
          "text": [
            "tensor([52.5285, 53.6255], grad_fn=<AddBackward0>) tensor(585.7444, grad_fn=<DivBackward0>)\n"
          ]
        }
      ],
      "source": [
        "# Training the model for 100 epochs.\n",
        "model.fit(100, 1e-5, inputs, targets)\n",
        "loss = model.mse_loss(model(inputs), targets)\n",
        "pred = model(torch.tensor([90, 60, 65], dtype=torch.float32))\n",
        "print(pred, loss) "
      ]
    },
    {
      "cell_type": "markdown",
      "metadata": {
        "id": "LoxeE5mEXWxr"
      },
      "source": [
        "Gradient Descent with little more mathematics\n",
        "\n",
        "https://storage.googleapis.com/supplemental_media/udacityu/315142919/Gradient%20Descent.pdf"
      ]
    }
  ],
  "metadata": {
    "kernelspec": {
      "display_name": "Python 3",
      "language": "python",
      "name": "python3"
    },
    "language_info": {
      "codemirror_mode": {
        "name": "ipython",
        "version": 3
      },
      "file_extension": ".py",
      "mimetype": "text/x-python",
      "name": "python",
      "nbconvert_exporter": "python",
      "pygments_lexer": "ipython3",
      "version": "3.8.5"
    },
    "colab": {
      "provenance": []
    }
  },
  "nbformat": 4,
  "nbformat_minor": 0
}