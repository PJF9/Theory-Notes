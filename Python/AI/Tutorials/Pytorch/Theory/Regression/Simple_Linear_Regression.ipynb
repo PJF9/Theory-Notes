{
  "cells": [
    {
      "attachments": {},
      "cell_type": "markdown",
      "metadata": {
        "id": "BnQIbCTIySp1"
      },
      "source": [
        "## Importing the Modules"
      ]
    },
    {
      "cell_type": "code",
      "execution_count": 2,
      "metadata": {
        "id": "NOBczr8d-wKv"
      },
      "outputs": [],
      "source": [
        "import torch\n",
        "from torch import nn # Containing the building block for creating Neural Networks (such us Convolutional and Linear layers)\n",
        "import matplotlib.pyplot as plt"
      ]
    },
    {
      "attachments": {},
      "cell_type": "markdown",
      "metadata": {
        "id": "QFeSSo5j4EDR"
      },
      "source": [
        "## Setting the device"
      ]
    },
    {
      "cell_type": "code",
      "execution_count": 3,
      "metadata": {
        "colab": {
          "base_uri": "https://localhost:8080/"
        },
        "id": "AxvRoHzZ4FPR",
        "outputId": "60497bb5-0381-4e08-8803-2882ee9398ea"
      },
      "outputs": [
        {
          "name": "stdout",
          "output_type": "stream",
          "text": [
            "Using: cpu\n"
          ]
        }
      ],
      "source": [
        "device = torch.device(\"cuda\" if torch.cuda.is_available() else \"cpu\")\n",
        "print(f\"Using: {device}\")"
      ]
    },
    {
      "attachments": {},
      "cell_type": "markdown",
      "metadata": {
        "id": "ylQbN0dT_PZ1"
      },
      "source": [
        "## Defining the Problem\n",
        "\n",
        "Lets say that we have a **Linear** Function `Y = aX + b` and given of the tuples\n",
        "(X, Y) we are trying to estimate a and b."
      ]
    },
    {
      "cell_type": "code",
      "execution_count": 4,
      "metadata": {
        "colab": {
          "base_uri": "https://localhost:8080/"
        },
        "id": "41R76WJ4_fTz",
        "outputId": "fba49c28-370d-4725-d503-7e42dfa7ba1b"
      },
      "outputs": [
        {
          "name": "stdout",
          "output_type": "stream",
          "text": [
            "X[:10]\n",
            "tensor([[1.0000],\n",
            "        [1.1000],\n",
            "        [1.2000],\n",
            "        [1.3000],\n",
            "        [1.4000],\n",
            "        [1.5000],\n",
            "        [1.6000],\n",
            "        [1.7000],\n",
            "        [1.8000],\n",
            "        [1.9000]])\n",
            "Y[:10]\n",
            "tensor([[1.2000],\n",
            "        [1.2300],\n",
            "        [1.2600],\n",
            "        [1.2900],\n",
            "        [1.3200],\n",
            "        [1.3500],\n",
            "        [1.3800],\n",
            "        [1.4100],\n",
            "        [1.4400],\n",
            "        [1.4700]])\n"
          ]
        }
      ],
      "source": [
        "# Defining the a, b that we will try to estimate\n",
        "a, b = 0.3, 0.9\n",
        "\n",
        "start, end, step = 1, 10, 0.1\n",
        "\n",
        "# Creating the Linear Function\n",
        "X = torch.arange(start, end, step).unsqueeze(dim=1) # We need the Tensors into row-vector shapes to be compatable with Pytorch `nn`\n",
        "Y = a*X + b\n",
        "\n",
        "print(\"X[:10]\")\n",
        "print(X[:10])\n",
        "\n",
        "print(\"Y[:10]\")\n",
        "print(Y[:10])"
      ]
    },
    {
      "attachments": {},
      "cell_type": "markdown",
      "metadata": {
        "id": "-JZI-1OoEYNg"
      },
      "source": [
        "## Splitting the Data into Training and Test Samples\n",
        "\n",
        "To understand why we need to split the data, we first need to understand the process that a Neural Network follows to learn:\n",
        "- First using the `training set`, train itself, meaning it adjust the **weights** and **biases** so the feutures of the training set to match with the targets.\n",
        "- Then based on that training evaluate the model using the `validation set`. If we try to evaluate the model using the training set then the results will be wrong, because the model have already create the patterns for the seen data, but we want it to also work with unseen data, thus the validation set (this attribute is called **Generalization**).\n",
        "- Finally we test the model using the `testing set`, that contains data that the model has never seen.\n",
        "\n",
        "So by splitting the data, we aquire higher accuracy and precession metrics.\n",
        "\n",
        "On problems with small dataset (such us that) we often skip the `validation set`.\n",
        "\n",
        "The percentages of those sets in size is as follows:\n",
        "- Training   : 60-80 %\n",
        "- Validation : 10-20 %\n",
        "- Test       : 10-20 %"
      ]
    },
    {
      "cell_type": "code",
      "execution_count": 5,
      "metadata": {
        "colab": {
          "base_uri": "https://localhost:8080/"
        },
        "id": "ICj2Ba72H9HT",
        "outputId": "20dcf18b-d136-4c76-faa9-944991d2714c"
      },
      "outputs": [
        {
          "name": "stdout",
          "output_type": "stream",
          "text": [
            "90 90\n"
          ]
        }
      ],
      "source": [
        "print(len(X), len(Y))"
      ]
    },
    {
      "cell_type": "code",
      "execution_count": 6,
      "metadata": {
        "id": "WncJUj72EfNh"
      },
      "outputs": [],
      "source": [
        "# So we are going to create a training (80%) and a test set (20%)\n",
        "split = int(0.8 * len(X))\n",
        "\n",
        "train_x, train_y = X[:split], Y[:split]\n",
        "test_x, test_y = X[split:], Y[split:]\n",
        "\n",
        "# There are more ways of splitting the data (that also inludes `randomness`), but we will see them later on."
      ]
    },
    {
      "attachments": {},
      "cell_type": "markdown",
      "metadata": {
        "id": "zdB8lQD_7ZVU"
      },
      "source": [
        "## Move the Data to Device"
      ]
    },
    {
      "cell_type": "code",
      "execution_count": 7,
      "metadata": {
        "id": "sNTASuR-7cif"
      },
      "outputs": [],
      "source": [
        "train_x = train_x.to(device)\n",
        "train_y = train_y.to(device)\n",
        "test_x = test_x.to(device)\n",
        "test_y = test_y.to(device)"
      ]
    },
    {
      "attachments": {},
      "cell_type": "markdown",
      "metadata": {
        "id": "iT09G6wuU1Zt"
      },
      "source": [
        "## Visualizing the Data"
      ]
    },
    {
      "cell_type": "code",
      "execution_count": 8,
      "metadata": {
        "colab": {
          "base_uri": "https://localhost:8080/",
          "height": 281
        },
        "id": "JEAmg5XBU3hF",
        "outputId": "484be4f6-1eb8-42df-fd69-844a60658b79"
      },
      "outputs": [
        {
          "data": {
            "image/png": "[encoded data removed]",
            "text/plain": [
              "<Figure size 432x288 with 1 Axes>"
            ]
          },
          "metadata": {
            "needs_background": "light"
          },
          "output_type": "display_data"
        }
      ],
      "source": [
        "def visualize(pred=None):\n",
        "    # We need `.cpu()` because matplotlib is working with numpy arrays, that cannot be stored in GPU\n",
        "    plt.scatter(train_x.cpu(), train_y.cpu(), c='b', s=2, label=\"Training Data\")\n",
        "    plt.scatter(test_x.cpu(), test_y.cpu(), c='g', s=2, label=\"Testing Data\")\n",
        "    \n",
        "    if pred is not None:\n",
        "        plt.scatter(test_x.cpu(), pred.cpu(), c='r', s=2, label=\"Predictions\")\n",
        "\n",
        "    plt.title(f\"Y = {a}X + {b}\")\n",
        "    plt.legend(fontsize=\"large\")\n",
        "    plt.show()\n",
        "\n",
        "visualize()"
      ]
    },
    {
      "attachments": {},
      "cell_type": "markdown",
      "metadata": {
        "id": "x-BazApXKmZv"
      },
      "source": [
        "## Building the Model"
      ]
    },
    {
      "cell_type": "code",
      "execution_count": 9,
      "metadata": {
        "id": "2_w2kElZKoBC"
      },
      "outputs": [],
      "source": [
        "# Every Model that we are going to create have to be a class that inherits for `nn.Module` so we can use by default\n",
        "#   some methods that Pytorch have created for working with Models (one example is 'to()' method)\n",
        "\n",
        "class LinearRegressionModel(nn.Module):\n",
        "    def __init__(self):\n",
        "        super().__init__()\n",
        "\n",
        "        # We need to define weight and bias as `nn.Parameters` so we can access them as an iterator later on\n",
        "        self.weight = nn.Parameter(torch.randn(size=(1,), requires_grad=True, dtype=torch.float32))\n",
        "        self.bias = nn.Parameter(torch.randn(size=(1,), requires_grad=True, dtype=torch.float32))\n",
        "\n",
        "        \"\"\"\n",
        "        Instead of manualy defining the weights and biases we can only specify the layers of the Neural Network:\n",
        "        (Behind the scenes it is creating those parameters for us)\n",
        "\n",
        "        * self.linear_layer = nn.Linear(in_features=1, out_features=1)\n",
        "        \"\"\"\n",
        "\n",
        "    # Now we need to define the __call__() (also called forward()) method, that will help us in the training loop\n",
        "    # In sort, it calculates the label of the given feature x\n",
        "    def forward(self, x: torch.Tensor) -> torch.Tensor:\n",
        "        return (x * self.weight) + self.bias\n",
        "\n",
        "        \"\"\"\n",
        "        The same code, if we define the linear layer can be written:\n",
        "\n",
        "        * return self.linear_layer(x)\n",
        "        \"\"\""
      ]
    },
    {
      "attachments": {},
      "cell_type": "markdown",
      "metadata": {
        "id": "0OH7yGOuNLGW"
      },
      "source": [
        "## How does the Model adjust the random parameters?\n",
        "\n",
        "The answer is through 2 main algorithms\n",
        "- Gradient Descent\n",
        "- Backpropagation"
      ]
    },
    {
      "attachments": {},
      "cell_type": "markdown",
      "metadata": {
        "id": "hCh3gQkXNqut"
      },
      "source": [
        "## Creating out Model"
      ]
    },
    {
      "cell_type": "code",
      "execution_count": 10,
      "metadata": {
        "colab": {
          "base_uri": "https://localhost:8080/"
        },
        "id": "bOUCA1PKRaDx",
        "outputId": "052cb930-9d2a-4280-ced1-572b67020e58"
      },
      "outputs": [
        {
          "name": "stdout",
          "output_type": "stream",
          "text": [
            "[Parameter containing:\n",
            "tensor([-0.6512], requires_grad=True), Parameter containing:\n",
            "tensor([-0.6687], requires_grad=True)]\n",
            "OrderedDict([('weight', tensor([-0.6512])), ('bias', tensor([-0.6687]))])\n"
          ]
        }
      ],
      "source": [
        "model = LinearRegressionModel()\n",
        "\n",
        "# Why not setting a random seed\n",
        "torch.manual_seed(9)\n",
        "\n",
        "# Getting the model's parameters (returns a generator object)\n",
        "print(list(model.parameters()))\n",
        "\n",
        "# We can see also the names and the values of the model's parameters\n",
        "print(model.state_dict())"
      ]
    },
    {
      "attachments": {},
      "cell_type": "markdown",
      "metadata": {
        "id": "P3QIB2WQ6Fyf"
      },
      "source": [
        "## Move the Model to Device"
      ]
    },
    {
      "cell_type": "code",
      "execution_count": 11,
      "metadata": {
        "colab": {
          "base_uri": "https://localhost:8080/"
        },
        "id": "-dSGdLC96HGR",
        "outputId": "6bc638b3-2612-4dad-d1cf-300424f42d74"
      },
      "outputs": [
        {
          "name": "stdout",
          "output_type": "stream",
          "text": [
            "cpu\n",
            "cpu\n"
          ]
        }
      ],
      "source": [
        "# We can see the device that the Model is stored using:\n",
        "print(next(model.parameters()).device) # We need `next()` because `model.parameters()` is a generator object (so we need the first element)\n",
        "\n",
        "model.to(device) # Moving the model to device\n",
        "\n",
        "print(next(model.parameters()).device)"
      ]
    },
    {
      "attachments": {},
      "cell_type": "markdown",
      "metadata": {
        "id": "8q6Q77cGShBb"
      },
      "source": [
        "## Make Prediction with the Model"
      ]
    },
    {
      "cell_type": "code",
      "execution_count": 12,
      "metadata": {
        "colab": {
          "base_uri": "https://localhost:8080/",
          "height": 593
        },
        "id": "siJSlLWNTKx8",
        "outputId": "c321a909-63b2-4570-a22a-81fe9500231d"
      },
      "outputs": [
        {
          "name": "stdout",
          "output_type": "stream",
          "text": [
            "tensor([[-6.0088],\n",
            "        [-6.0739],\n",
            "        [-6.1390],\n",
            "        [-6.2042],\n",
            "        [-6.2693],\n",
            "        [-6.3344],\n",
            "        [-6.3995],\n",
            "        [-6.4647],\n",
            "        [-6.5298],\n",
            "        [-6.5949],\n",
            "        [-6.6600],\n",
            "        [-6.7251],\n",
            "        [-6.7903],\n",
            "        [-6.8554],\n",
            "        [-6.9205],\n",
            "        [-6.9856],\n",
            "        [-7.0508],\n",
            "        [-7.1159]])\n"
          ]
        },
        {
          "data": {
            "image/png": "[encoded data removed]",
            "text/plain": [
              "<Figure size 432x288 with 1 Axes>"
            ]
          },
          "metadata": {
            "needs_background": "light"
          },
          "output_type": "display_data"
        }
      ],
      "source": [
        "# We use this contex manager (better version of torch.no_grad()) when we are certain out operations will have no interact with autograd\n",
        "# Gives us better performance (turns off gredient tracking)\n",
        "with torch.inference_mode():\n",
        "    preds = model(test_x)\n",
        "\n",
        "print(preds)\n",
        "\n",
        "# Ploting the predictions\n",
        "visualize(preds)"
      ]
    },
    {
      "attachments": {},
      "cell_type": "markdown",
      "metadata": {
        "id": "IKbUCg3CV_eT"
      },
      "source": [
        "## Training the Model\n",
        "\n",
        "* Our goal is the adjust the **weight** and **bias** so the predictions from the model to match with the actual targets.\n",
        "* So we are trying to go from a poor representation of the data to a better one.\n",
        "* The measure of how poor the representation of the data is, give us a `loss function`.\n",
        "* We can see all the loss functions that Pytorch has created in `torch.nn`.\n",
        "* Then after we calculate the loss of the model, we need an `optimizer`, meaning to adjust the models parameters to imporve the loss function."
      ]
    },
    {
      "attachments": {},
      "cell_type": "markdown",
      "metadata": {
        "id": "xGjPRkn_XLwR"
      },
      "source": [
        "## Creating a Loss Function"
      ]
    },
    {
      "cell_type": "code",
      "execution_count": 13,
      "metadata": {
        "id": "6DyDMJvUaMMS"
      },
      "outputs": [],
      "source": [
        "# There are a lot of Loss functions available.\n",
        "# We are going to create the L1 loss functions (Manhattan Norm)\n",
        "def L1_norm(preds, targets):\n",
        "    return torch.mean(torch.abs(preds - targets))\n",
        "\n",
        "# The same can be accessed in: 'torch.nn.L1Loss()'\n",
        "\n",
        "loss_fn = nn.L1Loss() # Not great results\n",
        "loss_fn = nn.MSELoss()"
      ]
    },
    {
      "attachments": {},
      "cell_type": "markdown",
      "metadata": {
        "id": "1gvIPT3Xan9k"
      },
      "source": [
        "## Creating an Optimizer"
      ]
    },
    {
      "cell_type": "code",
      "execution_count": 14,
      "metadata": {
        "id": "M1dZSczearrC"
      },
      "outputs": [],
      "source": [
        "# The different optimizers we can use live in: 'torch.optim' class\n",
        "# In that example we are going to use stohastic gradient descent\n",
        "\n",
        "# The optimizer need some parameters:\n",
        "# 1) the model parameters\n",
        "# 2) the learning rate (the higher the learning rate the more optimizer adjust the parameters each epoch)\n",
        "\n",
        "# A great concept about the learning rate is `learning rate scheduling`\n",
        "\n",
        "lr = 1e-2\n",
        "\n",
        "optimizer = torch.optim.SGD(params=model.parameters(), lr=lr)"
      ]
    },
    {
      "attachments": {},
      "cell_type": "markdown",
      "metadata": {
        "id": "rIhfjc-RbiFz"
      },
      "source": [
        "## Creating the Training Loop\n",
        "The process that the model follows to learn:\n",
        "0. Loop through the data a lot of times (epochs)\n",
        "1. Generate predictions (Forward Pass)\n",
        "2. Calculate the Loss\n",
        "3. Optimizer zero grad\n",
        "4. Loss backward to calculate the gradients of the parameters (**backpropagation**)\n",
        "5. Optimizer step to adjust the model parameters (**gradient descent**)"
      ]
    },
    {
      "cell_type": "code",
      "execution_count": 15,
      "metadata": {
        "colab": {
          "base_uri": "https://localhost:8080/"
        },
        "id": "0Eeh__ufcaSn",
        "outputId": "63e12776-31e1-4a76-b80f-7fc76d34e3c3"
      },
      "outputs": [
        {
          "name": "stdout",
          "output_type": "stream",
          "text": [
            "Epoch: 100 | Loss: 0.16203954815864563\n",
            "Epoch: 200 | Loss: 0.08297154307365417\n",
            "Epoch: 300 | Loss: 0.04248517379164696\n",
            "Epoch: 400 | Loss: 0.0217543076723814\n",
            "Epoch: 500 | Loss: 0.011139179579913616\n",
            "Epoch: 600 | Loss: 0.0057037645019590855\n",
            "Epoch: 700 | Loss: 0.002920585684478283\n",
            "Epoch: 800 | Loss: 0.0014954726211726665\n",
            "Epoch: 900 | Loss: 0.0007657523383386433\n",
            "Epoch: 1000 | Loss: 0.0003921074094250798\n"
          ]
        }
      ],
      "source": [
        "# An epoch is one loop through the data\n",
        "epochs = 1001\n",
        "\n",
        "# Tracking the progression of the model\n",
        "epoch_count = []\n",
        "loss_values = []\n",
        "\n",
        "\n",
        "# 0. Loop through the data\n",
        "for epoch in range(1, epochs):\n",
        "    \n",
        "    # Setting the model to training mode (starts gredient tracking)\n",
        "    model.train()\n",
        "\n",
        "    # 1. Forward Pass\n",
        "    preds = model(train_x)\n",
        "\n",
        "    # 2. Calculate Loss\n",
        "    loss = loss_fn(preds, train_y) # preds first and then targets\n",
        "\n",
        "    # 3. Optimizer zero grad (making all the gradients zero, to calculate them again for this loop)\n",
        "    optimizer.zero_grad()\n",
        "\n",
        "    # 4. Perform Backpropagation\n",
        "    loss.backward()\n",
        "\n",
        "    # 5. Optimize\n",
        "    optimizer.step()\n",
        "\n",
        "    if epoch % 100 == 0:\n",
        "        print(f\"Epoch: {epoch} | Loss: {loss}\")\n",
        "        epoch_count.append(epoch)\n",
        "        loss_values.append(loss.item())"
      ]
    },
    {
      "cell_type": "code",
      "execution_count": 16,
      "metadata": {
        "colab": {
          "base_uri": "https://localhost:8080/"
        },
        "id": "CSpcMFBtnmy5",
        "outputId": "5093183b-574c-44d6-e7c8-44e9d8d10c99"
      },
      "outputs": [
        {
          "name": "stdout",
          "output_type": "stream",
          "text": [
            "OrderedDict([('weight', tensor([0.3087])), ('bias', tensor([0.8525]))])\n"
          ]
        }
      ],
      "source": [
        "print(model.state_dict())"
      ]
    },
    {
      "attachments": {},
      "cell_type": "markdown",
      "metadata": {
        "id": "uSJzjQqArDWP"
      },
      "source": [
        "## Testing the Model"
      ]
    },
    {
      "cell_type": "code",
      "execution_count": 17,
      "metadata": {
        "colab": {
          "base_uri": "https://localhost:8080/",
          "height": 298
        },
        "id": "MtDjTV7BoIDb",
        "outputId": "fab6bee7-b57d-47a3-a42e-a897feb743ab"
      },
      "outputs": [
        {
          "name": "stdout",
          "output_type": "stream",
          "text": [
            "Test Loss: 0.0009933196706697345\n"
          ]
        },
        {
          "data": {
            "image/png": "[encoded data removed]",
            "text/plain": [
              "<Figure size 432x288 with 1 Axes>"
            ]
          },
          "metadata": {
            "needs_background": "light"
          },
          "output_type": "display_data"
        }
      ],
      "source": [
        "# Setting the model to evaluating mode\n",
        "model.eval()\n",
        "\n",
        "with torch.inference_mode():\n",
        "    # 1. Forward Pass\n",
        "    preds = model(test_x)\n",
        "\n",
        "    # 2. Calculate Loss\n",
        "    loss = loss_fn(preds, test_y)\n",
        "\n",
        "print(f\"Test Loss: {loss}\")\n",
        "\n",
        "visualize(preds)"
      ]
    },
    {
      "attachments": {},
      "cell_type": "markdown",
      "metadata": {
        "id": "LkHtcdtqvyi3"
      },
      "source": [
        "## Plotting the Loss Curve"
      ]
    },
    {
      "cell_type": "code",
      "execution_count": 18,
      "metadata": {
        "colab": {
          "base_uri": "https://localhost:8080/",
          "height": 295
        },
        "id": "ZwAweIw7v3Pv",
        "outputId": "5bd1daee-ab1e-4e92-c3f1-8221b1829d91"
      },
      "outputs": [
        {
          "data": {
            "image/png": "[encoded data removed]",
            "text/plain": [
              "<Figure size 432x288 with 1 Axes>"
            ]
          },
          "metadata": {
            "needs_background": "light"
          },
          "output_type": "display_data"
        }
      ],
      "source": [
        "plt.plot(epoch_count, loss_values, c='g')\n",
        "plt.xlabel(\"Epoch\")\n",
        "plt.ylabel(\"Loss\")\n",
        "plt.title(\"Loss Values\")\n",
        "plt.show()"
      ]
    },
    {
      "attachments": {},
      "cell_type": "markdown",
      "metadata": {
        "id": "9pjP0G4Wybbj"
      },
      "source": [
        "## Saving the Model\n",
        "\n",
        "The recommended way of saving a model is saving its `state dictionary` and not the entire model"
      ]
    },
    {
      "cell_type": "code",
      "execution_count": 19,
      "metadata": {
        "id": "fW_kP-VNyedN"
      },
      "outputs": [],
      "source": [
        "# To save a model first we need to create its Path\n",
        "from pathlib import Path\n",
        "\n",
        "# 1. Create the Models Directory\n",
        "MODEL_PATH = Path(\"models\")\n",
        "MODEL_PATH.mkdir(parents=True, exist_ok=True)\n",
        "\n",
        "# 2. Create the Model Save  path\n",
        "MODEL_NAME = \"function_approximation.pth\" # Pytorch model should contain the extension `.pth`\n",
        "MODEL_SAVE_PATH = MODEL_PATH / MODEL_NAME\n",
        "\n",
        "# 3. Save the state dict\n",
        "torch.save(obj=model.state_dict(), f=MODEL_SAVE_PATH)"
      ]
    },
    {
      "attachments": {},
      "cell_type": "markdown",
      "metadata": {
        "id": "filN8xNT1yzl"
      },
      "source": [
        "## Loading a Model\n",
        "\n",
        "Can load models that have been saved using `torch.save()`"
      ]
    },
    {
      "cell_type": "code",
      "execution_count": 20,
      "metadata": {
        "colab": {
          "base_uri": "https://localhost:8080/"
        },
        "id": "McOxTSJm12Ez",
        "outputId": "1be48dc8-bbf1-4108-ae70-41cbc7054833"
      },
      "outputs": [
        {
          "name": "stdout",
          "output_type": "stream",
          "text": [
            "OrderedDict([('weight', tensor([0.3087])), ('bias', tensor([0.8525]))])\n",
            "True\n"
          ]
        }
      ],
      "source": [
        "# 1. Creating a new Model Instance\n",
        "model1 = LinearRegressionModel()\n",
        "\n",
        "# 2. Move the new model to device\n",
        "model1.to(device)\n",
        "\n",
        "# 2. Load the state dict into that model\n",
        "model1.load_state_dict(torch.load(f=MODEL_SAVE_PATH))\n",
        "\n",
        "print(model1.state_dict())\n",
        "print(model1.state_dict() == model.state_dict())"
      ]
    },
    {
      "attachments": {},
      "cell_type": "markdown",
      "metadata": {
        "id": "bZ_-GOgi9Ifs"
      },
      "source": [
        "## Pytorch Chear Sheet\n",
        "\n",
        "https://pytorch.org/tutorials/beginner/ptcheat.html"
      ]
    }
  ],
  "metadata": {
    "colab": {
      "provenance": []
    },
    "gpuClass": "standard",
    "kernelspec": {
      "display_name": "Python 3",
      "name": "python3"
    },
    "language_info": {
      "name": "python"
    }
  },
  "nbformat": 4,
  "nbformat_minor": 0
}
