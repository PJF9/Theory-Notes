{
  "nbformat": 4,
  "nbformat_minor": 0,
  "metadata": {
    "colab": {
      "provenance": []
    },
    "kernelspec": {
      "name": "python3",
      "display_name": "Python 3"
    },
    "language_info": {
      "name": "python"
    }
  },
  "cells": [
    {
      "cell_type": "markdown",
      "source": [
        "## Machine Learning (Deep Learning)\n",
        "\n",
        "Machine learning is the process of turning data into numbers and `finding patterns` in those numbers\n",
        "\n",
        "\n",
        "### How ML algorithms works?\n",
        "\n",
        "In traditional programming, we are writing an algorithm that takes some inputs and based on some rules provide an output. In ML algorithms we are writing an algorithm that takes some inputs and the desire output and it figures out the rules, the `patterns` of input-output. This type of ML algorithm is called `supervised learning`.\n",
        "The inputs are also called `features` and the ouputs `labels`.\n",
        "\n",
        "\n",
        "### Why use ML algorithms?\n",
        "\n",
        "For complex problems, like creating software that handles a self-driving car. What are the rules of that program?\n",
        "Yes we might be able to name 10,100 or even 1000 rules, but 1) are there only 100 rules? Obviously not  and 2) how are we going to create such a huge program? Hard code all the rules?\n",
        "So in such problems the use of ML is essential. In general we can use ML for every problem that we can convert the inputs and the outputs into numbers.\n",
        "\n",
        "\n",
        "### Should we use ML for every problem?\n",
        "Of course not, in simple programms with small list of rules, a traditional algorithm is way faster than a ML one. We can use ML algorithms on continually changing environments, because it can adjust eazily to new scenarios and also if the inputs (or the dataset) is large, like the problem: describing how 101 different kind of food looks like. But when errors are unacceptable and when we need expandability it's wise not to use ML.\n",
        "\n",
        "\n",
        "### ML vs DL\n",
        "\n",
        "Although ML and DL are very similar in nature, we use ML for structure data, such us tables and DL for unstructred data, such us voice and text. Some ML algorithms are:\n",
        "- Naive Bayes\n",
        "- Random Forest\n",
        "- Nearest Neighbours\n",
        "- Support Vector Machine\n",
        "\n",
        "Some DL algorithms are:\n",
        "- Fully connected Neural Networks\n",
        "- Convolutional NN\n",
        "- Recurrent NN\n",
        "\n",
        "Although this rule is not strict. Of course we can use ML algorithms for DL and reversed.\n",
        "\n",
        "\n",
        "### What is a Neural Network?\n",
        "\n",
        "Neural Networks are the `rule creator` of the algorithms. The feutrues first are converted into numbers and then are passed in the NN so using some weights it is able to create the appropriate rules to form the desire outputs.\n",
        "\n",
        "### Types of Learning\n",
        "\n",
        "1) Supervised Learning: To create the rules the model requiere both the features and the lables.\n",
        "2) Unsupervised Learning: To find the pattern of a dataset the model require only the features.\n",
        "3) Transfer Learning: To tranfer the learning of one model to another model.\n",
        "4) Reinforcment Learning\n",
        "\n",
        "\n",
        "### How a ML algorithm is working?\n",
        "\n",
        "1) Turn data into tensors\n",
        "2) Create the model:\n",
        "    - Pick a Loss Function and an Optimizer\n",
        "    - Build a Training Loop\n",
        "3) Fit the model to the data and make predictions\n",
        "4) Evaluate the model\n",
        "5) Imporve through experimentation\n",
        "6) Save the model"
      ],
      "metadata": {
        "id": "ssGyn72Btd64"
      }
    },
    {
      "cell_type": "code",
      "source": [],
      "metadata": {
        "id": "6FVvUNNrthzA"
      },
      "execution_count": null,
      "outputs": []
    }
  ]
}