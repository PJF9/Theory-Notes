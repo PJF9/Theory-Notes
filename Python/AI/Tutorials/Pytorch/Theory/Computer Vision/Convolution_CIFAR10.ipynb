{
 "cells": [
  {
   "attachments": {},
   "cell_type": "markdown",
   "id": "heard-carry",
   "metadata": {},
   "source": [
    "## Exploring the CIFAR10 Dataset\n",
    "\n",
    "In the [previous tutorial](https://jovian.ml/aakashns/04-feedforward-nn), we trained a feedfoward neural networks with a single hidden layer to classify handwritten digits from the [MNIST dataset](http://yann.lecun.com/exdb/mnist) with over 97% accuracy. For this tutorial, we'll use the CIFAR10 dataset, which consists of 60000 32x32 px colour images in 10 classes. Here are some sample images from the dataset:\n",
    "\n",
    "<img src=\"https://miro.medium.com/max/709/1*LyV7_xga4jUHdx4_jHk1PQ.png\" style=\"max-width:480px\">"
   ]
  },
  {
   "cell_type": "code",
   "execution_count": 1,
   "id": "fancy-idaho",
   "metadata": {},
   "outputs": [],
   "source": [
    "import torch\n",
    "import torch.nn as nn\n",
    "import torch.nn.functional as F\n",
    "import torch.optim as OPT\n",
    "from torch.utils.data import random_split, DataLoader\n",
    "from torchvision.datasets import ImageFolder\n",
    "from torchvision.transforms import ToTensor\n",
    "import os\n",
    "import matplotlib.pyplot as plt"
   ]
  },
  {
   "attachments": {},
   "cell_type": "markdown",
   "id": "apart-affairs",
   "metadata": {},
   "source": [
    "The dataset contains 2 folders `train` and `test`, containing the training set (50000 images) and test set (10000 images) respectively. Each of them contains 10 folders, one for each class of images. Let's verify this using `os.listdir`."
   ]
  },
  {
   "cell_type": "code",
   "execution_count": 2,
   "id": "ordinary-organizer",
   "metadata": {},
   "outputs": [
    {
     "name": "stdout",
     "output_type": "stream",
     "text": [
      "['airplane', 'automobile', 'bird', 'cat', 'deer', 'dog', 'frog', 'horse', 'ship', 'truck']\n"
     ]
    }
   ],
   "source": [
    "classes = os.listdir(\"Datasets/cifar10/train\")\n",
    "print(classes)"
   ]
  },
  {
   "attachments": {},
   "cell_type": "markdown",
   "id": "coordinated-cheat",
   "metadata": {},
   "source": [
    "Let's look inside a couple of folders, one from the training set and another from the test set."
   ]
  },
  {
   "cell_type": "code",
   "execution_count": 3,
   "id": "aquatic-baseball",
   "metadata": {},
   "outputs": [
    {
     "name": "stdout",
     "output_type": "stream",
     "text": [
      "Number of airplanes: 5000\n",
      "Number of automobiles: 5000\n",
      "Number of birds: 5000\n",
      "Number of cats: 5000\n",
      "Number of deers: 5000\n",
      "Number of dogs: 5000\n",
      "Number of frogs: 5000\n",
      "Number of horses: 5000\n",
      "Number of ships: 5000\n",
      "Number of trucks: 5000\n",
      "Test sample: ['0001.png', '0002.png', '0003.png', '0004.png', '0005.png']\n"
     ]
    }
   ],
   "source": [
    "for class_name in classes:\n",
    "    nums = len(os.listdir(f\"Datasets/cifar10/train/{class_name}\"))\n",
    "    print(f\"Number of {class_name}s: {nums}\")\n",
    "    \n",
    "print(\"Test sample:\", os.listdir(\"Datasets/cifar10/train/bird\")[:5])"
   ]
  },
  {
   "attachments": {},
   "cell_type": "markdown",
   "id": "valued-stamp",
   "metadata": {},
   "source": [
    "The above directory structure (one folder per class) is used by many computer vision datasets, and most deep learning libraries provide utilites for working with such datasets. We can use the `ImageFolder` class from `torchvision` to load the data as PyTorch tensors."
   ]
  },
  {
   "cell_type": "code",
   "execution_count": 4,
   "id": "moral-mountain",
   "metadata": {},
   "outputs": [],
   "source": [
    "dataset = ImageFolder(\"Datasets/cifar10/train\", transform=ToTensor())"
   ]
  },
  {
   "attachments": {},
   "cell_type": "markdown",
   "id": "mathematical-mason",
   "metadata": {},
   "source": [
    "Let's look at a sample element from the training dataset. Each element is a tuple, containing a image tensor and a label. Since the data consists of 32x32 px color images with 3 channels (RGB), each image tensor has the shape `(3, 32, 32)`."
   ]
  },
  {
   "cell_type": "code",
   "execution_count": 5,
   "id": "owned-vacation",
   "metadata": {},
   "outputs": [
    {
     "name": "stdout",
     "output_type": "stream",
     "text": [
      "torch.Size([3, 32, 32])\n",
      "airplane\n",
      "tensor([[[0.7922, 0.7922, 0.8000,  ..., 0.8118, 0.8039, 0.7961],\n",
      "         [0.8078, 0.8078, 0.8118,  ..., 0.8235, 0.8157, 0.8078],\n",
      "         [0.8235, 0.8275, 0.8314,  ..., 0.8392, 0.8314, 0.8235],\n",
      "         ...,\n",
      "         [0.8549, 0.8235, 0.7608,  ..., 0.9529, 0.9569, 0.9529],\n",
      "         [0.8588, 0.8510, 0.8471,  ..., 0.9451, 0.9451, 0.9451],\n",
      "         [0.8510, 0.8471, 0.8510,  ..., 0.9373, 0.9373, 0.9412]],\n",
      "\n",
      "        [[0.8000, 0.8000, 0.8078,  ..., 0.8157, 0.8078, 0.8000],\n",
      "         [0.8157, 0.8157, 0.8196,  ..., 0.8275, 0.8196, 0.8118],\n",
      "         [0.8314, 0.8353, 0.8392,  ..., 0.8392, 0.8353, 0.8275],\n",
      "         ...,\n",
      "         [0.8510, 0.8196, 0.7608,  ..., 0.9490, 0.9490, 0.9529],\n",
      "         [0.8549, 0.8471, 0.8471,  ..., 0.9412, 0.9412, 0.9412],\n",
      "         [0.8471, 0.8431, 0.8471,  ..., 0.9333, 0.9333, 0.9333]],\n",
      "\n",
      "        [[0.7804, 0.7804, 0.7882,  ..., 0.7843, 0.7804, 0.7765],\n",
      "         [0.7961, 0.7961, 0.8000,  ..., 0.8039, 0.7961, 0.7882],\n",
      "         [0.8118, 0.8157, 0.8235,  ..., 0.8235, 0.8157, 0.8078],\n",
      "         ...,\n",
      "         [0.8706, 0.8392, 0.7765,  ..., 0.9686, 0.9686, 0.9686],\n",
      "         [0.8745, 0.8667, 0.8627,  ..., 0.9608, 0.9608, 0.9608],\n",
      "         [0.8667, 0.8627, 0.8667,  ..., 0.9529, 0.9529, 0.9529]]])\n"
     ]
    }
   ],
   "source": [
    "image, label_index = dataset[0]\n",
    "print(image.shape)\n",
    "print(classes[label_index])\n",
    "print(image)"
   ]
  },
  {
   "attachments": {},
   "cell_type": "markdown",
   "id": "ultimate-example",
   "metadata": {},
   "source": [
    "The list of classes is stored in the `.classes` property of the dataset. The numeric label for each element corresponds to index of the element's label in the list of classes."
   ]
  },
  {
   "cell_type": "code",
   "execution_count": 6,
   "id": "incorporated-future",
   "metadata": {},
   "outputs": [
    {
     "name": "stdout",
     "output_type": "stream",
     "text": [
      "['airplane', 'automobile', 'bird', 'cat', 'deer', 'dog', 'frog', 'horse', 'ship', 'truck']\n"
     ]
    }
   ],
   "source": [
    "print(dataset.classes)"
   ]
  },
  {
   "attachments": {},
   "cell_type": "markdown",
   "id": "spiritual-hormone",
   "metadata": {},
   "source": [
    "We can view the image using `matplotlib`, but we need to change the tensor dimensions to `(32,32,3)`. Let's create a helper function to display an image and its label."
   ]
  },
  {
   "cell_type": "code",
   "execution_count": 7,
   "id": "generous-income",
   "metadata": {},
   "outputs": [],
   "source": [
    "def show_example(image, label):\n",
    "    print(f\"Label: {dataset.classes[label]} ({label})\")\n",
    "    plt.imshow(image.permute(1, 2, 0))"
   ]
  },
  {
   "attachments": {},
   "cell_type": "markdown",
   "id": "outstanding-penetration",
   "metadata": {},
   "source": [
    "Let's look at a couple of images from the dataset. As you can tell, the 32x32px images are quite difficult to identify, even for the human eye. Try changing the indices below to view different images."
   ]
  },
  {
   "cell_type": "code",
   "execution_count": 8,
   "id": "taken-recycling",
   "metadata": {},
   "outputs": [
    {
     "name": "stdout",
     "output_type": "stream",
     "text": [
      "Label: airplane (0)\n"
     ]
    },
    {
     "data": {
      "image/png": "[encoded data removed]",
      "text/plain": [
       "<Figure size 432x288 with 1 Axes>"
      ]
     },
     "metadata": {
      "needs_background": "light"
     },
     "output_type": "display_data"
    }
   ],
   "source": [
    "show_example(*dataset[9])"
   ]
  },
  {
   "attachments": {},
   "cell_type": "markdown",
   "id": "opened-lesson",
   "metadata": {},
   "source": [
    "## Training and Validation Datasets\n",
    "\n",
    "While building real world machine learning models, it is quite common to split the dataset into 3 parts:\n",
    "\n",
    "1. **Training set** - used to train the model i.e. compute the loss and adjust the weights of the model using gradient descent.\n",
    "2. **Validation set** - used to evaluate the model while training, adjust hyperparameters (learning rate etc.) and pick the best version of the model.\n",
    "3. **Test set** - used to compare different models, or different types of modeling approaches, and report the final accuracy of the model.\n",
    "\n",
    "Since there's no predefined validation set, we can set aside a small portion (5000 images) of the training set to be used as the validation set. We'll use the `random_split` helper method from PyTorch to do this. To ensure that we always create the same validation set, we'll also set a seed for the random number generator."
   ]
  },
  {
   "cell_type": "code",
   "execution_count": 9,
   "id": "extensive-interaction",
   "metadata": {},
   "outputs": [],
   "source": [
    "valid_size = 5_000\n",
    "train_size = len(dataset) - valid_size\n",
    "batch_size = 64\n",
    "\n",
    "train_ds, valid_ds = random_split(dataset, [train_size, valid_size])\n",
    "\n",
    "train_dl = DataLoader(train_ds, batch_size, shuffle=True, num_workers=4, pin_memory=True)\n",
    "valid_dl = DataLoader(valid_ds, batch_size*2, num_workers=4, pin_memory=True)"
   ]
  },
  {
   "attachments": {},
   "cell_type": "markdown",
   "id": "living-heating",
   "metadata": {},
   "source": [
    "## Defining the Model (Convolutional Neural Network)\n",
    "\n",
    "In our [previous tutorial](https://jovian.ml/aakashns/04-feedforward-nn), we defined a deep neural network with fully-connected layers using `nn.Linear`. For this tutorial however, we will use a convolutional neural network, using the `nn.Conv2d` class from PyTorch.\n",
    "\n",
    "> The 2D convolution is a fairly simple operation at heart: you start with a kernel, which is simply a small matrix of weights. This kernel “slides” over the 2D input data, performing an elementwise multiplication with the part of the input it is currently on, and then summing up the results into a single output pixel. - [Source](https://towardsdatascience.com/intuitively-understanding-convolutions-for-deep-learning-1f6f42faee1)\n",
    "\n",
    "<img src=\"https://miro.medium.com/max/1070/1*Zx-ZMLKab7VOCQTxdZ1OAw.gif\" style=\"max-width:400px;\">\n",
    "\n",
    "\n",
    "Let us implement a convolution operation on a 1 channel image with a 3x3 kernel."
   ]
  },
  {
   "cell_type": "code",
   "execution_count": 10,
   "id": "painful-adams",
   "metadata": {},
   "outputs": [],
   "source": [
    "\"\"\" Remains the kernel shape \"\"\"\n",
    "def apply_kernel(image, kernel):\n",
    "    rows_img, columns_img = image.shape\n",
    "    rows_ker, columns_ker = kernel.shape\n",
    "    output_rows = rows_img - rows_ker + 1\n",
    "    output_cols = columns_img - columns_ker + 1\n",
    "    output = torch.zeros([output_rows, output_cols])\n",
    "    \n",
    "    for i in range(output_rows): \n",
    "        for j in range(output_cols):\n",
    "            output[i,j] = torch.sum(image[i:i+rows_ker,j:j+columns_ker] * kernel)\n",
    "    return output"
   ]
  },
  {
   "cell_type": "code",
   "execution_count": 11,
   "id": "subjective-tablet",
   "metadata": {},
   "outputs": [
    {
     "name": "stdout",
     "output_type": "stream",
     "text": [
      "tensor([[12., 12., 17.],\n",
      "        [10., 17., 19.],\n",
      "        [ 9.,  6., 14.]])\n"
     ]
    }
   ],
   "source": [
    "sample_image = torch.tensor([\n",
    "                            [3, 3, 2, 1, 0], \n",
    "                            [0, 0, 1, 3, 1], \n",
    "                            [3, 1, 2, 2, 3], \n",
    "                            [2, 0, 0, 2, 2], \n",
    "                            [2, 0, 0, 0, 1]\n",
    "                            ])\n",
    "sample_kernel = torch.tensor([\n",
    "                             [0, 1, 2], \n",
    "                             [2, 2, 0], \n",
    "                             [0, 1, 2]\n",
    "                             ])\n",
    "\n",
    "out = apply_kernel(sample_image, sample_kernel)\n",
    "print(out)"
   ]
  },
  {
   "attachments": {},
   "cell_type": "markdown",
   "id": "strategic-simon",
   "metadata": {},
   "source": [
    "For multi-channel images, a different kernel is applied to each channels, and the outputs are added together pixel-wise. \n",
    "\n",
    "Checking out the following articles to gain a better understanding of convolutions:\n",
    "\n",
    "1. [Intuitively understanding Convolutions for Deep Learning](https://towardsdatascience.com/intuitively-understanding-convolutions-for-deep-learning-1f6f42faee1) by Irhum Shafkat\n",
    "2. [Convolutions in Depth](https://sgugger.github.io/convolution-in-depth.html) by Sylvian Gugger (this article implements convolutions from scratch)\n",
    "\n",
    "There are certain advantages offered by convolutional layers when working with image data:\n",
    "\n",
    "* **Fewer parameters**: A small set of parameters (the kernel) is used to calculate outputs of the entire image, so the model has much fewer parameters compared to a fully connected layer. \n",
    "* **Sparsity of connections**: In each layer, each output element only depends on a small number of input elements, which makes the forward and backward passes more efficient.\n",
    "* **Parameter sharing and spatial invariance**: The features learned by a kernel in one part of the image can be used to detect similar pattern in a different part of another image.\n",
    "\n",
    "We will also use a [max-pooling](https://computersciencewiki.org/index.php/Max-pooling_/_Pooling) layers to progressively decrease the height & width of the output tensors from each convolutional layer.\n",
    "\n",
    "<img src=\"https://computersciencewiki.org/images/8/8a/MaxpoolSample2.png\" style=\"max-width:400px;\">\n",
    "\n",
    "Before we define the entire model, let's look at how a single convolutional layer followed by a max-pooling layer operates on the data."
   ]
  },
  {
   "cell_type": "code",
   "execution_count": 12,
   "id": "imported-alloy",
   "metadata": {},
   "outputs": [],
   "source": [
    "\"\"\" Channels, Output Channels \"\"\"\n",
    "simple_model = nn.Sequential(\n",
    "    nn.Conv2d(3, 8, kernel_size=3, stride=1, padding=1),\n",
    "    nn.MaxPool2d(2, 2)\n",
    ")"
   ]
  },
  {
   "cell_type": "code",
   "execution_count": 13,
   "id": "optical-cheese",
   "metadata": {},
   "outputs": [
    {
     "name": "stdout",
     "output_type": "stream",
     "text": [
      "torch.Size([64, 3, 32, 32])\n",
      "torch.Size([64, 8, 16, 16])\n"
     ]
    }
   ],
   "source": [
    "for images, labels in train_dl:\n",
    "    print(images.shape)\n",
    "    out = simple_model(images)\n",
    "    print(out.shape)\n",
    "    break"
   ]
  },
  {
   "attachments": {},
   "cell_type": "markdown",
   "id": "spanish-youth",
   "metadata": {},
   "source": [
    "The `Conv2d` layer transforms a 3-channel image to a 16-channel *feature map*, and the `MaxPool2d` layer halves the height and width. The feature map gets smaller as we add more layers, until we are finally left with a small feature map, which can be flattened into a vector. We can then add some fully connected layers at the end to get vector of size 10 for each image.\n",
    "\n",
    "<img src=\"https://i.imgur.com/KKtPOKE.png\" style=\"max-width:540px\">\n",
    "\n",
    "Let's define the model by extending an `ImageClassificationBase` class which contains helper methods for training & validation."
   ]
  },
  {
   "cell_type": "code",
   "execution_count": 14,
   "id": "rocky-religious",
   "metadata": {},
   "outputs": [],
   "source": [
    "def accuracy(model_outputs, actual_outputs):\n",
    "    _, preds = torch.max(model_outputs, dim=1)\n",
    "    return (preds == actual_outputs).sum().item() / preds.numel()"
   ]
  },
  {
   "cell_type": "code",
   "execution_count": 17,
   "id": "conscious-paraguay",
   "metadata": {},
   "outputs": [],
   "source": [
    "class ImageClassificationBase(nn.Module):\n",
    "    def training_step(self, training_batch):\n",
    "        input_batch, output_batch = training_batch\n",
    "        outputs = self(input_batch)\n",
    "        loss = F.cross_entropy(outputs, output_batch)\n",
    "        return loss\n",
    "    \n",
    "    def validation_step(self, validation_batch):\n",
    "        input_batch, output_batch = validation_batch\n",
    "        outputs = self(input_batch)\n",
    "        loss = F.cross_entropy(outputs, output_batch).item()\n",
    "        acc = accuracy(outputs, output_batch)\n",
    "        return {\"valid_batch_loss\": loss, \"valid_batch_acc\": acc}\n",
    "    \n",
    "    def validation_end(self, valid_batches_results):\n",
    "        avg_loss = torch.tensor([x[\"valid_batch_loss\"] for x in valid_batches_results]).mean().item()\n",
    "        avg_acc = torch.tensor([x[\"valid_batch_acc\"] for x in valid_batches_results]).mean().item()\n",
    "        return {\"valid_loss\": avg_loss, \"valid_acc\": avg_acc}\n",
    "    \n",
    "    def epoch_end(self, epoch, valid_results):\n",
    "        print({\"Epoch\": epoch+1, \"Train Loss\": valid_results[\"Train Loss\"], \"Loss\": valid_results[\"valid_loss\"], \"Acc\": valid_results[\"valid_acc\"] * 100})\n",
    "        return {\"Epoch\": epoch+1, \"Train Loss\": valid_results[\"Train Loss\"], \"Loss\": valid_results[\"valid_loss\"], \"Acc\": valid_results[\"valid_acc\"] * 100}"
   ]
  },
  {
   "attachments": {},
   "cell_type": "markdown",
   "id": "further-gossip",
   "metadata": {},
   "source": [
    "We'll use `nn.Sequential` to chain the layers and activations functions into a single network architecture."
   ]
  },
  {
   "cell_type": "code",
   "execution_count": 18,
   "id": "grand-improvement",
   "metadata": {},
   "outputs": [],
   "source": [
    "class Cifar10Cnn(ImageClassificationBase):\n",
    "    def __init__(self):\n",
    "        super().__init__()\n",
    "        self.network = nn.Sequential(\n",
    "            nn.Conv2d(3, 32, kernel_size=3, stride=1, padding=1),\n",
    "            nn.ReLU(),\n",
    "            nn.Conv2d(32, 64, kernel_size=3, stride=1, padding=1),\n",
    "            nn.ReLU(),\n",
    "            nn.MaxPool2d(2, 2), # Output: 64x16x16\n",
    "            \n",
    "            nn.Conv2d(64, 128, kernel_size=3, stride=1, padding=1),\n",
    "            nn.ReLU(),\n",
    "            nn.Conv2d(128, 128, kernel_size=3, stride=1, padding=1),\n",
    "            nn.ReLU(),\n",
    "            nn.MaxPool2d(2, 2), # Output: 128x8x8\n",
    "            \n",
    "            nn.Conv2d(128, 256, kernel_size=3, stride=1, padding=1),\n",
    "            nn.ReLU(),\n",
    "            nn.Conv2d(256, 256, kernel_size=3, stride=1, padding=1),\n",
    "            nn.ReLU(),\n",
    "            nn.MaxPool2d(2, 2), # Output: 256x4x4\n",
    "            \n",
    "            nn.Flatten(),\n",
    "            nn.Linear(256*4*4, 1024),\n",
    "            nn.ReLU(),\n",
    "            nn.Linear(1024, 512),\n",
    "            nn.ReLU(),\n",
    "            nn.Linear(512, 10))\n",
    "        \n",
    "    def __call__(self, input_batch):\n",
    "        return self.network(input_batch)"
   ]
  },
  {
   "cell_type": "code",
   "execution_count": 19,
   "id": "overhead-frontier",
   "metadata": {},
   "outputs": [
    {
     "name": "stdout",
     "output_type": "stream",
     "text": [
      "Cifar10Cnn(\n",
      "  (network): Sequential(\n",
      "    (0): Conv2d(3, 32, kernel_size=(3, 3), stride=(1, 1), padding=(1, 1))\n",
      "    (1): ReLU()\n",
      "    (2): Conv2d(32, 64, kernel_size=(3, 3), stride=(1, 1), padding=(1, 1))\n",
      "    (3): ReLU()\n",
      "    (4): MaxPool2d(kernel_size=2, stride=2, padding=0, dilation=1, ceil_mode=False)\n",
      "    (5): Conv2d(64, 128, kernel_size=(3, 3), stride=(1, 1), padding=(1, 1))\n",
      "    (6): ReLU()\n",
      "    (7): Conv2d(128, 128, kernel_size=(3, 3), stride=(1, 1), padding=(1, 1))\n",
      "    (8): ReLU()\n",
      "    (9): MaxPool2d(kernel_size=2, stride=2, padding=0, dilation=1, ceil_mode=False)\n",
      "    (10): Conv2d(128, 256, kernel_size=(3, 3), stride=(1, 1), padding=(1, 1))\n",
      "    (11): ReLU()\n",
      "    (12): Conv2d(256, 256, kernel_size=(3, 3), stride=(1, 1), padding=(1, 1))\n",
      "    (13): ReLU()\n",
      "    (14): MaxPool2d(kernel_size=2, stride=2, padding=0, dilation=1, ceil_mode=False)\n",
      "    (15): Flatten(start_dim=1, end_dim=-1)\n",
      "    (16): Linear(in_features=4096, out_features=1024, bias=True)\n",
      "    (17): ReLU()\n",
      "    (18): Linear(in_features=1024, out_features=512, bias=True)\n",
      "    (19): ReLU()\n",
      "    (20): Linear(in_features=512, out_features=10, bias=True)\n",
      "  )\n",
      ")\n"
     ]
    }
   ],
   "source": [
    "model = Cifar10Cnn()\n",
    "print(model)"
   ]
  },
  {
   "attachments": {},
   "cell_type": "markdown",
   "id": "quick-yield",
   "metadata": {},
   "source": [
    "Let's verify that the model produces the expected output on a batch of training data. The 10 outputs for each image can be interpreted as probabilities for the 10 target classes (after applying softmax), and the class with the highest probability is chosen as the label predicted by the model for the input image. Check out [Part 3 (logistic regression)](https://jovian.ml/aakashns/03-logistic-regression#C50) for a more detailed discussion on interpeting the outputs, applying softmax and identifying the predicted labels."
   ]
  },
  {
   "cell_type": "code",
   "execution_count": 20,
   "id": "working-northern",
   "metadata": {},
   "outputs": [
    {
     "name": "stdout",
     "output_type": "stream",
     "text": [
      "images.shape: torch.Size([64, 3, 32, 32])\n",
      "out.shape: torch.Size([64, 10])\n",
      "out[0]: tensor([-0.0021, -0.0021, -0.0021,  0.0209, -0.0207, -0.0144,  0.0051, -0.0135,\n",
      "         0.0373,  0.0300], grad_fn=<SelectBackward>)\n"
     ]
    }
   ],
   "source": [
    "for images, labels in train_dl:\n",
    "    print('images.shape:', images.shape)\n",
    "    out = model(images)\n",
    "    print('out.shape:', out.shape)\n",
    "    print('out[0]:', out[0])\n",
    "    break"
   ]
  },
  {
   "attachments": {},
   "cell_type": "markdown",
   "id": "conservative-canada",
   "metadata": {},
   "source": [
    "To seamlessly use a GPU, if one is available, we define a couple of helper functions (`get_default_device` & `to_device`) and a helper class `DeviceDataLoader` to move our model & data to the GPU as required. These are described in more detail in the [previous tutorial](https://jovian.ml/aakashns/04-feedforward-nn#C21)."
   ]
  },
  {
   "cell_type": "code",
   "execution_count": 21,
   "id": "emerging-catholic",
   "metadata": {},
   "outputs": [],
   "source": [
    "def get_default_device():\n",
    "    if torch.cuda.is_available():\n",
    "        return torch.device(\"cuda\")\n",
    "    return torch.device(\"cpu\")\n",
    "\n",
    "\n",
    "def to_device(data, device):\n",
    "    if isinstance(data, (list, tuple)):\n",
    "        temp = []\n",
    "        for d in data:\n",
    "            temp.append(d.to(device, non_blocking=True))\n",
    "        return temp\n",
    "    return data.to(device, non_blocking=True)\n",
    "\n",
    "\n",
    "class DeviceLoader:\n",
    "    def __init__(self, loader, device):\n",
    "        self.loader = loader\n",
    "        self.device = device\n",
    "        \n",
    "    def __iter__(self):\n",
    "        for batch in self.loader:\n",
    "            yield to_device(batch, self.device)\n",
    "            \n",
    "    def __len__(self):\n",
    "        return len(self.loader)"
   ]
  },
  {
   "attachments": {},
   "cell_type": "markdown",
   "id": "alien-comment",
   "metadata": {},
   "source": [
    "Based on where you're running this notebook, your default device could be a CPU (`torch.device('cpu')`) or a GPU (`torch.device('cuda')`)"
   ]
  },
  {
   "cell_type": "code",
   "execution_count": 22,
   "id": "sealed-penny",
   "metadata": {},
   "outputs": [
    {
     "name": "stdout",
     "output_type": "stream",
     "text": [
      "cuda\n"
     ]
    }
   ],
   "source": [
    "device = get_default_device()\n",
    "print(device)"
   ]
  },
  {
   "attachments": {},
   "cell_type": "markdown",
   "id": "incorporate-hampton",
   "metadata": {},
   "source": [
    "We can now wrap our training and validation data loaders using `DeviceDataLoader` for automatically transferring batches of data to the GPU (if available), and use `to_device` to move our model to the GPU (if available)."
   ]
  },
  {
   "cell_type": "code",
   "execution_count": 23,
   "id": "minor-looking",
   "metadata": {},
   "outputs": [
    {
     "data": {
      "text/plain": [
       "Cifar10Cnn(\n",
       "  (network): Sequential(\n",
       "    (0): Conv2d(3, 32, kernel_size=(3, 3), stride=(1, 1), padding=(1, 1))\n",
       "    (1): ReLU()\n",
       "    (2): Conv2d(32, 64, kernel_size=(3, 3), stride=(1, 1), padding=(1, 1))\n",
       "    (3): ReLU()\n",
       "    (4): MaxPool2d(kernel_size=2, stride=2, padding=0, dilation=1, ceil_mode=False)\n",
       "    (5): Conv2d(64, 128, kernel_size=(3, 3), stride=(1, 1), padding=(1, 1))\n",
       "    (6): ReLU()\n",
       "    (7): Conv2d(128, 128, kernel_size=(3, 3), stride=(1, 1), padding=(1, 1))\n",
       "    (8): ReLU()\n",
       "    (9): MaxPool2d(kernel_size=2, stride=2, padding=0, dilation=1, ceil_mode=False)\n",
       "    (10): Conv2d(128, 256, kernel_size=(3, 3), stride=(1, 1), padding=(1, 1))\n",
       "    (11): ReLU()\n",
       "    (12): Conv2d(256, 256, kernel_size=(3, 3), stride=(1, 1), padding=(1, 1))\n",
       "    (13): ReLU()\n",
       "    (14): MaxPool2d(kernel_size=2, stride=2, padding=0, dilation=1, ceil_mode=False)\n",
       "    (15): Flatten(start_dim=1, end_dim=-1)\n",
       "    (16): Linear(in_features=4096, out_features=1024, bias=True)\n",
       "    (17): ReLU()\n",
       "    (18): Linear(in_features=1024, out_features=512, bias=True)\n",
       "    (19): ReLU()\n",
       "    (20): Linear(in_features=512, out_features=10, bias=True)\n",
       "  )\n",
       ")"
      ]
     },
     "execution_count": 23,
     "metadata": {},
     "output_type": "execute_result"
    }
   ],
   "source": [
    "train_loader = DeviceLoader(train_dl, device)\n",
    "valid_loader = DeviceLoader(valid_dl, device)\n",
    "model.to(device, non_blocking=True)"
   ]
  },
  {
   "attachments": {},
   "cell_type": "markdown",
   "id": "every-investigation",
   "metadata": {},
   "source": [
    "## Training the Model\n",
    "\n",
    "We'll define two functions: `fit` and `evaluate` to train the model using gradient descent and evaluate its performance on the validation set. For a detailed walkthrough of these functions, check out the [previous tutorial](https://jovian.ai/aakashns/03-logistic-regression)."
   ]
  },
  {
   "cell_type": "code",
   "execution_count": 24,
   "id": "terminal-category",
   "metadata": {},
   "outputs": [],
   "source": [
    "def evaluate(model, validation_loader):\n",
    "    model.eval()\n",
    "    valid_results = [model.validation_step(batch) for batch in validation_loader]\n",
    "    return model.validation_end(valid_results)\n",
    "\n",
    "\n",
    "def fit(model, epochs, training_loader, validation_loader, lr, opt=OPT.SGD):\n",
    "    history = []\n",
    "    optim = opt(model.parameters(), lr=lr)\n",
    "    for epoch in range(epochs):\n",
    "        train_loss = []\n",
    "        model.train()\n",
    "        for train_batch in training_loader:\n",
    "            loss = model.training_step(train_batch)\n",
    "            train_loss.append(loss)\n",
    "            loss.backward()\n",
    "            optim.step()\n",
    "            optim.zero_grad()\n",
    "            \n",
    "        valid_results = evaluate(model, validation_loader)\n",
    "        valid_results[\"Train Loss\"] = torch.tensor(train_loss).mean().item()\n",
    "        results = model.epoch_end(epoch, valid_results)\n",
    "        history.append(results)\n",
    "        \n",
    "    return history"
   ]
  },
  {
   "cell_type": "code",
   "execution_count": null,
   "id": "judicial-decrease",
   "metadata": {},
   "outputs": [],
   "source": [
    "history = fit(model, 10, train_loader, valid_loader, 0.001, OPT.Adam)"
   ]
  },
  {
   "cell_type": "code",
   "execution_count": 25,
   "id": "technical-tablet",
   "metadata": {},
   "outputs": [
    {
     "name": "stdout",
     "output_type": "stream",
     "text": [
      "{'Epoch': 1, 'Train Loss': 1.7500957250595093, 'Loss': 1.405109167098999, 'Acc': 48.33984375}\n",
      "{'Epoch': 2, 'Train Loss': 1.224687099456787, 'Loss': 1.0826672315597534, 'Acc': 60.00000238418579}\n",
      "{'Epoch': 3, 'Train Loss': 0.9555204510688782, 'Loss': 0.9019063115119934, 'Acc': 67.1093761920929}\n",
      "{'Epoch': 4, 'Train Loss': 0.7783136963844299, 'Loss': 0.8197662234306335, 'Acc': 72.12890386581421}\n",
      "{'Epoch': 5, 'Train Loss': 0.6487556099891663, 'Loss': 0.8197605013847351, 'Acc': 73.1249988079071}\n"
     ]
    }
   ],
   "source": [
    "history = fit(model, 5, train_loader, valid_loader, 0.001, OPT.Adam)"
   ]
  },
  {
   "cell_type": "code",
   "execution_count": null,
   "id": "regular-shadow",
   "metadata": {},
   "outputs": [],
   "source": []
  }
 ],
 "metadata": {
  "kernelspec": {
   "display_name": "Python 3",
   "language": "python",
   "name": "python3"
  },
  "language_info": {
   "codemirror_mode": {
    "name": "ipython",
    "version": 3
   },
   "file_extension": ".py",
   "mimetype": "text/x-python",
   "name": "python",
   "nbconvert_exporter": "python",
   "pygments_lexer": "ipython3",
   "version": "3.8.8"
  }
 },
 "nbformat": 4,
 "nbformat_minor": 5
}
