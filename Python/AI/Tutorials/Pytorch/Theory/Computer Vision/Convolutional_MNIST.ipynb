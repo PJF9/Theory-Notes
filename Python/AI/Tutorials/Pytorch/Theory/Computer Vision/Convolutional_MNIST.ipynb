{
  "cells": [
    {
      "attachments": {},
      "cell_type": "markdown",
      "metadata": {
        "id": "P6vWZUR-pHuF"
      },
      "source": [
        "## Computer Vision\n",
        "\n",
        "In `Computer Vision` Problems we want to train a Neural Network to identify patterns in complex images and classified them into a category.\n",
        "\n",
        "As we saw, this problem we be solved using just **Linear Layers** and **Activation Functions**, but the accuracy of this type of models is relatively small.\n",
        "\n",
        "To increase the metrics of our model we use a `Convolutional Neuarl Network`.\n",
        "\n",
        "Other to solve Classification problems we can use Computer Vision (or CNNs) for **image segmentation**, meaning to find the different objects that eixsts on an image.\n",
        "\n",
        "How do we handle _computer vison_ problems?\n",
        "\n",
        "Just like any other problem:\n",
        "1. Creating/Downloading the Dataset\n",
        "2. Converting the Dataset into Tensors\n",
        "3. Splitting the Dataset into Training and Test Sets\n",
        "4. Creating the Model\n",
        "5. Training and Evaluating the Model"
      ]
    },
    {
      "attachments": {},
      "cell_type": "markdown",
      "metadata": {
        "id": "640mw6Jx-nlK"
      },
      "source": [
        "## Importing the Modules we will Need"
      ]
    },
    {
      "cell_type": "code",
      "execution_count": 1,
      "metadata": {
        "id": "Ap6ZuANN717_"
      },
      "outputs": [],
      "source": [
        "import torch\n",
        "import torch.nn as nn\n",
        "import torch.optim as opt\n",
        "from torch.utils.data import DataLoader\n",
        "from torchvision.transforms import ToTensor   # Converting PIL Image or numpy array into a Tensor\n",
        "from torchvision.datasets import FashionMNIST # The Dataset we will use (grayscale images of clothes)\n",
        "\n",
        "import matplotlib.pyplot as plt\n",
        "import pandas as pd\n",
        "\n",
        "from timeit  import default_timer as timer    # To track the time our model took to train\n",
        "from tqdm.auto import tqdm                    # To create a progress bar"
      ]
    },
    {
      "cell_type": "code",
      "execution_count": 2,
      "metadata": {
        "colab": {
          "base_uri": "https://localhost:8080/"
        },
        "id": "Kxo5esY1SYMl",
        "outputId": "7d02eb7d-907c-428f-d207-8dfad311a0e5"
      },
      "outputs": [
        {
          "name": "stdout",
          "output_type": "stream",
          "text": [
            "Looking in indexes: https://pypi.org/simple, https://us-python.pkg.dev/colab-wheels/public/simple/\n",
            "Collecting torchmetrics\n",
            "  Downloading torchmetrics-0.11.4-py3-none-any.whl (519 kB)\n",
            "\u001b[2K     \u001b[90m━━━━━━━━━━━━━━━━━━━━━━━━━━━━━━━━━━━━━━━\u001b[0m \u001b[32m519.2/519.2 KB\u001b[0m \u001b[31m4.6 MB/s\u001b[0m eta \u001b[36m0:00:00\u001b[0m\n",
            "\u001b[?25hRequirement already satisfied: numpy>=1.17.2 in /usr/local/lib/python3.9/dist-packages (from torchmetrics) (1.22.4)\n",
            "Requirement already satisfied: torch>=1.8.1 in /usr/local/lib/python3.9/dist-packages (from torchmetrics) (1.13.1+cu116)\n",
            "Requirement already satisfied: packaging in /usr/local/lib/python3.9/dist-packages (from torchmetrics) (23.0)\n",
            "Requirement already satisfied: typing-extensions in /usr/local/lib/python3.9/dist-packages (from torch>=1.8.1->torchmetrics) (4.5.0)\n",
            "Installing collected packages: torchmetrics\n",
            "Successfully installed torchmetrics-0.11.4\n",
            "Looking in indexes: https://pypi.org/simple, https://us-python.pkg.dev/colab-wheels/public/simple/\n",
            "Requirement already satisfied: mlxtend in /usr/local/lib/python3.9/dist-packages (0.14.0)\n",
            "Collecting mlxtend\n",
            "  Downloading mlxtend-0.21.0-py2.py3-none-any.whl (1.3 MB)\n",
            "\u001b[2K     \u001b[90m━━━━━━━━━━━━━━━━━━━━━━━━━━━━━━━━━━━━━━━━\u001b[0m \u001b[32m1.3/1.3 MB\u001b[0m \u001b[31m6.1 MB/s\u001b[0m eta \u001b[36m0:00:00\u001b[0m\n",
            "\u001b[?25hRequirement already satisfied: matplotlib>=3.0.0 in /usr/local/lib/python3.9/dist-packages (from mlxtend) (3.5.3)\n",
            "Requirement already satisfied: setuptools in /usr/local/lib/python3.9/dist-packages (from mlxtend) (63.4.3)\n",
            "Requirement already satisfied: joblib>=0.13.2 in /usr/local/lib/python3.9/dist-packages (from mlxtend) (1.1.1)\n",
            "Requirement already satisfied: pandas>=0.24.2 in /usr/local/lib/python3.9/dist-packages (from mlxtend) (1.4.4)\n",
            "Requirement already satisfied: scipy>=1.2.1 in /usr/local/lib/python3.9/dist-packages (from mlxtend) (1.10.1)\n",
            "Requirement already satisfied: scikit-learn>=1.0.2 in /usr/local/lib/python3.9/dist-packages (from mlxtend) (1.2.2)\n",
            "Requirement already satisfied: numpy>=1.16.2 in /usr/local/lib/python3.9/dist-packages (from mlxtend) (1.22.4)\n",
            "Requirement already satisfied: cycler>=0.10 in /usr/local/lib/python3.9/dist-packages (from matplotlib>=3.0.0->mlxtend) (0.11.0)\n",
            "Requirement already satisfied: pillow>=6.2.0 in /usr/local/lib/python3.9/dist-packages (from matplotlib>=3.0.0->mlxtend) (8.4.0)\n",
            "Requirement already satisfied: kiwisolver>=1.0.1 in /usr/local/lib/python3.9/dist-packages (from matplotlib>=3.0.0->mlxtend) (1.4.4)\n",
            "Requirement already satisfied: python-dateutil>=2.7 in /usr/local/lib/python3.9/dist-packages (from matplotlib>=3.0.0->mlxtend) (2.8.2)\n",
            "Requirement already satisfied: fonttools>=4.22.0 in /usr/local/lib/python3.9/dist-packages (from matplotlib>=3.0.0->mlxtend) (4.39.0)\n",
            "Requirement already satisfied: packaging>=20.0 in /usr/local/lib/python3.9/dist-packages (from matplotlib>=3.0.0->mlxtend) (23.0)\n",
            "Requirement already satisfied: pyparsing>=2.2.1 in /usr/local/lib/python3.9/dist-packages (from matplotlib>=3.0.0->mlxtend) (3.0.9)\n",
            "Requirement already satisfied: pytz>=2020.1 in /usr/local/lib/python3.9/dist-packages (from pandas>=0.24.2->mlxtend) (2022.7.1)\n",
            "Requirement already satisfied: threadpoolctl>=2.0.0 in /usr/local/lib/python3.9/dist-packages (from scikit-learn>=1.0.2->mlxtend) (3.1.0)\n",
            "Requirement already satisfied: six>=1.5 in /usr/local/lib/python3.9/dist-packages (from python-dateutil>=2.7->matplotlib>=3.0.0->mlxtend) (1.15.0)\n",
            "Installing collected packages: mlxtend\n",
            "  Attempting uninstall: mlxtend\n",
            "    Found existing installation: mlxtend 0.14.0\n",
            "    Uninstalling mlxtend-0.14.0:\n",
            "      Successfully uninstalled mlxtend-0.14.0\n",
            "Successfully installed mlxtend-0.21.0\n"
          ]
        }
      ],
      "source": [
        "!pip install torchmetrics\n",
        "!pip install -U mlxtend"
      ]
    },
    {
      "cell_type": "code",
      "execution_count": 3,
      "metadata": {
        "id": "7Takr7qoSg-c"
      },
      "outputs": [],
      "source": [
        "from torchmetrics import ConfusionMatrix            # For further evaluation\n",
        "from mlxtend.plotting import plot_confusion_matrix  # For plotting the confusion metrix"
      ]
    },
    {
      "attachments": {},
      "cell_type": "markdown",
      "metadata": {
        "id": "UDf2F7YVCH8i"
      },
      "source": [
        "## Downloading the Dataset"
      ]
    },
    {
      "cell_type": "code",
      "execution_count": 4,
      "metadata": {
        "colab": {
          "base_uri": "https://localhost:8080/",
          "height": 631,
          "referenced_widgets": [
            "99e39a601b5b4ee88e28c4bcac666b9b",
            "68da210fc69b4a0e9740e9ffb358b00a",
            "938de92efea543c0814848b3d1552a47",
            "8eb48f10037247669adb173265231572",
            "79fdc15a502f4e97a70d33b2ad19624c",
            "b1b2d23b00d04bff9734aad16d79cbe4",
            "6bb14264a3ae44519d650e5aaa6c1e2b",
            "e4446f63ea4247849e7ec0334d350749",
            "3cab15e390d341f5b8496e8292939ab6",
            "9b57405bd67d4f2789ddc64c45cb50ca",
            "9d517b7ec06d498bb9783d03721d9ba4",
            "1c19448f971b4ae699a3fa8d21ddb739",
            "69223f54972c464b8a16a9719aea9aff",
            "8b3aebf540ab4495916f12b15001b86e",
            "3611cc12a83f4d56acfbc5fba051faae",
            "de993698c6d44d448b08ac2a9e8d2c87",
            "a4d767763c7547379ab8e6167b1cca05",
            "20c2bff8f1e14ce48b26cb4691242d25",
            "a242a10cbe1d4739af2890f0fc33abdc",
            "e27ee723c8eb451cac027d4422fb4ab2",
            "df5ff9fb8765442fa15d325314180f29",
            "f2d42dd53b8d4ab1b056b86f8e0a92ed",
            "1d94320a4fe643489bf1b49586de8c6d",
            "0cd46aee780d4084837fcd22417c8cde",
            "12bf3040476c4272932dd6bf6a66391f",
            "cae7b1556aaa40a0b5c50210e2ad1c29",
            "4cf08759b5a74659ad88134382d7e638",
            "f8163346252b43a992d478e4f6bdc041",
            "c715b61dda6f447e8befe1ab99ca6223",
            "79387132107b417aa98f094e88ab4e4b",
            "3c06fe9985504df4913a5dff7ff2917a",
            "e7fb6bc3bc504d93a929b3681337e0d3",
            "212ed90b181e46eba9bd6f3dbd34b4a5",
            "685765ad501949e9b3ad2ca428e87389",
            "9a07b6c6cd88481bb23858ea10ac68be",
            "8c22192d9768466db348a35c19936388",
            "8f4ae4f9a02847b09531cdca96821a73",
            "db3b87b488744861b98e7e98383d910d",
            "6aca4868b57343789100b2104eabd139",
            "757d9acfe26f42bdb971765c1d2213f2",
            "4198b9e1e66e43e193239e855a95c236",
            "bdb72a6492244ad682a00e1ea4d0e777",
            "35b26162e8c84bc6a3bc5078ff125877",
            "8fdf681421184ca491fd7308352dba6b"
          ]
        },
        "id": "nc7IVDuwBRCu",
        "outputId": "53fd7796-4191-4bbe-a85e-2e73842c54e2"
      },
      "outputs": [
        {
          "name": "stdout",
          "output_type": "stream",
          "text": [
            "Downloading http://fashion-mnist.s3-website.eu-central-1.amazonaws.com/train-images-idx3-ubyte.gz\n",
            "Downloading http://fashion-mnist.s3-website.eu-central-1.amazonaws.com/train-images-idx3-ubyte.gz to /Datasets/FashionMNIST/raw/train-images-idx3-ubyte.gz\n"
          ]
        },
        {
          "data": {
            "application/vnd.jupyter.widget-view+json": {
              "model_id": "99e39a601b5b4ee88e28c4bcac666b9b",
              "version_major": 2,
              "version_minor": 0
            },
            "text/plain": [
              "  0%|          | 0/26421880 [00:00<?, ?it/s]"
            ]
          },
          "metadata": {},
          "output_type": "display_data"
        },
        {
          "name": "stdout",
          "output_type": "stream",
          "text": [
            "Extracting /Datasets/FashionMNIST/raw/train-images-idx3-ubyte.gz to /Datasets/FashionMNIST/raw\n",
            "\n",
            "Downloading http://fashion-mnist.s3-website.eu-central-1.amazonaws.com/train-labels-idx1-ubyte.gz\n",
            "Downloading http://fashion-mnist.s3-website.eu-central-1.amazonaws.com/train-labels-idx1-ubyte.gz to /Datasets/FashionMNIST/raw/train-labels-idx1-ubyte.gz\n"
          ]
        },
        {
          "data": {
            "application/vnd.jupyter.widget-view+json": {
              "model_id": "1c19448f971b4ae699a3fa8d21ddb739",
              "version_major": 2,
              "version_minor": 0
            },
            "text/plain": [
              "  0%|          | 0/29515 [00:00<?, ?it/s]"
            ]
          },
          "metadata": {},
          "output_type": "display_data"
        },
        {
          "name": "stdout",
          "output_type": "stream",
          "text": [
            "Extracting /Datasets/FashionMNIST/raw/train-labels-idx1-ubyte.gz to /Datasets/FashionMNIST/raw\n",
            "\n",
            "Downloading http://fashion-mnist.s3-website.eu-central-1.amazonaws.com/t10k-images-idx3-ubyte.gz\n",
            "Downloading http://fashion-mnist.s3-website.eu-central-1.amazonaws.com/t10k-images-idx3-ubyte.gz to /Datasets/FashionMNIST/raw/t10k-images-idx3-ubyte.gz\n"
          ]
        },
        {
          "data": {
            "application/vnd.jupyter.widget-view+json": {
              "model_id": "1d94320a4fe643489bf1b49586de8c6d",
              "version_major": 2,
              "version_minor": 0
            },
            "text/plain": [
              "  0%|          | 0/4422102 [00:00<?, ?it/s]"
            ]
          },
          "metadata": {},
          "output_type": "display_data"
        },
        {
          "name": "stdout",
          "output_type": "stream",
          "text": [
            "Extracting /Datasets/FashionMNIST/raw/t10k-images-idx3-ubyte.gz to /Datasets/FashionMNIST/raw\n",
            "\n",
            "Downloading http://fashion-mnist.s3-website.eu-central-1.amazonaws.com/t10k-labels-idx1-ubyte.gz\n",
            "Downloading http://fashion-mnist.s3-website.eu-central-1.amazonaws.com/t10k-labels-idx1-ubyte.gz to /Datasets/FashionMNIST/raw/t10k-labels-idx1-ubyte.gz\n"
          ]
        },
        {
          "data": {
            "application/vnd.jupyter.widget-view+json": {
              "model_id": "685765ad501949e9b3ad2ca428e87389",
              "version_major": 2,
              "version_minor": 0
            },
            "text/plain": [
              "  0%|          | 0/5148 [00:00<?, ?it/s]"
            ]
          },
          "metadata": {},
          "output_type": "display_data"
        },
        {
          "name": "stdout",
          "output_type": "stream",
          "text": [
            "Extracting /Datasets/FashionMNIST/raw/t10k-labels-idx1-ubyte.gz to /Datasets/FashionMNIST/raw\n",
            "\n",
            "Dataset FashionMNIST\n",
            "    Number of datapoints: 60000\n",
            "    Root location: /Datasets\n",
            "    Split: Train\n",
            "    StandardTransform\n",
            "Transform: ToTensor()\n",
            "Dataset FashionMNIST\n",
            "    Number of datapoints: 10000\n",
            "    Root location: /Datasets\n",
            "    Split: Test\n",
            "    StandardTransform\n",
            "Transform: ToTensor()\n"
          ]
        }
      ],
      "source": [
        "train_dataset = FashionMNIST(root=\"/Datasets\", download=True, train=True, transform=ToTensor())\n",
        "test_dataset = FashionMNIST(root=\"/Datasets\", download=True, train=False, transform=ToTensor())\n",
        "\n",
        "print(train_dataset)\n",
        "print(test_dataset)"
      ]
    },
    {
      "attachments": {},
      "cell_type": "markdown",
      "metadata": {
        "id": "m_EPP4SvClkc"
      },
      "source": [
        "## Understanding the Dataset"
      ]
    },
    {
      "attachments": {},
      "cell_type": "markdown",
      "metadata": {
        "id": "_aOgFNFZEuaJ"
      },
      "source": [
        "### Visualizing The Dataset as Numbers"
      ]
    },
    {
      "cell_type": "code",
      "execution_count": 5,
      "metadata": {
        "colab": {
          "base_uri": "https://localhost:8080/"
        },
        "id": "WdwZc8Q7Cnj4",
        "outputId": "42701753-8c0e-492a-cdfd-dcdb7e7e36c0"
      },
      "outputs": [
        {
          "name": "stdout",
          "output_type": "stream",
          "text": [
            "torch.Size([1, 28, 28]) 9 <class 'int'>\n",
            "tensor([0., 0., 0., 0., 0.])\n"
          ]
        }
      ],
      "source": [
        "image, label = train_dataset[0]\n",
        "\n",
        "print(image.shape, label, type(label)) # The shape is (Colour Channels, Height, Width)\n",
        "print(image[0][0][:5])                 # We see that it is actual a gray scale image"
      ]
    },
    {
      "cell_type": "code",
      "execution_count": null,
      "metadata": {
        "colab": {
          "base_uri": "https://localhost:8080/"
        },
        "id": "A7CADZImDmS1",
        "outputId": "1d1e01c6-4bc7-419d-dbf6-cb5099232307"
      },
      "outputs": [
        {
          "name": "stdout",
          "output_type": "stream",
          "text": [
            "<class 'list'> ['T-shirt/top', 'Trouser', 'Pullover', 'Dress', 'Coat', 'Sandal', 'Shirt', 'Sneaker', 'Bag', 'Ankle boot']\n"
          ]
        }
      ],
      "source": [
        "# We can get some informations about the labels of this dataset\n",
        "name_classes = train_dataset.classes\n",
        "\n",
        "print(type(name_classes), name_classes)"
      ]
    },
    {
      "cell_type": "code",
      "execution_count": null,
      "metadata": {
        "colab": {
          "base_uri": "https://localhost:8080/"
        },
        "id": "MP-GbYsZEKRn",
        "outputId": "30fa1fe4-5991-408e-f34a-f863f73f5aae"
      },
      "outputs": [
        {
          "name": "stdout",
          "output_type": "stream",
          "text": [
            "Ankle boot\n"
          ]
        }
      ],
      "source": [
        "# So the above sample of the dataset is:\n",
        "print(name_classes[label])"
      ]
    },
    {
      "attachments": {},
      "cell_type": "markdown",
      "metadata": {
        "id": "kGY9d8_kEy77"
      },
      "source": [
        "### Visualizing the Dataset as Images"
      ]
    },
    {
      "cell_type": "code",
      "execution_count": null,
      "metadata": {
        "colab": {
          "base_uri": "https://localhost:8080/",
          "height": 373
        },
        "id": "JLSd9QMrEyua",
        "outputId": "7d06e237-412a-49c3-81bf-aec3cfdcd178"
      },
      "outputs": [
        {
          "data": {
            "image/png": "[encoded data removed]",
            "text/plain": [
              "<Figure size 432x432 with 1 Axes>"
            ]
          },
          "metadata": {
            "needs_background": "light"
          },
          "output_type": "display_data"
        }
      ],
      "source": [
        "image, label = train_dataset[0]\n",
        "\n",
        "plt.figure(figsize=(6, 6))\n",
        "plt.imshow(image.squeeze(), cmap=\"gray\")\n",
        "plt.title(f\"{train_dataset.classes[label]}\")\n",
        "plt.axis(False);\n",
        "\n",
        "# We need 'squeeze()' because plt does not support colour channels in a gray scale image"
      ]
    },
    {
      "cell_type": "code",
      "execution_count": null,
      "metadata": {
        "colab": {
          "base_uri": "https://localhost:8080/",
          "height": 427
        },
        "id": "CtLVQbaTGK9e",
        "outputId": "20531b44-8b16-47c1-8388-ec5f23a47abc"
      },
      "outputs": [
        {
          "data": {
            "image/png": "[encoded data removed]",
            "text/plain": [
              "<Figure size 504x504 with 16 Axes>"
            ]
          },
          "metadata": {
            "needs_background": "light"
          },
          "output_type": "display_data"
        }
      ],
      "source": [
        "# Plotting more than one sample\n",
        "def image_grid(samples):\n",
        "    fig = plt.figure(figsize=(7, 7))\n",
        "    rows, cols = samples, samples\n",
        "    for i in range(1, rows*cols + 1):\n",
        "        random_i = torch.randint(len(train_dataset), size=(1,)).item()\n",
        "        img, label = train_dataset[random_i]\n",
        "        fig.add_subplot(rows, cols, i)\n",
        "        plt.imshow(img.squeeze(), cmap=\"gray\")\n",
        "        plt.title(f\"{train_dataset.classes[label]}\")\n",
        "        plt.axis(False);\n",
        "\n",
        "image_grid(4)"
      ]
    },
    {
      "attachments": {},
      "cell_type": "markdown",
      "metadata": {
        "id": "ULiu_WX4HpuP"
      },
      "source": [
        "## Preparing the DataLoader\n",
        "\n",
        "Now, the Dataset has the type of **FashionMNIST** Dataset. We want to convert this dataset into a Python _iterator_.\n",
        "\n",
        "For that we are going to use `DataLoader`.\n",
        "\n",
        "Each set of samples that this _iterator_ returns also called **Batches**.\n",
        "\n",
        "We split the Dataset into **Batches** due to limited memory. In large Datasets with millions of millions samples, the Dataset might not be able to be stored on a machine, so each time we are storing only a number of its samples.\n",
        "\n",
        "The second reason we want to split the Dataset into **Batches** is to give the model more chances to update its parameters pre epoch. That is a conclusion from the fact that the model only update its weights and biases when it has seen all the training dataset."
      ]
    },
    {
      "cell_type": "code",
      "execution_count": null,
      "metadata": {
        "colab": {
          "base_uri": "https://localhost:8080/"
        },
        "id": "0SG8uwdNIFw_",
        "outputId": "b2f11bee-6954-4fd2-bade-0e5615ea5825"
      },
      "outputs": [
        {
          "name": "stdout",
          "output_type": "stream",
          "text": [
            "1875 313\n"
          ]
        }
      ],
      "source": [
        "train_dl = DataLoader(dataset=train_dataset, batch_size=32, shuffle=True) # Where batch_size is the number of samples per batch\n",
        "test_dl = DataLoader(dataset=test_dataset, batch_size=32, shuffle=False)\n",
        "\n",
        "print(len(train_dl), len(test_dl))"
      ]
    },
    {
      "cell_type": "code",
      "execution_count": null,
      "metadata": {
        "colab": {
          "base_uri": "https://localhost:8080/"
        },
        "id": "85Osno7KLRY0",
        "outputId": "0690a469-3680-431b-c861-8c6767e19fc7"
      },
      "outputs": [
        {
          "name": "stdout",
          "output_type": "stream",
          "text": [
            "torch.Size([32, 1, 28, 28])\n",
            "tensor([9, 4, 6, 4, 3, 4, 4, 5, 3, 4, 6, 1, 2, 3, 0, 8, 7, 7, 3, 2, 9, 2, 5, 5,\n",
            "        9, 8, 1, 8, 2, 2, 3, 9]) torch.Size([32])\n"
          ]
        }
      ],
      "source": [
        "# Visualize the DataLoader Objects\n",
        "train_features, train_labels = next(iter(train_dl))\n",
        "\n",
        "print(train_features.shape) # Where as first dimension is 'batch_size'\n",
        "print(train_labels, train_labels.shape)"
      ]
    },
    {
      "cell_type": "code",
      "execution_count": null,
      "metadata": {
        "colab": {
          "base_uri": "https://localhost:8080/",
          "height": 264
        },
        "id": "tKwHyJaPMA-V",
        "outputId": "af6bab88-e05d-428c-c1c7-6f3c5b3cce3c"
      },
      "outputs": [
        {
          "data": {
            "image/png": "[encoded data removed]",
            "text/plain": [
              "<Figure size 432x288 with 1 Axes>"
            ]
          },
          "metadata": {
            "needs_background": "light"
          },
          "output_type": "display_data"
        }
      ],
      "source": [
        "# Visualize a sample of the first batch\n",
        "image, label = train_features[9], train_labels[9]\n",
        "\n",
        "plt.imshow(image.squeeze(), cmap=\"gray\")\n",
        "plt.title(f\"{name_classes[label]}\")\n",
        "plt.axis(False);"
      ]
    },
    {
      "attachments": {},
      "cell_type": "markdown",
      "metadata": {
        "id": "0KKpg16UMvbV"
      },
      "source": [
        "## Creating the Baseline Model\n",
        "\n",
        "Base on that Model we are going to create more powerfull models, by adding complexity to it."
      ]
    },
    {
      "attachments": {},
      "cell_type": "markdown",
      "metadata": {
        "id": "hsf90vV9NfXt"
      },
      "source": [
        "### Introduce the `nn.Flatten()` layer.\n",
        "\n",
        "This Layer is used to connect a _Convolutional_ and a _Linear_ layer. "
      ]
    },
    {
      "cell_type": "code",
      "execution_count": null,
      "metadata": {
        "colab": {
          "base_uri": "https://localhost:8080/"
        },
        "id": "MF6UxQCcNjts",
        "outputId": "66b9f7db-b579-4e6c-82fe-e97bc7df5a9c"
      },
      "outputs": [
        {
          "name": "stdout",
          "output_type": "stream",
          "text": [
            "torch.Size([1, 28, 28])\n",
            "torch.Size([1, 784])\n"
          ]
        }
      ],
      "source": [
        "flatten_model = nn.Flatten() # Initializing the Flatten Object\n",
        "\n",
        "# This layer just flatten the tensors that gets as an input\n",
        "features = train_features[0]\n",
        "print(features.shape) # [Colour Channels, Height, Width]\n",
        "\n",
        "flatten_features = flatten_model (features)\n",
        "print(flatten_features.shape) # [Colour Channels, Height*Width]"
      ]
    },
    {
      "cell_type": "code",
      "execution_count": null,
      "metadata": {
        "id": "-BWzmVZ3Mwwo"
      },
      "outputs": [],
      "source": [
        "# 0. Linear with no Activation Model\n",
        "class FashionMNIST_ModelV0(nn.Module):\n",
        "    def __init__(self, input_shape, hidden_units, output_shape):\n",
        "        super().__init__()\n",
        "\n",
        "        self.layer_stack = nn.Sequential(\n",
        "            nn.Flatten(),\n",
        "            nn.Linear(in_features=input_shape, out_features=hidden_units),\n",
        "            nn.Linear(in_features=hidden_units, out_features=output_shape)\n",
        "        )\n",
        "\n",
        "    def forward(self, x):\n",
        "        return self.layer_stack(x)"
      ]
    },
    {
      "attachments": {},
      "cell_type": "markdown",
      "metadata": {
        "id": "YokKK4YIPfB9"
      },
      "source": [
        "### Initializing the Baseline Model"
      ]
    },
    {
      "cell_type": "code",
      "execution_count": null,
      "metadata": {
        "colab": {
          "base_uri": "https://localhost:8080/"
        },
        "id": "b4WRZoDhPhRu",
        "outputId": "f0088651-bc4b-4658-caf4-0bc0fd61109c"
      },
      "outputs": [
        {
          "name": "stdout",
          "output_type": "stream",
          "text": [
            "FashionMNIST_ModelV0(\n",
            "  (layer_stack): Sequential(\n",
            "    (0): Flatten(start_dim=1, end_dim=-1)\n",
            "    (1): Linear(in_features=784, out_features=64, bias=True)\n",
            "    (2): Linear(in_features=64, out_features=10, bias=True)\n",
            "  )\n",
            ")\n"
          ]
        }
      ],
      "source": [
        "modelv0 = FashionMNIST_ModelV0(28*28, 64, len(name_classes))\n",
        "\n",
        "print(modelv0)"
      ]
    },
    {
      "attachments": {},
      "cell_type": "markdown",
      "metadata": {
        "id": "MP0rXKF5QFEd"
      },
      "source": [
        "### Understanding the Logits of the Model"
      ]
    },
    {
      "cell_type": "code",
      "execution_count": null,
      "metadata": {
        "colab": {
          "base_uri": "https://localhost:8080/"
        },
        "id": "-jP63W72P7vv",
        "outputId": "010a06f6-9522-41cc-b0e7-500e2cb19f9e"
      },
      "outputs": [
        {
          "name": "stdout",
          "output_type": "stream",
          "text": [
            "tensor([[-0.5546, -0.1759, -0.6263,  0.1378,  0.0048, -0.7362, -0.3052, -0.4323,\n",
            "         -0.2305, -0.3331]])\n"
          ]
        }
      ],
      "source": [
        "## Creating a dummy input:\n",
        "dummy_input = torch.randn(size=(1, 1, 28, 28))\n",
        "\n",
        "modelv0.eval()\n",
        "with torch.inference_mode():\n",
        "    logits = modelv0(dummy_input)\n",
        "\n",
        "print(logits)"
      ]
    },
    {
      "cell_type": "code",
      "execution_count": null,
      "metadata": {
        "colab": {
          "base_uri": "https://localhost:8080/"
        },
        "id": "tIkq8RZbQ3c1",
        "outputId": "b1200596-8187-4aa4-b43d-00183a8fa053"
      },
      "outputs": [
        {
          "name": "stdout",
          "output_type": "stream",
          "text": [
            "tensor([[0.0768, 0.1122, 0.0715, 0.1535, 0.1344, 0.0641, 0.0986, 0.0868, 0.1062,\n",
            "         0.0959]])\n",
            "tensor([3])\n"
          ]
        }
      ],
      "source": [
        "# Converting those logits into labels\n",
        "probs = torch.softmax(logits, dim=1)\n",
        "print(probs)\n",
        "\n",
        "labels = torch.softmax(logits, dim=1).argmax(dim=1)\n",
        "print(labels)"
      ]
    },
    {
      "attachments": {},
      "cell_type": "markdown",
      "metadata": {
        "id": "KoyAwIiMRS_l"
      },
      "source": [
        "## Creating the Training and Evaluating Loop"
      ]
    },
    {
      "cell_type": "code",
      "execution_count": null,
      "metadata": {
        "id": "WGuJcskTRVYm"
      },
      "outputs": [],
      "source": [
        "def fit(model, epochs, train_dl, test_dl, loss_fn, accuracy_fn, optimizer):\n",
        "    losses, accs = [], []\n",
        "    start_time = timer()\n",
        "\n",
        "    # With device.type we can access the name of a pytorch device    \n",
        "    train_device = \"cuda\" if next(model.parameters()).device.type == torch.device(\"cuda\").type else \"cpu\"\n",
        "\n",
        "    print(\"Starting Process:\")\n",
        "\n",
        "    for epoch in tqdm(range(1, epochs + 1)):\n",
        "        # Iterate over the batches of the training data loader\n",
        "        for batch, (x_train, y_train) in enumerate(train_dl, start=1):\n",
        "\n",
        "            # Moving batches to device\n",
        "            x_train, y_train = x_train.to(torch.device(train_device)), y_train.to(torch.device(train_device))\n",
        "\n",
        "            model.train()\n",
        "            \n",
        "            train_logits = model(x_train)\n",
        "            train_loss = loss_fn(train_logits, y_train)\n",
        "\n",
        "            optimizer.zero_grad()\n",
        "            train_loss.backward() # Backpropagation\n",
        "            optimizer.step()      # Gradient Descent\n",
        "\n",
        "            if batch % (int(len(train_dl) / 4)) == 0:\n",
        "                print(f\"\\tLooked at: {batch*len(x_train)}/{len(train_dl)*len(x_train)} training bathces.\")\n",
        "\n",
        "        # Initizlizing the batch evaluating variables\n",
        "        batch_loss, batch_acc = 0, 0\n",
        "\n",
        "        model.eval()\n",
        "        with torch.inference_mode():\n",
        "            # Iterate over the batches of the test data loader\n",
        "            for x_test, y_test in test_dl:\n",
        "\n",
        "                # Moving batches to device\n",
        "                x_test, y_test = x_test.to(torch.device(train_device)), y_test.to(torch.device(train_device))\n",
        "\n",
        "                test_logits = model(x_test)\n",
        "                \n",
        "                # Calclating the Metrics\n",
        "                batch_loss += loss_fn(test_logits, y_test)\n",
        "                batch_acc += accuracy_fn(torch.softmax(test_logits, dim=1).argmax(dim=1), y_test)\n",
        "            \n",
        "            batch_loss /= len(test_dl)\n",
        "            batch_acc /= len(test_dl)\n",
        "\n",
        "            losses.append(batch_loss)\n",
        "            accs.append(batch_acc)\n",
        "\n",
        "        print(f\"-> Epoch: {epoch} | Loss: {batch_loss:.4f} | Acc: {batch_acc*100:.2f}%\")\n",
        "\n",
        "    return losses, accs, {\"model_name\": model.__class__.__name__,\n",
        "                          \"model_loss\": batch_loss.item(),\n",
        "                          \"model_acc(%)\": batch_acc,\n",
        "                          \"model_device\": train_device,\n",
        "                          \"model_time\": timer() - start_time}"
      ]
    },
    {
      "attachments": {},
      "cell_type": "markdown",
      "metadata": {
        "id": "GmzOESYWR1LG"
      },
      "source": [
        "## Setting up Loss Function, Evaluation Metric and Optimizer"
      ]
    },
    {
      "cell_type": "code",
      "execution_count": null,
      "metadata": {
        "id": "2vrIU5mER4EK"
      },
      "outputs": [],
      "source": [
        "loss_fn = nn.CrossEntropyLoss()\n",
        "optimizer = opt.SGD(modelv0.parameters(), lr = 0.1)"
      ]
    },
    {
      "cell_type": "code",
      "execution_count": null,
      "metadata": {
        "id": "ihaGiDwkc1Pt"
      },
      "outputs": [],
      "source": [
        "def accuracy_fn(preds, labels):\n",
        "    return torch.sum(preds == labels).item() / len(labels)"
      ]
    },
    {
      "attachments": {},
      "cell_type": "markdown",
      "metadata": {
        "id": "iDrB7J8ub751"
      },
      "source": [
        "## Training the Model"
      ]
    },
    {
      "cell_type": "code",
      "execution_count": null,
      "metadata": {
        "colab": {
          "base_uri": "https://localhost:8080/",
          "height": 500,
          "referenced_widgets": [
            "dcf95546500f42069967d5adc9502dae",
            "a7e5ec99ac9e4dffa47df47527eff84d",
            "c268ec99a9454d29aa23b88493da8200",
            "2cb5bcd61241465da3ad9075ad56a530",
            "8d32006beb5746a6a281835871702162",
            "be8bef3688b541a0b525b5340d9a5a77",
            "c562272abd0d487a85356cf086a6a2e0",
            "d6d5dab23a524de1a5125e67c8406bc1",
            "a9875e57a43e409f82648886a586d2a1",
            "05e781eeaa3e455f9d5e629c4908222c",
            "670dc1e870c845bbb02b6766c8c27471"
          ]
        },
        "id": "pSAsXJOXb9Tq",
        "outputId": "63abbe28-ec4f-4641-c638-d66f2602b2c4"
      },
      "outputs": [
        {
          "name": "stdout",
          "output_type": "stream",
          "text": [
            "Starting Process:\n"
          ]
        },
        {
          "data": {
            "application/vnd.jupyter.widget-view+json": {
              "model_id": "dcf95546500f42069967d5adc9502dae",
              "version_major": 2,
              "version_minor": 0
            },
            "text/plain": [
              "  0%|          | 0/5 [00:00<?, ?it/s]"
            ]
          },
          "metadata": {},
          "output_type": "display_data"
        },
        {
          "name": "stdout",
          "output_type": "stream",
          "text": [
            "\tLooked at: 14976/60000 training bathces.\n",
            "\tLooked at: 29952/60000 training bathces.\n",
            "\tLooked at: 44928/60000 training bathces.\n",
            "\tLooked at: 59904/60000 training bathces.\n",
            "-> Epoch: 1 | Loss: 0.5238 | Acc: 81.29%\n",
            "\tLooked at: 14976/60000 training bathces.\n",
            "\tLooked at: 29952/60000 training bathces.\n",
            "\tLooked at: 44928/60000 training bathces.\n",
            "\tLooked at: 59904/60000 training bathces.\n",
            "-> Epoch: 2 | Loss: 0.4747 | Acc: 83.36%\n",
            "\tLooked at: 14976/60000 training bathces.\n",
            "\tLooked at: 29952/60000 training bathces.\n",
            "\tLooked at: 44928/60000 training bathces.\n",
            "\tLooked at: 59904/60000 training bathces.\n",
            "-> Epoch: 3 | Loss: 0.4910 | Acc: 83.02%\n",
            "\tLooked at: 14976/60000 training bathces.\n",
            "\tLooked at: 29952/60000 training bathces.\n",
            "\tLooked at: 44928/60000 training bathces.\n",
            "\tLooked at: 59904/60000 training bathces.\n",
            "-> Epoch: 4 | Loss: 0.4711 | Acc: 83.60%\n",
            "\tLooked at: 14976/60000 training bathces.\n",
            "\tLooked at: 29952/60000 training bathces.\n",
            "\tLooked at: 44928/60000 training bathces.\n",
            "\tLooked at: 59904/60000 training bathces.\n",
            "-> Epoch: 5 | Loss: 0.4700 | Acc: 83.34%\n"
          ]
        }
      ],
      "source": [
        "loss1, acc1, results1 = fit(modelv0, 5, train_dl, test_dl, loss_fn, accuracy_fn, optimizer)"
      ]
    },
    {
      "attachments": {},
      "cell_type": "markdown",
      "metadata": {
        "id": "LeG-n2FzhsZW"
      },
      "source": [
        "## Caclulating Baseline Model Results "
      ]
    },
    {
      "cell_type": "code",
      "execution_count": null,
      "metadata": {
        "colab": {
          "base_uri": "https://localhost:8080/"
        },
        "id": "VqE3r1pZhrQd",
        "outputId": "fc6d768a-67f2-44ae-89ca-6da83099283a"
      },
      "outputs": [
        {
          "name": "stdout",
          "output_type": "stream",
          "text": [
            "{'model_name': 'FashionMNIST_ModelV0', 'model_loss': 0.46997973322868347, 'model_acc(%)': 0.8333666134185304, 'model_device': 'cpu', 'model_time': 65.11041171700003}\n"
          ]
        }
      ],
      "source": [
        "print(results1)"
      ]
    },
    {
      "attachments": {},
      "cell_type": "markdown",
      "metadata": {
        "id": "mt9KGADQidBO"
      },
      "source": [
        "## Improve the Baseline Model"
      ]
    },
    {
      "attachments": {},
      "cell_type": "markdown",
      "metadata": {
        "id": "7El4Uvd-inrF"
      },
      "source": [
        "### 1) Train on GPU"
      ]
    },
    {
      "attachments": {},
      "cell_type": "markdown",
      "metadata": {
        "id": "AV35_Ftoi0Ln"
      },
      "source": [
        "#### Setting up Device Agnostic Code"
      ]
    },
    {
      "cell_type": "code",
      "execution_count": null,
      "metadata": {
        "colab": {
          "base_uri": "https://localhost:8080/"
        },
        "id": "Mn90vNGBi3bO",
        "outputId": "3d3932cb-477a-4407-eda1-07496c2fc249"
      },
      "outputs": [
        {
          "name": "stdout",
          "output_type": "stream",
          "text": [
            "cpu\n"
          ]
        }
      ],
      "source": [
        "device = torch.device(\"cuda\" if torch.cuda.is_available() else \"cpu\")\n",
        "\n",
        "print(device)"
      ]
    },
    {
      "attachments": {},
      "cell_type": "markdown",
      "metadata": {
        "id": "O9yFPci5nzDW"
      },
      "source": [
        "#### Creating a Model that uses non-linearities and is trained on GPU"
      ]
    },
    {
      "cell_type": "code",
      "execution_count": null,
      "metadata": {
        "id": "XzC_-Djri9KC"
      },
      "outputs": [],
      "source": [
        "class FashionMNIST_ModelV1(nn.Module):\n",
        "    def __init__(self, input_shape, hidden_units, output_shape):\n",
        "        super().__init__()\n",
        "\n",
        "        self.layer_stack = nn.Sequential(\n",
        "            nn.Flatten(),\n",
        "            nn.Linear(in_features=input_shape, out_features=hidden_units),\n",
        "            nn.ReLU(),\n",
        "            nn.Linear(in_features=hidden_units, out_features=output_shape)\n",
        "        )\n",
        "\n",
        "    def forward(self, x):\n",
        "        return self.layer_stack(x)"
      ]
    },
    {
      "attachments": {},
      "cell_type": "markdown",
      "metadata": {
        "id": "XoMX_CbpooCd"
      },
      "source": [
        "#### Initialize the New Modelk"
      ]
    },
    {
      "cell_type": "code",
      "execution_count": null,
      "metadata": {
        "colab": {
          "base_uri": "https://localhost:8080/"
        },
        "id": "lPL99E_KoLPh",
        "outputId": "35ca9a7a-1de8-45e5-d538-ad397aef3630"
      },
      "outputs": [
        {
          "name": "stdout",
          "output_type": "stream",
          "text": [
            "FashionMNIST_ModelV1(\n",
            "  (layer_stack): Sequential(\n",
            "    (0): Flatten(start_dim=1, end_dim=-1)\n",
            "    (1): Linear(in_features=784, out_features=64, bias=True)\n",
            "    (2): ReLU()\n",
            "    (3): Linear(in_features=64, out_features=10, bias=True)\n",
            "  )\n",
            ")\n"
          ]
        }
      ],
      "source": [
        "modelv1 = FashionMNIST_ModelV1(28*28, 64, len(name_classes)).to(device)\n",
        "\n",
        "print(modelv1)"
      ]
    },
    {
      "attachments": {},
      "cell_type": "markdown",
      "metadata": {
        "id": "zeXVhSDxperw"
      },
      "source": [
        "#### Setting up Loss Functionand Optimizer"
      ]
    },
    {
      "cell_type": "code",
      "execution_count": null,
      "metadata": {
        "id": "qKd8k25WpDcX"
      },
      "outputs": [],
      "source": [
        "loss_fn = nn.CrossEntropyLoss()\n",
        "optimizer = opt.SGD(modelv1.parameters(), lr=0.1)"
      ]
    },
    {
      "attachments": {},
      "cell_type": "markdown",
      "metadata": {
        "id": "ntg1AtQNqK5z"
      },
      "source": [
        "#### Training the Model"
      ]
    },
    {
      "cell_type": "code",
      "execution_count": null,
      "metadata": {
        "colab": {
          "base_uri": "https://localhost:8080/",
          "height": 500,
          "referenced_widgets": [
            "34acac6af54848e08c659d35ec3a0904",
            "37a46cb7b93a434f9c6252097891b829",
            "6b7a991917604ff7ac2c5d0b1d961b4b",
            "5d7b5ef128ae462e86297e2b3a556561",
            "e29326e2e14d4c6a8f6522c8ce5677f0",
            "418966eb21c64f66b11403dcaefb972c",
            "73e9623abc7441eba3c41d8bc4f5bca5",
            "843788282dfe44daa21b124bc823dd55",
            "2c57df561c6946789e4467dd2484b46f",
            "f8bcf85dbd47445d84d0799d141ef602",
            "d22e2c4665884bd7aadc3dbfbeedafa5"
          ]
        },
        "id": "U__az49lqGYe",
        "outputId": "0eae77fd-a92c-42ae-823d-482a463deddd"
      },
      "outputs": [
        {
          "name": "stdout",
          "output_type": "stream",
          "text": [
            "Starting Process:\n"
          ]
        },
        {
          "data": {
            "application/vnd.jupyter.widget-view+json": {
              "model_id": "34acac6af54848e08c659d35ec3a0904",
              "version_major": 2,
              "version_minor": 0
            },
            "text/plain": [
              "  0%|          | 0/5 [00:00<?, ?it/s]"
            ]
          },
          "metadata": {},
          "output_type": "display_data"
        },
        {
          "name": "stdout",
          "output_type": "stream",
          "text": [
            "\tLooked at: 14976/60000 training bathces.\n",
            "\tLooked at: 29952/60000 training bathces.\n",
            "\tLooked at: 44928/60000 training bathces.\n",
            "\tLooked at: 59904/60000 training bathces.\n",
            "-> Epoch: 1 | Loss: 0.4929 | Acc: 82.14%\n",
            "\tLooked at: 14976/60000 training bathces.\n",
            "\tLooked at: 29952/60000 training bathces.\n",
            "\tLooked at: 44928/60000 training bathces.\n",
            "\tLooked at: 59904/60000 training bathces.\n",
            "-> Epoch: 2 | Loss: 0.4224 | Acc: 85.26%\n",
            "\tLooked at: 14976/60000 training bathces.\n",
            "\tLooked at: 29952/60000 training bathces.\n",
            "\tLooked at: 44928/60000 training bathces.\n",
            "\tLooked at: 59904/60000 training bathces.\n",
            "-> Epoch: 3 | Loss: 0.3787 | Acc: 86.32%\n",
            "\tLooked at: 14976/60000 training bathces.\n",
            "\tLooked at: 29952/60000 training bathces.\n",
            "\tLooked at: 44928/60000 training bathces.\n",
            "\tLooked at: 59904/60000 training bathces.\n",
            "-> Epoch: 4 | Loss: 0.3912 | Acc: 85.30%\n",
            "\tLooked at: 14976/60000 training bathces.\n",
            "\tLooked at: 29952/60000 training bathces.\n",
            "\tLooked at: 44928/60000 training bathces.\n",
            "\tLooked at: 59904/60000 training bathces.\n",
            "-> Epoch: 5 | Loss: 0.3554 | Acc: 86.85%\n"
          ]
        }
      ],
      "source": [
        "loss2, acc2, res2 = fit(modelv1, 5, train_dl, test_dl, loss_fn, accuracy_fn, optimizer)"
      ]
    },
    {
      "attachments": {},
      "cell_type": "markdown",
      "metadata": {
        "id": "1mkIsJnrtWtf"
      },
      "source": [
        "#### Calculating Models Results"
      ]
    },
    {
      "cell_type": "code",
      "execution_count": null,
      "metadata": {
        "colab": {
          "base_uri": "https://localhost:8080/"
        },
        "id": "6Jt2J45ItU0g",
        "outputId": "6cbc72e4-d802-4262-c3cf-e1acdc7fe779"
      },
      "outputs": [
        {
          "name": "stdout",
          "output_type": "stream",
          "text": [
            "{'model_name': 'FashionMNIST_ModelV1', 'model_loss': 0.35536879301071167, 'model_acc(%)': 0.8685103833865815, 'model_device': 'cpu', 'model_time': 59.53891304199999}\n"
          ]
        }
      ],
      "source": [
        "print(res2)"
      ]
    },
    {
      "attachments": {},
      "cell_type": "markdown",
      "metadata": {
        "id": "97ezBbExvNUT"
      },
      "source": [
        "We can notice a slightly decrease in the training time of the two models. Thats due to the relatively small dataset and the small shape of the features. As we adding more layers to the model, this difference is going to increase as well."
      ]
    },
    {
      "attachments": {},
      "cell_type": "markdown",
      "metadata": {
        "id": "J8sbtVG8wU_4"
      },
      "source": [
        "### 2) Using CNN and GPU"
      ]
    },
    {
      "attachments": {},
      "cell_type": "markdown",
      "metadata": {
        "id": "ZoUMNPeW3OcG"
      },
      "source": [
        "#### Understanding Convolution\n",
        "\n",
        "Takes as an argument a batch of data."
      ]
    },
    {
      "cell_type": "code",
      "execution_count": null,
      "metadata": {
        "colab": {
          "base_uri": "https://localhost:8080/"
        },
        "id": "3AU50JCR3KJ3",
        "outputId": "859f56e6-dd1e-46f3-c9d3-7bac65814782"
      },
      "outputs": [
        {
          "name": "stdout",
          "output_type": "stream",
          "text": [
            "torch.Size([32, 3, 64, 64])\n"
          ]
        }
      ],
      "source": [
        "# Creating some dummy data (with 3 colour channels and 64x64 bits height and width)\n",
        "dummy_batch = torch.rand(size=(32, 3, 64, 64))\n",
        "\n",
        "print(dummy_batch.shape)"
      ]
    },
    {
      "cell_type": "code",
      "execution_count": null,
      "metadata": {
        "id": "MpdZjFkN35hc"
      },
      "outputs": [],
      "source": [
        "# Creating a Convolutional Layer\n",
        "conv_layer = nn.Conv2d(in_channels=3,\n",
        "                       out_channels=10,\n",
        "                       kernel_size=(3, 3),\n",
        "                       stride=1,\n",
        "                       padding=1) \n",
        "\n",
        "# `in_channels` : The colour channels\n",
        "# `out_channels`: The hidden units\n",
        "# `kernel_size` : The size of the kernel (modifying the dimensions of the image)\n",
        "# `stride`      : The hoveore of the kernel (decrease the dimensions of the image)\n",
        "# `padding`     : The extra pixels around the edge of the image (modifying the dimensions of the image)"
      ]
    },
    {
      "cell_type": "code",
      "execution_count": null,
      "metadata": {
        "colab": {
          "base_uri": "https://localhost:8080/"
        },
        "id": "gCl5lCGp6nbH",
        "outputId": "8f51b30d-5e9a-4aa4-d2bf-4670739651ed"
      },
      "outputs": [
        {
          "name": "stdout",
          "output_type": "stream",
          "text": [
            "torch.Size([32, 10, 64, 64])\n"
          ]
        }
      ],
      "source": [
        "# Passing the data through the layer\n",
        "conv_output = conv_layer(dummy_batch)\n",
        "\n",
        "print(conv_output.shape)"
      ]
    },
    {
      "cell_type": "code",
      "execution_count": null,
      "metadata": {
        "colab": {
          "base_uri": "https://localhost:8080/"
        },
        "id": "ejMUcQ2UDDtN",
        "outputId": "97d9efc2-9be1-4655-b01d-7137c58cf6c2"
      },
      "outputs": [
        {
          "name": "stdout",
          "output_type": "stream",
          "text": [
            "torch.Size([32, 10, 64, 64])\n"
          ]
        }
      ],
      "source": [
        "# Now we will go through a ReLU Layer\n",
        "relu = nn.ReLU()\n",
        "\n",
        "relu_output = relu(conv_output)\n",
        "\n",
        "print(relu_output.shape)"
      ]
    },
    {
      "cell_type": "code",
      "execution_count": null,
      "metadata": {
        "colab": {
          "base_uri": "https://localhost:8080/"
        },
        "id": "iwVhCVeMDa80",
        "outputId": "38e1070b-96d5-4ff0-84e6-f1c458cf097a"
      },
      "outputs": [
        {
          "name": "stdout",
          "output_type": "stream",
          "text": [
            "torch.Size([32, 10, 32, 32])\n"
          ]
        }
      ],
      "source": [
        "# And through a Max Pool Layer (with `MaxPool` we are getting the most important pixel of an area)\n",
        "max_pool = nn.MaxPool2d(kernel_size=(2, 2))\n",
        "\n",
        "max_pool_output = max_pool(relu_output)\n",
        "\n",
        "print(max_pool_output.shape)\n",
        "\n",
        "# Notice that this output shape is half the original shape\n",
        "# `padding = 0` reduce the shape by 2\n",
        "# `stride = 2` reduce the shape by half"
      ]
    },
    {
      "attachments": {},
      "cell_type": "markdown",
      "metadata": {
        "id": "VWKDpzYwGNeV"
      },
      "source": [
        "#### Working with smaller Tensors to Visualize"
      ]
    },
    {
      "cell_type": "code",
      "execution_count": null,
      "metadata": {
        "colab": {
          "base_uri": "https://localhost:8080/"
        },
        "id": "vlqVBk8DGSQx",
        "outputId": "125db409-d094-4421-9784-273e4339ee15"
      },
      "outputs": [
        {
          "name": "stdout",
          "output_type": "stream",
          "text": [
            "tensor([[[[-0.4577, -1.7123],\n",
            "          [ 2.0496,  1.2044]]]])\n"
          ]
        }
      ],
      "source": [
        "dummy_2 = torch.randn(size=(1, 1, 2, 2)) # size=(Batch Size, Colour Channels, Height, Width)\n",
        "\n",
        "print(dummy_2)"
      ]
    },
    {
      "cell_type": "code",
      "execution_count": null,
      "metadata": {
        "colab": {
          "base_uri": "https://localhost:8080/"
        },
        "id": "olqLhaSNGb3f",
        "outputId": "19752352-bd6e-418f-bb52-c0f684467c7e"
      },
      "outputs": [
        {
          "name": "stdout",
          "output_type": "stream",
          "text": [
            "tensor([[[[0.0000, 0.0000],\n",
            "          [2.0496, 1.2044]]]])\n"
          ]
        }
      ],
      "source": [
        "relu_d = relu(dummy_2)\n",
        "\n",
        "print(relu_d)"
      ]
    },
    {
      "cell_type": "code",
      "execution_count": null,
      "metadata": {
        "colab": {
          "base_uri": "https://localhost:8080/"
        },
        "id": "GQ6jVnAJGrvW",
        "outputId": "54f31611-cdde-4b0f-8de9-6c38b530cf2a"
      },
      "outputs": [
        {
          "name": "stdout",
          "output_type": "stream",
          "text": [
            "tensor([[[[2.0496]]]])\n"
          ]
        }
      ],
      "source": [
        "max_d = max_pool(relu_d)\n",
        "\n",
        "print(max_d)"
      ]
    },
    {
      "attachments": {},
      "cell_type": "markdown",
      "metadata": {
        "id": "ap0pg7mBx1sm"
      },
      "source": [
        "#### Creating the Model"
      ]
    },
    {
      "cell_type": "code",
      "execution_count": null,
      "metadata": {
        "id": "9dRurJ_ZtbDZ"
      },
      "outputs": [],
      "source": [
        "class FashionMNIST_ModelV2(nn.Module):\n",
        "    def __init__(self, input_size, hidden_units, output_size):\n",
        "        super().__init__()\n",
        "\n",
        "        # A Convolutional Block contains a Conv, Non_Linear, Conv, Non-Linear and Pooling Layers\n",
        "        # A Deep-CNN contains a number of Convolutional Blocks\n",
        "        self.conv_block_1 = nn.Sequential(\n",
        "            nn.Conv2d(in_channels=input_size,    # Is the colour channels\n",
        "                      out_channels=hidden_units,\n",
        "                      kernel_size=3,\n",
        "                      stride=1,\n",
        "                      padding=1),\n",
        "            nn.ReLU(),\n",
        "            nn.Conv2d(in_channels=hidden_units,\n",
        "                      out_channels=hidden_units,\n",
        "                      kernel_size=3,\n",
        "                      stride=1,\n",
        "                      padding=1),\n",
        "            nn.ReLU(),\n",
        "            nn.MaxPool2d(kernel_size=2)\n",
        "        )\n",
        "\n",
        "        # Creating a second Convolutional Block\n",
        "        self.conv_block_2 = nn.Sequential(\n",
        "            nn.Conv2d(in_channels=hidden_units,\n",
        "                      out_channels=hidden_units,\n",
        "                      kernel_size=3,\n",
        "                      stride=1,\n",
        "                      padding=1),\n",
        "            nn.ReLU(),\n",
        "            nn.Conv2d(in_channels=hidden_units,\n",
        "                      out_channels=hidden_units,\n",
        "                      kernel_size=3,\n",
        "                      stride=1,\n",
        "                      padding=1),\n",
        "            nn.ReLU(),\n",
        "            nn.MaxPool2d(kernel_size=2)\n",
        "        )\n",
        "\n",
        "        # Creating a Linear Layer for the output\n",
        "        self.classifier = nn.Sequential(\n",
        "            nn.Flatten(), # Because the ouput of the Conv Blocks is going to be a multi-dim Tensor\n",
        "            nn.Linear(in_features=hidden_units*7*7, out_features=output_size)\n",
        "\n",
        "            # Where hidden_units*7*7 is the product of the shape of the output of the last `conv_block`\n",
        "        )\n",
        "\n",
        "    def forward(self, x):\n",
        "        # To troubleshoot and figure the `in_features` of the Linear Stack we can print the shapes of the output pre block\n",
        "        x = self.conv_block_1(x)\n",
        "        # print(f\"Output Shape of conv_block_1: {x.shape}\") # (1, 10, 14, 14)\n",
        "\n",
        "        x = self.conv_block_2(x)\n",
        "        # print(f\"Output Shape of conv_block_2: {x.shape}\") # (1, 10, 7, 7)\n",
        "\n",
        "        x = self.classifier(x)\n",
        "        # print(f\"Output Shape of linear_layer: {x.shape}\") # (1, 10)\n",
        "\n",
        "        # Of course in the next NNs we are not going to keep that format inside 'forward()', but for this example I will allow it.\n",
        "\n",
        "        return x"
      ]
    },
    {
      "attachments": {},
      "cell_type": "markdown",
      "metadata": {
        "id": "2F8OQxgT2L3v"
      },
      "source": [
        "#### Initialize the Model"
      ]
    },
    {
      "cell_type": "code",
      "execution_count": null,
      "metadata": {
        "colab": {
          "base_uri": "https://localhost:8080/"
        },
        "id": "aocOvXlo2LdW",
        "outputId": "a4c4e0cd-807f-4943-a939-0e2841bb3114"
      },
      "outputs": [
        {
          "name": "stdout",
          "output_type": "stream",
          "text": [
            "FashionMNIST_ModelV2(\n",
            "  (conv_block_1): Sequential(\n",
            "    (0): Conv2d(1, 10, kernel_size=(3, 3), stride=(1, 1), padding=(1, 1))\n",
            "    (1): ReLU()\n",
            "    (2): Conv2d(10, 10, kernel_size=(3, 3), stride=(1, 1), padding=(1, 1))\n",
            "    (3): ReLU()\n",
            "    (4): MaxPool2d(kernel_size=2, stride=2, padding=0, dilation=1, ceil_mode=False)\n",
            "  )\n",
            "  (conv_block_2): Sequential(\n",
            "    (0): Conv2d(10, 10, kernel_size=(3, 3), stride=(1, 1), padding=(1, 1))\n",
            "    (1): ReLU()\n",
            "    (2): Conv2d(10, 10, kernel_size=(3, 3), stride=(1, 1), padding=(1, 1))\n",
            "    (3): ReLU()\n",
            "    (4): MaxPool2d(kernel_size=2, stride=2, padding=0, dilation=1, ceil_mode=False)\n",
            "  )\n",
            "  (classifier): Sequential(\n",
            "    (0): Flatten(start_dim=1, end_dim=-1)\n",
            "    (1): Linear(in_features=490, out_features=10, bias=True)\n",
            "  )\n",
            ")\n"
          ]
        }
      ],
      "source": [
        "modelv2 = FashionMNIST_ModelV2(1, 10, len(name_classes)).to(device)\n",
        "\n",
        "print(modelv2)"
      ]
    },
    {
      "attachments": {},
      "cell_type": "markdown",
      "metadata": {
        "id": "DEK-E8YmVeO7"
      },
      "source": [
        "#### Passing Dummy Data throught the Model"
      ]
    },
    {
      "cell_type": "code",
      "execution_count": null,
      "metadata": {
        "colab": {
          "base_uri": "https://localhost:8080/"
        },
        "id": "HUgyrU962j7A",
        "outputId": "b46c735d-a3fd-4c5c-9462-e1d5ed2553e5"
      },
      "outputs": [
        {
          "name": "stdout",
          "output_type": "stream",
          "text": [
            "tensor([[ 0.0297, -0.0366,  0.0078, -0.0114,  0.0206,  0.0857, -0.0103, -0.0869,\n",
            "          0.0361, -0.0088]], grad_fn=<AddmmBackward0>) torch.Size([1, 10])\n"
          ]
        }
      ],
      "source": [
        "rand_data = torch.randn(size=(1, 28, 28)).to(device) # size=(Colour Channels, Height, Width)\n",
        "\n",
        "output = modelv2(rand_data.unsqueeze(0))\n",
        "\n",
        "print(output, output.shape)"
      ]
    },
    {
      "attachments": {},
      "cell_type": "markdown",
      "metadata": {
        "id": "qyjNPg4DbLwx"
      },
      "source": [
        "#### Setting up Loss Function and Optimizer"
      ]
    },
    {
      "cell_type": "code",
      "execution_count": null,
      "metadata": {
        "id": "8KJoSO2ibPN9"
      },
      "outputs": [],
      "source": [
        "loss_fn = nn.CrossEntropyLoss()\n",
        "optimizer = opt.SGD(modelv2.parameters(), lr=0.1)"
      ]
    },
    {
      "attachments": {},
      "cell_type": "markdown",
      "metadata": {
        "id": "JQ0wYxxrbGW6"
      },
      "source": [
        "#### Training the Model"
      ]
    },
    {
      "cell_type": "code",
      "execution_count": null,
      "metadata": {
        "colab": {
          "base_uri": "https://localhost:8080/",
          "height": 500,
          "referenced_widgets": [
            "be960f80db46499480fbdc5b4d65b247",
            "3abf31cf4a084c43895c026b9a41d4d5",
            "6c32b0c6a7b74444a568e21fdc55002b",
            "4d1deb37cd9b4c098cb54dfb62c7d639",
            "1ab920008e9f4cfa9593c9836745b228",
            "341c8a0157c94278aa0fc3342347d023",
            "9bb41304d07840b282b06195a4e0ddba",
            "4045e819251740ecb12b2de322c12f0c",
            "292c41e66c29436d80eac6455ec1ee5c",
            "f5c2966d3f41451bb3809f15b82c3eab",
            "128976d275074efaa34fa1b01e67b53d"
          ]
        },
        "id": "aBZIrnGnbFCx",
        "outputId": "5d3fde42-01e7-4f17-861d-92d310935af1"
      },
      "outputs": [
        {
          "name": "stdout",
          "output_type": "stream",
          "text": [
            "Starting Process:\n"
          ]
        },
        {
          "data": {
            "application/vnd.jupyter.widget-view+json": {
              "model_id": "be960f80db46499480fbdc5b4d65b247",
              "version_major": 2,
              "version_minor": 0
            },
            "text/plain": [
              "  0%|          | 0/5 [00:00<?, ?it/s]"
            ]
          },
          "metadata": {},
          "output_type": "display_data"
        },
        {
          "name": "stdout",
          "output_type": "stream",
          "text": [
            "\tLooked at: 14976/60000 training bathces.\n",
            "\tLooked at: 29952/60000 training bathces.\n",
            "\tLooked at: 44928/60000 training bathces.\n",
            "\tLooked at: 59904/60000 training bathces.\n",
            "-> Epoch: 1 | Loss: 0.4046 | Acc: 85.19%\n",
            "\tLooked at: 14976/60000 training bathces.\n",
            "\tLooked at: 29952/60000 training bathces.\n",
            "\tLooked at: 44928/60000 training bathces.\n",
            "\tLooked at: 59904/60000 training bathces.\n",
            "-> Epoch: 2 | Loss: 0.3967 | Acc: 85.50%\n",
            "\tLooked at: 14976/60000 training bathces.\n",
            "\tLooked at: 29952/60000 training bathces.\n",
            "\tLooked at: 44928/60000 training bathces.\n",
            "\tLooked at: 59904/60000 training bathces.\n",
            "-> Epoch: 3 | Loss: 0.3409 | Acc: 88.12%\n",
            "\tLooked at: 14976/60000 training bathces.\n",
            "\tLooked at: 29952/60000 training bathces.\n",
            "\tLooked at: 44928/60000 training bathces.\n",
            "\tLooked at: 59904/60000 training bathces.\n",
            "-> Epoch: 4 | Loss: 0.3070 | Acc: 89.45%\n",
            "\tLooked at: 14976/60000 training bathces.\n",
            "\tLooked at: 29952/60000 training bathces.\n",
            "\tLooked at: 44928/60000 training bathces.\n",
            "\tLooked at: 59904/60000 training bathces.\n",
            "-> Epoch: 5 | Loss: 0.3029 | Acc: 89.19%\n"
          ]
        }
      ],
      "source": [
        "loss3, acc3, res3 = fit(modelv2, 5, train_dl, test_dl, loss_fn, accuracy_fn, optimizer)"
      ]
    },
    {
      "attachments": {},
      "cell_type": "markdown",
      "metadata": {
        "id": "-otxleQodjLW"
      },
      "source": [
        "#### Calculating Models Results"
      ]
    },
    {
      "cell_type": "code",
      "execution_count": null,
      "metadata": {
        "colab": {
          "base_uri": "https://localhost:8080/"
        },
        "id": "9yqK3e6YdVpV",
        "outputId": "d810bd20-46a6-4680-d906-1a9697b408e4"
      },
      "outputs": [
        {
          "name": "stdout",
          "output_type": "stream",
          "text": [
            "{'model_name': 'FashionMNIST_ModelV2', 'model_loss': 0.30293452739715576, 'model_acc(%)': 0.8918730031948882, 'model_device': 'cpu', 'model_time': 234.61780578900004}\n"
          ]
        }
      ],
      "source": [
        "print(res3)"
      ]
    },
    {
      "attachments": {},
      "cell_type": "markdown",
      "metadata": {
        "id": "8r_hvlOOesf1"
      },
      "source": [
        "## Comparing the Models"
      ]
    },
    {
      "cell_type": "code",
      "execution_count": null,
      "metadata": {
        "colab": {
          "base_uri": "https://localhost:8080/",
          "height": 143
        },
        "id": "JIrHddq7evqF",
        "outputId": "0a11b667-2e80-40b8-e31f-0e77a2ae2ca5"
      },
      "outputs": [
        {
          "data": {
            "text/html": [
              "\n",
              "  <div id=\"df-afbdb91a-2543-4706-b6a9-84685b3bc577\">\n",
              "    <div class=\"colab-df-container\">\n",
              "      <div>\n",
              "<style scoped>\n",
              "    .dataframe tbody tr th:only-of-type {\n",
              "        vertical-align: middle;\n",
              "    }\n",
              "\n",
              "    .dataframe tbody tr th {\n",
              "        vertical-align: top;\n",
              "    }\n",
              "\n",
              "    .dataframe thead th {\n",
              "        text-align: right;\n",
              "    }\n",
              "</style>\n",
              "<table border=\"1\" class=\"dataframe\">\n",
              "  <thead>\n",
              "    <tr style=\"text-align: right;\">\n",
              "      <th></th>\n",
              "      <th>model_name</th>\n",
              "      <th>model_loss</th>\n",
              "      <th>model_acc(%)</th>\n",
              "      <th>model_device</th>\n",
              "      <th>model_time</th>\n",
              "    </tr>\n",
              "  </thead>\n",
              "  <tbody>\n",
              "    <tr>\n",
              "      <th>0</th>\n",
              "      <td>FashionMNIST_ModelV0</td>\n",
              "      <td>0.469980</td>\n",
              "      <td>0.833367</td>\n",
              "      <td>cpu</td>\n",
              "      <td>65.110412</td>\n",
              "    </tr>\n",
              "    <tr>\n",
              "      <th>1</th>\n",
              "      <td>FashionMNIST_ModelV1</td>\n",
              "      <td>0.355369</td>\n",
              "      <td>0.868510</td>\n",
              "      <td>cpu</td>\n",
              "      <td>59.538913</td>\n",
              "    </tr>\n",
              "    <tr>\n",
              "      <th>2</th>\n",
              "      <td>FashionMNIST_ModelV2</td>\n",
              "      <td>0.302935</td>\n",
              "      <td>0.891873</td>\n",
              "      <td>cpu</td>\n",
              "      <td>234.617806</td>\n",
              "    </tr>\n",
              "  </tbody>\n",
              "</table>\n",
              "</div>\n",
              "      <button class=\"colab-df-convert\" onclick=\"convertToInteractive('df-afbdb91a-2543-4706-b6a9-84685b3bc577')\"\n",
              "              title=\"Convert this dataframe to an interactive table.\"\n",
              "              style=\"display:none;\">\n",
              "        \n",
              "  <svg xmlns=\"http://www.w3.org/2000/svg\" height=\"24px\"viewBox=\"0 0 24 24\"\n",
              "       width=\"24px\">\n",
              "    <path d=\"M0 0h24v24H0V0z\" fill=\"none\"/>\n",
              "    <path d=\"M18.56 5.44l.94 2.06.94-2.06 2.06-.94-2.06-.94-.94-2.06-.94 2.06-2.06.94zm-11 1L8.5 8.5l.94-2.06 2.06-.94-2.06-.94L8.5 2.5l-.94 2.06-2.06.94zm10 10l.94 2.06.94-2.06 2.06-.94-2.06-.94-.94-2.06-.94 2.06-2.06.94z\"/><path d=\"M17.41 7.96l-1.37-1.37c-.4-.4-.92-.59-1.43-.59-.52 0-1.04.2-1.43.59L10.3 9.45l-7.72 7.72c-.78.78-.78 2.05 0 2.83L4 21.41c.39.39.9.59 1.41.59.51 0 1.02-.2 1.41-.59l7.78-7.78 2.81-2.81c.8-.78.8-2.07 0-2.86zM5.41 20L4 18.59l7.72-7.72 1.47 1.35L5.41 20z\"/>\n",
              "  </svg>\n",
              "      </button>\n",
              "      \n",
              "  <style>\n",
              "    .colab-df-container {\n",
              "      display:flex;\n",
              "      flex-wrap:wrap;\n",
              "      gap: 12px;\n",
              "    }\n",
              "\n",
              "    .colab-df-convert {\n",
              "      background-color: #E8F0FE;\n",
              "      border: none;\n",
              "      border-radius: 50%;\n",
              "      cursor: pointer;\n",
              "      display: none;\n",
              "      fill: #1967D2;\n",
              "      height: 32px;\n",
              "      padding: 0 0 0 0;\n",
              "      width: 32px;\n",
              "    }\n",
              "\n",
              "    .colab-df-convert:hover {\n",
              "      background-color: #E2EBFA;\n",
              "      box-shadow: 0px 1px 2px rgba(60, 64, 67, 0.3), 0px 1px 3px 1px rgba(60, 64, 67, 0.15);\n",
              "      fill: #174EA6;\n",
              "    }\n",
              "\n",
              "    [theme=dark] .colab-df-convert {\n",
              "      background-color: #3B4455;\n",
              "      fill: #D2E3FC;\n",
              "    }\n",
              "\n",
              "    [theme=dark] .colab-df-convert:hover {\n",
              "      background-color: #434B5C;\n",
              "      box-shadow: 0px 1px 3px 1px rgba(0, 0, 0, 0.15);\n",
              "      filter: drop-shadow(0px 1px 2px rgba(0, 0, 0, 0.3));\n",
              "      fill: #FFFFFF;\n",
              "    }\n",
              "  </style>\n",
              "\n",
              "      <script>\n",
              "        const buttonEl =\n",
              "          document.querySelector('#df-afbdb91a-2543-4706-b6a9-84685b3bc577 button.colab-df-convert');\n",
              "        buttonEl.style.display =\n",
              "          google.colab.kernel.accessAllowed ? 'block' : 'none';\n",
              "\n",
              "        async function convertToInteractive(key) {\n",
              "          const element = document.querySelector('#df-afbdb91a-2543-4706-b6a9-84685b3bc577');\n",
              "          const dataTable =\n",
              "            await google.colab.kernel.invokeFunction('convertToInteractive',\n",
              "                                                     [key], {});\n",
              "          if (!dataTable) return;\n",
              "\n",
              "          const docLinkHtml = 'Like what you see? Visit the ' +\n",
              "            '<a target=\"_blank\" href=https://colab.research.google.com/notebooks/data_table.ipynb>data table notebook</a>'\n",
              "            + ' to learn more about interactive tables.';\n",
              "          element.innerHTML = '';\n",
              "          dataTable['output_type'] = 'display_data';\n",
              "          await google.colab.output.renderOutput(dataTable, element);\n",
              "          const docLink = document.createElement('div');\n",
              "          docLink.innerHTML = docLinkHtml;\n",
              "          element.appendChild(docLink);\n",
              "        }\n",
              "      </script>\n",
              "    </div>\n",
              "  </div>\n",
              "  "
            ],
            "text/plain": [
              "             model_name  model_loss  model_acc(%) model_device  model_time\n",
              "0  FashionMNIST_ModelV0    0.469980      0.833367          cpu   65.110412\n",
              "1  FashionMNIST_ModelV1    0.355369      0.868510          cpu   59.538913\n",
              "2  FashionMNIST_ModelV2    0.302935      0.891873          cpu  234.617806"
            ]
          },
          "execution_count": 52,
          "metadata": {},
          "output_type": "execute_result"
        }
      ],
      "source": [
        "# Creating a Pandas Data Frame to see the results\n",
        "compared_results = pd.DataFrame([results1, res2, res3])\n",
        "\n",
        "compared_results.head(3)"
      ]
    },
    {
      "attachments": {},
      "cell_type": "markdown",
      "metadata": {
        "id": "w4hWDJnZgpCS"
      },
      "source": [
        "## Create some Visual Predictions"
      ]
    },
    {
      "cell_type": "code",
      "execution_count": null,
      "metadata": {
        "id": "JFKnWRxVgqvI"
      },
      "outputs": [],
      "source": [
        "def model_grid(model, n_samples, size=6):\n",
        "    fig = plt.figure(figsize=(size, size))\n",
        "    rows, cols = n_samples, n_samples\n",
        "\n",
        "    for i in range(1, rows*cols + 1):\n",
        "        random_i = torch.randint(len(test_dataset), size=(1,)).item()\n",
        "        \n",
        "        # The Features and the Label\n",
        "        img, label = train_dataset[random_i]\n",
        "        img = img.to(next(model.parameters()).device)\n",
        "\n",
        "        # Model's Predictions\n",
        "        model_logits = model(img.unsqueeze(dim=0))\n",
        "        model_label = torch.softmax(model_logits, dim=1).argmax()\n",
        "\n",
        "        # Plotting the Grid\n",
        "        fig.add_subplot(rows, cols, i)\n",
        "        fig.tight_layout(pad=1.0)\n",
        "        fig.suptitle(f\"Model: {model.__class__.__name__}\", fontsize=15)\n",
        "        plt.imshow(img.cpu().squeeze(), cmap=\"gray\")\n",
        "\n",
        "        # Change Colour Depending if the Prediction is Correct or not\n",
        "        if (label == model_label):\n",
        "            plt.title(f\"Predicted: {train_dataset.classes[model_label]}\\nLabel: {train_dataset.classes[label]}\", c='g', fontsize=10)\n",
        "        else:\n",
        "            plt.title(f\"Predicted: {train_dataset.classes[model_label]}\\nLabel: {train_dataset.classes[label]}\", c='r', fontsize=10)\n",
        "        plt.axis(False);"
      ]
    },
    {
      "cell_type": "code",
      "execution_count": null,
      "metadata": {
        "colab": {
          "base_uri": "https://localhost:8080/",
          "height": 427
        },
        "id": "PkmKEH16kF-m",
        "outputId": "a474436e-aff4-4b75-b8ed-2bcb72e634da"
      },
      "outputs": [
        {
          "data": {
            "image/png": "[encoded data removed]",
            "text/plain": [
              "<Figure size 432x432 with 9 Axes>"
            ]
          },
          "metadata": {
            "needs_background": "light"
          },
          "output_type": "display_data"
        }
      ],
      "source": [
        "model_grid(modelv2, 3)"
      ]
    },
    {
      "cell_type": "code",
      "execution_count": null,
      "metadata": {
        "colab": {
          "base_uri": "https://localhost:8080/",
          "height": 427
        },
        "id": "uKBwCwu4lVKU",
        "outputId": "1137c330-8bd8-4e10-9015-fbcb8f591e8c"
      },
      "outputs": [
        {
          "data": {
            "image/png": "[encoded data removed]",
            "text/plain": [
              "<Figure size 432x432 with 9 Axes>"
            ]
          },
          "metadata": {
            "needs_background": "light"
          },
          "output_type": "display_data"
        }
      ],
      "source": [
        "model_grid(modelv1, 3)"
      ]
    },
    {
      "cell_type": "code",
      "execution_count": null,
      "metadata": {
        "colab": {
          "base_uri": "https://localhost:8080/",
          "height": 427
        },
        "id": "zTnM7zTLlzvc",
        "outputId": "ad2db7b9-ea98-46c2-dadb-c8269f98f07a"
      },
      "outputs": [
        {
          "data": {
            "image/png": "[encoded data removed]",
            "text/plain": [
              "<Figure size 432x432 with 9 Axes>"
            ]
          },
          "metadata": {
            "needs_background": "light"
          },
          "output_type": "display_data"
        }
      ],
      "source": [
        "model_grid(modelv0, 3)"
      ]
    },
    {
      "attachments": {},
      "cell_type": "markdown",
      "metadata": {
        "id": "3VLWIlRAneia"
      },
      "source": [
        "## Confusion Metric\n",
        "\n",
        "We are going to create a `confusion metrix` to further evaluate our Models."
      ]
    },
    {
      "attachments": {},
      "cell_type": "markdown",
      "metadata": {
        "id": "sclRsRHaowXG"
      },
      "source": [
        "### Generating Model Predictions to the Entire Test Data Loader"
      ]
    },
    {
      "cell_type": "code",
      "execution_count": null,
      "metadata": {
        "colab": {
          "base_uri": "https://localhost:8080/"
        },
        "id": "Yshu8KeKngh7",
        "outputId": "e739b34d-db2e-4389-ba93-1cce6e40e77c"
      },
      "outputs": [
        {
          "name": "stdout",
          "output_type": "stream",
          "text": [
            "10000\n"
          ]
        }
      ],
      "source": [
        "def predictions(model):\n",
        "    model.eval()\n",
        "    with torch.inference_mode():\n",
        "        y_preds = []\n",
        "\n",
        "        for x_test, _ in test_dl:\n",
        "            x_test = x_test.to(device)\n",
        "\n",
        "            model_logits = model(x_test)\n",
        "            model_labels = torch.softmax(model_logits, dim=1).argmax(dim=1).cpu() # Moving to cpu for matplotlib\n",
        "\n",
        "            y_preds.append(model_labels)\n",
        "\n",
        "    return torch.cat(y_preds) # Converting the list of predictions: tensors into a single tensor\n",
        "\n",
        "print(len(predictions(modelv2)))"
      ]
    },
    {
      "attachments": {},
      "cell_type": "markdown",
      "metadata": {
        "id": "nEylaZLdsanC"
      },
      "source": [
        "### Setting Confusion Metrix Instance"
      ]
    },
    {
      "cell_type": "code",
      "execution_count": null,
      "metadata": {
        "id": "SPs0KxY6qWwk"
      },
      "outputs": [],
      "source": [
        "confmat = ConfusionMatrix(num_classes=len(name_classes), task=\"multiclass\")\n",
        "\n",
        "confmat_tesnor = confmat(preds=predictions(modelv2), target=test_dataset.targets)"
      ]
    },
    {
      "attachments": {},
      "cell_type": "markdown",
      "metadata": {
        "id": "iW50SUHrtWS8"
      },
      "source": [
        "### Visualize the Confusion Metrix"
      ]
    },
    {
      "cell_type": "code",
      "execution_count": null,
      "metadata": {
        "colab": {
          "base_uri": "https://localhost:8080/",
          "height": 477
        },
        "id": "NfTBwl4vtYa3",
        "outputId": "6b949752-c768-453e-c54c-2d9ca6f1b77e"
      },
      "outputs": [
        {
          "data": {
            "image/png": "[encoded data removed]",
            "text/plain": [
              "<Figure size 720x504 with 1 Axes>"
            ]
          },
          "metadata": {
            "needs_background": "light"
          },
          "output_type": "display_data"
        }
      ],
      "source": [
        "fig, ax = plot_confusion_matrix(\n",
        "    conf_mat = confmat_tesnor.numpy(), # Needs to be a numpy array\n",
        "    class_names = name_classes,\n",
        "    figsize = (10, 7)\n",
        "    )"
      ]
    },
    {
      "attachments": {},
      "cell_type": "markdown",
      "metadata": {
        "id": "Sj6uFOyNxBrx"
      },
      "source": [
        "The ideal `Confusion Metrix` will be a _diagonal_ matrix.\n",
        "\n",
        "The value of each number (that should be zero) tell us how many times the model predicted wrong this specific label."
      ]
    }
  ],
  "metadata": {
    "colab": {
      "collapsed_sections": [
        "P6vWZUR-pHuF"
      ],
      "provenance": []
    },
    "gpuClass": "standard",
    "kernelspec": {
      "display_name": "Python 3",
      "name": "python3"
    },
    "language_info": {
      "name": "python"
    },
    "widgets": {
      "application/vnd.jupyter.widget-state+json": {
        "05e781eeaa3e455f9d5e629c4908222c": {
          "model_module": "@jupyter-widgets/base",
          "model_module_version": "1.2.0",
          "model_name": "LayoutModel",
          "state": {
            "_model_module": "@jupyter-widgets/base",
            "_model_module_version": "1.2.0",
            "_model_name": "LayoutModel",
            "_view_count": null,
            "_view_module": "@jupyter-widgets/base",
            "_view_module_version": "1.2.0",
            "_view_name": "LayoutView",
            "align_content": null,
            "align_items": null,
            "align_self": null,
            "border": null,
            "bottom": null,
            "display": null,
            "flex": null,
            "flex_flow": null,
            "grid_area": null,
            "grid_auto_columns": null,
            "grid_auto_flow": null,
            "grid_auto_rows": null,
            "grid_column": null,
            "grid_gap": null,
            "grid_row": null,
            "grid_template_areas": null,
            "grid_template_columns": null,
            "grid_template_rows": null,
            "height": null,
            "justify_content": null,
            "justify_items": null,
            "left": null,
            "margin": null,
            "max_height": null,
            "max_width": null,
            "min_height": null,
            "min_width": null,
            "object_fit": null,
            "object_position": null,
            "order": null,
            "overflow": null,
            "overflow_x": null,
            "overflow_y": null,
            "padding": null,
            "right": null,
            "top": null,
            "visibility": null,
            "width": null
          }
        },
        "0cd46aee780d4084837fcd22417c8cde": {
          "model_module": "@jupyter-widgets/controls",
          "model_module_version": "1.5.0",
          "model_name": "HTMLModel",
          "state": {
            "_dom_classes": [],
            "_model_module": "@jupyter-widgets/controls",
            "_model_module_version": "1.5.0",
            "_model_name": "HTMLModel",
            "_view_count": null,
            "_view_module": "@jupyter-widgets/controls",
            "_view_module_version": "1.5.0",
            "_view_name": "HTMLView",
            "description": "",
            "description_tooltip": null,
            "layout": "IPY_MODEL_f8163346252b43a992d478e4f6bdc041",
            "placeholder": "​",
            "style": "IPY_MODEL_c715b61dda6f447e8befe1ab99ca6223",
            "value": "100%"
          }
        },
        "128976d275074efaa34fa1b01e67b53d": {
          "model_module": "@jupyter-widgets/controls",
          "model_module_version": "1.5.0",
          "model_name": "DescriptionStyleModel",
          "state": {
            "_model_module": "@jupyter-widgets/controls",
            "_model_module_version": "1.5.0",
            "_model_name": "DescriptionStyleModel",
            "_view_count": null,
            "_view_module": "@jupyter-widgets/base",
            "_view_module_version": "1.2.0",
            "_view_name": "StyleView",
            "description_width": ""
          }
        },
        "12bf3040476c4272932dd6bf6a66391f": {
          "model_module": "@jupyter-widgets/controls",
          "model_module_version": "1.5.0",
          "model_name": "FloatProgressModel",
          "state": {
            "_dom_classes": [],
            "_model_module": "@jupyter-widgets/controls",
            "_model_module_version": "1.5.0",
            "_model_name": "FloatProgressModel",
            "_view_count": null,
            "_view_module": "@jupyter-widgets/controls",
            "_view_module_version": "1.5.0",
            "_view_name": "ProgressView",
            "bar_style": "success",
            "description": "",
            "description_tooltip": null,
            "layout": "IPY_MODEL_79387132107b417aa98f094e88ab4e4b",
            "max": 4422102,
            "min": 0,
            "orientation": "horizontal",
            "style": "IPY_MODEL_3c06fe9985504df4913a5dff7ff2917a",
            "value": 4422102
          }
        },
        "1ab920008e9f4cfa9593c9836745b228": {
          "model_module": "@jupyter-widgets/base",
          "model_module_version": "1.2.0",
          "model_name": "LayoutModel",
          "state": {
            "_model_module": "@jupyter-widgets/base",
            "_model_module_version": "1.2.0",
            "_model_name": "LayoutModel",
            "_view_count": null,
            "_view_module": "@jupyter-widgets/base",
            "_view_module_version": "1.2.0",
            "_view_name": "LayoutView",
            "align_content": null,
            "align_items": null,
            "align_self": null,
            "border": null,
            "bottom": null,
            "display": null,
            "flex": null,
            "flex_flow": null,
            "grid_area": null,
            "grid_auto_columns": null,
            "grid_auto_flow": null,
            "grid_auto_rows": null,
            "grid_column": null,
            "grid_gap": null,
            "grid_row": null,
            "grid_template_areas": null,
            "grid_template_columns": null,
            "grid_template_rows": null,
            "height": null,
            "justify_content": null,
            "justify_items": null,
            "left": null,
            "margin": null,
            "max_height": null,
            "max_width": null,
            "min_height": null,
            "min_width": null,
            "object_fit": null,
            "object_position": null,
            "order": null,
            "overflow": null,
            "overflow_x": null,
            "overflow_y": null,
            "padding": null,
            "right": null,
            "top": null,
            "visibility": null,
            "width": null
          }
        },
        "1c19448f971b4ae699a3fa8d21ddb739": {
          "model_module": "@jupyter-widgets/controls",
          "model_module_version": "1.5.0",
          "model_name": "HBoxModel",
          "state": {
            "_dom_classes": [],
            "_model_module": "@jupyter-widgets/controls",
            "_model_module_version": "1.5.0",
            "_model_name": "HBoxModel",
            "_view_count": null,
            "_view_module": "@jupyter-widgets/controls",
            "_view_module_version": "1.5.0",
            "_view_name": "HBoxView",
            "box_style": "",
            "children": [
              "IPY_MODEL_69223f54972c464b8a16a9719aea9aff",
              "IPY_MODEL_8b3aebf540ab4495916f12b15001b86e",
              "IPY_MODEL_3611cc12a83f4d56acfbc5fba051faae"
            ],
            "layout": "IPY_MODEL_de993698c6d44d448b08ac2a9e8d2c87"
          }
        },
        "1d94320a4fe643489bf1b49586de8c6d": {
          "model_module": "@jupyter-widgets/controls",
          "model_module_version": "1.5.0",
          "model_name": "HBoxModel",
          "state": {
            "_dom_classes": [],
            "_model_module": "@jupyter-widgets/controls",
            "_model_module_version": "1.5.0",
            "_model_name": "HBoxModel",
            "_view_count": null,
            "_view_module": "@jupyter-widgets/controls",
            "_view_module_version": "1.5.0",
            "_view_name": "HBoxView",
            "box_style": "",
            "children": [
              "IPY_MODEL_0cd46aee780d4084837fcd22417c8cde",
              "IPY_MODEL_12bf3040476c4272932dd6bf6a66391f",
              "IPY_MODEL_cae7b1556aaa40a0b5c50210e2ad1c29"
            ],
            "layout": "IPY_MODEL_4cf08759b5a74659ad88134382d7e638"
          }
        },
        "20c2bff8f1e14ce48b26cb4691242d25": {
          "model_module": "@jupyter-widgets/controls",
          "model_module_version": "1.5.0",
          "model_name": "DescriptionStyleModel",
          "state": {
            "_model_module": "@jupyter-widgets/controls",
            "_model_module_version": "1.5.0",
            "_model_name": "DescriptionStyleModel",
            "_view_count": null,
            "_view_module": "@jupyter-widgets/base",
            "_view_module_version": "1.2.0",
            "_view_name": "StyleView",
            "description_width": ""
          }
        },
        "212ed90b181e46eba9bd6f3dbd34b4a5": {
          "model_module": "@jupyter-widgets/controls",
          "model_module_version": "1.5.0",
          "model_name": "DescriptionStyleModel",
          "state": {
            "_model_module": "@jupyter-widgets/controls",
            "_model_module_version": "1.5.0",
            "_model_name": "DescriptionStyleModel",
            "_view_count": null,
            "_view_module": "@jupyter-widgets/base",
            "_view_module_version": "1.2.0",
            "_view_name": "StyleView",
            "description_width": ""
          }
        },
        "292c41e66c29436d80eac6455ec1ee5c": {
          "model_module": "@jupyter-widgets/controls",
          "model_module_version": "1.5.0",
          "model_name": "ProgressStyleModel",
          "state": {
            "_model_module": "@jupyter-widgets/controls",
            "_model_module_version": "1.5.0",
            "_model_name": "ProgressStyleModel",
            "_view_count": null,
            "_view_module": "@jupyter-widgets/base",
            "_view_module_version": "1.2.0",
            "_view_name": "StyleView",
            "bar_color": null,
            "description_width": ""
          }
        },
        "2c57df561c6946789e4467dd2484b46f": {
          "model_module": "@jupyter-widgets/controls",
          "model_module_version": "1.5.0",
          "model_name": "ProgressStyleModel",
          "state": {
            "_model_module": "@jupyter-widgets/controls",
            "_model_module_version": "1.5.0",
            "_model_name": "ProgressStyleModel",
            "_view_count": null,
            "_view_module": "@jupyter-widgets/base",
            "_view_module_version": "1.2.0",
            "_view_name": "StyleView",
            "bar_color": null,
            "description_width": ""
          }
        },
        "2cb5bcd61241465da3ad9075ad56a530": {
          "model_module": "@jupyter-widgets/controls",
          "model_module_version": "1.5.0",
          "model_name": "HTMLModel",
          "state": {
            "_dom_classes": [],
            "_model_module": "@jupyter-widgets/controls",
            "_model_module_version": "1.5.0",
            "_model_name": "HTMLModel",
            "_view_count": null,
            "_view_module": "@jupyter-widgets/controls",
            "_view_module_version": "1.5.0",
            "_view_name": "HTMLView",
            "description": "",
            "description_tooltip": null,
            "layout": "IPY_MODEL_05e781eeaa3e455f9d5e629c4908222c",
            "placeholder": "​",
            "style": "IPY_MODEL_670dc1e870c845bbb02b6766c8c27471",
            "value": " 5/5 [01:05&lt;00:00, 12.31s/it]"
          }
        },
        "341c8a0157c94278aa0fc3342347d023": {
          "model_module": "@jupyter-widgets/base",
          "model_module_version": "1.2.0",
          "model_name": "LayoutModel",
          "state": {
            "_model_module": "@jupyter-widgets/base",
            "_model_module_version": "1.2.0",
            "_model_name": "LayoutModel",
            "_view_count": null,
            "_view_module": "@jupyter-widgets/base",
            "_view_module_version": "1.2.0",
            "_view_name": "LayoutView",
            "align_content": null,
            "align_items": null,
            "align_self": null,
            "border": null,
            "bottom": null,
            "display": null,
            "flex": null,
            "flex_flow": null,
            "grid_area": null,
            "grid_auto_columns": null,
            "grid_auto_flow": null,
            "grid_auto_rows": null,
            "grid_column": null,
            "grid_gap": null,
            "grid_row": null,
            "grid_template_areas": null,
            "grid_template_columns": null,
            "grid_template_rows": null,
            "height": null,
            "justify_content": null,
            "justify_items": null,
            "left": null,
            "margin": null,
            "max_height": null,
            "max_width": null,
            "min_height": null,
            "min_width": null,
            "object_fit": null,
            "object_position": null,
            "order": null,
            "overflow": null,
            "overflow_x": null,
            "overflow_y": null,
            "padding": null,
            "right": null,
            "top": null,
            "visibility": null,
            "width": null
          }
        },
        "34acac6af54848e08c659d35ec3a0904": {
          "model_module": "@jupyter-widgets/controls",
          "model_module_version": "1.5.0",
          "model_name": "HBoxModel",
          "state": {
            "_dom_classes": [],
            "_model_module": "@jupyter-widgets/controls",
            "_model_module_version": "1.5.0",
            "_model_name": "HBoxModel",
            "_view_count": null,
            "_view_module": "@jupyter-widgets/controls",
            "_view_module_version": "1.5.0",
            "_view_name": "HBoxView",
            "box_style": "",
            "children": [
              "IPY_MODEL_37a46cb7b93a434f9c6252097891b829",
              "IPY_MODEL_6b7a991917604ff7ac2c5d0b1d961b4b",
              "IPY_MODEL_5d7b5ef128ae462e86297e2b3a556561"
            ],
            "layout": "IPY_MODEL_e29326e2e14d4c6a8f6522c8ce5677f0"
          }
        },
        "35b26162e8c84bc6a3bc5078ff125877": {
          "model_module": "@jupyter-widgets/base",
          "model_module_version": "1.2.0",
          "model_name": "LayoutModel",
          "state": {
            "_model_module": "@jupyter-widgets/base",
            "_model_module_version": "1.2.0",
            "_model_name": "LayoutModel",
            "_view_count": null,
            "_view_module": "@jupyter-widgets/base",
            "_view_module_version": "1.2.0",
            "_view_name": "LayoutView",
            "align_content": null,
            "align_items": null,
            "align_self": null,
            "border": null,
            "bottom": null,
            "display": null,
            "flex": null,
            "flex_flow": null,
            "grid_area": null,
            "grid_auto_columns": null,
            "grid_auto_flow": null,
            "grid_auto_rows": null,
            "grid_column": null,
            "grid_gap": null,
            "grid_row": null,
            "grid_template_areas": null,
            "grid_template_columns": null,
            "grid_template_rows": null,
            "height": null,
            "justify_content": null,
            "justify_items": null,
            "left": null,
            "margin": null,
            "max_height": null,
            "max_width": null,
            "min_height": null,
            "min_width": null,
            "object_fit": null,
            "object_position": null,
            "order": null,
            "overflow": null,
            "overflow_x": null,
            "overflow_y": null,
            "padding": null,
            "right": null,
            "top": null,
            "visibility": null,
            "width": null
          }
        },
        "3611cc12a83f4d56acfbc5fba051faae": {
          "model_module": "@jupyter-widgets/controls",
          "model_module_version": "1.5.0",
          "model_name": "HTMLModel",
          "state": {
            "_dom_classes": [],
            "_model_module": "@jupyter-widgets/controls",
            "_model_module_version": "1.5.0",
            "_model_name": "HTMLModel",
            "_view_count": null,
            "_view_module": "@jupyter-widgets/controls",
            "_view_module_version": "1.5.0",
            "_view_name": "HTMLView",
            "description": "",
            "description_tooltip": null,
            "layout": "IPY_MODEL_df5ff9fb8765442fa15d325314180f29",
            "placeholder": "​",
            "style": "IPY_MODEL_f2d42dd53b8d4ab1b056b86f8e0a92ed",
            "value": " 29515/29515 [00:00&lt;00:00, 195318.29it/s]"
          }
        },
        "37a46cb7b93a434f9c6252097891b829": {
          "model_module": "@jupyter-widgets/controls",
          "model_module_version": "1.5.0",
          "model_name": "HTMLModel",
          "state": {
            "_dom_classes": [],
            "_model_module": "@jupyter-widgets/controls",
            "_model_module_version": "1.5.0",
            "_model_name": "HTMLModel",
            "_view_count": null,
            "_view_module": "@jupyter-widgets/controls",
            "_view_module_version": "1.5.0",
            "_view_name": "HTMLView",
            "description": "",
            "description_tooltip": null,
            "layout": "IPY_MODEL_418966eb21c64f66b11403dcaefb972c",
            "placeholder": "​",
            "style": "IPY_MODEL_73e9623abc7441eba3c41d8bc4f5bca5",
            "value": "100%"
          }
        },
        "3abf31cf4a084c43895c026b9a41d4d5": {
          "model_module": "@jupyter-widgets/controls",
          "model_module_version": "1.5.0",
          "model_name": "HTMLModel",
          "state": {
            "_dom_classes": [],
            "_model_module": "@jupyter-widgets/controls",
            "_model_module_version": "1.5.0",
            "_model_name": "HTMLModel",
            "_view_count": null,
            "_view_module": "@jupyter-widgets/controls",
            "_view_module_version": "1.5.0",
            "_view_name": "HTMLView",
            "description": "",
            "description_tooltip": null,
            "layout": "IPY_MODEL_341c8a0157c94278aa0fc3342347d023",
            "placeholder": "​",
            "style": "IPY_MODEL_9bb41304d07840b282b06195a4e0ddba",
            "value": "100%"
          }
        },
        "3c06fe9985504df4913a5dff7ff2917a": {
          "model_module": "@jupyter-widgets/controls",
          "model_module_version": "1.5.0",
          "model_name": "ProgressStyleModel",
          "state": {
            "_model_module": "@jupyter-widgets/controls",
            "_model_module_version": "1.5.0",
            "_model_name": "ProgressStyleModel",
            "_view_count": null,
            "_view_module": "@jupyter-widgets/base",
            "_view_module_version": "1.2.0",
            "_view_name": "StyleView",
            "bar_color": null,
            "description_width": ""
          }
        },
        "3cab15e390d341f5b8496e8292939ab6": {
          "model_module": "@jupyter-widgets/controls",
          "model_module_version": "1.5.0",
          "model_name": "ProgressStyleModel",
          "state": {
            "_model_module": "@jupyter-widgets/controls",
            "_model_module_version": "1.5.0",
            "_model_name": "ProgressStyleModel",
            "_view_count": null,
            "_view_module": "@jupyter-widgets/base",
            "_view_module_version": "1.2.0",
            "_view_name": "StyleView",
            "bar_color": null,
            "description_width": ""
          }
        },
        "4045e819251740ecb12b2de322c12f0c": {
          "model_module": "@jupyter-widgets/base",
          "model_module_version": "1.2.0",
          "model_name": "LayoutModel",
          "state": {
            "_model_module": "@jupyter-widgets/base",
            "_model_module_version": "1.2.0",
            "_model_name": "LayoutModel",
            "_view_count": null,
            "_view_module": "@jupyter-widgets/base",
            "_view_module_version": "1.2.0",
            "_view_name": "LayoutView",
            "align_content": null,
            "align_items": null,
            "align_self": null,
            "border": null,
            "bottom": null,
            "display": null,
            "flex": null,
            "flex_flow": null,
            "grid_area": null,
            "grid_auto_columns": null,
            "grid_auto_flow": null,
            "grid_auto_rows": null,
            "grid_column": null,
            "grid_gap": null,
            "grid_row": null,
            "grid_template_areas": null,
            "grid_template_columns": null,
            "grid_template_rows": null,
            "height": null,
            "justify_content": null,
            "justify_items": null,
            "left": null,
            "margin": null,
            "max_height": null,
            "max_width": null,
            "min_height": null,
            "min_width": null,
            "object_fit": null,
            "object_position": null,
            "order": null,
            "overflow": null,
            "overflow_x": null,
            "overflow_y": null,
            "padding": null,
            "right": null,
            "top": null,
            "visibility": null,
            "width": null
          }
        },
        "418966eb21c64f66b11403dcaefb972c": {
          "model_module": "@jupyter-widgets/base",
          "model_module_version": "1.2.0",
          "model_name": "LayoutModel",
          "state": {
            "_model_module": "@jupyter-widgets/base",
            "_model_module_version": "1.2.0",
            "_model_name": "LayoutModel",
            "_view_count": null,
            "_view_module": "@jupyter-widgets/base",
            "_view_module_version": "1.2.0",
            "_view_name": "LayoutView",
            "align_content": null,
            "align_items": null,
            "align_self": null,
            "border": null,
            "bottom": null,
            "display": null,
            "flex": null,
            "flex_flow": null,
            "grid_area": null,
            "grid_auto_columns": null,
            "grid_auto_flow": null,
            "grid_auto_rows": null,
            "grid_column": null,
            "grid_gap": null,
            "grid_row": null,
            "grid_template_areas": null,
            "grid_template_columns": null,
            "grid_template_rows": null,
            "height": null,
            "justify_content": null,
            "justify_items": null,
            "left": null,
            "margin": null,
            "max_height": null,
            "max_width": null,
            "min_height": null,
            "min_width": null,
            "object_fit": null,
            "object_position": null,
            "order": null,
            "overflow": null,
            "overflow_x": null,
            "overflow_y": null,
            "padding": null,
            "right": null,
            "top": null,
            "visibility": null,
            "width": null
          }
        },
        "4198b9e1e66e43e193239e855a95c236": {
          "model_module": "@jupyter-widgets/base",
          "model_module_version": "1.2.0",
          "model_name": "LayoutModel",
          "state": {
            "_model_module": "@jupyter-widgets/base",
            "_model_module_version": "1.2.0",
            "_model_name": "LayoutModel",
            "_view_count": null,
            "_view_module": "@jupyter-widgets/base",
            "_view_module_version": "1.2.0",
            "_view_name": "LayoutView",
            "align_content": null,
            "align_items": null,
            "align_self": null,
            "border": null,
            "bottom": null,
            "display": null,
            "flex": null,
            "flex_flow": null,
            "grid_area": null,
            "grid_auto_columns": null,
            "grid_auto_flow": null,
            "grid_auto_rows": null,
            "grid_column": null,
            "grid_gap": null,
            "grid_row": null,
            "grid_template_areas": null,
            "grid_template_columns": null,
            "grid_template_rows": null,
            "height": null,
            "justify_content": null,
            "justify_items": null,
            "left": null,
            "margin": null,
            "max_height": null,
            "max_width": null,
            "min_height": null,
            "min_width": null,
            "object_fit": null,
            "object_position": null,
            "order": null,
            "overflow": null,
            "overflow_x": null,
            "overflow_y": null,
            "padding": null,
            "right": null,
            "top": null,
            "visibility": null,
            "width": null
          }
        },
        "4cf08759b5a74659ad88134382d7e638": {
          "model_module": "@jupyter-widgets/base",
          "model_module_version": "1.2.0",
          "model_name": "LayoutModel",
          "state": {
            "_model_module": "@jupyter-widgets/base",
            "_model_module_version": "1.2.0",
            "_model_name": "LayoutModel",
            "_view_count": null,
            "_view_module": "@jupyter-widgets/base",
            "_view_module_version": "1.2.0",
            "_view_name": "LayoutView",
            "align_content": null,
            "align_items": null,
            "align_self": null,
            "border": null,
            "bottom": null,
            "display": null,
            "flex": null,
            "flex_flow": null,
            "grid_area": null,
            "grid_auto_columns": null,
            "grid_auto_flow": null,
            "grid_auto_rows": null,
            "grid_column": null,
            "grid_gap": null,
            "grid_row": null,
            "grid_template_areas": null,
            "grid_template_columns": null,
            "grid_template_rows": null,
            "height": null,
            "justify_content": null,
            "justify_items": null,
            "left": null,
            "margin": null,
            "max_height": null,
            "max_width": null,
            "min_height": null,
            "min_width": null,
            "object_fit": null,
            "object_position": null,
            "order": null,
            "overflow": null,
            "overflow_x": null,
            "overflow_y": null,
            "padding": null,
            "right": null,
            "top": null,
            "visibility": null,
            "width": null
          }
        },
        "4d1deb37cd9b4c098cb54dfb62c7d639": {
          "model_module": "@jupyter-widgets/controls",
          "model_module_version": "1.5.0",
          "model_name": "HTMLModel",
          "state": {
            "_dom_classes": [],
            "_model_module": "@jupyter-widgets/controls",
            "_model_module_version": "1.5.0",
            "_model_name": "HTMLModel",
            "_view_count": null,
            "_view_module": "@jupyter-widgets/controls",
            "_view_module_version": "1.5.0",
            "_view_name": "HTMLView",
            "description": "",
            "description_tooltip": null,
            "layout": "IPY_MODEL_f5c2966d3f41451bb3809f15b82c3eab",
            "placeholder": "​",
            "style": "IPY_MODEL_128976d275074efaa34fa1b01e67b53d",
            "value": " 5/5 [03:54&lt;00:00, 46.82s/it]"
          }
        },
        "5d7b5ef128ae462e86297e2b3a556561": {
          "model_module": "@jupyter-widgets/controls",
          "model_module_version": "1.5.0",
          "model_name": "HTMLModel",
          "state": {
            "_dom_classes": [],
            "_model_module": "@jupyter-widgets/controls",
            "_model_module_version": "1.5.0",
            "_model_name": "HTMLModel",
            "_view_count": null,
            "_view_module": "@jupyter-widgets/controls",
            "_view_module_version": "1.5.0",
            "_view_name": "HTMLView",
            "description": "",
            "description_tooltip": null,
            "layout": "IPY_MODEL_f8bcf85dbd47445d84d0799d141ef602",
            "placeholder": "​",
            "style": "IPY_MODEL_d22e2c4665884bd7aadc3dbfbeedafa5",
            "value": " 5/5 [00:59&lt;00:00, 11.90s/it]"
          }
        },
        "670dc1e870c845bbb02b6766c8c27471": {
          "model_module": "@jupyter-widgets/controls",
          "model_module_version": "1.5.0",
          "model_name": "DescriptionStyleModel",
          "state": {
            "_model_module": "@jupyter-widgets/controls",
            "_model_module_version": "1.5.0",
            "_model_name": "DescriptionStyleModel",
            "_view_count": null,
            "_view_module": "@jupyter-widgets/base",
            "_view_module_version": "1.2.0",
            "_view_name": "StyleView",
            "description_width": ""
          }
        },
        "685765ad501949e9b3ad2ca428e87389": {
          "model_module": "@jupyter-widgets/controls",
          "model_module_version": "1.5.0",
          "model_name": "HBoxModel",
          "state": {
            "_dom_classes": [],
            "_model_module": "@jupyter-widgets/controls",
            "_model_module_version": "1.5.0",
            "_model_name": "HBoxModel",
            "_view_count": null,
            "_view_module": "@jupyter-widgets/controls",
            "_view_module_version": "1.5.0",
            "_view_name": "HBoxView",
            "box_style": "",
            "children": [
              "IPY_MODEL_9a07b6c6cd88481bb23858ea10ac68be",
              "IPY_MODEL_8c22192d9768466db348a35c19936388",
              "IPY_MODEL_8f4ae4f9a02847b09531cdca96821a73"
            ],
            "layout": "IPY_MODEL_db3b87b488744861b98e7e98383d910d"
          }
        },
        "68da210fc69b4a0e9740e9ffb358b00a": {
          "model_module": "@jupyter-widgets/controls",
          "model_module_version": "1.5.0",
          "model_name": "HTMLModel",
          "state": {
            "_dom_classes": [],
            "_model_module": "@jupyter-widgets/controls",
            "_model_module_version": "1.5.0",
            "_model_name": "HTMLModel",
            "_view_count": null,
            "_view_module": "@jupyter-widgets/controls",
            "_view_module_version": "1.5.0",
            "_view_name": "HTMLView",
            "description": "",
            "description_tooltip": null,
            "layout": "IPY_MODEL_b1b2d23b00d04bff9734aad16d79cbe4",
            "placeholder": "​",
            "style": "IPY_MODEL_6bb14264a3ae44519d650e5aaa6c1e2b",
            "value": "100%"
          }
        },
        "69223f54972c464b8a16a9719aea9aff": {
          "model_module": "@jupyter-widgets/controls",
          "model_module_version": "1.5.0",
          "model_name": "HTMLModel",
          "state": {
            "_dom_classes": [],
            "_model_module": "@jupyter-widgets/controls",
            "_model_module_version": "1.5.0",
            "_model_name": "HTMLModel",
            "_view_count": null,
            "_view_module": "@jupyter-widgets/controls",
            "_view_module_version": "1.5.0",
            "_view_name": "HTMLView",
            "description": "",
            "description_tooltip": null,
            "layout": "IPY_MODEL_a4d767763c7547379ab8e6167b1cca05",
            "placeholder": "​",
            "style": "IPY_MODEL_20c2bff8f1e14ce48b26cb4691242d25",
            "value": "100%"
          }
        },
        "6aca4868b57343789100b2104eabd139": {
          "model_module": "@jupyter-widgets/base",
          "model_module_version": "1.2.0",
          "model_name": "LayoutModel",
          "state": {
            "_model_module": "@jupyter-widgets/base",
            "_model_module_version": "1.2.0",
            "_model_name": "LayoutModel",
            "_view_count": null,
            "_view_module": "@jupyter-widgets/base",
            "_view_module_version": "1.2.0",
            "_view_name": "LayoutView",
            "align_content": null,
            "align_items": null,
            "align_self": null,
            "border": null,
            "bottom": null,
            "display": null,
            "flex": null,
            "flex_flow": null,
            "grid_area": null,
            "grid_auto_columns": null,
            "grid_auto_flow": null,
            "grid_auto_rows": null,
            "grid_column": null,
            "grid_gap": null,
            "grid_row": null,
            "grid_template_areas": null,
            "grid_template_columns": null,
            "grid_template_rows": null,
            "height": null,
            "justify_content": null,
            "justify_items": null,
            "left": null,
            "margin": null,
            "max_height": null,
            "max_width": null,
            "min_height": null,
            "min_width": null,
            "object_fit": null,
            "object_position": null,
            "order": null,
            "overflow": null,
            "overflow_x": null,
            "overflow_y": null,
            "padding": null,
            "right": null,
            "top": null,
            "visibility": null,
            "width": null
          }
        },
        "6b7a991917604ff7ac2c5d0b1d961b4b": {
          "model_module": "@jupyter-widgets/controls",
          "model_module_version": "1.5.0",
          "model_name": "FloatProgressModel",
          "state": {
            "_dom_classes": [],
            "_model_module": "@jupyter-widgets/controls",
            "_model_module_version": "1.5.0",
            "_model_name": "FloatProgressModel",
            "_view_count": null,
            "_view_module": "@jupyter-widgets/controls",
            "_view_module_version": "1.5.0",
            "_view_name": "ProgressView",
            "bar_style": "success",
            "description": "",
            "description_tooltip": null,
            "layout": "IPY_MODEL_843788282dfe44daa21b124bc823dd55",
            "max": 5,
            "min": 0,
            "orientation": "horizontal",
            "style": "IPY_MODEL_2c57df561c6946789e4467dd2484b46f",
            "value": 5
          }
        },
        "6bb14264a3ae44519d650e5aaa6c1e2b": {
          "model_module": "@jupyter-widgets/controls",
          "model_module_version": "1.5.0",
          "model_name": "DescriptionStyleModel",
          "state": {
            "_model_module": "@jupyter-widgets/controls",
            "_model_module_version": "1.5.0",
            "_model_name": "DescriptionStyleModel",
            "_view_count": null,
            "_view_module": "@jupyter-widgets/base",
            "_view_module_version": "1.2.0",
            "_view_name": "StyleView",
            "description_width": ""
          }
        },
        "6c32b0c6a7b74444a568e21fdc55002b": {
          "model_module": "@jupyter-widgets/controls",
          "model_module_version": "1.5.0",
          "model_name": "FloatProgressModel",
          "state": {
            "_dom_classes": [],
            "_model_module": "@jupyter-widgets/controls",
            "_model_module_version": "1.5.0",
            "_model_name": "FloatProgressModel",
            "_view_count": null,
            "_view_module": "@jupyter-widgets/controls",
            "_view_module_version": "1.5.0",
            "_view_name": "ProgressView",
            "bar_style": "success",
            "description": "",
            "description_tooltip": null,
            "layout": "IPY_MODEL_4045e819251740ecb12b2de322c12f0c",
            "max": 5,
            "min": 0,
            "orientation": "horizontal",
            "style": "IPY_MODEL_292c41e66c29436d80eac6455ec1ee5c",
            "value": 5
          }
        },
        "73e9623abc7441eba3c41d8bc4f5bca5": {
          "model_module": "@jupyter-widgets/controls",
          "model_module_version": "1.5.0",
          "model_name": "DescriptionStyleModel",
          "state": {
            "_model_module": "@jupyter-widgets/controls",
            "_model_module_version": "1.5.0",
            "_model_name": "DescriptionStyleModel",
            "_view_count": null,
            "_view_module": "@jupyter-widgets/base",
            "_view_module_version": "1.2.0",
            "_view_name": "StyleView",
            "description_width": ""
          }
        },
        "757d9acfe26f42bdb971765c1d2213f2": {
          "model_module": "@jupyter-widgets/controls",
          "model_module_version": "1.5.0",
          "model_name": "DescriptionStyleModel",
          "state": {
            "_model_module": "@jupyter-widgets/controls",
            "_model_module_version": "1.5.0",
            "_model_name": "DescriptionStyleModel",
            "_view_count": null,
            "_view_module": "@jupyter-widgets/base",
            "_view_module_version": "1.2.0",
            "_view_name": "StyleView",
            "description_width": ""
          }
        },
        "79387132107b417aa98f094e88ab4e4b": {
          "model_module": "@jupyter-widgets/base",
          "model_module_version": "1.2.0",
          "model_name": "LayoutModel",
          "state": {
            "_model_module": "@jupyter-widgets/base",
            "_model_module_version": "1.2.0",
            "_model_name": "LayoutModel",
            "_view_count": null,
            "_view_module": "@jupyter-widgets/base",
            "_view_module_version": "1.2.0",
            "_view_name": "LayoutView",
            "align_content": null,
            "align_items": null,
            "align_self": null,
            "border": null,
            "bottom": null,
            "display": null,
            "flex": null,
            "flex_flow": null,
            "grid_area": null,
            "grid_auto_columns": null,
            "grid_auto_flow": null,
            "grid_auto_rows": null,
            "grid_column": null,
            "grid_gap": null,
            "grid_row": null,
            "grid_template_areas": null,
            "grid_template_columns": null,
            "grid_template_rows": null,
            "height": null,
            "justify_content": null,
            "justify_items": null,
            "left": null,
            "margin": null,
            "max_height": null,
            "max_width": null,
            "min_height": null,
            "min_width": null,
            "object_fit": null,
            "object_position": null,
            "order": null,
            "overflow": null,
            "overflow_x": null,
            "overflow_y": null,
            "padding": null,
            "right": null,
            "top": null,
            "visibility": null,
            "width": null
          }
        },
        "79fdc15a502f4e97a70d33b2ad19624c": {
          "model_module": "@jupyter-widgets/base",
          "model_module_version": "1.2.0",
          "model_name": "LayoutModel",
          "state": {
            "_model_module": "@jupyter-widgets/base",
            "_model_module_version": "1.2.0",
            "_model_name": "LayoutModel",
            "_view_count": null,
            "_view_module": "@jupyter-widgets/base",
            "_view_module_version": "1.2.0",
            "_view_name": "LayoutView",
            "align_content": null,
            "align_items": null,
            "align_self": null,
            "border": null,
            "bottom": null,
            "display": null,
            "flex": null,
            "flex_flow": null,
            "grid_area": null,
            "grid_auto_columns": null,
            "grid_auto_flow": null,
            "grid_auto_rows": null,
            "grid_column": null,
            "grid_gap": null,
            "grid_row": null,
            "grid_template_areas": null,
            "grid_template_columns": null,
            "grid_template_rows": null,
            "height": null,
            "justify_content": null,
            "justify_items": null,
            "left": null,
            "margin": null,
            "max_height": null,
            "max_width": null,
            "min_height": null,
            "min_width": null,
            "object_fit": null,
            "object_position": null,
            "order": null,
            "overflow": null,
            "overflow_x": null,
            "overflow_y": null,
            "padding": null,
            "right": null,
            "top": null,
            "visibility": null,
            "width": null
          }
        },
        "843788282dfe44daa21b124bc823dd55": {
          "model_module": "@jupyter-widgets/base",
          "model_module_version": "1.2.0",
          "model_name": "LayoutModel",
          "state": {
            "_model_module": "@jupyter-widgets/base",
            "_model_module_version": "1.2.0",
            "_model_name": "LayoutModel",
            "_view_count": null,
            "_view_module": "@jupyter-widgets/base",
            "_view_module_version": "1.2.0",
            "_view_name": "LayoutView",
            "align_content": null,
            "align_items": null,
            "align_self": null,
            "border": null,
            "bottom": null,
            "display": null,
            "flex": null,
            "flex_flow": null,
            "grid_area": null,
            "grid_auto_columns": null,
            "grid_auto_flow": null,
            "grid_auto_rows": null,
            "grid_column": null,
            "grid_gap": null,
            "grid_row": null,
            "grid_template_areas": null,
            "grid_template_columns": null,
            "grid_template_rows": null,
            "height": null,
            "justify_content": null,
            "justify_items": null,
            "left": null,
            "margin": null,
            "max_height": null,
            "max_width": null,
            "min_height": null,
            "min_width": null,
            "object_fit": null,
            "object_position": null,
            "order": null,
            "overflow": null,
            "overflow_x": null,
            "overflow_y": null,
            "padding": null,
            "right": null,
            "top": null,
            "visibility": null,
            "width": null
          }
        },
        "8b3aebf540ab4495916f12b15001b86e": {
          "model_module": "@jupyter-widgets/controls",
          "model_module_version": "1.5.0",
          "model_name": "FloatProgressModel",
          "state": {
            "_dom_classes": [],
            "_model_module": "@jupyter-widgets/controls",
            "_model_module_version": "1.5.0",
            "_model_name": "FloatProgressModel",
            "_view_count": null,
            "_view_module": "@jupyter-widgets/controls",
            "_view_module_version": "1.5.0",
            "_view_name": "ProgressView",
            "bar_style": "success",
            "description": "",
            "description_tooltip": null,
            "layout": "IPY_MODEL_a242a10cbe1d4739af2890f0fc33abdc",
            "max": 29515,
            "min": 0,
            "orientation": "horizontal",
            "style": "IPY_MODEL_e27ee723c8eb451cac027d4422fb4ab2",
            "value": 29515
          }
        },
        "8c22192d9768466db348a35c19936388": {
          "model_module": "@jupyter-widgets/controls",
          "model_module_version": "1.5.0",
          "model_name": "FloatProgressModel",
          "state": {
            "_dom_classes": [],
            "_model_module": "@jupyter-widgets/controls",
            "_model_module_version": "1.5.0",
            "_model_name": "FloatProgressModel",
            "_view_count": null,
            "_view_module": "@jupyter-widgets/controls",
            "_view_module_version": "1.5.0",
            "_view_name": "ProgressView",
            "bar_style": "success",
            "description": "",
            "description_tooltip": null,
            "layout": "IPY_MODEL_4198b9e1e66e43e193239e855a95c236",
            "max": 5148,
            "min": 0,
            "orientation": "horizontal",
            "style": "IPY_MODEL_bdb72a6492244ad682a00e1ea4d0e777",
            "value": 5148
          }
        },
        "8d32006beb5746a6a281835871702162": {
          "model_module": "@jupyter-widgets/base",
          "model_module_version": "1.2.0",
          "model_name": "LayoutModel",
          "state": {
            "_model_module": "@jupyter-widgets/base",
            "_model_module_version": "1.2.0",
            "_model_name": "LayoutModel",
            "_view_count": null,
            "_view_module": "@jupyter-widgets/base",
            "_view_module_version": "1.2.0",
            "_view_name": "LayoutView",
            "align_content": null,
            "align_items": null,
            "align_self": null,
            "border": null,
            "bottom": null,
            "display": null,
            "flex": null,
            "flex_flow": null,
            "grid_area": null,
            "grid_auto_columns": null,
            "grid_auto_flow": null,
            "grid_auto_rows": null,
            "grid_column": null,
            "grid_gap": null,
            "grid_row": null,
            "grid_template_areas": null,
            "grid_template_columns": null,
            "grid_template_rows": null,
            "height": null,
            "justify_content": null,
            "justify_items": null,
            "left": null,
            "margin": null,
            "max_height": null,
            "max_width": null,
            "min_height": null,
            "min_width": null,
            "object_fit": null,
            "object_position": null,
            "order": null,
            "overflow": null,
            "overflow_x": null,
            "overflow_y": null,
            "padding": null,
            "right": null,
            "top": null,
            "visibility": null,
            "width": null
          }
        },
        "8eb48f10037247669adb173265231572": {
          "model_module": "@jupyter-widgets/controls",
          "model_module_version": "1.5.0",
          "model_name": "HTMLModel",
          "state": {
            "_dom_classes": [],
            "_model_module": "@jupyter-widgets/controls",
            "_model_module_version": "1.5.0",
            "_model_name": "HTMLModel",
            "_view_count": null,
            "_view_module": "@jupyter-widgets/controls",
            "_view_module_version": "1.5.0",
            "_view_name": "HTMLView",
            "description": "",
            "description_tooltip": null,
            "layout": "IPY_MODEL_9b57405bd67d4f2789ddc64c45cb50ca",
            "placeholder": "​",
            "style": "IPY_MODEL_9d517b7ec06d498bb9783d03721d9ba4",
            "value": " 26421880/26421880 [00:02&lt;00:00, 18494733.45it/s]"
          }
        },
        "8f4ae4f9a02847b09531cdca96821a73": {
          "model_module": "@jupyter-widgets/controls",
          "model_module_version": "1.5.0",
          "model_name": "HTMLModel",
          "state": {
            "_dom_classes": [],
            "_model_module": "@jupyter-widgets/controls",
            "_model_module_version": "1.5.0",
            "_model_name": "HTMLModel",
            "_view_count": null,
            "_view_module": "@jupyter-widgets/controls",
            "_view_module_version": "1.5.0",
            "_view_name": "HTMLView",
            "description": "",
            "description_tooltip": null,
            "layout": "IPY_MODEL_35b26162e8c84bc6a3bc5078ff125877",
            "placeholder": "​",
            "style": "IPY_MODEL_8fdf681421184ca491fd7308352dba6b",
            "value": " 5148/5148 [00:00&lt;00:00, 49377.03it/s]"
          }
        },
        "8fdf681421184ca491fd7308352dba6b": {
          "model_module": "@jupyter-widgets/controls",
          "model_module_version": "1.5.0",
          "model_name": "DescriptionStyleModel",
          "state": {
            "_model_module": "@jupyter-widgets/controls",
            "_model_module_version": "1.5.0",
            "_model_name": "DescriptionStyleModel",
            "_view_count": null,
            "_view_module": "@jupyter-widgets/base",
            "_view_module_version": "1.2.0",
            "_view_name": "StyleView",
            "description_width": ""
          }
        },
        "938de92efea543c0814848b3d1552a47": {
          "model_module": "@jupyter-widgets/controls",
          "model_module_version": "1.5.0",
          "model_name": "FloatProgressModel",
          "state": {
            "_dom_classes": [],
            "_model_module": "@jupyter-widgets/controls",
            "_model_module_version": "1.5.0",
            "_model_name": "FloatProgressModel",
            "_view_count": null,
            "_view_module": "@jupyter-widgets/controls",
            "_view_module_version": "1.5.0",
            "_view_name": "ProgressView",
            "bar_style": "success",
            "description": "",
            "description_tooltip": null,
            "layout": "IPY_MODEL_e4446f63ea4247849e7ec0334d350749",
            "max": 26421880,
            "min": 0,
            "orientation": "horizontal",
            "style": "IPY_MODEL_3cab15e390d341f5b8496e8292939ab6",
            "value": 26421880
          }
        },
        "99e39a601b5b4ee88e28c4bcac666b9b": {
          "model_module": "@jupyter-widgets/controls",
          "model_module_version": "1.5.0",
          "model_name": "HBoxModel",
          "state": {
            "_dom_classes": [],
            "_model_module": "@jupyter-widgets/controls",
            "_model_module_version": "1.5.0",
            "_model_name": "HBoxModel",
            "_view_count": null,
            "_view_module": "@jupyter-widgets/controls",
            "_view_module_version": "1.5.0",
            "_view_name": "HBoxView",
            "box_style": "",
            "children": [
              "IPY_MODEL_68da210fc69b4a0e9740e9ffb358b00a",
              "IPY_MODEL_938de92efea543c0814848b3d1552a47",
              "IPY_MODEL_8eb48f10037247669adb173265231572"
            ],
            "layout": "IPY_MODEL_79fdc15a502f4e97a70d33b2ad19624c"
          }
        },
        "9a07b6c6cd88481bb23858ea10ac68be": {
          "model_module": "@jupyter-widgets/controls",
          "model_module_version": "1.5.0",
          "model_name": "HTMLModel",
          "state": {
            "_dom_classes": [],
            "_model_module": "@jupyter-widgets/controls",
            "_model_module_version": "1.5.0",
            "_model_name": "HTMLModel",
            "_view_count": null,
            "_view_module": "@jupyter-widgets/controls",
            "_view_module_version": "1.5.0",
            "_view_name": "HTMLView",
            "description": "",
            "description_tooltip": null,
            "layout": "IPY_MODEL_6aca4868b57343789100b2104eabd139",
            "placeholder": "​",
            "style": "IPY_MODEL_757d9acfe26f42bdb971765c1d2213f2",
            "value": "100%"
          }
        },
        "9b57405bd67d4f2789ddc64c45cb50ca": {
          "model_module": "@jupyter-widgets/base",
          "model_module_version": "1.2.0",
          "model_name": "LayoutModel",
          "state": {
            "_model_module": "@jupyter-widgets/base",
            "_model_module_version": "1.2.0",
            "_model_name": "LayoutModel",
            "_view_count": null,
            "_view_module": "@jupyter-widgets/base",
            "_view_module_version": "1.2.0",
            "_view_name": "LayoutView",
            "align_content": null,
            "align_items": null,
            "align_self": null,
            "border": null,
            "bottom": null,
            "display": null,
            "flex": null,
            "flex_flow": null,
            "grid_area": null,
            "grid_auto_columns": null,
            "grid_auto_flow": null,
            "grid_auto_rows": null,
            "grid_column": null,
            "grid_gap": null,
            "grid_row": null,
            "grid_template_areas": null,
            "grid_template_columns": null,
            "grid_template_rows": null,
            "height": null,
            "justify_content": null,
            "justify_items": null,
            "left": null,
            "margin": null,
            "max_height": null,
            "max_width": null,
            "min_height": null,
            "min_width": null,
            "object_fit": null,
            "object_position": null,
            "order": null,
            "overflow": null,
            "overflow_x": null,
            "overflow_y": null,
            "padding": null,
            "right": null,
            "top": null,
            "visibility": null,
            "width": null
          }
        },
        "9bb41304d07840b282b06195a4e0ddba": {
          "model_module": "@jupyter-widgets/controls",
          "model_module_version": "1.5.0",
          "model_name": "DescriptionStyleModel",
          "state": {
            "_model_module": "@jupyter-widgets/controls",
            "_model_module_version": "1.5.0",
            "_model_name": "DescriptionStyleModel",
            "_view_count": null,
            "_view_module": "@jupyter-widgets/base",
            "_view_module_version": "1.2.0",
            "_view_name": "StyleView",
            "description_width": ""
          }
        },
        "9d517b7ec06d498bb9783d03721d9ba4": {
          "model_module": "@jupyter-widgets/controls",
          "model_module_version": "1.5.0",
          "model_name": "DescriptionStyleModel",
          "state": {
            "_model_module": "@jupyter-widgets/controls",
            "_model_module_version": "1.5.0",
            "_model_name": "DescriptionStyleModel",
            "_view_count": null,
            "_view_module": "@jupyter-widgets/base",
            "_view_module_version": "1.2.0",
            "_view_name": "StyleView",
            "description_width": ""
          }
        },
        "a242a10cbe1d4739af2890f0fc33abdc": {
          "model_module": "@jupyter-widgets/base",
          "model_module_version": "1.2.0",
          "model_name": "LayoutModel",
          "state": {
            "_model_module": "@jupyter-widgets/base",
            "_model_module_version": "1.2.0",
            "_model_name": "LayoutModel",
            "_view_count": null,
            "_view_module": "@jupyter-widgets/base",
            "_view_module_version": "1.2.0",
            "_view_name": "LayoutView",
            "align_content": null,
            "align_items": null,
            "align_self": null,
            "border": null,
            "bottom": null,
            "display": null,
            "flex": null,
            "flex_flow": null,
            "grid_area": null,
            "grid_auto_columns": null,
            "grid_auto_flow": null,
            "grid_auto_rows": null,
            "grid_column": null,
            "grid_gap": null,
            "grid_row": null,
            "grid_template_areas": null,
            "grid_template_columns": null,
            "grid_template_rows": null,
            "height": null,
            "justify_content": null,
            "justify_items": null,
            "left": null,
            "margin": null,
            "max_height": null,
            "max_width": null,
            "min_height": null,
            "min_width": null,
            "object_fit": null,
            "object_position": null,
            "order": null,
            "overflow": null,
            "overflow_x": null,
            "overflow_y": null,
            "padding": null,
            "right": null,
            "top": null,
            "visibility": null,
            "width": null
          }
        },
        "a4d767763c7547379ab8e6167b1cca05": {
          "model_module": "@jupyter-widgets/base",
          "model_module_version": "1.2.0",
          "model_name": "LayoutModel",
          "state": {
            "_model_module": "@jupyter-widgets/base",
            "_model_module_version": "1.2.0",
            "_model_name": "LayoutModel",
            "_view_count": null,
            "_view_module": "@jupyter-widgets/base",
            "_view_module_version": "1.2.0",
            "_view_name": "LayoutView",
            "align_content": null,
            "align_items": null,
            "align_self": null,
            "border": null,
            "bottom": null,
            "display": null,
            "flex": null,
            "flex_flow": null,
            "grid_area": null,
            "grid_auto_columns": null,
            "grid_auto_flow": null,
            "grid_auto_rows": null,
            "grid_column": null,
            "grid_gap": null,
            "grid_row": null,
            "grid_template_areas": null,
            "grid_template_columns": null,
            "grid_template_rows": null,
            "height": null,
            "justify_content": null,
            "justify_items": null,
            "left": null,
            "margin": null,
            "max_height": null,
            "max_width": null,
            "min_height": null,
            "min_width": null,
            "object_fit": null,
            "object_position": null,
            "order": null,
            "overflow": null,
            "overflow_x": null,
            "overflow_y": null,
            "padding": null,
            "right": null,
            "top": null,
            "visibility": null,
            "width": null
          }
        },
        "a7e5ec99ac9e4dffa47df47527eff84d": {
          "model_module": "@jupyter-widgets/controls",
          "model_module_version": "1.5.0",
          "model_name": "HTMLModel",
          "state": {
            "_dom_classes": [],
            "_model_module": "@jupyter-widgets/controls",
            "_model_module_version": "1.5.0",
            "_model_name": "HTMLModel",
            "_view_count": null,
            "_view_module": "@jupyter-widgets/controls",
            "_view_module_version": "1.5.0",
            "_view_name": "HTMLView",
            "description": "",
            "description_tooltip": null,
            "layout": "IPY_MODEL_be8bef3688b541a0b525b5340d9a5a77",
            "placeholder": "​",
            "style": "IPY_MODEL_c562272abd0d487a85356cf086a6a2e0",
            "value": "100%"
          }
        },
        "a9875e57a43e409f82648886a586d2a1": {
          "model_module": "@jupyter-widgets/controls",
          "model_module_version": "1.5.0",
          "model_name": "ProgressStyleModel",
          "state": {
            "_model_module": "@jupyter-widgets/controls",
            "_model_module_version": "1.5.0",
            "_model_name": "ProgressStyleModel",
            "_view_count": null,
            "_view_module": "@jupyter-widgets/base",
            "_view_module_version": "1.2.0",
            "_view_name": "StyleView",
            "bar_color": null,
            "description_width": ""
          }
        },
        "b1b2d23b00d04bff9734aad16d79cbe4": {
          "model_module": "@jupyter-widgets/base",
          "model_module_version": "1.2.0",
          "model_name": "LayoutModel",
          "state": {
            "_model_module": "@jupyter-widgets/base",
            "_model_module_version": "1.2.0",
            "_model_name": "LayoutModel",
            "_view_count": null,
            "_view_module": "@jupyter-widgets/base",
            "_view_module_version": "1.2.0",
            "_view_name": "LayoutView",
            "align_content": null,
            "align_items": null,
            "align_self": null,
            "border": null,
            "bottom": null,
            "display": null,
            "flex": null,
            "flex_flow": null,
            "grid_area": null,
            "grid_auto_columns": null,
            "grid_auto_flow": null,
            "grid_auto_rows": null,
            "grid_column": null,
            "grid_gap": null,
            "grid_row": null,
            "grid_template_areas": null,
            "grid_template_columns": null,
            "grid_template_rows": null,
            "height": null,
            "justify_content": null,
            "justify_items": null,
            "left": null,
            "margin": null,
            "max_height": null,
            "max_width": null,
            "min_height": null,
            "min_width": null,
            "object_fit": null,
            "object_position": null,
            "order": null,
            "overflow": null,
            "overflow_x": null,
            "overflow_y": null,
            "padding": null,
            "right": null,
            "top": null,
            "visibility": null,
            "width": null
          }
        },
        "bdb72a6492244ad682a00e1ea4d0e777": {
          "model_module": "@jupyter-widgets/controls",
          "model_module_version": "1.5.0",
          "model_name": "ProgressStyleModel",
          "state": {
            "_model_module": "@jupyter-widgets/controls",
            "_model_module_version": "1.5.0",
            "_model_name": "ProgressStyleModel",
            "_view_count": null,
            "_view_module": "@jupyter-widgets/base",
            "_view_module_version": "1.2.0",
            "_view_name": "StyleView",
            "bar_color": null,
            "description_width": ""
          }
        },
        "be8bef3688b541a0b525b5340d9a5a77": {
          "model_module": "@jupyter-widgets/base",
          "model_module_version": "1.2.0",
          "model_name": "LayoutModel",
          "state": {
            "_model_module": "@jupyter-widgets/base",
            "_model_module_version": "1.2.0",
            "_model_name": "LayoutModel",
            "_view_count": null,
            "_view_module": "@jupyter-widgets/base",
            "_view_module_version": "1.2.0",
            "_view_name": "LayoutView",
            "align_content": null,
            "align_items": null,
            "align_self": null,
            "border": null,
            "bottom": null,
            "display": null,
            "flex": null,
            "flex_flow": null,
            "grid_area": null,
            "grid_auto_columns": null,
            "grid_auto_flow": null,
            "grid_auto_rows": null,
            "grid_column": null,
            "grid_gap": null,
            "grid_row": null,
            "grid_template_areas": null,
            "grid_template_columns": null,
            "grid_template_rows": null,
            "height": null,
            "justify_content": null,
            "justify_items": null,
            "left": null,
            "margin": null,
            "max_height": null,
            "max_width": null,
            "min_height": null,
            "min_width": null,
            "object_fit": null,
            "object_position": null,
            "order": null,
            "overflow": null,
            "overflow_x": null,
            "overflow_y": null,
            "padding": null,
            "right": null,
            "top": null,
            "visibility": null,
            "width": null
          }
        },
        "be960f80db46499480fbdc5b4d65b247": {
          "model_module": "@jupyter-widgets/controls",
          "model_module_version": "1.5.0",
          "model_name": "HBoxModel",
          "state": {
            "_dom_classes": [],
            "_model_module": "@jupyter-widgets/controls",
            "_model_module_version": "1.5.0",
            "_model_name": "HBoxModel",
            "_view_count": null,
            "_view_module": "@jupyter-widgets/controls",
            "_view_module_version": "1.5.0",
            "_view_name": "HBoxView",
            "box_style": "",
            "children": [
              "IPY_MODEL_3abf31cf4a084c43895c026b9a41d4d5",
              "IPY_MODEL_6c32b0c6a7b74444a568e21fdc55002b",
              "IPY_MODEL_4d1deb37cd9b4c098cb54dfb62c7d639"
            ],
            "layout": "IPY_MODEL_1ab920008e9f4cfa9593c9836745b228"
          }
        },
        "c268ec99a9454d29aa23b88493da8200": {
          "model_module": "@jupyter-widgets/controls",
          "model_module_version": "1.5.0",
          "model_name": "FloatProgressModel",
          "state": {
            "_dom_classes": [],
            "_model_module": "@jupyter-widgets/controls",
            "_model_module_version": "1.5.0",
            "_model_name": "FloatProgressModel",
            "_view_count": null,
            "_view_module": "@jupyter-widgets/controls",
            "_view_module_version": "1.5.0",
            "_view_name": "ProgressView",
            "bar_style": "success",
            "description": "",
            "description_tooltip": null,
            "layout": "IPY_MODEL_d6d5dab23a524de1a5125e67c8406bc1",
            "max": 5,
            "min": 0,
            "orientation": "horizontal",
            "style": "IPY_MODEL_a9875e57a43e409f82648886a586d2a1",
            "value": 5
          }
        },
        "c562272abd0d487a85356cf086a6a2e0": {
          "model_module": "@jupyter-widgets/controls",
          "model_module_version": "1.5.0",
          "model_name": "DescriptionStyleModel",
          "state": {
            "_model_module": "@jupyter-widgets/controls",
            "_model_module_version": "1.5.0",
            "_model_name": "DescriptionStyleModel",
            "_view_count": null,
            "_view_module": "@jupyter-widgets/base",
            "_view_module_version": "1.2.0",
            "_view_name": "StyleView",
            "description_width": ""
          }
        },
        "c715b61dda6f447e8befe1ab99ca6223": {
          "model_module": "@jupyter-widgets/controls",
          "model_module_version": "1.5.0",
          "model_name": "DescriptionStyleModel",
          "state": {
            "_model_module": "@jupyter-widgets/controls",
            "_model_module_version": "1.5.0",
            "_model_name": "DescriptionStyleModel",
            "_view_count": null,
            "_view_module": "@jupyter-widgets/base",
            "_view_module_version": "1.2.0",
            "_view_name": "StyleView",
            "description_width": ""
          }
        },
        "cae7b1556aaa40a0b5c50210e2ad1c29": {
          "model_module": "@jupyter-widgets/controls",
          "model_module_version": "1.5.0",
          "model_name": "HTMLModel",
          "state": {
            "_dom_classes": [],
            "_model_module": "@jupyter-widgets/controls",
            "_model_module_version": "1.5.0",
            "_model_name": "HTMLModel",
            "_view_count": null,
            "_view_module": "@jupyter-widgets/controls",
            "_view_module_version": "1.5.0",
            "_view_name": "HTMLView",
            "description": "",
            "description_tooltip": null,
            "layout": "IPY_MODEL_e7fb6bc3bc504d93a929b3681337e0d3",
            "placeholder": "​",
            "style": "IPY_MODEL_212ed90b181e46eba9bd6f3dbd34b4a5",
            "value": " 4422102/4422102 [00:01&lt;00:00, 6430312.30it/s]"
          }
        },
        "d22e2c4665884bd7aadc3dbfbeedafa5": {
          "model_module": "@jupyter-widgets/controls",
          "model_module_version": "1.5.0",
          "model_name": "DescriptionStyleModel",
          "state": {
            "_model_module": "@jupyter-widgets/controls",
            "_model_module_version": "1.5.0",
            "_model_name": "DescriptionStyleModel",
            "_view_count": null,
            "_view_module": "@jupyter-widgets/base",
            "_view_module_version": "1.2.0",
            "_view_name": "StyleView",
            "description_width": ""
          }
        },
        "d6d5dab23a524de1a5125e67c8406bc1": {
          "model_module": "@jupyter-widgets/base",
          "model_module_version": "1.2.0",
          "model_name": "LayoutModel",
          "state": {
            "_model_module": "@jupyter-widgets/base",
            "_model_module_version": "1.2.0",
            "_model_name": "LayoutModel",
            "_view_count": null,
            "_view_module": "@jupyter-widgets/base",
            "_view_module_version": "1.2.0",
            "_view_name": "LayoutView",
            "align_content": null,
            "align_items": null,
            "align_self": null,
            "border": null,
            "bottom": null,
            "display": null,
            "flex": null,
            "flex_flow": null,
            "grid_area": null,
            "grid_auto_columns": null,
            "grid_auto_flow": null,
            "grid_auto_rows": null,
            "grid_column": null,
            "grid_gap": null,
            "grid_row": null,
            "grid_template_areas": null,
            "grid_template_columns": null,
            "grid_template_rows": null,
            "height": null,
            "justify_content": null,
            "justify_items": null,
            "left": null,
            "margin": null,
            "max_height": null,
            "max_width": null,
            "min_height": null,
            "min_width": null,
            "object_fit": null,
            "object_position": null,
            "order": null,
            "overflow": null,
            "overflow_x": null,
            "overflow_y": null,
            "padding": null,
            "right": null,
            "top": null,
            "visibility": null,
            "width": null
          }
        },
        "db3b87b488744861b98e7e98383d910d": {
          "model_module": "@jupyter-widgets/base",
          "model_module_version": "1.2.0",
          "model_name": "LayoutModel",
          "state": {
            "_model_module": "@jupyter-widgets/base",
            "_model_module_version": "1.2.0",
            "_model_name": "LayoutModel",
            "_view_count": null,
            "_view_module": "@jupyter-widgets/base",
            "_view_module_version": "1.2.0",
            "_view_name": "LayoutView",
            "align_content": null,
            "align_items": null,
            "align_self": null,
            "border": null,
            "bottom": null,
            "display": null,
            "flex": null,
            "flex_flow": null,
            "grid_area": null,
            "grid_auto_columns": null,
            "grid_auto_flow": null,
            "grid_auto_rows": null,
            "grid_column": null,
            "grid_gap": null,
            "grid_row": null,
            "grid_template_areas": null,
            "grid_template_columns": null,
            "grid_template_rows": null,
            "height": null,
            "justify_content": null,
            "justify_items": null,
            "left": null,
            "margin": null,
            "max_height": null,
            "max_width": null,
            "min_height": null,
            "min_width": null,
            "object_fit": null,
            "object_position": null,
            "order": null,
            "overflow": null,
            "overflow_x": null,
            "overflow_y": null,
            "padding": null,
            "right": null,
            "top": null,
            "visibility": null,
            "width": null
          }
        },
        "dcf95546500f42069967d5adc9502dae": {
          "model_module": "@jupyter-widgets/controls",
          "model_module_version": "1.5.0",
          "model_name": "HBoxModel",
          "state": {
            "_dom_classes": [],
            "_model_module": "@jupyter-widgets/controls",
            "_model_module_version": "1.5.0",
            "_model_name": "HBoxModel",
            "_view_count": null,
            "_view_module": "@jupyter-widgets/controls",
            "_view_module_version": "1.5.0",
            "_view_name": "HBoxView",
            "box_style": "",
            "children": [
              "IPY_MODEL_a7e5ec99ac9e4dffa47df47527eff84d",
              "IPY_MODEL_c268ec99a9454d29aa23b88493da8200",
              "IPY_MODEL_2cb5bcd61241465da3ad9075ad56a530"
            ],
            "layout": "IPY_MODEL_8d32006beb5746a6a281835871702162"
          }
        },
        "de993698c6d44d448b08ac2a9e8d2c87": {
          "model_module": "@jupyter-widgets/base",
          "model_module_version": "1.2.0",
          "model_name": "LayoutModel",
          "state": {
            "_model_module": "@jupyter-widgets/base",
            "_model_module_version": "1.2.0",
            "_model_name": "LayoutModel",
            "_view_count": null,
            "_view_module": "@jupyter-widgets/base",
            "_view_module_version": "1.2.0",
            "_view_name": "LayoutView",
            "align_content": null,
            "align_items": null,
            "align_self": null,
            "border": null,
            "bottom": null,
            "display": null,
            "flex": null,
            "flex_flow": null,
            "grid_area": null,
            "grid_auto_columns": null,
            "grid_auto_flow": null,
            "grid_auto_rows": null,
            "grid_column": null,
            "grid_gap": null,
            "grid_row": null,
            "grid_template_areas": null,
            "grid_template_columns": null,
            "grid_template_rows": null,
            "height": null,
            "justify_content": null,
            "justify_items": null,
            "left": null,
            "margin": null,
            "max_height": null,
            "max_width": null,
            "min_height": null,
            "min_width": null,
            "object_fit": null,
            "object_position": null,
            "order": null,
            "overflow": null,
            "overflow_x": null,
            "overflow_y": null,
            "padding": null,
            "right": null,
            "top": null,
            "visibility": null,
            "width": null
          }
        },
        "df5ff9fb8765442fa15d325314180f29": {
          "model_module": "@jupyter-widgets/base",
          "model_module_version": "1.2.0",
          "model_name": "LayoutModel",
          "state": {
            "_model_module": "@jupyter-widgets/base",
            "_model_module_version": "1.2.0",
            "_model_name": "LayoutModel",
            "_view_count": null,
            "_view_module": "@jupyter-widgets/base",
            "_view_module_version": "1.2.0",
            "_view_name": "LayoutView",
            "align_content": null,
            "align_items": null,
            "align_self": null,
            "border": null,
            "bottom": null,
            "display": null,
            "flex": null,
            "flex_flow": null,
            "grid_area": null,
            "grid_auto_columns": null,
            "grid_auto_flow": null,
            "grid_auto_rows": null,
            "grid_column": null,
            "grid_gap": null,
            "grid_row": null,
            "grid_template_areas": null,
            "grid_template_columns": null,
            "grid_template_rows": null,
            "height": null,
            "justify_content": null,
            "justify_items": null,
            "left": null,
            "margin": null,
            "max_height": null,
            "max_width": null,
            "min_height": null,
            "min_width": null,
            "object_fit": null,
            "object_position": null,
            "order": null,
            "overflow": null,
            "overflow_x": null,
            "overflow_y": null,
            "padding": null,
            "right": null,
            "top": null,
            "visibility": null,
            "width": null
          }
        },
        "e27ee723c8eb451cac027d4422fb4ab2": {
          "model_module": "@jupyter-widgets/controls",
          "model_module_version": "1.5.0",
          "model_name": "ProgressStyleModel",
          "state": {
            "_model_module": "@jupyter-widgets/controls",
            "_model_module_version": "1.5.0",
            "_model_name": "ProgressStyleModel",
            "_view_count": null,
            "_view_module": "@jupyter-widgets/base",
            "_view_module_version": "1.2.0",
            "_view_name": "StyleView",
            "bar_color": null,
            "description_width": ""
          }
        },
        "e29326e2e14d4c6a8f6522c8ce5677f0": {
          "model_module": "@jupyter-widgets/base",
          "model_module_version": "1.2.0",
          "model_name": "LayoutModel",
          "state": {
            "_model_module": "@jupyter-widgets/base",
            "_model_module_version": "1.2.0",
            "_model_name": "LayoutModel",
            "_view_count": null,
            "_view_module": "@jupyter-widgets/base",
            "_view_module_version": "1.2.0",
            "_view_name": "LayoutView",
            "align_content": null,
            "align_items": null,
            "align_self": null,
            "border": null,
            "bottom": null,
            "display": null,
            "flex": null,
            "flex_flow": null,
            "grid_area": null,
            "grid_auto_columns": null,
            "grid_auto_flow": null,
            "grid_auto_rows": null,
            "grid_column": null,
            "grid_gap": null,
            "grid_row": null,
            "grid_template_areas": null,
            "grid_template_columns": null,
            "grid_template_rows": null,
            "height": null,
            "justify_content": null,
            "justify_items": null,
            "left": null,
            "margin": null,
            "max_height": null,
            "max_width": null,
            "min_height": null,
            "min_width": null,
            "object_fit": null,
            "object_position": null,
            "order": null,
            "overflow": null,
            "overflow_x": null,
            "overflow_y": null,
            "padding": null,
            "right": null,
            "top": null,
            "visibility": null,
            "width": null
          }
        },
        "e4446f63ea4247849e7ec0334d350749": {
          "model_module": "@jupyter-widgets/base",
          "model_module_version": "1.2.0",
          "model_name": "LayoutModel",
          "state": {
            "_model_module": "@jupyter-widgets/base",
            "_model_module_version": "1.2.0",
            "_model_name": "LayoutModel",
            "_view_count": null,
            "_view_module": "@jupyter-widgets/base",
            "_view_module_version": "1.2.0",
            "_view_name": "LayoutView",
            "align_content": null,
            "align_items": null,
            "align_self": null,
            "border": null,
            "bottom": null,
            "display": null,
            "flex": null,
            "flex_flow": null,
            "grid_area": null,
            "grid_auto_columns": null,
            "grid_auto_flow": null,
            "grid_auto_rows": null,
            "grid_column": null,
            "grid_gap": null,
            "grid_row": null,
            "grid_template_areas": null,
            "grid_template_columns": null,
            "grid_template_rows": null,
            "height": null,
            "justify_content": null,
            "justify_items": null,
            "left": null,
            "margin": null,
            "max_height": null,
            "max_width": null,
            "min_height": null,
            "min_width": null,
            "object_fit": null,
            "object_position": null,
            "order": null,
            "overflow": null,
            "overflow_x": null,
            "overflow_y": null,
            "padding": null,
            "right": null,
            "top": null,
            "visibility": null,
            "width": null
          }
        },
        "e7fb6bc3bc504d93a929b3681337e0d3": {
          "model_module": "@jupyter-widgets/base",
          "model_module_version": "1.2.0",
          "model_name": "LayoutModel",
          "state": {
            "_model_module": "@jupyter-widgets/base",
            "_model_module_version": "1.2.0",
            "_model_name": "LayoutModel",
            "_view_count": null,
            "_view_module": "@jupyter-widgets/base",
            "_view_module_version": "1.2.0",
            "_view_name": "LayoutView",
            "align_content": null,
            "align_items": null,
            "align_self": null,
            "border": null,
            "bottom": null,
            "display": null,
            "flex": null,
            "flex_flow": null,
            "grid_area": null,
            "grid_auto_columns": null,
            "grid_auto_flow": null,
            "grid_auto_rows": null,
            "grid_column": null,
            "grid_gap": null,
            "grid_row": null,
            "grid_template_areas": null,
            "grid_template_columns": null,
            "grid_template_rows": null,
            "height": null,
            "justify_content": null,
            "justify_items": null,
            "left": null,
            "margin": null,
            "max_height": null,
            "max_width": null,
            "min_height": null,
            "min_width": null,
            "object_fit": null,
            "object_position": null,
            "order": null,
            "overflow": null,
            "overflow_x": null,
            "overflow_y": null,
            "padding": null,
            "right": null,
            "top": null,
            "visibility": null,
            "width": null
          }
        },
        "f2d42dd53b8d4ab1b056b86f8e0a92ed": {
          "model_module": "@jupyter-widgets/controls",
          "model_module_version": "1.5.0",
          "model_name": "DescriptionStyleModel",
          "state": {
            "_model_module": "@jupyter-widgets/controls",
            "_model_module_version": "1.5.0",
            "_model_name": "DescriptionStyleModel",
            "_view_count": null,
            "_view_module": "@jupyter-widgets/base",
            "_view_module_version": "1.2.0",
            "_view_name": "StyleView",
            "description_width": ""
          }
        },
        "f5c2966d3f41451bb3809f15b82c3eab": {
          "model_module": "@jupyter-widgets/base",
          "model_module_version": "1.2.0",
          "model_name": "LayoutModel",
          "state": {
            "_model_module": "@jupyter-widgets/base",
            "_model_module_version": "1.2.0",
            "_model_name": "LayoutModel",
            "_view_count": null,
            "_view_module": "@jupyter-widgets/base",
            "_view_module_version": "1.2.0",
            "_view_name": "LayoutView",
            "align_content": null,
            "align_items": null,
            "align_self": null,
            "border": null,
            "bottom": null,
            "display": null,
            "flex": null,
            "flex_flow": null,
            "grid_area": null,
            "grid_auto_columns": null,
            "grid_auto_flow": null,
            "grid_auto_rows": null,
            "grid_column": null,
            "grid_gap": null,
            "grid_row": null,
            "grid_template_areas": null,
            "grid_template_columns": null,
            "grid_template_rows": null,
            "height": null,
            "justify_content": null,
            "justify_items": null,
            "left": null,
            "margin": null,
            "max_height": null,
            "max_width": null,
            "min_height": null,
            "min_width": null,
            "object_fit": null,
            "object_position": null,
            "order": null,
            "overflow": null,
            "overflow_x": null,
            "overflow_y": null,
            "padding": null,
            "right": null,
            "top": null,
            "visibility": null,
            "width": null
          }
        },
        "f8163346252b43a992d478e4f6bdc041": {
          "model_module": "@jupyter-widgets/base",
          "model_module_version": "1.2.0",
          "model_name": "LayoutModel",
          "state": {
            "_model_module": "@jupyter-widgets/base",
            "_model_module_version": "1.2.0",
            "_model_name": "LayoutModel",
            "_view_count": null,
            "_view_module": "@jupyter-widgets/base",
            "_view_module_version": "1.2.0",
            "_view_name": "LayoutView",
            "align_content": null,
            "align_items": null,
            "align_self": null,
            "border": null,
            "bottom": null,
            "display": null,
            "flex": null,
            "flex_flow": null,
            "grid_area": null,
            "grid_auto_columns": null,
            "grid_auto_flow": null,
            "grid_auto_rows": null,
            "grid_column": null,
            "grid_gap": null,
            "grid_row": null,
            "grid_template_areas": null,
            "grid_template_columns": null,
            "grid_template_rows": null,
            "height": null,
            "justify_content": null,
            "justify_items": null,
            "left": null,
            "margin": null,
            "max_height": null,
            "max_width": null,
            "min_height": null,
            "min_width": null,
            "object_fit": null,
            "object_position": null,
            "order": null,
            "overflow": null,
            "overflow_x": null,
            "overflow_y": null,
            "padding": null,
            "right": null,
            "top": null,
            "visibility": null,
            "width": null
          }
        },
        "f8bcf85dbd47445d84d0799d141ef602": {
          "model_module": "@jupyter-widgets/base",
          "model_module_version": "1.2.0",
          "model_name": "LayoutModel",
          "state": {
            "_model_module": "@jupyter-widgets/base",
            "_model_module_version": "1.2.0",
            "_model_name": "LayoutModel",
            "_view_count": null,
            "_view_module": "@jupyter-widgets/base",
            "_view_module_version": "1.2.0",
            "_view_name": "LayoutView",
            "align_content": null,
            "align_items": null,
            "align_self": null,
            "border": null,
            "bottom": null,
            "display": null,
            "flex": null,
            "flex_flow": null,
            "grid_area": null,
            "grid_auto_columns": null,
            "grid_auto_flow": null,
            "grid_auto_rows": null,
            "grid_column": null,
            "grid_gap": null,
            "grid_row": null,
            "grid_template_areas": null,
            "grid_template_columns": null,
            "grid_template_rows": null,
            "height": null,
            "justify_content": null,
            "justify_items": null,
            "left": null,
            "margin": null,
            "max_height": null,
            "max_width": null,
            "min_height": null,
            "min_width": null,
            "object_fit": null,
            "object_position": null,
            "order": null,
            "overflow": null,
            "overflow_x": null,
            "overflow_y": null,
            "padding": null,
            "right": null,
            "top": null,
            "visibility": null,
            "width": null
          }
        }
      }
    }
  },
  "nbformat": 4,
  "nbformat_minor": 0
}
