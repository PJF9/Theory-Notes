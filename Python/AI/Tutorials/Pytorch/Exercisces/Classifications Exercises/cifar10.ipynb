{
  "nbformat": 4,
  "nbformat_minor": 0,
  "metadata": {
    "colab": {
      "provenance": []
    },
    "kernelspec": {
      "name": "python3",
      "display_name": "Python 3"
    },
    "language_info": {
      "name": "python"
    },
    "gpuClass": "standard",
    "accelerator": "GPU",
    "widgets": {
      "application/vnd.jupyter.widget-state+json": {
        "d05d0e0bcd63475db5a046c96cbb53fe": {
          "model_module": "@jupyter-widgets/controls",
          "model_name": "HBoxModel",
          "model_module_version": "1.5.0",
          "state": {
            "_dom_classes": [],
            "_model_module": "@jupyter-widgets/controls",
            "_model_module_version": "1.5.0",
            "_model_name": "HBoxModel",
            "_view_count": null,
            "_view_module": "@jupyter-widgets/controls",
            "_view_module_version": "1.5.0",
            "_view_name": "HBoxView",
            "box_style": "",
            "children": [
              "IPY_MODEL_052260bc03e54c35a89fafbd792c00f5",
              "IPY_MODEL_63f36efb49c14648a86acf34e8a2d029",
              "IPY_MODEL_423b933da9644ab2bfda8a9968728d44"
            ],
            "layout": "IPY_MODEL_11e5abb3f7ad445d909f4938f9132b0c"
          }
        },
        "052260bc03e54c35a89fafbd792c00f5": {
          "model_module": "@jupyter-widgets/controls",
          "model_name": "HTMLModel",
          "model_module_version": "1.5.0",
          "state": {
            "_dom_classes": [],
            "_model_module": "@jupyter-widgets/controls",
            "_model_module_version": "1.5.0",
            "_model_name": "HTMLModel",
            "_view_count": null,
            "_view_module": "@jupyter-widgets/controls",
            "_view_module_version": "1.5.0",
            "_view_name": "HTMLView",
            "description": "",
            "description_tooltip": null,
            "layout": "IPY_MODEL_a2558a77092d4ec29fc9f7a91dc0dc67",
            "placeholder": "​",
            "style": "IPY_MODEL_c20301ba83254117a3644bb701e52162",
            "value": "100%"
          }
        },
        "63f36efb49c14648a86acf34e8a2d029": {
          "model_module": "@jupyter-widgets/controls",
          "model_name": "FloatProgressModel",
          "model_module_version": "1.5.0",
          "state": {
            "_dom_classes": [],
            "_model_module": "@jupyter-widgets/controls",
            "_model_module_version": "1.5.0",
            "_model_name": "FloatProgressModel",
            "_view_count": null,
            "_view_module": "@jupyter-widgets/controls",
            "_view_module_version": "1.5.0",
            "_view_name": "ProgressView",
            "bar_style": "success",
            "description": "",
            "description_tooltip": null,
            "layout": "IPY_MODEL_79a071da63ae4d6db8d902ff69843fd9",
            "max": 10,
            "min": 0,
            "orientation": "horizontal",
            "style": "IPY_MODEL_a5bf83bd37bb4581b51af242ae2fea29",
            "value": 10
          }
        },
        "423b933da9644ab2bfda8a9968728d44": {
          "model_module": "@jupyter-widgets/controls",
          "model_name": "HTMLModel",
          "model_module_version": "1.5.0",
          "state": {
            "_dom_classes": [],
            "_model_module": "@jupyter-widgets/controls",
            "_model_module_version": "1.5.0",
            "_model_name": "HTMLModel",
            "_view_count": null,
            "_view_module": "@jupyter-widgets/controls",
            "_view_module_version": "1.5.0",
            "_view_name": "HTMLView",
            "description": "",
            "description_tooltip": null,
            "layout": "IPY_MODEL_9beb1b9dc0ff415c8024b8f39acfd879",
            "placeholder": "​",
            "style": "IPY_MODEL_48082dc388bc4f92b6d74ce2ca06169b",
            "value": " 10/10 [02:19&lt;00:00, 13.82s/it]"
          }
        },
        "11e5abb3f7ad445d909f4938f9132b0c": {
          "model_module": "@jupyter-widgets/base",
          "model_name": "LayoutModel",
          "model_module_version": "1.2.0",
          "state": {
            "_model_module": "@jupyter-widgets/base",
            "_model_module_version": "1.2.0",
            "_model_name": "LayoutModel",
            "_view_count": null,
            "_view_module": "@jupyter-widgets/base",
            "_view_module_version": "1.2.0",
            "_view_name": "LayoutView",
            "align_content": null,
            "align_items": null,
            "align_self": null,
            "border": null,
            "bottom": null,
            "display": null,
            "flex": null,
            "flex_flow": null,
            "grid_area": null,
            "grid_auto_columns": null,
            "grid_auto_flow": null,
            "grid_auto_rows": null,
            "grid_column": null,
            "grid_gap": null,
            "grid_row": null,
            "grid_template_areas": null,
            "grid_template_columns": null,
            "grid_template_rows": null,
            "height": null,
            "justify_content": null,
            "justify_items": null,
            "left": null,
            "margin": null,
            "max_height": null,
            "max_width": null,
            "min_height": null,
            "min_width": null,
            "object_fit": null,
            "object_position": null,
            "order": null,
            "overflow": null,
            "overflow_x": null,
            "overflow_y": null,
            "padding": null,
            "right": null,
            "top": null,
            "visibility": null,
            "width": null
          }
        },
        "a2558a77092d4ec29fc9f7a91dc0dc67": {
          "model_module": "@jupyter-widgets/base",
          "model_name": "LayoutModel",
          "model_module_version": "1.2.0",
          "state": {
            "_model_module": "@jupyter-widgets/base",
            "_model_module_version": "1.2.0",
            "_model_name": "LayoutModel",
            "_view_count": null,
            "_view_module": "@jupyter-widgets/base",
            "_view_module_version": "1.2.0",
            "_view_name": "LayoutView",
            "align_content": null,
            "align_items": null,
            "align_self": null,
            "border": null,
            "bottom": null,
            "display": null,
            "flex": null,
            "flex_flow": null,
            "grid_area": null,
            "grid_auto_columns": null,
            "grid_auto_flow": null,
            "grid_auto_rows": null,
            "grid_column": null,
            "grid_gap": null,
            "grid_row": null,
            "grid_template_areas": null,
            "grid_template_columns": null,
            "grid_template_rows": null,
            "height": null,
            "justify_content": null,
            "justify_items": null,
            "left": null,
            "margin": null,
            "max_height": null,
            "max_width": null,
            "min_height": null,
            "min_width": null,
            "object_fit": null,
            "object_position": null,
            "order": null,
            "overflow": null,
            "overflow_x": null,
            "overflow_y": null,
            "padding": null,
            "right": null,
            "top": null,
            "visibility": null,
            "width": null
          }
        },
        "c20301ba83254117a3644bb701e52162": {
          "model_module": "@jupyter-widgets/controls",
          "model_name": "DescriptionStyleModel",
          "model_module_version": "1.5.0",
          "state": {
            "_model_module": "@jupyter-widgets/controls",
            "_model_module_version": "1.5.0",
            "_model_name": "DescriptionStyleModel",
            "_view_count": null,
            "_view_module": "@jupyter-widgets/base",
            "_view_module_version": "1.2.0",
            "_view_name": "StyleView",
            "description_width": ""
          }
        },
        "79a071da63ae4d6db8d902ff69843fd9": {
          "model_module": "@jupyter-widgets/base",
          "model_name": "LayoutModel",
          "model_module_version": "1.2.0",
          "state": {
            "_model_module": "@jupyter-widgets/base",
            "_model_module_version": "1.2.0",
            "_model_name": "LayoutModel",
            "_view_count": null,
            "_view_module": "@jupyter-widgets/base",
            "_view_module_version": "1.2.0",
            "_view_name": "LayoutView",
            "align_content": null,
            "align_items": null,
            "align_self": null,
            "border": null,
            "bottom": null,
            "display": null,
            "flex": null,
            "flex_flow": null,
            "grid_area": null,
            "grid_auto_columns": null,
            "grid_auto_flow": null,
            "grid_auto_rows": null,
            "grid_column": null,
            "grid_gap": null,
            "grid_row": null,
            "grid_template_areas": null,
            "grid_template_columns": null,
            "grid_template_rows": null,
            "height": null,
            "justify_content": null,
            "justify_items": null,
            "left": null,
            "margin": null,
            "max_height": null,
            "max_width": null,
            "min_height": null,
            "min_width": null,
            "object_fit": null,
            "object_position": null,
            "order": null,
            "overflow": null,
            "overflow_x": null,
            "overflow_y": null,
            "padding": null,
            "right": null,
            "top": null,
            "visibility": null,
            "width": null
          }
        },
        "a5bf83bd37bb4581b51af242ae2fea29": {
          "model_module": "@jupyter-widgets/controls",
          "model_name": "ProgressStyleModel",
          "model_module_version": "1.5.0",
          "state": {
            "_model_module": "@jupyter-widgets/controls",
            "_model_module_version": "1.5.0",
            "_model_name": "ProgressStyleModel",
            "_view_count": null,
            "_view_module": "@jupyter-widgets/base",
            "_view_module_version": "1.2.0",
            "_view_name": "StyleView",
            "bar_color": null,
            "description_width": ""
          }
        },
        "9beb1b9dc0ff415c8024b8f39acfd879": {
          "model_module": "@jupyter-widgets/base",
          "model_name": "LayoutModel",
          "model_module_version": "1.2.0",
          "state": {
            "_model_module": "@jupyter-widgets/base",
            "_model_module_version": "1.2.0",
            "_model_name": "LayoutModel",
            "_view_count": null,
            "_view_module": "@jupyter-widgets/base",
            "_view_module_version": "1.2.0",
            "_view_name": "LayoutView",
            "align_content": null,
            "align_items": null,
            "align_self": null,
            "border": null,
            "bottom": null,
            "display": null,
            "flex": null,
            "flex_flow": null,
            "grid_area": null,
            "grid_auto_columns": null,
            "grid_auto_flow": null,
            "grid_auto_rows": null,
            "grid_column": null,
            "grid_gap": null,
            "grid_row": null,
            "grid_template_areas": null,
            "grid_template_columns": null,
            "grid_template_rows": null,
            "height": null,
            "justify_content": null,
            "justify_items": null,
            "left": null,
            "margin": null,
            "max_height": null,
            "max_width": null,
            "min_height": null,
            "min_width": null,
            "object_fit": null,
            "object_position": null,
            "order": null,
            "overflow": null,
            "overflow_x": null,
            "overflow_y": null,
            "padding": null,
            "right": null,
            "top": null,
            "visibility": null,
            "width": null
          }
        },
        "48082dc388bc4f92b6d74ce2ca06169b": {
          "model_module": "@jupyter-widgets/controls",
          "model_name": "DescriptionStyleModel",
          "model_module_version": "1.5.0",
          "state": {
            "_model_module": "@jupyter-widgets/controls",
            "_model_module_version": "1.5.0",
            "_model_name": "DescriptionStyleModel",
            "_view_count": null,
            "_view_module": "@jupyter-widgets/base",
            "_view_module_version": "1.2.0",
            "_view_name": "StyleView",
            "description_width": ""
          }
        },
        "f22cc44cde564ecaa6ee3a59ed98a4d3": {
          "model_module": "@jupyter-widgets/controls",
          "model_name": "HBoxModel",
          "model_module_version": "1.5.0",
          "state": {
            "_dom_classes": [],
            "_model_module": "@jupyter-widgets/controls",
            "_model_module_version": "1.5.0",
            "_model_name": "HBoxModel",
            "_view_count": null,
            "_view_module": "@jupyter-widgets/controls",
            "_view_module_version": "1.5.0",
            "_view_name": "HBoxView",
            "box_style": "",
            "children": [
              "IPY_MODEL_a70d2870627549f0a4b98f1b7ebc09ff",
              "IPY_MODEL_dd21b868cb1e4189a2cb443c0f772753",
              "IPY_MODEL_b89f51d9b72047649e39b551e34f8fdd"
            ],
            "layout": "IPY_MODEL_5cff82ced6b74a6c82bf4c72e1dd71aa"
          }
        },
        "a70d2870627549f0a4b98f1b7ebc09ff": {
          "model_module": "@jupyter-widgets/controls",
          "model_name": "HTMLModel",
          "model_module_version": "1.5.0",
          "state": {
            "_dom_classes": [],
            "_model_module": "@jupyter-widgets/controls",
            "_model_module_version": "1.5.0",
            "_model_name": "HTMLModel",
            "_view_count": null,
            "_view_module": "@jupyter-widgets/controls",
            "_view_module_version": "1.5.0",
            "_view_name": "HTMLView",
            "description": "",
            "description_tooltip": null,
            "layout": "IPY_MODEL_c2acdd4da3da4435924c5155807fae13",
            "placeholder": "​",
            "style": "IPY_MODEL_75265bc94eae430792f2938eb8e3c335",
            "value": "100%"
          }
        },
        "dd21b868cb1e4189a2cb443c0f772753": {
          "model_module": "@jupyter-widgets/controls",
          "model_name": "FloatProgressModel",
          "model_module_version": "1.5.0",
          "state": {
            "_dom_classes": [],
            "_model_module": "@jupyter-widgets/controls",
            "_model_module_version": "1.5.0",
            "_model_name": "FloatProgressModel",
            "_view_count": null,
            "_view_module": "@jupyter-widgets/controls",
            "_view_module_version": "1.5.0",
            "_view_name": "ProgressView",
            "bar_style": "success",
            "description": "",
            "description_tooltip": null,
            "layout": "IPY_MODEL_2fd62f95ea8946199970e995222136ea",
            "max": 10,
            "min": 0,
            "orientation": "horizontal",
            "style": "IPY_MODEL_ade5630df41e4502b695562de57b5ee2",
            "value": 10
          }
        },
        "b89f51d9b72047649e39b551e34f8fdd": {
          "model_module": "@jupyter-widgets/controls",
          "model_name": "HTMLModel",
          "model_module_version": "1.5.0",
          "state": {
            "_dom_classes": [],
            "_model_module": "@jupyter-widgets/controls",
            "_model_module_version": "1.5.0",
            "_model_name": "HTMLModel",
            "_view_count": null,
            "_view_module": "@jupyter-widgets/controls",
            "_view_module_version": "1.5.0",
            "_view_name": "HTMLView",
            "description": "",
            "description_tooltip": null,
            "layout": "IPY_MODEL_1069e2ad77744904b9dff2a716b9ec7d",
            "placeholder": "​",
            "style": "IPY_MODEL_3b2fa408dd1044b6a7aa4889bd411826",
            "value": " 10/10 [02:45&lt;00:00, 16.36s/it]"
          }
        },
        "5cff82ced6b74a6c82bf4c72e1dd71aa": {
          "model_module": "@jupyter-widgets/base",
          "model_name": "LayoutModel",
          "model_module_version": "1.2.0",
          "state": {
            "_model_module": "@jupyter-widgets/base",
            "_model_module_version": "1.2.0",
            "_model_name": "LayoutModel",
            "_view_count": null,
            "_view_module": "@jupyter-widgets/base",
            "_view_module_version": "1.2.0",
            "_view_name": "LayoutView",
            "align_content": null,
            "align_items": null,
            "align_self": null,
            "border": null,
            "bottom": null,
            "display": null,
            "flex": null,
            "flex_flow": null,
            "grid_area": null,
            "grid_auto_columns": null,
            "grid_auto_flow": null,
            "grid_auto_rows": null,
            "grid_column": null,
            "grid_gap": null,
            "grid_row": null,
            "grid_template_areas": null,
            "grid_template_columns": null,
            "grid_template_rows": null,
            "height": null,
            "justify_content": null,
            "justify_items": null,
            "left": null,
            "margin": null,
            "max_height": null,
            "max_width": null,
            "min_height": null,
            "min_width": null,
            "object_fit": null,
            "object_position": null,
            "order": null,
            "overflow": null,
            "overflow_x": null,
            "overflow_y": null,
            "padding": null,
            "right": null,
            "top": null,
            "visibility": null,
            "width": null
          }
        },
        "c2acdd4da3da4435924c5155807fae13": {
          "model_module": "@jupyter-widgets/base",
          "model_name": "LayoutModel",
          "model_module_version": "1.2.0",
          "state": {
            "_model_module": "@jupyter-widgets/base",
            "_model_module_version": "1.2.0",
            "_model_name": "LayoutModel",
            "_view_count": null,
            "_view_module": "@jupyter-widgets/base",
            "_view_module_version": "1.2.0",
            "_view_name": "LayoutView",
            "align_content": null,
            "align_items": null,
            "align_self": null,
            "border": null,
            "bottom": null,
            "display": null,
            "flex": null,
            "flex_flow": null,
            "grid_area": null,
            "grid_auto_columns": null,
            "grid_auto_flow": null,
            "grid_auto_rows": null,
            "grid_column": null,
            "grid_gap": null,
            "grid_row": null,
            "grid_template_areas": null,
            "grid_template_columns": null,
            "grid_template_rows": null,
            "height": null,
            "justify_content": null,
            "justify_items": null,
            "left": null,
            "margin": null,
            "max_height": null,
            "max_width": null,
            "min_height": null,
            "min_width": null,
            "object_fit": null,
            "object_position": null,
            "order": null,
            "overflow": null,
            "overflow_x": null,
            "overflow_y": null,
            "padding": null,
            "right": null,
            "top": null,
            "visibility": null,
            "width": null
          }
        },
        "75265bc94eae430792f2938eb8e3c335": {
          "model_module": "@jupyter-widgets/controls",
          "model_name": "DescriptionStyleModel",
          "model_module_version": "1.5.0",
          "state": {
            "_model_module": "@jupyter-widgets/controls",
            "_model_module_version": "1.5.0",
            "_model_name": "DescriptionStyleModel",
            "_view_count": null,
            "_view_module": "@jupyter-widgets/base",
            "_view_module_version": "1.2.0",
            "_view_name": "StyleView",
            "description_width": ""
          }
        },
        "2fd62f95ea8946199970e995222136ea": {
          "model_module": "@jupyter-widgets/base",
          "model_name": "LayoutModel",
          "model_module_version": "1.2.0",
          "state": {
            "_model_module": "@jupyter-widgets/base",
            "_model_module_version": "1.2.0",
            "_model_name": "LayoutModel",
            "_view_count": null,
            "_view_module": "@jupyter-widgets/base",
            "_view_module_version": "1.2.0",
            "_view_name": "LayoutView",
            "align_content": null,
            "align_items": null,
            "align_self": null,
            "border": null,
            "bottom": null,
            "display": null,
            "flex": null,
            "flex_flow": null,
            "grid_area": null,
            "grid_auto_columns": null,
            "grid_auto_flow": null,
            "grid_auto_rows": null,
            "grid_column": null,
            "grid_gap": null,
            "grid_row": null,
            "grid_template_areas": null,
            "grid_template_columns": null,
            "grid_template_rows": null,
            "height": null,
            "justify_content": null,
            "justify_items": null,
            "left": null,
            "margin": null,
            "max_height": null,
            "max_width": null,
            "min_height": null,
            "min_width": null,
            "object_fit": null,
            "object_position": null,
            "order": null,
            "overflow": null,
            "overflow_x": null,
            "overflow_y": null,
            "padding": null,
            "right": null,
            "top": null,
            "visibility": null,
            "width": null
          }
        },
        "ade5630df41e4502b695562de57b5ee2": {
          "model_module": "@jupyter-widgets/controls",
          "model_name": "ProgressStyleModel",
          "model_module_version": "1.5.0",
          "state": {
            "_model_module": "@jupyter-widgets/controls",
            "_model_module_version": "1.5.0",
            "_model_name": "ProgressStyleModel",
            "_view_count": null,
            "_view_module": "@jupyter-widgets/base",
            "_view_module_version": "1.2.0",
            "_view_name": "StyleView",
            "bar_color": null,
            "description_width": ""
          }
        },
        "1069e2ad77744904b9dff2a716b9ec7d": {
          "model_module": "@jupyter-widgets/base",
          "model_name": "LayoutModel",
          "model_module_version": "1.2.0",
          "state": {
            "_model_module": "@jupyter-widgets/base",
            "_model_module_version": "1.2.0",
            "_model_name": "LayoutModel",
            "_view_count": null,
            "_view_module": "@jupyter-widgets/base",
            "_view_module_version": "1.2.0",
            "_view_name": "LayoutView",
            "align_content": null,
            "align_items": null,
            "align_self": null,
            "border": null,
            "bottom": null,
            "display": null,
            "flex": null,
            "flex_flow": null,
            "grid_area": null,
            "grid_auto_columns": null,
            "grid_auto_flow": null,
            "grid_auto_rows": null,
            "grid_column": null,
            "grid_gap": null,
            "grid_row": null,
            "grid_template_areas": null,
            "grid_template_columns": null,
            "grid_template_rows": null,
            "height": null,
            "justify_content": null,
            "justify_items": null,
            "left": null,
            "margin": null,
            "max_height": null,
            "max_width": null,
            "min_height": null,
            "min_width": null,
            "object_fit": null,
            "object_position": null,
            "order": null,
            "overflow": null,
            "overflow_x": null,
            "overflow_y": null,
            "padding": null,
            "right": null,
            "top": null,
            "visibility": null,
            "width": null
          }
        },
        "3b2fa408dd1044b6a7aa4889bd411826": {
          "model_module": "@jupyter-widgets/controls",
          "model_name": "DescriptionStyleModel",
          "model_module_version": "1.5.0",
          "state": {
            "_model_module": "@jupyter-widgets/controls",
            "_model_module_version": "1.5.0",
            "_model_name": "DescriptionStyleModel",
            "_view_count": null,
            "_view_module": "@jupyter-widgets/base",
            "_view_module_version": "1.2.0",
            "_view_name": "StyleView",
            "description_width": ""
          }
        },
        "1bfe32e5701c40b1a7116a240d6dbf6c": {
          "model_module": "@jupyter-widgets/controls",
          "model_name": "HBoxModel",
          "model_module_version": "1.5.0",
          "state": {
            "_dom_classes": [],
            "_model_module": "@jupyter-widgets/controls",
            "_model_module_version": "1.5.0",
            "_model_name": "HBoxModel",
            "_view_count": null,
            "_view_module": "@jupyter-widgets/controls",
            "_view_module_version": "1.5.0",
            "_view_name": "HBoxView",
            "box_style": "",
            "children": [
              "IPY_MODEL_4dbd663b8df2448e849186683e15fbdd",
              "IPY_MODEL_3c8f32757da4470c8b394b57e1aa2b86",
              "IPY_MODEL_f3f51d925cb942ae9392efba707e5d83"
            ],
            "layout": "IPY_MODEL_5a970d5eb92e4d90a134aaa4a8946b7d"
          }
        },
        "4dbd663b8df2448e849186683e15fbdd": {
          "model_module": "@jupyter-widgets/controls",
          "model_name": "HTMLModel",
          "model_module_version": "1.5.0",
          "state": {
            "_dom_classes": [],
            "_model_module": "@jupyter-widgets/controls",
            "_model_module_version": "1.5.0",
            "_model_name": "HTMLModel",
            "_view_count": null,
            "_view_module": "@jupyter-widgets/controls",
            "_view_module_version": "1.5.0",
            "_view_name": "HTMLView",
            "description": "",
            "description_tooltip": null,
            "layout": "IPY_MODEL_3e37e95c02c64731a021c54a9263e149",
            "placeholder": "​",
            "style": "IPY_MODEL_9c698b1ab5a34ec8a431d2fabf5da669",
            "value": "100%"
          }
        },
        "3c8f32757da4470c8b394b57e1aa2b86": {
          "model_module": "@jupyter-widgets/controls",
          "model_name": "FloatProgressModel",
          "model_module_version": "1.5.0",
          "state": {
            "_dom_classes": [],
            "_model_module": "@jupyter-widgets/controls",
            "_model_module_version": "1.5.0",
            "_model_name": "FloatProgressModel",
            "_view_count": null,
            "_view_module": "@jupyter-widgets/controls",
            "_view_module_version": "1.5.0",
            "_view_name": "ProgressView",
            "bar_style": "success",
            "description": "",
            "description_tooltip": null,
            "layout": "IPY_MODEL_1f85789ce41546dbb7128d99e1d5d2f3",
            "max": 170498071,
            "min": 0,
            "orientation": "horizontal",
            "style": "IPY_MODEL_00bf25efe3914444a36992bd48916c93",
            "value": 170498071
          }
        },
        "f3f51d925cb942ae9392efba707e5d83": {
          "model_module": "@jupyter-widgets/controls",
          "model_name": "HTMLModel",
          "model_module_version": "1.5.0",
          "state": {
            "_dom_classes": [],
            "_model_module": "@jupyter-widgets/controls",
            "_model_module_version": "1.5.0",
            "_model_name": "HTMLModel",
            "_view_count": null,
            "_view_module": "@jupyter-widgets/controls",
            "_view_module_version": "1.5.0",
            "_view_name": "HTMLView",
            "description": "",
            "description_tooltip": null,
            "layout": "IPY_MODEL_69e21552f3b74a4183961af3c3d56e88",
            "placeholder": "​",
            "style": "IPY_MODEL_6043c7993ba04b569a9a399b3d63b511",
            "value": " 170498071/170498071 [00:04&lt;00:00, 43603732.09it/s]"
          }
        },
        "5a970d5eb92e4d90a134aaa4a8946b7d": {
          "model_module": "@jupyter-widgets/base",
          "model_name": "LayoutModel",
          "model_module_version": "1.2.0",
          "state": {
            "_model_module": "@jupyter-widgets/base",
            "_model_module_version": "1.2.0",
            "_model_name": "LayoutModel",
            "_view_count": null,
            "_view_module": "@jupyter-widgets/base",
            "_view_module_version": "1.2.0",
            "_view_name": "LayoutView",
            "align_content": null,
            "align_items": null,
            "align_self": null,
            "border": null,
            "bottom": null,
            "display": null,
            "flex": null,
            "flex_flow": null,
            "grid_area": null,
            "grid_auto_columns": null,
            "grid_auto_flow": null,
            "grid_auto_rows": null,
            "grid_column": null,
            "grid_gap": null,
            "grid_row": null,
            "grid_template_areas": null,
            "grid_template_columns": null,
            "grid_template_rows": null,
            "height": null,
            "justify_content": null,
            "justify_items": null,
            "left": null,
            "margin": null,
            "max_height": null,
            "max_width": null,
            "min_height": null,
            "min_width": null,
            "object_fit": null,
            "object_position": null,
            "order": null,
            "overflow": null,
            "overflow_x": null,
            "overflow_y": null,
            "padding": null,
            "right": null,
            "top": null,
            "visibility": null,
            "width": null
          }
        },
        "3e37e95c02c64731a021c54a9263e149": {
          "model_module": "@jupyter-widgets/base",
          "model_name": "LayoutModel",
          "model_module_version": "1.2.0",
          "state": {
            "_model_module": "@jupyter-widgets/base",
            "_model_module_version": "1.2.0",
            "_model_name": "LayoutModel",
            "_view_count": null,
            "_view_module": "@jupyter-widgets/base",
            "_view_module_version": "1.2.0",
            "_view_name": "LayoutView",
            "align_content": null,
            "align_items": null,
            "align_self": null,
            "border": null,
            "bottom": null,
            "display": null,
            "flex": null,
            "flex_flow": null,
            "grid_area": null,
            "grid_auto_columns": null,
            "grid_auto_flow": null,
            "grid_auto_rows": null,
            "grid_column": null,
            "grid_gap": null,
            "grid_row": null,
            "grid_template_areas": null,
            "grid_template_columns": null,
            "grid_template_rows": null,
            "height": null,
            "justify_content": null,
            "justify_items": null,
            "left": null,
            "margin": null,
            "max_height": null,
            "max_width": null,
            "min_height": null,
            "min_width": null,
            "object_fit": null,
            "object_position": null,
            "order": null,
            "overflow": null,
            "overflow_x": null,
            "overflow_y": null,
            "padding": null,
            "right": null,
            "top": null,
            "visibility": null,
            "width": null
          }
        },
        "9c698b1ab5a34ec8a431d2fabf5da669": {
          "model_module": "@jupyter-widgets/controls",
          "model_name": "DescriptionStyleModel",
          "model_module_version": "1.5.0",
          "state": {
            "_model_module": "@jupyter-widgets/controls",
            "_model_module_version": "1.5.0",
            "_model_name": "DescriptionStyleModel",
            "_view_count": null,
            "_view_module": "@jupyter-widgets/base",
            "_view_module_version": "1.2.0",
            "_view_name": "StyleView",
            "description_width": ""
          }
        },
        "1f85789ce41546dbb7128d99e1d5d2f3": {
          "model_module": "@jupyter-widgets/base",
          "model_name": "LayoutModel",
          "model_module_version": "1.2.0",
          "state": {
            "_model_module": "@jupyter-widgets/base",
            "_model_module_version": "1.2.0",
            "_model_name": "LayoutModel",
            "_view_count": null,
            "_view_module": "@jupyter-widgets/base",
            "_view_module_version": "1.2.0",
            "_view_name": "LayoutView",
            "align_content": null,
            "align_items": null,
            "align_self": null,
            "border": null,
            "bottom": null,
            "display": null,
            "flex": null,
            "flex_flow": null,
            "grid_area": null,
            "grid_auto_columns": null,
            "grid_auto_flow": null,
            "grid_auto_rows": null,
            "grid_column": null,
            "grid_gap": null,
            "grid_row": null,
            "grid_template_areas": null,
            "grid_template_columns": null,
            "grid_template_rows": null,
            "height": null,
            "justify_content": null,
            "justify_items": null,
            "left": null,
            "margin": null,
            "max_height": null,
            "max_width": null,
            "min_height": null,
            "min_width": null,
            "object_fit": null,
            "object_position": null,
            "order": null,
            "overflow": null,
            "overflow_x": null,
            "overflow_y": null,
            "padding": null,
            "right": null,
            "top": null,
            "visibility": null,
            "width": null
          }
        },
        "00bf25efe3914444a36992bd48916c93": {
          "model_module": "@jupyter-widgets/controls",
          "model_name": "ProgressStyleModel",
          "model_module_version": "1.5.0",
          "state": {
            "_model_module": "@jupyter-widgets/controls",
            "_model_module_version": "1.5.0",
            "_model_name": "ProgressStyleModel",
            "_view_count": null,
            "_view_module": "@jupyter-widgets/base",
            "_view_module_version": "1.2.0",
            "_view_name": "StyleView",
            "bar_color": null,
            "description_width": ""
          }
        },
        "69e21552f3b74a4183961af3c3d56e88": {
          "model_module": "@jupyter-widgets/base",
          "model_name": "LayoutModel",
          "model_module_version": "1.2.0",
          "state": {
            "_model_module": "@jupyter-widgets/base",
            "_model_module_version": "1.2.0",
            "_model_name": "LayoutModel",
            "_view_count": null,
            "_view_module": "@jupyter-widgets/base",
            "_view_module_version": "1.2.0",
            "_view_name": "LayoutView",
            "align_content": null,
            "align_items": null,
            "align_self": null,
            "border": null,
            "bottom": null,
            "display": null,
            "flex": null,
            "flex_flow": null,
            "grid_area": null,
            "grid_auto_columns": null,
            "grid_auto_flow": null,
            "grid_auto_rows": null,
            "grid_column": null,
            "grid_gap": null,
            "grid_row": null,
            "grid_template_areas": null,
            "grid_template_columns": null,
            "grid_template_rows": null,
            "height": null,
            "justify_content": null,
            "justify_items": null,
            "left": null,
            "margin": null,
            "max_height": null,
            "max_width": null,
            "min_height": null,
            "min_width": null,
            "object_fit": null,
            "object_position": null,
            "order": null,
            "overflow": null,
            "overflow_x": null,
            "overflow_y": null,
            "padding": null,
            "right": null,
            "top": null,
            "visibility": null,
            "width": null
          }
        },
        "6043c7993ba04b569a9a399b3d63b511": {
          "model_module": "@jupyter-widgets/controls",
          "model_name": "DescriptionStyleModel",
          "model_module_version": "1.5.0",
          "state": {
            "_model_module": "@jupyter-widgets/controls",
            "_model_module_version": "1.5.0",
            "_model_name": "DescriptionStyleModel",
            "_view_count": null,
            "_view_module": "@jupyter-widgets/base",
            "_view_module_version": "1.2.0",
            "_view_name": "StyleView",
            "description_width": ""
          }
        },
        "b16649c8800e471db31b1b9ebd4b9efe": {
          "model_module": "@jupyter-widgets/controls",
          "model_name": "HBoxModel",
          "model_module_version": "1.5.0",
          "state": {
            "_dom_classes": [],
            "_model_module": "@jupyter-widgets/controls",
            "_model_module_version": "1.5.0",
            "_model_name": "HBoxModel",
            "_view_count": null,
            "_view_module": "@jupyter-widgets/controls",
            "_view_module_version": "1.5.0",
            "_view_name": "HBoxView",
            "box_style": "",
            "children": [
              "IPY_MODEL_45da456eb4b844e1857768306809dc61",
              "IPY_MODEL_cf7818f2587647cdaa7c64cce0d2885e",
              "IPY_MODEL_e4abc31ec94743df8b528956f0f4d2d4"
            ],
            "layout": "IPY_MODEL_c9c0bb099f71487cacf47c9167b632cb"
          }
        },
        "45da456eb4b844e1857768306809dc61": {
          "model_module": "@jupyter-widgets/controls",
          "model_name": "HTMLModel",
          "model_module_version": "1.5.0",
          "state": {
            "_dom_classes": [],
            "_model_module": "@jupyter-widgets/controls",
            "_model_module_version": "1.5.0",
            "_model_name": "HTMLModel",
            "_view_count": null,
            "_view_module": "@jupyter-widgets/controls",
            "_view_module_version": "1.5.0",
            "_view_name": "HTMLView",
            "description": "",
            "description_tooltip": null,
            "layout": "IPY_MODEL_d9063bd595d843859d1c37122882e03f",
            "placeholder": "​",
            "style": "IPY_MODEL_6b53d05629e24578bffbfaf48b962601",
            "value": "100%"
          }
        },
        "cf7818f2587647cdaa7c64cce0d2885e": {
          "model_module": "@jupyter-widgets/controls",
          "model_name": "FloatProgressModel",
          "model_module_version": "1.5.0",
          "state": {
            "_dom_classes": [],
            "_model_module": "@jupyter-widgets/controls",
            "_model_module_version": "1.5.0",
            "_model_name": "FloatProgressModel",
            "_view_count": null,
            "_view_module": "@jupyter-widgets/controls",
            "_view_module_version": "1.5.0",
            "_view_name": "ProgressView",
            "bar_style": "success",
            "description": "",
            "description_tooltip": null,
            "layout": "IPY_MODEL_494aa19369b14d3bbc5f6922b9135ead",
            "max": 170498071,
            "min": 0,
            "orientation": "horizontal",
            "style": "IPY_MODEL_47c1ff663be6410db185d27567fc1a18",
            "value": 170498071
          }
        },
        "e4abc31ec94743df8b528956f0f4d2d4": {
          "model_module": "@jupyter-widgets/controls",
          "model_name": "HTMLModel",
          "model_module_version": "1.5.0",
          "state": {
            "_dom_classes": [],
            "_model_module": "@jupyter-widgets/controls",
            "_model_module_version": "1.5.0",
            "_model_name": "HTMLModel",
            "_view_count": null,
            "_view_module": "@jupyter-widgets/controls",
            "_view_module_version": "1.5.0",
            "_view_name": "HTMLView",
            "description": "",
            "description_tooltip": null,
            "layout": "IPY_MODEL_147b9b9c266b4c79aeaed9a29a761866",
            "placeholder": "​",
            "style": "IPY_MODEL_ae38f8f2e10f474d8f9dfa584b4279d3",
            "value": " 170498071/170498071 [00:03&lt;00:00, 54547465.02it/s]"
          }
        },
        "c9c0bb099f71487cacf47c9167b632cb": {
          "model_module": "@jupyter-widgets/base",
          "model_name": "LayoutModel",
          "model_module_version": "1.2.0",
          "state": {
            "_model_module": "@jupyter-widgets/base",
            "_model_module_version": "1.2.0",
            "_model_name": "LayoutModel",
            "_view_count": null,
            "_view_module": "@jupyter-widgets/base",
            "_view_module_version": "1.2.0",
            "_view_name": "LayoutView",
            "align_content": null,
            "align_items": null,
            "align_self": null,
            "border": null,
            "bottom": null,
            "display": null,
            "flex": null,
            "flex_flow": null,
            "grid_area": null,
            "grid_auto_columns": null,
            "grid_auto_flow": null,
            "grid_auto_rows": null,
            "grid_column": null,
            "grid_gap": null,
            "grid_row": null,
            "grid_template_areas": null,
            "grid_template_columns": null,
            "grid_template_rows": null,
            "height": null,
            "justify_content": null,
            "justify_items": null,
            "left": null,
            "margin": null,
            "max_height": null,
            "max_width": null,
            "min_height": null,
            "min_width": null,
            "object_fit": null,
            "object_position": null,
            "order": null,
            "overflow": null,
            "overflow_x": null,
            "overflow_y": null,
            "padding": null,
            "right": null,
            "top": null,
            "visibility": null,
            "width": null
          }
        },
        "d9063bd595d843859d1c37122882e03f": {
          "model_module": "@jupyter-widgets/base",
          "model_name": "LayoutModel",
          "model_module_version": "1.2.0",
          "state": {
            "_model_module": "@jupyter-widgets/base",
            "_model_module_version": "1.2.0",
            "_model_name": "LayoutModel",
            "_view_count": null,
            "_view_module": "@jupyter-widgets/base",
            "_view_module_version": "1.2.0",
            "_view_name": "LayoutView",
            "align_content": null,
            "align_items": null,
            "align_self": null,
            "border": null,
            "bottom": null,
            "display": null,
            "flex": null,
            "flex_flow": null,
            "grid_area": null,
            "grid_auto_columns": null,
            "grid_auto_flow": null,
            "grid_auto_rows": null,
            "grid_column": null,
            "grid_gap": null,
            "grid_row": null,
            "grid_template_areas": null,
            "grid_template_columns": null,
            "grid_template_rows": null,
            "height": null,
            "justify_content": null,
            "justify_items": null,
            "left": null,
            "margin": null,
            "max_height": null,
            "max_width": null,
            "min_height": null,
            "min_width": null,
            "object_fit": null,
            "object_position": null,
            "order": null,
            "overflow": null,
            "overflow_x": null,
            "overflow_y": null,
            "padding": null,
            "right": null,
            "top": null,
            "visibility": null,
            "width": null
          }
        },
        "6b53d05629e24578bffbfaf48b962601": {
          "model_module": "@jupyter-widgets/controls",
          "model_name": "DescriptionStyleModel",
          "model_module_version": "1.5.0",
          "state": {
            "_model_module": "@jupyter-widgets/controls",
            "_model_module_version": "1.5.0",
            "_model_name": "DescriptionStyleModel",
            "_view_count": null,
            "_view_module": "@jupyter-widgets/base",
            "_view_module_version": "1.2.0",
            "_view_name": "StyleView",
            "description_width": ""
          }
        },
        "494aa19369b14d3bbc5f6922b9135ead": {
          "model_module": "@jupyter-widgets/base",
          "model_name": "LayoutModel",
          "model_module_version": "1.2.0",
          "state": {
            "_model_module": "@jupyter-widgets/base",
            "_model_module_version": "1.2.0",
            "_model_name": "LayoutModel",
            "_view_count": null,
            "_view_module": "@jupyter-widgets/base",
            "_view_module_version": "1.2.0",
            "_view_name": "LayoutView",
            "align_content": null,
            "align_items": null,
            "align_self": null,
            "border": null,
            "bottom": null,
            "display": null,
            "flex": null,
            "flex_flow": null,
            "grid_area": null,
            "grid_auto_columns": null,
            "grid_auto_flow": null,
            "grid_auto_rows": null,
            "grid_column": null,
            "grid_gap": null,
            "grid_row": null,
            "grid_template_areas": null,
            "grid_template_columns": null,
            "grid_template_rows": null,
            "height": null,
            "justify_content": null,
            "justify_items": null,
            "left": null,
            "margin": null,
            "max_height": null,
            "max_width": null,
            "min_height": null,
            "min_width": null,
            "object_fit": null,
            "object_position": null,
            "order": null,
            "overflow": null,
            "overflow_x": null,
            "overflow_y": null,
            "padding": null,
            "right": null,
            "top": null,
            "visibility": null,
            "width": null
          }
        },
        "47c1ff663be6410db185d27567fc1a18": {
          "model_module": "@jupyter-widgets/controls",
          "model_name": "ProgressStyleModel",
          "model_module_version": "1.5.0",
          "state": {
            "_model_module": "@jupyter-widgets/controls",
            "_model_module_version": "1.5.0",
            "_model_name": "ProgressStyleModel",
            "_view_count": null,
            "_view_module": "@jupyter-widgets/base",
            "_view_module_version": "1.2.0",
            "_view_name": "StyleView",
            "bar_color": null,
            "description_width": ""
          }
        },
        "147b9b9c266b4c79aeaed9a29a761866": {
          "model_module": "@jupyter-widgets/base",
          "model_name": "LayoutModel",
          "model_module_version": "1.2.0",
          "state": {
            "_model_module": "@jupyter-widgets/base",
            "_model_module_version": "1.2.0",
            "_model_name": "LayoutModel",
            "_view_count": null,
            "_view_module": "@jupyter-widgets/base",
            "_view_module_version": "1.2.0",
            "_view_name": "LayoutView",
            "align_content": null,
            "align_items": null,
            "align_self": null,
            "border": null,
            "bottom": null,
            "display": null,
            "flex": null,
            "flex_flow": null,
            "grid_area": null,
            "grid_auto_columns": null,
            "grid_auto_flow": null,
            "grid_auto_rows": null,
            "grid_column": null,
            "grid_gap": null,
            "grid_row": null,
            "grid_template_areas": null,
            "grid_template_columns": null,
            "grid_template_rows": null,
            "height": null,
            "justify_content": null,
            "justify_items": null,
            "left": null,
            "margin": null,
            "max_height": null,
            "max_width": null,
            "min_height": null,
            "min_width": null,
            "object_fit": null,
            "object_position": null,
            "order": null,
            "overflow": null,
            "overflow_x": null,
            "overflow_y": null,
            "padding": null,
            "right": null,
            "top": null,
            "visibility": null,
            "width": null
          }
        },
        "ae38f8f2e10f474d8f9dfa584b4279d3": {
          "model_module": "@jupyter-widgets/controls",
          "model_name": "DescriptionStyleModel",
          "model_module_version": "1.5.0",
          "state": {
            "_model_module": "@jupyter-widgets/controls",
            "_model_module_version": "1.5.0",
            "_model_name": "DescriptionStyleModel",
            "_view_count": null,
            "_view_module": "@jupyter-widgets/base",
            "_view_module_version": "1.2.0",
            "_view_name": "StyleView",
            "description_width": ""
          }
        },
        "d31981109aae4a809540a45fbe1d525b": {
          "model_module": "@jupyter-widgets/controls",
          "model_name": "HBoxModel",
          "model_module_version": "1.5.0",
          "state": {
            "_dom_classes": [],
            "_model_module": "@jupyter-widgets/controls",
            "_model_module_version": "1.5.0",
            "_model_name": "HBoxModel",
            "_view_count": null,
            "_view_module": "@jupyter-widgets/controls",
            "_view_module_version": "1.5.0",
            "_view_name": "HBoxView",
            "box_style": "",
            "children": [
              "IPY_MODEL_bb963225c662464c862f599486c7474d",
              "IPY_MODEL_a0d8a181ac684f8ea6f8642f108aea60",
              "IPY_MODEL_e5cb6fd43ae34643b4068cfc7c256fc7"
            ],
            "layout": "IPY_MODEL_27442a1971694da580a5408b94d40ee4"
          }
        },
        "bb963225c662464c862f599486c7474d": {
          "model_module": "@jupyter-widgets/controls",
          "model_name": "HTMLModel",
          "model_module_version": "1.5.0",
          "state": {
            "_dom_classes": [],
            "_model_module": "@jupyter-widgets/controls",
            "_model_module_version": "1.5.0",
            "_model_name": "HTMLModel",
            "_view_count": null,
            "_view_module": "@jupyter-widgets/controls",
            "_view_module_version": "1.5.0",
            "_view_name": "HTMLView",
            "description": "",
            "description_tooltip": null,
            "layout": "IPY_MODEL_980bb80ca0844356af76a16a2a97e50d",
            "placeholder": "​",
            "style": "IPY_MODEL_28027f10eff04cc291a78f51c5afe1d6",
            "value": " 60%"
          }
        },
        "a0d8a181ac684f8ea6f8642f108aea60": {
          "model_module": "@jupyter-widgets/controls",
          "model_name": "FloatProgressModel",
          "model_module_version": "1.5.0",
          "state": {
            "_dom_classes": [],
            "_model_module": "@jupyter-widgets/controls",
            "_model_module_version": "1.5.0",
            "_model_name": "FloatProgressModel",
            "_view_count": null,
            "_view_module": "@jupyter-widgets/controls",
            "_view_module_version": "1.5.0",
            "_view_name": "ProgressView",
            "bar_style": "",
            "description": "",
            "description_tooltip": null,
            "layout": "IPY_MODEL_4ca6cebdbd514cda9e8c395c6b3548a9",
            "max": 10,
            "min": 0,
            "orientation": "horizontal",
            "style": "IPY_MODEL_72cf5e2160ae4f53917bbdb75c292d87",
            "value": 6
          }
        },
        "e5cb6fd43ae34643b4068cfc7c256fc7": {
          "model_module": "@jupyter-widgets/controls",
          "model_name": "HTMLModel",
          "model_module_version": "1.5.0",
          "state": {
            "_dom_classes": [],
            "_model_module": "@jupyter-widgets/controls",
            "_model_module_version": "1.5.0",
            "_model_name": "HTMLModel",
            "_view_count": null,
            "_view_module": "@jupyter-widgets/controls",
            "_view_module_version": "1.5.0",
            "_view_name": "HTMLView",
            "description": "",
            "description_tooltip": null,
            "layout": "IPY_MODEL_111ce79c2131491bbc07a93498da85e1",
            "placeholder": "​",
            "style": "IPY_MODEL_2e75c89b7bbd424e9eeec32a55ee894a",
            "value": " 6/10 [1:27:34&lt;58:21, 875.45s/it]"
          }
        },
        "27442a1971694da580a5408b94d40ee4": {
          "model_module": "@jupyter-widgets/base",
          "model_name": "LayoutModel",
          "model_module_version": "1.2.0",
          "state": {
            "_model_module": "@jupyter-widgets/base",
            "_model_module_version": "1.2.0",
            "_model_name": "LayoutModel",
            "_view_count": null,
            "_view_module": "@jupyter-widgets/base",
            "_view_module_version": "1.2.0",
            "_view_name": "LayoutView",
            "align_content": null,
            "align_items": null,
            "align_self": null,
            "border": null,
            "bottom": null,
            "display": null,
            "flex": null,
            "flex_flow": null,
            "grid_area": null,
            "grid_auto_columns": null,
            "grid_auto_flow": null,
            "grid_auto_rows": null,
            "grid_column": null,
            "grid_gap": null,
            "grid_row": null,
            "grid_template_areas": null,
            "grid_template_columns": null,
            "grid_template_rows": null,
            "height": null,
            "justify_content": null,
            "justify_items": null,
            "left": null,
            "margin": null,
            "max_height": null,
            "max_width": null,
            "min_height": null,
            "min_width": null,
            "object_fit": null,
            "object_position": null,
            "order": null,
            "overflow": null,
            "overflow_x": null,
            "overflow_y": null,
            "padding": null,
            "right": null,
            "top": null,
            "visibility": null,
            "width": null
          }
        },
        "980bb80ca0844356af76a16a2a97e50d": {
          "model_module": "@jupyter-widgets/base",
          "model_name": "LayoutModel",
          "model_module_version": "1.2.0",
          "state": {
            "_model_module": "@jupyter-widgets/base",
            "_model_module_version": "1.2.0",
            "_model_name": "LayoutModel",
            "_view_count": null,
            "_view_module": "@jupyter-widgets/base",
            "_view_module_version": "1.2.0",
            "_view_name": "LayoutView",
            "align_content": null,
            "align_items": null,
            "align_self": null,
            "border": null,
            "bottom": null,
            "display": null,
            "flex": null,
            "flex_flow": null,
            "grid_area": null,
            "grid_auto_columns": null,
            "grid_auto_flow": null,
            "grid_auto_rows": null,
            "grid_column": null,
            "grid_gap": null,
            "grid_row": null,
            "grid_template_areas": null,
            "grid_template_columns": null,
            "grid_template_rows": null,
            "height": null,
            "justify_content": null,
            "justify_items": null,
            "left": null,
            "margin": null,
            "max_height": null,
            "max_width": null,
            "min_height": null,
            "min_width": null,
            "object_fit": null,
            "object_position": null,
            "order": null,
            "overflow": null,
            "overflow_x": null,
            "overflow_y": null,
            "padding": null,
            "right": null,
            "top": null,
            "visibility": null,
            "width": null
          }
        },
        "28027f10eff04cc291a78f51c5afe1d6": {
          "model_module": "@jupyter-widgets/controls",
          "model_name": "DescriptionStyleModel",
          "model_module_version": "1.5.0",
          "state": {
            "_model_module": "@jupyter-widgets/controls",
            "_model_module_version": "1.5.0",
            "_model_name": "DescriptionStyleModel",
            "_view_count": null,
            "_view_module": "@jupyter-widgets/base",
            "_view_module_version": "1.2.0",
            "_view_name": "StyleView",
            "description_width": ""
          }
        },
        "4ca6cebdbd514cda9e8c395c6b3548a9": {
          "model_module": "@jupyter-widgets/base",
          "model_name": "LayoutModel",
          "model_module_version": "1.2.0",
          "state": {
            "_model_module": "@jupyter-widgets/base",
            "_model_module_version": "1.2.0",
            "_model_name": "LayoutModel",
            "_view_count": null,
            "_view_module": "@jupyter-widgets/base",
            "_view_module_version": "1.2.0",
            "_view_name": "LayoutView",
            "align_content": null,
            "align_items": null,
            "align_self": null,
            "border": null,
            "bottom": null,
            "display": null,
            "flex": null,
            "flex_flow": null,
            "grid_area": null,
            "grid_auto_columns": null,
            "grid_auto_flow": null,
            "grid_auto_rows": null,
            "grid_column": null,
            "grid_gap": null,
            "grid_row": null,
            "grid_template_areas": null,
            "grid_template_columns": null,
            "grid_template_rows": null,
            "height": null,
            "justify_content": null,
            "justify_items": null,
            "left": null,
            "margin": null,
            "max_height": null,
            "max_width": null,
            "min_height": null,
            "min_width": null,
            "object_fit": null,
            "object_position": null,
            "order": null,
            "overflow": null,
            "overflow_x": null,
            "overflow_y": null,
            "padding": null,
            "right": null,
            "top": null,
            "visibility": null,
            "width": null
          }
        },
        "72cf5e2160ae4f53917bbdb75c292d87": {
          "model_module": "@jupyter-widgets/controls",
          "model_name": "ProgressStyleModel",
          "model_module_version": "1.5.0",
          "state": {
            "_model_module": "@jupyter-widgets/controls",
            "_model_module_version": "1.5.0",
            "_model_name": "ProgressStyleModel",
            "_view_count": null,
            "_view_module": "@jupyter-widgets/base",
            "_view_module_version": "1.2.0",
            "_view_name": "StyleView",
            "bar_color": null,
            "description_width": ""
          }
        },
        "111ce79c2131491bbc07a93498da85e1": {
          "model_module": "@jupyter-widgets/base",
          "model_name": "LayoutModel",
          "model_module_version": "1.2.0",
          "state": {
            "_model_module": "@jupyter-widgets/base",
            "_model_module_version": "1.2.0",
            "_model_name": "LayoutModel",
            "_view_count": null,
            "_view_module": "@jupyter-widgets/base",
            "_view_module_version": "1.2.0",
            "_view_name": "LayoutView",
            "align_content": null,
            "align_items": null,
            "align_self": null,
            "border": null,
            "bottom": null,
            "display": null,
            "flex": null,
            "flex_flow": null,
            "grid_area": null,
            "grid_auto_columns": null,
            "grid_auto_flow": null,
            "grid_auto_rows": null,
            "grid_column": null,
            "grid_gap": null,
            "grid_row": null,
            "grid_template_areas": null,
            "grid_template_columns": null,
            "grid_template_rows": null,
            "height": null,
            "justify_content": null,
            "justify_items": null,
            "left": null,
            "margin": null,
            "max_height": null,
            "max_width": null,
            "min_height": null,
            "min_width": null,
            "object_fit": null,
            "object_position": null,
            "order": null,
            "overflow": null,
            "overflow_x": null,
            "overflow_y": null,
            "padding": null,
            "right": null,
            "top": null,
            "visibility": null,
            "width": null
          }
        },
        "2e75c89b7bbd424e9eeec32a55ee894a": {
          "model_module": "@jupyter-widgets/controls",
          "model_name": "DescriptionStyleModel",
          "model_module_version": "1.5.0",
          "state": {
            "_model_module": "@jupyter-widgets/controls",
            "_model_module_version": "1.5.0",
            "_model_name": "DescriptionStyleModel",
            "_view_count": null,
            "_view_module": "@jupyter-widgets/base",
            "_view_module_version": "1.2.0",
            "_view_name": "StyleView",
            "description_width": ""
          }
        },
        "2187ad7af5e645549f9301a9750eaf8f": {
          "model_module": "@jupyter-widgets/controls",
          "model_name": "HBoxModel",
          "model_module_version": "1.5.0",
          "state": {
            "_dom_classes": [],
            "_model_module": "@jupyter-widgets/controls",
            "_model_module_version": "1.5.0",
            "_model_name": "HBoxModel",
            "_view_count": null,
            "_view_module": "@jupyter-widgets/controls",
            "_view_module_version": "1.5.0",
            "_view_name": "HBoxView",
            "box_style": "",
            "children": [
              "IPY_MODEL_6ad70c5e95d44443ace1243b8d1d235c",
              "IPY_MODEL_52145aec2e604468b3fe50619a3efb62",
              "IPY_MODEL_1b2947b8aeed49b88255534560310e68"
            ],
            "layout": "IPY_MODEL_ae0797ac7702481e91846ac3e8dab0cb"
          }
        },
        "6ad70c5e95d44443ace1243b8d1d235c": {
          "model_module": "@jupyter-widgets/controls",
          "model_name": "HTMLModel",
          "model_module_version": "1.5.0",
          "state": {
            "_dom_classes": [],
            "_model_module": "@jupyter-widgets/controls",
            "_model_module_version": "1.5.0",
            "_model_name": "HTMLModel",
            "_view_count": null,
            "_view_module": "@jupyter-widgets/controls",
            "_view_module_version": "1.5.0",
            "_view_name": "HTMLView",
            "description": "",
            "description_tooltip": null,
            "layout": "IPY_MODEL_671eb30a21174314bc4f639bde01e9e5",
            "placeholder": "​",
            "style": "IPY_MODEL_53614120060c41da8479111917108e3b",
            "value": "100%"
          }
        },
        "52145aec2e604468b3fe50619a3efb62": {
          "model_module": "@jupyter-widgets/controls",
          "model_name": "FloatProgressModel",
          "model_module_version": "1.5.0",
          "state": {
            "_dom_classes": [],
            "_model_module": "@jupyter-widgets/controls",
            "_model_module_version": "1.5.0",
            "_model_name": "FloatProgressModel",
            "_view_count": null,
            "_view_module": "@jupyter-widgets/controls",
            "_view_module_version": "1.5.0",
            "_view_name": "ProgressView",
            "bar_style": "success",
            "description": "",
            "description_tooltip": null,
            "layout": "IPY_MODEL_d16fceb0933f460496c971865fd6886a",
            "max": 170498071,
            "min": 0,
            "orientation": "horizontal",
            "style": "IPY_MODEL_79fc6f2f38834d18ad79c554f902858b",
            "value": 170498071
          }
        },
        "1b2947b8aeed49b88255534560310e68": {
          "model_module": "@jupyter-widgets/controls",
          "model_name": "HTMLModel",
          "model_module_version": "1.5.0",
          "state": {
            "_dom_classes": [],
            "_model_module": "@jupyter-widgets/controls",
            "_model_module_version": "1.5.0",
            "_model_name": "HTMLModel",
            "_view_count": null,
            "_view_module": "@jupyter-widgets/controls",
            "_view_module_version": "1.5.0",
            "_view_name": "HTMLView",
            "description": "",
            "description_tooltip": null,
            "layout": "IPY_MODEL_14cbd6bf6bbb49a58a5d256280f189c0",
            "placeholder": "​",
            "style": "IPY_MODEL_ba28ee43a0a54aa49c4071000982d56b",
            "value": " 170498071/170498071 [00:13&lt;00:00, 16198306.83it/s]"
          }
        },
        "ae0797ac7702481e91846ac3e8dab0cb": {
          "model_module": "@jupyter-widgets/base",
          "model_name": "LayoutModel",
          "model_module_version": "1.2.0",
          "state": {
            "_model_module": "@jupyter-widgets/base",
            "_model_module_version": "1.2.0",
            "_model_name": "LayoutModel",
            "_view_count": null,
            "_view_module": "@jupyter-widgets/base",
            "_view_module_version": "1.2.0",
            "_view_name": "LayoutView",
            "align_content": null,
            "align_items": null,
            "align_self": null,
            "border": null,
            "bottom": null,
            "display": null,
            "flex": null,
            "flex_flow": null,
            "grid_area": null,
            "grid_auto_columns": null,
            "grid_auto_flow": null,
            "grid_auto_rows": null,
            "grid_column": null,
            "grid_gap": null,
            "grid_row": null,
            "grid_template_areas": null,
            "grid_template_columns": null,
            "grid_template_rows": null,
            "height": null,
            "justify_content": null,
            "justify_items": null,
            "left": null,
            "margin": null,
            "max_height": null,
            "max_width": null,
            "min_height": null,
            "min_width": null,
            "object_fit": null,
            "object_position": null,
            "order": null,
            "overflow": null,
            "overflow_x": null,
            "overflow_y": null,
            "padding": null,
            "right": null,
            "top": null,
            "visibility": null,
            "width": null
          }
        },
        "671eb30a21174314bc4f639bde01e9e5": {
          "model_module": "@jupyter-widgets/base",
          "model_name": "LayoutModel",
          "model_module_version": "1.2.0",
          "state": {
            "_model_module": "@jupyter-widgets/base",
            "_model_module_version": "1.2.0",
            "_model_name": "LayoutModel",
            "_view_count": null,
            "_view_module": "@jupyter-widgets/base",
            "_view_module_version": "1.2.0",
            "_view_name": "LayoutView",
            "align_content": null,
            "align_items": null,
            "align_self": null,
            "border": null,
            "bottom": null,
            "display": null,
            "flex": null,
            "flex_flow": null,
            "grid_area": null,
            "grid_auto_columns": null,
            "grid_auto_flow": null,
            "grid_auto_rows": null,
            "grid_column": null,
            "grid_gap": null,
            "grid_row": null,
            "grid_template_areas": null,
            "grid_template_columns": null,
            "grid_template_rows": null,
            "height": null,
            "justify_content": null,
            "justify_items": null,
            "left": null,
            "margin": null,
            "max_height": null,
            "max_width": null,
            "min_height": null,
            "min_width": null,
            "object_fit": null,
            "object_position": null,
            "order": null,
            "overflow": null,
            "overflow_x": null,
            "overflow_y": null,
            "padding": null,
            "right": null,
            "top": null,
            "visibility": null,
            "width": null
          }
        },
        "53614120060c41da8479111917108e3b": {
          "model_module": "@jupyter-widgets/controls",
          "model_name": "DescriptionStyleModel",
          "model_module_version": "1.5.0",
          "state": {
            "_model_module": "@jupyter-widgets/controls",
            "_model_module_version": "1.5.0",
            "_model_name": "DescriptionStyleModel",
            "_view_count": null,
            "_view_module": "@jupyter-widgets/base",
            "_view_module_version": "1.2.0",
            "_view_name": "StyleView",
            "description_width": ""
          }
        },
        "d16fceb0933f460496c971865fd6886a": {
          "model_module": "@jupyter-widgets/base",
          "model_name": "LayoutModel",
          "model_module_version": "1.2.0",
          "state": {
            "_model_module": "@jupyter-widgets/base",
            "_model_module_version": "1.2.0",
            "_model_name": "LayoutModel",
            "_view_count": null,
            "_view_module": "@jupyter-widgets/base",
            "_view_module_version": "1.2.0",
            "_view_name": "LayoutView",
            "align_content": null,
            "align_items": null,
            "align_self": null,
            "border": null,
            "bottom": null,
            "display": null,
            "flex": null,
            "flex_flow": null,
            "grid_area": null,
            "grid_auto_columns": null,
            "grid_auto_flow": null,
            "grid_auto_rows": null,
            "grid_column": null,
            "grid_gap": null,
            "grid_row": null,
            "grid_template_areas": null,
            "grid_template_columns": null,
            "grid_template_rows": null,
            "height": null,
            "justify_content": null,
            "justify_items": null,
            "left": null,
            "margin": null,
            "max_height": null,
            "max_width": null,
            "min_height": null,
            "min_width": null,
            "object_fit": null,
            "object_position": null,
            "order": null,
            "overflow": null,
            "overflow_x": null,
            "overflow_y": null,
            "padding": null,
            "right": null,
            "top": null,
            "visibility": null,
            "width": null
          }
        },
        "79fc6f2f38834d18ad79c554f902858b": {
          "model_module": "@jupyter-widgets/controls",
          "model_name": "ProgressStyleModel",
          "model_module_version": "1.5.0",
          "state": {
            "_model_module": "@jupyter-widgets/controls",
            "_model_module_version": "1.5.0",
            "_model_name": "ProgressStyleModel",
            "_view_count": null,
            "_view_module": "@jupyter-widgets/base",
            "_view_module_version": "1.2.0",
            "_view_name": "StyleView",
            "bar_color": null,
            "description_width": ""
          }
        },
        "14cbd6bf6bbb49a58a5d256280f189c0": {
          "model_module": "@jupyter-widgets/base",
          "model_name": "LayoutModel",
          "model_module_version": "1.2.0",
          "state": {
            "_model_module": "@jupyter-widgets/base",
            "_model_module_version": "1.2.0",
            "_model_name": "LayoutModel",
            "_view_count": null,
            "_view_module": "@jupyter-widgets/base",
            "_view_module_version": "1.2.0",
            "_view_name": "LayoutView",
            "align_content": null,
            "align_items": null,
            "align_self": null,
            "border": null,
            "bottom": null,
            "display": null,
            "flex": null,
            "flex_flow": null,
            "grid_area": null,
            "grid_auto_columns": null,
            "grid_auto_flow": null,
            "grid_auto_rows": null,
            "grid_column": null,
            "grid_gap": null,
            "grid_row": null,
            "grid_template_areas": null,
            "grid_template_columns": null,
            "grid_template_rows": null,
            "height": null,
            "justify_content": null,
            "justify_items": null,
            "left": null,
            "margin": null,
            "max_height": null,
            "max_width": null,
            "min_height": null,
            "min_width": null,
            "object_fit": null,
            "object_position": null,
            "order": null,
            "overflow": null,
            "overflow_x": null,
            "overflow_y": null,
            "padding": null,
            "right": null,
            "top": null,
            "visibility": null,
            "width": null
          }
        },
        "ba28ee43a0a54aa49c4071000982d56b": {
          "model_module": "@jupyter-widgets/controls",
          "model_name": "DescriptionStyleModel",
          "model_module_version": "1.5.0",
          "state": {
            "_model_module": "@jupyter-widgets/controls",
            "_model_module_version": "1.5.0",
            "_model_name": "DescriptionStyleModel",
            "_view_count": null,
            "_view_module": "@jupyter-widgets/base",
            "_view_module_version": "1.2.0",
            "_view_name": "StyleView",
            "description_width": ""
          }
        },
        "7fdbf6dd5d7a4cb4bb25711b779abfc5": {
          "model_module": "@jupyter-widgets/controls",
          "model_name": "HBoxModel",
          "model_module_version": "1.5.0",
          "state": {
            "_dom_classes": [],
            "_model_module": "@jupyter-widgets/controls",
            "_model_module_version": "1.5.0",
            "_model_name": "HBoxModel",
            "_view_count": null,
            "_view_module": "@jupyter-widgets/controls",
            "_view_module_version": "1.5.0",
            "_view_name": "HBoxView",
            "box_style": "",
            "children": [
              "IPY_MODEL_ba96d112e34449d2b5ee941642310fd0",
              "IPY_MODEL_9f7610fa18b841629cb712257eacf6c8",
              "IPY_MODEL_fd49d589e0794e73bca5fba245c8aa5a"
            ],
            "layout": "IPY_MODEL_3fc85a7ec80c46b59b7e3202f4eea1c0"
          }
        },
        "ba96d112e34449d2b5ee941642310fd0": {
          "model_module": "@jupyter-widgets/controls",
          "model_name": "HTMLModel",
          "model_module_version": "1.5.0",
          "state": {
            "_dom_classes": [],
            "_model_module": "@jupyter-widgets/controls",
            "_model_module_version": "1.5.0",
            "_model_name": "HTMLModel",
            "_view_count": null,
            "_view_module": "@jupyter-widgets/controls",
            "_view_module_version": "1.5.0",
            "_view_name": "HTMLView",
            "description": "",
            "description_tooltip": null,
            "layout": "IPY_MODEL_4197257aded64f4c8103d3d3100a4b8b",
            "placeholder": "​",
            "style": "IPY_MODEL_1376a8c27fae4cb09df79601fcd7cf84",
            "value": " 30%"
          }
        },
        "9f7610fa18b841629cb712257eacf6c8": {
          "model_module": "@jupyter-widgets/controls",
          "model_name": "FloatProgressModel",
          "model_module_version": "1.5.0",
          "state": {
            "_dom_classes": [],
            "_model_module": "@jupyter-widgets/controls",
            "_model_module_version": "1.5.0",
            "_model_name": "FloatProgressModel",
            "_view_count": null,
            "_view_module": "@jupyter-widgets/controls",
            "_view_module_version": "1.5.0",
            "_view_name": "ProgressView",
            "bar_style": "danger",
            "description": "",
            "description_tooltip": null,
            "layout": "IPY_MODEL_1e04785130ba450d9ac47fb17a3b52d2",
            "max": 10,
            "min": 0,
            "orientation": "horizontal",
            "style": "IPY_MODEL_30a0a738aca04da286df010174c01093",
            "value": 3
          }
        },
        "fd49d589e0794e73bca5fba245c8aa5a": {
          "model_module": "@jupyter-widgets/controls",
          "model_name": "HTMLModel",
          "model_module_version": "1.5.0",
          "state": {
            "_dom_classes": [],
            "_model_module": "@jupyter-widgets/controls",
            "_model_module_version": "1.5.0",
            "_model_name": "HTMLModel",
            "_view_count": null,
            "_view_module": "@jupyter-widgets/controls",
            "_view_module_version": "1.5.0",
            "_view_name": "HTMLView",
            "description": "",
            "description_tooltip": null,
            "layout": "IPY_MODEL_85f02f9872dd48768c67cb2a1f1d3ab4",
            "placeholder": "​",
            "style": "IPY_MODEL_d91d4659a595480fa10d27d251a572a5",
            "value": " 3/10 [22:44&lt;43:10, 370.10s/it]"
          }
        },
        "3fc85a7ec80c46b59b7e3202f4eea1c0": {
          "model_module": "@jupyter-widgets/base",
          "model_name": "LayoutModel",
          "model_module_version": "1.2.0",
          "state": {
            "_model_module": "@jupyter-widgets/base",
            "_model_module_version": "1.2.0",
            "_model_name": "LayoutModel",
            "_view_count": null,
            "_view_module": "@jupyter-widgets/base",
            "_view_module_version": "1.2.0",
            "_view_name": "LayoutView",
            "align_content": null,
            "align_items": null,
            "align_self": null,
            "border": null,
            "bottom": null,
            "display": null,
            "flex": null,
            "flex_flow": null,
            "grid_area": null,
            "grid_auto_columns": null,
            "grid_auto_flow": null,
            "grid_auto_rows": null,
            "grid_column": null,
            "grid_gap": null,
            "grid_row": null,
            "grid_template_areas": null,
            "grid_template_columns": null,
            "grid_template_rows": null,
            "height": null,
            "justify_content": null,
            "justify_items": null,
            "left": null,
            "margin": null,
            "max_height": null,
            "max_width": null,
            "min_height": null,
            "min_width": null,
            "object_fit": null,
            "object_position": null,
            "order": null,
            "overflow": null,
            "overflow_x": null,
            "overflow_y": null,
            "padding": null,
            "right": null,
            "top": null,
            "visibility": null,
            "width": null
          }
        },
        "4197257aded64f4c8103d3d3100a4b8b": {
          "model_module": "@jupyter-widgets/base",
          "model_name": "LayoutModel",
          "model_module_version": "1.2.0",
          "state": {
            "_model_module": "@jupyter-widgets/base",
            "_model_module_version": "1.2.0",
            "_model_name": "LayoutModel",
            "_view_count": null,
            "_view_module": "@jupyter-widgets/base",
            "_view_module_version": "1.2.0",
            "_view_name": "LayoutView",
            "align_content": null,
            "align_items": null,
            "align_self": null,
            "border": null,
            "bottom": null,
            "display": null,
            "flex": null,
            "flex_flow": null,
            "grid_area": null,
            "grid_auto_columns": null,
            "grid_auto_flow": null,
            "grid_auto_rows": null,
            "grid_column": null,
            "grid_gap": null,
            "grid_row": null,
            "grid_template_areas": null,
            "grid_template_columns": null,
            "grid_template_rows": null,
            "height": null,
            "justify_content": null,
            "justify_items": null,
            "left": null,
            "margin": null,
            "max_height": null,
            "max_width": null,
            "min_height": null,
            "min_width": null,
            "object_fit": null,
            "object_position": null,
            "order": null,
            "overflow": null,
            "overflow_x": null,
            "overflow_y": null,
            "padding": null,
            "right": null,
            "top": null,
            "visibility": null,
            "width": null
          }
        },
        "1376a8c27fae4cb09df79601fcd7cf84": {
          "model_module": "@jupyter-widgets/controls",
          "model_name": "DescriptionStyleModel",
          "model_module_version": "1.5.0",
          "state": {
            "_model_module": "@jupyter-widgets/controls",
            "_model_module_version": "1.5.0",
            "_model_name": "DescriptionStyleModel",
            "_view_count": null,
            "_view_module": "@jupyter-widgets/base",
            "_view_module_version": "1.2.0",
            "_view_name": "StyleView",
            "description_width": ""
          }
        },
        "1e04785130ba450d9ac47fb17a3b52d2": {
          "model_module": "@jupyter-widgets/base",
          "model_name": "LayoutModel",
          "model_module_version": "1.2.0",
          "state": {
            "_model_module": "@jupyter-widgets/base",
            "_model_module_version": "1.2.0",
            "_model_name": "LayoutModel",
            "_view_count": null,
            "_view_module": "@jupyter-widgets/base",
            "_view_module_version": "1.2.0",
            "_view_name": "LayoutView",
            "align_content": null,
            "align_items": null,
            "align_self": null,
            "border": null,
            "bottom": null,
            "display": null,
            "flex": null,
            "flex_flow": null,
            "grid_area": null,
            "grid_auto_columns": null,
            "grid_auto_flow": null,
            "grid_auto_rows": null,
            "grid_column": null,
            "grid_gap": null,
            "grid_row": null,
            "grid_template_areas": null,
            "grid_template_columns": null,
            "grid_template_rows": null,
            "height": null,
            "justify_content": null,
            "justify_items": null,
            "left": null,
            "margin": null,
            "max_height": null,
            "max_width": null,
            "min_height": null,
            "min_width": null,
            "object_fit": null,
            "object_position": null,
            "order": null,
            "overflow": null,
            "overflow_x": null,
            "overflow_y": null,
            "padding": null,
            "right": null,
            "top": null,
            "visibility": null,
            "width": null
          }
        },
        "30a0a738aca04da286df010174c01093": {
          "model_module": "@jupyter-widgets/controls",
          "model_name": "ProgressStyleModel",
          "model_module_version": "1.5.0",
          "state": {
            "_model_module": "@jupyter-widgets/controls",
            "_model_module_version": "1.5.0",
            "_model_name": "ProgressStyleModel",
            "_view_count": null,
            "_view_module": "@jupyter-widgets/base",
            "_view_module_version": "1.2.0",
            "_view_name": "StyleView",
            "bar_color": null,
            "description_width": ""
          }
        },
        "85f02f9872dd48768c67cb2a1f1d3ab4": {
          "model_module": "@jupyter-widgets/base",
          "model_name": "LayoutModel",
          "model_module_version": "1.2.0",
          "state": {
            "_model_module": "@jupyter-widgets/base",
            "_model_module_version": "1.2.0",
            "_model_name": "LayoutModel",
            "_view_count": null,
            "_view_module": "@jupyter-widgets/base",
            "_view_module_version": "1.2.0",
            "_view_name": "LayoutView",
            "align_content": null,
            "align_items": null,
            "align_self": null,
            "border": null,
            "bottom": null,
            "display": null,
            "flex": null,
            "flex_flow": null,
            "grid_area": null,
            "grid_auto_columns": null,
            "grid_auto_flow": null,
            "grid_auto_rows": null,
            "grid_column": null,
            "grid_gap": null,
            "grid_row": null,
            "grid_template_areas": null,
            "grid_template_columns": null,
            "grid_template_rows": null,
            "height": null,
            "justify_content": null,
            "justify_items": null,
            "left": null,
            "margin": null,
            "max_height": null,
            "max_width": null,
            "min_height": null,
            "min_width": null,
            "object_fit": null,
            "object_position": null,
            "order": null,
            "overflow": null,
            "overflow_x": null,
            "overflow_y": null,
            "padding": null,
            "right": null,
            "top": null,
            "visibility": null,
            "width": null
          }
        },
        "d91d4659a595480fa10d27d251a572a5": {
          "model_module": "@jupyter-widgets/controls",
          "model_name": "DescriptionStyleModel",
          "model_module_version": "1.5.0",
          "state": {
            "_model_module": "@jupyter-widgets/controls",
            "_model_module_version": "1.5.0",
            "_model_name": "DescriptionStyleModel",
            "_view_count": null,
            "_view_module": "@jupyter-widgets/base",
            "_view_module_version": "1.2.0",
            "_view_name": "StyleView",
            "description_width": ""
          }
        }
      }
    }
  },
  "cells": [
    {
      "cell_type": "markdown",
      "source": [
        "## Creating Classification Models for Cifar10 Dataset"
      ],
      "metadata": {
        "id": "DWjJtTX6hAT5"
      }
    },
    {
      "cell_type": "markdown",
      "source": [
        "## Importing the Modules"
      ],
      "metadata": {
        "id": "bnR16Q-Ihad_"
      }
    },
    {
      "cell_type": "code",
      "source": [
        "import torch\n",
        "import torch.nn as nn\n",
        "import torch.optim as opt\n",
        "from torch.utils.data import DataLoader, random_split\n",
        "from torchvision import transforms\n",
        "from torchvision.datasets import CIFAR10"
      ],
      "metadata": {
        "id": "vjj3nnOuhd8M"
      },
      "execution_count": 2,
      "outputs": []
    },
    {
      "cell_type": "code",
      "source": [
        "import pandas as pd\n",
        "import matplotlib.pyplot as plt"
      ],
      "metadata": {
        "id": "ByUDaDXkiRjw"
      },
      "execution_count": 3,
      "outputs": []
    },
    {
      "cell_type": "code",
      "source": [
        "from timeit  import default_timer as timer\n",
        "from tqdm.auto import tqdm\n",
        "from os import cpu_count"
      ],
      "metadata": {
        "id": "lmoZjLQ8iROw"
      },
      "execution_count": 4,
      "outputs": []
    },
    {
      "cell_type": "code",
      "source": [
        "!pip install -q torchmetrics\n",
        "!pip install -U -q mlxtend\n",
        "!pip install -q torchinfo"
      ],
      "metadata": {
        "id": "uASLUBpiiF-F"
      },
      "execution_count": 8,
      "outputs": []
    },
    {
      "cell_type": "code",
      "source": [
        "from torchmetrics import ConfusionMatrix\n",
        "from mlxtend.plotting import plot_confusion_matrix\n",
        "from torchinfo import summary"
      ],
      "metadata": {
        "id": "Jqyloa25iOGo"
      },
      "execution_count": 16,
      "outputs": []
    },
    {
      "cell_type": "code",
      "source": [
        "from collections.abc import Callable # For Type Hinting"
      ],
      "metadata": {
        "id": "uZ5Iheuiek7L"
      },
      "execution_count": 7,
      "outputs": []
    },
    {
      "cell_type": "markdown",
      "source": [
        "## Setting the Device Agnostic Code"
      ],
      "metadata": {
        "id": "egSGxREKk6pR"
      }
    },
    {
      "cell_type": "code",
      "source": [
        "device = torch.device(\"cuda\" if torch.cuda.is_available() else \"cpu\")\n",
        "\n",
        "print(device)"
      ],
      "metadata": {
        "colab": {
          "base_uri": "https://localhost:8080/"
        },
        "id": "A8RchZCLk83n",
        "outputId": "a5e1e918-0dfb-4d16-fabb-5ca869dd63f2"
      },
      "execution_count": 9,
      "outputs": [
        {
          "output_type": "stream",
          "name": "stdout",
          "text": [
            "cuda\n"
          ]
        }
      ]
    },
    {
      "cell_type": "markdown",
      "source": [
        "## Setting the Basic Hyper Parameters"
      ],
      "metadata": {
        "id": "thfREe2elegO"
      }
    },
    {
      "cell_type": "code",
      "source": [
        "VALID_SIZE_PROP = 0.2\n",
        "\n",
        "BATCH_SIZE = 32"
      ],
      "metadata": {
        "id": "17VA0rvEliAm"
      },
      "execution_count": null,
      "outputs": []
    },
    {
      "cell_type": "markdown",
      "source": [
        "## Downloading the Dataset (no Augmentation)\n",
        "\n"
      ],
      "metadata": {
        "id": "PmbONu_6ifrH"
      }
    },
    {
      "cell_type": "code",
      "source": [
        "train_dataset = CIFAR10(root=\"/content/NoAug\", download=True, train=True, transform=transforms.ToTensor())\n",
        "test_dataset = CIFAR10(root=\"/content/NoAug\", download=True, train=False, transform=transforms.ToTensor())\n",
        "classes_names = train_dataset.classes\n",
        "\n",
        "print(len(train_dataset), len(test_dataset))\n",
        "print(classes_names)"
      ],
      "metadata": {
        "colab": {
          "base_uri": "https://localhost:8080/",
          "height": 136,
          "referenced_widgets": [
            "1bfe32e5701c40b1a7116a240d6dbf6c",
            "4dbd663b8df2448e849186683e15fbdd",
            "3c8f32757da4470c8b394b57e1aa2b86",
            "f3f51d925cb942ae9392efba707e5d83",
            "5a970d5eb92e4d90a134aaa4a8946b7d",
            "3e37e95c02c64731a021c54a9263e149",
            "9c698b1ab5a34ec8a431d2fabf5da669",
            "1f85789ce41546dbb7128d99e1d5d2f3",
            "00bf25efe3914444a36992bd48916c93",
            "69e21552f3b74a4183961af3c3d56e88",
            "6043c7993ba04b569a9a399b3d63b511"
          ]
        },
        "id": "_9eCRaLtibU6",
        "outputId": "02999429-5956-4000-c720-ec12825af547"
      },
      "execution_count": null,
      "outputs": [
        {
          "output_type": "stream",
          "name": "stdout",
          "text": [
            "Downloading https://www.cs.toronto.edu/~kriz/cifar-10-python.tar.gz to /content/NoAug/cifar-10-python.tar.gz\n"
          ]
        },
        {
          "output_type": "display_data",
          "data": {
            "text/plain": [
              "  0%|          | 0/170498071 [00:00<?, ?it/s]"
            ],
            "application/vnd.jupyter.widget-view+json": {
              "version_major": 2,
              "version_minor": 0,
              "model_id": "1bfe32e5701c40b1a7116a240d6dbf6c"
            }
          },
          "metadata": {}
        },
        {
          "output_type": "stream",
          "name": "stdout",
          "text": [
            "Extracting /content/NoAug/cifar-10-python.tar.gz to /content/NoAug\n",
            "Files already downloaded and verified\n",
            "50000 10000\n",
            "['airplane', 'automobile', 'bird', 'cat', 'deer', 'dog', 'frog', 'horse', 'ship', 'truck']\n"
          ]
        }
      ]
    },
    {
      "cell_type": "markdown",
      "source": [
        "## Splitting the Dataset into Training and Validation Sets (no Augmentation)"
      ],
      "metadata": {
        "id": "vu-0GQpTlT6e"
      }
    },
    {
      "cell_type": "code",
      "source": [
        "train_size = int((1 - VALID_SIZE_PROP) * len(train_dataset))\n",
        "valid_size = int(VALID_SIZE_PROP * len(train_dataset))\n",
        "\n",
        "train_ds, valid_ds = random_split(train_dataset, [train_size, valid_size])\n",
        "\n",
        "print(len(train_ds), len(valid_ds))"
      ],
      "metadata": {
        "colab": {
          "base_uri": "https://localhost:8080/"
        },
        "id": "IZfh6QzElZjk",
        "outputId": "7b77bb8c-5810-4abc-cf78-8133ccf8fe02"
      },
      "execution_count": null,
      "outputs": [
        {
          "output_type": "stream",
          "name": "stdout",
          "text": [
            "40000 10000\n"
          ]
        }
      ]
    },
    {
      "cell_type": "markdown",
      "source": [
        "## Creating the Data Loaders (no Augmentation)\n"
      ],
      "metadata": {
        "id": "Prlg4ShwpREq"
      }
    },
    {
      "cell_type": "code",
      "source": [
        "train_dl = DataLoader(dataset=train_ds, \n",
        "                      batch_size=BATCH_SIZE,\n",
        "                      shuffle=True,\n",
        "                      num_workers=cpu_count(),\n",
        "                      pin_memory=True)\n",
        "\n",
        "valid_dl = DataLoader(dataset=valid_ds, \n",
        "                      batch_size=BATCH_SIZE,\n",
        "                      num_workers=cpu_count(),\n",
        "                      pin_memory=True)"
      ],
      "metadata": {
        "id": "5NGwxbSypGgr"
      },
      "execution_count": null,
      "outputs": []
    },
    {
      "cell_type": "markdown",
      "source": [
        "## Creating the Custom Transformations"
      ],
      "metadata": {
        "id": "lIZs3f7eUUrx"
      }
    },
    {
      "cell_type": "code",
      "source": [
        "augmented_train_transforms = transforms.Compose([\n",
        "    transforms.Resize(size=(224, 224)),\n",
        "    transforms.TrivialAugmentWide(num_magnitude_bins=32),\n",
        "    transforms.ToTensor()\n",
        "])\n",
        "\n",
        "augmented_test_transforms = transforms.Compose([\n",
        "    transforms.Resize(size=(224, 224)),\n",
        "    transforms.ToTensor()\n",
        "])"
      ],
      "metadata": {
        "id": "YOrgdiFTTz2p"
      },
      "execution_count": null,
      "outputs": []
    },
    {
      "cell_type": "markdown",
      "source": [
        "## Loading the Dataset (with Augentation)"
      ],
      "metadata": {
        "id": "TSo1vKnTU6k3"
      }
    },
    {
      "cell_type": "code",
      "source": [
        "train_dataset_aug = CIFAR10(root=\"/content/Aug\", download=True, train=True, transform=augmented_train_transforms)\n",
        "test_dataset_aug = CIFAR10(root=\"/content/Aug\", download=True, train=False, transform=augmented_test_transforms)"
      ],
      "metadata": {
        "colab": {
          "base_uri": "https://localhost:8080/",
          "height": 101,
          "referenced_widgets": [
            "b16649c8800e471db31b1b9ebd4b9efe",
            "45da456eb4b844e1857768306809dc61",
            "cf7818f2587647cdaa7c64cce0d2885e",
            "e4abc31ec94743df8b528956f0f4d2d4",
            "c9c0bb099f71487cacf47c9167b632cb",
            "d9063bd595d843859d1c37122882e03f",
            "6b53d05629e24578bffbfaf48b962601",
            "494aa19369b14d3bbc5f6922b9135ead",
            "47c1ff663be6410db185d27567fc1a18",
            "147b9b9c266b4c79aeaed9a29a761866",
            "ae38f8f2e10f474d8f9dfa584b4279d3"
          ]
        },
        "id": "PxlKVugdU-2j",
        "outputId": "23cfb09f-f80c-48fb-c14f-9420e306d9af"
      },
      "execution_count": null,
      "outputs": [
        {
          "output_type": "stream",
          "name": "stdout",
          "text": [
            "Downloading https://www.cs.toronto.edu/~kriz/cifar-10-python.tar.gz to /content/Aug/cifar-10-python.tar.gz\n"
          ]
        },
        {
          "output_type": "display_data",
          "data": {
            "text/plain": [
              "  0%|          | 0/170498071 [00:00<?, ?it/s]"
            ],
            "application/vnd.jupyter.widget-view+json": {
              "version_major": 2,
              "version_minor": 0,
              "model_id": "b16649c8800e471db31b1b9ebd4b9efe"
            }
          },
          "metadata": {}
        },
        {
          "output_type": "stream",
          "name": "stdout",
          "text": [
            "Extracting /content/Aug/cifar-10-python.tar.gz to /content/Aug\n",
            "Files already downloaded and verified\n"
          ]
        }
      ]
    },
    {
      "cell_type": "markdown",
      "source": [
        "## Splitting into Training and Validation Sets (with Augmentation)"
      ],
      "metadata": {
        "id": "qVZedo3FVpwl"
      }
    },
    {
      "cell_type": "code",
      "source": [
        "train_ds_aug, valid_ds_aug = random_split(train_dataset_aug, [train_size, valid_size])\n",
        "\n",
        "print(len(train_ds_aug), len(valid_ds_aug))"
      ],
      "metadata": {
        "colab": {
          "base_uri": "https://localhost:8080/"
        },
        "id": "vS2-lc14VzK3",
        "outputId": "6a1d736f-cdab-4067-da35-0b51f50abaaf"
      },
      "execution_count": null,
      "outputs": [
        {
          "output_type": "stream",
          "name": "stdout",
          "text": [
            "40000 10000\n"
          ]
        }
      ]
    },
    {
      "cell_type": "markdown",
      "source": [
        "## Creating the DataLoaders (with Augmentation)"
      ],
      "metadata": {
        "id": "vZMSg7EoWS5N"
      }
    },
    {
      "cell_type": "code",
      "source": [
        "train_dl_aug = DataLoader(dataset=train_ds_aug,\n",
        "                          batch_size=BATCH_SIZE,\n",
        "                          shuffle=True,\n",
        "                          num_workers=cpu_count(),\n",
        "                          pin_memory=True)\n",
        "valid_dl_aug = DataLoader(dataset=valid_ds_aug,\n",
        "                          batch_size=BATCH_SIZE,\n",
        "                          shuffle=False,\n",
        "                          num_workers=cpu_count(),\n",
        "                          pin_memory=True)"
      ],
      "metadata": {
        "id": "GYt6cUFHWWRz"
      },
      "execution_count": null,
      "outputs": []
    },
    {
      "cell_type": "markdown",
      "source": [
        "## Creating the Training Loop"
      ],
      "metadata": {
        "id": "A6h-tYz-0_iH"
      }
    },
    {
      "cell_type": "code",
      "source": [
        "def training_step(model: torch.nn.Module,\n",
        "                  train_dl: torch.utils.data.DataLoader,\n",
        "                  loss_fn: torch.nn.Module,\n",
        "                  eval_metric: Callable[[torch.Tensor, torch.Tensor]],\n",
        "                  optim: torch.optim.Optimizer,\n",
        "                  n_batch_prints: int=None):\n",
        "    \n",
        "    batch_size = next(iter(train_dl))[0].shape[0]\n",
        "    model_device = next(model.parameters()).device\n",
        "    train_loss, train_eval = 0, 0\n",
        "    dummy = 0\n",
        "\n",
        "    model.train()\n",
        "    for batch_num, (x_train, y_train) in enumerate(train_dl, start=1):\n",
        "        x_train, y_train = x_train.to(model_device), y_train.to(model_device)\n",
        "\n",
        "        model_logits = model(x_train)\n",
        "\n",
        "        loss = loss_fn(model_logits, y_train)\n",
        "        train_loss += loss.item()\n",
        "        train_eval += eval_metric(model_logits, y_train)\n",
        "\n",
        "        optim.zero_grad()\n",
        "        loss.backward()\n",
        "        optim.step()\n",
        "\n",
        "        if n_batch_prints and (batch_num % (len(train_dl) // n_batch_prints) == 0):\n",
        "            dummy += 1\n",
        "            print(f\"\\t{dummy}) Looked at {batch_num*batch_size}/{len(train_dl)*batch_size} training samples...\")\n",
        "\n",
        "    train_loss /= len(train_dl)\n",
        "    train_eval /= len(train_dl)\n",
        "\n",
        "    if dummy != 0:\n",
        "        print(\"-\" * 107)\n",
        "\n",
        "    return train_loss, train_eval"
      ],
      "metadata": {
        "id": "iddrZpJLe4pA"
      },
      "execution_count": 20,
      "outputs": []
    },
    {
      "cell_type": "markdown",
      "source": [
        "## Creating the Evaluating Loop"
      ],
      "metadata": {
        "id": "VQ20HocGe7Ex"
      }
    },
    {
      "cell_type": "code",
      "source": [
        "def validation_step(model: torch.nn.Module,\n",
        "                    valid_dl: torch.utils.data.DataLoader,\n",
        "                    loss_fn: torch.nn.Module,\n",
        "                    eval_metric: Callable[[torch.Tensor, torch.Tensor]],\n",
        "                    n_batch_prints: int=None):\n",
        "    \n",
        "    batch_size = len(next(iter(valid_dl))[0])\n",
        "    model_device = next(model.parameters()).device\n",
        "    valid_loss, valid_eval = 0, 0\n",
        "    dummy = 0\n",
        "\n",
        "    model.eval()\n",
        "    with torch.inference_mode():\n",
        "        for batch_num, (x_valid, y_valid) in enumerate(valid_dl, start=1):\n",
        "            x_valid, y_valid = x_valid.to(model_device), y_valid.to(model_device)\n",
        "\n",
        "            model_logits = model(x_valid)\n",
        "\n",
        "            valid_loss += loss_fn(model_logits, y_valid).item()\n",
        "            valid_eval += eval_metric(model_logits, y_valid)\n",
        "\n",
        "            if n_batch_prints and (batch_num % (len(valid_dl) // n_batch_prints) == 0):\n",
        "                dummy += 1\n",
        "                print(f\"\\t{dummy}) Looked at {batch_num*batch_size}/{len(valid_dl)*batch_size} validation samples...\")\n",
        "\n",
        "        valid_loss /= len(valid_dl)\n",
        "        valid_eval /= len(valid_dl)\n",
        "\n",
        "        if dummy != 0:\n",
        "            print(\"-\" * 107)\n",
        "\n",
        "        return valid_loss, valid_eval"
      ],
      "metadata": {
        "id": "6DXtGMcNe-zR"
      },
      "execution_count": 21,
      "outputs": []
    },
    {
      "cell_type": "markdown",
      "source": [
        "## Creating the Training and Evaluating Function"
      ],
      "metadata": {
        "id": "DbRKOxome_1R"
      }
    },
    {
      "cell_type": "code",
      "source": [
        "def fit(model: torch.nn.Module,\n",
        "        epochs: int,\n",
        "        train_dl: torch.utils.data.DataLoader,\n",
        "        valid_dl: torch.utils.data.DataLoader,\n",
        "        loss_fn: torch.nn.Module,\n",
        "        eval_metric: Callable[[torch.Tensor, torch.Tensor]],\n",
        "        optim: torch.optim.Optimizer,\n",
        "        n_epoch_per_print: int=1,\n",
        "        n_train_batch_prints: int=None,\n",
        "        n_valid_batch_prints: int=None):\n",
        "    \n",
        "    start_time = timer()\n",
        "    train_losses, train_evals = [], []\n",
        "    valid_losses, valid_evals = [], []\n",
        "\n",
        "    print(\"Starting Process...\")\n",
        "    \n",
        "    for epoch in tqdm(range(1, epochs + 1)):\n",
        "        train_loss, train_eval = training_step(model, train_dl, loss_fn, eval_metric, optim, n_train_batch_prints)\n",
        "        valid_loss, valid_eval = validation_step(model, valid_dl, loss_fn, eval_metric, n_valid_batch_prints)\n",
        "\n",
        "        if (n_epoch_per_print > 0) and (epoch % n_epoch_per_print == 0):\n",
        "            print(\n",
        "                f\"-> Epoch: {epoch} | \"\n",
        "                f\"Train Loss: {train_loss:.4f} | \"\n",
        "                f\"Train Accuracy: {train_eval:.2f}% | \"\n",
        "                f\"Test Loss: {valid_loss:.4f} | \"\n",
        "                f\"Test Evaluation (%): {valid_eval:.2f}%\")\n",
        "            print(\"-\" * 107)\n",
        "        \n",
        "        train_losses.append(train_loss)\n",
        "        train_evals.append(train_eval)\n",
        "        valid_losses.append(valid_loss)\n",
        "        valid_evals.append(valid_eval)\n",
        "\n",
        "    print(\"Process Completed Successfully...\")\n",
        "\n",
        "    return {\"model_train_loss\": train_losses,\n",
        "        \"model_train_eval\": train_evals,\n",
        "        \"model_valid_loss\": valid_losses,\n",
        "        \"model_valid_eval\": valid_evals,\n",
        "        \"model_name\": model.__class__.__name__,\n",
        "        \"model_loss_fn\": loss_fn.__class__.__name__,\n",
        "        \"model_evaluating_m\": eval_metric.__name__,\n",
        "        \"model_optimizer\": optim.__class__.__name__,\n",
        "        \"model_device\": next(model.parameters()).device.type,\n",
        "        \"model_epochs\": epochs,\n",
        "        \"model_time\": timer() - start_time}"
      ],
      "metadata": {
        "id": "MmvI4Ezy0_1X"
      },
      "execution_count": 22,
      "outputs": []
    },
    {
      "cell_type": "markdown",
      "source": [
        "## Setting Evaluating Metric and Loss Function"
      ],
      "metadata": {
        "id": "xRFG9aIdgeK1"
      }
    },
    {
      "cell_type": "code",
      "source": [
        "def accuracy_fn(model_logits, labels):\n",
        "    preds = torch.softmax(model_logits, dim=1).argmax(dim=1)\n",
        "\n",
        "    return (torch.sum(preds == labels).item() / len(labels)) * 100"
      ],
      "metadata": {
        "id": "xcgcs6DugehG"
      },
      "execution_count": 18,
      "outputs": []
    },
    {
      "cell_type": "code",
      "source": [
        "loss_fn = nn.CrossEntropyLoss()"
      ],
      "metadata": {
        "id": "wZ4LtlrHg2hd"
      },
      "execution_count": 19,
      "outputs": []
    },
    {
      "cell_type": "markdown",
      "source": [
        "## Models"
      ],
      "metadata": {
        "id": "C0c_V50UhVy8"
      }
    },
    {
      "cell_type": "markdown",
      "source": [
        "### Model 0"
      ],
      "metadata": {
        "id": "XA2mMv7whbRz"
      }
    },
    {
      "cell_type": "markdown",
      "source": [
        "#### Hyperparameters"
      ],
      "metadata": {
        "id": "0Viou2N1jFYB"
      }
    },
    {
      "cell_type": "code",
      "source": [
        "LIN_HIDDEN_1_SIZE_0 = 128\n",
        "LIN_HIDDEN_2_SIZE_0 = 256\n",
        "LIN_HIDDEN_3_SIZE_0 = 128\n",
        "\n",
        "LR_0 = 1e-3"
      ],
      "metadata": {
        "id": "B3QGfq_WjHhu"
      },
      "execution_count": null,
      "outputs": []
    },
    {
      "cell_type": "markdown",
      "source": [
        "#### Creating the Model"
      ],
      "metadata": {
        "id": "Dwle05VhlOfU"
      }
    },
    {
      "cell_type": "code",
      "source": [
        "class CIFAR10_ModelV0(nn.Module):\n",
        "    def __init__(self, input_size, hidden_size_1, hidden_size_2, hidden_size_3, output_size):\n",
        "        super().__init__()\n",
        "\n",
        "        self.classifier = nn.Sequential(\n",
        "            nn.Flatten(),\n",
        "            nn.Linear(in_features=input_size, out_features=hidden_size_1),\n",
        "            nn.ReLU(),\n",
        "            nn.Linear(in_features=hidden_size_1, out_features=hidden_size_2),\n",
        "            nn.ReLU(),\n",
        "            nn.Linear(in_features=hidden_size_2, out_features=hidden_size_3),\n",
        "            nn.ReLU(),\n",
        "            nn.Linear(in_features=hidden_size_3, out_features=output_size),\n",
        "        )\n",
        "\n",
        "    def forward(self, x: torch.Tensor):\n",
        "        return self.classifier(x)"
      ],
      "metadata": {
        "id": "ndcCdytIhW7w"
      },
      "execution_count": null,
      "outputs": []
    },
    {
      "cell_type": "markdown",
      "source": [
        "#### Initialize the Model"
      ],
      "metadata": {
        "id": "VsS_hDwCi6tQ"
      }
    },
    {
      "cell_type": "code",
      "source": [
        "modelv0 = CIFAR10_ModelV0(32*32*3, LIN_HIDDEN_1_SIZE_0, LIN_HIDDEN_2_SIZE_0, LIN_HIDDEN_3_SIZE_0, len(classes_names)).to(device)"
      ],
      "metadata": {
        "id": "KCNmoI75i0un"
      },
      "execution_count": null,
      "outputs": []
    },
    {
      "cell_type": "markdown",
      "source": [
        "#### Setting Optimizer"
      ],
      "metadata": {
        "id": "dzNaKHLijpJH"
      }
    },
    {
      "cell_type": "code",
      "source": [
        "optim_0 = opt.Adam(params=modelv0.parameters(), lr=LR_0)"
      ],
      "metadata": {
        "id": "TVE8jhi6jqWR"
      },
      "execution_count": null,
      "outputs": []
    },
    {
      "cell_type": "markdown",
      "source": [
        "#### Training and Evaluating the Model"
      ],
      "metadata": {
        "id": "YlQixvC7j4jW"
      }
    },
    {
      "cell_type": "code",
      "source": [
        "res_0 = fit(modelv0, 10, train_dl, valid_dl, loss_fn, accuracy_fn, optim_0, 1, 2)"
      ],
      "metadata": {
        "colab": {
          "base_uri": "https://localhost:8080/",
          "height": 952,
          "referenced_widgets": [
            "d05d0e0bcd63475db5a046c96cbb53fe",
            "052260bc03e54c35a89fafbd792c00f5",
            "63f36efb49c14648a86acf34e8a2d029",
            "423b933da9644ab2bfda8a9968728d44",
            "11e5abb3f7ad445d909f4938f9132b0c",
            "a2558a77092d4ec29fc9f7a91dc0dc67",
            "c20301ba83254117a3644bb701e52162",
            "79a071da63ae4d6db8d902ff69843fd9",
            "a5bf83bd37bb4581b51af242ae2fea29",
            "9beb1b9dc0ff415c8024b8f39acfd879",
            "48082dc388bc4f92b6d74ce2ca06169b"
          ]
        },
        "id": "HJ2JTghOj6oF",
        "outputId": "744aaa56-789c-48af-cbd0-dfb2a17b97f2"
      },
      "execution_count": null,
      "outputs": [
        {
          "output_type": "stream",
          "name": "stdout",
          "text": [
            "Starting Process...\n"
          ]
        },
        {
          "output_type": "display_data",
          "data": {
            "text/plain": [
              "  0%|          | 0/10 [00:00<?, ?it/s]"
            ],
            "application/vnd.jupyter.widget-view+json": {
              "version_major": 2,
              "version_minor": 0,
              "model_id": "d05d0e0bcd63475db5a046c96cbb53fe"
            }
          },
          "metadata": {}
        },
        {
          "output_type": "stream",
          "name": "stdout",
          "text": [
            "\tTrained for 625/1250 batches...\n",
            "\tTrained for 1250/1250 batches...\n",
            "-----------------------------------------------------------------------------------------------------------\n",
            "-> Epoch: 1 | Train Loss: 1.8902 | Train Accuracy: 30.59% | Test Loss: 1.7611 | Test Evaluation (%): 36.11%\n",
            "-----------------------------------------------------------------------------------------------------------\n",
            "\tTrained for 625/1250 batches...\n",
            "\tTrained for 1250/1250 batches...\n",
            "-----------------------------------------------------------------------------------------------------------\n",
            "-> Epoch: 2 | Train Loss: 1.7223 | Train Accuracy: 37.58% | Test Loss: 1.7010 | Test Evaluation (%): 38.31%\n",
            "-----------------------------------------------------------------------------------------------------------\n",
            "\tTrained for 625/1250 batches...\n",
            "\tTrained for 1250/1250 batches...\n",
            "-----------------------------------------------------------------------------------------------------------\n",
            "-> Epoch: 3 | Train Loss: 1.6417 | Train Accuracy: 40.91% | Test Loss: 1.6124 | Test Evaluation (%): 41.85%\n",
            "-----------------------------------------------------------------------------------------------------------\n",
            "\tTrained for 625/1250 batches...\n",
            "\tTrained for 1250/1250 batches...\n",
            "-----------------------------------------------------------------------------------------------------------\n",
            "-> Epoch: 4 | Train Loss: 1.5822 | Train Accuracy: 42.99% | Test Loss: 1.5906 | Test Evaluation (%): 43.01%\n",
            "-----------------------------------------------------------------------------------------------------------\n",
            "\tTrained for 625/1250 batches...\n",
            "\tTrained for 1250/1250 batches...\n",
            "-----------------------------------------------------------------------------------------------------------\n",
            "-> Epoch: 5 | Train Loss: 1.5425 | Train Accuracy: 44.39% | Test Loss: 1.5548 | Test Evaluation (%): 44.33%\n",
            "-----------------------------------------------------------------------------------------------------------\n",
            "\tTrained for 625/1250 batches...\n",
            "\tTrained for 1250/1250 batches...\n",
            "-----------------------------------------------------------------------------------------------------------\n",
            "-> Epoch: 6 | Train Loss: 1.5070 | Train Accuracy: 45.76% | Test Loss: 1.5591 | Test Evaluation (%): 43.69%\n",
            "-----------------------------------------------------------------------------------------------------------\n",
            "\tTrained for 625/1250 batches...\n",
            "\tTrained for 1250/1250 batches...\n",
            "-----------------------------------------------------------------------------------------------------------\n",
            "-> Epoch: 7 | Train Loss: 1.4746 | Train Accuracy: 46.74% | Test Loss: 1.5306 | Test Evaluation (%): 44.86%\n",
            "-----------------------------------------------------------------------------------------------------------\n",
            "\tTrained for 625/1250 batches...\n",
            "\tTrained for 1250/1250 batches...\n",
            "-----------------------------------------------------------------------------------------------------------\n",
            "-> Epoch: 8 | Train Loss: 1.4509 | Train Accuracy: 47.80% | Test Loss: 1.5267 | Test Evaluation (%): 45.90%\n",
            "-----------------------------------------------------------------------------------------------------------\n",
            "\tTrained for 625/1250 batches...\n",
            "\tTrained for 1250/1250 batches...\n",
            "-----------------------------------------------------------------------------------------------------------\n",
            "-> Epoch: 9 | Train Loss: 1.4250 | Train Accuracy: 48.48% | Test Loss: 1.4992 | Test Evaluation (%): 46.97%\n",
            "-----------------------------------------------------------------------------------------------------------\n",
            "\tTrained for 625/1250 batches...\n",
            "\tTrained for 1250/1250 batches...\n",
            "-----------------------------------------------------------------------------------------------------------\n",
            "-> Epoch: 10 | Train Loss: 1.4028 | Train Accuracy: 49.34% | Test Loss: 1.5081 | Test Evaluation (%): 46.30%\n",
            "-----------------------------------------------------------------------------------------------------------\n",
            "Process Completed Successfully...\n"
          ]
        }
      ]
    },
    {
      "cell_type": "markdown",
      "source": [
        "#### Printing Model's Results"
      ],
      "metadata": {
        "id": "K1pkIvilk7Rl"
      }
    },
    {
      "cell_type": "code",
      "source": [
        "print(res_0)"
      ],
      "metadata": {
        "colab": {
          "base_uri": "https://localhost:8080/"
        },
        "id": "u_axbde6k9aw",
        "outputId": "19c2496c-3525-434f-82ec-0ec66c8b4846"
      },
      "execution_count": null,
      "outputs": [
        {
          "output_type": "stream",
          "name": "stdout",
          "text": [
            "{'model_train_loss': [1.8902263013839722, 1.722305962085724, 1.641725015926361, 1.5822068423748017, 1.5425180557727813, 1.507045959854126, 1.4745552579402923, 1.4509341909885407, 1.4249943515300751, 1.4028412193775177], 'model_train_eval': [30.595, 37.575, 40.9125, 42.9925, 44.3925, 45.755, 46.7375, 47.8025, 48.4775, 49.345], 'model_valid_loss': [tensor(1.7611, device='cuda:0'), tensor(1.7010, device='cuda:0'), tensor(1.6124, device='cuda:0'), tensor(1.5906, device='cuda:0'), tensor(1.5548, device='cuda:0'), tensor(1.5591, device='cuda:0'), tensor(1.5306, device='cuda:0'), tensor(1.5267, device='cuda:0'), tensor(1.4992, device='cuda:0'), tensor(1.5081, device='cuda:0')], 'model_valid_eval': [36.11222044728434, 38.30870607028754, 41.853035143769965, 43.0111821086262, 44.329073482428115, 43.69009584664537, 44.858226837060705, 45.89656549520767, 46.974840255591054, 46.295926517571885], 'model_name': 'CIFAR10_ModelV0', 'model_loss_fn': 'CrossEntropyLoss', 'model_evaluating_m': 'accuracy_fn', 'model_optimizer': 'Adam', 'model_device': 'cuda', 'model_epochs': 10, 'model_time': 139.17445152600067}\n"
          ]
        }
      ]
    },
    {
      "cell_type": "markdown",
      "source": [
        "### Model 1"
      ],
      "metadata": {
        "id": "bRtv3hj6EVKJ"
      }
    },
    {
      "cell_type": "markdown",
      "source": [
        "#### Hyperparameters"
      ],
      "metadata": {
        "id": "lOdlGudclTrE"
      }
    },
    {
      "cell_type": "code",
      "source": [
        "CONV_HIDDEN_1_SIZE_1 = 64\n",
        "CONV_HIDDEN_2_SIZE_1 = 128\n",
        "\n",
        "LIN_HIDDEN_1_SIZE_1 = 64\n",
        "LIN_HIDDEN_2_SIZE_1 = 128\n",
        "\n",
        "LR_1 = 1e-3"
      ],
      "metadata": {
        "id": "vAsAb4KvlWie"
      },
      "execution_count": null,
      "outputs": []
    },
    {
      "cell_type": "markdown",
      "source": [
        "#### Creating the Model\n"
      ],
      "metadata": {
        "id": "_DlaSnj0rxDL"
      }
    },
    {
      "cell_type": "code",
      "source": [
        "class CIFAR10_ModelV1(nn.Module):\n",
        "    def __init__(self,\n",
        "                 input_size,\n",
        "                 conv_hidden_1_size, conv_hidden_2_size,\n",
        "                 lin_hidden_1_size, lin_hidden_2_size,\n",
        "                 output_size):\n",
        "\n",
        "        super().__init__()\n",
        "\n",
        "        self.conv_block_1 = nn.Sequential(\n",
        "            nn.Conv2d(in_channels=input_size,\n",
        "                      out_channels=conv_hidden_1_size,\n",
        "                      kernel_size=(3, 3),\n",
        "                      stride=1,\n",
        "                      padding=1),\n",
        "            nn.ReLU(),\n",
        "            nn.Conv2d(in_channels=conv_hidden_1_size,\n",
        "                      out_channels=conv_hidden_1_size,\n",
        "                      kernel_size=(3, 3),\n",
        "                      stride=1,\n",
        "                      padding=0),\n",
        "            nn.ReLU(),\n",
        "            nn.MaxPool2d(kernel_size=(2, 2))\n",
        "        ) # Output: (`batch_size`, `conv_hidden_1_size`, 15, 15)\n",
        "\n",
        "        self.conv_block_2 = nn.Sequential(\n",
        "            nn.Conv2d(in_channels=conv_hidden_1_size,\n",
        "                      out_channels=conv_hidden_2_size,\n",
        "                      kernel_size=(3, 3),\n",
        "                      stride=1,\n",
        "                      padding=0),\n",
        "            nn.ReLU(),\n",
        "            nn.Conv2d(in_channels=conv_hidden_2_size,\n",
        "                      out_channels=conv_hidden_2_size,\n",
        "                      kernel_size=(3, 3),\n",
        "                      stride=1,\n",
        "                      padding=0),\n",
        "            nn.ReLU(),\n",
        "            nn.MaxPool2d(kernel_size=(2, 2))\n",
        "        ) # Output: (`batch_size`, `conv_hidden_2_size`, 5, 5)\n",
        "\n",
        "        self.classifier = nn.Sequential(\n",
        "            nn.Flatten(),\n",
        "            nn.Linear(in_features=conv_hidden_2_size*5*5, out_features=lin_hidden_1_size),\n",
        "            nn.ReLU(),\n",
        "            nn.Linear(in_features=lin_hidden_1_size, out_features=lin_hidden_2_size),\n",
        "            nn.ReLU(),\n",
        "            nn.Linear(in_features=lin_hidden_2_size, out_features=output_size)\n",
        "        ) # Output: (`batch_size`, 10)\n",
        "\n",
        "    def forward(self, x):\n",
        "        return self.classifier(self.conv_block_2(self.conv_block_1(x)))"
      ],
      "metadata": {
        "id": "UC98DiV4reaw"
      },
      "execution_count": null,
      "outputs": []
    },
    {
      "cell_type": "markdown",
      "source": [
        "#### Initializing the Model"
      ],
      "metadata": {
        "id": "ecTx9xvCwbJh"
      }
    },
    {
      "cell_type": "code",
      "source": [
        "modelv1 = CIFAR10_ModelV1(3,\n",
        "                          CONV_HIDDEN_1_SIZE_1, CONV_HIDDEN_2_SIZE_1,\n",
        "                          LIN_HIDDEN_1_SIZE_1, LIN_HIDDEN_2_SIZE_1,\n",
        "                          10).to(device)"
      ],
      "metadata": {
        "id": "9hChHtU4wW-j"
      },
      "execution_count": null,
      "outputs": []
    },
    {
      "cell_type": "markdown",
      "source": [
        "#### Setting Optimizer"
      ],
      "metadata": {
        "id": "bmrn987k5o_1"
      }
    },
    {
      "cell_type": "code",
      "source": [
        "optim_1 = opt.Adam(modelv0.parameters(), lr=LR_1)"
      ],
      "metadata": {
        "id": "oBPjcvLh7cKa"
      },
      "execution_count": null,
      "outputs": []
    },
    {
      "cell_type": "markdown",
      "source": [
        "#### Training the Model"
      ],
      "metadata": {
        "id": "Q2fALaiF7q_p"
      }
    },
    {
      "cell_type": "code",
      "source": [
        "res_1 = fit(modelv1, 10, train_dl, valid_dl, loss_fn, accuracy_fn, optim_1, 1, 2)"
      ],
      "metadata": {
        "colab": {
          "base_uri": "https://localhost:8080/",
          "height": 952,
          "referenced_widgets": [
            "f22cc44cde564ecaa6ee3a59ed98a4d3",
            "a70d2870627549f0a4b98f1b7ebc09ff",
            "dd21b868cb1e4189a2cb443c0f772753",
            "b89f51d9b72047649e39b551e34f8fdd",
            "5cff82ced6b74a6c82bf4c72e1dd71aa",
            "c2acdd4da3da4435924c5155807fae13",
            "75265bc94eae430792f2938eb8e3c335",
            "2fd62f95ea8946199970e995222136ea",
            "ade5630df41e4502b695562de57b5ee2",
            "1069e2ad77744904b9dff2a716b9ec7d",
            "3b2fa408dd1044b6a7aa4889bd411826"
          ]
        },
        "id": "ufr1mRjP7lrG",
        "outputId": "93f0fbdd-620c-4511-caf7-d234e56d5d58"
      },
      "execution_count": null,
      "outputs": [
        {
          "output_type": "stream",
          "name": "stdout",
          "text": [
            "Starting Process...\n"
          ]
        },
        {
          "output_type": "display_data",
          "data": {
            "text/plain": [
              "  0%|          | 0/10 [00:00<?, ?it/s]"
            ],
            "application/vnd.jupyter.widget-view+json": {
              "version_major": 2,
              "version_minor": 0,
              "model_id": "f22cc44cde564ecaa6ee3a59ed98a4d3"
            }
          },
          "metadata": {}
        },
        {
          "output_type": "stream",
          "name": "stdout",
          "text": [
            "\tTrained for 625/1250 batches...\n",
            "\tTrained for 1250/1250 batches...\n",
            "-----------------------------------------------------------------------------------------------------------\n",
            "-> Epoch: 1 | Train Loss: 0.9263 | Train Accuracy: 67.38% | Test Loss: 0.9335 | Test Evaluation (%): 67.67%\n",
            "-----------------------------------------------------------------------------------------------------------\n",
            "\tTrained for 625/1250 batches...\n",
            "\tTrained for 1250/1250 batches...\n",
            "-----------------------------------------------------------------------------------------------------------\n",
            "-> Epoch: 2 | Train Loss: 0.7959 | Train Accuracy: 72.12% | Test Loss: 0.8570 | Test Evaluation (%): 69.72%\n",
            "-----------------------------------------------------------------------------------------------------------\n",
            "\tTrained for 625/1250 batches...\n",
            "\tTrained for 1250/1250 batches...\n",
            "-----------------------------------------------------------------------------------------------------------\n",
            "-> Epoch: 3 | Train Loss: 0.7005 | Train Accuracy: 75.56% | Test Loss: 0.8144 | Test Evaluation (%): 71.21%\n",
            "-----------------------------------------------------------------------------------------------------------\n",
            "\tTrained for 625/1250 batches...\n",
            "\tTrained for 1250/1250 batches...\n",
            "-----------------------------------------------------------------------------------------------------------\n",
            "-> Epoch: 4 | Train Loss: 0.6230 | Train Accuracy: 78.19% | Test Loss: 0.8088 | Test Evaluation (%): 71.58%\n",
            "-----------------------------------------------------------------------------------------------------------\n",
            "\tTrained for 625/1250 batches...\n",
            "\tTrained for 1250/1250 batches...\n",
            "-----------------------------------------------------------------------------------------------------------\n",
            "-> Epoch: 5 | Train Loss: 0.5486 | Train Accuracy: 80.78% | Test Loss: 0.7882 | Test Evaluation (%): 73.52%\n",
            "-----------------------------------------------------------------------------------------------------------\n",
            "\tTrained for 625/1250 batches...\n",
            "\tTrained for 1250/1250 batches...\n",
            "-----------------------------------------------------------------------------------------------------------\n",
            "-> Epoch: 6 | Train Loss: 0.4809 | Train Accuracy: 83.14% | Test Loss: 0.9021 | Test Evaluation (%): 71.00%\n",
            "-----------------------------------------------------------------------------------------------------------\n",
            "\tTrained for 625/1250 batches...\n",
            "\tTrained for 1250/1250 batches...\n",
            "-----------------------------------------------------------------------------------------------------------\n",
            "-> Epoch: 7 | Train Loss: 0.4209 | Train Accuracy: 85.08% | Test Loss: 0.8734 | Test Evaluation (%): 72.96%\n",
            "-----------------------------------------------------------------------------------------------------------\n",
            "\tTrained for 625/1250 batches...\n",
            "\tTrained for 1250/1250 batches...\n",
            "-----------------------------------------------------------------------------------------------------------\n",
            "-> Epoch: 8 | Train Loss: 0.3727 | Train Accuracy: 86.82% | Test Loss: 0.9405 | Test Evaluation (%): 72.05%\n",
            "-----------------------------------------------------------------------------------------------------------\n",
            "\tTrained for 625/1250 batches...\n",
            "\tTrained for 1250/1250 batches...\n",
            "-----------------------------------------------------------------------------------------------------------\n",
            "-> Epoch: 9 | Train Loss: 0.3306 | Train Accuracy: 88.41% | Test Loss: 0.9650 | Test Evaluation (%): 72.33%\n",
            "-----------------------------------------------------------------------------------------------------------\n",
            "\tTrained for 625/1250 batches...\n",
            "\tTrained for 1250/1250 batches...\n",
            "-----------------------------------------------------------------------------------------------------------\n",
            "-> Epoch: 10 | Train Loss: 0.2902 | Train Accuracy: 89.60% | Test Loss: 1.0410 | Test Evaluation (%): 71.91%\n",
            "-----------------------------------------------------------------------------------------------------------\n",
            "Process Completed Successfully...\n"
          ]
        }
      ]
    },
    {
      "cell_type": "markdown",
      "source": [
        "#### Printing Model's Results"
      ],
      "metadata": {
        "id": "gq3pZUEM8ZDa"
      }
    },
    {
      "cell_type": "code",
      "source": [
        "print(res_1)"
      ],
      "metadata": {
        "colab": {
          "base_uri": "https://localhost:8080/"
        },
        "id": "_FSFNo0Y8CZZ",
        "outputId": "56b5d500-f99e-4b0a-b392-91d699970ade"
      },
      "execution_count": null,
      "outputs": [
        {
          "output_type": "stream",
          "name": "stdout",
          "text": [
            "{'model_train_loss': [0.9262752200603485, 0.7959172889471055, 0.7005182271003723, 0.6230178109288216, 0.5485881889939308, 0.48092842677533626, 0.4208540573477745, 0.3726929286956787, 0.33058629912734033, 0.29017846949845555], 'model_train_eval': [67.3775, 72.12, 75.565, 78.1925, 80.775, 83.145, 85.08, 86.8175, 88.4125, 89.6], 'model_valid_loss': [tensor(0.9335, device='cuda:0'), tensor(0.8570, device='cuda:0'), tensor(0.8144, device='cuda:0'), tensor(0.8088, device='cuda:0'), tensor(0.7882, device='cuda:0'), tensor(0.9021, device='cuda:0'), tensor(0.8734, device='cuda:0'), tensor(0.9405, device='cuda:0'), tensor(0.9650, device='cuda:0'), tensor(1.0410, device='cuda:0')], 'model_valid_eval': [67.67172523961662, 69.71845047923323, 71.20607028753993, 71.57547923322684, 73.5223642172524, 70.99640575079871, 72.96325878594249, 72.0547124600639, 72.33426517571885, 71.91493610223642], 'model_name': 'CIFAR10_ModelV0', 'model_loss_fn': 'CrossEntropyLoss', 'model_evaluating_m': 'accuracy_fn', 'model_optimizer': 'Adam', 'model_device': 'cuda', 'model_epochs': 10, 'model_time': 165.3362913129995}\n"
          ]
        }
      ]
    },
    {
      "cell_type": "markdown",
      "source": [],
      "metadata": {
        "id": "4-eF74sfYRVx"
      }
    },
    {
      "cell_type": "markdown",
      "source": [
        "### Model 2"
      ],
      "metadata": {
        "id": "IDR9N1YPYTlJ"
      }
    },
    {
      "cell_type": "markdown",
      "source": [
        "#### Hyperparameters"
      ],
      "metadata": {
        "id": "ZS1BxalFYYTf"
      }
    },
    {
      "cell_type": "code",
      "source": [
        "CONV_HIDDEN_1_SIZE_2 = 128\n",
        "CONV_HIDDEN_2_SIZE_2 = 256\n",
        "CONV_HIDDEN_3_SIZE_2 = 128\n",
        "CONV_HIDDEN_4_SIZE_2 = 64\n",
        "\n",
        "LR_2 = 1e-4"
      ],
      "metadata": {
        "id": "PUh-MeHQYU7w"
      },
      "execution_count": null,
      "outputs": []
    },
    {
      "cell_type": "markdown",
      "source": [
        "#### Creating the Model"
      ],
      "metadata": {
        "id": "QNLeIgCjYbp_"
      }
    },
    {
      "cell_type": "code",
      "source": [
        "class CIFAR10_ModelV2(nn.Module):\n",
        "    def __init__(self, input_size, conv_hidden_1_size_2, conv_hidden_2_size_2, conv_hidden_3_size_2, conv_hidden_4_size_2, output_size):\n",
        "        super().__init__()\n",
        "\n",
        "        self.conv_block_1 = nn.Sequential(\n",
        "            nn.Conv2d(in_channels=input_size,\n",
        "                      out_channels=conv_hidden_1_size_2,\n",
        "                      kernel_size=(3, 3),\n",
        "                      stride=1,\n",
        "                      padding=0),\n",
        "            nn.ReLU(),\n",
        "            nn.Conv2d(in_channels=conv_hidden_1_size_2,\n",
        "                      out_channels=conv_hidden_1_size_2,\n",
        "                      kernel_size=(3, 3),\n",
        "                      stride=1,\n",
        "                      padding=0),\n",
        "            nn.ReLU(),\n",
        "            nn.MaxPool2d(kernel_size=(2, 2))\n",
        "        ) # Output: (`batch_size`, `conv_hidden_1_size_2`, 110, 110)\n",
        "\n",
        "        self.conv_block_2 = nn.Sequential(\n",
        "            nn.Conv2d(in_channels=conv_hidden_1_size_2,\n",
        "                      out_channels=conv_hidden_2_size_2,\n",
        "                      kernel_size=(3, 3),\n",
        "                      stride=1,\n",
        "                      padding=0),\n",
        "            nn.ReLU(),\n",
        "            nn.Conv2d(in_channels=conv_hidden_2_size_2,\n",
        "                      out_channels=conv_hidden_2_size_2,\n",
        "                      kernel_size=(3, 3),\n",
        "                      stride=1,\n",
        "                      padding=0),\n",
        "            nn.ReLU(),\n",
        "            nn.MaxPool2d(kernel_size=(2, 2))\n",
        "        ) # Output: (`batch_size`, `conv_hidden_2_size_2`, 53, 53)\n",
        "\n",
        "        self.conv_block_3 = nn.Sequential(\n",
        "            nn.Conv2d(in_channels=conv_hidden_2_size_2,\n",
        "                      out_channels=conv_hidden_3_size_2,\n",
        "                      kernel_size=(3, 3),\n",
        "                      stride=1,\n",
        "                      padding=0),\n",
        "            nn.ReLU(),\n",
        "            nn.Conv2d(in_channels=conv_hidden_3_size_2,\n",
        "                      out_channels=conv_hidden_3_size_2,\n",
        "                      kernel_size=(3, 3),\n",
        "                      stride=1,\n",
        "                      padding=0),\n",
        "            nn.ReLU(),\n",
        "            nn.MaxPool2d(kernel_size=(2, 2))\n",
        "        ) # Output: (`batch_size`, `conv_hidden_3_size_2`, 24, 24)\n",
        " \n",
        "        self.conv_block_4 = nn.Sequential(\n",
        "            nn.Conv2d(in_channels=conv_hidden_3_size_2,\n",
        "                      out_channels=conv_hidden_4_size_2,\n",
        "                      kernel_size=(3, 3),\n",
        "                      stride=1,\n",
        "                      padding=0),\n",
        "            nn.ReLU(),\n",
        "            nn.Conv2d(in_channels=conv_hidden_4_size_2,\n",
        "                      out_channels=conv_hidden_4_size_2,\n",
        "                      kernel_size=(3, 3),\n",
        "                      stride=1,\n",
        "                      padding=0),\n",
        "            nn.ReLU(),\n",
        "            nn.MaxPool2d(kernel_size=(2, 2))\n",
        "        ) # # Output: (`batch_size`, `conv_hidden_4_size_2`, 10, 10)\n",
        "\n",
        "        self.classifier = nn.Sequential(\n",
        "            nn.Flatten(),\n",
        "            nn.Linear(in_features=conv_hidden_4_size_2*10*10, out_features=output_size)\n",
        "        )\n",
        "\n",
        "    def forward(self, x):\n",
        "        return self.classifier(self.conv_block_4(self.conv_block_3(self.conv_block_2(self.conv_block_1(x)))))"
      ],
      "metadata": {
        "id": "5KiwEobSYctc"
      },
      "execution_count": null,
      "outputs": []
    },
    {
      "cell_type": "markdown",
      "source": [
        "#### Initializing Model"
      ],
      "metadata": {
        "id": "HO1USsxAccLI"
      }
    },
    {
      "cell_type": "code",
      "source": [
        "modelv2 = CIFAR10_ModelV2(3, CONV_HIDDEN_1_SIZE_2, CONV_HIDDEN_2_SIZE_2, CONV_HIDDEN_3_SIZE_2, CONV_HIDDEN_4_SIZE_2, 10).to(device)"
      ],
      "metadata": {
        "id": "5aXQsR4QcfzZ"
      },
      "execution_count": null,
      "outputs": []
    },
    {
      "cell_type": "markdown",
      "source": [
        "#### Setting Optimizer"
      ],
      "metadata": {
        "id": "Q6eDN7wofdxb"
      }
    },
    {
      "cell_type": "code",
      "source": [
        "optim_2 = opt.Adam(modelv2.parameters(), lr=LR_2)"
      ],
      "metadata": {
        "id": "u-vjHCv_ffIk"
      },
      "execution_count": null,
      "outputs": []
    },
    {
      "cell_type": "markdown",
      "source": [
        "#### Training the Model"
      ],
      "metadata": {
        "id": "vw_sUNrYftBp"
      }
    },
    {
      "cell_type": "code",
      "source": [
        "res_2 = fit(modelv2, 10, train_dl_aug, valid_dl_aug, loss_fn, accuracy_fn, optim_2, 1, 10)"
      ],
      "metadata": {
        "colab": {
          "base_uri": "https://localhost:8080/",
          "height": 1000,
          "referenced_widgets": [
            "d31981109aae4a809540a45fbe1d525b",
            "bb963225c662464c862f599486c7474d",
            "a0d8a181ac684f8ea6f8642f108aea60",
            "e5cb6fd43ae34643b4068cfc7c256fc7",
            "27442a1971694da580a5408b94d40ee4",
            "980bb80ca0844356af76a16a2a97e50d",
            "28027f10eff04cc291a78f51c5afe1d6",
            "4ca6cebdbd514cda9e8c395c6b3548a9",
            "72cf5e2160ae4f53917bbdb75c292d87",
            "111ce79c2131491bbc07a93498da85e1",
            "2e75c89b7bbd424e9eeec32a55ee894a"
          ]
        },
        "id": "j0WGJnNmfqRd",
        "outputId": "dc77c5a1-e8fe-4c77-cd77-4ed3ab4f6ecf"
      },
      "execution_count": null,
      "outputs": [
        {
          "output_type": "stream",
          "name": "stdout",
          "text": [
            "Starting Process...\n"
          ]
        },
        {
          "output_type": "display_data",
          "data": {
            "text/plain": [
              "  0%|          | 0/10 [00:00<?, ?it/s]"
            ],
            "application/vnd.jupyter.widget-view+json": {
              "version_major": 2,
              "version_minor": 0,
              "model_id": "d31981109aae4a809540a45fbe1d525b"
            }
          },
          "metadata": {}
        },
        {
          "output_type": "stream",
          "name": "stdout",
          "text": [
            "\tTrained for 125/1250 batches...\n",
            "\tTrained for 250/1250 batches...\n",
            "\tTrained for 375/1250 batches...\n",
            "\tTrained for 500/1250 batches...\n",
            "\tTrained for 625/1250 batches...\n",
            "\tTrained for 750/1250 batches...\n",
            "\tTrained for 875/1250 batches...\n",
            "\tTrained for 1000/1250 batches...\n",
            "\tTrained for 1125/1250 batches...\n",
            "\tTrained for 1250/1250 batches...\n",
            "-----------------------------------------------------------------------------------------------------------\n",
            "-> Epoch: 1 | Train Loss: 1.9184 | Train Accuracy: 30.86% | Test Loss: 1.7461 | Test Evaluation (%): 38.44%\n",
            "-----------------------------------------------------------------------------------------------------------\n",
            "\tTrained for 125/1250 batches...\n",
            "\tTrained for 250/1250 batches...\n",
            "\tTrained for 375/1250 batches...\n",
            "\tTrained for 500/1250 batches...\n",
            "\tTrained for 625/1250 batches...\n",
            "\tTrained for 750/1250 batches...\n",
            "\tTrained for 875/1250 batches...\n",
            "\tTrained for 1000/1250 batches...\n",
            "\tTrained for 1125/1250 batches...\n",
            "\tTrained for 1250/1250 batches...\n",
            "-----------------------------------------------------------------------------------------------------------\n",
            "-> Epoch: 2 | Train Loss: 1.6565 | Train Accuracy: 41.49% | Test Loss: 1.6215 | Test Evaluation (%): 43.10%\n",
            "-----------------------------------------------------------------------------------------------------------\n",
            "\tTrained for 125/1250 batches...\n",
            "\tTrained for 250/1250 batches...\n",
            "\tTrained for 375/1250 batches...\n",
            "\tTrained for 500/1250 batches...\n",
            "\tTrained for 625/1250 batches...\n",
            "\tTrained for 750/1250 batches...\n",
            "\tTrained for 875/1250 batches...\n",
            "\tTrained for 1000/1250 batches...\n",
            "\tTrained for 1125/1250 batches...\n",
            "\tTrained for 1250/1250 batches...\n",
            "-----------------------------------------------------------------------------------------------------------\n",
            "-> Epoch: 3 | Train Loss: 1.5263 | Train Accuracy: 46.66% | Test Loss: 1.5013 | Test Evaluation (%): 47.51%\n",
            "-----------------------------------------------------------------------------------------------------------\n",
            "\tTrained for 125/1250 batches...\n",
            "\tTrained for 250/1250 batches...\n",
            "\tTrained for 375/1250 batches...\n",
            "\tTrained for 500/1250 batches...\n",
            "\tTrained for 625/1250 batches...\n",
            "\tTrained for 750/1250 batches...\n",
            "\tTrained for 875/1250 batches...\n",
            "\tTrained for 1000/1250 batches...\n",
            "\tTrained for 1125/1250 batches...\n",
            "\tTrained for 1250/1250 batches...\n",
            "-----------------------------------------------------------------------------------------------------------\n",
            "-> Epoch: 4 | Train Loss: 1.4270 | Train Accuracy: 50.52% | Test Loss: 1.4432 | Test Evaluation (%): 50.21%\n",
            "-----------------------------------------------------------------------------------------------------------\n",
            "\tTrained for 125/1250 batches...\n",
            "\tTrained for 250/1250 batches...\n",
            "\tTrained for 375/1250 batches...\n",
            "\tTrained for 500/1250 batches...\n",
            "\tTrained for 625/1250 batches...\n",
            "\tTrained for 750/1250 batches...\n",
            "\tTrained for 875/1250 batches...\n",
            "\tTrained for 1000/1250 batches...\n",
            "\tTrained for 1125/1250 batches...\n",
            "\tTrained for 1250/1250 batches...\n",
            "-----------------------------------------------------------------------------------------------------------\n",
            "-> Epoch: 5 | Train Loss: 1.3406 | Train Accuracy: 53.74% | Test Loss: 1.3932 | Test Evaluation (%): 51.97%\n",
            "-----------------------------------------------------------------------------------------------------------\n",
            "\tTrained for 125/1250 batches...\n",
            "\tTrained for 250/1250 batches...\n",
            "\tTrained for 375/1250 batches...\n",
            "\tTrained for 500/1250 batches...\n",
            "\tTrained for 625/1250 batches...\n",
            "\tTrained for 750/1250 batches...\n",
            "\tTrained for 875/1250 batches...\n",
            "\tTrained for 1000/1250 batches...\n",
            "\tTrained for 1125/1250 batches...\n",
            "\tTrained for 1250/1250 batches...\n",
            "-----------------------------------------------------------------------------------------------------------\n",
            "-> Epoch: 6 | Train Loss: 1.2840 | Train Accuracy: 56.27% | Test Loss: 1.3005 | Test Evaluation (%): 55.83%\n",
            "-----------------------------------------------------------------------------------------------------------\n",
            "\tTrained for 125/1250 batches...\n",
            "\tTrained for 250/1250 batches...\n",
            "\tTrained for 375/1250 batches...\n",
            "\tTrained for 500/1250 batches...\n",
            "\tTrained for 625/1250 batches...\n",
            "\tTrained for 750/1250 batches...\n",
            "\tTrained for 875/1250 batches...\n",
            "\tTrained for 1000/1250 batches...\n"
          ]
        }
      ]
    },
    {
      "cell_type": "markdown",
      "source": [
        "### Model 3"
      ],
      "metadata": {
        "id": "BqO5fQrDSP0g"
      }
    },
    {
      "cell_type": "markdown",
      "source": [
        "#### Creating Transformations\n",
        "\n",
        "To try and increase the accuracy of our CIFAR10 Model we are going to make some changes to the Dataset:\n",
        "\n",
        "1. `Test Set for Validation`: We are going to use out test Dataset to valdate the model, instead of splitting the training Set into train-validation samples.\n",
        "\n",
        "2. `Channel-wise` Data Normalization: We are going to normalize the image Tensors by subtracting the **mean(μ)** and dividing by the **standard deviation(σ)** across each channel. That way we `prevent` the values of any one channel to disproportionately affect the losses and gradients while training.\n",
        "\n",
        "3. `Data Augmentation`: We are going to apply randomly chosen transformations while loading images from the training dataset. Since the transformation are going to be applied randomly and dynamically, the model sees slightly different images in each epoch of training, which helps for generalization."
      ],
      "metadata": {
        "id": "2xd5DWy7SU97"
      }
    },
    {
      "cell_type": "code",
      "source": [
        "# Setting up the Transformations\n",
        "train_custom_transforms = transforms.Compose([\n",
        "    transforms.Resize(size=(128, 128)),              # Resize the Image from (3, 32, 32) to (3, 64, 64)\n",
        "    transforms.RandomCrop(size=128,                 # Output Size of the Crop\n",
        "                          padding=4,               # Padding on each Border of the Image\n",
        "                          padding_mode='reflect'), # Type of Padding\n",
        "    transforms.RandomHorizontalFlip(p=0.5),\n",
        "    transforms.ToTensor(),\n",
        "    transforms.Normalize(mean=[0.4914, 0.4822, 0.4465],\n",
        "                         std=[0.2023, 0.1994, 0.2010],\n",
        "                         inplace=True)\n",
        "])\n",
        "\n",
        "valid_custom_transforms = transforms.Compose([\n",
        "    transforms.Resize(size=(128, 128)),\n",
        "    transforms.ToTensor(),\n",
        "    transforms.Normalize(mean=[0.4914, 0.4822, 0.4465],\n",
        "                         std=[0.2023, 0.1994, 0.2010],\n",
        "                         inplace=True)\n",
        "])"
      ],
      "metadata": {
        "id": "zwBx3zFLSRNN"
      },
      "execution_count": 10,
      "outputs": []
    },
    {
      "cell_type": "markdown",
      "source": [
        "#### Loading the Dataset"
      ],
      "metadata": {
        "id": "KOdfMqbQS1nZ"
      }
    },
    {
      "cell_type": "code",
      "source": [
        "train_ds = CIFAR10(root=\"/content\", download=True, train=True, transform=train_custom_transforms)\n",
        "test_ds = CIFAR10(root=\"/content\", download=True, train=False, transform=valid_custom_transforms)\n",
        "classes_names = train_ds.classes\n",
        "\n",
        "print(len(train_ds), len(test_ds))\n",
        "print(classes_names)"
      ],
      "metadata": {
        "colab": {
          "base_uri": "https://localhost:8080/",
          "height": 136,
          "referenced_widgets": [
            "2187ad7af5e645549f9301a9750eaf8f",
            "6ad70c5e95d44443ace1243b8d1d235c",
            "52145aec2e604468b3fe50619a3efb62",
            "1b2947b8aeed49b88255534560310e68",
            "ae0797ac7702481e91846ac3e8dab0cb",
            "671eb30a21174314bc4f639bde01e9e5",
            "53614120060c41da8479111917108e3b",
            "d16fceb0933f460496c971865fd6886a",
            "79fc6f2f38834d18ad79c554f902858b",
            "14cbd6bf6bbb49a58a5d256280f189c0",
            "ba28ee43a0a54aa49c4071000982d56b"
          ]
        },
        "id": "KxylH5xiSiYG",
        "outputId": "0a06abec-7305-4a47-8fc6-83027c4db59c"
      },
      "execution_count": 11,
      "outputs": [
        {
          "output_type": "stream",
          "name": "stdout",
          "text": [
            "Downloading https://www.cs.toronto.edu/~kriz/cifar-10-python.tar.gz to /content/cifar-10-python.tar.gz\n"
          ]
        },
        {
          "output_type": "display_data",
          "data": {
            "text/plain": [
              "  0%|          | 0/170498071 [00:00<?, ?it/s]"
            ],
            "application/vnd.jupyter.widget-view+json": {
              "version_major": 2,
              "version_minor": 0,
              "model_id": "2187ad7af5e645549f9301a9750eaf8f"
            }
          },
          "metadata": {}
        },
        {
          "output_type": "stream",
          "name": "stdout",
          "text": [
            "Extracting /content/cifar-10-python.tar.gz to /content\n",
            "Files already downloaded and verified\n",
            "50000 10000\n",
            "['airplane', 'automobile', 'bird', 'cat', 'deer', 'dog', 'frog', 'horse', 'ship', 'truck']\n"
          ]
        }
      ]
    },
    {
      "cell_type": "markdown",
      "source": [
        "#### Creating the Data Loaders"
      ],
      "metadata": {
        "id": "6xiyoafcS7IR"
      }
    },
    {
      "cell_type": "code",
      "source": [
        "BATCH_SIZE = 128\n",
        "\n",
        "train_dl = DataLoader(dataset=train_ds,\n",
        "                      batch_size=BATCH_SIZE,\n",
        "                      shuffle=True,\n",
        "                      num_workers=cpu_count(),\n",
        "                      pin_memory=True)\n",
        "\n",
        "valid_dl = DataLoader(dataset=test_ds,\n",
        "                      batch_size=BATCH_SIZE,\n",
        "                      shuffle=False,\n",
        "                      num_workers=cpu_count(),\n",
        "                      pin_memory=True)\n",
        "\n",
        "print(len(train_dl), len(valid_dl))"
      ],
      "metadata": {
        "colab": {
          "base_uri": "https://localhost:8080/"
        },
        "id": "uyxC_ySdS4Zw",
        "outputId": "72c4c60b-927a-4af3-d52b-e246f281caba"
      },
      "execution_count": 12,
      "outputs": [
        {
          "output_type": "stream",
          "name": "stdout",
          "text": [
            "391 79\n"
          ]
        }
      ]
    },
    {
      "cell_type": "markdown",
      "source": [
        "#### Residual Connections\n",
        "\n",
        "Another way of improving our Model this by adding `resudial blocks`, which are adding the original input back to the output.\n",
        "\n",
        "A great graph to demonstrate that is the following:\n",
        "\n",
        "<center><img src=\"https://miro.medium.com/v2/resize:fit:1140/1*D0F3UitQ2l5Q0Ak-tjEdJg.png\" width=500></center>"
      ],
      "metadata": {
        "id": "H4ozaMIiS_0Y"
      }
    },
    {
      "cell_type": "markdown",
      "source": [
        "#### Creating the Model"
      ],
      "metadata": {
        "id": "q9_sPgLNTBuq"
      }
    },
    {
      "cell_type": "code",
      "source": [
        "# Defining a Helping Function\n",
        "def conv_block(in_channels, out_channels, pooling):\n",
        "    layers = [\n",
        "        nn.Conv2d(in_channels=in_channels,\n",
        "                  out_channels=out_channels,\n",
        "                  kernel_size=(3, 3),\n",
        "                  stride=1,\n",
        "                  padding=1),\n",
        "        nn.BatchNorm2d(num_features=out_channels), # Speeding up Training Process\n",
        "        nn.SELU()\n",
        "    ]\n",
        "\n",
        "    if pooling:\n",
        "        layers.append(nn.MaxPool2d(kernel_size=(2, 2)))\n",
        "\n",
        "    return nn.Sequential(*layers)"
      ],
      "metadata": {
        "id": "6OtZKYolS9HK"
      },
      "execution_count": 29,
      "outputs": []
    },
    {
      "cell_type": "code",
      "source": [
        "class CIFAR10_ModelV3(nn.Module):\n",
        "    def __init__(self, input_channels,\n",
        "                 hidden_1_units_3, hidden_2_units_3, hidden_3_units_3, hidden_4_units_3, hidden_5_units_3,\n",
        "                 output_size, dropout):\n",
        "        super().__init__()\n",
        "\n",
        "        # First Block (Output: [`batch_size`, `hidden_1_units_3`, 64, 64])\n",
        "        self.conv_block_1_1 = conv_block(input_channels, hidden_1_units_3, pooling=False)\n",
        "        self.conv_block_1_2 = conv_block(hidden_1_units_3, hidden_1_units_3, pooling=False)\n",
        "        self.conv_block_1_3 = conv_block(hidden_1_units_3, hidden_1_units_3, pooling=True)\n",
        "        self.res_1 = conv_block(hidden_1_units_3, hidden_1_units_3, pooling=False)\n",
        "        self.res_1 = nn.Sequential(\n",
        "            conv_block(hidden_1_units_3, hidden_1_units_3, pooling=False),\n",
        "            conv_block(hidden_1_units_3, hidden_1_units_3, pooling=False)\n",
        "        )\n",
        "\n",
        "        # Second Block (Output: [`batch_size`, `hidden_2_units_3`, 32, 32])\n",
        "        self.conv_block_2_1 = conv_block(hidden_1_units_3, hidden_2_units_3, pooling=False)\n",
        "        self.conv_block_2_2 = conv_block(hidden_2_units_3, hidden_2_units_3, pooling=False)\n",
        "        self.conv_block_2_3 = conv_block(hidden_2_units_3, hidden_2_units_3, pooling=True)\n",
        "        self.res_2 = nn.Sequential(\n",
        "            conv_block(hidden_2_units_3, hidden_2_units_3, pooling=False),\n",
        "            conv_block(hidden_2_units_3, hidden_2_units_3, pooling=False)\n",
        "        )\n",
        "\n",
        "        # Third Block (Output: [`batch_size`, `hidden_3_units_3`, 16, 16])\n",
        "        self.conv_block_3_1 = conv_block(hidden_2_units_3, hidden_3_units_3, pooling=False)\n",
        "        self.conv_block_3_2 = conv_block(hidden_3_units_3, hidden_3_units_3, pooling=False)\n",
        "        self.conv_block_3_3 = conv_block(hidden_3_units_3, hidden_3_units_3, pooling=True)\n",
        "        self.res_3 = nn.Sequential(\n",
        "            conv_block(hidden_3_units_3, hidden_3_units_3, pooling=False),\n",
        "            conv_block(hidden_3_units_3, hidden_3_units_3, pooling=False)\n",
        "        )\n",
        "\n",
        "        # Fourth Block (Output: [`batch_size`, `hidden_4_units_3`, 8, 8])\n",
        "        self.conv_block_4_1 = conv_block(hidden_3_units_3, hidden_4_units_3, pooling=False)\n",
        "        self.conv_block_4_2 = conv_block(hidden_4_units_3, hidden_4_units_3, pooling=False)\n",
        "        self.conv_block_4_3 = conv_block(hidden_4_units_3, hidden_4_units_3, pooling=True)\n",
        "        self.res_4 = nn.Sequential(\n",
        "            conv_block(hidden_4_units_3, hidden_4_units_3, pooling=False),\n",
        "            conv_block(hidden_4_units_3, hidden_4_units_3, pooling=False)\n",
        "        )\n",
        "\n",
        "        # Fifth Block (Output: [`batch_size`, `hidden_5_units_3`, 4, 4])\n",
        "        self.conv_block_5_1 = conv_block(hidden_4_units_3, hidden_5_units_3, pooling=False)\n",
        "        self.conv_block_5_2 = conv_block(hidden_5_units_3, hidden_5_units_3, pooling=False)\n",
        "        self.conv_block_5_3 = conv_block(hidden_5_units_3, hidden_5_units_3, pooling=True)\n",
        "        self.res_5 = nn.Sequential(\n",
        "            conv_block(hidden_5_units_3, hidden_5_units_3, pooling=False),\n",
        "            conv_block(hidden_5_units_3, hidden_5_units_3, pooling=False)\n",
        "        )\n",
        "\n",
        "        # Classifier Block (Output: [`batch_size`, `output_size`])\n",
        "        self.classifier = nn.Sequential(\n",
        "            nn.Flatten(),\n",
        "            nn.Dropout(dropout),\n",
        "            nn.Linear(in_features=hidden_5_units_3*4*4,\n",
        "                      out_features=output_size)\n",
        "        )\n",
        "\n",
        "    def forward(self, x):\n",
        "        x = self.conv_block_1_3(self.conv_block_1_2(self.conv_block_1_1(x)))\n",
        "        x = self.res_1(x) + x\n",
        "\n",
        "        x = self.conv_block_2_3(self.conv_block_2_2(self.conv_block_2_1(x)))\n",
        "        x = self.res_2(x) + x\n",
        "\n",
        "        x = self.conv_block_3_3(self.conv_block_3_2(self.conv_block_3_1(x)))\n",
        "        x = self.res_3(x) + x\n",
        "\n",
        "        x = self.conv_block_4_3(self.conv_block_4_2(self.conv_block_4_1(x)))\n",
        "        x = self.res_4(x) + x\n",
        "\n",
        "        x = self.conv_block_5_3(self.conv_block_5_2(self.conv_block_5_1(x)))\n",
        "        x = self.res_5(x) + x\n",
        "\n",
        "        return self.classifier(x)"
      ],
      "metadata": {
        "id": "qxfdtD7UTFM7"
      },
      "execution_count": 30,
      "outputs": []
    },
    {
      "cell_type": "markdown",
      "source": [
        "#### Initializing the Model"
      ],
      "metadata": {
        "id": "ifQ9Td15TIc4"
      }
    },
    {
      "cell_type": "code",
      "source": [
        "modelv3 = CIFAR10_ModelV3(3, 64, 128, 256, 256, 128, 10, 0.2).to(device)\n",
        "\n",
        "summary(modelv3,\n",
        "        input_size=(BATCH_SIZE, 3, 128, 128), # (`batch_size`, `colour channels`, `height`, `width`)\n",
        "        col_names=[\"input_size\", \"output_size\", \"num_params\", \"trainable\"],\n",
        "        col_width=20,\n",
        "        row_settings=[\"var_names\"])"
      ],
      "metadata": {
        "colab": {
          "base_uri": "https://localhost:8080/"
        },
        "id": "Lva2caaaTLLU",
        "outputId": "aca5d4cb-f2cc-45e1-a68d-60bd0946925a"
      },
      "execution_count": 31,
      "outputs": [
        {
          "output_type": "execute_result",
          "data": {
            "text/plain": [
              "========================================================================================================================\n",
              "Layer (type (var_name))                  Input Shape          Output Shape         Param #              Trainable\n",
              "========================================================================================================================\n",
              "CIFAR10_ModelV3 (CIFAR10_ModelV3)        [128, 3, 128, 128]   [128, 10]            --                   True\n",
              "├─Sequential (conv_block_1_1)            [128, 3, 128, 128]   [128, 64, 128, 128]  --                   True\n",
              "│    └─Conv2d (0)                        [128, 3, 128, 128]   [128, 64, 128, 128]  1,792                True\n",
              "│    └─BatchNorm2d (1)                   [128, 64, 128, 128]  [128, 64, 128, 128]  128                  True\n",
              "│    └─SELU (2)                          [128, 64, 128, 128]  [128, 64, 128, 128]  --                   --\n",
              "├─Sequential (conv_block_1_2)            [128, 64, 128, 128]  [128, 64, 128, 128]  --                   True\n",
              "│    └─Conv2d (0)                        [128, 64, 128, 128]  [128, 64, 128, 128]  36,928               True\n",
              "│    └─BatchNorm2d (1)                   [128, 64, 128, 128]  [128, 64, 128, 128]  128                  True\n",
              "│    └─SELU (2)                          [128, 64, 128, 128]  [128, 64, 128, 128]  --                   --\n",
              "├─Sequential (conv_block_1_3)            [128, 64, 128, 128]  [128, 64, 64, 64]    --                   True\n",
              "│    └─Conv2d (0)                        [128, 64, 128, 128]  [128, 64, 128, 128]  36,928               True\n",
              "│    └─BatchNorm2d (1)                   [128, 64, 128, 128]  [128, 64, 128, 128]  128                  True\n",
              "│    └─SELU (2)                          [128, 64, 128, 128]  [128, 64, 128, 128]  --                   --\n",
              "│    └─MaxPool2d (3)                     [128, 64, 128, 128]  [128, 64, 64, 64]    --                   --\n",
              "├─Sequential (res_1)                     [128, 64, 64, 64]    [128, 64, 64, 64]    --                   True\n",
              "│    └─Sequential (0)                    [128, 64, 64, 64]    [128, 64, 64, 64]    --                   True\n",
              "│    │    └─Conv2d (0)                   [128, 64, 64, 64]    [128, 64, 64, 64]    36,928               True\n",
              "│    │    └─BatchNorm2d (1)              [128, 64, 64, 64]    [128, 64, 64, 64]    128                  True\n",
              "│    │    └─SELU (2)                     [128, 64, 64, 64]    [128, 64, 64, 64]    --                   --\n",
              "│    └─Sequential (1)                    [128, 64, 64, 64]    [128, 64, 64, 64]    --                   True\n",
              "│    │    └─Conv2d (0)                   [128, 64, 64, 64]    [128, 64, 64, 64]    36,928               True\n",
              "│    │    └─BatchNorm2d (1)              [128, 64, 64, 64]    [128, 64, 64, 64]    128                  True\n",
              "│    │    └─SELU (2)                     [128, 64, 64, 64]    [128, 64, 64, 64]    --                   --\n",
              "├─Sequential (conv_block_2_1)            [128, 64, 64, 64]    [128, 128, 64, 64]   --                   True\n",
              "│    └─Conv2d (0)                        [128, 64, 64, 64]    [128, 128, 64, 64]   73,856               True\n",
              "│    └─BatchNorm2d (1)                   [128, 128, 64, 64]   [128, 128, 64, 64]   256                  True\n",
              "│    └─SELU (2)                          [128, 128, 64, 64]   [128, 128, 64, 64]   --                   --\n",
              "├─Sequential (conv_block_2_2)            [128, 128, 64, 64]   [128, 128, 64, 64]   --                   True\n",
              "│    └─Conv2d (0)                        [128, 128, 64, 64]   [128, 128, 64, 64]   147,584              True\n",
              "│    └─BatchNorm2d (1)                   [128, 128, 64, 64]   [128, 128, 64, 64]   256                  True\n",
              "│    └─SELU (2)                          [128, 128, 64, 64]   [128, 128, 64, 64]   --                   --\n",
              "├─Sequential (conv_block_2_3)            [128, 128, 64, 64]   [128, 128, 32, 32]   --                   True\n",
              "│    └─Conv2d (0)                        [128, 128, 64, 64]   [128, 128, 64, 64]   147,584              True\n",
              "│    └─BatchNorm2d (1)                   [128, 128, 64, 64]   [128, 128, 64, 64]   256                  True\n",
              "│    └─SELU (2)                          [128, 128, 64, 64]   [128, 128, 64, 64]   --                   --\n",
              "│    └─MaxPool2d (3)                     [128, 128, 64, 64]   [128, 128, 32, 32]   --                   --\n",
              "├─Sequential (res_2)                     [128, 128, 32, 32]   [128, 128, 32, 32]   --                   True\n",
              "│    └─Sequential (0)                    [128, 128, 32, 32]   [128, 128, 32, 32]   --                   True\n",
              "│    │    └─Conv2d (0)                   [128, 128, 32, 32]   [128, 128, 32, 32]   147,584              True\n",
              "│    │    └─BatchNorm2d (1)              [128, 128, 32, 32]   [128, 128, 32, 32]   256                  True\n",
              "│    │    └─SELU (2)                     [128, 128, 32, 32]   [128, 128, 32, 32]   --                   --\n",
              "│    └─Sequential (1)                    [128, 128, 32, 32]   [128, 128, 32, 32]   --                   True\n",
              "│    │    └─Conv2d (0)                   [128, 128, 32, 32]   [128, 128, 32, 32]   147,584              True\n",
              "│    │    └─BatchNorm2d (1)              [128, 128, 32, 32]   [128, 128, 32, 32]   256                  True\n",
              "│    │    └─SELU (2)                     [128, 128, 32, 32]   [128, 128, 32, 32]   --                   --\n",
              "├─Sequential (conv_block_3_1)            [128, 128, 32, 32]   [128, 256, 32, 32]   --                   True\n",
              "│    └─Conv2d (0)                        [128, 128, 32, 32]   [128, 256, 32, 32]   295,168              True\n",
              "│    └─BatchNorm2d (1)                   [128, 256, 32, 32]   [128, 256, 32, 32]   512                  True\n",
              "│    └─SELU (2)                          [128, 256, 32, 32]   [128, 256, 32, 32]   --                   --\n",
              "├─Sequential (conv_block_3_2)            [128, 256, 32, 32]   [128, 256, 32, 32]   --                   True\n",
              "│    └─Conv2d (0)                        [128, 256, 32, 32]   [128, 256, 32, 32]   590,080              True\n",
              "│    └─BatchNorm2d (1)                   [128, 256, 32, 32]   [128, 256, 32, 32]   512                  True\n",
              "│    └─SELU (2)                          [128, 256, 32, 32]   [128, 256, 32, 32]   --                   --\n",
              "├─Sequential (conv_block_3_3)            [128, 256, 32, 32]   [128, 256, 16, 16]   --                   True\n",
              "│    └─Conv2d (0)                        [128, 256, 32, 32]   [128, 256, 32, 32]   590,080              True\n",
              "│    └─BatchNorm2d (1)                   [128, 256, 32, 32]   [128, 256, 32, 32]   512                  True\n",
              "│    └─SELU (2)                          [128, 256, 32, 32]   [128, 256, 32, 32]   --                   --\n",
              "│    └─MaxPool2d (3)                     [128, 256, 32, 32]   [128, 256, 16, 16]   --                   --\n",
              "├─Sequential (res_3)                     [128, 256, 16, 16]   [128, 256, 16, 16]   --                   True\n",
              "│    └─Sequential (0)                    [128, 256, 16, 16]   [128, 256, 16, 16]   --                   True\n",
              "│    │    └─Conv2d (0)                   [128, 256, 16, 16]   [128, 256, 16, 16]   590,080              True\n",
              "│    │    └─BatchNorm2d (1)              [128, 256, 16, 16]   [128, 256, 16, 16]   512                  True\n",
              "│    │    └─SELU (2)                     [128, 256, 16, 16]   [128, 256, 16, 16]   --                   --\n",
              "│    └─Sequential (1)                    [128, 256, 16, 16]   [128, 256, 16, 16]   --                   True\n",
              "│    │    └─Conv2d (0)                   [128, 256, 16, 16]   [128, 256, 16, 16]   590,080              True\n",
              "│    │    └─BatchNorm2d (1)              [128, 256, 16, 16]   [128, 256, 16, 16]   512                  True\n",
              "│    │    └─SELU (2)                     [128, 256, 16, 16]   [128, 256, 16, 16]   --                   --\n",
              "├─Sequential (conv_block_4_1)            [128, 256, 16, 16]   [128, 256, 16, 16]   --                   True\n",
              "│    └─Conv2d (0)                        [128, 256, 16, 16]   [128, 256, 16, 16]   590,080              True\n",
              "│    └─BatchNorm2d (1)                   [128, 256, 16, 16]   [128, 256, 16, 16]   512                  True\n",
              "│    └─SELU (2)                          [128, 256, 16, 16]   [128, 256, 16, 16]   --                   --\n",
              "├─Sequential (conv_block_4_2)            [128, 256, 16, 16]   [128, 256, 16, 16]   --                   True\n",
              "│    └─Conv2d (0)                        [128, 256, 16, 16]   [128, 256, 16, 16]   590,080              True\n",
              "│    └─BatchNorm2d (1)                   [128, 256, 16, 16]   [128, 256, 16, 16]   512                  True\n",
              "│    └─SELU (2)                          [128, 256, 16, 16]   [128, 256, 16, 16]   --                   --\n",
              "├─Sequential (conv_block_4_3)            [128, 256, 16, 16]   [128, 256, 8, 8]     --                   True\n",
              "│    └─Conv2d (0)                        [128, 256, 16, 16]   [128, 256, 16, 16]   590,080              True\n",
              "│    └─BatchNorm2d (1)                   [128, 256, 16, 16]   [128, 256, 16, 16]   512                  True\n",
              "│    └─SELU (2)                          [128, 256, 16, 16]   [128, 256, 16, 16]   --                   --\n",
              "│    └─MaxPool2d (3)                     [128, 256, 16, 16]   [128, 256, 8, 8]     --                   --\n",
              "├─Sequential (res_4)                     [128, 256, 8, 8]     [128, 256, 8, 8]     --                   True\n",
              "│    └─Sequential (0)                    [128, 256, 8, 8]     [128, 256, 8, 8]     --                   True\n",
              "│    │    └─Conv2d (0)                   [128, 256, 8, 8]     [128, 256, 8, 8]     590,080              True\n",
              "│    │    └─BatchNorm2d (1)              [128, 256, 8, 8]     [128, 256, 8, 8]     512                  True\n",
              "│    │    └─SELU (2)                     [128, 256, 8, 8]     [128, 256, 8, 8]     --                   --\n",
              "│    └─Sequential (1)                    [128, 256, 8, 8]     [128, 256, 8, 8]     --                   True\n",
              "│    │    └─Conv2d (0)                   [128, 256, 8, 8]     [128, 256, 8, 8]     590,080              True\n",
              "│    │    └─BatchNorm2d (1)              [128, 256, 8, 8]     [128, 256, 8, 8]     512                  True\n",
              "│    │    └─SELU (2)                     [128, 256, 8, 8]     [128, 256, 8, 8]     --                   --\n",
              "├─Sequential (conv_block_5_1)            [128, 256, 8, 8]     [128, 128, 8, 8]     --                   True\n",
              "│    └─Conv2d (0)                        [128, 256, 8, 8]     [128, 128, 8, 8]     295,040              True\n",
              "│    └─BatchNorm2d (1)                   [128, 128, 8, 8]     [128, 128, 8, 8]     256                  True\n",
              "│    └─SELU (2)                          [128, 128, 8, 8]     [128, 128, 8, 8]     --                   --\n",
              "├─Sequential (conv_block_5_2)            [128, 128, 8, 8]     [128, 128, 8, 8]     --                   True\n",
              "│    └─Conv2d (0)                        [128, 128, 8, 8]     [128, 128, 8, 8]     147,584              True\n",
              "│    └─BatchNorm2d (1)                   [128, 128, 8, 8]     [128, 128, 8, 8]     256                  True\n",
              "│    └─SELU (2)                          [128, 128, 8, 8]     [128, 128, 8, 8]     --                   --\n",
              "├─Sequential (conv_block_5_3)            [128, 128, 8, 8]     [128, 128, 4, 4]     --                   True\n",
              "│    └─Conv2d (0)                        [128, 128, 8, 8]     [128, 128, 8, 8]     147,584              True\n",
              "│    └─BatchNorm2d (1)                   [128, 128, 8, 8]     [128, 128, 8, 8]     256                  True\n",
              "│    └─SELU (2)                          [128, 128, 8, 8]     [128, 128, 8, 8]     --                   --\n",
              "│    └─MaxPool2d (3)                     [128, 128, 8, 8]     [128, 128, 4, 4]     --                   --\n",
              "├─Sequential (res_5)                     [128, 128, 4, 4]     [128, 128, 4, 4]     --                   True\n",
              "│    └─Sequential (0)                    [128, 128, 4, 4]     [128, 128, 4, 4]     --                   True\n",
              "│    │    └─Conv2d (0)                   [128, 128, 4, 4]     [128, 128, 4, 4]     147,584              True\n",
              "│    │    └─BatchNorm2d (1)              [128, 128, 4, 4]     [128, 128, 4, 4]     256                  True\n",
              "│    │    └─SELU (2)                     [128, 128, 4, 4]     [128, 128, 4, 4]     --                   --\n",
              "│    └─Sequential (1)                    [128, 128, 4, 4]     [128, 128, 4, 4]     --                   True\n",
              "│    │    └─Conv2d (0)                   [128, 128, 4, 4]     [128, 128, 4, 4]     147,584              True\n",
              "│    │    └─BatchNorm2d (1)              [128, 128, 4, 4]     [128, 128, 4, 4]     256                  True\n",
              "│    │    └─SELU (2)                     [128, 128, 4, 4]     [128, 128, 4, 4]     --                   --\n",
              "├─Sequential (classifier)                [128, 128, 4, 4]     [128, 10]            --                   True\n",
              "│    └─Flatten (0)                       [128, 128, 4, 4]     [128, 2048]          --                   --\n",
              "│    └─Dropout (1)                       [128, 2048]          [128, 2048]          --                   --\n",
              "│    └─Linear (2)                        [128, 2048]          [128, 10]            20,490               True\n",
              "========================================================================================================================\n",
              "Total params: 7,333,770\n",
              "Trainable params: 7,333,770\n",
              "Non-trainable params: 0\n",
              "Total mult-adds (G): 734.69\n",
              "========================================================================================================================\n",
              "Input size (MB): 25.17\n",
              "Forward/backward pass size (MB): 13681.83\n",
              "Params size (MB): 29.34\n",
              "Estimated Total Size (MB): 13736.33\n",
              "========================================================================================================================"
            ]
          },
          "metadata": {},
          "execution_count": 31
        }
      ]
    },
    {
      "cell_type": "markdown",
      "source": [
        "#### Setting Optimizer"
      ],
      "metadata": {
        "id": "7-BVsvnATl1o"
      }
    },
    {
      "cell_type": "code",
      "source": [
        "optim = opt.Adam(params=modelv3.parameters(), lr=1e-3)"
      ],
      "metadata": {
        "id": "8cVnRedOTFjf"
      },
      "execution_count": 32,
      "outputs": []
    },
    {
      "cell_type": "markdown",
      "source": [
        "#### Training/Evaluating the Model"
      ],
      "metadata": {
        "id": "Dn1XrIw9TvQv"
      }
    },
    {
      "cell_type": "code",
      "source": [
        "res_3 = fit(model=modelv3,\n",
        "            epochs=10,\n",
        "            train_dl=train_dl,\n",
        "            valid_dl=valid_dl,\n",
        "            loss_fn=loss_fn,\n",
        "            eval_metric=accuracy_fn,\n",
        "            optim=optim,\n",
        "            n_train_batch_prints=10)"
      ],
      "metadata": {
        "colab": {
          "base_uri": "https://localhost:8080/",
          "height": 1000,
          "referenced_widgets": [
            "7fdbf6dd5d7a4cb4bb25711b779abfc5",
            "ba96d112e34449d2b5ee941642310fd0",
            "9f7610fa18b841629cb712257eacf6c8",
            "fd49d589e0794e73bca5fba245c8aa5a",
            "3fc85a7ec80c46b59b7e3202f4eea1c0",
            "4197257aded64f4c8103d3d3100a4b8b",
            "1376a8c27fae4cb09df79601fcd7cf84",
            "1e04785130ba450d9ac47fb17a3b52d2",
            "30a0a738aca04da286df010174c01093",
            "85f02f9872dd48768c67cb2a1f1d3ab4",
            "d91d4659a595480fa10d27d251a572a5"
          ]
        },
        "id": "OLD1t7XITrwp",
        "outputId": "006a13eb-c4fb-4527-b7c1-fc0cdf59d4b0"
      },
      "execution_count": 33,
      "outputs": [
        {
          "output_type": "stream",
          "name": "stdout",
          "text": [
            "Starting Process...\n"
          ]
        },
        {
          "output_type": "display_data",
          "data": {
            "text/plain": [
              "  0%|          | 0/10 [00:00<?, ?it/s]"
            ],
            "application/vnd.jupyter.widget-view+json": {
              "version_major": 2,
              "version_minor": 0,
              "model_id": "7fdbf6dd5d7a4cb4bb25711b779abfc5"
            }
          },
          "metadata": {}
        },
        {
          "output_type": "stream",
          "name": "stdout",
          "text": [
            "\t1) Looked at 4992/50048 training samples...\n",
            "\t2) Looked at 9984/50048 training samples...\n",
            "\t3) Looked at 14976/50048 training samples...\n",
            "\t4) Looked at 19968/50048 training samples...\n",
            "\t5) Looked at 24960/50048 training samples...\n",
            "\t6) Looked at 29952/50048 training samples...\n",
            "\t7) Looked at 34944/50048 training samples...\n",
            "\t8) Looked at 39936/50048 training samples...\n",
            "\t9) Looked at 44928/50048 training samples...\n",
            "\t10) Looked at 49920/50048 training samples...\n",
            "-----------------------------------------------------------------------------------------------------------\n",
            "-> Epoch: 1 | Train Loss: 1.6431 | Train Accuracy: 40.73% | Test Loss: 1.3816 | Test Evaluation (%): 49.96%\n",
            "-----------------------------------------------------------------------------------------------------------\n",
            "\t1) Looked at 4992/50048 training samples...\n",
            "\t2) Looked at 9984/50048 training samples...\n",
            "\t3) Looked at 14976/50048 training samples...\n",
            "\t4) Looked at 19968/50048 training samples...\n",
            "\t5) Looked at 24960/50048 training samples...\n",
            "\t6) Looked at 29952/50048 training samples...\n",
            "\t7) Looked at 34944/50048 training samples...\n",
            "\t8) Looked at 39936/50048 training samples...\n",
            "\t9) Looked at 44928/50048 training samples...\n"
          ]
        },
        {
          "output_type": "stream",
          "name": "stderr",
          "text": [
            "Exception ignored in: <function _MultiProcessingDataLoaderIter.__del__ at 0x7f3e66b64a60>\n",
            "Traceback (most recent call last):\n",
            "  File \"/usr/local/lib/python3.9/dist-packages/torch/utils/data/dataloader.py\", line 1466, in __del__\n",
            "    self._shutdown_workers()\n",
            "  File \"/usr/local/lib/python3.9/dist-packages/torch/utils/data/dataloader.py\", line 1449, in _shutdown_workers\n",
            "    if w.is_alive():\n",
            "  File \"/usr/lib/python3.9/multiprocessing/process.py\", line 160, in is_alive\n",
            "    assert self._parent_pid == os.getpid(), 'can only test a child process'\n",
            "AssertionError: can only test a child process\n",
            "Exception ignored in: <function _MultiProcessingDataLoaderIter.__del__ at 0x7f3e66b64a60>\n",
            "Traceback (most recent call last):\n",
            "  File \"/usr/local/lib/python3.9/dist-packages/torch/utils/data/dataloader.py\", line 1466, in __del__\n",
            "    self._shutdown_workers()\n",
            "  File \"/usr/local/lib/python3.9/dist-packages/torch/utils/data/dataloader.py\", line 1449, in _shutdown_workers\n",
            "    if w.is_alive():\n",
            "  File \"/usr/lib/python3.9/multiprocessing/process.py\", line 160, in is_alive\n",
            "    assert self._parent_pid == os.getpid(), 'can only test a child process'\n",
            "AssertionError: can only test a child process\n"
          ]
        },
        {
          "output_type": "stream",
          "name": "stdout",
          "text": [
            "\t10) Looked at 49920/50048 training samples...\n",
            "-----------------------------------------------------------------------------------------------------------\n",
            "-> Epoch: 2 | Train Loss: 1.1487 | Train Accuracy: 59.23% | Test Loss: 1.0633 | Test Evaluation (%): 62.58%\n",
            "-----------------------------------------------------------------------------------------------------------\n",
            "\t1) Looked at 4992/50048 training samples...\n",
            "\t2) Looked at 9984/50048 training samples...\n",
            "\t3) Looked at 14976/50048 training samples...\n",
            "\t4) Looked at 19968/50048 training samples...\n",
            "\t5) Looked at 24960/50048 training samples...\n",
            "\t6) Looked at 29952/50048 training samples...\n",
            "\t7) Looked at 34944/50048 training samples...\n",
            "\t8) Looked at 39936/50048 training samples...\n",
            "\t9) Looked at 44928/50048 training samples...\n"
          ]
        },
        {
          "output_type": "stream",
          "name": "stderr",
          "text": [
            "Exception ignored in: <function _MultiProcessingDataLoaderIter.__del__ at 0x7f3e66b64a60>\n",
            "Traceback (most recent call last):\n",
            "  File \"/usr/local/lib/python3.9/dist-packages/torch/utils/data/dataloader.py\", line 1466, in __del__\n",
            "    self._shutdown_workers()\n",
            "  File \"/usr/local/lib/python3.9/dist-packages/torch/utils/data/dataloader.py\", line 1449, in _shutdown_workers\n",
            "    if w.is_alive():\n",
            "  File \"/usr/lib/python3.9/multiprocessing/process.py\", line 160, in is_alive\n",
            "    assert self._parent_pid == os.getpid(), 'can only test a child process'\n",
            "AssertionError: can only test a child process\n",
            "Exception ignored in: <function _MultiProcessingDataLoaderIter.__del__ at 0x7f3e66b64a60>\n",
            "Traceback (most recent call last):\n",
            "  File \"/usr/local/lib/python3.9/dist-packages/torch/utils/data/dataloader.py\", line 1466, in __del__\n",
            "    self._shutdown_workers()\n",
            "  File \"/usr/local/lib/python3.9/dist-packages/torch/utils/data/dataloader.py\", line 1449, in _shutdown_workers\n",
            "    if w.is_alive():\n",
            "  File \"/usr/lib/python3.9/multiprocessing/process.py\", line 160, in is_alive\n",
            "    assert self._parent_pid == os.getpid(), 'can only test a child process'\n",
            "AssertionError: can only test a child process\n"
          ]
        },
        {
          "output_type": "stream",
          "name": "stdout",
          "text": [
            "\t10) Looked at 49920/50048 training samples...\n",
            "-----------------------------------------------------------------------------------------------------------\n",
            "-> Epoch: 3 | Train Loss: 0.9478 | Train Accuracy: 66.46% | Test Loss: 0.9563 | Test Evaluation (%): 67.09%\n",
            "-----------------------------------------------------------------------------------------------------------\n",
            "\t1) Looked at 4992/50048 training samples...\n",
            "\t2) Looked at 9984/50048 training samples...\n",
            "\t3) Looked at 14976/50048 training samples...\n",
            "\t4) Looked at 19968/50048 training samples...\n",
            "\t5) Looked at 24960/50048 training samples...\n",
            "\t6) Looked at 29952/50048 training samples...\n",
            "\t7) Looked at 34944/50048 training samples...\n"
          ]
        },
        {
          "output_type": "error",
          "ename": "KeyboardInterrupt",
          "evalue": "ignored",
          "traceback": [
            "\u001b[0;31m---------------------------------------------------------------------------\u001b[0m",
            "\u001b[0;31mKeyboardInterrupt\u001b[0m                         Traceback (most recent call last)",
            "\u001b[0;32m<ipython-input-33-52ff66190d16>\u001b[0m in \u001b[0;36m<module>\u001b[0;34m\u001b[0m\n\u001b[0;32m----> 1\u001b[0;31m res_3 = fit(model=modelv3,\n\u001b[0m\u001b[1;32m      2\u001b[0m             \u001b[0mepochs\u001b[0m\u001b[0;34m=\u001b[0m\u001b[0;36m10\u001b[0m\u001b[0;34m,\u001b[0m\u001b[0;34m\u001b[0m\u001b[0;34m\u001b[0m\u001b[0m\n\u001b[1;32m      3\u001b[0m             \u001b[0mtrain_dl\u001b[0m\u001b[0;34m=\u001b[0m\u001b[0mtrain_dl\u001b[0m\u001b[0;34m,\u001b[0m\u001b[0;34m\u001b[0m\u001b[0;34m\u001b[0m\u001b[0m\n\u001b[1;32m      4\u001b[0m             \u001b[0mvalid_dl\u001b[0m\u001b[0;34m=\u001b[0m\u001b[0mvalid_dl\u001b[0m\u001b[0;34m,\u001b[0m\u001b[0;34m\u001b[0m\u001b[0;34m\u001b[0m\u001b[0m\n\u001b[1;32m      5\u001b[0m             \u001b[0mloss_fn\u001b[0m\u001b[0;34m=\u001b[0m\u001b[0mloss_fn\u001b[0m\u001b[0;34m,\u001b[0m\u001b[0;34m\u001b[0m\u001b[0;34m\u001b[0m\u001b[0m\n",
            "\u001b[0;32m<ipython-input-22-9937da4d9847>\u001b[0m in \u001b[0;36mfit\u001b[0;34m(model, epochs, train_dl, valid_dl, loss_fn, eval_metric, optim, n_epoch_per_print, n_train_batch_prints, n_valid_batch_prints)\u001b[0m\n\u001b[1;32m     17\u001b[0m \u001b[0;34m\u001b[0m\u001b[0m\n\u001b[1;32m     18\u001b[0m     \u001b[0;32mfor\u001b[0m \u001b[0mepoch\u001b[0m \u001b[0;32min\u001b[0m \u001b[0mtqdm\u001b[0m\u001b[0;34m(\u001b[0m\u001b[0mrange\u001b[0m\u001b[0;34m(\u001b[0m\u001b[0;36m1\u001b[0m\u001b[0;34m,\u001b[0m \u001b[0mepochs\u001b[0m \u001b[0;34m+\u001b[0m \u001b[0;36m1\u001b[0m\u001b[0;34m)\u001b[0m\u001b[0;34m)\u001b[0m\u001b[0;34m:\u001b[0m\u001b[0;34m\u001b[0m\u001b[0;34m\u001b[0m\u001b[0m\n\u001b[0;32m---> 19\u001b[0;31m         \u001b[0mtrain_loss\u001b[0m\u001b[0;34m,\u001b[0m \u001b[0mtrain_eval\u001b[0m \u001b[0;34m=\u001b[0m \u001b[0mtraining_step\u001b[0m\u001b[0;34m(\u001b[0m\u001b[0mmodel\u001b[0m\u001b[0;34m,\u001b[0m \u001b[0mtrain_dl\u001b[0m\u001b[0;34m,\u001b[0m \u001b[0mloss_fn\u001b[0m\u001b[0;34m,\u001b[0m \u001b[0meval_metric\u001b[0m\u001b[0;34m,\u001b[0m \u001b[0moptim\u001b[0m\u001b[0;34m,\u001b[0m \u001b[0mn_train_batch_prints\u001b[0m\u001b[0;34m)\u001b[0m\u001b[0;34m\u001b[0m\u001b[0;34m\u001b[0m\u001b[0m\n\u001b[0m\u001b[1;32m     20\u001b[0m         \u001b[0mvalid_loss\u001b[0m\u001b[0;34m,\u001b[0m \u001b[0mvalid_eval\u001b[0m \u001b[0;34m=\u001b[0m \u001b[0mvalidation_step\u001b[0m\u001b[0;34m(\u001b[0m\u001b[0mmodel\u001b[0m\u001b[0;34m,\u001b[0m \u001b[0mvalid_dl\u001b[0m\u001b[0;34m,\u001b[0m \u001b[0mloss_fn\u001b[0m\u001b[0;34m,\u001b[0m \u001b[0meval_metric\u001b[0m\u001b[0;34m,\u001b[0m \u001b[0mn_valid_batch_prints\u001b[0m\u001b[0;34m)\u001b[0m\u001b[0;34m\u001b[0m\u001b[0;34m\u001b[0m\u001b[0m\n\u001b[1;32m     21\u001b[0m \u001b[0;34m\u001b[0m\u001b[0m\n",
            "\u001b[0;32m<ipython-input-20-020fa54e82b4>\u001b[0m in \u001b[0;36mtraining_step\u001b[0;34m(model, train_dl, loss_fn, eval_metric, optim, n_batch_prints)\u001b[0m\n\u001b[1;32m     13\u001b[0m     \u001b[0mmodel\u001b[0m\u001b[0;34m.\u001b[0m\u001b[0mtrain\u001b[0m\u001b[0;34m(\u001b[0m\u001b[0;34m)\u001b[0m\u001b[0;34m\u001b[0m\u001b[0;34m\u001b[0m\u001b[0m\n\u001b[1;32m     14\u001b[0m     \u001b[0;32mfor\u001b[0m \u001b[0mbatch_num\u001b[0m\u001b[0;34m,\u001b[0m \u001b[0;34m(\u001b[0m\u001b[0mx_train\u001b[0m\u001b[0;34m,\u001b[0m \u001b[0my_train\u001b[0m\u001b[0;34m)\u001b[0m \u001b[0;32min\u001b[0m \u001b[0menumerate\u001b[0m\u001b[0;34m(\u001b[0m\u001b[0mtrain_dl\u001b[0m\u001b[0;34m,\u001b[0m \u001b[0mstart\u001b[0m\u001b[0;34m=\u001b[0m\u001b[0;36m1\u001b[0m\u001b[0;34m)\u001b[0m\u001b[0;34m:\u001b[0m\u001b[0;34m\u001b[0m\u001b[0;34m\u001b[0m\u001b[0m\n\u001b[0;32m---> 15\u001b[0;31m         \u001b[0mx_train\u001b[0m\u001b[0;34m,\u001b[0m \u001b[0my_train\u001b[0m \u001b[0;34m=\u001b[0m \u001b[0mx_train\u001b[0m\u001b[0;34m.\u001b[0m\u001b[0mto\u001b[0m\u001b[0;34m(\u001b[0m\u001b[0mmodel_device\u001b[0m\u001b[0;34m)\u001b[0m\u001b[0;34m,\u001b[0m \u001b[0my_train\u001b[0m\u001b[0;34m.\u001b[0m\u001b[0mto\u001b[0m\u001b[0;34m(\u001b[0m\u001b[0mmodel_device\u001b[0m\u001b[0;34m)\u001b[0m\u001b[0;34m\u001b[0m\u001b[0;34m\u001b[0m\u001b[0m\n\u001b[0m\u001b[1;32m     16\u001b[0m \u001b[0;34m\u001b[0m\u001b[0m\n\u001b[1;32m     17\u001b[0m         \u001b[0mmodel_logits\u001b[0m \u001b[0;34m=\u001b[0m \u001b[0mmodel\u001b[0m\u001b[0;34m(\u001b[0m\u001b[0mx_train\u001b[0m\u001b[0;34m)\u001b[0m\u001b[0;34m\u001b[0m\u001b[0;34m\u001b[0m\u001b[0m\n",
            "\u001b[0;31mKeyboardInterrupt\u001b[0m: "
          ]
        }
      ]
    }
  ]
}