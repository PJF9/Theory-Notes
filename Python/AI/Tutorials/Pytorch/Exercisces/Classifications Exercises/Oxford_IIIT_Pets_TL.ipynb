{
  "nbformat": 4,
  "nbformat_minor": 0,
  "metadata": {
    "colab": {
      "provenance": []
    },
    "kernelspec": {
      "name": "python3",
      "display_name": "Python 3"
    },
    "language_info": {
      "name": "python"
    },
    "gpuClass": "standard"
  },
  "cells": [
    {
      "cell_type": "markdown",
      "source": [
        "## We'll use the `Oxford-IIIT Pets` dataset with is 37 categories (breeds) of pets, roughly 200 images for each class. The images have a large variations in scale, pose and lighting."
      ],
      "metadata": {
        "id": "w6BHbs_4hniy"
      }
    },
    {
      "cell_type": "code",
      "execution_count": 150,
      "metadata": {
        "id": "1RRzPv4samCj"
      },
      "outputs": [],
      "source": [
        "import torch\n",
        "from torch import nn, optim\n",
        "from torch.utils.data import DataLoader, random_split, Dataset\n",
        "\n",
        "from torchvision import models, transforms\n",
        "\n",
        "import matplotlib.pyplot as plt"
      ]
    },
    {
      "cell_type": "code",
      "source": [
        "import os\n",
        "from pathlib import Path\n",
        "from PIL import Image\n",
        "from tqdm import tqdm\n",
        "from collections.abc import Callable\n",
        "from timeit  import default_timer as timer"
      ],
      "metadata": {
        "id": "vOQi-udpkF8u"
      },
      "execution_count": 183,
      "outputs": []
    },
    {
      "cell_type": "code",
      "source": [
        "!pip install torchinfo --quiet"
      ],
      "metadata": {
        "id": "paMGLmiCvQ41"
      },
      "execution_count": 60,
      "outputs": []
    },
    {
      "cell_type": "code",
      "source": [
        "from torchinfo import summary"
      ],
      "metadata": {
        "id": "Ak82DeZrvT11"
      },
      "execution_count": 61,
      "outputs": []
    },
    {
      "cell_type": "markdown",
      "source": [
        "## Setting Default Device"
      ],
      "metadata": {
        "id": "tZpyQXD-wKoD"
      }
    },
    {
      "cell_type": "code",
      "source": [
        "device = torch.device(\"cuda\" if torch.cuda.is_available() else \"cpu\")\n",
        "\n",
        "print(device)"
      ],
      "metadata": {
        "colab": {
          "base_uri": "https://localhost:8080/"
        },
        "id": "xL3ATL3mwLpR",
        "outputId": "579281ef-a457-4b4d-8b8f-3d5eae4cf3a7"
      },
      "execution_count": 62,
      "outputs": [
        {
          "output_type": "stream",
          "name": "stdout",
          "text": [
            "cuda\n"
          ]
        }
      ]
    },
    {
      "cell_type": "markdown",
      "source": [
        "## Extracting the Dataset from Drive"
      ],
      "metadata": {
        "id": "BdQIhH-wibrH"
      }
    },
    {
      "cell_type": "code",
      "source": [
        "import tarfile\n",
        "\n",
        "with tarfile.open(\"/content/drive/MyDrive/oxford-iiit-pet.tgz\", \"r:gz\") as tar:\n",
        "    tar.extractall(path=\"/content/pet_dataset\")"
      ],
      "metadata": {
        "id": "cSAqdh6NieRl"
      },
      "execution_count": 8,
      "outputs": []
    },
    {
      "cell_type": "markdown",
      "source": [
        "## Creating the Custom Dataset"
      ],
      "metadata": {
        "id": "nOw2R7rtjxr8"
      }
    },
    {
      "cell_type": "code",
      "source": [
        "class PetDataset(Dataset):\n",
        "    def __init__(self, root: str, transform:transforms):\n",
        "        super().__init__()\n",
        "\n",
        "        self.root = root\n",
        "        self.transform = transform\n",
        "        self.files = list(Path(root).glob(\"*.jpg\"))\n",
        "        self.classes = list(set(\" \".join(str(image_path).split('/')[-1].split('_')[:-1]).lower() for image_path in self.files))\n",
        "        self.class_to_idx = {c: i for i, c in enumerate(self.classes)}\n",
        "\n",
        "    def __len__(self):\n",
        "        return len(self.files)\n",
        "\n",
        "    def __getitem__(self, i):\n",
        "        if (i < 0) or (i >= len(self.files)):\n",
        "            raise IndexError\n",
        "\n",
        "        img = self.transform(Image.open(self.files[i]).convert(\"RGB\"))\n",
        "\n",
        "        return img, self.classes.index(\" \".join(str(self.files[i]).split('/')[-1].split('_')[:-1]).lower())"
      ],
      "metadata": {
        "id": "ipVWd6JnjpvM"
      },
      "execution_count": 117,
      "outputs": []
    },
    {
      "cell_type": "markdown",
      "source": [
        "## Creating the Transformations"
      ],
      "metadata": {
        "id": "hjqNssy8mISw"
      }
    },
    {
      "cell_type": "code",
      "source": [
        "IMG_SIZE = 224\n",
        "IMG_MEAN, IMG_STD = [0.485, 0.456, 0.406], [0.229, 0.224, 0.225]"
      ],
      "metadata": {
        "id": "n-zPkScOmw-e"
      },
      "execution_count": 118,
      "outputs": []
    },
    {
      "cell_type": "code",
      "source": [
        "data_transforms = transforms.Compose([\n",
        "    transforms.Resize(size=(IMG_SIZE, IMG_SIZE)),\n",
        "    transforms.Pad(padding=8, padding_mode=\"reflect\"), # Adding Padding to the Image\n",
        "    transforms.RandomCrop(size=(IMG_SIZE, IMG_SIZE)),  # Crop the Image at a Random Position\n",
        "    transforms.ToTensor(),\n",
        "    transforms.Normalize(mean=IMG_MEAN, std=IMG_STD)\n",
        "])"
      ],
      "metadata": {
        "id": "OWbAqJWdmZuk"
      },
      "execution_count": 119,
      "outputs": []
    },
    {
      "cell_type": "markdown",
      "source": [
        "## Creating the Dataset"
      ],
      "metadata": {
        "id": "xFceLOT-n4FO"
      }
    },
    {
      "cell_type": "code",
      "source": [
        "dataset = PetDataset(\"/content/pet_dataset/oxford-iiit-pet/images\", data_transforms)\n",
        "\n",
        "print(len(dataset))"
      ],
      "metadata": {
        "colab": {
          "base_uri": "https://localhost:8080/"
        },
        "id": "8AaZdxrLmJSZ",
        "outputId": "957e79ac-fe14-4107-864c-2f1a8fb72089"
      },
      "execution_count": 120,
      "outputs": [
        {
          "output_type": "stream",
          "name": "stdout",
          "text": [
            "7390\n"
          ]
        }
      ]
    },
    {
      "cell_type": "code",
      "source": [
        "class_names = dataset.classes\n",
        "\n",
        "print(len(class_names))\n",
        "print(class_names)"
      ],
      "metadata": {
        "colab": {
          "base_uri": "https://localhost:8080/"
        },
        "id": "lZtrzZh5nnDF",
        "outputId": "1e365d53-4707-4cf1-a829-e59571e00f65"
      },
      "execution_count": 121,
      "outputs": [
        {
          "output_type": "stream",
          "name": "stdout",
          "text": [
            "37\n",
            "['yorkshire terrier', 'sphynx', 'chihuahua', 'staffordshire bull terrier', 'shiba inu', 'bengal', 'american pit bull terrier', 'pomeranian', 'leonberger', 'beagle', 'german shorthaired', 'samoyed', 'havanese', 'japanese chin', 'english setter', 'russian blue', 'maine coon', 'basset hound', 'keeshond', 'english cocker spaniel', 'american bulldog', 'egyptian mau', 'great pyrenees', 'siamese', 'persian', 'saint bernard', 'scottish terrier', 'bombay', 'abyssinian', 'newfoundland', 'birman', 'miniature pinscher', 'boxer', 'wheaten terrier', 'ragdoll', 'british shorthair', 'pug']\n"
          ]
        }
      ]
    },
    {
      "cell_type": "markdown",
      "source": [
        "## Visualize Images"
      ],
      "metadata": {
        "id": "d_wQYy5QrjW8"
      }
    },
    {
      "cell_type": "code",
      "source": [
        "# Creating a Denormalization Function\n",
        "def denorm(image_batch, means, stds):\n",
        "    if len(image_batch) == 3:\n",
        "        image_batch = image_batch.unsqueeze(dim=0)\n",
        "\n",
        "    means = torch.tensor(means).reshape(1, 3, 1, 1)\n",
        "    stds = torch.tensor(stds).reshape(1, 3, 1, 1)\n",
        "\n",
        "    return (image_batch * stds) + means"
      ],
      "metadata": {
        "id": "MSnXwoVireIm"
      },
      "execution_count": 122,
      "outputs": []
    },
    {
      "cell_type": "code",
      "source": [
        "# Creating a Plotting Function\n",
        "def show_image(img_tensor, label, means=IMG_MEAN, stds=IMG_STD):\n",
        "    plt.imshow(denorm(img_tensor, means, stds).squeeze(dim=0).permute(1, 2, 0).cpu())\n",
        "    plt.title(f\"Label: {class_names[label]}\")\n",
        "    plt.axis(False);"
      ],
      "metadata": {
        "id": "UaTJr6LVsCaP"
      },
      "execution_count": 123,
      "outputs": []
    },
    {
      "cell_type": "code",
      "source": [
        "show_image(*dataset[931])"
      ],
      "metadata": {
        "colab": {
          "base_uri": "https://localhost:8080/",
          "height": 264
        },
        "id": "oSPmnOWasjVj",
        "outputId": "31113d2d-988b-4f3d-b3fe-5d9d7a9d437a"
      },
      "execution_count": 124,
      "outputs": [
        {
          "output_type": "display_data",
          "data": {
            "text/plain": [
              "<Figure size 432x288 with 1 Axes>"
            ],
            "image/png": "[encoded data removed]"
          },
          "metadata": {
            "needs_background": "light"
          }
        }
      ]
    },
    {
      "cell_type": "markdown",
      "source": [
        "## Creating the Training and Validation Sets"
      ],
      "metadata": {
        "id": "VemWbbTAoAhz"
      }
    },
    {
      "cell_type": "code",
      "source": [
        "VAL_PROP = 0.1\n",
        "VAL_SIZE = int(len(dataset) * VAL_PROP)\n",
        "\n",
        "train_ds, valid_ds = random_split(dataset, [len(dataset) - VAL_SIZE, VAL_SIZE])\n",
        "\n",
        "print(len(train_ds), len(valid_ds))"
      ],
      "metadata": {
        "colab": {
          "base_uri": "https://localhost:8080/"
        },
        "id": "PXX8zkE6n9_z",
        "outputId": "5c601f5d-78dc-44af-c2ec-ce155554fe54"
      },
      "execution_count": 125,
      "outputs": [
        {
          "output_type": "stream",
          "name": "stdout",
          "text": [
            "6651 739\n"
          ]
        }
      ]
    },
    {
      "cell_type": "code",
      "source": [
        "BATCH_SIZE = 256\n",
        "\n",
        "train_dl = DataLoader(dataset=train_ds,\n",
        "                      batch_size=BATCH_SIZE,\n",
        "                      shuffle=True,\n",
        "                      num_workers=os.cpu_count(),\n",
        "                      pin_memory=True)\n",
        "valid_dl = DataLoader(dataset=valid_ds,\n",
        "                      batch_size=BATCH_SIZE,\n",
        "                      shuffle=False,\n",
        "                      num_workers=os.cpu_count(),\n",
        "                      pin_memory=True)\n",
        "\n",
        "print(len(train_dl), len(valid_dl))"
      ],
      "metadata": {
        "colab": {
          "base_uri": "https://localhost:8080/"
        },
        "id": "kaiNptS0ocvb",
        "outputId": "f876bcc9-56e5-42c2-f161-6deed02239e8"
      },
      "execution_count": 126,
      "outputs": [
        {
          "output_type": "stream",
          "name": "stdout",
          "text": [
            "26 3\n"
          ]
        }
      ]
    },
    {
      "cell_type": "markdown",
      "source": [
        "## Modifying a Pretrained Model (ResNet34)"
      ],
      "metadata": {
        "id": "cFLD1rWVuYSn"
      }
    },
    {
      "cell_type": "code",
      "source": [
        "# Taking a Look at the Model\n",
        "model = models.resnet34()\n",
        "\n",
        "summary(model,\n",
        "        input_size=(BATCH_SIZE, 3, 224, 224),\n",
        "        col_names=[\"input_size\", \"output_size\", \"num_params\", \"trainable\"],\n",
        "        col_width=20,\n",
        "        row_settings=[\"var_names\"])"
      ],
      "metadata": {
        "colab": {
          "base_uri": "https://localhost:8080/"
        },
        "id": "NhywYuxPvK1m",
        "outputId": "3c6e59da-e076-4d27-bccc-fd15d36b8fd8"
      },
      "execution_count": 128,
      "outputs": [
        {
          "output_type": "execute_result",
          "data": {
            "text/plain": [
              "========================================================================================================================\n",
              "Layer (type (var_name))                  Input Shape          Output Shape         Param #              Trainable\n",
              "========================================================================================================================\n",
              "ResNet (ResNet)                          [256, 3, 224, 224]   [256, 1000]          --                   True\n",
              "├─Conv2d (conv1)                         [256, 3, 224, 224]   [256, 64, 112, 112]  9,408                True\n",
              "├─BatchNorm2d (bn1)                      [256, 64, 112, 112]  [256, 64, 112, 112]  128                  True\n",
              "├─ReLU (relu)                            [256, 64, 112, 112]  [256, 64, 112, 112]  --                   --\n",
              "├─MaxPool2d (maxpool)                    [256, 64, 112, 112]  [256, 64, 56, 56]    --                   --\n",
              "├─Sequential (layer1)                    [256, 64, 56, 56]    [256, 64, 56, 56]    --                   True\n",
              "│    └─BasicBlock (0)                    [256, 64, 56, 56]    [256, 64, 56, 56]    --                   True\n",
              "│    │    └─Conv2d (conv1)               [256, 64, 56, 56]    [256, 64, 56, 56]    36,864               True\n",
              "│    │    └─BatchNorm2d (bn1)            [256, 64, 56, 56]    [256, 64, 56, 56]    128                  True\n",
              "│    │    └─ReLU (relu)                  [256, 64, 56, 56]    [256, 64, 56, 56]    --                   --\n",
              "│    │    └─Conv2d (conv2)               [256, 64, 56, 56]    [256, 64, 56, 56]    36,864               True\n",
              "│    │    └─BatchNorm2d (bn2)            [256, 64, 56, 56]    [256, 64, 56, 56]    128                  True\n",
              "│    │    └─ReLU (relu)                  [256, 64, 56, 56]    [256, 64, 56, 56]    --                   --\n",
              "│    └─BasicBlock (1)                    [256, 64, 56, 56]    [256, 64, 56, 56]    --                   True\n",
              "│    │    └─Conv2d (conv1)               [256, 64, 56, 56]    [256, 64, 56, 56]    36,864               True\n",
              "│    │    └─BatchNorm2d (bn1)            [256, 64, 56, 56]    [256, 64, 56, 56]    128                  True\n",
              "│    │    └─ReLU (relu)                  [256, 64, 56, 56]    [256, 64, 56, 56]    --                   --\n",
              "│    │    └─Conv2d (conv2)               [256, 64, 56, 56]    [256, 64, 56, 56]    36,864               True\n",
              "│    │    └─BatchNorm2d (bn2)            [256, 64, 56, 56]    [256, 64, 56, 56]    128                  True\n",
              "│    │    └─ReLU (relu)                  [256, 64, 56, 56]    [256, 64, 56, 56]    --                   --\n",
              "│    └─BasicBlock (2)                    [256, 64, 56, 56]    [256, 64, 56, 56]    --                   True\n",
              "│    │    └─Conv2d (conv1)               [256, 64, 56, 56]    [256, 64, 56, 56]    36,864               True\n",
              "│    │    └─BatchNorm2d (bn1)            [256, 64, 56, 56]    [256, 64, 56, 56]    128                  True\n",
              "│    │    └─ReLU (relu)                  [256, 64, 56, 56]    [256, 64, 56, 56]    --                   --\n",
              "│    │    └─Conv2d (conv2)               [256, 64, 56, 56]    [256, 64, 56, 56]    36,864               True\n",
              "│    │    └─BatchNorm2d (bn2)            [256, 64, 56, 56]    [256, 64, 56, 56]    128                  True\n",
              "│    │    └─ReLU (relu)                  [256, 64, 56, 56]    [256, 64, 56, 56]    --                   --\n",
              "├─Sequential (layer2)                    [256, 64, 56, 56]    [256, 128, 28, 28]   --                   True\n",
              "│    └─BasicBlock (0)                    [256, 64, 56, 56]    [256, 128, 28, 28]   --                   True\n",
              "│    │    └─Conv2d (conv1)               [256, 64, 56, 56]    [256, 128, 28, 28]   73,728               True\n",
              "│    │    └─BatchNorm2d (bn1)            [256, 128, 28, 28]   [256, 128, 28, 28]   256                  True\n",
              "│    │    └─ReLU (relu)                  [256, 128, 28, 28]   [256, 128, 28, 28]   --                   --\n",
              "│    │    └─Conv2d (conv2)               [256, 128, 28, 28]   [256, 128, 28, 28]   147,456              True\n",
              "│    │    └─BatchNorm2d (bn2)            [256, 128, 28, 28]   [256, 128, 28, 28]   256                  True\n",
              "│    │    └─Sequential (downsample)      [256, 64, 56, 56]    [256, 128, 28, 28]   8,448                True\n",
              "│    │    └─ReLU (relu)                  [256, 128, 28, 28]   [256, 128, 28, 28]   --                   --\n",
              "│    └─BasicBlock (1)                    [256, 128, 28, 28]   [256, 128, 28, 28]   --                   True\n",
              "│    │    └─Conv2d (conv1)               [256, 128, 28, 28]   [256, 128, 28, 28]   147,456              True\n",
              "│    │    └─BatchNorm2d (bn1)            [256, 128, 28, 28]   [256, 128, 28, 28]   256                  True\n",
              "│    │    └─ReLU (relu)                  [256, 128, 28, 28]   [256, 128, 28, 28]   --                   --\n",
              "│    │    └─Conv2d (conv2)               [256, 128, 28, 28]   [256, 128, 28, 28]   147,456              True\n",
              "│    │    └─BatchNorm2d (bn2)            [256, 128, 28, 28]   [256, 128, 28, 28]   256                  True\n",
              "│    │    └─ReLU (relu)                  [256, 128, 28, 28]   [256, 128, 28, 28]   --                   --\n",
              "│    └─BasicBlock (2)                    [256, 128, 28, 28]   [256, 128, 28, 28]   --                   True\n",
              "│    │    └─Conv2d (conv1)               [256, 128, 28, 28]   [256, 128, 28, 28]   147,456              True\n",
              "│    │    └─BatchNorm2d (bn1)            [256, 128, 28, 28]   [256, 128, 28, 28]   256                  True\n",
              "│    │    └─ReLU (relu)                  [256, 128, 28, 28]   [256, 128, 28, 28]   --                   --\n",
              "│    │    └─Conv2d (conv2)               [256, 128, 28, 28]   [256, 128, 28, 28]   147,456              True\n",
              "│    │    └─BatchNorm2d (bn2)            [256, 128, 28, 28]   [256, 128, 28, 28]   256                  True\n",
              "│    │    └─ReLU (relu)                  [256, 128, 28, 28]   [256, 128, 28, 28]   --                   --\n",
              "│    └─BasicBlock (3)                    [256, 128, 28, 28]   [256, 128, 28, 28]   --                   True\n",
              "│    │    └─Conv2d (conv1)               [256, 128, 28, 28]   [256, 128, 28, 28]   147,456              True\n",
              "│    │    └─BatchNorm2d (bn1)            [256, 128, 28, 28]   [256, 128, 28, 28]   256                  True\n",
              "│    │    └─ReLU (relu)                  [256, 128, 28, 28]   [256, 128, 28, 28]   --                   --\n",
              "│    │    └─Conv2d (conv2)               [256, 128, 28, 28]   [256, 128, 28, 28]   147,456              True\n",
              "│    │    └─BatchNorm2d (bn2)            [256, 128, 28, 28]   [256, 128, 28, 28]   256                  True\n",
              "│    │    └─ReLU (relu)                  [256, 128, 28, 28]   [256, 128, 28, 28]   --                   --\n",
              "├─Sequential (layer3)                    [256, 128, 28, 28]   [256, 256, 14, 14]   --                   True\n",
              "│    └─BasicBlock (0)                    [256, 128, 28, 28]   [256, 256, 14, 14]   --                   True\n",
              "│    │    └─Conv2d (conv1)               [256, 128, 28, 28]   [256, 256, 14, 14]   294,912              True\n",
              "│    │    └─BatchNorm2d (bn1)            [256, 256, 14, 14]   [256, 256, 14, 14]   512                  True\n",
              "│    │    └─ReLU (relu)                  [256, 256, 14, 14]   [256, 256, 14, 14]   --                   --\n",
              "│    │    └─Conv2d (conv2)               [256, 256, 14, 14]   [256, 256, 14, 14]   589,824              True\n",
              "│    │    └─BatchNorm2d (bn2)            [256, 256, 14, 14]   [256, 256, 14, 14]   512                  True\n",
              "│    │    └─Sequential (downsample)      [256, 128, 28, 28]   [256, 256, 14, 14]   33,280               True\n",
              "│    │    └─ReLU (relu)                  [256, 256, 14, 14]   [256, 256, 14, 14]   --                   --\n",
              "│    └─BasicBlock (1)                    [256, 256, 14, 14]   [256, 256, 14, 14]   --                   True\n",
              "│    │    └─Conv2d (conv1)               [256, 256, 14, 14]   [256, 256, 14, 14]   589,824              True\n",
              "│    │    └─BatchNorm2d (bn1)            [256, 256, 14, 14]   [256, 256, 14, 14]   512                  True\n",
              "│    │    └─ReLU (relu)                  [256, 256, 14, 14]   [256, 256, 14, 14]   --                   --\n",
              "│    │    └─Conv2d (conv2)               [256, 256, 14, 14]   [256, 256, 14, 14]   589,824              True\n",
              "│    │    └─BatchNorm2d (bn2)            [256, 256, 14, 14]   [256, 256, 14, 14]   512                  True\n",
              "│    │    └─ReLU (relu)                  [256, 256, 14, 14]   [256, 256, 14, 14]   --                   --\n",
              "│    └─BasicBlock (2)                    [256, 256, 14, 14]   [256, 256, 14, 14]   --                   True\n",
              "│    │    └─Conv2d (conv1)               [256, 256, 14, 14]   [256, 256, 14, 14]   589,824              True\n",
              "│    │    └─BatchNorm2d (bn1)            [256, 256, 14, 14]   [256, 256, 14, 14]   512                  True\n",
              "│    │    └─ReLU (relu)                  [256, 256, 14, 14]   [256, 256, 14, 14]   --                   --\n",
              "│    │    └─Conv2d (conv2)               [256, 256, 14, 14]   [256, 256, 14, 14]   589,824              True\n",
              "│    │    └─BatchNorm2d (bn2)            [256, 256, 14, 14]   [256, 256, 14, 14]   512                  True\n",
              "│    │    └─ReLU (relu)                  [256, 256, 14, 14]   [256, 256, 14, 14]   --                   --\n",
              "│    └─BasicBlock (3)                    [256, 256, 14, 14]   [256, 256, 14, 14]   --                   True\n",
              "│    │    └─Conv2d (conv1)               [256, 256, 14, 14]   [256, 256, 14, 14]   589,824              True\n",
              "│    │    └─BatchNorm2d (bn1)            [256, 256, 14, 14]   [256, 256, 14, 14]   512                  True\n",
              "│    │    └─ReLU (relu)                  [256, 256, 14, 14]   [256, 256, 14, 14]   --                   --\n",
              "│    │    └─Conv2d (conv2)               [256, 256, 14, 14]   [256, 256, 14, 14]   589,824              True\n",
              "│    │    └─BatchNorm2d (bn2)            [256, 256, 14, 14]   [256, 256, 14, 14]   512                  True\n",
              "│    │    └─ReLU (relu)                  [256, 256, 14, 14]   [256, 256, 14, 14]   --                   --\n",
              "│    └─BasicBlock (4)                    [256, 256, 14, 14]   [256, 256, 14, 14]   --                   True\n",
              "│    │    └─Conv2d (conv1)               [256, 256, 14, 14]   [256, 256, 14, 14]   589,824              True\n",
              "│    │    └─BatchNorm2d (bn1)            [256, 256, 14, 14]   [256, 256, 14, 14]   512                  True\n",
              "│    │    └─ReLU (relu)                  [256, 256, 14, 14]   [256, 256, 14, 14]   --                   --\n",
              "│    │    └─Conv2d (conv2)               [256, 256, 14, 14]   [256, 256, 14, 14]   589,824              True\n",
              "│    │    └─BatchNorm2d (bn2)            [256, 256, 14, 14]   [256, 256, 14, 14]   512                  True\n",
              "│    │    └─ReLU (relu)                  [256, 256, 14, 14]   [256, 256, 14, 14]   --                   --\n",
              "│    └─BasicBlock (5)                    [256, 256, 14, 14]   [256, 256, 14, 14]   --                   True\n",
              "│    │    └─Conv2d (conv1)               [256, 256, 14, 14]   [256, 256, 14, 14]   589,824              True\n",
              "│    │    └─BatchNorm2d (bn1)            [256, 256, 14, 14]   [256, 256, 14, 14]   512                  True\n",
              "│    │    └─ReLU (relu)                  [256, 256, 14, 14]   [256, 256, 14, 14]   --                   --\n",
              "│    │    └─Conv2d (conv2)               [256, 256, 14, 14]   [256, 256, 14, 14]   589,824              True\n",
              "│    │    └─BatchNorm2d (bn2)            [256, 256, 14, 14]   [256, 256, 14, 14]   512                  True\n",
              "│    │    └─ReLU (relu)                  [256, 256, 14, 14]   [256, 256, 14, 14]   --                   --\n",
              "├─Sequential (layer4)                    [256, 256, 14, 14]   [256, 512, 7, 7]     --                   True\n",
              "│    └─BasicBlock (0)                    [256, 256, 14, 14]   [256, 512, 7, 7]     --                   True\n",
              "│    │    └─Conv2d (conv1)               [256, 256, 14, 14]   [256, 512, 7, 7]     1,179,648            True\n",
              "│    │    └─BatchNorm2d (bn1)            [256, 512, 7, 7]     [256, 512, 7, 7]     1,024                True\n",
              "│    │    └─ReLU (relu)                  [256, 512, 7, 7]     [256, 512, 7, 7]     --                   --\n",
              "│    │    └─Conv2d (conv2)               [256, 512, 7, 7]     [256, 512, 7, 7]     2,359,296            True\n",
              "│    │    └─BatchNorm2d (bn2)            [256, 512, 7, 7]     [256, 512, 7, 7]     1,024                True\n",
              "│    │    └─Sequential (downsample)      [256, 256, 14, 14]   [256, 512, 7, 7]     132,096              True\n",
              "│    │    └─ReLU (relu)                  [256, 512, 7, 7]     [256, 512, 7, 7]     --                   --\n",
              "│    └─BasicBlock (1)                    [256, 512, 7, 7]     [256, 512, 7, 7]     --                   True\n",
              "│    │    └─Conv2d (conv1)               [256, 512, 7, 7]     [256, 512, 7, 7]     2,359,296            True\n",
              "│    │    └─BatchNorm2d (bn1)            [256, 512, 7, 7]     [256, 512, 7, 7]     1,024                True\n",
              "│    │    └─ReLU (relu)                  [256, 512, 7, 7]     [256, 512, 7, 7]     --                   --\n",
              "│    │    └─Conv2d (conv2)               [256, 512, 7, 7]     [256, 512, 7, 7]     2,359,296            True\n",
              "│    │    └─BatchNorm2d (bn2)            [256, 512, 7, 7]     [256, 512, 7, 7]     1,024                True\n",
              "│    │    └─ReLU (relu)                  [256, 512, 7, 7]     [256, 512, 7, 7]     --                   --\n",
              "│    └─BasicBlock (2)                    [256, 512, 7, 7]     [256, 512, 7, 7]     --                   True\n",
              "│    │    └─Conv2d (conv1)               [256, 512, 7, 7]     [256, 512, 7, 7]     2,359,296            True\n",
              "│    │    └─BatchNorm2d (bn1)            [256, 512, 7, 7]     [256, 512, 7, 7]     1,024                True\n",
              "│    │    └─ReLU (relu)                  [256, 512, 7, 7]     [256, 512, 7, 7]     --                   --\n",
              "│    │    └─Conv2d (conv2)               [256, 512, 7, 7]     [256, 512, 7, 7]     2,359,296            True\n",
              "│    │    └─BatchNorm2d (bn2)            [256, 512, 7, 7]     [256, 512, 7, 7]     1,024                True\n",
              "│    │    └─ReLU (relu)                  [256, 512, 7, 7]     [256, 512, 7, 7]     --                   --\n",
              "├─AdaptiveAvgPool2d (avgpool)            [256, 512, 7, 7]     [256, 512, 1, 1]     --                   --\n",
              "├─Linear (fc)                            [256, 512]           [256, 1000]          513,000              True\n",
              "========================================================================================================================\n",
              "Total params: 21,797,672\n",
              "Trainable params: 21,797,672\n",
              "Non-trainable params: 0\n",
              "Total mult-adds (G): 937.93\n",
              "========================================================================================================================\n",
              "Input size (MB): 154.14\n",
              "Forward/backward pass size (MB): 15313.35\n",
              "Params size (MB): 87.19\n",
              "Estimated Total Size (MB): 15554.69\n",
              "========================================================================================================================"
            ]
          },
          "metadata": {},
          "execution_count": 128
        }
      ]
    },
    {
      "cell_type": "code",
      "source": [
        "def create_ResNet34(device):\n",
        "    # Getting the Weights of the Pretrained Model\n",
        "    weights = models.ResNet34_Weights.DEFAULT\n",
        "    model = models.resnet34(weights=weights).to(device)\n",
        "\n",
        "    # Freezing Parameters\n",
        "    for param in model.parameters():\n",
        "        param.requires_grad = False\n",
        "\n",
        "    # Adjusting Output Layer\n",
        "    model.fc = nn.Linear(in_features=model.fc.in_features,\n",
        "                         out_features=37).to(device)\n",
        "\n",
        "    model.name = \"ResNet34\"\n",
        "    print(f\"[INFO] Created new {model.name} model.\")\n",
        "    return model"
      ],
      "metadata": {
        "id": "mB0gs0MnuaA-"
      },
      "execution_count": 222,
      "outputs": []
    },
    {
      "cell_type": "code",
      "source": [
        "model = create_ResNet34(device)"
      ],
      "metadata": {
        "colab": {
          "base_uri": "https://localhost:8080/"
        },
        "id": "AR58I759wDUA",
        "outputId": "42578cf0-0b59-4644-95fb-c14f04689edd"
      },
      "execution_count": 223,
      "outputs": [
        {
          "output_type": "stream",
          "name": "stdout",
          "text": [
            "[INFO] Created new ResNet34 model.\n"
          ]
        }
      ]
    },
    {
      "cell_type": "code",
      "source": [
        "# Passing dummy data to the Model\n",
        "model.eval()\n",
        "with torch.inference_mode():\n",
        "    logits = model(torch.randn(size=(BATCH_SIZE, 3, 224, 224), device=device))\n",
        "\n",
        "print(logits[0])"
      ],
      "metadata": {
        "colab": {
          "base_uri": "https://localhost:8080/"
        },
        "id": "dcR8Ub9D2iOb",
        "outputId": "85729dbc-10d2-4904-aa84-6b2d905126a8"
      },
      "execution_count": 224,
      "outputs": [
        {
          "output_type": "stream",
          "name": "stdout",
          "text": [
            "tensor([ 0.3163, -0.1044, -0.5081,  0.2214,  0.5214, -1.0699, -0.8981,  0.6231,\n",
            "         0.6768, -0.5305,  0.1623,  0.3626,  0.9135, -0.2471,  0.1604, -0.0513,\n",
            "        -0.6851, -0.8901, -0.0204,  0.7208, -0.2817,  0.0602, -0.2207, -0.1600,\n",
            "        -0.0134,  0.6355,  0.5678, -0.6991, -0.1537, -0.6137,  0.4165,  0.6442,\n",
            "         0.2903,  0.5694, -0.0571,  0.3150,  0.1255], device='cuda:0')\n"
          ]
        }
      ]
    },
    {
      "cell_type": "markdown",
      "source": [
        "## Creating Training/Evaluating Loop"
      ],
      "metadata": {
        "id": "SsCPcMUVzWSe"
      }
    },
    {
      "cell_type": "code",
      "source": [
        "def training_step(model: torch.nn.Module,\n",
        "                  train_dl: torch.utils.data.DataLoader,\n",
        "                  loss_fn: torch.nn.Module,\n",
        "                  eval_metric: Callable[[torch.Tensor, torch.Tensor]],\n",
        "                  optim: torch.optim.Optimizer):\n",
        "    \n",
        "    batch_size = train_dl.batch_size\n",
        "    model_device = next(model.parameters()).device\n",
        "    train_loss, train_eval = 0, 0\n",
        "\n",
        "    print(\"\\tTraining Step: \", end=\"\")\n",
        "\n",
        "    model.train()\n",
        "    for x_train, y_train in tqdm(train_dl):\n",
        "        x_train, y_train = x_train.to(model_device, non_blocking=True), y_train.to(model_device, non_blocking=True)\n",
        "\n",
        "        model_logits = model(x_train)\n",
        "\n",
        "        loss = loss_fn(model_logits, y_train)\n",
        "        train_loss += loss.item()\n",
        "        train_eval += eval_metric(model_logits, y_train)\n",
        "\n",
        "        optim.zero_grad()\n",
        "        loss.backward()\n",
        "        optim.step()\n",
        "\n",
        "    train_loss /= len(train_dl)\n",
        "    train_eval /= len(train_dl)\n",
        "\n",
        "    return train_loss, train_eval"
      ],
      "metadata": {
        "id": "kBEeVn9uzZD2"
      },
      "execution_count": 225,
      "outputs": []
    },
    {
      "cell_type": "code",
      "source": [
        "def validation_step(model: torch.nn.Module,\n",
        "                    valid_dl: torch.utils.data.DataLoader,\n",
        "                    loss_fn: torch.nn.Module,\n",
        "                    eval_metric: Callable[[torch.Tensor, torch.Tensor]]):\n",
        "    \n",
        "    batch_size = valid_dl.batch_size\n",
        "    model_device = next(model.parameters()).device\n",
        "    valid_loss, valid_eval = 0, 0\n",
        "\n",
        "    print(\"\\tValidation Step: \", end=\"\")\n",
        "\n",
        "    model.eval()\n",
        "    with torch.inference_mode():\n",
        "        for x_valid, y_valid in tqdm(valid_dl):\n",
        "            x_valid, y_valid = x_valid.to(model_device, non_blocking=True), y_valid.to(model_device, non_blocking=True)\n",
        "\n",
        "            model_logits = model(x_valid)\n",
        "\n",
        "            valid_loss += loss_fn(model_logits, y_valid).item()\n",
        "            valid_eval += eval_metric(model_logits, y_valid)\n",
        "\n",
        "        valid_loss /= len(valid_dl)\n",
        "        valid_eval /= len(valid_dl)\n",
        "\n",
        "        return valid_loss, valid_eval"
      ],
      "metadata": {
        "id": "KGWp273kzoj_"
      },
      "execution_count": 226,
      "outputs": []
    },
    {
      "cell_type": "code",
      "source": [
        "def fit(model: torch.nn.Module,\n",
        "        epochs: int,\n",
        "        train_dl: torch.utils.data.DataLoader,\n",
        "        valid_dl: torch.utils.data.DataLoader,\n",
        "        loss_fn: torch.nn.Module,\n",
        "        eval_metric: Callable[[torch.Tensor, torch.Tensor]],\n",
        "        optim: torch.optim.Optimizer):\n",
        "    \n",
        "    start_time = timer()\n",
        "    train_losses, train_evals = [], []\n",
        "    valid_losses, valid_evals = [], []\n",
        "\n",
        "    print(\"Starting Process...\\n\")\n",
        "    \n",
        "    for epoch in range(1, epochs + 1):\n",
        "        print(f\"-> Epoch: {epoch}/{epochs}\")\n",
        "\n",
        "        train_loss, train_eval = training_step(model, train_dl, loss_fn, eval_metric, optim)\n",
        "        valid_loss, valid_eval = validation_step(model, valid_dl, loss_fn, eval_metric)\n",
        "\n",
        "        if (epoch == epochs):\n",
        "            print()\n",
        "        print()\n",
        "        print(\n",
        "            f\"   Train Loss: {train_loss:.4f} | \"\n",
        "            f\"Train Accuracy: {train_eval:.2f}% | \"\n",
        "            f\"Valid Loss: {valid_loss:.4f} | \"\n",
        "            f\"Valid Accuracy (%): {valid_eval:.2f}%\")\n",
        "        print(\"-\" * 99, end=\"\\n\\n\")\n",
        "        \n",
        "        train_losses.append(train_loss)\n",
        "        train_evals.append(train_eval)\n",
        "        valid_losses.append(valid_loss)\n",
        "        valid_evals.append(valid_eval)\n",
        "\n",
        "    print(\"Process Completed Successfully...\")\n",
        "\n",
        "    return {\"model_train_loss\": train_losses,\n",
        "        \"model_train_eval\": train_evals,\n",
        "        \"model_valid_loss\": valid_losses,\n",
        "        \"model_valid_eval\": valid_evals,\n",
        "        \"model_name\": model.__class__.__name__,\n",
        "        \"model_loss_fn\": loss_fn.__class__.__name__,\n",
        "        \"model_evaluating_m\": eval_metric.__name__,\n",
        "        \"model_optimizer\": optim.__class__.__name__,\n",
        "        \"model_device\": next(model.parameters()).device.type,\n",
        "        \"model_epochs\": epochs,\n",
        "        \"model_time\": timer() - start_time}"
      ],
      "metadata": {
        "id": "e8SYAWU0z3px"
      },
      "execution_count": 231,
      "outputs": []
    },
    {
      "cell_type": "markdown",
      "source": [
        "## Creating Accuracy Metric"
      ],
      "metadata": {
        "id": "EOpw2aWO1Nrx"
      }
    },
    {
      "cell_type": "code",
      "source": [
        "def accuracy_fn(model_logits, labels):\n",
        "    labels_pred = torch.softmax(model_logits.type(torch.float32), dim=1).argmax(dim=1)\n",
        "    return (torch.sum(labels_pred == labels).item() / len(labels)) * 100"
      ],
      "metadata": {
        "id": "UtiFC1631QGX"
      },
      "execution_count": 232,
      "outputs": []
    },
    {
      "cell_type": "markdown",
      "source": [
        "## Setting Loss Function and Optimizer"
      ],
      "metadata": {
        "id": "gRZB0N13z-gD"
      }
    },
    {
      "cell_type": "code",
      "source": [
        "loss_fn = nn.CrossEntropyLoss()\n",
        "opt = optim.Adam(params=model.parameters(), lr=1e-3)"
      ],
      "metadata": {
        "id": "rxJ7rVyKAIQL"
      },
      "execution_count": 233,
      "outputs": []
    },
    {
      "cell_type": "markdown",
      "source": [
        "## Training the Model"
      ],
      "metadata": {
        "id": "J-jkU3I10_fh"
      }
    },
    {
      "cell_type": "code",
      "source": [
        "results = fit(model, 3, train_dl, valid_dl, loss_fn, accuracy_fn, opt)"
      ],
      "metadata": {
        "colab": {
          "base_uri": "https://localhost:8080/"
        },
        "id": "XyjdltSA0Fzc",
        "outputId": "d7c9e7e3-2134-4674-caad-0b9d5e488d09"
      },
      "execution_count": 234,
      "outputs": [
        {
          "output_type": "stream",
          "name": "stdout",
          "text": [
            "Starting Process...\n",
            "\n",
            "-> Epoch: 1/3\n",
            "\tTraining Step: "
          ]
        },
        {
          "output_type": "stream",
          "name": "stderr",
          "text": [
            "100%|██████████| 26/26 [00:55<00:00,  2.12s/it]\n"
          ]
        },
        {
          "output_type": "stream",
          "name": "stdout",
          "text": [
            "\tValidation Step: "
          ]
        },
        {
          "output_type": "stream",
          "name": "stderr",
          "text": [
            "100%|██████████| 3/3 [00:06<00:00,  2.07s/it]\n"
          ]
        },
        {
          "output_type": "stream",
          "name": "stdout",
          "text": [
            "\n",
            "   Train Loss: 0.4972 | Train Accuracy: 88.98% | Valid Loss: 0.4926 | Valid Accuracy (%): 86.63%\n",
            "---------------------------------------------------------------------------------------------------\n",
            "\n",
            "-> Epoch: 2/3\n",
            "\tTraining Step: "
          ]
        },
        {
          "output_type": "stream",
          "name": "stderr",
          "text": [
            "100%|██████████| 26/26 [00:53<00:00,  2.06s/it]\n"
          ]
        },
        {
          "output_type": "stream",
          "name": "stdout",
          "text": [
            "\tValidation Step: "
          ]
        },
        {
          "output_type": "stream",
          "name": "stderr",
          "text": [
            "100%|██████████| 3/3 [00:07<00:00,  2.54s/it]\n"
          ]
        },
        {
          "output_type": "stream",
          "name": "stdout",
          "text": [
            "\n",
            "   Train Loss: 0.3787 | Train Accuracy: 91.32% | Valid Loss: 0.4224 | Valid Accuracy (%): 87.70%\n",
            "---------------------------------------------------------------------------------------------------\n",
            "\n",
            "-> Epoch: 3/3\n",
            "\tTraining Step: "
          ]
        },
        {
          "output_type": "stream",
          "name": "stderr",
          "text": [
            "100%|██████████| 26/26 [00:50<00:00,  1.95s/it]\n"
          ]
        },
        {
          "output_type": "stream",
          "name": "stdout",
          "text": [
            "\tValidation Step: "
          ]
        },
        {
          "output_type": "stream",
          "name": "stderr",
          "text": [
            "100%|██████████| 3/3 [00:08<00:00,  2.83s/it]"
          ]
        },
        {
          "output_type": "stream",
          "name": "stdout",
          "text": [
            "\n",
            "\n",
            "   Train Loss: 0.3183 | Train Accuracy: 92.18% | Valid Loss: 0.3825 | Valid Accuracy (%): 88.66%\n",
            "---------------------------------------------------------------------------------------------------\n",
            "\n",
            "Process Completed Successfully...\n"
          ]
        },
        {
          "output_type": "stream",
          "name": "stderr",
          "text": [
            "\n"
          ]
        }
      ]
    }
  ]
}