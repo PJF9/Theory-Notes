{
  "cells": [
    {
      "cell_type": "markdown",
      "id": "enabling-gabriel",
      "metadata": {
        "id": "enabling-gabriel"
      },
      "source": [
        "## Preparing the Data\n",
        "\n",
        "In [the previous tutorial](https://jovian.ai/aakashns/03-logistic-regression), we trained a logistic regression model to identify handwritten digits from the MNIST dataset with an accuracy of around 85%. The dataset consists of 28px by 28px grayscale images of handwritten digits (0 to 9) and labels for each image indicating which digit it represents. Here are some sample images from the dataset:\n",
        "\n",
        "![mnist-sample](https://i.imgur.com/CAYnuo1.jpg)\n",
        "\n",
        "We noticed that it's quite challenging to improve the accuracy of a logistic regression model beyond 87%, since the model assumes a linear relationship between pixel intensities and image labels. In this post, we'll try to improve upon it  using a *feed-forward neural network* which can capture non-linear relationships between inputs and targets.\n",
        "\n",
        "Let's begin by installing and importing the required modules and classes from `torch`, `torchvision`, `numpy`, and `matplotlib`."
      ]
    },
    {
      "cell_type": "code",
      "execution_count": 1,
      "id": "empirical-conflict",
      "metadata": {
        "id": "empirical-conflict"
      },
      "outputs": [],
      "source": [
        "import torch\n",
        "import torchvision\n",
        "import torch.nn as nn\n",
        "import torch.nn.functional as F # For the activation functions\n",
        "from torchvision.datasets import MNIST\n",
        "from torchvision.transforms import ToTensor\n",
        "from torch.utils.data import DataLoader, random_split\n",
        "from torchvision.utils import make_grid\n",
        "import numpy as np\n",
        "import matplotlib.pyplot as plt"
      ]
    },
    {
      "cell_type": "markdown",
      "id": "considerable-prayer",
      "metadata": {
        "id": "considerable-prayer"
      },
      "source": [
        "We can download the data and create a PyTorch dataset using the `MNIST` class from `torchvision.datasets`. "
      ]
    },
    {
      "cell_type": "code",
      "execution_count": 2,
      "id": "stable-trance",
      "metadata": {
        "colab": {
          "base_uri": "https://localhost:8080/",
          "height": 423,
          "referenced_widgets": [
            "2c5f6c8558da41bba69c55c15a1f4838",
            "ea3906f29a2045c4aed89432fb2520ba",
            "aa3dc08f30d548a88a4986ccebacd9d0",
            "f872947846db4db0893ddc6ca461f8cd",
            "6bfbbfc15b974152b430d594d0a1337a",
            "529cad96e6db418a9394165515b7db9c",
            "6eae1ff4f72f45cd8bd7faf204bfc345",
            "da908a7b0f7d4a1b9ee15d440b799c7c",
            "f35d037d2d7a460ebe4c168a302cf851",
            "128a160793824444937356fd2ed168ed",
            "c4414d15ac1041fca33fb347c88b183f",
            "8a43f19a8a484f0d8afe16bef76b8919",
            "c19f03edfdee4feca1f325bb6be38069",
            "937dadd5a0054dc4911c050a3b4962c2",
            "6255e9877c6d40c69e3e2a8e8ef0eae1",
            "6ffaba650a1743e185b50f03559a5bf6",
            "4b45e1b2db0c42008c0a663f1720cf81",
            "00f81778a0d6451d819fe367bb34dfbd",
            "3b72c702a4a74f1fb698bcd0cd3eddfe",
            "9917d38ba5054491b33d5f61673c2ba6",
            "1fd933bb6af14fc888599d948af90bee",
            "3c03be976bf34fe6be90216b1f41e8d0",
            "c8abf69153c2487395f9bf592ce6b9ba",
            "10fd2f787e0e4d2dac84376ee847ad6b",
            "bbce63b2a8eb4677840adb5679eed4e6",
            "adab6917aa3d44d9b5dee949e2342bab",
            "ab7adca621fb480ebe6bb9de3d056165",
            "4534e095ee3d474b8fcc42ee25cb3cb7",
            "e9ce949869a9446f83c67c14c288a4f9",
            "39d3a0af6b214b84a744078579ec69d3",
            "00a0af2fb5464647a14b46bb9fb385be",
            "799c79274ccd4ee6b576d0f20fb14576",
            "cdcca03e32cc407096cdd3827fdad065",
            "8730b707926f4cc1a2bce0881ab4a21d",
            "4f660894eef4486ea354976a764e9479",
            "1a7cdc400c36498ca8feaada404d1ca1",
            "96fac2e3b10a4e5dbb6cc1ad7fb4efb9",
            "a9013f741d8b4c26b9b48c81d318a6cf",
            "5dfa0f97c18e469c9b128b69f141b301",
            "217fff03ce1d47cca18f61ee521a3b8d",
            "6aaa0bf8c767491aa1fb406cfb347756",
            "428feeb24e1545da88a7ef2d3026651c",
            "ae9cb5afaf9247e4a700773aae813bee",
            "4eb80a3720d248fba7aa0efa60cbf59c"
          ]
        },
        "id": "stable-trance",
        "outputId": "e812ae66-d863-4d35-f661-3b105645c0d2"
      },
      "outputs": [
        {
          "output_type": "stream",
          "name": "stdout",
          "text": [
            "Downloading http://yann.lecun.com/exdb/mnist/train-images-idx3-ubyte.gz\n",
            "Downloading http://yann.lecun.com/exdb/mnist/train-images-idx3-ubyte.gz to /Datasets/MNIST/raw/train-images-idx3-ubyte.gz\n"
          ]
        },
        {
          "output_type": "display_data",
          "data": {
            "text/plain": [
              "  0%|          | 0/9912422 [00:00<?, ?it/s]"
            ],
            "application/vnd.jupyter.widget-view+json": {
              "version_major": 2,
              "version_minor": 0,
              "model_id": "2c5f6c8558da41bba69c55c15a1f4838"
            }
          },
          "metadata": {}
        },
        {
          "output_type": "stream",
          "name": "stdout",
          "text": [
            "Extracting /Datasets/MNIST/raw/train-images-idx3-ubyte.gz to /Datasets/MNIST/raw\n",
            "\n",
            "Downloading http://yann.lecun.com/exdb/mnist/train-labels-idx1-ubyte.gz\n",
            "Downloading http://yann.lecun.com/exdb/mnist/train-labels-idx1-ubyte.gz to /Datasets/MNIST/raw/train-labels-idx1-ubyte.gz\n"
          ]
        },
        {
          "output_type": "display_data",
          "data": {
            "text/plain": [
              "  0%|          | 0/28881 [00:00<?, ?it/s]"
            ],
            "application/vnd.jupyter.widget-view+json": {
              "version_major": 2,
              "version_minor": 0,
              "model_id": "8a43f19a8a484f0d8afe16bef76b8919"
            }
          },
          "metadata": {}
        },
        {
          "output_type": "stream",
          "name": "stdout",
          "text": [
            "Extracting /Datasets/MNIST/raw/train-labels-idx1-ubyte.gz to /Datasets/MNIST/raw\n",
            "\n",
            "Downloading http://yann.lecun.com/exdb/mnist/t10k-images-idx3-ubyte.gz\n",
            "Downloading http://yann.lecun.com/exdb/mnist/t10k-images-idx3-ubyte.gz to /Datasets/MNIST/raw/t10k-images-idx3-ubyte.gz\n"
          ]
        },
        {
          "output_type": "display_data",
          "data": {
            "text/plain": [
              "  0%|          | 0/1648877 [00:00<?, ?it/s]"
            ],
            "application/vnd.jupyter.widget-view+json": {
              "version_major": 2,
              "version_minor": 0,
              "model_id": "c8abf69153c2487395f9bf592ce6b9ba"
            }
          },
          "metadata": {}
        },
        {
          "output_type": "stream",
          "name": "stdout",
          "text": [
            "Extracting /Datasets/MNIST/raw/t10k-images-idx3-ubyte.gz to /Datasets/MNIST/raw\n",
            "\n",
            "Downloading http://yann.lecun.com/exdb/mnist/t10k-labels-idx1-ubyte.gz\n",
            "Downloading http://yann.lecun.com/exdb/mnist/t10k-labels-idx1-ubyte.gz to /Datasets/MNIST/raw/t10k-labels-idx1-ubyte.gz\n"
          ]
        },
        {
          "output_type": "display_data",
          "data": {
            "text/plain": [
              "  0%|          | 0/4542 [00:00<?, ?it/s]"
            ],
            "application/vnd.jupyter.widget-view+json": {
              "version_major": 2,
              "version_minor": 0,
              "model_id": "8730b707926f4cc1a2bce0881ab4a21d"
            }
          },
          "metadata": {}
        },
        {
          "output_type": "stream",
          "name": "stdout",
          "text": [
            "Extracting /Datasets/MNIST/raw/t10k-labels-idx1-ubyte.gz to /Datasets/MNIST/raw\n",
            "\n"
          ]
        }
      ],
      "source": [
        "dataset = MNIST(root='/Datasets', download=True, transform=ToTensor())"
      ]
    },
    {
      "cell_type": "markdown",
      "id": "grand-spread",
      "metadata": {
        "id": "grand-spread"
      },
      "source": [
        "Let's look at a couple of images from the dataset. The images are converted to PyTorch tensors with the shape `1x28x28` (the dimensions represent color channels, width and height). We can use `plt.imshow` to display the images. However, `plt.imshow` expects channels to be last dimension in an image tensor, so we use the `permute` method to reorder the dimensions of the image."
      ]
    },
    {
      "cell_type": "code",
      "execution_count": 3,
      "id": "private-potential",
      "metadata": {
        "colab": {
          "base_uri": "https://localhost:8080/",
          "height": 300
        },
        "id": "private-potential",
        "outputId": "39be1846-5eef-4199-9b1e-76de1013c44d"
      },
      "outputs": [
        {
          "output_type": "stream",
          "name": "stdout",
          "text": [
            "Image Shape:  torch.Size([1, 28, 28])\n",
            "Label: 5\n"
          ]
        },
        {
          "output_type": "display_data",
          "data": {
            "text/plain": [
              "<Figure size 432x288 with 1 Axes>"
            ],
            "image/png": "[encoded data removed]"
          },
          "metadata": {
            "needs_background": "light"
          }
        }
      ],
      "source": [
        "image, label = dataset[0]\n",
        "print('Image Shape: ', image.shape)\n",
        "plt.imshow(image.permute(1,2,0), cmap='gray')\n",
        "print('Label:', label)"
      ]
    },
    {
      "cell_type": "code",
      "execution_count": 4,
      "id": "color-replication",
      "metadata": {
        "colab": {
          "base_uri": "https://localhost:8080/",
          "height": 300
        },
        "id": "color-replication",
        "outputId": "883bf916-7fe3-4b5b-e1a3-ddeef1968b42"
      },
      "outputs": [
        {
          "output_type": "stream",
          "name": "stdout",
          "text": [
            "Image Shape:  torch.Size([1, 28, 28])\n",
            "Label: 4\n"
          ]
        },
        {
          "output_type": "display_data",
          "data": {
            "text/plain": [
              "<Figure size 432x288 with 1 Axes>"
            ],
            "image/png": "[encoded data removed]"
          },
          "metadata": {
            "needs_background": "light"
          }
        }
      ],
      "source": [
        "image, label = dataset[9]\n",
        "print('Image Shape: ', image.shape)\n",
        "plt.imshow(image.permute(1,2,0), cmap='gray')\n",
        "print('Label:', label)"
      ]
    },
    {
      "cell_type": "markdown",
      "id": "communist-ocean",
      "metadata": {
        "id": "communist-ocean"
      },
      "source": [
        "Next, let's use the `random_split` helper function to set aside 10000 images for our validation set."
      ]
    },
    {
      "cell_type": "code",
      "execution_count": 5,
      "id": "extensive-preference",
      "metadata": {
        "colab": {
          "base_uri": "https://localhost:8080/"
        },
        "id": "extensive-preference",
        "outputId": "121a3049-5036-4a9e-9068-099a9a289d55"
      },
      "outputs": [
        {
          "output_type": "stream",
          "name": "stdout",
          "text": [
            "50000 10000\n"
          ]
        }
      ],
      "source": [
        "valid_size = 10_000\n",
        "train_size = len(dataset) - valid_size\n",
        "\n",
        "train_ds, valid_ds = random_split(dataset, [train_size, valid_size])\n",
        "print(len(train_ds), len(valid_ds))"
      ]
    },
    {
      "cell_type": "markdown",
      "id": "affecting-cosmetic",
      "metadata": {
        "id": "affecting-cosmetic"
      },
      "source": [
        "We can now create PyTorch data loaders for training and validation."
      ]
    },
    {
      "cell_type": "code",
      "execution_count": 6,
      "id": "spatial-lease",
      "metadata": {
        "id": "spatial-lease"
      },
      "outputs": [],
      "source": [
        "batch_size = 128\n",
        "\n",
        "train_dl = DataLoader(train_ds, batch_size, shuffle=True, num_workers=2, pin_memory=True)\n",
        "valid_dl = DataLoader(valid_ds, batch_size*2, num_workers=2, pin_memory=True)"
      ]
    },
    {
      "cell_type": "markdown",
      "id": "prepared-conversation",
      "metadata": {
        "id": "prepared-conversation"
      },
      "source": [
        "Can you figure out the purpose of the arguments `num_workers` and `pin_memory`? Try looking into the documentation: https://pytorch.org/docs/stable/data.html.\n",
        "\n",
        "* num_workers (int, optional) – how many subprocesses to use for data loading. 0 means that the data will be loaded in the main process. (default: 0)\n",
        "* pin_memory (bool, optional) – If True, the data loader will copy Tensors into CUDA pinned memory before returning them. If your data elements are a custom type, or your collate_fn returns a batch that is a custom type, see the example below.\n",
        "\n",
        "Let's visualize a batch of data in a grid using the `make_grid` function from `torchvision`. We'll also use the `.permute` method on the tensor to move the channels to the last dimension, as expected by `matplotlib`."
      ]
    },
    {
      "cell_type": "code",
      "execution_count": 7,
      "id": "broadband-ethernet",
      "metadata": {
        "colab": {
          "base_uri": "https://localhost:8080/",
          "height": 328
        },
        "id": "broadband-ethernet",
        "outputId": "2d1d8684-0e68-4ef2-ef33-c016f1a20d41"
      },
      "outputs": [
        {
          "output_type": "stream",
          "name": "stdout",
          "text": [
            "Images Shape: torch.Size([128, 1, 28, 28])\n"
          ]
        },
        {
          "output_type": "display_data",
          "data": {
            "text/plain": [
              "<Figure size 720x720 with 1 Axes>"
            ],
            "image/png": "[encoded data removed]"
          },
          "metadata": {
            "needs_background": "light"
          }
        }
      ],
      "source": [
        "for images, _ in train_dl:\n",
        "    print(\"Images Shape:\", images.shape)\n",
        "    plt.figure(figsize=(10, 10))\n",
        "    plt.axis(\"off\")\n",
        "    plt.imshow(make_grid(images, nrow=16).permute(1,2,0))\n",
        "    break"
      ]
    },
    {
      "cell_type": "markdown",
      "id": "subjective-belly",
      "metadata": {
        "id": "subjective-belly"
      },
      "source": [
        "## Hidden Layers, Activation Functions and Non-Linearity\n",
        "\n",
        "We'll create a neural network with two layers: a _hidden layer_ and an _output layer_. Additionally, we'll use an _activation function_ between the two layers. Let's look at a step-by-step example to learn how hidden layers and activation functions can help capture non-linear relationships between inputs and outputs.\n",
        "\n",
        "First, let's create a batch of inputs tensors. We'll flatten the `1x28x28` images into vectors of size `784`, so they can be passed into an `nn.Linear` object."
      ]
    },
    {
      "cell_type": "code",
      "execution_count": 8,
      "id": "greatest-prophet",
      "metadata": {
        "colab": {
          "base_uri": "https://localhost:8080/"
        },
        "id": "greatest-prophet",
        "outputId": "fa0cbc34-f5d1-439b-e405-b708ed30d4f5"
      },
      "outputs": [
        {
          "output_type": "stream",
          "name": "stdout",
          "text": [
            "Image shape:  torch.Size([128, 1, 28, 28])\n",
            "Image shape:  torch.Size([128, 784])\n"
          ]
        }
      ],
      "source": [
        "for images, labels in train_dl:\n",
        "    print(\"Image shape: \", images.shape)\n",
        "    inputs = images.reshape(-1, 28*28)\n",
        "    print(\"Image shape: \", inputs.shape)\n",
        "    break"
      ]
    },
    {
      "cell_type": "markdown",
      "id": "fixed-classic",
      "metadata": {
        "id": "fixed-classic"
      },
      "source": [
        "Next, let's create a `nn.Linear` object, which will serve as our _hidden_ layer. We'll set the size of the output from the hidden layer to 32. This number can be increased or decreased to change the _learning capacity_ of the model."
      ]
    },
    {
      "cell_type": "code",
      "execution_count": 9,
      "id": "cellular-armor",
      "metadata": {
        "id": "cellular-armor"
      },
      "outputs": [],
      "source": [
        "input_size = inputs.shape[-1]\n",
        "hidden_size = 32\n",
        "\n",
        "layer_1 = nn.Linear(input_size, hidden_size)"
      ]
    },
    {
      "cell_type": "markdown",
      "id": "naval-average",
      "metadata": {
        "id": "naval-average"
      },
      "source": [
        "We can now compute intermediate outputs for the batch of images by passing `inputs` through `layer1`."
      ]
    },
    {
      "cell_type": "code",
      "execution_count": 10,
      "id": "front-tribune",
      "metadata": {
        "colab": {
          "base_uri": "https://localhost:8080/"
        },
        "id": "front-tribune",
        "outputId": "844e7560-dc71-4cb9-cebd-9fb9368b6e57"
      },
      "outputs": [
        {
          "output_type": "stream",
          "name": "stdout",
          "text": [
            "layer_1 output shape:  torch.Size([128, 32])\n"
          ]
        }
      ],
      "source": [
        "layer_1_outputs = layer_1(inputs)\n",
        "print(\"layer_1 output shape: \", layer_1_outputs.shape)"
      ]
    },
    {
      "cell_type": "markdown",
      "id": "greatest-starter",
      "metadata": {
        "id": "greatest-starter"
      },
      "source": [
        "The image vectors of size `784` are transformed into intermediate output vectors of length `32` by performing a matrix multiplication of `inputs` matrix with the transposed weights matrix of `layer1` and adding the bias. We can verify this using `torch.allclose`. For a more detailed explanation, review the tutorial on [linear regression](https://jovian.ai/aakashns/02-linear-regression)."
      ]
    },
    {
      "cell_type": "code",
      "execution_count": 11,
      "id": "pacific-teaching",
      "metadata": {
        "colab": {
          "base_uri": "https://localhost:8080/"
        },
        "id": "pacific-teaching",
        "outputId": "d856bc28-1e46-42e1-fd4e-cee9208a8843"
      },
      "outputs": [
        {
          "output_type": "stream",
          "name": "stdout",
          "text": [
            "torch.Size([128, 32])\n"
          ]
        }
      ],
      "source": [
        "layer_1_outputs_direct = inputs @ layer_1.weight.t() + layer_1.bias\n",
        "print(layer_1_outputs_direct.shape)"
      ]
    },
    {
      "cell_type": "code",
      "execution_count": 12,
      "id": "polar-hollywood",
      "metadata": {
        "colab": {
          "base_uri": "https://localhost:8080/"
        },
        "id": "polar-hollywood",
        "outputId": "5531a6ba-4b3a-49cb-efa0-f93ba8bcda9c"
      },
      "outputs": [
        {
          "output_type": "stream",
          "name": "stdout",
          "text": [
            "True\n"
          ]
        }
      ],
      "source": [
        "print(torch.allclose(layer_1_outputs_direct, layer_1_outputs))"
      ]
    },
    {
      "cell_type": "markdown",
      "id": "earned-tragedy",
      "metadata": {
        "id": "earned-tragedy"
      },
      "source": [
        "Thus, `layer1_outputs` and `inputs` have a linear relationship, i.e., each element of `layer_outputs` is a weighted sum of elements from `inputs`. Thus, even as we train the model and modify the weights, `layer1` can only capture linear relationships between `inputs` and `outputs`.\n",
        "\n",
        "<img src=\"https://i.imgur.com/inXsLuq.png\" width=\"360\">\n",
        "\n",
        "\n",
        "Next, we'll use the Rectified Linear Unit (ReLU) function as the activation function for the outputs. It has the formula `relu(x) = max(0,x)` i.e. it simply replaces negative values in a given tensor with the value 0. ReLU is a non-linear function, as seen here visually:\n",
        "\n",
        "<img src=\"https://i.imgur.com/yijV4xF.png\" width=\"420\">\n",
        "\n",
        "We can use the `F.relu` method to apply ReLU to the elements of a tensor."
      ]
    },
    {
      "cell_type": "code",
      "execution_count": 13,
      "id": "simplified-packing",
      "metadata": {
        "colab": {
          "base_uri": "https://localhost:8080/"
        },
        "id": "simplified-packing",
        "outputId": "7c5a5636-538d-4ac9-9f0e-68f47d600b0a"
      },
      "outputs": [
        {
          "output_type": "stream",
          "name": "stdout",
          "text": [
            "tensor([0, 2, 0, 9])\n"
          ]
        }
      ],
      "source": [
        "print(F.relu(torch.tensor([-1, 2, -3, 9])))"
      ]
    },
    {
      "cell_type": "markdown",
      "id": "complete-director",
      "metadata": {
        "id": "complete-director"
      },
      "source": [
        "Let's apply the activation function to `layer1_outputs` and verify that negative values were replaced with 0."
      ]
    },
    {
      "cell_type": "code",
      "execution_count": 14,
      "id": "derived-alert",
      "metadata": {
        "colab": {
          "base_uri": "https://localhost:8080/"
        },
        "id": "derived-alert",
        "outputId": "351da1a4-5ccc-4084-844f-88b624cfa54a"
      },
      "outputs": [
        {
          "output_type": "stream",
          "name": "stdout",
          "text": [
            "min(layer_1_direct_outputs) -0.8941729664802551\n",
            "min(layer_1_outputs) 0.0\n"
          ]
        }
      ],
      "source": [
        "relu_outputs = F.relu(layer_1_outputs)\n",
        "print(\"min(layer_1_direct_outputs)\", torch.min(layer_1_outputs_direct).item())\n",
        "print(\"min(layer_1_outputs)\", torch.min(relu_outputs).item())"
      ]
    },
    {
      "cell_type": "markdown",
      "id": "found-beverage",
      "metadata": {
        "id": "found-beverage"
      },
      "source": [
        "Now that we've applied a non-linear activation function, `relu_outputs` and `inputs` do not have a linear relationship. We refer to `ReLU` as the _activation function_, because for each input certain outputs are activated (those with non-zero values) while others turned off (those with zero values)\n",
        "\n",
        "Next, let's create an output layer to convert vectors of length `hidden_size` in `relu_outputs` into vectors of length 10, which is the desired output of our model (since there are 10 target labels)."
      ]
    },
    {
      "cell_type": "code",
      "execution_count": 15,
      "id": "refined-asthma",
      "metadata": {
        "colab": {
          "base_uri": "https://localhost:8080/"
        },
        "id": "refined-asthma",
        "outputId": "44fd4197-f9ed-4fac-eb87-9034e89f2418"
      },
      "outputs": [
        {
          "output_type": "stream",
          "name": "stdout",
          "text": [
            "torch.Size([128, 10])\n"
          ]
        }
      ],
      "source": [
        "output_size = 10\n",
        "layer_2 = nn.Linear(hidden_size, output_size)\n",
        "\n",
        "layer_2_outputs = layer_2(relu_outputs)\n",
        "print(layer_2_outputs.shape)"
      ]
    },
    {
      "cell_type": "markdown",
      "id": "handled-marina",
      "metadata": {
        "id": "handled-marina"
      },
      "source": [
        "As expected, `layer2_outputs` contains a batch of vectors of size 10. We can now use this output to compute the loss using `F.cross_entropy` and adjust the weights of `layer1` and `layer2` using gradient descent."
      ]
    },
    {
      "cell_type": "code",
      "execution_count": 16,
      "id": "banned-pillow",
      "metadata": {
        "colab": {
          "base_uri": "https://localhost:8080/"
        },
        "id": "banned-pillow",
        "outputId": "943c90c2-6eec-46cb-ba32-09d069f36774"
      },
      "outputs": [
        {
          "output_type": "stream",
          "name": "stdout",
          "text": [
            "tensor(2.3095, grad_fn=<NllLossBackward0>)\n"
          ]
        }
      ],
      "source": [
        "print(F.cross_entropy(layer_2_outputs, labels))"
      ]
    },
    {
      "cell_type": "markdown",
      "id": "brave-fiber",
      "metadata": {
        "id": "brave-fiber"
      },
      "source": [
        "Thus, our model transforms `inputs` into `layer2_outputs` by applying a linear transformation (using `layer1`), followed by a non-linear activation (using `F.relu`), followed by another linear transformation (using `layer2`). Let's verify this by re-computing the output using basic matrix operations."
      ]
    },
    {
      "cell_type": "code",
      "execution_count": 17,
      "id": "sharp-limit",
      "metadata": {
        "colab": {
          "base_uri": "https://localhost:8080/"
        },
        "id": "sharp-limit",
        "outputId": "8c1b3954-ba12-451d-9c0b-042569218353"
      },
      "outputs": [
        {
          "output_type": "stream",
          "name": "stdout",
          "text": [
            "torch.Size([128, 10])\n"
          ]
        }
      ],
      "source": [
        "outputs = F.relu((inputs @ layer_1.weight.t() + layer_1.bias)) @ layer_2.weight.t() + layer_2.bias\n",
        "print(outputs.shape)"
      ]
    },
    {
      "cell_type": "code",
      "execution_count": 18,
      "id": "sapphire-still",
      "metadata": {
        "colab": {
          "base_uri": "https://localhost:8080/"
        },
        "id": "sapphire-still",
        "outputId": "f10af3e5-19d1-4451-bd2f-e89924dbf50d"
      },
      "outputs": [
        {
          "output_type": "stream",
          "name": "stdout",
          "text": [
            "True\n"
          ]
        }
      ],
      "source": [
        "print(torch.allclose(outputs, layer_2_outputs))"
      ]
    },
    {
      "cell_type": "markdown",
      "id": "retired-insider",
      "metadata": {
        "id": "retired-insider"
      },
      "source": [
        "Note that `outputs` and `inputs` do not have a linear relationship due to the non-linear activation function `F.relu`. As we train the model and adjust the weights of `layer1` and `layer2`, we can now capture non-linear relationships between the images and their labels. In other words, introducing non-linearity makes the model more powerful and versatile. Also, since `hidden_size` does not depend on the dimensions of the inputs or outputs, we vary it to increase the number of parameters within the model. We can also introduce new hidden layers and apply the same non-linear activation after each hidden layer.\n",
        "\n",
        "The model we just created is called a neural network. A _deep neural network_ is simply a neural network with one or more hidden layers. In fact, the [Universal Approximation Theorem](http://neuralnetworksanddeeplearning.com/chap4.html) states that a sufficiently large & deep neural network can compute any arbitrary function i.e. it can _learn_ rich and complex non-linear relationships between inputs and targets. Here are some examples:\n",
        "\n",
        "* Identifying if an image contains a cat or a dog (or [something else](https://machinelearningmastery.com/introduction-to-the-imagenet-large-scale-visual-recognition-challenge-ilsvrc/))\n",
        "* Identifying the genre of a song using a 10-second sample\n",
        "* Classifying movie reviews as positive or negative based on their content\n",
        "* Navigating self-driving cars using a video feed of the road\n",
        "* Translating sentences from English to French (and hundreds of other languages)\n",
        "* Converting a speech recording to text and vice versa\n",
        "* And many more...\n",
        "\n",
        "It's hard to imagine how the simple process of multiplying inputs with randomly initialized matrices, applying non-linear activations, and adjusting weights repeatedly using gradient descent can yield such astounding results. Deep learning models often contain millions of parameters, which can together capture far more complex relationships than the human brain can comprehend.\n",
        "\n",
        "If we hadn't included a non-linear activation between the two linear layers, the final relationship between inputs and outputs would still be linear. A simple refactoring of the computations illustrates this."
      ]
    },
    {
      "cell_type": "markdown",
      "id": "empirical-threat",
      "metadata": {
        "id": "empirical-threat"
      },
      "source": [
        "## Model\n",
        "\n",
        "We are now ready to define our model. As discussed above, we'll create a neural network with one hidden layer. Here's what that means:\n",
        "\n",
        "* Instead of using a single `nn.Linear` object to transform a batch of inputs (pixel intensities) into outputs (class probabilities), we'll use two `nn.Linear` objects. Each of these is called a _layer_ in the network. \n",
        "\n",
        "* The first layer (also known as the hidden layer) will transform the input matrix of shape `batch_size x 784` into an intermediate output matrix of shape `batch_size x hidden_size`. The parameter `hidden_size` can be configured manually (e.g., 32 or 64).\n",
        "\n",
        "* We'll then apply a non-linear *activation function* to the intermediate outputs. The activation function transforms individual elements of the matrix.\n",
        "\n",
        "* The result of the activation function, which is also of size `batch_size x hidden_size`, is passed into the second layer (also known as the output layer).  The second layer transforms it into a matrix of size `batch_size x 10`. We can use this output to compute the loss and adjust weights using gradient descent.\n",
        "\n",
        "\n",
        "As discussed above, our model will contain one hidden layer. Here's what it looks like visually:\n",
        "\n",
        "<img src=\"https://i.imgur.com/eN7FrpF.png\" width=\"480\">\n",
        "\n",
        "\n",
        "We also need to define an `accuracy` function which calculates the accuracy of the model's prediction on an batch of inputs. It's used in `validation_step` above."
      ]
    },
    {
      "cell_type": "code",
      "execution_count": 112,
      "id": "contemporary-entity",
      "metadata": {
        "id": "contemporary-entity"
      },
      "outputs": [],
      "source": [
        "def accuracy(model_out, labels):\n",
        "    _, preds = torch.max(model_out, dim=1)\n",
        "    return torch.sum(preds == labels) / labels.numel()"
      ]
    },
    {
      "cell_type": "markdown",
      "id": "liked-affiliate",
      "metadata": {
        "id": "liked-affiliate"
      },
      "source": [
        "Let's define the model by extending the `nn.Module` class from PyTorch."
      ]
    },
    {
      "cell_type": "code",
      "execution_count": 113,
      "id": "impressed-branch",
      "metadata": {
        "id": "impressed-branch"
      },
      "outputs": [],
      "source": [
        "class MNIST_model(nn.Module):\n",
        "    def __init__(self, in_size, hid_size, out_size):\n",
        "        super().__init__()\n",
        "        # hidden layer\n",
        "        self.linear_1 = nn.Linear(in_size, hid_size)\n",
        "        # output layer\n",
        "        self.linear_2 = nn.Linear(hid_size, out_size)\n",
        "        \n",
        "    def __call__(self, input_batch):\n",
        "        # Cutting the channel dimension\n",
        "        input_batch = input_batch.view(input_batch.size(0), -1)\n",
        "        # Feed the batch into the hidden layer\n",
        "        out = self.linear_1(input_batch).to(device)\n",
        "        # Apply non linearity\n",
        "        out = F.relu(out).to(device)\n",
        "        # Feed the non linear data into the output layer\n",
        "        out = self.linear_2(out).to(device)\n",
        "        return out\n",
        "    \n",
        "    def training_step(self, batch):\n",
        "        # Unpacking the batch elements\n",
        "        input_batch, output_batch = batch\n",
        "        # Getting the predictions\n",
        "        out = self(input_batch)\n",
        "        # Calculate loss\n",
        "        loss = F.cross_entropy(out, output_batch)\n",
        "        return loss\n",
        "    \n",
        "    def validation_step(self, batch):\n",
        "        # Unpacking the batch elements\n",
        "        input_batch, output_batch = batch\n",
        "        # Generating predictions\n",
        "        out = self(input_batch)\n",
        "        # Calculate loss and accuracy\n",
        "        loss = F.cross_entropy(out, output_batch)\n",
        "        acc = accuracy(out, output_batch)\n",
        "        return {\"valid_batch_loss\": loss.item(), \"valid_batch_acc\": acc.item()}\n",
        "    \n",
        "    def validation_end(self, results):\n",
        "        # Computing the average loss and accuracy of the validation batch\n",
        "        avg_loss = torch.tensor([x[\"valid_batch_loss\"] for x in results]).mean()\n",
        "        avg_acc = torch.tensor([x[\"valid_batch_acc\"] for x in results]).mean()\n",
        "        return {\"valid_loss\": avg_loss.item(), \"valid_acc\": avg_acc.item()}\n",
        "    \n",
        "    def epoch_end(self, epoch, results):\n",
        "        # Return the results\n",
        "        return {\"Epoch\": epoch, \"Loss\": results[\"valid_loss\"], \"Acc\": results[\"valid_acc\"]}\n",
        "    \n",
        "\n",
        "model = MNIST_model(input_size, hidden_size, output_size)"
      ]
    },
    {
      "cell_type": "markdown",
      "id": "agreed-batch",
      "metadata": {
        "id": "agreed-batch"
      },
      "source": [
        "Let's take a look at the model's parameters. We expect to see one weight and bias matrix for each of the layers."
      ]
    },
    {
      "cell_type": "code",
      "execution_count": 114,
      "id": "christian-closer",
      "metadata": {
        "colab": {
          "base_uri": "https://localhost:8080/"
        },
        "id": "christian-closer",
        "outputId": "f2d9ee2f-6872-4b61-c3d3-bb4ef65347a7"
      },
      "outputs": [
        {
          "output_type": "stream",
          "name": "stdout",
          "text": [
            "torch.Size([32, 784])\n",
            "cpu\n",
            "torch.Size([32])\n",
            "cpu\n",
            "torch.Size([10, 32])\n",
            "cpu\n",
            "torch.Size([10])\n",
            "cpu\n"
          ]
        }
      ],
      "source": [
        "for w in model.parameters():\n",
        "    print(w.shape)\n",
        "    print(w.device)"
      ]
    },
    {
      "cell_type": "markdown",
      "id": "floppy-chemistry",
      "metadata": {
        "id": "floppy-chemistry"
      },
      "source": [
        "## Using a GPU\n",
        "\n",
        "As the sizes of our models and datasets increase, we need to use GPUs to train our models within a reasonable amount of time. GPUs contain hundreds of cores optimized for performing expensive matrix operations on floating-point numbers quickly, making them ideal for training deep neural networks. You can use GPUs for free on [Google Colab](https://colab.research.google.com/) and [Kaggle](https://www.kaggle.com/kernels) or rent GPU-powered machines on services like [Google Cloud Platform](https://cloud.google.com/gpu/), [Amazon Web Services](https://docs.aws.amazon.com/dlami/latest/devguide/gpu.html), and [Paperspace](https://www.paperspace.com/).\n",
        "\n",
        "We can check if a GPU is available and the required NVIDIA CUDA drivers are installed using `torch.cuda.is_available`."
      ]
    },
    {
      "cell_type": "code",
      "execution_count": 115,
      "id": "vanilla-words",
      "metadata": {
        "colab": {
          "base_uri": "https://localhost:8080/"
        },
        "id": "vanilla-words",
        "outputId": "80005530-9b90-4e92-838b-629100c7810c"
      },
      "outputs": [
        {
          "output_type": "stream",
          "name": "stdout",
          "text": [
            "True\n"
          ]
        }
      ],
      "source": [
        "print(torch.cuda.is_available())"
      ]
    },
    {
      "cell_type": "markdown",
      "id": "bronze-somewhere",
      "metadata": {
        "id": "bronze-somewhere"
      },
      "source": [
        "Let's define a helper function to ensure that our code uses the GPU if available and defaults to using the CPU if it isn't. "
      ]
    },
    {
      "cell_type": "code",
      "execution_count": 116,
      "id": "virgin-vermont",
      "metadata": {
        "id": "virgin-vermont"
      },
      "outputs": [],
      "source": [
        "def default_device():\n",
        "    # Selecting GPU if is available else CPU\n",
        "    if torch.cuda.is_available():\n",
        "        return torch.device(\"cuda\")\n",
        "    \n",
        "    return torch.device(\"cpu\")"
      ]
    },
    {
      "cell_type": "code",
      "execution_count": 117,
      "id": "multiple-clothing",
      "metadata": {
        "colab": {
          "base_uri": "https://localhost:8080/"
        },
        "id": "multiple-clothing",
        "outputId": "01f8d237-cebf-4b1a-ec88-35ab7abc6a83"
      },
      "outputs": [
        {
          "output_type": "stream",
          "name": "stdout",
          "text": [
            "cuda\n"
          ]
        }
      ],
      "source": [
        "device = default_device()\n",
        "print(device)"
      ]
    },
    {
      "cell_type": "markdown",
      "id": "virtual-assembly",
      "metadata": {
        "id": "virtual-assembly"
      },
      "source": [
        "Next, let's define a function that can move data and model to a chosen device."
      ]
    },
    {
      "cell_type": "code",
      "execution_count": 118,
      "id": "green-portuguese",
      "metadata": {
        "id": "green-portuguese"
      },
      "outputs": [],
      "source": [
        "def to_device(device, data):\n",
        "    if isinstance(data, (list, tuple)):\n",
        "        return [to_device(device, x) for x in data]\n",
        "    \n",
        "    return data.to(device, non_blocking=True) # For pin memory"
      ]
    },
    {
      "cell_type": "code",
      "execution_count": 119,
      "id": "faced-permit",
      "metadata": {
        "colab": {
          "base_uri": "https://localhost:8080/"
        },
        "id": "faced-permit",
        "outputId": "cc3a93a1-fe8d-4f5c-a8e1-61cefbb84cb1"
      },
      "outputs": [
        {
          "output_type": "stream",
          "name": "stdout",
          "text": [
            "torch.Size([128, 1, 28, 28])\n",
            "torch.Size([128, 1, 28, 28])\n",
            "cuda:0\n"
          ]
        }
      ],
      "source": [
        "for images, labels in train_dl:\n",
        "    print(images.shape)\n",
        "    images = to_device(device, images)\n",
        "    print(images.shape)\n",
        "    print(images.device)\n",
        "    break"
      ]
    },
    {
      "cell_type": "markdown",
      "id": "sustainable-business",
      "metadata": {
        "id": "sustainable-business"
      },
      "source": [
        "Finally, we define a `DeviceDataLoader` class to wrap our existing data loaders and move batches of data to the selected device. Interestingly, we don't need to extend an existing class to create a PyTorch datal oader. All we need is an `__iter__` method to retrieve batches of data and an `__len__` method to get the number of batches."
      ]
    },
    {
      "cell_type": "code",
      "execution_count": 120,
      "id": "brief-walter",
      "metadata": {
        "id": "brief-walter"
      },
      "outputs": [],
      "source": [
        "class DeviceDataLoader:\n",
        "    def __init__(self, loader, device):\n",
        "        # Class atributs\n",
        "        self.loader = loader\n",
        "        self.device = device\n",
        "        \n",
        "    def __iter__(self):\n",
        "        # Tranfering each batch to device one by one, with yield, iteration after iteration.\n",
        "        for batch in self.loader:\n",
        "            yield to_device(self.device, batch)\n",
        "            \n",
        "    def __len__(self):\n",
        "        # Getting the number of batches\n",
        "        return len(self.loader)"
      ]
    },
    {
      "cell_type": "markdown",
      "id": "equivalent-fountain",
      "metadata": {
        "id": "equivalent-fountain"
      },
      "source": [
        "We can now wrap our data loaders using `DeviceDataLoader`."
      ]
    },
    {
      "cell_type": "code",
      "execution_count": 121,
      "id": "controversial-israeli",
      "metadata": {
        "id": "controversial-israeli"
      },
      "outputs": [],
      "source": [
        "train_loader = DeviceDataLoader(train_dl, device)\n",
        "valid_loader = DeviceDataLoader(valid_dl, device)"
      ]
    },
    {
      "cell_type": "markdown",
      "id": "herbal-puppy",
      "metadata": {
        "id": "herbal-puppy"
      },
      "source": [
        "Tensors moved to the GPU have a `device` property which includes that word `cuda`. Let's verify this by looking at a batch of data from `valid_dl`."
      ]
    },
    {
      "cell_type": "code",
      "execution_count": 122,
      "id": "ethical-document",
      "metadata": {
        "colab": {
          "base_uri": "https://localhost:8080/"
        },
        "id": "ethical-document",
        "outputId": "1adcf82e-2c92-4d44-e62e-f98eec9c6141"
      },
      "outputs": [
        {
          "output_type": "stream",
          "name": "stdout",
          "text": [
            "cuda:0\n",
            "tensor([3, 3, 4, 0, 2, 3, 0, 7, 0, 0, 6, 6, 4, 5, 1, 1, 2, 6, 4, 4, 1, 1, 4, 4,\n",
            "        5, 0, 6, 5, 9, 2, 4, 1, 8, 7, 3, 4, 2, 0, 8, 1, 9, 7, 9, 3, 9, 3, 9, 2,\n",
            "        5, 3, 2, 9, 7, 4, 9, 7, 3, 4, 8, 0, 0, 3, 6, 7, 6, 9, 6, 4, 1, 9, 8, 5,\n",
            "        2, 6, 7, 4, 2, 8, 0, 0, 0, 5, 7, 5, 1, 0, 5, 1, 6, 6, 5, 5, 5, 7, 7, 6,\n",
            "        2, 9, 2, 5, 2, 7, 3, 8, 5, 4, 7, 3, 5, 5, 9, 6, 8, 6, 5, 0, 4, 3, 2, 7,\n",
            "        8, 0, 2, 9, 6, 6, 6, 3], device='cuda:0')\n",
            "cuda:0\n"
          ]
        }
      ],
      "source": [
        "for batch_input, batch_output in train_loader:\n",
        "    print(batch_output.device)\n",
        "    print(batch_output)\n",
        "    break\n",
        "    \n",
        "for batch in train_loader:\n",
        "    print(batch[0].device)\n",
        "    break"
      ]
    },
    {
      "cell_type": "markdown",
      "id": "suffering-quarter",
      "metadata": {
        "id": "suffering-quarter"
      },
      "source": [
        "## Training the Model\n",
        "\n",
        "We'll define two functions: `fit` and `evaluate` to train the model using gradient descent and evaluate its performance on the validation set. For a detailed walkthrough of these functions, check out the [previous tutorial](https://jovian.ai/aakashns/03-logistic-regression)."
      ]
    },
    {
      "cell_type": "code",
      "execution_count": 123,
      "id": "ready-technical",
      "metadata": {
        "id": "ready-technical"
      },
      "outputs": [],
      "source": [
        "def evaluate(model, val_loader):\n",
        "    # Evaluating the model base on the validation data loader (calculating loss and acc)\n",
        "    results = [model.validation_step(batch) for batch in val_loader]\n",
        "    return model.validation_end(results)"
      ]
    },
    {
      "cell_type": "code",
      "execution_count": 124,
      "id": "artistic-wrestling",
      "metadata": {
        "id": "artistic-wrestling"
      },
      "outputs": [],
      "source": [
        "def fit(model, epochs, lr, trian_loader, valid_loader, opt_fn=torch.optim.SGD):\n",
        "    history = []\n",
        "    opt = opt_fn(model.parameters(), lr)\n",
        "    for epoch in range(epochs):\n",
        "        for batch in trian_loader:\n",
        "            loss = model.training_step(batch)\n",
        "            loss.backward()\n",
        "            opt.step()\n",
        "            opt.zero_grad()\n",
        "            \n",
        "        results = evaluate(model, valid_loader)\n",
        "        epoch_results = model.epoch_end(epoch+1, results)\n",
        "        history.append(epoch_results)\n",
        "        \n",
        "        print({\"Epoch\": epoch+1, \"Loss\": epoch_results[\"Loss\"], \"Acc\": epoch_results[\"Acc\"]})\n",
        "        \n",
        "    return history"
      ]
    },
    {
      "cell_type": "markdown",
      "id": "approved-football",
      "metadata": {
        "id": "approved-football"
      },
      "source": [
        "Before we train the model, we need to ensure that the data and the model's parameters (weights and biases) are on the same device (CPU or GPU). We can reuse the `to_device` function to move the model's parameters to the right device. "
      ]
    },
    {
      "cell_type": "code",
      "execution_count": 125,
      "id": "connected-sending",
      "metadata": {
        "colab": {
          "base_uri": "https://localhost:8080/"
        },
        "id": "connected-sending",
        "outputId": "1b6042a1-8b84-4c37-c83b-3f52a9cdf2ab"
      },
      "outputs": [
        {
          "output_type": "stream",
          "name": "stdout",
          "text": [
            "MNIST_model(\n",
            "  (linear_1): Linear(in_features=784, out_features=32, bias=True)\n",
            "  (linear_2): Linear(in_features=32, out_features=10, bias=True)\n",
            ")\n",
            "torch.Size([32, 784])\n",
            "cuda:0\n",
            "torch.Size([32])\n",
            "cuda:0\n",
            "torch.Size([10, 32])\n",
            "cuda:0\n",
            "torch.Size([10])\n",
            "cuda:0\n"
          ]
        }
      ],
      "source": [
        "print(model.to(device))\n",
        "\n",
        "for w in model.parameters():\n",
        "    print(w.shape)\n",
        "    print(w.device)"
      ]
    },
    {
      "cell_type": "markdown",
      "id": "curious-kernel",
      "metadata": {
        "id": "curious-kernel"
      },
      "source": [
        "Let's see how the model performs on the validation set with the initial set of weights and biases."
      ]
    },
    {
      "cell_type": "code",
      "execution_count": 126,
      "id": "following-refrigerator",
      "metadata": {
        "colab": {
          "base_uri": "https://localhost:8080/"
        },
        "id": "following-refrigerator",
        "outputId": "84feb783-e21a-4b01-ea54-f615f5529788"
      },
      "outputs": [
        {
          "output_type": "stream",
          "name": "stdout",
          "text": [
            "{'valid_loss': 2.312669277191162, 'valid_acc': 0.10605468600988388}\n"
          ]
        }
      ],
      "source": [
        "history = evaluate(model, valid_loader)\n",
        "print(history)"
      ]
    },
    {
      "cell_type": "code",
      "execution_count": 127,
      "id": "becoming-moment",
      "metadata": {
        "colab": {
          "base_uri": "https://localhost:8080/"
        },
        "id": "becoming-moment",
        "outputId": "12a55009-e27d-4b3c-e52a-a9eace8bc752"
      },
      "outputs": [
        {
          "output_type": "stream",
          "name": "stdout",
          "text": [
            "{'Epoch': 1, 'Loss': 0.23149247467517853, 'Acc': 0.931640625}\n",
            "{'Epoch': 2, 'Loss': 0.178511381149292, 'Acc': 0.944531261920929}\n",
            "{'Epoch': 3, 'Loss': 0.15071341395378113, 'Acc': 0.953320324420929}\n",
            "{'Epoch': 4, 'Loss': 0.14981164038181305, 'Acc': 0.9581054449081421}\n",
            "{'Epoch': 5, 'Loss': 0.15704019367694855, 'Acc': 0.9541015625}\n"
          ]
        }
      ],
      "source": [
        "history1 = fit(model, 5, 0.5, train_loader, valid_loader)"
      ]
    },
    {
      "cell_type": "code",
      "execution_count": 128,
      "id": "federal-wallace",
      "metadata": {
        "colab": {
          "base_uri": "https://localhost:8080/"
        },
        "id": "federal-wallace",
        "outputId": "74438c53-f768-4d03-da7e-7cdda132700d"
      },
      "outputs": [
        {
          "output_type": "stream",
          "name": "stdout",
          "text": [
            "{'Epoch': 1, 'Loss': 0.11592230945825577, 'Acc': 0.965624988079071}\n",
            "{'Epoch': 2, 'Loss': 0.11440898478031158, 'Acc': 0.966601550579071}\n",
            "{'Epoch': 3, 'Loss': 0.1162281185388565, 'Acc': 0.9647461175918579}\n",
            "{'Epoch': 4, 'Loss': 0.11342022567987442, 'Acc': 0.9673827886581421}\n",
            "{'Epoch': 5, 'Loss': 0.11404174566268921, 'Acc': 0.965527355670929}\n"
          ]
        }
      ],
      "source": [
        "history2 = fit(model, 5, 0.1, train_loader, valid_loader)"
      ]
    },
    {
      "cell_type": "code",
      "execution_count": 129,
      "id": "square-advice",
      "metadata": {
        "colab": {
          "base_uri": "https://localhost:8080/"
        },
        "id": "square-advice",
        "outputId": "7509e436-d844-491a-b651-17c3c22cf092"
      },
      "outputs": [
        {
          "output_type": "stream",
          "name": "stdout",
          "text": [
            "{'Epoch': 1, 'Loss': 0.11088816821575165, 'Acc': 0.9673827886581421}\n",
            "{'Epoch': 2, 'Loss': 0.11121080815792084, 'Acc': 0.966796875}\n",
            "{'Epoch': 3, 'Loss': 0.11049813032150269, 'Acc': 0.9676758050918579}\n",
            "{'Epoch': 4, 'Loss': 0.10961411893367767, 'Acc': 0.9671875238418579}\n",
            "{'Epoch': 5, 'Loss': 0.1098627895116806, 'Acc': 0.96728515625}\n"
          ]
        }
      ],
      "source": [
        "history3 = fit(model, 5, 0.05, train_loader, valid_loader)"
      ]
    },
    {
      "cell_type": "code",
      "execution_count": 130,
      "id": "outstanding-findings",
      "metadata": {
        "id": "outstanding-findings"
      },
      "outputs": [],
      "source": [
        "h = history1 + history2 + history3"
      ]
    },
    {
      "cell_type": "code",
      "execution_count": 131,
      "id": "fifty-threat",
      "metadata": {
        "colab": {
          "base_uri": "https://localhost:8080/"
        },
        "id": "fifty-threat",
        "outputId": "4f7d4a34-d58a-4825-b330-e540e6240ca2"
      },
      "outputs": [
        {
          "output_type": "stream",
          "name": "stdout",
          "text": [
            "[{'Epoch': 1, 'Loss': 0.23149247467517853, 'Acc': 0.931640625}, {'Epoch': 2, 'Loss': 0.178511381149292, 'Acc': 0.944531261920929}, {'Epoch': 3, 'Loss': 0.15071341395378113, 'Acc': 0.953320324420929}, {'Epoch': 4, 'Loss': 0.14981164038181305, 'Acc': 0.9581054449081421}, {'Epoch': 5, 'Loss': 0.15704019367694855, 'Acc': 0.9541015625}, {'Epoch': 1, 'Loss': 0.11592230945825577, 'Acc': 0.965624988079071}, {'Epoch': 2, 'Loss': 0.11440898478031158, 'Acc': 0.966601550579071}, {'Epoch': 3, 'Loss': 0.1162281185388565, 'Acc': 0.9647461175918579}, {'Epoch': 4, 'Loss': 0.11342022567987442, 'Acc': 0.9673827886581421}, {'Epoch': 5, 'Loss': 0.11404174566268921, 'Acc': 0.965527355670929}, {'Epoch': 1, 'Loss': 0.11088816821575165, 'Acc': 0.9673827886581421}, {'Epoch': 2, 'Loss': 0.11121080815792084, 'Acc': 0.966796875}, {'Epoch': 3, 'Loss': 0.11049813032150269, 'Acc': 0.9676758050918579}, {'Epoch': 4, 'Loss': 0.10961411893367767, 'Acc': 0.9671875238418579}, {'Epoch': 5, 'Loss': 0.1098627895116806, 'Acc': 0.96728515625}]\n"
          ]
        }
      ],
      "source": [
        "print(h)"
      ]
    },
    {
      "cell_type": "markdown",
      "id": "normal-crowd",
      "metadata": {
        "id": "normal-crowd"
      },
      "source": [
        "We can now plot the losses & accuracies to study how the model improves over time."
      ]
    },
    {
      "cell_type": "code",
      "execution_count": 132,
      "id": "similar-germany",
      "metadata": {
        "colab": {
          "base_uri": "https://localhost:8080/",
          "height": 265
        },
        "id": "similar-germany",
        "outputId": "0feb705d-b68e-4b23-bc82-f8b4ad74c815"
      },
      "outputs": [
        {
          "output_type": "display_data",
          "data": {
            "text/plain": [
              "<Figure size 432x288 with 1 Axes>"
            ],
            "image/png": "[encoded data removed]"
          },
          "metadata": {
            "needs_background": "light"
          }
        }
      ],
      "source": [
        "accuracies = [x[\"Acc\"] for x in h]\n",
        "plt.plot(accuracies)\n",
        "plt.show()"
      ]
    },
    {
      "cell_type": "code",
      "execution_count": 133,
      "id": "champion-placement",
      "metadata": {
        "colab": {
          "base_uri": "https://localhost:8080/",
          "height": 265
        },
        "id": "champion-placement",
        "outputId": "e75e121e-808a-4be7-f859-b68cc25f1f28"
      },
      "outputs": [
        {
          "output_type": "display_data",
          "data": {
            "text/plain": [
              "<Figure size 432x288 with 1 Axes>"
            ],
            "image/png": "[encoded data removed]"
          },
          "metadata": {
            "needs_background": "light"
          }
        }
      ],
      "source": [
        "accuracies = [x[\"Loss\"] for x in h]\n",
        "plt.plot(accuracies)\n",
        "plt.show()"
      ]
    },
    {
      "cell_type": "markdown",
      "id": "convenient-plymouth",
      "metadata": {
        "id": "convenient-plymouth"
      },
      "source": [
        "Our current model outperforms the logistic regression model (which could only achieve around 86% accuracy) by a considerable margin! It quickly reaches an accuracy of 97% but doesn't improve much beyond this. To improve accuracy further, we need to make the model more powerful by increasing the hidden layer's size or adding more hidden layers with activations. I encourage you to try out both these approaches and see which one works better."
      ]
    },
    {
      "cell_type": "markdown",
      "id": "spread-conspiracy",
      "metadata": {
        "id": "spread-conspiracy"
      },
      "source": [
        "## Testing with individual images\n",
        "\n",
        "While we have been tracking the overall accuracy of a model so far, it's also a good idea to look at model's results on some sample images. Let's test out our model with some images from the predefined test dataset of 10000 images. We begin by recreating the test dataset with the `ToTensor` transform."
      ]
    },
    {
      "cell_type": "code",
      "execution_count": 134,
      "id": "blind-klein",
      "metadata": {
        "id": "blind-klein"
      },
      "outputs": [],
      "source": [
        "test_ds = MNIST(root='/Datasets', train=False, transform=ToTensor())"
      ]
    },
    {
      "cell_type": "markdown",
      "id": "sized-threshold",
      "metadata": {
        "id": "sized-threshold"
      },
      "source": [
        "Let's define a helper function `predict_image`, which returns the predicted label for a single image tensor."
      ]
    },
    {
      "cell_type": "code",
      "execution_count": 135,
      "id": "instant-burlington",
      "metadata": {
        "id": "instant-burlington"
      },
      "outputs": [],
      "source": [
        "def predict_image(image, model):\n",
        "    image = to_device(device, image.unsqueeze(0))\n",
        "    output = model(image)\n",
        "    _, pred = torch.max(output, dim=1)\n",
        "    return pred.item()"
      ]
    },
    {
      "cell_type": "code",
      "execution_count": 136,
      "id": "gorgeous-subscriber",
      "metadata": {
        "colab": {
          "base_uri": "https://localhost:8080/",
          "height": 282
        },
        "id": "gorgeous-subscriber",
        "outputId": "006515d5-f086-4c35-c268-d127de046571"
      },
      "outputs": [
        {
          "output_type": "stream",
          "name": "stdout",
          "text": [
            "Label:  1 Predicted:  1\n"
          ]
        },
        {
          "output_type": "display_data",
          "data": {
            "text/plain": [
              "<Figure size 432x288 with 1 Axes>"
            ],
            "image/png": "[encoded data removed]"
          },
          "metadata": {
            "needs_background": "light"
          }
        }
      ],
      "source": [
        "img, label = test_ds[180]\n",
        "pred = predict_image(img, model)\n",
        "print(\"Label: \", label, \"Predicted: \", pred)\n",
        "plt.imshow(img[0], cmap=\"gray\")\n",
        "plt.show()"
      ]
    }
  ],
  "metadata": {
    "kernelspec": {
      "display_name": "Python 3",
      "language": "python",
      "name": "python3"
    },
    "language_info": {
      "codemirror_mode": {
        "name": "ipython",
        "version": 3
      },
      "file_extension": ".py",
      "mimetype": "text/x-python",
      "name": "python",
      "nbconvert_exporter": "python",
      "pygments_lexer": "ipython3",
      "version": "3.8.5"
    },
    "colab": {
      "provenance": []
    },
    "accelerator": "GPU",
    "gpuClass": "standard",
    "widgets": {
      "application/vnd.jupyter.widget-state+json": {
        "2c5f6c8558da41bba69c55c15a1f4838": {
          "model_module": "@jupyter-widgets/controls",
          "model_name": "HBoxModel",
          "model_module_version": "1.5.0",
          "state": {
            "_dom_classes": [],
            "_model_module": "@jupyter-widgets/controls",
            "_model_module_version": "1.5.0",
            "_model_name": "HBoxModel",
            "_view_count": null,
            "_view_module": "@jupyter-widgets/controls",
            "_view_module_version": "1.5.0",
            "_view_name": "HBoxView",
            "box_style": "",
            "children": [
              "IPY_MODEL_ea3906f29a2045c4aed89432fb2520ba",
              "IPY_MODEL_aa3dc08f30d548a88a4986ccebacd9d0",
              "IPY_MODEL_f872947846db4db0893ddc6ca461f8cd"
            ],
            "layout": "IPY_MODEL_6bfbbfc15b974152b430d594d0a1337a"
          }
        },
        "ea3906f29a2045c4aed89432fb2520ba": {
          "model_module": "@jupyter-widgets/controls",
          "model_name": "HTMLModel",
          "model_module_version": "1.5.0",
          "state": {
            "_dom_classes": [],
            "_model_module": "@jupyter-widgets/controls",
            "_model_module_version": "1.5.0",
            "_model_name": "HTMLModel",
            "_view_count": null,
            "_view_module": "@jupyter-widgets/controls",
            "_view_module_version": "1.5.0",
            "_view_name": "HTMLView",
            "description": "",
            "description_tooltip": null,
            "layout": "IPY_MODEL_529cad96e6db418a9394165515b7db9c",
            "placeholder": "​",
            "style": "IPY_MODEL_6eae1ff4f72f45cd8bd7faf204bfc345",
            "value": "100%"
          }
        },
        "aa3dc08f30d548a88a4986ccebacd9d0": {
          "model_module": "@jupyter-widgets/controls",
          "model_name": "FloatProgressModel",
          "model_module_version": "1.5.0",
          "state": {
            "_dom_classes": [],
            "_model_module": "@jupyter-widgets/controls",
            "_model_module_version": "1.5.0",
            "_model_name": "FloatProgressModel",
            "_view_count": null,
            "_view_module": "@jupyter-widgets/controls",
            "_view_module_version": "1.5.0",
            "_view_name": "ProgressView",
            "bar_style": "success",
            "description": "",
            "description_tooltip": null,
            "layout": "IPY_MODEL_da908a7b0f7d4a1b9ee15d440b799c7c",
            "max": 9912422,
            "min": 0,
            "orientation": "horizontal",
            "style": "IPY_MODEL_f35d037d2d7a460ebe4c168a302cf851",
            "value": 9912422
          }
        },
        "f872947846db4db0893ddc6ca461f8cd": {
          "model_module": "@jupyter-widgets/controls",
          "model_name": "HTMLModel",
          "model_module_version": "1.5.0",
          "state": {
            "_dom_classes": [],
            "_model_module": "@jupyter-widgets/controls",
            "_model_module_version": "1.5.0",
            "_model_name": "HTMLModel",
            "_view_count": null,
            "_view_module": "@jupyter-widgets/controls",
            "_view_module_version": "1.5.0",
            "_view_name": "HTMLView",
            "description": "",
            "description_tooltip": null,
            "layout": "IPY_MODEL_128a160793824444937356fd2ed168ed",
            "placeholder": "​",
            "style": "IPY_MODEL_c4414d15ac1041fca33fb347c88b183f",
            "value": " 9912422/9912422 [00:00&lt;00:00, 52575552.09it/s]"
          }
        },
        "6bfbbfc15b974152b430d594d0a1337a": {
          "model_module": "@jupyter-widgets/base",
          "model_name": "LayoutModel",
          "model_module_version": "1.2.0",
          "state": {
            "_model_module": "@jupyter-widgets/base",
            "_model_module_version": "1.2.0",
            "_model_name": "LayoutModel",
            "_view_count": null,
            "_view_module": "@jupyter-widgets/base",
            "_view_module_version": "1.2.0",
            "_view_name": "LayoutView",
            "align_content": null,
            "align_items": null,
            "align_self": null,
            "border": null,
            "bottom": null,
            "display": null,
            "flex": null,
            "flex_flow": null,
            "grid_area": null,
            "grid_auto_columns": null,
            "grid_auto_flow": null,
            "grid_auto_rows": null,
            "grid_column": null,
            "grid_gap": null,
            "grid_row": null,
            "grid_template_areas": null,
            "grid_template_columns": null,
            "grid_template_rows": null,
            "height": null,
            "justify_content": null,
            "justify_items": null,
            "left": null,
            "margin": null,
            "max_height": null,
            "max_width": null,
            "min_height": null,
            "min_width": null,
            "object_fit": null,
            "object_position": null,
            "order": null,
            "overflow": null,
            "overflow_x": null,
            "overflow_y": null,
            "padding": null,
            "right": null,
            "top": null,
            "visibility": null,
            "width": null
          }
        },
        "529cad96e6db418a9394165515b7db9c": {
          "model_module": "@jupyter-widgets/base",
          "model_name": "LayoutModel",
          "model_module_version": "1.2.0",
          "state": {
            "_model_module": "@jupyter-widgets/base",
            "_model_module_version": "1.2.0",
            "_model_name": "LayoutModel",
            "_view_count": null,
            "_view_module": "@jupyter-widgets/base",
            "_view_module_version": "1.2.0",
            "_view_name": "LayoutView",
            "align_content": null,
            "align_items": null,
            "align_self": null,
            "border": null,
            "bottom": null,
            "display": null,
            "flex": null,
            "flex_flow": null,
            "grid_area": null,
            "grid_auto_columns": null,
            "grid_auto_flow": null,
            "grid_auto_rows": null,
            "grid_column": null,
            "grid_gap": null,
            "grid_row": null,
            "grid_template_areas": null,
            "grid_template_columns": null,
            "grid_template_rows": null,
            "height": null,
            "justify_content": null,
            "justify_items": null,
            "left": null,
            "margin": null,
            "max_height": null,
            "max_width": null,
            "min_height": null,
            "min_width": null,
            "object_fit": null,
            "object_position": null,
            "order": null,
            "overflow": null,
            "overflow_x": null,
            "overflow_y": null,
            "padding": null,
            "right": null,
            "top": null,
            "visibility": null,
            "width": null
          }
        },
        "6eae1ff4f72f45cd8bd7faf204bfc345": {
          "model_module": "@jupyter-widgets/controls",
          "model_name": "DescriptionStyleModel",
          "model_module_version": "1.5.0",
          "state": {
            "_model_module": "@jupyter-widgets/controls",
            "_model_module_version": "1.5.0",
            "_model_name": "DescriptionStyleModel",
            "_view_count": null,
            "_view_module": "@jupyter-widgets/base",
            "_view_module_version": "1.2.0",
            "_view_name": "StyleView",
            "description_width": ""
          }
        },
        "da908a7b0f7d4a1b9ee15d440b799c7c": {
          "model_module": "@jupyter-widgets/base",
          "model_name": "LayoutModel",
          "model_module_version": "1.2.0",
          "state": {
            "_model_module": "@jupyter-widgets/base",
            "_model_module_version": "1.2.0",
            "_model_name": "LayoutModel",
            "_view_count": null,
            "_view_module": "@jupyter-widgets/base",
            "_view_module_version": "1.2.0",
            "_view_name": "LayoutView",
            "align_content": null,
            "align_items": null,
            "align_self": null,
            "border": null,
            "bottom": null,
            "display": null,
            "flex": null,
            "flex_flow": null,
            "grid_area": null,
            "grid_auto_columns": null,
            "grid_auto_flow": null,
            "grid_auto_rows": null,
            "grid_column": null,
            "grid_gap": null,
            "grid_row": null,
            "grid_template_areas": null,
            "grid_template_columns": null,
            "grid_template_rows": null,
            "height": null,
            "justify_content": null,
            "justify_items": null,
            "left": null,
            "margin": null,
            "max_height": null,
            "max_width": null,
            "min_height": null,
            "min_width": null,
            "object_fit": null,
            "object_position": null,
            "order": null,
            "overflow": null,
            "overflow_x": null,
            "overflow_y": null,
            "padding": null,
            "right": null,
            "top": null,
            "visibility": null,
            "width": null
          }
        },
        "f35d037d2d7a460ebe4c168a302cf851": {
          "model_module": "@jupyter-widgets/controls",
          "model_name": "ProgressStyleModel",
          "model_module_version": "1.5.0",
          "state": {
            "_model_module": "@jupyter-widgets/controls",
            "_model_module_version": "1.5.0",
            "_model_name": "ProgressStyleModel",
            "_view_count": null,
            "_view_module": "@jupyter-widgets/base",
            "_view_module_version": "1.2.0",
            "_view_name": "StyleView",
            "bar_color": null,
            "description_width": ""
          }
        },
        "128a160793824444937356fd2ed168ed": {
          "model_module": "@jupyter-widgets/base",
          "model_name": "LayoutModel",
          "model_module_version": "1.2.0",
          "state": {
            "_model_module": "@jupyter-widgets/base",
            "_model_module_version": "1.2.0",
            "_model_name": "LayoutModel",
            "_view_count": null,
            "_view_module": "@jupyter-widgets/base",
            "_view_module_version": "1.2.0",
            "_view_name": "LayoutView",
            "align_content": null,
            "align_items": null,
            "align_self": null,
            "border": null,
            "bottom": null,
            "display": null,
            "flex": null,
            "flex_flow": null,
            "grid_area": null,
            "grid_auto_columns": null,
            "grid_auto_flow": null,
            "grid_auto_rows": null,
            "grid_column": null,
            "grid_gap": null,
            "grid_row": null,
            "grid_template_areas": null,
            "grid_template_columns": null,
            "grid_template_rows": null,
            "height": null,
            "justify_content": null,
            "justify_items": null,
            "left": null,
            "margin": null,
            "max_height": null,
            "max_width": null,
            "min_height": null,
            "min_width": null,
            "object_fit": null,
            "object_position": null,
            "order": null,
            "overflow": null,
            "overflow_x": null,
            "overflow_y": null,
            "padding": null,
            "right": null,
            "top": null,
            "visibility": null,
            "width": null
          }
        },
        "c4414d15ac1041fca33fb347c88b183f": {
          "model_module": "@jupyter-widgets/controls",
          "model_name": "DescriptionStyleModel",
          "model_module_version": "1.5.0",
          "state": {
            "_model_module": "@jupyter-widgets/controls",
            "_model_module_version": "1.5.0",
            "_model_name": "DescriptionStyleModel",
            "_view_count": null,
            "_view_module": "@jupyter-widgets/base",
            "_view_module_version": "1.2.0",
            "_view_name": "StyleView",
            "description_width": ""
          }
        },
        "8a43f19a8a484f0d8afe16bef76b8919": {
          "model_module": "@jupyter-widgets/controls",
          "model_name": "HBoxModel",
          "model_module_version": "1.5.0",
          "state": {
            "_dom_classes": [],
            "_model_module": "@jupyter-widgets/controls",
            "_model_module_version": "1.5.0",
            "_model_name": "HBoxModel",
            "_view_count": null,
            "_view_module": "@jupyter-widgets/controls",
            "_view_module_version": "1.5.0",
            "_view_name": "HBoxView",
            "box_style": "",
            "children": [
              "IPY_MODEL_c19f03edfdee4feca1f325bb6be38069",
              "IPY_MODEL_937dadd5a0054dc4911c050a3b4962c2",
              "IPY_MODEL_6255e9877c6d40c69e3e2a8e8ef0eae1"
            ],
            "layout": "IPY_MODEL_6ffaba650a1743e185b50f03559a5bf6"
          }
        },
        "c19f03edfdee4feca1f325bb6be38069": {
          "model_module": "@jupyter-widgets/controls",
          "model_name": "HTMLModel",
          "model_module_version": "1.5.0",
          "state": {
            "_dom_classes": [],
            "_model_module": "@jupyter-widgets/controls",
            "_model_module_version": "1.5.0",
            "_model_name": "HTMLModel",
            "_view_count": null,
            "_view_module": "@jupyter-widgets/controls",
            "_view_module_version": "1.5.0",
            "_view_name": "HTMLView",
            "description": "",
            "description_tooltip": null,
            "layout": "IPY_MODEL_4b45e1b2db0c42008c0a663f1720cf81",
            "placeholder": "​",
            "style": "IPY_MODEL_00f81778a0d6451d819fe367bb34dfbd",
            "value": "100%"
          }
        },
        "937dadd5a0054dc4911c050a3b4962c2": {
          "model_module": "@jupyter-widgets/controls",
          "model_name": "FloatProgressModel",
          "model_module_version": "1.5.0",
          "state": {
            "_dom_classes": [],
            "_model_module": "@jupyter-widgets/controls",
            "_model_module_version": "1.5.0",
            "_model_name": "FloatProgressModel",
            "_view_count": null,
            "_view_module": "@jupyter-widgets/controls",
            "_view_module_version": "1.5.0",
            "_view_name": "ProgressView",
            "bar_style": "success",
            "description": "",
            "description_tooltip": null,
            "layout": "IPY_MODEL_3b72c702a4a74f1fb698bcd0cd3eddfe",
            "max": 28881,
            "min": 0,
            "orientation": "horizontal",
            "style": "IPY_MODEL_9917d38ba5054491b33d5f61673c2ba6",
            "value": 28881
          }
        },
        "6255e9877c6d40c69e3e2a8e8ef0eae1": {
          "model_module": "@jupyter-widgets/controls",
          "model_name": "HTMLModel",
          "model_module_version": "1.5.0",
          "state": {
            "_dom_classes": [],
            "_model_module": "@jupyter-widgets/controls",
            "_model_module_version": "1.5.0",
            "_model_name": "HTMLModel",
            "_view_count": null,
            "_view_module": "@jupyter-widgets/controls",
            "_view_module_version": "1.5.0",
            "_view_name": "HTMLView",
            "description": "",
            "description_tooltip": null,
            "layout": "IPY_MODEL_1fd933bb6af14fc888599d948af90bee",
            "placeholder": "​",
            "style": "IPY_MODEL_3c03be976bf34fe6be90216b1f41e8d0",
            "value": " 28881/28881 [00:00&lt;00:00, 697814.39it/s]"
          }
        },
        "6ffaba650a1743e185b50f03559a5bf6": {
          "model_module": "@jupyter-widgets/base",
          "model_name": "LayoutModel",
          "model_module_version": "1.2.0",
          "state": {
            "_model_module": "@jupyter-widgets/base",
            "_model_module_version": "1.2.0",
            "_model_name": "LayoutModel",
            "_view_count": null,
            "_view_module": "@jupyter-widgets/base",
            "_view_module_version": "1.2.0",
            "_view_name": "LayoutView",
            "align_content": null,
            "align_items": null,
            "align_self": null,
            "border": null,
            "bottom": null,
            "display": null,
            "flex": null,
            "flex_flow": null,
            "grid_area": null,
            "grid_auto_columns": null,
            "grid_auto_flow": null,
            "grid_auto_rows": null,
            "grid_column": null,
            "grid_gap": null,
            "grid_row": null,
            "grid_template_areas": null,
            "grid_template_columns": null,
            "grid_template_rows": null,
            "height": null,
            "justify_content": null,
            "justify_items": null,
            "left": null,
            "margin": null,
            "max_height": null,
            "max_width": null,
            "min_height": null,
            "min_width": null,
            "object_fit": null,
            "object_position": null,
            "order": null,
            "overflow": null,
            "overflow_x": null,
            "overflow_y": null,
            "padding": null,
            "right": null,
            "top": null,
            "visibility": null,
            "width": null
          }
        },
        "4b45e1b2db0c42008c0a663f1720cf81": {
          "model_module": "@jupyter-widgets/base",
          "model_name": "LayoutModel",
          "model_module_version": "1.2.0",
          "state": {
            "_model_module": "@jupyter-widgets/base",
            "_model_module_version": "1.2.0",
            "_model_name": "LayoutModel",
            "_view_count": null,
            "_view_module": "@jupyter-widgets/base",
            "_view_module_version": "1.2.0",
            "_view_name": "LayoutView",
            "align_content": null,
            "align_items": null,
            "align_self": null,
            "border": null,
            "bottom": null,
            "display": null,
            "flex": null,
            "flex_flow": null,
            "grid_area": null,
            "grid_auto_columns": null,
            "grid_auto_flow": null,
            "grid_auto_rows": null,
            "grid_column": null,
            "grid_gap": null,
            "grid_row": null,
            "grid_template_areas": null,
            "grid_template_columns": null,
            "grid_template_rows": null,
            "height": null,
            "justify_content": null,
            "justify_items": null,
            "left": null,
            "margin": null,
            "max_height": null,
            "max_width": null,
            "min_height": null,
            "min_width": null,
            "object_fit": null,
            "object_position": null,
            "order": null,
            "overflow": null,
            "overflow_x": null,
            "overflow_y": null,
            "padding": null,
            "right": null,
            "top": null,
            "visibility": null,
            "width": null
          }
        },
        "00f81778a0d6451d819fe367bb34dfbd": {
          "model_module": "@jupyter-widgets/controls",
          "model_name": "DescriptionStyleModel",
          "model_module_version": "1.5.0",
          "state": {
            "_model_module": "@jupyter-widgets/controls",
            "_model_module_version": "1.5.0",
            "_model_name": "DescriptionStyleModel",
            "_view_count": null,
            "_view_module": "@jupyter-widgets/base",
            "_view_module_version": "1.2.0",
            "_view_name": "StyleView",
            "description_width": ""
          }
        },
        "3b72c702a4a74f1fb698bcd0cd3eddfe": {
          "model_module": "@jupyter-widgets/base",
          "model_name": "LayoutModel",
          "model_module_version": "1.2.0",
          "state": {
            "_model_module": "@jupyter-widgets/base",
            "_model_module_version": "1.2.0",
            "_model_name": "LayoutModel",
            "_view_count": null,
            "_view_module": "@jupyter-widgets/base",
            "_view_module_version": "1.2.0",
            "_view_name": "LayoutView",
            "align_content": null,
            "align_items": null,
            "align_self": null,
            "border": null,
            "bottom": null,
            "display": null,
            "flex": null,
            "flex_flow": null,
            "grid_area": null,
            "grid_auto_columns": null,
            "grid_auto_flow": null,
            "grid_auto_rows": null,
            "grid_column": null,
            "grid_gap": null,
            "grid_row": null,
            "grid_template_areas": null,
            "grid_template_columns": null,
            "grid_template_rows": null,
            "height": null,
            "justify_content": null,
            "justify_items": null,
            "left": null,
            "margin": null,
            "max_height": null,
            "max_width": null,
            "min_height": null,
            "min_width": null,
            "object_fit": null,
            "object_position": null,
            "order": null,
            "overflow": null,
            "overflow_x": null,
            "overflow_y": null,
            "padding": null,
            "right": null,
            "top": null,
            "visibility": null,
            "width": null
          }
        },
        "9917d38ba5054491b33d5f61673c2ba6": {
          "model_module": "@jupyter-widgets/controls",
          "model_name": "ProgressStyleModel",
          "model_module_version": "1.5.0",
          "state": {
            "_model_module": "@jupyter-widgets/controls",
            "_model_module_version": "1.5.0",
            "_model_name": "ProgressStyleModel",
            "_view_count": null,
            "_view_module": "@jupyter-widgets/base",
            "_view_module_version": "1.2.0",
            "_view_name": "StyleView",
            "bar_color": null,
            "description_width": ""
          }
        },
        "1fd933bb6af14fc888599d948af90bee": {
          "model_module": "@jupyter-widgets/base",
          "model_name": "LayoutModel",
          "model_module_version": "1.2.0",
          "state": {
            "_model_module": "@jupyter-widgets/base",
            "_model_module_version": "1.2.0",
            "_model_name": "LayoutModel",
            "_view_count": null,
            "_view_module": "@jupyter-widgets/base",
            "_view_module_version": "1.2.0",
            "_view_name": "LayoutView",
            "align_content": null,
            "align_items": null,
            "align_self": null,
            "border": null,
            "bottom": null,
            "display": null,
            "flex": null,
            "flex_flow": null,
            "grid_area": null,
            "grid_auto_columns": null,
            "grid_auto_flow": null,
            "grid_auto_rows": null,
            "grid_column": null,
            "grid_gap": null,
            "grid_row": null,
            "grid_template_areas": null,
            "grid_template_columns": null,
            "grid_template_rows": null,
            "height": null,
            "justify_content": null,
            "justify_items": null,
            "left": null,
            "margin": null,
            "max_height": null,
            "max_width": null,
            "min_height": null,
            "min_width": null,
            "object_fit": null,
            "object_position": null,
            "order": null,
            "overflow": null,
            "overflow_x": null,
            "overflow_y": null,
            "padding": null,
            "right": null,
            "top": null,
            "visibility": null,
            "width": null
          }
        },
        "3c03be976bf34fe6be90216b1f41e8d0": {
          "model_module": "@jupyter-widgets/controls",
          "model_name": "DescriptionStyleModel",
          "model_module_version": "1.5.0",
          "state": {
            "_model_module": "@jupyter-widgets/controls",
            "_model_module_version": "1.5.0",
            "_model_name": "DescriptionStyleModel",
            "_view_count": null,
            "_view_module": "@jupyter-widgets/base",
            "_view_module_version": "1.2.0",
            "_view_name": "StyleView",
            "description_width": ""
          }
        },
        "c8abf69153c2487395f9bf592ce6b9ba": {
          "model_module": "@jupyter-widgets/controls",
          "model_name": "HBoxModel",
          "model_module_version": "1.5.0",
          "state": {
            "_dom_classes": [],
            "_model_module": "@jupyter-widgets/controls",
            "_model_module_version": "1.5.0",
            "_model_name": "HBoxModel",
            "_view_count": null,
            "_view_module": "@jupyter-widgets/controls",
            "_view_module_version": "1.5.0",
            "_view_name": "HBoxView",
            "box_style": "",
            "children": [
              "IPY_MODEL_10fd2f787e0e4d2dac84376ee847ad6b",
              "IPY_MODEL_bbce63b2a8eb4677840adb5679eed4e6",
              "IPY_MODEL_adab6917aa3d44d9b5dee949e2342bab"
            ],
            "layout": "IPY_MODEL_ab7adca621fb480ebe6bb9de3d056165"
          }
        },
        "10fd2f787e0e4d2dac84376ee847ad6b": {
          "model_module": "@jupyter-widgets/controls",
          "model_name": "HTMLModel",
          "model_module_version": "1.5.0",
          "state": {
            "_dom_classes": [],
            "_model_module": "@jupyter-widgets/controls",
            "_model_module_version": "1.5.0",
            "_model_name": "HTMLModel",
            "_view_count": null,
            "_view_module": "@jupyter-widgets/controls",
            "_view_module_version": "1.5.0",
            "_view_name": "HTMLView",
            "description": "",
            "description_tooltip": null,
            "layout": "IPY_MODEL_4534e095ee3d474b8fcc42ee25cb3cb7",
            "placeholder": "​",
            "style": "IPY_MODEL_e9ce949869a9446f83c67c14c288a4f9",
            "value": "100%"
          }
        },
        "bbce63b2a8eb4677840adb5679eed4e6": {
          "model_module": "@jupyter-widgets/controls",
          "model_name": "FloatProgressModel",
          "model_module_version": "1.5.0",
          "state": {
            "_dom_classes": [],
            "_model_module": "@jupyter-widgets/controls",
            "_model_module_version": "1.5.0",
            "_model_name": "FloatProgressModel",
            "_view_count": null,
            "_view_module": "@jupyter-widgets/controls",
            "_view_module_version": "1.5.0",
            "_view_name": "ProgressView",
            "bar_style": "success",
            "description": "",
            "description_tooltip": null,
            "layout": "IPY_MODEL_39d3a0af6b214b84a744078579ec69d3",
            "max": 1648877,
            "min": 0,
            "orientation": "horizontal",
            "style": "IPY_MODEL_00a0af2fb5464647a14b46bb9fb385be",
            "value": 1648877
          }
        },
        "adab6917aa3d44d9b5dee949e2342bab": {
          "model_module": "@jupyter-widgets/controls",
          "model_name": "HTMLModel",
          "model_module_version": "1.5.0",
          "state": {
            "_dom_classes": [],
            "_model_module": "@jupyter-widgets/controls",
            "_model_module_version": "1.5.0",
            "_model_name": "HTMLModel",
            "_view_count": null,
            "_view_module": "@jupyter-widgets/controls",
            "_view_module_version": "1.5.0",
            "_view_name": "HTMLView",
            "description": "",
            "description_tooltip": null,
            "layout": "IPY_MODEL_799c79274ccd4ee6b576d0f20fb14576",
            "placeholder": "​",
            "style": "IPY_MODEL_cdcca03e32cc407096cdd3827fdad065",
            "value": " 1648877/1648877 [00:00&lt;00:00, 35065108.74it/s]"
          }
        },
        "ab7adca621fb480ebe6bb9de3d056165": {
          "model_module": "@jupyter-widgets/base",
          "model_name": "LayoutModel",
          "model_module_version": "1.2.0",
          "state": {
            "_model_module": "@jupyter-widgets/base",
            "_model_module_version": "1.2.0",
            "_model_name": "LayoutModel",
            "_view_count": null,
            "_view_module": "@jupyter-widgets/base",
            "_view_module_version": "1.2.0",
            "_view_name": "LayoutView",
            "align_content": null,
            "align_items": null,
            "align_self": null,
            "border": null,
            "bottom": null,
            "display": null,
            "flex": null,
            "flex_flow": null,
            "grid_area": null,
            "grid_auto_columns": null,
            "grid_auto_flow": null,
            "grid_auto_rows": null,
            "grid_column": null,
            "grid_gap": null,
            "grid_row": null,
            "grid_template_areas": null,
            "grid_template_columns": null,
            "grid_template_rows": null,
            "height": null,
            "justify_content": null,
            "justify_items": null,
            "left": null,
            "margin": null,
            "max_height": null,
            "max_width": null,
            "min_height": null,
            "min_width": null,
            "object_fit": null,
            "object_position": null,
            "order": null,
            "overflow": null,
            "overflow_x": null,
            "overflow_y": null,
            "padding": null,
            "right": null,
            "top": null,
            "visibility": null,
            "width": null
          }
        },
        "4534e095ee3d474b8fcc42ee25cb3cb7": {
          "model_module": "@jupyter-widgets/base",
          "model_name": "LayoutModel",
          "model_module_version": "1.2.0",
          "state": {
            "_model_module": "@jupyter-widgets/base",
            "_model_module_version": "1.2.0",
            "_model_name": "LayoutModel",
            "_view_count": null,
            "_view_module": "@jupyter-widgets/base",
            "_view_module_version": "1.2.0",
            "_view_name": "LayoutView",
            "align_content": null,
            "align_items": null,
            "align_self": null,
            "border": null,
            "bottom": null,
            "display": null,
            "flex": null,
            "flex_flow": null,
            "grid_area": null,
            "grid_auto_columns": null,
            "grid_auto_flow": null,
            "grid_auto_rows": null,
            "grid_column": null,
            "grid_gap": null,
            "grid_row": null,
            "grid_template_areas": null,
            "grid_template_columns": null,
            "grid_template_rows": null,
            "height": null,
            "justify_content": null,
            "justify_items": null,
            "left": null,
            "margin": null,
            "max_height": null,
            "max_width": null,
            "min_height": null,
            "min_width": null,
            "object_fit": null,
            "object_position": null,
            "order": null,
            "overflow": null,
            "overflow_x": null,
            "overflow_y": null,
            "padding": null,
            "right": null,
            "top": null,
            "visibility": null,
            "width": null
          }
        },
        "e9ce949869a9446f83c67c14c288a4f9": {
          "model_module": "@jupyter-widgets/controls",
          "model_name": "DescriptionStyleModel",
          "model_module_version": "1.5.0",
          "state": {
            "_model_module": "@jupyter-widgets/controls",
            "_model_module_version": "1.5.0",
            "_model_name": "DescriptionStyleModel",
            "_view_count": null,
            "_view_module": "@jupyter-widgets/base",
            "_view_module_version": "1.2.0",
            "_view_name": "StyleView",
            "description_width": ""
          }
        },
        "39d3a0af6b214b84a744078579ec69d3": {
          "model_module": "@jupyter-widgets/base",
          "model_name": "LayoutModel",
          "model_module_version": "1.2.0",
          "state": {
            "_model_module": "@jupyter-widgets/base",
            "_model_module_version": "1.2.0",
            "_model_name": "LayoutModel",
            "_view_count": null,
            "_view_module": "@jupyter-widgets/base",
            "_view_module_version": "1.2.0",
            "_view_name": "LayoutView",
            "align_content": null,
            "align_items": null,
            "align_self": null,
            "border": null,
            "bottom": null,
            "display": null,
            "flex": null,
            "flex_flow": null,
            "grid_area": null,
            "grid_auto_columns": null,
            "grid_auto_flow": null,
            "grid_auto_rows": null,
            "grid_column": null,
            "grid_gap": null,
            "grid_row": null,
            "grid_template_areas": null,
            "grid_template_columns": null,
            "grid_template_rows": null,
            "height": null,
            "justify_content": null,
            "justify_items": null,
            "left": null,
            "margin": null,
            "max_height": null,
            "max_width": null,
            "min_height": null,
            "min_width": null,
            "object_fit": null,
            "object_position": null,
            "order": null,
            "overflow": null,
            "overflow_x": null,
            "overflow_y": null,
            "padding": null,
            "right": null,
            "top": null,
            "visibility": null,
            "width": null
          }
        },
        "00a0af2fb5464647a14b46bb9fb385be": {
          "model_module": "@jupyter-widgets/controls",
          "model_name": "ProgressStyleModel",
          "model_module_version": "1.5.0",
          "state": {
            "_model_module": "@jupyter-widgets/controls",
            "_model_module_version": "1.5.0",
            "_model_name": "ProgressStyleModel",
            "_view_count": null,
            "_view_module": "@jupyter-widgets/base",
            "_view_module_version": "1.2.0",
            "_view_name": "StyleView",
            "bar_color": null,
            "description_width": ""
          }
        },
        "799c79274ccd4ee6b576d0f20fb14576": {
          "model_module": "@jupyter-widgets/base",
          "model_name": "LayoutModel",
          "model_module_version": "1.2.0",
          "state": {
            "_model_module": "@jupyter-widgets/base",
            "_model_module_version": "1.2.0",
            "_model_name": "LayoutModel",
            "_view_count": null,
            "_view_module": "@jupyter-widgets/base",
            "_view_module_version": "1.2.0",
            "_view_name": "LayoutView",
            "align_content": null,
            "align_items": null,
            "align_self": null,
            "border": null,
            "bottom": null,
            "display": null,
            "flex": null,
            "flex_flow": null,
            "grid_area": null,
            "grid_auto_columns": null,
            "grid_auto_flow": null,
            "grid_auto_rows": null,
            "grid_column": null,
            "grid_gap": null,
            "grid_row": null,
            "grid_template_areas": null,
            "grid_template_columns": null,
            "grid_template_rows": null,
            "height": null,
            "justify_content": null,
            "justify_items": null,
            "left": null,
            "margin": null,
            "max_height": null,
            "max_width": null,
            "min_height": null,
            "min_width": null,
            "object_fit": null,
            "object_position": null,
            "order": null,
            "overflow": null,
            "overflow_x": null,
            "overflow_y": null,
            "padding": null,
            "right": null,
            "top": null,
            "visibility": null,
            "width": null
          }
        },
        "cdcca03e32cc407096cdd3827fdad065": {
          "model_module": "@jupyter-widgets/controls",
          "model_name": "DescriptionStyleModel",
          "model_module_version": "1.5.0",
          "state": {
            "_model_module": "@jupyter-widgets/controls",
            "_model_module_version": "1.5.0",
            "_model_name": "DescriptionStyleModel",
            "_view_count": null,
            "_view_module": "@jupyter-widgets/base",
            "_view_module_version": "1.2.0",
            "_view_name": "StyleView",
            "description_width": ""
          }
        },
        "8730b707926f4cc1a2bce0881ab4a21d": {
          "model_module": "@jupyter-widgets/controls",
          "model_name": "HBoxModel",
          "model_module_version": "1.5.0",
          "state": {
            "_dom_classes": [],
            "_model_module": "@jupyter-widgets/controls",
            "_model_module_version": "1.5.0",
            "_model_name": "HBoxModel",
            "_view_count": null,
            "_view_module": "@jupyter-widgets/controls",
            "_view_module_version": "1.5.0",
            "_view_name": "HBoxView",
            "box_style": "",
            "children": [
              "IPY_MODEL_4f660894eef4486ea354976a764e9479",
              "IPY_MODEL_1a7cdc400c36498ca8feaada404d1ca1",
              "IPY_MODEL_96fac2e3b10a4e5dbb6cc1ad7fb4efb9"
            ],
            "layout": "IPY_MODEL_a9013f741d8b4c26b9b48c81d318a6cf"
          }
        },
        "4f660894eef4486ea354976a764e9479": {
          "model_module": "@jupyter-widgets/controls",
          "model_name": "HTMLModel",
          "model_module_version": "1.5.0",
          "state": {
            "_dom_classes": [],
            "_model_module": "@jupyter-widgets/controls",
            "_model_module_version": "1.5.0",
            "_model_name": "HTMLModel",
            "_view_count": null,
            "_view_module": "@jupyter-widgets/controls",
            "_view_module_version": "1.5.0",
            "_view_name": "HTMLView",
            "description": "",
            "description_tooltip": null,
            "layout": "IPY_MODEL_5dfa0f97c18e469c9b128b69f141b301",
            "placeholder": "​",
            "style": "IPY_MODEL_217fff03ce1d47cca18f61ee521a3b8d",
            "value": "100%"
          }
        },
        "1a7cdc400c36498ca8feaada404d1ca1": {
          "model_module": "@jupyter-widgets/controls",
          "model_name": "FloatProgressModel",
          "model_module_version": "1.5.0",
          "state": {
            "_dom_classes": [],
            "_model_module": "@jupyter-widgets/controls",
            "_model_module_version": "1.5.0",
            "_model_name": "FloatProgressModel",
            "_view_count": null,
            "_view_module": "@jupyter-widgets/controls",
            "_view_module_version": "1.5.0",
            "_view_name": "ProgressView",
            "bar_style": "success",
            "description": "",
            "description_tooltip": null,
            "layout": "IPY_MODEL_6aaa0bf8c767491aa1fb406cfb347756",
            "max": 4542,
            "min": 0,
            "orientation": "horizontal",
            "style": "IPY_MODEL_428feeb24e1545da88a7ef2d3026651c",
            "value": 4542
          }
        },
        "96fac2e3b10a4e5dbb6cc1ad7fb4efb9": {
          "model_module": "@jupyter-widgets/controls",
          "model_name": "HTMLModel",
          "model_module_version": "1.5.0",
          "state": {
            "_dom_classes": [],
            "_model_module": "@jupyter-widgets/controls",
            "_model_module_version": "1.5.0",
            "_model_name": "HTMLModel",
            "_view_count": null,
            "_view_module": "@jupyter-widgets/controls",
            "_view_module_version": "1.5.0",
            "_view_name": "HTMLView",
            "description": "",
            "description_tooltip": null,
            "layout": "IPY_MODEL_ae9cb5afaf9247e4a700773aae813bee",
            "placeholder": "​",
            "style": "IPY_MODEL_4eb80a3720d248fba7aa0efa60cbf59c",
            "value": " 4542/4542 [00:00&lt;00:00, 63799.07it/s]"
          }
        },
        "a9013f741d8b4c26b9b48c81d318a6cf": {
          "model_module": "@jupyter-widgets/base",
          "model_name": "LayoutModel",
          "model_module_version": "1.2.0",
          "state": {
            "_model_module": "@jupyter-widgets/base",
            "_model_module_version": "1.2.0",
            "_model_name": "LayoutModel",
            "_view_count": null,
            "_view_module": "@jupyter-widgets/base",
            "_view_module_version": "1.2.0",
            "_view_name": "LayoutView",
            "align_content": null,
            "align_items": null,
            "align_self": null,
            "border": null,
            "bottom": null,
            "display": null,
            "flex": null,
            "flex_flow": null,
            "grid_area": null,
            "grid_auto_columns": null,
            "grid_auto_flow": null,
            "grid_auto_rows": null,
            "grid_column": null,
            "grid_gap": null,
            "grid_row": null,
            "grid_template_areas": null,
            "grid_template_columns": null,
            "grid_template_rows": null,
            "height": null,
            "justify_content": null,
            "justify_items": null,
            "left": null,
            "margin": null,
            "max_height": null,
            "max_width": null,
            "min_height": null,
            "min_width": null,
            "object_fit": null,
            "object_position": null,
            "order": null,
            "overflow": null,
            "overflow_x": null,
            "overflow_y": null,
            "padding": null,
            "right": null,
            "top": null,
            "visibility": null,
            "width": null
          }
        },
        "5dfa0f97c18e469c9b128b69f141b301": {
          "model_module": "@jupyter-widgets/base",
          "model_name": "LayoutModel",
          "model_module_version": "1.2.0",
          "state": {
            "_model_module": "@jupyter-widgets/base",
            "_model_module_version": "1.2.0",
            "_model_name": "LayoutModel",
            "_view_count": null,
            "_view_module": "@jupyter-widgets/base",
            "_view_module_version": "1.2.0",
            "_view_name": "LayoutView",
            "align_content": null,
            "align_items": null,
            "align_self": null,
            "border": null,
            "bottom": null,
            "display": null,
            "flex": null,
            "flex_flow": null,
            "grid_area": null,
            "grid_auto_columns": null,
            "grid_auto_flow": null,
            "grid_auto_rows": null,
            "grid_column": null,
            "grid_gap": null,
            "grid_row": null,
            "grid_template_areas": null,
            "grid_template_columns": null,
            "grid_template_rows": null,
            "height": null,
            "justify_content": null,
            "justify_items": null,
            "left": null,
            "margin": null,
            "max_height": null,
            "max_width": null,
            "min_height": null,
            "min_width": null,
            "object_fit": null,
            "object_position": null,
            "order": null,
            "overflow": null,
            "overflow_x": null,
            "overflow_y": null,
            "padding": null,
            "right": null,
            "top": null,
            "visibility": null,
            "width": null
          }
        },
        "217fff03ce1d47cca18f61ee521a3b8d": {
          "model_module": "@jupyter-widgets/controls",
          "model_name": "DescriptionStyleModel",
          "model_module_version": "1.5.0",
          "state": {
            "_model_module": "@jupyter-widgets/controls",
            "_model_module_version": "1.5.0",
            "_model_name": "DescriptionStyleModel",
            "_view_count": null,
            "_view_module": "@jupyter-widgets/base",
            "_view_module_version": "1.2.0",
            "_view_name": "StyleView",
            "description_width": ""
          }
        },
        "6aaa0bf8c767491aa1fb406cfb347756": {
          "model_module": "@jupyter-widgets/base",
          "model_name": "LayoutModel",
          "model_module_version": "1.2.0",
          "state": {
            "_model_module": "@jupyter-widgets/base",
            "_model_module_version": "1.2.0",
            "_model_name": "LayoutModel",
            "_view_count": null,
            "_view_module": "@jupyter-widgets/base",
            "_view_module_version": "1.2.0",
            "_view_name": "LayoutView",
            "align_content": null,
            "align_items": null,
            "align_self": null,
            "border": null,
            "bottom": null,
            "display": null,
            "flex": null,
            "flex_flow": null,
            "grid_area": null,
            "grid_auto_columns": null,
            "grid_auto_flow": null,
            "grid_auto_rows": null,
            "grid_column": null,
            "grid_gap": null,
            "grid_row": null,
            "grid_template_areas": null,
            "grid_template_columns": null,
            "grid_template_rows": null,
            "height": null,
            "justify_content": null,
            "justify_items": null,
            "left": null,
            "margin": null,
            "max_height": null,
            "max_width": null,
            "min_height": null,
            "min_width": null,
            "object_fit": null,
            "object_position": null,
            "order": null,
            "overflow": null,
            "overflow_x": null,
            "overflow_y": null,
            "padding": null,
            "right": null,
            "top": null,
            "visibility": null,
            "width": null
          }
        },
        "428feeb24e1545da88a7ef2d3026651c": {
          "model_module": "@jupyter-widgets/controls",
          "model_name": "ProgressStyleModel",
          "model_module_version": "1.5.0",
          "state": {
            "_model_module": "@jupyter-widgets/controls",
            "_model_module_version": "1.5.0",
            "_model_name": "ProgressStyleModel",
            "_view_count": null,
            "_view_module": "@jupyter-widgets/base",
            "_view_module_version": "1.2.0",
            "_view_name": "StyleView",
            "bar_color": null,
            "description_width": ""
          }
        },
        "ae9cb5afaf9247e4a700773aae813bee": {
          "model_module": "@jupyter-widgets/base",
          "model_name": "LayoutModel",
          "model_module_version": "1.2.0",
          "state": {
            "_model_module": "@jupyter-widgets/base",
            "_model_module_version": "1.2.0",
            "_model_name": "LayoutModel",
            "_view_count": null,
            "_view_module": "@jupyter-widgets/base",
            "_view_module_version": "1.2.0",
            "_view_name": "LayoutView",
            "align_content": null,
            "align_items": null,
            "align_self": null,
            "border": null,
            "bottom": null,
            "display": null,
            "flex": null,
            "flex_flow": null,
            "grid_area": null,
            "grid_auto_columns": null,
            "grid_auto_flow": null,
            "grid_auto_rows": null,
            "grid_column": null,
            "grid_gap": null,
            "grid_row": null,
            "grid_template_areas": null,
            "grid_template_columns": null,
            "grid_template_rows": null,
            "height": null,
            "justify_content": null,
            "justify_items": null,
            "left": null,
            "margin": null,
            "max_height": null,
            "max_width": null,
            "min_height": null,
            "min_width": null,
            "object_fit": null,
            "object_position": null,
            "order": null,
            "overflow": null,
            "overflow_x": null,
            "overflow_y": null,
            "padding": null,
            "right": null,
            "top": null,
            "visibility": null,
            "width": null
          }
        },
        "4eb80a3720d248fba7aa0efa60cbf59c": {
          "model_module": "@jupyter-widgets/controls",
          "model_name": "DescriptionStyleModel",
          "model_module_version": "1.5.0",
          "state": {
            "_model_module": "@jupyter-widgets/controls",
            "_model_module_version": "1.5.0",
            "_model_name": "DescriptionStyleModel",
            "_view_count": null,
            "_view_module": "@jupyter-widgets/base",
            "_view_module_version": "1.2.0",
            "_view_name": "StyleView",
            "description_width": ""
          }
        }
      }
    }
  },
  "nbformat": 4,
  "nbformat_minor": 5
}