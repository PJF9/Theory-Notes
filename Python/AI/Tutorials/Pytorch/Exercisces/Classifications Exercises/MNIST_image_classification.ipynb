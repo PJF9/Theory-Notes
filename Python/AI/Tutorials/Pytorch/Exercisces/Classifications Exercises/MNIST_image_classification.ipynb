{
  "cells": [
    {
      "cell_type": "markdown",
      "id": "adapted-people",
      "metadata": {
        "id": "adapted-people"
      },
      "source": [
        "## Working with Images\n",
        "\n",
        "In this tutorial, we'll use our existing knowledge of PyTorch and linear regression to solve a very different kind of problem: *image classification*. We'll use the famous [*MNIST Handwritten Digits Database*](http://yann.lecun.com/exdb/mnist/) as our training dataset. It consists of 28px by 28px grayscale images of handwritten digits (0 to 9) and labels for each image indicating which digit it represents. Here are some sample images from the dataset:\n",
        "\n",
        "![mnist-sample](https://i.imgur.com/CAYnuo1.jpg)\n",
        "\n",
        "We begin by installing and importing `torch` and `torchvision`. `torchvision` contains some utilities for working with image data. It also provides helper classes to download and import popular datasets like MNIST automatically"
      ]
    },
    {
      "cell_type": "code",
      "execution_count": 1,
      "id": "weekly-diabetes",
      "metadata": {
        "id": "weekly-diabetes"
      },
      "outputs": [],
      "source": [
        "import torch\n",
        "import torchvision\n",
        "from torchvision.datasets import MNIST\n",
        "import torchvision.transforms as transforms # Converting each image of the dataset into a Tensor\n",
        "from torch.utils.data import random_split   # Splitting the dataset into training and validation samples\n",
        "from torch.utils.data import DataLoader     # Splitting the training and validations sets into batches\n",
        "import torch.nn as nn                       # For Neural Network companents\n",
        "import torch.nn.functional as F             # For softmax function and cross-entropy loss function\n",
        "import matplotlib.pyplot as plt"
      ]
    },
    {
      "cell_type": "code",
      "execution_count": 2,
      "id": "quality-actor",
      "metadata": {
        "colab": {
          "base_uri": "https://localhost:8080/",
          "height": 423,
          "referenced_widgets": [
            "ce5ab77cfb754197850d9bcf75d0983e",
            "6bddb0ad4dc84b5eb564012f1679174d",
            "144244d89ced487e91997a7a4b6c0a2e",
            "48913ea9a6264923828e34375f70ea01",
            "88e41be5d2eb4384b99483aed0c883fb",
            "3299f09513904d13afc29a9ea0c40456",
            "479554679c2946a198ab63abd835258b",
            "c715c23a7d224624882556c193d68080",
            "ec33e2d0b7dd471dbc1f0acbdc5dd874",
            "dfecd072f4b9444a8800aa72cb8aa009",
            "aa42e82970ce479a93c4aa7ddf5fb48c",
            "cf04ae026a7b4f698571454461fca21f",
            "358b7a3a368648bdbb047c7d08bbb267",
            "546a486d038c45a980acd2824fda6caa",
            "52f6b3a52e4b414da66d367700950eda",
            "6e11bb392e2f4eb5adc24df89d82eadc",
            "e6627dd2b58d4aa0bbc10312d1656026",
            "8562f092e8fd459cad806edf3bfc4777",
            "f888931cfe934244a29b1deb5191d3ad",
            "04c6e13d8b2442a5948eb3888651ef6b",
            "4400c025666f41639d97ee2d01f311ee",
            "9031654aefc94b2ea9ee71710278f00e",
            "c8960037502942d19dc9713930993c06",
            "375a3cbf32cc4eac830458f53e703d73",
            "c4c49c476ea2400d88b7a7a7ac8a5f5d",
            "ee598b8fdb004c3dbb5b6d644522b384",
            "5a167dabbf224a118cda81dc76ff7f4d",
            "81cbfa0c39604f789569d018eb214954",
            "5f8efe5d6aaf48a5a7f7426e1f30d15f",
            "68a0dca885bd4d7894da30721dd2b468",
            "87d673c0c581492b945f547e88c4a62a",
            "59cbc5fcfe7141b488cd42807bd4c667",
            "24b4e1fbaebf46cbb75c8cc3634bdb26",
            "88a78e6c611843b6a3832a60eb0bde51",
            "d7db31d58e304eea83781afbfced5460",
            "aecec7de30bb4a8db9788dbb990f081f",
            "b59ff83343d64882be1c359b7d22d207",
            "2f142e824319433d9f9a0987e7dabfdd",
            "91031bda2d044f3fb847e347e73e66d1",
            "4634d8b31fc348dbacd84fd8ea095049",
            "164b7ed1217e427f964aa289bcf973c9",
            "19f6a18c49bb42bf99648dcc959dbe63",
            "e0c2eb56c5834e1780192dea2f573283",
            "3123d966dfbf4c77a25e358bcc7b9934"
          ]
        },
        "id": "quality-actor",
        "outputId": "a908e313-ee66-45bf-cdfd-3dfb3db9e542"
      },
      "outputs": [
        {
          "output_type": "stream",
          "name": "stdout",
          "text": [
            "Downloading http://yann.lecun.com/exdb/mnist/train-images-idx3-ubyte.gz\n",
            "Downloading http://yann.lecun.com/exdb/mnist/train-images-idx3-ubyte.gz to ./MNIST/raw/train-images-idx3-ubyte.gz\n"
          ]
        },
        {
          "output_type": "display_data",
          "data": {
            "text/plain": [
              "  0%|          | 0/9912422 [00:00<?, ?it/s]"
            ],
            "application/vnd.jupyter.widget-view+json": {
              "version_major": 2,
              "version_minor": 0,
              "model_id": "ce5ab77cfb754197850d9bcf75d0983e"
            }
          },
          "metadata": {}
        },
        {
          "output_type": "stream",
          "name": "stdout",
          "text": [
            "Extracting ./MNIST/raw/train-images-idx3-ubyte.gz to ./MNIST/raw\n",
            "\n",
            "Downloading http://yann.lecun.com/exdb/mnist/train-labels-idx1-ubyte.gz\n",
            "Downloading http://yann.lecun.com/exdb/mnist/train-labels-idx1-ubyte.gz to ./MNIST/raw/train-labels-idx1-ubyte.gz\n"
          ]
        },
        {
          "output_type": "display_data",
          "data": {
            "text/plain": [
              "  0%|          | 0/28881 [00:00<?, ?it/s]"
            ],
            "application/vnd.jupyter.widget-view+json": {
              "version_major": 2,
              "version_minor": 0,
              "model_id": "cf04ae026a7b4f698571454461fca21f"
            }
          },
          "metadata": {}
        },
        {
          "output_type": "stream",
          "name": "stdout",
          "text": [
            "Extracting ./MNIST/raw/train-labels-idx1-ubyte.gz to ./MNIST/raw\n",
            "\n",
            "Downloading http://yann.lecun.com/exdb/mnist/t10k-images-idx3-ubyte.gz\n",
            "Downloading http://yann.lecun.com/exdb/mnist/t10k-images-idx3-ubyte.gz to ./MNIST/raw/t10k-images-idx3-ubyte.gz\n"
          ]
        },
        {
          "output_type": "display_data",
          "data": {
            "text/plain": [
              "  0%|          | 0/1648877 [00:00<?, ?it/s]"
            ],
            "application/vnd.jupyter.widget-view+json": {
              "version_major": 2,
              "version_minor": 0,
              "model_id": "c8960037502942d19dc9713930993c06"
            }
          },
          "metadata": {}
        },
        {
          "output_type": "stream",
          "name": "stdout",
          "text": [
            "Extracting ./MNIST/raw/t10k-images-idx3-ubyte.gz to ./MNIST/raw\n",
            "\n",
            "Downloading http://yann.lecun.com/exdb/mnist/t10k-labels-idx1-ubyte.gz\n",
            "Downloading http://yann.lecun.com/exdb/mnist/t10k-labels-idx1-ubyte.gz to ./MNIST/raw/t10k-labels-idx1-ubyte.gz\n"
          ]
        },
        {
          "output_type": "display_data",
          "data": {
            "text/plain": [
              "  0%|          | 0/4542 [00:00<?, ?it/s]"
            ],
            "application/vnd.jupyter.widget-view+json": {
              "version_major": 2,
              "version_minor": 0,
              "model_id": "88a78e6c611843b6a3832a60eb0bde51"
            }
          },
          "metadata": {}
        },
        {
          "output_type": "stream",
          "name": "stdout",
          "text": [
            "Extracting ./MNIST/raw/t10k-labels-idx1-ubyte.gz to ./MNIST/raw\n",
            "\n"
          ]
        }
      ],
      "source": [
        "# Downlaoding the dataset into the Google Colab\n",
        "dataset = MNIST(root='.', download=True)"
      ]
    },
    {
      "cell_type": "code",
      "execution_count": 3,
      "id": "fabulous-rubber",
      "metadata": {
        "colab": {
          "base_uri": "https://localhost:8080/"
        },
        "id": "fabulous-rubber",
        "outputId": "08469400-1215-4df5-c01e-487307175463"
      },
      "outputs": [
        {
          "output_type": "stream",
          "name": "stdout",
          "text": [
            "60000\n"
          ]
        }
      ],
      "source": [
        "print(len(dataset))"
      ]
    },
    {
      "cell_type": "markdown",
      "id": "intended-avatar",
      "metadata": {
        "id": "intended-avatar"
      },
      "source": [
        "The dataset has 60,000 images that we'll use to train the model. There is also an additional test set of 10,000 images used for evaluating models and reporting metrics in papers and reports. We can create the test dataset using the `MNIST` class by passing `train=False` to the constructor."
      ]
    },
    {
      "cell_type": "code",
      "execution_count": 4,
      "id": "senior-weekend",
      "metadata": {
        "colab": {
          "base_uri": "https://localhost:8080/"
        },
        "id": "senior-weekend",
        "outputId": "51cdf7b7-1c00-4f97-a4f2-a8d212e2a280"
      },
      "outputs": [
        {
          "output_type": "stream",
          "name": "stdout",
          "text": [
            "10000\n"
          ]
        }
      ],
      "source": [
        "test_dataset = MNIST(root='.', train=False)\n",
        "print(len(test_dataset))"
      ]
    },
    {
      "cell_type": "markdown",
      "id": "uniform-china",
      "metadata": {
        "id": "uniform-china"
      },
      "source": [
        "Let's look at a sample element from the training dataset."
      ]
    },
    {
      "cell_type": "code",
      "execution_count": 5,
      "id": "typical-stroke",
      "metadata": {
        "colab": {
          "base_uri": "https://localhost:8080/"
        },
        "id": "typical-stroke",
        "outputId": "dd714782-6dd4-4234-bf53-44b41ed8129e"
      },
      "outputs": [
        {
          "output_type": "execute_result",
          "data": {
            "text/plain": [
              "(<PIL.Image.Image image mode=L size=28x28 at 0x7F560C27C730>, 5)"
            ]
          },
          "metadata": {},
          "execution_count": 5
        }
      ],
      "source": [
        "dataset[0]"
      ]
    },
    {
      "cell_type": "markdown",
      "id": "desperate-nation",
      "metadata": {
        "id": "desperate-nation"
      },
      "source": [
        "It's a pair, consisting of a 28x28px image and a label. The image is an object of the class `PIL.Image.Image`, which is a part of the Python imaging library [Pillow](https://pillow.readthedocs.io/en/stable/). We can view the image within Jupyter using [`matplotlib`](https://matplotlib.org/), the de-facto plotting and graphing library for data science in Python."
      ]
    },
    {
      "cell_type": "code",
      "execution_count": 6,
      "id": "weighted-sphere",
      "metadata": {
        "colab": {
          "base_uri": "https://localhost:8080/",
          "height": 282
        },
        "id": "weighted-sphere",
        "outputId": "307bdde6-bdd2-4e6a-83b5-c179e7750435"
      },
      "outputs": [
        {
          "output_type": "stream",
          "name": "stdout",
          "text": [
            "Label: 5\n"
          ]
        },
        {
          "output_type": "display_data",
          "data": {
            "text/plain": [
              "<Figure size 432x288 with 1 Axes>"
            ],
            "image/png": "[encoded data removed]"
          },
          "metadata": {
            "needs_background": "light"
          }
        }
      ],
      "source": [
        "# Plotting the image\n",
        "image, label = dataset[0]\n",
        "plt.imshow(image, cmap='gray')\n",
        "print(f\"Label: {label}\")"
      ]
    },
    {
      "cell_type": "markdown",
      "id": "clinical-marina",
      "metadata": {
        "id": "clinical-marina"
      },
      "source": [
        "It's evident that these images are relatively small in size, and recognizing the digits can sometimes be challenging even for the human eye. While it's useful to look at these images, there's just one problem here: PyTorch doesn't know how to work with images. We need to convert the images into tensors. We can do this by specifying a transform while creating our dataset.\n",
        "\n",
        "PyTorch datasets allow us to specify one or more transformation functions that are applied to the images as they are loaded. The `torchvision.transforms` module contains many such predefined functions. We'll use the `ToTensor` transform to convert images into PyTorch tensors."
      ]
    },
    {
      "cell_type": "code",
      "execution_count": 7,
      "id": "noticed-reflection",
      "metadata": {
        "colab": {
          "base_uri": "https://localhost:8080/"
        },
        "id": "noticed-reflection",
        "outputId": "cb0fe354-693d-4a45-d495-fbd46eb4159a"
      },
      "outputs": [
        {
          "output_type": "stream",
          "name": "stdout",
          "text": [
            "5 torch.Size([1, 28, 28])\n"
          ]
        }
      ],
      "source": [
        "dataset = MNIST(root='.', train=True, transform=transforms.ToTensor())\n",
        "img_tensor, label = dataset[0]\n",
        "print(label, img_tensor.shape)"
      ]
    },
    {
      "cell_type": "markdown",
      "id": "meaning-workstation",
      "metadata": {
        "id": "meaning-workstation"
      },
      "source": [
        "The image is now converted to a 1x28x28 tensor. The first dimension tracks color channels. The second and third dimensions represent pixels along the height and width of the image, respectively. Since images in the MNIST dataset are grayscale, there's just one channel. Other datasets have images with color, in which case there are three channels: red, green, and blue (RGB). \n",
        "\n",
        "Let's look at some sample values inside the tensor."
      ]
    },
    {
      "cell_type": "code",
      "execution_count": 8,
      "id": "cathedral-coffee",
      "metadata": {
        "colab": {
          "base_uri": "https://localhost:8080/"
        },
        "id": "cathedral-coffee",
        "outputId": "f95a01f1-62ba-47ab-a194-6ecab59f5a58"
      },
      "outputs": [
        {
          "output_type": "stream",
          "name": "stdout",
          "text": [
            "tensor([[0.0000, 0.0000, 0.0000, 0.0000, 0.0000],\n",
            "        [0.0000, 0.0000, 0.0000, 0.1176, 0.1412],\n",
            "        [0.0000, 0.0000, 0.1922, 0.9333, 0.9922],\n",
            "        [0.0000, 0.0000, 0.0706, 0.8588, 0.9922],\n",
            "        [0.0000, 0.0000, 0.0000, 0.3137, 0.6118]])\n",
            "tensor(1.) tensor(0.)\n"
          ]
        }
      ],
      "source": [
        "print(img_tensor[0, 5:10, 5:10])\n",
        "print(img_tensor.max(), img_tensor.min())"
      ]
    },
    {
      "cell_type": "markdown",
      "id": "divided-louisiana",
      "metadata": {
        "id": "divided-louisiana"
      },
      "source": [
        "The values range from 0 to 1, with `0` representing black, `1` white, and the values in between different shades of grey. We can also plot the tensor as an image using `plt.imshow`. "
      ]
    },
    {
      "cell_type": "code",
      "execution_count": 9,
      "id": "third-marking",
      "metadata": {
        "colab": {
          "base_uri": "https://localhost:8080/",
          "height": 282
        },
        "id": "third-marking",
        "outputId": "add56688-c496-49fd-d2f0-6f66c3eeaf9b"
      },
      "outputs": [
        {
          "output_type": "execute_result",
          "data": {
            "text/plain": [
              "<matplotlib.image.AxesImage at 0x7f556c055490>"
            ]
          },
          "metadata": {},
          "execution_count": 9
        },
        {
          "output_type": "display_data",
          "data": {
            "text/plain": [
              "<Figure size 432x288 with 1 Axes>"
            ],
            "image/png": "[encoded data removed]"
          },
          "metadata": {
            "needs_background": "light"
          }
        }
      ],
      "source": [
        "plt.imshow(img_tensor[0, 5:10, 5:10], cmap='gray')"
      ]
    },
    {
      "cell_type": "markdown",
      "id": "august-literature",
      "metadata": {
        "id": "august-literature"
      },
      "source": [
        "Note that we need to pass just the 28x28 matrix to `plt.imshow`, without a channel dimension. We also pass a color map (`cmap=gray`) to indicate that we want to see a grayscale image."
      ]
    },
    {
      "cell_type": "markdown",
      "id": "complete-slope",
      "metadata": {
        "id": "complete-slope"
      },
      "source": [
        "## Training and Validation Datasets\n",
        "\n",
        "While building real-world machine learning models, it is quite common to split the dataset into three parts:\n",
        "\n",
        "1. **Training set** - used to train the model, i.e., compute the loss and adjust the model's weights using gradient descent.\n",
        "2. **Validation set** - used to evaluate the model during training, adjust hyperparameters (learning rate, etc.), and pick the best version of the model.\n",
        "3. **Test set** - used to compare different models or approaches and report the model's final accuracy.\n",
        "\n",
        "In the MNIST dataset, there are 60,000 training images and 10,000 test images. The test set is standardized so that different researchers can report their models' results against the same collection of images. \n",
        "\n",
        "Since there's no predefined validation set, we must manually split the 60,000 images into training and validation datasets. Let's set aside 10,000 randomly chosen images for validation. We can do this using the `random_spilt` method from PyTorch."
      ]
    },
    {
      "cell_type": "code",
      "execution_count": 10,
      "id": "generic-cambridge",
      "metadata": {
        "colab": {
          "base_uri": "https://localhost:8080/"
        },
        "id": "generic-cambridge",
        "outputId": "366222bf-cb5f-491f-ab91-b3a3c05b80d9"
      },
      "outputs": [
        {
          "output_type": "stream",
          "name": "stdout",
          "text": [
            "50000 10000\n"
          ]
        }
      ],
      "source": [
        "train_ds, valid_ds = random_split(dataset, [50_000, 10_000])\n",
        "print(len(train_ds), len(valid_ds))"
      ]
    },
    {
      "cell_type": "markdown",
      "id": "rental-wheel",
      "metadata": {
        "id": "rental-wheel"
      },
      "source": [
        "It's essential to choose a random sample for creating a validation set. Training data is often sorted by the target labels, i.e., images of 0s, followed by 1s, followed by 2s, etc. If we create a validation set using the last 20% of images, it would only consist of 8s and 9s. In contrast, the training set would contain no 8s or 9s. Such a training-validation would make it impossible to train a useful model.\n",
        "\n",
        "We can now create data loaders to help us load the data in batches. We'll use a batch size of 128."
      ]
    },
    {
      "cell_type": "code",
      "execution_count": 14,
      "id": "other-caribbean",
      "metadata": {
        "id": "other-caribbean"
      },
      "outputs": [],
      "source": [
        "batch_size = 128\n",
        "train_dl = DataLoader(train_ds, batch_size, shuffle=True)\n",
        "valid_dl = DataLoader(valid_ds, batch_size, shuffle=True)"
      ]
    },
    {
      "cell_type": "markdown",
      "id": "intensive-university",
      "metadata": {
        "id": "intensive-university"
      },
      "source": [
        "We set `shuffle=True` for the training data loader to ensure that the batches generated in each epoch are different. This randomization helps generalize & speed up the training process. On the other hand, since the validation data loader is used only for evaluating the model, there is no need to shuffle the images."
      ]
    },
    {
      "cell_type": "markdown",
      "id": "furnished-thursday",
      "metadata": {
        "id": "furnished-thursday"
      },
      "source": [
        "## Model\n",
        "\n",
        "Now that we have prepared our data loaders, we can define our model.\n",
        "\n",
        "* A **logistic regression** model is almost identical to a linear regression model. It contains weights and bias matrices, and the output is obtained using simple matrix operations (`pred = x @ w.t() + b`). \n",
        "\n",
        "* As we did with linear regression, we can use `nn.Linear` to create the model instead of manually creating and initializing the matrices.\n",
        "\n",
        "* Since `nn.Linear` expects each training example to be a vector, each `1x28x28` image tensor is _flattened_ into a vector of size 784 `(28*28)` before being passed into the model. \n",
        "\n",
        "* The output for each image is a vector of size 10, with each element signifying the probability of a particular target label (i.e., 0 to 9). The predicted label for an image is simply the one with the highest probability."
      ]
    },
    {
      "cell_type": "code",
      "execution_count": 15,
      "id": "coupled-surgeon",
      "metadata": {
        "id": "coupled-surgeon"
      },
      "outputs": [],
      "source": [
        "input_size = 28 * 28\n",
        "target_size = 10\n",
        "\n",
        "#Difine the model\n",
        "model = nn.Linear(input_size, target_size)"
      ]
    },
    {
      "cell_type": "markdown",
      "id": "sharp-membership",
      "metadata": {
        "id": "sharp-membership"
      },
      "source": [
        "Of course, this model is a lot larger than our previous model in terms of the number of parameters. Let's take a look at the weights and biases."
      ]
    },
    {
      "cell_type": "code",
      "execution_count": 16,
      "id": "acoustic-algeria",
      "metadata": {
        "colab": {
          "base_uri": "https://localhost:8080/"
        },
        "id": "acoustic-algeria",
        "outputId": "95fd8671-ac98-49b9-c00c-6a0361c5ee49"
      },
      "outputs": [
        {
          "output_type": "stream",
          "name": "stdout",
          "text": [
            "torch.Size([10, 784])\n",
            "torch.Size([10])\n"
          ]
        }
      ],
      "source": [
        "print(model.weight.shape)\n",
        "print(model.bias.shape)"
      ]
    },
    {
      "cell_type": "markdown",
      "id": "meaning-thermal",
      "metadata": {
        "id": "meaning-thermal"
      },
      "source": [
        "Although there are a total of 7850 parameters here, conceptually, nothing has changed so far. Let's try and generate some outputs using our model. We'll take the first batch of 100 images from our dataset and pass them into our model."
      ]
    },
    {
      "cell_type": "code",
      "execution_count": 17,
      "id": "successful-favorite",
      "metadata": {
        "colab": {
          "base_uri": "https://localhost:8080/"
        },
        "id": "successful-favorite",
        "outputId": "916619fa-b748-41ec-d8fa-0f5bbfc61d07"
      },
      "outputs": [
        {
          "output_type": "stream",
          "name": "stdout",
          "text": [
            "tensor([2, 5, 7, 1, 4, 1, 3, 2, 3, 3, 1, 4, 5, 5, 7, 9, 6, 5, 2, 1, 9, 1, 4, 7,\n",
            "        0, 9, 8, 9, 5, 5, 9, 5, 7, 5, 3, 3, 3, 4, 7, 7, 5, 6, 5, 6, 5, 3, 2, 9,\n",
            "        1, 2, 9, 5, 7, 8, 5, 8, 0, 9, 6, 5, 3, 0, 9, 5, 9, 1, 6, 3, 0, 8, 6, 4,\n",
            "        6, 2, 1, 6, 5, 2, 6, 5, 4, 0, 1, 7, 6, 8, 9, 0, 6, 8, 8, 5, 0, 4, 8, 7,\n",
            "        1, 8, 4, 9, 9, 4, 9, 5, 5, 0, 0, 0, 2, 3, 6, 2, 0, 3, 9, 9, 2, 2, 1, 7,\n",
            "        2, 2, 6, 3, 7, 3, 3, 5])\n",
            "torch.Size([128, 1, 28, 28])\n"
          ]
        }
      ],
      "source": [
        "for images, labels in train_dl:\n",
        "    print(labels)\n",
        "    print(images.shape)\n",
        "    break\n",
        "    \n",
        "# The images is shape [128, 1, 28, 28], but for the model we need [128, 28*28], so we can't use the nn.Linear class."
      ]
    },
    {
      "cell_type": "markdown",
      "id": "private-aruba",
      "metadata": {
        "id": "private-aruba"
      },
      "source": [
        "The code above leads to an error because our input data does not have the right shape. Our images are of the shape 1x28x28, but we need them to be vectors of size 784, i.e., we need to flatten them. We'll use the `.reshape` method of a tensor, which will allow us to efficiently 'view' each image as a flat vector without really creating a copy of the underlying data. To include this additional functionality within our model, we need to define a custom model by extending the `nn.Module` class from PyTorch. "
      ]
    },
    {
      "cell_type": "code",
      "execution_count": 18,
      "id": "acting-ontario",
      "metadata": {
        "id": "acting-ontario"
      },
      "outputs": [],
      "source": [
        "class MNIST_model(nn.Module):\n",
        "    def __init__(self):\n",
        "        super().__init__()\n",
        "        self.linear = nn.Linear(input_size, target_size)\n",
        "        \n",
        "    def __call__(self, batch_inputs):\n",
        "        batch_inputs = batch_inputs.reshape(-1, 28*28)\n",
        "        preds = self.linear(batch_inputs)\n",
        "        return preds\n",
        "    \n",
        "model = MNIST_model()"
      ]
    },
    {
      "cell_type": "markdown",
      "id": "martial-sheffield",
      "metadata": {
        "id": "martial-sheffield"
      },
      "source": [
        "Inside the `__init__` constructor method, we instantiate the weights and biases using `nn.Linear`. And inside the `forward` method, which is invoked when we pass a batch of inputs to the model, we flatten the input tensor and pass it into `self.linear`.\n",
        "\n",
        "`xb.reshape(-1, 28*28)` indicates to PyTorch that we want a *view* of the `xb` tensor with two dimensions. The length along the 2nd dimension is 28\\*28 (i.e., 784). One argument to `.reshape` can be set to `-1` (in this case, the first dimension) to let PyTorch figure it out automatically based on the shape of the original tensor.\n",
        "\n",
        "Note that the model no longer has `.weight` and `.bias` attributes (as they are now inside the `.linear` attribute), but it does have a `.parameters` method that returns a list containing the weights and bias."
      ]
    },
    {
      "cell_type": "code",
      "execution_count": 19,
      "id": "outstanding-savage",
      "metadata": {
        "scrolled": true,
        "colab": {
          "base_uri": "https://localhost:8080/"
        },
        "id": "outstanding-savage",
        "outputId": "ceb2e133-9813-4356-a2ce-5edd9de882f0"
      },
      "outputs": [
        {
          "output_type": "stream",
          "name": "stdout",
          "text": [
            "Linear(in_features=784, out_features=10, bias=True)\n",
            "[Parameter containing:\n",
            "tensor([[-0.0034,  0.0333, -0.0328,  ...,  0.0134, -0.0045, -0.0109],\n",
            "        [ 0.0075,  0.0137,  0.0155,  ...,  0.0144,  0.0205, -0.0210],\n",
            "        [-0.0322, -0.0294,  0.0352,  ..., -0.0279,  0.0114, -0.0229],\n",
            "        ...,\n",
            "        [-0.0288, -0.0020, -0.0061,  ..., -0.0071, -0.0195,  0.0016],\n",
            "        [-0.0248, -0.0277,  0.0273,  ...,  0.0082, -0.0069,  0.0010],\n",
            "        [ 0.0255,  0.0018, -0.0165,  ...,  0.0099, -0.0213,  0.0052]],\n",
            "       requires_grad=True), Parameter containing:\n",
            "tensor([ 0.0198, -0.0285,  0.0066, -0.0161,  0.0004, -0.0266, -0.0109,  0.0302,\n",
            "         0.0297, -0.0192], requires_grad=True)]\n"
          ]
        }
      ],
      "source": [
        "print(model.linear)\n",
        "print(list(model.parameters()))"
      ]
    },
    {
      "cell_type": "markdown",
      "id": "senior-shock",
      "metadata": {
        "id": "senior-shock"
      },
      "source": [
        "For each of the 100 input images, we get 10 outputs, one for each class. As discussed earlier, we'd like these outputs to represent probabilities. Each output row's elements must lie between 0 to 1 and add up to 1, which is not the case. \n",
        "\n",
        "To convert the output rows into probabilities, we use the softmax function, which has the following formula:\n",
        "\n",
        "![softmax](https://i.imgur.com/EAh9jLN.png)\n",
        "\n",
        "First, we replace each element `yi` in an output row by `e^yi`, making all the elements positive. \n",
        "\n",
        "![](https://www.montereyinstitute.org/courses/DevelopmentalMath/COURSE_TEXT2_RESOURCE/U18_L1_T1_text_final_6_files/image001.png)\n",
        "\n",
        "\n",
        "\n",
        "Then, we divide them by their sum to ensure that they add up to 1. The resulting vector can thus be interpreted as probabilities.\n",
        "\n",
        "While it's easy to implement the softmax function (you should try it!), we'll use the implementation that's provided within PyTorch because it works well with multidimensional tensors (a list of output rows in our case)."
      ]
    },
    {
      "cell_type": "code",
      "execution_count": 20,
      "id": "after-configuration",
      "metadata": {
        "id": "after-configuration"
      },
      "outputs": [],
      "source": [
        "for batch_inputs, batch_outputs in train_dl:\n",
        "    preds = model(batch_inputs)\n",
        "    break"
      ]
    },
    {
      "cell_type": "code",
      "execution_count": 24,
      "id": "medical-robinson",
      "metadata": {
        "colab": {
          "base_uri": "https://localhost:8080/"
        },
        "id": "medical-robinson",
        "outputId": "25198971-b5f7-4add-89ac-ac13656a59af"
      },
      "outputs": [
        {
          "output_type": "stream",
          "name": "stdout",
          "text": [
            "Preds: tensor([-0.1718, -0.1276, -0.0279,  0.0234,  0.0534, -0.0357, -0.0824, -0.3168,\n",
            "         0.0186,  0.2191], grad_fn=<SelectBackward0>)\n",
            "Sum: 1.0\n"
          ]
        }
      ],
      "source": [
        "probs = F.softmax(preds, dim=1) # dim=1 because we want each row to add up to 1\n",
        "\n",
        "print(f\"Preds: {preds[0]}\")\n",
        "print(f\"Sum: {probs[0].sum()}\")"
      ]
    },
    {
      "cell_type": "markdown",
      "id": "purple-coast",
      "metadata": {
        "id": "purple-coast"
      },
      "source": [
        "Finally, we can determine the predicted label for each image by simply choosing the index of the element with the highest probability in each output row. We can do this using `torch.max`, which returns each row's largest element and the corresponding index."
      ]
    },
    {
      "cell_type": "code",
      "execution_count": 25,
      "id": "diagnostic-personality",
      "metadata": {
        "colab": {
          "base_uri": "https://localhost:8080/"
        },
        "id": "diagnostic-personality",
        "outputId": "e9fff48e-9266-4b78-8d43-47f6c4cb80ce"
      },
      "outputs": [
        {
          "output_type": "stream",
          "name": "stdout",
          "text": [
            "tensor([9, 4, 8, 6, 2, 4, 0, 3, 5, 4, 0, 7, 0, 0, 8, 8, 8, 9, 2, 4, 8, 8, 9, 2,\n",
            "        9, 6, 3, 6, 8, 8, 3, 3, 9, 8, 3, 9, 2, 8, 8, 9, 2, 9, 8, 8, 2, 4, 0, 9,\n",
            "        6, 4, 6, 9, 3, 4, 8, 4, 6, 4, 4, 5, 4, 9, 8, 8, 9, 9, 4, 2, 8, 0, 9, 4,\n",
            "        9, 5, 4, 4, 8, 6, 4, 2, 3, 6, 7, 6, 0, 3, 9, 9, 9, 2, 6, 4, 8, 9, 7, 9,\n",
            "        4, 9, 8, 4, 8, 5, 8, 8, 6, 0, 4, 3, 4, 8, 4, 0, 4, 2, 9, 8, 8, 6, 8, 8,\n",
            "        4, 4, 8, 6, 8, 6, 8, 9])\n",
            "tensor([0.1290, 0.1301, 0.1325, 0.1257, 0.1306, 0.1193, 0.1202, 0.1261, 0.1135,\n",
            "        0.1392, 0.1136, 0.1154, 0.1354, 0.1206, 0.1147, 0.1362, 0.1292, 0.1450,\n",
            "        0.1106, 0.1179, 0.1193, 0.1370, 0.1447, 0.1338, 0.1137, 0.1387, 0.1464,\n",
            "        0.1295, 0.1119, 0.1272, 0.1163, 0.1143, 0.1258, 0.1975, 0.1177, 0.1307,\n",
            "        0.1331, 0.1235, 0.1163, 0.1172, 0.1280, 0.1280, 0.1200, 0.1116, 0.1287,\n",
            "        0.1318, 0.1260, 0.1167, 0.1383, 0.1298, 0.1374, 0.1264, 0.1354, 0.1248,\n",
            "        0.1134, 0.1249, 0.1215, 0.1269, 0.1388, 0.1100, 0.1280, 0.1333, 0.1209,\n",
            "        0.1227, 0.1214, 0.1320, 0.1287, 0.1225, 0.1264, 0.1279, 0.1156, 0.1203,\n",
            "        0.1131, 0.1118, 0.1231, 0.1305, 0.1226, 0.1321, 0.1187, 0.1273, 0.1326,\n",
            "        0.1218, 0.1425, 0.1270, 0.1235, 0.1170, 0.1256, 0.1404, 0.1570, 0.1198,\n",
            "        0.1227, 0.1389, 0.1423, 0.1157, 0.1230, 0.1331, 0.1342, 0.1441, 0.1890,\n",
            "        0.1258, 0.1322, 0.1096, 0.1200, 0.1263, 0.1227, 0.1210, 0.1174, 0.1360,\n",
            "        0.1262, 0.1157, 0.1306, 0.1181, 0.1565, 0.1174, 0.1339, 0.1345, 0.1150,\n",
            "        0.1291, 0.1278, 0.1144, 0.1241, 0.1309, 0.1121, 0.1194, 0.1472, 0.1418,\n",
            "        0.1342, 0.1442], grad_fn=<MaxBackward0>)\n",
            "tensor([2, 5, 7, 1, 4, 1, 3, 2, 3, 3, 1, 4, 5, 5, 7, 9, 6, 5, 2, 1, 9, 1, 4, 7,\n",
            "        0, 9, 8, 9, 5, 5, 9, 5, 7, 5, 3, 3, 3, 4, 7, 7, 5, 6, 5, 6, 5, 3, 2, 9,\n",
            "        1, 2, 9, 5, 7, 8, 5, 8, 0, 9, 6, 5, 3, 0, 9, 5, 9, 1, 6, 3, 0, 8, 6, 4,\n",
            "        6, 2, 1, 6, 5, 2, 6, 5, 4, 0, 1, 7, 6, 8, 9, 0, 6, 8, 8, 5, 0, 4, 8, 7,\n",
            "        1, 8, 4, 9, 9, 4, 9, 5, 5, 0, 0, 0, 2, 3, 6, 2, 0, 3, 9, 9, 2, 2, 1, 7,\n",
            "        2, 2, 6, 3, 7, 3, 3, 5])\n"
          ]
        }
      ],
      "source": [
        "max_probs, pred_labels = torch.max(probs, dim=1)\n",
        "print(pred_labels)   # The predicted labels.\n",
        "print(max_probs)     # The max prob of the predicted labels. \n",
        "print(labels)        # The batch acctual tagets"
      ]
    },
    {
      "cell_type": "markdown",
      "id": "biblical-importance",
      "metadata": {
        "id": "biblical-importance"
      },
      "source": [
        "Most of the predicted labels are different from the actual labels. That's because we have started with randomly initialized weights and biases. We need to train the model, i.e., adjust the weights using gradient descent to make better predictions."
      ]
    },
    {
      "cell_type": "markdown",
      "id": "parental-elements",
      "metadata": {
        "id": "parental-elements"
      },
      "source": [
        "## Evaluation Metric and Loss Function\n",
        "\n",
        "Just as with linear regression, we need a way to evaluate how well our model is performing. A natural way to do this would be to find the percentage of labels that were predicted correctly, i.e,. the **accuracy** of the predictions. "
      ]
    },
    {
      "cell_type": "code",
      "execution_count": 31,
      "id": "third-pilot",
      "metadata": {
        "id": "third-pilot"
      },
      "outputs": [],
      "source": [
        "def accuracy(outputs, labels):\n",
        "    _, label_preds = torch.max(outputs, dim=1)\n",
        "    return torch.sum(label_preds == labels).item() / labels.numel()"
      ]
    },
    {
      "cell_type": "markdown",
      "id": "upper-control",
      "metadata": {
        "id": "upper-control"
      },
      "source": [
        "The `==` operator performs an element-wise comparison of two tensors with the same shape and returns a tensor of the same shape, containing `True` for unequal elements and `False` for equal elements. Passing the result to `torch.sum` returns the number of labels that were predicted correctly. Finally, we divide by the total number of images to get the accuracy. \n",
        "\n",
        "Note that we don't need to apply softmax to the outputs since its results have the same relative order. This is because `e^x` is an increasing function, i.e., if `y1 > y2`, then `e^y1 > e^y2`. The same holds after averaging out the values to get the softmax.\n",
        "\n",
        "Let's calculate the accuracy of the current model on the first batch of data. "
      ]
    },
    {
      "cell_type": "code",
      "execution_count": 36,
      "id": "violent-matthew",
      "metadata": {
        "colab": {
          "base_uri": "https://localhost:8080/"
        },
        "id": "violent-matthew",
        "outputId": "f8579b03-49d8-4905-f76f-03f074ebfecf"
      },
      "outputs": [
        {
          "output_type": "stream",
          "name": "stdout",
          "text": [
            "0.0703125\n"
          ]
        }
      ],
      "source": [
        "print(accuracy(preds, labels))"
      ]
    },
    {
      "cell_type": "markdown",
      "id": "varying-peter",
      "metadata": {
        "id": "varying-peter"
      },
      "source": [
        "Accuracy is an excellent way for us (humans) to evaluate the model. However, we can't use it as a loss function for optimizing our model using gradient descent for the following reasons:\n",
        "\n",
        "1. It's not a differentiable function. `torch.max` and `==` are both non-continuous and non-differentiable operations, so we can't use the accuracy for computing gradients w.r.t the weights and biases.\n",
        "\n",
        "2. It doesn't take into account the actual probabilities predicted by the model, so it can't provide sufficient feedback for incremental improvements. \n",
        "\n",
        "For these reasons, accuracy is often used as an **evaluation metric** for classification, but not as a loss function. A commonly used loss function for classification problems is the **cross-entropy**, which has the following formula:\n",
        "\n",
        "![cross-entropy](https://i.imgur.com/VDRDl1D.png)\n",
        "\n",
        "While it looks complicated, it's actually quite simple:\n",
        "\n",
        "* For each output row, pick the predicted probability for the correct label. E.g., if the predicted probabilities for an image are `[0.1, 0.3, 0.2, ...]` and the correct label is `1`, we pick the corresponding element `0.3` and ignore the rest.\n",
        "\n",
        "* Then, take the [logarithm](https://en.wikipedia.org/wiki/Logarithm) of the picked probability. If the probability is high, i.e., close to 1, then its logarithm is a very small negative value, close to 0. And if the probability is low (close to 0), then the logarithm is a very large negative value. We also multiply the result by -1, which results is a large postive value of the loss for poor predictions.\n",
        "\n",
        "![](https://www.intmath.com/blog/wp-content/images/2019/05/log10.png)\n",
        "\n",
        "* Finally, take the average of the cross entropy across all the output rows to get the overall loss for a batch of data.\n",
        "\n",
        "Unlike accuracy, cross-entropy is a continuous and differentiable function. It also provides useful feedback for incremental improvements in the model (a slightly higher probability for the correct label leads to a lower loss). These two factors make cross-entropy a better choice for the loss function.\n",
        "\n",
        "As you might expect, PyTorch provides an efficient and tensor-friendly implementation of cross-entropy as part of the `torch.nn.functional` package. Moreover, it also performs softmax internally, so we can directly pass in the model's outputs without converting them into probabilities."
      ]
    },
    {
      "cell_type": "code",
      "execution_count": 37,
      "id": "driving-filling",
      "metadata": {
        "colab": {
          "base_uri": "https://localhost:8080/"
        },
        "id": "driving-filling",
        "outputId": "68848c12-3132-4f7f-f82c-844c9b62dbd7"
      },
      "outputs": [
        {
          "output_type": "stream",
          "name": "stdout",
          "text": [
            "tensor(2.3243, grad_fn=<NllLossBackward0>)\n"
          ]
        }
      ],
      "source": [
        "loss_fn = F.cross_entropy\n",
        "loss = loss_fn(preds, labels)\n",
        "print(loss)"
      ]
    },
    {
      "cell_type": "markdown",
      "id": "sweet-spice",
      "metadata": {
        "id": "sweet-spice"
      },
      "source": [
        "We know that cross-entropy is the negative logarithm of the predicted probability of the correct label averaged over all training samples. Therefore, one way to interpret the resulting number e.g. `2.23` is look at `e^-2.23` which is around `0.1` as the predicted probability of the correct label, on average. *The lower the loss, The better the model.*"
      ]
    },
    {
      "cell_type": "markdown",
      "id": "governmental-cardiff",
      "metadata": {
        "id": "governmental-cardiff"
      },
      "source": [
        "## Training the model\n",
        "\n",
        "Now that we have defined the data loaders, model, loss function and optimizer, we are ready to train the model. The training process is identical to linear regression, with the addition of a \"validation phase\" to evaluate the model in each epoch. Here's what it looks like in pseudocode:\n",
        "\n",
        "```\n",
        "for epoch in range(num_epochs):\n",
        "    # Training phase\n",
        "    for batch in train_loader:\n",
        "        # Generate predictions\n",
        "        # Calculate loss\n",
        "        # Compute gradients\n",
        "        # Update weights\n",
        "        # Reset gradients\n",
        "    \n",
        "    # Validation phase\n",
        "    for batch in val_loader:\n",
        "        # Generate predictions\n",
        "        # Calculate loss\n",
        "        # Calculate metrics (accuracy etc.)\n",
        "    # Calculate average validation loss & metrics\n",
        "    \n",
        "    # Log epoch, loss & metrics for inspection\n",
        "```\n",
        "\n",
        "Some parts of the training loop are specific the specific problem we're solving (e.g. loss function, metrics etc.) whereas others are generic and can be applied to any deep learning problem. \n",
        "\n",
        "We'll include the problem-independent parts within a function called `fit`, which will be used to train the model. The problem-specific parts will be implemented by adding new methods to the `nn.Module` class."
      ]
    },
    {
      "cell_type": "code",
      "execution_count": 38,
      "id": "placed-interpretation",
      "metadata": {
        "id": "placed-interpretation"
      },
      "outputs": [],
      "source": [
        "def fit(epochs, model, train_dl, valid_dl, loss_fn, optim, metric):\n",
        "    history = []\n",
        "    for epoch in range(epochs):\n",
        "        losses = []\n",
        "        matrics = []\n",
        "        \n",
        "        for inputs_batch, outputs_batch in train_dl:\n",
        "            preds = model(inputs_batch)\n",
        "            loss = loss_fn(preds, outputs_batch)\n",
        "            loss.backward()\n",
        "            optim.step()\n",
        "            optim.zero_grad()\n",
        "            \n",
        "        for inputs_batch, outputs_batch in valid_dl:\n",
        "            preds = model(inputs_batch)\n",
        "            loss = loss_fn(preds, outputs_batch)\n",
        "            losses.append(loss.item())\n",
        "            acc = metric(preds, outputs_batch)\n",
        "            matrics.append(acc)\n",
        "        \n",
        "        avg_loss = 0\n",
        "        avg_acc = 0\n",
        "        for i in range(len(matrics)):\n",
        "            avg_loss += losses[i]\n",
        "            avg_acc += matrics[i]\n",
        "            \n",
        "        avg_loss /= len(matrics)\n",
        "        avg_acc /= len(matrics)\n",
        "        \n",
        "        history.append({'epoch': epoch+1, 'loss': avg_loss, 'acc': avg_acc})\n",
        "        print(f\"Epoch: {epoch+1}, Loss: {avg_loss}, Accuracy: {avg_acc}\")\n",
        "    \n",
        "    return history"
      ]
    },
    {
      "cell_type": "code",
      "execution_count": 39,
      "id": "asian-installation",
      "metadata": {
        "colab": {
          "base_uri": "https://localhost:8080/"
        },
        "id": "asian-installation",
        "outputId": "11053700-6da7-458d-cb9d-65dacf2842b0"
      },
      "outputs": [
        {
          "output_type": "stream",
          "name": "stdout",
          "text": [
            "Epoch: 1, Loss: 1.9481308445145813, Accuracy: 0.6102650316455697\n",
            "Epoch: 2, Loss: 1.6774393787866906, Accuracy: 0.7331882911392406\n",
            "Epoch: 3, Loss: 1.4759859902949273, Accuracy: 0.7681962025316456\n",
            "Epoch: 4, Loss: 1.3235606211650222, Accuracy: 0.7877768987341772\n",
            "Epoch: 5, Loss: 1.2059891510613356, Accuracy: 0.8000395569620253\n"
          ]
        }
      ],
      "source": [
        "history = fit(5, model, train_dl, valid_dl, loss_fn, torch.optim.SGD(model.parameters(), lr=1e-3), accuracy)"
      ]
    },
    {
      "cell_type": "code",
      "execution_count": 40,
      "id": "natural-oklahoma",
      "metadata": {
        "colab": {
          "base_uri": "https://localhost:8080/"
        },
        "id": "natural-oklahoma",
        "outputId": "6de879e6-c5f3-42af-acb1-50745c1eb3fa"
      },
      "outputs": [
        {
          "output_type": "stream",
          "name": "stdout",
          "text": [
            "Epoch: 1, Loss: 1.1129563496082644, Accuracy: 0.8085443037974683\n",
            "Epoch: 2, Loss: 1.0441893897479093, Accuracy: 0.8139833860759493\n",
            "Epoch: 3, Loss: 0.9832693179951438, Accuracy: 0.8198180379746836\n",
            "Epoch: 4, Loss: 0.9291627044919171, Accuracy: 0.8279272151898734\n",
            "Epoch: 5, Loss: 0.8863841906378541, Accuracy: 0.8320806962025317\n"
          ]
        }
      ],
      "source": [
        "history1 = fit(5, model, train_dl, valid_dl, loss_fn, torch.optim.SGD(model.parameters(), lr=1e-3), accuracy)"
      ]
    },
    {
      "cell_type": "code",
      "execution_count": 41,
      "id": "extra-effect",
      "metadata": {
        "colab": {
          "base_uri": "https://localhost:8080/"
        },
        "id": "extra-effect",
        "outputId": "6b0fff3c-5921-4424-a60f-b2b4c789d5f8"
      },
      "outputs": [
        {
          "output_type": "stream",
          "name": "stdout",
          "text": [
            "Epoch: 1, Loss: 0.850733237930491, Accuracy: 0.8348496835443038\n",
            "Epoch: 2, Loss: 0.8227256053610693, Accuracy: 0.8372231012658228\n",
            "Epoch: 3, Loss: 0.791355935078633, Accuracy: 0.8399920886075949\n",
            "Epoch: 4, Loss: 0.7679855129386806, Accuracy: 0.843057753164557\n",
            "Epoch: 5, Loss: 0.7472896266587173, Accuracy: 0.8451344936708861\n"
          ]
        }
      ],
      "source": [
        "history2 = fit(5, model, train_dl, valid_dl, loss_fn, torch.optim.SGD(model.parameters(), lr=1e-3), accuracy)"
      ]
    },
    {
      "cell_type": "code",
      "source": [
        "history3 = fit(20, model, train_dl, valid_dl, loss_fn, torch.optim.SGD(model.parameters(), lr=1e-4), accuracy)"
      ],
      "metadata": {
        "colab": {
          "base_uri": "https://localhost:8080/"
        },
        "id": "ry0C9CL0mnXF",
        "outputId": "ba728e79-dd27-4a74-f360-3359d15953c8"
      },
      "id": "ry0C9CL0mnXF",
      "execution_count": 42,
      "outputs": [
        {
          "output_type": "stream",
          "name": "stdout",
          "text": [
            "Epoch: 1, Loss: 0.7483922914613651, Accuracy: 0.843057753164557\n",
            "Epoch: 2, Loss: 0.7485845013509823, Accuracy: 0.8441455696202531\n",
            "Epoch: 3, Loss: 0.7421346963206424, Accuracy: 0.8434533227848101\n",
            "Epoch: 4, Loss: 0.740806714643406, Accuracy: 0.8451344936708861\n",
            "Epoch: 5, Loss: 0.7357383302495449, Accuracy: 0.8466178797468354\n",
            "Epoch: 6, Loss: 0.7362588085705721, Accuracy: 0.8449367088607594\n",
            "Epoch: 7, Loss: 0.7354122023039227, Accuracy: 0.8451344936708861\n",
            "Epoch: 8, Loss: 0.7301525194433671, Accuracy: 0.8460245253164557\n",
            "Epoch: 9, Loss: 0.7306057712699794, Accuracy: 0.846815664556962\n",
            "Epoch: 10, Loss: 0.7243957779830015, Accuracy: 0.846815664556962\n",
            "Epoch: 11, Loss: 0.7255680704418617, Accuracy: 0.8474090189873418\n",
            "Epoch: 12, Loss: 0.7207740899882739, Accuracy: 0.8482990506329114\n",
            "Epoch: 13, Loss: 0.7203157906290851, Accuracy: 0.8479034810126582\n",
            "Epoch: 14, Loss: 0.7175366682342336, Accuracy: 0.8496835443037974\n",
            "Epoch: 15, Loss: 0.718942672391481, Accuracy: 0.8490901898734177\n",
            "Epoch: 16, Loss: 0.716250972657264, Accuracy: 0.8482990506329114\n",
            "Epoch: 17, Loss: 0.7143332686605333, Accuracy: 0.8489912974683544\n",
            "Epoch: 18, Loss: 0.7099498438684246, Accuracy: 0.850870253164557\n",
            "Epoch: 19, Loss: 0.7099723053883903, Accuracy: 0.8502768987341772\n",
            "Epoch: 20, Loss: 0.7107438105571119, Accuracy: 0.8497824367088608\n"
          ]
        }
      ]
    },
    {
      "cell_type": "markdown",
      "id": "emotional-special",
      "metadata": {
        "id": "emotional-special"
      },
      "source": [
        "While the accuracy does continue to increase as we train for more epochs, the improvements get smaller with every epoch. Let's visualize this using a line graph."
      ]
    },
    {
      "cell_type": "code",
      "execution_count": 43,
      "id": "matched-program",
      "metadata": {
        "id": "matched-program"
      },
      "outputs": [],
      "source": [
        "for d in history1:\n",
        "    d['epoch'] += 5\n",
        "\n",
        "for d in history2:\n",
        "    d['epoch'] += 10\n",
        "\n",
        "for d in history3:\n",
        "    d['epoch'] += 15"
      ]
    },
    {
      "cell_type": "code",
      "execution_count": 45,
      "id": "falling-virtue",
      "metadata": {
        "colab": {
          "base_uri": "https://localhost:8080/",
          "height": 279
        },
        "id": "falling-virtue",
        "outputId": "cf23f0b1-e703-47bb-c270-a36e1205bdfc"
      },
      "outputs": [
        {
          "output_type": "display_data",
          "data": {
            "text/plain": [
              "<Figure size 432x288 with 1 Axes>"
            ],
            "image/png": "[encoded data removed]"
          },
          "metadata": {
            "needs_background": "light"
          }
        }
      ],
      "source": [
        "h = history + history1 + history2 + history3\n",
        "accuracies = [x['acc'] for x in h]\n",
        "plt.plot(accuracies)\n",
        "plt.xlabel(\"Epohcs\")\n",
        "plt.ylabel(\"Accuracy\")\n",
        "plt.show()"
      ]
    },
    {
      "cell_type": "markdown",
      "id": "moral-ethics",
      "metadata": {
        "id": "moral-ethics"
      },
      "source": [
        "It's quite clear from the above picture that the model probably won't cross the accuracy threshold of 90% even after training for a very long time. One possible reason for this is that the learning rate might be too high. The model's parameters may be \"bouncing\" around the optimal set of parameters for the lowest loss. You can try reducing the learning rate and training for a few more epochs to see if it helps.\n",
        "\n",
        "The more likely reason that **the model just isn't powerful enough**. If you remember our initial hypothesis, we have assumed that the output (in this case the class probabilities) is a **linear function** of the input (pixel intensities), obtained by perfoming a matrix multiplication with the weights matrix and adding the bias. This is a fairly weak assumption, as there may not actually exist a linear relationship between the pixel intensities in an image and the digit it represents. While it works reasonably well for a simple dataset like MNIST (getting us to 85% accuracy), we need more sophisticated models that can capture non-linear relationships between image pixels and labels for complex tasks like recognizing everyday objects, animals etc. "
      ]
    },
    {
      "cell_type": "markdown",
      "id": "classical-cocktail",
      "metadata": {
        "id": "classical-cocktail"
      },
      "source": [
        "## Testing with individual images\n",
        "\n",
        "While we have been tracking the overall accuracy of a model so far, it's also a good idea to look at model's results on some sample images. Let's test out our model with some images from the predefined test dataset of 10000 images. We begin by recreating the test dataset with the `ToTensor` transform."
      ]
    },
    {
      "cell_type": "code",
      "execution_count": null,
      "id": "valued-jerusalem",
      "metadata": {
        "id": "valued-jerusalem"
      },
      "outputs": [],
      "source": [
        "test_ds = MNIST(root='.', train=False, transform=transforms.ToTensor())"
      ]
    },
    {
      "cell_type": "markdown",
      "id": "inside-beatles",
      "metadata": {
        "id": "inside-beatles"
      },
      "source": [
        "Here's a sample image from the dataset."
      ]
    },
    {
      "cell_type": "code",
      "execution_count": null,
      "id": "frequent-trauma",
      "metadata": {
        "id": "frequent-trauma",
        "outputId": "da9b22b1-5714-4b62-f9e5-61e9fefc88f5"
      },
      "outputs": [
        {
          "name": "stdout",
          "output_type": "stream",
          "text": [
            "Shape:  torch.Size([1, 28, 28])\n",
            "Label:  7\n"
          ]
        },
        {
          "data": {
            "image/png": "[encoded data removed]",
            "text/plain": [
              "<Figure size 432x288 with 1 Axes>"
            ]
          },
          "metadata": {
            "needs_background": "light"
          },
          "output_type": "display_data"
        }
      ],
      "source": [
        "img, label = test_ds[0]\n",
        "plt.imshow(img[0], cmap='gray')\n",
        "print(\"Shape: \", img.shape)\n",
        "print(\"Label: \", label)\n",
        "plt.show()"
      ]
    },
    {
      "cell_type": "markdown",
      "id": "pleasant-color",
      "metadata": {
        "id": "pleasant-color"
      },
      "source": [
        "Let's define a helper function `predict_image`, which returns the predicted label for a single image tensor."
      ]
    },
    {
      "cell_type": "code",
      "execution_count": null,
      "id": "rural-commitment",
      "metadata": {
        "id": "rural-commitment"
      },
      "outputs": [],
      "source": [
        "def predict(img, model):\n",
        "    image_batch = img.unsqueeze(0)\n",
        "    output = model(image_batch)\n",
        "    _, pred = torch.max(output, dim=1)\n",
        "    return pred[0].item()"
      ]
    },
    {
      "cell_type": "markdown",
      "id": "empirical-integral",
      "metadata": {
        "id": "empirical-integral"
      },
      "source": [
        "`img.unsqueeze` simply adds another dimension at the begining of the 1x28x28 tensor, making it a 1x1x28x28 tensor, which the model views as a batch containing a single image.\n",
        "\n",
        "Let's try it out with a few images."
      ]
    },
    {
      "cell_type": "code",
      "execution_count": null,
      "id": "rough-imaging",
      "metadata": {
        "id": "rough-imaging",
        "outputId": "0886e271-e1ed-4a23-b153-4770fb31a779"
      },
      "outputs": [
        {
          "name": "stdout",
          "output_type": "stream",
          "text": [
            "predicted:  7\n"
          ]
        }
      ],
      "source": [
        "pred_label = predict(img, model)\n",
        "print(\"predicted: \", pred_label)"
      ]
    },
    {
      "cell_type": "code",
      "execution_count": null,
      "id": "decent-bench",
      "metadata": {
        "id": "decent-bench",
        "outputId": "8d8527e6-4899-421f-c4b4-c30afab9e924"
      },
      "outputs": [
        {
          "name": "stdout",
          "output_type": "stream",
          "text": [
            "Shape:  torch.Size([1, 28, 28])\n",
            "Lable:  9\n",
            "Predicted:  9\n"
          ]
        },
        {
          "data": {
            "image/png": "[encoded data removed]",
            "text/plain": [
              "<Figure size 432x288 with 1 Axes>"
            ]
          },
          "metadata": {
            "needs_background": "light"
          },
          "output_type": "display_data"
        }
      ],
      "source": [
        "img, label = test_ds[9]\n",
        "print(\"Shape: \", img.shape)\n",
        "print(\"Lable: \", label)\n",
        "print(\"Predicted: \", predict(img, model))\n",
        "plt.imshow(img[0], cmap='gray')\n",
        "plt.show()"
      ]
    },
    {
      "cell_type": "code",
      "execution_count": null,
      "id": "painted-enterprise",
      "metadata": {
        "id": "painted-enterprise",
        "outputId": "c3e1aaac-05e3-46a6-d0fe-471e855a00b8"
      },
      "outputs": [
        {
          "name": "stdout",
          "output_type": "stream",
          "text": [
            "Shape:  torch.Size([1, 28, 28])\n",
            "Lable:  0\n",
            "Predicted:  0\n"
          ]
        },
        {
          "data": {
            "image/png": "[encoded data removed]",
            "text/plain": [
              "<Figure size 432x288 with 1 Axes>"
            ]
          },
          "metadata": {
            "needs_background": "light"
          },
          "output_type": "display_data"
        }
      ],
      "source": [
        "img, label = test_ds[10]\n",
        "print(\"Shape: \", img.shape)\n",
        "print(\"Lable: \", label)\n",
        "print(\"Predicted: \", predict(img, model))\n",
        "plt.imshow(img[0], cmap='gray')\n",
        "plt.show()"
      ]
    },
    {
      "cell_type": "code",
      "execution_count": null,
      "id": "minute-cliff",
      "metadata": {
        "id": "minute-cliff",
        "outputId": "25dd29ee-05e4-49f3-90e3-3d3431c8a869"
      },
      "outputs": [
        {
          "name": "stdout",
          "output_type": "stream",
          "text": [
            "Shape:  torch.Size([1, 28, 28])\n",
            "Lable:  9\n",
            "Predicted:  4\n"
          ]
        },
        {
          "data": {
            "image/png": "[encoded data removed]",
            "text/plain": [
              "<Figure size 432x288 with 1 Axes>"
            ]
          },
          "metadata": {
            "needs_background": "light"
          },
          "output_type": "display_data"
        }
      ],
      "source": [
        "img, label = test_ds[193]\n",
        "print(\"Shape: \", img.shape)\n",
        "print(\"Lable: \", label)\n",
        "print(\"Predicted: \", predict(img, model))\n",
        "plt.imshow(img[0], cmap='gray')\n",
        "plt.show()"
      ]
    },
    {
      "cell_type": "code",
      "execution_count": null,
      "id": "north-sympathy",
      "metadata": {
        "id": "north-sympathy",
        "outputId": "96d9f430-6c37-402f-fdaa-a06cb6ac76d4"
      },
      "outputs": [
        {
          "name": "stdout",
          "output_type": "stream",
          "text": [
            "Shape:  torch.Size([1, 28, 28])\n",
            "Lable:  2\n",
            "Predicted:  8\n"
          ]
        },
        {
          "data": {
            "image/png": "[encoded data removed]",
            "text/plain": [
              "<Figure size 432x288 with 1 Axes>"
            ]
          },
          "metadata": {
            "needs_background": "light"
          },
          "output_type": "display_data"
        }
      ],
      "source": [
        "img, label = test_ds[1839]\n",
        "print(\"Shape: \", img.shape)\n",
        "print(\"Lable: \", label)\n",
        "print(\"Predicted: \", predict(img, model))\n",
        "plt.imshow(img[0], cmap='gray')\n",
        "plt.show()"
      ]
    },
    {
      "cell_type": "markdown",
      "id": "unlimited-gateway",
      "metadata": {
        "id": "unlimited-gateway"
      },
      "source": [
        "Identifying where our model performs poorly can help us improve the model, by collecting more training data, increasing/decreasing the complexity of the model, and changing the hypeparameters.\n",
        "\n",
        "As a final step, let's also look at the overall loss and accuracy of the model on the test set."
      ]
    },
    {
      "cell_type": "code",
      "execution_count": null,
      "id": "seven-coordinate",
      "metadata": {
        "id": "seven-coordinate",
        "outputId": "e266c149-8e13-4834-83c5-3aa508eb9acf"
      },
      "outputs": [
        {
          "name": "stderr",
          "output_type": "stream",
          "text": [
            "<ipython-input-22-759b3285446b>:3: UserWarning: To copy construct from a tensor, it is recommended to use sourceTensor.clone().detach() or sourceTensor.clone().detach().requires_grad_(True), rather than torch.tensor(sourceTensor).\n",
            "  return torch.tensor(torch.sum(label_preds == labels)).item() / labels.numel()\n"
          ]
        },
        {
          "name": "stdout",
          "output_type": "stream",
          "text": [
            "0.8524525316455697\n"
          ]
        }
      ],
      "source": [
        "test_dl = DataLoader(test_ds, batch_size)\n",
        "acc = []\n",
        "for batch in test_dl:\n",
        "    outs = model(batch[0])\n",
        "    metric = accuracy(outs, batch[1])\n",
        "    acc.append(metric)\n",
        "    \n",
        "avg_acc = 0\n",
        "for accur in acc:\n",
        "    avg_acc += accur\n",
        "    \n",
        "avg_acc /= len(acc)\n",
        "print(avg_acc)"
      ]
    },
    {
      "cell_type": "markdown",
      "id": "urban-attraction",
      "metadata": {
        "id": "urban-attraction"
      },
      "source": [
        "## Saving and loading the model\n",
        "\n",
        "Since we've trained our model for a long time and achieved a resonable accuracy, it would be a good idea to save the weights and bias matrices to disk, so that we can reuse the model later and avoid retraining from scratch. Here's how you can save the model."
      ]
    },
    {
      "cell_type": "code",
      "execution_count": null,
      "id": "muslim-soundtrack",
      "metadata": {
        "id": "muslim-soundtrack"
      },
      "outputs": [],
      "source": [
        "torch.save(model.state_dict(), 'mnist_rogistic.pth')"
      ]
    },
    {
      "cell_type": "markdown",
      "id": "prime-resort",
      "metadata": {
        "id": "prime-resort"
      },
      "source": [
        "The `.state_dict` method returns an `OrderedDict` containing all the weights and bias matrices mapped to the right attributes of the model."
      ]
    },
    {
      "cell_type": "code",
      "execution_count": null,
      "id": "spectacular-pointer",
      "metadata": {
        "id": "spectacular-pointer",
        "outputId": "f3ffac00-42af-4d18-fbd6-445cfcdebd56"
      },
      "outputs": [
        {
          "name": "stdout",
          "output_type": "stream",
          "text": [
            "OrderedDict([('linear.weight', tensor([[ 0.0313,  0.0017,  0.0254,  ..., -0.0063,  0.0114, -0.0210],\n",
            "        [-0.0183,  0.0114,  0.0187,  ..., -0.0202,  0.0206, -0.0049],\n",
            "        [-0.0084, -0.0251, -0.0149,  ...,  0.0344, -0.0041,  0.0008],\n",
            "        ...,\n",
            "        [-0.0144, -0.0214, -0.0326,  ..., -0.0135,  0.0222, -0.0095],\n",
            "        [ 0.0212,  0.0163,  0.0235,  ...,  0.0003,  0.0239, -0.0074],\n",
            "        [-0.0037, -0.0247,  0.0177,  ...,  0.0221, -0.0278, -0.0285]])), ('linear.bias', tensor([-0.0445,  0.0958, -0.0258,  0.0058,  0.0045,  0.0687, -0.0029,  0.0646,\n",
            "        -0.0595, -0.0228]))])\n"
          ]
        }
      ],
      "source": [
        "print(model.state_dict())"
      ]
    },
    {
      "cell_type": "markdown",
      "id": "sudden-federal",
      "metadata": {
        "id": "sudden-federal"
      },
      "source": [
        "To load the model weights, we can instante a new object of the class `MnistModel`, and use the `.load_state_dict` method."
      ]
    },
    {
      "cell_type": "code",
      "execution_count": null,
      "id": "mediterranean-trust",
      "metadata": {
        "id": "mediterranean-trust"
      },
      "outputs": [],
      "source": [
        "model2 = MNIST_model()"
      ]
    },
    {
      "cell_type": "code",
      "execution_count": null,
      "id": "average-glucose",
      "metadata": {
        "id": "average-glucose",
        "outputId": "20e1577d-8fb4-4b97-ed3a-6ed3fa737f87"
      },
      "outputs": [
        {
          "data": {
            "text/plain": [
              "OrderedDict([('linear.weight',\n",
              "              tensor([[-0.0262,  0.0058,  0.0256,  ..., -0.0250, -0.0137, -0.0020],\n",
              "                      [ 0.0030,  0.0180, -0.0131,  ..., -0.0045, -0.0330,  0.0331],\n",
              "                      [-0.0067, -0.0177, -0.0355,  ...,  0.0135, -0.0262, -0.0016],\n",
              "                      ...,\n",
              "                      [-0.0039, -0.0117,  0.0109,  ..., -0.0242, -0.0134,  0.0138],\n",
              "                      [ 0.0054, -0.0126, -0.0296,  ...,  0.0257, -0.0093, -0.0089],\n",
              "                      [-0.0352,  0.0206, -0.0223,  ...,  0.0226, -0.0199,  0.0017]])),\n",
              "             ('linear.bias',\n",
              "              tensor([-0.0005, -0.0349, -0.0269, -0.0016,  0.0047,  0.0353,  0.0197, -0.0257,\n",
              "                       0.0336,  0.0025]))])"
            ]
          },
          "execution_count": 49,
          "metadata": {},
          "output_type": "execute_result"
        }
      ],
      "source": [
        "model2.state_dict()"
      ]
    },
    {
      "cell_type": "code",
      "execution_count": null,
      "id": "sound-acquisition",
      "metadata": {
        "id": "sound-acquisition",
        "outputId": "2eec2c4e-c637-41d6-f80a-cc8ec1b6afde"
      },
      "outputs": [
        {
          "name": "stdout",
          "output_type": "stream",
          "text": [
            "OrderedDict([('linear.weight', tensor([[ 0.0313,  0.0017,  0.0254,  ..., -0.0063,  0.0114, -0.0210],\n",
            "        [-0.0183,  0.0114,  0.0187,  ..., -0.0202,  0.0206, -0.0049],\n",
            "        [-0.0084, -0.0251, -0.0149,  ...,  0.0344, -0.0041,  0.0008],\n",
            "        ...,\n",
            "        [-0.0144, -0.0214, -0.0326,  ..., -0.0135,  0.0222, -0.0095],\n",
            "        [ 0.0212,  0.0163,  0.0235,  ...,  0.0003,  0.0239, -0.0074],\n",
            "        [-0.0037, -0.0247,  0.0177,  ...,  0.0221, -0.0278, -0.0285]])), ('linear.bias', tensor([-0.0445,  0.0958, -0.0258,  0.0058,  0.0045,  0.0687, -0.0029,  0.0646,\n",
            "        -0.0595, -0.0228]))])\n"
          ]
        }
      ],
      "source": [
        "model2.load_state_dict(torch.load('mnist_rogistic.pth'))\n",
        "print(model2.state_dict())"
      ]
    },
    {
      "cell_type": "markdown",
      "id": "aggressive-coverage",
      "metadata": {
        "id": "aggressive-coverage"
      },
      "source": [
        "Just as a sanity check, let's verify that this model has the same loss and accuracy on the test set as before."
      ]
    },
    {
      "cell_type": "code",
      "execution_count": null,
      "id": "accurate-display",
      "metadata": {
        "id": "accurate-display",
        "outputId": "0b05e363-7443-468e-f2c7-ed5fa943a66d"
      },
      "outputs": [
        {
          "name": "stderr",
          "output_type": "stream",
          "text": [
            "<ipython-input-22-759b3285446b>:3: UserWarning: To copy construct from a tensor, it is recommended to use sourceTensor.clone().detach() or sourceTensor.clone().detach().requires_grad_(True), rather than torch.tensor(sourceTensor).\n",
            "  return torch.tensor(torch.sum(label_preds == labels)).item() / labels.numel()\n"
          ]
        },
        {
          "name": "stdout",
          "output_type": "stream",
          "text": [
            "0.8524525316455697\n"
          ]
        }
      ],
      "source": [
        "test_dl = DataLoader(test_ds, batch_size)\n",
        "acc = []\n",
        "for batch in test_dl:\n",
        "    outs = model(batch[0])\n",
        "    acc.append(accuracy(outs, batch[1]))\n",
        "\n",
        "avg_acc = 0\n",
        "for accuracy in acc:\n",
        "    avg_acc += accuracy\n",
        "    \n",
        "avg_acc /= len(acc)\n",
        "print(avg_acc)"
      ]
    }
  ],
  "metadata": {
    "kernelspec": {
      "display_name": "Python 3",
      "language": "python",
      "name": "python3"
    },
    "language_info": {
      "codemirror_mode": {
        "name": "ipython",
        "version": 3
      },
      "file_extension": ".py",
      "mimetype": "text/x-python",
      "name": "python",
      "nbconvert_exporter": "python",
      "pygments_lexer": "ipython3",
      "version": "3.8.8"
    },
    "colab": {
      "provenance": []
    },
    "widgets": {
      "application/vnd.jupyter.widget-state+json": {
        "ce5ab77cfb754197850d9bcf75d0983e": {
          "model_module": "@jupyter-widgets/controls",
          "model_name": "HBoxModel",
          "model_module_version": "1.5.0",
          "state": {
            "_dom_classes": [],
            "_model_module": "@jupyter-widgets/controls",
            "_model_module_version": "1.5.0",
            "_model_name": "HBoxModel",
            "_view_count": null,
            "_view_module": "@jupyter-widgets/controls",
            "_view_module_version": "1.5.0",
            "_view_name": "HBoxView",
            "box_style": "",
            "children": [
              "IPY_MODEL_6bddb0ad4dc84b5eb564012f1679174d",
              "IPY_MODEL_144244d89ced487e91997a7a4b6c0a2e",
              "IPY_MODEL_48913ea9a6264923828e34375f70ea01"
            ],
            "layout": "IPY_MODEL_88e41be5d2eb4384b99483aed0c883fb"
          }
        },
        "6bddb0ad4dc84b5eb564012f1679174d": {
          "model_module": "@jupyter-widgets/controls",
          "model_name": "HTMLModel",
          "model_module_version": "1.5.0",
          "state": {
            "_dom_classes": [],
            "_model_module": "@jupyter-widgets/controls",
            "_model_module_version": "1.5.0",
            "_model_name": "HTMLModel",
            "_view_count": null,
            "_view_module": "@jupyter-widgets/controls",
            "_view_module_version": "1.5.0",
            "_view_name": "HTMLView",
            "description": "",
            "description_tooltip": null,
            "layout": "IPY_MODEL_3299f09513904d13afc29a9ea0c40456",
            "placeholder": "​",
            "style": "IPY_MODEL_479554679c2946a198ab63abd835258b",
            "value": "100%"
          }
        },
        "144244d89ced487e91997a7a4b6c0a2e": {
          "model_module": "@jupyter-widgets/controls",
          "model_name": "FloatProgressModel",
          "model_module_version": "1.5.0",
          "state": {
            "_dom_classes": [],
            "_model_module": "@jupyter-widgets/controls",
            "_model_module_version": "1.5.0",
            "_model_name": "FloatProgressModel",
            "_view_count": null,
            "_view_module": "@jupyter-widgets/controls",
            "_view_module_version": "1.5.0",
            "_view_name": "ProgressView",
            "bar_style": "success",
            "description": "",
            "description_tooltip": null,
            "layout": "IPY_MODEL_c715c23a7d224624882556c193d68080",
            "max": 9912422,
            "min": 0,
            "orientation": "horizontal",
            "style": "IPY_MODEL_ec33e2d0b7dd471dbc1f0acbdc5dd874",
            "value": 9912422
          }
        },
        "48913ea9a6264923828e34375f70ea01": {
          "model_module": "@jupyter-widgets/controls",
          "model_name": "HTMLModel",
          "model_module_version": "1.5.0",
          "state": {
            "_dom_classes": [],
            "_model_module": "@jupyter-widgets/controls",
            "_model_module_version": "1.5.0",
            "_model_name": "HTMLModel",
            "_view_count": null,
            "_view_module": "@jupyter-widgets/controls",
            "_view_module_version": "1.5.0",
            "_view_name": "HTMLView",
            "description": "",
            "description_tooltip": null,
            "layout": "IPY_MODEL_dfecd072f4b9444a8800aa72cb8aa009",
            "placeholder": "​",
            "style": "IPY_MODEL_aa42e82970ce479a93c4aa7ddf5fb48c",
            "value": " 9912422/9912422 [00:00&lt;00:00, 22386336.86it/s]"
          }
        },
        "88e41be5d2eb4384b99483aed0c883fb": {
          "model_module": "@jupyter-widgets/base",
          "model_name": "LayoutModel",
          "model_module_version": "1.2.0",
          "state": {
            "_model_module": "@jupyter-widgets/base",
            "_model_module_version": "1.2.0",
            "_model_name": "LayoutModel",
            "_view_count": null,
            "_view_module": "@jupyter-widgets/base",
            "_view_module_version": "1.2.0",
            "_view_name": "LayoutView",
            "align_content": null,
            "align_items": null,
            "align_self": null,
            "border": null,
            "bottom": null,
            "display": null,
            "flex": null,
            "flex_flow": null,
            "grid_area": null,
            "grid_auto_columns": null,
            "grid_auto_flow": null,
            "grid_auto_rows": null,
            "grid_column": null,
            "grid_gap": null,
            "grid_row": null,
            "grid_template_areas": null,
            "grid_template_columns": null,
            "grid_template_rows": null,
            "height": null,
            "justify_content": null,
            "justify_items": null,
            "left": null,
            "margin": null,
            "max_height": null,
            "max_width": null,
            "min_height": null,
            "min_width": null,
            "object_fit": null,
            "object_position": null,
            "order": null,
            "overflow": null,
            "overflow_x": null,
            "overflow_y": null,
            "padding": null,
            "right": null,
            "top": null,
            "visibility": null,
            "width": null
          }
        },
        "3299f09513904d13afc29a9ea0c40456": {
          "model_module": "@jupyter-widgets/base",
          "model_name": "LayoutModel",
          "model_module_version": "1.2.0",
          "state": {
            "_model_module": "@jupyter-widgets/base",
            "_model_module_version": "1.2.0",
            "_model_name": "LayoutModel",
            "_view_count": null,
            "_view_module": "@jupyter-widgets/base",
            "_view_module_version": "1.2.0",
            "_view_name": "LayoutView",
            "align_content": null,
            "align_items": null,
            "align_self": null,
            "border": null,
            "bottom": null,
            "display": null,
            "flex": null,
            "flex_flow": null,
            "grid_area": null,
            "grid_auto_columns": null,
            "grid_auto_flow": null,
            "grid_auto_rows": null,
            "grid_column": null,
            "grid_gap": null,
            "grid_row": null,
            "grid_template_areas": null,
            "grid_template_columns": null,
            "grid_template_rows": null,
            "height": null,
            "justify_content": null,
            "justify_items": null,
            "left": null,
            "margin": null,
            "max_height": null,
            "max_width": null,
            "min_height": null,
            "min_width": null,
            "object_fit": null,
            "object_position": null,
            "order": null,
            "overflow": null,
            "overflow_x": null,
            "overflow_y": null,
            "padding": null,
            "right": null,
            "top": null,
            "visibility": null,
            "width": null
          }
        },
        "479554679c2946a198ab63abd835258b": {
          "model_module": "@jupyter-widgets/controls",
          "model_name": "DescriptionStyleModel",
          "model_module_version": "1.5.0",
          "state": {
            "_model_module": "@jupyter-widgets/controls",
            "_model_module_version": "1.5.0",
            "_model_name": "DescriptionStyleModel",
            "_view_count": null,
            "_view_module": "@jupyter-widgets/base",
            "_view_module_version": "1.2.0",
            "_view_name": "StyleView",
            "description_width": ""
          }
        },
        "c715c23a7d224624882556c193d68080": {
          "model_module": "@jupyter-widgets/base",
          "model_name": "LayoutModel",
          "model_module_version": "1.2.0",
          "state": {
            "_model_module": "@jupyter-widgets/base",
            "_model_module_version": "1.2.0",
            "_model_name": "LayoutModel",
            "_view_count": null,
            "_view_module": "@jupyter-widgets/base",
            "_view_module_version": "1.2.0",
            "_view_name": "LayoutView",
            "align_content": null,
            "align_items": null,
            "align_self": null,
            "border": null,
            "bottom": null,
            "display": null,
            "flex": null,
            "flex_flow": null,
            "grid_area": null,
            "grid_auto_columns": null,
            "grid_auto_flow": null,
            "grid_auto_rows": null,
            "grid_column": null,
            "grid_gap": null,
            "grid_row": null,
            "grid_template_areas": null,
            "grid_template_columns": null,
            "grid_template_rows": null,
            "height": null,
            "justify_content": null,
            "justify_items": null,
            "left": null,
            "margin": null,
            "max_height": null,
            "max_width": null,
            "min_height": null,
            "min_width": null,
            "object_fit": null,
            "object_position": null,
            "order": null,
            "overflow": null,
            "overflow_x": null,
            "overflow_y": null,
            "padding": null,
            "right": null,
            "top": null,
            "visibility": null,
            "width": null
          }
        },
        "ec33e2d0b7dd471dbc1f0acbdc5dd874": {
          "model_module": "@jupyter-widgets/controls",
          "model_name": "ProgressStyleModel",
          "model_module_version": "1.5.0",
          "state": {
            "_model_module": "@jupyter-widgets/controls",
            "_model_module_version": "1.5.0",
            "_model_name": "ProgressStyleModel",
            "_view_count": null,
            "_view_module": "@jupyter-widgets/base",
            "_view_module_version": "1.2.0",
            "_view_name": "StyleView",
            "bar_color": null,
            "description_width": ""
          }
        },
        "dfecd072f4b9444a8800aa72cb8aa009": {
          "model_module": "@jupyter-widgets/base",
          "model_name": "LayoutModel",
          "model_module_version": "1.2.0",
          "state": {
            "_model_module": "@jupyter-widgets/base",
            "_model_module_version": "1.2.0",
            "_model_name": "LayoutModel",
            "_view_count": null,
            "_view_module": "@jupyter-widgets/base",
            "_view_module_version": "1.2.0",
            "_view_name": "LayoutView",
            "align_content": null,
            "align_items": null,
            "align_self": null,
            "border": null,
            "bottom": null,
            "display": null,
            "flex": null,
            "flex_flow": null,
            "grid_area": null,
            "grid_auto_columns": null,
            "grid_auto_flow": null,
            "grid_auto_rows": null,
            "grid_column": null,
            "grid_gap": null,
            "grid_row": null,
            "grid_template_areas": null,
            "grid_template_columns": null,
            "grid_template_rows": null,
            "height": null,
            "justify_content": null,
            "justify_items": null,
            "left": null,
            "margin": null,
            "max_height": null,
            "max_width": null,
            "min_height": null,
            "min_width": null,
            "object_fit": null,
            "object_position": null,
            "order": null,
            "overflow": null,
            "overflow_x": null,
            "overflow_y": null,
            "padding": null,
            "right": null,
            "top": null,
            "visibility": null,
            "width": null
          }
        },
        "aa42e82970ce479a93c4aa7ddf5fb48c": {
          "model_module": "@jupyter-widgets/controls",
          "model_name": "DescriptionStyleModel",
          "model_module_version": "1.5.0",
          "state": {
            "_model_module": "@jupyter-widgets/controls",
            "_model_module_version": "1.5.0",
            "_model_name": "DescriptionStyleModel",
            "_view_count": null,
            "_view_module": "@jupyter-widgets/base",
            "_view_module_version": "1.2.0",
            "_view_name": "StyleView",
            "description_width": ""
          }
        },
        "cf04ae026a7b4f698571454461fca21f": {
          "model_module": "@jupyter-widgets/controls",
          "model_name": "HBoxModel",
          "model_module_version": "1.5.0",
          "state": {
            "_dom_classes": [],
            "_model_module": "@jupyter-widgets/controls",
            "_model_module_version": "1.5.0",
            "_model_name": "HBoxModel",
            "_view_count": null,
            "_view_module": "@jupyter-widgets/controls",
            "_view_module_version": "1.5.0",
            "_view_name": "HBoxView",
            "box_style": "",
            "children": [
              "IPY_MODEL_358b7a3a368648bdbb047c7d08bbb267",
              "IPY_MODEL_546a486d038c45a980acd2824fda6caa",
              "IPY_MODEL_52f6b3a52e4b414da66d367700950eda"
            ],
            "layout": "IPY_MODEL_6e11bb392e2f4eb5adc24df89d82eadc"
          }
        },
        "358b7a3a368648bdbb047c7d08bbb267": {
          "model_module": "@jupyter-widgets/controls",
          "model_name": "HTMLModel",
          "model_module_version": "1.5.0",
          "state": {
            "_dom_classes": [],
            "_model_module": "@jupyter-widgets/controls",
            "_model_module_version": "1.5.0",
            "_model_name": "HTMLModel",
            "_view_count": null,
            "_view_module": "@jupyter-widgets/controls",
            "_view_module_version": "1.5.0",
            "_view_name": "HTMLView",
            "description": "",
            "description_tooltip": null,
            "layout": "IPY_MODEL_e6627dd2b58d4aa0bbc10312d1656026",
            "placeholder": "​",
            "style": "IPY_MODEL_8562f092e8fd459cad806edf3bfc4777",
            "value": "100%"
          }
        },
        "546a486d038c45a980acd2824fda6caa": {
          "model_module": "@jupyter-widgets/controls",
          "model_name": "FloatProgressModel",
          "model_module_version": "1.5.0",
          "state": {
            "_dom_classes": [],
            "_model_module": "@jupyter-widgets/controls",
            "_model_module_version": "1.5.0",
            "_model_name": "FloatProgressModel",
            "_view_count": null,
            "_view_module": "@jupyter-widgets/controls",
            "_view_module_version": "1.5.0",
            "_view_name": "ProgressView",
            "bar_style": "success",
            "description": "",
            "description_tooltip": null,
            "layout": "IPY_MODEL_f888931cfe934244a29b1deb5191d3ad",
            "max": 28881,
            "min": 0,
            "orientation": "horizontal",
            "style": "IPY_MODEL_04c6e13d8b2442a5948eb3888651ef6b",
            "value": 28881
          }
        },
        "52f6b3a52e4b414da66d367700950eda": {
          "model_module": "@jupyter-widgets/controls",
          "model_name": "HTMLModel",
          "model_module_version": "1.5.0",
          "state": {
            "_dom_classes": [],
            "_model_module": "@jupyter-widgets/controls",
            "_model_module_version": "1.5.0",
            "_model_name": "HTMLModel",
            "_view_count": null,
            "_view_module": "@jupyter-widgets/controls",
            "_view_module_version": "1.5.0",
            "_view_name": "HTMLView",
            "description": "",
            "description_tooltip": null,
            "layout": "IPY_MODEL_4400c025666f41639d97ee2d01f311ee",
            "placeholder": "​",
            "style": "IPY_MODEL_9031654aefc94b2ea9ee71710278f00e",
            "value": " 28881/28881 [00:00&lt;00:00, 299048.05it/s]"
          }
        },
        "6e11bb392e2f4eb5adc24df89d82eadc": {
          "model_module": "@jupyter-widgets/base",
          "model_name": "LayoutModel",
          "model_module_version": "1.2.0",
          "state": {
            "_model_module": "@jupyter-widgets/base",
            "_model_module_version": "1.2.0",
            "_model_name": "LayoutModel",
            "_view_count": null,
            "_view_module": "@jupyter-widgets/base",
            "_view_module_version": "1.2.0",
            "_view_name": "LayoutView",
            "align_content": null,
            "align_items": null,
            "align_self": null,
            "border": null,
            "bottom": null,
            "display": null,
            "flex": null,
            "flex_flow": null,
            "grid_area": null,
            "grid_auto_columns": null,
            "grid_auto_flow": null,
            "grid_auto_rows": null,
            "grid_column": null,
            "grid_gap": null,
            "grid_row": null,
            "grid_template_areas": null,
            "grid_template_columns": null,
            "grid_template_rows": null,
            "height": null,
            "justify_content": null,
            "justify_items": null,
            "left": null,
            "margin": null,
            "max_height": null,
            "max_width": null,
            "min_height": null,
            "min_width": null,
            "object_fit": null,
            "object_position": null,
            "order": null,
            "overflow": null,
            "overflow_x": null,
            "overflow_y": null,
            "padding": null,
            "right": null,
            "top": null,
            "visibility": null,
            "width": null
          }
        },
        "e6627dd2b58d4aa0bbc10312d1656026": {
          "model_module": "@jupyter-widgets/base",
          "model_name": "LayoutModel",
          "model_module_version": "1.2.0",
          "state": {
            "_model_module": "@jupyter-widgets/base",
            "_model_module_version": "1.2.0",
            "_model_name": "LayoutModel",
            "_view_count": null,
            "_view_module": "@jupyter-widgets/base",
            "_view_module_version": "1.2.0",
            "_view_name": "LayoutView",
            "align_content": null,
            "align_items": null,
            "align_self": null,
            "border": null,
            "bottom": null,
            "display": null,
            "flex": null,
            "flex_flow": null,
            "grid_area": null,
            "grid_auto_columns": null,
            "grid_auto_flow": null,
            "grid_auto_rows": null,
            "grid_column": null,
            "grid_gap": null,
            "grid_row": null,
            "grid_template_areas": null,
            "grid_template_columns": null,
            "grid_template_rows": null,
            "height": null,
            "justify_content": null,
            "justify_items": null,
            "left": null,
            "margin": null,
            "max_height": null,
            "max_width": null,
            "min_height": null,
            "min_width": null,
            "object_fit": null,
            "object_position": null,
            "order": null,
            "overflow": null,
            "overflow_x": null,
            "overflow_y": null,
            "padding": null,
            "right": null,
            "top": null,
            "visibility": null,
            "width": null
          }
        },
        "8562f092e8fd459cad806edf3bfc4777": {
          "model_module": "@jupyter-widgets/controls",
          "model_name": "DescriptionStyleModel",
          "model_module_version": "1.5.0",
          "state": {
            "_model_module": "@jupyter-widgets/controls",
            "_model_module_version": "1.5.0",
            "_model_name": "DescriptionStyleModel",
            "_view_count": null,
            "_view_module": "@jupyter-widgets/base",
            "_view_module_version": "1.2.0",
            "_view_name": "StyleView",
            "description_width": ""
          }
        },
        "f888931cfe934244a29b1deb5191d3ad": {
          "model_module": "@jupyter-widgets/base",
          "model_name": "LayoutModel",
          "model_module_version": "1.2.0",
          "state": {
            "_model_module": "@jupyter-widgets/base",
            "_model_module_version": "1.2.0",
            "_model_name": "LayoutModel",
            "_view_count": null,
            "_view_module": "@jupyter-widgets/base",
            "_view_module_version": "1.2.0",
            "_view_name": "LayoutView",
            "align_content": null,
            "align_items": null,
            "align_self": null,
            "border": null,
            "bottom": null,
            "display": null,
            "flex": null,
            "flex_flow": null,
            "grid_area": null,
            "grid_auto_columns": null,
            "grid_auto_flow": null,
            "grid_auto_rows": null,
            "grid_column": null,
            "grid_gap": null,
            "grid_row": null,
            "grid_template_areas": null,
            "grid_template_columns": null,
            "grid_template_rows": null,
            "height": null,
            "justify_content": null,
            "justify_items": null,
            "left": null,
            "margin": null,
            "max_height": null,
            "max_width": null,
            "min_height": null,
            "min_width": null,
            "object_fit": null,
            "object_position": null,
            "order": null,
            "overflow": null,
            "overflow_x": null,
            "overflow_y": null,
            "padding": null,
            "right": null,
            "top": null,
            "visibility": null,
            "width": null
          }
        },
        "04c6e13d8b2442a5948eb3888651ef6b": {
          "model_module": "@jupyter-widgets/controls",
          "model_name": "ProgressStyleModel",
          "model_module_version": "1.5.0",
          "state": {
            "_model_module": "@jupyter-widgets/controls",
            "_model_module_version": "1.5.0",
            "_model_name": "ProgressStyleModel",
            "_view_count": null,
            "_view_module": "@jupyter-widgets/base",
            "_view_module_version": "1.2.0",
            "_view_name": "StyleView",
            "bar_color": null,
            "description_width": ""
          }
        },
        "4400c025666f41639d97ee2d01f311ee": {
          "model_module": "@jupyter-widgets/base",
          "model_name": "LayoutModel",
          "model_module_version": "1.2.0",
          "state": {
            "_model_module": "@jupyter-widgets/base",
            "_model_module_version": "1.2.0",
            "_model_name": "LayoutModel",
            "_view_count": null,
            "_view_module": "@jupyter-widgets/base",
            "_view_module_version": "1.2.0",
            "_view_name": "LayoutView",
            "align_content": null,
            "align_items": null,
            "align_self": null,
            "border": null,
            "bottom": null,
            "display": null,
            "flex": null,
            "flex_flow": null,
            "grid_area": null,
            "grid_auto_columns": null,
            "grid_auto_flow": null,
            "grid_auto_rows": null,
            "grid_column": null,
            "grid_gap": null,
            "grid_row": null,
            "grid_template_areas": null,
            "grid_template_columns": null,
            "grid_template_rows": null,
            "height": null,
            "justify_content": null,
            "justify_items": null,
            "left": null,
            "margin": null,
            "max_height": null,
            "max_width": null,
            "min_height": null,
            "min_width": null,
            "object_fit": null,
            "object_position": null,
            "order": null,
            "overflow": null,
            "overflow_x": null,
            "overflow_y": null,
            "padding": null,
            "right": null,
            "top": null,
            "visibility": null,
            "width": null
          }
        },
        "9031654aefc94b2ea9ee71710278f00e": {
          "model_module": "@jupyter-widgets/controls",
          "model_name": "DescriptionStyleModel",
          "model_module_version": "1.5.0",
          "state": {
            "_model_module": "@jupyter-widgets/controls",
            "_model_module_version": "1.5.0",
            "_model_name": "DescriptionStyleModel",
            "_view_count": null,
            "_view_module": "@jupyter-widgets/base",
            "_view_module_version": "1.2.0",
            "_view_name": "StyleView",
            "description_width": ""
          }
        },
        "c8960037502942d19dc9713930993c06": {
          "model_module": "@jupyter-widgets/controls",
          "model_name": "HBoxModel",
          "model_module_version": "1.5.0",
          "state": {
            "_dom_classes": [],
            "_model_module": "@jupyter-widgets/controls",
            "_model_module_version": "1.5.0",
            "_model_name": "HBoxModel",
            "_view_count": null,
            "_view_module": "@jupyter-widgets/controls",
            "_view_module_version": "1.5.0",
            "_view_name": "HBoxView",
            "box_style": "",
            "children": [
              "IPY_MODEL_375a3cbf32cc4eac830458f53e703d73",
              "IPY_MODEL_c4c49c476ea2400d88b7a7a7ac8a5f5d",
              "IPY_MODEL_ee598b8fdb004c3dbb5b6d644522b384"
            ],
            "layout": "IPY_MODEL_5a167dabbf224a118cda81dc76ff7f4d"
          }
        },
        "375a3cbf32cc4eac830458f53e703d73": {
          "model_module": "@jupyter-widgets/controls",
          "model_name": "HTMLModel",
          "model_module_version": "1.5.0",
          "state": {
            "_dom_classes": [],
            "_model_module": "@jupyter-widgets/controls",
            "_model_module_version": "1.5.0",
            "_model_name": "HTMLModel",
            "_view_count": null,
            "_view_module": "@jupyter-widgets/controls",
            "_view_module_version": "1.5.0",
            "_view_name": "HTMLView",
            "description": "",
            "description_tooltip": null,
            "layout": "IPY_MODEL_81cbfa0c39604f789569d018eb214954",
            "placeholder": "​",
            "style": "IPY_MODEL_5f8efe5d6aaf48a5a7f7426e1f30d15f",
            "value": "100%"
          }
        },
        "c4c49c476ea2400d88b7a7a7ac8a5f5d": {
          "model_module": "@jupyter-widgets/controls",
          "model_name": "FloatProgressModel",
          "model_module_version": "1.5.0",
          "state": {
            "_dom_classes": [],
            "_model_module": "@jupyter-widgets/controls",
            "_model_module_version": "1.5.0",
            "_model_name": "FloatProgressModel",
            "_view_count": null,
            "_view_module": "@jupyter-widgets/controls",
            "_view_module_version": "1.5.0",
            "_view_name": "ProgressView",
            "bar_style": "success",
            "description": "",
            "description_tooltip": null,
            "layout": "IPY_MODEL_68a0dca885bd4d7894da30721dd2b468",
            "max": 1648877,
            "min": 0,
            "orientation": "horizontal",
            "style": "IPY_MODEL_87d673c0c581492b945f547e88c4a62a",
            "value": 1648877
          }
        },
        "ee598b8fdb004c3dbb5b6d644522b384": {
          "model_module": "@jupyter-widgets/controls",
          "model_name": "HTMLModel",
          "model_module_version": "1.5.0",
          "state": {
            "_dom_classes": [],
            "_model_module": "@jupyter-widgets/controls",
            "_model_module_version": "1.5.0",
            "_model_name": "HTMLModel",
            "_view_count": null,
            "_view_module": "@jupyter-widgets/controls",
            "_view_module_version": "1.5.0",
            "_view_name": "HTMLView",
            "description": "",
            "description_tooltip": null,
            "layout": "IPY_MODEL_59cbc5fcfe7141b488cd42807bd4c667",
            "placeholder": "​",
            "style": "IPY_MODEL_24b4e1fbaebf46cbb75c8cc3634bdb26",
            "value": " 1648877/1648877 [00:00&lt;00:00, 6950844.51it/s]"
          }
        },
        "5a167dabbf224a118cda81dc76ff7f4d": {
          "model_module": "@jupyter-widgets/base",
          "model_name": "LayoutModel",
          "model_module_version": "1.2.0",
          "state": {
            "_model_module": "@jupyter-widgets/base",
            "_model_module_version": "1.2.0",
            "_model_name": "LayoutModel",
            "_view_count": null,
            "_view_module": "@jupyter-widgets/base",
            "_view_module_version": "1.2.0",
            "_view_name": "LayoutView",
            "align_content": null,
            "align_items": null,
            "align_self": null,
            "border": null,
            "bottom": null,
            "display": null,
            "flex": null,
            "flex_flow": null,
            "grid_area": null,
            "grid_auto_columns": null,
            "grid_auto_flow": null,
            "grid_auto_rows": null,
            "grid_column": null,
            "grid_gap": null,
            "grid_row": null,
            "grid_template_areas": null,
            "grid_template_columns": null,
            "grid_template_rows": null,
            "height": null,
            "justify_content": null,
            "justify_items": null,
            "left": null,
            "margin": null,
            "max_height": null,
            "max_width": null,
            "min_height": null,
            "min_width": null,
            "object_fit": null,
            "object_position": null,
            "order": null,
            "overflow": null,
            "overflow_x": null,
            "overflow_y": null,
            "padding": null,
            "right": null,
            "top": null,
            "visibility": null,
            "width": null
          }
        },
        "81cbfa0c39604f789569d018eb214954": {
          "model_module": "@jupyter-widgets/base",
          "model_name": "LayoutModel",
          "model_module_version": "1.2.0",
          "state": {
            "_model_module": "@jupyter-widgets/base",
            "_model_module_version": "1.2.0",
            "_model_name": "LayoutModel",
            "_view_count": null,
            "_view_module": "@jupyter-widgets/base",
            "_view_module_version": "1.2.0",
            "_view_name": "LayoutView",
            "align_content": null,
            "align_items": null,
            "align_self": null,
            "border": null,
            "bottom": null,
            "display": null,
            "flex": null,
            "flex_flow": null,
            "grid_area": null,
            "grid_auto_columns": null,
            "grid_auto_flow": null,
            "grid_auto_rows": null,
            "grid_column": null,
            "grid_gap": null,
            "grid_row": null,
            "grid_template_areas": null,
            "grid_template_columns": null,
            "grid_template_rows": null,
            "height": null,
            "justify_content": null,
            "justify_items": null,
            "left": null,
            "margin": null,
            "max_height": null,
            "max_width": null,
            "min_height": null,
            "min_width": null,
            "object_fit": null,
            "object_position": null,
            "order": null,
            "overflow": null,
            "overflow_x": null,
            "overflow_y": null,
            "padding": null,
            "right": null,
            "top": null,
            "visibility": null,
            "width": null
          }
        },
        "5f8efe5d6aaf48a5a7f7426e1f30d15f": {
          "model_module": "@jupyter-widgets/controls",
          "model_name": "DescriptionStyleModel",
          "model_module_version": "1.5.0",
          "state": {
            "_model_module": "@jupyter-widgets/controls",
            "_model_module_version": "1.5.0",
            "_model_name": "DescriptionStyleModel",
            "_view_count": null,
            "_view_module": "@jupyter-widgets/base",
            "_view_module_version": "1.2.0",
            "_view_name": "StyleView",
            "description_width": ""
          }
        },
        "68a0dca885bd4d7894da30721dd2b468": {
          "model_module": "@jupyter-widgets/base",
          "model_name": "LayoutModel",
          "model_module_version": "1.2.0",
          "state": {
            "_model_module": "@jupyter-widgets/base",
            "_model_module_version": "1.2.0",
            "_model_name": "LayoutModel",
            "_view_count": null,
            "_view_module": "@jupyter-widgets/base",
            "_view_module_version": "1.2.0",
            "_view_name": "LayoutView",
            "align_content": null,
            "align_items": null,
            "align_self": null,
            "border": null,
            "bottom": null,
            "display": null,
            "flex": null,
            "flex_flow": null,
            "grid_area": null,
            "grid_auto_columns": null,
            "grid_auto_flow": null,
            "grid_auto_rows": null,
            "grid_column": null,
            "grid_gap": null,
            "grid_row": null,
            "grid_template_areas": null,
            "grid_template_columns": null,
            "grid_template_rows": null,
            "height": null,
            "justify_content": null,
            "justify_items": null,
            "left": null,
            "margin": null,
            "max_height": null,
            "max_width": null,
            "min_height": null,
            "min_width": null,
            "object_fit": null,
            "object_position": null,
            "order": null,
            "overflow": null,
            "overflow_x": null,
            "overflow_y": null,
            "padding": null,
            "right": null,
            "top": null,
            "visibility": null,
            "width": null
          }
        },
        "87d673c0c581492b945f547e88c4a62a": {
          "model_module": "@jupyter-widgets/controls",
          "model_name": "ProgressStyleModel",
          "model_module_version": "1.5.0",
          "state": {
            "_model_module": "@jupyter-widgets/controls",
            "_model_module_version": "1.5.0",
            "_model_name": "ProgressStyleModel",
            "_view_count": null,
            "_view_module": "@jupyter-widgets/base",
            "_view_module_version": "1.2.0",
            "_view_name": "StyleView",
            "bar_color": null,
            "description_width": ""
          }
        },
        "59cbc5fcfe7141b488cd42807bd4c667": {
          "model_module": "@jupyter-widgets/base",
          "model_name": "LayoutModel",
          "model_module_version": "1.2.0",
          "state": {
            "_model_module": "@jupyter-widgets/base",
            "_model_module_version": "1.2.0",
            "_model_name": "LayoutModel",
            "_view_count": null,
            "_view_module": "@jupyter-widgets/base",
            "_view_module_version": "1.2.0",
            "_view_name": "LayoutView",
            "align_content": null,
            "align_items": null,
            "align_self": null,
            "border": null,
            "bottom": null,
            "display": null,
            "flex": null,
            "flex_flow": null,
            "grid_area": null,
            "grid_auto_columns": null,
            "grid_auto_flow": null,
            "grid_auto_rows": null,
            "grid_column": null,
            "grid_gap": null,
            "grid_row": null,
            "grid_template_areas": null,
            "grid_template_columns": null,
            "grid_template_rows": null,
            "height": null,
            "justify_content": null,
            "justify_items": null,
            "left": null,
            "margin": null,
            "max_height": null,
            "max_width": null,
            "min_height": null,
            "min_width": null,
            "object_fit": null,
            "object_position": null,
            "order": null,
            "overflow": null,
            "overflow_x": null,
            "overflow_y": null,
            "padding": null,
            "right": null,
            "top": null,
            "visibility": null,
            "width": null
          }
        },
        "24b4e1fbaebf46cbb75c8cc3634bdb26": {
          "model_module": "@jupyter-widgets/controls",
          "model_name": "DescriptionStyleModel",
          "model_module_version": "1.5.0",
          "state": {
            "_model_module": "@jupyter-widgets/controls",
            "_model_module_version": "1.5.0",
            "_model_name": "DescriptionStyleModel",
            "_view_count": null,
            "_view_module": "@jupyter-widgets/base",
            "_view_module_version": "1.2.0",
            "_view_name": "StyleView",
            "description_width": ""
          }
        },
        "88a78e6c611843b6a3832a60eb0bde51": {
          "model_module": "@jupyter-widgets/controls",
          "model_name": "HBoxModel",
          "model_module_version": "1.5.0",
          "state": {
            "_dom_classes": [],
            "_model_module": "@jupyter-widgets/controls",
            "_model_module_version": "1.5.0",
            "_model_name": "HBoxModel",
            "_view_count": null,
            "_view_module": "@jupyter-widgets/controls",
            "_view_module_version": "1.5.0",
            "_view_name": "HBoxView",
            "box_style": "",
            "children": [
              "IPY_MODEL_d7db31d58e304eea83781afbfced5460",
              "IPY_MODEL_aecec7de30bb4a8db9788dbb990f081f",
              "IPY_MODEL_b59ff83343d64882be1c359b7d22d207"
            ],
            "layout": "IPY_MODEL_2f142e824319433d9f9a0987e7dabfdd"
          }
        },
        "d7db31d58e304eea83781afbfced5460": {
          "model_module": "@jupyter-widgets/controls",
          "model_name": "HTMLModel",
          "model_module_version": "1.5.0",
          "state": {
            "_dom_classes": [],
            "_model_module": "@jupyter-widgets/controls",
            "_model_module_version": "1.5.0",
            "_model_name": "HTMLModel",
            "_view_count": null,
            "_view_module": "@jupyter-widgets/controls",
            "_view_module_version": "1.5.0",
            "_view_name": "HTMLView",
            "description": "",
            "description_tooltip": null,
            "layout": "IPY_MODEL_91031bda2d044f3fb847e347e73e66d1",
            "placeholder": "​",
            "style": "IPY_MODEL_4634d8b31fc348dbacd84fd8ea095049",
            "value": "100%"
          }
        },
        "aecec7de30bb4a8db9788dbb990f081f": {
          "model_module": "@jupyter-widgets/controls",
          "model_name": "FloatProgressModel",
          "model_module_version": "1.5.0",
          "state": {
            "_dom_classes": [],
            "_model_module": "@jupyter-widgets/controls",
            "_model_module_version": "1.5.0",
            "_model_name": "FloatProgressModel",
            "_view_count": null,
            "_view_module": "@jupyter-widgets/controls",
            "_view_module_version": "1.5.0",
            "_view_name": "ProgressView",
            "bar_style": "success",
            "description": "",
            "description_tooltip": null,
            "layout": "IPY_MODEL_164b7ed1217e427f964aa289bcf973c9",
            "max": 4542,
            "min": 0,
            "orientation": "horizontal",
            "style": "IPY_MODEL_19f6a18c49bb42bf99648dcc959dbe63",
            "value": 4542
          }
        },
        "b59ff83343d64882be1c359b7d22d207": {
          "model_module": "@jupyter-widgets/controls",
          "model_name": "HTMLModel",
          "model_module_version": "1.5.0",
          "state": {
            "_dom_classes": [],
            "_model_module": "@jupyter-widgets/controls",
            "_model_module_version": "1.5.0",
            "_model_name": "HTMLModel",
            "_view_count": null,
            "_view_module": "@jupyter-widgets/controls",
            "_view_module_version": "1.5.0",
            "_view_name": "HTMLView",
            "description": "",
            "description_tooltip": null,
            "layout": "IPY_MODEL_e0c2eb56c5834e1780192dea2f573283",
            "placeholder": "​",
            "style": "IPY_MODEL_3123d966dfbf4c77a25e358bcc7b9934",
            "value": " 4542/4542 [00:00&lt;00:00, 16775.37it/s]"
          }
        },
        "2f142e824319433d9f9a0987e7dabfdd": {
          "model_module": "@jupyter-widgets/base",
          "model_name": "LayoutModel",
          "model_module_version": "1.2.0",
          "state": {
            "_model_module": "@jupyter-widgets/base",
            "_model_module_version": "1.2.0",
            "_model_name": "LayoutModel",
            "_view_count": null,
            "_view_module": "@jupyter-widgets/base",
            "_view_module_version": "1.2.0",
            "_view_name": "LayoutView",
            "align_content": null,
            "align_items": null,
            "align_self": null,
            "border": null,
            "bottom": null,
            "display": null,
            "flex": null,
            "flex_flow": null,
            "grid_area": null,
            "grid_auto_columns": null,
            "grid_auto_flow": null,
            "grid_auto_rows": null,
            "grid_column": null,
            "grid_gap": null,
            "grid_row": null,
            "grid_template_areas": null,
            "grid_template_columns": null,
            "grid_template_rows": null,
            "height": null,
            "justify_content": null,
            "justify_items": null,
            "left": null,
            "margin": null,
            "max_height": null,
            "max_width": null,
            "min_height": null,
            "min_width": null,
            "object_fit": null,
            "object_position": null,
            "order": null,
            "overflow": null,
            "overflow_x": null,
            "overflow_y": null,
            "padding": null,
            "right": null,
            "top": null,
            "visibility": null,
            "width": null
          }
        },
        "91031bda2d044f3fb847e347e73e66d1": {
          "model_module": "@jupyter-widgets/base",
          "model_name": "LayoutModel",
          "model_module_version": "1.2.0",
          "state": {
            "_model_module": "@jupyter-widgets/base",
            "_model_module_version": "1.2.0",
            "_model_name": "LayoutModel",
            "_view_count": null,
            "_view_module": "@jupyter-widgets/base",
            "_view_module_version": "1.2.0",
            "_view_name": "LayoutView",
            "align_content": null,
            "align_items": null,
            "align_self": null,
            "border": null,
            "bottom": null,
            "display": null,
            "flex": null,
            "flex_flow": null,
            "grid_area": null,
            "grid_auto_columns": null,
            "grid_auto_flow": null,
            "grid_auto_rows": null,
            "grid_column": null,
            "grid_gap": null,
            "grid_row": null,
            "grid_template_areas": null,
            "grid_template_columns": null,
            "grid_template_rows": null,
            "height": null,
            "justify_content": null,
            "justify_items": null,
            "left": null,
            "margin": null,
            "max_height": null,
            "max_width": null,
            "min_height": null,
            "min_width": null,
            "object_fit": null,
            "object_position": null,
            "order": null,
            "overflow": null,
            "overflow_x": null,
            "overflow_y": null,
            "padding": null,
            "right": null,
            "top": null,
            "visibility": null,
            "width": null
          }
        },
        "4634d8b31fc348dbacd84fd8ea095049": {
          "model_module": "@jupyter-widgets/controls",
          "model_name": "DescriptionStyleModel",
          "model_module_version": "1.5.0",
          "state": {
            "_model_module": "@jupyter-widgets/controls",
            "_model_module_version": "1.5.0",
            "_model_name": "DescriptionStyleModel",
            "_view_count": null,
            "_view_module": "@jupyter-widgets/base",
            "_view_module_version": "1.2.0",
            "_view_name": "StyleView",
            "description_width": ""
          }
        },
        "164b7ed1217e427f964aa289bcf973c9": {
          "model_module": "@jupyter-widgets/base",
          "model_name": "LayoutModel",
          "model_module_version": "1.2.0",
          "state": {
            "_model_module": "@jupyter-widgets/base",
            "_model_module_version": "1.2.0",
            "_model_name": "LayoutModel",
            "_view_count": null,
            "_view_module": "@jupyter-widgets/base",
            "_view_module_version": "1.2.0",
            "_view_name": "LayoutView",
            "align_content": null,
            "align_items": null,
            "align_self": null,
            "border": null,
            "bottom": null,
            "display": null,
            "flex": null,
            "flex_flow": null,
            "grid_area": null,
            "grid_auto_columns": null,
            "grid_auto_flow": null,
            "grid_auto_rows": null,
            "grid_column": null,
            "grid_gap": null,
            "grid_row": null,
            "grid_template_areas": null,
            "grid_template_columns": null,
            "grid_template_rows": null,
            "height": null,
            "justify_content": null,
            "justify_items": null,
            "left": null,
            "margin": null,
            "max_height": null,
            "max_width": null,
            "min_height": null,
            "min_width": null,
            "object_fit": null,
            "object_position": null,
            "order": null,
            "overflow": null,
            "overflow_x": null,
            "overflow_y": null,
            "padding": null,
            "right": null,
            "top": null,
            "visibility": null,
            "width": null
          }
        },
        "19f6a18c49bb42bf99648dcc959dbe63": {
          "model_module": "@jupyter-widgets/controls",
          "model_name": "ProgressStyleModel",
          "model_module_version": "1.5.0",
          "state": {
            "_model_module": "@jupyter-widgets/controls",
            "_model_module_version": "1.5.0",
            "_model_name": "ProgressStyleModel",
            "_view_count": null,
            "_view_module": "@jupyter-widgets/base",
            "_view_module_version": "1.2.0",
            "_view_name": "StyleView",
            "bar_color": null,
            "description_width": ""
          }
        },
        "e0c2eb56c5834e1780192dea2f573283": {
          "model_module": "@jupyter-widgets/base",
          "model_name": "LayoutModel",
          "model_module_version": "1.2.0",
          "state": {
            "_model_module": "@jupyter-widgets/base",
            "_model_module_version": "1.2.0",
            "_model_name": "LayoutModel",
            "_view_count": null,
            "_view_module": "@jupyter-widgets/base",
            "_view_module_version": "1.2.0",
            "_view_name": "LayoutView",
            "align_content": null,
            "align_items": null,
            "align_self": null,
            "border": null,
            "bottom": null,
            "display": null,
            "flex": null,
            "flex_flow": null,
            "grid_area": null,
            "grid_auto_columns": null,
            "grid_auto_flow": null,
            "grid_auto_rows": null,
            "grid_column": null,
            "grid_gap": null,
            "grid_row": null,
            "grid_template_areas": null,
            "grid_template_columns": null,
            "grid_template_rows": null,
            "height": null,
            "justify_content": null,
            "justify_items": null,
            "left": null,
            "margin": null,
            "max_height": null,
            "max_width": null,
            "min_height": null,
            "min_width": null,
            "object_fit": null,
            "object_position": null,
            "order": null,
            "overflow": null,
            "overflow_x": null,
            "overflow_y": null,
            "padding": null,
            "right": null,
            "top": null,
            "visibility": null,
            "width": null
          }
        },
        "3123d966dfbf4c77a25e358bcc7b9934": {
          "model_module": "@jupyter-widgets/controls",
          "model_name": "DescriptionStyleModel",
          "model_module_version": "1.5.0",
          "state": {
            "_model_module": "@jupyter-widgets/controls",
            "_model_module_version": "1.5.0",
            "_model_name": "DescriptionStyleModel",
            "_view_count": null,
            "_view_module": "@jupyter-widgets/base",
            "_view_module_version": "1.2.0",
            "_view_name": "StyleView",
            "description_width": ""
          }
        }
      }
    }
  },
  "nbformat": 4,
  "nbformat_minor": 5
}