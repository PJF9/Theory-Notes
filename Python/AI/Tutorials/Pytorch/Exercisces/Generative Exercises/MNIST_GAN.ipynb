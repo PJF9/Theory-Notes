{
  "nbformat": 4,
  "nbformat_minor": 0,
  "metadata": {
    "colab": {
      "provenance": []
    },
    "kernelspec": {
      "name": "python3",
      "display_name": "Python 3"
    },
    "language_info": {
      "name": "python"
    },
    "accelerator": "GPU",
    "gpuClass": "standard"
  },
  "cells": [
    {
      "cell_type": "markdown",
      "source": [
        "## Generating Handwrittn Digits"
      ],
      "metadata": {
        "id": "clsh3BX5EZve"
      }
    },
    {
      "cell_type": "code",
      "execution_count": 150,
      "metadata": {
        "id": "D3aSiI3w8F9p"
      },
      "outputs": [],
      "source": [
        "import torch\n",
        "from torch import nn, optim\n",
        "from torch.utils.data import DataLoader\n",
        "\n",
        "from torchvision import transforms, datasets\n",
        "from torchvision.utils import make_grid, save_image\n",
        "\n",
        "import matplotlib.pyplot as plt"
      ]
    },
    {
      "cell_type": "code",
      "source": [
        "from pathlib import Path\n",
        "from os import cpu_count\n",
        "from tqdm import tqdm\n",
        "from IPython.display import Image\n",
        "from timeit import default_timer as timer\n",
        "from shutil import rmtree"
      ],
      "metadata": {
        "id": "FlGNyqrHELik"
      },
      "execution_count": 151,
      "outputs": []
    },
    {
      "cell_type": "code",
      "source": [
        "!pip install torchinfo --quiet"
      ],
      "metadata": {
        "id": "ToXG7_ZpEUd5"
      },
      "execution_count": 152,
      "outputs": []
    },
    {
      "cell_type": "code",
      "source": [
        "from torchinfo import summary"
      ],
      "metadata": {
        "id": "Y4VkcPuHEXJc"
      },
      "execution_count": 153,
      "outputs": []
    },
    {
      "cell_type": "markdown",
      "source": [
        "## Setting Default Device"
      ],
      "metadata": {
        "id": "Hjhirrf3EjFk"
      }
    },
    {
      "cell_type": "code",
      "source": [
        "device = torch.device(\"cuda\" if torch.cuda.is_available() else \"cpu\")\n",
        "\n",
        "print(device)"
      ],
      "metadata": {
        "colab": {
          "base_uri": "https://localhost:8080/"
        },
        "id": "5dNlvMOhEYVe",
        "outputId": "ad58c798-91d8-4ab1-982d-59157f53d7c2"
      },
      "execution_count": 154,
      "outputs": [
        {
          "output_type": "stream",
          "name": "stdout",
          "text": [
            "cuda\n"
          ]
        }
      ]
    },
    {
      "cell_type": "markdown",
      "source": [
        "## Creating the Transformations"
      ],
      "metadata": {
        "id": "xiYCw5MHEust"
      }
    },
    {
      "cell_type": "code",
      "source": [
        "train_tr = transforms.Compose([\n",
        "    transforms.ToTensor(),\n",
        "    transforms.Normalize(mean=[0.5], std=[0.5])\n",
        "])"
      ],
      "metadata": {
        "id": "kAYOevOsExey"
      },
      "execution_count": 155,
      "outputs": []
    },
    {
      "cell_type": "code",
      "source": [
        "# Creating the Denormalize Function\n",
        "def denorm(x):\n",
        "    return (x + 1) / 2"
      ],
      "metadata": {
        "id": "JUCCrEJlFBeQ"
      },
      "execution_count": 156,
      "outputs": []
    },
    {
      "cell_type": "markdown",
      "source": [
        "## Loading the Dataset"
      ],
      "metadata": {
        "id": "WhkURKc_EsAk"
      }
    },
    {
      "cell_type": "code",
      "source": [
        "dataset = datasets.MNIST(root=\"/content\", download=True, train=True, transform=train_tr)\n",
        "\n",
        "print(len(dataset))"
      ],
      "metadata": {
        "colab": {
          "base_uri": "https://localhost:8080/"
        },
        "id": "d1zVXkiYErbx",
        "outputId": "fea753ec-fd98-45b8-fbdb-eb20eeda8ed7"
      },
      "execution_count": 157,
      "outputs": [
        {
          "output_type": "stream",
          "name": "stdout",
          "text": [
            "60000\n"
          ]
        }
      ]
    },
    {
      "cell_type": "markdown",
      "source": [
        "## Creating the Data Loader"
      ],
      "metadata": {
        "id": "MaLr5SmMFaqy"
      }
    },
    {
      "cell_type": "code",
      "source": [
        "BATCH_SIZE = 128\n",
        "\n",
        "train_dl = DataLoader(dataset=dataset,\n",
        "                      batch_size=BATCH_SIZE,\n",
        "                      shuffle=True,\n",
        "                      num_workers=cpu_count(),\n",
        "                      pin_memory=True)\n",
        "\n",
        "print(len(train_dl))"
      ],
      "metadata": {
        "colab": {
          "base_uri": "https://localhost:8080/"
        },
        "id": "i1JphgONLaAu",
        "outputId": "40a4e5bc-0567-4c40-e453-b18ebd6bfdba"
      },
      "execution_count": 158,
      "outputs": [
        {
          "output_type": "stream",
          "name": "stdout",
          "text": [
            "469\n"
          ]
        }
      ]
    },
    {
      "cell_type": "markdown",
      "source": [
        "## Creating the Discriminator Model"
      ],
      "metadata": {
        "id": "tXTcIXAuFzbZ"
      }
    },
    {
      "cell_type": "code",
      "source": [
        "class DiscriminatorN(nn.Module):\n",
        "    def __init__(self, image_size, hidden_size_1, hidden_size_2, hidden_size_3):\n",
        "        super().__init__()\n",
        "\n",
        "        self.linear_layer_1 = nn.Sequential(\n",
        "            nn.Flatten(),\n",
        "            nn.Linear(in_features=image_size, out_features=hidden_size_1),\n",
        "            nn.LeakyReLU(negative_slope=0.2, inplace=True)\n",
        "        )\n",
        "\n",
        "        self.linear_layer_2 = nn.Sequential(\n",
        "            nn.Linear(in_features=hidden_size_1, out_features=hidden_size_2),\n",
        "            nn.LeakyReLU(negative_slope=0.2, inplace=True)\n",
        "        )\n",
        "\n",
        "        self.linear_layer_3 = nn.Sequential(\n",
        "            nn.Linear(in_features=hidden_size_2, out_features=hidden_size_3),\n",
        "            nn.LeakyReLU(negative_slope=0.2, inplace=True)\n",
        "        )\n",
        "\n",
        "        self.linear_layer_4 = nn.Sequential(\n",
        "            nn.Linear(in_features=hidden_size_3, out_features=1),\n",
        "            nn.Sigmoid()\n",
        "        )\n",
        "\n",
        "    def forward(self, x):\n",
        "        return self.linear_layer_4(self.linear_layer_3(self.linear_layer_2(self.linear_layer_1(x))))"
      ],
      "metadata": {
        "id": "j2BAklXwFtop"
      },
      "execution_count": 159,
      "outputs": []
    },
    {
      "cell_type": "markdown",
      "source": [
        "## Initializing the Discriminator"
      ],
      "metadata": {
        "id": "GJB89GF7HvO9"
      }
    },
    {
      "cell_type": "code",
      "source": [
        "discriminator = DiscriminatorN(28*28, 128, 256, 512).to(device)\n",
        "\n",
        "summary(discriminator,\n",
        "        input_size=(BATCH_SIZE, 1, 28, 28),\n",
        "        col_names=[\"input_size\", \"output_size\", \"num_params\", \"trainable\"],\n",
        "        col_width=20,\n",
        "        row_settings=[\"var_names\"])"
      ],
      "metadata": {
        "id": "1-eVKBKEG2Jl",
        "colab": {
          "base_uri": "https://localhost:8080/"
        },
        "outputId": "14ef3006-80e7-426d-d11d-ba1dc4bf2c24"
      },
      "execution_count": 160,
      "outputs": [
        {
          "output_type": "execute_result",
          "data": {
            "text/plain": [
              "========================================================================================================================\n",
              "Layer (type (var_name))                  Input Shape          Output Shape         Param #              Trainable\n",
              "========================================================================================================================\n",
              "DiscriminatorN (DiscriminatorN)          [128, 1, 28, 28]     [128, 1]             --                   True\n",
              "├─Sequential (linear_layer_1)            [128, 1, 28, 28]     [128, 128]           --                   True\n",
              "│    └─Flatten (0)                       [128, 1, 28, 28]     [128, 784]           --                   --\n",
              "│    └─Linear (1)                        [128, 784]           [128, 128]           100,480              True\n",
              "│    └─LeakyReLU (2)                     [128, 128]           [128, 128]           --                   --\n",
              "├─Sequential (linear_layer_2)            [128, 128]           [128, 256]           --                   True\n",
              "│    └─Linear (0)                        [128, 128]           [128, 256]           33,024               True\n",
              "│    └─LeakyReLU (1)                     [128, 256]           [128, 256]           --                   --\n",
              "├─Sequential (linear_layer_3)            [128, 256]           [128, 512]           --                   True\n",
              "│    └─Linear (0)                        [128, 256]           [128, 512]           131,584              True\n",
              "│    └─LeakyReLU (1)                     [128, 512]           [128, 512]           --                   --\n",
              "├─Sequential (linear_layer_4)            [128, 512]           [128, 1]             --                   True\n",
              "│    └─Linear (0)                        [128, 512]           [128, 1]             513                  True\n",
              "│    └─Sigmoid (1)                       [128, 1]             [128, 1]             --                   --\n",
              "========================================================================================================================\n",
              "Total params: 265,601\n",
              "Trainable params: 265,601\n",
              "Non-trainable params: 0\n",
              "Total mult-adds (M): 34.00\n",
              "========================================================================================================================\n",
              "Input size (MB): 0.40\n",
              "Forward/backward pass size (MB): 0.92\n",
              "Params size (MB): 1.06\n",
              "Estimated Total Size (MB): 2.38\n",
              "========================================================================================================================"
            ]
          },
          "metadata": {},
          "execution_count": 160
        }
      ]
    },
    {
      "cell_type": "markdown",
      "source": [
        "## Creating the Generator Model"
      ],
      "metadata": {
        "id": "y3E5VtxGI_ST"
      }
    },
    {
      "cell_type": "code",
      "source": [
        "class GeneratorN(nn.Module):\n",
        "    def __init__(self, latent_size, hidden_size_1, hidden_size_2, hidden_size_3, image_size):\n",
        "        super().__init__()\n",
        "\n",
        "        self.linear_layer_1 = nn.Sequential(\n",
        "            nn.Flatten(),\n",
        "            nn.Linear(in_features=latent_size, out_features=hidden_size_1),\n",
        "            nn.ReLU(inplace=True)\n",
        "        )\n",
        "\n",
        "        self.linear_layer_2 = nn.Sequential(\n",
        "            nn.Linear(in_features=hidden_size_1, out_features=hidden_size_2),\n",
        "            nn.ReLU(inplace=True)\n",
        "        )\n",
        "\n",
        "        self.linear_layer_3 = nn.Sequential(\n",
        "            nn.Linear(in_features=hidden_size_2, out_features=hidden_size_3),\n",
        "            nn.ReLU(inplace=True)\n",
        "        )\n",
        "\n",
        "        self.linear_layer_4 = nn.Sequential(\n",
        "            nn.Linear(in_features=hidden_size_3, out_features=image_size),\n",
        "            nn.Tanh()\n",
        "        )\n",
        "\n",
        "    def forward(self, x):\n",
        "        return self.linear_layer_4(self.linear_layer_3(self.linear_layer_2(self.linear_layer_1(x))))"
      ],
      "metadata": {
        "id": "WrtwReGFJSuS"
      },
      "execution_count": 161,
      "outputs": []
    },
    {
      "cell_type": "markdown",
      "source": [
        "## Initializing the Generator"
      ],
      "metadata": {
        "id": "E02DmLyBJ8Ep"
      }
    },
    {
      "cell_type": "code",
      "source": [
        "LATENT_SIZE = 128"
      ],
      "metadata": {
        "id": "TkM4MjSFJ7Yz"
      },
      "execution_count": 162,
      "outputs": []
    },
    {
      "cell_type": "code",
      "source": [
        "generator = GeneratorN(LATENT_SIZE, 512, 256, 128, 28*28).to(device)\n",
        "\n",
        "summary(generator,\n",
        "        input_size=(BATCH_SIZE, LATENT_SIZE),\n",
        "        col_names=[\"input_size\", \"output_size\", \"num_params\", \"trainable\"],\n",
        "        col_width=20,\n",
        "        row_settings=[\"var_names\"])"
      ],
      "metadata": {
        "colab": {
          "base_uri": "https://localhost:8080/"
        },
        "id": "YhNYb6tuKCvz",
        "outputId": "fd87f40c-1349-4d4e-e71d-ba904c765fc8"
      },
      "execution_count": 163,
      "outputs": [
        {
          "output_type": "execute_result",
          "data": {
            "text/plain": [
              "========================================================================================================================\n",
              "Layer (type (var_name))                  Input Shape          Output Shape         Param #              Trainable\n",
              "========================================================================================================================\n",
              "GeneratorN (GeneratorN)                  [128, 128]           [128, 784]           --                   True\n",
              "├─Sequential (linear_layer_1)            [128, 128]           [128, 512]           --                   True\n",
              "│    └─Flatten (0)                       [128, 128]           [128, 128]           --                   --\n",
              "│    └─Linear (1)                        [128, 128]           [128, 512]           66,048               True\n",
              "│    └─ReLU (2)                          [128, 512]           [128, 512]           --                   --\n",
              "├─Sequential (linear_layer_2)            [128, 512]           [128, 256]           --                   True\n",
              "│    └─Linear (0)                        [128, 512]           [128, 256]           131,328              True\n",
              "│    └─ReLU (1)                          [128, 256]           [128, 256]           --                   --\n",
              "├─Sequential (linear_layer_3)            [128, 256]           [128, 128]           --                   True\n",
              "│    └─Linear (0)                        [128, 256]           [128, 128]           32,896               True\n",
              "│    └─ReLU (1)                          [128, 128]           [128, 128]           --                   --\n",
              "├─Sequential (linear_layer_4)            [128, 128]           [128, 784]           --                   True\n",
              "│    └─Linear (0)                        [128, 128]           [128, 784]           101,136              True\n",
              "│    └─Tanh (1)                          [128, 784]           [128, 784]           --                   --\n",
              "========================================================================================================================\n",
              "Total params: 331,408\n",
              "Trainable params: 331,408\n",
              "Non-trainable params: 0\n",
              "Total mult-adds (M): 42.42\n",
              "========================================================================================================================\n",
              "Input size (MB): 0.07\n",
              "Forward/backward pass size (MB): 1.72\n",
              "Params size (MB): 1.33\n",
              "Estimated Total Size (MB): 3.11\n",
              "========================================================================================================================"
            ]
          },
          "metadata": {},
          "execution_count": 163
        }
      ]
    },
    {
      "cell_type": "markdown",
      "source": [
        "## Generating some Digits"
      ],
      "metadata": {
        "id": "sG3eYIrbKemI"
      }
    },
    {
      "cell_type": "code",
      "source": [
        "latent = torch.randn(size=(BATCH_SIZE, LATENT_SIZE), device=device)"
      ],
      "metadata": {
        "id": "4VrV3PBTKg50"
      },
      "execution_count": 164,
      "outputs": []
    },
    {
      "cell_type": "code",
      "source": [
        "generator.eval()\n",
        "with torch.inference_mode():\n",
        "    gen_images = generator(latent)"
      ],
      "metadata": {
        "id": "SUjmS5KPKqSF"
      },
      "execution_count": 165,
      "outputs": []
    },
    {
      "cell_type": "code",
      "source": [
        "denorm_image = denorm(gen_images.reshape(BATCH_SIZE, 1, 28, 28))"
      ],
      "metadata": {
        "id": "BumUx5wGKxjW"
      },
      "execution_count": 166,
      "outputs": []
    },
    {
      "cell_type": "code",
      "source": [
        "plt.imshow(denorm_image[0].permute(1, 2, 0).cpu(), cmap=\"gray\")\n",
        "plt.axis(False);"
      ],
      "metadata": {
        "colab": {
          "base_uri": "https://localhost:8080/",
          "height": 248
        },
        "id": "pH-24Oz_K-MJ",
        "outputId": "3c0fc82a-e0c0-401b-8d7b-786485f79705"
      },
      "execution_count": 167,
      "outputs": [
        {
          "output_type": "display_data",
          "data": {
            "text/plain": [
              "<Figure size 432x288 with 1 Axes>"
            ],
            "image/png": "[encoded data removed]"
          },
          "metadata": {
            "needs_background": "light"
          }
        }
      ]
    },
    {
      "cell_type": "markdown",
      "source": [
        "## Discriminator Training"
      ],
      "metadata": {
        "id": "Sx6cLtKhMBWX"
      }
    },
    {
      "cell_type": "code",
      "source": [
        "def train_discriminator(discriminator, generator, real_image_batch, loss_fn, opt_dis, opt_gen, latent_size):\n",
        "    # Setting Devices, Batch Size and Latent\n",
        "    dis_device = next(discriminator.parameters()).device\n",
        "    gen_device = next(generator.parameters()).device\n",
        "\n",
        "    batch_size = real_image_batch.shape[0]\n",
        "    latent = torch.randn(size=(batch_size, latent_size, 1, 1))\n",
        "\n",
        "    # Setting Real and Fake Labels\n",
        "    real_labels = torch.ones(batch_size, 1, device=dis_device)\n",
        "    fake_labels = torch.zeros(batch_size, 1, device=dis_device)\n",
        "\n",
        "    # Calculating Loss and Score for Real Images\n",
        "    real_preds = discriminator(real_image_batch.to(dis_device))\n",
        "\n",
        "    real_loss = loss_fn(real_preds, real_labels)\n",
        "    real_score = torch.mean(real_preds).item()\n",
        "\n",
        "    # Calculating Loss and Score for Fake Images\n",
        "    fake_images = generator(latent.to(gen_device))\n",
        "\n",
        "    fake_preds = discriminator(fake_images.to(dis_device))\n",
        "\n",
        "    fake_loss = loss_fn(fake_preds, fake_labels)\n",
        "    fake_score = torch.mean(fake_preds).item()\n",
        "\n",
        "    # Updating Discriminator Parameters\n",
        "    loss = real_loss + fake_loss\n",
        "\n",
        "    opt_dis.zero_grad()\n",
        "    opt_gen.zero_grad()\n",
        "    loss.backward()\n",
        "    opt_dis.step()\n",
        "\n",
        "    return round(loss.item(), 4), round(real_score, 4), round(fake_score, 4)"
      ],
      "metadata": {
        "id": "SLUuDiwWMC_O"
      },
      "execution_count": 168,
      "outputs": []
    },
    {
      "cell_type": "markdown",
      "source": [
        "## Generator Training"
      ],
      "metadata": {
        "id": "4y6ZdLyhN3X4"
      }
    },
    {
      "cell_type": "code",
      "source": [
        "def train_generator(discriminator, generator, batch_size, latent_size, loss_fn, opt_dis, opt_gen):\n",
        "    # Setting Devices, Latent and Labels\n",
        "    dis_device = next(discriminator.parameters()).device\n",
        "    gen_device = next(generator.parameters()).device\n",
        "\n",
        "    latent = torch.randn(size=(batch_size, latent_size))\n",
        "\n",
        "    labels = torch.ones(batch_size, 1, device=dis_device)\n",
        "\n",
        "    # Generating Fake image and Calculating Loss\n",
        "    fake_image = generator(latent.to(gen_device))\n",
        "\n",
        "    fake_pred = discriminator(fake_image.to(dis_device))\n",
        "\n",
        "    loss = loss_fn(fake_pred, labels)\n",
        "\n",
        "    # Updating Generator Parameters\n",
        "    opt_dis.zero_grad()\n",
        "    opt_gen.zero_grad()\n",
        "    loss.backward()  \n",
        "    opt_gen.step()\n",
        "\n",
        "    return round(loss.item(), 4), fake_image"
      ],
      "metadata": {
        "id": "ometc1PnNsNy"
      },
      "execution_count": 169,
      "outputs": []
    },
    {
      "cell_type": "markdown",
      "source": [
        "## Setting Path for saving the Generated Images\n"
      ],
      "metadata": {
        "id": "jt5D4UYAPfjt"
      }
    },
    {
      "cell_type": "code",
      "source": [
        "generated_image_path = Path(\"/content/generated\")\n",
        "\n",
        "if generated_image_path.is_dir():\n",
        "    rmtree(generated_image_path)\n",
        "\n",
        "generated_image_path.mkdir(parents=True, exist_ok=True)"
      ],
      "metadata": {
        "id": "ssjBB-NePlj2"
      },
      "execution_count": 170,
      "outputs": []
    },
    {
      "cell_type": "code",
      "source": [
        "# Creating a Function to Save a Grid of Images\n",
        "def save_gen_images(generator, path, batch_size, latent_size, index=0, images_name=\"generated_images\", nrows=10, print_info=False):\n",
        "    generator.eval()\n",
        "    with torch.inference_mode():\n",
        "\n",
        "        # Creating latent and generating the images\n",
        "        latent = torch.randn(size=(batch_size, latent_size), device=next(generator.parameters()).device)\n",
        "        fake_images = generator(latent).reshape(batch_size, 1, 28, 28)\n",
        "        generated_image_grid_name = f\"{images_name}_{index:0=4d}.jpg\"\n",
        "    \n",
        "    if print_info:\n",
        "        print(f\"\\t[INFO] Saving {generated_image_grid_name} to {path}/\")\n",
        "\n",
        "    save_image(denorm(fake_images)[:nrows**2], path / generated_image_grid_name, nrow=nrows)\n",
        "\n",
        "    if print_info:\n",
        "        print(f\"\\t[INFO] {generated_image_grid_name} saved succesfully to {path}/\")"
      ],
      "metadata": {
        "id": "To23t69NP1kN"
      },
      "execution_count": 171,
      "outputs": []
    },
    {
      "cell_type": "code",
      "source": [
        "save_gen_images(generator, generated_image_path, BATCH_SIZE, LATENT_SIZE)"
      ],
      "metadata": {
        "id": "jzU8-LS9Rdiy"
      },
      "execution_count": 172,
      "outputs": []
    },
    {
      "cell_type": "code",
      "source": [
        "Image(generated_image_path / \"generated_images_0000.jpg\")"
      ],
      "metadata": {
        "colab": {
          "base_uri": "https://localhost:8080/",
          "height": 319
        },
        "id": "xirZBREIRle5",
        "outputId": "35753919-400c-4386-9529-919938c51ae1"
      },
      "execution_count": 173,
      "outputs": [
        {
          "output_type": "execute_result",
          "data": {
            "image/jpeg": "[encoded data removed]",
            "text/plain": [
              "<IPython.core.display.Image object>"
            ]
          },
          "metadata": {},
          "execution_count": 173
        }
      ]
    },
    {
      "cell_type": "markdown",
      "source": [
        "## Creating the Training/Evaluating Loop"
      ],
      "metadata": {
        "id": "u07BA0VLPQTm"
      }
    },
    {
      "cell_type": "code",
      "source": [
        "def fit(discriminator, generator, epochs, train_dl, latent_size, loss_fn, opt_dis, opt_gen, print_per_epoch=1):\n",
        "    start_time = timer()\n",
        "\n",
        "    # Setting Evaluating Lists and Batch Size\n",
        "    dis_losses, gen_losses = [], []\n",
        "    real_scores, fake_scores = [], []\n",
        "\n",
        "    batch_size = train_dl.batch_size\n",
        "\n",
        "    i = 1\n",
        "    \n",
        "    print(\"Starting Process...\\n\")\n",
        "\n",
        "    for epoch in range(1, epochs + 1):\n",
        "        print(f\"Epoch: {epoch} | Training: \", end=\"\")\n",
        "        for real_image_batch, _ in tqdm(train_dl):\n",
        "            \n",
        "            # Training the 2 models\n",
        "            dis_loss, real_score, fake_score = train_discriminator(discriminator,\n",
        "                                                                   generator,\n",
        "                                                                   real_image_batch,\n",
        "                                                                   loss_fn,\n",
        "                                                                   opt_dis,\n",
        "                                                                   opt_gen,\n",
        "                                                                   latent_size)\n",
        "            gen_loss, generated_image = train_generator(discriminator,\n",
        "                                                        generator,\n",
        "                                                        batch_size,\n",
        "                                                        latent_size,\n",
        "                                                        loss_fn,\n",
        "                                                        opt_dis,\n",
        "                                                        opt_gen)\n",
        "            \n",
        "        # Updating Evaluating Lists\n",
        "        dis_losses.append(dis_loss)\n",
        "        gen_losses.append(gen_loss)\n",
        "        real_scores.append(real_score)\n",
        "        fake_scores.append(fake_score)\n",
        "    \n",
        "        if epoch % print_per_epoch == 0:\n",
        "\n",
        "            # Saving the Generated Image Batch\n",
        "            save_gen_images(generator, generated_image_path, batch_size, latent_size, i)\n",
        "            i += 1\n",
        "\n",
        "            # Printing Results\n",
        "            print(\n",
        "                f\"\\tDiscr_Loss: {dis_loss} | \"\n",
        "                f\"Gen_Loss: {gen_loss} | \"\n",
        "                f\"Real_Score: {real_score} | \"\n",
        "                f\"Fake_Score: {fake_score}\")\n",
        "            print('-' * 93, end=\"\\n\\n\")\n",
        "\n",
        "    print(\"Process Completed Succesfully...\")\n",
        "\n",
        "    return dis_losses, gen_losses, real_scores, fake_scores, (timer() - start_time)"
      ],
      "metadata": {
        "id": "5OYTPIu0PPkZ"
      },
      "execution_count": 174,
      "outputs": []
    },
    {
      "cell_type": "markdown",
      "source": [
        "## Setting Loss Function and Optimizers"
      ],
      "metadata": {
        "id": "y0S91ZkmVj9Z"
      }
    },
    {
      "cell_type": "code",
      "source": [
        "loss_fn = nn.BCELoss()\n",
        "\n",
        "opt_dis = optim.Adam(discriminator.parameters(), lr=0.0002)\n",
        "opt_gen = optim.Adam(generator.parameters(), lr=0.0002)"
      ],
      "metadata": {
        "id": "xY6xNZkLVnrd"
      },
      "execution_count": 175,
      "outputs": []
    },
    {
      "cell_type": "markdown",
      "source": [
        "## Training the Model"
      ],
      "metadata": {
        "id": "miYyEsqPVSmh"
      }
    },
    {
      "cell_type": "code",
      "source": [
        "history = fit(discriminator, generator, 20, train_dl, LATENT_SIZE, loss_fn, opt_dis, opt_gen)"
      ],
      "metadata": {
        "colab": {
          "base_uri": "https://localhost:8080/"
        },
        "id": "UsPJDQdXVKeu",
        "outputId": "e6faa37a-bb8d-42ef-fe86-b91988561d13"
      },
      "execution_count": 176,
      "outputs": [
        {
          "output_type": "stream",
          "name": "stdout",
          "text": [
            "Starting Process...\n",
            "\n",
            "Epoch: 1 | Training: "
          ]
        },
        {
          "output_type": "stream",
          "name": "stderr",
          "text": [
            "100%|██████████| 469/469 [00:23<00:00, 20.17it/s]\n"
          ]
        },
        {
          "output_type": "stream",
          "name": "stdout",
          "text": [
            "\tDiscr_Loss: 0.0085 | Gen_Loss: 10.2597 | Real_Score: 0.9929 | Fake_Score: 0.001\n",
            "---------------------------------------------------------------------------------------------\n",
            "\n",
            "Epoch: 2 | Training: "
          ]
        },
        {
          "output_type": "stream",
          "name": "stderr",
          "text": [
            "100%|██████████| 469/469 [00:18<00:00, 25.72it/s]\n"
          ]
        },
        {
          "output_type": "stream",
          "name": "stdout",
          "text": [
            "\tDiscr_Loss: 0.0651 | Gen_Loss: 6.2988 | Real_Score: 0.9836 | Fake_Score: 0.0454\n",
            "---------------------------------------------------------------------------------------------\n",
            "\n",
            "Epoch: 3 | Training: "
          ]
        },
        {
          "output_type": "stream",
          "name": "stderr",
          "text": [
            "100%|██████████| 469/469 [00:17<00:00, 27.55it/s]\n"
          ]
        },
        {
          "output_type": "stream",
          "name": "stdout",
          "text": [
            "\tDiscr_Loss: 0.563 | Gen_Loss: 8.1932 | Real_Score: 0.9591 | Fake_Score: 0.3816\n",
            "---------------------------------------------------------------------------------------------\n",
            "\n",
            "Epoch: 4 | Training: "
          ]
        },
        {
          "output_type": "stream",
          "name": "stderr",
          "text": [
            "100%|██████████| 469/469 [00:18<00:00, 25.82it/s]\n"
          ]
        },
        {
          "output_type": "stream",
          "name": "stdout",
          "text": [
            "\tDiscr_Loss: 0.5619 | Gen_Loss: 6.1274 | Real_Score: 0.8987 | Fake_Score: 0.2044\n",
            "---------------------------------------------------------------------------------------------\n",
            "\n",
            "Epoch: 5 | Training: "
          ]
        },
        {
          "output_type": "stream",
          "name": "stderr",
          "text": [
            "100%|██████████| 469/469 [00:26<00:00, 17.86it/s]\n"
          ]
        },
        {
          "output_type": "stream",
          "name": "stdout",
          "text": [
            "\tDiscr_Loss: 0.368 | Gen_Loss: 3.2148 | Real_Score: 0.8688 | Fake_Score: 0.1195\n",
            "---------------------------------------------------------------------------------------------\n",
            "\n",
            "Epoch: 6 | Training: "
          ]
        },
        {
          "output_type": "stream",
          "name": "stderr",
          "text": [
            "100%|██████████| 469/469 [00:26<00:00, 17.68it/s]\n"
          ]
        },
        {
          "output_type": "stream",
          "name": "stdout",
          "text": [
            "\tDiscr_Loss: 0.0993 | Gen_Loss: 3.6415 | Real_Score: 0.9849 | Fake_Score: 0.0779\n",
            "---------------------------------------------------------------------------------------------\n",
            "\n",
            "Epoch: 7 | Training: "
          ]
        },
        {
          "output_type": "stream",
          "name": "stderr",
          "text": [
            "100%|██████████| 469/469 [00:21<00:00, 21.76it/s]\n"
          ]
        },
        {
          "output_type": "stream",
          "name": "stdout",
          "text": [
            "\tDiscr_Loss: 2.1851 | Gen_Loss: 1.2551 | Real_Score: 0.4889 | Fake_Score: 0.5328\n",
            "---------------------------------------------------------------------------------------------\n",
            "\n",
            "Epoch: 8 | Training: "
          ]
        },
        {
          "output_type": "stream",
          "name": "stderr",
          "text": [
            "100%|██████████| 469/469 [00:21<00:00, 22.32it/s]\n"
          ]
        },
        {
          "output_type": "stream",
          "name": "stdout",
          "text": [
            "\tDiscr_Loss: 0.8725 | Gen_Loss: 1.649 | Real_Score: 0.6372 | Fake_Score: 0.1783\n",
            "---------------------------------------------------------------------------------------------\n",
            "\n",
            "Epoch: 9 | Training: "
          ]
        },
        {
          "output_type": "stream",
          "name": "stderr",
          "text": [
            "100%|██████████| 469/469 [00:21<00:00, 22.29it/s]\n"
          ]
        },
        {
          "output_type": "stream",
          "name": "stdout",
          "text": [
            "\tDiscr_Loss: 0.3866 | Gen_Loss: 3.3375 | Real_Score: 0.8576 | Fake_Score: 0.1526\n",
            "---------------------------------------------------------------------------------------------\n",
            "\n",
            "Epoch: 10 | Training: "
          ]
        },
        {
          "output_type": "stream",
          "name": "stderr",
          "text": [
            "100%|██████████| 469/469 [00:17<00:00, 27.06it/s]\n"
          ]
        },
        {
          "output_type": "stream",
          "name": "stdout",
          "text": [
            "\tDiscr_Loss: 0.2744 | Gen_Loss: 3.1314 | Real_Score: 0.8813 | Fake_Score: 0.112\n",
            "---------------------------------------------------------------------------------------------\n",
            "\n",
            "Epoch: 11 | Training: "
          ]
        },
        {
          "output_type": "stream",
          "name": "stderr",
          "text": [
            "100%|██████████| 469/469 [00:17<00:00, 27.35it/s]\n"
          ]
        },
        {
          "output_type": "stream",
          "name": "stdout",
          "text": [
            "\tDiscr_Loss: 0.3213 | Gen_Loss: 2.2899 | Real_Score: 0.9004 | Fake_Score: 0.1824\n",
            "---------------------------------------------------------------------------------------------\n",
            "\n",
            "Epoch: 12 | Training: "
          ]
        },
        {
          "output_type": "stream",
          "name": "stderr",
          "text": [
            "100%|██████████| 469/469 [00:16<00:00, 28.05it/s]\n"
          ]
        },
        {
          "output_type": "stream",
          "name": "stdout",
          "text": [
            "\tDiscr_Loss: 1.8238 | Gen_Loss: 1.4457 | Real_Score: 0.6139 | Fake_Score: 0.5605\n",
            "---------------------------------------------------------------------------------------------\n",
            "\n",
            "Epoch: 13 | Training: "
          ]
        },
        {
          "output_type": "stream",
          "name": "stderr",
          "text": [
            "100%|██████████| 469/469 [00:16<00:00, 28.42it/s]\n"
          ]
        },
        {
          "output_type": "stream",
          "name": "stdout",
          "text": [
            "\tDiscr_Loss: 0.846 | Gen_Loss: 2.1161 | Real_Score: 0.6689 | Fake_Score: 0.2579\n",
            "---------------------------------------------------------------------------------------------\n",
            "\n",
            "Epoch: 14 | Training: "
          ]
        },
        {
          "output_type": "stream",
          "name": "stderr",
          "text": [
            "100%|██████████| 469/469 [00:17<00:00, 27.44it/s]\n"
          ]
        },
        {
          "output_type": "stream",
          "name": "stdout",
          "text": [
            "\tDiscr_Loss: 0.4084 | Gen_Loss: 2.0432 | Real_Score: 0.8148 | Fake_Score: 0.1752\n",
            "---------------------------------------------------------------------------------------------\n",
            "\n",
            "Epoch: 15 | Training: "
          ]
        },
        {
          "output_type": "stream",
          "name": "stderr",
          "text": [
            "100%|██████████| 469/469 [00:16<00:00, 28.86it/s]\n"
          ]
        },
        {
          "output_type": "stream",
          "name": "stdout",
          "text": [
            "\tDiscr_Loss: 8.9834 | Gen_Loss: 1.8058 | Real_Score: 0.0987 | Fake_Score: 0.7477\n",
            "---------------------------------------------------------------------------------------------\n",
            "\n",
            "Epoch: 16 | Training: "
          ]
        },
        {
          "output_type": "stream",
          "name": "stderr",
          "text": [
            "100%|██████████| 469/469 [00:16<00:00, 28.39it/s]\n"
          ]
        },
        {
          "output_type": "stream",
          "name": "stdout",
          "text": [
            "\tDiscr_Loss: 1.799 | Gen_Loss: 2.2498 | Real_Score: 0.6787 | Fake_Score: 0.5806\n",
            "---------------------------------------------------------------------------------------------\n",
            "\n",
            "Epoch: 17 | Training: "
          ]
        },
        {
          "output_type": "stream",
          "name": "stderr",
          "text": [
            "100%|██████████| 469/469 [00:17<00:00, 27.28it/s]\n"
          ]
        },
        {
          "output_type": "stream",
          "name": "stdout",
          "text": [
            "\tDiscr_Loss: 2.2997 | Gen_Loss: 1.5633 | Real_Score: 0.6075 | Fake_Score: 0.6805\n",
            "---------------------------------------------------------------------------------------------\n",
            "\n",
            "Epoch: 18 | Training: "
          ]
        },
        {
          "output_type": "stream",
          "name": "stderr",
          "text": [
            "100%|██████████| 469/469 [00:16<00:00, 28.15it/s]\n"
          ]
        },
        {
          "output_type": "stream",
          "name": "stdout",
          "text": [
            "\tDiscr_Loss: 0.7252 | Gen_Loss: 2.0601 | Real_Score: 0.8204 | Fake_Score: 0.2743\n",
            "---------------------------------------------------------------------------------------------\n",
            "\n",
            "Epoch: 19 | Training: "
          ]
        },
        {
          "output_type": "stream",
          "name": "stderr",
          "text": [
            "100%|██████████| 469/469 [00:16<00:00, 28.47it/s]\n"
          ]
        },
        {
          "output_type": "stream",
          "name": "stdout",
          "text": [
            "\tDiscr_Loss: 0.6122 | Gen_Loss: 3.3612 | Real_Score: 0.8476 | Fake_Score: 0.2536\n",
            "---------------------------------------------------------------------------------------------\n",
            "\n",
            "Epoch: 20 | Training: "
          ]
        },
        {
          "output_type": "stream",
          "name": "stderr",
          "text": [
            "100%|██████████| 469/469 [00:17<00:00, 26.98it/s]"
          ]
        },
        {
          "output_type": "stream",
          "name": "stdout",
          "text": [
            "\tDiscr_Loss: 0.3246 | Gen_Loss: 2.8687 | Real_Score: 0.8889 | Fake_Score: 0.1034\n",
            "---------------------------------------------------------------------------------------------\n",
            "\n",
            "Process Completed Succesfully...\n"
          ]
        },
        {
          "output_type": "stream",
          "name": "stderr",
          "text": [
            "\n"
          ]
        }
      ]
    },
    {
      "cell_type": "markdown",
      "source": [
        "## Plotting Loss Curves"
      ],
      "metadata": {
        "id": "HXnV6B0zYzzU"
      }
    },
    {
      "cell_type": "code",
      "source": [
        "plt.plot(history[0], '-')\n",
        "plt.plot(history[1], '-')\n",
        "plt.xlabel('epoch')\n",
        "plt.ylabel('loss')\n",
        "plt.legend(['Discriminator', 'Generator'])\n",
        "plt.title('Losses');"
      ],
      "metadata": {
        "colab": {
          "base_uri": "https://localhost:8080/",
          "height": 295
        },
        "id": "EYN8pVOWY3sc",
        "outputId": "eaa19fbd-6ba3-4e8b-fe6c-099607a3daed"
      },
      "execution_count": 178,
      "outputs": [
        {
          "output_type": "display_data",
          "data": {
            "text/plain": [
              "<Figure size 432x288 with 1 Axes>"
            ],
            "image/png": "[encoded data removed]"
          },
          "metadata": {
            "needs_background": "light"
          }
        }
      ]
    },
    {
      "cell_type": "markdown",
      "source": [
        "## Plotting Scores"
      ],
      "metadata": {
        "id": "MP6GIxJyY-sj"
      }
    },
    {
      "cell_type": "code",
      "source": [
        "plt.plot(history[2], '-')\n",
        "plt.plot(history[3], '-')\n",
        "plt.xlabel('epoch')\n",
        "plt.ylabel('score')\n",
        "plt.legend(['Real Score', 'Fake score'])\n",
        "plt.title('Scores');"
      ],
      "metadata": {
        "colab": {
          "base_uri": "https://localhost:8080/",
          "height": 295
        },
        "id": "RtQMJywdY4c0",
        "outputId": "8bc2d316-3c15-4da8-befd-90a131ba5d22"
      },
      "execution_count": 179,
      "outputs": [
        {
          "output_type": "display_data",
          "data": {
            "text/plain": [
              "<Figure size 432x288 with 1 Axes>"
            ],
            "image/png": "[encoded data removed]"
          },
          "metadata": {
            "needs_background": "light"
          }
        }
      ]
    },
    {
      "cell_type": "markdown",
      "source": [
        "## Converting the Images into a Video"
      ],
      "metadata": {
        "id": "oz7DSv7eZEgS"
      }
    },
    {
      "cell_type": "code",
      "source": [
        "import cv2\n",
        "import os\n",
        "\n",
        "vid_fname = \"gans_training.avi\"\n",
        "sample_dir = \"/content/generated\"\n",
        "\n",
        "files = [os.path.join(sample_dir, f) for f in os.listdir(sample_dir) if \"generated_images\" in f]\n",
        "files.sort()\n",
        "\n",
        "out = cv2.VideoWriter(vid_fname,cv2.VideoWriter_fourcc(*\"MP4V\"), 8, (302,302))\n",
        "[out.write(cv2.imread(fname)) for fname in files]\n",
        "out.release()"
      ],
      "metadata": {
        "id": "Gfi3g9vFZGRo"
      },
      "execution_count": 181,
      "outputs": []
    }
  ]
}