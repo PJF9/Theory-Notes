{
  "nbformat": 4,
  "nbformat_minor": 0,
  "metadata": {
    "colab": {
      "provenance": []
    },
    "kernelspec": {
      "name": "python3",
      "display_name": "Python 3"
    },
    "language_info": {
      "name": "python"
    }
  },
  "cells": [
    {
      "cell_type": "markdown",
      "source": [
        "## What are we going to cover?\n",
        "\n",
        "So far we have looked the `Preprocessing` task of the Pipeline. Now it's time to dig in `Feature Engineering`.\n",
        "\n",
        "In fact we have already see one way that we can extract information about a document using `Regular Expressions`.\n",
        "\n",
        "Now we will see another approach: `Machine Learning`\n",
        "\n",
        "The main goal is to create vectors that describes numericly the words of a corpus (`word embeddings`) in a meaningful way, such similary word to have similar or even the same vector representation. It's maybe the hardest and the most important task to the entire Pipeline.\n",
        "\n",
        "The models that uses vectors to describe and represent words, are being called `Vector Space Models`."
      ],
      "metadata": {
        "id": "hEfdXII-miYb"
      }
    },
    {
      "cell_type": "markdown",
      "source": [
        "The first think we can do before even start to creating the model and trying to compute those embeddings is to create a `vocabulary`.\n",
        "\n",
        "A vocabulary is a list, or a dictionary that captures all the words of out dataset samples. In order to add a word into the vocabulary we need first to perform a kind of Preprocessing, such as Tokenization, Stemming and Lemmatization."
      ],
      "metadata": {
        "id": "iIPCFOiexMoz"
      }
    },
    {
      "cell_type": "code",
      "source": [
        "import numpy as np\n",
        "import pandas as pd\n",
        "\n",
        "from sklearn.model_selection import train_test_split\n",
        "from sklearn.pipeline import Pipeline\n",
        "from sklearn.feature_extraction.text import CountVectorizer # For creating the BOW representation\n",
        "from sklearn.feature_extraction.text import TfidfVectorizer # For tf-idf representation\n",
        "from sklearn.naive_bayes import MultinomialNB               # For Naive Bayes Classifier\n",
        "from sklearn.neighbors import KNeighborsClassifier          # For K-Neighbours Classifier\n",
        "from sklearn.ensemble import RandomForestClassifier         # For Random Forest Classifier\n",
        "from sklearn.metrics import classification_report           # For evaluating metric"
      ],
      "metadata": {
        "id": "L-gdo8e75Kza"
      },
      "execution_count": 1,
      "outputs": []
    },
    {
      "cell_type": "markdown",
      "source": [
        "## Understanding the Dataset"
      ],
      "metadata": {
        "id": "OWSlb3en6Bm5"
      }
    },
    {
      "cell_type": "code",
      "source": [
        "df = pd.read_csv(\"sms_spam.csv\", encoding=\"ISO-8859-1\")[[\"v1\", \"v2\"]]\n",
        "\n",
        "df.head(3)"
      ],
      "metadata": {
        "colab": {
          "base_uri": "https://localhost:8080/",
          "height": 143
        },
        "id": "bYtOLLlM5NZr",
        "outputId": "4478e02b-f094-4d2a-b829-99059adbcce4"
      },
      "execution_count": null,
      "outputs": [
        {
          "output_type": "execute_result",
          "data": {
            "text/plain": [
              "     v1                                                 v2\n",
              "0   ham  Go until jurong point, crazy.. Available only ...\n",
              "1   ham                      Ok lar... Joking wif u oni...\n",
              "2  spam  Free entry in 2 a wkly comp to win FA Cup fina..."
            ],
            "text/html": [
              "\n",
              "  <div id=\"df-aca59d4e-296f-4935-b93a-d6282a9a45d3\">\n",
              "    <div class=\"colab-df-container\">\n",
              "      <div>\n",
              "<style scoped>\n",
              "    .dataframe tbody tr th:only-of-type {\n",
              "        vertical-align: middle;\n",
              "    }\n",
              "\n",
              "    .dataframe tbody tr th {\n",
              "        vertical-align: top;\n",
              "    }\n",
              "\n",
              "    .dataframe thead th {\n",
              "        text-align: right;\n",
              "    }\n",
              "</style>\n",
              "<table border=\"1\" class=\"dataframe\">\n",
              "  <thead>\n",
              "    <tr style=\"text-align: right;\">\n",
              "      <th></th>\n",
              "      <th>v1</th>\n",
              "      <th>v2</th>\n",
              "    </tr>\n",
              "  </thead>\n",
              "  <tbody>\n",
              "    <tr>\n",
              "      <th>0</th>\n",
              "      <td>ham</td>\n",
              "      <td>Go until jurong point, crazy.. Available only ...</td>\n",
              "    </tr>\n",
              "    <tr>\n",
              "      <th>1</th>\n",
              "      <td>ham</td>\n",
              "      <td>Ok lar... Joking wif u oni...</td>\n",
              "    </tr>\n",
              "    <tr>\n",
              "      <th>2</th>\n",
              "      <td>spam</td>\n",
              "      <td>Free entry in 2 a wkly comp to win FA Cup fina...</td>\n",
              "    </tr>\n",
              "  </tbody>\n",
              "</table>\n",
              "</div>\n",
              "      <button class=\"colab-df-convert\" onclick=\"convertToInteractive('df-aca59d4e-296f-4935-b93a-d6282a9a45d3')\"\n",
              "              title=\"Convert this dataframe to an interactive table.\"\n",
              "              style=\"display:none;\">\n",
              "        \n",
              "  <svg xmlns=\"http://www.w3.org/2000/svg\" height=\"24px\"viewBox=\"0 0 24 24\"\n",
              "       width=\"24px\">\n",
              "    <path d=\"M0 0h24v24H0V0z\" fill=\"none\"/>\n",
              "    <path d=\"M18.56 5.44l.94 2.06.94-2.06 2.06-.94-2.06-.94-.94-2.06-.94 2.06-2.06.94zm-11 1L8.5 8.5l.94-2.06 2.06-.94-2.06-.94L8.5 2.5l-.94 2.06-2.06.94zm10 10l.94 2.06.94-2.06 2.06-.94-2.06-.94-.94-2.06-.94 2.06-2.06.94z\"/><path d=\"M17.41 7.96l-1.37-1.37c-.4-.4-.92-.59-1.43-.59-.52 0-1.04.2-1.43.59L10.3 9.45l-7.72 7.72c-.78.78-.78 2.05 0 2.83L4 21.41c.39.39.9.59 1.41.59.51 0 1.02-.2 1.41-.59l7.78-7.78 2.81-2.81c.8-.78.8-2.07 0-2.86zM5.41 20L4 18.59l7.72-7.72 1.47 1.35L5.41 20z\"/>\n",
              "  </svg>\n",
              "      </button>\n",
              "      \n",
              "  <style>\n",
              "    .colab-df-container {\n",
              "      display:flex;\n",
              "      flex-wrap:wrap;\n",
              "      gap: 12px;\n",
              "    }\n",
              "\n",
              "    .colab-df-convert {\n",
              "      background-color: #E8F0FE;\n",
              "      border: none;\n",
              "      border-radius: 50%;\n",
              "      cursor: pointer;\n",
              "      display: none;\n",
              "      fill: #1967D2;\n",
              "      height: 32px;\n",
              "      padding: 0 0 0 0;\n",
              "      width: 32px;\n",
              "    }\n",
              "\n",
              "    .colab-df-convert:hover {\n",
              "      background-color: #E2EBFA;\n",
              "      box-shadow: 0px 1px 2px rgba(60, 64, 67, 0.3), 0px 1px 3px 1px rgba(60, 64, 67, 0.15);\n",
              "      fill: #174EA6;\n",
              "    }\n",
              "\n",
              "    [theme=dark] .colab-df-convert {\n",
              "      background-color: #3B4455;\n",
              "      fill: #D2E3FC;\n",
              "    }\n",
              "\n",
              "    [theme=dark] .colab-df-convert:hover {\n",
              "      background-color: #434B5C;\n",
              "      box-shadow: 0px 1px 3px 1px rgba(0, 0, 0, 0.15);\n",
              "      filter: drop-shadow(0px 1px 2px rgba(0, 0, 0, 0.3));\n",
              "      fill: #FFFFFF;\n",
              "    }\n",
              "  </style>\n",
              "\n",
              "      <script>\n",
              "        const buttonEl =\n",
              "          document.querySelector('#df-aca59d4e-296f-4935-b93a-d6282a9a45d3 button.colab-df-convert');\n",
              "        buttonEl.style.display =\n",
              "          google.colab.kernel.accessAllowed ? 'block' : 'none';\n",
              "\n",
              "        async function convertToInteractive(key) {\n",
              "          const element = document.querySelector('#df-aca59d4e-296f-4935-b93a-d6282a9a45d3');\n",
              "          const dataTable =\n",
              "            await google.colab.kernel.invokeFunction('convertToInteractive',\n",
              "                                                     [key], {});\n",
              "          if (!dataTable) return;\n",
              "\n",
              "          const docLinkHtml = 'Like what you see? Visit the ' +\n",
              "            '<a target=\"_blank\" href=https://colab.research.google.com/notebooks/data_table.ipynb>data table notebook</a>'\n",
              "            + ' to learn more about interactive tables.';\n",
              "          element.innerHTML = '';\n",
              "          dataTable['output_type'] = 'display_data';\n",
              "          await google.colab.output.renderOutput(dataTable, element);\n",
              "          const docLink = document.createElement('div');\n",
              "          docLink.innerHTML = docLinkHtml;\n",
              "          element.appendChild(docLink);\n",
              "        }\n",
              "      </script>\n",
              "    </div>\n",
              "  </div>\n",
              "  "
            ]
          },
          "metadata": {},
          "execution_count": 8
        }
      ]
    },
    {
      "cell_type": "markdown",
      "source": [
        "### Changing the value of \"ham\" into 0 and \"spam\" into 1"
      ],
      "metadata": {
        "id": "30_f7tIr7jcJ"
      }
    },
    {
      "cell_type": "code",
      "source": [
        "df[\"spam\"] = df[\"v1\"].apply(lambda x: 1 if x == \"spam\" else 0)"
      ],
      "metadata": {
        "id": "VHfcXdwF7qK1"
      },
      "execution_count": null,
      "outputs": []
    },
    {
      "cell_type": "markdown",
      "source": [
        "### Dropping the first column"
      ],
      "metadata": {
        "id": "43sZXFm-8CWQ"
      }
    },
    {
      "cell_type": "code",
      "source": [
        "df = df[[\"v2\", \"spam\"]]\n",
        "df.rename(columns={\"v2\": \"Message\"}, inplace=True)\n",
        "\n",
        "df.head(3)"
      ],
      "metadata": {
        "colab": {
          "base_uri": "https://localhost:8080/",
          "height": 143
        },
        "id": "J1R0_Qso7-HU",
        "outputId": "aa9caa3d-3c11-4a39-fdd2-e72b1bee8134"
      },
      "execution_count": null,
      "outputs": [
        {
          "output_type": "execute_result",
          "data": {
            "text/plain": [
              "                                             Message  spam\n",
              "0  Go until jurong point, crazy.. Available only ...     0\n",
              "1                      Ok lar... Joking wif u oni...     0\n",
              "2  Free entry in 2 a wkly comp to win FA Cup fina...     1"
            ],
            "text/html": [
              "\n",
              "  <div id=\"df-e3370221-67be-4c69-9944-fb3a88f7574b\">\n",
              "    <div class=\"colab-df-container\">\n",
              "      <div>\n",
              "<style scoped>\n",
              "    .dataframe tbody tr th:only-of-type {\n",
              "        vertical-align: middle;\n",
              "    }\n",
              "\n",
              "    .dataframe tbody tr th {\n",
              "        vertical-align: top;\n",
              "    }\n",
              "\n",
              "    .dataframe thead th {\n",
              "        text-align: right;\n",
              "    }\n",
              "</style>\n",
              "<table border=\"1\" class=\"dataframe\">\n",
              "  <thead>\n",
              "    <tr style=\"text-align: right;\">\n",
              "      <th></th>\n",
              "      <th>Message</th>\n",
              "      <th>spam</th>\n",
              "    </tr>\n",
              "  </thead>\n",
              "  <tbody>\n",
              "    <tr>\n",
              "      <th>0</th>\n",
              "      <td>Go until jurong point, crazy.. Available only ...</td>\n",
              "      <td>0</td>\n",
              "    </tr>\n",
              "    <tr>\n",
              "      <th>1</th>\n",
              "      <td>Ok lar... Joking wif u oni...</td>\n",
              "      <td>0</td>\n",
              "    </tr>\n",
              "    <tr>\n",
              "      <th>2</th>\n",
              "      <td>Free entry in 2 a wkly comp to win FA Cup fina...</td>\n",
              "      <td>1</td>\n",
              "    </tr>\n",
              "  </tbody>\n",
              "</table>\n",
              "</div>\n",
              "      <button class=\"colab-df-convert\" onclick=\"convertToInteractive('df-e3370221-67be-4c69-9944-fb3a88f7574b')\"\n",
              "              title=\"Convert this dataframe to an interactive table.\"\n",
              "              style=\"display:none;\">\n",
              "        \n",
              "  <svg xmlns=\"http://www.w3.org/2000/svg\" height=\"24px\"viewBox=\"0 0 24 24\"\n",
              "       width=\"24px\">\n",
              "    <path d=\"M0 0h24v24H0V0z\" fill=\"none\"/>\n",
              "    <path d=\"M18.56 5.44l.94 2.06.94-2.06 2.06-.94-2.06-.94-.94-2.06-.94 2.06-2.06.94zm-11 1L8.5 8.5l.94-2.06 2.06-.94-2.06-.94L8.5 2.5l-.94 2.06-2.06.94zm10 10l.94 2.06.94-2.06 2.06-.94-2.06-.94-.94-2.06-.94 2.06-2.06.94z\"/><path d=\"M17.41 7.96l-1.37-1.37c-.4-.4-.92-.59-1.43-.59-.52 0-1.04.2-1.43.59L10.3 9.45l-7.72 7.72c-.78.78-.78 2.05 0 2.83L4 21.41c.39.39.9.59 1.41.59.51 0 1.02-.2 1.41-.59l7.78-7.78 2.81-2.81c.8-.78.8-2.07 0-2.86zM5.41 20L4 18.59l7.72-7.72 1.47 1.35L5.41 20z\"/>\n",
              "  </svg>\n",
              "      </button>\n",
              "      \n",
              "  <style>\n",
              "    .colab-df-container {\n",
              "      display:flex;\n",
              "      flex-wrap:wrap;\n",
              "      gap: 12px;\n",
              "    }\n",
              "\n",
              "    .colab-df-convert {\n",
              "      background-color: #E8F0FE;\n",
              "      border: none;\n",
              "      border-radius: 50%;\n",
              "      cursor: pointer;\n",
              "      display: none;\n",
              "      fill: #1967D2;\n",
              "      height: 32px;\n",
              "      padding: 0 0 0 0;\n",
              "      width: 32px;\n",
              "    }\n",
              "\n",
              "    .colab-df-convert:hover {\n",
              "      background-color: #E2EBFA;\n",
              "      box-shadow: 0px 1px 2px rgba(60, 64, 67, 0.3), 0px 1px 3px 1px rgba(60, 64, 67, 0.15);\n",
              "      fill: #174EA6;\n",
              "    }\n",
              "\n",
              "    [theme=dark] .colab-df-convert {\n",
              "      background-color: #3B4455;\n",
              "      fill: #D2E3FC;\n",
              "    }\n",
              "\n",
              "    [theme=dark] .colab-df-convert:hover {\n",
              "      background-color: #434B5C;\n",
              "      box-shadow: 0px 1px 3px 1px rgba(0, 0, 0, 0.15);\n",
              "      filter: drop-shadow(0px 1px 2px rgba(0, 0, 0, 0.3));\n",
              "      fill: #FFFFFF;\n",
              "    }\n",
              "  </style>\n",
              "\n",
              "      <script>\n",
              "        const buttonEl =\n",
              "          document.querySelector('#df-e3370221-67be-4c69-9944-fb3a88f7574b button.colab-df-convert');\n",
              "        buttonEl.style.display =\n",
              "          google.colab.kernel.accessAllowed ? 'block' : 'none';\n",
              "\n",
              "        async function convertToInteractive(key) {\n",
              "          const element = document.querySelector('#df-e3370221-67be-4c69-9944-fb3a88f7574b');\n",
              "          const dataTable =\n",
              "            await google.colab.kernel.invokeFunction('convertToInteractive',\n",
              "                                                     [key], {});\n",
              "          if (!dataTable) return;\n",
              "\n",
              "          const docLinkHtml = 'Like what you see? Visit the ' +\n",
              "            '<a target=\"_blank\" href=https://colab.research.google.com/notebooks/data_table.ipynb>data table notebook</a>'\n",
              "            + ' to learn more about interactive tables.';\n",
              "          element.innerHTML = '';\n",
              "          dataTable['output_type'] = 'display_data';\n",
              "          await google.colab.output.renderOutput(dataTable, element);\n",
              "          const docLink = document.createElement('div');\n",
              "          docLink.innerHTML = docLinkHtml;\n",
              "          element.appendChild(docLink);\n",
              "        }\n",
              "      </script>\n",
              "    </div>\n",
              "  </div>\n",
              "  "
            ]
          },
          "metadata": {},
          "execution_count": 10
        }
      ]
    },
    {
      "cell_type": "markdown",
      "source": [
        "### Printing the Number of Spam and Ham SMSs"
      ],
      "metadata": {
        "id": "LYIJRAQZ6FnR"
      }
    },
    {
      "cell_type": "code",
      "source": [
        "df.value_counts(\"spam\")"
      ],
      "metadata": {
        "colab": {
          "base_uri": "https://localhost:8080/"
        },
        "id": "Kk82l6Sw6Dzb",
        "outputId": "2ca95669-2c12-466b-9d3e-3186fdabc065"
      },
      "execution_count": null,
      "outputs": [
        {
          "output_type": "execute_result",
          "data": {
            "text/plain": [
              "spam\n",
              "0    4825\n",
              "1     747\n",
              "dtype: int64"
            ]
          },
          "metadata": {},
          "execution_count": 11
        }
      ]
    },
    {
      "cell_type": "markdown",
      "source": [
        "We can see that this dataset is hardly imbalance. We will solve that problem by discarding the leading ham messages. This method is not efficient, there are a lot of ways to deal with that problem, but this is the easier."
      ],
      "metadata": {
        "id": "qPOhaT1f7Zth"
      }
    },
    {
      "cell_type": "code",
      "source": [
        "# # Balancing the DataFrame\n",
        "# g = df.groupby(\"spam\", group_keys=False)\n",
        "# df = g.apply(lambda x: x.sample(g.size().min()).reset_index(drop=True))\n",
        "\n",
        "# df.head(3)"
      ],
      "metadata": {
        "id": "v3enozRc-wqP"
      },
      "execution_count": null,
      "outputs": []
    },
    {
      "cell_type": "code",
      "source": [
        "df.value_counts(\"spam\")"
      ],
      "metadata": {
        "colab": {
          "base_uri": "https://localhost:8080/"
        },
        "id": "wkww-vj-FCk3",
        "outputId": "ef11bdac-7681-430a-bfa4-0f2a45646015"
      },
      "execution_count": null,
      "outputs": [
        {
          "output_type": "execute_result",
          "data": {
            "text/plain": [
              "spam\n",
              "0    4825\n",
              "1     747\n",
              "dtype: int64"
            ]
          },
          "metadata": {},
          "execution_count": 13
        }
      ]
    },
    {
      "cell_type": "markdown",
      "source": [
        "### Splitting the Dataset into Training and Test Sets"
      ],
      "metadata": {
        "id": "zdoVA3UX9X5Q"
      }
    },
    {
      "cell_type": "code",
      "source": [
        "# We are splitting the dataset with 20% test size\n",
        "x_train, x_test, y_train, y_test = train_test_split(df.Message, df.spam, test_size=0.2)"
      ],
      "metadata": {
        "id": "RTHTtPzH9bkg"
      },
      "execution_count": null,
      "outputs": []
    },
    {
      "cell_type": "code",
      "source": [
        "# The resulting x and y are pandas Series\n",
        "print(type(x_train), type(y_test))"
      ],
      "metadata": {
        "colab": {
          "base_uri": "https://localhost:8080/"
        },
        "id": "PSrZT8RV-NYy",
        "outputId": "658b1992-e265-4676-af79-a3ad5f24f5de"
      },
      "execution_count": null,
      "outputs": [
        {
          "output_type": "stream",
          "name": "stdout",
          "text": [
            "<class 'pandas.core.series.Series'> <class 'pandas.core.series.Series'>\n"
          ]
        }
      ]
    },
    {
      "cell_type": "code",
      "source": [
        "# Printing the first 3 elements of the testing data\n",
        "print(x_test[:3])\n",
        "print(y_test[:3])"
      ],
      "metadata": {
        "colab": {
          "base_uri": "https://localhost:8080/"
        },
        "id": "GdDh2rxY-cCT",
        "outputId": "c5833889-6231-4586-f146-d30b1f75d99e"
      },
      "execution_count": null,
      "outputs": [
        {
          "output_type": "stream",
          "name": "stdout",
          "text": [
            "5431                   If I was I wasn't paying attention\n",
            "3937    WHEN THE FIRST STRIKE IS A RED ONE. THE BIRD +...\n",
            "877     Sunshine Quiz Wkly Q! Win a top Sony DVD playe...\n",
            "Name: Message, dtype: object\n",
            "5431    0\n",
            "3937    0\n",
            "877     1\n",
            "Name: spam, dtype: int64\n"
          ]
        }
      ]
    },
    {
      "cell_type": "code",
      "source": [
        "# Printing the size of x and y\n",
        "print(len(x_train), len(y_train))\n",
        "print(len(x_test), len(y_test))"
      ],
      "metadata": {
        "colab": {
          "base_uri": "https://localhost:8080/"
        },
        "id": "wO2y2ULdGC7u",
        "outputId": "1a11bd69-799a-4b56-b73d-cae91d2af6d4"
      },
      "execution_count": null,
      "outputs": [
        {
          "output_type": "stream",
          "name": "stdout",
          "text": [
            "4457 4457\n",
            "1115 1115\n"
          ]
        }
      ]
    },
    {
      "cell_type": "code",
      "source": [
        "print(x_train[0])"
      ],
      "metadata": {
        "colab": {
          "base_uri": "https://localhost:8080/"
        },
        "id": "vG7qNvXUJf2A",
        "outputId": "ae8bf503-9a3b-4715-a945-0e5b2c86ea8a"
      },
      "execution_count": null,
      "outputs": [
        {
          "output_type": "stream",
          "name": "stdout",
          "text": [
            "Go until jurong point, crazy.. Available only in bugis n great world la e buffet... Cine there got amore wat...\n"
          ]
        }
      ]
    },
    {
      "cell_type": "markdown",
      "source": [
        "## BOW\n",
        "\n",
        "The first method for representing text as vector we would examine is `Bag of Words`.\n",
        "\n",
        "We will evaluate this approach over a simple binary classification example of spam and ham sms."
      ],
      "metadata": {
        "id": "yv13MtWs4z2p"
      }
    },
    {
      "cell_type": "markdown",
      "source": [
        "### Initialize the BOW object"
      ],
      "metadata": {
        "id": "4eU2eheOFu3j"
      }
    },
    {
      "cell_type": "code",
      "execution_count": null,
      "metadata": {
        "id": "vjj5bGvZ_uVB"
      },
      "outputs": [],
      "source": [
        "bow_v = CountVectorizer()"
      ]
    },
    {
      "cell_type": "markdown",
      "source": [
        "### Creating the BOWs"
      ],
      "metadata": {
        "id": "Cz1acSA8GZjU"
      }
    },
    {
      "cell_type": "code",
      "source": [
        "x_train_cv = bow_v.fit_transform(x_train.values) # We need `.value` in order to convert the training samples from a Series into ndarray\n",
        "\n",
        "x_train_cv"
      ],
      "metadata": {
        "colab": {
          "base_uri": "https://localhost:8080/"
        },
        "id": "l6HjSDVwGY3O",
        "outputId": "4e616c04-48b0-4f3a-eacd-f68f962252ae"
      },
      "execution_count": null,
      "outputs": [
        {
          "output_type": "execute_result",
          "data": {
            "text/plain": [
              "<4457x7655 sparse matrix of type '<class 'numpy.int64'>'\n",
              "\twith 59159 stored elements in Compressed Sparse Row format>"
            ]
          },
          "metadata": {},
          "execution_count": 20
        }
      ]
    },
    {
      "cell_type": "markdown",
      "source": [
        "### Discovering the Results"
      ],
      "metadata": {
        "id": "-IJWtYyDIA3z"
      }
    },
    {
      "cell_type": "code",
      "source": [
        "# We can convert this representation into a ndarray\n",
        "x_train_np = x_train_cv.toarray()\n",
        "x_train_np"
      ],
      "metadata": {
        "colab": {
          "base_uri": "https://localhost:8080/"
        },
        "id": "Q9q9j95GHAu7",
        "outputId": "80358c91-941b-4e23-dd30-b35c2119f246"
      },
      "execution_count": null,
      "outputs": [
        {
          "output_type": "execute_result",
          "data": {
            "text/plain": [
              "array([[0, 0, 0, ..., 0, 0, 0],\n",
              "       [0, 0, 0, ..., 0, 0, 0],\n",
              "       [0, 0, 0, ..., 0, 0, 0],\n",
              "       ...,\n",
              "       [0, 0, 0, ..., 0, 0, 0],\n",
              "       [0, 0, 0, ..., 0, 0, 0],\n",
              "       [0, 0, 0, ..., 0, 0, 0]])"
            ]
          },
          "metadata": {},
          "execution_count": 21
        }
      ]
    },
    {
      "cell_type": "code",
      "source": [
        "# The shape of this array\n",
        "x_train_np.shape"
      ],
      "metadata": {
        "colab": {
          "base_uri": "https://localhost:8080/"
        },
        "id": "Ei3rYrA2HPHc",
        "outputId": "84c1230b-2b81-459e-a91e-1fe6352fa7e7"
      },
      "execution_count": null,
      "outputs": [
        {
          "output_type": "execute_result",
          "data": {
            "text/plain": [
              "(4457, 7655)"
            ]
          },
          "metadata": {},
          "execution_count": 22
        }
      ]
    },
    {
      "cell_type": "markdown",
      "source": [
        "4095 are the unique words in the vocabulary"
      ],
      "metadata": {
        "id": "RLScqM4sHYh7"
      }
    },
    {
      "cell_type": "code",
      "source": [
        "# We can see all the words using:\n",
        "print(bow_v.get_feature_names_out())\n",
        "print(bow_v.get_feature_names_out().shape)"
      ],
      "metadata": {
        "colab": {
          "base_uri": "https://localhost:8080/"
        },
        "id": "vxvO29htHgDD",
        "outputId": "220e743d-98a0-44df-96be-9b5db2139057"
      },
      "execution_count": null,
      "outputs": [
        {
          "output_type": "stream",
          "name": "stdout",
          "text": [
            "['00' '000' '000pes' ... 'ûªve' 'ûò' 'ûówell']\n",
            "(7655,)\n"
          ]
        }
      ]
    },
    {
      "cell_type": "code",
      "source": [
        "# We can also see the vocabulary in a dictionary format\n",
        "print(bow_v.vocabulary_)"
      ],
      "metadata": {
        "colab": {
          "base_uri": "https://localhost:8080/"
        },
        "id": "bJrHgNpjH-hs",
        "outputId": "87d927bc-0b23-4506-cc84-ef301db70dcf"
      },
      "execution_count": null,
      "outputs": [
        {
          "output_type": "stream",
          "name": "stdout",
          "text": [
            "{'busy': 1576, 'here': 3389, 'trying': 6967, 'to': 6845, 'finish': 2841, 'for': 2920, 'new': 4679, 'year': 7577, 'am': 946, 'looking': 4139, 'forward': 2942, 'finally': 2833, 'meeting': 4359, 'you': 7604, '2marrow': 399, 'only': 4867, 'wed': 7336, 'at': 1127, 'lt': 4184, 'gt': 3242, 'aha': 881, 'yeah': 7576, 'so': 6193, 'basically': 1252, 'any': 999, 'time': 6811, 'next': 4687, 'week': 7342, 'can': 1632, 'get': 3096, 'away': 1181, 'from': 3001, 'your': 7610, 'mom': 4491, 'amp': 961, 'up': 7087, 'before': 1307, 'liked': 4056, 'the': 6728, 'mobile': 4472, 'hey': 3396, 'do': 2362, 'want': 7280, 'anything': 1007, 'buy': 1582, 'open': 4878, 'door': 2405, 'id': 3552, 'onluy': 4866, 'matters': 4321, 'when': 7385, 'getting': 3104, 'on': 4856, 'offcampus': 4816, 'cant': 1642, 'pick': 5131, 'phone': 5116, 'right': 5706, 'now': 4764, 'pls': 5185, 'send': 5925, 'message': 4390, 'white': 7396, 'fudge': 3015, 'oreos': 4909, 'are': 1057, 'in': 3600, 'stores': 6419, 'day': 2174, 'class': 1825, 'is': 3700, 'there': 6743, 'no': 4714, 'sorry': 6242, 'vikky': 7193, 'watching': 7307, 'olave': 4848, 'mandara': 4275, 'movie': 4532, 'kano': 3841, 'trishul': 6948, 'theatre': 6730, 'wit': 7445, 'my': 4595, 'frnds': 2993, 'need': 4650, 'fffff': 2805, 'text': 6700, 'kadeem': 3832, 'or': 4896, 'too': 6878, 'far': 2758, 'gone': 3160, 'response': 5668, 'one': 4861, 'of': 4813, 'powerful': 5277, 'weapon': 7326, 'occupy': 4806, 'place': 5159, 'others': 4925, 'heart': 3360, 'lol': 4127, 'would': 7507, 'but': 1577, 'despite': 2264, 'these': 6745, 'cramps': 2051, 'like': 4055, 'being': 1318, 'girl': 3118, 'wat': 7302, 'makes': 4259, 'some': 6206, 'people': 5073, 'dearer': 2189, 'not': 4750, 'just': 3823, 'de': 2181, 'happiness': 3313, 'dat': 2166, 'feel': 2787, 'meet': 4357, 'them': 6734, 'pain': 4981, 'miss': 4439, 'dem': 2236, 'ouch': 4931, 'wish': 7439, 'stayed': 6372, 'out': 4935, 'bit': 1377, 'longer': 4134, 'fast': 2763, 'approaching': 1039, 'very': 7176, 'happy': 3314, 'sankranti': 5816, 'republic': 5644, 'valentines': 7144, 'shivratri': 6012, 'ugadi': 7019, 'fools': 2913, 'may': 4330, 'independence': 3617, 'friendship': 2987, 'mother': 4521, 'father': 2768, 'teachers': 6646, 'childrens': 1783, 'birthday': 1375, 'ganesh': 3053, 'festival': 2799, 'dasara': 2165, 'diwali': 2354, 'christmas': 1806, 'good': 3164, 'mornings': 4517, 'afternoons': 864, 'evenings': 2639, 'nights': 4698, 'rememberi': 5611, 'first': 2854, 'wishing': 7442, 'all': 921, 'raj': 5479, 'taught': 6630, 'that': 6722, 'ranjith': 5495, 'sir': 6095, 'called': 1615, 'me': 4338, 'sms': 6174, 'becaus': 1291, 'hes': 3392, 'verifying': 7173, 'about': 768, 'project': 5376, 'prabu': 5285, 'told': 6859, 'today': 6850, 'pa': 4972, 'dont': 2399, 'mistake': 4448, 'her': 3388, 'had': 3273, 'dr': 2426, 'appt': 1045, 'she': 5987, 'thinks': 6760, 'gonna': 3162, 'die': 2296, 'its': 3717, 'check': 1750, 'nothing': 4755, 'be': 1282, 'worried': 7496, 'didn': 2293, 'listen': 4085, 'yupz': 7627, 've': 7162, 'oredi': 4907, 'booked': 1437, 'slots': 6144, 'weekends': 7345, 'liao': 4034, 'yes': 7587, 'our': 4932, 'hanging': 3301, 'thread': 6780, 'cause': 1691, 'won': 7473, 'stuff': 6461, 'ask': 1103, 'around': 1079, 'lot': 4152, 'terms': 6685, 'mids': 4407, 'him': 3410, 'returned': 5686, 'it': 3712, 'should': 6034, 're': 5515, 'order': 4904, 'morning': 4516, 'repair': 5629, 'shop': 6020, 'reason': 5539, 'this': 6764, 'hour': 3485, 'another': 987, 'month': 4505, 'chocolate': 1798, 'weed': 7341, 'and': 971, 'alcohol': 907, 'come': 1904, 'online': 4865, 'use': 7121, 'msn': 4548, 'we': 7322, 'how': 3492, 'noe': 4718, 'did': 2292, 'ì_': 7643, 'specify': 6283, 'da': 2136, 'domain': 2394, 'as': 1095, 'nusstu': 4783, 'ìï': 7646, 'still': 6396, 'sch': 5855, 'ok': 4839, 'back': 1208, 'tampa': 6617, 'ffffuuuuuuu': 2807, 'cool': 2001, 'see': 5900, 'ya': 7561, 'then': 6738, 'dear': 2187, 'why': 7404, 'mood': 4509, 'off': 4815, 'drive': 2441, 'brother': 1535, 'if': 3563, 'ever': 2642, 'was': 7294, 'angry': 975, 'with': 7446, 'misbehaved': 4435, 'hurt': 3525, 'plz': 5192, 'slap': 6126, 'urself': 7118, 'bcoz': 1277, 'ur': 7106, 'fault': 2772, 'wanna': 7278, 'gym': 3266, 'chance': 1721, 'win': 7422, '250': 372, 'cash': 1678, 'every': 2643, 'wk': 7455, 'txt': 6999, 'play': 5171, '83370': 669, 'www': 7537, 'music': 4584, 'trivia': 6950, 'net': 4667, 'custcare': 2120, '08715705022': 136, '1x150p': 348, 'fine': 2838, 'much': 4559, 'work': 7487, 'please': 5179, 'call': 1609, 'baby': 1202, 'promise': 5379, 'treat': 6936, 'well': 7357, 'bet': 1339, 'will': 7419, 'take': 6600, 'care': 1656, 'also': 937, 'came': 1628, 'room': 5738, 'forwarded': 2943, '21870000': 362, 'hi': 3400, 'mailbox': 4251, 'messaging': 4393, 'alert': 909, 'have': 3335, 'messages': 4392, '21': 361, 'matches': 4311, '09056242159': 182, 'retrieve': 5684, 'alright': 935, 'll': 4103, 'make': 4258, 'sure': 6538, 'car': 1652, 'tonight': 6874, 'missed': 4441, 'numbers': 4778, 'left': 4010, '07008009200': 23, 'curious': 2113, 'because': 1292, 'cuz': 2133, 'asked': 1105, 'what': 7378, 'feb': 2783, 'love': 4162, 'dis': 2328, 'valued': 7149, 'evn': 2658, 'comes': 1906, 'married': 4296, 'person': 5093, 'luv': 4200, 'ignore': 3567, 'lose': 4147, 'evr': 2662, 'thnx': 6770, 'dude': 2467, 'guys': 3264, '2nite': 409, 'been': 1303, 'running': 5776, 'managed': 4270, 'minutes': 4430, 'needed': 4652, 'oxygen': 4968, 'might': 4408, 'resort': 5662, 'roller': 5734, 'option': 4894, 'yup': 7626, 'lor': 4146, 'dun': 2475, 'wan': 7275, 'uncle': 7037, 'boye': 1483, 'movies': 4533, 'oh': 4834, 'guide': 3255, 'plus': 5190, 'know': 3907, 'torrents': 6892, 'particularly': 5019, 'legal': 4012, 'system': 6583, 'slowing': 6148, 'down': 2419, 'gr8': 3194, 'started': 6361, 'cos': 2014, 'honey': 3452, 'moon': 4510, 'ugh': 7020, 'hopefully': 3464, 'asus': 1125, 'ppl': 5279, 'randomly': 5491, 'reformat': 5580, 'small': 6153, 'prestige': 5330, 'problem': 5362, 'free': 2966, 'entry': 2597, 'into': 3670, 'weekly': 7346, 'comp': 1917, 'word': 7485, '80086': 642, '18': 324, 'txttowin': 7008, 'co': 1864, 'uk': 7024, 'ready': 5526, 'fyi': 3035, 'antha': 995, 'num': 4776, 'corrct': 2010, 'dane': 2151, '4the': 528, 'driving': 2444, 'test': 6694, 'yet': 7590, 'forgot': 2933, '1st': 340, 'no1': 4715, 'nokia': 4724, 'tone': 6869, '8077': 650, 'txting': 7004, 'tell': 6667, 'mates': 4313, 'getzed': 3105, 'pobox': 5197, '36504': 448, 'w45wq': 7245, '16': 321, 'norm150p': 4741, 'few': 2803, 'hit': 3418, 'fuck': 3009, 'oops': 4877, 'shower': 6043, 'parking': 5015, 'garage': 3057, 'collapsed': 1886, 'university': 7069, 'hospital': 3476, 'crazy': 2058, 'does': 2371, 'happen': 3304, 'little': 4094, 'difficult': 2304, 'simple': 6080, 'way': 7318, 'enter': 2586, 'wine': 7429, 'flowing': 2887, 'nevering': 4676, 'miles': 4412, 'smiles': 6166, 'made': 4235, 'frm': 2991, 'same': 5813, 'letters': 4030, 'difference': 2301, 'smile': 6164, 'face': 2722, 'keeps': 3856, 'even': 2637, 'though': 6775, 'keep': 3854, 'smiling': 6168, 'nyt': 4793, 'kfc': 3869, 'tuesday': 6979, 'meals': 4340, 'gravy': 3214, 'mark': 4291, 'matthew': 4322, '09063440451': 215, 'landline': 3952, 'complimentary': 1934, 'lux': 4203, 'tenerife': 6680, 'holiday': 3443, '1000': 264, 'await': 1176, 'collection': 1891, 'ppm150': 5282, 'sae': 5795, 'cs': 2088, 'box334': 1473, 'sk38xh': 6111, 'obviously': 4804, 'eggs': 2529, 'pert': 5099, 'potato': 5266, 'head': 3346, 'û_': 7648, 'speak': 6276, 'soon': 6233, 'record': 5565, 'night': 4696, 'voucher': 7230, 'holder': 3440, 'claim': 1818, 'weeks': 7347, 'offer': 4818, 'pc': 5057, 'go': 3139, 'http': 3505, 'tlp': 6834, 'expressoffer': 2708, 'ts': 6968, 'apply': 1031, 'stop': 6408, 'texts': 6708, '80062': 639, 'going': 3152, 'tirunelvali': 6821, 'already': 934, 'spend': 6290, 'amount': 960, 'by': 1592, 'taking': 6605, 'dress': 2434, 'money': 4498, 'give': 3123, 'true': 6957, 'passable': 5027, 'high': 3404, 'score': 5862, 'phd': 5109, '5years': 568, 'salary': 5803, 'life': 4043, 'easier': 2497, 'got': 3181, 'job': 3780, 'whats': 7380, 'goodmorning': 3169, 'late': 3972, 'min': 4416, 'search': 5883, 'friends': 2986, 'receive': 5551, 'something': 6216, 'voice': 7222, 'speaking': 6277, 'expression': 2707, 'childish': 1781, 'naughty': 4634, 'sentiment': 5937, 'rowdy': 5750, 'ful': 3018, 'attitude': 1143, 'romantic': 5735, 'shy': 6057, 'attractive': 1145, 'funny': 3029, 'irritating': 3697, 'lovable': 4161, 'reply': 5639, 'prize': 5356, 'worth': 7502, '5000': 539, 'hard': 3315, 'live': 4095, '121': 285, 'chat': 1742, '60p': 573, 'choose': 1801, 'connect': 1965, '09094646899': 252, 'cheap': 1745, 'biggest': 1360, 'service': 5944, 'vu': 7236, 'bcm1896wc1n3xx': 1274, 'trust': 6962, 'asap': 1097, 'try': 6965, 'haha': 3276, 'hope': 3462, 'hear': 3357, 'receipt': 5549, 'sound': 6252, 'gd': 3076, 'luck': 4189, 'jus': 3822, 'tot': 6898, 'ba': 1196, 'gua': 3243, 'went': 7363, 'mt': 4549, 'faber': 2721, 'yest': 7588, 'mah': 4246, 'transaction': 6921, 'man': 4267, 'bus': 1570, 'slow': 6146, 'think': 6756, 'predict': 5304, 'buying': 1584, 'searching': 5884, 'words': 7486, 'thank': 6713, 'breather': 1511, 'wont': 7479, 'help': 3379, 'granted': 3207, 'fulfil': 3019, 'wonderful': 7476, 'blessing': 1399, 'times': 6812, 'skyped': 6124, 'kz': 3926, 'sura': 6537, 'didnt': 2294, 'pleasure': 5181, 'company': 1920, 'given': 3124, 'ultimatum': 7028, 'countin': 2029, 'aburo': 778, 'enjoy': 2578, 'later': 3974, 'anytime': 1009, 'latest': 3975, 'news': 4684, 'police': 5222, 'station': 6369, 'toilet': 6855, 'stolen': 6401, 'cops': 2006, 'sister': 6098, 'kids': 3878, 'house': 3488, 'pictures': 5138, 'facebook': 2723, 'oic': 4836, 'better': 1341, 'quickly': 5456, 'bathe': 1258, 'settle': 5950, 'correct': 2011, 'name': 4612, 'prob': 5360, 'could': 2025, 'starve': 6364, 'pound': 5270, 'end': 2564, 'bognor': 1427, 'splendid': 6307, 'darlin': 2159, 'kate': 3845, 'doin': 2383, 'somethin': 6215, 'im': 3575, 'pub': 5410, 'swan': 6554, 'parents': 5009, 'drink': 2437, 'wanted': 7282, 'say': 5842, 'holy': 3446, 'shit': 6008, 'weren': 7367, 'kidding': 3877, 'bud': 1550, 'bruce': 1542, 'fowler': 2950, 'park': 5012, 'long': 4133, 'story': 6422, 'find': 2835, 'sis': 6097, 'let': 4027, 'contact': 1977, 'settled': 5951, 'lets': 4028, 'least': 4002, 'armand': 1073, 'supose': 6529, 'worry': 7498, 'film': 2827, 'mate': 4312, 'babysit': 1205, 'again': 868, 'xx': 7550, 'tv': 6989, 'watch': 7303, 'meh': 4363, 'important': 3591, 'hrishi': 3501, 'ball': 1222, 'moving': 4535, 'spin': 6298, 'last': 3969, 'bat': 1255, 'an': 967, 'del': 2224, 'bak': 1219, 'sum': 6510, 'lucyxx': 4193, 'feelin': 2788, 'pete': 5102, 'wuld': 7535, 'em': 2549, 'nuther': 4784, 'mayb': 4331, 'neft': 4658, 'reference': 5575, 'number': 4777, 'rs': 5756, 'decimal': 2199, 'has': 3323, 'credited': 2066, 'beneficiary': 1332, 'account': 798, 'aldrine': 908, 'rakhesh': 5485, 'ex': 2667, 'rtm': 5759, 'urgent': 7110, 'ended': 2565, 'special': 6278, 'sunny': 6521, 'rays': 5507, 'leaves': 4005, 'worries': 7497, 'blue': 1415, 'bay': 1265, 'world': 7493, 'maybe': 4332, 'feeling': 2789, 'admit': 836, 'mad': 4231, 'where': 7389, 'correction': 2012, 'run': 5775, 'faith': 2736, 'things': 6755, 'possible': 5256, 'beautiful': 1288, 'three': 6782, 'merry': 4387, 'smart': 6155, '200': 351, 'quiz': 5462, '85222': 683, 'winnersclub': 7433, 'po': 5195, 'box': 1467, '84': 673, 'm26': 4216, '3uz': 471, 'gbp1': 3074, '50': 537, 'flaked': 2866, 'seriously': 5942, 'goin': 3150, 'roommate': 5740, 'rite': 5718, 'best': 1337, 'who': 7398, 'were': 7365, '2geva': 394, 'than': 6710, 'official': 4824, 'england': 2576, 'poly': 5224, 'ringtone': 5712, 'colour': 1895, 'flag': 2865, 'yer': 7586, 'tonights': 6875, 'game': 3049, '84199': 677, 'optout': 4895, 'eng': 2572, 'box39822': 1476, 'w111wx': 7238, 'sent': 5934, 'askin': 1106, 'dollars': 2391, 'shoul': 6033, 'pay': 5048, 'he': 3345, 'really': 5536, 'skateboarding': 6112, 'fact': 2725, 'gets': 3100, 'thrown': 6790, 'winds': 7427, 'bandages': 1228, 'over': 4951, 'his': 3416, 'arms': 1075, 'five': 2860, 'turn': 6985, 'heater': 3364, 'set': 5947, 'degrees': 2221, 'registered': 5589, 'optin': 4893, 'subscriber': 6481, 'draw': 2430, '100': 263, 'gift': 3111, 'entered': 2587, 'ans': 988, 'bbc': 1267, 'charts': 1739, 'ha': 3269, 'both': 1456, 'us': 7119, 'doing': 2385, 'thing': 6754, 'thk': 6765, 'haf': 3275, 'smth': 6178, 'mind': 4417, 'yay': 7574, 'cinema': 1813, 'trip': 6945, 'hello': 3376, 'madam': 4234, 'monthly': 4506, 'terrible': 6688, 'till': 6810, '6months': 605, 'after': 862, 'finishing': 2845, 'school': 5857, 'almost': 930, 'sec': 5887, 'leave': 4004, 'always': 944, 'ignorant': 3566, 'double': 2412, 'mins': 4426, 'txts': 7006, 'bluetooth': 1416, 'orange': 4900, 'available': 1164, 'sony': 6230, 'motorola': 4525, 'phones': 5120, 'mobileupd8': 4476, '08000839402': 50, 'call2optout': 1611, 'n9dx': 4603, 'juz': 3828, 'remembered': 5610, 'gotta': 3186, 'dog': 2375, 'foreign': 2924, 'stamps': 6350, 'country': 2031, '07734396839': 29, 'ibh': 3540, 'customer': 2122, 'loyalty': 4180, 'nokia6600': 4725, '10': 262, 'txtauction': 7002, 'start': 6360, '81151': 653, 'yours': 7613, '4t': 526, 'okay': 4840, 'weekend': 7344, 'leh': 4014, 'princess': 5345, 'parked': 5013, 'skint': 6118, 'fancied': 2751, 'bevies': 1345, 'waz': 7319, 'gona': 3159, 'othrs': 4927, 'spoon': 6316, 'jst': 3806, 'bin': 1368, 'watchng': 7308, 'planet': 5165, 'earth': 2496, 'sofa': 6196, 'comfey': 1907, 'hav': 3334, 'must': 4587, 'book': 1436, 'huh': 3514, 'yoga': 7600, 'basic': 1251, 'sunday': 6518, 'thanx': 6719, 'iåõm': 3728, 'ta': 6586, 'tired': 6818, 'loads': 4108, 'planning': 5168, 'social': 6195, 'services': 5945, 'inspection': 3650, 'nursery': 4779, 'spk': 6303, 'sn': 6179, 'nope': 4735, 'waiting': 7260, 'daddy': 2141, 'shhhhh': 5997, 'nobody': 4717, 'supposed': 6534, 'hellogorgeous': 3377, 'hows': 3496, 'fone': 2908, 'charge': 1731, 'lst': 4183, 'nitw': 4710, 'wen': 7360, 'texd': 6699, 'hopeu': 3467, 'ad': 820, 'nice': 4690, 'wkend': 7456, 'lookin': 4138, '4ward': 534, '2mrw': 406, 'jaz': 3753, 'sounds': 6254, 'great': 3217, 'home': 3447, 'todays': 6851, 'shows': 6048, '800': 637, 'guaranteed': 3244, '09050001295': 174, 'land': 3950, 'line': 4067, 'a21': 750, 'valid': 7145, '12hrs': 293, 'saying': 5844, 'haven': 3336, 'explicitly': 2702, 'nora': 4737, 'someone': 6210, 'probably': 5361, 'bother': 1457, 'baaaaabe': 1198, 'misss': 4445, 'youuuuu': 7615, 'teach': 6644, 'office': 4822, 'lap': 3960, 'thats': 6725, 'days': 2175, 'shut': 6056, 'college': 1893, 'else': 2546, 'ill': 3573, 'self': 5915, 'points': 5217, 'cultures': 2108, 'module': 4484, 'thankyou': 6718, 'appreciate': 1036, 'starting': 6362, 'stay': 6371, 'weather': 7329, 'food': 2911, 'support': 6532, 'ruin': 5767, 'thesis': 6746, 'wasn': 7296, 'having': 3340, 'enough': 2584, 'trouble': 6952, 'sleeping': 6130, 'actually': 819, 'punto': 5422, 'woulda': 7508, 'worse': 7500, '2nights': 408, 'lucky': 4191, 'uve': 7137, 'invited': 3679, 'xchat': 7544, 'uks': 7025, 'wildest': 7417, '86688': 690, '150p': 309, 'msgrcvdhg': 4546, 'suite342': 6507, '2lands': 398, 'row': 5749, 'w1j6hl': 7242, 'ldn': 3991, '18yrs': 327, 'rose': 5743, 'red': 5570, 'blood': 1409, 'tis': 6823, 'including': 3608, 'poor': 5236, 'relation': 5596, 'frnd': 2992, 'many': 4281, 'some1': 6207, 'luvs': 4202, 'praying': 5301, 'god': 3145, 'marry': 4297, 'babe': 1199, 'awake': 1178, 'outside': 4946, 'players': 5174, 'allowed': 928, 'everything': 2652, 'yourself': 7614, 'yor': 7602, 'own': 4964, 'more': 4512, 'rent': 5625, 'fill': 2823, 'fucking': 3012, 'gas': 3063, 'tank': 6618, 'stressed': 6432, 'depressed': 2251, 'thanksgiving': 6716, 'paying': 5052, 'past': 5035, 'months': 4508, 'felt': 2796, 'inconsiderate': 3610, 'nag': 4606, 'cost': 2016, 'however': 3495, 'recession': 5558, 'able': 766, 'hence': 3385, 'ahead': 882, 'thanks': 6714, 'explicit': 2701, 'sex': 5956, '30': 425, 'secs': 5895, 'ring': 5710, '02073162414': 12, 'costs': 2019, '20p': 360, 'silence': 6073, 'gud': 3246, 'mrng': 4539, 'different': 2303, 'change': 1723, 'askd': 1104, 'question': 5452, 'hours': 3487, 'answer': 990, 'yesterday': 7589, 'wait': 7257, 'til': 6809, '2day': 389, 'stomach': 6402, 'thru': 6791, 'trauma': 6928, 'swear': 6561, 'eat': 2504, 'weight': 7349, 'geeeee': 3080, 'barely': 1241, 'stand': 6351, 'announcement': 982, 'freephone': 2973, '0800': 47, '542': 556, '0825': 62, 'crashed': 2054, 'cuddled': 2104, 'slowly': 6149, 'clean': 1830, 'ten': 6677, 'miracle': 4432, 'tomorrow': 6867, 'sabarish': 5788, 'bad': 1211, 'coming': 1910, 'xmas': 7546, 'iscoming': 3702, 'awarded': 1180, 'either': 2535, '500': 538, 'cd': 1698, 'vouchers': 7231, '87066': 693, 'tnc': 6843, 'ldew': 3990, 'com1win150ppmx3age16subscription': 1900, 'although': 940, 'baig': 1218, 'watches': 7305, 'gave': 3068, 'fr': 2953, 'done': 2397, 'touched': 6903, 'neva': 4674, 'john': 3785, 'lennon': 4019, 'lar': 3963, 'joking': 3793, 'wif': 7411, 'oni': 4863, 'cut': 2126, 'short': 6025, 'ah': 880, 'failed': 2730, 'quite': 5459, 'sad': 5794, 'italian': 3713, 'pretty': 5333, 'panties': 4995, 'wahala': 7252, 'remember': 5609, 'friend': 2985, 'uniform': 7062, 'mentor': 4382, 'percent': 5076, 'guess': 3250, 'needa': 4651, 'mcat': 4336, 'study': 6458, 'seeing': 5902, 'gsoh': 3241, 'spam': 6269, 'ladies': 3940, 'male': 4264, 'gigolo': 3115, 'join': 3787, 'fastest': 2765, 'growing': 3236, 'mens': 4377, 'club': 1852, 'oncall': 4859, 'mjzgroup': 4456, '08714342399': 121, '2stop': 414, 'msg': 4542, '50rcvd': 548, 'possession': 5252, 'especially': 2622, 'offense': 4817, 'wkly': 7459, 'fa': 2719, 'cup': 2110, 'final': 2832, 'tkts': 6832, '21st': 363, '2005': 355, '87121': 696, 'std': 6376, 'rate': 5498, '08452810075over18': 71, 'kvb': 3925, 'acc': 783, 'details': 2270, 'bugis': 1554, 'walking': 7268, 'oso': 4922, 'saw': 5841, 'top': 6886, 'din': 2313, 'lovely': 4165, 'sing': 6087, 'guy': 3263, 'card': 1653, 'xxx': 7552, 'subscribed': 6480, 'content': 1981, 'per': 5075, 'until': 7085, '83435': 671, 'helpline': 3382, '08706091795': 88, 'studyn': 6460, 'library': 4037, 'pee': 5064, 'burns': 1568, 'tonite': 6876, 'stayin': 6373, 'stranger': 6428, 'dave': 2173, 'other': 4924, 'heåõs': 3397, 'sorted': 6245, 'bloke': 1406, 'mr': 4537, 'mum': 4569, '2getha': 393, 'ho': 3433, 'type': 7011, 'six': 6108, 'chances': 1722, '20': 350, '000': 1, 'pounds': 5272, 'csh11': 2091, '87575': 701, '6days': 601, 'tsandcs': 6969, 'hl': 3423, 'info': 3629, 'rooms': 5742, 'befor': 1306, 'activities': 816, 'germany': 3095, 'pence': 5069, 'minute': 4429, 'fixed': 2863, 'via': 7179, 'access': 787, '0844': 64, '861': 688, '85': 679, 'prepayment': 5317, 'direct': 2323, 'lemme': 4016, 'aight': 890, 'happening': 3308, 'side': 6064, 'aah': 753, 'bless': 1397, 'arm': 1072, 'machan': 4226, 'once': 4860, 'means': 4345, 'sell': 5918, 'easy': 2503, 'somebody': 6208, 'secretly': 5893, 'fancies': 2752, '09065394973': 229, 'datebox1282essexcm61xn': 2169, 'since': 6084, 'investigate': 3676, 'anywhere': 1012, 'argh': 1065, '3g': 459, 'spotty': 6321, 'anyway': 1010, 'research': 5651, 'province': 5400, 'sterling': 6388, 'places': 5161, 'looked': 4137, 'behave': 1315, 'winner': 7432, 'foley': 2899, 'ipod': 3690, 'exciting': 2676, 'prizes': 5358, 'eye': 2714, 'visit': 7210, '82050': 656, 'dirty': 2327, 'fellow': 2795, 'wife': 7412, 'nt': 4770, 'colleagues': 1887, 'shall': 5974, 'exe': 2680, 'mail': 4250, 'working': 7490, 'except': 2673, 'saturday': 5835, 'yo': 7599, 'shining': 6002, 'meant': 4346, 'signing': 6072, 'believe': 1319, 'muz': 4592, 'tog': 6852, 'brand': 1493, 'player': 5173, 'arrive': 1085, 'shortly': 6030, 'install': 3652, 'browse': 1539, 'artists': 1090, 'they': 6749, 'giving': 3126, 'second': 5888, 'rahul': 5472, 'dengra': 2240, 'squeezed': 6334, 'bucks': 1549, 'dad': 2140, 'truth': 6964, 'seen': 5907, 'everyone': 2648, 'depression': 2252, 'understood': 7050, 'loved': 4163, 'ones': 4862, 'ni8': 4689, 'storming': 6421, 'lift': 4048, 'phne': 5114, 'knw': 3911, 'wt': 7527, 'real': 5527, 'meaning': 4342, 'margaret': 4288, 'girlfrnd': 3119, 'grahmbell': 3200, 'invnted': 3681, 'telphone': 6671, 'moral': 4511, '4get': 518, 'reach': 5516, 'gentle': 3088, 'inches': 3604, 'deep': 2209, 'inside': 3649, 'tight': 6805, 'pussy': 5434, 'polyphonic': 5228, 'mob': 4470, 'pt2': 5408, 'txtin': 7003, '4info': 521, 'fwiw': 3034, 'smoke': 6169, 'afford': 857, 'tells': 6670, 'apparently': 1025, 'happens': 3309, 'wants': 7284, 'light': 4051, 'surfing': 6541, 'creepy': 2069, 'tyler': 7010, '8th': 725, 'rubber': 5763, 'notice': 4756, 'mirror': 4433, 'youre': 7611, 'turning': 6986, 'freak': 2961, 'shadow': 5966, 'early': 2493, 'spring': 6326, 'actual': 818, 'exam': 2670, 'harder': 3317, 'nbme': 4638, 'years': 7578, 'eve': 2635, 'party': 5024, 'boyfriend': 1484, 'si': 6058, 'excellent': 2672, 'thought': 6776, 'misundrstud': 4450, 'hate': 3329, 'bt': 1547, 'gn': 3137, 'cheers': 1759, 'tex': 6697, 'mecause': 4351, 'werebored': 7366, 'okden': 4842, 'hunny': 3522, 'uin': 7023, 'sat': 5828, 'soundåõs': 6255, 'likeyour': 4059, 'havin': 3339, 'gr8fun': 3195, 'updat': 7091, 'countinlots': 2030, 'loveme': 4166, 'xxxxx': 7555, 'gotten': 3187, 'begun': 1313, 'registration': 5590, 'permanent': 5087, 'residency': 5658, 'wake': 7261, 'loans': 4110, 'studying': 6459, 'warwick': 7293, 'planned': 5167, 'shopping': 6022, 'concert': 1948, 'tmw': 6842, 'canceled': 1637, 'havn': 3341, 'ages': 876, 'together': 6853, 'sometime': 6217, 'msgs': 4547, 'iam': 3538, 'addicted': 825, 'msging': 4544, 'wrong': 7523, 'don': 2395, 'sweet': 6564, 'bslvyl': 1545, 'theres': 6744, 'tmrw': 6840, 'leaving': 4006, 'upstairs': 7103, 'hectic': 3368, 'birds': 1371, 'fell': 2794, 'swoop': 6575, 'date': 2168, 'ajith': 900, 'without': 7449, 'alone': 931, 'mite': 4451, 'break': 1502, 'donåõt': 2403, 'everyboy': 2646, 'needs': 4655, 'lady': 3941, 'xxxxxxxx': 7557, 'jan': 3741, 'vl': 7218, 'giv': 3122, 'family': 2748, 'directly': 2324, 'behind': 1316, 'abt': 776, 'rows': 5751, 'awesome': 1182, 'solihull': 6203, 'shoot': 6019, 'big': 1358, 'sweetheart': 6566, 'kind': 3886, 'reasons': 5541, 'biola': 1369, 'erm': 2609, 'contract': 1986, 'ran': 5488, 'the4th': 6729, 'october': 4811, 'successful': 6488, 'ive': 3722, 'restocked': 5675, 'specially': 6281, 'selected': 5913, '2000': 352, 'award': 1179, '08712402050': 109, 'lines': 4071, 'close': 1843, '10ppm': 273, 'ag': 867, 'promo': 5382, 'addie': 826, 'goes': 3147, 'monday': 4496, 'sucks': 6493, 'warned': 7289, 'sprint': 6328, 'dead': 2182, 'prolly': 5377, 'checking': 1753, 'area': 1058, 'fantasy': 2757, 'football': 2915, 'sky': 6121, 'gamestar': 3051, 'active': 815, '250k': 373, 'dream': 2432, 'team': 6649, 'scoring': 5864, 'starts': 6363, 'register': 5588, 'opt': 4890, '88088': 705, 'comin': 1909, 'hmmm': 3428, 'said': 5800, 'slave': 6127, 'punish': 5419, 'return': 5685, 'evening': 2638, 'tacos': 6591, 'ma': 4222, 'dey': 2278, 'swell': 6568, 'making': 4262, 'tomo': 6865, 'lunchtime': 4197, 'organise': 4911, 'hostel': 3479, 'oga': 4832, 'mean': 4341, 'fink': 2846, 'met': 4397, 'wiv': 7453, '09099726553': 257, 'promised': 5380, 'carlie': 1665, 'callså': 1624, 'minmobsmore': 4421, 'lkpobox177hp51fl': 4102, 'otherwise': 4926, 'environment': 2601, 'terrific': 6689, 'vodafone': 7220, 'ending': 2566, '4882': 510, '350': 445, '09064019014': 223, 'usual': 7132, 'post': 5258, '1000s': 266, 'reading': 5525, 'caroline': 1670, 'favourite': 2778, 'omw': 4855, 'half8th': 3284, 'inclusive': 3609, 'credits': 2067, 'goto': 3185, 'comuk': 1942, 'login': 4121, 'unsubscribe': 7083, 'extra': 2711, '08700469649': 74, 'box420': 1478, 'ip4': 3686, '5we': 566, '09066649731from': 245, 'ibiza': 3542, '434': 491, 'sk3': 6110, '8wp': 726, '150ppm': 313, 'havent': 3337, 'finished': 2843, 'painting': 4983, 'partner': 5021, 'career': 1659, 'flyng': 2894, 'horo': 3472, 'followed': 2902, 'star': 6355, 'sign': 6068, 'aries': 1069, 'damn': 2146, 'wil': 7415, 'used': 7122, 'famous': 2749, 'quote': 5465, 'develop': 2275, 'ability': 763, 'unconditionally': 7040, 'losing': 4149, 'temper': 6675, 'confidence': 1954, 'crap': 2052, 'nite': 4707, 'borin': 1449, 'boggy': 1426, 'boring': 1450, 'biatch': 1355, 'nxt': 4790, 'il': 3572, 'ave': 1167, 'jay': 3751, 'impatient': 3588, 'belligerent': 1322, 'fps': 2952, 'heard': 3358, 'u4': 7014, 'while': 7394, 'rude': 5764, 'private': 5353, '01223585334': 7, 'cum': 2109, '2c': 387, 'pics': 5135, 'gettin': 3103, 'shagged': 5967, 'pix': 5155, '8552': 685, '2end': 390, 'sam': 5809, 'meets': 4360, 'escape': 2618, 'kavalan': 3848, 'sh': 5963, 'dint': 2320, 'touch': 6902, 'bill': 1362, 'brison': 1523, 'language': 3957, 'wall': 7269, 'near': 4642, 'euro2004': 2630, 'collect': 1888, '09058099801': 198, 'b4190604': 1192, '7876150ppm': 626, 'mu': 4557, 'swing': 6572, 'seventeen': 5954, 'seven': 5953, 'hundred': 3519, 'ml': 4458, 'ûò': 7653, 'prepare': 5315, 'pleasured': 5182, 'bring': 1520, 'stability': 6341, 'tranquility': 6920, 'vibrant': 7180, 'colourful': 1896, 'hand': 3291, 'hdd': 3344, 'casing': 1681, 'town': 6907, 'camera': 1629, 'upgrade': 7094, '0207': 10, '153': 318, '9996': 741, 'ends': 2568, '14thmarch': 305, 'availa': 1163, 'orchard': 4903, 'dunno': 2477, 'show': 6041, 'aft': 861, '850': 680, 'toa': 6846, 'payoh': 5055, '650': 585, '11': 275, 'mnths': 4467, 'etc': 2627, 'tariffs': 6622, 'callback': 1612, 'remove': 5620, 'records': 5567, 'released': 5601, 'vday': 7161, 'shirts': 6007, 'put': 5435, 'bottom': 1460, 'half': 3283, 'naked': 4610, 'instead': 3656, 'those': 6772, 'underwear': 7051, 'wnt': 7465, 'bmw': 1421, 'urgently': 7111, 'vry': 7233, 'hv': 3532, 'shortage': 6026, 'lacs': 3938, 'source': 6257, 'arng': 1076, 'amt': 964, 'click': 1838, 'lists': 4091, 'list': 4083, 'pie': 5139, 'computational': 1939, 'science': 5859, 'push': 5431, 'spreadsheet': 6324, 'track': 6910, 'whose': 7402, 'idea': 3553, 'determine': 2271, 'smokes': 6171, 'entire': 2592, 'february': 2784, 'refilled': 5578, 'successfully': 6489, 'inr': 3645, 'keralacircle': 3862, 'prepaid': 5314, 'balance': 1221, 'kr': 3921, 'rofl': 5729, 'yetunde': 7592, 'surprise': 6544, 'mid': 4404, 'january': 3744, 'period': 5085, 'propose': 5391, 'seing': 5911, 'bloody': 1410, 'funky': 3028, 'asssssholeeee': 1118, 'mostly': 4520, 'sports': 6319, 'lyk': 4210, 'footbl': 2916, 'crckt': 2060, 'jacket': 3731, 'gandhipuram': 3052, 'walk': 7264, 'cross': 2077, 'road': 5721, 'street': 6430, 'nap': 4621, 'tho': 6771, 'posh': 5249, 'chaps': 1727, 'user': 7125, 'trial': 6943, 'prods': 5370, 'champneys': 1720, 'address': 827, 'dob': 2363, 'most': 4519, 'relaxing': 5600, '7am': 628, '5ish': 560, 'walmart': 7272, 'destination': 2266, 'wet': 7374, 'closer': 1846, '2003': 353, 'statement': 6367, '078': 36, 'wherever': 7390, 'flat': 2870, 'arrange': 1081, 'lamp': 3948, 'dearly': 2190, 'advice': 849, 'rugby': 5766, 'ham': 3288, 'avatar': 1165, 'nigro': 4700, 'doesnt': 2373, 'stressful': 6433, 'kallis': 3838, 'dismissial': 2343, '2nd': 407, 'bored': 1448, 'isnt': 3708, 'carlos': 1667, 'hang': 3299, 'computer': 1940, 'picked': 5132, '150': 307, '09061743386': 207, 'goodnight': 3170, 'shelf': 5991, 'two': 6998, 'egg': 2528, 'drop': 2447, 'warm': 7287, 'cold': 1883, 'serious': 5941, 'lots': 4154, 'vitamin': 7215, 'current': 2114, 'leading': 3996, 'bid': 1356, '151': 317, 'pause': 5046, 'auction': 1149, '08718726270': 147, 'eurodisinc': 2631, 'trav': 6929, 'aco': 807, 'entry41': 2598, 'morefrmmob': 4513, 'shracomorsglsuplt': 6049, 'ls1': 4181, '3aj': 456, 'sleep': 6128, 'shaking': 5973, 'booty': 1445, 'dance': 2148, 'floor': 2883, '09090900040': 250, 'extreme': 2712, 'total': 6899, 'privacy': 5352, 'knows': 3910, 'sic': 6061, 'listening': 4088, '24': 367, '7mp': 631, '0870753331018': 92, 'sonyericsson': 6231, 'hf8': 3398, 'dinner': 2318, 'confirm': 1956, 'picking': 5133, 'trash': 6927, 'reached': 5518, 'talk': 6608, 'anymore': 1002, 'cried': 2075, 'slp': 6150, 'swt': 6576, 'dreams': 2433, 'muah': 4558, 'objection': 4800, 'bf': 1348, 'plan': 5163, 'splash': 6305, 'journey': 3800, 'hasnt': 3326, 'tones': 6870, 'str8': 6424, 'each': 2488, '8007': 640, 'classic': 1826, 'polys': 5229, '200p': 358, 'engagement': 2574, 'fixd': 2862, 'th': 6709, 'shocking': 6016, 'hmm': 3427, 'njan': 4712, 'vilikkam': 7194, 'ws': 7526, 'al': 904, 'sudn': 6495, 'timing': 6815, 'jeremiah': 3765, 'jd': 3756, 'accounts': 799, 'executive': 2681, 'figure': 2818, 'budget': 1551, '07815296484': 39, 'un': 7033, 'redeemed': 5571, '08718738001': 157, 'identifier': 3557, 'code': 1874, '41782': 484, 'expires': 2698, '04': 16, 'apes': 1015, 'fight': 2814, 'death': 2191, 'calling': 1621, 'uh': 7021, 'heads': 3350, 'hair': 3279, 'dresser': 2436, 'wun': 7536, 'look': 4136, 'everywhere': 2654, 'cannot': 1641, 'tram': 6919, 'cousin': 2038, 'vic': 7182, 'market': 4292, 'hotel': 3481, 'knew': 3903, 'murder': 4578, 'exactly': 2669, 'wanting': 7283, 'allday': 924, 'piss': 5151, 'mon': 4495, 'okie': 4844, 'la': 3931, 'depends': 2249, 'whether': 7392, 'wana': 7277, 'western': 7371, 'chinese': 1791, 'den': 2238, 'which': 7393, 'prefer': 5308, 'gal': 3044, 'boy': 1482, 'hold': 3439, 'feels': 2791, 'heaven': 3365, 'prince': 5343, 'press': 5327, 'conference': 1953, 'knackered': 3901, 'full': 3020, 'lark': 3968, 'upto': 7104, 'calls': 1622, 'standard': 6352, 'network': 4671, 'activate': 814, '9061100010': 728, 'wire3': 7437, '1st4terms': 341, 'pobox84': 5207, 'mobcudb': 4471, 'attempt': 1139, 'yrs': 7620, 'browsin': 1541, 'compulsory': 1938, 'oclock': 4810, 'mine': 4418, 'bash': 1250, 'fighting': 2815, 'fightng': 2816, 'dificult': 2306, 'flights': 2876, 'inc': 3602, 'operator': 4884, '0871277810810': 119, 'bought': 1461, 'exact': 2668, 'ovulate': 4959, '2u': 416, '3wks': 472, 'fret': 2979, 'relax': 5599, 'history': 3417, 'lazy': 3987, 'mode': 4481, 'men': 4376, 'shorter': 6029, 'gaze': 3072, 'eyes': 2716, 'afternoon': 863, 'prospects': 5394, 'missing': 4443, 'bleak': 1396, 'filled': 2824, 'bed': 1298, 'prin': 5342, 'quick': 5455, 'ambitious': 949, '09066350750': 232, 'ppm': 5281, 'site': 6101, 'simulate': 6083, 'gives': 3125, 'tough': 6904, 'questions': 5454, 'readiness': 5524, 'accenture': 785, 'hahaha': 3277, 'brain': 1489, 'affidavit': 856, 'says': 5845, 'twiggs': 6994, 'st': 6340, 'division': 2352, 'courtroom': 2037, 'tscs': 6970, 'com': 1898, 'skillgame': 6114, '1winaweek': 346, 'age16': 872, '150ppermesssubscription': 312, 'thangam': 6712, 'animal': 976, 'buzz': 1586, 'grins': 3226, 'reminding': 5616, 'adoring': 838, 'kiss': 3895, 'wtlp': 7532, 'ge': 3077, 'tmr': 6839, 'lunch': 4196, 'receivea': 5552, '900': 727, 'reward': 5695, '09061701461': 204, 'kl341': 3900, '12': 283, 'page': 4977, 'information': 3631, 'o2': 4796, 'log': 4118, 'onto': 4870, 'urawinner': 7107, 'fantastic': 2756, 'awaiting': 1177, 'sunshine': 6522, 'hols': 3445, 'med': 4352, 'stamped': 6349, 'envelope': 2600, 'drinks': 2440, '113': 276, 'bray': 1498, 'wicklow': 7408, 'eire': 2534, 'unsub': 7082, 'handed': 3292, 'celebrations': 1705, 'image': 3576, 'cbe': 1695, 'talents': 6607, 'apology': 1023, 'texting': 6705, 'drugs': 2454, 'jade': 3736, 'paul': 5045, 'didnåõt': 2295, 'barmed': 1244, 'onwords': 4873, 'mtnl': 4556, 'south': 6259, 'mumbai': 4570, 'cann': 1640, 'floppy': 2884, 'snappy': 6182, 'gay': 3069, 'photo': 5122, 'upload': 7097, '08718730666': 156, '10p': 272, '08712460324': 116, 'panren': 4992, 'paru': 5025, 'nok': 4723, '87021': 692, 'sub': 6472, 'loud': 4157, 'scream': 5871, 'gyno': 3268, 'shoving': 6040, 'belong': 1324, 'asleep': 1110, 'rewarding': 5696, 'darren': 2162, 'xy': 7559, 'awkward': 1183, 'bffs': 1349, 'carly': 1668, 'combine': 1903, 'parts': 5023, 'rest': 5672, 'cheesy': 1762, 'songs': 6229, 'frosty': 3005, 'snowman': 6191, 'disappointment': 2330, 'texted': 6704, 'craziest': 2057, 'pleased': 5180, 'advise': 850, 'following': 2904, 'recent': 5555, 'review': 5693, '1500': 308, 'bonus': 1433, '09066368470': 240, 'holla': 3444, 'caller': 1616, '08': 46, '03': 15, '0871': 98, '4719': 506, '523': 551, 'box95qu': 1480, 'national': 4628, 'air': 893, 'talent': 6606, 'foot': 2914, 'pansy': 4993, 'living': 4100, 'jungle': 3819, 'fancy': 2753, 'chennai': 1764, 'owe': 4962, 'referin': 5576, 'mei': 4364, 'waitin': 7259, 'shld': 6013, 'rich': 5702, 'onwards': 4872, 'disturb': 2347, 'returns': 5688, 'comprehensive': 1936, 'hurry': 3524, 'hell': 3374, 'accept': 786, 'lover': 4167, 'dear1': 2188, 'best1': 1338, 'clos1': 1842, 'lvblefrnd': 4206, 'jstfrnd': 3807, 'cutefrnd': 2128, 'lifpartnr': 4047, 'belovd': 1326, 'swtheart': 6577, 'bstfrnd': 1546, 'rply': 5754, 'enemy': 2570, 'ym': 7597, 'tm': 6835, 'move': 4529, 'coffee': 1875, 'thkin': 6766, 'yogasana': 7601, 'nd': 4639, 'rush': 5779, 'parco': 5007, 'nb': 4637, 'str': 6423, 'ard': 1056, 'bcums': 1279, 'wid': 7409, 'dnt': 2361, 'coz': 2042, 'showing': 6045, 'affection': 855, 'kettoda': 3864, 'manda': 4273, 'bhaji': 1351, 'cricketer': 2073, 'sachin': 5790, 'friday': 2981, '88066': 704, 'lost': 4151, '3pound': 467, '09064019788': 224, 'box42wr29c': 1479, '09066362231': 237, '07xxxxxxxxx': 45, '02': 9, '06': 21, 'reverse': 5692, 'cheating': 1748, 'mathematics': 4316, 'teaching': 6648, 'twelve': 6991, 'lecture': 4008, 'sac': 5789, 'carry': 1672, '400': 476, 'loyal': 4179, 'customers': 2124, '09066380611': 242, '09061790121': 213, '3030': 431, 'shd': 5986, 'pages': 4978, 'add': 822, 'figures': 2819, 'girls': 3120, 'wonder': 7475, 'sore': 6239, 'raji': 5481, 'favour': 2777, 'convey': 1993, 'wishes': 7440, 'nimya': 4704, 'replying': 5640, 'changed': 1724, 'aiya': 896, 'discuss': 2337, 'usf': 7127, 'stoners': 6405, '09061213237': 200, 'luxury': 4204, 'canary': 1635, 'islands': 3706, '177': 323, 'm227xy': 4215, 'smoking': 6173, 'wylie': 7538, 'justify': 3826, 'ruining': 5768, 'purity': 5427, 'between': 1343, 'evng': 2659, 'musthu': 4589, 'salam': 5802, 'wahleykkum': 7256, 'sharing': 5983, 'grace': 3198, 'tayseer': 6636, 'tissco': 6824, 'joined': 3788, 'inshah': 3648, 'allah': 922, 'visitor': 7212, 'india': 3620, 'congratulations': 1964, '125gift': 290, 'mo': 4468, 'ortxt': 4918, 'jess': 3769, 'grasp': 3209, 'cancel': 1636, 'belongs': 1325, 'pray': 5299, 'fated': 2767, 'shoranur': 6023, 'train': 6914, 'incident': 3605, 'hands': 3295, 'fuelled': 3016, 'concern': 1946, 'prior': 5349, 'grief': 3224, 'chain': 1716, 'pass': 5026, 'violence': 7200, 'against': 869, 'women': 7472, 'b4u': 1194, '27': 379, 'marsms': 4298, 'b4utele': 1195, 'discount': 2335, 'credit': 2065, '08717168528': 138, 'switch': 6573, 'dammit': 2145, 'schedule': 5856, 'lk': 4101, 'sun': 6517, 'nosy': 4749, 'idk': 3560, 'reacting': 5520, 'freaked': 2962, 'within': 7448, 'probs': 5366, 'catching': 1688, '7250i': 615, 'part': 5016, '86021': 687, 'hg': 3399, 'w1jhl': 7243, 'arithmetic': 1071, 'percentages': 5077, 'battery': 1262, 'boo': 1434, 'vomiting': 7227, 'hiya': 3422, 'signal': 6069, 'neither': 4662, 'unusual': 7086, 'itself': 3718, 'case': 1677, 'sort': 6243, 'hugs': 3513, 'snogs': 6186, 'took': 6879, 'morphine': 4518, 'dip': 2321, 'cell': 1706, 'respond': 5666, 'ship': 6004, 'cars': 1674, 'english': 2577, 'muhommad': 4564, 'penny': 5072, 'across': 808, 'sea': 5882, 'breaking': 1506, 'cstore': 2093, 'cab': 1598, 'steps': 6385, '2004': 354, '078498': 41, '786': 625, 'unredeemed': 7079, '08719180219': 160, '45239': 503, '05': 18, '33': 444, '65': 584, 'rayan': 5505, 'macleran': 4229, 'asking': 1107, 'wats': 7313, 'matter': 4320, 'sorta': 6244, 'blown': 1414, 'couple': 2033, 'recently': 5556, 'rather': 5500, 'compliments': 1935, 'testing': 6695, 'bathing': 1259, 'cleaning': 1831, 'famamus': 2746, '87077': 695, 'kick': 3872, 'season': 5885, '2wks': 419, 'goals': 3143, 'eg': 2526, 'villa': 7196, 'sells': 5920, '4d': 514, 'closes': 1847, 'whenever': 7386, 'jazz': 3754, 'power': 5276, 'hip': 3413, 'hop': 3461, 'kb': 3851, 'sighs': 6066, 'loooooool': 4142, 'sense': 5930, 'couch': 2022, 'link': 4073, 'celebration': 1704, 'rents': 5628, 'wah': 7251, 'unlimited': 7075, 'website': 7335, 'using': 7129, 'spacebucks': 6266, 'email': 2550, 'alertfrom': 910, 'jeri': 3766, 'stewartsize': 6390, '2kbsubject': 397, 'low': 4175, 'prescripiton': 5319, 'drvgsto': 2458, '123': 287, 'tel': 6662, 'added': 824, 'indyarocks': 3625, 'phonebook': 5118, 'hmv': 3431, 'genuine': 3091, '100percent': 268, 'cts': 2097, 'employee': 2560, 'bootydelious': 1446, '32': 442, 'inviting': 3680, 'ac': 781, '62468': 579, 'bath': 1257, 'orh': 4913, 'promises': 5381, 'talking': 6612, 'nationwide': 4629, 'auto': 1159, 'centre': 1709, 'newport': 4682, 'wearing': 7328, 'shorts': 6031, 'charming': 1737, 'officially': 4825, 'paid': 4980, 'ditto': 2350, 'whatever': 7379, 'peace': 5060, 'doubt': 2416, 'handle': 3294, 'bluff': 1418, 'izzit': 3726, 'impossible': 3594, 'urgh': 7112, 'coach': 1865, 'hot': 3480, 'smells': 6161, 'chip': 1794, 'fat': 2766, 'duvet': 2482, 'predictive': 5307, 'placement': 5160, 'philosophy': 5113, 'karaoke': 3843, 'debating': 2192, 'bedroom': 1300, '25': 371, 'club4mobiles': 1854, '87070': 694, 'club4': 1853, 'box1146': 1468, 'mk45': 4457, '2wt': 420, 'mas': 4301, 'advance': 846, 'fake': 2737, 'thts': 6794, 'reffering': 5577, 'member': 4371, 'getiing': 3098, 'yahoo': 7563, 'photos': 5123, 'chikku': 1779, 'db': 2178, 'spoke': 6311, 'maneesha': 4276, 'satisfied': 5832, 'experience': 2694, 'toll': 6861, 'turns': 6987, 'staying': 6374, 'whole': 7399, 'buzy': 1585, 'fetch': 2800, 'bot': 1455, 'notes': 4753, 'rem': 5606, 'urgnt': 7113, 'anyone': 1003, 'treadmill': 6934, 'found': 2946, 'craigslist': 2049, 'selling': 5919, 'their': 6732, 'fullonsms': 3021, 'responce': 5665, 'happend': 3305, 'completely': 1930, 'form': 2936, 'clark': 1822, 'utter': 7134, 'waste': 7299, 'safe': 5796, 'nigeria': 4694, 'share': 5981, 'moments': 4493, 'legs': 4013, 'neck': 4647, 'killing': 3883, 'amigos': 951, 'hoping': 3468, 'burn': 1566, 'port': 5244, 'step': 6384, 'punj': 5421, 'tiwary': 6827, 'ke': 3852, 'qi': 5444, 'suddenly': 6494, 'recharge': 5559, '15': 306, 'breathing': 1512, 'understand': 7048, 'poorly': 5237, 'punishment': 5420, 'worst': 7501, 'happened': 3306, 'brb': 1499, 'kill': 3881, 'myself': 4599, 'wipro': 7436, 'hasn': 3325, 'pattern': 5043, 'hee': 3369, 'gauti': 3067, 'sehwag': 5910, 'odi': 4812, 'series': 5940, 'normal': 4742, 'infernal': 3628, 'affairs': 854, '7ish': 630, 'gr8prizes': 3196, '8800': 702, 'psp': 5404, '80878': 651, 'unique': 7065, '1172': 279, 'removal': 5619, '87239': 700, '08708034412': 94, 'bare': 1240, 'single': 6090, 'answers': 994, 'broke': 1529, 'contacted': 1978, 'dating': 2171, '09050000928': 173, 'pobox45w2tg150p': 5206, 'doctor': 2369, 'threats': 6781, 'sales': 5805, 'shifad': 5998, 'raised': 5478, 'complaint': 1926, 'delhi': 2228, 'silent': 6074, 'eh': 2530, 'annie': 980, 'superior': 6527, 'voicemail': 7223, '08719181513': 164, 'lighters': 4052, 'tlk': 6833, 'petey': 5103, 'noiåõm': 4722, 'avent': 1169, 'spoken': 6312, 'alrite': 936, 'nit': 4706, 'js': 3804, 'quitting': 5461, 'least5times': 4003, 'wudn': 7534, 'nah': 4607, 'taunton': 6631, 'woke': 7469, 'x2': 7539, 'representative': 5643, '0808': 59, '145': 301, '4742': 507, '9am': 743, '11pm': 282, 'cooking': 2000, '645': 583, 'download': 2420, 'fring': 2989, 'app': 1024, 'lastest': 3970, 'stereophonics': 6387, 'marley': 4294, 'dizzee': 2356, 'racal': 5467, 'libertines': 4036, 'strokes': 6443, 'nookii': 4731, 'games': 3050, 'flirt': 2879, 'themob': 6737, 'wap': 7285, 'bookmark': 1440, '82468': 659, 'chechi': 1749, 'cine': 1812, 'plaza': 5177, 'canåõt': 1645, 'cornwall': 2008, 'isnåõt': 3709, 'itåõs': 3721, 'rock': 5726, 'shite': 6009, 'kip': 3893, 'fun': 3022, 'tagged': 6595, 'seemed': 5905, 'count': 2028, 'lives': 4099, 'willing': 7420, 'timings': 6816, 'xuhui': 7549, 'learn': 4001, 'lesson': 4025, '8am': 721, 'idew': 3558, 'lei': 4015, 'thinkin': 6758, 'earlier': 2491, 'parkin': 5014, 'kent': 3859, 'vale': 7142, 'ingredients': 3636, 'sim': 6078, 'delivered': 2231, '88600': 707, 'exp': 2688, '30apr': 432, 'cabin': 1599, 'boss': 1453, 'apartment': 1014, 'sed': 5899, 'sexy': 5959, 'minuts': 4431, 'latr': 3976, 'cake': 1602, 'kidz': 3879, 'screaming': 5873, 'relatives': 5598, 'ignoring': 3568, 'fried': 2984, 'essential': 2625, 'spares': 6272, 'idiot': 3559, 'roommates': 5741, 'looovvve': 4143, 'aids': 888, 'patent': 5037, 'lindsay': 4066, 'bars': 1247, 'ptbo': 5409, 'heron': 3390, 'toot': 6883, 'fringe': 2990, 'print': 5346, 'outs': 4945, 'awww': 1185, 'lonely': 4132, 'ned': 4649, 'convince': 1995, 'tht': 6793, 'witot': 7451, 'hurting': 3526, 'main': 4254, 'save': 5838, 'stress': 6431, 'dorm': 2407, 'yijue': 7596, 'write': 7517, 'dictionary': 2291, 'cover': 2039, 'screen': 5874, 'gently': 3090, 'interesting': 3665, 'random': 5489, 'old': 4850, 'roomate': 5739, 'campus': 1630, 'graduated': 3199, 'dehydrated': 2222, 'boytoy': 1486, 'geeee': 3079, 'remind': 5614, 'thinking': 6759, 'loving': 4172, 'nighters': 4697, 'persevered': 5090, 'apologise': 1021, 'somewhere': 6221, 'boooo': 1443, 'quit': 5458, 'putting': 5438, 'business': 1574, 'ass': 1113, 'picture': 5137, 'violated': 7199, 'regret': 5591, 'inform': 3630, 'nhs': 4688, 'never': 4675, 'born': 1451, 'report': 5642, 'local': 4111, '2b': 386, 'terminated': 6684, 'inconvenience': 3611, 'messenger': 4395, 'sha': 5964, 'omg': 4854, 'joanna': 3779, 'freaking': 2963, 'myspace': 4600, 'logged': 4119, 'update': 7092, 'status': 6370, 'frequently': 2977, 'praps': 5295, 'goodo': 3173, 'miserable': 4436, 'effects': 2525, 'birth': 1373, 'control': 1988, 'massive': 4305, 'gut': 3262, 'wrenching': 7515, '07742676969': 30, '08719180248': 161, 'laugh': 3977, 'embarassed': 2552, 'delete': 2226, 'tag': 6594, 'messy': 4396, 'wednesday': 7339, 'skype': 6123, 'throw': 6787, 'laundry': 3981, 'bras': 1495, 'strewn': 6436, 'pillows': 5145, 'twinks': 6996, 'bears': 1286, 'scallies': 5848, 'skins': 6117, 'jocks': 3782, '08712466669': 117, 'nat': 4625, 'hide': 3401, 'anythiing': 1006, 'keeping': 3855, 'distance': 2345, 'epi': 2603, 'calicut': 1607, 'gorgeous': 3178, 'squishy': 6336, 'mwahs': 4594, 'apeshit': 1016, 'truly': 6960, 'memorable': 4374, 'james': 3739, 'farting': 2761, 'laptop': 3962, 'stock': 6398, 'worrying': 7499, 'shame': 5975, 'quizzes': 5464, 'popcorn': 5239, 'url': 7115, 'cutie': 2130, 'wales': 7263, 'kinda': 3887, 'hills': 3408, 'killed': 3882, 'sweater': 6562, 'mango': 4278, 'size': 6109, 'kay': 3849, 'rajini': 5482, 'freezing': 2974, 'craving': 2056, 'ice': 3547, 'fml': 2895, 'monkeys': 4500, 'wot': 7504, 'certainly': 1713, 'wud': 7533, 'annoyin': 983, 'gimme': 3116, 'ago': 878, 'clearly': 1836, 'unless': 7073, 'situation': 6105, 'gurl': 3261, 'appropriate': 1040, 'moment': 4492, 'value': 7148, 'brings': 1522, 'video': 7185, '89105': 715, 'films': 2828, 'ordered': 4905, 'teasing': 6654, 'stupid': 6466, 'rules': 5770, 'responsibility': 5670, 'bend': 1330, 'rule': 5769, 'thia': 6752, 'argument': 1067, 'inlude': 3639, 'previews': 5335, 'saucy': 5836, 'daytime': 2176, 'busty': 1575, 'woman': 7471, '09099726429': 255, 'janinexx': 3743, 'minmobsmorelkpobox177hp51fl': 4422, 'conditions': 1950, '07781482378': 33, 'jod': 3783, 'revision': 5694, 'keris': 3863, 'smidgin': 6163, 'doesn': 2372, 'thus': 6798, 'shouldn': 6036, 'snow': 6189, 'friendships': 2988, 'grow': 3235, 'super': 6525, 'nalla': 4611, 'settling': 5952, 'happenin': 3307, 'ola': 4847, 'wamma': 7274, 'laid': 3945, 'doggin': 2378, 'locations': 4113, 'largest': 3967, 'dogging': 2379, 'dogs': 2381, '69696': 593, 'ec2a': 2509, '3lp': 463, 'hui': 3515, 'xin': 7545, 'lib': 4035, 'joy': 3801, '____': 749, 'ths': 6792, 'iq': 3691, 'ias': 3539, 'glo': 3131, 'promotion': 5384, '8714714': 698, 'city': 1815, 'summer': 6514, 'spree': 6325, 'store': 6418, '88039': 703, 'skilgme': 6113, 'tscs087147403231winawk': 6972, '50perwksub': 546, 'pack': 4973, 'cereals': 1712, 'gari': 3061, '9ja': 744, 'congrats': 1962, '09061209465': 199, 'suprman': 6536, 'matrix3': 4319, 'starwars3': 6366, 'bx420': 1590, '150pm': 311, 'dialogue': 2285, 'cute': 2127, 'reltnship': 5605, 'free2day': 2967, 'george': 3093, 'pic': 5130, 'jordan': 3798, '89080': 714, 'celeb': 1702, 'pocketbabe': 5211, '0870241182716': 83, 'seems': 5906, 'sight': 6067, 'remain': 5607, 'maintain': 4255, 'cr': 2045, 'umma': 7030, 'ore': 4906, 'owo': 4967, 'wa': 7247, 'fro': 2999, 'takin': 6604, 'linear': 4068, 'algebra': 916, 'badrith': 1214, 'surely': 6539, 'competition': 1923, 'bloo': 1408, 'bowl': 1465, 'march': 4287, 'ish': 3703, 'plenty': 5183, 'cud': 2102, 'bout': 1463, '30pm': 434, 'table': 6587, 'occupied': 4805, 'tree': 6941, 'yummy': 7623, 'lips': 4081, 'buns': 1561, 'crave': 2055, 'practising': 5290, 'curtsey': 2117, 'perform': 5080, 'paper': 4998, 'midnight': 4406, 'belly': 1323, 'ahmad': 885, 'interest': 3663, 'figuring': 2820, 'cancer': 1639, 'balls': 1225, 'biz': 1383, 'polo': 5223, 'ltd': 4185, 'suite': 6506, '373': 450, 'london': 4130, 'w1j': 7241, '6hl': 602, 'whos': 7401, 'beach': 1283, 'expected': 2690, 'gf': 3106, 'semester': 5922, 'bcaz': 1271, '3d': 457, 'imp': 3587, 'point': 5216, 'flies': 2874, 'tried': 6944, 'hittng': 3421, 'reflex': 5579, 'missin': 4442, 'guilty': 3257, 'velusamy': 7168, 'bank': 1232, 'facilities': 2724, 'onum': 4871, 'ela': 2536, 'opinion': 4885, 'character': 1729, 'lect': 4007, 'mmmmm': 4462, 'sooooo': 6237, 'mmmm': 4461, 'lion': 4075, 'devouring': 2277, 'pity': 5154, 'suggestions': 6505, 'dizzamn': 2355, 'suitemates': 6508, 'celebrate': 1703, 'båõday': 1596, 'arr': 1080, 'oscar': 4921, '09061701851': 205, 'k61': 3830, '12hours': 292, 'velachery': 7166, 'fall': 2741, 'worlds': 7494, 'discreet': 2336, 'vip': 7202, '83110': 663, 'atten': 1140, 'building': 1555, 'coat': 1867, 'sick': 6062, 'wear': 7327, 'noon': 4732, 'yep': 7585, 'pink': 5148, 'furniture': 3030, 'arnt': 1078, 'pissed': 5152, 'xxxxxxxxxxxxxx': 7558, 'allo': 926, 'braved': 1497, 'buses': 1572, 'taken': 6602, 'trains': 6918, 'triumphed': 6949, 'jolly': 3794, 'lmao': 4104, 'further': 3031, 'mix': 4454, 'html': 3504, 'gbp4': 3075, 'mfl': 4400, 'pandy': 4989, '4w': 533, 'technologies': 6657, 'lambda': 3947, 'unsold': 7081, 'base': 1248, 'horny': 3471, 'strt': 6446, 'netcollex': 4668, 'ltdhelpdesk': 4186, '02085076972': 13, 'heavy': 3367, '98321561': 739, 'familiar': 2747, 'dom': 2393, 'roger': 5730, 'pm': 5193, 'perhaps': 5083, 'identification': 3556, 'uni': 7060, 'student': 6453, 'books': 1441, 'lou': 4156, 'lancaster': 3949, 'neway': 4680, 'couldnåõt': 2027, 'hun': 3518, 'beneath': 1331, 'pale': 4984, 'goodnite': 3171, 'helens': 3373, 'princes': 5344, 'tb': 6637, 'xxxmobilemovieclub': 7553, 'qjkgighjjgcbl': 5446, 'wondering': 7477, 'file': 2821, 'connection': 1967, 'format': 2937, 'disc': 2332, 'files': 2822, 'internet': 3668, 'prey': 5338, 'convenience': 1989, 'subtoitles': 6486, 'er': 2606, 'mw': 4593, 'tuth': 6988, 'dubsack': 2464, 'bringing': 1521, 'dropped': 2448, 'stairs': 6346, 'phews': 5110, 'sday': 5879, 'training': 6916, 'fran': 2955, 'ps': 5403, 'anal': 969, 'gang': 3054, 'bang': 1229, 'openings': 4882, 'upcharge': 7089, 'sindu': 6086, 'birla': 1372, 'soft': 6197, 'abj': 765, 'interflora': 3666, 'åòit': 7640, 'flowers': 2886, '505060': 540, '69698': 594, 'charged': 1732, 'anybody': 1000, 'tactful': 6592, 'alex': 913, 'grown': 3237, 'cal': 1604, 'drpd': 2451, 'deeraj': 2213, 'deepak': 2210, '5min': 561, 'fne': 2896, 'convincing': 1997, 'twice': 6993, 'neglect': 4659, 'read': 5522, 'bridgwater': 1515, 'banter': 1235, 'rhode': 5700, 'island': 3705, 'bong': 1432, 'nelson': 4663, 'bb': 1266, 'expecting': 2691, 'aint': 892, 'freaky': 2964, 'clas': 1823, 'aiyah': 897, 'entertain': 2589, 'strongly': 6445, 'sacrifice': 5793, 'beg': 1309, 'clear': 1832, 'creativity': 2064, 'stifled': 6394, 'upping': 7100, 'grams': 3202, 'okey': 4843, 'doke': 2387, 'dressed': 2435, 'laying': 3986, 'spending': 6291, 'spoiled': 6309, 'gosh': 3179, 'spose': 6320, 'wifi': 7414, 'blanked': 1392, 'valuable': 7147, 'situations': 6106, 'loosing': 4145, 'under': 7046, 'coccooning': 1870, 'exorcism': 2686, 'emily': 2558, 'pressies': 5328, 'regards': 5587, 'request': 5645, 'melle': 4367, 'oru': 4919, 'minnaminunginte': 4424, 'nurungu': 4781, 'vettam': 7177, 'callertune': 1618, 'callers': 1617, 'copy': 2007, 'welcome': 7355, 'select': 5912, 'benefits': 1333, 'trained': 6915, 'advisors': 851, 'dialling': 2284, '402': 478, 'rebooting': 5545, 'yar': 7568, 'route': 5748, 'sculpture': 5878, 'tirupur': 6822, 'lotr': 4153, 'telling': 6668, 'shanghai': 5978, 'cya': 2135, 'cheaper': 1746, 'kept': 3860, 'hoped': 3463, 'regretted': 5592, 'buff': 1552, 'wind': 7424, 'nichols': 4691, 'middle': 4405, 'dealing': 2185, 'cardiff': 1654, 'sitting': 6104, 'radiator': 5469, 'bangbabes': 1231, 'bangb': 1230, 'menu': 4383, 'paranoid': 5006, 'messaged': 4391, 'bruv': 1544, 'fantasies': 2755, '08707509020': 91, 'ntt': 4773, '1327': 296, 'croydon': 2080, 'cr9': 2046, '5wb': 565, '0870': 72, 'abiola': 764, 'passport': 5032, 'aftr': 866, 'decades': 2194, 'beer': 1305, 'petrol': 5104, 'goverment': 3189, 'expects': 2692, 'adult': 844, 'danger': 2152, 'peeps': 5065, 'comment': 1911, 'pongal': 5230, 'printing': 5348, 'handing': 3293, 'height': 3370, 'recycling': 5569, 'earning': 2495, 'spent': 6292, 'rdy': 5514, 'somewhr': 6223, 'decided': 2197, 'perfect': 5079, 'crushes': 2085, 'holding': 3441, 'tightly': 6806, 'tick': 6801, 'forever': 2925, 'prescription': 5320, '6pm': 607, 'forgiveness': 2932, 'child': 1780, 'major': 4257, 'roles': 5732, 'community': 1915, 'outreach': 4944, 'mel': 4366, 'vote': 7228, 'along': 932, 'stars': 6358, 'attached': 1137, '5p': 562, 'alfie': 914, 'children': 1782, 'song': 6228, 'm8s': 4220, 'charity': 1734, 'nokias': 4727, 'zed': 7632, '08701417012': 77, 'profit': 5374, 'cartoon': 1676, 'temple': 6676, 'church': 1810, 'jamster': 3740, 'frog': 3000, 'mad1': 4232, 'mad2': 4233, '88888': 711, 'gbp': 3073, 'village': 7197, 'accordingly': 797, 'bw': 1588, 'generally': 3085, 'brothas': 1534, 'lousy': 4159, 'arrested': 1083, 'sticky': 6393, 'syria': 6582, 'canada': 1633, 'wow': 7511, 'issues': 3711, 'fix': 2861, 'sipix': 6093, 'digital': 2307, '09061221066': 202, 'fromm': 3002, 'delivery': 2233, '28': 380, 'fb': 2779, '08712103738': 101, 'headache': 3347, '08712402779': 111, 'immediately': 3585, 'get4an18th': 3097, 'loves': 4170, 'axis': 1188, 'woul': 7506, 'lead': 3994, 'curfew': 2112, 'gibe': 3110, 'getsleep': 3101, 'studdying': 6452, 'ear': 2490, 'clothes': 1849, 'forgiven': 2931, 'subscription': 6482, 'oz': 4971, 'flaky': 2867, 'interested': 3664, 'eachother': 2489, 'horniest': 3470, 'follow': 2901, 'instructions': 3658, '69888': 597, 'fireplace': 2850, 'icon': 3551, 'imma': 3583, 'flip': 2877, '600': 570, 'downloads': 2422, 'deltomorrow': 2234, '08002888812': 54, 'wn': 7463, 'prsn': 5402, 'somtimes': 6225, 'saves': 5840, 'quiet': 5457, 'nothin': 4754, 'eveb': 2636, '09058091854': 183, 'revealed': 5691, 'box385': 1475, 'm6': 4218, '6wu': 610, 'smsservices': 6177, 'yourinclusive': 7612, '3qxj9': 468, '08702840625': 84, '220': 365, 'cm2': 1857, '9ae': 742, 'surname': 6543, 'clue': 1855, 'spanish': 6270, 'begins': 1312, 'costume': 2020, 'teacher': 6645, '85023': 681, 'savamob': 5837, 'offers': 4821, 'm263uz': 4217, '00': 0, '449050000301': 498, 'price': 5339, '09050000301': 169, '09066362220': 236, 'box97n7qp': 1481, 'mm': 4459, 'voda': 7219, '7634': 621, 'match': 4309, '08712300220': 103, 'quoting': 5466, '7684': 622, 'rates': 5499, 'soul': 6251, 'fire': 2848, 'spark': 6273, 'flame': 2868, 'rawring': 5504, 'xoxo': 7547, 'mag': 4239, 'deliver': 2230, '24th': 370, 'sept': 5939, 'china': 1788, 'conveying': 1994, 'ese': 2619, 'x29': 7540, '09065989180': 230, 'california': 1608, 'manageable': 4269, 'inperialmusic': 3644, 'listening2the': 4089, 'weirdest': 7352, 'byåóleafcutter': 1595, 'johnåó': 3786, 'insects': 3646, 'molested': 4490, 'plumbing': 5188, 'remixed': 5618, 'evil': 2657, 'acid': 804, 'realy': 5537, 'recognise': 5563, 'confused': 1960, 'welp': 7359, '09050003091': 177, 'c52': 1597, 'valid12hrs': 7146, 'incredible': 3614, 'amazing': 948, 'blow': 1412, 'o2fwd': 4797, '18p': 326, 'northampton': 4745, 'afraid': 859, 'skyving': 6125, 'comedy': 1905, 'logo': 4122, 'names': 4616, 'name1': 4613, 'name2': 4614, 'mobno': 4477, 'adam': 821, '07123456789': 27, 'pobox36504w45wq': 5204, 'txtno': 7005, 'ads': 842, 'sends': 5928, 'greetings': 3223, 'pleasant': 5178, 'checked': 1752, 'statements': 6368, 'appointment': 1034, 'waheed': 7254, 'fathima': 2769, 'gals': 3046, 'silently': 6075, 'drms': 2446, 'shesil': 5996, 'tncs': 6844, 'com1win150ppmx3age16': 1899, '09096102316': 254, '2moro': 400, 'jane': 3742, 'minmoremobsemspobox45po139wa': 4423, 'reaching': 5519, 'tp': 6909, 'mrt': 4540, 'sending': 5927, 'railway': 5474, 'adore': 837, 'loverboy': 4168, 'law': 3984, 'meatballs': 4350, 'ducking': 2466, 'chinchillas': 1790, 'hiding': 3403, 'abi': 762, 'drinkin': 2438, 'dancin': 2149, 'eatin': 2506, 'bag': 1215, 'goigng': 3149, 'perfume': 5082, 'puppy': 5423, 'noise': 4720, 'ideas': 3555, 'giggle': 3114, 'possibly': 5257, 'person2die': 5094, 'nvq': 4788, 'windy': 7428, 'outstanding': 4948, 'commercial': 1912, 'hasbro': 3324, 'august': 1153, 'jump': 3816, 'through': 6786, 'hoops': 3460, 'donno': 2398, 'scorable': 5861, '750': 619, 'rental': 5626, 'camcorder': 1627, '08000930705': 51, 'purpose': 5429, 'tenants': 6678, 'noworriesloans': 4767, '08717111821': 137, 'videosound': 7188, 'gold': 3154, 'videosounds': 7189, 'logos': 4125, 'musicnews': 4586, '09701213186': 260, 'steak': 6377, 'soup': 6256, 'karnan': 3844, 'plans': 5169, 'weak': 7323, 'yr': 7619, 'yeh': 7580, 'def': 2214, 'up4': 7088, 'joke': 3790, 'como': 1916, 'listened2the': 4086, 'plaid': 5162, 'album': 906, 'air1': 894, 'hilarious': 3406, 'boughtåóbraindanceåóa': 1462, 'ofstuff': 4829, 'aphexåõs': 1017, 'abel': 760, 'sheets': 5989, 'banks': 1233, 'fees': 2792, '08715203652': 130, '42810': 489, '29': 385, 'babes': 1200, 'dreading': 2431, 'thou': 6774, 'oooh': 4874, 'ridden': 5704, 'ey': 2713, 'wouldn': 7509, 'shot': 6032, 'fredericksburg': 2965, 'beads': 1284, 'yelling': 7581, 'scrappy': 5868, 'wedding': 7338, 'chapel': 1726, 'frontierville': 3004, 'ain': 891, 'smokin': 6172, 'chosen': 1805, '09066364311': 238, 'notified': 4758, 'future': 3032, 'marketing': 4293, '84122': 675, '08450542832': 68, 'phone750': 5117, '08000776320': 49, 'creep': 2068, 'looks': 4140, 'scrumptious': 5877, '0578': 20, 'resume': 5680, 'secret': 5891, 'admirer': 834, 'reveal': 5690, '09058094594': 190, 'crickiting': 2074, '22': 364, 'results': 5679, 'daily': 2144, 'removed': 5621, '83222': 665, 'sale': 5804, 'avoiding': 1174, 'burden': 1562, '85233': 684, 'chicken': 1776, 'broth': 1533, 'ramen': 5487, '09050001808': 175, 'm95': 4221, 'jada': 3735, 'kusruthi': 3924, 'spl': 6304, 'matured': 4323, 'stylish': 6470, 'juswoke': 3827, 'boatin': 1424, 'docks': 2367, 'slept': 6134, 'spinout': 6299, 'gossip': 3180, 'l8r': 3928, 'divorce': 2353, 'correctly': 2013, 'judgemental': 3809, 'fridays': 2982, 'imagine': 3579, 'unlike': 7074, 'docs': 2368, 'patients': 5041, 'turkeys': 6984, '515': 550, 'blimey': 1401, 'exercise': 2682, 'propsd': 5393, 'gv': 3265, 'lv': 4205, 'lttrs': 4187, 'threw': 6783, 'thm': 6767, 'aproach': 1048, 'dt': 2462, 'truck': 6956, 'speeding': 6287, 'towards': 6906, 'saved': 5839, 'hw': 3535, 'cn': 1860, 'replied': 5637, 'boost': 1444, 'energy': 2571, 'instantly': 3655, 'shouted': 6037, 'thy': 6800, 'lived': 4096, 'happily': 3312, '2gthr': 396, 'drinking': 2439, 'evrydy': 2665, 'agent': 874, 'goodies': 3167, 'mat': 4308, 'motivate': 4523, 'darkness': 2158, 'attending': 1142, 'talks': 6613, 'reunion': 5689, 'honeybee': 3453, 'sweetest': 6565, 'laughed': 3978, 'havnt': 3342, 'crack': 2048, 'jokes': 3791, 'gm': 3135, 'dorothy': 2408, 'kiefer': 3880, 'granite': 3206, 'strong': 6444, 'explosive': 2703, 'members': 4372, '300': 426, 'nasdaq': 4622, 'symbol': 6579, 'cdgt': 1699, 'quality': 5447, 'items': 3715, '7cfca1a': 629, 'washob': 7295, 'nobbing': 4716, 'nickey': 4692, 'platt': 5170, 'ofcourse': 4814, 'stripes': 6441, 'skirt': 6120, '3510i': 446, '8000930705': 638, 'worc': 7484, 'foregate': 2923, 'shrub': 6051, 'hill': 3407, 'process': 5368, 'adewale': 829, 'aka': 902, 'egbon': 2527, 'deny': 2244, 'ebay': 2508, 'less': 4023, 'elsewhere': 2547, 'freemsg': 2972, '08700621170150p': 75, 'jackson': 3733, 'rec': 5547, 'center': 1708, 'green': 3220, 'jerry': 3768, 'irritates': 3696, 'fails': 2732, 'express': 2706, 'wrote': 7525, 'ritten': 5719, 'sit': 6100, 'fold': 2898, 'infront': 3634, 'teeth': 6660, 'painful': 4982, 'maintaining': 4256, 'dare': 2154, 'sorting': 6246, 'thasa': 6721, 'messed': 4394, 'speed': 6285, 'speedchat': 6286, '80155': 644, 'swap': 6556, 'chatter': 1744, 'chat80155': 1743, 'rcd': 5509, 'preferably': 5309, 'kegger': 3857, 'audrie': 1152, 'autocorrect': 1160, 'bbd': 1268, 'pooja': 5232, 'pimples': 5146, 'become': 1294, 'black': 1385, 'sweatter': 6563, 'simply': 6082, 'math': 4314, 'nri': 4769, 'nigh': 4695, 'challenge': 1717, 'sometme': 6219, 'gram': 3201, 'usually': 7133, 'runs': 5777, 'eighth': 2532, 'smarter': 6157, 'shuhui': 6054, 'ron': 5737, 'present': 5322, 'swatch': 6559, 'custom': 2121, 'officer': 4823, 'continued': 1985, 'in2': 3601, 'president': 5324, '80082': 641, 'british': 1525, 'hotels': 3482, '02072069400': 11, 'bx': 1589, '526': 552, 'sw73ss': 6552, 'funk': 3027, 'tones2u': 6871, 'ringtones': 5714, 'original': 4915, '3gbp': 460, 'na': 4604, 'hmph': 3430, 'baller': 1223, '1000call': 265, '09071512432': 246, 'b4': 1191, '300603t': 429, 'csbcm4235wc1n3xx': 2089, 'callcost150ppmmobilesvary': 1614, 'maxå': 4329, 'samus': 5814, 'shoulders': 6035, 'fingers': 2840, 'buttons': 1581, 'complete': 1928, 'drug': 2452, 'water': 7309, 'wildlife': 7418, 'want2come': 7281, 'that2worzels': 6723, 'wizzle': 7454, 'dump': 2474, 'heap': 3356, 'lowes': 4177, 'died': 2297, 'wining': 7431, '946': 734, 'ams': 963, '08715205273': 134, 'deal': 2183, 'howz': 3497, 'persons': 5097, 'hopeing': 3465, 'sisters': 6099, 'update_now': 7093, 'f4q': 2718, 'snickering': 6185, 'totally': 6900, 'chords': 1804, 'iouri': 3685, 'rcvd': 5512, '25p': 375, '83021': 660, 'hanks': 3302, 'lotsly': 4155, 'couldn': 2026, 'dying': 2486, 'sup': 6524, 'footie': 2917, 'phil': 5111, 'neville': 4677, '84128': 676, 'textcomp': 6703, 'cust': 2119, '08712405020': 114, 'meaningful': 4343, 'compromised': 1937, 'wrongly': 7524, 'chuckin': 1809, 'trainners': 6917, 'carryin': 1673, 'bac': 1207, '08718726978': 151, 'videophones': 7187, '09061744553': 211, 'videochat': 7186, 'java': 3750, 'dload': 2360, 'polyh': 5226, 'noline': 4728, 'rentl': 5627, 'yck': 7575, 'waqt': 7286, 'se': 5881, 'pehle': 5066, 'naseeb': 4623, 'zyada': 7636, 'kisi': 3894, 'ko': 3912, 'kuch': 3922, 'nahi': 4608, 'milta': 4415, 'zindgi': 7634, 'wo': 7466, 'jo': 3778, 'hum': 3517, 'sochte': 6194, 'hai': 3278, 'jeetey': 3760, 'innings': 3641, 'sitter': 6102, 'kaitlyn': 3835, 'ree': 5573, 'pod': 5213, '80182': 646, '08452810073': 70, 'massages': 4304, 'oil': 4837, 'fave': 2774, 'position': 5251, 'appy': 1046, 'fizz': 2864, 'contains': 1980, 'causing': 1692, 'age': 871, 'lara': 3964, 'loan': 4109, 'ne': 4641, 'wrking': 7520, 'performed': 5081, 'desparate': 2261, 'recorded': 5566, 'salon': 5807, 'uncles': 7038, 'atlanta': 1131, 'cook': 1998, 'electricity': 2543, 'hungry': 3521, 'forced': 2922, 'slice': 6135, 'pizza': 5157, 'decide': 2196, 'easter': 2502, 'dine': 2314, 'offline': 4826, 'anjola': 979, 'asa': 1096, 'hassling': 3327, 'andres': 973, 'haughaighgtujhyguj': 3331, 'banneduk': 1234, '89555': 718, 'textoperator': 6706, 'g696ga': 3037, 'kills': 3884, 'fills': 2826, 'calm': 1625, 'reassurance': 5542, 'gei': 3081, 'tron': 6951, 'dl': 2357, 'macedonia': 4225, 'scotland': 5866, '4txt': 530, 'ì¼1': 7644, 'poboxox36504w45wq': 5208, 'di': 2282, 'esaplanade': 2617, 'nw': 4789, 'hu': 3506, 'female': 2797, 'citizen': 1814, 'navigate': 4636, 'choosing': 1802, 'require': 5647, 'guidance': 3254, '09050000460': 171, 'j89': 3730, 'box245c2150pm': 1471, 'multiply': 4567, 'independently': 3618, 'showed': 6042, 'birthdate': 1374, 'method': 4398, 'calculation': 1605, 'aunt': 1154, 'nike': 4701, '69669': 592, 'gprs': 3192, 'charges': 1733, 'lipo': 4080, 'falling': 2743, 'force': 2921, 'smeone': 6162, 'bits': 1382, 'pieces': 5141, 'isn': 3707, 'decision': 2200, 'simpler': 6081, 'magical': 4244, 'retard': 5682, 'hr': 3500, 'posting': 5263, 'drunk': 2455, 'flood': 2882, 'hunt': 3523, 'knocking': 3906, 'fifty': 2813, 'glad': 3127, 'hella': 3375, 'grand': 3204, 'nature': 4632, 'adventure': 847, 'galileo': 3045, 'nowadays': 4766, 'showrooms': 6047, 'shaping': 5980, 'uawake': 7015, 'feellikw': 2790, 'justfound': 3825, 'aletter': 912, 'thatmum': 6724, 'gotmarried': 3184, '4thnov': 529, 'ourbacks': 4933, 'åð': 7638, 'fuckinnice': 3013, 'selfish': 5916, 'steyn': 6391, 'wicket': 7407, 'vewy': 7178, 'lubly': 4188, 'block': 1403, 'breaker': 1503, 'deluxe': 2235, 'features': 2782, 'graphics': 3208, 'bbdeluxe': 1269, 'cloth': 1848, 'tablets': 6589, 'merely': 4385, 'relationship': 5597, 'wherevr': 7391, 'whenevr': 7387, 'forevr': 2926, 'gudnyt': 3249, 'mobiles': 4473, '89545': 717, 'tc': 6639, '2optout': 410, '087187262701': 148, '50gbp': 543, 'mtmsg18': 4554, 'plm': 5184, 'none': 4729, 'reality': 5532, 'arrived': 1086, 'beyond': 1347, 'pei': 5067, 'dudette': 2469, 'ate': 1128, 'earn': 2494, 'throat': 6785, 'scratches': 5869, '08707500020': 90, 'av': 1161, 'scores': 5863, 'sophas': 6238, 'secondary': 5889, 'application': 1030, 'schools': 5858, 'applying': 1033, 'ogunrinde': 4833, 'expensive': 2693, 'reg': 5584, 'pract': 5286, 'lessons': 4026, 'flung': 2889, 'diet': 2298, 'slices': 6136, 'transfered': 6924, 'wasnåõt': 7298, 'spouse': 6322, 'pmt': 5194, 'sumthin': 6516, '4give': 519, 'shldxxxx': 6014, 'indians': 3622, 'kane': 3840, 'shud': 6053, 'works': 7492, 'infra': 3633, 'gokila': 3153, 'cuddling': 2105, 'uses': 7126, 'stops': 6415, 'conacted': 1943, '09111030116': 258, 'pobox12n146tf15': 5200, 'desires': 2259, 'liver': 4097, 'intrepid': 3671, 'duo': 2478, 'sorts': 6247, 'lyrics': 4212, 'zac': 7628, 'disturbing': 2349, 'forget': 2928, 'beside': 1336, 'aathi': 756, 'skip': 6119, 'front': 3003, 'pull': 5414, 'tessy': 6693, 'favor': 2775, 'shijas': 5999, 'stereo': 6386, 'mi': 4402, 'unknown': 7072, 'deleted': 2227, 'blogging': 1404, 'magicalsongs': 4245, 'blogspot': 1405, 'april': 1047, 'costa': 2017, 'sol': 6200, '09050090044': 179, 'toclaim': 6849, 'pobox334': 5203, 'stockport': 6400, 'costå': 2021, 'max10mins': 4325, 'voted': 7229, 'torture': 6894, 'nordstrom': 4739, 'issue': 3710, 'weigh': 7348, 'breathe': 1509, 'enjoyed': 2579, 'burial': 1565, 'mojibiola': 4488, 'technical': 6656, 'providing': 5399, 'assistance': 1116, 'tues': 6978, 'fri': 2980, 'workin': 7489, '087018728737': 82, 'toppoly': 6888, 'tune': 6983, 'subpoly': 6475, '81618': 655, 'pole': 5221, '08718727870': 154, 'nitros': 4709, 'crash': 2053, 'dogbreath': 2376, 'sounding': 6253, 'thatåõs': 6726, 'eaten': 2505, 'rajas': 5480, 'burrito': 1569, 'wtf': 7529, 'btw': 1548, 'shitload': 6010, 'diamonds': 2287, 'melody': 4369, 'heat': 3363, 'applyed': 1032, 'gudnite': 3248, 'practice': 5288, 'inconvenient': 3612, 'coherently': 1876, 'twenty': 6992, 'converted': 1991, 'alibi': 919, 'cutting': 2132, 'careful': 1661, 'onbus': 4858, '2go': 395, '4a': 513, 'meal': 4339, 'donyt': 2402, 'latelyxxx': 3973, 'empty': 2562, 'roads': 5722, 'slippery': 6141, 'elvis': 2548, 'presleys': 5325, 'ax': 1186, 'yeesh': 7579, 'vijay': 7191, 'raglan': 5471, 'rd': 5513, 'edward': 2520, 'cricket': 2072, 'ground': 3233, 'closeby': 1844, 'acknowledgement': 805, 'astoundingly': 1124, 'tactless': 6593, 'faggy': 2728, 'demand': 2237, 'oath': 4798, 'fo': 2897, 'tke': 6830, 'eek': 2521, 'american': 950, 'singing': 6089, 'needy': 4656, 'pouts': 5275, 'stomps': 6403, 'feet': 2793, 'hm': 3425, 'payments': 5054, 'fedex': 2786, 'doors': 2406, 'wonders': 7478, '7th': 633, '6th': 608, 'style': 6467, '5th': 564, '4th': 527, 'personality': 5096, '3rd': 469, 'optimistic': 4892, 'improve': 3598, 'thanks2': 6715, 'dedicated': 2207, 'dedicate': 2206, 'randomlly': 5490, 'opening': 4881, 'immed': 3584, 'faster': 2764, 'group': 3234, 'exams': 2671, 'stressfull': 6434, 'adds': 828, '7250': 614, 'realized': 5534, 'accomodations': 795, 'cave': 1693, 'offered': 4819, 'embarassing': 2553, 'excuses': 2679, 'plumbers': 5187, 'tape': 6621, 'wrench': 7514, 'borrow': 1452, 'hor': 3469, 'bahamas': 1217, 'callfreefone': 1619, '08081560665': 61, 'cruise': 2083, 'ofå': 4831, '07786200117': 34, 'spun': 6329, 'wrld': 7522, 'note': 4751, 'exposed': 2704, 'cat': 1685, 'stuffs': 6464, 'ref': 5574, 'k718': 3831, '09065069120': 225, 'theyre': 6750, 'hospitals': 3477, 'medical': 4353, 'slippers': 6140, 'luckily': 4190, 'starring': 6357, 'role': 5731, 'shore': 6024, 'approx': 1043, 'ibored': 3544, '4u': 531, 'computers': 1941, 'sometext': 6214, 'stopped': 6414, 'nottingham': 4760, 'hrs': 3502, '63miles': 582, '40mph': 482, 'chillin': 1787, 'temales': 6673, 'attraction': 1144, 'thoughts': 6777, 'breath': 1508, 'named': 4615, 'cry': 2086, 'sorrows': 6241, 'proove': 5387, 'praises': 5291, 'curry': 2116, 'makiing': 4260, 'sambar': 5812, 'meanwhile': 4347, 'greet': 3221, 'stil': 6395, 'fucked': 3010, 'tobed': 6848, '430': 490, '630': 581, 'mini': 4419, 'snap': 6181, 'quizclub': 5463, '80122300p': 643, 'sp': 6264, 'rwm': 5784, 'ph': 5106, '08704050406': 85, 'somerset': 6213, 'ummma': 7031, 'begin': 1311, 'qatar': 5441, 'batch': 1256, 'lolnice': 4128, 'fish': 2855, 'related': 5595, 'trade': 6912, 'arul': 1093, 'sao': 5819, 'nimbomsons': 4703, 'pin': 5147, 'version': 7174, 'toledo': 6860, 'protect': 5395, 'sib': 6060, 'asks': 1108, 'sensitive': 5933, 'passwords': 5034, 'atm': 1134, 'password': 5033, 'currently': 2115, 'maximize': 4327, 'cc': 1696, '08718720201': 144, '114': 277, '14': 298, 'tcr': 6640, 'w1': 7237, 'goodmate': 3168, 'sary': 5826, 'asusual': 1126, 'cheered': 1758, 'franyxxxxx': 2959, 'common': 1914, 'hearin': 3359, 'iraq': 3692, 'afghanistan': 858, 'stable': 6342, 'honest': 3450, 'traveling': 6931, 'specific': 6282, 'darlings': 2161, 'reminder': 5615, 'needing': 4653, 'expect': 2689, 'fights': 2817, 'nokia6650': 4726, 'ctxt': 2101, 'mtmsg': 4553, 'daaaaa': 2137, 'ikea': 3570, 'spelled': 6289, 'caps': 1649, 'among': 957, 'mess': 4389, 'bullshit': 1558, 'gonnamissu': 3163, 'postcard': 5260, 'buttheres': 1579, 'aboutas': 769, 'merememberin': 4386, 'asthere': 1121, 'ofsi': 4828, 'breakin': 1505, 'yaxx': 7572, 'ttyl': 6976, 'lov': 4160, 'useless': 7124, 'misplaced': 4438, 'fundamentals': 3025, 'casualty': 1684, 'stuff42moro': 6462, 'includes': 3607, '40gb': 481, 'mp3': 4536, '83355': 668, 'ibhltd': 3541, 'ldnw15h': 3992, 'mtmsgrcvd18': 4555, 'mys': 4598, 'morn': 4514, 'stu': 6449, 'truble': 6955, 'evone': 2661, 'hates': 3330, 'bck': 1272, 'dan': 2147, 'spell': 6288, 'sez': 5960, 'arab': 1052, 'evry1': 2664, 'eshxxxxxxxxxxx': 2620, 'anti': 997, 'pocked': 5210, '087147123779am': 122, '7pm': 632, 'necklace': 4648, 'token': 6857, 'liking': 4060, '530': 554, 'ar': 1051, 'endowed': 2567, 'asthma': 1122, 'attack': 1138, 'cashbin': 1679, 'raining': 5476, 'caught': 1690, 'audition': 1151, 'achan': 801, 'amma': 954, 'ummmmmaah': 7032, 'woo': 7480, 'hoo': 3456, 'gifts': 3113, 'cliff': 1839, 'lnly': 4105, 'cam': 1626, 'moby': 4480, '82242': 657, 'msg150p': 4543, '2rcv': 413, 'hlp': 3424, '08712317606': 105, 'scrounge': 5876, 'thanx4': 6720, 'cer': 1711, 'catch': 1686, 'often': 4830, 'sporadically': 6317, 'bc': 1270, '08715203694': 133, '40533': 480, '31': 438, 'surya': 6548, 'pokkiri': 5220, 'l8': 3927, 'gon': 3158, 'indeed': 3616, 'king': 3889, 'cock': 1872, 'hubby': 3507, 'satisfy': 5833, '89938': 720, 'strings': 6439, 'action': 812, '50ea': 542, 'otbox': 4923, '731': 617, 'la1': 3932, '7ws': 634, 'yan': 7567, 'jiu': 3776, 'vill': 7195, '1030': 270, 'orc': 4902, 'passed': 5028, 'ahold': 886, 'tickets': 6803, 'frens': 2976, '09065174042': 227, 'recd': 5548, '07821230901': 40, 'popping': 5241, 'ibuprofens': 3545, '087104711148': 99, 'cmon': 1859, 'replies': 5638, '09061749602': 212, '528': 553, 'hp20': 3498, '1yf': 349, 'dot': 2411, 'guides': 3256, 'several': 5955, 'department': 2246, 'ours': 4934, 'conform': 1959, 'matric': 4318, 'arngd': 1077, 'marriage': 4295, 'walkin': 7267, 'unfortuntly': 7057, 'snake': 6180, 'bites': 1381, 'dancing': 2150, 'frnt': 2998, 'sayin': 5843, 'bite': 1380, 'linerental': 4070, 'lf56': 4032, '07808726822': 38, '09': 168, '872': 699, '9758': 737, 'pouch': 5269, 'grab': 3197, 'repeat': 5631, 'bitching': 1379, 'acted': 810, 'thinl': 6761, 'standing': 6353, 'rr': 5755, 'resent': 5653, 'previous': 5336, 'due': 2470, 'error': 2612, 'queries': 5450, 'customersqueries': 2125, 'netvision': 4670, 'hamster': 3290, '1pm': 339, 'buyers': 1583, 'brought': 1536, 'gmw': 3136, 'connected': 1966, 'hook': 3458, 'gota': 3182, 'chick': 1775, 'huge': 3510, 'boobs': 1435, 'collected': 1889, '85069': 682, 'verify': 7172, 'usher': 7128, 'britney': 1526, 'contacts': 1979, 'purple': 5428, 'thnk': 6768, 'yelow': 7583, 'jealous': 3758, 'brown': 1537, 'color': 1894, 'requests': 5646, '1stchoice': 342, '08707808226': 93, 'outbid': 4938, 'simonwatson5120': 6079, 'shinco': 6001, 'dvd': 2483, 'plyr': 5191, 'smsrewards': 6176, 'notifications': 4757, 'nor': 4736, 'bcum': 1278, 'pending': 5071, 'respect': 5663, 'mails': 4253, 'impressively': 3597, 'sensible': 5932, 'amy': 966, 'ure': 7108, 'intelligent': 3660, 'dileep': 2310, 'muchand': 4560, 'venugopal': 7170, 'mentioned': 4380, 'host': 3478, 'based': 1249, 'idps': 3561, 'linux': 4074, 'systems': 6584, 'textand': 6701, '08002988890': 57, 'covers': 2041, 'kisses': 3896, 'jumpers': 3817, 'hat': 3328, 'belt': 1328, 'cribbs': 2071, 'guessing': 3253, 'guessed': 3251, 'velly': 7167, 'spook': 6315, 'halloween': 3287, 'eerie': 2522, '08701417012150p': 78, 'housewives': 3490, '0871750': 139, '77': 623, 'landlines': 3954, 'google': 3176, 'maps': 4284, 'warner': 7290, '83118': 664, 'colin': 1884, 'farrell': 2760, 'swat': 6558, 'ticket': 6802, 'kiosk': 3892, 'mre': 4538, 'eating': 2507, 'esplanade': 2623, 'solve': 6204, 'murdered': 4579, 'questioned': 5453, 'gardener': 3060, 'vegetables': 7163, 'maid': 4249, 'neighbour': 4661, 'murderer': 4580, 'brilliant': 1518, 'lifetime': 4046, '83600': 672, 'approve': 1041, 'panalam': 4987, 'posts': 5265, 'headset': 3351, 'adp': 839, 'straight': 6425, 'motherfucker': 4522, 'ride': 5705, 'bike': 1361, 'entertaining': 2590, 'hugh': 3512, 'laurie': 3982, 'stick': 6392, 'entitled': 2594, '08002986030': 55, 'riley': 5709, 'win150ppmx3age16': 7423, 'taxt': 6634, 'massage': 4303, 'tie': 6804, 'pos': 5247, 'lool': 4141, 'evaluation': 2633, 'dollar': 2390, 'multimedia': 4566, '140': 299, 'ìä': 7645, '180': 325, 'bedrm': 1299, '1450': 302, '09050002311': 176, 'b4280703': 1193, '08718727868': 153, 'adi': 830, 'entey': 2591, 'nattil': 4630, 'kittum': 3898, 'boys': 1485, 'babyjontet': 1204, 'shock': 6015, 'leona': 4021, 'reaction': 5521, 'dhoni': 2280, 'title': 6825, 'hesitate': 3394, 'weakness': 7324, 'notebook': 4752, 'ryan': 5785, 'anthony': 996, 'round': 5745, 'leg': 4011, 'hurts': 3527, 'musta': 4588, 'overdid': 4953, 'tahan': 6596, 'anot': 986, 'lo': 4106, 'whens': 7388, 'radio': 5470, 'gent': 3087, '09064012160': 220, 'k52': 3829, 'dvg': 2484, 'vinobanagar': 7198, 'condition': 1949, 'ru': 5761, 'serving': 5946, 'spare': 6271, 'yun': 7624, 'ubi': 7017, '67441233': 589, 'irene': 3693, 'ere': 2607, 'bus8': 1571, '61': 574, '66': 586, '382': 454, 'cres': 2070, 'tech': 6655, '6ph': 606, '5wkg': 567, 'bids': 1357, 'shipping': 6005, 'partnership': 5022, 'invest': 3675, 'takes': 6603, 'reliant': 5602, 'loxahatchee': 4178, 'burning': 1567, 'callin': 1620, 'sozi': 6263, 'culdnt': 2107, 'talkbut': 6609, 'wannatell': 7279, 'wenwecan': 7364, 'properly': 5389, 'wrkin': 7519, 'hottest': 3484, 'swollen': 6574, 'glands': 3128, 'suffers': 6498, 'watched': 7304, 'goin2bed': 3151, 'only1more': 4868, 'gain': 3042, 'rights': 5708, 'husband': 3528, 'squeeeeeze': 6333, 'hug': 3509, 'lik': 4054, 'frndshp': 2995, 'luvd': 4201, 'edison': 2516, 'rightly': 5707, 'fool': 2912, 'wise': 7438, 'speechless': 6284, 'during': 2480, 'viva': 7216, 'contribute': 1987, 'greatly': 3219, 'appreciated': 1037, 'byatch': 1593, 'whassup': 7377, 'maga': 4240, 'jap': 3746, 'spys': 6330, 'shoppin': 6021, 'fondly': 2907, 'bein': 1317, 'thot': 6773, 'rain': 5475, 'fans': 2754, 'sport': 6318, '0870141701216': 79, 'norm': 4740, '120p': 284, 'completing': 1932, 'unbelievable': 7035, 'faglord': 2729, 'considering': 1973, 'rv': 5782, 'hol': 3437, 'havenåõt': 3338, 'rvx': 5783, 'opportunity': 4888, 'prayers': 5300, 'call09050000327': 1610, 'cream': 2061, 'cld': 1829, 'accidentally': 791, 'resend': 5652, 'difficulties': 2305, 'iz': 3725, 'yellow': 7582, 'frndship': 2994, 'misscall': 4440, 'frndz': 2997, '6missed': 604, 'barred': 1246, 'twat': 6990, 'dungerees': 2476, 'decking': 2203, 'punch': 5418, '08452810071': 69, 'handsome': 3297, 'finding': 2836, 'mummy': 4572, 'software': 6198, 'howda': 3494, 'mathe': 4315, 'en': 2563, 'samachara': 5810, 'copied': 2003, 'brolly': 1531, 'franxx': 2958, 'likely': 4057, 'mittelschmertz': 4452, 'paracetamol': 5001, 'vomit': 7225, 'result': 5678, 'useful': 7123, 'arsenal': 1088, 'dartboard': 2163, 'doubles': 2414, 'trebles': 6940, 'expert': 2696, 'hotmail': 3483, 'fuckin': 3011, 'showr': 6046, 'lock': 4115, 'keypad': 3866, '75': 618, 'homeowners': 3448, 'previously': 5337, 'refused': 5583, '1956669': 329, 'aunts': 1156, 'anniversary': 981, 'tarpon': 6624, 'springs': 6327, 'tom': 6862, 'mentionned': 4381, '08718726970': 149, 'fan': 2750, 'chloe': 1797, 'smashed': 6158, 'visionsms': 7209, 'completed': 1929, 'course': 2036, 'intend': 3661, 'iwas': 3723, 'marine': 4290, 'itried2tell': 3716, 'urmom': 7116, 'careabout': 1657, 'answerin': 992, 'reasonable': 5540, 'sleepy': 6133, 'poem': 5214, 'fear': 2780, 'cheer': 1757, 'tear': 6651, 'payback': 5050, 'melt': 4370, 'sunlight': 6520, 'loss': 4150, 'received': 5553, 'upon': 7099, 'tooth': 6884, 'or2optout': 4897, 'hv9d': 3533, '1apple': 330, '1tulsi': 344, 'leaf': 3998, '1lemon': 336, '1cup': 332, 'milk': 4413, 'bone': 1431, 'problms': 5365, 'litres': 4093, 'watr': 7312, 'diseases': 2339, 'snd': 6183, 'whom': 7400, 'nutter': 4785, 'cutter': 2131, 'ctter': 2099, 'cttergg': 2100, 'cttargg': 2098, 'ctargg': 2095, 'ctagg': 2094, 'ie': 3562, 'headin': 3348, 'busetop': 1573, 'okies': 4845, 'blah': 1388, 'elaine': 2539, 'jokin': 3792, 'disturbance': 2348, 'dlf': 2359, 'premarica': 5311, 'kindly': 3888, 'informed': 3632, 'rgds': 5698, 'kerala': 3861, 'valentine': 7143, 'paris': 5010, 'flight': 2875, '69101': 591, 'rtf': 5758, 'sphosting': 6293, 'rocking': 5727, 'ashes': 1099, 'sooo': 6235, 'deliveredtomorrow': 2232, 'malaria': 4263, 'gastroenteritis': 3064, 'replace': 5634, 'temp': 6674, 'reduce': 5572, 'meds': 4355, 'limiting': 4063, 'illness': 3574, 'keys': 3867, 'purse': 5430, 'meaningless': 4344, 'andros': 974, 'steal': 6378, 'dice': 2288, 'art': 1089, '86888': 691, 'subscribe6gbp': 6479, 'mnth': 4466, '3hrs': 461, 'txtstop': 7007, 'topic': 6887, '4eva': 515, 'gravity': 3213, 'carefully': 1662, '1225': 286, '50award': 541, '3100': 439, 'okmail': 4846, '09061743806': 208, 'tcs': 6641, 'box326': 1472, 'cw25wx': 2134, 'coveragd': 2040, 'vasai': 7156, 'clock': 1840, 'cantdo': 1643, 'anythingtomorrow': 1008, 'myparents': 4597, 'aretaking': 1062, 'outfor': 4940, 'katexxx': 3846, 'sittin': 6103, 'drops': 2449, 'scary': 5852, 'blank': 1391, 'photoshop': 5124, 'aww': 1184, 'mention': 4379, 'served': 5943, 'neshanth': 4666, 'created': 2062, 'gap': 3055, 'gaps': 3056, 'glorious': 3133, 'finds': 2837, 'coaxing': 1868, 'images': 3577, 'fond': 2906, 'souveniers': 6261, 'cougar': 2023, 'pen': 5068, 'theory': 6741, 'wins': 7435, 'loses': 4148, 'argue': 1066, 'telediscount': 6663, 'wishin': 7441, 'va': 7139, '4mths': 524, '11mths': 281, 'mobilesdirect': 4474, '08000938767': 52, 'or2stoptxt': 4898, 'mca': 4335, '2morro': 402, 'problems': 5364, 'mths': 4552, 'ntwk': 4774, '08001950382': 53, '674': 588, 'oi': 4835, 'enuff': 2599, 'space': 6265, 'mb': 4333, 'gage': 3039, 'deck': 2202, 'cnupdates': 1863, 'newsletter': 4686, 'alerts': 911, 'swimsuit': 6571, 'raping': 5497, 'dudes': 2468, 'poker': 5218, 'gailxx': 3041, 'arabian': 1053, 'steed': 6382, 'mmmmmm': 4463, 'arun': 1094, 'transfr': 6925, 'tok': 6856, 'hire': 3415, 'hitman': 3419, 'gate': 3065, 'charles': 1735, 'butt': 1578, 'abstract': 775, 'ic': 3546, 'mary': 4300, 'opener': 4880, 'breadstick': 1501, 'garbage': 3058, 'bags': 1216, 'jam': 3738, 'bread': 1500, 'hannaford': 3303, 'wheat': 7382, 'chex': 1770, 'ding': 2317, 'tai': 6597, 'feng': 2798, 'reservations': 5654, 'pop': 5238, '08712101358': 100, 'yavnt': 7571, 'played': 5172, 'necessarily': 4645, 'respectful': 5664, '447801259231': 496, '09058094597': 191, 'ratio': 5501, 'tortilla': 6893, 'lovin': 4171, 'perumbavoor': 5100, 'xavier': 7543, 'seconds': 5890, 'warning': 7291, 'samantha': 5811, 'playing': 5175, 'guitar': 3258, 'impress': 3596, 'doug': 2417, 'realizes': 5535, 'key': 3865, 'window': 7425, 'christmassy': 1807, 'jenny': 3764, 'leanne': 4000, 'sexiest': 5957, 'dirtiest': 2326, '89070': 713, 'fucks': 3014, 'sake': 5801, 'dealer': 2184, 'freedom': 2968, 'lunsford': 4198, 'requirements': 5649, 'semiobscure': 5923, 'sundayish': 6519, 'seat': 5886, 'lower': 4176, 'survey': 6547, '80160': 645, 'txt43': 7001, '50p': 544, 'soz': 6262, 'imat': 3580, 'mums': 4573, '80608': 649, 'movietrivia': 4534, '08712405022': 115, 'bishan': 1376, 'nearer': 4643, 'kalainar': 3837, 'thenampet': 6739, 'weåõve': 7376, 'mint': 4427, 'xxxx': 7554, 'specialisation': 6279, 'labor': 3936, 'shakara': 5970, 'beggar': 1310, 'frying': 3007, 'tea': 6643, 'weekdays': 7343, 'haiz': 3282, 'nails': 4609, 'drivin': 2443, 'nose': 4747, 'essay': 2624, 'dock': 2366, 'boat': 1423, 'rolled': 5733, 'newscaster': 4685, 'dabbles': 2138, 'flute': 2891, 'wheel': 7383, 'vivek': 7217, 'crucify': 2082, 'real1': 5528, 'pushbutton': 5432, 'dontcha': 2400, 'babygoodbye': 1203, 'golddigger': 3155, 'webeburnin': 7333, 'potential': 5267, 'tensed': 6681, 'bday': 1281, 'virgin': 7205, 'sumfing': 6513, 'responding': 5667, 'janx': 3745, 'dads': 2142, 'mornin': 4515, 'thanku': 6717, 'tallent': 6615, 'wasting': 7301, 'nasty': 4624, 'filthyguys': 2831, 'bitch': 1378, 'slo': 6142, '4msgs': 523, 'netflix': 4669, 'leo': 4020, 'bristol': 1524, 'les': 4022, 'rudi': 5765, 'snoring': 6187, 'ink': 3638, 'limping': 4065, 'aa': 752, 'exhaust': 2683, 'langport': 3956, 'brownie': 1538, 'treatin': 6938, 'treacle': 6933, 'printer': 5347, 'groovy': 3231, 'groovying': 3232, 'postponed': 5264, 'stocked': 6399, 'oranges': 4901, 'upd8': 7090, 'freefone': 2970, '2stoptx': 415, 'tip': 6817, 'moms': 4494, 'regular': 5593, 'checkup': 1755, 'pap': 4996, 'smear': 6159, 'interview': 3669, 'mmmmmmm': 4464, 'snuggles': 6192, 'contented': 1982, 'sigh': 6065, 'whispers': 7395, 'jolt': 3795, 'screamed': 5872, 'hallaq': 3286, 'owned': 4965, 'possessive': 5253, 'passionate': 5031, 'everyso': 2650, 'panicks': 4991, 'buzzzz': 1587, 'chest': 1769, 'vibrator': 7181, 'shake': 5971, 'alter': 938, 'plural': 5189, 'noun': 4762, 'walsall': 7273, 'tue': 6977, 'terry': 6691, 'agree': 879, 'ipad': 3687, 'macho': 4228, 'capital': 1647, 'healthy': 3355, 'airport': 895, 'grumpy': 3239, 'lying': 4209, 'realise': 5529, 'outta': 4949, 'habit': 3271, 'nan': 4619, 'bari': 1242, 'hudgi': 3508, 'yorge': 7603, 'pataistha': 5036, 'ertini': 2614, 'picsfree1': 5136, 'vid': 7184, 'keyword': 3868, 'appeal': 1026, 'thriller': 6784, 'director': 2325, 'mac': 4224, 'pounded': 5271, 'chk': 1796, 'ms': 4541, 'dict': 2290, '2years': 422, 'strain': 6426, 'dime': 2311, 'practical': 5287, 'yah': 7562, 'cafe': 1601, 'recharged': 5560, 'tarot': 6623, '85555': 686, 'subs': 6476, 'easiest': 2498, 'barcelona': 1239, 'patty': 5044, 'haul': 3332, 'discussed': 2338, 'julianaland': 3814, 'oblivious': 4803, 'constantly': 1976, 'upset': 7102, 'surprised': 6545, 'length': 4017, 'distract': 2346, 'puts': 5436, 'perspective': 5098, 'phasing': 5107, 'fourth': 2948, 'dimension': 2312, 'above': 770, '88877': 710, 'imin': 3582, 'dontmatter': 2401, 'urgoin': 7114, 'outl8r': 4942, 'excited': 2675, '08715203656': 131, '42049': 486, '26': 376, 'chit': 1795, 'logon': 4124, '8883': 709, 'cm': 1856, '4217': 487, 'w1a': 7240, '6zf': 611, '118p': 280, '87131': 697, 'pobox202': 5202, 'nr31': 4768, '7zs': 635, '450pw': 502, 'lag': 3942, 'loneliness': 4131, 'balloon': 1224, 'selflessness': 5917, 'logging': 4120, 'desert': 2257, 'geoenvironmental': 3092, 'implications': 3590, 'torch': 6891, 'bold': 1428, 'nìâte': 4795, 'secured': 5898, 'unsecured': 7080, '195': 328, '6669': 587, 'chillaxin': 1786, 'include': 3606, 'colours': 1897, 'euro': 2629, '3lions': 462, 'bloomberg': 1411, '447797706009': 495, 'careers': 1660, 'darling': 2160, 'resuming': 5681, 'minimum': 4420, 'reapply': 5538, 'hardly': 3318, 'envy': 2602, 'virgins': 7206, '4fil': 517, 'sexual': 5958, 'theirs': 6733, '69911': 598, '09058094599': 192, 'smaller': 6154, 'capacity': 1646, 'deduct': 2208, 'w8in': 7246, '4utxt': 532, 'renewal': 5623, 'every1': 2644, 'ava': 1162, 'goodtime': 3175, 'oli': 4851, 'rang': 5493, 'melnite': 4368, 'ifink': 3564, 'explain': 2700, 'everythin': 2651, 'l8rs': 3929, 'networking': 4672, 'associate': 1117, 'blastin': 1395, 'tsunamis': 6974, 'occur': 4807, 'rajnikant': 5484, 'swimming': 6570, 'indian': 3621, 'ocean': 4809, 'finishes': 2844, 'jason': 3749, 'puttin': 5437, 'notixiquating': 4759, 'laxinorficated': 3985, 'bambling': 1227, 'entropication': 2596, 'oblisingately': 4802, 'opted': 4891, 'masteriastering': 4306, 'amplikater': 962, 'fidalfication': 2808, 'champlaxigating': 1719, 'atrocious': 1135, 'wotz': 7505, 'junna': 3820, '08712402578': 110, 'satanic': 5829, 'imposter': 3595, 'destiny': 2267, 'bridge': 1514, 'lager': 3944, '08718738002': 158, '48922': 511, 'webpage': 7334, '0871277810710p': 118, 'slurp': 6151, 'hooked': 3459, 'pple': 5280, 'abeg': 759, 'sponsors': 6313, 'event': 2640, 'tescos': 6692, '1million': 338, 'ppt150x3': 5283, 'box403': 1477, 'w1t1jy': 7244, 'constant': 1975, 'blame': 1390, 'gods': 3146, 'blessings': 1400, 'tops': 6889, 'sts': 6448, 'sian': 6059, 'supervisor': 6528, 'stitch': 6397, 'trouser': 6954, 'hont': 3455, 'gamb': 3048, 'ow': 4961, '60': 569, '400thousad': 477, 'jp': 3803, 'mofo': 4486, 'piece': 5140, 'accidant': 789, 'tookplace': 6880, 'ghodbandar': 3107, 'traffic': 6913, 'moves': 4531, 'slovely': 6145, 'slip': 6139, 'jurong': 3821, 'buffet': 1553, 'amore': 959, 'gam': 3047, 'miwa': 4453, 'jiayin': 3774, 'hppnss': 3499, 'sorrow': 6240, 'goodfriend': 3166, 'panic': 4990, 'sarcastic': 5823, 'sathya': 5831, 'mesages': 4388, 'porn': 5242, '69855': 595, '24hrs': 368, 'stopbcm': 6411, 'sf': 5961, 'wc1n3xx': 7321, 'taka': 6599, 'saibaba': 5799, 'colany': 1882, 'choices': 1800, 'toss': 6897, 'coin': 1878, 'becoz': 1296, 'gudni8': 3247, 'ryder': 5786, 'gibbs': 3109, 'prices': 5340, 'understanding': 7049, 'sry': 6339, 'siva': 6107, 'tats': 6628, 'burger': 1563, 'scared': 5851, '69969': 599, 'bcmsfwc1n3xx': 1276, 'hvae': 3534, '09061701444': 203, 'acl03530150pm': 806, 'guoyang': 3260, '0845': 67, '021': 14, '3680': 449, '28thfeb': 384, 'åè10': 7637, 'evey': 2655, 'alternative': 939, 'term': 6683, 'chic': 1774, 'declare': 2204, 'hangin': 3300, 'makin': 4261, '09058094565': 188, '09066364589': 239, 'erutupalam': 2616, 'thandiyachu': 6711, 'unable': 7034, 'bhaskar': 1352, 'detroit': 2273, 'invoices': 3682, '08714712388': 124, '10am': 271, '0776xxxxxxx': 32, '30ish': 433, 'fifteen': 2812, 'concerned': 1947, 'complaining': 1925, 'yalru': 7565, 'lyfu': 4208, 'astne': 1123, 'innu': 3643, 'mundhe': 4575, 'lyf': 4207, 'ali': 917, 'halla': 3285, 'bilo': 1367, 'program': 5375, 'edhae': 2515, 'ovr': 4958, 'vargu': 7152, 'meow': 4384, 'noisy': 4721, '087016248': 80, 'brin': 1519, 'sheet': 5988, 'robs': 5725, 'avenge': 1168, 'converter': 1992, 'dose': 2409, 'tablet': 6588, 'fever': 2802, 'innocent': 3642, 'owl': 4963, 'licks': 4039, 'shirt': 6006, 'jeans': 3759, 'hourish': 3486, 'mall': 4265, 'dai': 2143, 'naal': 4605, 'eruku': 2615, 'steam': 6380, 'stone': 6404, 'duchess': 2465, '82277': 658, '008704050406': 3, 'arrow': 1087, 'dentist': 2243, 'significant': 6070, '146tf150p': 303, 'held': 3371, 'prasad': 5296, 'ciao': 1811, 'dough': 2418, 'flatter': 2871, 'pints': 5149, 'carlin': 1666, 'pickle': 5134, 'skye': 6122, 'deepest': 2211, 'darkest': 2157, '09094646631': 251, 'lined': 4069, 'grandma': 3205, 'parade': 5003, 'wld': 7461, 'nosh': 4748, 'bird': 1370, 'purchases': 5425, 'model': 4482, 'dull': 2472, 'flower': 2885, 'dippeditinadew': 2322, 'lovingly': 4173, 'itwhichturnedinto': 3719, 'gifted': 3112, 'tomeandsaid': 6864, '08718723815': 145, 'presnts': 5326, 'bcz': 1280, 'mis': 4434, 'jeevithathile': 3761, 'irulinae': 3699, 'neekunna': 4657, 'prakasamanu': 5293, 'sneham': 6184, 'prakasam': 5292, 'ennal': 2583, 'prabha': 5284, 'mns': 4465, 'bomb': 1430, 'mega': 4362, 'asda': 1098, 'counts': 2032, 'tootsie': 6885, 'smiled': 6165, 'answered': 991, 'pours': 5274, 'sum1': 6511, 'cha': 1714, 'quiteamuzing': 5460, 'thatåõscool': 6727, 'heading': 3349, 'neighbors': 4660, '07808': 37, 'xxxxxx': 7556, '08719899217': 166, '41685': 483, '07': 22, 'nyc': 4791, 'audiitions': 1150, 'relocate': 5604, 'mapquest': 4283, 'dogwood': 2382, 'pisces': 5150, 'aquarius': 1050, 'data': 2167, 'analysis': 970, 'hadn': 3274, 'clocks': 1841, 'realised': 5530, 'wahay': 7253, 'evo': 2660, 'flash': 2869, 'downs': 2423, 'fletcher': 2873, '09058091870': 184, 'soooo': 6236, 'provider': 5398, 'tming': 6836, 'grooved': 3230, 'axel': 1187, 'akon': 903, 'eyed': 2715, '08718726971': 150, '2mro': 405, 'algarve': 915, 'ansr': 989, 'tyrone': 7013, 'lodging': 4117, 'knock': 3905, 'choice': 1799, 'tkls': 6831, 'stoptxtstopå': 6417, '08708800282': 95, 'actor': 817, 'unemployed': 7054, 'showers': 6044, 'possessiveness': 5254, 'poured': 5273, 'lies': 4042, 'golden': 3156, '08006344447': 58, 'aiyar': 898, 'scold': 5860, 'mistakes': 4449, 'splashmobile': 6306, 'subscrition': 6484, 'costing': 2018, '300p': 430, 'fuuuuck': 3033, 'sleepin': 6129, 'flavour': 2872, 'hex': 3395, 'brainy': 1492, 'tt': 6975, 'wating': 7311, '09095350301': 253, 'erotic': 2611, 'ecstacy': 2512, 'individual': 3624, 'gong': 3161, 'kaypoh': 3850, 'collecting': 1890, 'scratching': 5870, 'squatting': 6332, 'mike': 4409, 'hussey': 3529, 'unmits': 7076, 'rcv': 5511, 'svc': 6550, 'hardcore': 3316, '69988': 600, 'queen': 5449, 'royal': 5752, 'sdryb8i': 5880, '100p': 267, 'stalk': 6347, 'profiles': 5373, 'ou': 4930, 'coins': 1880, 'factory': 2726, 'risks': 5717, 'pilates': 5144, '40': 475, 'cc100p': 1697, 'reserves': 5656, '0906346330': 218, 'abta': 777, '47': 505, 'po19': 5196, '2ez': 391, 'ashwini': 1101, 'west': 7370, 'palm': 4985, 'chill': 1785, '6hrs': 603, 'surgical': 6542, 'emergency': 2556, 'unfolds': 7055, 'anyways': 1011, 'exhausted': 2684, 'superb': 6526, 'grateful': 3210, 'happier': 3310, 'jetton': 3771, 'uncomfortable': 7039, 'tat': 6626, '2006': 356, 'fifa': 2811, 'slower': 6147, 'maniac': 4279, 'cherthala': 1767, 'cochin': 1871, 'bfore': 1350, 'tmorow': 6837, 'engaged': 2573, '09058097218': 196, 'ls15hb': 4182, 'silver': 6077, 'eta': 2626, 'okday': 4841, '09066361921': 234, 'mumhas': 4571, 'beendropping': 1304, 'theplace': 6742, 'adress': 840, 'becomes': 1295, '09058095201': 194, 'mountain': 4526, 'deer': 2212, 'perpetual': 5089, 'dd': 2180, 'whr': 7403, 'accessible': 788, '08709501522': 97, '139': 297, 'la3': 3933, '2wu': 421, '09111032124': 259, 'pobox12n146tf150p': 5201, 'jewelry': 3772, 'trips': 6947, 'passion': 5030, '09099726481': 256, 'dena': 2239, 'emailed': 2551, 'yifeng': 7595, 'lightly': 4053, 'checkboxes': 1751, 'rub': 5762, 'sooner': 6234, 'absolutly': 774, 'forwarding': 2944, 'proof': 5386, 'chasing': 1741, 'meetin': 4358, 'brighten': 1517, 'brainless': 1490, 'doll': 2389, 'vehicle': 7165, 'sariyag': 5825, 'madoke': 4237, 'barolla': 1245, '08712402902': 112, 'ben': 1329, '09063458130': 217, 'polyph': 5227, 'clever': 1837, 'guesses': 3252, 'attach': 1136, 'pure': 5426, 'hearted': 3361, 'enemies': 2569, 'smiley': 6167, 'sources': 6258, 'unhappiness': 7058, 'unfortunately': 7056, 'arent': 1060, 'cakes': 1603, 'thursday': 6797, 'fainting': 2734, 'housework': 3491, 'cuppa': 2111, 'versus': 7175, 'natalja': 4627, '440': 492, 'nat27081980': 4626, 'teresa': 6682, 'package': 4974, 'dec': 2193, 'ld': 3989, 'bam': 1226, 'aid': 887, 'usmle': 7130, 't4get2text': 6585, 'fishrman': 2857, 'dark': 2155, 'waited': 7258, 'sack': 5791, 'stones': 6406, 'strtd': 6447, 'throwin': 6788, 'atlast': 1132, '1stone': 343, 'uncountable': 7044, 'honesty': 3451, 'decisions': 2201, 'bothering': 1458, 'management': 4271, 'puzzeles': 5439, 'jia': 3773, 'moji': 4487, 'starving': 6365, 'cooked': 1999, 'blake': 1389, 'mokka': 4489, 'gautham': 3066, 'fetching': 2801, 'treats': 6939, 'necessary': 4646, 'tau': 6629, 'sar': 5821, 'piah': 5129, '80488': 648, '50s': 549, 'alot': 933, 'grocers': 3229, 'drunkard': 2456, 'multis': 4568, 'avo': 1172, 'manage': 4268, '3miles': 464, 'listed': 4084, '9pm': 745, 'go2sri': 3141, 'lanka': 3958, 'adsense': 843, 'approved': 1042, 'taxi': 6633, 'ing': 3635, 'newquay': 4683, '1im': 335, 'talkin': 6611, 'elaborating': 2538, 'safety': 5797, 'aspects': 1112, 'prakesh': 5294, 'joys': 3802, 'lifeis': 4045, 'waking': 7262, 'daywith': 2177, 'somewheresomeone': 6222, 'cares': 1663, 'tosend': 6895, 'greeting': 3222, 'canteen': 1644, 'swhrt': 6569, 'chez': 1771, 'jules': 3812, 'eight': 2531, 'fit': 2858, 'soo': 6232, 'muchxxlove': 4561, 'locaxx': 4114, '0870737910216yrs': 89, 'gail': 3040, 'l8tr': 3930, 'yaxxx': 7573, 'fair': 2735, 'weaknesses': 7325, 'pushes': 5433, 'knee': 3902, 'exposes': 2705, 'pulls': 5416, 'wicked': 7406, 'hugging': 3511, 'wendy': 7361, 'woodland': 7481, 'avenue': 1170, 'parish': 5011, 'magazine': 4241, 'telephone': 6664, 'wee': 7340, 'toshiba': 6896, 'portege': 5246, 'm100': 4213, 'earliest': 2492, 'lions': 4078, 'lionm': 4076, 'mono': 4501, 'lionp': 4077, 'personal': 5095, 'everybody': 2645, 'recognises': 5564, 'sleeps': 6132, 'coincidence': 1879, 'praveesh': 5298, 'delicious': 2229, 'gary': 3062, 'split': 6308, 'youi': 7606, 'eviction': 2656, 'spiral': 6300, 'michael': 4403, 'riddance': 5703, 'blankets': 1394, 'sufficient': 6499, 'thx': 6799, 'vava': 7159, 'trek': 6942, 'pocay': 5209, 'wocay': 7468, '2morrowxxxx': 404, 'oreo': 4908, 'truffles': 6959, 'east': 2500, 'coast': 1866, 'msgrcvd': 4545, 'customercare': 2123, 'goodnoon': 3172, 'easily': 2499, 'forgets': 2929, 'kicks': 3875, 'chop': 1803, 'drugdealer': 2453, 'singles': 6091, 'shb': 5985, 'thurs': 6796, 'pre': 5303, 'cancelled': 1638, 'sacked': 5792, 'visa': 7208, 'gucci': 3245, 'bills': 1365, 'assume': 1119, 'membership': 4373, 'jackpot': 3732, '81010': 652, 'dbuk': 2179, 'lccltd': 3988, '4403ldnw1a7rw18': 493, 'windows': 7426, 'logoff': 4123, 'tuition': 6981, 'treated': 6937, 'seekers': 5903, 'claire': 1820, 'follows': 2905, 'subsequent': 6485, 'wks': 7460, 'sonathaya': 6226, 'soladha': 6201, 'fridge': 2983, 'ystrday': 7621, 'medicine': 4354, 'randy': 5492, 'salmon': 5806, 'favorite': 2776, 'oyster': 4970, 'sashimi': 5827, 'rumbling': 5772, 'absolutely': 773, 'teenager': 6659, '0871277810910p': 120, 'headstart': 3352, 'desperate': 2263, 'rummer': 5773, 'gumby': 3259, 'cheese': 1761, 'bye': 1594, '6230': 578, '83383': 670, 'pobox114': 5199, '14tcr': 304, 'teju': 6661, 'poet': 5215, 'imagination': 3578, 'kilos': 3885, 'priya': 5355, '0796xxxxxx': 43, 'prizeawaiting': 5357, 'premier': 5312, '08717898035': 142, 'jas': 3748, 'tease': 6653, 'grave': 3211, 'shun': 6055, 'bian': 1354, 'glass': 3130, 'exhibition': 2685, 'ericson': 2608, 'der': 2254, 'luks': 4194, 'modl': 4483, 'teams': 6650, 'foward': 2949, 'salt': 5808, 'wounds': 7510, 'cme': 1858, 'hos': 3475, '2morow': 401, '07090298926': 25, '9307622': 733, 'happiest': 3311, 'characters': 1730, 'differences': 2302, 'fones': 2910, 'wild': 7416, 'stop2stop': 6410, '2morrow': 403, '087187272008': 152, 'now1': 4765, 'raise': 5477, '2u2': 417, 'apart': 1013, 'lul': 4195, 'juicy': 3810, 'nurses': 4780, 'shes': 5995, 'obese': 4799, 'oyea': 4969, 'annoying': 984, 'lasting': 3971, 'coughing': 2024, 'forgotten': 2934, 'recpt': 5568, 'processed': 5369, 'seem': 5904, 'forgive': 2930, 'four': 2947, 'ft': 3008, 'combination': 1902, 'drastic': 2429, 'maturity': 4324, 'gobi': 3144, 'arts': 1091, 'romcapspam': 5736, 'presence': 5321, 'outgoing': 4941, '07090201529': 24, '08714712412': 126, 'laughing': 3979, 'winning': 7434, 'tooo': 6882, 'nte': 4771, 'priority': 5350, 'isaiah': 3701, 'wiskey': 7444, 'brandy': 1494, 'rum': 5771, 'gin': 3117, 'vodka': 7221, 'scotch': 5865, 'shampain': 5976, 'kudi': 3923, 'yarasu': 7569, 'dhina': 2279, 'vaazhthukkal': 7140, 'units': 7067, 'practicing': 5289, 'accent': 784, '4years': 536, 'dental': 2242, 'nmde': 4713, 'driver': 2442, 'dent': 2241, 'sos': 6250, 'shoes': 6017, 'footy': 2919, 'stadium': 6343, 'large': 3966, 'coca': 1869, 'cola': 1881, 'zhong': 7633, 'qing': 5445, 'act': 809, 'nooooooo': 4733, 'cable': 1600, 'outage': 4936, 'aiyo': 899, 'pai': 4979, 'seh': 5909, 'cloud': 1850, 'river': 5720, 'tantrum': 6619, '4qf2': 525, '09050000332': 170, 'rstm': 5757, 'sw7': 6551, '3ss': 470, 'ayo': 1190, 'travelled': 6932, 'lip': 4079, 'caveboy': 1694, 'truro': 6961, 'ext': 2709, 'dub': 2463, 'je': 3757, 'alto18': 941, 'wave': 7315, 'asp': 1111, '44345': 494, 'dry': 2459, 'icic': 3548, 'shade': 5965, 'blind': 1402, 'rodds1': 5728, 'aberdeen': 761, 'united': 7066, 'kingdom': 3890, 'img': 3581, 'icmb3cktz8r7': 3550, 'dates': 2170, 'whatsup': 7381, 'december': 2195, 'vco': 7160, '08002986906': 56, 'afterwards': 865, 'rupaul': 5778, 'tool': 6881, 'juliana': 3813, 'caring': 1664, 'adjustable': 831, 'cooperative': 2002, 'allows': 929, 'students': 6455, 'agents': 875, 'boston': 1454, 'experiment': 2695, 'handset': 3296, 'networks': 4673, 'wi': 7405, 'nz': 4794, 'detailed': 2269, 'blanket': 1393, 'keen': 3853, 'wasnt': 7297, 'phoned': 5119, 'jesus': 3770, 'blessed': 1398, 'bluray': 1420, 'vat': 7157, 'dependents': 2248, 'success': 6487, 'watts': 7314, 'wavering': 7316, 'coping': 2005, 'heal': 3353, 'pride': 5341, 'kid': 3876, 'grownup': 3238, 'forfeit': 2927, 'receiving': 5554, 'triple': 6946, 'echo': 2510, 'intro': 3672, 'kickboxing': 3873, 'lacking': 3937, 'particular': 5018, 'dramastorm': 2428, 'aunty': 1157, 'reserve': 5655, 'thirunelvali': 6763, 'tackle': 6590, 'wkg': 7458, 'nus': 4782, 'sc': 5847, 'specialise': 6280, 'wad': 7249, 'soryda': 6249, 'sory': 6248, 'adventuring': 848, 'harri': 3321, 'victoria': 7183, 'recieve': 5561, 'channel': 1725, 'teletext': 6666, 'pg': 5105, 'enjoying': 2580, 'sppok': 6323, 'virtual': 7207, 'mth': 4551, 'noice': 4719, 'yetty': 7591, 'throwing': 6789, 'deciding': 2198, '88800': 708, '89034': 712, 'premium': 5313, '08718711108': 143, 'spice': 6294, 'donate': 2396, 'unicef': 7061, 'asian': 1102, 'tsunami': 6973, 'disaster': 2331, 'fund': 3024, '864233': 689, '08719181503': 163, 'hairdressers': 3280, 'beforehand': 1308, 'khelate': 3871, 'kintu': 3891, 'opponenter': 4887, 'dhorte': 2281, 'lage': 3943, 'stuck': 6451, 'kothi': 3920, 'marandratha': 4286, 'uhhhhrmm': 7022, 'nvm': 4787, 'gained': 3043, 'kg': 3870, 'sugar': 6501, 'tests': 6696, 'pressure': 5329, 'limits': 4064, 'consider': 1972, 'excused': 2678, 'definitely': 2218, 'cps': 2044, 'outages': 4937, 'conserve': 1971, 'suggest': 6503, 'sen': 5924, 'finance': 2834, 'walls': 7271, 'bunkers': 1560, 'peaceful': 5061, 'sometimes': 6218, 'remembrs': 5613, 'everytime': 2653, 'atleast': 1133, 'shakespeare': 5972, 'relieved': 5603, 'westonzoyland': 7373, '09065394514': 228, 'watchin': 7306, 'lido': 4040, 'blackberry': 1386, 'bold2': 1429, 'yalrigu': 7564, 'heltini': 3384, 'iyo': 3724, 'shared': 5982, 'body': 1425, 'uttered': 7135, 'trusting': 6963, 'ay': 1189, 'engin': 2575, 'intention': 3662, 'visitors': 7213, 'cocksuckers': 1873, 'ipads': 3688, 'worthless': 7503, 'novelty': 4763, 'young': 7607, 'sonetimes': 6227, 'rough': 5744, 'billy': 1366, 'jogging': 3784, 'epsilon': 2605, 'spiffing': 6296, 'workage': 7488, 'papa': 4997, 'whn': 7397, 'ofice': 4827, 'duffer': 2471, 'qet': 5443, 'theoretically': 6740, 'philosophical': 5112, 'hole': 3442, 'lab': 3935, 'goggles': 3148, 'thgt': 6751, 'clash': 1824, 'gee': 3078, 'prominent': 5378, 'cheek': 1756, 'dracula': 2427, 'titles': 6826, 'ghost': 3108, 'addamsfa': 823, 'munsters': 4576, 'exorcist': 2687, 'twilight': 6995, '3650': 447, '09066382422': 243, '3mins': 465, 'vary': 7155, '300603': 428, 'bcm4284': 1275, 'arranging': 1082, 'permission': 5088, 'diff': 2299, 'gower': 3191, 'åômorrow': 7641, 'mystery': 4601, 'solved': 6205, 'opened': 4879, 'sweetie': 6567, 'bathroom': 1260, '930': 732, 'bull': 1557, 'floating': 2881, '3000': 427, 'ultimately': 7027, 'tor': 6890, 'motive': 4524, 'tui': 6980, 'achieve': 803, 'korli': 3918, 'gloucesterroad': 3134, 'uup': 7136, 'africa': 860, 'avin': 1171, 'edge': 2514, 'underdtand': 7047, 'cherish': 1766, '083': 63, '6089': 572, 'mandan': 4274, 'billion': 1364, 'wnevr': 7464, 'fal': 2739, 'vth': 7235, 'fals': 2745, 'yen': 7584, 'madodu': 4236, 'nav': 4635, 'pretsorginta': 5331, 'nammanna': 4617, 'pretsovru': 5332, 'alwa': 943, 'dust': 2481, '62220cncl': 577, 'stopcs': 6413, '08717890890å': 141, 'aluable': 942, 'ffectionate': 2804, 'oveable': 4950, 'ternal': 6687, 'oble': 4801, 'ruthful': 5781, 'ntimate': 4772, 'atural': 1148, 'namous': 4618, '09066612661': 244, 'complementary': 1927, 'wa14': 7248, '2px': 412, 'sender': 5926, 'hep': 3387, 'immunisation': 3586, 'mushy': 4583, 'embarrassed': 2554, 'configure': 1955, 'settings': 5949, 'belive': 1320, 'posible': 5250, 'century': 1710, 'frwd': 3006, 'avoid': 1173, 'otside': 4929, 'raviyog': 5503, 'peripherals': 5086, 'bhayandar': 1353, 'sinco': 6085, 'payee': 5051, 'icicibank': 3549, 'urn': 7117, 'beware': 1346, 'frauds': 2960, 'disclose': 2333, 'possibility': 5255, 'strict': 6437, 'teaches': 6647, 'conducts': 1951, 'crying': 2087, 'map': 4282, 'imprtant': 3599, 'tomorw': 6868, 'rajitha': 5483, 'ranju': 5496, 'occurs': 4808, 'shiny': 6003, 'warming': 7288, 'cared': 1658, '4goten': 520, 'scammers': 5849, 'prem': 5310, 'nos': 4746, 'slob': 6143, 'inner': 3640, 'tigress': 6807, 'filling': 2825, 'forms': 2938, 'abroad': 771, 'xxsp': 7551, 'stopcost': 6412, '08712400603': 108, 'lyricalladie': 4211, '910': 729, 'hmmross': 3429, 'thout': 6779, 'timi': 6813, 'clearing': 1835, 'tscs08714740323': 6971, '1winawk': 347, '50perweeksub': 545, 'public': 5411, 'govt': 3190, 'instituitions': 3657, 'closed': 1845, 'gray': 3215, 'remembr': 5612, 'listn': 4090, 'watevr': 7310, 'downloaded': 2421, 'doit': 2386, 'mymoby': 4596, '6times': 609, 'league': 3999, 'invitation': 3677, 'cali': 1606, 'weddin': 7337, 'comfort': 1908, 'sold': 6202, 'onion': 4864, 'kaila': 3834, 'shell': 5992, 'unconsciously': 7042, 'unhappy': 7059, 'slide': 6137, 'gender': 3083, '24m': 369, 'noooooooo': 4734, 'highest': 3405, '54': 555, 'maximum': 4328, '71': 613, 'cds': 1700, '125': 288, 'freeentry': 2969, 'xt': 7548, 'ijust': 3569, 'talked': 6610, 'stubborn': 6450, 'sucker': 6491, 'suckers': 6492, 'wright': 7516, 'fly': 2892, 'eastenders': 2501, 'compare': 1921, 'herself': 3391, 'violet': 7201, 'tulip': 6982, 'lily': 4062, '84025': 674, 'wkent': 7457, '150p16': 310, 'hustle': 3530, 'forth': 2939, 'moved': 4530, 'harlem': 3320, 'gek1510': 3082, 'display': 2344, 'quarter': 5448, 'setting': 5948, 'snowboarding': 6190, 'affair': 853, 'wrk': 7518, 'dabooks': 2139, 'doggy': 2380, 'darker': 2156, 'styling': 6469, 'connections': 1968, 'accommodation': 792, 'various': 7153, 'global': 3132, 'phb1': 5108, '08700435505150p': 73, 'proze': 5401, 'norcorp': 4738, 'fav': 2773, 'sparkling': 6274, 'breaks': 1507, '45': 499, '0121': 5, '2025050': 359, 'shortbreaks': 6027, 'org': 4910, 'arestaurant': 1061, 'squid': 6335, 'dosomething': 2410, 'machines': 4227, 'habba': 3270, 'ahhhh': 884, 'woken': 7470, 'missy': 4447, 'tirunelvai': 6820, 'nervous': 4665, 'accident': 790, 'a30': 751, 'divert': 2351, 'wadebridge': 7250, 'ger': 3094, 'toking': 6858, 'syd': 6578, 'tee': 6658, 'cheery': 1760, 'lounge': 4158, 'passes': 5029, '08704439680': 86, 'booking': 1439, 'ooooooh': 4876, 'yoville': 7618, 'younger': 7608, 'babies': 1201, 'rejected': 5594, 'elama': 2540, 'mudyadhu': 4562, 'sheffield': 5990, 'opinions': 4886, 'categories': 1689, 'measure': 4348, 'ethnicity': 2628, 'census': 1707, 'transcribing': 6922, 'weirdo': 7353, 'pose': 5248, 'comb': 1901, 'dryer': 2460, 'weird': 7351, '09066368753': 241, '97n7qp': 738, 'wishlist': 7443, 'section': 5896, 'forums': 2941, 'nitro': 4708, 'bottle': 1459, 'amused': 965, 'bar': 1237, 'satsgettin': 5834, '47per': 508, 'lie': 4041, 'telugu': 6672, 'uploaded': 7098, 'dessert': 2265, 'suntec': 6523, 'predicte': 5305, 'farm': 2759, 'spirit': 6301, 'wan2': 7276, 'westlife': 7372, 'm8': 4219, 'tour': 6905, 'unbreakable': 7036, 'untamed': 7084, 'unkempt': 7071, '83049': 662, '09061702893': 206, 'increase': 3613, 'ideal': 3554, 'path': 5038, 'appear': 1027, 'paths': 5040, 'smoked': 6170, 'prix': 5354, 'remains': 5608, 'bro': 1527, 'amongst': 958, 'bros': 1532, 'crowd': 2079, 'dokey': 2388, 'swashbuckling': 6557, 'tons': 6877, 'paypal': 5056, 'voila': 7224, 'pockets': 5212, 'antibiotic': 998, 'abdomen': 758, 'gynae': 3267, 'infections': 3627, 'fren': 2975, 'installing': 3653, '2007': 357, '81303': 654, 'trackmarque': 6911, 'vipclub4u': 7203, 'liverpool': 4098, 'evaporated': 2634, 'stealing': 6379, 'employer': 2561, 'paperwork': 5000, 'companion': 1919, 'chef': 1763, 'listener': 4087, 'organizer': 4912, 'sympathetic': 6580, 'athletic': 1129, 'courageous': 2035, 'determined': 2272, 'dependable': 2247, 'psychologist': 5407, 'pest': 5101, 'exterminator': 2710, 'psychiatrist': 5405, 'healer': 3354, 'stylist': 6471, 'aaniye': 754, 'pudunga': 5413, 'venaam': 7169, '08714712379': 123, 'hon': 3449, 'doinat': 2384, 'hearts': 3362, 'broken': 1530, 'flippin': 2878, 'transport': 6926, 'problematic': 5363, 'definite': 2217, 'ache': 802, 'sang': 5815, 'uptown': 7105, '80': 636, 'drove': 2450, 'prashanthettan': 5297, 'rencontre': 5622, 'mountains': 4527, 'sickness': 6063, 'ashley': 1100, 'kitty': 3899, 'shaved': 5984, 'natural': 4631, 'entirely': 2593, 'panasonic': 4988, 'bluetoothhdset': 1417, 'doublemins': 2413, 'doubletxt': 2415, 'lick': 4038, 'lovly': 4174, 'outsider': 4947, 'view': 7190, 'gays': 3070, 'bell': 1321, 'natwest': 4633, 'pdate_now': 5059, 'yhl': 7593, 'meive': 4365, 'gotany': 3183, 'oral': 4899, 'doctors': 2370, 'reminds': 5617, '7548': 620, '4041': 479, 'amanda': 947, 'regard': 5585, 'renewing': 5624, 'upgrading': 7095, 'subject': 6473, 'apps': 1044, 'varaya': 7151, 'elaya': 2541, 'nudist': 4775, 'themed': 6735, 'apo': 1019, 'tellmiss': 6669, 'pan': 4986, 'silly': 6076, 'das': 2164, 'iknow': 3571, 'wellda': 7358, 'peril': 5084, 'studentfinancial': 6454, 'crisis': 2076, 'elephant': 2544, 'shove': 6039, 'um': 7029, '09053750005': 181, '310303': 440, '08718725756': 146, '140ppm': 300, 'champ': 1718, 'glasgow': 3129, '09061743811': 210, '326': 443, 'workout': 7491, 'fats': 2770, 'dick': 2289, 'initiate': 3637, 'uworld': 7138, 'qbank': 5442, 'assessment': 1114, 'olympics': 4853, 'drizzling': 2445, 'blowing': 1413, 'youphone': 7609, 'athome': 1130, 'youwanna': 7616, 'grinule': 3227, 'chachi': 1715, 'pl': 5158, 'tiz': 6829, 'kanagu': 3839, 'refund': 5581, 'spiritual': 6302, 'mising': 4437, 'playng': 5176, 'racing': 5468, 'transfer': 6923, 'withdraw': 7447, 'anyhow': 1001, 'scenery': 5854, 'rebtel': 5546, 'firefox': 2849, 'jide': 3775, 'visiting': 7211, 'dial': 2283, 'browser': 1540, 'surf': 6540, 'smartcall': 6156, '68866': 590, 'subscriptn3gbp': 6483, '08448714184': 66, 'landlineonly': 3953, 'taj': 6598, 'mahal': 4247, 'lesser': 4024, 'known': 3909, 'facts': 2727, 'mumtaz': 4574, 'shahjahan': 5969, 'wifes': 7413, 'arises': 1070, 'hari': 3319, 'lil': 4061, 'beverage': 1344, 'pist': 5153, '49': 512, 'bundle': 1559, 'deals': 2186, 'avble': 1166, 'mf': 4399, 'rats': 5502, 'themes': 6736, 'southern': 6260, 'field': 2809, 'administrator': 833, 'amla': 953, 'durban': 2479, 'shrek': 6050, 'appointments': 1035, '9755': 736, '730': 616, 'captain': 1650, 'hype': 3536, '700': 612, 'studio': 6457, 'offering': 4820, 'minor': 4425, 'letter': 4029, 'chart': 1738, 'crucial': 2081, 'ana': 968, 'tomarrow': 6863, 'sathy': 5830, 'rto': 5760, 'jobs': 3781, 'nanny': 4620, 'walked': 7266, 'doesnåõt': 2374, '2waxsto': 418, 'insurance': 3659, 'toyota': 6908, 'camry': 1631, 'olayiwola': 4849, 'mileage': 4411, 'landing': 3951, '087123002209am': 104, 'hmv1': 3432, 'stays': 6375, 'ors': 4917, 'stool': 6407, 'enters': 2588, 'differ': 2300, 'derek': 2255, 'surrender': 6546, 'rushing': 5780, 'gentleman': 3089, 'dignity': 2309, 'physics': 5128, 'dolls': 2392, 'patrick': 5042, 'swayze': 6560, 'thirtyeight': 6762, '79': 627, '08704439680ts': 87, 'laughs': 3980, 'contents': 1983, 'textbuddy': 6702, 'postcode': 5261, 'gaytextbuddy': 3071, '89693': 719, 'operate': 4883, 'synced': 6581, 'shangela': 5977, 'sentence': 5935, 'concentrate': 1944, 'educational': 2519, 'vijaykanth': 7192, 'drunken': 2457, 'korean': 3917, 'xafter': 7542, 'cst': 2092, 'chg': 1772, 'lifting': 4050, 'smsing': 6175, '09061743810': 209, 'backwards': 1210, 'vomitin': 7226, 'poking': 5219, 'everyday': 2647, '30th': 437, 'areyouunique': 1063, 'claims': 1819, 'dept': 2253, '13': 294, '08717507382': 140, 'shola': 6018, 'academic': 782, 'secretary': 5892, 'sagamu': 5798, 'lautech': 3983, 'vital': 7214, 'completes': 1931, 'education': 2518, 'zealand': 7630, 'wallpaper': 7270, '08701213186': 76, 'liquor': 4082, 'loko': 4126, 'spageddies': 6267, 'dobby': 2364, 'taste': 6625, 'bright': 1516, 'witin': 7450, 'pierre': 5142, 'cardin': 1655, 'restock': 5674, 'classmates': 1827, 'kit': 3897, 'strip': 6440, 'billed': 1363, '1013': 269, 'ig11': 3565, 'oja': 4838, 'timin': 6814, 'congratulation': 1963, '08715500022': 135, 'rpl': 5753, 'cnl': 1861, 'indicate': 3623, 'compensation': 1922, 'answering': 993, 'jb': 3755, 'returning': 5687, 'locks': 4116, 'jenne': 3763, 'lengths': 4018, 'behalf': 1314, 'stunning': 6465, '169': 322, '6031': 571, 'x49': 7541, '09065989182': 231, 'web2mobile': 7331, 'txt250': 7000, 'box139': 1469, 'la32wu': 3934, 'txtx': 7009, 'hitter': 3420, 'popped': 5240, 'loo': 4135, 'ed': 2513, 'sterm': 6389, 'resolved': 5661, 'fab': 2720, 'pears': 5063, '5pm': 563, '95': 735, 'pax': 5047, 'deposit': 2250, 'effect': 2524, 'irritation': 3698, 'chik': 1778, 'filthy': 2830, 'filth': 2829, 'saristar': 5824, 'e14': 2487, '9yt': 748, '08701752560': 81, '450p': 501, 'stop2': 6409, 'mallika': 4266, 'sherawat': 5994, 'butting': 1580, 'vs': 7234, 'tallahassee': 6614, 'posted': 5262, 'cosign': 2015, 'yunny': 7625, 'citylink': 1816, 'starshine': 6359, 'sips': 6094, 'cappuccino': 1648, 'taylor': 6635, 'assumed': 1120, '1mega': 337, 'pixels': 5156, '3optical': 466, '5digital': 558, 'dooms': 2404, 'chinatown': 1789, 'porridge': 5243, 'claypot': 1828, 'rice': 5701, 'yam': 7566, 'fishhead': 2856, 'beehoon': 1302, 'nydc': 4792, 'location': 4112, 'breakfast': 1504, 'hamper': 3289, 'zogtorius': 7635, 'iåõve': 3729, 'staring': 6356, 'summers': 6515, 'matched': 4310, 'help08714742804': 3380, 'ovulation': 4960, 'strips': 6442, 'postal': 5259, 'unintentionally': 7064, 'wrks': 7521, 'fires': 2851, '09066358361': 233, 'y87': 7560, 'twins': 6997, 'ew': 2666, 'hint': 3412, 'forum': 2940, 'studies': 6456, 'anyones': 1004, 'resolution': 5660, 'frank': 2956, 'prevent': 5334, 'dehydration': 2223, 'fluids': 2888, 'level': 4031, 'japanese': 3747, 'proverb': 5396, 'strike': 6438, 'ga': 3038, 'jen': 3762, 'alian': 918, 'absence': 772, 'ringing': 5711, 'houseful': 3489, 'brats': 1496, 'pulling': 5415, 'resubbing': 5676, 'phony': 5121, 'basketball': 1254, 'outdoors': 4939, 'stretch': 6435, 'grinder': 3225, 'dats': 2172, 'dogg': 2377, 'goods': 3174, 'laready': 3965, 'such': 6490, 'oooooh': 4875, 'unconscious': 7041, 'adults': 845, 'abnormally': 767, 'lovers': 4169, 'becz': 1297, 'undrstndng': 7053, 'avoids': 1175, 'suffer': 6497, 'complacent': 1924, 'maggi': 4242, 'mee': 4356, '09050005321': 178, 'sef': 5908, 'anjie': 978, 'meg': 4361, 'tix': 6828, 'brah': 1488, 'reception': 5557, 'crammed': 2050, 'convinced': 1996, 'conversations': 1990, 'senses': 5931, 'overemphasise': 4955, 'restaurant': 5673, 'barbie': 1238, 'ken': 3858, '45pm': 504, 'chgs': 1773, 'usc': 7120, 'payment': 5053, 'portal': 5245, 'garden': 3059, 'selection': 5914, 'bulbs': 1556, 'seeds': 5901, 'scotsman': 5867, 'go2': 3140, 'notxt': 4761, 'cartons': 1675, 'shelves': 5993, 'sue': 6496, 'lapdancer': 3961, 'g2': 3036, '1da': 333, '150ppmsg': 315, 'aslamalaikkum': 1109, 'insha': 3647, 'tohar': 6854, 'beeen': 1301, 'muht': 4565, 'albi': 905, 'mufti': 4563, 'mahfuuz': 4248, 'emerging': 2557, 'fiend': 2810, 'impede': 3589, 'hesitant': 3393, 'pig': 5143, 'clover': 1851, '0a': 261, 'allow': 927, 'companies': 1918, 'responsible': 5671, 'suppliers': 6530, 'sq825': 6331, 'arrival': 1084, 'moan': 4469, 'ammae': 955, 'steering': 6383, 'wrc': 7512, 'rally': 5486, 'lucozade': 4192, 'le': 3993, '61200': 575, 'packs': 4976, 'itcould': 3714, 'iphone': 3689, 'attend': 1141, 'rounds': 5747, 'woah': 7467, 'realising': 5531, 'strange': 6427, 'chase': 1740, 'crossing': 2078, 'kotees': 3919, 'opposite': 4889, 'fujitsu': 3017, 'lifebook': 4044, '420': 485, 'peoples': 5074, 'tiime': 6808, 'tears': 6652, 'doc': 2365, 'fiting': 2859, 'load': 4107, 'mj': 4455, '116': 278, 'range': 5494, 'interfued': 3667, 'minus': 4428, 'paragraphs': 5005, 'excuse': 2677, 'decorating': 2205, 'pookie': 5233, 'cashto': 1680, '08000407165': 48, 'getstop': 3102, '88222': 706, 'php': 5125, 'rg21': 5697, '4jx': 522, 'wasted': 7300, 'applebees': 1029, 'tmorrow': 6838, 'accomodate': 794, 'ndship': 4640, 'needle': 4654, 'itz': 3720, '4few': 516, 'alwys': 945, 'conected': 1952, '9t': 746, 'cozy': 2043, 'jsco': 3805, '2channel': 388, 'leadership': 3995, 'skills': 6115, 'psychic': 5406, '08714712394': 125, 'os': 4920, 'ubandu': 7016, 'disk': 2340, 'supply': 6531, 'subs16': 6477, '1win150ppmx3': 345, '09065171142': 226, 'stopsms': 6416, '08718727870150ppm': 155, 'overtime': 4957, 'nigpun': 4699, '61610': 576, '08712400602450p': 107, 'provided': 5397, 'tones2you': 6872, 'poyyarikatur': 5278, 'kolathupalayam': 3916, 'unjalur': 7070, 'erode': 2610, 'apologize': 1022, '08719181259': 162, 'profile': 5372, 'bpo': 1487, 'hillsborough': 3409, 'chiong': 1793, 'panther': 4994, 'sugababes': 6500, 'zebra': 7631, 'animation': 977, 'badass': 1212, 'hoody': 3457, '2814032': 381, '3xå': 474, '150pw': 316, 'eå': 2717, '28th': 383, '09058095107': 193, 's3xy': 5787, 'cheat': 1747, 'fatty': 2771, '07973788240': 44, '08715203649': 129, 'mouse': 4528, 'desk': 2260, 'priscilla': 5351, 'paragon': 5004, 'luton': 4199, '0125698789': 8, 'rgent': 5699, '1250': 289, '09071512433': 247, '050703': 19, 'callcost': 1613, 'mobilesvary': 4475, 'thin': 6753, 'arguments': 1068, 'fed': 2785, 'himso': 3411, 'foned': 2909, 'chuck': 1808, 'monster': 4504, 'north': 4744, 'carolina': 1669, 'texas': 6698, 'gre': 3216, 'someday': 6209, 'june': 3818, 'sux': 6549, 'raiden': 5473, '0089': 4, 'digits': 2308, '09063442151': 216, 'alle': 925, 'mone': 4497, 'eppolum': 2604, 'allalo': 923, 'receipts': 5550, 'ûówell': 7654, 'shortcode': 6028, '83332': 666, '08081263000': 60, 'refunded': 5582, 'retired': 5683, 'ahhh': 883, 'vaguely': 7141, 'travel': 6930, 'europe': 2632, 'bookedthe': 1438, 'hut': 3531, 'missunderstding': 4446, 'beloved': 1327, 'ûªve': 7652, 'instant': 3654, '08715203028': 128, '9th': 747, 'knowing': 3908, '1hr': 334, 'delay': 2225, 'spontaneously': 6314, 'goodevening': 3165, '09064012103': 219, 'box334sk38ch': 1474, 'signin': 6071, 'andre': 972, 'virgil': 7204, 'fassyole': 2762, 'blacko': 1387, 'londn': 4129, 'magic': 4243, 'loose': 4144, 'upgrdcentre': 7096, '9153': 730, '26th': 378, 'july': 3815, 'plum': 5186, 'smacks': 6152, '08712400200': 106, 'srsly': 6338, 'yi': 7594, 'knickers': 3904, '01223585236': 6, 'nikiyu4': 4702, 'funeral': 3026, 'shijutta': 6000, 'leads': 3997, 'apologetic': 1020, 'fallen': 2742, 'actin': 811, 'spoilt': 6310, 'badly': 1213, 'gravel': 3212, '31p': 441, 'rounder': 5746, 'required': 5648, 'styles': 6468, '08719839835': 165, 'mgs': 4401, '89123': 716, 'sip': 6092, 'spatula': 6275, 'firmware': 2852, 'flirtparty': 2880, 'replys150': 5641, 'gnarls': 3138, 'barkleys': 1243, 'parties': 5020, 'mental': 4378, 'plane': 5164, '15pm': 320, '09058097189': 195, '07753741225': 31, '08715203677': 132, '42478': 488, 'someplace': 6212, 'memory': 4375, 'screwd': 5875, 'suppose': 6533, 'archive': 1055, 'replacement': 5635, 'murali': 4577, 'srs': 6337, '2p': 411, '08448350055': 65, 'planettalkinstant': 5166, 'accordin': 796, 'onam': 4857, 'sirji': 6096, 'tata': 6627, 'aig': 889, 'disconnect': 2334, 'terrorist': 6690, 'confirmd': 1957, 'verified': 7171, 'cnn': 1862, 'ibn': 3543, 'wesleys': 7369, 'jontin': 3797, 'payasam': 5049, 'rinu': 5715, 'consensus': 1969, 'musical': 4585, 'thinked': 6757, 'basket': 1253, 'risk': 5716, 'arty': 1092, 'collages': 1885, 'tryin': 6966, 'roast': 5723, 'jon': 3796, 'spain': 6268, 'dinero': 2316, 'åôrents': 7642, '000pes': 2, '48': 509, 'consent': 1970, 'senthil': 5936, 'apnt': 1018, 'bao': 1236, 'sugardad': 6502, 'coimbatore': 1877, '83039': 661, '62735': 580, '450': 500, 'accommodationvouchers': 793, 'mustprovide': 4590, '15541': 319, 'seperated': 5938, 'ó_': 7647, 'ud': 7018, 'heavily': 3366, 'packing': 4975, 'gsex': 3240, '2667': 377, 'wc1n': 7320, '3xx': 473, 'tamilnadu': 6616, 'jerk': 3767, 'poo': 5231, 'feathery': 2781, 'bowa': 1464, 'mailed': 4252, 'varma': 7154, 'regarding': 5586, 'abbey': 757, 'lit': 4092, 'pendent': 5070, 'ello': 2545, 'pubs': 5412, 'frankie': 2957, 'bennys': 1334, 'burgundy': 1564, 'captaining': 1651, 'dled': 2358, 'flurries': 2890, 'haiyoh': 3281, 'million': 4414, 'robinson': 5724, 'sapna': 5820, 'manege': 4277, 'hogidhe': 3434, 'chinnu': 1792, 'swalpa': 6553, 'agidhane': 877, 'goal': 3142, 'henry': 3386, 'yards': 7570, 'bergkamp': 1335, 'margin': 4289, '78': 624, 'wesley': 7368, 'hack': 3272, 'backdoor': 1209, 'fraction': 2954, 'neo69': 4664, '09050280520': 180, 'subscribe': 6478, 'dps': 2425, 'bcm': 1273, '8027': 647, 'shanil': 5979, 'exchanged': 2674, 'uncut': 7045, 'diamond': 2286, 'dino': 2319, 'orno': 4916, 'jos': 3799, 'mila': 4410, 'age23': 873, 'blonde': 1407, 'mtalk': 4550, '69866': 596, '30pp': 435, '5free': 559, 'increments': 3615, 'help08718728876': 3381, 'blur': 1419, 'catches': 1687, 'thet': 6748, 'skinny': 6116, 'casting': 1682, 'bowls': 1466, 'prone': 5385, 'falls': 2744, '09061790126': 214, '08709222922': 96, '8p': 723, 'peak': 5062, '08718738034': 159, 'borderline': 1447, 'board': 1422, 'overheating': 4956, 'reslove': 5659, 'inst': 3651, 'normally': 4743, 'santa': 5817, '09058094583': 189, 'general': 3084, 'smell': 6160, 'tobacco': 6847, 'designation': 2258, 'developer': 2276, 'staff': 6344, 'edu': 2517, 'sg': 5962, 'phyhcmk': 5127, 'pc1323': 5058, 'ques': 5451, 'suits': 6509, 'beauty': 1289, 'senor': 5929, 'ûªm': 7650, 'ûªt': 7651, 'castor': 1683, 'lifted': 4049, 'hopes': 3466, 'approaches': 1038, 'helloooo': 3378, 'welcomes': 7356, 'suggestion': 6504, 'lands': 3955, 'helps': 3383, 'forgt': 2935, 'alive': 920, 'involve': 3683, 'imposed': 3593, 'justbeen': 3824, 'overa': 4952, 'brains': 1491, 'mush': 4582, 'sayy': 5846, 'likes': 4058, 'dislikes': 2341, 'continent': 1984, '09058094507': 187, 'armenia': 1074, 'swann': 6555, 'howard': 3493, 'huiming': 3516, 'veggie': 7164, 'reboot': 5544, 'invaders': 3673, 'orig': 4914, 'arcade': 1054, 'console': 1974, 'purchase': 5424, 'rcb': 5508, 'battle': 1263, 'kochi': 3913, 'anyplaces': 1005, 'ffffffffff': 2806, 'weightloss': 7350, 'shu': 6052, 'singapore': 6088, 'cutest': 2129, 'cruisin': 2084, '09058094455': 186, '07099833605': 26, '9280114': 731, 'jaykwon': 3752, 'thuglyfe': 6795, 'falconerf': 2740, 'complexities': 1933, 'freely': 2971, 'taxes': 6632, 'outrageous': 4943, 'commit': 1913, 'wined': 7430, 'dined': 2315, 'stands': 6354, 'nitz': 4711, 'grl': 3228, 'hogolo': 3436, 'kodstini': 3914, 'agalla': 870, 'madstini': 4238, 'hogli': 3435, 'mutai': 4591, 'eerulli': 2523, 'kodthini': 3915, 'predicting': 5306, 'inch': 3603, 'accumulation': 800, 'sarcasm': 5822, 'scarcasim': 5850, 'folks': 2900, 'li': 4033, 'lecturer': 4009, 'repeating': 5632, 'everyones': 2649, 'babysitting': 1206, 'scenario': 5853, 'dao': 2153, 'mobs': 4478, 'breathe1': 1510, 'crazyin': 2059, 'sleepingwith': 6131, 'finest': 2839, 'ymca': 7598, 'pobox365o4w45wq': 5205, '545': 557, 'cheque': 1765, 'detail': 2268, '0721072': 28, 'degree': 2220, 'joining': 3789, 'lingo': 4072, 'kickoff': 3874, 'dismay': 2342, 'zaher': 7629, 'lakhs': 3946, 'unconvinced': 7043, 'elaborate': 2537, 'willpower': 7421, 'lanre': 3959, 'fakeye': 2738, 'eckankar': 2511, 'tbs': 6638, 'persolvo': 5092, 'forå': 2945, '38': 453, 'kath': 3847, 'manchester': 4272, 'textpod': 6707, 'aren': 1059, 'horrible': 3473, 'mc': 4334, 'amk': 952, '09061221061': 201, '28days': 382, 'box177': 1470, 'm221bp': 4214, '2yr': 423, 'warranty': 7292, 'på': 5440, '99': 740, 'tiring': 6819, 'modules': 4485, 'concentrating': 1945, 'monkey': 4499, 'asshole': 1115, 'repairs': 5630, 'followin': 2903, 'tddnewsletter': 6642, 'emc1': 2555, 'thedailydraw': 6731, 'helen': 3372, 'dozens': 2424, 'prizeswith': 5359, 'papers': 4999, 'eldest': 2542, 'bigger': 1359, 'cleared': 1833, '448712404000': 497, '08712404000': 113, 'aptitude': 1049, '10th': 274, '09050000555': 172, 'ba128nnfwfly150ppm': 1197, 'pool': 5234, 'jacuzzi': 3734, 'holby': 3438, 'parachute': 5002, 'confuses': 1961, 'attracts': 1146, 'maths': 4317, 'chapter': 1728, 'mcr': 4337, 'macs': 4230, 'prepared': 5316, 'waheeda': 7255, 'shitstorm': 6011, 'attributed': 1147, 'stories': 6420, 'flying': 2893, 'hcl': 3343, 'requires': 5650, 'freshers': 2978, 'suman': 6512, 'telephonic': 6665, 'greatest': 3218, 'courage': 2034, 'bear': 1285, 'defeat': 2215, 'parent': 5008, 'snot': 6188, 'unintentional': 7063, 'nonetheless': 4730, 'cudnt': 2106, 'ctla': 2096, 'ente': 2585, 'ishtamayoo': 3704, 'bakrid': 1220, 'mobsi': 4479, '391784': 455, 'bookshelf': 1442, 'wondarfull': 7474, 'chile': 1784, 'subletting': 6474, 'juan': 3808, 'presents': 5323, 'nicky': 4693, 'cl': 1817, 'replacing': 5636, 'hypertension': 3537, 'tms': 6841, 'widelive': 7410, 'index': 3619, 'wml': 7462, '1b6a5ecef91ff9': 331, '37819': 452, 'true18': 6958, '0430': 17, 'jul': 3811, 'jjc': 3777, 'tendencies': 6679, 'stage': 6345, '08719899230': 167, 'wewa': 7375, '130': 295, 'iriver': 3694, '255': 374, '128': 291, 'pump': 5417, 'woot': 7482, 'stuffing': 6463, 'denying': 2245, 'typical': 7012, 'meat': 4349, 'supreme': 6535, 'bx526': 1591, 'masters': 4307, 'nver': 4786, 'tap': 6620, 'spile': 6297, 'broad': 1528, 'canal': 1634, 'ceiling': 1701, 'applausestore': 1028, 'monthlysubscription': 4507, 'max6': 4326, 'csc': 2090, 'web': 7330, 'newest': 4681, 'sections': 5897, 'clearer': 1834, 'bec': 1290, 'shouting': 6038, '077xxx': 35, '09066362206': 235, 'finn': 2847, 'someonone': 6211, '09064015307': 221, 'åòharry': 7639, 'potter': 5268, 'phoenix': 5115, 'harry': 3322, 'readers': 5523, 'expired': 2697, 'monoc': 4502, 'monos': 4503, 'polyc': 5225, 'stream': 6429, '0871212025016': 102, 'responsibilities': 5669, 'rct': 5510, 'thnq': 6769, 'adrian': 841, 'vatian': 7158, 'beth': 1340, 'charlie': 1736, 'props': 5392, 'gran': 3203, 'onlyfound': 4869, 'afew': 852, 'cusoon': 2118, 'honi': 3454, 'û_thanks': 7649, 'jaklin': 3737, 'derp': 2256, 'abusers': 780, 'genius': 3086, 'firsg': 2853, 'mmm': 4460, 'iåõd': 3727, 'hsbc': 3503, 'invite': 3678, 'totes': 6901, 'becausethey': 1293, '09058098002': 197, 'pobox1': 5198, 'w14rg': 7239, 'marvel': 4299, 'ultimate': 7026, 'spider': 6295, '83338': 667, '8ball': 722, 'kaiez': 3833, 'hiphop': 3414, 'brum': 1543, 'copies': 2004, 'clarify': 1821, 'preponed': 5318, 'somewhat': 6220, 'laden': 3939, 'wrecked': 7513, 'mus': 4581, 'walkabout': 7265, 'hundreds': 3520, 'handsomes': 3298, 'beauties': 1287, 'aunties': 1155, 'wheellock': 7384, 'treasure': 6935, 'invention': 3674, 'thesmszone': 6747, 'anonymous': 985, 'masked': 4302, 'abuse': 779, 'reckon': 5562, 'eightish': 2533, 'carpark': 1671, 'yummmm': 7622, 'urfeeling': 7109, 'bettersn': 1342, 'probthat': 5367, 'overdose': 4954, 'lovejen': 4164, 'ringtoneking': 5713, '84484': 678, '09058094454': 185, 'tomorro': 6866, 'deus': 2274, '0789xxxxxxx': 42, '2find': 392, 'unni': 7077, '2yrs': 424, 'entrepreneurs': 2595, 'gopalettan': 3177, 'participate': 5017, 'admin': 832, 'manual': 4280, 'reset': 5657, 'troubleshooting': 6953, 'infact': 3626, 'haunt': 3333, 'promoting': 5383, 'steamboat': 6381, 'aaooooright': 755, 'olowoyey': 4852, 'argentina': 1064, 'finishd': 2842, 'missions': 4444, 'confirmed': 1958, 'reassuring': 5543, 'errors': 2613, 'aust': 1158, 'bk': 1384, 'rumour': 5774, '09071517866': 248, '150ppmpobox10183bhamb64xe': 314, 'disappeared': 2329, 'kappa': 3842, 'owns': 4966, 'property': 5390, 'horse': 3474, '09064017295': 222, 'pathaya': 5039, 'enketa': 2581, 'maraikara': 4285, 'wtc': 7528, 'weiyi': 7354, 'evry': 2663, 'emotion': 2559, 'dsn': 2461, 'prayrs': 5302, 'othrwise': 4928, 'gist': 3121, 'hme': 3426, 'prof': 5371, 'sem': 5921, 'enna': 2582, 'kalaachutaarama': 3836, 'perf': 5078, 'sliding': 6138, 'proper': 5388, 'tongued': 6873, 'ups': 7101, '3days': 458, 'usps': 7131, 'bribe': 1513, 'nipost': 4705, 'reache': 5517, 'nevr': 4678, 'unrecognized': 7078, 'somone': 6224, 'valuing': 7150, 'definitly': 2219, 'undrstnd': 7052, 'checkmate': 1754, 'chess': 1768, 'persian': 5091, 'phrase': 5126, 'shah': 5968, 'maat': 4223, 'defer': 2216, 'admission': 835, 'creative': 2063, '08714714011': 127, 'dumb': 2473, 'realize': 5533, 'youdoing': 7605, 'ammo': 956, 'ak': 901, 'repent': 5633, 'wenever': 7362, 'involved': 3684, 'youåõre': 7617, 'rayman': 5506, 'golf': 3157, 'activ8': 813, 'termsapply': 6686, 'chickened': 1777, 'woould': 7483, 'crab': 2047, 'waves': 7317, 'footprints': 2918, 'fox': 2951, 'frndsship': 2996, 'dwn': 2485, 'cuddle': 2103, '09077818151': 249, 'calls1': 1623, '50ppm': 547, '30s': 436, 'santacalling': 5818, 'resubmit': 5677, 'expiry': 2699, 'vpod': 7232, 'webadres': 7332, 'geting': 3099, 'bawling': 1264, 'failure': 2733, 'failing': 2731, 'poop': 5235, 'gpu': 3193, 'corporation': 2009, 'batsman': 1261, 'necesity': 4644, 'witout': 7452, 'colleg': 1892, 'wth': 7530, 'functions': 3023, 'events': 2641, 'espe': 2621, 'irritated': 3695, '4wrd': 535, 'wthout': 7531, 'takecare': 6601, 'soiree': 6199, 'stalking': 6348, '3750': 451, 'hides': 3402, 'thousands': 6778, 'secrets': 5894, 'n8': 4602, 'gotto': 3188, '220cm2': 366, 'desparately': 2262, 'importantly': 3592, 'univ': 7068, 'worms': 7495, '8pm': 724}\n"
          ]
        }
      ]
    },
    {
      "cell_type": "markdown",
      "source": [
        "### Converting the Vector Representation into Text"
      ],
      "metadata": {
        "id": "Vw4pSxFNI4OR"
      }
    },
    {
      "cell_type": "code",
      "source": [
        "source_vector = x_train_np[0]\n",
        "source_vector"
      ],
      "metadata": {
        "colab": {
          "base_uri": "https://localhost:8080/"
        },
        "id": "DkThm7DJI9B4",
        "outputId": "f275b267-d1f3-491c-bd5d-b9c90708bf69"
      },
      "execution_count": null,
      "outputs": [
        {
          "output_type": "execute_result",
          "data": {
            "text/plain": [
              "array([0, 0, 0, ..., 0, 0, 0])"
            ]
          },
          "metadata": {},
          "execution_count": 25
        }
      ]
    },
    {
      "cell_type": "code",
      "source": [
        "non_zero_indexes = np.where(source_vector!=0)[0]\n",
        "non_zero_indexes"
      ],
      "metadata": {
        "colab": {
          "base_uri": "https://localhost:8080/"
        },
        "id": "gFznHuFEJAUO",
        "outputId": "4e218100-e5e7-44f6-e828-4a081b656df0"
      },
      "execution_count": null,
      "outputs": [
        {
          "output_type": "execute_result",
          "data": {
            "text/plain": [
              "array([ 946, 1576, 2833, 2841, 2920, 2942, 3389, 4139, 4359, 4679, 6845,\n",
              "       6967, 7577, 7604])"
            ]
          },
          "metadata": {},
          "execution_count": 26
        }
      ]
    },
    {
      "cell_type": "code",
      "source": [
        "for index in non_zero_indexes[:3]:\n",
        "    print(bow_v.get_feature_names_out()[index])"
      ],
      "metadata": {
        "colab": {
          "base_uri": "https://localhost:8080/"
        },
        "id": "MYZZgnu_JPsr",
        "outputId": "bee85515-46ea-4e9f-91c4-2872bde7282e"
      },
      "execution_count": null,
      "outputs": [
        {
          "output_type": "stream",
          "name": "stdout",
          "text": [
            "am\n",
            "busy\n",
            "finally\n"
          ]
        }
      ]
    },
    {
      "cell_type": "markdown",
      "source": [
        "### Creating the Machine Learning Model to Evaluate this Vector Representation Method"
      ],
      "metadata": {
        "id": "oIsVNc2-J_N_"
      }
    },
    {
      "cell_type": "code",
      "source": [
        "model = MultinomialNB()"
      ],
      "metadata": {
        "id": "fPzC_ih-KI3m"
      },
      "execution_count": null,
      "outputs": []
    },
    {
      "cell_type": "markdown",
      "source": [
        "### Training the Model"
      ],
      "metadata": {
        "id": "u5DQ2nm5KjgG"
      }
    },
    {
      "cell_type": "code",
      "source": [
        "model.fit(x_train_cv, y_train)"
      ],
      "metadata": {
        "colab": {
          "base_uri": "https://localhost:8080/",
          "height": 75
        },
        "id": "vDOZdfRVKfgc",
        "outputId": "5128219b-703c-403d-d2ad-7b51ab817cba"
      },
      "execution_count": null,
      "outputs": [
        {
          "output_type": "execute_result",
          "data": {
            "text/plain": [
              "MultinomialNB()"
            ],
            "text/html": [
              "<style>#sk-container-id-1 {color: black;background-color: white;}#sk-container-id-1 pre{padding: 0;}#sk-container-id-1 div.sk-toggleable {background-color: white;}#sk-container-id-1 label.sk-toggleable__label {cursor: pointer;display: block;width: 100%;margin-bottom: 0;padding: 0.3em;box-sizing: border-box;text-align: center;}#sk-container-id-1 label.sk-toggleable__label-arrow:before {content: \"▸\";float: left;margin-right: 0.25em;color: #696969;}#sk-container-id-1 label.sk-toggleable__label-arrow:hover:before {color: black;}#sk-container-id-1 div.sk-estimator:hover label.sk-toggleable__label-arrow:before {color: black;}#sk-container-id-1 div.sk-toggleable__content {max-height: 0;max-width: 0;overflow: hidden;text-align: left;background-color: #f0f8ff;}#sk-container-id-1 div.sk-toggleable__content pre {margin: 0.2em;color: black;border-radius: 0.25em;background-color: #f0f8ff;}#sk-container-id-1 input.sk-toggleable__control:checked~div.sk-toggleable__content {max-height: 200px;max-width: 100%;overflow: auto;}#sk-container-id-1 input.sk-toggleable__control:checked~label.sk-toggleable__label-arrow:before {content: \"▾\";}#sk-container-id-1 div.sk-estimator input.sk-toggleable__control:checked~label.sk-toggleable__label {background-color: #d4ebff;}#sk-container-id-1 div.sk-label input.sk-toggleable__control:checked~label.sk-toggleable__label {background-color: #d4ebff;}#sk-container-id-1 input.sk-hidden--visually {border: 0;clip: rect(1px 1px 1px 1px);clip: rect(1px, 1px, 1px, 1px);height: 1px;margin: -1px;overflow: hidden;padding: 0;position: absolute;width: 1px;}#sk-container-id-1 div.sk-estimator {font-family: monospace;background-color: #f0f8ff;border: 1px dotted black;border-radius: 0.25em;box-sizing: border-box;margin-bottom: 0.5em;}#sk-container-id-1 div.sk-estimator:hover {background-color: #d4ebff;}#sk-container-id-1 div.sk-parallel-item::after {content: \"\";width: 100%;border-bottom: 1px solid gray;flex-grow: 1;}#sk-container-id-1 div.sk-label:hover label.sk-toggleable__label {background-color: #d4ebff;}#sk-container-id-1 div.sk-serial::before {content: \"\";position: absolute;border-left: 1px solid gray;box-sizing: border-box;top: 0;bottom: 0;left: 50%;z-index: 0;}#sk-container-id-1 div.sk-serial {display: flex;flex-direction: column;align-items: center;background-color: white;padding-right: 0.2em;padding-left: 0.2em;position: relative;}#sk-container-id-1 div.sk-item {position: relative;z-index: 1;}#sk-container-id-1 div.sk-parallel {display: flex;align-items: stretch;justify-content: center;background-color: white;position: relative;}#sk-container-id-1 div.sk-item::before, #sk-container-id-1 div.sk-parallel-item::before {content: \"\";position: absolute;border-left: 1px solid gray;box-sizing: border-box;top: 0;bottom: 0;left: 50%;z-index: -1;}#sk-container-id-1 div.sk-parallel-item {display: flex;flex-direction: column;z-index: 1;position: relative;background-color: white;}#sk-container-id-1 div.sk-parallel-item:first-child::after {align-self: flex-end;width: 50%;}#sk-container-id-1 div.sk-parallel-item:last-child::after {align-self: flex-start;width: 50%;}#sk-container-id-1 div.sk-parallel-item:only-child::after {width: 0;}#sk-container-id-1 div.sk-dashed-wrapped {border: 1px dashed gray;margin: 0 0.4em 0.5em 0.4em;box-sizing: border-box;padding-bottom: 0.4em;background-color: white;}#sk-container-id-1 div.sk-label label {font-family: monospace;font-weight: bold;display: inline-block;line-height: 1.2em;}#sk-container-id-1 div.sk-label-container {text-align: center;}#sk-container-id-1 div.sk-container {/* jupyter's `normalize.less` sets `[hidden] { display: none; }` but bootstrap.min.css set `[hidden] { display: none !important; }` so we also need the `!important` here to be able to override the default hidden behavior on the sphinx rendered scikit-learn.org. See: https://github.com/scikit-learn/scikit-learn/issues/21755 */display: inline-block !important;position: relative;}#sk-container-id-1 div.sk-text-repr-fallback {display: none;}</style><div id=\"sk-container-id-1\" class=\"sk-top-container\"><div class=\"sk-text-repr-fallback\"><pre>MultinomialNB()</pre><b>In a Jupyter environment, please rerun this cell to show the HTML representation or trust the notebook. <br />On GitHub, the HTML representation is unable to render, please try loading this page with nbviewer.org.</b></div><div class=\"sk-container\" hidden><div class=\"sk-item\"><div class=\"sk-estimator sk-toggleable\"><input class=\"sk-toggleable__control sk-hidden--visually\" id=\"sk-estimator-id-1\" type=\"checkbox\" checked><label for=\"sk-estimator-id-1\" class=\"sk-toggleable__label sk-toggleable__label-arrow\">MultinomialNB</label><div class=\"sk-toggleable__content\"><pre>MultinomialNB()</pre></div></div></div></div></div>"
            ]
          },
          "metadata": {},
          "execution_count": 29
        }
      ]
    },
    {
      "cell_type": "markdown",
      "source": [
        "### Evaluating the Model"
      ],
      "metadata": {
        "id": "mcdICskbKuZO"
      }
    },
    {
      "cell_type": "code",
      "source": [
        "x_test_cv = bow_v.transform(x_test.values)"
      ],
      "metadata": {
        "id": "QrsX2pI9Kqxm"
      },
      "execution_count": null,
      "outputs": []
    },
    {
      "cell_type": "code",
      "source": [
        "y_pred = model.predict(x_test_cv)\n",
        "\n",
        "print(classification_report(y_test, y_pred))"
      ],
      "metadata": {
        "colab": {
          "base_uri": "https://localhost:8080/"
        },
        "id": "y3MOeIvmK3HT",
        "outputId": "4e7dd6a7-5195-4457-ce41-66f0bbc43194"
      },
      "execution_count": null,
      "outputs": [
        {
          "output_type": "stream",
          "name": "stdout",
          "text": [
            "              precision    recall  f1-score   support\n",
            "\n",
            "           0       0.99      0.99      0.99       968\n",
            "           1       0.95      0.93      0.94       147\n",
            "\n",
            "    accuracy                           0.98      1115\n",
            "   macro avg       0.97      0.96      0.97      1115\n",
            "weighted avg       0.98      0.98      0.98      1115\n",
            "\n"
          ]
        }
      ]
    },
    {
      "cell_type": "markdown",
      "source": [
        "### Making Predictions on custom Data"
      ],
      "metadata": {
        "id": "65HV4laLLs3G"
      }
    },
    {
      "cell_type": "code",
      "source": [
        "sms = [\n",
        "    \"hey dad, can we get together to watch football?\",\n",
        "    \"Upto 20% discount parking. Don't miss this reward!\"\n",
        "]\n",
        "\n",
        "sms_cv = bow_v.transform(sms)\n",
        "model.predict(sms_cv)"
      ],
      "metadata": {
        "colab": {
          "base_uri": "https://localhost:8080/"
        },
        "id": "RQf7GgAFLvIk",
        "outputId": "aab070c0-e322-4aba-bfbd-5601ef31a512"
      },
      "execution_count": null,
      "outputs": [
        {
          "output_type": "execute_result",
          "data": {
            "text/plain": [
              "array([0, 1])"
            ]
          },
          "metadata": {},
          "execution_count": 32
        }
      ]
    },
    {
      "cell_type": "markdown",
      "source": [
        "### Another Way"
      ],
      "metadata": {
        "id": "RHidWXpwMSF0"
      }
    },
    {
      "cell_type": "code",
      "source": [
        "from sklearn.pipeline import Pipeline\n",
        "\n",
        "clf = Pipeline([\n",
        "    (\"vectorizer\", CountVectorizer()),\n",
        "    (\"nb\", MultinomialNB())\n",
        "])\n",
        "\n",
        "clf.fit(x_train, y_train)\n",
        "\n",
        "print(classification_report(y_test, clf.predict(x_test)))\n",
        "print(clf.predict(sms))"
      ],
      "metadata": {
        "colab": {
          "base_uri": "https://localhost:8080/"
        },
        "id": "n-ZCkLoIMU3l",
        "outputId": "f09ca9a7-0a51-408d-8501-a5bc4eb2c1ae"
      },
      "execution_count": null,
      "outputs": [
        {
          "output_type": "stream",
          "name": "stdout",
          "text": [
            "              precision    recall  f1-score   support\n",
            "\n",
            "           0       0.99      0.99      0.99       968\n",
            "           1       0.95      0.93      0.94       147\n",
            "\n",
            "    accuracy                           0.98      1115\n",
            "   macro avg       0.97      0.96      0.97      1115\n",
            "weighted avg       0.98      0.98      0.98      1115\n",
            "\n",
            "[0 1]\n"
          ]
        }
      ]
    },
    {
      "cell_type": "markdown",
      "source": [
        "### Stop Words\n",
        "\n",
        "By default the BOW approach creates a sparse matrix which other than the relevant information also contains words like \"the\", \"or\", \"to\", \"a\", etc. Those words are called `Stop Words` and the don't give much information about the text as we wanted.\n",
        "\n",
        "So in order to make our model simpler and yet, more powerfull we could remove them from the representation.\n",
        "\n",
        "This is another `Preprosessing` task: `Stop Word Removal`.\n",
        "\n",
        "Although it is usefull to remove those words, in some downstream tasks like sentiment analysis and language translation, words like \"and\", \"not\", \"nor\" actually gives us a lot of information about the sentiment of the document. So we need to be carefull when we are using `Stop Word Removal`."
      ],
      "metadata": {
        "id": "NY7qzi56fPH5"
      }
    },
    {
      "cell_type": "code",
      "source": [
        "!python -m spacy download en_core_web_sm -q"
      ],
      "metadata": {
        "colab": {
          "base_uri": "https://localhost:8080/"
        },
        "id": "wHjQ736ViC_K",
        "outputId": "e6b198e3-c0df-41bb-e7d7-3d06402e69d6"
      },
      "execution_count": null,
      "outputs": [
        {
          "output_type": "stream",
          "name": "stdout",
          "text": [
            "2023-04-06 12:26:49.562257: W tensorflow/compiler/tf2tensorrt/utils/py_utils.cc:38] TF-TRT Warning: Could not find TensorRT\n",
            "\u001b[2K     \u001b[90m━━━━━━━━━━━━━━━━━━━━━━━━━━━━━━━━━━━━━━━━\u001b[0m \u001b[32m12.8/12.8 MB\u001b[0m \u001b[31m33.1 MB/s\u001b[0m eta \u001b[36m0:00:00\u001b[0m\n",
            "\u001b[?25h\u001b[38;5;2m✔ Download and installation successful\u001b[0m\n",
            "You can now load the package via spacy.load('en_core_web_sm')\n"
          ]
        }
      ]
    },
    {
      "cell_type": "code",
      "source": [
        "import spacy\n",
        "\n",
        "nlp = spacy.load(\"en_core_web_sm\")"
      ],
      "metadata": {
        "id": "7HRgCv-oh-sD"
      },
      "execution_count": null,
      "outputs": []
    },
    {
      "cell_type": "markdown",
      "source": [
        "We can see all the Stop Words that spacy has define"
      ],
      "metadata": {
        "id": "gQOYgDBJhJw0"
      }
    },
    {
      "cell_type": "code",
      "source": [
        "from spacy.lang.en.stop_words import STOP_WORDS\n",
        "\n",
        "STOP_WORDS"
      ],
      "metadata": {
        "colab": {
          "base_uri": "https://localhost:8080/"
        },
        "id": "zAUxil4tg-Yd",
        "outputId": "44b262c6-74fb-4904-e901-511b29b7405b"
      },
      "execution_count": null,
      "outputs": [
        {
          "output_type": "execute_result",
          "data": {
            "text/plain": [
              "{\"'d\",\n",
              " \"'ll\",\n",
              " \"'m\",\n",
              " \"'re\",\n",
              " \"'s\",\n",
              " \"'ve\",\n",
              " 'a',\n",
              " 'about',\n",
              " 'above',\n",
              " 'across',\n",
              " 'after',\n",
              " 'afterwards',\n",
              " 'again',\n",
              " 'against',\n",
              " 'all',\n",
              " 'almost',\n",
              " 'alone',\n",
              " 'along',\n",
              " 'already',\n",
              " 'also',\n",
              " 'although',\n",
              " 'always',\n",
              " 'am',\n",
              " 'among',\n",
              " 'amongst',\n",
              " 'amount',\n",
              " 'an',\n",
              " 'and',\n",
              " 'another',\n",
              " 'any',\n",
              " 'anyhow',\n",
              " 'anyone',\n",
              " 'anything',\n",
              " 'anyway',\n",
              " 'anywhere',\n",
              " 'are',\n",
              " 'around',\n",
              " 'as',\n",
              " 'at',\n",
              " 'back',\n",
              " 'be',\n",
              " 'became',\n",
              " 'because',\n",
              " 'become',\n",
              " 'becomes',\n",
              " 'becoming',\n",
              " 'been',\n",
              " 'before',\n",
              " 'beforehand',\n",
              " 'behind',\n",
              " 'being',\n",
              " 'below',\n",
              " 'beside',\n",
              " 'besides',\n",
              " 'between',\n",
              " 'beyond',\n",
              " 'both',\n",
              " 'bottom',\n",
              " 'but',\n",
              " 'by',\n",
              " 'ca',\n",
              " 'call',\n",
              " 'can',\n",
              " 'cannot',\n",
              " 'could',\n",
              " 'did',\n",
              " 'do',\n",
              " 'does',\n",
              " 'doing',\n",
              " 'done',\n",
              " 'down',\n",
              " 'due',\n",
              " 'during',\n",
              " 'each',\n",
              " 'eight',\n",
              " 'either',\n",
              " 'eleven',\n",
              " 'else',\n",
              " 'elsewhere',\n",
              " 'empty',\n",
              " 'enough',\n",
              " 'even',\n",
              " 'ever',\n",
              " 'every',\n",
              " 'everyone',\n",
              " 'everything',\n",
              " 'everywhere',\n",
              " 'except',\n",
              " 'few',\n",
              " 'fifteen',\n",
              " 'fifty',\n",
              " 'first',\n",
              " 'five',\n",
              " 'for',\n",
              " 'former',\n",
              " 'formerly',\n",
              " 'forty',\n",
              " 'four',\n",
              " 'from',\n",
              " 'front',\n",
              " 'full',\n",
              " 'further',\n",
              " 'get',\n",
              " 'give',\n",
              " 'go',\n",
              " 'had',\n",
              " 'has',\n",
              " 'have',\n",
              " 'he',\n",
              " 'hence',\n",
              " 'her',\n",
              " 'here',\n",
              " 'hereafter',\n",
              " 'hereby',\n",
              " 'herein',\n",
              " 'hereupon',\n",
              " 'hers',\n",
              " 'herself',\n",
              " 'him',\n",
              " 'himself',\n",
              " 'his',\n",
              " 'how',\n",
              " 'however',\n",
              " 'hundred',\n",
              " 'i',\n",
              " 'if',\n",
              " 'in',\n",
              " 'indeed',\n",
              " 'into',\n",
              " 'is',\n",
              " 'it',\n",
              " 'its',\n",
              " 'itself',\n",
              " 'just',\n",
              " 'keep',\n",
              " 'last',\n",
              " 'latter',\n",
              " 'latterly',\n",
              " 'least',\n",
              " 'less',\n",
              " 'made',\n",
              " 'make',\n",
              " 'many',\n",
              " 'may',\n",
              " 'me',\n",
              " 'meanwhile',\n",
              " 'might',\n",
              " 'mine',\n",
              " 'more',\n",
              " 'moreover',\n",
              " 'most',\n",
              " 'mostly',\n",
              " 'move',\n",
              " 'much',\n",
              " 'must',\n",
              " 'my',\n",
              " 'myself',\n",
              " \"n't\",\n",
              " 'name',\n",
              " 'namely',\n",
              " 'neither',\n",
              " 'never',\n",
              " 'nevertheless',\n",
              " 'next',\n",
              " 'nine',\n",
              " 'no',\n",
              " 'nobody',\n",
              " 'none',\n",
              " 'noone',\n",
              " 'nor',\n",
              " 'not',\n",
              " 'nothing',\n",
              " 'now',\n",
              " 'nowhere',\n",
              " 'n‘t',\n",
              " 'n’t',\n",
              " 'of',\n",
              " 'off',\n",
              " 'often',\n",
              " 'on',\n",
              " 'once',\n",
              " 'one',\n",
              " 'only',\n",
              " 'onto',\n",
              " 'or',\n",
              " 'other',\n",
              " 'others',\n",
              " 'otherwise',\n",
              " 'our',\n",
              " 'ours',\n",
              " 'ourselves',\n",
              " 'out',\n",
              " 'over',\n",
              " 'own',\n",
              " 'part',\n",
              " 'per',\n",
              " 'perhaps',\n",
              " 'please',\n",
              " 'put',\n",
              " 'quite',\n",
              " 'rather',\n",
              " 're',\n",
              " 'really',\n",
              " 'regarding',\n",
              " 'same',\n",
              " 'say',\n",
              " 'see',\n",
              " 'seem',\n",
              " 'seemed',\n",
              " 'seeming',\n",
              " 'seems',\n",
              " 'serious',\n",
              " 'several',\n",
              " 'she',\n",
              " 'should',\n",
              " 'show',\n",
              " 'side',\n",
              " 'since',\n",
              " 'six',\n",
              " 'sixty',\n",
              " 'so',\n",
              " 'some',\n",
              " 'somehow',\n",
              " 'someone',\n",
              " 'something',\n",
              " 'sometime',\n",
              " 'sometimes',\n",
              " 'somewhere',\n",
              " 'still',\n",
              " 'such',\n",
              " 'take',\n",
              " 'ten',\n",
              " 'than',\n",
              " 'that',\n",
              " 'the',\n",
              " 'their',\n",
              " 'them',\n",
              " 'themselves',\n",
              " 'then',\n",
              " 'thence',\n",
              " 'there',\n",
              " 'thereafter',\n",
              " 'thereby',\n",
              " 'therefore',\n",
              " 'therein',\n",
              " 'thereupon',\n",
              " 'these',\n",
              " 'they',\n",
              " 'third',\n",
              " 'this',\n",
              " 'those',\n",
              " 'though',\n",
              " 'three',\n",
              " 'through',\n",
              " 'throughout',\n",
              " 'thru',\n",
              " 'thus',\n",
              " 'to',\n",
              " 'together',\n",
              " 'too',\n",
              " 'top',\n",
              " 'toward',\n",
              " 'towards',\n",
              " 'twelve',\n",
              " 'twenty',\n",
              " 'two',\n",
              " 'under',\n",
              " 'unless',\n",
              " 'until',\n",
              " 'up',\n",
              " 'upon',\n",
              " 'us',\n",
              " 'used',\n",
              " 'using',\n",
              " 'various',\n",
              " 'very',\n",
              " 'via',\n",
              " 'was',\n",
              " 'we',\n",
              " 'well',\n",
              " 'were',\n",
              " 'what',\n",
              " 'whatever',\n",
              " 'when',\n",
              " 'whence',\n",
              " 'whenever',\n",
              " 'where',\n",
              " 'whereafter',\n",
              " 'whereas',\n",
              " 'whereby',\n",
              " 'wherein',\n",
              " 'whereupon',\n",
              " 'wherever',\n",
              " 'whether',\n",
              " 'which',\n",
              " 'while',\n",
              " 'whither',\n",
              " 'who',\n",
              " 'whoever',\n",
              " 'whole',\n",
              " 'whom',\n",
              " 'whose',\n",
              " 'why',\n",
              " 'will',\n",
              " 'with',\n",
              " 'within',\n",
              " 'without',\n",
              " 'would',\n",
              " 'yet',\n",
              " 'you',\n",
              " 'your',\n",
              " 'yours',\n",
              " 'yourself',\n",
              " 'yourselves',\n",
              " '‘d',\n",
              " '‘ll',\n",
              " '‘m',\n",
              " '‘re',\n",
              " '‘s',\n",
              " '‘ve',\n",
              " '’d',\n",
              " '’ll',\n",
              " '’m',\n",
              " '’re',\n",
              " '’s',\n",
              " '’ve'}"
            ]
          },
          "metadata": {},
          "execution_count": 34
        }
      ]
    },
    {
      "cell_type": "code",
      "source": [
        "# We can also see if a word token is a stop word\n",
        "doc = nlp(\"We just opened out wings, the flying part is comming soon\")\n",
        "\n",
        "stops = [token for token in doc if token.is_stop]\n",
        "stops"
      ],
      "metadata": {
        "colab": {
          "base_uri": "https://localhost:8080/"
        },
        "id": "XPWufujXhh1o",
        "outputId": "9ca1208c-3954-4266-eae8-231abe73b7f4"
      },
      "execution_count": null,
      "outputs": [
        {
          "output_type": "execute_result",
          "data": {
            "text/plain": [
              "[We, just, out, the, part, is]"
            ]
          },
          "metadata": {},
          "execution_count": 41
        }
      ]
    },
    {
      "cell_type": "markdown",
      "source": [
        "## TF-IDF"
      ],
      "metadata": {
        "id": "bXOrbvIA8c-D"
      }
    },
    {
      "cell_type": "markdown",
      "source": [
        "### A first Example to Demonstrate this Vectror Representation"
      ],
      "metadata": {
        "id": "9VeYLaXo8rI7"
      }
    },
    {
      "cell_type": "code",
      "source": [
        "corpus = [\n",
        "    \"Thor eating pizza, Loki is eating pizza, Ironman ate pizza already\",\n",
        "    \"Apple is announcing new iphone tomorrow\",\n",
        "    \"Tesla is announcing new model-3 tomorrow\",\n",
        "    \"Google is announcing new pixel-6 tomorrow\",\n",
        "    \"Microsoft is announcing new surface tomorrow\",\n",
        "    \"Amazon is announcing new eco-dot tomorrow\",\n",
        "    \"I am eating biryani and you are eating grapes\"\n",
        "]\n",
        "\n",
        "tf_idf_v = TfidfVectorizer()\n",
        "transformed_output = tf_idf_v.fit_transform(corpus)\n",
        "print(tf_idf_v.vocabulary_)"
      ],
      "metadata": {
        "colab": {
          "base_uri": "https://localhost:8080/"
        },
        "id": "Wyy3pWzs8eKT",
        "outputId": "3ab80058-b21c-4f0f-d960-b0cc061aeecf"
      },
      "execution_count": null,
      "outputs": [
        {
          "output_type": "stream",
          "name": "stdout",
          "text": [
            "{'thor': 25, 'eating': 10, 'pizza': 22, 'loki': 17, 'is': 16, 'ironman': 15, 'ate': 7, 'already': 0, 'apple': 5, 'announcing': 4, 'new': 20, 'iphone': 14, 'tomorrow': 26, 'tesla': 24, 'model': 19, 'google': 12, 'pixel': 21, 'microsoft': 18, 'surface': 23, 'amazon': 2, 'eco': 11, 'dot': 9, 'am': 1, 'biryani': 8, 'and': 3, 'you': 27, 'are': 6, 'grapes': 13}\n"
          ]
        }
      ]
    },
    {
      "cell_type": "code",
      "source": [
        "# We can convert this dictionary into a numpy array\n",
        "tf_idf_v.get_feature_names_out()"
      ],
      "metadata": {
        "colab": {
          "base_uri": "https://localhost:8080/"
        },
        "id": "ecsEfWpx9FKc",
        "outputId": "31d1f810-94b2-41bb-cda4-d812c48f8f38"
      },
      "execution_count": null,
      "outputs": [
        {
          "output_type": "execute_result",
          "data": {
            "text/plain": [
              "array(['already', 'am', 'amazon', 'and', 'announcing', 'apple', 'are',\n",
              "       'ate', 'biryani', 'dot', 'eating', 'eco', 'google', 'grapes',\n",
              "       'iphone', 'ironman', 'is', 'loki', 'microsoft', 'model', 'new',\n",
              "       'pixel', 'pizza', 'surface', 'tesla', 'thor', 'tomorrow', 'you'],\n",
              "      dtype=object)"
            ]
          },
          "metadata": {},
          "execution_count": 12
        }
      ]
    },
    {
      "cell_type": "code",
      "source": [
        "# Prinint the idf scores of each word\n",
        "for word in tf_idf_v.get_feature_names_out():\n",
        "    print(word, \" | \", tf_idf_v.idf_[tf_idf_v.vocabulary_[word]])"
      ],
      "metadata": {
        "colab": {
          "base_uri": "https://localhost:8080/"
        },
        "id": "lyHeZUnG9UPx",
        "outputId": "daeec79c-e901-43d0-da79-61edf53e25af"
      },
      "execution_count": null,
      "outputs": [
        {
          "output_type": "stream",
          "name": "stdout",
          "text": [
            "already  |  2.386294361119891\n",
            "am  |  2.386294361119891\n",
            "amazon  |  2.386294361119891\n",
            "and  |  2.386294361119891\n",
            "announcing  |  1.2876820724517808\n",
            "apple  |  2.386294361119891\n",
            "are  |  2.386294361119891\n",
            "ate  |  2.386294361119891\n",
            "biryani  |  2.386294361119891\n",
            "dot  |  2.386294361119891\n",
            "eating  |  1.9808292530117262\n",
            "eco  |  2.386294361119891\n",
            "google  |  2.386294361119891\n",
            "grapes  |  2.386294361119891\n",
            "iphone  |  2.386294361119891\n",
            "ironman  |  2.386294361119891\n",
            "is  |  1.1335313926245225\n",
            "loki  |  2.386294361119891\n",
            "microsoft  |  2.386294361119891\n",
            "model  |  2.386294361119891\n",
            "new  |  1.2876820724517808\n",
            "pixel  |  2.386294361119891\n",
            "pizza  |  2.386294361119891\n",
            "surface  |  2.386294361119891\n",
            "tesla  |  2.386294361119891\n",
            "thor  |  2.386294361119891\n",
            "tomorrow  |  1.2876820724517808\n",
            "you  |  2.386294361119891\n"
          ]
        }
      ]
    },
    {
      "cell_type": "code",
      "source": [
        "# Printing the vector representation of the first sentence\n",
        "transformed_output.toarray()[0]"
      ],
      "metadata": {
        "colab": {
          "base_uri": "https://localhost:8080/"
        },
        "id": "VnN05h4t9xen",
        "outputId": "0193516d-d048-40b4-c0fe-183f34d34877"
      },
      "execution_count": null,
      "outputs": [
        {
          "output_type": "execute_result",
          "data": {
            "text/plain": [
              "array([0.24266547, 0.        , 0.        , 0.        , 0.        ,\n",
              "       0.        , 0.        , 0.24266547, 0.        , 0.        ,\n",
              "       0.40286636, 0.        , 0.        , 0.        , 0.        ,\n",
              "       0.24266547, 0.11527033, 0.24266547, 0.        , 0.        ,\n",
              "       0.        , 0.        , 0.72799642, 0.        , 0.        ,\n",
              "       0.24266547, 0.        , 0.        ])"
            ]
          },
          "metadata": {},
          "execution_count": 18
        }
      ]
    },
    {
      "cell_type": "markdown",
      "source": [
        "### Loading the Dataset"
      ],
      "metadata": {
        "id": "sZZQuYDE_y2m"
      }
    },
    {
      "cell_type": "code",
      "source": [
        "from pathlib import Path\n",
        "import zipfile\n",
        "\n",
        "\n",
        "zip_path = Path(\"/content/ecommerce_classification.zip\")\n",
        "dest_dir = Path(\"/content\")\n",
        "\n",
        "if not dest_dir.is_file():\n",
        "    with zipfile.ZipFile(zip_path, \"r\") as zip_ref:\n",
        "        print(f\"[INFO] Unzipping dataset `{zip_path}` to `{dest_dir}`...\")\n",
        "        zip_ref.extractall(dest_dir)\n",
        "\n",
        "print(f\"[INFO] Dataset succesfully downloaded to `{dest_dir}`..\")"
      ],
      "metadata": {
        "colab": {
          "base_uri": "https://localhost:8080/"
        },
        "id": "HP7obrlm_BST",
        "outputId": "c537bc66-faf4-4db9-97aa-4444cbbef977"
      },
      "execution_count": 2,
      "outputs": [
        {
          "output_type": "stream",
          "name": "stdout",
          "text": [
            "[INFO] Unzipping dataset `/content/ecommerce_classification.zip` to `/content`...\n",
            "[INFO] Dataset succesfully downloaded to `/content`..\n"
          ]
        }
      ]
    },
    {
      "cell_type": "markdown",
      "source": [
        "### Preprocessing the Dataset"
      ],
      "metadata": {
        "id": "FLGzsUyHAFd2"
      }
    },
    {
      "cell_type": "code",
      "source": [
        "df = pd.read_csv(\"/content/ecommerceDataset.csv\")\n",
        "\n",
        "df.head(3)"
      ],
      "metadata": {
        "colab": {
          "base_uri": "https://localhost:8080/",
          "height": 344
        },
        "id": "VbTyZodDAD1p",
        "outputId": "4d9146de-998c-441f-8167-4323d8ab3b45"
      },
      "execution_count": 3,
      "outputs": [
        {
          "output_type": "execute_result",
          "data": {
            "text/plain": [
              "   Household  \\\n",
              "0  Household   \n",
              "1  Household   \n",
              "2  Household   \n",
              "\n",
              "  Paper Plane Design Framed Wall Hanging Motivational Office Decor Art Prints (8.7 X 8.7 inch) - Set of 4 Painting made up in synthetic frame with uv textured print which gives multi effects and attracts towards it. This is an special series of paintings which makes your wall very beautiful and gives a royal touch. This painting is ready to hang, you would be proud to possess this unique painting that is a niche apart. We use only the most modern and efficient printing technology on our prints, with only the and inks and precision epson, roland and hp printers. This innovative hd printing technique results in durable and spectacular looking prints of the highest that last a lifetime. We print solely with top-notch 100% inks, to achieve brilliant and true colours. Due to their high level of uv resistance, our prints retain their beautiful colours for many years. Add colour and style to your living space with this digitally printed painting. Some are for pleasure and some for eternal bliss.so bring home this elegant print that is lushed with rich colors that makes it nothing but sheer elegance to be to your friends and family.it would be treasured forever by whoever your lucky recipient is. Liven up your place with these intriguing paintings that are high definition hd graphic digital prints for home, office or any room.  \n",
              "0  SAF 'Floral' Framed Painting (Wood, 30 inch x ...                                                                                                                                                                                                                                                                                                                                                                                                                                                                                                                                                                                                                                                                                                                                                                                                                                                                                                                                                                                                                                                                                                                                                                                                                                                                                                                                          \n",
              "1  SAF 'UV Textured Modern Art Print Framed' Pain...                                                                                                                                                                                                                                                                                                                                                                                                                                                                                                                                                                                                                                                                                                                                                                                                                                                                                                                                                                                                                                                                                                                                                                                                                                                                                                                                          \n",
              "2  SAF Flower Print Framed Painting (Synthetic, 1...                                                                                                                                                                                                                                                                                                                                                                                                                                                                                                                                                                                                                                                                                                                                                                                                                                                                                                                                                                                                                                                                                                                                                                                                                                                                                                                                          "
            ],
            "text/html": [
              "\n",
              "  <div id=\"df-217f4171-3dee-4d0a-b3ab-e1403e56232c\">\n",
              "    <div class=\"colab-df-container\">\n",
              "      <div>\n",
              "<style scoped>\n",
              "    .dataframe tbody tr th:only-of-type {\n",
              "        vertical-align: middle;\n",
              "    }\n",
              "\n",
              "    .dataframe tbody tr th {\n",
              "        vertical-align: top;\n",
              "    }\n",
              "\n",
              "    .dataframe thead th {\n",
              "        text-align: right;\n",
              "    }\n",
              "</style>\n",
              "<table border=\"1\" class=\"dataframe\">\n",
              "  <thead>\n",
              "    <tr style=\"text-align: right;\">\n",
              "      <th></th>\n",
              "      <th>Household</th>\n",
              "      <th>Paper Plane Design Framed Wall Hanging Motivational Office Decor Art Prints (8.7 X 8.7 inch) - Set of 4 Painting made up in synthetic frame with uv textured print which gives multi effects and attracts towards it. This is an special series of paintings which makes your wall very beautiful and gives a royal touch. This painting is ready to hang, you would be proud to possess this unique painting that is a niche apart. We use only the most modern and efficient printing technology on our prints, with only the and inks and precision epson, roland and hp printers. This innovative hd printing technique results in durable and spectacular looking prints of the highest that last a lifetime. We print solely with top-notch 100% inks, to achieve brilliant and true colours. Due to their high level of uv resistance, our prints retain their beautiful colours for many years. Add colour and style to your living space with this digitally printed painting. Some are for pleasure and some for eternal bliss.so bring home this elegant print that is lushed with rich colors that makes it nothing but sheer elegance to be to your friends and family.it would be treasured forever by whoever your lucky recipient is. Liven up your place with these intriguing paintings that are high definition hd graphic digital prints for home, office or any room.</th>\n",
              "    </tr>\n",
              "  </thead>\n",
              "  <tbody>\n",
              "    <tr>\n",
              "      <th>0</th>\n",
              "      <td>Household</td>\n",
              "      <td>SAF 'Floral' Framed Painting (Wood, 30 inch x ...</td>\n",
              "    </tr>\n",
              "    <tr>\n",
              "      <th>1</th>\n",
              "      <td>Household</td>\n",
              "      <td>SAF 'UV Textured Modern Art Print Framed' Pain...</td>\n",
              "    </tr>\n",
              "    <tr>\n",
              "      <th>2</th>\n",
              "      <td>Household</td>\n",
              "      <td>SAF Flower Print Framed Painting (Synthetic, 1...</td>\n",
              "    </tr>\n",
              "  </tbody>\n",
              "</table>\n",
              "</div>\n",
              "      <button class=\"colab-df-convert\" onclick=\"convertToInteractive('df-217f4171-3dee-4d0a-b3ab-e1403e56232c')\"\n",
              "              title=\"Convert this dataframe to an interactive table.\"\n",
              "              style=\"display:none;\">\n",
              "        \n",
              "  <svg xmlns=\"http://www.w3.org/2000/svg\" height=\"24px\"viewBox=\"0 0 24 24\"\n",
              "       width=\"24px\">\n",
              "    <path d=\"M0 0h24v24H0V0z\" fill=\"none\"/>\n",
              "    <path d=\"M18.56 5.44l.94 2.06.94-2.06 2.06-.94-2.06-.94-.94-2.06-.94 2.06-2.06.94zm-11 1L8.5 8.5l.94-2.06 2.06-.94-2.06-.94L8.5 2.5l-.94 2.06-2.06.94zm10 10l.94 2.06.94-2.06 2.06-.94-2.06-.94-.94-2.06-.94 2.06-2.06.94z\"/><path d=\"M17.41 7.96l-1.37-1.37c-.4-.4-.92-.59-1.43-.59-.52 0-1.04.2-1.43.59L10.3 9.45l-7.72 7.72c-.78.78-.78 2.05 0 2.83L4 21.41c.39.39.9.59 1.41.59.51 0 1.02-.2 1.41-.59l7.78-7.78 2.81-2.81c.8-.78.8-2.07 0-2.86zM5.41 20L4 18.59l7.72-7.72 1.47 1.35L5.41 20z\"/>\n",
              "  </svg>\n",
              "      </button>\n",
              "      \n",
              "  <style>\n",
              "    .colab-df-container {\n",
              "      display:flex;\n",
              "      flex-wrap:wrap;\n",
              "      gap: 12px;\n",
              "    }\n",
              "\n",
              "    .colab-df-convert {\n",
              "      background-color: #E8F0FE;\n",
              "      border: none;\n",
              "      border-radius: 50%;\n",
              "      cursor: pointer;\n",
              "      display: none;\n",
              "      fill: #1967D2;\n",
              "      height: 32px;\n",
              "      padding: 0 0 0 0;\n",
              "      width: 32px;\n",
              "    }\n",
              "\n",
              "    .colab-df-convert:hover {\n",
              "      background-color: #E2EBFA;\n",
              "      box-shadow: 0px 1px 2px rgba(60, 64, 67, 0.3), 0px 1px 3px 1px rgba(60, 64, 67, 0.15);\n",
              "      fill: #174EA6;\n",
              "    }\n",
              "\n",
              "    [theme=dark] .colab-df-convert {\n",
              "      background-color: #3B4455;\n",
              "      fill: #D2E3FC;\n",
              "    }\n",
              "\n",
              "    [theme=dark] .colab-df-convert:hover {\n",
              "      background-color: #434B5C;\n",
              "      box-shadow: 0px 1px 3px 1px rgba(0, 0, 0, 0.15);\n",
              "      filter: drop-shadow(0px 1px 2px rgba(0, 0, 0, 0.3));\n",
              "      fill: #FFFFFF;\n",
              "    }\n",
              "  </style>\n",
              "\n",
              "      <script>\n",
              "        const buttonEl =\n",
              "          document.querySelector('#df-217f4171-3dee-4d0a-b3ab-e1403e56232c button.colab-df-convert');\n",
              "        buttonEl.style.display =\n",
              "          google.colab.kernel.accessAllowed ? 'block' : 'none';\n",
              "\n",
              "        async function convertToInteractive(key) {\n",
              "          const element = document.querySelector('#df-217f4171-3dee-4d0a-b3ab-e1403e56232c');\n",
              "          const dataTable =\n",
              "            await google.colab.kernel.invokeFunction('convertToInteractive',\n",
              "                                                     [key], {});\n",
              "          if (!dataTable) return;\n",
              "\n",
              "          const docLinkHtml = 'Like what you see? Visit the ' +\n",
              "            '<a target=\"_blank\" href=https://colab.research.google.com/notebooks/data_table.ipynb>data table notebook</a>'\n",
              "            + ' to learn more about interactive tables.';\n",
              "          element.innerHTML = '';\n",
              "          dataTable['output_type'] = 'display_data';\n",
              "          await google.colab.output.renderOutput(dataTable, element);\n",
              "          const docLink = document.createElement('div');\n",
              "          docLink.innerHTML = docLinkHtml;\n",
              "          element.appendChild(docLink);\n",
              "        }\n",
              "      </script>\n",
              "    </div>\n",
              "  </div>\n",
              "  "
            ]
          },
          "metadata": {},
          "execution_count": 3
        }
      ]
    },
    {
      "cell_type": "code",
      "source": [
        "# Converting the CSV file into a Dataframe\n",
        "first_label = df.columns[0]\n",
        "first_text = df.columns[1]\n",
        "\n",
        "h1 = pd.DataFrame(np.array([first_label]))\n",
        "h2 = pd.DataFrame(np.array([first_text]))\n",
        "\n",
        "g1 = pd.DataFrame(df[first_label].values)\n",
        "g2 = pd.DataFrame(df[first_text].values)\n",
        "\n",
        "df = pd.concat([h1, h2], axis=1, ignore_index=True)\n",
        "df = pd.concat([df, pd.concat([g1, g2], axis=1, ignore_index=True)], axis=0, ignore_index=True)\n",
        "\n",
        "df.rename(columns={0: \"label\", 1: \"text\"}, inplace=True)\n",
        "\n",
        "df.head(3)"
      ],
      "metadata": {
        "id": "0Keb1xcvAd4f",
        "colab": {
          "base_uri": "https://localhost:8080/",
          "height": 143
        },
        "outputId": "13070184-daaf-4640-ed87-68051c4dee14"
      },
      "execution_count": 4,
      "outputs": [
        {
          "output_type": "execute_result",
          "data": {
            "text/plain": [
              "       label                                               text\n",
              "0  Household  Paper Plane Design Framed Wall Hanging Motivat...\n",
              "1  Household  SAF 'Floral' Framed Painting (Wood, 30 inch x ...\n",
              "2  Household  SAF 'UV Textured Modern Art Print Framed' Pain..."
            ],
            "text/html": [
              "\n",
              "  <div id=\"df-85ea3a8e-388f-4aa1-bb36-a12eba651a7d\">\n",
              "    <div class=\"colab-df-container\">\n",
              "      <div>\n",
              "<style scoped>\n",
              "    .dataframe tbody tr th:only-of-type {\n",
              "        vertical-align: middle;\n",
              "    }\n",
              "\n",
              "    .dataframe tbody tr th {\n",
              "        vertical-align: top;\n",
              "    }\n",
              "\n",
              "    .dataframe thead th {\n",
              "        text-align: right;\n",
              "    }\n",
              "</style>\n",
              "<table border=\"1\" class=\"dataframe\">\n",
              "  <thead>\n",
              "    <tr style=\"text-align: right;\">\n",
              "      <th></th>\n",
              "      <th>label</th>\n",
              "      <th>text</th>\n",
              "    </tr>\n",
              "  </thead>\n",
              "  <tbody>\n",
              "    <tr>\n",
              "      <th>0</th>\n",
              "      <td>Household</td>\n",
              "      <td>Paper Plane Design Framed Wall Hanging Motivat...</td>\n",
              "    </tr>\n",
              "    <tr>\n",
              "      <th>1</th>\n",
              "      <td>Household</td>\n",
              "      <td>SAF 'Floral' Framed Painting (Wood, 30 inch x ...</td>\n",
              "    </tr>\n",
              "    <tr>\n",
              "      <th>2</th>\n",
              "      <td>Household</td>\n",
              "      <td>SAF 'UV Textured Modern Art Print Framed' Pain...</td>\n",
              "    </tr>\n",
              "  </tbody>\n",
              "</table>\n",
              "</div>\n",
              "      <button class=\"colab-df-convert\" onclick=\"convertToInteractive('df-85ea3a8e-388f-4aa1-bb36-a12eba651a7d')\"\n",
              "              title=\"Convert this dataframe to an interactive table.\"\n",
              "              style=\"display:none;\">\n",
              "        \n",
              "  <svg xmlns=\"http://www.w3.org/2000/svg\" height=\"24px\"viewBox=\"0 0 24 24\"\n",
              "       width=\"24px\">\n",
              "    <path d=\"M0 0h24v24H0V0z\" fill=\"none\"/>\n",
              "    <path d=\"M18.56 5.44l.94 2.06.94-2.06 2.06-.94-2.06-.94-.94-2.06-.94 2.06-2.06.94zm-11 1L8.5 8.5l.94-2.06 2.06-.94-2.06-.94L8.5 2.5l-.94 2.06-2.06.94zm10 10l.94 2.06.94-2.06 2.06-.94-2.06-.94-.94-2.06-.94 2.06-2.06.94z\"/><path d=\"M17.41 7.96l-1.37-1.37c-.4-.4-.92-.59-1.43-.59-.52 0-1.04.2-1.43.59L10.3 9.45l-7.72 7.72c-.78.78-.78 2.05 0 2.83L4 21.41c.39.39.9.59 1.41.59.51 0 1.02-.2 1.41-.59l7.78-7.78 2.81-2.81c.8-.78.8-2.07 0-2.86zM5.41 20L4 18.59l7.72-7.72 1.47 1.35L5.41 20z\"/>\n",
              "  </svg>\n",
              "      </button>\n",
              "      \n",
              "  <style>\n",
              "    .colab-df-container {\n",
              "      display:flex;\n",
              "      flex-wrap:wrap;\n",
              "      gap: 12px;\n",
              "    }\n",
              "\n",
              "    .colab-df-convert {\n",
              "      background-color: #E8F0FE;\n",
              "      border: none;\n",
              "      border-radius: 50%;\n",
              "      cursor: pointer;\n",
              "      display: none;\n",
              "      fill: #1967D2;\n",
              "      height: 32px;\n",
              "      padding: 0 0 0 0;\n",
              "      width: 32px;\n",
              "    }\n",
              "\n",
              "    .colab-df-convert:hover {\n",
              "      background-color: #E2EBFA;\n",
              "      box-shadow: 0px 1px 2px rgba(60, 64, 67, 0.3), 0px 1px 3px 1px rgba(60, 64, 67, 0.15);\n",
              "      fill: #174EA6;\n",
              "    }\n",
              "\n",
              "    [theme=dark] .colab-df-convert {\n",
              "      background-color: #3B4455;\n",
              "      fill: #D2E3FC;\n",
              "    }\n",
              "\n",
              "    [theme=dark] .colab-df-convert:hover {\n",
              "      background-color: #434B5C;\n",
              "      box-shadow: 0px 1px 3px 1px rgba(0, 0, 0, 0.15);\n",
              "      filter: drop-shadow(0px 1px 2px rgba(0, 0, 0, 0.3));\n",
              "      fill: #FFFFFF;\n",
              "    }\n",
              "  </style>\n",
              "\n",
              "      <script>\n",
              "        const buttonEl =\n",
              "          document.querySelector('#df-85ea3a8e-388f-4aa1-bb36-a12eba651a7d button.colab-df-convert');\n",
              "        buttonEl.style.display =\n",
              "          google.colab.kernel.accessAllowed ? 'block' : 'none';\n",
              "\n",
              "        async function convertToInteractive(key) {\n",
              "          const element = document.querySelector('#df-85ea3a8e-388f-4aa1-bb36-a12eba651a7d');\n",
              "          const dataTable =\n",
              "            await google.colab.kernel.invokeFunction('convertToInteractive',\n",
              "                                                     [key], {});\n",
              "          if (!dataTable) return;\n",
              "\n",
              "          const docLinkHtml = 'Like what you see? Visit the ' +\n",
              "            '<a target=\"_blank\" href=https://colab.research.google.com/notebooks/data_table.ipynb>data table notebook</a>'\n",
              "            + ' to learn more about interactive tables.';\n",
              "          element.innerHTML = '';\n",
              "          dataTable['output_type'] = 'display_data';\n",
              "          await google.colab.output.renderOutput(dataTable, element);\n",
              "          const docLink = document.createElement('div');\n",
              "          docLink.innerHTML = docLinkHtml;\n",
              "          element.appendChild(docLink);\n",
              "        }\n",
              "      </script>\n",
              "    </div>\n",
              "  </div>\n",
              "  "
            ]
          },
          "metadata": {},
          "execution_count": 4
        }
      ]
    },
    {
      "cell_type": "code",
      "source": [
        "print(df.shape)\n",
        "df.value_counts(\"label\")"
      ],
      "metadata": {
        "colab": {
          "base_uri": "https://localhost:8080/"
        },
        "id": "2Cg5EItfFFqa",
        "outputId": "1efe622c-46c6-45ed-e240-75120cadbc9b"
      },
      "execution_count": 5,
      "outputs": [
        {
          "output_type": "stream",
          "name": "stdout",
          "text": [
            "(50425, 2)\n"
          ]
        },
        {
          "output_type": "execute_result",
          "data": {
            "text/plain": [
              "label\n",
              "Household                 19313\n",
              "Books                     11820\n",
              "Electronics               10621\n",
              "Clothing & Accessories     8671\n",
              "dtype: int64"
            ]
          },
          "metadata": {},
          "execution_count": 5
        }
      ]
    },
    {
      "cell_type": "markdown",
      "source": [
        "### Fixing the imbalance and also lowering the dataset size"
      ],
      "metadata": {
        "id": "lV_76oQfL-uh"
      }
    },
    {
      "cell_type": "code",
      "source": [
        "# Creating list that contains the labels\n",
        "labels_l = list(set(label for label in df[\"label\"]))\n",
        "\n",
        "df_l = [df[df[\"label\"] == label].sample(df.value_counts(\"label\").min()) for label in labels_l]\n",
        "\n",
        "df = pd.concat(df_l, axis=0, ignore_index=True)\n",
        "\n",
        "df"
      ],
      "metadata": {
        "colab": {
          "base_uri": "https://localhost:8080/",
          "height": 424
        },
        "id": "36rC0ML0F5pd",
        "outputId": "eeb9e4d2-ee7c-4e26-f847-83d86f843e0d"
      },
      "execution_count": 6,
      "outputs": [
        {
          "output_type": "execute_result",
          "data": {
            "text/plain": [
              "                        label  \\\n",
              "0      Clothing & Accessories   \n",
              "1      Clothing & Accessories   \n",
              "2      Clothing & Accessories   \n",
              "3      Clothing & Accessories   \n",
              "4      Clothing & Accessories   \n",
              "...                       ...   \n",
              "34679                   Books   \n",
              "34680                   Books   \n",
              "34681                   Books   \n",
              "34682                   Books   \n",
              "34683                   Books   \n",
              "\n",
              "                                                    text  \n",
              "0      Disney Boys Brief Pack of 6 from Bodycare Body...  \n",
              "1      Chromozome Men's Cotton Track Pants Chromozome...  \n",
              "2      Amazon Brand - Symbol Men's Round Neck Sports ...  \n",
              "3      Van Heusen Men's Cotton Rich Lounge Shorts Don...  \n",
              "4      Softskin Women's Cotton Seamless Non Wired T-s...  \n",
              "...                                                  ...  \n",
              "34679  Complete Course Biology: Maharashtra Board Cla...  \n",
              "34680  The Prophet About the Author Kahlil Gibran, au...  \n",
              "34681                                    The Art of War   \n",
              "34682  A Pelican Book: Object-Oriented Ontology (Peli...  \n",
              "34683  Modern Indian History: For Civil Services Prel...  \n",
              "\n",
              "[34684 rows x 2 columns]"
            ],
            "text/html": [
              "\n",
              "  <div id=\"df-cac1f5ab-c372-42cc-b119-8afe2156f28c\">\n",
              "    <div class=\"colab-df-container\">\n",
              "      <div>\n",
              "<style scoped>\n",
              "    .dataframe tbody tr th:only-of-type {\n",
              "        vertical-align: middle;\n",
              "    }\n",
              "\n",
              "    .dataframe tbody tr th {\n",
              "        vertical-align: top;\n",
              "    }\n",
              "\n",
              "    .dataframe thead th {\n",
              "        text-align: right;\n",
              "    }\n",
              "</style>\n",
              "<table border=\"1\" class=\"dataframe\">\n",
              "  <thead>\n",
              "    <tr style=\"text-align: right;\">\n",
              "      <th></th>\n",
              "      <th>label</th>\n",
              "      <th>text</th>\n",
              "    </tr>\n",
              "  </thead>\n",
              "  <tbody>\n",
              "    <tr>\n",
              "      <th>0</th>\n",
              "      <td>Clothing &amp; Accessories</td>\n",
              "      <td>Disney Boys Brief Pack of 6 from Bodycare Body...</td>\n",
              "    </tr>\n",
              "    <tr>\n",
              "      <th>1</th>\n",
              "      <td>Clothing &amp; Accessories</td>\n",
              "      <td>Chromozome Men's Cotton Track Pants Chromozome...</td>\n",
              "    </tr>\n",
              "    <tr>\n",
              "      <th>2</th>\n",
              "      <td>Clothing &amp; Accessories</td>\n",
              "      <td>Amazon Brand - Symbol Men's Round Neck Sports ...</td>\n",
              "    </tr>\n",
              "    <tr>\n",
              "      <th>3</th>\n",
              "      <td>Clothing &amp; Accessories</td>\n",
              "      <td>Van Heusen Men's Cotton Rich Lounge Shorts Don...</td>\n",
              "    </tr>\n",
              "    <tr>\n",
              "      <th>4</th>\n",
              "      <td>Clothing &amp; Accessories</td>\n",
              "      <td>Softskin Women's Cotton Seamless Non Wired T-s...</td>\n",
              "    </tr>\n",
              "    <tr>\n",
              "      <th>...</th>\n",
              "      <td>...</td>\n",
              "      <td>...</td>\n",
              "    </tr>\n",
              "    <tr>\n",
              "      <th>34679</th>\n",
              "      <td>Books</td>\n",
              "      <td>Complete Course Biology: Maharashtra Board Cla...</td>\n",
              "    </tr>\n",
              "    <tr>\n",
              "      <th>34680</th>\n",
              "      <td>Books</td>\n",
              "      <td>The Prophet About the Author Kahlil Gibran, au...</td>\n",
              "    </tr>\n",
              "    <tr>\n",
              "      <th>34681</th>\n",
              "      <td>Books</td>\n",
              "      <td>The Art of War</td>\n",
              "    </tr>\n",
              "    <tr>\n",
              "      <th>34682</th>\n",
              "      <td>Books</td>\n",
              "      <td>A Pelican Book: Object-Oriented Ontology (Peli...</td>\n",
              "    </tr>\n",
              "    <tr>\n",
              "      <th>34683</th>\n",
              "      <td>Books</td>\n",
              "      <td>Modern Indian History: For Civil Services Prel...</td>\n",
              "    </tr>\n",
              "  </tbody>\n",
              "</table>\n",
              "<p>34684 rows × 2 columns</p>\n",
              "</div>\n",
              "      <button class=\"colab-df-convert\" onclick=\"convertToInteractive('df-cac1f5ab-c372-42cc-b119-8afe2156f28c')\"\n",
              "              title=\"Convert this dataframe to an interactive table.\"\n",
              "              style=\"display:none;\">\n",
              "        \n",
              "  <svg xmlns=\"http://www.w3.org/2000/svg\" height=\"24px\"viewBox=\"0 0 24 24\"\n",
              "       width=\"24px\">\n",
              "    <path d=\"M0 0h24v24H0V0z\" fill=\"none\"/>\n",
              "    <path d=\"M18.56 5.44l.94 2.06.94-2.06 2.06-.94-2.06-.94-.94-2.06-.94 2.06-2.06.94zm-11 1L8.5 8.5l.94-2.06 2.06-.94-2.06-.94L8.5 2.5l-.94 2.06-2.06.94zm10 10l.94 2.06.94-2.06 2.06-.94-2.06-.94-.94-2.06-.94 2.06-2.06.94z\"/><path d=\"M17.41 7.96l-1.37-1.37c-.4-.4-.92-.59-1.43-.59-.52 0-1.04.2-1.43.59L10.3 9.45l-7.72 7.72c-.78.78-.78 2.05 0 2.83L4 21.41c.39.39.9.59 1.41.59.51 0 1.02-.2 1.41-.59l7.78-7.78 2.81-2.81c.8-.78.8-2.07 0-2.86zM5.41 20L4 18.59l7.72-7.72 1.47 1.35L5.41 20z\"/>\n",
              "  </svg>\n",
              "      </button>\n",
              "      \n",
              "  <style>\n",
              "    .colab-df-container {\n",
              "      display:flex;\n",
              "      flex-wrap:wrap;\n",
              "      gap: 12px;\n",
              "    }\n",
              "\n",
              "    .colab-df-convert {\n",
              "      background-color: #E8F0FE;\n",
              "      border: none;\n",
              "      border-radius: 50%;\n",
              "      cursor: pointer;\n",
              "      display: none;\n",
              "      fill: #1967D2;\n",
              "      height: 32px;\n",
              "      padding: 0 0 0 0;\n",
              "      width: 32px;\n",
              "    }\n",
              "\n",
              "    .colab-df-convert:hover {\n",
              "      background-color: #E2EBFA;\n",
              "      box-shadow: 0px 1px 2px rgba(60, 64, 67, 0.3), 0px 1px 3px 1px rgba(60, 64, 67, 0.15);\n",
              "      fill: #174EA6;\n",
              "    }\n",
              "\n",
              "    [theme=dark] .colab-df-convert {\n",
              "      background-color: #3B4455;\n",
              "      fill: #D2E3FC;\n",
              "    }\n",
              "\n",
              "    [theme=dark] .colab-df-convert:hover {\n",
              "      background-color: #434B5C;\n",
              "      box-shadow: 0px 1px 3px 1px rgba(0, 0, 0, 0.15);\n",
              "      filter: drop-shadow(0px 1px 2px rgba(0, 0, 0, 0.3));\n",
              "      fill: #FFFFFF;\n",
              "    }\n",
              "  </style>\n",
              "\n",
              "      <script>\n",
              "        const buttonEl =\n",
              "          document.querySelector('#df-cac1f5ab-c372-42cc-b119-8afe2156f28c button.colab-df-convert');\n",
              "        buttonEl.style.display =\n",
              "          google.colab.kernel.accessAllowed ? 'block' : 'none';\n",
              "\n",
              "        async function convertToInteractive(key) {\n",
              "          const element = document.querySelector('#df-cac1f5ab-c372-42cc-b119-8afe2156f28c');\n",
              "          const dataTable =\n",
              "            await google.colab.kernel.invokeFunction('convertToInteractive',\n",
              "                                                     [key], {});\n",
              "          if (!dataTable) return;\n",
              "\n",
              "          const docLinkHtml = 'Like what you see? Visit the ' +\n",
              "            '<a target=\"_blank\" href=https://colab.research.google.com/notebooks/data_table.ipynb>data table notebook</a>'\n",
              "            + ' to learn more about interactive tables.';\n",
              "          element.innerHTML = '';\n",
              "          dataTable['output_type'] = 'display_data';\n",
              "          await google.colab.output.renderOutput(dataTable, element);\n",
              "          const docLink = document.createElement('div');\n",
              "          docLink.innerHTML = docLinkHtml;\n",
              "          element.appendChild(docLink);\n",
              "        }\n",
              "      </script>\n",
              "    </div>\n",
              "  </div>\n",
              "  "
            ]
          },
          "metadata": {},
          "execution_count": 6
        }
      ]
    },
    {
      "cell_type": "code",
      "source": [
        "print(df.shape)\n",
        "df.value_counts(\"label\")"
      ],
      "metadata": {
        "colab": {
          "base_uri": "https://localhost:8080/"
        },
        "id": "gcp4omHlNYdH",
        "outputId": "002f3571-b137-400a-84a7-63a5e8794b37"
      },
      "execution_count": 7,
      "outputs": [
        {
          "output_type": "stream",
          "name": "stdout",
          "text": [
            "(34684, 2)\n"
          ]
        },
        {
          "output_type": "execute_result",
          "data": {
            "text/plain": [
              "label\n",
              "Books                     8671\n",
              "Clothing & Accessories    8671\n",
              "Electronics               8671\n",
              "Household                 8671\n",
              "dtype: int64"
            ]
          },
          "metadata": {},
          "execution_count": 7
        }
      ]
    },
    {
      "cell_type": "code",
      "source": [
        "df[\"Label\"] = df[\"label\"].map({\n",
        "    \"Household\": 0,\n",
        "    \"Books\": 1,\n",
        "    \"Electronics\": 2,\n",
        "    \"Clothing & Accessories\": 3\n",
        "})\n",
        "\n",
        "df.rename(columns={\"text\": \"Text\"}, inplace=True)\n",
        "df = df[[\"Text\", \"Label\"]]\n",
        "\n",
        "df.head(3)"
      ],
      "metadata": {
        "colab": {
          "base_uri": "https://localhost:8080/",
          "height": 143
        },
        "id": "3VO7a5IFGGX-",
        "outputId": "02f5b428-df96-4b4a-ea44-9a19ea111234"
      },
      "execution_count": 8,
      "outputs": [
        {
          "output_type": "execute_result",
          "data": {
            "text/plain": [
              "                                                Text  Label\n",
              "0  Disney Boys Brief Pack of 6 from Bodycare Body...      3\n",
              "1  Chromozome Men's Cotton Track Pants Chromozome...      3\n",
              "2  Amazon Brand - Symbol Men's Round Neck Sports ...      3"
            ],
            "text/html": [
              "\n",
              "  <div id=\"df-29caada0-fd5f-4227-8110-761ee2cdb21c\">\n",
              "    <div class=\"colab-df-container\">\n",
              "      <div>\n",
              "<style scoped>\n",
              "    .dataframe tbody tr th:only-of-type {\n",
              "        vertical-align: middle;\n",
              "    }\n",
              "\n",
              "    .dataframe tbody tr th {\n",
              "        vertical-align: top;\n",
              "    }\n",
              "\n",
              "    .dataframe thead th {\n",
              "        text-align: right;\n",
              "    }\n",
              "</style>\n",
              "<table border=\"1\" class=\"dataframe\">\n",
              "  <thead>\n",
              "    <tr style=\"text-align: right;\">\n",
              "      <th></th>\n",
              "      <th>Text</th>\n",
              "      <th>Label</th>\n",
              "    </tr>\n",
              "  </thead>\n",
              "  <tbody>\n",
              "    <tr>\n",
              "      <th>0</th>\n",
              "      <td>Disney Boys Brief Pack of 6 from Bodycare Body...</td>\n",
              "      <td>3</td>\n",
              "    </tr>\n",
              "    <tr>\n",
              "      <th>1</th>\n",
              "      <td>Chromozome Men's Cotton Track Pants Chromozome...</td>\n",
              "      <td>3</td>\n",
              "    </tr>\n",
              "    <tr>\n",
              "      <th>2</th>\n",
              "      <td>Amazon Brand - Symbol Men's Round Neck Sports ...</td>\n",
              "      <td>3</td>\n",
              "    </tr>\n",
              "  </tbody>\n",
              "</table>\n",
              "</div>\n",
              "      <button class=\"colab-df-convert\" onclick=\"convertToInteractive('df-29caada0-fd5f-4227-8110-761ee2cdb21c')\"\n",
              "              title=\"Convert this dataframe to an interactive table.\"\n",
              "              style=\"display:none;\">\n",
              "        \n",
              "  <svg xmlns=\"http://www.w3.org/2000/svg\" height=\"24px\"viewBox=\"0 0 24 24\"\n",
              "       width=\"24px\">\n",
              "    <path d=\"M0 0h24v24H0V0z\" fill=\"none\"/>\n",
              "    <path d=\"M18.56 5.44l.94 2.06.94-2.06 2.06-.94-2.06-.94-.94-2.06-.94 2.06-2.06.94zm-11 1L8.5 8.5l.94-2.06 2.06-.94-2.06-.94L8.5 2.5l-.94 2.06-2.06.94zm10 10l.94 2.06.94-2.06 2.06-.94-2.06-.94-.94-2.06-.94 2.06-2.06.94z\"/><path d=\"M17.41 7.96l-1.37-1.37c-.4-.4-.92-.59-1.43-.59-.52 0-1.04.2-1.43.59L10.3 9.45l-7.72 7.72c-.78.78-.78 2.05 0 2.83L4 21.41c.39.39.9.59 1.41.59.51 0 1.02-.2 1.41-.59l7.78-7.78 2.81-2.81c.8-.78.8-2.07 0-2.86zM5.41 20L4 18.59l7.72-7.72 1.47 1.35L5.41 20z\"/>\n",
              "  </svg>\n",
              "      </button>\n",
              "      \n",
              "  <style>\n",
              "    .colab-df-container {\n",
              "      display:flex;\n",
              "      flex-wrap:wrap;\n",
              "      gap: 12px;\n",
              "    }\n",
              "\n",
              "    .colab-df-convert {\n",
              "      background-color: #E8F0FE;\n",
              "      border: none;\n",
              "      border-radius: 50%;\n",
              "      cursor: pointer;\n",
              "      display: none;\n",
              "      fill: #1967D2;\n",
              "      height: 32px;\n",
              "      padding: 0 0 0 0;\n",
              "      width: 32px;\n",
              "    }\n",
              "\n",
              "    .colab-df-convert:hover {\n",
              "      background-color: #E2EBFA;\n",
              "      box-shadow: 0px 1px 2px rgba(60, 64, 67, 0.3), 0px 1px 3px 1px rgba(60, 64, 67, 0.15);\n",
              "      fill: #174EA6;\n",
              "    }\n",
              "\n",
              "    [theme=dark] .colab-df-convert {\n",
              "      background-color: #3B4455;\n",
              "      fill: #D2E3FC;\n",
              "    }\n",
              "\n",
              "    [theme=dark] .colab-df-convert:hover {\n",
              "      background-color: #434B5C;\n",
              "      box-shadow: 0px 1px 3px 1px rgba(0, 0, 0, 0.15);\n",
              "      filter: drop-shadow(0px 1px 2px rgba(0, 0, 0, 0.3));\n",
              "      fill: #FFFFFF;\n",
              "    }\n",
              "  </style>\n",
              "\n",
              "      <script>\n",
              "        const buttonEl =\n",
              "          document.querySelector('#df-29caada0-fd5f-4227-8110-761ee2cdb21c button.colab-df-convert');\n",
              "        buttonEl.style.display =\n",
              "          google.colab.kernel.accessAllowed ? 'block' : 'none';\n",
              "\n",
              "        async function convertToInteractive(key) {\n",
              "          const element = document.querySelector('#df-29caada0-fd5f-4227-8110-761ee2cdb21c');\n",
              "          const dataTable =\n",
              "            await google.colab.kernel.invokeFunction('convertToInteractive',\n",
              "                                                     [key], {});\n",
              "          if (!dataTable) return;\n",
              "\n",
              "          const docLinkHtml = 'Like what you see? Visit the ' +\n",
              "            '<a target=\"_blank\" href=https://colab.research.google.com/notebooks/data_table.ipynb>data table notebook</a>'\n",
              "            + ' to learn more about interactive tables.';\n",
              "          element.innerHTML = '';\n",
              "          dataTable['output_type'] = 'display_data';\n",
              "          await google.colab.output.renderOutput(dataTable, element);\n",
              "          const docLink = document.createElement('div');\n",
              "          docLink.innerHTML = docLinkHtml;\n",
              "          element.appendChild(docLink);\n",
              "        }\n",
              "      </script>\n",
              "    </div>\n",
              "  </div>\n",
              "  "
            ]
          },
          "metadata": {},
          "execution_count": 8
        }
      ]
    },
    {
      "cell_type": "code",
      "source": [
        "# Eliminating Nan values\n",
        "df = df[df[\"Text\"] == df[\"Text\"]]"
      ],
      "metadata": {
        "id": "S84E5FESQUAc"
      },
      "execution_count": 9,
      "outputs": []
    },
    {
      "cell_type": "markdown",
      "source": [
        "### Creating the Training and Testing Sets"
      ],
      "metadata": {
        "id": "lhsXlRS5O9uV"
      }
    },
    {
      "cell_type": "code",
      "source": [
        "test_prop = 0.2\n",
        "\n",
        "x_train, x_test, y_train, y_test = train_test_split(\n",
        "    df[\"Text\"].values,\n",
        "    df[\"Label\"].values,\n",
        "    test_size = test_prop,\n",
        "    stratify=df[\"Label\"]\n",
        ")\n",
        "\n",
        "print(len(x_train), len(y_train), len(x_test), len(y_test))"
      ],
      "metadata": {
        "colab": {
          "base_uri": "https://localhost:8080/"
        },
        "id": "mLgpIm4hHUoV",
        "outputId": "77155c18-e34d-486b-c082-cf599d44a846"
      },
      "execution_count": 10,
      "outputs": [
        {
          "output_type": "stream",
          "name": "stdout",
          "text": [
            "27746 27746 6937 6937\n"
          ]
        }
      ]
    },
    {
      "cell_type": "markdown",
      "source": [
        "### KNN Model"
      ],
      "metadata": {
        "id": "qqu7FiA3Pwi-"
      }
    },
    {
      "cell_type": "code",
      "source": [
        "clf = Pipeline([\n",
        "    (\"vectorizer_ti-idf\", TfidfVectorizer()),\n",
        "    (\"KNN\", KNeighborsClassifier())\n",
        "])\n",
        "\n",
        "clf.fit(x_train, y_train)\n",
        "\n",
        "print(classification_report(y_test, clf.predict(x_test)))"
      ],
      "metadata": {
        "id": "QzN9r8ucPG8k"
      },
      "execution_count": null,
      "outputs": []
    },
    {
      "cell_type": "markdown",
      "source": [
        "### Naive Bayes Model"
      ],
      "metadata": {
        "id": "s5IN0WJFVai-"
      }
    },
    {
      "cell_type": "code",
      "source": [
        "clf = Pipeline([\n",
        "    (\"vectorizer_ti-idf\", TfidfVectorizer()),\n",
        "    (\"Mulit NB\", MultinomialNB())\n",
        "])\n",
        "\n",
        "clf.fit(x_train, y_train)\n",
        "\n",
        "print(classification_report(y_test, clf.predict(x_test)))"
      ],
      "metadata": {
        "colab": {
          "base_uri": "https://localhost:8080/"
        },
        "id": "jaxEhAQBVcal",
        "outputId": "42c82708-9f34-445b-b04c-db9ebf1d1367"
      },
      "execution_count": 11,
      "outputs": [
        {
          "output_type": "stream",
          "name": "stdout",
          "text": [
            "              precision    recall  f1-score   support\n",
            "\n",
            "           0       0.91      0.95      0.93      1734\n",
            "           1       0.97      0.92      0.94      1735\n",
            "           2       0.95      0.95      0.95      1734\n",
            "           3       0.97      0.98      0.97      1734\n",
            "\n",
            "    accuracy                           0.95      6937\n",
            "   macro avg       0.95      0.95      0.95      6937\n",
            "weighted avg       0.95      0.95      0.95      6937\n",
            "\n"
          ]
        }
      ]
    },
    {
      "cell_type": "markdown",
      "source": [
        "### Random Forest"
      ],
      "metadata": {
        "id": "B8c1Vd47WI77"
      }
    },
    {
      "cell_type": "code",
      "source": [
        "clf = Pipeline([\n",
        "    (\"vectorizer_ti-idf\", TfidfVectorizer()),\n",
        "    (\"RFC\", RandomForestClassifier())\n",
        "])\n",
        "\n",
        "clf.fit(x_train, y_train)\n",
        "\n",
        "print(classification_report(y_test, clf.predict(x_test)))"
      ],
      "metadata": {
        "colab": {
          "base_uri": "https://localhost:8080/"
        },
        "id": "KnHWwWtWWLRj",
        "outputId": "d894d1e1-a5ec-4b77-a8e6-762582e5d8b6"
      },
      "execution_count": 12,
      "outputs": [
        {
          "output_type": "stream",
          "name": "stdout",
          "text": [
            "              precision    recall  f1-score   support\n",
            "\n",
            "           0       0.93      0.95      0.94      1734\n",
            "           1       0.97      0.96      0.97      1735\n",
            "           2       0.97      0.95      0.96      1734\n",
            "           3       0.98      0.99      0.98      1734\n",
            "\n",
            "    accuracy                           0.96      6937\n",
            "   macro avg       0.96      0.96      0.96      6937\n",
            "weighted avg       0.96      0.96      0.96      6937\n",
            "\n"
          ]
        }
      ]
    },
    {
      "cell_type": "markdown",
      "source": [
        "Even best practice is to also apply `Preprocessing` to the samples, in order to remove irrelevant information."
      ],
      "metadata": {
        "id": "h1W4qlVhXCuh"
      }
    }
  ]
}