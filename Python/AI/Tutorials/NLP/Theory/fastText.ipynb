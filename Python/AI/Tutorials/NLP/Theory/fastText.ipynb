{
  "cells": [
    {
      "attachments": {},
      "cell_type": "markdown",
      "metadata": {
        "id": "LPdb7IYYwIr3"
      },
      "source": [
        "## Vector Representation with fastText\n",
        "\n",
        "fastText other than a technique for computing embeddings is also a python module.\n",
        "\n",
        "fastText has provided us with some pre-trained models that we can find here (note that those models are huge): https://fasttext.cc/docs/en/crawl-vectors.html.\n",
        "\n",
        "Those pre-trained model are trained in Wikipedia and Common Crowl, so they hav been seeing a lot of data. But when we are trying to use the model to our custom domain, let's say Indian Food Recipes the results can be improved."
      ]
    },
    {
      "cell_type": "code",
      "execution_count": 2,
      "metadata": {
        "colab": {
          "base_uri": "https://localhost:8080/"
        },
        "id": "16CJcGIEvc6V",
        "outputId": "c9708c33-c7b0-4b75-8893-3b731faf4fb5"
      },
      "outputs": [
        {
          "name": "stdout",
          "output_type": "stream",
          "text": [
            "\u001b[?25l     \u001b[90m━━━━━━━━━━━━━━━━━━━━━━━━━━━━━━━━━━━━━━━━\u001b[0m \u001b[32m0.0/68.8 kB\u001b[0m \u001b[31m?\u001b[0m eta \u001b[36m-:--:--\u001b[0m\r\u001b[2K     \u001b[90m━━━━━━━━━━━━━━━━━━━━━━━━━━━━━━━━━━━━━━━━\u001b[0m \u001b[32m68.8/68.8 kB\u001b[0m \u001b[31m3.7 MB/s\u001b[0m eta \u001b[36m0:00:00\u001b[0m\n",
            "\u001b[?25h  Preparing metadata (setup.py) ... \u001b[?25l\u001b[?25hdone\n",
            "  Building wheel for fasttext (setup.py) ... \u001b[?25l\u001b[?25hdone\n"
          ]
        }
      ],
      "source": [
        "!pip install fasttext -q"
      ]
    },
    {
      "cell_type": "code",
      "execution_count": null,
      "metadata": {
        "id": "MXrXnk1JsPOe"
      },
      "outputs": [],
      "source": [
        "import fasttext"
      ]
    },
    {
      "attachments": {},
      "cell_type": "markdown",
      "metadata": {
        "id": "RK-lzoXf0ltd"
      },
      "source": [
        "## Using the Pre-Trained Model\n"
      ]
    },
    {
      "attachments": {},
      "cell_type": "markdown",
      "metadata": {
        "id": "SVaPMccLwnRR"
      },
      "source": [
        "### Loading the Model (.bin file)"
      ]
    },
    {
      "cell_type": "code",
      "execution_count": null,
      "metadata": {
        "id": "-xniOCD_vuXg"
      },
      "outputs": [],
      "source": [
        "model_path = \"\"\n",
        "\n",
        "model_en = fasttext.load_model(model_path)"
      ]
    },
    {
      "attachments": {},
      "cell_type": "markdown",
      "metadata": {
        "id": "J1CqLw60w13J"
      },
      "source": [
        "### Getting Most Similar Words of a given Word"
      ]
    },
    {
      "cell_type": "code",
      "execution_count": null,
      "metadata": {
        "id": "TV9Uyfxexa6-"
      },
      "outputs": [],
      "source": [
        "model_en.get_nearest_neighbors(\"great\")"
      ]
    },
    {
      "attachments": {},
      "cell_type": "markdown",
      "metadata": {
        "id": "Hvqy3iHdxlhm"
      },
      "source": [
        "### Getting the Vector Representation of a Word"
      ]
    },
    {
      "cell_type": "code",
      "execution_count": null,
      "metadata": {
        "id": "2M5q7uhMxkmz"
      },
      "outputs": [],
      "source": [
        "print(model_en.get_word_vector(\"great\").shape)\n",
        "model_en.get_word_vector(\"great\")[:30]"
      ]
    },
    {
      "attachments": {},
      "cell_type": "markdown",
      "metadata": {
        "id": "RHZh_zrryGYj"
      },
      "source": [
        "### Finding Analogies between Words"
      ]
    },
    {
      "cell_type": "code",
      "execution_count": null,
      "metadata": {
        "id": "ktvd4bDQyJM1"
      },
      "outputs": [],
      "source": [
        "model_en.get_analogies(\"Berlin\", \"Germany\", \"India\")"
      ]
    },
    {
      "cell_type": "code",
      "execution_count": null,
      "metadata": {
        "id": "AQetPrGSyWUz"
      },
      "outputs": [],
      "source": [
        "model_en.get_analogies(\"car\", \"driving\", \"phone\")"
      ]
    },
    {
      "attachments": {},
      "cell_type": "markdown",
      "metadata": {
        "id": "-7W_Hti2zXDD"
      },
      "source": [
        "## Training the Model over the Indian Food Recipes Dataset"
      ]
    },
    {
      "cell_type": "code",
      "execution_count": 3,
      "metadata": {
        "id": "whPbFNImzbHX"
      },
      "outputs": [],
      "source": [
        "import fasttext\n",
        "\n",
        "import pandas as pd\n",
        "import re"
      ]
    },
    {
      "attachments": {},
      "cell_type": "markdown",
      "metadata": {
        "id": "WZuS8kQZzhFX"
      },
      "source": [
        "### Loading the Dataset"
      ]
    },
    {
      "cell_type": "code",
      "execution_count": 4,
      "metadata": {
        "colab": {
          "base_uri": "https://localhost:8080/"
        },
        "id": "pK2xt0FTzeI8",
        "outputId": "436d9267-d99c-405d-c9ac-9da10323ce89"
      },
      "outputs": [
        {
          "name": "stdout",
          "output_type": "stream",
          "text": [
            "[INFO] Unzipping dataset `/content/indian_food.zip` to `/content`...\n",
            "[INFO] Dataset succesfully downloaded to `/content`..\n"
          ]
        }
      ],
      "source": [
        "from pathlib import Path\n",
        "import zipfile\n",
        "\n",
        "\n",
        "zip_path = Path(\"/content/indian_food.zip\")\n",
        "dest_dir = Path(\"/content\")\n",
        "\n",
        "if not dest_dir.is_file():\n",
        "    with zipfile.ZipFile(zip_path, \"r\") as zip_ref:\n",
        "        print(f\"[INFO] Unzipping dataset `{zip_path}` to `{dest_dir}`...\")\n",
        "        zip_ref.extractall(dest_dir)\n",
        "\n",
        "print(f\"[INFO] Dataset succesfully downloaded to `{dest_dir}`..\")"
      ]
    },
    {
      "attachments": {},
      "cell_type": "markdown",
      "metadata": {
        "id": "iW4Hkgp10Rxt"
      },
      "source": [
        "### Preprocessing the Dataset"
      ]
    },
    {
      "cell_type": "code",
      "execution_count": 5,
      "metadata": {
        "colab": {
          "base_uri": "https://localhost:8080/",
          "height": 485
        },
        "id": "_fTFQsTY0Pnr",
        "outputId": "f868b2ec-3935-4d1a-fb40-21c3a1e2f9a8"
      },
      "outputs": [
        {
          "name": "stdout",
          "output_type": "stream",
          "text": [
            "(6871, 15)\n"
          ]
        },
        {
          "data": {
            "text/html": [
              "\n",
              "  <div id=\"df-51ce9c66-f0bf-473b-b7ad-ce40767ca028\">\n",
              "    <div class=\"colab-df-container\">\n",
              "      <div>\n",
              "<style scoped>\n",
              "    .dataframe tbody tr th:only-of-type {\n",
              "        vertical-align: middle;\n",
              "    }\n",
              "\n",
              "    .dataframe tbody tr th {\n",
              "        vertical-align: top;\n",
              "    }\n",
              "\n",
              "    .dataframe thead th {\n",
              "        text-align: right;\n",
              "    }\n",
              "</style>\n",
              "<table border=\"1\" class=\"dataframe\">\n",
              "  <thead>\n",
              "    <tr style=\"text-align: right;\">\n",
              "      <th></th>\n",
              "      <th>Srno</th>\n",
              "      <th>RecipeName</th>\n",
              "      <th>TranslatedRecipeName</th>\n",
              "      <th>Ingredients</th>\n",
              "      <th>TranslatedIngredients</th>\n",
              "      <th>PrepTimeInMins</th>\n",
              "      <th>CookTimeInMins</th>\n",
              "      <th>TotalTimeInMins</th>\n",
              "      <th>Servings</th>\n",
              "      <th>Cuisine</th>\n",
              "      <th>Course</th>\n",
              "      <th>Diet</th>\n",
              "      <th>Instructions</th>\n",
              "      <th>TranslatedInstructions</th>\n",
              "      <th>URL</th>\n",
              "    </tr>\n",
              "  </thead>\n",
              "  <tbody>\n",
              "    <tr>\n",
              "      <th>0</th>\n",
              "      <td>1</td>\n",
              "      <td>Masala Karela Recipe</td>\n",
              "      <td>Masala Karela Recipe</td>\n",
              "      <td>6 Karela (Bitter Gourd/ Pavakkai) - deseeded,S...</td>\n",
              "      <td>6 Karela (Bitter Gourd/ Pavakkai) - deseeded,S...</td>\n",
              "      <td>15</td>\n",
              "      <td>30</td>\n",
              "      <td>45</td>\n",
              "      <td>6</td>\n",
              "      <td>Indian</td>\n",
              "      <td>Side Dish</td>\n",
              "      <td>Diabetic Friendly</td>\n",
              "      <td>To begin making the Masala Karela Recipe,de-se...</td>\n",
              "      <td>To begin making the Masala Karela Recipe,de-se...</td>\n",
              "      <td>https://www.archanaskitchen.com/masala-karela-...</td>\n",
              "    </tr>\n",
              "    <tr>\n",
              "      <th>1</th>\n",
              "      <td>2</td>\n",
              "      <td>टमाटर पुलियोगरे रेसिपी - Spicy Tomato Rice (Re...</td>\n",
              "      <td>Spicy Tomato Rice (Recipe)</td>\n",
              "      <td>2-1/2 कप चावल - पका ले,3 टमाटर,3 छोटा चमच्च बी...</td>\n",
              "      <td>2-1 / 2 cups rice - cooked, 3 tomatoes, 3 teas...</td>\n",
              "      <td>5</td>\n",
              "      <td>10</td>\n",
              "      <td>15</td>\n",
              "      <td>3</td>\n",
              "      <td>South Indian Recipes</td>\n",
              "      <td>Main Course</td>\n",
              "      <td>Vegetarian</td>\n",
              "      <td>टमाटर पुलियोगरे बनाने के लिए सबसे पहले टमाटर क...</td>\n",
              "      <td>To make tomato puliogere, first cut the tomato...</td>\n",
              "      <td>http://www.archanaskitchen.com/spicy-tomato-ri...</td>\n",
              "    </tr>\n",
              "    <tr>\n",
              "      <th>2</th>\n",
              "      <td>3</td>\n",
              "      <td>Ragi Semiya Upma Recipe - Ragi Millet Vermicel...</td>\n",
              "      <td>Ragi Semiya Upma Recipe - Ragi Millet Vermicel...</td>\n",
              "      <td>1-1/2 cups Rice Vermicelli Noodles (Thin),1 On...</td>\n",
              "      <td>1-1/2 cups Rice Vermicelli Noodles (Thin),1 On...</td>\n",
              "      <td>20</td>\n",
              "      <td>30</td>\n",
              "      <td>50</td>\n",
              "      <td>4</td>\n",
              "      <td>South Indian Recipes</td>\n",
              "      <td>South Indian Breakfast</td>\n",
              "      <td>High Protein Vegetarian</td>\n",
              "      <td>To begin making the Ragi Vermicelli Recipe, fi...</td>\n",
              "      <td>To begin making the Ragi Vermicelli Recipe, fi...</td>\n",
              "      <td>http://www.archanaskitchen.com/ragi-vermicelli...</td>\n",
              "    </tr>\n",
              "  </tbody>\n",
              "</table>\n",
              "</div>\n",
              "      <button class=\"colab-df-convert\" onclick=\"convertToInteractive('df-51ce9c66-f0bf-473b-b7ad-ce40767ca028')\"\n",
              "              title=\"Convert this dataframe to an interactive table.\"\n",
              "              style=\"display:none;\">\n",
              "        \n",
              "  <svg xmlns=\"http://www.w3.org/2000/svg\" height=\"24px\"viewBox=\"0 0 24 24\"\n",
              "       width=\"24px\">\n",
              "    <path d=\"M0 0h24v24H0V0z\" fill=\"none\"/>\n",
              "    <path d=\"M18.56 5.44l.94 2.06.94-2.06 2.06-.94-2.06-.94-.94-2.06-.94 2.06-2.06.94zm-11 1L8.5 8.5l.94-2.06 2.06-.94-2.06-.94L8.5 2.5l-.94 2.06-2.06.94zm10 10l.94 2.06.94-2.06 2.06-.94-2.06-.94-.94-2.06-.94 2.06-2.06.94z\"/><path d=\"M17.41 7.96l-1.37-1.37c-.4-.4-.92-.59-1.43-.59-.52 0-1.04.2-1.43.59L10.3 9.45l-7.72 7.72c-.78.78-.78 2.05 0 2.83L4 21.41c.39.39.9.59 1.41.59.51 0 1.02-.2 1.41-.59l7.78-7.78 2.81-2.81c.8-.78.8-2.07 0-2.86zM5.41 20L4 18.59l7.72-7.72 1.47 1.35L5.41 20z\"/>\n",
              "  </svg>\n",
              "      </button>\n",
              "      \n",
              "  <style>\n",
              "    .colab-df-container {\n",
              "      display:flex;\n",
              "      flex-wrap:wrap;\n",
              "      gap: 12px;\n",
              "    }\n",
              "\n",
              "    .colab-df-convert {\n",
              "      background-color: #E8F0FE;\n",
              "      border: none;\n",
              "      border-radius: 50%;\n",
              "      cursor: pointer;\n",
              "      display: none;\n",
              "      fill: #1967D2;\n",
              "      height: 32px;\n",
              "      padding: 0 0 0 0;\n",
              "      width: 32px;\n",
              "    }\n",
              "\n",
              "    .colab-df-convert:hover {\n",
              "      background-color: #E2EBFA;\n",
              "      box-shadow: 0px 1px 2px rgba(60, 64, 67, 0.3), 0px 1px 3px 1px rgba(60, 64, 67, 0.15);\n",
              "      fill: #174EA6;\n",
              "    }\n",
              "\n",
              "    [theme=dark] .colab-df-convert {\n",
              "      background-color: #3B4455;\n",
              "      fill: #D2E3FC;\n",
              "    }\n",
              "\n",
              "    [theme=dark] .colab-df-convert:hover {\n",
              "      background-color: #434B5C;\n",
              "      box-shadow: 0px 1px 3px 1px rgba(0, 0, 0, 0.15);\n",
              "      filter: drop-shadow(0px 1px 2px rgba(0, 0, 0, 0.3));\n",
              "      fill: #FFFFFF;\n",
              "    }\n",
              "  </style>\n",
              "\n",
              "      <script>\n",
              "        const buttonEl =\n",
              "          document.querySelector('#df-51ce9c66-f0bf-473b-b7ad-ce40767ca028 button.colab-df-convert');\n",
              "        buttonEl.style.display =\n",
              "          google.colab.kernel.accessAllowed ? 'block' : 'none';\n",
              "\n",
              "        async function convertToInteractive(key) {\n",
              "          const element = document.querySelector('#df-51ce9c66-f0bf-473b-b7ad-ce40767ca028');\n",
              "          const dataTable =\n",
              "            await google.colab.kernel.invokeFunction('convertToInteractive',\n",
              "                                                     [key], {});\n",
              "          if (!dataTable) return;\n",
              "\n",
              "          const docLinkHtml = 'Like what you see? Visit the ' +\n",
              "            '<a target=\"_blank\" href=https://colab.research.google.com/notebooks/data_table.ipynb>data table notebook</a>'\n",
              "            + ' to learn more about interactive tables.';\n",
              "          element.innerHTML = '';\n",
              "          dataTable['output_type'] = 'display_data';\n",
              "          await google.colab.output.renderOutput(dataTable, element);\n",
              "          const docLink = document.createElement('div');\n",
              "          docLink.innerHTML = docLinkHtml;\n",
              "          element.appendChild(docLink);\n",
              "        }\n",
              "      </script>\n",
              "    </div>\n",
              "  </div>\n",
              "  "
            ],
            "text/plain": [
              "   Srno                                         RecipeName  \\\n",
              "0     1                               Masala Karela Recipe   \n",
              "1     2  टमाटर पुलियोगरे रेसिपी - Spicy Tomato Rice (Re...   \n",
              "2     3  Ragi Semiya Upma Recipe - Ragi Millet Vermicel...   \n",
              "\n",
              "                                TranslatedRecipeName  \\\n",
              "0                               Masala Karela Recipe   \n",
              "1                         Spicy Tomato Rice (Recipe)   \n",
              "2  Ragi Semiya Upma Recipe - Ragi Millet Vermicel...   \n",
              "\n",
              "                                         Ingredients  \\\n",
              "0  6 Karela (Bitter Gourd/ Pavakkai) - deseeded,S...   \n",
              "1  2-1/2 कप चावल - पका ले,3 टमाटर,3 छोटा चमच्च बी...   \n",
              "2  1-1/2 cups Rice Vermicelli Noodles (Thin),1 On...   \n",
              "\n",
              "                               TranslatedIngredients  PrepTimeInMins  \\\n",
              "0  6 Karela (Bitter Gourd/ Pavakkai) - deseeded,S...              15   \n",
              "1  2-1 / 2 cups rice - cooked, 3 tomatoes, 3 teas...               5   \n",
              "2  1-1/2 cups Rice Vermicelli Noodles (Thin),1 On...              20   \n",
              "\n",
              "   CookTimeInMins  TotalTimeInMins  Servings               Cuisine  \\\n",
              "0              30               45         6                Indian   \n",
              "1              10               15         3  South Indian Recipes   \n",
              "2              30               50         4  South Indian Recipes   \n",
              "\n",
              "                   Course                     Diet  \\\n",
              "0               Side Dish        Diabetic Friendly   \n",
              "1             Main Course               Vegetarian   \n",
              "2  South Indian Breakfast  High Protein Vegetarian   \n",
              "\n",
              "                                        Instructions  \\\n",
              "0  To begin making the Masala Karela Recipe,de-se...   \n",
              "1  टमाटर पुलियोगरे बनाने के लिए सबसे पहले टमाटर क...   \n",
              "2  To begin making the Ragi Vermicelli Recipe, fi...   \n",
              "\n",
              "                              TranslatedInstructions  \\\n",
              "0  To begin making the Masala Karela Recipe,de-se...   \n",
              "1  To make tomato puliogere, first cut the tomato...   \n",
              "2  To begin making the Ragi Vermicelli Recipe, fi...   \n",
              "\n",
              "                                                 URL  \n",
              "0  https://www.archanaskitchen.com/masala-karela-...  \n",
              "1  http://www.archanaskitchen.com/spicy-tomato-ri...  \n",
              "2  http://www.archanaskitchen.com/ragi-vermicelli...  "
            ]
          },
          "execution_count": 5,
          "metadata": {},
          "output_type": "execute_result"
        }
      ],
      "source": [
        "df = pd.read_csv(dest_dir / \"IndianFoodDatasetCSV.csv\")\n",
        "\n",
        "print(df.shape)\n",
        "df.head(3)"
      ]
    },
    {
      "cell_type": "code",
      "execution_count": 6,
      "metadata": {
        "colab": {
          "base_uri": "https://localhost:8080/"
        },
        "id": "Lz3QyHhm0eC7",
        "outputId": "47b1b975-86a1-406e-c211-7a360f2df618"
      },
      "outputs": [
        {
          "name": "stdout",
          "output_type": "stream",
          "text": [
            "To begin making the Masala Karela Recipe,de-seed the karela and slice. Do not remove the skin as the skin has all the nutrients. Add the karela to the pressure cooker with 3 tablespoon of water, salt and turmeric powder and pressure cook for three whistles. Release the pressure immediately and open the lids. Keep aside.Heat oil in a heavy bottomed pan or a kadhai. Add cumin seeds and let it sizzle.Once the cumin seeds have sizzled, add onions and saute them till it turns golden brown in color.Add the karela, red chilli powder, amchur powder, coriander powder and besan. Stir to combine the masalas into the karela.Drizzle a little extra oil on the top and mix again. Cover the pan and simmer Masala Karela stirring occasionally until everything comes together well. Turn off the heat.Transfer Masala Karela into a serving bowl and serve.Serve Masala Karela along with Panchmel Dal and Phulka for a weekday meal with your family. \n"
          ]
        }
      ],
      "source": [
        "# Let's see the first value of the column we are interested `TranslatedInstructions`\n",
        "print(df[\"TranslatedInstructions\"][0])"
      ]
    },
    {
      "cell_type": "code",
      "execution_count": 15,
      "metadata": {
        "colab": {
          "base_uri": "https://localhost:8080/"
        },
        "id": "efcNKBfw09ko",
        "outputId": "859ce046-30d5-4415-85c0-92a1054dcf36"
      },
      "outputs": [
        {
          "name": "stdout",
          "output_type": "stream",
          "text": [
            "To begin making the Masala Karela Recipe de seed the karela and slice  Do not remove the skin as the skin has all the nutrients  Add the karela to the pressure cooker with 3 tablespoon of water  salt and turmeric powder and pressure cook for three whistles  Release the pressure immediately and open the lids  Keep aside Heat oil in a heavy bottomed pan or a kadhai  Add cumin seeds and let it sizzle Once the cumin seeds have sizzled  add onions and saute them till it turns golden brown in color Add the karela  red chilli powder  amchur powder  coriander powder and besan  Stir to combine the masalas into the karela Drizzle a little extra oil on the top and mix again  Cover the pan and simmer Masala Karela stirring occasionally until everything comes together well  Turn off the heat Transfer Masala Karela into a serving bowl and serve Serve Masala Karela along with Panchmel Dal and Phulka for a weekday meal with your family  \n",
            "To begin making the Masala Karela Recipe de seed the karela and slice Do not remove the skin as the skin has all the nutrients  Add the karela to the pressure cooker with 3 tablespoon of water salt and turmeric powder and pressure cook for three whistles Release the pressure immediately and open the lids Keep aside Heat oil in a heavy bottomed pan or a kadhai Add cumin seeds and let it sizzle Once the cumin seeds have sizzled add onions and saute them till it turns golden brown in color Add the karela  red chilli powder amchur powder coriander powder and besan Stir to combine the masalas into the karela Drizzle a little extra oil on the top and mix again Cover the pan and simmer Masala Karela stirring occasionally until everything comes together well Turn off the heat Transfer Masala Karela into a serving bowl and serve Serve Masala Karela along with Panchmel Dal and Phulka for a weekday meal with your family  \n"
          ]
        }
      ],
      "source": [
        "# Removing all the non-alpharithmetic characters\n",
        "text = df[\"TranslatedInstructions\"][0]\n",
        "alpharithmetic_text = re.sub(r\"[^\\w\\s]\", \" \", text)\n",
        "\n",
        "print(alpharithmetic_text)\n",
        "\n",
        "# Removing extra spcaes\n",
        "processed_text = re.sub(\" +\", \" \", alpharithmetic_text)\n",
        "\n",
        "print(processed_text)"
      ]
    },
    {
      "cell_type": "code",
      "execution_count": 16,
      "metadata": {
        "id": "HLV3CoPR2cab"
      },
      "outputs": [],
      "source": [
        "# Creating a preprocessed function\n",
        "def preprocessed(text):\n",
        "    alpharithmetic_text = re.sub(r\"[^\\w\\s]\", \" \", text)\n",
        "    processed_text = re.sub(\" +\", \" \", alpharithmetic_text)\n",
        "\n",
        "    return processed_text.strip().lower()"
      ]
    },
    {
      "cell_type": "code",
      "execution_count": 17,
      "metadata": {
        "colab": {
          "base_uri": "https://localhost:8080/"
        },
        "id": "jSyMSg47nOnV",
        "outputId": "a0a5e987-9c1a-414f-ba8a-8ba25aa716ea"
      },
      "outputs": [
        {
          "name": "stdout",
          "output_type": "stream",
          "text": [
            "to begin making the masala karela recipe de seed the karela and slice do not remove the skin as the skin has all the nutrients  add the karela to the pressure cooker with 3 tablespoon of water salt and turmeric powder and pressure cook for three whistles release the pressure immediately and open the lids keep aside heat oil in a heavy bottomed pan or a kadhai add cumin seeds and let it sizzle once the cumin seeds have sizzled add onions and saute them till it turns golden brown in color add the karela  red chilli powder amchur powder coriander powder and besan stir to combine the masalas into the karela drizzle a little extra oil on the top and mix again cover the pan and simmer masala karela stirring occasionally until everything comes together well turn off the heat transfer masala karela into a serving bowl and serve serve masala karela along with panchmel dal and phulka for a weekday meal with your family\n"
          ]
        }
      ],
      "source": [
        "print(preprocessed(text))"
      ]
    },
    {
      "cell_type": "code",
      "execution_count": 18,
      "metadata": {
        "id": "fBhKIy5BnTRV"
      },
      "outputs": [],
      "source": [
        "# Applying this function to the entire column of the DataFrame\n",
        "df[\"TranslatedInstructions\"] = df[\"TranslatedInstructions\"].apply(preprocessed)"
      ]
    },
    {
      "cell_type": "code",
      "execution_count": 20,
      "metadata": {
        "colab": {
          "base_uri": "https://localhost:8080/",
          "height": 468
        },
        "id": "rAFRmPB8nmIB",
        "outputId": "2d123582-e64c-49df-ad51-203cab531b2d"
      },
      "outputs": [
        {
          "data": {
            "text/html": [
              "\n",
              "  <div id=\"df-19d2c551-6da1-4837-8791-1a89146cdd46\">\n",
              "    <div class=\"colab-df-container\">\n",
              "      <div>\n",
              "<style scoped>\n",
              "    .dataframe tbody tr th:only-of-type {\n",
              "        vertical-align: middle;\n",
              "    }\n",
              "\n",
              "    .dataframe tbody tr th {\n",
              "        vertical-align: top;\n",
              "    }\n",
              "\n",
              "    .dataframe thead th {\n",
              "        text-align: right;\n",
              "    }\n",
              "</style>\n",
              "<table border=\"1\" class=\"dataframe\">\n",
              "  <thead>\n",
              "    <tr style=\"text-align: right;\">\n",
              "      <th></th>\n",
              "      <th>Srno</th>\n",
              "      <th>RecipeName</th>\n",
              "      <th>TranslatedRecipeName</th>\n",
              "      <th>Ingredients</th>\n",
              "      <th>TranslatedIngredients</th>\n",
              "      <th>PrepTimeInMins</th>\n",
              "      <th>CookTimeInMins</th>\n",
              "      <th>TotalTimeInMins</th>\n",
              "      <th>Servings</th>\n",
              "      <th>Cuisine</th>\n",
              "      <th>Course</th>\n",
              "      <th>Diet</th>\n",
              "      <th>Instructions</th>\n",
              "      <th>TranslatedInstructions</th>\n",
              "      <th>URL</th>\n",
              "    </tr>\n",
              "  </thead>\n",
              "  <tbody>\n",
              "    <tr>\n",
              "      <th>0</th>\n",
              "      <td>1</td>\n",
              "      <td>Masala Karela Recipe</td>\n",
              "      <td>Masala Karela Recipe</td>\n",
              "      <td>6 Karela (Bitter Gourd/ Pavakkai) - deseeded,S...</td>\n",
              "      <td>6 Karela (Bitter Gourd/ Pavakkai) - deseeded,S...</td>\n",
              "      <td>15</td>\n",
              "      <td>30</td>\n",
              "      <td>45</td>\n",
              "      <td>6</td>\n",
              "      <td>Indian</td>\n",
              "      <td>Side Dish</td>\n",
              "      <td>Diabetic Friendly</td>\n",
              "      <td>To begin making the Masala Karela Recipe,de-se...</td>\n",
              "      <td>to begin making the masala karela recipe de se...</td>\n",
              "      <td>https://www.archanaskitchen.com/masala-karela-...</td>\n",
              "    </tr>\n",
              "    <tr>\n",
              "      <th>1</th>\n",
              "      <td>2</td>\n",
              "      <td>टमाटर पुलियोगरे रेसिपी - Spicy Tomato Rice (Re...</td>\n",
              "      <td>Spicy Tomato Rice (Recipe)</td>\n",
              "      <td>2-1/2 कप चावल - पका ले,3 टमाटर,3 छोटा चमच्च बी...</td>\n",
              "      <td>2-1 / 2 cups rice - cooked, 3 tomatoes, 3 teas...</td>\n",
              "      <td>5</td>\n",
              "      <td>10</td>\n",
              "      <td>15</td>\n",
              "      <td>3</td>\n",
              "      <td>South Indian Recipes</td>\n",
              "      <td>Main Course</td>\n",
              "      <td>Vegetarian</td>\n",
              "      <td>टमाटर पुलियोगरे बनाने के लिए सबसे पहले टमाटर क...</td>\n",
              "      <td>to make tomato puliogere first cut the tomatoe...</td>\n",
              "      <td>http://www.archanaskitchen.com/spicy-tomato-ri...</td>\n",
              "    </tr>\n",
              "    <tr>\n",
              "      <th>2</th>\n",
              "      <td>3</td>\n",
              "      <td>Ragi Semiya Upma Recipe - Ragi Millet Vermicel...</td>\n",
              "      <td>Ragi Semiya Upma Recipe - Ragi Millet Vermicel...</td>\n",
              "      <td>1-1/2 cups Rice Vermicelli Noodles (Thin),1 On...</td>\n",
              "      <td>1-1/2 cups Rice Vermicelli Noodles (Thin),1 On...</td>\n",
              "      <td>20</td>\n",
              "      <td>30</td>\n",
              "      <td>50</td>\n",
              "      <td>4</td>\n",
              "      <td>South Indian Recipes</td>\n",
              "      <td>South Indian Breakfast</td>\n",
              "      <td>High Protein Vegetarian</td>\n",
              "      <td>To begin making the Ragi Vermicelli Recipe, fi...</td>\n",
              "      <td>to begin making the ragi vermicelli recipe fir...</td>\n",
              "      <td>http://www.archanaskitchen.com/ragi-vermicelli...</td>\n",
              "    </tr>\n",
              "  </tbody>\n",
              "</table>\n",
              "</div>\n",
              "      <button class=\"colab-df-convert\" onclick=\"convertToInteractive('df-19d2c551-6da1-4837-8791-1a89146cdd46')\"\n",
              "              title=\"Convert this dataframe to an interactive table.\"\n",
              "              style=\"display:none;\">\n",
              "        \n",
              "  <svg xmlns=\"http://www.w3.org/2000/svg\" height=\"24px\"viewBox=\"0 0 24 24\"\n",
              "       width=\"24px\">\n",
              "    <path d=\"M0 0h24v24H0V0z\" fill=\"none\"/>\n",
              "    <path d=\"M18.56 5.44l.94 2.06.94-2.06 2.06-.94-2.06-.94-.94-2.06-.94 2.06-2.06.94zm-11 1L8.5 8.5l.94-2.06 2.06-.94-2.06-.94L8.5 2.5l-.94 2.06-2.06.94zm10 10l.94 2.06.94-2.06 2.06-.94-2.06-.94-.94-2.06-.94 2.06-2.06.94z\"/><path d=\"M17.41 7.96l-1.37-1.37c-.4-.4-.92-.59-1.43-.59-.52 0-1.04.2-1.43.59L10.3 9.45l-7.72 7.72c-.78.78-.78 2.05 0 2.83L4 21.41c.39.39.9.59 1.41.59.51 0 1.02-.2 1.41-.59l7.78-7.78 2.81-2.81c.8-.78.8-2.07 0-2.86zM5.41 20L4 18.59l7.72-7.72 1.47 1.35L5.41 20z\"/>\n",
              "  </svg>\n",
              "      </button>\n",
              "      \n",
              "  <style>\n",
              "    .colab-df-container {\n",
              "      display:flex;\n",
              "      flex-wrap:wrap;\n",
              "      gap: 12px;\n",
              "    }\n",
              "\n",
              "    .colab-df-convert {\n",
              "      background-color: #E8F0FE;\n",
              "      border: none;\n",
              "      border-radius: 50%;\n",
              "      cursor: pointer;\n",
              "      display: none;\n",
              "      fill: #1967D2;\n",
              "      height: 32px;\n",
              "      padding: 0 0 0 0;\n",
              "      width: 32px;\n",
              "    }\n",
              "\n",
              "    .colab-df-convert:hover {\n",
              "      background-color: #E2EBFA;\n",
              "      box-shadow: 0px 1px 2px rgba(60, 64, 67, 0.3), 0px 1px 3px 1px rgba(60, 64, 67, 0.15);\n",
              "      fill: #174EA6;\n",
              "    }\n",
              "\n",
              "    [theme=dark] .colab-df-convert {\n",
              "      background-color: #3B4455;\n",
              "      fill: #D2E3FC;\n",
              "    }\n",
              "\n",
              "    [theme=dark] .colab-df-convert:hover {\n",
              "      background-color: #434B5C;\n",
              "      box-shadow: 0px 1px 3px 1px rgba(0, 0, 0, 0.15);\n",
              "      filter: drop-shadow(0px 1px 2px rgba(0, 0, 0, 0.3));\n",
              "      fill: #FFFFFF;\n",
              "    }\n",
              "  </style>\n",
              "\n",
              "      <script>\n",
              "        const buttonEl =\n",
              "          document.querySelector('#df-19d2c551-6da1-4837-8791-1a89146cdd46 button.colab-df-convert');\n",
              "        buttonEl.style.display =\n",
              "          google.colab.kernel.accessAllowed ? 'block' : 'none';\n",
              "\n",
              "        async function convertToInteractive(key) {\n",
              "          const element = document.querySelector('#df-19d2c551-6da1-4837-8791-1a89146cdd46');\n",
              "          const dataTable =\n",
              "            await google.colab.kernel.invokeFunction('convertToInteractive',\n",
              "                                                     [key], {});\n",
              "          if (!dataTable) return;\n",
              "\n",
              "          const docLinkHtml = 'Like what you see? Visit the ' +\n",
              "            '<a target=\"_blank\" href=https://colab.research.google.com/notebooks/data_table.ipynb>data table notebook</a>'\n",
              "            + ' to learn more about interactive tables.';\n",
              "          element.innerHTML = '';\n",
              "          dataTable['output_type'] = 'display_data';\n",
              "          await google.colab.output.renderOutput(dataTable, element);\n",
              "          const docLink = document.createElement('div');\n",
              "          docLink.innerHTML = docLinkHtml;\n",
              "          element.appendChild(docLink);\n",
              "        }\n",
              "      </script>\n",
              "    </div>\n",
              "  </div>\n",
              "  "
            ],
            "text/plain": [
              "   Srno                                         RecipeName  \\\n",
              "0     1                               Masala Karela Recipe   \n",
              "1     2  टमाटर पुलियोगरे रेसिपी - Spicy Tomato Rice (Re...   \n",
              "2     3  Ragi Semiya Upma Recipe - Ragi Millet Vermicel...   \n",
              "\n",
              "                                TranslatedRecipeName  \\\n",
              "0                               Masala Karela Recipe   \n",
              "1                         Spicy Tomato Rice (Recipe)   \n",
              "2  Ragi Semiya Upma Recipe - Ragi Millet Vermicel...   \n",
              "\n",
              "                                         Ingredients  \\\n",
              "0  6 Karela (Bitter Gourd/ Pavakkai) - deseeded,S...   \n",
              "1  2-1/2 कप चावल - पका ले,3 टमाटर,3 छोटा चमच्च बी...   \n",
              "2  1-1/2 cups Rice Vermicelli Noodles (Thin),1 On...   \n",
              "\n",
              "                               TranslatedIngredients  PrepTimeInMins  \\\n",
              "0  6 Karela (Bitter Gourd/ Pavakkai) - deseeded,S...              15   \n",
              "1  2-1 / 2 cups rice - cooked, 3 tomatoes, 3 teas...               5   \n",
              "2  1-1/2 cups Rice Vermicelli Noodles (Thin),1 On...              20   \n",
              "\n",
              "   CookTimeInMins  TotalTimeInMins  Servings               Cuisine  \\\n",
              "0              30               45         6                Indian   \n",
              "1              10               15         3  South Indian Recipes   \n",
              "2              30               50         4  South Indian Recipes   \n",
              "\n",
              "                   Course                     Diet  \\\n",
              "0               Side Dish        Diabetic Friendly   \n",
              "1             Main Course               Vegetarian   \n",
              "2  South Indian Breakfast  High Protein Vegetarian   \n",
              "\n",
              "                                        Instructions  \\\n",
              "0  To begin making the Masala Karela Recipe,de-se...   \n",
              "1  टमाटर पुलियोगरे बनाने के लिए सबसे पहले टमाटर क...   \n",
              "2  To begin making the Ragi Vermicelli Recipe, fi...   \n",
              "\n",
              "                              TranslatedInstructions  \\\n",
              "0  to begin making the masala karela recipe de se...   \n",
              "1  to make tomato puliogere first cut the tomatoe...   \n",
              "2  to begin making the ragi vermicelli recipe fir...   \n",
              "\n",
              "                                                 URL  \n",
              "0  https://www.archanaskitchen.com/masala-karela-...  \n",
              "1  http://www.archanaskitchen.com/spicy-tomato-ri...  \n",
              "2  http://www.archanaskitchen.com/ragi-vermicelli...  "
            ]
          },
          "execution_count": 20,
          "metadata": {},
          "output_type": "execute_result"
        }
      ],
      "source": [
        "df.head(3)"
      ]
    },
    {
      "cell_type": "code",
      "execution_count": 29,
      "metadata": {
        "colab": {
          "base_uri": "https://localhost:8080/"
        },
        "id": "TgRvdBC8oQA2",
        "outputId": "00503c04-248d-4115-d7dd-a2369bc39656"
      },
      "outputs": [
        {
          "data": {
            "text/plain": [
              "121273"
            ]
          },
          "execution_count": 29,
          "metadata": {},
          "output_type": "execute_result"
        }
      ],
      "source": [
        "# The dataset is not perferct traslated:\n",
        "i = 0\n",
        "for text in df[\"TranslatedInstructions\"]:\n",
        "    for word in text.split():\n",
        "        j = j + 1 if not word.isascii() else j\n",
        "j"
      ]
    },
    {
      "attachments": {},
      "cell_type": "markdown",
      "metadata": {
        "id": "vLGvJQFFpxYO"
      },
      "source": [
        "As we see there are `121273` non-english characters."
      ]
    },
    {
      "cell_type": "code",
      "execution_count": 33,
      "metadata": {
        "colab": {
          "base_uri": "https://localhost:8080/",
          "height": 49
        },
        "id": "yYkQmYbjp4Bh",
        "outputId": "4f4faca6-6c58-4745-ddae-3f617c3ed2f1"
      },
      "outputs": [
        {
          "data": {
            "text/html": [
              "\n",
              "  <div id=\"df-f3fcb43d-250f-40c3-9b4e-e6cc05eec289\">\n",
              "    <div class=\"colab-df-container\">\n",
              "      <div>\n",
              "<style scoped>\n",
              "    .dataframe tbody tr th:only-of-type {\n",
              "        vertical-align: middle;\n",
              "    }\n",
              "\n",
              "    .dataframe tbody tr th {\n",
              "        vertical-align: top;\n",
              "    }\n",
              "\n",
              "    .dataframe thead th {\n",
              "        text-align: right;\n",
              "    }\n",
              "</style>\n",
              "<table border=\"1\" class=\"dataframe\">\n",
              "  <thead>\n",
              "    <tr style=\"text-align: right;\">\n",
              "      <th></th>\n",
              "      <th>TranslatedInstructions</th>\n",
              "    </tr>\n",
              "  </thead>\n",
              "  <tbody>\n",
              "  </tbody>\n",
              "</table>\n",
              "</div>\n",
              "      <button class=\"colab-df-convert\" onclick=\"convertToInteractive('df-f3fcb43d-250f-40c3-9b4e-e6cc05eec289')\"\n",
              "              title=\"Convert this dataframe to an interactive table.\"\n",
              "              style=\"display:none;\">\n",
              "        \n",
              "  <svg xmlns=\"http://www.w3.org/2000/svg\" height=\"24px\"viewBox=\"0 0 24 24\"\n",
              "       width=\"24px\">\n",
              "    <path d=\"M0 0h24v24H0V0z\" fill=\"none\"/>\n",
              "    <path d=\"M18.56 5.44l.94 2.06.94-2.06 2.06-.94-2.06-.94-.94-2.06-.94 2.06-2.06.94zm-11 1L8.5 8.5l.94-2.06 2.06-.94-2.06-.94L8.5 2.5l-.94 2.06-2.06.94zm10 10l.94 2.06.94-2.06 2.06-.94-2.06-.94-.94-2.06-.94 2.06-2.06.94z\"/><path d=\"M17.41 7.96l-1.37-1.37c-.4-.4-.92-.59-1.43-.59-.52 0-1.04.2-1.43.59L10.3 9.45l-7.72 7.72c-.78.78-.78 2.05 0 2.83L4 21.41c.39.39.9.59 1.41.59.51 0 1.02-.2 1.41-.59l7.78-7.78 2.81-2.81c.8-.78.8-2.07 0-2.86zM5.41 20L4 18.59l7.72-7.72 1.47 1.35L5.41 20z\"/>\n",
              "  </svg>\n",
              "      </button>\n",
              "      \n",
              "  <style>\n",
              "    .colab-df-container {\n",
              "      display:flex;\n",
              "      flex-wrap:wrap;\n",
              "      gap: 12px;\n",
              "    }\n",
              "\n",
              "    .colab-df-convert {\n",
              "      background-color: #E8F0FE;\n",
              "      border: none;\n",
              "      border-radius: 50%;\n",
              "      cursor: pointer;\n",
              "      display: none;\n",
              "      fill: #1967D2;\n",
              "      height: 32px;\n",
              "      padding: 0 0 0 0;\n",
              "      width: 32px;\n",
              "    }\n",
              "\n",
              "    .colab-df-convert:hover {\n",
              "      background-color: #E2EBFA;\n",
              "      box-shadow: 0px 1px 2px rgba(60, 64, 67, 0.3), 0px 1px 3px 1px rgba(60, 64, 67, 0.15);\n",
              "      fill: #174EA6;\n",
              "    }\n",
              "\n",
              "    [theme=dark] .colab-df-convert {\n",
              "      background-color: #3B4455;\n",
              "      fill: #D2E3FC;\n",
              "    }\n",
              "\n",
              "    [theme=dark] .colab-df-convert:hover {\n",
              "      background-color: #434B5C;\n",
              "      box-shadow: 0px 1px 3px 1px rgba(0, 0, 0, 0.15);\n",
              "      filter: drop-shadow(0px 1px 2px rgba(0, 0, 0, 0.3));\n",
              "      fill: #FFFFFF;\n",
              "    }\n",
              "  </style>\n",
              "\n",
              "      <script>\n",
              "        const buttonEl =\n",
              "          document.querySelector('#df-f3fcb43d-250f-40c3-9b4e-e6cc05eec289 button.colab-df-convert');\n",
              "        buttonEl.style.display =\n",
              "          google.colab.kernel.accessAllowed ? 'block' : 'none';\n",
              "\n",
              "        async function convertToInteractive(key) {\n",
              "          const element = document.querySelector('#df-f3fcb43d-250f-40c3-9b4e-e6cc05eec289');\n",
              "          const dataTable =\n",
              "            await google.colab.kernel.invokeFunction('convertToInteractive',\n",
              "                                                     [key], {});\n",
              "          if (!dataTable) return;\n",
              "\n",
              "          const docLinkHtml = 'Like what you see? Visit the ' +\n",
              "            '<a target=\"_blank\" href=https://colab.research.google.com/notebooks/data_table.ipynb>data table notebook</a>'\n",
              "            + ' to learn more about interactive tables.';\n",
              "          element.innerHTML = '';\n",
              "          dataTable['output_type'] = 'display_data';\n",
              "          await google.colab.output.renderOutput(dataTable, element);\n",
              "          const docLink = document.createElement('div');\n",
              "          docLink.innerHTML = docLinkHtml;\n",
              "          element.appendChild(docLink);\n",
              "        }\n",
              "      </script>\n",
              "    </div>\n",
              "  </div>\n",
              "  "
            ],
            "text/plain": [
              "Empty DataFrame\n",
              "Columns: [TranslatedInstructions]\n",
              "Index: []"
            ]
          },
          "execution_count": 33,
          "metadata": {},
          "output_type": "execute_result"
        }
      ],
      "source": [
        "# Fixing this problem by not inlcuding non-translated words into the DataFrame\n",
        "correct_df = pd.DataFrame(columns=[\"TranslatedInstructions\"])\n",
        "\n",
        "correct_df"
      ]
    },
    {
      "cell_type": "code",
      "execution_count": 55,
      "metadata": {
        "colab": {
          "base_uri": "https://localhost:8080/",
          "height": 424
        },
        "id": "stw0lFd2qXso",
        "outputId": "7fb59351-be36-48d7-8aad-276ca058d90a"
      },
      "outputs": [
        {
          "data": {
            "text/html": [
              "\n",
              "  <div id=\"df-7ff41b3c-a4a5-48a9-830d-890a734b0b15\">\n",
              "    <div class=\"colab-df-container\">\n",
              "      <div>\n",
              "<style scoped>\n",
              "    .dataframe tbody tr th:only-of-type {\n",
              "        vertical-align: middle;\n",
              "    }\n",
              "\n",
              "    .dataframe tbody tr th {\n",
              "        vertical-align: top;\n",
              "    }\n",
              "\n",
              "    .dataframe thead th {\n",
              "        text-align: right;\n",
              "    }\n",
              "</style>\n",
              "<table border=\"1\" class=\"dataframe\">\n",
              "  <thead>\n",
              "    <tr style=\"text-align: right;\">\n",
              "      <th></th>\n",
              "      <th>TranslatedInstructions</th>\n",
              "    </tr>\n",
              "  </thead>\n",
              "  <tbody>\n",
              "    <tr>\n",
              "      <th>0</th>\n",
              "      <td>to begin making the masala karela recipe de s...</td>\n",
              "    </tr>\n",
              "    <tr>\n",
              "      <th>1</th>\n",
              "      <td>to make tomato puliogere first cut the tomato...</td>\n",
              "    </tr>\n",
              "    <tr>\n",
              "      <th>2</th>\n",
              "      <td>to begin making the ragi vermicelli recipe fi...</td>\n",
              "    </tr>\n",
              "    <tr>\n",
              "      <th>3</th>\n",
              "      <td>to begin making gongura chicken curry recipe ...</td>\n",
              "    </tr>\n",
              "    <tr>\n",
              "      <th>4</th>\n",
              "      <td>to make andhra style alam pachadi first heat ...</td>\n",
              "    </tr>\n",
              "    <tr>\n",
              "      <th>...</th>\n",
              "      <td>...</td>\n",
              "    </tr>\n",
              "    <tr>\n",
              "      <th>5726</th>\n",
              "      <td>to begin making the saffron paneer peda recip...</td>\n",
              "    </tr>\n",
              "    <tr>\n",
              "      <th>5727</th>\n",
              "      <td>to begin making the italian arancini rice bal...</td>\n",
              "    </tr>\n",
              "    <tr>\n",
              "      <th>5728</th>\n",
              "      <td>to begin making quinoa phirnee recipe place a...</td>\n",
              "    </tr>\n",
              "    <tr>\n",
              "      <th>5729</th>\n",
              "      <td>to begin making ullikadala pulusu recipe spri...</td>\n",
              "    </tr>\n",
              "    <tr>\n",
              "      <th>5730</th>\n",
              "      <td>to begin making the kashmiri kokur yakhni rec...</td>\n",
              "    </tr>\n",
              "  </tbody>\n",
              "</table>\n",
              "<p>5731 rows × 1 columns</p>\n",
              "</div>\n",
              "      <button class=\"colab-df-convert\" onclick=\"convertToInteractive('df-7ff41b3c-a4a5-48a9-830d-890a734b0b15')\"\n",
              "              title=\"Convert this dataframe to an interactive table.\"\n",
              "              style=\"display:none;\">\n",
              "        \n",
              "  <svg xmlns=\"http://www.w3.org/2000/svg\" height=\"24px\"viewBox=\"0 0 24 24\"\n",
              "       width=\"24px\">\n",
              "    <path d=\"M0 0h24v24H0V0z\" fill=\"none\"/>\n",
              "    <path d=\"M18.56 5.44l.94 2.06.94-2.06 2.06-.94-2.06-.94-.94-2.06-.94 2.06-2.06.94zm-11 1L8.5 8.5l.94-2.06 2.06-.94-2.06-.94L8.5 2.5l-.94 2.06-2.06.94zm10 10l.94 2.06.94-2.06 2.06-.94-2.06-.94-.94-2.06-.94 2.06-2.06.94z\"/><path d=\"M17.41 7.96l-1.37-1.37c-.4-.4-.92-.59-1.43-.59-.52 0-1.04.2-1.43.59L10.3 9.45l-7.72 7.72c-.78.78-.78 2.05 0 2.83L4 21.41c.39.39.9.59 1.41.59.51 0 1.02-.2 1.41-.59l7.78-7.78 2.81-2.81c.8-.78.8-2.07 0-2.86zM5.41 20L4 18.59l7.72-7.72 1.47 1.35L5.41 20z\"/>\n",
              "  </svg>\n",
              "      </button>\n",
              "      \n",
              "  <style>\n",
              "    .colab-df-container {\n",
              "      display:flex;\n",
              "      flex-wrap:wrap;\n",
              "      gap: 12px;\n",
              "    }\n",
              "\n",
              "    .colab-df-convert {\n",
              "      background-color: #E8F0FE;\n",
              "      border: none;\n",
              "      border-radius: 50%;\n",
              "      cursor: pointer;\n",
              "      display: none;\n",
              "      fill: #1967D2;\n",
              "      height: 32px;\n",
              "      padding: 0 0 0 0;\n",
              "      width: 32px;\n",
              "    }\n",
              "\n",
              "    .colab-df-convert:hover {\n",
              "      background-color: #E2EBFA;\n",
              "      box-shadow: 0px 1px 2px rgba(60, 64, 67, 0.3), 0px 1px 3px 1px rgba(60, 64, 67, 0.15);\n",
              "      fill: #174EA6;\n",
              "    }\n",
              "\n",
              "    [theme=dark] .colab-df-convert {\n",
              "      background-color: #3B4455;\n",
              "      fill: #D2E3FC;\n",
              "    }\n",
              "\n",
              "    [theme=dark] .colab-df-convert:hover {\n",
              "      background-color: #434B5C;\n",
              "      box-shadow: 0px 1px 3px 1px rgba(0, 0, 0, 0.15);\n",
              "      filter: drop-shadow(0px 1px 2px rgba(0, 0, 0, 0.3));\n",
              "      fill: #FFFFFF;\n",
              "    }\n",
              "  </style>\n",
              "\n",
              "      <script>\n",
              "        const buttonEl =\n",
              "          document.querySelector('#df-7ff41b3c-a4a5-48a9-830d-890a734b0b15 button.colab-df-convert');\n",
              "        buttonEl.style.display =\n",
              "          google.colab.kernel.accessAllowed ? 'block' : 'none';\n",
              "\n",
              "        async function convertToInteractive(key) {\n",
              "          const element = document.querySelector('#df-7ff41b3c-a4a5-48a9-830d-890a734b0b15');\n",
              "          const dataTable =\n",
              "            await google.colab.kernel.invokeFunction('convertToInteractive',\n",
              "                                                     [key], {});\n",
              "          if (!dataTable) return;\n",
              "\n",
              "          const docLinkHtml = 'Like what you see? Visit the ' +\n",
              "            '<a target=\"_blank\" href=https://colab.research.google.com/notebooks/data_table.ipynb>data table notebook</a>'\n",
              "            + ' to learn more about interactive tables.';\n",
              "          element.innerHTML = '';\n",
              "          dataTable['output_type'] = 'display_data';\n",
              "          await google.colab.output.renderOutput(dataTable, element);\n",
              "          const docLink = document.createElement('div');\n",
              "          docLink.innerHTML = docLinkHtml;\n",
              "          element.appendChild(docLink);\n",
              "        }\n",
              "      </script>\n",
              "    </div>\n",
              "  </div>\n",
              "  "
            ],
            "text/plain": [
              "                                 TranslatedInstructions\n",
              "0      to begin making the masala karela recipe de s...\n",
              "1      to make tomato puliogere first cut the tomato...\n",
              "2      to begin making the ragi vermicelli recipe fi...\n",
              "3      to begin making gongura chicken curry recipe ...\n",
              "4      to make andhra style alam pachadi first heat ...\n",
              "...                                                 ...\n",
              "5726   to begin making the saffron paneer peda recip...\n",
              "5727   to begin making the italian arancini rice bal...\n",
              "5728   to begin making quinoa phirnee recipe place a...\n",
              "5729   to begin making ullikadala pulusu recipe spri...\n",
              "5730   to begin making the kashmiri kokur yakhni rec...\n",
              "\n",
              "[5731 rows x 1 columns]"
            ]
          },
          "execution_count": 55,
          "metadata": {},
          "output_type": "execute_result"
        }
      ],
      "source": [
        "# Remove each recipe that contains a non-english character\n",
        "correct_data = []\n",
        "for text in df[\"TranslatedInstructions\"]:\n",
        "    correct_text = \"\"\n",
        "    for word in text.split():\n",
        "        if not word.isascii():\n",
        "            correct_text = \"\"\n",
        "            break\n",
        "        else:\n",
        "            correct_text = correct_text + ' ' + word\n",
        "    \n",
        "    if len(correct_text) != 0:\n",
        "        correct_data.append(correct_text)\n",
        "\n",
        "correct_df = pd.DataFrame(correct_data, columns=[\"TranslatedInstructions\"])\n",
        "correct_df"
      ]
    },
    {
      "cell_type": "code",
      "execution_count": 57,
      "metadata": {
        "colab": {
          "base_uri": "https://localhost:8080/",
          "height": 424
        },
        "id": "r6EhqTunvWlP",
        "outputId": "6348bd23-03d5-400f-9f67-b83bcec382ad"
      },
      "outputs": [
        {
          "data": {
            "text/html": [
              "\n",
              "  <div id=\"df-af560467-4044-4914-8d47-4021f8018b3c\">\n",
              "    <div class=\"colab-df-container\">\n",
              "      <div>\n",
              "<style scoped>\n",
              "    .dataframe tbody tr th:only-of-type {\n",
              "        vertical-align: middle;\n",
              "    }\n",
              "\n",
              "    .dataframe tbody tr th {\n",
              "        vertical-align: top;\n",
              "    }\n",
              "\n",
              "    .dataframe thead th {\n",
              "        text-align: right;\n",
              "    }\n",
              "</style>\n",
              "<table border=\"1\" class=\"dataframe\">\n",
              "  <thead>\n",
              "    <tr style=\"text-align: right;\">\n",
              "      <th></th>\n",
              "      <th>TranslatedInstructions</th>\n",
              "    </tr>\n",
              "  </thead>\n",
              "  <tbody>\n",
              "    <tr>\n",
              "      <th>0</th>\n",
              "      <td>to begin making the masala karela recipe de s...</td>\n",
              "    </tr>\n",
              "    <tr>\n",
              "      <th>1</th>\n",
              "      <td>to make tomato puliogere first cut the tomato...</td>\n",
              "    </tr>\n",
              "    <tr>\n",
              "      <th>2</th>\n",
              "      <td>to begin making the ragi vermicelli recipe fi...</td>\n",
              "    </tr>\n",
              "    <tr>\n",
              "      <th>3</th>\n",
              "      <td>to begin making gongura chicken curry recipe ...</td>\n",
              "    </tr>\n",
              "    <tr>\n",
              "      <th>4</th>\n",
              "      <td>to make andhra style alam pachadi first heat ...</td>\n",
              "    </tr>\n",
              "    <tr>\n",
              "      <th>...</th>\n",
              "      <td>...</td>\n",
              "    </tr>\n",
              "    <tr>\n",
              "      <th>5726</th>\n",
              "      <td>to begin making the saffron paneer peda recip...</td>\n",
              "    </tr>\n",
              "    <tr>\n",
              "      <th>5727</th>\n",
              "      <td>to begin making the italian arancini rice bal...</td>\n",
              "    </tr>\n",
              "    <tr>\n",
              "      <th>5728</th>\n",
              "      <td>to begin making quinoa phirnee recipe place a...</td>\n",
              "    </tr>\n",
              "    <tr>\n",
              "      <th>5729</th>\n",
              "      <td>to begin making ullikadala pulusu recipe spri...</td>\n",
              "    </tr>\n",
              "    <tr>\n",
              "      <th>5730</th>\n",
              "      <td>to begin making the kashmiri kokur yakhni rec...</td>\n",
              "    </tr>\n",
              "  </tbody>\n",
              "</table>\n",
              "<p>5731 rows × 1 columns</p>\n",
              "</div>\n",
              "      <button class=\"colab-df-convert\" onclick=\"convertToInteractive('df-af560467-4044-4914-8d47-4021f8018b3c')\"\n",
              "              title=\"Convert this dataframe to an interactive table.\"\n",
              "              style=\"display:none;\">\n",
              "        \n",
              "  <svg xmlns=\"http://www.w3.org/2000/svg\" height=\"24px\"viewBox=\"0 0 24 24\"\n",
              "       width=\"24px\">\n",
              "    <path d=\"M0 0h24v24H0V0z\" fill=\"none\"/>\n",
              "    <path d=\"M18.56 5.44l.94 2.06.94-2.06 2.06-.94-2.06-.94-.94-2.06-.94 2.06-2.06.94zm-11 1L8.5 8.5l.94-2.06 2.06-.94-2.06-.94L8.5 2.5l-.94 2.06-2.06.94zm10 10l.94 2.06.94-2.06 2.06-.94-2.06-.94-.94-2.06-.94 2.06-2.06.94z\"/><path d=\"M17.41 7.96l-1.37-1.37c-.4-.4-.92-.59-1.43-.59-.52 0-1.04.2-1.43.59L10.3 9.45l-7.72 7.72c-.78.78-.78 2.05 0 2.83L4 21.41c.39.39.9.59 1.41.59.51 0 1.02-.2 1.41-.59l7.78-7.78 2.81-2.81c.8-.78.8-2.07 0-2.86zM5.41 20L4 18.59l7.72-7.72 1.47 1.35L5.41 20z\"/>\n",
              "  </svg>\n",
              "      </button>\n",
              "      \n",
              "  <style>\n",
              "    .colab-df-container {\n",
              "      display:flex;\n",
              "      flex-wrap:wrap;\n",
              "      gap: 12px;\n",
              "    }\n",
              "\n",
              "    .colab-df-convert {\n",
              "      background-color: #E8F0FE;\n",
              "      border: none;\n",
              "      border-radius: 50%;\n",
              "      cursor: pointer;\n",
              "      display: none;\n",
              "      fill: #1967D2;\n",
              "      height: 32px;\n",
              "      padding: 0 0 0 0;\n",
              "      width: 32px;\n",
              "    }\n",
              "\n",
              "    .colab-df-convert:hover {\n",
              "      background-color: #E2EBFA;\n",
              "      box-shadow: 0px 1px 2px rgba(60, 64, 67, 0.3), 0px 1px 3px 1px rgba(60, 64, 67, 0.15);\n",
              "      fill: #174EA6;\n",
              "    }\n",
              "\n",
              "    [theme=dark] .colab-df-convert {\n",
              "      background-color: #3B4455;\n",
              "      fill: #D2E3FC;\n",
              "    }\n",
              "\n",
              "    [theme=dark] .colab-df-convert:hover {\n",
              "      background-color: #434B5C;\n",
              "      box-shadow: 0px 1px 3px 1px rgba(0, 0, 0, 0.15);\n",
              "      filter: drop-shadow(0px 1px 2px rgba(0, 0, 0, 0.3));\n",
              "      fill: #FFFFFF;\n",
              "    }\n",
              "  </style>\n",
              "\n",
              "      <script>\n",
              "        const buttonEl =\n",
              "          document.querySelector('#df-af560467-4044-4914-8d47-4021f8018b3c button.colab-df-convert');\n",
              "        buttonEl.style.display =\n",
              "          google.colab.kernel.accessAllowed ? 'block' : 'none';\n",
              "\n",
              "        async function convertToInteractive(key) {\n",
              "          const element = document.querySelector('#df-af560467-4044-4914-8d47-4021f8018b3c');\n",
              "          const dataTable =\n",
              "            await google.colab.kernel.invokeFunction('convertToInteractive',\n",
              "                                                     [key], {});\n",
              "          if (!dataTable) return;\n",
              "\n",
              "          const docLinkHtml = 'Like what you see? Visit the ' +\n",
              "            '<a target=\"_blank\" href=https://colab.research.google.com/notebooks/data_table.ipynb>data table notebook</a>'\n",
              "            + ' to learn more about interactive tables.';\n",
              "          element.innerHTML = '';\n",
              "          dataTable['output_type'] = 'display_data';\n",
              "          await google.colab.output.renderOutput(dataTable, element);\n",
              "          const docLink = document.createElement('div');\n",
              "          docLink.innerHTML = docLinkHtml;\n",
              "          element.appendChild(docLink);\n",
              "        }\n",
              "      </script>\n",
              "    </div>\n",
              "  </div>\n",
              "  "
            ],
            "text/plain": [
              "                                 TranslatedInstructions\n",
              "0      to begin making the masala karela recipe de s...\n",
              "1      to make tomato puliogere first cut the tomato...\n",
              "2      to begin making the ragi vermicelli recipe fi...\n",
              "3      to begin making gongura chicken curry recipe ...\n",
              "4      to make andhra style alam pachadi first heat ...\n",
              "...                                                 ...\n",
              "5726   to begin making the saffron paneer peda recip...\n",
              "5727   to begin making the italian arancini rice bal...\n",
              "5728   to begin making quinoa phirnee recipe place a...\n",
              "5729   to begin making ullikadala pulusu recipe spri...\n",
              "5730   to begin making the kashmiri kokur yakhni rec...\n",
              "\n",
              "[5731 rows x 1 columns]"
            ]
          },
          "execution_count": 57,
          "metadata": {},
          "output_type": "execute_result"
        }
      ],
      "source": [
        "# Optimize the same code\n",
        "correct_data = df[\"TranslatedInstructions\"].filter(regex=r\"[a-z0-9]+\")\n",
        "correct_df"
      ]
    },
    {
      "attachments": {},
      "cell_type": "markdown",
      "metadata": {
        "id": "HKeR4ExmntOo"
      },
      "source": [
        "### Exporting the column `TranslatedInstructions` into a seperate file"
      ]
    },
    {
      "cell_type": "code",
      "execution_count": 58,
      "metadata": {
        "id": "xSpYKuZNntEI"
      },
      "outputs": [],
      "source": [
        "correct_df.to_csv(\"food_recipes.txt\", columns=[\"TranslatedInstructions\"], header=None, index=False)"
      ]
    },
    {
      "attachments": {},
      "cell_type": "markdown",
      "metadata": {
        "id": "17L2kjX8xta-"
      },
      "source": [
        "### Initializing and Training the Model"
      ]
    },
    {
      "cell_type": "code",
      "execution_count": 59,
      "metadata": {
        "id": "4AoyYzI1xh6C"
      },
      "outputs": [],
      "source": [
        "model = fasttext.train_unsupervised(\"food_recipes.txt\")"
      ]
    },
    {
      "attachments": {},
      "cell_type": "markdown",
      "metadata": {
        "id": "f6N4s-mRyXWI"
      },
      "source": [
        "### Getting Similar Words for Indian Recipes"
      ]
    },
    {
      "cell_type": "code",
      "execution_count": 60,
      "metadata": {
        "colab": {
          "base_uri": "https://localhost:8080/"
        },
        "id": "w97KVo3syNJk",
        "outputId": "98e48f03-5154-4704-e4aa-e93244cb9455"
      },
      "outputs": [
        {
          "data": {
            "text/plain": [
              "[(0.9372386932373047, 'chutneys'),\n",
              " (0.7289499640464783, 'dhaniya'),\n",
              " (0.7172319293022156, 'khajur'),\n",
              " (0.7093727588653564, 'imli'),\n",
              " (0.6905165314674377, 'pudina'),\n",
              " (0.6788460612297058, 'mavinakayi'),\n",
              " (0.660719633102417, 'pudi'),\n",
              " (0.65772944688797, 'mullu'),\n",
              " (0.652636706829071, 'dhani'),\n",
              " (0.6501569747924805, 'south')]"
            ]
          },
          "execution_count": 60,
          "metadata": {},
          "output_type": "execute_result"
        }
      ],
      "source": [
        "model.get_nearest_neighbors(\"chutney\")"
      ]
    },
    {
      "attachments": {},
      "cell_type": "markdown",
      "metadata": {
        "id": "GymAnIbyytlD"
      },
      "source": [
        "As we see this model has far better undersating about the custom dataset, for the original model."
      ]
    },
    {
      "attachments": {},
      "cell_type": "markdown",
      "metadata": {
        "id": "F3xtAI_GzMvS"
      },
      "source": [
        "For more about word representation in fastText see here: https://fasttext.cc/docs/en/unsupervised-tutorial.html"
      ]
    }
  ],
  "metadata": {
    "colab": {
      "provenance": []
    },
    "kernelspec": {
      "display_name": "Python 3",
      "name": "python3"
    },
    "language_info": {
      "name": "python"
    }
  },
  "nbformat": 4,
  "nbformat_minor": 0
}
