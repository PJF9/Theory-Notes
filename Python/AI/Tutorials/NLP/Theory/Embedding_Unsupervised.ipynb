{
  "nbformat": 4,
  "nbformat_minor": 0,
  "metadata": {
    "colab": {
      "provenance": []
    },
    "kernelspec": {
      "name": "python3",
      "display_name": "Python 3"
    },
    "language_info": {
      "name": "python"
    }
  },
  "cells": [
    {
      "cell_type": "markdown",
      "source": [
        "## Gensim\n",
        "\n",
        "In order to ease ourselves for creating the word embeddings we are going to use en external library: `gensim`.\n",
        "\n",
        "Gensim is an **open-source** library for **unsupervised** topic modeling, document indexing, retrieval by similarity, and other natural language processing functionalities.\n",
        "\n",
        "It's designed to **handle** large text collections using data streaming and incremental online algorithms, which differentiates it from most other machine learning software packages that target only in-memory processing.\n",
        "\n",
        "After computing the word embeddings we can load them into a `nn.Embedding` layer in order to solve the NLP task in Pytorch.\n",
        "\n",
        "\n",
        "For more information about gensim: https://radimrehurek.com/gensim/auto_examples/index.html"
      ],
      "metadata": {
        "id": "fE18OPKvyozi"
      }
    },
    {
      "cell_type": "code",
      "source": [
        "# Inorder to that notebook to word we need\n",
        "!pip install gensim -q\n",
        "!pip install python-Levenshtein -q"
      ],
      "metadata": {
        "id": "ZEUG32Ha6zxv"
      },
      "execution_count": 4,
      "outputs": []
    },
    {
      "cell_type": "code",
      "source": [
        "import gensim\n",
        "import pandas as pd\n",
        "\n",
        "from os import cpu_count"
      ],
      "metadata": {
        "id": "YP3pGYBduRSE"
      },
      "execution_count": 5,
      "outputs": []
    },
    {
      "cell_type": "markdown",
      "source": [
        "## Loading the Dataset"
      ],
      "metadata": {
        "id": "ERmuv9v2u7vy"
      }
    },
    {
      "cell_type": "code",
      "source": [
        "# We have to unzip the dataset: 'reviews_Cell_Phones_and_Accessories_5.json.gz'\n",
        "import gzip\n",
        "from pathlib import Path\n",
        "import shutil\n",
        "\n",
        "# Setting the path of the zip file\n",
        "zip_path = Path(\"/content/reviews_Cell_Phones_and_Accessories_5.json.gz\")\n",
        "dest_path = Path(\"/content/reviews_Cell_Phones_and_Accessories_5.json\")\n",
        "\n",
        "if not dest_path.is_file():\n",
        "    with gzip.open(zip_path, \"rb\") as zip_ref:\n",
        "        print(f\"[INFO] Unzipping dataset `{zip_path}` to `{dest_path}`...\")\n",
        "        with open(dest_path, \"wb\") as un_zip_ref:\n",
        "            shutil.copyfileobj(zip_ref, un_zip_ref)\n",
        "\n",
        "    print(f\"[INFO] Dataset succesfully downloaded to `{dest_path}`...\")\n",
        "else:\n",
        "    print(f\"[INFO] Dataset `{dest_path}` alerady exists...\")"
      ],
      "metadata": {
        "colab": {
          "base_uri": "https://localhost:8080/"
        },
        "id": "umC0UGmdu0vL",
        "outputId": "6c312931-1094-4bed-ecc5-da9bfacb1b91"
      },
      "execution_count": 6,
      "outputs": [
        {
          "output_type": "stream",
          "name": "stdout",
          "text": [
            "[INFO] Unzipping dataset `/content/reviews_Cell_Phones_and_Accessories_5.json.gz` to `/content/reviews_Cell_Phones_and_Accessories_5.json`...\n",
            "[INFO] Dataset succesfully downloaded to `/content/reviews_Cell_Phones_and_Accessories_5.json`...\n"
          ]
        }
      ]
    },
    {
      "cell_type": "code",
      "source": [
        "# Discovering the Dataset\n",
        "df = pd.read_json(dest_path, lines=True)\n",
        "\n",
        "df.head(3)"
      ],
      "metadata": {
        "colab": {
          "base_uri": "https://localhost:8080/",
          "height": 187
        },
        "id": "6AvxPBKkwuyl",
        "outputId": "e7ae8543-1f60-4440-82f6-b19c9bda1c48"
      },
      "execution_count": 7,
      "outputs": [
        {
          "output_type": "execute_result",
          "data": {
            "text/plain": [
              "       reviewerID        asin reviewerName helpful  \\\n",
              "0  A30TL5EWN6DFXT  120401325X    christina  [0, 0]   \n",
              "1   ASY55RVNIL0UD  120401325X     emily l.  [0, 0]   \n",
              "2  A2TMXE2AFO7ONB  120401325X        Erica  [0, 0]   \n",
              "\n",
              "                                          reviewText  overall  \\\n",
              "0  They look good and stick good! I just don't li...        4   \n",
              "1  These stickers work like the review says they ...        5   \n",
              "2  These are awesome and make my phone look so st...        5   \n",
              "\n",
              "                 summary  unixReviewTime   reviewTime  \n",
              "0             Looks Good      1400630400  05 21, 2014  \n",
              "1  Really great product.      1389657600  01 14, 2014  \n",
              "2         LOVE LOVE LOVE      1403740800  06 26, 2014  "
            ],
            "text/html": [
              "\n",
              "  <div id=\"df-f08e3bbf-9610-4df4-9649-9746d5ea080c\">\n",
              "    <div class=\"colab-df-container\">\n",
              "      <div>\n",
              "<style scoped>\n",
              "    .dataframe tbody tr th:only-of-type {\n",
              "        vertical-align: middle;\n",
              "    }\n",
              "\n",
              "    .dataframe tbody tr th {\n",
              "        vertical-align: top;\n",
              "    }\n",
              "\n",
              "    .dataframe thead th {\n",
              "        text-align: right;\n",
              "    }\n",
              "</style>\n",
              "<table border=\"1\" class=\"dataframe\">\n",
              "  <thead>\n",
              "    <tr style=\"text-align: right;\">\n",
              "      <th></th>\n",
              "      <th>reviewerID</th>\n",
              "      <th>asin</th>\n",
              "      <th>reviewerName</th>\n",
              "      <th>helpful</th>\n",
              "      <th>reviewText</th>\n",
              "      <th>overall</th>\n",
              "      <th>summary</th>\n",
              "      <th>unixReviewTime</th>\n",
              "      <th>reviewTime</th>\n",
              "    </tr>\n",
              "  </thead>\n",
              "  <tbody>\n",
              "    <tr>\n",
              "      <th>0</th>\n",
              "      <td>A30TL5EWN6DFXT</td>\n",
              "      <td>120401325X</td>\n",
              "      <td>christina</td>\n",
              "      <td>[0, 0]</td>\n",
              "      <td>They look good and stick good! I just don't li...</td>\n",
              "      <td>4</td>\n",
              "      <td>Looks Good</td>\n",
              "      <td>1400630400</td>\n",
              "      <td>05 21, 2014</td>\n",
              "    </tr>\n",
              "    <tr>\n",
              "      <th>1</th>\n",
              "      <td>ASY55RVNIL0UD</td>\n",
              "      <td>120401325X</td>\n",
              "      <td>emily l.</td>\n",
              "      <td>[0, 0]</td>\n",
              "      <td>These stickers work like the review says they ...</td>\n",
              "      <td>5</td>\n",
              "      <td>Really great product.</td>\n",
              "      <td>1389657600</td>\n",
              "      <td>01 14, 2014</td>\n",
              "    </tr>\n",
              "    <tr>\n",
              "      <th>2</th>\n",
              "      <td>A2TMXE2AFO7ONB</td>\n",
              "      <td>120401325X</td>\n",
              "      <td>Erica</td>\n",
              "      <td>[0, 0]</td>\n",
              "      <td>These are awesome and make my phone look so st...</td>\n",
              "      <td>5</td>\n",
              "      <td>LOVE LOVE LOVE</td>\n",
              "      <td>1403740800</td>\n",
              "      <td>06 26, 2014</td>\n",
              "    </tr>\n",
              "  </tbody>\n",
              "</table>\n",
              "</div>\n",
              "      <button class=\"colab-df-convert\" onclick=\"convertToInteractive('df-f08e3bbf-9610-4df4-9649-9746d5ea080c')\"\n",
              "              title=\"Convert this dataframe to an interactive table.\"\n",
              "              style=\"display:none;\">\n",
              "        \n",
              "  <svg xmlns=\"http://www.w3.org/2000/svg\" height=\"24px\"viewBox=\"0 0 24 24\"\n",
              "       width=\"24px\">\n",
              "    <path d=\"M0 0h24v24H0V0z\" fill=\"none\"/>\n",
              "    <path d=\"M18.56 5.44l.94 2.06.94-2.06 2.06-.94-2.06-.94-.94-2.06-.94 2.06-2.06.94zm-11 1L8.5 8.5l.94-2.06 2.06-.94-2.06-.94L8.5 2.5l-.94 2.06-2.06.94zm10 10l.94 2.06.94-2.06 2.06-.94-2.06-.94-.94-2.06-.94 2.06-2.06.94z\"/><path d=\"M17.41 7.96l-1.37-1.37c-.4-.4-.92-.59-1.43-.59-.52 0-1.04.2-1.43.59L10.3 9.45l-7.72 7.72c-.78.78-.78 2.05 0 2.83L4 21.41c.39.39.9.59 1.41.59.51 0 1.02-.2 1.41-.59l7.78-7.78 2.81-2.81c.8-.78.8-2.07 0-2.86zM5.41 20L4 18.59l7.72-7.72 1.47 1.35L5.41 20z\"/>\n",
              "  </svg>\n",
              "      </button>\n",
              "      \n",
              "  <style>\n",
              "    .colab-df-container {\n",
              "      display:flex;\n",
              "      flex-wrap:wrap;\n",
              "      gap: 12px;\n",
              "    }\n",
              "\n",
              "    .colab-df-convert {\n",
              "      background-color: #E8F0FE;\n",
              "      border: none;\n",
              "      border-radius: 50%;\n",
              "      cursor: pointer;\n",
              "      display: none;\n",
              "      fill: #1967D2;\n",
              "      height: 32px;\n",
              "      padding: 0 0 0 0;\n",
              "      width: 32px;\n",
              "    }\n",
              "\n",
              "    .colab-df-convert:hover {\n",
              "      background-color: #E2EBFA;\n",
              "      box-shadow: 0px 1px 2px rgba(60, 64, 67, 0.3), 0px 1px 3px 1px rgba(60, 64, 67, 0.15);\n",
              "      fill: #174EA6;\n",
              "    }\n",
              "\n",
              "    [theme=dark] .colab-df-convert {\n",
              "      background-color: #3B4455;\n",
              "      fill: #D2E3FC;\n",
              "    }\n",
              "\n",
              "    [theme=dark] .colab-df-convert:hover {\n",
              "      background-color: #434B5C;\n",
              "      box-shadow: 0px 1px 3px 1px rgba(0, 0, 0, 0.15);\n",
              "      filter: drop-shadow(0px 1px 2px rgba(0, 0, 0, 0.3));\n",
              "      fill: #FFFFFF;\n",
              "    }\n",
              "  </style>\n",
              "\n",
              "      <script>\n",
              "        const buttonEl =\n",
              "          document.querySelector('#df-f08e3bbf-9610-4df4-9649-9746d5ea080c button.colab-df-convert');\n",
              "        buttonEl.style.display =\n",
              "          google.colab.kernel.accessAllowed ? 'block' : 'none';\n",
              "\n",
              "        async function convertToInteractive(key) {\n",
              "          const element = document.querySelector('#df-f08e3bbf-9610-4df4-9649-9746d5ea080c');\n",
              "          const dataTable =\n",
              "            await google.colab.kernel.invokeFunction('convertToInteractive',\n",
              "                                                     [key], {});\n",
              "          if (!dataTable) return;\n",
              "\n",
              "          const docLinkHtml = 'Like what you see? Visit the ' +\n",
              "            '<a target=\"_blank\" href=https://colab.research.google.com/notebooks/data_table.ipynb>data table notebook</a>'\n",
              "            + ' to learn more about interactive tables.';\n",
              "          element.innerHTML = '';\n",
              "          dataTable['output_type'] = 'display_data';\n",
              "          await google.colab.output.renderOutput(dataTable, element);\n",
              "          const docLink = document.createElement('div');\n",
              "          docLink.innerHTML = docLinkHtml;\n",
              "          element.appendChild(docLink);\n",
              "        }\n",
              "      </script>\n",
              "    </div>\n",
              "  </div>\n",
              "  "
            ]
          },
          "metadata": {},
          "execution_count": 7
        }
      ]
    },
    {
      "cell_type": "markdown",
      "source": [
        "## Problem: We are going to create a Word2Vec embedding only using the `reviews` filed of the dataset."
      ],
      "metadata": {
        "id": "41N9MexuyCq9"
      }
    },
    {
      "cell_type": "code",
      "source": [
        "# The shape of the dataframe\n",
        "print(df.shape)"
      ],
      "metadata": {
        "colab": {
          "base_uri": "https://localhost:8080/"
        },
        "id": "LhxiEbWpyQLi",
        "outputId": "0609f24e-65cb-40e6-c197-a5b19f97e8d7"
      },
      "execution_count": 8,
      "outputs": [
        {
          "output_type": "stream",
          "name": "stdout",
          "text": [
            "(194439, 9)\n"
          ]
        }
      ]
    },
    {
      "cell_type": "code",
      "source": [
        "# The field we are interested in is the following:\n",
        "print(df.reviewText[0])\n",
        "print(df.reviewText[9])"
      ],
      "metadata": {
        "colab": {
          "base_uri": "https://localhost:8080/"
        },
        "id": "5uiCeALZyZCy",
        "outputId": "3db338c8-36b4-404c-a964-e7e8dfe5e94f"
      },
      "execution_count": 9,
      "outputs": [
        {
          "output_type": "stream",
          "name": "stdout",
          "text": [
            "They look good and stick good! I just don't like the rounded shape because I was always bumping it and Siri kept popping up and it was irritating. I just won't buy a product like this again\n",
            "This is a fantastic case. Very stylish and protects my phone. Easy access to all buttons and features, without any loss of phone reception. But most importantly, it double power, just as promised. Great buy\n"
          ]
        }
      ]
    },
    {
      "cell_type": "markdown",
      "source": [
        "### Preprocessing\n",
        "\n",
        "The first thing when working with huge loads of text data is to prepocessing them. The steps we follow are the following:\n",
        "1. Removing stop words and punctiations.\n",
        "2. Converting the corpus into lower case.\n",
        "3. Tokenize the corpus.\n",
        "\n",
        "-\n",
        "\n",
        "Those processing can be done using the function: `utils.simple_preprocess()`."
      ],
      "metadata": {
        "id": "3mjwcqk7zkFw"
      }
    },
    {
      "cell_type": "code",
      "source": [
        "# Let's see an example:\n",
        "processed_seq = gensim.utils.simple_preprocess(\"They look good and stick good! I just don't like the rounded shape because I was always bumping it and Siri kept popping up and it was irritating. I just won't buy a product like this again.\")\n",
        "\n",
        "print(processed_seq)"
      ],
      "metadata": {
        "colab": {
          "base_uri": "https://localhost:8080/"
        },
        "id": "jpnXdHOW0DYU",
        "outputId": "7fe54c63-8241-4d14-cb1a-720e7d5a5b5a"
      },
      "execution_count": 10,
      "outputs": [
        {
          "output_type": "stream",
          "name": "stdout",
          "text": [
            "['they', 'look', 'good', 'and', 'stick', 'good', 'just', 'don', 'like', 'the', 'rounded', 'shape', 'because', 'was', 'always', 'bumping', 'it', 'and', 'siri', 'kept', 'popping', 'up', 'and', 'it', 'was', 'irritating', 'just', 'won', 'buy', 'product', 'like', 'this', 'again']\n"
          ]
        }
      ]
    },
    {
      "cell_type": "markdown",
      "source": [
        "### Applying the preprocess function to the DataFrame"
      ],
      "metadata": {
        "id": "cuTyPGDg15uM"
      }
    },
    {
      "cell_type": "code",
      "source": [
        "review_text = df.reviewText.apply(gensim.utils.simple_preprocess)\n",
        "\n",
        "print(review_text)"
      ],
      "metadata": {
        "colab": {
          "base_uri": "https://localhost:8080/"
        },
        "id": "RnIF-Uey1ZWa",
        "outputId": "c6e06e7a-808c-4f59-a287-4becfddac99c"
      },
      "execution_count": 11,
      "outputs": [
        {
          "output_type": "stream",
          "name": "stdout",
          "text": [
            "0         [they, look, good, and, stick, good, just, don...\n",
            "1         [these, stickers, work, like, the, review, say...\n",
            "2         [these, are, awesome, and, make, my, phone, lo...\n",
            "3         [item, arrived, in, great, time, and, was, in,...\n",
            "4         [awesome, stays, on, and, looks, great, can, b...\n",
            "                                ...                        \n",
            "194434    [works, great, just, like, my, original, one, ...\n",
            "194435    [great, product, great, packaging, high, quali...\n",
            "194436    [this, is, great, cable, just, as, good, as, t...\n",
            "194437    [really, like, it, becasue, it, works, well, w...\n",
            "194438    [product, as, described, have, wasted, lot, of...\n",
            "Name: reviewText, Length: 194439, dtype: object\n"
          ]
        }
      ]
    },
    {
      "cell_type": "markdown",
      "source": [
        "### Creating a Word2Vec model from `gensim`\n",
        "\n",
        "For more informations: https://radimrehurek.com/gensim/models/word2vec.html"
      ],
      "metadata": {
        "id": "P30AQhml3I93"
      }
    },
    {
      "cell_type": "code",
      "source": [
        "model = gensim.models.Word2Vec(\n",
        "    window=10,           # The window size.\n",
        "    min_count=2,         # If we have a sentence with 2 words we don't use that sentence.\n",
        "    workers=cpu_count(), # The number of cores to train the model.\n",
        ")"
      ],
      "metadata": {
        "id": "0EEX6dR63NVI"
      },
      "execution_count": 12,
      "outputs": []
    },
    {
      "cell_type": "markdown",
      "source": [
        "### Creating the vocabulary of the model"
      ],
      "metadata": {
        "id": "UNkse_124Hll"
      }
    },
    {
      "cell_type": "code",
      "source": [
        "model.build_vocab(review_text, progress_per=1000)"
      ],
      "metadata": {
        "id": "riztqTda3tnI"
      },
      "execution_count": 13,
      "outputs": []
    },
    {
      "cell_type": "code",
      "source": [
        "# The total examples of the model:\n",
        "print(model.corpus_count)"
      ],
      "metadata": {
        "colab": {
          "base_uri": "https://localhost:8080/"
        },
        "id": "DWHNVbcb4swY",
        "outputId": "2c692b7c-74b6-40ba-8b70-1ff7f2d299f3"
      },
      "execution_count": 14,
      "outputs": [
        {
          "output_type": "stream",
          "name": "stdout",
          "text": [
            "194439\n"
          ]
        }
      ]
    },
    {
      "cell_type": "code",
      "source": [
        "# The epochs of the model:\n",
        "print(model.epochs)"
      ],
      "metadata": {
        "colab": {
          "base_uri": "https://localhost:8080/"
        },
        "id": "r1vI0VcB47LQ",
        "outputId": "dbc9d003-0cac-4aa1-9998-7983389a9a7e"
      },
      "execution_count": 15,
      "outputs": [
        {
          "output_type": "stream",
          "name": "stdout",
          "text": [
            "5\n"
          ]
        }
      ]
    },
    {
      "cell_type": "markdown",
      "source": [
        "### Training the model"
      ],
      "metadata": {
        "id": "JRleqwJz4bes"
      }
    },
    {
      "cell_type": "code",
      "source": [
        "model.train(review_text, total_examples=model.corpus_count, epochs=model.epochs)"
      ],
      "metadata": {
        "colab": {
          "base_uri": "https://localhost:8080/"
        },
        "id": "3tnsDPdp4Py5",
        "outputId": "301096b0-976b-4718-bee3-5ac647919391"
      },
      "execution_count": 16,
      "outputs": [
        {
          "output_type": "execute_result",
          "data": {
            "text/plain": [
              "(61507235, 83868975)"
            ]
          },
          "metadata": {},
          "execution_count": 16
        }
      ]
    },
    {
      "cell_type": "markdown",
      "source": [
        "### Saving the model"
      ],
      "metadata": {
        "id": "mMNSYVv-5KAC"
      }
    },
    {
      "cell_type": "code",
      "source": [
        "model.save(\"/content/word2vec_amazon_cell_accessories_reviews.model\")"
      ],
      "metadata": {
        "id": "5dWvtlEI5Ham"
      },
      "execution_count": 17,
      "outputs": []
    },
    {
      "cell_type": "markdown",
      "source": [
        "### Evaluating the model"
      ],
      "metadata": {
        "id": "DUDpJOYy5lSq"
      }
    },
    {
      "cell_type": "code",
      "source": [
        "# Getting the similar words of `bad` (wv stands for `word-vector`)\n",
        "model.wv.most_similar(\"bad\") "
      ],
      "metadata": {
        "colab": {
          "base_uri": "https://localhost:8080/"
        },
        "id": "pxPccNQi5pl3",
        "outputId": "ba4f717f-6a86-48b2-b3f2-5fe50ad94421"
      },
      "execution_count": 18,
      "outputs": [
        {
          "output_type": "execute_result",
          "data": {
            "text/plain": [
              "[('terrible', 0.696999728679657),\n",
              " ('shabby', 0.6316559314727783),\n",
              " ('horrible', 0.6010767817497253),\n",
              " ('good', 0.5787262320518494),\n",
              " ('awful', 0.5774445533752441),\n",
              " ('okay', 0.5509426593780518),\n",
              " ('ok', 0.5356559753417969),\n",
              " ('poor', 0.5151407718658447),\n",
              " ('sad', 0.5067817568778992),\n",
              " ('disappointing', 0.5061890482902527)]"
            ]
          },
          "metadata": {},
          "execution_count": 18
        }
      ]
    },
    {
      "cell_type": "code",
      "source": [
        "# We can see the cosine similarity of two words\n",
        "model.wv.similarity(w1=\"good\", w2=\"great\")"
      ],
      "metadata": {
        "colab": {
          "base_uri": "https://localhost:8080/"
        },
        "id": "aZ4qST-T6DAI",
        "outputId": "1bd0a944-90db-4761-cd05-1c298df32ca5"
      },
      "execution_count": 19,
      "outputs": [
        {
          "output_type": "execute_result",
          "data": {
            "text/plain": [
              "0.78583175"
            ]
          },
          "metadata": {},
          "execution_count": 19
        }
      ]
    },
    {
      "cell_type": "code",
      "source": [
        "model.wv.similarity(w1=\"good\", w2=\"product\")"
      ],
      "metadata": {
        "colab": {
          "base_uri": "https://localhost:8080/"
        },
        "id": "nysjkUko6L-4",
        "outputId": "35495daa-168d-4f62-cfef-b17ed95546e7"
      },
      "execution_count": 20,
      "outputs": [
        {
          "output_type": "execute_result",
          "data": {
            "text/plain": [
              "-0.028856898"
            ]
          },
          "metadata": {},
          "execution_count": 20
        }
      ]
    },
    {
      "cell_type": "markdown",
      "source": [
        "## How does the model can tell how two words are similar?\n",
        "\n",
        "The answer is through a math notion, `Cosine Similarity`\n",
        "\n",
        "Cosine Similarity is calculated using the formula:\n",
        "* $similarity = \\cfrac{emb1 \\cdot emb2}{|emb1||emb2|}$\n",
        "\n",
        "Where as `emb1` we denote the embedding vector of the first word and as `emb2` the embedding vector of the second word.\n",
        "\n",
        "Drived by this notion we can define the distance of two words as:\n",
        "* $distance = 1 - similarity$"
      ],
      "metadata": {
        "id": "l-mgFcEeofqj"
      }
    },
    {
      "cell_type": "code",
      "source": [
        "import numpy as np\n",
        "\n",
        "emb1 = model.wv[\"good\"]\n",
        "emb2 = model.wv[\"great\"]"
      ],
      "metadata": {
        "id": "Hf-Mn737ofU6"
      },
      "execution_count": 26,
      "outputs": []
    },
    {
      "cell_type": "code",
      "source": [
        "similarity = (emb1 @ emb2) / (np.linalg.norm(emb1) * np.linalg.norm(emb2))\n",
        "\n",
        "similarity"
      ],
      "metadata": {
        "colab": {
          "base_uri": "https://localhost:8080/"
        },
        "id": "GPK2dfMosmRX",
        "outputId": "d961cfc7-6684-4d5f-b35a-220fd383b8fa"
      },
      "execution_count": 27,
      "outputs": [
        {
          "output_type": "execute_result",
          "data": {
            "text/plain": [
              "0.78583175"
            ]
          },
          "metadata": {},
          "execution_count": 27
        }
      ]
    },
    {
      "cell_type": "markdown",
      "source": [
        "This results is the same by using the method `wv.similarity()`."
      ],
      "metadata": {
        "id": "TjtexUJDtJBZ"
      }
    }
  ]
}