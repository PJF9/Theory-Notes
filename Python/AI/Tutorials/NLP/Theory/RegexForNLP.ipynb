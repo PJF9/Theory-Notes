{
  "nbformat": 4,
  "nbformat_minor": 0,
  "metadata": {
    "colab": {
      "provenance": []
    },
    "kernelspec": {
      "name": "python3",
      "display_name": "Python 3"
    },
    "language_info": {
      "name": "python"
    }
  },
  "cells": [
    {
      "cell_type": "markdown",
      "source": [
        "## Basic Regular Expressions "
      ],
      "metadata": {
        "id": "obQwQO04sgv-"
      }
    },
    {
      "cell_type": "markdown",
      "source": [
        "- `^str`: starts with str\n",
        "- `str`: contains str\n",
        "- `str$`: ends with str\n",
        "- `^.s`: second letter s\n",
        "- `c*`: contains c chatacter as many times we want (including zero)\n",
        "- `c+`: contains c character as many times we want(with no zero)\n",
        "- `c?`: contains c max one time\n",
        "- `c{n}`: contains c exactly n times\n",
        "- `c{n,}`: contains c at least n times\n",
        "- `c{n, m}`: contains c at least n times and max m\n",
        "- `[abc]`: contains either a, or b, or c\n",
        "- `[^abc]`: is not containing a, b and c\n",
        "- `[0-9]`: contains one number in the range zero to nine (likewise [^0-9])\n",
        "- `[a-z]`: contains a character from a to z (likewise [^a-z]) (not case sensitive)\n",
        "- `str1|str2`: either str1 or else str2\n",
        "- `\\\\.`: contains `.`\n",
        "- `\\\\\\`: contains `\\` (`\\\\special_char`)\n",
        "- `\\\\d`: contains one digit"
      ],
      "metadata": {
        "id": "TjMILTXOkj1Q"
      }
    },
    {
      "cell_type": "markdown",
      "source": [
        "- `Class characters`\n",
        "- Syntax: WHERE string_column REGEXP `...[[:class:]]...`\n",
        "- Provides us more options with ranges\n",
        "    - `alnum`: alphanumeric characters\n",
        "    - `alpha`: alphabetic characters\n",
        "    - `blank`: Whitespace characters\n",
        "    - `digit`: Digit characters\n",
        "    - `lower/upper`: lower/upper case characters"
      ],
      "metadata": {
        "id": "54X9gW7clp9E"
      }
    },
    {
      "cell_type": "markdown",
      "source": [
        "## Regular Expressions in Python\n",
        "\n",
        "We can use Regular Expression in Python using the build-in module `re`\n",
        "The function that we have available are:\n",
        "* `findall(expr, text)`: Returns a list containing all matches in the text.\n",
        "* `search(expr, text)`: Returns a Match object if there is a match anywhere in the text.\n",
        "* `split(expr, text)`: Returns a list where the string has been split at each match (contains max_splits as another argument)\n",
        "* `sub(expr, repl, text)`: Replaces one or many matches with a string (conatins another argument for the total repalaces)"
      ],
      "metadata": {
        "id": "Uv5q9RO_smdo"
      }
    },
    {
      "cell_type": "markdown",
      "source": [
        "## Use in NLP\n",
        "\n",
        "\n",
        "Regular Expressions is all about matching patterns in a text and capture/return key information out of it.\n",
        "\n",
        "In many cases, when dealing with eazier problems we can solve them entirely using Regular Expression, not by creating models to solve them. We don't need to raise more obstactles to ourselfes.\n",
        "\n",
        "For example a simple NLP problem is a chatbot that base on what you asking it, it should suggest you some actions."
      ],
      "metadata": {
        "id": "HTatpSe8m4sZ"
      }
    },
    {
      "cell_type": "code",
      "source": [
        "import re\n",
        "\n",
        "# For creating regualr expression we can ease ourselfs using: https://regex101.com/"
      ],
      "metadata": {
        "id": "4X2Dv_qSltnr"
      },
      "execution_count": null,
      "outputs": []
    },
    {
      "cell_type": "markdown",
      "source": [
        "## Regular Expressions for ChatBots"
      ],
      "metadata": {
        "id": "Uy6zoan88CxL"
      }
    },
    {
      "cell_type": "markdown",
      "source": [
        "Let's say that base on some text, we want to extract the phone number, that can have 2 representations (encodings):\n",
        "1. 1234567891\n",
        "2. +12... 1234567891\n",
        "3. (123)-456-7891\n",
        "\n",
        "The same analysis can be done for various other examples, like mail format."
      ],
      "metadata": {
        "id": "KGqCvrP0q7po"
      }
    },
    {
      "cell_type": "code",
      "source": [
        "text_1 = \"I live in Greece and my phone number is 6972366276 and 6994044141\"\n",
        "pattern_1 = \"\\d{10}\"\n",
        "\n",
        "# To get the phone number of we use:\n",
        "phone_number = re.findall(pattern_1, text_1)\n",
        "\n",
        "print(phone_number)"
      ],
      "metadata": {
        "colab": {
          "base_uri": "https://localhost:8080/"
        },
        "id": "uhPhvyOUpv1j",
        "outputId": "560bc115-2932-4b36-f71d-1ac4491f5cbf"
      },
      "execution_count": null,
      "outputs": [
        {
          "output_type": "stream",
          "name": "stdout",
          "text": [
            "['6972366276', '6994044141']\n"
          ]
        }
      ]
    },
    {
      "cell_type": "code",
      "source": [
        "text_2 = \"I live in Greece and my phone number is +30 6972366276\"\n",
        "pattern_2 = \"\\+\\d{1,} \\d{10}\"\n",
        "\n",
        "# To get the phone number of we use:\n",
        "phone_number = re.findall(pattern_2, text_2)\n",
        "\n",
        "print(phone_number)"
      ],
      "metadata": {
        "colab": {
          "base_uri": "https://localhost:8080/"
        },
        "id": "m3uxnbJYwl5k",
        "outputId": "0f2b74ee-971b-4dac-c11c-ae31da78bf85"
      },
      "execution_count": null,
      "outputs": [
        {
          "output_type": "stream",
          "name": "stdout",
          "text": [
            "['+30 6972366276']\n"
          ]
        }
      ]
    },
    {
      "cell_type": "code",
      "source": [
        "text_3 = \"I live in Greece and my phone number is (697)-236-6276\"\n",
        "pattern_3 = \"\\(\\d{3}\\)-\\d{3}-\\d{4}\"\n",
        "\n",
        "# To get the phone number of we use:\n",
        "phone_number = re.findall(pattern_3, text_3)\n",
        "\n",
        "print(phone_number)"
      ],
      "metadata": {
        "colab": {
          "base_uri": "https://localhost:8080/"
        },
        "id": "Zv4h8uS4xoiy",
        "outputId": "f579b080-d9d4-4570-ead6-bf808c7fc0b9"
      },
      "execution_count": null,
      "outputs": [
        {
          "output_type": "stream",
          "name": "stdout",
          "text": [
            "['(697)-236-6276']\n"
          ]
        }
      ]
    },
    {
      "cell_type": "code",
      "source": [
        "# Capturing at the same time the different phone number formats\n",
        "\n",
        "text = text_1 + '\\n' + text_2 + '\\n' + text_3\n",
        "pattern = pattern_1 + '|' + pattern_2 + '|' + pattern_3\n",
        "\n",
        "phone_numbers = re.findall(pattern, text)\n",
        "\n",
        "print(phone_numbers)"
      ],
      "metadata": {
        "colab": {
          "base_uri": "https://localhost:8080/"
        },
        "id": "f6fVQ7fMyDDg",
        "outputId": "714b005d-174f-4219-e7a9-1289d83ef1dd"
      },
      "execution_count": null,
      "outputs": [
        {
          "output_type": "stream",
          "name": "stdout",
          "text": [
            "['6972366276', '6994044141', '+30 6972366276', '(697)-236-6276']\n"
          ]
        }
      ]
    },
    {
      "cell_type": "code",
      "source": [
        "# Giving a maching example for mail\n",
        "\n",
        "text_1 = \"pjf@gmail.com\"\n",
        "test_2 = \"pjf@gmail.gr\"\n",
        "text_3 = \"pjFloratos@gmail.com\"\n",
        "text_4 = \"p_jFlo@ntua.mail.gr\"\n",
        "text_5 = \"pjf009@yahoo.gr\"\n",
        "\n",
        "text = text_1 + '\\n' + text_2 + '\\n' + text_3 + '\\n' + text_4 + '\\n' + text_5\n",
        "base_pattern = \"[a-zA-Z0-9_]+@[a-z]+\\.\"\n",
        "pattern =  base_pattern + \"[a-z]+\" + '|' + base_pattern + \"[a-z]+\\.\" + \"[a-z]+\"\n",
        "\n",
        "email = re.findall(pattern, text)\n",
        "\n",
        "print(email)"
      ],
      "metadata": {
        "colab": {
          "base_uri": "https://localhost:8080/"
        },
        "id": "UdU7yBPZzoSO",
        "outputId": "07c3e0b5-d73f-42b7-f367-77433e4a8b13"
      },
      "execution_count": null,
      "outputs": [
        {
          "output_type": "stream",
          "name": "stdout",
          "text": [
            "['pjf@gmail.com', 'pjFloratos@gmail.com', 'pjFloratos@gmail.com', 'p_jFlo@ntua.mail', 'pjf009@yahoo.gr']\n"
          ]
        }
      ]
    },
    {
      "cell_type": "markdown",
      "source": [
        "Let's see a more difficult example:\n",
        "We have a text and we want to get the order number of some order."
      ],
      "metadata": {
        "id": "m7DkYsXP3aCZ"
      }
    },
    {
      "cell_type": "code",
      "source": [
        "text_1 = \"Hallo, I am having issue with my order that has the number 369369369\"\n",
        "text_2 = \"Hallo, I am having issue, 369369369 is my order\"\n",
        "\n",
        "text = text_1 + text_2 \n",
        "pattern = \"[oO]rder[^\\d]*(\\d{1,})\" + '|' + \"(\\d{1,})[^\\d]*[oO]rder\"\n",
        "\n",
        "# When using multiple '()' the mathing result with be a tuple with total elements the same as the number of '()'\n",
        "order = []\n",
        "match_1 = re.findall(pattern, text)\n",
        "for m in match_1:\n",
        "    if m[0] != '':\n",
        "        order.append(m[0])\n",
        "    if m[1] != '':\n",
        "        order.append(m[1])\n",
        "\n",
        "print(order)"
      ],
      "metadata": {
        "colab": {
          "base_uri": "https://localhost:8080/"
        },
        "id": "2fz-KBGB3XbO",
        "outputId": "b9609061-dbda-4559-d00a-14abe5534e09"
      },
      "execution_count": null,
      "outputs": [
        {
          "output_type": "stream",
          "name": "stdout",
          "text": [
            "['369369369', '369369369']\n"
          ]
        }
      ]
    },
    {
      "cell_type": "markdown",
      "source": [
        "## Regular Expression for Information Extraction"
      ],
      "metadata": {
        "id": "APeuGQ1U8Jtj"
      }
    },
    {
      "cell_type": "code",
      "source": [
        "text = \"\"\"Born\tElon Reeve Musk\n",
        "        June 28, 1971 (age 51)\n",
        "        Pretoria, Transvaal, South Africa\n",
        "Education University of Pennsylvania (BA, BS)\n",
        "Title\tFounder, CEO and chief engineer of SpaceX\n",
        "        CEO and product architect of Tesla, Inc.\n",
        "        CEO of Twitter, Inc.\n",
        "        President of the Musk Foundation\n",
        "        Founder of the Boring Company\n",
        "        Co-founder of Neuralink, OpenAI, Zip2 and X.com (now part of PayPal)\n",
        "Spouses\tJustine Wilson​\n",
        "        ​(m. 2000; div. 2008)​\n",
        "        Talulah Riley\n",
        "        ​(m. 2010; div. 2012)​\n",
        "        ​(m. 2013; div. 2016)​\n",
        "Partner  Grimes (2018–2021)[1]\n",
        "Children 10[a][3]\n",
        "Parents\t Errol Musk (father)\n",
        "         Maye Musk (mother)\n",
        "\"\"\"\n",
        "\n",
        "print(text)"
      ],
      "metadata": {
        "colab": {
          "base_uri": "https://localhost:8080/"
        },
        "id": "kzPuwuCy8Ndt",
        "outputId": "a86b1dbe-a020-46cb-be6a-b7ef20f2bc03"
      },
      "execution_count": null,
      "outputs": [
        {
          "output_type": "stream",
          "name": "stdout",
          "text": [
            "Born\tElon Reeve Musk\n",
            "        June 28, 1971 (age 51)\n",
            "        Pretoria, Transvaal, South Africa\n",
            "Education University of Pennsylvania (BA, BS)\n",
            "Title\tFounder, CEO and chief engineer of SpaceX\n",
            "        CEO and product architect of Tesla, Inc.\n",
            "        CEO of Twitter, Inc.\n",
            "        President of the Musk Foundation\n",
            "        Founder of the Boring Company\n",
            "        Co-founder of Neuralink, OpenAI, Zip2 and X.com (now part of PayPal)\n",
            "Spouses\tJustine Wilson​\n",
            "        ​(m. 2000; div. 2008)​\n",
            "        Talulah Riley\n",
            "        ​(m. 2010; div. 2012)​\n",
            "        ​(m. 2013; div. 2016)​\n",
            "Partner  Grimes (2018–2021)[1]\n",
            "Children 10[a][3]\n",
            "Parents\t Errol Musk (father)\n",
            "         Maye Musk (mother)\n",
            "\n"
          ]
        }
      ]
    },
    {
      "cell_type": "code",
      "source": [
        "# Getting some information"
      ],
      "metadata": {
        "id": "rNx0jncr-ON3"
      },
      "execution_count": null,
      "outputs": []
    },
    {
      "cell_type": "code",
      "source": [
        "age = re.findall(\"age (\\d{1,})\", text)\n",
        "\n",
        "print(age)"
      ],
      "metadata": {
        "colab": {
          "base_uri": "https://localhost:8080/"
        },
        "id": "7QwuRtxC86Gu",
        "outputId": "b403fc3a-289c-4895-dc8a-742348d828d4"
      },
      "execution_count": null,
      "outputs": [
        {
          "output_type": "stream",
          "name": "stdout",
          "text": [
            "['51']\n"
          ]
        }
      ]
    },
    {
      "cell_type": "code",
      "source": [
        "name = re.findall(\"^[a-zA-Z]*\\s+([^\\n]+)\", text)\n",
        "\n",
        "print(name)"
      ],
      "metadata": {
        "colab": {
          "base_uri": "https://localhost:8080/"
        },
        "id": "-gAOe4Is-PEK",
        "outputId": "7f2d885f-d6de-4b5a-895e-da4498c903af"
      },
      "execution_count": null,
      "outputs": [
        {
          "output_type": "stream",
          "name": "stdout",
          "text": [
            "['Elon Reeve Musk']\n"
          ]
        }
      ]
    },
    {
      "cell_type": "code",
      "source": [
        "birst_date = re.findall(\"[a-zA-Z]* \\d{2}, \\d{4}\", text)\n",
        "\n",
        "print(birst_date)"
      ],
      "metadata": {
        "colab": {
          "base_uri": "https://localhost:8080/"
        },
        "id": "cExYQQkz_fOb",
        "outputId": "7626c05b-f549-4a41-e93e-561fbdc9248d"
      },
      "execution_count": null,
      "outputs": [
        {
          "output_type": "stream",
          "name": "stdout",
          "text": [
            "['June 28, 1971']\n"
          ]
        }
      ]
    },
    {
      "cell_type": "code",
      "source": [
        "birst_place = re.findall(\".*\\)\\n\\s*([a-zA-Z]+, [a-zA-Z]+, [a-zA-Z]+)\", text)\n",
        "\n",
        "print(birst_place)"
      ],
      "metadata": {
        "colab": {
          "base_uri": "https://localhost:8080/"
        },
        "id": "5_aRyHCpAdsS",
        "outputId": "e38f93dd-c38e-4979-dc7b-944ec6f14a66"
      },
      "execution_count": null,
      "outputs": [
        {
          "output_type": "stream",
          "name": "stdout",
          "text": [
            "['Pretoria, Transvaal, South']\n"
          ]
        }
      ]
    }
  ]
}