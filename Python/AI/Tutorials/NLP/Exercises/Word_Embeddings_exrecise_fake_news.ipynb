{
  "nbformat": 4,
  "nbformat_minor": 0,
  "metadata": {
    "colab": {
      "provenance": []
    },
    "kernelspec": {
      "name": "python3",
      "display_name": "Python 3"
    },
    "language_info": {
      "name": "python"
    }
  },
  "cells": [
    {
      "cell_type": "code",
      "execution_count": 4,
      "metadata": {
        "colab": {
          "base_uri": "https://localhost:8080/"
        },
        "id": "Vgow0Wo4uxWx",
        "outputId": "45ed5e5d-85d8-4f76-c11a-c541ce4e11d5"
      },
      "outputs": [
        {
          "output_type": "stream",
          "name": "stdout",
          "text": [
            "2023-04-08 16:41:36.535361: W tensorflow/compiler/tf2tensorrt/utils/py_utils.cc:38] TF-TRT Warning: Could not find TensorRT\n",
            "\u001b[2K     \u001b[90m━━━━━━━━━━━━━━━━━━━━━━━━━━━━━━━━━━━━━━━\u001b[0m \u001b[32m587.7/587.7 MB\u001b[0m \u001b[31m2.7 MB/s\u001b[0m eta \u001b[36m0:00:00\u001b[0m\n",
            "\u001b[?25h\u001b[38;5;2m✔ Download and installation successful\u001b[0m\n",
            "You can now load the package via spacy.load('en_core_web_lg')\n"
          ]
        }
      ],
      "source": [
        "!python -m spacy download en_core_web_lg -q"
      ]
    },
    {
      "cell_type": "code",
      "source": [
        "import pandas as pd\n",
        "import numpy as np\n",
        "\n",
        "import spacy\n",
        "\n",
        "from sklearn.model_selection import train_test_split\n",
        "from sklearn.preprocessing import MinMaxScaler\n",
        "from sklearn.naive_bayes import MultinomialNB\n",
        "from sklearn.neighbors import KNeighborsClassifier\n",
        "from sklearn.ensemble import RandomForestClassifier\n",
        "from sklearn.metrics import classification_report"
      ],
      "metadata": {
        "id": "4d1bbTQmvg-S"
      },
      "execution_count": 70,
      "outputs": []
    },
    {
      "cell_type": "markdown",
      "source": [
        "## Initializing the NLP Object"
      ],
      "metadata": {
        "id": "LajcISRjyQpj"
      }
    },
    {
      "cell_type": "code",
      "source": [
        "nlp = spacy.load(\"en_core_web_lg\")\n",
        "\n",
        "nlp.pipe_names"
      ],
      "metadata": {
        "colab": {
          "base_uri": "https://localhost:8080/"
        },
        "id": "hem_33YWyTFX",
        "outputId": "3103faa8-2bd7-4f70-a658-69486d28aa21"
      },
      "execution_count": 35,
      "outputs": [
        {
          "output_type": "execute_result",
          "data": {
            "text/plain": [
              "['tok2vec', 'tagger', 'parser', 'attribute_ruler', 'lemmatizer', 'ner']"
            ]
          },
          "metadata": {},
          "execution_count": 35
        }
      ]
    },
    {
      "cell_type": "markdown",
      "source": [
        "## Loading the Dataset"
      ],
      "metadata": {
        "id": "FMKwsA4dvleM"
      }
    },
    {
      "cell_type": "code",
      "source": [
        "from pathlib import Path\n",
        "import zipfile\n",
        "\n",
        "\n",
        "zip_path = Path(\"/content/fake_news.zip\")\n",
        "dest_dir = Path(\"/content\")\n",
        "\n",
        "if not dest_dir.is_file():\n",
        "    with zipfile.ZipFile(zip_path, \"r\") as zip_ref:\n",
        "        print(f\"[INFO] Unzipping dataset `{zip_path}` to `{dest_dir}`...\")\n",
        "        zip_ref.extractall(dest_dir)\n",
        "\n",
        "print(f\"[INFO] Dataset succesfully downloaded to `{dest_dir}`..\")"
      ],
      "metadata": {
        "colab": {
          "base_uri": "https://localhost:8080/"
        },
        "id": "KeK4YnK6vkQo",
        "outputId": "866968d8-1c35-4e55-a98e-3817d8153019"
      },
      "execution_count": 8,
      "outputs": [
        {
          "output_type": "stream",
          "name": "stdout",
          "text": [
            "[INFO] Unzipping dataset `/content/fake_news.zip` to `/content`...\n",
            "[INFO] Dataset succesfully downloaded to `/content`..\n"
          ]
        }
      ]
    },
    {
      "cell_type": "markdown",
      "source": [
        "## Preprocessing the Dataset"
      ],
      "metadata": {
        "id": "SoxARWo3v8Iz"
      }
    },
    {
      "cell_type": "code",
      "source": [
        "# Lowering the number of sampling in the database because otherwise to converting to word embeddings will take a while\n",
        "df_true = pd.read_csv(dest_dir / \"True.csv\").sample(2000)\n",
        "df_fake = pd.read_csv(dest_dir / \"Fake.csv\").sample(2000)\n",
        "\n",
        "df_true[\"label\"] = df_true[\"text\"].apply(lambda x: 0)\n",
        "df_fake[\"label\"] = df_fake[\"text\"].apply(lambda x: 1)\n",
        "\n",
        "df_true = df_true[[\"text\", \"label\"]]\n",
        "df_fake = df_fake[[\"text\", \"label\"]]\n",
        "\n",
        "df = pd.concat([df_true, df_fake], ignore_index=True)\n",
        "\n",
        "df.head(3)"
      ],
      "metadata": {
        "colab": {
          "base_uri": "https://localhost:8080/",
          "height": 143
        },
        "id": "xY4pd0NDv5v1",
        "outputId": "56e0ea66-5f31-48fa-c90f-c4674e56532d"
      },
      "execution_count": 44,
      "outputs": [
        {
          "output_type": "execute_result",
          "data": {
            "text/plain": [
              "                                                text  label\n",
              "0  PARIS (Reuters) - France warned Iraq s Kurdish...      0\n",
              "1  VIENNA (Reuters) - The United States is pushin...      0\n",
              "2  WASHINGTON (Reuters) - Britain s top internal ...      0"
            ],
            "text/html": [
              "\n",
              "  <div id=\"df-a319a560-b8cb-48be-b67b-eacc58d27775\">\n",
              "    <div class=\"colab-df-container\">\n",
              "      <div>\n",
              "<style scoped>\n",
              "    .dataframe tbody tr th:only-of-type {\n",
              "        vertical-align: middle;\n",
              "    }\n",
              "\n",
              "    .dataframe tbody tr th {\n",
              "        vertical-align: top;\n",
              "    }\n",
              "\n",
              "    .dataframe thead th {\n",
              "        text-align: right;\n",
              "    }\n",
              "</style>\n",
              "<table border=\"1\" class=\"dataframe\">\n",
              "  <thead>\n",
              "    <tr style=\"text-align: right;\">\n",
              "      <th></th>\n",
              "      <th>text</th>\n",
              "      <th>label</th>\n",
              "    </tr>\n",
              "  </thead>\n",
              "  <tbody>\n",
              "    <tr>\n",
              "      <th>0</th>\n",
              "      <td>PARIS (Reuters) - France warned Iraq s Kurdish...</td>\n",
              "      <td>0</td>\n",
              "    </tr>\n",
              "    <tr>\n",
              "      <th>1</th>\n",
              "      <td>VIENNA (Reuters) - The United States is pushin...</td>\n",
              "      <td>0</td>\n",
              "    </tr>\n",
              "    <tr>\n",
              "      <th>2</th>\n",
              "      <td>WASHINGTON (Reuters) - Britain s top internal ...</td>\n",
              "      <td>0</td>\n",
              "    </tr>\n",
              "  </tbody>\n",
              "</table>\n",
              "</div>\n",
              "      <button class=\"colab-df-convert\" onclick=\"convertToInteractive('df-a319a560-b8cb-48be-b67b-eacc58d27775')\"\n",
              "              title=\"Convert this dataframe to an interactive table.\"\n",
              "              style=\"display:none;\">\n",
              "        \n",
              "  <svg xmlns=\"http://www.w3.org/2000/svg\" height=\"24px\"viewBox=\"0 0 24 24\"\n",
              "       width=\"24px\">\n",
              "    <path d=\"M0 0h24v24H0V0z\" fill=\"none\"/>\n",
              "    <path d=\"M18.56 5.44l.94 2.06.94-2.06 2.06-.94-2.06-.94-.94-2.06-.94 2.06-2.06.94zm-11 1L8.5 8.5l.94-2.06 2.06-.94-2.06-.94L8.5 2.5l-.94 2.06-2.06.94zm10 10l.94 2.06.94-2.06 2.06-.94-2.06-.94-.94-2.06-.94 2.06-2.06.94z\"/><path d=\"M17.41 7.96l-1.37-1.37c-.4-.4-.92-.59-1.43-.59-.52 0-1.04.2-1.43.59L10.3 9.45l-7.72 7.72c-.78.78-.78 2.05 0 2.83L4 21.41c.39.39.9.59 1.41.59.51 0 1.02-.2 1.41-.59l7.78-7.78 2.81-2.81c.8-.78.8-2.07 0-2.86zM5.41 20L4 18.59l7.72-7.72 1.47 1.35L5.41 20z\"/>\n",
              "  </svg>\n",
              "      </button>\n",
              "      \n",
              "  <style>\n",
              "    .colab-df-container {\n",
              "      display:flex;\n",
              "      flex-wrap:wrap;\n",
              "      gap: 12px;\n",
              "    }\n",
              "\n",
              "    .colab-df-convert {\n",
              "      background-color: #E8F0FE;\n",
              "      border: none;\n",
              "      border-radius: 50%;\n",
              "      cursor: pointer;\n",
              "      display: none;\n",
              "      fill: #1967D2;\n",
              "      height: 32px;\n",
              "      padding: 0 0 0 0;\n",
              "      width: 32px;\n",
              "    }\n",
              "\n",
              "    .colab-df-convert:hover {\n",
              "      background-color: #E2EBFA;\n",
              "      box-shadow: 0px 1px 2px rgba(60, 64, 67, 0.3), 0px 1px 3px 1px rgba(60, 64, 67, 0.15);\n",
              "      fill: #174EA6;\n",
              "    }\n",
              "\n",
              "    [theme=dark] .colab-df-convert {\n",
              "      background-color: #3B4455;\n",
              "      fill: #D2E3FC;\n",
              "    }\n",
              "\n",
              "    [theme=dark] .colab-df-convert:hover {\n",
              "      background-color: #434B5C;\n",
              "      box-shadow: 0px 1px 3px 1px rgba(0, 0, 0, 0.15);\n",
              "      filter: drop-shadow(0px 1px 2px rgba(0, 0, 0, 0.3));\n",
              "      fill: #FFFFFF;\n",
              "    }\n",
              "  </style>\n",
              "\n",
              "      <script>\n",
              "        const buttonEl =\n",
              "          document.querySelector('#df-a319a560-b8cb-48be-b67b-eacc58d27775 button.colab-df-convert');\n",
              "        buttonEl.style.display =\n",
              "          google.colab.kernel.accessAllowed ? 'block' : 'none';\n",
              "\n",
              "        async function convertToInteractive(key) {\n",
              "          const element = document.querySelector('#df-a319a560-b8cb-48be-b67b-eacc58d27775');\n",
              "          const dataTable =\n",
              "            await google.colab.kernel.invokeFunction('convertToInteractive',\n",
              "                                                     [key], {});\n",
              "          if (!dataTable) return;\n",
              "\n",
              "          const docLinkHtml = 'Like what you see? Visit the ' +\n",
              "            '<a target=\"_blank\" href=https://colab.research.google.com/notebooks/data_table.ipynb>data table notebook</a>'\n",
              "            + ' to learn more about interactive tables.';\n",
              "          element.innerHTML = '';\n",
              "          dataTable['output_type'] = 'display_data';\n",
              "          await google.colab.output.renderOutput(dataTable, element);\n",
              "          const docLink = document.createElement('div');\n",
              "          docLink.innerHTML = docLinkHtml;\n",
              "          element.appendChild(docLink);\n",
              "        }\n",
              "      </script>\n",
              "    </div>\n",
              "  </div>\n",
              "  "
            ]
          },
          "metadata": {},
          "execution_count": 44
        }
      ]
    },
    {
      "cell_type": "code",
      "source": [
        "print(f\"Real News:\\n{df_true.value_counts('label')}\")"
      ],
      "metadata": {
        "colab": {
          "base_uri": "https://localhost:8080/"
        },
        "id": "p3gSEOejxB_z",
        "outputId": "e4214d4d-809f-4525-de6d-b6f4959e5aff"
      },
      "execution_count": 45,
      "outputs": [
        {
          "output_type": "stream",
          "name": "stdout",
          "text": [
            "Real News:\n",
            "label\n",
            "0    2000\n",
            "dtype: int64\n"
          ]
        }
      ]
    },
    {
      "cell_type": "code",
      "source": [
        "print(f\"Fake News:\\n{df_fake.value_counts('label')}\")"
      ],
      "metadata": {
        "colab": {
          "base_uri": "https://localhost:8080/"
        },
        "id": "57BPrixoxrZK",
        "outputId": "884e9a34-e323-462d-957c-11e6c8a00b8e"
      },
      "execution_count": 46,
      "outputs": [
        {
          "output_type": "stream",
          "name": "stdout",
          "text": [
            "Fake News:\n",
            "label\n",
            "1    2000\n",
            "dtype: int64\n"
          ]
        }
      ]
    },
    {
      "cell_type": "code",
      "source": [
        "print(f\"News: \\n{df.value_counts('label')}\")"
      ],
      "metadata": {
        "colab": {
          "base_uri": "https://localhost:8080/"
        },
        "id": "G7Exn6Jrx5hn",
        "outputId": "cd12a33b-d3e4-45b5-d089-f8f0138c2fad"
      },
      "execution_count": 47,
      "outputs": [
        {
          "output_type": "stream",
          "name": "stdout",
          "text": [
            "News: \n",
            "label\n",
            "0    2000\n",
            "1    2000\n",
            "dtype: int64\n"
          ]
        }
      ]
    },
    {
      "cell_type": "markdown",
      "source": [
        "## Converting Text Tokens into Vectors"
      ],
      "metadata": {
        "id": "1JzhUq4eymcr"
      }
    },
    {
      "cell_type": "code",
      "source": [
        "df[\"text_embedding\"] = df[\"text\"].apply(lambda x: nlp(x).vector)"
      ],
      "metadata": {
        "id": "Rea9Spb2x5v3"
      },
      "execution_count": 48,
      "outputs": []
    },
    {
      "cell_type": "code",
      "source": [
        "df.head(3)"
      ],
      "metadata": {
        "colab": {
          "base_uri": "https://localhost:8080/",
          "height": 143
        },
        "id": "7V48Q7qVzDSJ",
        "outputId": "5f454ed8-d1c1-477c-97d7-ef0f8cefc313"
      },
      "execution_count": 50,
      "outputs": [
        {
          "output_type": "execute_result",
          "data": {
            "text/plain": [
              "                                                text  label  \\\n",
              "0  PARIS (Reuters) - France warned Iraq s Kurdish...      0   \n",
              "1  VIENNA (Reuters) - The United States is pushin...      0   \n",
              "2  WASHINGTON (Reuters) - Britain s top internal ...      0   \n",
              "\n",
              "                                      text_embedding  \n",
              "0  [-2.4732926, 0.6465163, -1.6472088, 0.88335335...  \n",
              "1  [-1.409202, 1.269841, -1.9191968, 0.56275773, ...  \n",
              "2  [-1.530828, 0.027151464, -1.8907039, 0.5134016...  "
            ],
            "text/html": [
              "\n",
              "  <div id=\"df-51885c69-775a-4bbf-b2ee-d6cc43038a13\">\n",
              "    <div class=\"colab-df-container\">\n",
              "      <div>\n",
              "<style scoped>\n",
              "    .dataframe tbody tr th:only-of-type {\n",
              "        vertical-align: middle;\n",
              "    }\n",
              "\n",
              "    .dataframe tbody tr th {\n",
              "        vertical-align: top;\n",
              "    }\n",
              "\n",
              "    .dataframe thead th {\n",
              "        text-align: right;\n",
              "    }\n",
              "</style>\n",
              "<table border=\"1\" class=\"dataframe\">\n",
              "  <thead>\n",
              "    <tr style=\"text-align: right;\">\n",
              "      <th></th>\n",
              "      <th>text</th>\n",
              "      <th>label</th>\n",
              "      <th>text_embedding</th>\n",
              "    </tr>\n",
              "  </thead>\n",
              "  <tbody>\n",
              "    <tr>\n",
              "      <th>0</th>\n",
              "      <td>PARIS (Reuters) - France warned Iraq s Kurdish...</td>\n",
              "      <td>0</td>\n",
              "      <td>[-2.4732926, 0.6465163, -1.6472088, 0.88335335...</td>\n",
              "    </tr>\n",
              "    <tr>\n",
              "      <th>1</th>\n",
              "      <td>VIENNA (Reuters) - The United States is pushin...</td>\n",
              "      <td>0</td>\n",
              "      <td>[-1.409202, 1.269841, -1.9191968, 0.56275773, ...</td>\n",
              "    </tr>\n",
              "    <tr>\n",
              "      <th>2</th>\n",
              "      <td>WASHINGTON (Reuters) - Britain s top internal ...</td>\n",
              "      <td>0</td>\n",
              "      <td>[-1.530828, 0.027151464, -1.8907039, 0.5134016...</td>\n",
              "    </tr>\n",
              "  </tbody>\n",
              "</table>\n",
              "</div>\n",
              "      <button class=\"colab-df-convert\" onclick=\"convertToInteractive('df-51885c69-775a-4bbf-b2ee-d6cc43038a13')\"\n",
              "              title=\"Convert this dataframe to an interactive table.\"\n",
              "              style=\"display:none;\">\n",
              "        \n",
              "  <svg xmlns=\"http://www.w3.org/2000/svg\" height=\"24px\"viewBox=\"0 0 24 24\"\n",
              "       width=\"24px\">\n",
              "    <path d=\"M0 0h24v24H0V0z\" fill=\"none\"/>\n",
              "    <path d=\"M18.56 5.44l.94 2.06.94-2.06 2.06-.94-2.06-.94-.94-2.06-.94 2.06-2.06.94zm-11 1L8.5 8.5l.94-2.06 2.06-.94-2.06-.94L8.5 2.5l-.94 2.06-2.06.94zm10 10l.94 2.06.94-2.06 2.06-.94-2.06-.94-.94-2.06-.94 2.06-2.06.94z\"/><path d=\"M17.41 7.96l-1.37-1.37c-.4-.4-.92-.59-1.43-.59-.52 0-1.04.2-1.43.59L10.3 9.45l-7.72 7.72c-.78.78-.78 2.05 0 2.83L4 21.41c.39.39.9.59 1.41.59.51 0 1.02-.2 1.41-.59l7.78-7.78 2.81-2.81c.8-.78.8-2.07 0-2.86zM5.41 20L4 18.59l7.72-7.72 1.47 1.35L5.41 20z\"/>\n",
              "  </svg>\n",
              "      </button>\n",
              "      \n",
              "  <style>\n",
              "    .colab-df-container {\n",
              "      display:flex;\n",
              "      flex-wrap:wrap;\n",
              "      gap: 12px;\n",
              "    }\n",
              "\n",
              "    .colab-df-convert {\n",
              "      background-color: #E8F0FE;\n",
              "      border: none;\n",
              "      border-radius: 50%;\n",
              "      cursor: pointer;\n",
              "      display: none;\n",
              "      fill: #1967D2;\n",
              "      height: 32px;\n",
              "      padding: 0 0 0 0;\n",
              "      width: 32px;\n",
              "    }\n",
              "\n",
              "    .colab-df-convert:hover {\n",
              "      background-color: #E2EBFA;\n",
              "      box-shadow: 0px 1px 2px rgba(60, 64, 67, 0.3), 0px 1px 3px 1px rgba(60, 64, 67, 0.15);\n",
              "      fill: #174EA6;\n",
              "    }\n",
              "\n",
              "    [theme=dark] .colab-df-convert {\n",
              "      background-color: #3B4455;\n",
              "      fill: #D2E3FC;\n",
              "    }\n",
              "\n",
              "    [theme=dark] .colab-df-convert:hover {\n",
              "      background-color: #434B5C;\n",
              "      box-shadow: 0px 1px 3px 1px rgba(0, 0, 0, 0.15);\n",
              "      filter: drop-shadow(0px 1px 2px rgba(0, 0, 0, 0.3));\n",
              "      fill: #FFFFFF;\n",
              "    }\n",
              "  </style>\n",
              "\n",
              "      <script>\n",
              "        const buttonEl =\n",
              "          document.querySelector('#df-51885c69-775a-4bbf-b2ee-d6cc43038a13 button.colab-df-convert');\n",
              "        buttonEl.style.display =\n",
              "          google.colab.kernel.accessAllowed ? 'block' : 'none';\n",
              "\n",
              "        async function convertToInteractive(key) {\n",
              "          const element = document.querySelector('#df-51885c69-775a-4bbf-b2ee-d6cc43038a13');\n",
              "          const dataTable =\n",
              "            await google.colab.kernel.invokeFunction('convertToInteractive',\n",
              "                                                     [key], {});\n",
              "          if (!dataTable) return;\n",
              "\n",
              "          const docLinkHtml = 'Like what you see? Visit the ' +\n",
              "            '<a target=\"_blank\" href=https://colab.research.google.com/notebooks/data_table.ipynb>data table notebook</a>'\n",
              "            + ' to learn more about interactive tables.';\n",
              "          element.innerHTML = '';\n",
              "          dataTable['output_type'] = 'display_data';\n",
              "          await google.colab.output.renderOutput(dataTable, element);\n",
              "          const docLink = document.createElement('div');\n",
              "          docLink.innerHTML = docLinkHtml;\n",
              "          element.appendChild(docLink);\n",
              "        }\n",
              "      </script>\n",
              "    </div>\n",
              "  </div>\n",
              "  "
            ]
          },
          "metadata": {},
          "execution_count": 50
        }
      ]
    },
    {
      "cell_type": "markdown",
      "source": [
        "## Splitting the Dataset into Training and Testing Sets"
      ],
      "metadata": {
        "id": "xTDq_Rfhz06g"
      }
    },
    {
      "cell_type": "code",
      "source": [
        "test_prop = 0.2\n",
        "\n",
        "x_train, x_test, y_train, y_test = train_test_split(\n",
        "    df[\"text_embedding\"].values,\n",
        "    df[\"label\"].values,\n",
        "    test_size = test_prop,\n",
        "    stratify = df[\"label\"]\n",
        ")\n",
        "\n",
        "print(len(x_train), len(y_train), len(x_test), len(y_test))"
      ],
      "metadata": {
        "colab": {
          "base_uri": "https://localhost:8080/"
        },
        "id": "6_ZxpgcKzq95",
        "outputId": "d657a468-5c8b-4be1-bf60-54148c3520d3"
      },
      "execution_count": 58,
      "outputs": [
        {
          "output_type": "stream",
          "name": "stdout",
          "text": [
            "3200 3200 800 800\n"
          ]
        }
      ]
    },
    {
      "cell_type": "code",
      "source": [
        "x_test.shape"
      ],
      "metadata": {
        "colab": {
          "base_uri": "https://localhost:8080/"
        },
        "id": "dCHk55sk0PQ7",
        "outputId": "0b937f57-0757-425c-b2c0-3e00fd6c7426"
      },
      "execution_count": 59,
      "outputs": [
        {
          "output_type": "execute_result",
          "data": {
            "text/plain": [
              "(800,)"
            ]
          },
          "metadata": {},
          "execution_count": 59
        }
      ]
    },
    {
      "cell_type": "code",
      "source": [
        "x_test[:3]"
      ],
      "metadata": {
        "colab": {
          "base_uri": "https://localhost:8080/"
        },
        "id": "Yycl48Bk1mfv",
        "outputId": "72528a44-1cf0-4e0e-b298-b722d2c54b2d"
      },
      "execution_count": 64,
      "outputs": [
        {
          "output_type": "execute_result",
          "data": {
            "text/plain": [
              "array([array([-1.6990374 ,  0.18641396, -1.4847157 ,  1.1159774 ,  4.6885962 ,\n",
              "               0.3971445 ,  0.2959907 ,  3.0855658 ,  0.26250097, -1.0339226 ,\n",
              "               4.5892897 ,  1.3528904 , -3.0136588 ,  0.06644724,  0.23824485,\n",
              "               2.157219  ,  1.2216797 ,  1.1496644 , -0.7026303 , -1.3353778 ,\n",
              "               1.4537326 , -1.0766957 , -1.2396569 ,  0.17876521,  0.9904647 ,\n",
              "              -1.3598564 , -2.1152465 , -1.0778198 , -0.01128398,  0.25166872,\n",
              "               0.9824257 ,  0.17000568, -0.49195516, -1.5938494 , -2.719854  ,\n",
              "              -1.3060285 , -1.0875258 ,  1.0797911 , -0.17999567,  0.25881505,\n",
              "               0.03923338, -0.00992599, -0.3811454 ,  0.2707873 , -1.4720716 ,\n",
              "               0.71864104, -0.11944588, -1.863133  ,  0.20205991,  1.5312563 ,\n",
              "              -1.5083288 ,  1.5934111 ,  0.27874517, -4.0916333 , -0.14249617,\n",
              "               0.8220975 ,  0.24579127,  0.27426612,  0.51664245,  0.14226678,\n",
              "              -0.17370103, -1.1802952 ,  0.21101147, -1.0742229 ,  2.1240957 ,\n",
              "               1.1622391 , -2.422024  , -1.8329774 ,  0.9599231 ,  1.5943797 ,\n",
              "              -0.81076103, -0.47576886, -2.3671446 , -0.02221287, -0.0137245 ,\n",
              "               1.3976592 , -2.4739919 ,  2.102927  , -2.294448  , -0.2011471 ,\n",
              "              -2.8198047 , -0.37054616,  0.40423012,  1.5882396 ,  2.567062  ,\n",
              "              -0.09773117, -2.0869856 , -3.1262796 ,  0.60300946, -1.0993127 ,\n",
              "              -0.84175295, -0.12941287,  1.6153314 , -2.4118423 ,  0.49939248,\n",
              "              -1.0268313 ,  0.91493917, -0.61185324,  1.0666279 ,  1.8625711 ,\n",
              "               2.1971505 ,  0.8663896 ,  2.5349047 ,  2.8445702 , -0.46004057,\n",
              "               3.2767155 ,  1.2099581 , -1.5746001 , -0.18616132, -3.355854  ,\n",
              "               1.3155377 ,  0.56502175, -2.1869106 ,  0.37257424,  1.424576  ,\n",
              "               0.665984  , -0.5109754 , -0.2839289 , -0.38038707, -0.9748757 ,\n",
              "               0.08459306, -2.9143603 ,  1.3260696 ,  0.34700927, -0.76817536,\n",
              "              -3.5383184 ,  1.0652561 , -2.3059785 ,  2.7282948 , -1.3195158 ,\n",
              "              -2.5490553 ,  0.08641973,  3.6343906 , -0.20830923,  0.05305734,\n",
              "               0.79572195, -1.7959925 , -0.11379924,  1.5773659 , -1.7056317 ,\n",
              "              -1.5251324 , -0.8593612 ,  0.25375655,  1.5913916 ,  1.5216721 ,\n",
              "               1.5010569 , -4.118777  ,  0.25896236,  1.3429601 ,  0.9213027 ,\n",
              "              -0.11175012,  2.2263696 ,  0.03407321,  1.7776215 , -2.0625386 ,\n",
              "               0.6206006 ,  1.6765565 , -0.641387  , -0.837432  , -1.1248157 ,\n",
              "              -0.29935974, -2.314448  , -0.16829728,  2.1686842 , -2.760303  ,\n",
              "              -1.6380782 , -2.8922632 ,  0.9831913 ,  0.48335236,  0.28626737,\n",
              "               0.65962195, -0.31865427,  1.5956496 , -0.00953252,  0.75082666,\n",
              "               0.7224557 ,  0.06409405, -0.28831318, -1.9340862 , -1.0869042 ,\n",
              "              -0.83668995,  0.25498724,  0.35528734, -0.15503593, -0.9587465 ,\n",
              "               0.89278245, -1.0595194 ,  0.91622037,  1.0040687 ,  0.8100338 ,\n",
              "               0.583412  , -2.0360053 ,  0.30462804, -1.5379188 ,  0.62350005,\n",
              "               0.76933575, -3.0537941 , -0.49230048,  0.31297976,  0.51321566,\n",
              "              -0.9021306 , -1.6496837 , -0.20996346, -1.8419491 ,  3.3018234 ,\n",
              "               0.8898617 , -3.2633824 ,  1.7983131 , -0.57632124, -0.1846048 ,\n",
              "               1.6893722 ,  1.2665918 , -1.520115  ,  0.7720136 ,  1.1118139 ,\n",
              "               2.3549252 ,  0.649531  , -2.9318855 ,  0.13316983,  0.03811105,\n",
              "              -1.5153933 ,  1.3552866 , -1.0953891 ,  0.13411869, -2.253454  ,\n",
              "              -0.50048083,  0.5896319 ,  2.8635015 ,  0.8125132 ,  0.31381813,\n",
              "               3.4776294 , -1.6257693 , -0.4755387 ,  1.7285781 ,  1.8833735 ,\n",
              "               1.3039577 , -0.8145707 , -0.02799111, -0.38758847, -0.47095636,\n",
              "              -0.4241504 ,  0.5161773 ,  1.8299415 , -0.29054996, -1.9085681 ,\n",
              "               1.6248747 , -2.0639153 ,  0.23817363, -0.77808964,  2.5980663 ,\n",
              "               1.1734613 , -2.7304997 , -4.5054517 , -0.80063885,  0.7302766 ,\n",
              "              -2.0121965 ,  1.6149571 , -1.2282764 ,  0.06548937,  0.74271584,\n",
              "              -0.17146784,  4.000769  ,  2.9961963 ,  1.9788668 ,  1.3002206 ,\n",
              "              -0.48192477,  0.05730246,  1.6955078 , -2.4121706 ,  0.09271581,\n",
              "               0.08900048,  0.16155116,  0.89190775, -1.9949481 ,  1.2314931 ,\n",
              "              -0.7243453 ,  1.5555468 , -2.158931  , -0.14005321,  1.2711976 ,\n",
              "               2.0227761 ,  0.49062586,  0.3469941 ,  0.5538055 ,  1.5141908 ,\n",
              "              -0.46941215,  0.13366373,  1.6053776 , -0.47988024,  0.5871071 ,\n",
              "               1.29249   , -0.47723553, -0.05389617, -0.28643924, -1.5068638 ,\n",
              "               1.4588206 ,  1.5135325 , -1.9148797 , -2.0197136 ,  1.235977  ],\n",
              "             dtype=float32)                                                    ,\n",
              "       array([-2.13190627e+00,  1.02281787e-01, -2.09260273e+00,  2.98992932e-01,\n",
              "               4.01152229e+00,  3.06805134e-01,  4.04689342e-01,  3.98209572e+00,\n",
              "               1.80349022e-01, -1.48152506e+00,  4.98256302e+00,  7.18086004e-01,\n",
              "              -2.55861521e+00,  1.16722107e+00,  6.25759959e-01,  2.03440619e+00,\n",
              "               7.35945046e-01,  3.23097795e-01, -1.40205920e+00, -1.72891355e+00,\n",
              "               1.31568098e+00, -6.60942972e-01, -1.33303642e+00, -4.28477108e-01,\n",
              "              -2.49725178e-01, -1.32181859e+00, -2.02838111e+00, -1.00762105e+00,\n",
              "              -2.21205473e-01,  1.02035761e+00,  7.26543486e-01, -3.72150471e-03,\n",
              "              -6.88406646e-01, -1.49312353e+00, -2.38944721e+00, -6.44697309e-01,\n",
              "              -9.82976317e-01,  9.09637451e-01,  7.04923570e-01,  3.39844555e-01,\n",
              "              -8.28608777e-03,  1.84091344e-01, -4.23904330e-01,  4.48850840e-01,\n",
              "              -1.63075233e+00,  1.32829797e+00,  6.14851177e-01, -2.55390596e+00,\n",
              "              -6.25514627e-01,  1.52940798e+00, -1.43569875e+00,  1.46854961e+00,\n",
              "               5.64139664e-01, -4.22343493e+00, -6.18316174e-01,  5.28270721e-01,\n",
              "              -2.91847795e-01,  8.67585599e-01,  7.37106621e-01, -2.57110536e-01,\n",
              "               8.63082528e-01, -1.09727168e+00,  3.34748656e-01, -1.24438262e+00,\n",
              "               2.32748771e+00,  1.37320244e+00, -2.13397551e+00, -2.22011209e+00,\n",
              "               8.72196198e-01,  2.15101004e+00, -3.84774774e-01, -8.05745900e-01,\n",
              "              -2.12409282e+00, -1.79467171e-01, -3.99845392e-01,  1.09085941e+00,\n",
              "              -3.07324719e+00,  2.08744645e+00, -2.63208389e+00,  4.49346274e-01,\n",
              "              -3.51166248e+00,  2.91935429e-02,  9.77653265e-01,  6.72124982e-01,\n",
              "               2.40045285e+00, -1.57776877e-01, -1.98497236e+00, -2.78109717e+00,\n",
              "               8.88084888e-01, -6.75565302e-01, -7.55588353e-01, -4.11104113e-01,\n",
              "               2.05375957e+00, -3.54680061e+00,  4.66136009e-01, -1.35888040e+00,\n",
              "               9.70006227e-01, -9.04557943e-01,  1.21227574e+00,  1.48235095e+00,\n",
              "               2.05213094e+00,  1.08604276e+00,  2.26875234e+00,  2.80518436e+00,\n",
              "              -3.79261702e-01,  3.68258381e+00,  9.31013077e-02, -2.18783784e+00,\n",
              "               2.40393221e-01, -2.89082694e+00,  9.27562773e-01,  6.72255635e-01,\n",
              "              -1.27936280e+00,  8.99560034e-01,  7.94638753e-01,  2.91384846e-01,\n",
              "              -7.57971168e-01, -2.13146955e-02, -1.25295296e-01, -1.17457652e+00,\n",
              "              -5.15631080e-01, -2.76189494e+00,  8.61681700e-01,  1.25254571e+00,\n",
              "              -1.23905754e+00, -2.77792883e+00,  8.58637810e-01, -2.04238415e+00,\n",
              "               2.68653011e+00, -1.15187037e+00, -2.26673770e+00,  1.20804012e-01,\n",
              "               3.30976272e+00, -5.07925868e-01,  3.29320394e-02,  6.05523825e-01,\n",
              "              -1.17634463e+00, -9.33138132e-01,  2.33990097e+00, -1.89271951e+00,\n",
              "              -1.76977742e+00, -6.29915059e-01,  4.30275232e-01,  1.29471242e+00,\n",
              "               8.72679651e-01,  4.74159360e-01, -3.02885056e+00, -6.35541260e-01,\n",
              "               1.04745829e+00,  1.27758384e+00, -1.92640722e-03,  1.87140632e+00,\n",
              "               1.37318224e-01,  1.94568110e+00, -1.18497741e+00,  9.45325673e-01,\n",
              "               2.19083357e+00, -6.31809890e-01, -2.00215435e+00, -1.26456869e+00,\n",
              "              -1.07021354e-01, -2.45196867e+00, -2.22183242e-01,  1.19163847e+00,\n",
              "              -2.09364319e+00, -1.29965377e+00, -3.52643466e+00,  1.64733171e+00,\n",
              "              -3.00620198e-01,  5.54346442e-01,  8.69994640e-01, -2.24520087e-01,\n",
              "               1.92755461e+00,  6.06164336e-01,  1.48275185e+00,  1.54679164e-01,\n",
              "              -5.03973484e-01, -2.81806290e-03, -2.19758916e+00, -1.19677031e+00,\n",
              "              -1.49627435e+00,  3.48410636e-01,  1.00257361e+00, -8.45480487e-02,\n",
              "              -9.02111113e-01,  7.57043302e-01, -1.70266616e+00, -4.02886331e-01,\n",
              "               7.93562293e-01,  2.17265129e+00, -2.60840118e-01, -1.59497774e+00,\n",
              "              -2.27285400e-01, -1.31476247e+00,  5.51724017e-01,  2.62180448e-01,\n",
              "              -2.39084339e+00, -4.07562643e-01,  3.00411135e-01,  8.12857866e-01,\n",
              "              -8.17810059e-01, -1.25521612e+00, -1.98290899e-01, -1.90452778e+00,\n",
              "               2.46798706e+00,  8.53276432e-01, -3.41422677e+00,  1.24851871e+00,\n",
              "              -4.11824077e-01, -3.21191281e-01,  1.13171959e+00,  7.98499763e-01,\n",
              "              -1.22909558e+00,  1.82244182e+00,  4.44926828e-01,  2.29471684e+00,\n",
              "               2.77704984e-01, -2.13315439e+00, -3.83915484e-01,  2.81446278e-01,\n",
              "              -1.93561256e+00,  9.54595089e-01,  6.28775284e-02,  4.31339175e-01,\n",
              "              -2.01233435e+00, -8.88302207e-01,  6.77327514e-01,  2.55033278e+00,\n",
              "               1.30744469e+00,  2.79591829e-01,  2.43059087e+00, -2.47302437e+00,\n",
              "              -7.17783928e-01,  1.93218684e+00,  1.66267562e+00,  1.53606808e+00,\n",
              "              -1.23196447e+00,  5.93300223e-01, -6.21857941e-01, -4.56587344e-01,\n",
              "              -6.28189385e-01,  8.12246084e-01,  1.12623775e+00,  4.71898019e-02,\n",
              "              -9.54768419e-01,  7.13933706e-01, -2.14011073e+00,  1.89955771e-01,\n",
              "               7.88558960e-01,  2.65800500e+00,  5.62145054e-01, -1.67447138e+00,\n",
              "              -4.35665846e+00, -2.93678284e-01,  7.47651935e-01, -2.42156458e+00,\n",
              "               2.05992842e+00, -2.02597082e-01,  4.86894816e-01,  8.03829372e-01,\n",
              "              -2.79150397e-01,  4.14293718e+00,  2.56687069e+00,  1.67294025e+00,\n",
              "               1.42239034e+00, -7.70500526e-02,  3.77419919e-01,  2.09635830e+00,\n",
              "              -3.29630017e+00,  1.40381485e-01,  1.03167593e+00, -7.78489470e-01,\n",
              "               4.22780335e-01, -1.29351008e+00,  7.90583849e-01, -4.39278185e-01,\n",
              "               1.33163512e+00, -1.26764858e+00, -6.88922703e-01,  2.12538409e+00,\n",
              "               1.32198393e+00, -1.11367345e-01,  8.96223485e-01,  1.00565279e+00,\n",
              "               2.75546122e+00, -1.13036764e+00,  2.04389505e-02,  1.46589446e+00,\n",
              "              -1.31657672e+00,  3.83617997e-01,  6.16152823e-01, -8.79712403e-01,\n",
              "              -2.82434523e-01,  4.08980735e-02, -1.40084004e+00,  1.78862524e+00,\n",
              "               7.14215338e-01, -1.31167495e+00, -2.10808945e+00,  1.14118874e+00],\n",
              "             dtype=float32)                                                       ,\n",
              "       array([-2.50106955e+00,  6.70683801e-01, -1.81991160e+00,  1.44488740e+00,\n",
              "               5.86984634e+00,  1.36574700e-01,  3.46653819e-01,  4.29572296e+00,\n",
              "               1.25253308e+00, -1.02364874e+00,  4.68926430e+00,  2.06551075e+00,\n",
              "              -3.42924929e+00,  1.63798606e+00,  9.02727962e-01,  2.89545751e+00,\n",
              "               6.00313663e-01,  8.23745549e-01, -1.09029210e+00, -9.76927280e-01,\n",
              "               1.13905942e+00, -8.45013380e-01, -1.79934955e+00,  1.40521979e+00,\n",
              "               1.15705907e+00, -1.64259708e+00, -2.44455600e+00, -1.08576000e+00,\n",
              "              -2.04839796e-01,  1.74837038e-01,  7.28487670e-01, -4.92112160e-01,\n",
              "              -3.65451664e-01, -2.01163483e+00, -2.42680669e+00, -1.20725107e+00,\n",
              "              -9.64481115e-01,  9.67992127e-01, -6.94859251e-02, -5.19699931e-01,\n",
              "               2.43444934e-01,  2.01098368e-01,  3.35668534e-01,  4.78391260e-01,\n",
              "              -1.33839160e-01,  2.53722996e-01, -2.97191769e-01, -1.26233447e+00,\n",
              "              -8.05691361e-01,  1.57445383e+00, -1.38408267e+00,  1.74585104e+00,\n",
              "              -2.80385047e-01, -4.72406340e+00, -2.92147219e-01,  1.25338650e+00,\n",
              "               3.35633397e-01,  1.60082877e-02,  4.93206173e-01, -9.59242404e-01,\n",
              "              -7.36351430e-01, -1.14413238e+00, -2.95572896e-02, -3.42219740e-01,\n",
              "               2.36590004e+00,  9.41074669e-01, -2.22829223e+00, -2.25955534e+00,\n",
              "               1.42667830e+00,  1.98527420e+00, -3.49122584e-01, -9.08457994e-01,\n",
              "              -2.37445045e+00,  5.40984385e-02,  8.38839784e-02,  1.28919363e+00,\n",
              "              -2.41757822e+00,  3.32119632e+00, -3.00667906e+00,  1.28130550e-02,\n",
              "              -4.37058258e+00, -5.73990464e-01,  1.84352592e-01,  1.58099580e+00,\n",
              "               2.60242867e+00,  1.60424024e-01, -2.02770805e+00, -3.61611891e+00,\n",
              "               9.78897512e-01, -1.55230033e+00, -1.63771486e+00, -3.86352241e-01,\n",
              "               2.22389603e+00, -2.73268962e+00,  4.77643639e-01, -8.34821403e-01,\n",
              "               1.00425994e+00, -9.83542919e-01,  1.29636467e+00,  2.07785678e+00,\n",
              "               2.18557024e+00,  1.40139127e+00,  3.16688418e+00,  3.52150798e+00,\n",
              "              -2.66838640e-01,  3.96870255e+00,  1.20057368e+00, -2.08850980e+00,\n",
              "              -5.22219241e-01, -3.72000051e+00,  1.41663182e+00,  1.92467225e+00,\n",
              "              -2.06145382e+00, -1.03939176e-01,  1.88800442e+00, -8.52993652e-02,\n",
              "              -5.65741897e-01,  4.55167182e-02,  3.07070613e-01, -1.10488796e+00,\n",
              "               9.75952983e-01, -3.19942617e+00,  1.44237566e+00,  8.43889296e-01,\n",
              "              -1.18963695e+00, -3.50758123e+00,  1.47106469e+00, -1.95263934e+00,\n",
              "               3.19324613e+00, -1.00168622e+00, -2.86961436e+00,  1.33306473e-01,\n",
              "               5.03886557e+00, -5.69765747e-01,  4.29619789e-01,  8.40193331e-01,\n",
              "              -2.05786967e+00, -9.08457115e-03,  2.16064000e+00, -2.00922298e+00,\n",
              "              -1.52489483e+00, -8.31136703e-01, -5.02181128e-02,  1.74435222e+00,\n",
              "               2.05549049e+00,  1.40968311e+00, -3.61485982e+00,  4.73439246e-02,\n",
              "               2.16520309e+00,  1.35457492e+00,  4.36782151e-01,  2.28232026e+00,\n",
              "              -3.49828660e-01,  1.59900784e+00, -1.25798297e+00,  4.03200716e-01,\n",
              "               2.56185317e+00, -9.20196891e-01, -2.49374270e+00, -1.03806448e+00,\n",
              "              -8.57472599e-01, -2.35814977e+00,  1.01196086e+00,  2.61933780e+00,\n",
              "              -1.82589281e+00, -1.75979722e+00, -2.84190869e+00,  1.43527102e+00,\n",
              "               1.01129961e+00,  1.08734810e+00,  9.86298800e-01, -4.75985706e-01,\n",
              "               1.95678508e+00,  5.27064204e-01,  1.22407532e+00,  8.14679384e-01,\n",
              "               1.84773970e-02, -6.75625980e-01, -3.87407970e+00, -1.10818470e+00,\n",
              "              -1.73968363e+00,  1.64771423e-01,  9.18095782e-02, -3.65167558e-01,\n",
              "              -1.06599343e+00,  6.76714659e-01, -1.39398634e+00,  1.56989372e+00,\n",
              "              -4.64390079e-03,  5.05299807e-01,  6.93518698e-01, -2.07853150e+00,\n",
              "              -3.76799852e-01, -1.98522687e+00,  7.60176659e-01,  1.26747620e+00,\n",
              "              -2.95401812e+00, -8.68910313e-01,  4.32244211e-01,  3.89457285e-01,\n",
              "              -1.01325285e+00, -1.70793211e+00, -3.34705085e-01, -2.54433990e+00,\n",
              "               3.70059347e+00,  4.56028014e-01, -3.55687428e+00,  2.29303002e+00,\n",
              "              -3.73734742e-01, -8.36775184e-01,  1.16777456e+00,  1.42372310e+00,\n",
              "              -1.84794819e+00,  8.85338426e-01,  2.21623325e+00,  2.31713319e+00,\n",
              "               6.25368595e-01, -1.99172246e+00,  2.19076332e-02,  1.07332163e-01,\n",
              "              -2.14015865e+00,  2.12537169e+00, -9.96793713e-03,  2.88152456e-01,\n",
              "              -2.38249469e+00, -1.82250118e+00,  6.18007302e-01,  2.17853117e+00,\n",
              "               1.50966835e+00, -1.73347890e-01,  3.18852115e+00, -2.02605844e+00,\n",
              "              -4.42808092e-01,  2.27150035e+00,  1.85087013e+00,  1.42554522e+00,\n",
              "              -1.98786747e+00,  3.30409169e-01, -1.37540925e+00, -5.09237528e-01,\n",
              "              -3.39545548e-01, -2.41903096e-01,  1.14480221e+00,  1.83444843e-01,\n",
              "              -2.34404778e+00,  1.97771847e+00, -2.87145519e+00,  3.13484459e-03,\n",
              "              -2.60624528e-01,  2.65566492e+00,  1.23249221e+00, -2.87007856e+00,\n",
              "              -4.96031046e+00, -2.29511514e-01,  6.86676145e-01, -1.37374496e+00,\n",
              "               2.16011381e+00, -7.08830714e-01,  9.13767099e-01,  1.30853701e+00,\n",
              "              -3.05055976e-01,  4.72597599e+00,  2.28096056e+00,  2.22672296e+00,\n",
              "               2.31996894e+00, -1.02345645e+00, -3.53927672e-01,  1.89379966e+00,\n",
              "              -2.25078654e+00,  4.87197161e-01,  2.16070592e-01,  1.40834659e-01,\n",
              "               7.83993363e-01, -2.37619376e+00,  1.17063916e+00, -1.85960352e-01,\n",
              "               2.27404928e+00, -1.76049733e+00, -4.34343725e-01,  1.28152978e+00,\n",
              "               2.45316887e+00,  4.19489831e-01,  1.10121834e+00,  1.20887518e+00,\n",
              "               2.08902717e+00, -2.05429345e-01, -8.36977303e-01,  1.47826254e+00,\n",
              "              -8.67378712e-01,  6.47101164e-01,  3.17929834e-01,  2.17783064e-01,\n",
              "              -1.77893329e+00, -1.79084510e-01, -1.89700043e+00,  2.18508124e+00,\n",
              "               8.92269731e-01, -2.28317213e+00, -1.64735270e+00,  4.04952645e-01],\n",
              "             dtype=float32)                                                       ],\n",
              "      dtype=object)"
            ]
          },
          "metadata": {},
          "execution_count": 64
        }
      ]
    },
    {
      "cell_type": "markdown",
      "source": [
        "As you see the format of the inputs needs correcting."
      ],
      "metadata": {
        "id": "5EuCWlkf2CFh"
      }
    },
    {
      "cell_type": "code",
      "source": [
        "# Converting the inner numpy arrays into lists: https://numpy.org/doc/stable/reference/generated/numpy.stack.html\n",
        "x_train = np.stack(x_train)\n",
        "x_test = np.stack(x_test)\n",
        "\n",
        "x_test[:3]"
      ],
      "metadata": {
        "colab": {
          "base_uri": "https://localhost:8080/"
        },
        "id": "N4azJDAX2IMA",
        "outputId": "885ce7f2-8042-4c0c-e495-3748d1fdc649"
      },
      "execution_count": 69,
      "outputs": [
        {
          "output_type": "execute_result",
          "data": {
            "text/plain": [
              "array([[-1.69903743e+00,  1.86413959e-01, -1.48471570e+00,\n",
              "         1.11597741e+00,  4.68859625e+00,  3.97144496e-01,\n",
              "         2.95990705e-01,  3.08556581e+00,  2.62500972e-01,\n",
              "        -1.03392255e+00,  4.58928967e+00,  1.35289037e+00,\n",
              "        -3.01365876e+00,  6.64472356e-02,  2.38244846e-01,\n",
              "         2.15721893e+00,  1.22167969e+00,  1.14966440e+00,\n",
              "        -7.02630281e-01, -1.33537781e+00,  1.45373261e+00,\n",
              "        -1.07669568e+00, -1.23965693e+00,  1.78765208e-01,\n",
              "         9.90464687e-01, -1.35985637e+00, -2.11524653e+00,\n",
              "        -1.07781982e+00, -1.12839779e-02,  2.51668721e-01,\n",
              "         9.82425690e-01,  1.70005679e-01, -4.91955161e-01,\n",
              "        -1.59384942e+00, -2.71985412e+00, -1.30602849e+00,\n",
              "        -1.08752584e+00,  1.07979107e+00, -1.79995671e-01,\n",
              "         2.58815050e-01,  3.92333791e-02, -9.92598943e-03,\n",
              "        -3.81145388e-01,  2.70787299e-01, -1.47207165e+00,\n",
              "         7.18641043e-01, -1.19445875e-01, -1.86313295e+00,\n",
              "         2.02059910e-01,  1.53125632e+00, -1.50832880e+00,\n",
              "         1.59341109e+00,  2.78745174e-01, -4.09163332e+00,\n",
              "        -1.42496169e-01,  8.22097480e-01,  2.45791271e-01,\n",
              "         2.74266124e-01,  5.16642451e-01,  1.42266780e-01,\n",
              "        -1.73701033e-01, -1.18029523e+00,  2.11011469e-01,\n",
              "        -1.07422292e+00,  2.12409568e+00,  1.16223907e+00,\n",
              "        -2.42202401e+00, -1.83297741e+00,  9.59923089e-01,\n",
              "         1.59437966e+00, -8.10761034e-01, -4.75768864e-01,\n",
              "        -2.36714458e+00, -2.22128704e-02, -1.37245031e-02,\n",
              "         1.39765918e+00, -2.47399187e+00,  2.10292697e+00,\n",
              "        -2.29444790e+00, -2.01147094e-01, -2.81980467e+00,\n",
              "        -3.70546162e-01,  4.04230118e-01,  1.58823955e+00,\n",
              "         2.56706190e+00, -9.77311656e-02, -2.08698559e+00,\n",
              "        -3.12627959e+00,  6.03009462e-01, -1.09931266e+00,\n",
              "        -8.41752946e-01, -1.29412875e-01,  1.61533141e+00,\n",
              "        -2.41184235e+00,  4.99392480e-01, -1.02683127e+00,\n",
              "         9.14939165e-01, -6.11853242e-01,  1.06662786e+00,\n",
              "         1.86257112e+00,  2.19715047e+00,  8.66389573e-01,\n",
              "         2.53490472e+00,  2.84457016e+00, -4.60040569e-01,\n",
              "         3.27671552e+00,  1.20995808e+00, -1.57460010e+00,\n",
              "        -1.86161324e-01, -3.35585403e+00,  1.31553769e+00,\n",
              "         5.65021753e-01, -2.18691063e+00,  3.72574240e-01,\n",
              "         1.42457604e+00,  6.65983975e-01, -5.10975420e-01,\n",
              "        -2.83928901e-01, -3.80387068e-01, -9.74875689e-01,\n",
              "         8.45930576e-02, -2.91436028e+00,  1.32606959e+00,\n",
              "         3.47009271e-01, -7.68175364e-01, -3.53831840e+00,\n",
              "         1.06525612e+00, -2.30597854e+00,  2.72829485e+00,\n",
              "        -1.31951582e+00, -2.54905534e+00,  8.64197314e-02,\n",
              "         3.63439059e+00, -2.08309233e-01,  5.30573353e-02,\n",
              "         7.95721948e-01, -1.79599249e+00, -1.13799244e-01,\n",
              "         1.57736588e+00, -1.70563173e+00, -1.52513242e+00,\n",
              "        -8.59361172e-01,  2.53756553e-01,  1.59139156e+00,\n",
              "         1.52167213e+00,  1.50105691e+00, -4.11877680e+00,\n",
              "         2.58962363e-01,  1.34296012e+00,  9.21302676e-01,\n",
              "        -1.11750118e-01,  2.22636962e+00,  3.40732075e-02,\n",
              "         1.77762151e+00, -2.06253862e+00,  6.20600581e-01,\n",
              "         1.67655647e+00, -6.41386986e-01, -8.37432027e-01,\n",
              "        -1.12481570e+00, -2.99359739e-01, -2.31444812e+00,\n",
              "        -1.68297276e-01,  2.16868424e+00, -2.76030302e+00,\n",
              "        -1.63807821e+00, -2.89226317e+00,  9.83191311e-01,\n",
              "         4.83352363e-01,  2.86267370e-01,  6.59621954e-01,\n",
              "        -3.18654269e-01,  1.59564960e+00, -9.53252427e-03,\n",
              "         7.50826657e-01,  7.22455680e-01,  6.40940517e-02,\n",
              "        -2.88313180e-01, -1.93408620e+00, -1.08690417e+00,\n",
              "        -8.36689949e-01,  2.54987240e-01,  3.55287343e-01,\n",
              "        -1.55035928e-01, -9.58746493e-01,  8.92782450e-01,\n",
              "        -1.05951941e+00,  9.16220367e-01,  1.00406873e+00,\n",
              "         8.10033798e-01,  5.83411992e-01, -2.03600526e+00,\n",
              "         3.04628044e-01, -1.53791881e+00,  6.23500049e-01,\n",
              "         7.69335747e-01, -3.05379415e+00, -4.92300481e-01,\n",
              "         3.12979758e-01,  5.13215661e-01, -9.02130604e-01,\n",
              "        -1.64968371e+00, -2.09963456e-01, -1.84194911e+00,\n",
              "         3.30182338e+00,  8.89861703e-01, -3.26338243e+00,\n",
              "         1.79831314e+00, -5.76321244e-01, -1.84604794e-01,\n",
              "         1.68937218e+00,  1.26659179e+00, -1.52011502e+00,\n",
              "         7.72013605e-01,  1.11181390e+00,  2.35492516e+00,\n",
              "         6.49531007e-01, -2.93188548e+00,  1.33169830e-01,\n",
              "         3.81110460e-02, -1.51539326e+00,  1.35528660e+00,\n",
              "        -1.09538913e+00,  1.34118691e-01, -2.25345397e+00,\n",
              "        -5.00480831e-01,  5.89631915e-01,  2.86350155e+00,\n",
              "         8.12513173e-01,  3.13818127e-01,  3.47762942e+00,\n",
              "        -1.62576926e+00, -4.75538701e-01,  1.72857809e+00,\n",
              "         1.88337350e+00,  1.30395770e+00, -8.14570725e-01,\n",
              "        -2.79911086e-02, -3.87588471e-01, -4.70956355e-01,\n",
              "        -4.24150407e-01,  5.16177297e-01,  1.82994151e+00,\n",
              "        -2.90549964e-01, -1.90856814e+00,  1.62487471e+00,\n",
              "        -2.06391525e+00,  2.38173634e-01, -7.78089643e-01,\n",
              "         2.59806633e+00,  1.17346132e+00, -2.73049974e+00,\n",
              "        -4.50545168e+00, -8.00638855e-01,  7.30276585e-01,\n",
              "        -2.01219654e+00,  1.61495709e+00, -1.22827637e+00,\n",
              "         6.54893741e-02,  7.42715836e-01, -1.71467841e-01,\n",
              "         4.00076914e+00,  2.99619627e+00,  1.97886682e+00,\n",
              "         1.30022061e+00, -4.81924772e-01,  5.73024638e-02,\n",
              "         1.69550776e+00, -2.41217065e+00,  9.27158073e-02,\n",
              "         8.90004784e-02,  1.61551163e-01,  8.91907752e-01,\n",
              "        -1.99494815e+00,  1.23149312e+00, -7.24345326e-01,\n",
              "         1.55554676e+00, -2.15893102e+00, -1.40053213e-01,\n",
              "         1.27119756e+00,  2.02277613e+00,  4.90625858e-01,\n",
              "         3.46994102e-01,  5.53805470e-01,  1.51419079e+00,\n",
              "        -4.69412148e-01,  1.33663729e-01,  1.60537755e+00,\n",
              "        -4.79880244e-01,  5.87107122e-01,  1.29249001e+00,\n",
              "        -4.77235526e-01, -5.38961664e-02, -2.86439240e-01,\n",
              "        -1.50686383e+00,  1.45882058e+00,  1.51353252e+00,\n",
              "        -1.91487968e+00, -2.01971364e+00,  1.23597705e+00],\n",
              "       [-2.13190627e+00,  1.02281787e-01, -2.09260273e+00,\n",
              "         2.98992932e-01,  4.01152229e+00,  3.06805134e-01,\n",
              "         4.04689342e-01,  3.98209572e+00,  1.80349022e-01,\n",
              "        -1.48152506e+00,  4.98256302e+00,  7.18086004e-01,\n",
              "        -2.55861521e+00,  1.16722107e+00,  6.25759959e-01,\n",
              "         2.03440619e+00,  7.35945046e-01,  3.23097795e-01,\n",
              "        -1.40205920e+00, -1.72891355e+00,  1.31568098e+00,\n",
              "        -6.60942972e-01, -1.33303642e+00, -4.28477108e-01,\n",
              "        -2.49725178e-01, -1.32181859e+00, -2.02838111e+00,\n",
              "        -1.00762105e+00, -2.21205473e-01,  1.02035761e+00,\n",
              "         7.26543486e-01, -3.72150471e-03, -6.88406646e-01,\n",
              "        -1.49312353e+00, -2.38944721e+00, -6.44697309e-01,\n",
              "        -9.82976317e-01,  9.09637451e-01,  7.04923570e-01,\n",
              "         3.39844555e-01, -8.28608777e-03,  1.84091344e-01,\n",
              "        -4.23904330e-01,  4.48850840e-01, -1.63075233e+00,\n",
              "         1.32829797e+00,  6.14851177e-01, -2.55390596e+00,\n",
              "        -6.25514627e-01,  1.52940798e+00, -1.43569875e+00,\n",
              "         1.46854961e+00,  5.64139664e-01, -4.22343493e+00,\n",
              "        -6.18316174e-01,  5.28270721e-01, -2.91847795e-01,\n",
              "         8.67585599e-01,  7.37106621e-01, -2.57110536e-01,\n",
              "         8.63082528e-01, -1.09727168e+00,  3.34748656e-01,\n",
              "        -1.24438262e+00,  2.32748771e+00,  1.37320244e+00,\n",
              "        -2.13397551e+00, -2.22011209e+00,  8.72196198e-01,\n",
              "         2.15101004e+00, -3.84774774e-01, -8.05745900e-01,\n",
              "        -2.12409282e+00, -1.79467171e-01, -3.99845392e-01,\n",
              "         1.09085941e+00, -3.07324719e+00,  2.08744645e+00,\n",
              "        -2.63208389e+00,  4.49346274e-01, -3.51166248e+00,\n",
              "         2.91935429e-02,  9.77653265e-01,  6.72124982e-01,\n",
              "         2.40045285e+00, -1.57776877e-01, -1.98497236e+00,\n",
              "        -2.78109717e+00,  8.88084888e-01, -6.75565302e-01,\n",
              "        -7.55588353e-01, -4.11104113e-01,  2.05375957e+00,\n",
              "        -3.54680061e+00,  4.66136009e-01, -1.35888040e+00,\n",
              "         9.70006227e-01, -9.04557943e-01,  1.21227574e+00,\n",
              "         1.48235095e+00,  2.05213094e+00,  1.08604276e+00,\n",
              "         2.26875234e+00,  2.80518436e+00, -3.79261702e-01,\n",
              "         3.68258381e+00,  9.31013077e-02, -2.18783784e+00,\n",
              "         2.40393221e-01, -2.89082694e+00,  9.27562773e-01,\n",
              "         6.72255635e-01, -1.27936280e+00,  8.99560034e-01,\n",
              "         7.94638753e-01,  2.91384846e-01, -7.57971168e-01,\n",
              "        -2.13146955e-02, -1.25295296e-01, -1.17457652e+00,\n",
              "        -5.15631080e-01, -2.76189494e+00,  8.61681700e-01,\n",
              "         1.25254571e+00, -1.23905754e+00, -2.77792883e+00,\n",
              "         8.58637810e-01, -2.04238415e+00,  2.68653011e+00,\n",
              "        -1.15187037e+00, -2.26673770e+00,  1.20804012e-01,\n",
              "         3.30976272e+00, -5.07925868e-01,  3.29320394e-02,\n",
              "         6.05523825e-01, -1.17634463e+00, -9.33138132e-01,\n",
              "         2.33990097e+00, -1.89271951e+00, -1.76977742e+00,\n",
              "        -6.29915059e-01,  4.30275232e-01,  1.29471242e+00,\n",
              "         8.72679651e-01,  4.74159360e-01, -3.02885056e+00,\n",
              "        -6.35541260e-01,  1.04745829e+00,  1.27758384e+00,\n",
              "        -1.92640722e-03,  1.87140632e+00,  1.37318224e-01,\n",
              "         1.94568110e+00, -1.18497741e+00,  9.45325673e-01,\n",
              "         2.19083357e+00, -6.31809890e-01, -2.00215435e+00,\n",
              "        -1.26456869e+00, -1.07021354e-01, -2.45196867e+00,\n",
              "        -2.22183242e-01,  1.19163847e+00, -2.09364319e+00,\n",
              "        -1.29965377e+00, -3.52643466e+00,  1.64733171e+00,\n",
              "        -3.00620198e-01,  5.54346442e-01,  8.69994640e-01,\n",
              "        -2.24520087e-01,  1.92755461e+00,  6.06164336e-01,\n",
              "         1.48275185e+00,  1.54679164e-01, -5.03973484e-01,\n",
              "        -2.81806290e-03, -2.19758916e+00, -1.19677031e+00,\n",
              "        -1.49627435e+00,  3.48410636e-01,  1.00257361e+00,\n",
              "        -8.45480487e-02, -9.02111113e-01,  7.57043302e-01,\n",
              "        -1.70266616e+00, -4.02886331e-01,  7.93562293e-01,\n",
              "         2.17265129e+00, -2.60840118e-01, -1.59497774e+00,\n",
              "        -2.27285400e-01, -1.31476247e+00,  5.51724017e-01,\n",
              "         2.62180448e-01, -2.39084339e+00, -4.07562643e-01,\n",
              "         3.00411135e-01,  8.12857866e-01, -8.17810059e-01,\n",
              "        -1.25521612e+00, -1.98290899e-01, -1.90452778e+00,\n",
              "         2.46798706e+00,  8.53276432e-01, -3.41422677e+00,\n",
              "         1.24851871e+00, -4.11824077e-01, -3.21191281e-01,\n",
              "         1.13171959e+00,  7.98499763e-01, -1.22909558e+00,\n",
              "         1.82244182e+00,  4.44926828e-01,  2.29471684e+00,\n",
              "         2.77704984e-01, -2.13315439e+00, -3.83915484e-01,\n",
              "         2.81446278e-01, -1.93561256e+00,  9.54595089e-01,\n",
              "         6.28775284e-02,  4.31339175e-01, -2.01233435e+00,\n",
              "        -8.88302207e-01,  6.77327514e-01,  2.55033278e+00,\n",
              "         1.30744469e+00,  2.79591829e-01,  2.43059087e+00,\n",
              "        -2.47302437e+00, -7.17783928e-01,  1.93218684e+00,\n",
              "         1.66267562e+00,  1.53606808e+00, -1.23196447e+00,\n",
              "         5.93300223e-01, -6.21857941e-01, -4.56587344e-01,\n",
              "        -6.28189385e-01,  8.12246084e-01,  1.12623775e+00,\n",
              "         4.71898019e-02, -9.54768419e-01,  7.13933706e-01,\n",
              "        -2.14011073e+00,  1.89955771e-01,  7.88558960e-01,\n",
              "         2.65800500e+00,  5.62145054e-01, -1.67447138e+00,\n",
              "        -4.35665846e+00, -2.93678284e-01,  7.47651935e-01,\n",
              "        -2.42156458e+00,  2.05992842e+00, -2.02597082e-01,\n",
              "         4.86894816e-01,  8.03829372e-01, -2.79150397e-01,\n",
              "         4.14293718e+00,  2.56687069e+00,  1.67294025e+00,\n",
              "         1.42239034e+00, -7.70500526e-02,  3.77419919e-01,\n",
              "         2.09635830e+00, -3.29630017e+00,  1.40381485e-01,\n",
              "         1.03167593e+00, -7.78489470e-01,  4.22780335e-01,\n",
              "        -1.29351008e+00,  7.90583849e-01, -4.39278185e-01,\n",
              "         1.33163512e+00, -1.26764858e+00, -6.88922703e-01,\n",
              "         2.12538409e+00,  1.32198393e+00, -1.11367345e-01,\n",
              "         8.96223485e-01,  1.00565279e+00,  2.75546122e+00,\n",
              "        -1.13036764e+00,  2.04389505e-02,  1.46589446e+00,\n",
              "        -1.31657672e+00,  3.83617997e-01,  6.16152823e-01,\n",
              "        -8.79712403e-01, -2.82434523e-01,  4.08980735e-02,\n",
              "        -1.40084004e+00,  1.78862524e+00,  7.14215338e-01,\n",
              "        -1.31167495e+00, -2.10808945e+00,  1.14118874e+00],\n",
              "       [-2.50106955e+00,  6.70683801e-01, -1.81991160e+00,\n",
              "         1.44488740e+00,  5.86984634e+00,  1.36574700e-01,\n",
              "         3.46653819e-01,  4.29572296e+00,  1.25253308e+00,\n",
              "        -1.02364874e+00,  4.68926430e+00,  2.06551075e+00,\n",
              "        -3.42924929e+00,  1.63798606e+00,  9.02727962e-01,\n",
              "         2.89545751e+00,  6.00313663e-01,  8.23745549e-01,\n",
              "        -1.09029210e+00, -9.76927280e-01,  1.13905942e+00,\n",
              "        -8.45013380e-01, -1.79934955e+00,  1.40521979e+00,\n",
              "         1.15705907e+00, -1.64259708e+00, -2.44455600e+00,\n",
              "        -1.08576000e+00, -2.04839796e-01,  1.74837038e-01,\n",
              "         7.28487670e-01, -4.92112160e-01, -3.65451664e-01,\n",
              "        -2.01163483e+00, -2.42680669e+00, -1.20725107e+00,\n",
              "        -9.64481115e-01,  9.67992127e-01, -6.94859251e-02,\n",
              "        -5.19699931e-01,  2.43444934e-01,  2.01098368e-01,\n",
              "         3.35668534e-01,  4.78391260e-01, -1.33839160e-01,\n",
              "         2.53722996e-01, -2.97191769e-01, -1.26233447e+00,\n",
              "        -8.05691361e-01,  1.57445383e+00, -1.38408267e+00,\n",
              "         1.74585104e+00, -2.80385047e-01, -4.72406340e+00,\n",
              "        -2.92147219e-01,  1.25338650e+00,  3.35633397e-01,\n",
              "         1.60082877e-02,  4.93206173e-01, -9.59242404e-01,\n",
              "        -7.36351430e-01, -1.14413238e+00, -2.95572896e-02,\n",
              "        -3.42219740e-01,  2.36590004e+00,  9.41074669e-01,\n",
              "        -2.22829223e+00, -2.25955534e+00,  1.42667830e+00,\n",
              "         1.98527420e+00, -3.49122584e-01, -9.08457994e-01,\n",
              "        -2.37445045e+00,  5.40984385e-02,  8.38839784e-02,\n",
              "         1.28919363e+00, -2.41757822e+00,  3.32119632e+00,\n",
              "        -3.00667906e+00,  1.28130550e-02, -4.37058258e+00,\n",
              "        -5.73990464e-01,  1.84352592e-01,  1.58099580e+00,\n",
              "         2.60242867e+00,  1.60424024e-01, -2.02770805e+00,\n",
              "        -3.61611891e+00,  9.78897512e-01, -1.55230033e+00,\n",
              "        -1.63771486e+00, -3.86352241e-01,  2.22389603e+00,\n",
              "        -2.73268962e+00,  4.77643639e-01, -8.34821403e-01,\n",
              "         1.00425994e+00, -9.83542919e-01,  1.29636467e+00,\n",
              "         2.07785678e+00,  2.18557024e+00,  1.40139127e+00,\n",
              "         3.16688418e+00,  3.52150798e+00, -2.66838640e-01,\n",
              "         3.96870255e+00,  1.20057368e+00, -2.08850980e+00,\n",
              "        -5.22219241e-01, -3.72000051e+00,  1.41663182e+00,\n",
              "         1.92467225e+00, -2.06145382e+00, -1.03939176e-01,\n",
              "         1.88800442e+00, -8.52993652e-02, -5.65741897e-01,\n",
              "         4.55167182e-02,  3.07070613e-01, -1.10488796e+00,\n",
              "         9.75952983e-01, -3.19942617e+00,  1.44237566e+00,\n",
              "         8.43889296e-01, -1.18963695e+00, -3.50758123e+00,\n",
              "         1.47106469e+00, -1.95263934e+00,  3.19324613e+00,\n",
              "        -1.00168622e+00, -2.86961436e+00,  1.33306473e-01,\n",
              "         5.03886557e+00, -5.69765747e-01,  4.29619789e-01,\n",
              "         8.40193331e-01, -2.05786967e+00, -9.08457115e-03,\n",
              "         2.16064000e+00, -2.00922298e+00, -1.52489483e+00,\n",
              "        -8.31136703e-01, -5.02181128e-02,  1.74435222e+00,\n",
              "         2.05549049e+00,  1.40968311e+00, -3.61485982e+00,\n",
              "         4.73439246e-02,  2.16520309e+00,  1.35457492e+00,\n",
              "         4.36782151e-01,  2.28232026e+00, -3.49828660e-01,\n",
              "         1.59900784e+00, -1.25798297e+00,  4.03200716e-01,\n",
              "         2.56185317e+00, -9.20196891e-01, -2.49374270e+00,\n",
              "        -1.03806448e+00, -8.57472599e-01, -2.35814977e+00,\n",
              "         1.01196086e+00,  2.61933780e+00, -1.82589281e+00,\n",
              "        -1.75979722e+00, -2.84190869e+00,  1.43527102e+00,\n",
              "         1.01129961e+00,  1.08734810e+00,  9.86298800e-01,\n",
              "        -4.75985706e-01,  1.95678508e+00,  5.27064204e-01,\n",
              "         1.22407532e+00,  8.14679384e-01,  1.84773970e-02,\n",
              "        -6.75625980e-01, -3.87407970e+00, -1.10818470e+00,\n",
              "        -1.73968363e+00,  1.64771423e-01,  9.18095782e-02,\n",
              "        -3.65167558e-01, -1.06599343e+00,  6.76714659e-01,\n",
              "        -1.39398634e+00,  1.56989372e+00, -4.64390079e-03,\n",
              "         5.05299807e-01,  6.93518698e-01, -2.07853150e+00,\n",
              "        -3.76799852e-01, -1.98522687e+00,  7.60176659e-01,\n",
              "         1.26747620e+00, -2.95401812e+00, -8.68910313e-01,\n",
              "         4.32244211e-01,  3.89457285e-01, -1.01325285e+00,\n",
              "        -1.70793211e+00, -3.34705085e-01, -2.54433990e+00,\n",
              "         3.70059347e+00,  4.56028014e-01, -3.55687428e+00,\n",
              "         2.29303002e+00, -3.73734742e-01, -8.36775184e-01,\n",
              "         1.16777456e+00,  1.42372310e+00, -1.84794819e+00,\n",
              "         8.85338426e-01,  2.21623325e+00,  2.31713319e+00,\n",
              "         6.25368595e-01, -1.99172246e+00,  2.19076332e-02,\n",
              "         1.07332163e-01, -2.14015865e+00,  2.12537169e+00,\n",
              "        -9.96793713e-03,  2.88152456e-01, -2.38249469e+00,\n",
              "        -1.82250118e+00,  6.18007302e-01,  2.17853117e+00,\n",
              "         1.50966835e+00, -1.73347890e-01,  3.18852115e+00,\n",
              "        -2.02605844e+00, -4.42808092e-01,  2.27150035e+00,\n",
              "         1.85087013e+00,  1.42554522e+00, -1.98786747e+00,\n",
              "         3.30409169e-01, -1.37540925e+00, -5.09237528e-01,\n",
              "        -3.39545548e-01, -2.41903096e-01,  1.14480221e+00,\n",
              "         1.83444843e-01, -2.34404778e+00,  1.97771847e+00,\n",
              "        -2.87145519e+00,  3.13484459e-03, -2.60624528e-01,\n",
              "         2.65566492e+00,  1.23249221e+00, -2.87007856e+00,\n",
              "        -4.96031046e+00, -2.29511514e-01,  6.86676145e-01,\n",
              "        -1.37374496e+00,  2.16011381e+00, -7.08830714e-01,\n",
              "         9.13767099e-01,  1.30853701e+00, -3.05055976e-01,\n",
              "         4.72597599e+00,  2.28096056e+00,  2.22672296e+00,\n",
              "         2.31996894e+00, -1.02345645e+00, -3.53927672e-01,\n",
              "         1.89379966e+00, -2.25078654e+00,  4.87197161e-01,\n",
              "         2.16070592e-01,  1.40834659e-01,  7.83993363e-01,\n",
              "        -2.37619376e+00,  1.17063916e+00, -1.85960352e-01,\n",
              "         2.27404928e+00, -1.76049733e+00, -4.34343725e-01,\n",
              "         1.28152978e+00,  2.45316887e+00,  4.19489831e-01,\n",
              "         1.10121834e+00,  1.20887518e+00,  2.08902717e+00,\n",
              "        -2.05429345e-01, -8.36977303e-01,  1.47826254e+00,\n",
              "        -8.67378712e-01,  6.47101164e-01,  3.17929834e-01,\n",
              "         2.17783064e-01, -1.77893329e+00, -1.79084510e-01,\n",
              "        -1.89700043e+00,  2.18508124e+00,  8.92269731e-01,\n",
              "        -2.28317213e+00, -1.64735270e+00,  4.04952645e-01]], dtype=float32)"
            ]
          },
          "metadata": {},
          "execution_count": 69
        }
      ]
    },
    {
      "cell_type": "markdown",
      "source": [
        "## Naive Bayes\n",
        "\n",
        "Naive Bayes model doesn't accept `negative` inputs, but many elements inside of the embeddings are negative. In order to use this model we need to scale those embeddings. A way for doing that is using `MinMaxScaler`: https://scikit-learn.org/stable/modules/generated/sklearn.preprocessing.MinMaxScaler.html"
      ],
      "metadata": {
        "id": "rGyis_3k3A_Q"
      }
    },
    {
      "cell_type": "code",
      "source": [
        "# Initalizing the MinMaxScaler Object\n",
        "scaler = MinMaxScaler()\n",
        "\n",
        "x_train_transformed = scaler.fit_transform(x_train)\n",
        "x_test_transformed = scaler.transform(x_test)"
      ],
      "metadata": {
        "id": "uV5miLcO3EOa"
      },
      "execution_count": 73,
      "outputs": []
    },
    {
      "cell_type": "code",
      "source": [
        "x_train_transformed[:3]"
      ],
      "metadata": {
        "colab": {
          "base_uri": "https://localhost:8080/"
        },
        "id": "4pyfZFgR31aQ",
        "outputId": "d3339eed-d939-4ee7-8dc2-6ed7b369a99f"
      },
      "execution_count": 75,
      "outputs": [
        {
          "output_type": "execute_result",
          "data": {
            "text/plain": [
              "array([[0.18352261, 0.5127424 , 0.20652477, 0.70823985, 0.8019486 ,\n",
              "        0.41418612, 0.31868377, 0.84970164, 0.7667904 , 0.40330094,\n",
              "        0.69066554, 0.6691419 , 0.29070067, 0.6059663 , 0.2962703 ,\n",
              "        0.71566564, 0.2981282 , 0.500262  , 0.27463293, 0.36874685,\n",
              "        0.71196973, 0.45798212, 0.3742614 , 0.6350716 , 0.635614  ,\n",
              "        0.29736978, 0.37792507, 0.34352607, 0.48819393, 0.34191057,\n",
              "        0.6465447 , 0.5131383 , 0.51963025, 0.36597848, 0.20970091,\n",
              "        0.60689956, 0.26103795, 0.52191126, 0.39699003, 0.2754802 ,\n",
              "        0.3336203 , 0.5989372 , 0.7099486 , 0.3908512 , 0.53400004,\n",
              "        0.56066906, 0.49912584, 0.55829114, 0.34140828, 0.80085087,\n",
              "        0.2715939 , 0.6860648 , 0.37225515, 0.34896326, 0.5528092 ,\n",
              "        0.53106487, 0.7104519 , 0.37570125, 0.45207506, 0.38405535,\n",
              "        0.31356955, 0.2496711 , 0.7448099 , 0.31895572, 0.8013603 ,\n",
              "        0.5878582 , 0.55752957, 0.4616373 , 0.5603721 , 0.5447116 ,\n",
              "        0.74368924, 0.26407415, 0.3646064 , 0.5309073 , 0.39459968,\n",
              "        0.5268209 , 0.20330712, 0.8835343 , 0.21845564, 0.2749208 ,\n",
              "        0.12055373, 0.49968264, 0.6342457 , 0.71309304, 0.660693  ,\n",
              "        0.5301571 , 0.2457211 , 0.24770138, 0.6197498 , 0.19023903,\n",
              "        0.28010264, 0.30586302, 0.6298132 , 0.48707527, 0.77002037,\n",
              "        0.52482206, 0.56742936, 0.4467596 , 0.697525  , 0.7901845 ,\n",
              "        0.78956246, 0.63352907, 0.63104236, 0.80404204, 0.5766811 ,\n",
              "        0.8058336 , 0.6795606 , 0.10749289, 0.42257735, 0.09923828,\n",
              "        0.53601587, 0.77217335, 0.45241112, 0.55454266, 0.5716372 ,\n",
              "        0.40920177, 0.57011294, 0.37238717, 0.46034634, 0.49738222,\n",
              "        0.7039306 , 0.13783747, 0.4171114 , 0.6105554 , 0.2768654 ,\n",
              "        0.26784575, 0.4916167 , 0.5401774 , 0.7042644 , 0.36865902,\n",
              "        0.33339226, 0.28106016, 0.75396097, 0.55315477, 0.39621198,\n",
              "        0.7723821 , 0.58817315, 0.7663693 , 0.5846215 , 0.34057018,\n",
              "        0.21703807, 0.42946315, 0.6870847 , 0.64307976, 0.7136871 ,\n",
              "        0.7629199 , 0.2512711 , 0.3628472 , 0.594772  , 0.45169434,\n",
              "        0.30932316, 0.5847321 , 0.5248196 , 0.7734749 , 0.370897  ,\n",
              "        0.7027057 , 0.6574782 , 0.24862555, 0.13367265, 0.49591294,\n",
              "        0.20762691, 0.20517115, 0.6626183 , 0.6801849 , 0.56603897,\n",
              "        0.49273553, 0.37456563, 0.8460239 , 0.5696408 , 0.56419224,\n",
              "        0.80817217, 0.48981282, 0.7255413 , 0.65794635, 0.5594094 ,\n",
              "        0.60838675, 0.26431686, 0.18517482, 0.19155276, 0.51955307,\n",
              "        0.23559234, 0.6458415 , 0.55918914, 0.6385318 , 0.40846142,\n",
              "        0.5182556 , 0.45384085, 0.5961703 , 0.6912144 , 0.6094718 ,\n",
              "        0.5040519 , 0.28340513, 0.43082437, 0.16748717, 0.37205127,\n",
              "        0.5845002 , 0.1652484 , 0.21952462, 0.56670165, 0.5517405 ,\n",
              "        0.43705547, 0.2532565 , 0.66777545, 0.20401794, 0.7788964 ,\n",
              "        0.6380412 , 0.34368113, 0.70487916, 0.25538364, 0.5004627 ,\n",
              "        0.5063865 , 0.7424073 , 0.46295735, 0.6879088 , 0.7732011 ,\n",
              "        0.6875789 , 0.6739212 , 0.48569262, 0.41581607, 0.24106081,\n",
              "        0.11124513, 0.38438535, 0.5100186 , 0.47491473, 0.1948218 ,\n",
              "        0.16493393, 0.64760655, 0.85471034, 0.58027315, 0.3687307 ,\n",
              "        0.822024  , 0.18378437, 0.23062736, 0.7951629 , 0.8404834 ,\n",
              "        0.6608349 , 0.26520777, 0.40551984, 0.18989599, 0.19435553,\n",
              "        0.4883775 , 0.87322235, 0.6363346 , 0.44807714, 0.38381317,\n",
              "        0.86629474, 0.38025263, 0.71282786, 0.6050912 , 0.88087344,\n",
              "        0.6682959 , 0.23159689, 0.23650622, 0.57448626, 0.6595392 ,\n",
              "        0.37647158, 0.5099741 , 0.45871013, 0.47462636, 0.5893179 ,\n",
              "        0.47270638, 0.82807195, 0.4325387 , 0.7188263 , 0.63288593,\n",
              "        0.23518708, 0.7810458 , 0.7040151 , 0.37406665, 0.77937454,\n",
              "        0.5889988 , 0.66037107, 0.2740456 , 0.23454776, 0.4800814 ,\n",
              "        0.6750387 , 0.8064978 , 0.38866472, 0.39360493, 0.6792804 ,\n",
              "        0.6734611 , 0.685912  , 0.78663695, 0.6117531 , 0.681943  ,\n",
              "        0.42654553, 0.48863235, 0.65316993, 0.24682567, 0.64194393,\n",
              "        0.46520352, 0.49018154, 0.1941759 , 0.66297853, 0.3171339 ,\n",
              "        0.69166744, 0.67688304, 0.42409205, 0.50974447, 0.71681845],\n",
              "       [0.39276788, 0.6548563 , 0.19964917, 0.7039524 , 0.7003617 ,\n",
              "        0.59489095, 0.19379005, 0.715508  , 0.5373708 , 0.34198314,\n",
              "        0.8564119 , 0.7942593 , 0.32250845, 0.541443  , 0.41888097,\n",
              "        0.5856559 , 0.45891404, 0.42748493, 0.25313476, 0.31989643,\n",
              "        0.8427764 , 0.41451436, 0.49670583, 0.44889873, 0.6252356 ,\n",
              "        0.32561964, 0.37970316, 0.35204458, 0.41936666, 0.39489833,\n",
              "        0.5874225 , 0.27675518, 0.41388708, 0.3366642 , 0.24856982,\n",
              "        0.5364731 , 0.26954737, 0.4194637 , 0.46914414, 0.3400256 ,\n",
              "        0.43361497, 0.62416774, 0.7291409 , 0.2605862 , 0.5273041 ,\n",
              "        0.7253146 , 0.59519523, 0.47102344, 0.2720449 , 0.74485457,\n",
              "        0.3925747 , 0.75770783, 0.4791692 , 0.26672608, 0.520744  ,\n",
              "        0.43620074, 0.6279047 , 0.5619962 , 0.5267935 , 0.46736723,\n",
              "        0.55572695, 0.22943085, 0.7018279 , 0.31185   , 0.6223953 ,\n",
              "        0.54681647, 0.3560177 , 0.2850659 , 0.48882425, 0.5278511 ,\n",
              "        0.86547923, 0.22934486, 0.34736532, 0.47943455, 0.5151467 ,\n",
              "        0.6175758 , 0.15508857, 0.7521262 , 0.17102125, 0.19869724,\n",
              "        0.1212936 , 0.37911013, 0.7044799 , 0.7711271 , 0.6249093 ,\n",
              "        0.66575295, 0.38726142, 0.2071876 , 0.6612892 , 0.24702005,\n",
              "        0.33297926, 0.3415669 , 0.6301878 , 0.40413055, 0.71197927,\n",
              "        0.4200008 , 0.69357324, 0.31594765, 0.5650281 , 0.7770355 ,\n",
              "        0.7918211 , 0.72160804, 0.67034316, 0.64899576, 0.4375497 ,\n",
              "        0.8120237 , 0.7513877 , 0.09536895, 0.361207  , 0.15280786,\n",
              "        0.5496116 , 0.63838124, 0.31662247, 0.41387725, 0.4962257 ,\n",
              "        0.5622841 , 0.5236426 , 0.20169073, 0.49940673, 0.5329659 ,\n",
              "        0.5744328 , 0.22654936, 0.42056692, 0.4875794 , 0.31975752,\n",
              "        0.32759726, 0.711836  , 0.30544215, 0.6230991 , 0.39566073,\n",
              "        0.35141972, 0.29287878, 0.6985308 , 0.6787858 , 0.3495858 ,\n",
              "        0.81384623, 0.36255005, 0.7455356 , 0.6553085 , 0.28566998,\n",
              "        0.31231195, 0.3278262 , 0.6415678 , 0.5184891 , 0.60786223,\n",
              "        0.6321463 , 0.18254533, 0.50742984, 0.4767116 , 0.43292433,\n",
              "        0.16479062, 0.77799624, 0.08514261, 0.578477  , 0.4523281 ,\n",
              "        0.8527911 , 0.7513353 , 0.38197258, 0.25531837, 0.71974385,\n",
              "        0.23539625, 0.23510492, 0.48682413, 0.6374481 , 0.48048925,\n",
              "        0.44630587, 0.36818194, 0.75459087, 0.49742803, 0.4395373 ,\n",
              "        0.8023835 , 0.5357879 , 0.77380335, 0.51639646, 0.66608423,\n",
              "        0.5436695 , 0.2936049 , 0.2910272 , 0.29177287, 0.5728084 ,\n",
              "        0.28013563, 0.64813143, 0.5678683 , 0.56180686, 0.44803572,\n",
              "        0.5664805 , 0.3845255 , 0.48187947, 0.77251154, 0.6859051 ,\n",
              "        0.49128672, 0.3712663 , 0.42546406, 0.21491174, 0.3150761 ,\n",
              "        0.4760455 , 0.23717108, 0.21405472, 0.46317154, 0.58791316,\n",
              "        0.40056178, 0.56210005, 0.5572282 , 0.38802615, 0.6104835 ,\n",
              "        0.6578009 , 0.29157412, 0.58936214, 0.3434271 , 0.558353  ,\n",
              "        0.64693415, 0.72097796, 0.4481049 , 0.649941  , 0.7158401 ,\n",
              "        0.78316665, 0.5724338 , 0.21667033, 0.2956794 , 0.23413868,\n",
              "        0.10376701, 0.4475111 , 0.5266715 , 0.5240438 , 0.35780987,\n",
              "        0.17567316, 0.5738631 , 0.8160494 , 0.5407222 , 0.31523287,\n",
              "        0.6866134 , 0.28356457, 0.18928447, 0.7446414 , 0.7565353 ,\n",
              "        0.54018396, 0.30002198, 0.5080916 , 0.3202733 , 0.25374094,\n",
              "        0.45683306, 0.7157439 , 0.7322886 , 0.31972075, 0.526284  ,\n",
              "        0.851176  , 0.26571432, 0.7495739 , 0.6121143 , 0.91072977,\n",
              "        0.64938766, 0.34314042, 0.24514428, 0.63350147, 0.7790429 ,\n",
              "        0.31472358, 0.46928468, 0.45518246, 0.2670077 , 0.8398645 ,\n",
              "        0.47223225, 0.8420168 , 0.7787435 , 0.6423799 , 0.72319907,\n",
              "        0.23481369, 0.7221186 , 0.77225626, 0.3850396 , 0.69866115,\n",
              "        0.6881662 , 0.6990846 , 0.24394606, 0.21978259, 0.52267134,\n",
              "        0.5482508 , 0.7588347 , 0.24074584, 0.32750142, 0.66464746,\n",
              "        0.558311  , 0.52317804, 0.7792291 , 0.6680561 , 0.6992197 ,\n",
              "        0.40798545, 0.53283465, 0.6291449 , 0.29630557, 0.69164735,\n",
              "        0.44818223, 0.43704352, 0.27833235, 0.5614859 , 0.45970032,\n",
              "        0.5558294 , 0.74829626, 0.5508089 , 0.3496166 , 0.7190548 ],\n",
              "       [0.39104974, 0.4696682 , 0.31018138, 0.70727074, 0.72688943,\n",
              "        0.38281754, 0.34199488, 0.8205499 , 0.566654  , 0.37688473,\n",
              "        0.7242922 , 0.72968554, 0.17739171, 0.6345911 , 0.52753747,\n",
              "        0.6207689 , 0.4713278 , 0.61217403, 0.30234095, 0.40724176,\n",
              "        0.6632547 , 0.52352566, 0.31835487, 0.56628686, 0.5038405 ,\n",
              "        0.31506547, 0.4629438 , 0.27104673, 0.46621472, 0.44246447,\n",
              "        0.51731825, 0.47381812, 0.3695916 , 0.41479892, 0.28944963,\n",
              "        0.5862861 , 0.27961642, 0.63599145, 0.44273132, 0.35878605,\n",
              "        0.43421412, 0.5346154 , 0.61261165, 0.36611158, 0.47902384,\n",
              "        0.6962244 , 0.57294244, 0.5453864 , 0.37658212, 0.67739516,\n",
              "        0.39545617, 0.6971953 , 0.41777715, 0.4297959 , 0.52813256,\n",
              "        0.5495526 , 0.5651815 , 0.54258335, 0.5267911 , 0.3789741 ,\n",
              "        0.5334074 , 0.38101646, 0.5816799 , 0.34037304, 0.6417271 ,\n",
              "        0.62201476, 0.4843459 , 0.4601031 , 0.63473976, 0.452753  ,\n",
              "        0.56743854, 0.342686  , 0.30396363, 0.43015426, 0.3458388 ,\n",
              "        0.445118  , 0.20952354, 0.70862126, 0.33411226, 0.3156989 ,\n",
              "        0.1776137 , 0.4715981 , 0.62872106, 0.7371263 , 0.68365145,\n",
              "        0.5519552 , 0.39448327, 0.25257802, 0.6134035 , 0.28321463,\n",
              "        0.20138581, 0.40231663, 0.56825495, 0.50477076, 0.6577713 ,\n",
              "        0.4468998 , 0.60687757, 0.4518263 , 0.602425  , 0.73005766,\n",
              "        0.7217295 , 0.65107036, 0.59062415, 0.6371846 , 0.65454227,\n",
              "        0.85960287, 0.57323426, 0.2189878 , 0.41840947, 0.26996818,\n",
              "        0.5979874 , 0.69639033, 0.42062023, 0.39382896, 0.55370677,\n",
              "        0.44969064, 0.5464581 , 0.35420385, 0.43851528, 0.36151367,\n",
              "        0.5402861 , 0.26670775, 0.45750326, 0.4270591 , 0.31527218,\n",
              "        0.17254764, 0.3871644 , 0.44114694, 0.6348934 , 0.4913885 ,\n",
              "        0.36203045, 0.3700373 , 0.70758176, 0.7033254 , 0.34983787,\n",
              "        0.7379066 , 0.44157842, 0.54554784, 0.553377  , 0.4163515 ,\n",
              "        0.33747876, 0.5718808 , 0.61223525, 0.53966427, 0.70252275,\n",
              "        0.5808643 , 0.2979537 , 0.5547473 , 0.63336617, 0.5457194 ,\n",
              "        0.33781216, 0.52344143, 0.42593533, 0.66632307, 0.29179427,\n",
              "        0.65999573, 0.67606246, 0.50526786, 0.29835305, 0.66765726,\n",
              "        0.24956754, 0.33413464, 0.6516987 , 0.6439699 , 0.35283023,\n",
              "        0.48058152, 0.43794736, 0.67911696, 0.5400466 , 0.4692259 ,\n",
              "        0.62131274, 0.35895124, 0.72433686, 0.65695834, 0.5324367 ,\n",
              "        0.5791678 , 0.32503632, 0.3275349 , 0.29221195, 0.5060744 ,\n",
              "        0.2570765 , 0.60319793, 0.5627115 , 0.4495197 , 0.40857974,\n",
              "        0.46531516, 0.3861165 , 0.5513032 , 0.6948567 , 0.5125372 ,\n",
              "        0.4871949 , 0.26086506, 0.47952908, 0.21826974, 0.43917197,\n",
              "        0.58886784, 0.07484692, 0.2645437 , 0.7908692 , 0.44810677,\n",
              "        0.34316996, 0.32540756, 0.50749576, 0.38867047, 0.7296207 ,\n",
              "        0.74224484, 0.24255264, 0.64373374, 0.47315943, 0.42114955,\n",
              "        0.55608463, 0.7015947 , 0.39651704, 0.54277396, 0.7122806 ,\n",
              "        0.6110771 , 0.58225244, 0.12182659, 0.41655114, 0.37755612,\n",
              "        0.16842246, 0.5199876 , 0.45522878, 0.4853116 , 0.27583075,\n",
              "        0.21037725, 0.7395162 , 0.7724889 , 0.6525486 , 0.4282644 ,\n",
              "        0.7463943 , 0.25640053, 0.21121623, 0.72398543, 0.84253764,\n",
              "        0.5821316 , 0.48074642, 0.4263948 , 0.36811343, 0.38787407,\n",
              "        0.47398543, 0.6640931 , 0.5374461 , 0.4343407 , 0.4320954 ,\n",
              "        0.7281643 , 0.24143142, 0.66798514, 0.5459694 , 0.84383404,\n",
              "        0.5943177 , 0.3237573 , 0.3158339 , 0.5369623 , 0.6039192 ,\n",
              "        0.35171822, 0.4912658 , 0.5190948 , 0.47271603, 0.54888403,\n",
              "        0.3960402 , 0.78392255, 0.5026949 , 0.60787857, 0.61653584,\n",
              "        0.35779315, 0.7555907 , 0.73328936, 0.45012772, 0.6856762 ,\n",
              "        0.63852817, 0.51222885, 0.3119911 , 0.26704714, 0.40851265,\n",
              "        0.56945264, 0.78327274, 0.42913002, 0.44544077, 0.63799644,\n",
              "        0.69790626, 0.67924476, 0.81087524, 0.6006988 , 0.642608  ,\n",
              "        0.44192463, 0.4866278 , 0.7240586 , 0.29602635, 0.6202622 ,\n",
              "        0.46745944, 0.4215757 , 0.35485408, 0.54116595, 0.45999116,\n",
              "        0.5733975 , 0.7317951 , 0.32710874, 0.40595144, 0.7068769 ]],\n",
              "      dtype=float32)"
            ]
          },
          "metadata": {},
          "execution_count": 75
        }
      ]
    },
    {
      "cell_type": "code",
      "source": [
        "# Initializing the Model\n",
        "clf_nb = MultinomialNB()\n",
        "\n",
        "clf_nb.fit(x_train_transformed, y_train)\n",
        "\n",
        "print(classification_report(y_test, clf_nb.predict(x_test_transformed)))"
      ],
      "metadata": {
        "colab": {
          "base_uri": "https://localhost:8080/"
        },
        "id": "HAoW1kl132-P",
        "outputId": "4f866c53-5b61-4465-8f35-c37804769674"
      },
      "execution_count": 76,
      "outputs": [
        {
          "output_type": "stream",
          "name": "stdout",
          "text": [
            "              precision    recall  f1-score   support\n",
            "\n",
            "           0       0.82      0.93      0.87       400\n",
            "           1       0.92      0.80      0.86       400\n",
            "\n",
            "    accuracy                           0.87       800\n",
            "   macro avg       0.87      0.87      0.87       800\n",
            "weighted avg       0.87      0.87      0.87       800\n",
            "\n"
          ]
        }
      ]
    },
    {
      "cell_type": "markdown",
      "source": [
        "## KNN\n",
        "\n",
        "Because similar words have similar vector representation KNN will work fantastically for this task."
      ],
      "metadata": {
        "id": "l6p17ib34sNU"
      }
    },
    {
      "cell_type": "code",
      "source": [
        "clf_knn = KNeighborsClassifier(n_neighbors=5, metric=\"euclidean\")\n",
        "\n",
        "clf_knn.fit(x_train_transformed, y_train)\n",
        "\n",
        "print(classification_report(y_test, clf_knn.predict(x_test_transformed)))"
      ],
      "metadata": {
        "colab": {
          "base_uri": "https://localhost:8080/"
        },
        "id": "j7Jq5EoA4XZe",
        "outputId": "30ee96e0-cbb3-40da-ef23-1bfd803fde11"
      },
      "execution_count": 79,
      "outputs": [
        {
          "output_type": "stream",
          "name": "stdout",
          "text": [
            "              precision    recall  f1-score   support\n",
            "\n",
            "           0       0.93      0.96      0.95       400\n",
            "           1       0.96      0.93      0.94       400\n",
            "\n",
            "    accuracy                           0.94       800\n",
            "   macro avg       0.95      0.95      0.94       800\n",
            "weighted avg       0.95      0.94      0.94       800\n",
            "\n"
          ]
        }
      ]
    },
    {
      "cell_type": "markdown",
      "source": [
        "## Random Forest"
      ],
      "metadata": {
        "id": "rdalPau14ymp"
      }
    },
    {
      "cell_type": "code",
      "source": [
        "clf_rf = RandomForestClassifier()\n",
        "\n",
        "clf_rf.fit(x_train_transformed, y_train)\n",
        "\n",
        "print(classification_report(y_test, clf_rf.predict(x_test_transformed)))"
      ],
      "metadata": {
        "colab": {
          "base_uri": "https://localhost:8080/"
        },
        "id": "XSl0BUfP4xy1",
        "outputId": "9893dc00-3511-47d5-b764-fde5295d2a07"
      },
      "execution_count": 78,
      "outputs": [
        {
          "output_type": "stream",
          "name": "stdout",
          "text": [
            "              precision    recall  f1-score   support\n",
            "\n",
            "           0       0.93      0.96      0.95       400\n",
            "           1       0.96      0.93      0.95       400\n",
            "\n",
            "    accuracy                           0.95       800\n",
            "   macro avg       0.95      0.95      0.95       800\n",
            "weighted avg       0.95      0.95      0.95       800\n",
            "\n"
          ]
        }
      ]
    }
  ]
}