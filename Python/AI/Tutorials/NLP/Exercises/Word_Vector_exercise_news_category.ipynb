{
  "nbformat": 4,
  "nbformat_minor": 0,
  "metadata": {
    "colab": {
      "provenance": []
    },
    "kernelspec": {
      "name": "python3",
      "display_name": "Python 3"
    },
    "language_info": {
      "name": "python"
    }
  },
  "cells": [
    {
      "cell_type": "code",
      "execution_count": 56,
      "metadata": {
        "colab": {
          "base_uri": "https://localhost:8080/"
        },
        "id": "E_V133SW6Cyb",
        "outputId": "ec8b310f-ea5e-4746-c00f-b45299afcd1f"
      },
      "outputs": [
        {
          "output_type": "stream",
          "name": "stdout",
          "text": [
            "2023-04-09 08:40:48.816461: W tensorflow/compiler/tf2tensorrt/utils/py_utils.cc:38] TF-TRT Warning: Could not find TensorRT\n",
            "\u001b[2K     \u001b[90m━━━━━━━━━━━━━━━━━━━━━━━━━━━━━━━━━━━━━━━\u001b[0m \u001b[32m587.7/587.7 MB\u001b[0m \u001b[31m2.8 MB/s\u001b[0m eta \u001b[36m0:00:00\u001b[0m\n",
            "\u001b[?25h\u001b[38;5;2m✔ Download and installation successful\u001b[0m\n",
            "You can now load the package via spacy.load('en_core_web_lg')\n"
          ]
        }
      ],
      "source": [
        "!python -m spacy download en_core_web_lg -q"
      ]
    },
    {
      "cell_type": "code",
      "source": [
        "import pandas as pd\n",
        "import numpy as np\n",
        "  \n",
        "import spacy\n",
        "\n",
        "from sklearn.model_selection import train_test_split\n",
        "from sklearn.preprocessing import MinMaxScaler\n",
        "from sklearn.tree import DecisionTreeClassifier\n",
        "from sklearn.naive_bayes import MultinomialNB\n",
        "from  sklearn.neighbors import KNeighborsClassifier\n",
        "from sklearn.ensemble import RandomForestClassifier\n",
        "from sklearn.metrics import classification_report, confusion_matrix"
      ],
      "metadata": {
        "id": "xBeREMOb6XCK"
      },
      "execution_count": 57,
      "outputs": []
    },
    {
      "cell_type": "markdown",
      "source": [
        "## Initializing the NLP Object"
      ],
      "metadata": {
        "id": "0_TM6XXR6aZj"
      }
    },
    {
      "cell_type": "code",
      "source": [
        "nlp = spacy.load(\"en_core_web_lg\")\n",
        "\n",
        "nlp.pipe_names"
      ],
      "metadata": {
        "colab": {
          "base_uri": "https://localhost:8080/"
        },
        "id": "jbN9b40o6Z_g",
        "outputId": "4ea9f303-11e4-4e48-c931-01a0c4cba047"
      },
      "execution_count": 58,
      "outputs": [
        {
          "output_type": "execute_result",
          "data": {
            "text/plain": [
              "['tok2vec', 'tagger', 'parser', 'attribute_ruler', 'lemmatizer', 'ner']"
            ]
          },
          "metadata": {},
          "execution_count": 58
        }
      ]
    },
    {
      "cell_type": "markdown",
      "source": [
        "## Loading the Dataset"
      ],
      "metadata": {
        "id": "aatjOkmA6q8t"
      }
    },
    {
      "cell_type": "code",
      "source": [
        "from pathlib import Path\n",
        "import zipfile\n",
        "\n",
        "\n",
        "zip_path = Path(\"/content/news_categories.zip\")\n",
        "dest_dir = Path(\"/content\")\n",
        "\n",
        "if not dest_dir.is_file():\n",
        "    with zipfile.ZipFile(zip_path, \"r\") as zip_ref:\n",
        "        print(f\"[INFO] Unzipping dataset `{zip_path}` to `{dest_dir}`...\")\n",
        "        zip_ref.extractall(dest_dir)\n",
        "\n",
        "print(f\"[INFO] Dataset succesfully downloaded to `{dest_dir}`..\")"
      ],
      "metadata": {
        "colab": {
          "base_uri": "https://localhost:8080/"
        },
        "id": "Pr6AQgkl6qQv",
        "outputId": "5afd501c-8d5d-4e65-a7df-82625190dc7d"
      },
      "execution_count": 59,
      "outputs": [
        {
          "output_type": "stream",
          "name": "stdout",
          "text": [
            "[INFO] Unzipping dataset `/content/news_categories.zip` to `/content`...\n",
            "[INFO] Dataset succesfully downloaded to `/content`..\n"
          ]
        }
      ]
    },
    {
      "cell_type": "code",
      "source": [
        "df = pd.read_json(\"/content/News_Category_Dataset_v3.json\", lines=True)\n",
        "df = df[df[\"short_description\"] != '']\n",
        "\n",
        "print(df.shape)\n",
        "df.head(3)"
      ],
      "metadata": {
        "colab": {
          "base_uri": "https://localhost:8080/",
          "height": 257
        },
        "id": "ybxIiyCI65mY",
        "outputId": "f5c5caa3-87b0-4cd5-c9a6-eb7035d0f381"
      },
      "execution_count": 60,
      "outputs": [
        {
          "output_type": "stream",
          "name": "stdout",
          "text": [
            "(189815, 6)\n"
          ]
        },
        {
          "output_type": "execute_result",
          "data": {
            "text/plain": [
              "                                                link  \\\n",
              "0  https://www.huffpost.com/entry/covid-boosters-...   \n",
              "1  https://www.huffpost.com/entry/american-airlin...   \n",
              "2  https://www.huffpost.com/entry/funniest-tweets...   \n",
              "\n",
              "                                            headline   category  \\\n",
              "0  Over 4 Million Americans Roll Up Sleeves For O...  U.S. NEWS   \n",
              "1  American Airlines Flyer Charged, Banned For Li...  U.S. NEWS   \n",
              "2  23 Of The Funniest Tweets About Cats And Dogs ...     COMEDY   \n",
              "\n",
              "                                   short_description               authors  \\\n",
              "0  Health experts said it is too early to predict...  Carla K. Johnson, AP   \n",
              "1  He was subdued by passengers and crew when he ...        Mary Papenfuss   \n",
              "2  \"Until you have a dog you don't understand wha...         Elyse Wanshel   \n",
              "\n",
              "        date  \n",
              "0 2022-09-23  \n",
              "1 2022-09-23  \n",
              "2 2022-09-23  "
            ],
            "text/html": [
              "\n",
              "  <div id=\"df-6d732ea3-e279-4e55-8b39-a473aafd172e\">\n",
              "    <div class=\"colab-df-container\">\n",
              "      <div>\n",
              "<style scoped>\n",
              "    .dataframe tbody tr th:only-of-type {\n",
              "        vertical-align: middle;\n",
              "    }\n",
              "\n",
              "    .dataframe tbody tr th {\n",
              "        vertical-align: top;\n",
              "    }\n",
              "\n",
              "    .dataframe thead th {\n",
              "        text-align: right;\n",
              "    }\n",
              "</style>\n",
              "<table border=\"1\" class=\"dataframe\">\n",
              "  <thead>\n",
              "    <tr style=\"text-align: right;\">\n",
              "      <th></th>\n",
              "      <th>link</th>\n",
              "      <th>headline</th>\n",
              "      <th>category</th>\n",
              "      <th>short_description</th>\n",
              "      <th>authors</th>\n",
              "      <th>date</th>\n",
              "    </tr>\n",
              "  </thead>\n",
              "  <tbody>\n",
              "    <tr>\n",
              "      <th>0</th>\n",
              "      <td>https://www.huffpost.com/entry/covid-boosters-...</td>\n",
              "      <td>Over 4 Million Americans Roll Up Sleeves For O...</td>\n",
              "      <td>U.S. NEWS</td>\n",
              "      <td>Health experts said it is too early to predict...</td>\n",
              "      <td>Carla K. Johnson, AP</td>\n",
              "      <td>2022-09-23</td>\n",
              "    </tr>\n",
              "    <tr>\n",
              "      <th>1</th>\n",
              "      <td>https://www.huffpost.com/entry/american-airlin...</td>\n",
              "      <td>American Airlines Flyer Charged, Banned For Li...</td>\n",
              "      <td>U.S. NEWS</td>\n",
              "      <td>He was subdued by passengers and crew when he ...</td>\n",
              "      <td>Mary Papenfuss</td>\n",
              "      <td>2022-09-23</td>\n",
              "    </tr>\n",
              "    <tr>\n",
              "      <th>2</th>\n",
              "      <td>https://www.huffpost.com/entry/funniest-tweets...</td>\n",
              "      <td>23 Of The Funniest Tweets About Cats And Dogs ...</td>\n",
              "      <td>COMEDY</td>\n",
              "      <td>\"Until you have a dog you don't understand wha...</td>\n",
              "      <td>Elyse Wanshel</td>\n",
              "      <td>2022-09-23</td>\n",
              "    </tr>\n",
              "  </tbody>\n",
              "</table>\n",
              "</div>\n",
              "      <button class=\"colab-df-convert\" onclick=\"convertToInteractive('df-6d732ea3-e279-4e55-8b39-a473aafd172e')\"\n",
              "              title=\"Convert this dataframe to an interactive table.\"\n",
              "              style=\"display:none;\">\n",
              "        \n",
              "  <svg xmlns=\"http://www.w3.org/2000/svg\" height=\"24px\"viewBox=\"0 0 24 24\"\n",
              "       width=\"24px\">\n",
              "    <path d=\"M0 0h24v24H0V0z\" fill=\"none\"/>\n",
              "    <path d=\"M18.56 5.44l.94 2.06.94-2.06 2.06-.94-2.06-.94-.94-2.06-.94 2.06-2.06.94zm-11 1L8.5 8.5l.94-2.06 2.06-.94-2.06-.94L8.5 2.5l-.94 2.06-2.06.94zm10 10l.94 2.06.94-2.06 2.06-.94-2.06-.94-.94-2.06-.94 2.06-2.06.94z\"/><path d=\"M17.41 7.96l-1.37-1.37c-.4-.4-.92-.59-1.43-.59-.52 0-1.04.2-1.43.59L10.3 9.45l-7.72 7.72c-.78.78-.78 2.05 0 2.83L4 21.41c.39.39.9.59 1.41.59.51 0 1.02-.2 1.41-.59l7.78-7.78 2.81-2.81c.8-.78.8-2.07 0-2.86zM5.41 20L4 18.59l7.72-7.72 1.47 1.35L5.41 20z\"/>\n",
              "  </svg>\n",
              "      </button>\n",
              "      \n",
              "  <style>\n",
              "    .colab-df-container {\n",
              "      display:flex;\n",
              "      flex-wrap:wrap;\n",
              "      gap: 12px;\n",
              "    }\n",
              "\n",
              "    .colab-df-convert {\n",
              "      background-color: #E8F0FE;\n",
              "      border: none;\n",
              "      border-radius: 50%;\n",
              "      cursor: pointer;\n",
              "      display: none;\n",
              "      fill: #1967D2;\n",
              "      height: 32px;\n",
              "      padding: 0 0 0 0;\n",
              "      width: 32px;\n",
              "    }\n",
              "\n",
              "    .colab-df-convert:hover {\n",
              "      background-color: #E2EBFA;\n",
              "      box-shadow: 0px 1px 2px rgba(60, 64, 67, 0.3), 0px 1px 3px 1px rgba(60, 64, 67, 0.15);\n",
              "      fill: #174EA6;\n",
              "    }\n",
              "\n",
              "    [theme=dark] .colab-df-convert {\n",
              "      background-color: #3B4455;\n",
              "      fill: #D2E3FC;\n",
              "    }\n",
              "\n",
              "    [theme=dark] .colab-df-convert:hover {\n",
              "      background-color: #434B5C;\n",
              "      box-shadow: 0px 1px 3px 1px rgba(0, 0, 0, 0.15);\n",
              "      filter: drop-shadow(0px 1px 2px rgba(0, 0, 0, 0.3));\n",
              "      fill: #FFFFFF;\n",
              "    }\n",
              "  </style>\n",
              "\n",
              "      <script>\n",
              "        const buttonEl =\n",
              "          document.querySelector('#df-6d732ea3-e279-4e55-8b39-a473aafd172e button.colab-df-convert');\n",
              "        buttonEl.style.display =\n",
              "          google.colab.kernel.accessAllowed ? 'block' : 'none';\n",
              "\n",
              "        async function convertToInteractive(key) {\n",
              "          const element = document.querySelector('#df-6d732ea3-e279-4e55-8b39-a473aafd172e');\n",
              "          const dataTable =\n",
              "            await google.colab.kernel.invokeFunction('convertToInteractive',\n",
              "                                                     [key], {});\n",
              "          if (!dataTable) return;\n",
              "\n",
              "          const docLinkHtml = 'Like what you see? Visit the ' +\n",
              "            '<a target=\"_blank\" href=https://colab.research.google.com/notebooks/data_table.ipynb>data table notebook</a>'\n",
              "            + ' to learn more about interactive tables.';\n",
              "          element.innerHTML = '';\n",
              "          dataTable['output_type'] = 'display_data';\n",
              "          await google.colab.output.renderOutput(dataTable, element);\n",
              "          const docLink = document.createElement('div');\n",
              "          docLink.innerHTML = docLinkHtml;\n",
              "          element.appendChild(docLink);\n",
              "        }\n",
              "      </script>\n",
              "    </div>\n",
              "  </div>\n",
              "  "
            ]
          },
          "metadata": {},
          "execution_count": 60
        }
      ]
    },
    {
      "cell_type": "code",
      "source": [
        "df.value_counts(\"category\")"
      ],
      "metadata": {
        "colab": {
          "base_uri": "https://localhost:8080/"
        },
        "id": "WljY0d3w7C29",
        "outputId": "bfd306b6-3a6f-46c6-c38b-bee61518d288"
      },
      "execution_count": 61,
      "outputs": [
        {
          "output_type": "execute_result",
          "data": {
            "text/plain": [
              "category\n",
              "POLITICS          32441\n",
              "WELLNESS          17943\n",
              "ENTERTAINMENT     14774\n",
              "STYLE & BEAUTY     9802\n",
              "TRAVEL             9421\n",
              "PARENTING          8790\n",
              "FOOD & DRINK       6331\n",
              "QUEER VOICES       5603\n",
              "HEALTHY LIVING     5265\n",
              "BUSINESS           5132\n",
              "COMEDY             4642\n",
              "SPORTS             4414\n",
              "HOME & LIVING      4317\n",
              "BLACK VOICES       4177\n",
              "THE WORLDPOST      3664\n",
              "WEDDINGS           3653\n",
              "PARENTS            3556\n",
              "DIVORCE            3426\n",
              "WORLD NEWS         3297\n",
              "WOMEN              3184\n",
              "IMPACT             3086\n",
              "CRIME              2832\n",
              "MEDIA              2404\n",
              "WEIRD NEWS         2316\n",
              "TECH               2103\n",
              "GREEN              2046\n",
              "TASTE              1940\n",
              "RELIGION           1879\n",
              "SCIENCE            1803\n",
              "MONEY              1755\n",
              "STYLE              1567\n",
              "ENVIRONMENT        1442\n",
              "U.S. NEWS          1377\n",
              "ARTS & CULTURE     1339\n",
              "WORLDPOST          1242\n",
              "CULTURE & ARTS     1063\n",
              "FIFTY              1042\n",
              "GOOD NEWS          1039\n",
              "LATINO VOICES      1022\n",
              "COLLEGE             921\n",
              "EDUCATION           902\n",
              "ARTS                863\n",
              "dtype: int64"
            ]
          },
          "metadata": {},
          "execution_count": 61
        }
      ]
    },
    {
      "cell_type": "markdown",
      "source": [
        "## Preprocessing the Dataset"
      ],
      "metadata": {
        "id": "VLw9gl967mQh"
      }
    },
    {
      "cell_type": "code",
      "source": [
        "# g = df.groupby(\"category\", group_keys=False)\n",
        "# df = g.apply(lambda x: x.sample(1600, replace=True))\n",
        "\n",
        "# print(df.shape)\n",
        "# df.head(3)"
      ],
      "metadata": {
        "id": "IDM8Mn1y7Mcl"
      },
      "execution_count": 62,
      "outputs": []
    },
    {
      "cell_type": "code",
      "source": [
        "# df.value_counts(\"category\")"
      ],
      "metadata": {
        "id": "OA-c_e3J77VE"
      },
      "execution_count": 63,
      "outputs": []
    },
    {
      "cell_type": "code",
      "source": [
        "category_l = list(set(category for category in df[\"category\"]))\n",
        "\n",
        "df[\"category_num\"] = df[\"category\"].map(\n",
        "    {category_l[i]: i for i in range(len(category_l))}\n",
        ")"
      ],
      "metadata": {
        "id": "1Og7pYH-8ZrF"
      },
      "execution_count": 64,
      "outputs": []
    },
    {
      "cell_type": "code",
      "source": [
        "df.head(3)"
      ],
      "metadata": {
        "colab": {
          "base_uri": "https://localhost:8080/",
          "height": 240
        },
        "id": "gczYhtxt9k1e",
        "outputId": "c3020221-f0de-4ba3-8de7-92f218c3477e"
      },
      "execution_count": 65,
      "outputs": [
        {
          "output_type": "execute_result",
          "data": {
            "text/plain": [
              "                                                link  \\\n",
              "0  https://www.huffpost.com/entry/covid-boosters-...   \n",
              "1  https://www.huffpost.com/entry/american-airlin...   \n",
              "2  https://www.huffpost.com/entry/funniest-tweets...   \n",
              "\n",
              "                                            headline   category  \\\n",
              "0  Over 4 Million Americans Roll Up Sleeves For O...  U.S. NEWS   \n",
              "1  American Airlines Flyer Charged, Banned For Li...  U.S. NEWS   \n",
              "2  23 Of The Funniest Tweets About Cats And Dogs ...     COMEDY   \n",
              "\n",
              "                                   short_description               authors  \\\n",
              "0  Health experts said it is too early to predict...  Carla K. Johnson, AP   \n",
              "1  He was subdued by passengers and crew when he ...        Mary Papenfuss   \n",
              "2  \"Until you have a dog you don't understand wha...         Elyse Wanshel   \n",
              "\n",
              "        date  category_num  \n",
              "0 2022-09-23             6  \n",
              "1 2022-09-23             6  \n",
              "2 2022-09-23            21  "
            ],
            "text/html": [
              "\n",
              "  <div id=\"df-4242f094-9887-4e8e-afb1-83d3370722a8\">\n",
              "    <div class=\"colab-df-container\">\n",
              "      <div>\n",
              "<style scoped>\n",
              "    .dataframe tbody tr th:only-of-type {\n",
              "        vertical-align: middle;\n",
              "    }\n",
              "\n",
              "    .dataframe tbody tr th {\n",
              "        vertical-align: top;\n",
              "    }\n",
              "\n",
              "    .dataframe thead th {\n",
              "        text-align: right;\n",
              "    }\n",
              "</style>\n",
              "<table border=\"1\" class=\"dataframe\">\n",
              "  <thead>\n",
              "    <tr style=\"text-align: right;\">\n",
              "      <th></th>\n",
              "      <th>link</th>\n",
              "      <th>headline</th>\n",
              "      <th>category</th>\n",
              "      <th>short_description</th>\n",
              "      <th>authors</th>\n",
              "      <th>date</th>\n",
              "      <th>category_num</th>\n",
              "    </tr>\n",
              "  </thead>\n",
              "  <tbody>\n",
              "    <tr>\n",
              "      <th>0</th>\n",
              "      <td>https://www.huffpost.com/entry/covid-boosters-...</td>\n",
              "      <td>Over 4 Million Americans Roll Up Sleeves For O...</td>\n",
              "      <td>U.S. NEWS</td>\n",
              "      <td>Health experts said it is too early to predict...</td>\n",
              "      <td>Carla K. Johnson, AP</td>\n",
              "      <td>2022-09-23</td>\n",
              "      <td>6</td>\n",
              "    </tr>\n",
              "    <tr>\n",
              "      <th>1</th>\n",
              "      <td>https://www.huffpost.com/entry/american-airlin...</td>\n",
              "      <td>American Airlines Flyer Charged, Banned For Li...</td>\n",
              "      <td>U.S. NEWS</td>\n",
              "      <td>He was subdued by passengers and crew when he ...</td>\n",
              "      <td>Mary Papenfuss</td>\n",
              "      <td>2022-09-23</td>\n",
              "      <td>6</td>\n",
              "    </tr>\n",
              "    <tr>\n",
              "      <th>2</th>\n",
              "      <td>https://www.huffpost.com/entry/funniest-tweets...</td>\n",
              "      <td>23 Of The Funniest Tweets About Cats And Dogs ...</td>\n",
              "      <td>COMEDY</td>\n",
              "      <td>\"Until you have a dog you don't understand wha...</td>\n",
              "      <td>Elyse Wanshel</td>\n",
              "      <td>2022-09-23</td>\n",
              "      <td>21</td>\n",
              "    </tr>\n",
              "  </tbody>\n",
              "</table>\n",
              "</div>\n",
              "      <button class=\"colab-df-convert\" onclick=\"convertToInteractive('df-4242f094-9887-4e8e-afb1-83d3370722a8')\"\n",
              "              title=\"Convert this dataframe to an interactive table.\"\n",
              "              style=\"display:none;\">\n",
              "        \n",
              "  <svg xmlns=\"http://www.w3.org/2000/svg\" height=\"24px\"viewBox=\"0 0 24 24\"\n",
              "       width=\"24px\">\n",
              "    <path d=\"M0 0h24v24H0V0z\" fill=\"none\"/>\n",
              "    <path d=\"M18.56 5.44l.94 2.06.94-2.06 2.06-.94-2.06-.94-.94-2.06-.94 2.06-2.06.94zm-11 1L8.5 8.5l.94-2.06 2.06-.94-2.06-.94L8.5 2.5l-.94 2.06-2.06.94zm10 10l.94 2.06.94-2.06 2.06-.94-2.06-.94-.94-2.06-.94 2.06-2.06.94z\"/><path d=\"M17.41 7.96l-1.37-1.37c-.4-.4-.92-.59-1.43-.59-.52 0-1.04.2-1.43.59L10.3 9.45l-7.72 7.72c-.78.78-.78 2.05 0 2.83L4 21.41c.39.39.9.59 1.41.59.51 0 1.02-.2 1.41-.59l7.78-7.78 2.81-2.81c.8-.78.8-2.07 0-2.86zM5.41 20L4 18.59l7.72-7.72 1.47 1.35L5.41 20z\"/>\n",
              "  </svg>\n",
              "      </button>\n",
              "      \n",
              "  <style>\n",
              "    .colab-df-container {\n",
              "      display:flex;\n",
              "      flex-wrap:wrap;\n",
              "      gap: 12px;\n",
              "    }\n",
              "\n",
              "    .colab-df-convert {\n",
              "      background-color: #E8F0FE;\n",
              "      border: none;\n",
              "      border-radius: 50%;\n",
              "      cursor: pointer;\n",
              "      display: none;\n",
              "      fill: #1967D2;\n",
              "      height: 32px;\n",
              "      padding: 0 0 0 0;\n",
              "      width: 32px;\n",
              "    }\n",
              "\n",
              "    .colab-df-convert:hover {\n",
              "      background-color: #E2EBFA;\n",
              "      box-shadow: 0px 1px 2px rgba(60, 64, 67, 0.3), 0px 1px 3px 1px rgba(60, 64, 67, 0.15);\n",
              "      fill: #174EA6;\n",
              "    }\n",
              "\n",
              "    [theme=dark] .colab-df-convert {\n",
              "      background-color: #3B4455;\n",
              "      fill: #D2E3FC;\n",
              "    }\n",
              "\n",
              "    [theme=dark] .colab-df-convert:hover {\n",
              "      background-color: #434B5C;\n",
              "      box-shadow: 0px 1px 3px 1px rgba(0, 0, 0, 0.15);\n",
              "      filter: drop-shadow(0px 1px 2px rgba(0, 0, 0, 0.3));\n",
              "      fill: #FFFFFF;\n",
              "    }\n",
              "  </style>\n",
              "\n",
              "      <script>\n",
              "        const buttonEl =\n",
              "          document.querySelector('#df-4242f094-9887-4e8e-afb1-83d3370722a8 button.colab-df-convert');\n",
              "        buttonEl.style.display =\n",
              "          google.colab.kernel.accessAllowed ? 'block' : 'none';\n",
              "\n",
              "        async function convertToInteractive(key) {\n",
              "          const element = document.querySelector('#df-4242f094-9887-4e8e-afb1-83d3370722a8');\n",
              "          const dataTable =\n",
              "            await google.colab.kernel.invokeFunction('convertToInteractive',\n",
              "                                                     [key], {});\n",
              "          if (!dataTable) return;\n",
              "\n",
              "          const docLinkHtml = 'Like what you see? Visit the ' +\n",
              "            '<a target=\"_blank\" href=https://colab.research.google.com/notebooks/data_table.ipynb>data table notebook</a>'\n",
              "            + ' to learn more about interactive tables.';\n",
              "          element.innerHTML = '';\n",
              "          dataTable['output_type'] = 'display_data';\n",
              "          await google.colab.output.renderOutput(dataTable, element);\n",
              "          const docLink = document.createElement('div');\n",
              "          docLink.innerHTML = docLinkHtml;\n",
              "          element.appendChild(docLink);\n",
              "        }\n",
              "      </script>\n",
              "    </div>\n",
              "  </div>\n",
              "  "
            ]
          },
          "metadata": {},
          "execution_count": 65
        }
      ]
    },
    {
      "cell_type": "code",
      "source": [
        "# Creating a new field that cointains the preprocessed text\n",
        "df[\"preprocessed_text\"] = df[\"short_description\"].apply(lambda x: \" \".join(token.lemma_ for token in nlp(x) if (not token.is_stop) and (not token.is_punct)))"
      ],
      "metadata": {
        "id": "WzDz8deF9qf6"
      },
      "execution_count": 66,
      "outputs": []
    },
    {
      "cell_type": "code",
      "source": [
        "# Creaing a new field that contains the vector representation of each test\n",
        "df[\"vectored_text\"] = df[\"short_description\"].apply(lambda x: nlp(x).vector)"
      ],
      "metadata": {
        "id": "SFMJMvp3-MWg"
      },
      "execution_count": 67,
      "outputs": []
    },
    {
      "cell_type": "code",
      "source": [
        "# Getting the final Dataset\n",
        "df = df[[\"vectored_text\", \"category_num\"]]\n",
        "df.rename(columns={\"vectored_text\": \"Text\", \"category_num\": \"Category\"}, inplace=True)\n",
        "\n",
        "print(df.shape)\n",
        "df.head(3)"
      ],
      "metadata": {
        "colab": {
          "base_uri": "https://localhost:8080/",
          "height": 161
        },
        "id": "mxF83w9Q_T01",
        "outputId": "f56f5067-8463-46d9-c3b9-78208ff3c220"
      },
      "execution_count": 77,
      "outputs": [
        {
          "output_type": "stream",
          "name": "stdout",
          "text": [
            "(189815, 2)\n"
          ]
        },
        {
          "output_type": "execute_result",
          "data": {
            "text/plain": [
              "                                                Text  Category\n",
              "0  [-2.2348204, 1.4418973, -1.6081636, 1.2546554,...         6\n",
              "1  [-2.8690436, 1.383921, -2.131473, 0.79687876, ...         6\n",
              "2  [-0.9373005, 4.8455877, -3.5144181, -1.0967755...        21"
            ],
            "text/html": [
              "\n",
              "  <div id=\"df-b6c2edcf-be99-45fd-8902-732119c30d51\">\n",
              "    <div class=\"colab-df-container\">\n",
              "      <div>\n",
              "<style scoped>\n",
              "    .dataframe tbody tr th:only-of-type {\n",
              "        vertical-align: middle;\n",
              "    }\n",
              "\n",
              "    .dataframe tbody tr th {\n",
              "        vertical-align: top;\n",
              "    }\n",
              "\n",
              "    .dataframe thead th {\n",
              "        text-align: right;\n",
              "    }\n",
              "</style>\n",
              "<table border=\"1\" class=\"dataframe\">\n",
              "  <thead>\n",
              "    <tr style=\"text-align: right;\">\n",
              "      <th></th>\n",
              "      <th>Text</th>\n",
              "      <th>Category</th>\n",
              "    </tr>\n",
              "  </thead>\n",
              "  <tbody>\n",
              "    <tr>\n",
              "      <th>0</th>\n",
              "      <td>[-2.2348204, 1.4418973, -1.6081636, 1.2546554,...</td>\n",
              "      <td>6</td>\n",
              "    </tr>\n",
              "    <tr>\n",
              "      <th>1</th>\n",
              "      <td>[-2.8690436, 1.383921, -2.131473, 0.79687876, ...</td>\n",
              "      <td>6</td>\n",
              "    </tr>\n",
              "    <tr>\n",
              "      <th>2</th>\n",
              "      <td>[-0.9373005, 4.8455877, -3.5144181, -1.0967755...</td>\n",
              "      <td>21</td>\n",
              "    </tr>\n",
              "  </tbody>\n",
              "</table>\n",
              "</div>\n",
              "      <button class=\"colab-df-convert\" onclick=\"convertToInteractive('df-b6c2edcf-be99-45fd-8902-732119c30d51')\"\n",
              "              title=\"Convert this dataframe to an interactive table.\"\n",
              "              style=\"display:none;\">\n",
              "        \n",
              "  <svg xmlns=\"http://www.w3.org/2000/svg\" height=\"24px\"viewBox=\"0 0 24 24\"\n",
              "       width=\"24px\">\n",
              "    <path d=\"M0 0h24v24H0V0z\" fill=\"none\"/>\n",
              "    <path d=\"M18.56 5.44l.94 2.06.94-2.06 2.06-.94-2.06-.94-.94-2.06-.94 2.06-2.06.94zm-11 1L8.5 8.5l.94-2.06 2.06-.94-2.06-.94L8.5 2.5l-.94 2.06-2.06.94zm10 10l.94 2.06.94-2.06 2.06-.94-2.06-.94-.94-2.06-.94 2.06-2.06.94z\"/><path d=\"M17.41 7.96l-1.37-1.37c-.4-.4-.92-.59-1.43-.59-.52 0-1.04.2-1.43.59L10.3 9.45l-7.72 7.72c-.78.78-.78 2.05 0 2.83L4 21.41c.39.39.9.59 1.41.59.51 0 1.02-.2 1.41-.59l7.78-7.78 2.81-2.81c.8-.78.8-2.07 0-2.86zM5.41 20L4 18.59l7.72-7.72 1.47 1.35L5.41 20z\"/>\n",
              "  </svg>\n",
              "      </button>\n",
              "      \n",
              "  <style>\n",
              "    .colab-df-container {\n",
              "      display:flex;\n",
              "      flex-wrap:wrap;\n",
              "      gap: 12px;\n",
              "    }\n",
              "\n",
              "    .colab-df-convert {\n",
              "      background-color: #E8F0FE;\n",
              "      border: none;\n",
              "      border-radius: 50%;\n",
              "      cursor: pointer;\n",
              "      display: none;\n",
              "      fill: #1967D2;\n",
              "      height: 32px;\n",
              "      padding: 0 0 0 0;\n",
              "      width: 32px;\n",
              "    }\n",
              "\n",
              "    .colab-df-convert:hover {\n",
              "      background-color: #E2EBFA;\n",
              "      box-shadow: 0px 1px 2px rgba(60, 64, 67, 0.3), 0px 1px 3px 1px rgba(60, 64, 67, 0.15);\n",
              "      fill: #174EA6;\n",
              "    }\n",
              "\n",
              "    [theme=dark] .colab-df-convert {\n",
              "      background-color: #3B4455;\n",
              "      fill: #D2E3FC;\n",
              "    }\n",
              "\n",
              "    [theme=dark] .colab-df-convert:hover {\n",
              "      background-color: #434B5C;\n",
              "      box-shadow: 0px 1px 3px 1px rgba(0, 0, 0, 0.15);\n",
              "      filter: drop-shadow(0px 1px 2px rgba(0, 0, 0, 0.3));\n",
              "      fill: #FFFFFF;\n",
              "    }\n",
              "  </style>\n",
              "\n",
              "      <script>\n",
              "        const buttonEl =\n",
              "          document.querySelector('#df-b6c2edcf-be99-45fd-8902-732119c30d51 button.colab-df-convert');\n",
              "        buttonEl.style.display =\n",
              "          google.colab.kernel.accessAllowed ? 'block' : 'none';\n",
              "\n",
              "        async function convertToInteractive(key) {\n",
              "          const element = document.querySelector('#df-b6c2edcf-be99-45fd-8902-732119c30d51');\n",
              "          const dataTable =\n",
              "            await google.colab.kernel.invokeFunction('convertToInteractive',\n",
              "                                                     [key], {});\n",
              "          if (!dataTable) return;\n",
              "\n",
              "          const docLinkHtml = 'Like what you see? Visit the ' +\n",
              "            '<a target=\"_blank\" href=https://colab.research.google.com/notebooks/data_table.ipynb>data table notebook</a>'\n",
              "            + ' to learn more about interactive tables.';\n",
              "          element.innerHTML = '';\n",
              "          dataTable['output_type'] = 'display_data';\n",
              "          await google.colab.output.renderOutput(dataTable, element);\n",
              "          const docLink = document.createElement('div');\n",
              "          docLink.innerHTML = docLinkHtml;\n",
              "          element.appendChild(docLink);\n",
              "        }\n",
              "      </script>\n",
              "    </div>\n",
              "  </div>\n",
              "  "
            ]
          },
          "metadata": {},
          "execution_count": 77
        }
      ]
    },
    {
      "cell_type": "markdown",
      "source": [
        "## Splitting the Dataset into Training and Testing Sets"
      ],
      "metadata": {
        "id": "5DkdCpSG_3_D"
      }
    },
    {
      "cell_type": "code",
      "source": [
        "test_prop = 0.2\n",
        "\n",
        "x_train, x_test, y_train, y_test = train_test_split(\n",
        "    df[\"Text\"].values,\n",
        "    df[\"Category\"].values,\n",
        "    test_size = test_prop,\n",
        ")\n",
        "\n",
        "print(len(x_train), len(y_train), len(x_test), len(y_test))"
      ],
      "metadata": {
        "colab": {
          "base_uri": "https://localhost:8080/"
        },
        "id": "eZ3H3C3B_m6g",
        "outputId": "138ae491-32c4-4f5b-9bd3-c77bb72d3613"
      },
      "execution_count": 79,
      "outputs": [
        {
          "output_type": "stream",
          "name": "stdout",
          "text": [
            "151852 151852 37963 37963\n"
          ]
        }
      ]
    },
    {
      "cell_type": "code",
      "source": [
        "# Reshaping the input arrays into a more compatable format\n",
        "x_train = np.stack(x_train)\n",
        "x_test = np.stack(x_test)"
      ],
      "metadata": {
        "id": "Tz6bUsqHAIs-"
      },
      "execution_count": 80,
      "outputs": []
    },
    {
      "cell_type": "markdown",
      "source": [
        "## Decision Tree"
      ],
      "metadata": {
        "id": "zRPcfwbiAVea"
      }
    },
    {
      "cell_type": "code",
      "source": [
        "clf_dt = DecisionTreeClassifier()\n",
        "\n",
        "clf_dt.fit(x_train, y_train)\n",
        "\n",
        "print(classification_report(y_test, clf_dt.predict(x_test)))"
      ],
      "metadata": {
        "colab": {
          "base_uri": "https://localhost:8080/"
        },
        "id": "Lc3liX8tAXJr",
        "outputId": "f8ea8952-708a-4652-b432-08f8f144c377"
      },
      "execution_count": 71,
      "outputs": [
        {
          "output_type": "stream",
          "name": "stdout",
          "text": [
            "              precision    recall  f1-score   support\n",
            "\n",
            "           0       0.01      0.01      0.01       268\n",
            "           1       0.06      0.05      0.06       421\n",
            "           2       0.02      0.02      0.02       180\n",
            "           3       0.28      0.28      0.28      3589\n",
            "           4       0.06      0.06      0.06       731\n",
            "           5       0.01      0.01      0.01       204\n",
            "           6       0.02      0.02      0.02       275\n",
            "           7       0.15      0.15      0.15       863\n",
            "           8       0.41      0.39      0.40      6488\n",
            "           9       0.04      0.04      0.04       313\n",
            "          10       0.06      0.06      0.06      1027\n",
            "          11       0.01      0.01      0.01       184\n",
            "          12       0.07      0.07      0.07      1053\n",
            "          13       0.06      0.06      0.06       685\n",
            "          14       0.04      0.04      0.04       637\n",
            "          15       0.07      0.08      0.08       388\n",
            "          16       0.02      0.02      0.02       361\n",
            "          17       0.02      0.01      0.02       409\n",
            "          18       0.02      0.02      0.02       351\n",
            "          19       0.03      0.03      0.03       248\n",
            "          20       0.01      0.01      0.01       208\n",
            "          21       0.08      0.08      0.08       928\n",
            "          22       0.26      0.26      0.26      1960\n",
            "          23       0.19      0.20      0.19      1884\n",
            "          24       0.21      0.21      0.21      2955\n",
            "          25       0.15      0.16      0.15      1266\n",
            "          26       0.01      0.01      0.01       213\n",
            "          27       0.07      0.07      0.07       660\n",
            "          28       0.05      0.05      0.05       463\n",
            "          29       0.05      0.05      0.05       566\n",
            "          30       0.06      0.06      0.06       376\n",
            "          31       0.04      0.04      0.04       617\n",
            "          32       0.05      0.05      0.05       288\n",
            "          33       0.03      0.03      0.03       173\n",
            "          34       0.06      0.06      0.06       711\n",
            "          35       0.07      0.07      0.07       883\n",
            "          36       0.04      0.04      0.04       835\n",
            "          37       0.01      0.01      0.01       209\n",
            "          38       0.02      0.02      0.02       481\n",
            "          39       0.08      0.08      0.08      1121\n",
            "          40       0.11      0.12      0.12      1758\n",
            "          41       0.08      0.08      0.08       733\n",
            "\n",
            "    accuracy                           0.17     37963\n",
            "   macro avg       0.08      0.08      0.08     37963\n",
            "weighted avg       0.17      0.17      0.17     37963\n",
            "\n"
          ]
        }
      ]
    },
    {
      "cell_type": "markdown",
      "source": [
        "## Naive Bayes"
      ],
      "metadata": {
        "id": "tzA25qroBGKn"
      }
    },
    {
      "cell_type": "code",
      "source": [
        "# Applying MinMaxScaler to the inputs\n",
        "scaler = MinMaxScaler()\n",
        "\n",
        "x_train_transformed = scaler.fit_transform(x_train)\n",
        "x_test_transformed = scaler.transform(x_test)\n",
        "\n",
        "clf_nb = MultinomialNB()\n",
        "\n",
        "clf_nb.fit(x_train_transformed, y_train)\n",
        "\n",
        "print(classification_report(y_test, clf_nb.predict(x_test_transformed)))"
      ],
      "metadata": {
        "colab": {
          "base_uri": "https://localhost:8080/"
        },
        "id": "_aBABuicBHQk",
        "outputId": "60b71cb6-06e2-425b-b2b2-2e816f17e5bc"
      },
      "execution_count": 72,
      "outputs": [
        {
          "output_type": "stream",
          "name": "stdout",
          "text": [
            "              precision    recall  f1-score   support\n",
            "\n",
            "           0       0.00      0.00      0.00       268\n",
            "           1       0.00      0.00      0.00       421\n",
            "           2       0.00      0.00      0.00       180\n",
            "           3       0.23      0.08      0.12      3589\n",
            "           4       0.00      0.00      0.00       731\n",
            "           5       0.00      0.00      0.00       204\n",
            "           6       0.00      0.00      0.00       275\n",
            "           7       0.00      0.00      0.00       863\n",
            "           8       0.18      0.98      0.30      6488\n",
            "           9       0.00      0.00      0.00       313\n",
            "          10       0.00      0.00      0.00      1027\n",
            "          11       0.00      0.00      0.00       184\n",
            "          12       0.00      0.00      0.00      1053\n",
            "          13       0.00      0.00      0.00       685\n",
            "          14       0.00      0.00      0.00       637\n",
            "          15       0.00      0.00      0.00       388\n",
            "          16       0.00      0.00      0.00       361\n",
            "          17       0.00      0.00      0.00       409\n",
            "          18       0.00      0.00      0.00       351\n",
            "          19       0.00      0.00      0.00       248\n",
            "          20       0.00      0.00      0.00       208\n",
            "          21       0.00      0.00      0.00       928\n",
            "          22       0.00      0.00      0.00      1960\n",
            "          23       0.00      0.00      0.00      1884\n",
            "          24       0.31      0.04      0.08      2955\n",
            "          25       0.00      0.00      0.00      1266\n",
            "          26       0.00      0.00      0.00       213\n",
            "          27       0.00      0.00      0.00       660\n",
            "          28       0.00      0.00      0.00       463\n",
            "          29       0.00      0.00      0.00       566\n",
            "          30       0.00      0.00      0.00       376\n",
            "          31       0.00      0.00      0.00       617\n",
            "          32       0.00      0.00      0.00       288\n",
            "          33       0.00      0.00      0.00       173\n",
            "          34       0.00      0.00      0.00       711\n",
            "          35       0.00      0.00      0.00       883\n",
            "          36       0.00      0.00      0.00       835\n",
            "          37       0.00      0.00      0.00       209\n",
            "          38       0.00      0.00      0.00       481\n",
            "          39       0.00      0.00      0.00      1121\n",
            "          40       0.00      0.00      0.00      1758\n",
            "          41       0.00      0.00      0.00       733\n",
            "\n",
            "    accuracy                           0.18     37963\n",
            "   macro avg       0.02      0.03      0.01     37963\n",
            "weighted avg       0.08      0.18      0.07     37963\n",
            "\n"
          ]
        },
        {
          "output_type": "stream",
          "name": "stderr",
          "text": [
            "/usr/local/lib/python3.9/dist-packages/sklearn/metrics/_classification.py:1344: UndefinedMetricWarning: Precision and F-score are ill-defined and being set to 0.0 in labels with no predicted samples. Use `zero_division` parameter to control this behavior.\n",
            "  _warn_prf(average, modifier, msg_start, len(result))\n",
            "/usr/local/lib/python3.9/dist-packages/sklearn/metrics/_classification.py:1344: UndefinedMetricWarning: Precision and F-score are ill-defined and being set to 0.0 in labels with no predicted samples. Use `zero_division` parameter to control this behavior.\n",
            "  _warn_prf(average, modifier, msg_start, len(result))\n",
            "/usr/local/lib/python3.9/dist-packages/sklearn/metrics/_classification.py:1344: UndefinedMetricWarning: Precision and F-score are ill-defined and being set to 0.0 in labels with no predicted samples. Use `zero_division` parameter to control this behavior.\n",
            "  _warn_prf(average, modifier, msg_start, len(result))\n"
          ]
        }
      ]
    },
    {
      "cell_type": "markdown",
      "source": [
        "## KNN"
      ],
      "metadata": {
        "id": "DEcir0faBSxP"
      }
    },
    {
      "cell_type": "code",
      "source": [
        "clf_knn = KNeighborsClassifier(n_neighbors=10, metric=\"euclidean\")\n",
        "\n",
        "clf_knn.fit(x_train, y_train)\n",
        "\n",
        "print(classification_report(y_test, clf_knn.predict(x_test)))"
      ],
      "metadata": {
        "colab": {
          "base_uri": "https://localhost:8080/"
        },
        "id": "yN_BTxLSBTeD",
        "outputId": "9e2ceb3d-bca2-4e83-8cd6-b1eb9db53aca"
      },
      "execution_count": 81,
      "outputs": [
        {
          "output_type": "stream",
          "name": "stdout",
          "text": [
            "              precision    recall  f1-score   support\n",
            "\n",
            "           0       0.09      0.04      0.05       264\n",
            "           1       0.15      0.07      0.10       392\n",
            "           2       0.08      0.07      0.08       180\n",
            "           3       0.25      0.69      0.37      3511\n",
            "           4       0.19      0.15      0.17       708\n",
            "           5       0.00      0.00      0.00       201\n",
            "           6       0.11      0.06      0.08       273\n",
            "           7       0.34      0.15      0.21       889\n",
            "           8       0.41      0.70      0.52      6608\n",
            "           9       0.11      0.04      0.06       296\n",
            "          10       0.17      0.12      0.14      1039\n",
            "          11       0.14      0.02      0.03       202\n",
            "          12       0.09      0.05      0.07      1097\n",
            "          13       0.18      0.07      0.10       692\n",
            "          14       0.10      0.02      0.04       697\n",
            "          15       0.21      0.08      0.11       397\n",
            "          16       0.23      0.05      0.08       351\n",
            "          17       0.17      0.05      0.08       409\n",
            "          18       0.17      0.04      0.06       359\n",
            "          19       0.13      0.26      0.17       265\n",
            "          20       0.00      0.00      0.00       196\n",
            "          21       0.16      0.07      0.09       964\n",
            "          22       0.37      0.38      0.37      1944\n",
            "          23       0.30      0.41      0.34      1857\n",
            "          24       0.31      0.35      0.33      2930\n",
            "          25       0.37      0.22      0.28      1232\n",
            "          26       0.28      0.05      0.09       226\n",
            "          27       0.31      0.08      0.13       675\n",
            "          28       0.18      0.03      0.04       479\n",
            "          29       0.25      0.11      0.16       568\n",
            "          30       0.31      0.06      0.09       398\n",
            "          31       0.07      0.03      0.04       605\n",
            "          32       0.42      0.09      0.14       285\n",
            "          33       0.07      0.07      0.07       162\n",
            "          34       0.11      0.03      0.05       716\n",
            "          35       0.51      0.15      0.23       849\n",
            "          36       0.10      0.02      0.03       811\n",
            "          37       0.07      0.05      0.06       192\n",
            "          38       0.14      0.01      0.02       495\n",
            "          39       0.18      0.06      0.09      1072\n",
            "          40       0.19      0.15      0.17      1737\n",
            "          41       0.31      0.06      0.11       740\n",
            "\n",
            "    accuracy                           0.30     37963\n",
            "   macro avg       0.20      0.12      0.13     37963\n",
            "weighted avg       0.26      0.30      0.25     37963\n",
            "\n"
          ]
        }
      ]
    },
    {
      "cell_type": "markdown",
      "source": [
        "## Random Forest"
      ],
      "metadata": {
        "id": "DGBK5L5OBgux"
      }
    },
    {
      "cell_type": "code",
      "source": [
        "clf_rf = RandomForestClassifier()\n",
        "\n",
        "clf_rf.fit(x_train, y_train)\n",
        "\n",
        "print(classification_report(y_test, clf_rf.predict(x_test)))"
      ],
      "metadata": {
        "colab": {
          "base_uri": "https://localhost:8080/"
        },
        "id": "vRS9jE2cBh92",
        "outputId": "2969993b-5ae4-4e75-da26-7a8820298a93"
      },
      "execution_count": 74,
      "outputs": [
        {
          "output_type": "stream",
          "name": "stdout",
          "text": [
            "              precision    recall  f1-score   support\n",
            "\n",
            "           0       0.00      0.00      0.00       268\n",
            "           1       0.61      0.03      0.06       421\n",
            "           2       0.00      0.00      0.00       180\n",
            "           3       0.30      0.74      0.43      3589\n",
            "           4       0.63      0.05      0.09       731\n",
            "           5       0.00      0.00      0.00       204\n",
            "           6       0.00      0.00      0.00       275\n",
            "           7       0.56      0.15      0.24       863\n",
            "           8       0.35      0.87      0.50      6488\n",
            "           9       0.39      0.02      0.04       313\n",
            "          10       0.40      0.03      0.06      1027\n",
            "          11       0.00      0.00      0.00       184\n",
            "          12       0.35      0.02      0.04      1053\n",
            "          13       0.71      0.02      0.03       685\n",
            "          14       0.63      0.02      0.04       637\n",
            "          15       0.23      0.01      0.01       388\n",
            "          16       1.00      0.01      0.01       361\n",
            "          17       0.00      0.00      0.00       409\n",
            "          18       0.75      0.01      0.02       351\n",
            "          19       0.33      0.00      0.01       248\n",
            "          20       0.00      0.00      0.00       208\n",
            "          21       0.26      0.02      0.04       928\n",
            "          22       0.41      0.49      0.45      1960\n",
            "          23       0.36      0.43      0.40      1884\n",
            "          24       0.30      0.50      0.37      2955\n",
            "          25       0.43      0.39      0.41      1266\n",
            "          26       1.00      0.01      0.02       213\n",
            "          27       0.40      0.02      0.03       660\n",
            "          28       0.36      0.02      0.03       463\n",
            "          29       0.35      0.05      0.09       566\n",
            "          30       0.76      0.03      0.07       376\n",
            "          31       0.40      0.01      0.01       617\n",
            "          32       1.00      0.02      0.05       288\n",
            "          33       0.00      0.00      0.00       173\n",
            "          34       0.51      0.03      0.06       711\n",
            "          35       0.62      0.10      0.17       883\n",
            "          36       0.68      0.02      0.03       835\n",
            "          37       0.00      0.00      0.00       209\n",
            "          38       0.00      0.00      0.00       481\n",
            "          39       0.59      0.04      0.08      1121\n",
            "          40       0.25      0.17      0.20      1758\n",
            "          41       0.44      0.04      0.07       733\n",
            "\n",
            "    accuracy                           0.34     37963\n",
            "   macro avg       0.39      0.10      0.10     37963\n",
            "weighted avg       0.39      0.34      0.25     37963\n",
            "\n"
          ]
        },
        {
          "output_type": "stream",
          "name": "stderr",
          "text": [
            "/usr/local/lib/python3.9/dist-packages/sklearn/metrics/_classification.py:1344: UndefinedMetricWarning: Precision and F-score are ill-defined and being set to 0.0 in labels with no predicted samples. Use `zero_division` parameter to control this behavior.\n",
            "  _warn_prf(average, modifier, msg_start, len(result))\n",
            "/usr/local/lib/python3.9/dist-packages/sklearn/metrics/_classification.py:1344: UndefinedMetricWarning: Precision and F-score are ill-defined and being set to 0.0 in labels with no predicted samples. Use `zero_division` parameter to control this behavior.\n",
            "  _warn_prf(average, modifier, msg_start, len(result))\n",
            "/usr/local/lib/python3.9/dist-packages/sklearn/metrics/_classification.py:1344: UndefinedMetricWarning: Precision and F-score are ill-defined and being set to 0.0 in labels with no predicted samples. Use `zero_division` parameter to control this behavior.\n",
            "  _warn_prf(average, modifier, msg_start, len(result))\n"
          ]
        }
      ]
    },
    {
      "cell_type": "markdown",
      "source": [
        "## Confusion Matrix of the Best Model"
      ],
      "metadata": {
        "id": "WRdIpbG_CEKD"
      }
    },
    {
      "cell_type": "code",
      "source": [
        "print(confusion_matrix(y_test, clf_knn.predict(x_test)))"
      ],
      "metadata": {
        "colab": {
          "base_uri": "https://localhost:8080/"
        },
        "id": "_Uu7ISyNCHsR",
        "outputId": "818755a0-5a9b-4ddd-9fa3-d3142e7e4339"
      },
      "execution_count": 75,
      "outputs": [
        {
          "output_type": "stream",
          "name": "stdout",
          "text": [
            "[[  7   3   1 ...   3   7   2]\n",
            " [  2  39   2 ...   2   5   1]\n",
            " [  0   1   5 ...   0  10   0]\n",
            " ...\n",
            " [  7   3   5 ...  80  45   1]\n",
            " [  3   6  12 ...  19 262   0]\n",
            " [  0   4   3 ...   6   7  46]]\n"
          ]
        }
      ]
    }
  ]
}