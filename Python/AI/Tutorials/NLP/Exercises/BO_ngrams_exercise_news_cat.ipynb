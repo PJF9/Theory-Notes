{
  "nbformat": 4,
  "nbformat_minor": 0,
  "metadata": {
    "colab": {
      "provenance": []
    },
    "kernelspec": {
      "name": "python3",
      "display_name": "Python 3"
    },
    "language_info": {
      "name": "python"
    }
  },
  "cells": [
    {
      "cell_type": "code",
      "source": [
        "!python -m spacy download en_core_web_sm -q"
      ],
      "metadata": {
        "colab": {
          "base_uri": "https://localhost:8080/"
        },
        "id": "h_cFlAgYrexU",
        "outputId": "08d66d84-547d-476e-b987-0b3edc41078d"
      },
      "execution_count": 103,
      "outputs": [
        {
          "output_type": "stream",
          "name": "stdout",
          "text": [
            "2023-04-07 21:45:57.355731: W tensorflow/compiler/tf2tensorrt/utils/py_utils.cc:38] TF-TRT Warning: Could not find TensorRT\n",
            "\u001b[2K     \u001b[90m━━━━━━━━━━━━━━━━━━━━━━━━━━━━━━━━━━━━━━━━\u001b[0m \u001b[32m12.8/12.8 MB\u001b[0m \u001b[31m54.9 MB/s\u001b[0m eta \u001b[36m0:00:00\u001b[0m\n",
            "\u001b[?25h\u001b[38;5;2m✔ Download and installation successful\u001b[0m\n",
            "You can now load the package via spacy.load('en_core_web_sm')\n"
          ]
        }
      ]
    },
    {
      "cell_type": "code",
      "source": [
        "import pandas as pd\n",
        "\n",
        "import spacy\n",
        "\n",
        "from sklearn.model_selection import train_test_split\n",
        "from sklearn.pipeline import Pipeline\n",
        "from sklearn.feature_extraction.text import CountVectorizer\n",
        "from sklearn.naive_bayes import MultinomialNB\n",
        "from sklearn.metrics import classification_report, confusion_matrix"
      ],
      "metadata": {
        "id": "oWpa2KBXfXJY"
      },
      "execution_count": 104,
      "outputs": []
    },
    {
      "cell_type": "code",
      "source": [
        "# Creating the NLP object\n",
        "nlp = spacy.load(\"en_core_web_sm\")\n",
        "\n",
        "nlp.pipe_names"
      ],
      "metadata": {
        "colab": {
          "base_uri": "https://localhost:8080/"
        },
        "id": "3GfGzqkBruFu",
        "outputId": "a73f62a6-0a00-4311-b306-e3d0cc947f09"
      },
      "execution_count": 106,
      "outputs": [
        {
          "output_type": "execute_result",
          "data": {
            "text/plain": [
              "['tok2vec', 'tagger', 'parser', 'attribute_ruler', 'lemmatizer', 'ner']"
            ]
          },
          "metadata": {},
          "execution_count": 106
        }
      ]
    },
    {
      "cell_type": "markdown",
      "source": [
        "## Loading the Database"
      ],
      "metadata": {
        "id": "_0iryOODeHLG"
      }
    },
    {
      "cell_type": "code",
      "execution_count": 52,
      "metadata": {
        "colab": {
          "base_uri": "https://localhost:8080/"
        },
        "id": "lOXuRl8ocwWf",
        "outputId": "432940d3-052e-485b-a63e-db98bc505c91"
      },
      "outputs": [
        {
          "output_type": "stream",
          "name": "stdout",
          "text": [
            "[INFO] Unzipping dataset `/content/news_categories.zip` to `/content/News_Category_Dataset_v3.json`...\n",
            "[INFO] Dataset succesfully downloaded to `/content/News_Category_Dataset_v3.json`..\n"
          ]
        }
      ],
      "source": [
        "from pathlib import Path\n",
        "import zipfile\n",
        "\n",
        "\n",
        "zip_path = Path(\"/content/news_categories.zip\")\n",
        "dest_dir = Path(\"/content\")\n",
        "\n",
        "if not dest_dir.is_file():\n",
        "    with zipfile.ZipFile(zip_path, \"r\") as zip_ref:\n",
        "        print(f\"[INFO] Unzipping dataset `{zip_path}` to `{dest_dir}/News_Category_Dataset_v3.json`...\")\n",
        "        zip_ref.extractall(dest_dir)\n",
        "\n",
        "print(f\"[INFO] Dataset succesfully downloaded to `{dest_dir}/News_Category_Dataset_v3.json`..\")"
      ]
    },
    {
      "cell_type": "markdown",
      "source": [
        "## Understanding the Dataset"
      ],
      "metadata": {
        "id": "EVGDHm_Cfdje"
      }
    },
    {
      "cell_type": "code",
      "source": [
        "df = pd.read_json(dest_dir / \"News_Category_Dataset_v3.json\", lines=True)\n",
        "\n",
        "df.head(3)"
      ],
      "metadata": {
        "colab": {
          "base_uri": "https://localhost:8080/",
          "height": 240
        },
        "id": "c5PPb2x-e-D7",
        "outputId": "5e59ef4e-9307-472b-951d-99a7c9c49783"
      },
      "execution_count": 53,
      "outputs": [
        {
          "output_type": "execute_result",
          "data": {
            "text/plain": [
              "                                                link  \\\n",
              "0  https://www.huffpost.com/entry/covid-boosters-...   \n",
              "1  https://www.huffpost.com/entry/american-airlin...   \n",
              "2  https://www.huffpost.com/entry/funniest-tweets...   \n",
              "\n",
              "                                            headline   category  \\\n",
              "0  Over 4 Million Americans Roll Up Sleeves For O...  U.S. NEWS   \n",
              "1  American Airlines Flyer Charged, Banned For Li...  U.S. NEWS   \n",
              "2  23 Of The Funniest Tweets About Cats And Dogs ...     COMEDY   \n",
              "\n",
              "                                   short_description               authors  \\\n",
              "0  Health experts said it is too early to predict...  Carla K. Johnson, AP   \n",
              "1  He was subdued by passengers and crew when he ...        Mary Papenfuss   \n",
              "2  \"Until you have a dog you don't understand wha...         Elyse Wanshel   \n",
              "\n",
              "        date  \n",
              "0 2022-09-23  \n",
              "1 2022-09-23  \n",
              "2 2022-09-23  "
            ],
            "text/html": [
              "\n",
              "  <div id=\"df-824f086d-5c4c-474a-9d56-01c38ce5e13e\">\n",
              "    <div class=\"colab-df-container\">\n",
              "      <div>\n",
              "<style scoped>\n",
              "    .dataframe tbody tr th:only-of-type {\n",
              "        vertical-align: middle;\n",
              "    }\n",
              "\n",
              "    .dataframe tbody tr th {\n",
              "        vertical-align: top;\n",
              "    }\n",
              "\n",
              "    .dataframe thead th {\n",
              "        text-align: right;\n",
              "    }\n",
              "</style>\n",
              "<table border=\"1\" class=\"dataframe\">\n",
              "  <thead>\n",
              "    <tr style=\"text-align: right;\">\n",
              "      <th></th>\n",
              "      <th>link</th>\n",
              "      <th>headline</th>\n",
              "      <th>category</th>\n",
              "      <th>short_description</th>\n",
              "      <th>authors</th>\n",
              "      <th>date</th>\n",
              "    </tr>\n",
              "  </thead>\n",
              "  <tbody>\n",
              "    <tr>\n",
              "      <th>0</th>\n",
              "      <td>https://www.huffpost.com/entry/covid-boosters-...</td>\n",
              "      <td>Over 4 Million Americans Roll Up Sleeves For O...</td>\n",
              "      <td>U.S. NEWS</td>\n",
              "      <td>Health experts said it is too early to predict...</td>\n",
              "      <td>Carla K. Johnson, AP</td>\n",
              "      <td>2022-09-23</td>\n",
              "    </tr>\n",
              "    <tr>\n",
              "      <th>1</th>\n",
              "      <td>https://www.huffpost.com/entry/american-airlin...</td>\n",
              "      <td>American Airlines Flyer Charged, Banned For Li...</td>\n",
              "      <td>U.S. NEWS</td>\n",
              "      <td>He was subdued by passengers and crew when he ...</td>\n",
              "      <td>Mary Papenfuss</td>\n",
              "      <td>2022-09-23</td>\n",
              "    </tr>\n",
              "    <tr>\n",
              "      <th>2</th>\n",
              "      <td>https://www.huffpost.com/entry/funniest-tweets...</td>\n",
              "      <td>23 Of The Funniest Tweets About Cats And Dogs ...</td>\n",
              "      <td>COMEDY</td>\n",
              "      <td>\"Until you have a dog you don't understand wha...</td>\n",
              "      <td>Elyse Wanshel</td>\n",
              "      <td>2022-09-23</td>\n",
              "    </tr>\n",
              "  </tbody>\n",
              "</table>\n",
              "</div>\n",
              "      <button class=\"colab-df-convert\" onclick=\"convertToInteractive('df-824f086d-5c4c-474a-9d56-01c38ce5e13e')\"\n",
              "              title=\"Convert this dataframe to an interactive table.\"\n",
              "              style=\"display:none;\">\n",
              "        \n",
              "  <svg xmlns=\"http://www.w3.org/2000/svg\" height=\"24px\"viewBox=\"0 0 24 24\"\n",
              "       width=\"24px\">\n",
              "    <path d=\"M0 0h24v24H0V0z\" fill=\"none\"/>\n",
              "    <path d=\"M18.56 5.44l.94 2.06.94-2.06 2.06-.94-2.06-.94-.94-2.06-.94 2.06-2.06.94zm-11 1L8.5 8.5l.94-2.06 2.06-.94-2.06-.94L8.5 2.5l-.94 2.06-2.06.94zm10 10l.94 2.06.94-2.06 2.06-.94-2.06-.94-.94-2.06-.94 2.06-2.06.94z\"/><path d=\"M17.41 7.96l-1.37-1.37c-.4-.4-.92-.59-1.43-.59-.52 0-1.04.2-1.43.59L10.3 9.45l-7.72 7.72c-.78.78-.78 2.05 0 2.83L4 21.41c.39.39.9.59 1.41.59.51 0 1.02-.2 1.41-.59l7.78-7.78 2.81-2.81c.8-.78.8-2.07 0-2.86zM5.41 20L4 18.59l7.72-7.72 1.47 1.35L5.41 20z\"/>\n",
              "  </svg>\n",
              "      </button>\n",
              "      \n",
              "  <style>\n",
              "    .colab-df-container {\n",
              "      display:flex;\n",
              "      flex-wrap:wrap;\n",
              "      gap: 12px;\n",
              "    }\n",
              "\n",
              "    .colab-df-convert {\n",
              "      background-color: #E8F0FE;\n",
              "      border: none;\n",
              "      border-radius: 50%;\n",
              "      cursor: pointer;\n",
              "      display: none;\n",
              "      fill: #1967D2;\n",
              "      height: 32px;\n",
              "      padding: 0 0 0 0;\n",
              "      width: 32px;\n",
              "    }\n",
              "\n",
              "    .colab-df-convert:hover {\n",
              "      background-color: #E2EBFA;\n",
              "      box-shadow: 0px 1px 2px rgba(60, 64, 67, 0.3), 0px 1px 3px 1px rgba(60, 64, 67, 0.15);\n",
              "      fill: #174EA6;\n",
              "    }\n",
              "\n",
              "    [theme=dark] .colab-df-convert {\n",
              "      background-color: #3B4455;\n",
              "      fill: #D2E3FC;\n",
              "    }\n",
              "\n",
              "    [theme=dark] .colab-df-convert:hover {\n",
              "      background-color: #434B5C;\n",
              "      box-shadow: 0px 1px 3px 1px rgba(0, 0, 0, 0.15);\n",
              "      filter: drop-shadow(0px 1px 2px rgba(0, 0, 0, 0.3));\n",
              "      fill: #FFFFFF;\n",
              "    }\n",
              "  </style>\n",
              "\n",
              "      <script>\n",
              "        const buttonEl =\n",
              "          document.querySelector('#df-824f086d-5c4c-474a-9d56-01c38ce5e13e button.colab-df-convert');\n",
              "        buttonEl.style.display =\n",
              "          google.colab.kernel.accessAllowed ? 'block' : 'none';\n",
              "\n",
              "        async function convertToInteractive(key) {\n",
              "          const element = document.querySelector('#df-824f086d-5c4c-474a-9d56-01c38ce5e13e');\n",
              "          const dataTable =\n",
              "            await google.colab.kernel.invokeFunction('convertToInteractive',\n",
              "                                                     [key], {});\n",
              "          if (!dataTable) return;\n",
              "\n",
              "          const docLinkHtml = 'Like what you see? Visit the ' +\n",
              "            '<a target=\"_blank\" href=https://colab.research.google.com/notebooks/data_table.ipynb>data table notebook</a>'\n",
              "            + ' to learn more about interactive tables.';\n",
              "          element.innerHTML = '';\n",
              "          dataTable['output_type'] = 'display_data';\n",
              "          await google.colab.output.renderOutput(dataTable, element);\n",
              "          const docLink = document.createElement('div');\n",
              "          docLink.innerHTML = docLinkHtml;\n",
              "          element.appendChild(docLink);\n",
              "        }\n",
              "      </script>\n",
              "    </div>\n",
              "  </div>\n",
              "  "
            ]
          },
          "metadata": {},
          "execution_count": 53
        }
      ]
    },
    {
      "cell_type": "code",
      "source": [
        "df.shape"
      ],
      "metadata": {
        "colab": {
          "base_uri": "https://localhost:8080/"
        },
        "id": "7eb9raofgICx",
        "outputId": "d928ddab-12aa-4583-f0bf-6bffc35cdc18"
      },
      "execution_count": 54,
      "outputs": [
        {
          "output_type": "execute_result",
          "data": {
            "text/plain": [
              "(209527, 6)"
            ]
          },
          "metadata": {},
          "execution_count": 54
        }
      ]
    },
    {
      "cell_type": "code",
      "source": [
        "df.value_counts(\"category\")"
      ],
      "metadata": {
        "colab": {
          "base_uri": "https://localhost:8080/"
        },
        "id": "apNtbh8HgVcQ",
        "outputId": "9934c540-ea57-41ec-8010-9f6f8242a4e4"
      },
      "execution_count": 55,
      "outputs": [
        {
          "output_type": "execute_result",
          "data": {
            "text/plain": [
              "category\n",
              "POLITICS          35602\n",
              "WELLNESS          17945\n",
              "ENTERTAINMENT     17362\n",
              "TRAVEL             9900\n",
              "STYLE & BEAUTY     9814\n",
              "PARENTING          8791\n",
              "HEALTHY LIVING     6694\n",
              "QUEER VOICES       6347\n",
              "FOOD & DRINK       6340\n",
              "BUSINESS           5992\n",
              "COMEDY             5400\n",
              "SPORTS             5077\n",
              "BLACK VOICES       4583\n",
              "HOME & LIVING      4320\n",
              "PARENTS            3955\n",
              "THE WORLDPOST      3664\n",
              "WEDDINGS           3653\n",
              "WOMEN              3572\n",
              "CRIME              3562\n",
              "IMPACT             3484\n",
              "DIVORCE            3426\n",
              "WORLD NEWS         3299\n",
              "MEDIA              2944\n",
              "WEIRD NEWS         2777\n",
              "GREEN              2622\n",
              "WORLDPOST          2579\n",
              "RELIGION           2577\n",
              "STYLE              2254\n",
              "SCIENCE            2206\n",
              "TECH               2104\n",
              "TASTE              2096\n",
              "MONEY              1756\n",
              "ARTS               1509\n",
              "ENVIRONMENT        1444\n",
              "FIFTY              1401\n",
              "GOOD NEWS          1398\n",
              "U.S. NEWS          1377\n",
              "ARTS & CULTURE     1339\n",
              "COLLEGE            1144\n",
              "LATINO VOICES      1130\n",
              "CULTURE & ARTS     1074\n",
              "EDUCATION          1014\n",
              "dtype: int64"
            ]
          },
          "metadata": {},
          "execution_count": 55
        }
      ]
    },
    {
      "cell_type": "markdown",
      "source": [
        "We see that the Dataset is imbalance."
      ],
      "metadata": {
        "id": "7Y276Gm9h4uY"
      }
    },
    {
      "cell_type": "markdown",
      "source": [
        "## Preprocessing the Dataset"
      ],
      "metadata": {
        "id": "EvtjmsOIgjuj"
      }
    },
    {
      "cell_type": "code",
      "source": [
        "df = df[[\"short_description\", \"category\"]]\n",
        "df.rename(columns={\"short_description\": \"Text\"}, inplace=True)\n",
        "\n",
        "df.head(3)"
      ],
      "metadata": {
        "colab": {
          "base_uri": "https://localhost:8080/",
          "height": 143
        },
        "id": "IZVwxWIOgmpH",
        "outputId": "c090b851-8dd8-4fcf-cc4b-ac909109fd29"
      },
      "execution_count": 56,
      "outputs": [
        {
          "output_type": "execute_result",
          "data": {
            "text/plain": [
              "                                                Text   category\n",
              "0  Health experts said it is too early to predict...  U.S. NEWS\n",
              "1  He was subdued by passengers and crew when he ...  U.S. NEWS\n",
              "2  \"Until you have a dog you don't understand wha...     COMEDY"
            ],
            "text/html": [
              "\n",
              "  <div id=\"df-d3338ae4-ab0d-4c81-b87e-3f9797c2470a\">\n",
              "    <div class=\"colab-df-container\">\n",
              "      <div>\n",
              "<style scoped>\n",
              "    .dataframe tbody tr th:only-of-type {\n",
              "        vertical-align: middle;\n",
              "    }\n",
              "\n",
              "    .dataframe tbody tr th {\n",
              "        vertical-align: top;\n",
              "    }\n",
              "\n",
              "    .dataframe thead th {\n",
              "        text-align: right;\n",
              "    }\n",
              "</style>\n",
              "<table border=\"1\" class=\"dataframe\">\n",
              "  <thead>\n",
              "    <tr style=\"text-align: right;\">\n",
              "      <th></th>\n",
              "      <th>Text</th>\n",
              "      <th>category</th>\n",
              "    </tr>\n",
              "  </thead>\n",
              "  <tbody>\n",
              "    <tr>\n",
              "      <th>0</th>\n",
              "      <td>Health experts said it is too early to predict...</td>\n",
              "      <td>U.S. NEWS</td>\n",
              "    </tr>\n",
              "    <tr>\n",
              "      <th>1</th>\n",
              "      <td>He was subdued by passengers and crew when he ...</td>\n",
              "      <td>U.S. NEWS</td>\n",
              "    </tr>\n",
              "    <tr>\n",
              "      <th>2</th>\n",
              "      <td>\"Until you have a dog you don't understand wha...</td>\n",
              "      <td>COMEDY</td>\n",
              "    </tr>\n",
              "  </tbody>\n",
              "</table>\n",
              "</div>\n",
              "      <button class=\"colab-df-convert\" onclick=\"convertToInteractive('df-d3338ae4-ab0d-4c81-b87e-3f9797c2470a')\"\n",
              "              title=\"Convert this dataframe to an interactive table.\"\n",
              "              style=\"display:none;\">\n",
              "        \n",
              "  <svg xmlns=\"http://www.w3.org/2000/svg\" height=\"24px\"viewBox=\"0 0 24 24\"\n",
              "       width=\"24px\">\n",
              "    <path d=\"M0 0h24v24H0V0z\" fill=\"none\"/>\n",
              "    <path d=\"M18.56 5.44l.94 2.06.94-2.06 2.06-.94-2.06-.94-.94-2.06-.94 2.06-2.06.94zm-11 1L8.5 8.5l.94-2.06 2.06-.94-2.06-.94L8.5 2.5l-.94 2.06-2.06.94zm10 10l.94 2.06.94-2.06 2.06-.94-2.06-.94-.94-2.06-.94 2.06-2.06.94z\"/><path d=\"M17.41 7.96l-1.37-1.37c-.4-.4-.92-.59-1.43-.59-.52 0-1.04.2-1.43.59L10.3 9.45l-7.72 7.72c-.78.78-.78 2.05 0 2.83L4 21.41c.39.39.9.59 1.41.59.51 0 1.02-.2 1.41-.59l7.78-7.78 2.81-2.81c.8-.78.8-2.07 0-2.86zM5.41 20L4 18.59l7.72-7.72 1.47 1.35L5.41 20z\"/>\n",
              "  </svg>\n",
              "      </button>\n",
              "      \n",
              "  <style>\n",
              "    .colab-df-container {\n",
              "      display:flex;\n",
              "      flex-wrap:wrap;\n",
              "      gap: 12px;\n",
              "    }\n",
              "\n",
              "    .colab-df-convert {\n",
              "      background-color: #E8F0FE;\n",
              "      border: none;\n",
              "      border-radius: 50%;\n",
              "      cursor: pointer;\n",
              "      display: none;\n",
              "      fill: #1967D2;\n",
              "      height: 32px;\n",
              "      padding: 0 0 0 0;\n",
              "      width: 32px;\n",
              "    }\n",
              "\n",
              "    .colab-df-convert:hover {\n",
              "      background-color: #E2EBFA;\n",
              "      box-shadow: 0px 1px 2px rgba(60, 64, 67, 0.3), 0px 1px 3px 1px rgba(60, 64, 67, 0.15);\n",
              "      fill: #174EA6;\n",
              "    }\n",
              "\n",
              "    [theme=dark] .colab-df-convert {\n",
              "      background-color: #3B4455;\n",
              "      fill: #D2E3FC;\n",
              "    }\n",
              "\n",
              "    [theme=dark] .colab-df-convert:hover {\n",
              "      background-color: #434B5C;\n",
              "      box-shadow: 0px 1px 3px 1px rgba(0, 0, 0, 0.15);\n",
              "      filter: drop-shadow(0px 1px 2px rgba(0, 0, 0, 0.3));\n",
              "      fill: #FFFFFF;\n",
              "    }\n",
              "  </style>\n",
              "\n",
              "      <script>\n",
              "        const buttonEl =\n",
              "          document.querySelector('#df-d3338ae4-ab0d-4c81-b87e-3f9797c2470a button.colab-df-convert');\n",
              "        buttonEl.style.display =\n",
              "          google.colab.kernel.accessAllowed ? 'block' : 'none';\n",
              "\n",
              "        async function convertToInteractive(key) {\n",
              "          const element = document.querySelector('#df-d3338ae4-ab0d-4c81-b87e-3f9797c2470a');\n",
              "          const dataTable =\n",
              "            await google.colab.kernel.invokeFunction('convertToInteractive',\n",
              "                                                     [key], {});\n",
              "          if (!dataTable) return;\n",
              "\n",
              "          const docLinkHtml = 'Like what you see? Visit the ' +\n",
              "            '<a target=\"_blank\" href=https://colab.research.google.com/notebooks/data_table.ipynb>data table notebook</a>'\n",
              "            + ' to learn more about interactive tables.';\n",
              "          element.innerHTML = '';\n",
              "          dataTable['output_type'] = 'display_data';\n",
              "          await google.colab.output.renderOutput(dataTable, element);\n",
              "          const docLink = document.createElement('div');\n",
              "          docLink.innerHTML = docLinkHtml;\n",
              "          element.appendChild(docLink);\n",
              "        }\n",
              "      </script>\n",
              "    </div>\n",
              "  </div>\n",
              "  "
            ]
          },
          "metadata": {},
          "execution_count": 56
        }
      ]
    },
    {
      "cell_type": "code",
      "source": [
        "# Creating the Categories Directory\n",
        "categories_l = list(set(df[\"category\"].tolist()))\n",
        "categories_d = {categories_l[i]: i for i in range(len(categories_l))}\n",
        "\n",
        "len(categories_d)"
      ],
      "metadata": {
        "colab": {
          "base_uri": "https://localhost:8080/"
        },
        "id": "1djLmyxPg3W3",
        "outputId": "5ae43ddc-c8d7-434d-8415-53edfee7ae02"
      },
      "execution_count": 57,
      "outputs": [
        {
          "output_type": "execute_result",
          "data": {
            "text/plain": [
              "42"
            ]
          },
          "metadata": {},
          "execution_count": 57
        }
      ]
    },
    {
      "cell_type": "code",
      "source": [
        "df[\"Category\"] = df[\"category\"].apply(lambda x: categories_d[x])\n",
        "df = df[[\"Text\", \"Category\"]]\n",
        "\n",
        "df.head(3)"
      ],
      "metadata": {
        "colab": {
          "base_uri": "https://localhost:8080/",
          "height": 143
        },
        "id": "e5L-HzIdiB_T",
        "outputId": "ad839d25-65dc-4127-d72a-a7f76086485a"
      },
      "execution_count": 58,
      "outputs": [
        {
          "output_type": "execute_result",
          "data": {
            "text/plain": [
              "                                                Text  Category\n",
              "0  Health experts said it is too early to predict...        30\n",
              "1  He was subdued by passengers and crew when he ...        30\n",
              "2  \"Until you have a dog you don't understand wha...        26"
            ],
            "text/html": [
              "\n",
              "  <div id=\"df-35dbbd06-c502-44ba-a8bc-69c7795f81d2\">\n",
              "    <div class=\"colab-df-container\">\n",
              "      <div>\n",
              "<style scoped>\n",
              "    .dataframe tbody tr th:only-of-type {\n",
              "        vertical-align: middle;\n",
              "    }\n",
              "\n",
              "    .dataframe tbody tr th {\n",
              "        vertical-align: top;\n",
              "    }\n",
              "\n",
              "    .dataframe thead th {\n",
              "        text-align: right;\n",
              "    }\n",
              "</style>\n",
              "<table border=\"1\" class=\"dataframe\">\n",
              "  <thead>\n",
              "    <tr style=\"text-align: right;\">\n",
              "      <th></th>\n",
              "      <th>Text</th>\n",
              "      <th>Category</th>\n",
              "    </tr>\n",
              "  </thead>\n",
              "  <tbody>\n",
              "    <tr>\n",
              "      <th>0</th>\n",
              "      <td>Health experts said it is too early to predict...</td>\n",
              "      <td>30</td>\n",
              "    </tr>\n",
              "    <tr>\n",
              "      <th>1</th>\n",
              "      <td>He was subdued by passengers and crew when he ...</td>\n",
              "      <td>30</td>\n",
              "    </tr>\n",
              "    <tr>\n",
              "      <th>2</th>\n",
              "      <td>\"Until you have a dog you don't understand wha...</td>\n",
              "      <td>26</td>\n",
              "    </tr>\n",
              "  </tbody>\n",
              "</table>\n",
              "</div>\n",
              "      <button class=\"colab-df-convert\" onclick=\"convertToInteractive('df-35dbbd06-c502-44ba-a8bc-69c7795f81d2')\"\n",
              "              title=\"Convert this dataframe to an interactive table.\"\n",
              "              style=\"display:none;\">\n",
              "        \n",
              "  <svg xmlns=\"http://www.w3.org/2000/svg\" height=\"24px\"viewBox=\"0 0 24 24\"\n",
              "       width=\"24px\">\n",
              "    <path d=\"M0 0h24v24H0V0z\" fill=\"none\"/>\n",
              "    <path d=\"M18.56 5.44l.94 2.06.94-2.06 2.06-.94-2.06-.94-.94-2.06-.94 2.06-2.06.94zm-11 1L8.5 8.5l.94-2.06 2.06-.94-2.06-.94L8.5 2.5l-.94 2.06-2.06.94zm10 10l.94 2.06.94-2.06 2.06-.94-2.06-.94-.94-2.06-.94 2.06-2.06.94z\"/><path d=\"M17.41 7.96l-1.37-1.37c-.4-.4-.92-.59-1.43-.59-.52 0-1.04.2-1.43.59L10.3 9.45l-7.72 7.72c-.78.78-.78 2.05 0 2.83L4 21.41c.39.39.9.59 1.41.59.51 0 1.02-.2 1.41-.59l7.78-7.78 2.81-2.81c.8-.78.8-2.07 0-2.86zM5.41 20L4 18.59l7.72-7.72 1.47 1.35L5.41 20z\"/>\n",
              "  </svg>\n",
              "      </button>\n",
              "      \n",
              "  <style>\n",
              "    .colab-df-container {\n",
              "      display:flex;\n",
              "      flex-wrap:wrap;\n",
              "      gap: 12px;\n",
              "    }\n",
              "\n",
              "    .colab-df-convert {\n",
              "      background-color: #E8F0FE;\n",
              "      border: none;\n",
              "      border-radius: 50%;\n",
              "      cursor: pointer;\n",
              "      display: none;\n",
              "      fill: #1967D2;\n",
              "      height: 32px;\n",
              "      padding: 0 0 0 0;\n",
              "      width: 32px;\n",
              "    }\n",
              "\n",
              "    .colab-df-convert:hover {\n",
              "      background-color: #E2EBFA;\n",
              "      box-shadow: 0px 1px 2px rgba(60, 64, 67, 0.3), 0px 1px 3px 1px rgba(60, 64, 67, 0.15);\n",
              "      fill: #174EA6;\n",
              "    }\n",
              "\n",
              "    [theme=dark] .colab-df-convert {\n",
              "      background-color: #3B4455;\n",
              "      fill: #D2E3FC;\n",
              "    }\n",
              "\n",
              "    [theme=dark] .colab-df-convert:hover {\n",
              "      background-color: #434B5C;\n",
              "      box-shadow: 0px 1px 3px 1px rgba(0, 0, 0, 0.15);\n",
              "      filter: drop-shadow(0px 1px 2px rgba(0, 0, 0, 0.3));\n",
              "      fill: #FFFFFF;\n",
              "    }\n",
              "  </style>\n",
              "\n",
              "      <script>\n",
              "        const buttonEl =\n",
              "          document.querySelector('#df-35dbbd06-c502-44ba-a8bc-69c7795f81d2 button.colab-df-convert');\n",
              "        buttonEl.style.display =\n",
              "          google.colab.kernel.accessAllowed ? 'block' : 'none';\n",
              "\n",
              "        async function convertToInteractive(key) {\n",
              "          const element = document.querySelector('#df-35dbbd06-c502-44ba-a8bc-69c7795f81d2');\n",
              "          const dataTable =\n",
              "            await google.colab.kernel.invokeFunction('convertToInteractive',\n",
              "                                                     [key], {});\n",
              "          if (!dataTable) return;\n",
              "\n",
              "          const docLinkHtml = 'Like what you see? Visit the ' +\n",
              "            '<a target=\"_blank\" href=https://colab.research.google.com/notebooks/data_table.ipynb>data table notebook</a>'\n",
              "            + ' to learn more about interactive tables.';\n",
              "          element.innerHTML = '';\n",
              "          dataTable['output_type'] = 'display_data';\n",
              "          await google.colab.output.renderOutput(dataTable, element);\n",
              "          const docLink = document.createElement('div');\n",
              "          docLink.innerHTML = docLinkHtml;\n",
              "          element.appendChild(docLink);\n",
              "        }\n",
              "      </script>\n",
              "    </div>\n",
              "  </div>\n",
              "  "
            ]
          },
          "metadata": {},
          "execution_count": 58
        }
      ]
    },
    {
      "cell_type": "code",
      "source": [
        "# Handling the imbalance of the Dataset, using undersampling\n",
        "g = df.groupby(\"Category\", group_keys=False)\n",
        "df_balanced = g.apply(lambda x: x.sample(g.size().min()).reset_index(drop=True))\n",
        "\n",
        "df_balanced.head(3)"
      ],
      "metadata": {
        "colab": {
          "base_uri": "https://localhost:8080/",
          "height": 143
        },
        "id": "XmR-kfMqjOiL",
        "outputId": "6d1e998c-3eae-4ba5-b6a7-ff3383f3ce2f"
      },
      "execution_count": 59,
      "outputs": [
        {
          "output_type": "execute_result",
          "data": {
            "text/plain": [
              "                                                Text  Category\n",
              "0  Not everyone was immediately so gung-ho about ...         0\n",
              "1  Well, you know what they say ... older sibling...         0\n",
              "2  In the children's interviews, researchers read...         0"
            ],
            "text/html": [
              "\n",
              "  <div id=\"df-bbdebce3-921d-48b8-81ba-ec942a6d4b66\">\n",
              "    <div class=\"colab-df-container\">\n",
              "      <div>\n",
              "<style scoped>\n",
              "    .dataframe tbody tr th:only-of-type {\n",
              "        vertical-align: middle;\n",
              "    }\n",
              "\n",
              "    .dataframe tbody tr th {\n",
              "        vertical-align: top;\n",
              "    }\n",
              "\n",
              "    .dataframe thead th {\n",
              "        text-align: right;\n",
              "    }\n",
              "</style>\n",
              "<table border=\"1\" class=\"dataframe\">\n",
              "  <thead>\n",
              "    <tr style=\"text-align: right;\">\n",
              "      <th></th>\n",
              "      <th>Text</th>\n",
              "      <th>Category</th>\n",
              "    </tr>\n",
              "  </thead>\n",
              "  <tbody>\n",
              "    <tr>\n",
              "      <th>0</th>\n",
              "      <td>Not everyone was immediately so gung-ho about ...</td>\n",
              "      <td>0</td>\n",
              "    </tr>\n",
              "    <tr>\n",
              "      <th>1</th>\n",
              "      <td>Well, you know what they say ... older sibling...</td>\n",
              "      <td>0</td>\n",
              "    </tr>\n",
              "    <tr>\n",
              "      <th>2</th>\n",
              "      <td>In the children's interviews, researchers read...</td>\n",
              "      <td>0</td>\n",
              "    </tr>\n",
              "  </tbody>\n",
              "</table>\n",
              "</div>\n",
              "      <button class=\"colab-df-convert\" onclick=\"convertToInteractive('df-bbdebce3-921d-48b8-81ba-ec942a6d4b66')\"\n",
              "              title=\"Convert this dataframe to an interactive table.\"\n",
              "              style=\"display:none;\">\n",
              "        \n",
              "  <svg xmlns=\"http://www.w3.org/2000/svg\" height=\"24px\"viewBox=\"0 0 24 24\"\n",
              "       width=\"24px\">\n",
              "    <path d=\"M0 0h24v24H0V0z\" fill=\"none\"/>\n",
              "    <path d=\"M18.56 5.44l.94 2.06.94-2.06 2.06-.94-2.06-.94-.94-2.06-.94 2.06-2.06.94zm-11 1L8.5 8.5l.94-2.06 2.06-.94-2.06-.94L8.5 2.5l-.94 2.06-2.06.94zm10 10l.94 2.06.94-2.06 2.06-.94-2.06-.94-.94-2.06-.94 2.06-2.06.94z\"/><path d=\"M17.41 7.96l-1.37-1.37c-.4-.4-.92-.59-1.43-.59-.52 0-1.04.2-1.43.59L10.3 9.45l-7.72 7.72c-.78.78-.78 2.05 0 2.83L4 21.41c.39.39.9.59 1.41.59.51 0 1.02-.2 1.41-.59l7.78-7.78 2.81-2.81c.8-.78.8-2.07 0-2.86zM5.41 20L4 18.59l7.72-7.72 1.47 1.35L5.41 20z\"/>\n",
              "  </svg>\n",
              "      </button>\n",
              "      \n",
              "  <style>\n",
              "    .colab-df-container {\n",
              "      display:flex;\n",
              "      flex-wrap:wrap;\n",
              "      gap: 12px;\n",
              "    }\n",
              "\n",
              "    .colab-df-convert {\n",
              "      background-color: #E8F0FE;\n",
              "      border: none;\n",
              "      border-radius: 50%;\n",
              "      cursor: pointer;\n",
              "      display: none;\n",
              "      fill: #1967D2;\n",
              "      height: 32px;\n",
              "      padding: 0 0 0 0;\n",
              "      width: 32px;\n",
              "    }\n",
              "\n",
              "    .colab-df-convert:hover {\n",
              "      background-color: #E2EBFA;\n",
              "      box-shadow: 0px 1px 2px rgba(60, 64, 67, 0.3), 0px 1px 3px 1px rgba(60, 64, 67, 0.15);\n",
              "      fill: #174EA6;\n",
              "    }\n",
              "\n",
              "    [theme=dark] .colab-df-convert {\n",
              "      background-color: #3B4455;\n",
              "      fill: #D2E3FC;\n",
              "    }\n",
              "\n",
              "    [theme=dark] .colab-df-convert:hover {\n",
              "      background-color: #434B5C;\n",
              "      box-shadow: 0px 1px 3px 1px rgba(0, 0, 0, 0.15);\n",
              "      filter: drop-shadow(0px 1px 2px rgba(0, 0, 0, 0.3));\n",
              "      fill: #FFFFFF;\n",
              "    }\n",
              "  </style>\n",
              "\n",
              "      <script>\n",
              "        const buttonEl =\n",
              "          document.querySelector('#df-bbdebce3-921d-48b8-81ba-ec942a6d4b66 button.colab-df-convert');\n",
              "        buttonEl.style.display =\n",
              "          google.colab.kernel.accessAllowed ? 'block' : 'none';\n",
              "\n",
              "        async function convertToInteractive(key) {\n",
              "          const element = document.querySelector('#df-bbdebce3-921d-48b8-81ba-ec942a6d4b66');\n",
              "          const dataTable =\n",
              "            await google.colab.kernel.invokeFunction('convertToInteractive',\n",
              "                                                     [key], {});\n",
              "          if (!dataTable) return;\n",
              "\n",
              "          const docLinkHtml = 'Like what you see? Visit the ' +\n",
              "            '<a target=\"_blank\" href=https://colab.research.google.com/notebooks/data_table.ipynb>data table notebook</a>'\n",
              "            + ' to learn more about interactive tables.';\n",
              "          element.innerHTML = '';\n",
              "          dataTable['output_type'] = 'display_data';\n",
              "          await google.colab.output.renderOutput(dataTable, element);\n",
              "          const docLink = document.createElement('div');\n",
              "          docLink.innerHTML = docLinkHtml;\n",
              "          element.appendChild(docLink);\n",
              "        }\n",
              "      </script>\n",
              "    </div>\n",
              "  </div>\n",
              "  "
            ]
          },
          "metadata": {},
          "execution_count": 59
        }
      ]
    },
    {
      "cell_type": "code",
      "source": [
        "df_balanced.value_counts(\"Category\")"
      ],
      "metadata": {
        "colab": {
          "base_uri": "https://localhost:8080/"
        },
        "id": "pecQes_AkGco",
        "outputId": "705509cb-1992-4fd1-9f2a-07565382084d"
      },
      "execution_count": 60,
      "outputs": [
        {
          "output_type": "execute_result",
          "data": {
            "text/plain": [
              "Category\n",
              "0     1014\n",
              "31    1014\n",
              "23    1014\n",
              "24    1014\n",
              "25    1014\n",
              "26    1014\n",
              "27    1014\n",
              "28    1014\n",
              "29    1014\n",
              "30    1014\n",
              "32    1014\n",
              "1     1014\n",
              "33    1014\n",
              "34    1014\n",
              "35    1014\n",
              "36    1014\n",
              "37    1014\n",
              "38    1014\n",
              "39    1014\n",
              "40    1014\n",
              "22    1014\n",
              "21    1014\n",
              "20    1014\n",
              "19    1014\n",
              "2     1014\n",
              "3     1014\n",
              "4     1014\n",
              "5     1014\n",
              "6     1014\n",
              "7     1014\n",
              "8     1014\n",
              "9     1014\n",
              "10    1014\n",
              "11    1014\n",
              "12    1014\n",
              "13    1014\n",
              "14    1014\n",
              "15    1014\n",
              "16    1014\n",
              "17    1014\n",
              "18    1014\n",
              "41    1014\n",
              "dtype: int64"
            ]
          },
          "metadata": {},
          "execution_count": 60
        }
      ]
    },
    {
      "cell_type": "markdown",
      "source": [
        "## Creating a Preprocessing Function"
      ],
      "metadata": {
        "id": "UjWmNX-YrM08"
      }
    },
    {
      "cell_type": "code",
      "source": [
        "def preprocess(text: str) -> str:\n",
        "    return \" \".join(token.lemma_ for token in nlp(text) if (not token.is_stop) and (not token.is_punct))"
      ],
      "metadata": {
        "id": "etYZtnmArQhD"
      },
      "execution_count": 109,
      "outputs": []
    },
    {
      "cell_type": "markdown",
      "source": [
        "## Splitting the Dataset into Training and Testing Sets"
      ],
      "metadata": {
        "id": "kmoBq1YAknj3"
      }
    },
    {
      "cell_type": "code",
      "source": [
        "test_prop = 0.2\n",
        "\n",
        "x_train, x_test, y_train, y_test = train_test_split(\n",
        "    df[\"Text\"].values,\n",
        "    df[\"Category\"].values,\n",
        "    test_size=test_prop\n",
        ")\n",
        "x_train_bal, x_test_bal, y_train_bal, y_test_bal = train_test_split(\n",
        "    df_balanced[\"Text\"].values,\n",
        "    df_balanced[\"Category\"].values,\n",
        "    test_size=test_prop,\n",
        "    stratify=df_balanced[\"Category\"] # gives us same number of elements per category on balanced datasets\n",
        ")\n",
        "x_train_bal_pre, x_test_bal_pre, y_train_bal_pre, y_test_bal_pre = train_test_split(\n",
        "    df_balanced[\"Text\"].apply(preprocess).values,\n",
        "    df_balanced[\"Category\"].values,\n",
        "    test_size=test_prop,\n",
        "    stratify=df_balanced[\"Category\"]\n",
        ")\n",
        "\n",
        "print(len(x_train), len(y_train), len(x_test), len(y_test))\n",
        "print(len(x_train_bal), len(y_train_bal), len(x_test_bal), len(y_test_bal))\n",
        "print(len(x_train_bal_pre), len(y_train_bal_pre), len(x_test_bal_pre), len(y_test_bal_pre))"
      ],
      "metadata": {
        "colab": {
          "base_uri": "https://localhost:8080/"
        },
        "id": "Bb3_YmndksHm",
        "outputId": "3141f937-8ec0-4e76-e72d-778cdd763ba6"
      },
      "execution_count": 113,
      "outputs": [
        {
          "output_type": "stream",
          "name": "stdout",
          "text": [
            "167621 167621 41906 41906\n",
            "34070 34070 8518 8518\n",
            "34070 34070 8518 8518\n"
          ]
        }
      ]
    },
    {
      "cell_type": "markdown",
      "source": [
        "## BOW Model"
      ],
      "metadata": {
        "id": "_6zewZYcoLIN"
      }
    },
    {
      "cell_type": "markdown",
      "source": [
        "### Training and Evaluating using the Imbalanced Dataset"
      ],
      "metadata": {
        "id": "xSWYkgUOppnA"
      }
    },
    {
      "cell_type": "code",
      "source": [
        "clf = Pipeline([\n",
        "    (\"vectorizer_bow\", CountVectorizer()),\n",
        "    (\"Multi NB\", MultinomialNB())\n",
        "])\n",
        "\n",
        "clf.fit(x_train, y_train)\n",
        "\n",
        "print(\"BOW: Imbalanced Data:\")\n",
        "print(classification_report(y_test, clf.predict(x_test), zero_division=0))"
      ],
      "metadata": {
        "colab": {
          "base_uri": "https://localhost:8080/"
        },
        "id": "rlhFklE_poic",
        "outputId": "7a6636fd-b97c-4a08-c747-e640573de8f3"
      },
      "execution_count": 115,
      "outputs": [
        {
          "output_type": "stream",
          "name": "stdout",
          "text": [
            "BOW: Imbalanced Data:\n",
            "              precision    recall  f1-score   support\n",
            "\n",
            "           0       0.31      0.52      0.39      1701\n",
            "           1       0.84      0.04      0.08       510\n",
            "           2       0.51      0.03      0.05       689\n",
            "           3       0.88      0.02      0.05       281\n",
            "           4       0.57      0.40      0.47      1316\n",
            "           5       0.33      0.00      0.01       331\n",
            "           6       0.51      0.07      0.12       649\n",
            "           7       0.42      0.16      0.23      1149\n",
            "           8       0.00      0.00      0.00       447\n",
            "           9       0.58      0.64      0.60      1983\n",
            "          10       0.29      0.85      0.44      3557\n",
            "          11       0.68      0.15      0.25      1247\n",
            "          12       0.80      0.16      0.27       887\n",
            "          13       0.82      0.29      0.43       724\n",
            "          14       1.00      0.01      0.01       177\n",
            "          15       0.36      0.01      0.02       466\n",
            "          16       0.56      0.01      0.03       721\n",
            "          17       0.38      0.00      0.01       846\n",
            "          18       0.80      0.04      0.07       414\n",
            "          19       0.00      0.00      0.00       296\n",
            "          20       0.71      0.01      0.03       352\n",
            "          21       0.00      0.00      0.00       212\n",
            "          22       0.00      0.00      0.00       270\n",
            "          23       0.87      0.21      0.33       693\n",
            "          24       0.60      0.01      0.01       575\n",
            "          25       0.50      0.00      0.00       413\n",
            "          26       0.38      0.02      0.04      1047\n",
            "          27       0.38      0.87      0.53      7174\n",
            "          28       0.73      0.14      0.24      1036\n",
            "          29       0.50      0.02      0.04       885\n",
            "          30       0.00      0.00      0.00       287\n",
            "          31       0.00      0.00      0.00       272\n",
            "          32       0.73      0.02      0.05       452\n",
            "          33       0.30      0.02      0.03       529\n",
            "          34       0.38      0.44      0.41      3493\n",
            "          35       0.45      0.62      0.53      2019\n",
            "          36       0.59      0.02      0.03      1335\n",
            "          37       0.88      0.03      0.06       221\n",
            "          38       1.00      0.01      0.01       607\n",
            "          39       0.00      0.00      0.00       206\n",
            "          40       0.48      0.11      0.18       739\n",
            "          41       0.50      0.08      0.14       698\n",
            "\n",
            "    accuracy                           0.39     41906\n",
            "   macro avg       0.49      0.14      0.15     41906\n",
            "weighted avg       0.47      0.39      0.30     41906\n",
            "\n"
          ]
        }
      ]
    },
    {
      "cell_type": "markdown",
      "source": [
        "### Training and Evaluating using the Balanced Dataset"
      ],
      "metadata": {
        "id": "-r_B6bgXpugX"
      }
    },
    {
      "cell_type": "code",
      "source": [
        "clf = Pipeline([\n",
        "    (\"vectorizer_bow\", CountVectorizer()),\n",
        "    (\"Multi NB\", MultinomialNB())\n",
        "])\n",
        "\n",
        "clf.fit(x_train_bal, y_train_bal)\n",
        "\n",
        "print(\"BOW: Balanced Data:\")\n",
        "print(classification_report(y_test_bal, clf.predict(x_test_bal), zero_division=0))"
      ],
      "metadata": {
        "colab": {
          "base_uri": "https://localhost:8080/"
        },
        "id": "RqX4fryIpJgV",
        "outputId": "10cbe607-cea6-49a2-d381-1c9a2c0c1b43"
      },
      "execution_count": 116,
      "outputs": [
        {
          "output_type": "stream",
          "name": "stdout",
          "text": [
            "BOW: Balanced Data:\n",
            "              precision    recall  f1-score   support\n",
            "\n",
            "           0       0.05      0.40      0.09       202\n",
            "           1       0.64      0.16      0.25       203\n",
            "           2       0.19      0.22      0.20       203\n",
            "           3       0.26      0.35      0.30       203\n",
            "           4       0.44      0.29      0.35       203\n",
            "           5       0.28      0.12      0.17       203\n",
            "           6       0.40      0.23      0.29       203\n",
            "           7       0.22      0.09      0.13       203\n",
            "           8       0.25      0.00      0.01       203\n",
            "           9       0.48      0.47      0.47       202\n",
            "          10       0.13      0.47      0.20       203\n",
            "          11       0.46      0.13      0.21       203\n",
            "          12       0.45      0.24      0.32       203\n",
            "          13       0.40      0.61      0.48       203\n",
            "          14       0.26      0.53      0.35       203\n",
            "          15       0.26      0.22      0.24       203\n",
            "          16       0.33      0.11      0.16       203\n",
            "          17       0.20      0.06      0.10       203\n",
            "          18       0.66      0.20      0.30       203\n",
            "          19       0.00      0.00      0.00       203\n",
            "          20       0.28      0.53      0.37       202\n",
            "          21       0.53      0.09      0.15       203\n",
            "          22       0.06      0.49      0.11       203\n",
            "          23       0.44      0.51      0.47       203\n",
            "          24       0.50      0.01      0.02       203\n",
            "          25       0.50      0.09      0.16       203\n",
            "          26       0.38      0.03      0.05       203\n",
            "          27       0.37      0.23      0.28       202\n",
            "          28       0.56      0.13      0.22       202\n",
            "          29       0.40      0.13      0.20       203\n",
            "          30       0.25      0.37      0.30       203\n",
            "          31       0.60      0.03      0.06       203\n",
            "          32       0.66      0.13      0.22       203\n",
            "          33       0.35      0.10      0.15       203\n",
            "          34       0.28      0.02      0.05       203\n",
            "          35       0.36      0.47      0.41       202\n",
            "          36       0.30      0.03      0.06       203\n",
            "          37       0.26      0.35      0.30       203\n",
            "          38       0.43      0.12      0.19       203\n",
            "          39       0.36      0.13      0.19       202\n",
            "          40       0.44      0.21      0.29       202\n",
            "          41       0.51      0.18      0.26       203\n",
            "\n",
            "    accuracy                           0.22      8518\n",
            "   macro avg       0.36      0.22      0.22      8518\n",
            "weighted avg       0.36      0.22      0.22      8518\n",
            "\n"
          ]
        }
      ]
    },
    {
      "cell_type": "markdown",
      "source": [
        "### Training and Evaluating using the Preprocessed and Balanced Dataset"
      ],
      "metadata": {
        "id": "i5a6_9Yiss8I"
      }
    },
    {
      "cell_type": "code",
      "source": [
        "clf = Pipeline([\n",
        "    (\"vectorizer_bow\", CountVectorizer()),\n",
        "    (\"Multi NB\", MultinomialNB())\n",
        "])\n",
        "\n",
        "clf.fit(x_train_bal_pre, y_train_bal_pre)\n",
        "\n",
        "print(\"BOW: Preprocessed Data:\")\n",
        "print(classification_report(y_test_bal_pre, clf.predict(x_test_bal_pre), zero_division=0))"
      ],
      "metadata": {
        "colab": {
          "base_uri": "https://localhost:8080/"
        },
        "id": "aiS9F0qcsq3y",
        "outputId": "eddd6ab2-7d10-4eba-fdab-d5856eb1fcc3"
      },
      "execution_count": 117,
      "outputs": [
        {
          "output_type": "stream",
          "name": "stdout",
          "text": [
            "BOW: Preprocessed Data:\n",
            "              precision    recall  f1-score   support\n",
            "\n",
            "           0       0.16      0.33      0.21       203\n",
            "           1       0.42      0.21      0.28       203\n",
            "           2       0.06      0.37      0.10       202\n",
            "           3       0.30      0.36      0.33       202\n",
            "           4       0.43      0.39      0.41       203\n",
            "           5       0.18      0.12      0.15       203\n",
            "           6       0.35      0.28      0.31       203\n",
            "           7       0.29      0.19      0.23       203\n",
            "           8       0.31      0.02      0.05       203\n",
            "           9       0.40      0.53      0.46       203\n",
            "          10       0.21      0.45      0.29       203\n",
            "          11       0.39      0.20      0.27       203\n",
            "          12       0.39      0.37      0.38       203\n",
            "          13       0.43      0.62      0.51       203\n",
            "          14       0.33      0.56      0.42       203\n",
            "          15       0.29      0.22      0.25       203\n",
            "          16       0.25      0.11      0.16       203\n",
            "          17       0.18      0.10      0.13       202\n",
            "          18       0.44      0.30      0.35       203\n",
            "          19       0.24      0.02      0.04       203\n",
            "          20       0.35      0.61      0.44       203\n",
            "          21       0.45      0.19      0.27       203\n",
            "          22       0.10      0.36      0.16       203\n",
            "          23       0.44      0.53      0.48       202\n",
            "          24       0.33      0.03      0.05       203\n",
            "          25       0.41      0.19      0.26       203\n",
            "          26       0.28      0.07      0.12       203\n",
            "          27       0.28      0.30      0.29       203\n",
            "          28       0.57      0.21      0.31       203\n",
            "          29       0.41      0.24      0.30       203\n",
            "          30       0.26      0.42      0.32       203\n",
            "          31       0.43      0.08      0.13       203\n",
            "          32       0.49      0.19      0.27       203\n",
            "          33       0.38      0.20      0.26       203\n",
            "          34       0.17      0.05      0.08       202\n",
            "          35       0.35      0.45      0.39       203\n",
            "          36       0.10      0.04      0.06       202\n",
            "          37       0.29      0.35      0.32       203\n",
            "          38       0.40      0.20      0.27       203\n",
            "          39       0.32      0.24      0.27       202\n",
            "          40       0.33      0.22      0.27       202\n",
            "          41       0.40      0.23      0.29       203\n",
            "\n",
            "    accuracy                           0.27      8518\n",
            "   macro avg       0.32      0.27      0.26      8518\n",
            "weighted avg       0.32      0.27      0.26      8518\n",
            "\n"
          ]
        }
      ]
    },
    {
      "cell_type": "markdown",
      "source": [
        "## BO-ngrams Model"
      ],
      "metadata": {
        "id": "oN-eHremqARf"
      }
    },
    {
      "cell_type": "markdown",
      "source": [
        "### Training and Evaluating using the Imbalanced Dataset"
      ],
      "metadata": {
        "id": "RX0xLAiNqSg1"
      }
    },
    {
      "cell_type": "code",
      "source": [
        "clf = Pipeline([\n",
        "    (\"vectorizer_bow\", CountVectorizer(ngram_range=(1, 2))),\n",
        "    (\"Multi NB\", MultinomialNB())\n",
        "])\n",
        "\n",
        "clf.fit(x_train, y_train)\n",
        "\n",
        "print(\"BOW: Imbalanced Data:\")\n",
        "print(classification_report(y_test, clf.predict(x_test), zero_division=0))"
      ],
      "metadata": {
        "colab": {
          "base_uri": "https://localhost:8080/"
        },
        "id": "o3YusLI6qPxL",
        "outputId": "9ef3865f-0662-43ae-96d4-47d68a051243"
      },
      "execution_count": 119,
      "outputs": [
        {
          "output_type": "stream",
          "name": "stdout",
          "text": [
            "BOW: Imbalanced Data:\n",
            "              precision    recall  f1-score   support\n",
            "\n",
            "           0       0.37      0.18      0.24      1701\n",
            "           1       1.00      0.02      0.05       510\n",
            "           2       0.50      0.00      0.00       689\n",
            "           3       1.00      0.01      0.02       281\n",
            "           4       0.60      0.09      0.16      1316\n",
            "           5       0.00      0.00      0.00       331\n",
            "           6       1.00      0.00      0.00       649\n",
            "           7       0.70      0.01      0.02      1149\n",
            "           8       0.00      0.00      0.00       447\n",
            "           9       0.70      0.48      0.56      1983\n",
            "          10       0.21      0.92      0.34      3557\n",
            "          11       0.86      0.05      0.10      1247\n",
            "          12       0.98      0.09      0.17       887\n",
            "          13       0.89      0.15      0.26       724\n",
            "          14       0.00      0.00      0.00       177\n",
            "          15       0.00      0.00      0.00       466\n",
            "          16       1.00      0.01      0.01       721\n",
            "          17       0.50      0.00      0.00       846\n",
            "          18       0.92      0.03      0.06       414\n",
            "          19       0.00      0.00      0.00       296\n",
            "          20       0.00      0.00      0.00       352\n",
            "          21       0.00      0.00      0.00       212\n",
            "          22       0.00      0.00      0.00       270\n",
            "          23       0.91      0.06      0.11       693\n",
            "          24       1.00      0.01      0.02       575\n",
            "          25       0.00      0.00      0.00       413\n",
            "          26       0.00      0.00      0.00      1047\n",
            "          27       0.32      0.90      0.47      7174\n",
            "          28       0.83      0.02      0.04      1036\n",
            "          29       0.88      0.01      0.02       885\n",
            "          30       0.00      0.00      0.00       287\n",
            "          31       0.00      0.00      0.00       272\n",
            "          32       1.00      0.01      0.01       452\n",
            "          33       1.00      0.00      0.00       529\n",
            "          34       0.51      0.27      0.35      3493\n",
            "          35       0.57      0.37      0.45      2019\n",
            "          36       1.00      0.01      0.02      1335\n",
            "          37       1.00      0.02      0.04       221\n",
            "          38       0.00      0.00      0.00       607\n",
            "          39       0.00      0.00      0.00       206\n",
            "          40       0.62      0.01      0.02       739\n",
            "          41       0.60      0.00      0.01       698\n",
            "\n",
            "    accuracy                           0.32     41906\n",
            "   macro avg       0.51      0.09      0.09     41906\n",
            "weighted avg       0.52      0.32      0.22     41906\n",
            "\n"
          ]
        }
      ]
    },
    {
      "cell_type": "markdown",
      "source": [
        "### Training and Evaluating using the Balanced Dataset"
      ],
      "metadata": {
        "id": "UNlGs03AqVyd"
      }
    },
    {
      "cell_type": "code",
      "source": [
        "clf = Pipeline([\n",
        "    (\"vectorizer_bow\", CountVectorizer(ngram_range=(1, 2))),\n",
        "    (\"Multi NB\", MultinomialNB())\n",
        "])\n",
        "\n",
        "clf.fit(x_train_bal, y_train_bal)\n",
        "\n",
        "print(\"BOW: Balanced Data:\")\n",
        "print(classification_report(y_test_bal, clf.predict(x_test_bal), zero_division=0))"
      ],
      "metadata": {
        "colab": {
          "base_uri": "https://localhost:8080/"
        },
        "id": "UAeeBxnEqWs2",
        "outputId": "49dd1f72-c026-45a8-b79f-e3d3ef4fa654"
      },
      "execution_count": 120,
      "outputs": [
        {
          "output_type": "stream",
          "name": "stdout",
          "text": [
            "BOW: Balanced Data:\n",
            "              precision    recall  f1-score   support\n",
            "\n",
            "           0       0.04      0.35      0.08       202\n",
            "           1       0.58      0.11      0.18       203\n",
            "           2       0.16      0.18      0.17       203\n",
            "           3       0.25      0.33      0.29       203\n",
            "           4       0.41      0.15      0.22       203\n",
            "           5       0.25      0.06      0.10       203\n",
            "           6       0.53      0.25      0.34       203\n",
            "           7       0.18      0.06      0.09       203\n",
            "           8       0.50      0.00      0.01       203\n",
            "           9       0.49      0.39      0.43       202\n",
            "          10       0.12      0.48      0.19       203\n",
            "          11       0.44      0.11      0.17       203\n",
            "          12       0.52      0.22      0.31       203\n",
            "          13       0.41      0.59      0.49       203\n",
            "          14       0.23      0.50      0.32       203\n",
            "          15       0.28      0.21      0.24       203\n",
            "          16       0.40      0.08      0.14       203\n",
            "          17       0.30      0.07      0.11       203\n",
            "          18       0.75      0.19      0.30       203\n",
            "          19       0.33      0.00      0.01       203\n",
            "          20       0.27      0.54      0.36       202\n",
            "          21       0.46      0.05      0.10       203\n",
            "          22       0.06      0.53      0.10       203\n",
            "          23       0.46      0.48      0.47       203\n",
            "          24       0.33      0.00      0.01       203\n",
            "          25       0.35      0.05      0.09       203\n",
            "          26       0.48      0.05      0.09       203\n",
            "          27       0.34      0.17      0.22       202\n",
            "          28       0.65      0.08      0.15       202\n",
            "          29       0.41      0.09      0.15       203\n",
            "          30       0.27      0.37      0.31       203\n",
            "          31       0.60      0.01      0.03       203\n",
            "          32       0.76      0.11      0.19       203\n",
            "          33       0.45      0.08      0.14       203\n",
            "          34       0.25      0.01      0.02       203\n",
            "          35       0.31      0.41      0.36       202\n",
            "          36       0.25      0.03      0.05       203\n",
            "          37       0.27      0.34      0.30       203\n",
            "          38       0.46      0.08      0.14       203\n",
            "          39       0.39      0.10      0.16       202\n",
            "          40       0.46      0.18      0.26       202\n",
            "          41       0.62      0.17      0.26       203\n",
            "\n",
            "    accuracy                           0.20      8518\n",
            "   macro avg       0.38      0.20      0.19      8518\n",
            "weighted avg       0.38      0.20      0.19      8518\n",
            "\n"
          ]
        }
      ]
    },
    {
      "cell_type": "markdown",
      "source": [
        "### Training and Evaluating using the Preprocessed and Balanced Dataset"
      ],
      "metadata": {
        "id": "Wiuv-vuQsyZu"
      }
    },
    {
      "cell_type": "code",
      "source": [
        "clf = Pipeline([\n",
        "    (\"vectorizer_bow\", CountVectorizer(ngram_range=(1, 2))),\n",
        "    (\"Multi NB\", MultinomialNB())\n",
        "])\n",
        "\n",
        "clf.fit(x_train_bal_pre, y_train_bal_pre)\n",
        "\n",
        "print(\"BOW: Preprocessed Data:\")\n",
        "print(classification_report(y_test_bal_pre, clf.predict(x_test_bal_pre), zero_division=0))"
      ],
      "metadata": {
        "colab": {
          "base_uri": "https://localhost:8080/"
        },
        "id": "6uZ437esszFW",
        "outputId": "b3f4b76d-0ff5-4e54-d9a2-215fb6f576b0"
      },
      "execution_count": 121,
      "outputs": [
        {
          "output_type": "stream",
          "name": "stdout",
          "text": [
            "BOW: Preprocessed Data:\n",
            "              precision    recall  f1-score   support\n",
            "\n",
            "           0       0.16      0.36      0.22       203\n",
            "           1       0.45      0.20      0.28       203\n",
            "           2       0.05      0.35      0.09       202\n",
            "           3       0.28      0.39      0.33       202\n",
            "           4       0.44      0.36      0.40       203\n",
            "           5       0.16      0.10      0.12       203\n",
            "           6       0.41      0.28      0.33       203\n",
            "           7       0.31      0.18      0.23       203\n",
            "           8       0.30      0.01      0.03       203\n",
            "           9       0.43      0.53      0.47       203\n",
            "          10       0.20      0.47      0.28       203\n",
            "          11       0.43      0.22      0.29       203\n",
            "          12       0.43      0.34      0.38       203\n",
            "          13       0.43      0.62      0.51       203\n",
            "          14       0.33      0.62      0.43       203\n",
            "          15       0.30      0.22      0.25       203\n",
            "          16       0.27      0.11      0.15       203\n",
            "          17       0.17      0.06      0.09       202\n",
            "          18       0.48      0.28      0.35       203\n",
            "          19       0.33      0.02      0.04       203\n",
            "          20       0.32      0.63      0.43       203\n",
            "          21       0.51      0.19      0.27       203\n",
            "          22       0.09      0.37      0.15       203\n",
            "          23       0.45      0.56      0.50       202\n",
            "          24       0.40      0.03      0.06       203\n",
            "          25       0.42      0.17      0.24       203\n",
            "          26       0.29      0.08      0.12       203\n",
            "          27       0.28      0.29      0.29       203\n",
            "          28       0.62      0.20      0.30       203\n",
            "          29       0.41      0.22      0.29       203\n",
            "          30       0.25      0.45      0.32       203\n",
            "          31       0.44      0.07      0.13       203\n",
            "          32       0.58      0.19      0.29       203\n",
            "          33       0.44      0.21      0.29       203\n",
            "          34       0.23      0.05      0.08       202\n",
            "          35       0.34      0.46      0.39       203\n",
            "          36       0.16      0.03      0.06       202\n",
            "          37       0.29      0.42      0.34       203\n",
            "          38       0.47      0.21      0.29       203\n",
            "          39       0.35      0.23      0.28       202\n",
            "          40       0.39      0.20      0.27       202\n",
            "          41       0.43      0.21      0.28       203\n",
            "\n",
            "    accuracy                           0.27      8518\n",
            "   macro avg       0.35      0.27      0.26      8518\n",
            "weighted avg       0.35      0.27      0.26      8518\n",
            "\n"
          ]
        }
      ]
    }
  ]
}