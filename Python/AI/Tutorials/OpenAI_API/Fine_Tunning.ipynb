{
  "nbformat": 4,
  "nbformat_minor": 0,
  "metadata": {
    "colab": {
      "provenance": []
    },
    "kernelspec": {
      "name": "python3",
      "display_name": "Python 3"
    },
    "language_info": {
      "name": "python"
    }
  },
  "cells": [
    {
      "cell_type": "markdown",
      "source": [
        "Source: https://beebom.com/how-train-ai-chatbot-custom-knowledge-base-chatgpt-api/"
      ],
      "metadata": {
        "id": "Phto5Ie25rlC"
      }
    },
    {
      "cell_type": "code",
      "execution_count": null,
      "metadata": {
        "id": "KGeJr5g-5pdr"
      },
      "outputs": [],
      "source": []
    }
  ]
}