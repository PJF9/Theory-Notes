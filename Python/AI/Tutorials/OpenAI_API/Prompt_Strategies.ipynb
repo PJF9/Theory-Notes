{
  "nbformat": 4,
  "nbformat_minor": 0,
  "metadata": {
    "colab": {
      "provenance": []
    },
    "kernelspec": {
      "name": "python3",
      "display_name": "Python 3"
    },
    "language_info": {
      "name": "python"
    }
  },
  "cells": [
    {
      "cell_type": "markdown",
      "source": [
        "## General Tips\n",
        "\n",
        "* ChatGPT has been trained with data from many languages, but the amount of English text in the training material is much higher. It can be helpful to run queries in English and only then translate the output using tools like [DeepL](https://www.deepl.com/translator).\n",
        "\n",
        "* ChatGPT processes up to 4,096 tokens in an input, any character beyond that is ignored without a message. A token is roughly equivalent to a word, depending on the use case.\n",
        "\n",
        "* If too much knowledge has been exchanged during a chat, it may be helpful to start a new chat so that subsequent replies are not corrupted.\n",
        "\n",
        "* Although chatting with ChatGPT sometimes feels almost human, polite phrases like “please” and “thank you” are unnecessary. ChatGPT does not need eloquent instructions, just clear ones.\n"
      ],
      "metadata": {
        "id": "RfFjf4AalLa2"
      }
    },
    {
      "cell_type": "code",
      "source": [],
      "metadata": {
        "id": "Y2E0pnxhnTTB"
      },
      "execution_count": null,
      "outputs": []
    },
    {
      "cell_type": "markdown",
      "source": [
        "## Define ChatGPT's Role\n",
        "\n",
        "Linux terminal, philosopher, tea taster or bible translator - ChatGPT can play all these roles and many more. All the AI needs is a nudge in the right direction. Conveniently, developer Fatih Kadir Akin has compiled a whole series of such situation descriptions, including formulated prompts, on his [website](https://prompts.chat/).\n",
        "\n",
        "The prompts always have the same structure: \n",
        "* ChatGPT receives a prompt telling it what role the AI should play. \n",
        "* The prompt states what information the user has provided.\n",
        "* What exactly the AI should do with it, including rough suggestions for direction.\n",
        "* The developer puts the first concrete instruction in quotation marks.\n",
        "\n",
        "Example: I want you to act as a tour guide. I'`ll write you my location, and you'll suggest a place for me to visit near my location. In some cases, I will also tell you the type of places I will visit. You will also suggest places of a similar nature that are near my first location. My first command is “I am in Istanbul/Beyoğlu and I just want to visit museums.”"
      ],
      "metadata": {
        "id": "ED60-OK2mV16"
      }
    },
    {
      "cell_type": "code",
      "execution_count": null,
      "metadata": {
        "id": "RkPU8SVjkCVJ"
      },
      "outputs": [],
      "source": []
    },
    {
      "cell_type": "markdown",
      "source": [
        "## Define Target Group and Communication Channel\n",
        "\n",
        "To avoid tedious rewriting, either manually or through another prompt, you should give ChatGPT as much information as possible. You should clearly tell the AI how to address the reader and for which channel the text is intended. ChatGPT can even consider gender-neutral language if you tell it to.\n",
        "\n",
        "Example: I need a script for a TikTok about the opportunities and risks of ChatGPT. Use short sentences. Address the audience directly. Use gender-neutral language."
      ],
      "metadata": {
        "id": "R-cYoCHCnTqH"
      }
    },
    {
      "cell_type": "code",
      "source": [],
      "metadata": {
        "id": "v0_2lr9An7CK"
      },
      "execution_count": null,
      "outputs": []
    },
    {
      "cell_type": "markdown",
      "source": [
        "## Chained Prompting\n",
        "\n",
        "A central aspect of getting ChatGPT to do what you want it to do is “chained prompting”. This involves breaking up complex tasks into several intermediate steps in the hope that the AI will generate a more concrete, customized, and thus overall better result. This works in a single long prompt as well as in several prompts in a row.\n",
        "\n",
        "Example: Write an article about ChatGPT. First give me the outline, which consists of a headline, a teaser, and several subheadings. [output.] Now write five key messages for each subheading. [output.] ..."
      ],
      "metadata": {
        "id": "E2YiUJPCn7r4"
      }
    },
    {
      "cell_type": "code",
      "source": [],
      "metadata": {
        "id": "JQHUd469n7Nt"
      },
      "execution_count": null,
      "outputs": []
    },
    {
      "cell_type": "markdown",
      "source": [
        "## Modify Output\n",
        "\n",
        "Even if you have followed all of the previous advice, you may want to prepare the same content for different channels, such as Linkedin, Twitter, or Facebook. The text should be adapted to the tone and formatting of the target channel.\n",
        "\n",
        "Example: Formulate the generated text in multiple tweets. Keep in mind the maximum length of 280 characters per tweet. Use short sentences and do not stretch them across multiple tweets. Start the tweets with a consistent numbering scheme."
      ],
      "metadata": {
        "id": "vl8KxElUodAv"
      }
    },
    {
      "cell_type": "code",
      "source": [],
      "metadata": {
        "id": "SNEP7GzTorSj"
      },
      "execution_count": null,
      "outputs": []
    },
    {
      "cell_type": "markdown",
      "source": [
        "## Format Output\n",
        "\n",
        "By default, ChatGPT replies in plain text. However, the AI tool actually handles formatting in the Markdown markup language, such as headings, bold or italic text, ordered (numbered) or unordered lists, and even tables.\n",
        "\n",
        "Example: I need a blog post about ChatGPT. Write a headline, a teaser, a subtitle and a paragraph. Format everything in Markdown."
      ],
      "metadata": {
        "id": "gnoAVjbHorw8"
      }
    },
    {
      "cell_type": "code",
      "source": [],
      "metadata": {
        "id": "rsdaCvfDo_LA"
      },
      "execution_count": null,
      "outputs": []
    },
    {
      "cell_type": "markdown",
      "source": [
        "## Generate Prompt Instructions\n",
        "\n",
        "[Justin Fineberg](https://twitter.com/rowancheung/status/1627307795774144513/photo/1) has come up with an interesting approach to communicating with ChatGPT. Similar to the first tip above, the AI is instructed to take on a specific role. This time, however, ChatGPT takes on the tedious task of generating the structure for further prompts. In other words, the chatbot asks itself the very questions it needs to answer in the next prompts. If ChatGPT writes the questions in the form of a numbered list, you can refer directly to the numbers.\n",
        "\n",
        "Example: You are a robot for creating prompts. You need to gather information about the user’s goals, examples of preferred output, and any other relevant contextual information.\n",
        "\n",
        "The prompt should contain all the necessary information provided to you. Ask the user more questions until you are sure you can create an optimal prompt.\n",
        "\n",
        "Your answer should be clearly formatted and optimized for ChatGPT interactions. Be sure to start by asking the user about the goals, the desired outcome, and any additional information you may need."
      ],
      "metadata": {
        "id": "9yvJDc3_o_W0"
      }
    },
    {
      "cell_type": "code",
      "source": [],
      "metadata": {
        "id": "J-NUygG_pAlL"
      },
      "execution_count": null,
      "outputs": []
    },
    {
      "cell_type": "markdown",
      "source": [
        "## Prompt self-criticism\n",
        "\n",
        "ChatGPT is already a useful tool for critiquing texts written by humans – so why shouldn’t this tactic be applicable to texts written by AI?\n",
        "\n",
        "In line with this idea, the following strategy is divided into two steps (see 3. “Chained Prompting”): First, ChatGPT should convincingly dissect the text piece by piece. Then, in a second prompt, get the AI to rewrite the text based on those very criticisms.\n",
        "\n",
        "Example: Critique the following text and convince myself why it is not good. Let’s think about the problems of the text step by step: [previous output]. [output.] Good points. Rewrite the text and improve it based on your critique."
      ],
      "metadata": {
        "id": "MoROOT2lpx67"
      }
    },
    {
      "cell_type": "code",
      "source": [],
      "metadata": {
        "id": "tuZcZwxYqBU4"
      },
      "execution_count": null,
      "outputs": []
    },
    {
      "cell_type": "markdown",
      "source": [
        "## Use strong verbs\n",
        "\n",
        "As recommended in the general tips above, you should give voice AIs like ChatGPT as clear instructions as possible. This also means that it is best to use strong, meaningful verbs. For example, instead of “rewrite the text”, “clarify the text” may give a better result.\n",
        "\n",
        "Also, use positive rather than negative phrases, e.g. “write formally” rather than “do not write informally”."
      ],
      "metadata": {
        "id": "EF90QcHBqBfw"
      }
    },
    {
      "cell_type": "code",
      "source": [],
      "metadata": {
        "id": "NnEucrbNqIu7"
      },
      "execution_count": null,
      "outputs": []
    }
  ]
}