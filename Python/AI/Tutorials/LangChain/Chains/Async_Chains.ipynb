{
 "cells": [
  {
   "cell_type": "code",
   "execution_count": null,
   "metadata": {},
   "outputs": [],
   "source": [
    "from langchain.llms import OpenAI\n",
    "from langchain.prompts import PromptTemplate\n",
    "from langchain.chains import LLMChain\n",
    "\n",
    "import asyncio\n",
    "import time"
   ]
  },
  {
   "cell_type": "markdown",
   "metadata": {},
   "source": [
    "## Setting the LLm"
   ]
  },
  {
   "cell_type": "code",
   "execution_count": null,
   "metadata": {},
   "outputs": [],
   "source": [
    "with open(\"openai_api.txt\", \"r\") as f:\n",
    "    OPENAI_API = f.read()\n",
    "\n",
    "llm = OpenAI(\n",
    "    model_name = \"gpt-3.5-turbo-instruct\",\n",
    "    temperature = 1.1,\n",
    "    openai_api_key = OPENAI_API\n",
    ")"
   ]
  },
  {
   "cell_type": "code",
   "execution_count": null,
   "metadata": {},
   "outputs": [],
   "source": [
    "## Creating a Chains that takes some seconds to completed using synchronous programming\n",
    "\n",
    "def generate_serially():\n",
    "    prompt = PromptTemplate(\n",
    "        input_variables = [\"product\"],\n",
    "        template = \"What is a good name for a company that makes {product}?\",\n",
    "    )\n",
    "    chain = LLMChain(llm=llm, prompt=prompt)\n",
    "\n",
    "    # Generating 5 company names for `AI Software`\n",
    "    for _ in range(5):\n",
    "        resp = chain.run(product=\"AI Software\")\n",
    "        print(resp)\n",
    "\n",
    "s = time.perf_counter()\n",
    "generate_serially()\n",
    "print(time.perf_counter() - s)"
   ]
  },
  {
   "cell_type": "code",
   "execution_count": null,
   "metadata": {},
   "outputs": [],
   "source": [
    "## Turning the Code above into an Asyncchronous function\n",
    "\n",
    "async def async_generate(chain):\n",
    "    resp = await chain.arun(product=\"toothpaste\")\n",
    "    print(resp)\n",
    "\n",
    "async def generate_concurrently():\n",
    "    prompt = PromptTemplate(\n",
    "        input_variables = [\"product\"],\n",
    "        template = \"What is a good name for a company that makes {product}?\",\n",
    "    )\n",
    "    chain = LLMChain(llm=llm, prompt=prompt)\n",
    "\n",
    "    await asyncio.gather(*[async_generate(chain) for _ in range(5)])\n",
    "\n",
    "s = time.perf_counter()\n",
    "# asyncio.run(generate_concurrently()) # Prompting Errors when using it on Colab\n",
    "await generate_concurrently()\n",
    "print(time.perf_counter() - s)"
   ]
  }
 ],
 "metadata": {
  "language_info": {
   "name": "python"
  }
 },
 "nbformat": 4,
 "nbformat_minor": 2
}
