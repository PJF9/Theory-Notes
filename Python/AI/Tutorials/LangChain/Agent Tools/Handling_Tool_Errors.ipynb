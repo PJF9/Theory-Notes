{
 "cells": [
  {
   "cell_type": "code",
   "execution_count": null,
   "metadata": {},
   "outputs": [],
   "source": [
    "from langchain.chat_models import ChatOpenAI\n",
    "from langchain import SerpAPIWrapper\n",
    "from langchain.tools import Tool\n",
    "from langchain.agents import AgentType, initialize_agent"
   ]
  },
  {
   "cell_type": "markdown",
   "metadata": {},
   "source": [
    "## Handling Tool Errors\n",
    "\n",
    "When a tool encounters an error and the exception is not caught, the agent will stop executing. If we want the agent to continue execution, we can raise a `ToolException` and set `handle_tool_error` accordingly.\n",
    "\n",
    "When `ToolException` is thrown, the agent will not stop working, but will handle the exception according to the `handle_tol_error` variable of the tool, and processing result will be returned to the agent as abservation and printed in red.\n",
    "\n",
    "We can set `handle_tool_error` to `True`, ser it unified string value, or set it as a function. If we set it as a function, it should take a `ToolException` as a parameter and return a `string` value.\n",
    "\n",
    "\n"
   ]
  },
  {
   "cell_type": "code",
   "execution_count": null,
   "metadata": {},
   "outputs": [],
   "source": [
    "## I cannot find anywhere the `ToolException` Class and I cannot import it as I should so let's consider that we are not allowed to\n",
    "\n",
    "def _handle_error(error) -> str:\n",
    "    return  \"The following errors occurred during tool execution:\" + error.args[0] + \"Please try another tool.\""
   ]
  },
  {
   "cell_type": "code",
   "execution_count": null,
   "metadata": {},
   "outputs": [],
   "source": [
    "search = SerpAPIWrapper(serpapi_api_key=open(\"serpapi_api.txt\").read())\n",
    "\n",
    "tools = [\n",
    "    Tool.from_function(\n",
    "        func = search.run,\n",
    "        name = \"Search_tool\",\n",
    "        description = \"useful for when you need to answer questions about current events\",\n",
    "        handle_tool_error = _handle_error\n",
    "    )\n",
    "]\n",
    "\n",
    "agent = initialize_agent(\n",
    "    tools = tools,\n",
    "    llm = ChatOpenAI(temperature=0, openai_api_key=open(\"openai_api.txt\").read()),\n",
    "    agent = AgentType.ZERO_SHOT_REACT_DESCRIPTION,\n",
    "    verbose = True\n",
    ")"
   ]
  },
  {
   "cell_type": "code",
   "execution_count": null,
   "metadata": {},
   "outputs": [],
   "source": [
    "agent.run(\"Who is Leo DiCaprio's girlfriend?\")"
   ]
  },
  {
   "cell_type": "code",
   "execution_count": null,
   "metadata": {},
   "outputs": [],
   "source": []
  }
 ],
 "metadata": {
  "language_info": {
   "name": "python"
  }
 },
 "nbformat": 4,
 "nbformat_minor": 2
}
