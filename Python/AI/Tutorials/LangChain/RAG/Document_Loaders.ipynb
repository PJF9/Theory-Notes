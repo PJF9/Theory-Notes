{
 "cells": [
  {
   "cell_type": "code",
   "execution_count": null,
   "metadata": {},
   "outputs": [],
   "source": [
    "from langchain.docstore.document import Document\n",
    "from langchain.document_loaders.csv_loader import CSVLoader\n",
    "from langchain.document_loaders import PyPDFLoader\n",
    "from langchain.schema import Document"
   ]
  },
  {
   "cell_type": "markdown",
   "metadata": {},
   "source": [
    "## Document Loaders; How to load documents from a variety of sources.\n",
    "\n",
    "Combining language models with your own text data is a powerful way to `differentiate` them. The first step in doing this is to load the data into `Documents` - a fancy way of say some pieces of text."
   ]
  },
  {
   "cell_type": "markdown",
   "metadata": {},
   "source": [
    "### `Copy Paste`"
   ]
  },
  {
   "cell_type": "code",
   "execution_count": null,
   "metadata": {},
   "outputs": [],
   "source": [
    "text = \"this is a text I just copy pasted.\"\n",
    "\n",
    "doc = Document(page_content=text)\n",
    "doc"
   ]
  },
  {
   "cell_type": "code",
   "execution_count": null,
   "metadata": {},
   "outputs": [],
   "source": [
    "## We can also add metadata\n",
    "\n",
    "metadata = {\"source\": \"internet\", \"date\": \"Friday\"}\n",
    "doc = Document(page_content=text, metadata=metadata)\n",
    "doc"
   ]
  },
  {
   "cell_type": "code",
   "execution_count": null,
   "metadata": {},
   "outputs": [],
   "source": []
  },
  {
   "cell_type": "markdown",
   "metadata": {},
   "source": [
    "### `CSV`"
   ]
  },
  {
   "cell_type": "code",
   "execution_count": null,
   "metadata": {},
   "outputs": [],
   "source": [
    "loader = CSVLoader(file_path=\"sms_spam.csv\", encoding=\"latin1\")\n",
    "data = loader.load()\n",
    "\n",
    "type(data), type(data[0])"
   ]
  },
  {
   "cell_type": "code",
   "execution_count": null,
   "metadata": {},
   "outputs": [],
   "source": [
    "data[0]"
   ]
  },
  {
   "cell_type": "code",
   "execution_count": null,
   "metadata": {},
   "outputs": [],
   "source": [
    "## Customizing the file\n",
    "\n",
    "loader = CSVLoader(\n",
    "    file_path = \"sms_spam.csv\",\n",
    "    encoding = \"latin1\",\n",
    "    source_column = \"v1\" # changing the source from the `filename` to the `spam/ham` category\n",
    ")\n",
    "\n",
    "data = loader.load()\n",
    "\n",
    "data[0]"
   ]
  },
  {
   "cell_type": "code",
   "execution_count": null,
   "metadata": {},
   "outputs": [],
   "source": [
    "## We can also change the way we parse the file to LangChain\n",
    "\n",
    "loader = CSVLoader(\n",
    "    file_path = \"sms_spam.csv\",\n",
    "    encoding=\"latin1\",\n",
    "    csv_args = {\n",
    "        \"delimiter\": ',',\n",
    "        \"quotechar\": '\"',\n",
    "        \"fieldnames\": ['MLB Team', 'Payroll in millions', 'Wins']\n",
    "    }\n",
    ")"
   ]
  },
  {
   "cell_type": "code",
   "execution_count": null,
   "metadata": {},
   "outputs": [],
   "source": []
  },
  {
   "cell_type": "markdown",
   "metadata": {},
   "source": [
    "### `PDF`"
   ]
  },
  {
   "cell_type": "code",
   "execution_count": null,
   "metadata": {},
   "outputs": [],
   "source": [
    "loader = PyPDFLoader(\"/content/Waves-Coordination.pdf\")\n",
    "pages = loader.load_and_split()\n",
    "\n",
    "type(pages), type(pages[0])"
   ]
  },
  {
   "cell_type": "code",
   "execution_count": null,
   "metadata": {},
   "outputs": [],
   "source": [
    "pages[0]"
   ]
  },
  {
   "cell_type": "code",
   "execution_count": null,
   "metadata": {},
   "outputs": [],
   "source": []
  },
  {
   "cell_type": "markdown",
   "metadata": {},
   "source": [
    "### `More`\n",
    "\n",
    "You can find more Document Loaders here: https://python.langchain.com/docs/modules/data_connection/document_loaders/"
   ]
  }
 ],
 "metadata": {
  "language_info": {
   "name": "python"
  }
 },
 "nbformat": 4,
 "nbformat_minor": 2
}
