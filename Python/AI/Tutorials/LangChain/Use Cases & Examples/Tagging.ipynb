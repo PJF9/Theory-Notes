{
  "cells": [
    {
      "cell_type": "code",
      "execution_count": 2,
      "metadata": {
        "id": "ChBGi5elxIOn"
      },
      "outputs": [],
      "source": [
        "from langchain.chat_models import ChatOpenAI\n",
        "from langchain.prompts import ChatPromptTemplate\n",
        "from langchain.chains import create_tagging_chain, create_tagging_chain_pydantic"
      ]
    },
    {
      "cell_type": "markdown",
      "metadata": {
        "id": "Sa6OBqvmw-zr"
      },
      "source": [
        "## Use Case\n",
        "\n",
        "Tagging means labeling a document with classes such as:\n",
        "* sentiment\n",
        "* language\n",
        "* style (formal, informal etc.)\n",
        "* covered topics\n",
        "* political tendency"
      ]
    },
    {
      "cell_type": "code",
      "execution_count": 3,
      "metadata": {
        "id": "V1ZgRvigxDZe"
      },
      "outputs": [],
      "source": [
        "# Schema\n",
        "schema = {\n",
        "    \"properties\": {\n",
        "        \"sentiment\": {\"type\": \"string\"},\n",
        "        \"aggressiveness\": {\"type\": \"integer\"},\n",
        "        \"language\": {\"type\": \"string\"},\n",
        "    }\n",
        "}\n",
        "\n",
        "# LLM\n",
        "llm = ChatOpenAI(temperature=0, model=\"gpt-3.5-turbo-0613\", openai_api_key=open(\"openai_api.txt\").read())\n",
        "chain = create_tagging_chain(schema, llm)"
      ]
    },
    {
      "cell_type": "code",
      "execution_count": 5,
      "metadata": {
        "colab": {
          "base_uri": "https://localhost:8080/"
        },
        "id": "HJd5BBOuxTEk",
        "outputId": "4f60cbae-917d-4f44-ee4b-c16033f262c0"
      },
      "outputs": [
        {
          "data": {
            "text/plain": [
              "{'sentiment': 'positive'}"
            ]
          },
          "execution_count": 5,
          "metadata": {},
          "output_type": "execute_result"
        }
      ],
      "source": [
        "inp = \"Είμαι απίστευτα χαρούμενος που σε γνώρισα! Νομίζω ότι θα γίνουμε πολύ καλοί φίλοι!\"\n",
        "chain.run(inp)"
      ]
    },
    {
      "cell_type": "markdown",
      "metadata": {
        "id": "8SnPgBUCxry_"
      },
      "source": [
        "Careful schema definition gives us more control over the model's output.\n",
        "\n",
        "Specifically, we can define:\n",
        "* possible values for each property\n",
        "* description to make sure that the model understands the property\n",
        "* required properties to be returned\n"
      ]
    },
    {
      "cell_type": "code",
      "execution_count": 10,
      "metadata": {
        "id": "XmuvrmcOxx2x"
      },
      "outputs": [],
      "source": [
        "schema = {\n",
        "    \"properties\": {\n",
        "        \"sentiment\": {\n",
        "            \"type\": \"string\",\n",
        "            \"enum\": [\"positive\", \"negative\", \"neutral\"]\n",
        "        },\n",
        "        \"aggressiveness\": {\n",
        "            \"type\": \"integer\",\n",
        "            \"enum\": [1, 2, 3, 4, 5],\n",
        "            \"description\": \"describes how aggressive the statement is, the higher the number the more aggressive\",\n",
        "        },\n",
        "        \"language\": {\n",
        "            \"type\": \"string\",\n",
        "            \"enum\": [\"spanish\", \"english\", \"french\", \"german\", \"italian\", \"greek\"],\n",
        "        },\n",
        "    },\n",
        "    \"required\": [\"language\", \"sentiment\", \"aggressiveness\"],\n",
        "}"
      ]
    },
    {
      "cell_type": "code",
      "execution_count": 11,
      "metadata": {
        "id": "ZirvOSHtxz35"
      },
      "outputs": [],
      "source": [
        "chain = create_tagging_chain(schema, llm)"
      ]
    },
    {
      "cell_type": "code",
      "execution_count": 12,
      "metadata": {
        "colab": {
          "base_uri": "https://localhost:8080/"
        },
        "id": "eIvLLpcex1E9",
        "outputId": "aaddd4c2-6d42-456e-a03d-080e7ee93ed1"
      },
      "outputs": [
        {
          "data": {
            "text/plain": [
              "{'sentiment': 'positive', 'aggressiveness': 0, 'language': 'greek'}"
            ]
          },
          "execution_count": 12,
          "metadata": {},
          "output_type": "execute_result"
        }
      ],
      "source": [
        "inp = \"Είμαι απίστευτα χαρούμενος που σε γνώρισα! Νομίζω ότι θα γίνουμε πολύ καλοί φίλοι!\"\n",
        "chain.run(inp)"
      ]
    },
    {
      "cell_type": "code",
      "execution_count": null,
      "metadata": {
        "id": "fNoJiFG_x3EZ"
      },
      "outputs": [],
      "source": []
    }
  ],
  "metadata": {
    "colab": {
      "provenance": []
    },
    "kernelspec": {
      "display_name": "Python 3",
      "name": "python3"
    },
    "language_info": {
      "name": "python"
    }
  },
  "nbformat": 4,
  "nbformat_minor": 0
}
