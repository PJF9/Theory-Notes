{
  "cells": [
    {
      "cell_type": "markdown",
      "metadata": {
        "id": "pfMopQewFKjo"
      },
      "source": [
        "LCEL: LangChain Expression Language: https://python.langchain.com/docs/expression_language/\n",
        "\n",
        "LangChainLab: https://github.com/hwchase17/langchain-hub\n",
        "\n",
        "Other AgentExecutors: https://github.com/langchain-ai/langchain/tree/master/cookbook\n",
        "\n",
        "Debugging: https://python.langchain.com/docs/guides/debugging\n",
        "\n",
        "Evaluation: https://python.langchain.com/docs/guides/evaluation/ | https://python.langchain.com/docs/guides/langsmith/\n",
        "\n",
        "Run Locally: https://python.langchain.com/docs/guides/local_llms"
      ]
    },
    {
      "cell_type": "code",
      "execution_count": null,
      "metadata": {
        "id": "jPg66xUXrIwV"
      },
      "outputs": [],
      "source": []
    }
  ],
  "metadata": {
    "colab": {
      "provenance": []
    },
    "kernelspec": {
      "display_name": "Python 3",
      "name": "python3"
    },
    "language_info": {
      "name": "python"
    }
  },
  "nbformat": 4,
  "nbformat_minor": 0
}
