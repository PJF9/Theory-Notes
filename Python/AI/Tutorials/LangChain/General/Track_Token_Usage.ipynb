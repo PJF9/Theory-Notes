{
  "cells": [
    {
      "cell_type": "code",
      "execution_count": 18,
      "metadata": {
        "id": "Hj-xGfKKTbvy"
      },
      "outputs": [],
      "source": [
        "from langchain.callbacks import get_openai_callback\n",
        "from langchain.llms import OpenAI\n",
        "from langchain.agents import load_tools\n",
        "from langchain.agents import initialize_agent\n",
        "from langchain.agents import AgentType"
      ]
    },
    {
      "cell_type": "code",
      "execution_count": 20,
      "metadata": {
        "id": "XxoQzZeMTryf"
      },
      "outputs": [],
      "source": [
        "## Setting APIs\n",
        "\n",
        "with open(\"openai_api.txt\", \"r\") as f:\n",
        "    OPENAI_API = f.read()\n",
        "\n",
        "with open(\"serpapi_api.txt\", \"r\") as f:\n",
        "    SERPAPI_API = f.read()"
      ]
    },
    {
      "cell_type": "markdown",
      "metadata": {
        "id": "98FP0mUKTgIO"
      },
      "source": [
        "## Tracking LLM Usage"
      ]
    },
    {
      "cell_type": "code",
      "execution_count": 12,
      "metadata": {
        "id": "hm20HYymTflX"
      },
      "outputs": [],
      "source": [
        "llm = OpenAI(model_name=\"text-davinci-002\", openai_api_key=OPENAI_API)"
      ]
    },
    {
      "cell_type": "code",
      "execution_count": 17,
      "metadata": {
        "colab": {
          "base_uri": "https://localhost:8080/"
        },
        "id": "K1i3SERuT769",
        "outputId": "9a4ea7c5-3236-402a-fbe0-d51da419c48f"
      },
      "outputs": [
        {
          "name": "stdout",
          "output_type": "stream",
          "text": [
            "Tokens Used: 36\n",
            "\tPrompt Tokens: 4\n",
            "\tCompletion Tokens: 32\n",
            "Successful Requests: 1\n",
            "Total Cost (USD): $0.00072\n",
            "0.00072\n"
          ]
        }
      ],
      "source": [
        "with get_openai_callback() as cb:\n",
        "    results = llm.predict(\"Tell me joke.\")\n",
        "    print(cb)\n",
        "    print(cb.total_cost)"
      ]
    },
    {
      "cell_type": "markdown",
      "metadata": {
        "id": "lBTpJWzKULZy"
      },
      "source": [
        "Anything inside the context manager will get tracked. Here’s an example of using it to track multiple calls in sequence."
      ]
    },
    {
      "cell_type": "code",
      "execution_count": 15,
      "metadata": {
        "colab": {
          "base_uri": "https://localhost:8080/"
        },
        "id": "Pz4zYd9OUF6t",
        "outputId": "e25e176d-15ae-4100-e69d-9f3f4650cdd8"
      },
      "outputs": [
        {
          "name": "stdout",
          "output_type": "stream",
          "text": [
            "Tokens Used: 47\n",
            "\tPrompt Tokens: 9\n",
            "\tCompletion Tokens: 38\n",
            "Successful Requests: 2\n",
            "Total Cost (USD): $0.0009400000000000001\n",
            "47\n"
          ]
        }
      ],
      "source": [
        "with get_openai_callback() as cb:\n",
        "    result_1 = llm.predict(\"Tell me a joke.\")\n",
        "    result_2 = llm.predict(\"Tell me a joke\")\n",
        "    print(cb)\n",
        "    print(cb.total_tokens)"
      ]
    },
    {
      "cell_type": "code",
      "execution_count": null,
      "metadata": {
        "id": "N07g_51ZUWj2"
      },
      "outputs": [],
      "source": []
    },
    {
      "cell_type": "markdown",
      "metadata": {
        "id": "Lnrsm9-gUmPF"
      },
      "source": [
        "## Tracking Chains | Agents"
      ]
    },
    {
      "cell_type": "code",
      "execution_count": 24,
      "metadata": {
        "id": "Ls26EJIAUpeQ"
      },
      "outputs": [],
      "source": [
        "tools = load_tools([\"serpapi\", \"llm-math\"], llm, serpapi_api_key=SERPAPI_API)\n",
        "agent = initialize_agent(tools, llm, agent=AgentType.ZERO_SHOT_REACT_DESCRIPTION, verbose=True)"
      ]
    },
    {
      "cell_type": "code",
      "execution_count": 26,
      "metadata": {
        "colab": {
          "base_uri": "https://localhost:8080/"
        },
        "id": "_R_5NxTiVJoo",
        "outputId": "14281947-c456-4564-adae-73486865ea90"
      },
      "outputs": [
        {
          "name": "stdout",
          "output_type": "stream",
          "text": [
            "\n",
            "\n",
            "\u001b[1m> Entering new AgentExecutor chain...\u001b[0m\n",
            "\u001b[32;1m\u001b[1;3m I should search for Olivia Wilde's boyfriend\n",
            "Action: Search\n",
            "Action Input: \"Olivia Wilde's boyfriend\"\u001b[0m\n",
            "Observation: \u001b[36;1m\u001b[1;3mSudeikis and Wilde's relationship ended in November 2020. Wilde was publicly served with court documents regarding child custody while she was presenting Don't Worry Darling at CinemaCon 2022. In January 2021, Wilde began dating singer Harry Styles after meeting during the filming of Don't Worry Darling.\u001b[0m\n",
            "Thought:\u001b[32;1m\u001b[1;3m I should search for Harry Styles' age\n",
            "Action: Search\n",
            "Action Input: \"Harry Styles' age\"\u001b[0m\n",
            "Observation: \u001b[36;1m\u001b[1;3m29 years\u001b[0m\n",
            "Thought:\u001b[32;1m\u001b[1;3m I now know the final answer\n",
            "Final Answer: 29\u001b[0m\n",
            "\n",
            "\u001b[1m> Finished chain.\u001b[0m\n",
            "Total Tokens: 859\n",
            "Prompt Tokens: 802\n",
            "Completion Tokens: 57\n",
            "Total Cost (USD): $0.01718\n"
          ]
        }
      ],
      "source": [
        "with get_openai_callback() as cb:\n",
        "    response = agent.run(\"Who is Olivia Wilde's boyfriend and what is his current age raised to the 0.23 power?\")\n",
        "    print(f\"Total Tokens: {cb.total_tokens}\")\n",
        "    print(f\"Prompt Tokens: {cb.prompt_tokens}\")\n",
        "    print(f\"Completion Tokens: {cb.completion_tokens}\")\n",
        "    print(f\"Total Cost (USD): ${cb.total_cost}\")"
      ]
    },
    {
      "cell_type": "code",
      "execution_count": null,
      "metadata": {
        "id": "N2ujbJEoVcZ5"
      },
      "outputs": [],
      "source": []
    }
  ],
  "metadata": {
    "colab": {
      "provenance": []
    },
    "kernelspec": {
      "display_name": "Python 3",
      "name": "python3"
    },
    "language_info": {
      "name": "python"
    }
  },
  "nbformat": 4,
  "nbformat_minor": 0
}
