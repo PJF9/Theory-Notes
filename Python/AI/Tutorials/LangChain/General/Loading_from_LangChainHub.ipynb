{
 "cells": [
  {
   "cell_type": "markdown",
   "metadata": {},
   "source": [
    "## Loading from LangChainHub\n",
    "\n",
    "LangChainHub: https://github.com/hwchase17/langchain-hub\n",
    "\n",
    "Loading from it: https://python.langchain.com/en/latest/modules/chains/generic/from_hub.html"
   ]
  }
 ],
 "metadata": {
  "language_info": {
   "name": "python"
  }
 },
 "nbformat": 4,
 "nbformat_minor": 2
}
