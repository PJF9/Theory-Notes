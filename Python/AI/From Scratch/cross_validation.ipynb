{
 "cells": [
  {
   "cell_type": "code",
   "execution_count": 1,
   "metadata": {},
   "outputs": [],
   "source": [
    "import pandas as pd"
   ]
  },
  {
   "attachments": {},
   "cell_type": "markdown",
   "metadata": {},
   "source": [
    "## Loading the Dataset"
   ]
  },
  {
   "cell_type": "code",
   "execution_count": 3,
   "metadata": {},
   "outputs": [
    {
     "data": {
      "text/html": [
       "<div>\n",
       "<style scoped>\n",
       "    .dataframe tbody tr th:only-of-type {\n",
       "        vertical-align: middle;\n",
       "    }\n",
       "\n",
       "    .dataframe tbody tr th {\n",
       "        vertical-align: top;\n",
       "    }\n",
       "\n",
       "    .dataframe thead th {\n",
       "        text-align: right;\n",
       "    }\n",
       "</style>\n",
       "<table border=\"1\" class=\"dataframe\">\n",
       "  <thead>\n",
       "    <tr style=\"text-align: right;\">\n",
       "      <th></th>\n",
       "      <th>Label</th>\n",
       "      <th>Text</th>\n",
       "    </tr>\n",
       "  </thead>\n",
       "  <tbody>\n",
       "    <tr>\n",
       "      <th>0</th>\n",
       "      <td>0</td>\n",
       "      <td>Go until jurong point, crazy.. Available only ...</td>\n",
       "    </tr>\n",
       "    <tr>\n",
       "      <th>1</th>\n",
       "      <td>0</td>\n",
       "      <td>Ok lar... Joking wif u oni...</td>\n",
       "    </tr>\n",
       "    <tr>\n",
       "      <th>2</th>\n",
       "      <td>1</td>\n",
       "      <td>Free entry in 2 a wkly comp to win FA Cup fina...</td>\n",
       "    </tr>\n",
       "    <tr>\n",
       "      <th>3</th>\n",
       "      <td>0</td>\n",
       "      <td>U dun say so early hor... U c already then say...</td>\n",
       "    </tr>\n",
       "    <tr>\n",
       "      <th>4</th>\n",
       "      <td>0</td>\n",
       "      <td>Nah I don't think he goes to usf, he lives aro...</td>\n",
       "    </tr>\n",
       "    <tr>\n",
       "      <th>...</th>\n",
       "      <td>...</td>\n",
       "      <td>...</td>\n",
       "    </tr>\n",
       "    <tr>\n",
       "      <th>5567</th>\n",
       "      <td>1</td>\n",
       "      <td>This is the 2nd time we have tried 2 contact u...</td>\n",
       "    </tr>\n",
       "    <tr>\n",
       "      <th>5568</th>\n",
       "      <td>0</td>\n",
       "      <td>Will Ì_ b going to esplanade fr home?</td>\n",
       "    </tr>\n",
       "    <tr>\n",
       "      <th>5569</th>\n",
       "      <td>0</td>\n",
       "      <td>Pity, * was in mood for that. So...any other s...</td>\n",
       "    </tr>\n",
       "    <tr>\n",
       "      <th>5570</th>\n",
       "      <td>0</td>\n",
       "      <td>The guy did some bitching but I acted like i'd...</td>\n",
       "    </tr>\n",
       "    <tr>\n",
       "      <th>5571</th>\n",
       "      <td>0</td>\n",
       "      <td>Rofl. Its true to its name</td>\n",
       "    </tr>\n",
       "  </tbody>\n",
       "</table>\n",
       "<p>5572 rows × 2 columns</p>\n",
       "</div>"
      ],
      "text/plain": [
       "      Label                                               Text\n",
       "0         0  Go until jurong point, crazy.. Available only ...\n",
       "1         0                      Ok lar... Joking wif u oni...\n",
       "2         1  Free entry in 2 a wkly comp to win FA Cup fina...\n",
       "3         0  U dun say so early hor... U c already then say...\n",
       "4         0  Nah I don't think he goes to usf, he lives aro...\n",
       "...     ...                                                ...\n",
       "5567      1  This is the 2nd time we have tried 2 contact u...\n",
       "5568      0              Will Ì_ b going to esplanade fr home?\n",
       "5569      0  Pity, * was in mood for that. So...any other s...\n",
       "5570      0  The guy did some bitching but I acted like i'd...\n",
       "5571      0                         Rofl. Its true to its name\n",
       "\n",
       "[5572 rows x 2 columns]"
      ]
     },
     "execution_count": 3,
     "metadata": {},
     "output_type": "execute_result"
    }
   ],
   "source": [
    "df = pd.read_csv(\"C:\\\\Users\\\\jacob\\\\Documents\\\\Programming\\\\Theory\\\\Python\\\\AI\\\\Datasets\\\\NLP\\\\sms_spam.csv\", encoding=\"latin-1\")[[\"v1\", \"v2\"]]\n",
    "df.rename(columns={\"v1\": \"Label\", \"v2\": \"Text\"}, inplace=True)\n",
    "\n",
    "df[\"Label\"] = df[\"Label\"].map({\n",
    "    \"ham\": 0,\n",
    "    \"spam\": 1\n",
    "})\n",
    "\n",
    "df"
   ]
  },
  {
   "cell_type": "code",
   "execution_count": 4,
   "metadata": {},
   "outputs": [
    {
     "data": {
      "text/plain": [
       "Label\n",
       "0    4825\n",
       "1     747\n",
       "Name: count, dtype: int64"
      ]
     },
     "execution_count": 4,
     "metadata": {},
     "output_type": "execute_result"
    }
   ],
   "source": [
    "df.value_counts(\"Label\")"
   ]
  },
  {
   "attachments": {},
   "cell_type": "markdown",
   "metadata": {},
   "source": [
    "## Converting DataFrame to Pytorch Dataset"
   ]
  },
  {
   "cell_type": "code",
   "execution_count": 5,
   "metadata": {},
   "outputs": [],
   "source": [
    "class Dataset:\n",
    "    def __init__(self, dataframe, classes):\n",
    "        super().__init__()\n",
    "\n",
    "        self.samples = [(dataframe[\"Text\"][i], dataframe[\"Label\"][i]) for i in range(len(dataframe))]\n",
    "        self.classes = classes\n",
    "        self.class_to_idx = {c: i for i, c in enumerate(self.classes)}\n",
    "        self.idx_to_classes = {i: c for i, c in enumerate(self.classes)}\n",
    "    \n",
    "    def __getitem__(self, index):\n",
    "        return self.samples[index]\n",
    "\n",
    "    def __len__(self):\n",
    "        return len(self.samples)"
   ]
  },
  {
   "cell_type": "code",
   "execution_count": 6,
   "metadata": {},
   "outputs": [
    {
     "name": "stdout",
     "output_type": "stream",
     "text": [
      "5572\n"
     ]
    },
    {
     "data": {
      "text/plain": [
       "('Go until jurong point, crazy.. Available only in bugis n great world la e buffet... Cine there got amore wat...',\n",
       " 0)"
      ]
     },
     "execution_count": 6,
     "metadata": {},
     "output_type": "execute_result"
    }
   ],
   "source": [
    "ds = Dataset(df, [\"ham\", \"spam\"])\n",
    "\n",
    "print(len(ds))\n",
    "ds[0]"
   ]
  },
  {
   "attachments": {},
   "cell_type": "markdown",
   "metadata": {},
   "source": [
    "## Splitting the Dataset into Training and Testing Sets"
   ]
  },
  {
   "cell_type": "code",
   "execution_count": 7,
   "metadata": {},
   "outputs": [
    {
     "name": "stdout",
     "output_type": "stream",
     "text": [
      "5293 279\n"
     ]
    }
   ],
   "source": [
    "train_size = int(len(ds) * 0.95)\n",
    "\n",
    "train_ds = ds[:train_size]\n",
    "test_ds = ds[train_size:]\n",
    "\n",
    "print(len(train_ds), len(test_ds))"
   ]
  },
  {
   "attachments": {},
   "cell_type": "markdown",
   "metadata": {},
   "source": [
    "## Splitting the Training Dataset into Batches"
   ]
  },
  {
   "cell_type": "code",
   "execution_count": 8,
   "metadata": {},
   "outputs": [],
   "source": [
    "from math import ceil\n",
    "from random import randint\n",
    "\n",
    "\n",
    "class Loader:\n",
    "    def __init__(self, ds, batch_size, shuffle):\n",
    "        self.batch_size = batch_size\n",
    "        self.shuffle = shuffle\n",
    "\n",
    "        self._dsx = [s[0] for s in ds] # contains the x-values (inputs) of the dataset\n",
    "        self._dsy = [s[1] for s in ds] # contains the y-values (targets) of the dataset\n",
    "\n",
    "        if shuffle:\n",
    "            self._temp_dsx = self._dsx.copy() \n",
    "            self._temp_dsy = self._dsy.copy()\n",
    "\n",
    "    def __iter__(self):\n",
    "        if self.shuffle:\n",
    "            # Iterating over the number of batches that the dataset is going to bet split\n",
    "            for _ in range(int(len(self._dsx) / self.batch_size)):\n",
    "                \n",
    "                # This random index gives the index of the first sample for the batch\n",
    "                ridx = randint(0, len(self._temp_dsx) - self.batch_size)\n",
    "\n",
    "                yield (self._temp_dsx[ridx: ridx + self.batch_size], self._temp_dsy[ridx: ridx + self.batch_size])\n",
    "\n",
    "                # Removing the already `yield`ed batch from the dataset\n",
    "                self._temp_dsx = self._temp_dsx[:ridx] + self._temp_dsx[ridx + self.batch_size:]\n",
    "                self._temp_dsy = self._temp_dsy[:ridx] + self._temp_dsy[ridx + self.batch_size:]\n",
    "\n",
    "            # Returning the last batch, which is not going to contain `batch_size` samples\n",
    "            if len(self._temp_dsx) > 0:\n",
    "                yield (self._temp_dsx, self._temp_dsy)\n",
    "\n",
    "            # If we try to iterate again over the loader without those two lines, no samples are going to be returned\n",
    "            self._temp_dsx = self._dsx.copy()\n",
    "            self._temp_dsy = self._dsy.copy()\n",
    "\n",
    "        else:\n",
    "            j = 0\n",
    "            for _ in range(ceil(len(self._dsx) / self.batch_size)):\n",
    "                yield (self._dsx[j: j + self.batch_size], self._dsy[j: j + self.batch_size])\n",
    "                j += self.batch_size\n",
    "\n",
    "    def __len__(self):\n",
    "        return ceil(len(self._dsx) / self.batch_size)"
   ]
  },
  {
   "attachments": {},
   "cell_type": "markdown",
   "metadata": {},
   "source": [
    "## Creating the Cross Validation Function"
   ]
  },
  {
   "cell_type": "code",
   "execution_count": 9,
   "metadata": {},
   "outputs": [],
   "source": [
    "def cross_validation(ds, valid_prop, batch_size):\n",
    "    valid_size = int(len(ds) * valid_prop)\n",
    "    ridx = randint(0, len(ds) - valid_size)\n",
    "\n",
    "    return (Loader(ds[ridx: ridx + valid_size], batch_size=batch_size, shuffle=False), Loader(ds[:ridx] + ds[ridx + valid_size:], batch_size=batch_size, shuffle=True))"
   ]
  },
  {
   "attachments": {},
   "cell_type": "markdown",
   "metadata": {},
   "source": [
    "## Demonstrating Cross Validation"
   ]
  },
  {
   "cell_type": "code",
   "execution_count": 10,
   "metadata": {},
   "outputs": [],
   "source": [
    "EPOCH = 5\n",
    "VALID_PROP = 0.2\n",
    "BATCH_SIZE = 32\n",
    "\n",
    "for epoch in range(EPOCH):\n",
    "    ### Getting DataLoaders for Training and Evaluation\n",
    "    valid_dl, train_dl = cross_validation(ds=ds, valid_prop=VALID_PROP, batch_size=BATCH_SIZE)\n",
    "\n",
    "    ### Training and Evaluating the Model\n",
    "    break"
   ]
  }
 ],
 "metadata": {
  "kernelspec": {
   "display_name": "Python 3",
   "language": "python",
   "name": "python3"
  },
  "language_info": {
   "codemirror_mode": {
    "name": "ipython",
    "version": 3
   },
   "file_extension": ".py",
   "mimetype": "text/x-python",
   "name": "python",
   "nbconvert_exporter": "python",
   "pygments_lexer": "ipython3",
   "version": "3.10.10"
  },
  "orig_nbformat": 4
 },
 "nbformat": 4,
 "nbformat_minor": 2
}
