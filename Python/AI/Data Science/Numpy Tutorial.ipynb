{
 "cells": [
  {
   "cell_type": "markdown",
   "metadata": {},
   "source": [
    "# Table of Content\n",
    "* What is Numpy ?\n",
    "* Why Numpy ?\n",
    "* Difference between Python's Lists and Numpy Arrays.\n",
    "* Speed Test between Numpy Arrays and Python's Lists.\n",
    "* Creating Numpy Arrays.\n",
    "* Generating Arrays.\n",
    "* Multidimensional Arrays.\n",
    "* Numpy Arrays Data Types.\n",
    "* Numpy Arrays Indexing.\n",
    "* Boolean Indexing.\n",
    "* Fancy Indexing.\n",
    "* Numpy Array Slicing.\n",
    "* Iterating over Numpy Arrays.\n",
    "* Reshaping Numpy Arrays.\n",
    "* Numpy Arrays Concatenation.\n",
    "* Splitting Numpy Array.\n",
    "* Broadcasting.\n",
    "* Sorting Numpy Arrays.\n",
    "* Numpy Array Functions.\n",
    "* Coopies Numpy Arrays.\n",
    "* Mathematical Operations with Numpy Arrays.\n",
    "* Dot Product.\n",
    "* Load data from CSV file to Numpy Arrays."
   ]
  },
  {
   "cell_type": "markdown",
   "metadata": {},
   "source": [
    "# What is Numpy ?\n",
    "\n",
    "Numpy is the core library for data science machine learning, deep learning and much more, along side matplotlib, pandas and scikit-learn...\n",
    "\n",
    "Actually numpy is a class that implements arrays, just like build in Python's lists."
   ]
  },
  {
   "cell_type": "markdown",
   "metadata": {},
   "source": [
    "# Why Numpy ?\n",
    "\n",
    "Numpy is a good choice because unlike Python's lists we can perform a lot of mathematical operation very eazily. \n",
    "\n",
    "Also these arrays are written in C++ and C, so we can imagine that will be a lot faster that normal lists."
   ]
  },
  {
   "cell_type": "markdown",
   "metadata": {},
   "source": [
    "# Difference between Python's Lists and Numpy Arrays.\n",
    "\n",
    "Each time we perform an operator on Python's Lists instead of updating it's elements, just like Numpy Arrays. it updating and extending the List itself.\n",
    "\n",
    "With Python's Lists we can eazily add an element using the .append() method. With Numpy Arrays we don't have such method. We can insert an element by creating a new array and adding at the end the extra element."
   ]
  },
  {
   "cell_type": "markdown",
   "metadata": {},
   "source": [
    "## Speed Test between Numpy Arrays and Python's Lists."
   ]
  },
  {
   "cell_type": "code",
   "execution_count": null,
   "metadata": {},
   "outputs": [],
   "source": [
    "from timeit import default_timer as timer\n",
    "import numpy as np\n",
    "\n",
    "# Creating the Numpy Arrays.\n",
    "array_1 = np.random.randn(10000)\n",
    "array_2 = np.random.randn(10000)\n",
    "\n",
    "# Creating the Python's Lists.\n",
    "list_1 = list(array_1)\n",
    "list_2 = list(array_2)\n",
    "\n",
    "# List Speed Function.\n",
    "def list_test(list_1, list_2):\n",
    "    dot = 0\n",
    "    for i in range(len(list_1)):\n",
    "        dot += (list_1[i] * list_2[i])\n",
    "        \n",
    "    return dot\n",
    "\n",
    "# Array Speed Function.\n",
    "def array_test(array_1, array_2):\n",
    "    return np.dot(array_1, array_2)\n",
    "\n",
    "# Printing the results.\n",
    "list_start = timer()\n",
    "list_test(list_1, list_2)\n",
    "print(f\"List: {timer() - list_start}\")\n",
    "\n",
    "array_start = timer()\n",
    "array_test(array_1, array_2)\n",
    "print(f\"Array: {timer() - array_start}\")"
   ]
  },
  {
   "cell_type": "markdown",
   "metadata": {},
   "source": [
    "## Creating Numpy Arrays.\n"
   ]
  },
  {
   "cell_type": "code",
   "execution_count": 2,
   "metadata": {},
   "outputs": [
    {
     "name": "stdout",
     "output_type": "stream",
     "text": [
      "[1 2 3 4 5]\n",
      "(5,)\n",
      "int32\n",
      "1\n",
      "5\n"
     ]
    }
   ],
   "source": [
    "import numpy as np\n",
    "\n",
    "array_0 = np.array(9)               # Creating a 0d array, also called as 'scalar'.\n",
    "array_1 = np.array([1, 2, 3, 4, 5]) # We need to pass a list or a tuple as a parameter.\n",
    "\n",
    "print(array_1)\n",
    "print(array_1.shape)                # Printing the shape (dimensions) of the array.\n",
    "print(array_1.dtype)                # Printing the data type of the elements of the array.\n",
    "print(array_1.ndim)                 # Printing the number of dimension of the array.\n",
    "print(array_1.size)                 # Printing the total elements of the array."
   ]
  },
  {
   "cell_type": "markdown",
   "metadata": {},
   "source": [
    "## Generating Arrays."
   ]
  },
  {
   "cell_type": "code",
   "execution_count": 1,
   "metadata": {},
   "outputs": [],
   "source": [
    "import numpy as np\n",
    "\n",
    "array_1 = np.zeros((2, 3, 4))     # Creating an array with all 0 values, the parameter is a tuple which indecates the size \n",
    "                                  #  of the array (deafult data type is float).\n",
    "array_2 = np.ones((2, 3, 4))      # The same thing as before with the difference of 1 instead of 0.\n",
    "array_3 = np.full((3, 5), 9)      # The same as before but instead of 1 or 0 we are filling it with 9.\n",
    "array_4 = np.eye(5)               # Creating an matrix (5x5) where the left diagonal is filled with 1 and the others with 0. \n",
    "array_5 = np.arange(10)           # Creating an array that contains all the intagers from 0 to 10.\n",
    "array_6 = np.linspace(0, 10, 5)   # Similar to .arange() but instead of getting all the elements we are getting 5 equally \n",
    "                                  #  spaced.\n",
    "array_7 = np.random.random((2, 3))# Creating an array which contains random numbers from 0 to 1, size tuple is the parameter.\n",
    "array_8 = np.random.randn(10)     # Creating an array with random numners from -1.n to +1.m (where n,m != 0). Only the total\n",
    "                                  #  elements we want as a parameter not a size tuple.\n",
    "\n",
    "array_9 = np.random.randint(2, 9, size=(2, 4))      # Creating an array with random intagers from 0 to 8 with size (2, 4).\n",
    "array_10 = np.random.randint(9, size=(2, 4))        # The same as before, but starting form 0 (0 is default starting point).\n",
    "array_11 = np.random.choice([3, 6, 9], size=(3, 3)) # Creating an array with the random numbers from the list.\n",
    "array_12 = np.repeat(np.array([1, 2]), 3, axis=0)   # Repeat the specified array elements 3 time into a new array.\n",
    "\n",
    "array_13 = np.array([0, 1, 2, 3])                   # Shuffling a numpy array.\n",
    "np.random.shuffle(array_13)\n",
    "array_14 = np.random.permutation(array_13)          # Generating a random permutation out of the specified array.\n",
    "\n",
    "# print(array_1)\n",
    "# print(array_2)\n",
    "# print(array_3)\n",
    "# print(array_4)\n",
    "# print(array_5)\n",
    "# print(array_6)\n",
    "# print(array_7)\n",
    "# print(array_8)\n",
    "# print(array_9)\n",
    "# print(array_10)\n",
    "# print(array_11)\n",
    "# print(array_13)\n",
    "# print(array_14)"
   ]
  },
  {
   "cell_type": "markdown",
   "metadata": {},
   "source": [
    "## Multidimensional Arrays."
   ]
  },
  {
   "cell_type": "code",
   "execution_count": null,
   "metadata": {},
   "outputs": [],
   "source": [
    "import numpy as np\n",
    "\n",
    "m_array_1 = np.array([\n",
    "    [1, 2, 3], \n",
    "    [4, 5, 6],              # All rows must have equal elements.\n",
    "])\n",
    "\n",
    "print(m_array_1)\n",
    "print(m_array_1.shape)      # Printing the shape of the array (here is (2,3)).\n",
    "print(m_array_1.ndim)       # Printing the number of dimension of the array.\n",
    "\n",
    "print(m_array_1[0])         # Printing the first row of the array.\n",
    "print(m_array_1[0][-1])     # Printing the last element of the first row.\n",
    "print(m_array_1[0, -1])     # Same as before, with different syntax.\n",
    "\n",
    "print(m_array_1.T)          # Transpose the array (here the shape will be (3, 2))"
   ]
  },
  {
   "cell_type": "markdown",
   "metadata": {},
   "source": [
    "## Numpy Arrays Data Types"
   ]
  },
  {
   "cell_type": "code",
   "execution_count": null,
   "metadata": {},
   "outputs": [],
   "source": [
    "import numpy as np\n",
    "\n",
    "array_1 = np.array([1, 2, 3, 4])                   # If we don't specify the data type, numpy will figure it out by itself.\n",
    "array_2 = np.array([1.0, 2.0], dtype=np.int32)     # Change the data type\n",
    "array_3 = np.array([10, 20, 30], dtype='U')        # We can also change a little bit different the data type of each element.\n",
    "array_4 = np.array([1, 2, 3, 4], dtype=np.float16) #   The available data types: 'i':intager, 'b':boolean, 'u':unsigned int,\n",
    "                                                   #   'f':float, 'c':complex float, 'm':timedelta, 'M':datetime, 'O'Lobject,\n",
    "                                                   #   'U':string, 'S': string bytes.\n",
    "                                                   # ints: np.int8, np.int16, np.int32, np.int64,\n",
    "                                                   # unsigned ints: the same with -u prefix,\n",
    "                                                   # float: np.float16, np.float32, np.float64.\n",
    "\n",
    "array_1 = array_1.astype(np.uint32)                # Converting numpy array data types.\n",
    "array_1 = array_1.astype(int)\n",
    "array_1 = array_1.astype(str) \n",
    "                        \n",
    "print(array_1.dtype, array_2.dtype, array_3.dtype, array_4.dtype)"
   ]
  },
  {
   "cell_type": "markdown",
   "metadata": {},
   "source": [
    "## Numpy Arrays Indexing."
   ]
  },
  {
   "cell_type": "code",
   "execution_count": null,
   "metadata": {},
   "outputs": [],
   "source": [
    "# Array indexing exactly like list's indexing.\n",
    "\n",
    "import numpy as np\n",
    "\n",
    "array_1 = np.array([1, 2, 3, 4, 5])\n",
    "array_2 = np.array([[1, 2, 3], [4, 5, 6], [7, 8, 9]])\n",
    "\n",
    "print(array_1[0], array_1[1], array_1[-1])               # Just like normal Python's Lists.\n",
    "print(array_2[0, 0], array_2[1, 1], array_2[-1, -1])     # Just like normal Python's Lists with eazier syntax."
   ]
  },
  {
   "cell_type": "markdown",
   "metadata": {},
   "source": [
    "## Boolean Indexing."
   ]
  },
  {
   "cell_type": "code",
   "execution_count": null,
   "metadata": {},
   "outputs": [],
   "source": [
    "import numpy as np\n",
    "array_1 = np.array([1, 2, 3, 4, 5])\n",
    "array_2 = np.array([[1, 2, 3], [4, 5, 6], [7, 8, 9]])\n",
    "\n",
    "print(array_1 > 3)                                       # Printing an Array of Trues or Falses depending the condition.\n",
    "print(array_2 != 4)                                      # The same concept with 2d Array.\n",
    "\n",
    "print(array_1[array_1 > 3])                              # Printing an Array that contains only the True elements.\n",
    "print(array_2[array_2 != 1])                             # The same concept, except it returns an 1d Array.\n",
    "\n",
    "array_3 = np.where(array_2 != 1, array_2, 0)             # Creating an Array that replace the False elementswith given 0.\n",
    "\n",
    "print(array_3)"
   ]
  },
  {
   "cell_type": "markdown",
   "metadata": {},
   "source": [
    "## Fancy Indexing."
   ]
  },
  {
   "cell_type": "code",
   "execution_count": null,
   "metadata": {},
   "outputs": [],
   "source": [
    "import numpy as np\n",
    "\n",
    "array_1 = np.array([1, 2, 3, 4, 5])\n",
    "\n",
    "print(array_1[[0, 2, -1]])      # Printing a subarray that contains the elements of array_1 that has the indexes of the List."
   ]
  },
  {
   "cell_type": "markdown",
   "metadata": {},
   "source": [
    "## Numpy Array Slicing."
   ]
  },
  {
   "cell_type": "code",
   "execution_count": null,
   "metadata": {},
   "outputs": [],
   "source": [
    "# Array sclicing exactly like list's sclicing.\n",
    "\n",
    "import numpy as np\n",
    "\n",
    "array_1 = np.array([1, 2, 3, 4, 5])\n",
    "array_2 = np.array([[1, 2, 3], [4, 5, 6], [7, 8, 9]])\n",
    "\n",
    "print(array_1[:], array_1[1:-2], array_1[2:], array_1[:2])              # Just like normal Python's Lists.\n",
    "print(array_2[:, :], array_2[0, :], array_2[:, -1], array_2[1, 1:-1])   # Just like normal Python's Lists with eazier syntax."
   ]
  },
  {
   "cell_type": "markdown",
   "metadata": {},
   "source": [
    "## Iterating over Numpy Arrays."
   ]
  },
  {
   "cell_type": "code",
   "execution_count": 1,
   "metadata": {},
   "outputs": [
    {
     "name": "stdout",
     "output_type": "stream",
     "text": [
      "0 1 2 3 4 5 6 7 8 9 0 1 \n",
      "0 1 2 3 4 5 6 7 8 9 0 1 \n",
      "0 1 2 3 4 5 6 7 8 9 0 1 "
     ]
    }
   ],
   "source": [
    "import numpy as np\n",
    "\n",
    "array_1 = np.array([[[0, 1, 2], [3, 4, 5]], [[6, 7, 8], [9, 0, 1]]])\n",
    "\n",
    "# Iterating over a 3d array.\n",
    "for x in array_1:\n",
    "    for y in x:\n",
    "        for z in y:\n",
    "            print(z, end=' ')\n",
    "print()\n",
    "\n",
    "# Another way of iteration (doesn't affect array_1).\n",
    "for x in array_1.reshape(-1):\n",
    "    print(x, end=' ')\n",
    "print()\n",
    "\n",
    "# Also like that\n",
    "for x in np.nditer(array_1):\n",
    "    print(x, end=' ')\n"
   ]
  },
  {
   "cell_type": "markdown",
   "metadata": {},
   "source": [
    "## Reshaping Numpy Arrays."
   ]
  },
  {
   "cell_type": "code",
   "execution_count": null,
   "metadata": {},
   "outputs": [],
   "source": [
    "import numpy as np\n",
    "\n",
    "array_0 = np.array([[0, 1, 2], [3, 4, 5]])\n",
    "array_1 = np.array([1, 2, 3, 4, 5, 6])\n",
    "\n",
    "array_2 = array_1.reshape((2, 3))        # Note that the total elements must be the same with the prior shape.\n",
    "array_3 = array_2.reshape((6,))          # The parameter is a tuple.\n",
    "array_4 = array_1[np.newaxis, :]         # Add a new dimension to a Numpy Array (1, 6) shape.\n",
    "array_5 = array_1[:, np.newaxis]         # Converts the array into (6, 1) shape.\n",
    "array_6 = array_1.reshape((3, -1))       # We can have an unknown dimension, meaning that numpy is intelligent enough to\n",
    "                                         #  figure out the number that is missing.\n",
    "array_7 = array_0.reshape((-1))          # Converting any array into 1d.\n",
    "\n",
    "print(array_2, array_3, array_4, array_5, array_6, array_7)"
   ]
  },
  {
   "cell_type": "markdown",
   "metadata": {},
   "source": [
    "## Numpy Arrays Concatenation."
   ]
  },
  {
   "cell_type": "code",
   "execution_count": null,
   "metadata": {},
   "outputs": [],
   "source": [
    "# The same concept works perfectly with 1d arrays.\n",
    "\n",
    "import numpy as np\n",
    "\n",
    "array_1 = np.array([[1, 2], [3, 4]])\n",
    "array_2 = np.array([[5, 6]])\n",
    "array_3 = np.concatenate((array_1, array_2))             # Concatenate these two arrays, the parameter is a tuple.\n",
    "array_4 = np.concatenate((array_1, array_2), axis=0)     # To concatenate the arrays by appending the last to the first.\n",
    "array_5 = np.concatenate((array_1, array_2.T), axis=1)   # Append the lats array as a new column. Need to reshape obviously.\n",
    "array_6 = np.concatenate((array_1, array_2), axis=None)  # Convert all the arrays into 1d and append the last into first.\n",
    "\n",
    "print(array_1)\n",
    "print(array_2)\n",
    "print(array_3)\n",
    "print(array_4)\n",
    "print(array_5)\n",
    "print(array_6)\n",
    "\n",
    "# To use the next method our arrays must have 1 dimension\n",
    "array_01 = np.array([1, 2, 3, 4, 5])\n",
    "array_02 = np.array([6, 7, 8, 9, 10])\n",
    "\n",
    "array_03 = np.hstack((array_01, array_02))                # Append the last array into the first horizontally.\n",
    "array_04 = np.vstack((array_01, array_02))                # Append the last array into the first vertically.\n",
    "array_05 = np.dstack((array_01, array_02))                # Stack the last along height, which is the same as depth.\n",
    "\n",
    "print(array_03)\n",
    "print(array_04)\n",
    "print(array_05)"
   ]
  },
  {
   "cell_type": "markdown",
   "metadata": {},
   "source": [
    "## Splitting Numpy Array."
   ]
  },
  {
   "cell_type": "code",
   "execution_count": null,
   "metadata": {},
   "outputs": [],
   "source": [
    "import numpy as np\n",
    "\n",
    "array_1 = np.array([0, 1, 2, 3, 4, 5])\n",
    "\n",
    "array_2 = np.array_split(array_1, 4)          # Split the original array into an array of 4 arrays.\n",
    "array_3 = np.array_split(array_1, 2)\n",
    "\n",
    "print(array_2)\n",
    "print(array_3)"
   ]
  },
  {
   "cell_type": "markdown",
   "metadata": {},
   "source": [
    "## Broadcasting."
   ]
  },
  {
   "cell_type": "code",
   "execution_count": null,
   "metadata": {},
   "outputs": [],
   "source": [
    "import numpy as np\n",
    "\n",
    "array_1 = np.array([[1, 2], [3, 4], [5, 6]])\n",
    "array_2 = np.array([10, 10])\n",
    "array_3 = array_1 + array_2             # We are allow to do that and don't get a ValueError because numpy is\n",
    "                                        #  intelligent enough to realize that we meant np.array([10, 10], [10, 10], [10, 10])\n",
    "print(array_3)"
   ]
  },
  {
   "cell_type": "markdown",
   "metadata": {},
   "source": [
    "## Sorting Numpy Arrays."
   ]
  },
  {
   "cell_type": "code",
   "execution_count": null,
   "metadata": {},
   "outputs": [],
   "source": [
    "import numpy as np\n",
    "\n",
    "array_1 = np.random.randint(0, 100, size=(80))\n",
    "array_2 = np.random.randint(0, 100, size=(10, 80))\n",
    "\n",
    "array_3 = np.sort(array_1)                         # Quick Sort Algorithm (kind='quicksort').\n",
    "array_4 = np.sort(array_1, kind='mergesort')       # Merge Sort Algorithm.\n",
    "array_5 = np.sort(array_1, kind='heapsort')        # Heap Sort Algorithm.\n",
    "\n",
    "array_6 = np.sort(array_2, axis=None)              # Sorts each row and convert the sorted array into 1 dimension.\n",
    "array_7 = np.sort(array_2, axis=0)                 # Sorts the array by each column.\n",
    "array_8 = np.sort(array_2, axis=1)                 # Sorts the array by each row.\n",
    " \n",
    "print(array_3)\n",
    "print(array_4)\n",
    "print(array_5)\n",
    "print(array_6)\n",
    "print(array_7)\n",
    "print(array_8)"
   ]
  },
  {
   "cell_type": "markdown",
   "metadata": {},
   "source": [
    "## Numpy Array Functions."
   ]
  },
  {
   "cell_type": "code",
   "execution_count": null,
   "metadata": {},
   "outputs": [],
   "source": [
    "# All the bellow functions be used also: np.funct_name(array_name, arguments)\n",
    "\n",
    "import numpy as np\n",
    "\n",
    "array_1 = np.array([\n",
    "    [0, 1, 2, 3, 4, 5, 6, 7, 8, 9],\n",
    "    [10, 11, 12, 13, 14, 15, 16, 17, 18, 19]\n",
    "])\n",
    "\n",
    "print(array_1.sum())                           # Calculating the sum of all the array elements.\n",
    "print(array_1.sum(axis=None))                  # The same as before.\n",
    "print(array_1.sum(axis=0))                     # We get a new array with the sum of each column.\n",
    "print(array_1.sum(axis=1))                     # We get a new array with the sum of each row.\n",
    "\n",
    "print(array_1.mean())                          # Calculate the median value of the array.\n",
    "print(array_1.mean(axis=None))                 # The same as before.\n",
    "print(array_1.mean(axis=0))                    # We get a new array with the meadians of each column.\n",
    "print(array_1.mean(axis=1))                    # We get a new array with the mediams of each row.\n",
    "\n",
    "print(array_1.var())                           # Calculating the varience value. (we have all the axis options.)\n",
    "print(array_1.std())                           # Calculating the standard deviation of the array (we can use axis options).\n",
    "\n",
    "print(array_1.min())                           # Getting the minimum value of the array (we can use axis options as well).\n",
    "print(array_1.max())                           # Getting the maximum value of the array (we can use axis options as well)."
   ]
  },
  {
   "cell_type": "markdown",
   "metadata": {},
   "source": [
    "## Coopies Numpy Arrays."
   ]
  },
  {
   "cell_type": "code",
   "execution_count": null,
   "metadata": {},
   "outputs": [],
   "source": [
    "import numpy as np\n",
    "\n",
    "# Of course we can't do something like array_2 = array_1, cause everything in Python is stored by refference.\n",
    "\n",
    "array_1 = np.array([1, 2, 3, 4, 5])\n",
    "array_2 = array_1.copy()\n",
    "\n",
    "print(np.allclose(array_1, array_2))  # To check if the 2 arrays are equal to another.\n",
    "\n",
    "print(array_1 , array_2)"
   ]
  },
  {
   "cell_type": "markdown",
   "metadata": {},
   "source": [
    "## Mathematical Operations with Numpy Arrays."
   ]
  },
  {
   "cell_type": "code",
   "execution_count": null,
   "metadata": {},
   "outputs": [],
   "source": [
    "import numpy as np\n",
    "\n",
    "array_1 = np.array([[1, 2, 3], [4, 5, 6]])\n",
    "array_2 = np.array([[3, 4, 5], [6, 7, 8]])\n",
    "\n",
    "print(array_1 + array_2, np.add(array_1, array_2))              # Adding operatior.\n",
    "print(array_1 - array_2, np.subtract(array_1, array_2))         # Subtracting operator.\n",
    "print(array_1 * array_2, np.multiply(array_1, array_2))         # Multiplication operator.\n",
    "print(array_1 / array_2, np.divide(array_1, array_2))           # Division operator.\n",
    "print(array_1 ** array_2, np.power(array_1, array_2))           # Power operator.\n",
    "\n",
    "print(np.mod(array_1, array_2))                                 # Modulo operator.\n",
    "print(np.remainder(array_1, array_2))      # Remainder operator.\n",
    "\n",
    "print(np.sin(array_1))                     # Calculating the sin of the array.\n",
    "print(np.cos(array_1))                     # Calculating the cosine of the array.\n",
    "print(np.tan(array_1))                     # Calculating the tan of the array.\n",
    "print(np.log(array_1))                     # Calculating the logarithm with base e.\n",
    "print(np.log10(array_1))                   # Calculating the logarithm with base 10.\n",
    "\n",
    "print(np.amin(array_1, 1))                 # Claculating the minimum value of each raw (0) or column(1), or the min (None).\n",
    "print(np.amax(array_1, 0))                 # The max instead of min, as before.\n",
    "\n",
    "print(np.median(array_2))                  # Calculating the median value.\n",
    "print(np.mean(array_2))                    # The same.\n",
    "print(np.average(array_1))                 # Calculating the average number of the array. "
   ]
  },
  {
   "cell_type": "markdown",
   "metadata": {},
   "source": [
    "## Dot Product.\n",
    "(multiplying the antidiametric element of two arrays and getting the sum of it)"
   ]
  },
  {
   "cell_type": "code",
   "execution_count": null,
   "metadata": {},
   "outputs": [],
   "source": [
    "import numpy as np\n",
    "\n",
    "# Let's calculate the Dot Product using Python's Lists.\n",
    "list_1 = [1, 2, 3, 4, 5]\n",
    "list_2 = [6, 7, 8, 9, 10]\n",
    "\n",
    "dot = 0\n",
    "for i in range(len(list_1)):\n",
    "    dot += (list_1[i] * list_2[i])\n",
    "\n",
    "# With Numpy Arrays.\n",
    "array_1 = np.array([1, 2, 3, 4, 5])\n",
    "array_2 = np.array([6, 7, 8, 9, 10])\n",
    "\n",
    "dot = np.dot(array_1, array_2)\n",
    "dot = sum(array_1 * array_2)\n",
    "dot = (array_1 * array_2).sum()     # With all thease ways we can calculate the dot product with Numpy Arrays.\n",
    "dot = array_1 @ array_2"
   ]
  },
  {
   "cell_type": "markdown",
   "metadata": {},
   "source": [
    "## Load data from CSV file to Numpy Arrays."
   ]
  },
  {
   "cell_type": "code",
   "execution_count": null,
   "metadata": {},
   "outputs": [],
   "source": [
    "import numpy as np\n",
    "\n",
    "data = np.genfromtxt(\"spambase.csv\", delimiter=\",\")  # Or we use .loadtxt(). All take as an argument the data type.\n",
    "print(data)"
   ]
  }
 ],
 "metadata": {
  "kernelspec": {
   "display_name": "Python 3",
   "language": "python",
   "name": "python3"
  },
  "language_info": {
   "codemirror_mode": {
    "name": "ipython",
    "version": 3
   },
   "file_extension": ".py",
   "mimetype": "text/x-python",
   "name": "python",
   "nbconvert_exporter": "python",
   "pygments_lexer": "ipython3",
   "version": "3.8.5"
  }
 },
 "nbformat": 4,
 "nbformat_minor": 4
}
